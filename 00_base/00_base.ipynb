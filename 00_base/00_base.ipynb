{
 "cells": [
  {
   "cell_type": "markdown",
   "metadata": {
    "deletable": false,
    "editable": false,
    "id": "E0vqbgi9ay0H"
   },
   "source": [
    "# Яндекс.Музыка"
   ]
  },
  {
   "cell_type": "markdown",
   "metadata": {
    "deletable": false,
    "editable": false,
    "id": "VUC88oWjTJw2"
   },
   "source": [
    "Сравнение Москвы и Петербурга окружено мифами. Например:\n",
    " * Москва — мегаполис, подчинённый жёсткому ритму рабочей недели;\n",
    " * Петербург — культурная столица, со своими вкусами.\n",
    "\n",
    "На данных Яндекс Музыки вы сравните поведение пользователей двух столиц.\n",
    "\n",
    "**Цель исследования** — проверьте три гипотезы:\n",
    "1. Активность пользователей зависит от дня недели. Причём в Москве и Петербурге это проявляется по-разному.\n",
    "2. В понедельник утром в Москве преобладают одни жанры, а в Петербурге — другие. Так же и вечером пятницы преобладают разные жанры — в зависимости от города. \n",
    "3. Москва и Петербург предпочитают разные жанры музыки. В Москве чаще слушают поп-музыку, в Петербурге — русский рэп.\n",
    "\n",
    "**Ход исследования**\n",
    "\n",
    "Данные о поведении пользователей вы получите из файла `yandex_music_project.csv`. О качестве данных ничего не известно. Поэтому перед проверкой гипотез понадобится обзор данных. \n",
    "\n",
    "Вы проверите данные на ошибки и оцените их влияние на исследование. Затем, на этапе предобработки вы поищете возможность исправить самые критичные ошибки данных.\n",
    " \n",
    "Таким образом, исследование пройдёт в три этапа:\n",
    " 1. Обзор данных.\n",
    " 2. Предобработка данных.\n",
    " 3. Проверка гипотез.\n",
    "\n"
   ]
  },
  {
   "cell_type": "markdown",
   "metadata": {
    "deletable": false,
    "editable": false,
    "id": "Ml1hmfXC_Zcs"
   },
   "source": [
    "## Обзор данных\n",
    "\n",
    "Составьте первое представление о данных Яндекс Музыки.\n",
    "\n",
    "\n"
   ]
  },
  {
   "cell_type": "markdown",
   "metadata": {
    "deletable": false,
    "editable": false,
    "id": "57eAOGIz_Zcs",
    "tags": [
     "start_task"
    ]
   },
   "source": [
    "**Задание 1**\n",
    "\n",
    "Основной инструмент аналитика — `pandas`. Импортируйте эту библиотеку."
   ]
  },
  {
   "cell_type": "code",
   "execution_count": 1,
   "metadata": {
    "deletable": false,
    "id": "AXN7PHPN_Zcs"
   },
   "outputs": [],
   "source": [
    "import pandas as pd"
   ]
  },
  {
   "cell_type": "markdown",
   "metadata": {
    "deletable": false,
    "editable": false,
    "id": "SG23P8tt_Zcs",
    "tags": [
     "start_task"
    ]
   },
   "source": [
    "**Задание 2**\n",
    "\n",
    "Прочитайте файл `yandex_music_project.csv` из папки `/datasets` и сохраните его в переменной `df`:"
   ]
  },
  {
   "cell_type": "code",
   "execution_count": 2,
   "metadata": {
    "deletable": false,
    "id": "fFVu7vqh_Zct"
   },
   "outputs": [],
   "source": [
    "df = pd.read_csv('/datasets/yandex_music_project.csv')"
   ]
  },
  {
   "cell_type": "markdown",
   "metadata": {
    "deletable": false,
    "editable": false,
    "id": "rDoOMd3uTqnZ",
    "tags": [
     "start_task"
    ]
   },
   "source": [
    "**Задание 3**\n",
    "\n",
    "\n",
    "Выведите на экран первые десять строк таблицы:"
   ]
  },
  {
   "cell_type": "code",
   "execution_count": 3,
   "metadata": {
    "deletable": false,
    "id": "oWTVX3gW_Zct"
   },
   "outputs": [
    {
     "data": {
      "text/html": [
       "<div>\n",
       "<style scoped>\n",
       "    .dataframe tbody tr th:only-of-type {\n",
       "        vertical-align: middle;\n",
       "    }\n",
       "\n",
       "    .dataframe tbody tr th {\n",
       "        vertical-align: top;\n",
       "    }\n",
       "\n",
       "    .dataframe thead th {\n",
       "        text-align: right;\n",
       "    }\n",
       "</style>\n",
       "<table border=\"1\" class=\"dataframe\">\n",
       "  <thead>\n",
       "    <tr style=\"text-align: right;\">\n",
       "      <th></th>\n",
       "      <th>userID</th>\n",
       "      <th>Track</th>\n",
       "      <th>artist</th>\n",
       "      <th>genre</th>\n",
       "      <th>City</th>\n",
       "      <th>time</th>\n",
       "      <th>Day</th>\n",
       "    </tr>\n",
       "  </thead>\n",
       "  <tbody>\n",
       "    <tr>\n",
       "      <th>0</th>\n",
       "      <td>FFB692EC</td>\n",
       "      <td>Kamigata To Boots</td>\n",
       "      <td>The Mass Missile</td>\n",
       "      <td>rock</td>\n",
       "      <td>Saint-Petersburg</td>\n",
       "      <td>20:28:33</td>\n",
       "      <td>Wednesday</td>\n",
       "    </tr>\n",
       "    <tr>\n",
       "      <th>1</th>\n",
       "      <td>55204538</td>\n",
       "      <td>Delayed Because of Accident</td>\n",
       "      <td>Andreas Rönnberg</td>\n",
       "      <td>rock</td>\n",
       "      <td>Moscow</td>\n",
       "      <td>14:07:09</td>\n",
       "      <td>Friday</td>\n",
       "    </tr>\n",
       "    <tr>\n",
       "      <th>2</th>\n",
       "      <td>20EC38</td>\n",
       "      <td>Funiculì funiculà</td>\n",
       "      <td>Mario Lanza</td>\n",
       "      <td>pop</td>\n",
       "      <td>Saint-Petersburg</td>\n",
       "      <td>20:58:07</td>\n",
       "      <td>Wednesday</td>\n",
       "    </tr>\n",
       "    <tr>\n",
       "      <th>3</th>\n",
       "      <td>A3DD03C9</td>\n",
       "      <td>Dragons in the Sunset</td>\n",
       "      <td>Fire + Ice</td>\n",
       "      <td>folk</td>\n",
       "      <td>Saint-Petersburg</td>\n",
       "      <td>08:37:09</td>\n",
       "      <td>Monday</td>\n",
       "    </tr>\n",
       "    <tr>\n",
       "      <th>4</th>\n",
       "      <td>E2DC1FAE</td>\n",
       "      <td>Soul People</td>\n",
       "      <td>Space Echo</td>\n",
       "      <td>dance</td>\n",
       "      <td>Moscow</td>\n",
       "      <td>08:34:34</td>\n",
       "      <td>Monday</td>\n",
       "    </tr>\n",
       "    <tr>\n",
       "      <th>5</th>\n",
       "      <td>842029A1</td>\n",
       "      <td>Преданная</td>\n",
       "      <td>IMPERVTOR</td>\n",
       "      <td>rusrap</td>\n",
       "      <td>Saint-Petersburg</td>\n",
       "      <td>13:09:41</td>\n",
       "      <td>Friday</td>\n",
       "    </tr>\n",
       "    <tr>\n",
       "      <th>6</th>\n",
       "      <td>4CB90AA5</td>\n",
       "      <td>True</td>\n",
       "      <td>Roman Messer</td>\n",
       "      <td>dance</td>\n",
       "      <td>Moscow</td>\n",
       "      <td>13:00:07</td>\n",
       "      <td>Wednesday</td>\n",
       "    </tr>\n",
       "    <tr>\n",
       "      <th>7</th>\n",
       "      <td>F03E1C1F</td>\n",
       "      <td>Feeling This Way</td>\n",
       "      <td>Polina Griffith</td>\n",
       "      <td>dance</td>\n",
       "      <td>Moscow</td>\n",
       "      <td>20:47:49</td>\n",
       "      <td>Wednesday</td>\n",
       "    </tr>\n",
       "    <tr>\n",
       "      <th>8</th>\n",
       "      <td>8FA1D3BE</td>\n",
       "      <td>И вновь продолжается бой</td>\n",
       "      <td>NaN</td>\n",
       "      <td>ruspop</td>\n",
       "      <td>Moscow</td>\n",
       "      <td>09:17:40</td>\n",
       "      <td>Friday</td>\n",
       "    </tr>\n",
       "    <tr>\n",
       "      <th>9</th>\n",
       "      <td>E772D5C0</td>\n",
       "      <td>Pessimist</td>\n",
       "      <td>NaN</td>\n",
       "      <td>dance</td>\n",
       "      <td>Saint-Petersburg</td>\n",
       "      <td>21:20:49</td>\n",
       "      <td>Wednesday</td>\n",
       "    </tr>\n",
       "  </tbody>\n",
       "</table>\n",
       "</div>"
      ],
      "text/plain": [
       "     userID                        Track            artist   genre  \\\n",
       "0  FFB692EC            Kamigata To Boots  The Mass Missile    rock   \n",
       "1  55204538  Delayed Because of Accident  Andreas Rönnberg    rock   \n",
       "2    20EC38            Funiculì funiculà       Mario Lanza     pop   \n",
       "3  A3DD03C9        Dragons in the Sunset        Fire + Ice    folk   \n",
       "4  E2DC1FAE                  Soul People        Space Echo   dance   \n",
       "5  842029A1                    Преданная         IMPERVTOR  rusrap   \n",
       "6  4CB90AA5                         True      Roman Messer   dance   \n",
       "7  F03E1C1F             Feeling This Way   Polina Griffith   dance   \n",
       "8  8FA1D3BE     И вновь продолжается бой               NaN  ruspop   \n",
       "9  E772D5C0                    Pessimist               NaN   dance   \n",
       "\n",
       "             City        time        Day  \n",
       "0  Saint-Petersburg  20:28:33  Wednesday  \n",
       "1            Moscow  14:07:09     Friday  \n",
       "2  Saint-Petersburg  20:58:07  Wednesday  \n",
       "3  Saint-Petersburg  08:37:09     Monday  \n",
       "4            Moscow  08:34:34     Monday  \n",
       "5  Saint-Petersburg  13:09:41     Friday  \n",
       "6            Moscow  13:00:07  Wednesday  \n",
       "7            Moscow  20:47:49  Wednesday  \n",
       "8            Moscow  09:17:40     Friday  \n",
       "9  Saint-Petersburg  21:20:49  Wednesday  "
      ]
     },
     "execution_count": 3,
     "metadata": {},
     "output_type": "execute_result"
    }
   ],
   "source": [
    "df.head(10)"
   ]
  },
  {
   "cell_type": "markdown",
   "metadata": {
    "deletable": false,
    "editable": false,
    "id": "EO73Kwic_Zct",
    "tags": [
     "start_task"
    ]
   },
   "source": [
    "**Задание 4**\n",
    "\n",
    "\n",
    "Одной командой получить общую информацию о таблице c помощью метода `info()`:"
   ]
  },
  {
   "cell_type": "code",
   "execution_count": 4,
   "metadata": {
    "deletable": false,
    "id": "DSf2kIb-_Zct"
   },
   "outputs": [
    {
     "name": "stdout",
     "output_type": "stream",
     "text": [
      "<class 'pandas.core.frame.DataFrame'>\n",
      "RangeIndex: 65079 entries, 0 to 65078\n",
      "Data columns (total 7 columns):\n",
      " #   Column    Non-Null Count  Dtype \n",
      "---  ------    --------------  ----- \n",
      " 0     userID  65079 non-null  object\n",
      " 1   Track     63848 non-null  object\n",
      " 2   artist    57876 non-null  object\n",
      " 3   genre     63881 non-null  object\n",
      " 4     City    65079 non-null  object\n",
      " 5   time      65079 non-null  object\n",
      " 6   Day       65079 non-null  object\n",
      "dtypes: object(7)\n",
      "memory usage: 3.5+ MB\n"
     ]
    }
   ],
   "source": [
    "df.info()"
   ]
  },
  {
   "cell_type": "markdown",
   "metadata": {
    "deletable": false,
    "editable": false,
    "id": "TaQ2Iwbr_Zct"
   },
   "source": [
    "Итак, в таблице семь столбцов. Тип данных во всех столбцах — `object`.\n",
    "\n",
    "Согласно документации к данным:\n",
    "* `userID` — идентификатор пользователя;\n",
    "* `Track` — название трека;  \n",
    "* `artist` — имя исполнителя;\n",
    "* `genre` — название жанра;\n",
    "* `City` — город пользователя;\n",
    "* `time` — время начала прослушивания;\n",
    "* `Day` — день недели.\n",
    "\n",
    "Количество значений в столбцах различается. Значит, в данных есть пропущенные значения."
   ]
  },
  {
   "cell_type": "markdown",
   "metadata": {
    "deletable": false,
    "editable": false,
    "id": "4P0UCWzswgEm",
    "tags": [
     "start_task"
    ]
   },
   "source": [
    "**Задание 5**\n",
    "\n",
    "**Вопрос со свободной формой ответа**\n",
    "\n",
    "В названиях колонок видны три нарушения стиля:\n",
    "1. Строчные буквы сочетаются с прописными.\n",
    "2. Встречаются пробелы."
   ]
  },
  {
   "cell_type": "code",
   "execution_count": 5,
   "metadata": {
    "id": "c137-ZstwgEm"
   },
   "outputs": [],
   "source": [
    "# 3. Отсутствует \"змеиный регистр\""
   ]
  },
  {
   "cell_type": "markdown",
   "metadata": {
    "deletable": false,
    "editable": false,
    "id": "MCB6-dXG_Zct"
   },
   "source": [
    "**Выводы**\n",
    "\n",
    "В каждой строке таблицы — данные о прослушанном треке. Часть колонок описывает саму композицию: название, исполнителя и жанр. Остальные данные рассказывают о пользователе: из какого он города, когда он слушал музыку. \n",
    "\n",
    "Предварительно можно утверждать, что, данных достаточно для проверки гипотез. Но встречаются пропуски в данных, а в названиях колонок — расхождения с хорошим стилем.\n",
    "\n",
    "Чтобы двигаться дальше, нужно устранить проблемы в данных."
   ]
  },
  {
   "cell_type": "markdown",
   "metadata": {
    "deletable": false,
    "editable": false,
    "id": "SjYF6Ub9_Zct"
   },
   "source": [
    "## Предобработка данных\n",
    "Исправьте стиль в заголовках столбцов, исключите пропуски. Затем проверьте данные на дубликаты."
   ]
  },
  {
   "cell_type": "markdown",
   "metadata": {
    "deletable": false,
    "editable": false,
    "id": "dIaKXr29_Zct",
    "tags": [
     "start_task"
    ]
   },
   "source": [
    "### Стиль заголовков\n",
    "\n",
    "**Задание 6**\n",
    "\n",
    "Выведите на экран названия столбцов:"
   ]
  },
  {
   "cell_type": "code",
   "execution_count": 6,
   "metadata": {
    "deletable": false,
    "id": "oKOTdF_Q_Zct"
   },
   "outputs": [
    {
     "data": {
      "text/plain": [
       "Index(['  userID', 'Track', 'artist', 'genre', '  City  ', 'time', 'Day'], dtype='object')"
      ]
     },
     "execution_count": 6,
     "metadata": {},
     "output_type": "execute_result"
    }
   ],
   "source": [
    "df.columns"
   ]
  },
  {
   "cell_type": "markdown",
   "metadata": {
    "deletable": false,
    "editable": false,
    "id": "zj5534cv_Zct",
    "tags": [
     "start_task"
    ]
   },
   "source": [
    "**Задание 7**\n",
    "\n",
    "\n",
    "Приведите названия в соответствие с хорошим стилем:\n",
    "* несколько слов в названии запишите в «змеином_регистре»,\n",
    "* все символы сделайте строчными,\n",
    "* устраните пробелы.\n",
    "\n",
    "Для этого переименуйте колонки так:\n",
    "* `'  userID'` → `'user_id'`;\n",
    "* `'Track'` → `'track'`;\n",
    "* `'  City  '` → `'city'`;\n",
    "* `'Day'` → `'day'`."
   ]
  },
  {
   "cell_type": "code",
   "execution_count": 7,
   "metadata": {
    "deletable": false,
    "id": "ISlFqs5y_Zct"
   },
   "outputs": [],
   "source": [
    "df = df.rename(columns={'  userID' : 'user_id', 'Track' : 'track', '  City  ' : 'city', 'Day' : 'day'})"
   ]
  },
  {
   "cell_type": "markdown",
   "metadata": {
    "deletable": false,
    "editable": false,
    "id": "1dqbh00J_Zct",
    "tags": [
     "start_task"
    ]
   },
   "source": [
    "**Задание 8**\n",
    "\n",
    "\n",
    "Проверьте результат. Для этого ещё раз выведите на экран названия столбцов:"
   ]
  },
  {
   "cell_type": "code",
   "execution_count": 8,
   "metadata": {
    "deletable": false,
    "id": "d4NOAmTW_Zct"
   },
   "outputs": [
    {
     "data": {
      "text/plain": [
       "Index(['user_id', 'track', 'artist', 'genre', 'city', 'time', 'day'], dtype='object')"
      ]
     },
     "execution_count": 8,
     "metadata": {},
     "output_type": "execute_result"
    }
   ],
   "source": [
    "df.columns"
   ]
  },
  {
   "cell_type": "markdown",
   "metadata": {
    "deletable": false,
    "editable": false,
    "id": "5ISfbcfY_Zct",
    "tags": [
     "start_task"
    ]
   },
   "source": [
    "### Пропуски значений\n",
    "\n",
    "**Задание 9**\n",
    "\n",
    "Сначала посчитайте, сколько в таблице пропущенных значений. Для этого достаточно двух методов `pandas`:"
   ]
  },
  {
   "cell_type": "code",
   "execution_count": 9,
   "metadata": {
    "deletable": false,
    "id": "RskX29qr_Zct"
   },
   "outputs": [
    {
     "data": {
      "text/plain": [
       "user_id       0\n",
       "track      1231\n",
       "artist     7203\n",
       "genre      1198\n",
       "city          0\n",
       "time          0\n",
       "day           0\n",
       "dtype: int64"
      ]
     },
     "execution_count": 9,
     "metadata": {},
     "output_type": "execute_result"
    }
   ],
   "source": [
    "df.isna().sum()"
   ]
  },
  {
   "cell_type": "markdown",
   "metadata": {
    "deletable": false,
    "editable": false,
    "id": "qubhgnlO_Zct"
   },
   "source": [
    "Не все пропущенные значения влияют на исследование. Так в `track` и `artist` пропуски не важны для вашей работы. Достаточно заменить их явными обозначениями.\n",
    "\n",
    "Но пропуски в `genre` могут помешать сравнению музыкальных вкусов в Москве и Санкт-Петербурге. На практике было бы правильно установить причину пропусков и восстановить данные. Такой возможности нет в учебном проекте. Придётся:\n",
    "* заполнить и эти пропуски явными обозначениями,\n",
    "* оценить, насколько они повредят расчётам. "
   ]
  },
  {
   "cell_type": "markdown",
   "metadata": {
    "deletable": false,
    "editable": false,
    "id": "fSv2laPA_Zct",
    "tags": [
     "start_task"
    ]
   },
   "source": [
    "**Задание 10**\n",
    "\n",
    "Замените пропущенные значения в столбцах `track`, `artist` и `genre` на строку `'unknown'`. Для этого создайте список `columns_to_replace`, переберите его элементы циклом `for` и для каждого столбца выполните замену пропущенных значений:"
   ]
  },
  {
   "cell_type": "code",
   "execution_count": 10,
   "metadata": {
    "deletable": false,
    "id": "KplB5qWs_Zct"
   },
   "outputs": [],
   "source": [
    "columns_to_replace = ['track', 'artist', 'genre']\n",
    "\n",
    "for i in columns_to_replace:\n",
    "    df[i] = df[i].fillna('unknown')"
   ]
  },
  {
   "cell_type": "markdown",
   "metadata": {
    "deletable": false,
    "editable": false,
    "id": "Ilsm-MZo_Zct",
    "tags": [
     "start_task"
    ]
   },
   "source": [
    "**Задание 11**\n",
    "\n",
    "Убедитесь, что в таблице не осталось пропусков. Для этого ещё раз посчитайте пропущенные значения."
   ]
  },
  {
   "cell_type": "code",
   "execution_count": 11,
   "metadata": {
    "deletable": false,
    "id": "Tq4nYRX4_Zct"
   },
   "outputs": [
    {
     "data": {
      "text/plain": [
       "user_id    0\n",
       "track      0\n",
       "artist     0\n",
       "genre      0\n",
       "city       0\n",
       "time       0\n",
       "day        0\n",
       "dtype: int64"
      ]
     },
     "execution_count": 11,
     "metadata": {},
     "output_type": "execute_result"
    }
   ],
   "source": [
    "df.isna().sum()"
   ]
  },
  {
   "cell_type": "markdown",
   "metadata": {
    "deletable": false,
    "editable": false,
    "id": "BWKRtBJ3_Zct",
    "tags": [
     "start_task"
    ]
   },
   "source": [
    "### Дубликаты\n",
    "\n",
    "**Задание 12**\n",
    "\n",
    "Посчитайте явные дубликаты в таблице одной командой:"
   ]
  },
  {
   "cell_type": "code",
   "execution_count": 12,
   "metadata": {
    "deletable": false,
    "id": "36eES_S0_Zct"
   },
   "outputs": [
    {
     "data": {
      "text/plain": [
       "3826"
      ]
     },
     "execution_count": 12,
     "metadata": {},
     "output_type": "execute_result"
    }
   ],
   "source": [
    "df.duplicated().sum()"
   ]
  },
  {
   "cell_type": "markdown",
   "metadata": {
    "deletable": false,
    "editable": false,
    "id": "Ot25h6XR_Zct",
    "tags": [
     "start_task"
    ]
   },
   "source": [
    "**Задание 13**\n",
    "\n",
    "Вызовите специальный метод `pandas`, чтобы удалить явные дубликаты:"
   ]
  },
  {
   "cell_type": "code",
   "execution_count": 13,
   "metadata": {
    "deletable": false,
    "id": "exFHq6tt_Zct"
   },
   "outputs": [],
   "source": [
    "df = df.drop_duplicates()"
   ]
  },
  {
   "cell_type": "markdown",
   "metadata": {
    "deletable": false,
    "editable": false,
    "id": "Im2YwBEG_Zct",
    "tags": [
     "start_task"
    ]
   },
   "source": [
    "**Задание 14**\n",
    "\n",
    "Ещё раз посчитайте явные дубликаты в таблице — убедитесь, что полностью от них избавились:"
   ]
  },
  {
   "cell_type": "code",
   "execution_count": 14,
   "metadata": {
    "deletable": false,
    "id": "-8PuNWQ0_Zct"
   },
   "outputs": [
    {
     "data": {
      "text/plain": [
       "0"
      ]
     },
     "execution_count": 14,
     "metadata": {},
     "output_type": "execute_result"
    }
   ],
   "source": [
    "df.duplicated().sum()"
   ]
  },
  {
   "cell_type": "markdown",
   "metadata": {
    "deletable": false,
    "editable": false,
    "id": "QlFBsxAr_Zct"
   },
   "source": [
    "Теперь избавьтесь от неявных дубликатов в колонке `genre`. Например, название одного и того же жанра может быть записано немного по-разному. Такие ошибки тоже повлияют на результат исследования."
   ]
  },
  {
   "cell_type": "markdown",
   "metadata": {
    "deletable": false,
    "editable": false,
    "id": "eSjWwsOh_Zct",
    "tags": [
     "start_task"
    ]
   },
   "source": [
    "**Задание 15**\n",
    "\n",
    "Выведите на экран список уникальных названий жанров, отсортированный в алфавитном порядке. Для этого:\n",
    "* извлеките нужный столбец датафрейма, \n",
    "* примените к нему метод сортировки,\n",
    "* для отсортированного столбца вызовите метод, который вернёт уникальные значения из столбца."
   ]
  },
  {
   "cell_type": "code",
   "execution_count": 15,
   "metadata": {
    "deletable": false,
    "id": "JIUcqzZN_Zct"
   },
   "outputs": [
    {
     "data": {
      "text/plain": [
       "array(['acid', 'acoustic', 'action', 'adult', 'africa', 'afrikaans',\n",
       "       'alternative', 'alternativepunk', 'ambient', 'americana',\n",
       "       'animated', 'anime', 'arabesk', 'arabic', 'arena',\n",
       "       'argentinetango', 'art', 'audiobook', 'author', 'avantgarde',\n",
       "       'axé', 'baile', 'balkan', 'beats', 'bigroom', 'black', 'bluegrass',\n",
       "       'blues', 'bollywood', 'bossa', 'brazilian', 'breakbeat', 'breaks',\n",
       "       'broadway', 'cantautori', 'cantopop', 'canzone', 'caribbean',\n",
       "       'caucasian', 'celtic', 'chamber', 'chanson', 'children', 'chill',\n",
       "       'chinese', 'choral', 'christian', 'christmas', 'classical',\n",
       "       'classicmetal', 'club', 'colombian', 'comedy', 'conjazz',\n",
       "       'contemporary', 'country', 'cuban', 'dance', 'dancehall',\n",
       "       'dancepop', 'dark', 'death', 'deep', 'deutschrock', 'deutschspr',\n",
       "       'dirty', 'disco', 'dnb', 'documentary', 'downbeat', 'downtempo',\n",
       "       'drum', 'dub', 'dubstep', 'eastern', 'easy', 'electronic',\n",
       "       'electropop', 'emo', 'entehno', 'epicmetal', 'estrada', 'ethnic',\n",
       "       'eurofolk', 'european', 'experimental', 'extrememetal', 'fado',\n",
       "       'fairytail', 'film', 'fitness', 'flamenco', 'folk', 'folklore',\n",
       "       'folkmetal', 'folkrock', 'folktronica', 'forró', 'frankreich',\n",
       "       'französisch', 'french', 'funk', 'future', 'gangsta', 'garage',\n",
       "       'german', 'ghazal', 'gitarre', 'glitch', 'gospel', 'gothic',\n",
       "       'grime', 'grunge', 'gypsy', 'handsup', \"hard'n'heavy\", 'hardcore',\n",
       "       'hardstyle', 'hardtechno', 'hip', 'hip-hop', 'hiphop',\n",
       "       'historisch', 'holiday', 'hop', 'horror', 'house', 'hymn', 'idm',\n",
       "       'independent', 'indian', 'indie', 'indipop', 'industrial',\n",
       "       'inspirational', 'instrumental', 'international', 'irish', 'jam',\n",
       "       'japanese', 'jazz', 'jewish', 'jpop', 'jungle', 'k-pop',\n",
       "       'karadeniz', 'karaoke', 'kayokyoku', 'korean', 'laiko', 'latin',\n",
       "       'latino', 'leftfield', 'local', 'lounge', 'loungeelectronic',\n",
       "       'lovers', 'malaysian', 'mandopop', 'marschmusik', 'meditative',\n",
       "       'mediterranean', 'melodic', 'metal', 'metalcore', 'mexican',\n",
       "       'middle', 'minimal', 'miscellaneous', 'modern', 'mood', 'mpb',\n",
       "       'muslim', 'native', 'neoklassik', 'neue', 'new', 'newage',\n",
       "       'newwave', 'nu', 'nujazz', 'numetal', 'oceania', 'old', 'opera',\n",
       "       'orchestral', 'other', 'piano', 'podcasts', 'pop', 'popdance',\n",
       "       'popelectronic', 'popeurodance', 'poprussian', 'post',\n",
       "       'posthardcore', 'postrock', 'power', 'progmetal', 'progressive',\n",
       "       'psychedelic', 'punjabi', 'punk', 'quebecois', 'ragga', 'ram',\n",
       "       'rancheras', 'rap', 'rave', 'reggae', 'reggaeton', 'regional',\n",
       "       'relax', 'religious', 'retro', 'rhythm', 'rnb', 'rnr', 'rock',\n",
       "       'rockabilly', 'rockalternative', 'rockindie', 'rockother',\n",
       "       'romance', 'roots', 'ruspop', 'rusrap', 'rusrock', 'russian',\n",
       "       'salsa', 'samba', 'scenic', 'schlager', 'self', 'sertanejo',\n",
       "       'shanson', 'shoegazing', 'showtunes', 'singer', 'ska', 'skarock',\n",
       "       'slow', 'smooth', 'soft', 'soul', 'soulful', 'sound', 'soundtrack',\n",
       "       'southern', 'specialty', 'speech', 'spiritual', 'sport',\n",
       "       'stonerrock', 'surf', 'swing', 'synthpop', 'synthrock',\n",
       "       'sängerportrait', 'tango', 'tanzorchester', 'taraftar', 'tatar',\n",
       "       'tech', 'techno', 'teen', 'thrash', 'top', 'traditional',\n",
       "       'tradjazz', 'trance', 'tribal', 'trip', 'triphop', 'tropical',\n",
       "       'türk', 'türkçe', 'ukrrock', 'unknown', 'urban', 'uzbek',\n",
       "       'variété', 'vi', 'videogame', 'vocal', 'western', 'world',\n",
       "       'worldbeat', 'ïîï', 'электроника'], dtype=object)"
      ]
     },
     "execution_count": 15,
     "metadata": {},
     "output_type": "execute_result"
    }
   ],
   "source": [
    "df['genre'].sort_values().unique()"
   ]
  },
  {
   "cell_type": "markdown",
   "metadata": {
    "deletable": false,
    "editable": false,
    "id": "qej-Qmuo_Zct",
    "tags": [
     "start_task"
    ]
   },
   "source": [
    "**Задание 16**\n",
    "\n",
    "Просмотрите список и найдите неявные дубликаты названия `hiphop`. Это могут быть названия с ошибками или альтернативные названия того же жанра.\n",
    "\n",
    "Вы увидите следующие неявные дубликаты:\n",
    "* *hip*,\n",
    "* *hop*,\n",
    "* *hip-hop*.\n",
    "\n",
    "Чтобы очистить от них таблицу используйте метод `replace()` с двумя аргументами: списком строк-дубликатов (включащий *hip*, *hop* и *hip-hop*) и строкой с правильным значением. Вам нужно исправить колонку `genre` в таблице `df`: заменить каждое значение из списка дубликатов на верное. Вместо `hip`, `hop` и `hip-hop` в таблице должно быть значение `hiphop`:"
   ]
  },
  {
   "cell_type": "code",
   "execution_count": 16,
   "metadata": {
    "deletable": false,
    "id": "ErNDkmns_Zct"
   },
   "outputs": [],
   "source": [
    "df['genre'] = df['genre'].replace(['hip', 'hop', 'hip-hop'], 'hiphop')"
   ]
  },
  {
   "cell_type": "markdown",
   "metadata": {
    "deletable": false,
    "editable": false,
    "id": "zQKF16_RG15m",
    "tags": [
     "start_task"
    ]
   },
   "source": [
    "**Задание 17**\n",
    "\n",
    "Проверьте, что заменили неправильные названия:\n",
    "\n",
    "*   hip\n",
    "*   hop\n",
    "*   hip-hop\n",
    "\n",
    "Выведите отсортированный список уникальных значений столбца `genre`:"
   ]
  },
  {
   "cell_type": "code",
   "execution_count": 17,
   "metadata": {
    "deletable": false,
    "id": "wvixALnFG15m"
   },
   "outputs": [
    {
     "data": {
      "text/plain": [
       "array(['acid', 'acoustic', 'action', 'adult', 'africa', 'afrikaans',\n",
       "       'alternative', 'alternativepunk', 'ambient', 'americana',\n",
       "       'animated', 'anime', 'arabesk', 'arabic', 'arena',\n",
       "       'argentinetango', 'art', 'audiobook', 'author', 'avantgarde',\n",
       "       'axé', 'baile', 'balkan', 'beats', 'bigroom', 'black', 'bluegrass',\n",
       "       'blues', 'bollywood', 'bossa', 'brazilian', 'breakbeat', 'breaks',\n",
       "       'broadway', 'cantautori', 'cantopop', 'canzone', 'caribbean',\n",
       "       'caucasian', 'celtic', 'chamber', 'chanson', 'children', 'chill',\n",
       "       'chinese', 'choral', 'christian', 'christmas', 'classical',\n",
       "       'classicmetal', 'club', 'colombian', 'comedy', 'conjazz',\n",
       "       'contemporary', 'country', 'cuban', 'dance', 'dancehall',\n",
       "       'dancepop', 'dark', 'death', 'deep', 'deutschrock', 'deutschspr',\n",
       "       'dirty', 'disco', 'dnb', 'documentary', 'downbeat', 'downtempo',\n",
       "       'drum', 'dub', 'dubstep', 'eastern', 'easy', 'electronic',\n",
       "       'electropop', 'emo', 'entehno', 'epicmetal', 'estrada', 'ethnic',\n",
       "       'eurofolk', 'european', 'experimental', 'extrememetal', 'fado',\n",
       "       'fairytail', 'film', 'fitness', 'flamenco', 'folk', 'folklore',\n",
       "       'folkmetal', 'folkrock', 'folktronica', 'forró', 'frankreich',\n",
       "       'französisch', 'french', 'funk', 'future', 'gangsta', 'garage',\n",
       "       'german', 'ghazal', 'gitarre', 'glitch', 'gospel', 'gothic',\n",
       "       'grime', 'grunge', 'gypsy', 'handsup', \"hard'n'heavy\", 'hardcore',\n",
       "       'hardstyle', 'hardtechno', 'hiphop', 'historisch', 'holiday',\n",
       "       'horror', 'house', 'hymn', 'idm', 'independent', 'indian', 'indie',\n",
       "       'indipop', 'industrial', 'inspirational', 'instrumental',\n",
       "       'international', 'irish', 'jam', 'japanese', 'jazz', 'jewish',\n",
       "       'jpop', 'jungle', 'k-pop', 'karadeniz', 'karaoke', 'kayokyoku',\n",
       "       'korean', 'laiko', 'latin', 'latino', 'leftfield', 'local',\n",
       "       'lounge', 'loungeelectronic', 'lovers', 'malaysian', 'mandopop',\n",
       "       'marschmusik', 'meditative', 'mediterranean', 'melodic', 'metal',\n",
       "       'metalcore', 'mexican', 'middle', 'minimal', 'miscellaneous',\n",
       "       'modern', 'mood', 'mpb', 'muslim', 'native', 'neoklassik', 'neue',\n",
       "       'new', 'newage', 'newwave', 'nu', 'nujazz', 'numetal', 'oceania',\n",
       "       'old', 'opera', 'orchestral', 'other', 'piano', 'podcasts', 'pop',\n",
       "       'popdance', 'popelectronic', 'popeurodance', 'poprussian', 'post',\n",
       "       'posthardcore', 'postrock', 'power', 'progmetal', 'progressive',\n",
       "       'psychedelic', 'punjabi', 'punk', 'quebecois', 'ragga', 'ram',\n",
       "       'rancheras', 'rap', 'rave', 'reggae', 'reggaeton', 'regional',\n",
       "       'relax', 'religious', 'retro', 'rhythm', 'rnb', 'rnr', 'rock',\n",
       "       'rockabilly', 'rockalternative', 'rockindie', 'rockother',\n",
       "       'romance', 'roots', 'ruspop', 'rusrap', 'rusrock', 'russian',\n",
       "       'salsa', 'samba', 'scenic', 'schlager', 'self', 'sertanejo',\n",
       "       'shanson', 'shoegazing', 'showtunes', 'singer', 'ska', 'skarock',\n",
       "       'slow', 'smooth', 'soft', 'soul', 'soulful', 'sound', 'soundtrack',\n",
       "       'southern', 'specialty', 'speech', 'spiritual', 'sport',\n",
       "       'stonerrock', 'surf', 'swing', 'synthpop', 'synthrock',\n",
       "       'sängerportrait', 'tango', 'tanzorchester', 'taraftar', 'tatar',\n",
       "       'tech', 'techno', 'teen', 'thrash', 'top', 'traditional',\n",
       "       'tradjazz', 'trance', 'tribal', 'trip', 'triphop', 'tropical',\n",
       "       'türk', 'türkçe', 'ukrrock', 'unknown', 'urban', 'uzbek',\n",
       "       'variété', 'vi', 'videogame', 'vocal', 'western', 'world',\n",
       "       'worldbeat', 'ïîï', 'электроника'], dtype=object)"
      ]
     },
     "execution_count": 17,
     "metadata": {},
     "output_type": "execute_result"
    }
   ],
   "source": [
    "df['genre'].sort_values().unique()"
   ]
  },
  {
   "cell_type": "markdown",
   "metadata": {
    "deletable": false,
    "editable": false,
    "id": "jz6a9-7HQUDd"
   },
   "source": [
    "**Выводы**\n",
    "\n",
    "Предобработка обнаружила три проблемы в данных:\n",
    "\n",
    "- нарушения в стиле заголовков,\n",
    "- пропущенные значения,\n",
    "- дубликаты — явные и неявные.\n",
    "\n",
    "Вы исправили заголовки, чтобы упростить работу с таблицей. Без дубликатов исследование станет более точным.\n",
    "\n",
    "Пропущенные значения вы заменили на `'unknown'`. Ещё предстоит увидеть, не повредят ли исследованию пропуски в колонке `genre`.\n",
    "\n",
    "Теперь можно перейти к проверке гипотез. "
   ]
  },
  {
   "cell_type": "markdown",
   "metadata": {
    "deletable": false,
    "editable": false,
    "id": "WttZHXH0SqKk"
   },
   "source": [
    "## Проверка гипотез"
   ]
  },
  {
   "cell_type": "markdown",
   "metadata": {
    "deletable": false,
    "editable": false,
    "id": "Im936VVi_Zcu"
   },
   "source": [
    "### Сравнение поведения пользователей двух столиц"
   ]
  },
  {
   "cell_type": "markdown",
   "metadata": {
    "deletable": false,
    "editable": false,
    "id": "nwt_MuaL_Zcu"
   },
   "source": [
    "Первая гипотеза утверждает, что пользователи по-разному слушают музыку в Москве и Санкт-Петербурге. Проверьте это предположение по данным о трёх днях недели — понедельнике, среде и пятнице. Для этого:\n",
    "\n",
    "* Разделите пользователей Москвы и Санкт-Петербурга\n",
    "* Сравните, сколько треков послушала каждая группа пользователей в понедельник, среду и пятницу.\n"
   ]
  },
  {
   "cell_type": "markdown",
   "metadata": {
    "deletable": false,
    "editable": false,
    "id": "8Dw_YMmT_Zcu",
    "tags": [
     "start_task"
    ]
   },
   "source": [
    "**Задание 18**\n",
    "\n",
    "Для тренировки сначала выполните каждый из расчётов по отдельности. \n",
    "\n",
    "Оцените активность пользователей в каждом городе. Сгруппируйте данные по городу и посчитайте прослушивания в каждой группе.\n",
    "\n"
   ]
  },
  {
   "cell_type": "code",
   "execution_count": 18,
   "metadata": {
    "deletable": false,
    "id": "0_Qs96oh_Zcu"
   },
   "outputs": [
    {
     "data": {
      "text/plain": [
       "city\n",
       "Moscow              42741\n",
       "Saint-Petersburg    18512\n",
       "Name: time, dtype: int64"
      ]
     },
     "execution_count": 18,
     "metadata": {},
     "output_type": "execute_result"
    }
   ],
   "source": [
    "df.groupby('city')['time'].count()"
   ]
  },
  {
   "cell_type": "markdown",
   "metadata": {
    "deletable": false,
    "editable": false,
    "id": "dzli3w8o_Zcu",
    "tags": [
     "start_task"
    ]
   },
   "source": [
    "В Москве прослушиваний больше, чем в Петербурге. Из этого не следует, что московские пользователи чаще слушают музыку. Просто самих пользователей в Москве больше.\n",
    "\n",
    "**Задание 19**\n",
    "\n",
    "Теперь сгруппируйте данные по дню недели и подсчитайте прослушивания в понедельник, среду и пятницу. Учтите, что в данных есть информация только о прослушиваниях только за эти дни.\n"
   ]
  },
  {
   "cell_type": "code",
   "execution_count": 19,
   "metadata": {
    "deletable": false,
    "id": "uZMKjiJz_Zcu"
   },
   "outputs": [
    {
     "data": {
      "text/plain": [
       "day\n",
       "Friday       21840\n",
       "Monday       21354\n",
       "Wednesday    18059\n",
       "Name: time, dtype: int64"
      ]
     },
     "execution_count": 19,
     "metadata": {},
     "output_type": "execute_result"
    }
   ],
   "source": [
    "df.groupby('day')['time'].count()"
   ]
  },
  {
   "cell_type": "markdown",
   "metadata": {
    "deletable": false,
    "editable": false,
    "id": "cC2tNrlL_Zcu"
   },
   "source": [
    "В среднем пользователи из двух городов менее активны по средам. Но картина может измениться, если рассмотреть каждый город в отдельности."
   ]
  },
  {
   "cell_type": "markdown",
   "metadata": {
    "deletable": false,
    "editable": false,
    "id": "POzs8bGa_Zcu",
    "tags": [
     "start_task"
    ]
   },
   "source": [
    "**Задание 20**\n",
    "\n",
    "\n",
    "Вы видели, как работает группировка по городу и по дням недели. Теперь напишите функцию, которая объединит два эти расчёта.\n",
    "\n",
    "Создайте функцию `number_tracks()`, которая посчитает прослушивания для заданного дня и города. Ей понадобятся два параметра:\n",
    "* день недели,\n",
    "* название города.\n",
    "\n",
    "В функции сохраните в переменную строки исходной таблицы, у которых значение:\n",
    "  * в колонке `day` равно параметру `day`,\n",
    "  * в колонке `city` равно параметру `city`.\n",
    "\n",
    "Для этого примените последовательную фильтрацию с логической индексацией (или сложные логические выражения в одну строку, если вы уже знакомы с ними).\n",
    "\n",
    "Затем посчитайте значения в столбце `user_id` получившейся таблицы. Результат сохраните в новую переменную. Верните эту переменную из функции."
   ]
  },
  {
   "cell_type": "code",
   "execution_count": 20,
   "metadata": {
    "deletable": false,
    "id": "Nz3GdQB1_Zcu"
   },
   "outputs": [],
   "source": [
    "def number_tracks(day, city):\n",
    "    track_list =  df[(df['city'] == city) & (df['day'] == day)]\n",
    "    track_list_count = track_list['user_id'].count()\n",
    "    return track_list_count"
   ]
  },
  {
   "cell_type": "markdown",
   "metadata": {
    "deletable": false,
    "editable": false,
    "id": "ytf7xFrFJQ2r",
    "tags": [
     "start_task"
    ]
   },
   "source": [
    "**Задание 21**\n",
    "\n",
    "Вызовите `number_tracks()` шесть раз, меняя значение параметров — так, чтобы получить данные для каждого города в каждый из трёх дней."
   ]
  },
  {
   "cell_type": "code",
   "execution_count": 21,
   "metadata": {
    "deletable": false,
    "id": "rJcRATNQ_Zcu"
   },
   "outputs": [
    {
     "data": {
      "text/plain": [
       "15740"
      ]
     },
     "execution_count": 21,
     "metadata": {},
     "output_type": "execute_result"
    }
   ],
   "source": [
    "number_tracks('Monday','Moscow')"
   ]
  },
  {
   "cell_type": "code",
   "execution_count": 22,
   "metadata": {
    "deletable": false,
    "id": "hq_ncZ5T_Zcu"
   },
   "outputs": [
    {
     "data": {
      "text/plain": [
       "5614"
      ]
     },
     "execution_count": 22,
     "metadata": {},
     "output_type": "execute_result"
    }
   ],
   "source": [
    "number_tracks('Monday','Saint-Petersburg')"
   ]
  },
  {
   "cell_type": "code",
   "execution_count": 23,
   "metadata": {
    "deletable": false,
    "id": "_NTy2VPU_Zcu"
   },
   "outputs": [
    {
     "data": {
      "text/plain": [
       "11056"
      ]
     },
     "execution_count": 23,
     "metadata": {},
     "output_type": "execute_result"
    }
   ],
   "source": [
    "number_tracks('Wednesday','Moscow')"
   ]
  },
  {
   "cell_type": "code",
   "execution_count": 24,
   "metadata": {
    "deletable": false,
    "id": "j2y3TAwo_Zcu"
   },
   "outputs": [
    {
     "data": {
      "text/plain": [
       "7003"
      ]
     },
     "execution_count": 24,
     "metadata": {},
     "output_type": "execute_result"
    }
   ],
   "source": [
    "number_tracks('Wednesday','Saint-Petersburg')"
   ]
  },
  {
   "cell_type": "code",
   "execution_count": 25,
   "metadata": {
    "deletable": false,
    "id": "vYDw5u_K_Zcu"
   },
   "outputs": [
    {
     "data": {
      "text/plain": [
       "15945"
      ]
     },
     "execution_count": 25,
     "metadata": {},
     "output_type": "execute_result"
    }
   ],
   "source": [
    "number_tracks('Friday','Moscow')"
   ]
  },
  {
   "cell_type": "code",
   "execution_count": 26,
   "metadata": {
    "deletable": false,
    "id": "8_yzFtW3_Zcu"
   },
   "outputs": [
    {
     "data": {
      "text/plain": [
       "5895"
      ]
     },
     "execution_count": 26,
     "metadata": {},
     "output_type": "execute_result"
    }
   ],
   "source": [
    "number_tracks('Friday','Saint-Petersburg')"
   ]
  },
  {
   "cell_type": "markdown",
   "metadata": {
    "deletable": false,
    "editable": false,
    "id": "7QXffbO-_Zcu",
    "tags": [
     "start_task"
    ]
   },
   "source": [
    "**Задание 22**\n",
    "\n",
    "Создайте c помощью конструктора `pd.DataFrame` таблицу, где\n",
    "* названия колонок — `['city', 'monday', 'wednesday', 'friday']`;\n",
    "* данные — результаты, которые вы получили с помощью `number_tracks`."
   ]
  },
  {
   "cell_type": "code",
   "execution_count": 27,
   "metadata": {
    "deletable": false,
    "id": "APAcLpOr_Zcu"
   },
   "outputs": [
    {
     "data": {
      "text/html": [
       "<div>\n",
       "<style scoped>\n",
       "    .dataframe tbody tr th:only-of-type {\n",
       "        vertical-align: middle;\n",
       "    }\n",
       "\n",
       "    .dataframe tbody tr th {\n",
       "        vertical-align: top;\n",
       "    }\n",
       "\n",
       "    .dataframe thead th {\n",
       "        text-align: right;\n",
       "    }\n",
       "</style>\n",
       "<table border=\"1\" class=\"dataframe\">\n",
       "  <thead>\n",
       "    <tr style=\"text-align: right;\">\n",
       "      <th></th>\n",
       "      <th>city</th>\n",
       "      <th>monday</th>\n",
       "      <th>wednesday</th>\n",
       "      <th>friday</th>\n",
       "    </tr>\n",
       "  </thead>\n",
       "  <tbody>\n",
       "    <tr>\n",
       "      <th>0</th>\n",
       "      <td>Moscow</td>\n",
       "      <td>15740</td>\n",
       "      <td>11056</td>\n",
       "      <td>15945</td>\n",
       "    </tr>\n",
       "    <tr>\n",
       "      <th>1</th>\n",
       "      <td>Saint-Petersburg</td>\n",
       "      <td>5614</td>\n",
       "      <td>7003</td>\n",
       "      <td>5895</td>\n",
       "    </tr>\n",
       "  </tbody>\n",
       "</table>\n",
       "</div>"
      ],
      "text/plain": [
       "               city  monday  wednesday  friday\n",
       "0            Moscow   15740      11056   15945\n",
       "1  Saint-Petersburg    5614       7003    5895"
      ]
     },
     "execution_count": 27,
     "metadata": {},
     "output_type": "execute_result"
    }
   ],
   "source": [
    "data = [['Moscow', 15740, 11056, 15945],\n",
    "       ['Saint-Petersburg', 5614, 7003, 5895]]\n",
    "pd.DataFrame(data = data, columns = ['city', 'monday', 'wednesday', 'friday'])"
   ]
  },
  {
   "cell_type": "markdown",
   "metadata": {
    "deletable": false,
    "editable": false,
    "id": "-EgPIHYu_Zcu"
   },
   "source": [
    "**Выводы**\n",
    "\n",
    "Данные показывают разницу поведения пользователей:\n",
    "\n",
    "- В Москве пик прослушиваний приходится на понедельник и пятницу, а в среду заметен спад.\n",
    "- В Петербурге, наоборот, больше слушают музыку по средам. Активность в понедельник и пятницу здесь почти в равной мере уступает среде.\n",
    "\n",
    "Значит, данные говорят в пользу первой гипотезы."
   ]
  },
  {
   "cell_type": "markdown",
   "metadata": {
    "deletable": false,
    "editable": false,
    "id": "atZAxtq4_Zcu"
   },
   "source": [
    "### Музыка в начале и в конце недели"
   ]
  },
  {
   "cell_type": "markdown",
   "metadata": {
    "deletable": false,
    "editable": false,
    "id": "eXrQqXFH_Zcu"
   },
   "source": [
    "Согласно второй гипотезе, утром в понедельник в Москве преобладают одни жанры, а в Петербурге — другие. Так же и вечером пятницы преобладают разные жанры — в зависимости от города."
   ]
  },
  {
   "cell_type": "markdown",
   "metadata": {
    "deletable": false,
    "editable": false,
    "id": "S8UcW6Hw_Zcu",
    "tags": [
     "start_task"
    ]
   },
   "source": [
    "**Задание 23**\n",
    "\n",
    "Сохраните таблицы с данными в две переменные:\n",
    "* по Москве — в `moscow_general`;\n",
    "* по Санкт-Петербургу — в `spb_general`."
   ]
  },
  {
   "cell_type": "code",
   "execution_count": 28,
   "metadata": {
    "deletable": false,
    "id": "qeaFfM_P_Zcu"
   },
   "outputs": [],
   "source": [
    "moscow_general = df[df['city']=='Moscow']"
   ]
  },
  {
   "cell_type": "code",
   "execution_count": 29,
   "metadata": {
    "deletable": false,
    "id": "ORaVRKto_Zcu"
   },
   "outputs": [],
   "source": [
    "spb_general = df[df['city']=='Saint-Petersburg']"
   ]
  },
  {
   "cell_type": "markdown",
   "metadata": {
    "deletable": false,
    "id": "MEJV-CX2_Zcu",
    "tags": [
     "start_task"
    ]
   },
   "source": [
    "**Задание 24**\n",
    "\n",
    "Создайте функцию `genre_weekday()` с четырьмя параметрами:\n",
    "* таблица (датафрейм) с данными,\n",
    "* день недели,\n",
    "* начальная временная метка в формате 'hh:mm', \n",
    "* последняя временная метка в формате 'hh:mm'.\n",
    "\n",
    "Функция должна вернуть информацию о топ-10 жанров тех треков, которые прослушивали в указанный день, в промежутке между двумя отметками времени."
   ]
  },
  {
   "cell_type": "code",
   "execution_count": 30,
   "metadata": {
    "deletable": false,
    "id": "laJT9BYl_Zcu"
   },
   "outputs": [],
   "source": [
    "def genre_weekday(df, day, time1, time2):\n",
    "    genre_df = df[df['day'] == day]\n",
    "    genre_df = genre_df[genre_df['time'] < time2]\n",
    "    genre_df = genre_df[genre_df['time'] > time1]\n",
    "    genre_df_grouped = genre_df.groupby('genre')['genre'].count()\n",
    "    genre_df_sorted = genre_df_grouped.sort_values(ascending=False)\n",
    "    return genre_df_sorted[:10]"
   ]
  },
  {
   "cell_type": "markdown",
   "metadata": {
    "deletable": false,
    "editable": false,
    "id": "la2s2_PF_Zcu",
    "tags": [
     "start_task"
    ]
   },
   "source": [
    "**Задание 25**\n",
    "\n",
    "\n",
    "Cравните результаты функции `genre_weekday()` для Москвы и Санкт-Петербурга в понедельник утром (с 7:00 до 11:00) и в пятницу вечером (с 17:00 до 23:00):"
   ]
  },
  {
   "cell_type": "code",
   "execution_count": 31,
   "metadata": {
    "deletable": false,
    "id": "yz7itPUQ_Zcu"
   },
   "outputs": [
    {
     "data": {
      "text/plain": [
       "genre\n",
       "pop            781\n",
       "dance          549\n",
       "electronic     480\n",
       "rock           474\n",
       "hiphop         286\n",
       "ruspop         186\n",
       "world          181\n",
       "rusrap         175\n",
       "alternative    164\n",
       "unknown        161\n",
       "Name: genre, dtype: int64"
      ]
     },
     "execution_count": 31,
     "metadata": {},
     "output_type": "execute_result"
    }
   ],
   "source": [
    "genre_weekday(moscow_general, 'Monday', '07:00', '11:00')"
   ]
  },
  {
   "cell_type": "code",
   "execution_count": 32,
   "metadata": {
    "deletable": false,
    "id": "kwUcHPdy_Zcu"
   },
   "outputs": [
    {
     "data": {
      "text/plain": [
       "genre\n",
       "pop            218\n",
       "dance          182\n",
       "rock           162\n",
       "electronic     147\n",
       "hiphop          80\n",
       "ruspop          64\n",
       "alternative     58\n",
       "rusrap          55\n",
       "jazz            44\n",
       "classical       40\n",
       "Name: genre, dtype: int64"
      ]
     },
     "execution_count": 32,
     "metadata": {},
     "output_type": "execute_result"
    }
   ],
   "source": [
    "genre_weekday(spb_general, 'Monday', '07:00', '11:00')"
   ]
  },
  {
   "cell_type": "code",
   "execution_count": 33,
   "metadata": {
    "deletable": false,
    "id": "EzXVRE1o_Zcu"
   },
   "outputs": [
    {
     "data": {
      "text/plain": [
       "genre\n",
       "pop            713\n",
       "rock           517\n",
       "dance          495\n",
       "electronic     482\n",
       "hiphop         273\n",
       "world          208\n",
       "ruspop         170\n",
       "alternative    163\n",
       "classical      163\n",
       "rusrap         142\n",
       "Name: genre, dtype: int64"
      ]
     },
     "execution_count": 33,
     "metadata": {},
     "output_type": "execute_result"
    }
   ],
   "source": [
    "genre_weekday(moscow_general, 'Friday', '17:00', '23:00')"
   ]
  },
  {
   "cell_type": "code",
   "execution_count": 34,
   "metadata": {
    "deletable": false,
    "id": "JZaEKu5v_Zcu"
   },
   "outputs": [
    {
     "data": {
      "text/plain": [
       "genre\n",
       "pop            256\n",
       "electronic     216\n",
       "rock           216\n",
       "dance          210\n",
       "hiphop          97\n",
       "alternative     63\n",
       "jazz            61\n",
       "classical       60\n",
       "rusrap          59\n",
       "world           54\n",
       "Name: genre, dtype: int64"
      ]
     },
     "execution_count": 34,
     "metadata": {},
     "output_type": "execute_result"
    }
   ],
   "source": [
    "genre_weekday(spb_general, 'Friday', '17:00', '23:00')"
   ]
  },
  {
   "cell_type": "markdown",
   "metadata": {
    "deletable": false,
    "editable": false,
    "id": "wrCe4MNX_Zcu"
   },
   "source": [
    "**Выводы**\n",
    "\n",
    "Если сравнить топ-10 жанров в понедельник утром, можно сделать такие выводы:\n",
    "\n",
    "1. В Москве и Петербурге слушают похожую музыку. Единственное отличие — в московский рейтинг вошёл жанр “world”, а в петербургский — джаз и классика.\n",
    "\n",
    "2. В Москве пропущенных значений оказалось так много, что значение `'unknown'` заняло десятое место среди самых популярных жанров. Значит, пропущенные значения занимают существенную долю в данных и угрожают достоверности исследования.\n",
    "\n",
    "Вечер пятницы не меняет эту картину. Некоторые жанры поднимаются немного выше, другие спускаются, но в целом топ-10 остаётся тем же самым.\n",
    "\n",
    "Таким образом, вторая гипотеза подтвердилась лишь частично:\n",
    "* Пользователи слушают похожую музыку в начале недели и в конце.\n",
    "* Разница между Москвой и Петербургом не слишком выражена. В Москве чаще слушают русскую популярную музыку, в Петербурге — джаз.\n",
    "\n",
    "Однако пропуски в данных ставят под сомнение этот результат. В Москве их так много, что рейтинг топ-10 мог бы выглядеть иначе, если бы не утерянные  данные о жанрах."
   ]
  },
  {
   "cell_type": "markdown",
   "metadata": {
    "deletable": false,
    "editable": false,
    "id": "JolODAqr_Zcu"
   },
   "source": [
    "### Жанровые предпочтения в Москве и Петербурге\n",
    "\n",
    "Гипотеза: Петербург — столица рэпа, музыку этого жанра там слушают чаще, чем в Москве.  А Москва — город контрастов, в котором, тем не менее, преобладает поп-музыка."
   ]
  },
  {
   "cell_type": "markdown",
   "metadata": {
    "deletable": false,
    "editable": false,
    "id": "DlegSvaT_Zcu",
    "tags": [
     "start_task"
    ]
   },
   "source": [
    "**Задание 26**\n",
    "\n",
    "Сгруппируйте таблицу `moscow_general` по жанру и посчитайте прослушивания треков каждого жанра методом `count()`. Затем отсортируйте результат в порядке убывания и сохраните его в таблице `moscow_genres`."
   ]
  },
  {
   "cell_type": "code",
   "execution_count": 35,
   "metadata": {
    "deletable": false,
    "id": "r19lIPke_Zcu"
   },
   "outputs": [],
   "source": [
    "moscow_genres = moscow_general.groupby('genre')['genre'].count().sort_values(ascending=False)"
   ]
  },
  {
   "cell_type": "markdown",
   "metadata": {
    "deletable": false,
    "editable": false,
    "id": "6kMuomxTiIr8",
    "tags": [
     "start_task"
    ]
   },
   "source": [
    "**Задание 27**\n",
    "\n",
    "Выведите на экран первые десять строк `moscow_genres`:"
   ]
  },
  {
   "cell_type": "code",
   "execution_count": 36,
   "metadata": {
    "deletable": false,
    "id": "WhCSooF8_Zcv"
   },
   "outputs": [
    {
     "data": {
      "text/plain": [
       "genre\n",
       "pop            5892\n",
       "dance          4435\n",
       "rock           3965\n",
       "electronic     3786\n",
       "hiphop         2096\n",
       "classical      1616\n",
       "world          1432\n",
       "alternative    1379\n",
       "ruspop         1372\n",
       "rusrap         1161\n",
       "Name: genre, dtype: int64"
      ]
     },
     "execution_count": 36,
     "metadata": {},
     "output_type": "execute_result"
    }
   ],
   "source": [
    "moscow_genres.head(10)"
   ]
  },
  {
   "cell_type": "markdown",
   "metadata": {
    "deletable": false,
    "editable": false,
    "id": "cnPG2vnN_Zcv",
    "tags": [
     "start_task"
    ]
   },
   "source": [
    "**Задание 28**\n",
    "\n",
    "\n",
    "Теперь повторите то же и для Петербурга.\n",
    "\n",
    "Сгруппируйте таблицу `spb_general` по жанру. Посчитайте прослушивания треков каждого жанра. Результат отсортируйте в порядке убывания и сохраните в таблице `spb_genres`:\n"
   ]
  },
  {
   "cell_type": "code",
   "execution_count": 37,
   "metadata": {
    "deletable": false,
    "id": "gluLIpE7_Zcv"
   },
   "outputs": [],
   "source": [
    "spb_genres = spb_general.groupby('genre')['genre'].count().sort_values(ascending=False)"
   ]
  },
  {
   "cell_type": "markdown",
   "metadata": {
    "deletable": false,
    "editable": false,
    "id": "5Doha_ODgyQ8",
    "tags": [
     "start_task"
    ]
   },
   "source": [
    "**Задание 29**\n",
    "\n",
    "Выведите на экран первые десять строк `spb_genres`:"
   ]
  },
  {
   "cell_type": "code",
   "execution_count": 38,
   "metadata": {
    "deletable": false,
    "id": "uaGJHjVU_Zcv"
   },
   "outputs": [
    {
     "data": {
      "text/plain": [
       "genre\n",
       "pop            2431\n",
       "dance          1932\n",
       "rock           1879\n",
       "electronic     1736\n",
       "hiphop          960\n",
       "alternative     649\n",
       "classical       646\n",
       "rusrap          564\n",
       "ruspop          538\n",
       "world           515\n",
       "Name: genre, dtype: int64"
      ]
     },
     "execution_count": 38,
     "metadata": {},
     "output_type": "execute_result"
    }
   ],
   "source": [
    "spb_genres.head(10)"
   ]
  },
  {
   "cell_type": "markdown",
   "metadata": {
    "deletable": false,
    "editable": false,
    "id": "RY51YJYu_Zcv"
   },
   "source": [
    "**Выводы**"
   ]
  },
  {
   "cell_type": "markdown",
   "metadata": {
    "deletable": false,
    "editable": false,
    "id": "nVhnJEm__Zcv"
   },
   "source": [
    "Гипотеза частично подтвердилась:\n",
    "* Поп-музыка — самый популярный жанр в Москве, как и предполагала гипотеза. Более того, в топ-10 жанров встречается близкий жанр — русская популярная музыка.\n",
    "* Вопреки ожиданиям, рэп одинаково популярен в Москве и Петербурге. \n"
   ]
  },
  {
   "cell_type": "markdown",
   "metadata": {
    "deletable": false,
    "editable": false,
    "id": "ykKQ0N65_Zcv"
   },
   "source": [
    "## Итоги исследования"
   ]
  },
  {
   "cell_type": "markdown",
   "metadata": {
    "deletable": false,
    "editable": false,
    "id": "tjUwbHb3_Zcv"
   },
   "source": [
    "Вы проверили три гипотезы и установили:\n",
    "\n",
    "1. День недели по-разному влияет на активность пользователей в Москве и Петербурге. \n",
    "\n",
    "Первая гипотеза полностью подтвердилась.\n",
    "\n",
    "2. Музыкальные предпочтения не сильно меняются в течение недели — будь то Москва или Петербург. Небольшие различия заметны в начале недели, по понедельникам:\n",
    "* в Москве слушают музыку жанра “world”,\n",
    "* в Петербурге — джаз и классику.\n",
    "\n",
    "Таким образом, вторая гипотеза подтвердилась лишь отчасти. Этот результат мог оказаться иным, если бы не пропуски в данных.\n",
    "\n",
    "3. Во вкусах пользователей Москвы и Петербурга больше общего чем различий. Вопреки ожиданиям, предпочтения жанров в Петербурге напоминают московские.\n",
    "\n",
    "Третья гипотеза не подтвердилась. Если различия в предпочтениях и существуют, на основной массе пользователей они незаметны.\n",
    "\n",
    "**На практике исследования содержат проверки статистических гипотез.**\n",
    "Из данных одного сервиса не всегда можно сделать вывод о всех жителях города.\n",
    "Проверки статистических гипотез покажут, насколько они достоверны, исходя из имеющихся данных. \n",
    "С методами проверок гипотез вы ещё познакомитесь в следующих темах."
   ]
  }
 ],
 "metadata": {
  "ExecuteTimeLog": [
   {
    "duration": 384,
    "start_time": "2023-02-02T05:26:16.058Z"
   },
   {
    "duration": 535,
    "start_time": "2023-02-02T05:26:44.907Z"
   },
   {
    "duration": 18,
    "start_time": "2023-02-02T05:26:57.227Z"
   },
   {
    "duration": 32,
    "start_time": "2023-02-02T05:27:05.406Z"
   },
   {
    "duration": 7,
    "start_time": "2023-02-02T05:28:21.853Z"
   },
   {
    "duration": 5,
    "start_time": "2023-02-02T05:37:03.752Z"
   },
   {
    "duration": 5,
    "start_time": "2023-02-02T05:37:05.402Z"
   },
   {
    "duration": 28,
    "start_time": "2023-02-02T05:38:51.093Z"
   },
   {
    "duration": 4,
    "start_time": "2023-02-02T05:39:42.293Z"
   },
   {
    "duration": 8,
    "start_time": "2023-02-02T05:39:46.021Z"
   },
   {
    "duration": 29,
    "start_time": "2023-02-02T05:40:20.686Z"
   },
   {
    "duration": 34,
    "start_time": "2023-02-02T05:42:13.106Z"
   },
   {
    "duration": 92,
    "start_time": "2023-02-02T05:42:28.896Z"
   },
   {
    "duration": 45,
    "start_time": "2023-02-02T05:42:32.656Z"
   },
   {
    "duration": 21,
    "start_time": "2023-02-02T05:42:35.944Z"
   },
   {
    "duration": 29,
    "start_time": "2023-02-02T05:42:47.394Z"
   },
   {
    "duration": 7,
    "start_time": "2023-02-02T05:43:01.742Z"
   },
   {
    "duration": 62,
    "start_time": "2023-02-02T05:43:14.677Z"
   },
   {
    "duration": 69,
    "start_time": "2023-02-02T05:43:21.365Z"
   },
   {
    "duration": 88,
    "start_time": "2023-02-02T05:45:09.902Z"
   },
   {
    "duration": 67,
    "start_time": "2023-02-02T05:45:15.414Z"
   },
   {
    "duration": 71,
    "start_time": "2023-02-02T05:45:17.436Z"
   },
   {
    "duration": 64,
    "start_time": "2023-02-02T05:45:19.363Z"
   },
   {
    "duration": 65,
    "start_time": "2023-02-02T05:45:32.092Z"
   },
   {
    "duration": 9,
    "start_time": "2023-02-02T05:46:02.583Z"
   },
   {
    "duration": 9,
    "start_time": "2023-02-02T05:46:06.861Z"
   },
   {
    "duration": 9,
    "start_time": "2023-02-02T05:46:32.116Z"
   },
   {
    "duration": 9,
    "start_time": "2023-02-02T05:46:46.053Z"
   },
   {
    "duration": 10,
    "start_time": "2023-02-02T05:46:55.387Z"
   },
   {
    "duration": 7,
    "start_time": "2023-02-02T05:48:20.558Z"
   },
   {
    "duration": 8,
    "start_time": "2023-02-02T05:48:28.385Z"
   },
   {
    "duration": 39,
    "start_time": "2023-02-02T05:49:02.540Z"
   },
   {
    "duration": 41,
    "start_time": "2023-02-02T05:49:09.465Z"
   },
   {
    "duration": 89,
    "start_time": "2023-02-02T05:49:35.918Z"
   },
   {
    "duration": 13,
    "start_time": "2023-02-02T05:49:37.992Z"
   },
   {
    "duration": 5,
    "start_time": "2023-02-02T05:49:45.177Z"
   },
   {
    "duration": 429,
    "start_time": "2023-02-02T05:49:58.992Z"
   },
   {
    "duration": 171,
    "start_time": "2023-02-02T05:49:59.423Z"
   },
   {
    "duration": 16,
    "start_time": "2023-02-02T05:49:59.596Z"
   },
   {
    "duration": 32,
    "start_time": "2023-02-02T05:49:59.620Z"
   },
   {
    "duration": 3,
    "start_time": "2023-02-02T05:49:59.654Z"
   },
   {
    "duration": 7,
    "start_time": "2023-02-02T05:49:59.658Z"
   },
   {
    "duration": 14,
    "start_time": "2023-02-02T05:49:59.666Z"
   },
   {
    "duration": 15,
    "start_time": "2023-02-02T05:49:59.681Z"
   },
   {
    "duration": 27,
    "start_time": "2023-02-02T05:49:59.720Z"
   },
   {
    "duration": 20,
    "start_time": "2023-02-02T05:49:59.749Z"
   },
   {
    "duration": 27,
    "start_time": "2023-02-02T05:49:59.770Z"
   },
   {
    "duration": 74,
    "start_time": "2023-02-02T05:49:59.821Z"
   },
   {
    "duration": 95,
    "start_time": "2023-02-02T05:49:59.898Z"
   },
   {
    "duration": 75,
    "start_time": "2023-02-02T05:49:59.994Z"
   },
   {
    "duration": 56,
    "start_time": "2023-02-02T05:50:00.071Z"
   },
   {
    "duration": 2,
    "start_time": "2023-02-02T05:50:00.129Z"
   },
   {
    "duration": 6,
    "start_time": "2023-02-02T05:50:00.133Z"
   },
   {
    "duration": 15,
    "start_time": "2023-02-02T05:50:00.141Z"
   },
   {
    "duration": 20,
    "start_time": "2023-02-02T05:50:00.158Z"
   },
   {
    "duration": 12,
    "start_time": "2023-02-02T05:50:00.180Z"
   },
   {
    "duration": 35,
    "start_time": "2023-02-02T05:50:00.194Z"
   },
   {
    "duration": 9,
    "start_time": "2023-02-02T05:50:00.231Z"
   },
   {
    "duration": 22,
    "start_time": "2023-02-02T05:50:00.242Z"
   },
   {
    "duration": 23,
    "start_time": "2023-02-02T05:50:00.266Z"
   },
   {
    "duration": 17,
    "start_time": "2023-02-02T05:50:00.291Z"
   },
   {
    "duration": 14,
    "start_time": "2023-02-02T05:50:00.310Z"
   },
   {
    "duration": 10,
    "start_time": "2023-02-02T05:50:00.326Z"
   },
   {
    "duration": 15,
    "start_time": "2023-02-02T05:50:00.340Z"
   },
   {
    "duration": 9,
    "start_time": "2023-02-02T05:50:00.356Z"
   },
   {
    "duration": 70,
    "start_time": "2023-02-02T05:50:00.366Z"
   },
   {
    "duration": 0,
    "start_time": "2023-02-02T05:50:00.437Z"
   },
   {
    "duration": 0,
    "start_time": "2023-02-02T05:50:00.438Z"
   },
   {
    "duration": 0,
    "start_time": "2023-02-02T05:50:00.440Z"
   },
   {
    "duration": 0,
    "start_time": "2023-02-02T05:50:00.440Z"
   },
   {
    "duration": 0,
    "start_time": "2023-02-02T05:50:00.441Z"
   },
   {
    "duration": 0,
    "start_time": "2023-02-02T05:50:00.442Z"
   },
   {
    "duration": 0,
    "start_time": "2023-02-02T05:50:00.444Z"
   },
   {
    "duration": 0,
    "start_time": "2023-02-02T05:50:00.445Z"
   },
   {
    "duration": 12,
    "start_time": "2023-02-02T05:52:06.447Z"
   },
   {
    "duration": 20,
    "start_time": "2023-02-02T05:52:09.764Z"
   },
   {
    "duration": 14,
    "start_time": "2023-02-02T05:52:13.407Z"
   },
   {
    "duration": 11,
    "start_time": "2023-02-02T05:52:16.383Z"
   },
   {
    "duration": 11,
    "start_time": "2023-02-02T05:52:18.544Z"
   },
   {
    "duration": 43,
    "start_time": "2023-02-02T05:52:34.233Z"
   },
   {
    "duration": 328,
    "start_time": "2023-02-02T05:55:38.603Z"
   },
   {
    "duration": 12,
    "start_time": "2023-02-02T05:56:45.962Z"
   },
   {
    "duration": 4,
    "start_time": "2023-02-02T05:58:00.067Z"
   },
   {
    "duration": 35,
    "start_time": "2023-02-02T05:58:48.741Z"
   },
   {
    "duration": 12,
    "start_time": "2023-02-02T05:59:16.883Z"
   },
   {
    "duration": 4,
    "start_time": "2023-02-02T06:08:42.760Z"
   },
   {
    "duration": 23,
    "start_time": "2023-02-02T06:09:27.433Z"
   },
   {
    "duration": 16,
    "start_time": "2023-02-02T06:09:53.241Z"
   },
   {
    "duration": 17,
    "start_time": "2023-02-02T06:10:30.263Z"
   },
   {
    "duration": 23,
    "start_time": "2023-02-02T06:10:40.818Z"
   },
   {
    "duration": 24,
    "start_time": "2023-02-02T06:11:03.220Z"
   },
   {
    "duration": 20,
    "start_time": "2023-02-02T06:11:14.011Z"
   },
   {
    "duration": 14,
    "start_time": "2023-02-02T06:11:15.903Z"
   },
   {
    "duration": 70,
    "start_time": "2023-02-02T06:12:11.013Z"
   },
   {
    "duration": 13,
    "start_time": "2023-02-02T06:16:18.307Z"
   },
   {
    "duration": 12,
    "start_time": "2023-02-02T06:16:24.283Z"
   },
   {
    "duration": 9,
    "start_time": "2023-02-02T06:17:07.252Z"
   },
   {
    "duration": 33,
    "start_time": "2023-02-02T06:19:00.149Z"
   },
   {
    "duration": 20,
    "start_time": "2023-02-02T06:19:10.622Z"
   },
   {
    "duration": 12,
    "start_time": "2023-02-02T06:20:12.735Z"
   },
   {
    "duration": 16,
    "start_time": "2023-02-02T06:20:15.717Z"
   },
   {
    "duration": 27,
    "start_time": "2023-02-02T06:20:22.971Z"
   },
   {
    "duration": 22,
    "start_time": "2023-02-02T06:20:23.186Z"
   },
   {
    "duration": 13,
    "start_time": "2023-02-02T06:20:28.487Z"
   },
   {
    "duration": 85,
    "start_time": "2023-02-02T06:20:30.413Z"
   },
   {
    "duration": 15,
    "start_time": "2023-02-02T06:20:33.208Z"
   },
   {
    "duration": 6,
    "start_time": "2023-02-02T06:28:26.225Z"
   },
   {
    "duration": 1277,
    "start_time": "2023-02-02T06:29:50.384Z"
   },
   {
    "duration": 5,
    "start_time": "2023-02-02T06:31:35.411Z"
   },
   {
    "duration": 3,
    "start_time": "2023-02-02T06:31:37.051Z"
   },
   {
    "duration": 1208,
    "start_time": "2023-02-02T06:31:37.643Z"
   },
   {
    "duration": 1185,
    "start_time": "2023-02-02T06:31:43.720Z"
   },
   {
    "duration": 6,
    "start_time": "2023-02-02T06:47:28.671Z"
   },
   {
    "duration": 5,
    "start_time": "2023-02-02T06:47:31.521Z"
   },
   {
    "duration": 3,
    "start_time": "2023-02-02T06:47:33.137Z"
   },
   {
    "duration": 1271,
    "start_time": "2023-02-02T06:47:34.893Z"
   },
   {
    "duration": 5,
    "start_time": "2023-02-02T06:48:22.935Z"
   },
   {
    "duration": 1255,
    "start_time": "2023-02-02T06:48:24.271Z"
   },
   {
    "duration": 5,
    "start_time": "2023-02-02T06:49:00.551Z"
   },
   {
    "duration": 5,
    "start_time": "2023-02-02T06:49:57.612Z"
   },
   {
    "duration": 8,
    "start_time": "2023-02-02T06:50:14.289Z"
   },
   {
    "duration": 1222,
    "start_time": "2023-02-02T06:51:24.450Z"
   },
   {
    "duration": 1213,
    "start_time": "2023-02-02T06:51:30.883Z"
   },
   {
    "duration": 13,
    "start_time": "2023-02-02T06:51:36.355Z"
   },
   {
    "duration": 13,
    "start_time": "2023-02-02T06:52:32.779Z"
   },
   {
    "duration": 1232,
    "start_time": "2023-02-02T06:52:40.342Z"
   },
   {
    "duration": 1223,
    "start_time": "2023-02-02T06:53:08.174Z"
   },
   {
    "duration": 22,
    "start_time": "2023-02-02T06:53:19.235Z"
   },
   {
    "duration": 22,
    "start_time": "2023-02-02T06:53:22.089Z"
   },
   {
    "duration": 5,
    "start_time": "2023-02-02T06:53:30.245Z"
   },
   {
    "duration": 15,
    "start_time": "2023-02-02T06:53:32.621Z"
   },
   {
    "duration": 5,
    "start_time": "2023-02-02T06:53:45.873Z"
   },
   {
    "duration": 16,
    "start_time": "2023-02-02T06:53:47.855Z"
   },
   {
    "duration": 16,
    "start_time": "2023-02-02T06:55:12.930Z"
   },
   {
    "duration": 12,
    "start_time": "2023-02-02T06:55:14.148Z"
   },
   {
    "duration": 10,
    "start_time": "2023-02-02T06:55:15.522Z"
   },
   {
    "duration": 9,
    "start_time": "2023-02-02T06:55:16.407Z"
   },
   {
    "duration": 9,
    "start_time": "2023-02-02T06:55:19.866Z"
   },
   {
    "duration": 17,
    "start_time": "2023-02-02T06:55:21.870Z"
   },
   {
    "duration": 11,
    "start_time": "2023-02-02T06:55:22.753Z"
   },
   {
    "duration": 10,
    "start_time": "2023-02-02T06:55:23.170Z"
   },
   {
    "duration": 9,
    "start_time": "2023-02-02T06:55:23.502Z"
   },
   {
    "duration": 20,
    "start_time": "2023-02-02T06:55:50.012Z"
   },
   {
    "duration": 18,
    "start_time": "2023-02-02T06:56:04.243Z"
   },
   {
    "duration": 9,
    "start_time": "2023-02-02T06:56:22.186Z"
   },
   {
    "duration": 13,
    "start_time": "2023-02-02T06:56:35.740Z"
   },
   {
    "duration": 12,
    "start_time": "2023-02-02T06:56:49.332Z"
   },
   {
    "duration": 14,
    "start_time": "2023-02-02T06:56:51.442Z"
   },
   {
    "duration": 20,
    "start_time": "2023-02-02T06:56:58.681Z"
   },
   {
    "duration": 18,
    "start_time": "2023-02-02T06:57:10.422Z"
   },
   {
    "duration": 14,
    "start_time": "2023-02-02T06:57:13.347Z"
   },
   {
    "duration": 23,
    "start_time": "2023-02-02T06:57:15.636Z"
   },
   {
    "duration": 13,
    "start_time": "2023-02-02T06:57:17.803Z"
   },
   {
    "duration": 12,
    "start_time": "2023-02-02T06:58:14.652Z"
   },
   {
    "duration": 12,
    "start_time": "2023-02-02T06:58:30.928Z"
   },
   {
    "duration": 10,
    "start_time": "2023-02-02T06:59:24.607Z"
   },
   {
    "duration": 9,
    "start_time": "2023-02-02T06:59:29.783Z"
   },
   {
    "duration": 9,
    "start_time": "2023-02-02T06:59:38.270Z"
   },
   {
    "duration": 6,
    "start_time": "2023-02-02T06:59:40.452Z"
   },
   {
    "duration": 9,
    "start_time": "2023-02-02T06:59:59.726Z"
   },
   {
    "duration": 76,
    "start_time": "2023-02-02T07:36:55.592Z"
   },
   {
    "duration": 442,
    "start_time": "2023-02-02T07:37:03.080Z"
   },
   {
    "duration": 195,
    "start_time": "2023-02-02T07:37:03.525Z"
   },
   {
    "duration": 31,
    "start_time": "2023-02-02T07:37:03.724Z"
   },
   {
    "duration": 66,
    "start_time": "2023-02-02T07:37:03.759Z"
   },
   {
    "duration": 3,
    "start_time": "2023-02-02T07:37:03.828Z"
   },
   {
    "duration": 19,
    "start_time": "2023-02-02T07:37:03.833Z"
   },
   {
    "duration": 27,
    "start_time": "2023-02-02T07:37:03.854Z"
   },
   {
    "duration": 15,
    "start_time": "2023-02-02T07:37:03.883Z"
   },
   {
    "duration": 64,
    "start_time": "2023-02-02T07:37:03.901Z"
   },
   {
    "duration": 41,
    "start_time": "2023-02-02T07:37:03.967Z"
   },
   {
    "duration": 44,
    "start_time": "2023-02-02T07:37:04.011Z"
   },
   {
    "duration": 145,
    "start_time": "2023-02-02T07:37:04.057Z"
   },
   {
    "duration": 142,
    "start_time": "2023-02-02T07:37:04.205Z"
   },
   {
    "duration": 123,
    "start_time": "2023-02-02T07:37:04.352Z"
   },
   {
    "duration": 97,
    "start_time": "2023-02-02T07:37:04.478Z"
   },
   {
    "duration": 15,
    "start_time": "2023-02-02T07:37:04.577Z"
   },
   {
    "duration": 85,
    "start_time": "2023-02-02T07:37:04.596Z"
   },
   {
    "duration": 16,
    "start_time": "2023-02-02T07:37:04.683Z"
   },
   {
    "duration": 40,
    "start_time": "2023-02-02T07:37:04.702Z"
   },
   {
    "duration": 38,
    "start_time": "2023-02-02T07:37:04.745Z"
   },
   {
    "duration": 30,
    "start_time": "2023-02-02T07:37:04.786Z"
   },
   {
    "duration": 23,
    "start_time": "2023-02-02T07:37:04.819Z"
   },
   {
    "duration": 61,
    "start_time": "2023-02-02T07:37:04.847Z"
   },
   {
    "duration": 21,
    "start_time": "2023-02-02T07:37:04.911Z"
   },
   {
    "duration": 24,
    "start_time": "2023-02-02T07:37:04.934Z"
   },
   {
    "duration": 21,
    "start_time": "2023-02-02T07:37:04.960Z"
   },
   {
    "duration": 13,
    "start_time": "2023-02-02T07:37:04.983Z"
   },
   {
    "duration": 56,
    "start_time": "2023-02-02T07:37:04.998Z"
   },
   {
    "duration": 28,
    "start_time": "2023-02-02T07:37:05.056Z"
   },
   {
    "duration": 12,
    "start_time": "2023-02-02T07:37:05.087Z"
   },
   {
    "duration": 39,
    "start_time": "2023-02-02T07:37:05.101Z"
   },
   {
    "duration": 20,
    "start_time": "2023-02-02T07:37:05.142Z"
   },
   {
    "duration": 31,
    "start_time": "2023-02-02T07:37:05.164Z"
   },
   {
    "duration": 32,
    "start_time": "2023-02-02T07:37:05.197Z"
   },
   {
    "duration": 13,
    "start_time": "2023-02-02T07:37:05.232Z"
   },
   {
    "duration": 14,
    "start_time": "2023-02-02T07:37:05.248Z"
   },
   {
    "duration": 12,
    "start_time": "2023-02-02T07:37:05.264Z"
   },
   {
    "duration": 6,
    "start_time": "2023-02-02T07:37:05.279Z"
   },
   {
    "duration": 85,
    "start_time": "2023-02-02T07:38:56.088Z"
   },
   {
    "duration": 400,
    "start_time": "2023-02-02T07:39:11.464Z"
   },
   {
    "duration": 190,
    "start_time": "2023-02-02T07:39:11.866Z"
   },
   {
    "duration": 29,
    "start_time": "2023-02-02T07:39:12.058Z"
   },
   {
    "duration": 62,
    "start_time": "2023-02-02T07:39:12.089Z"
   },
   {
    "duration": 3,
    "start_time": "2023-02-02T07:39:12.154Z"
   },
   {
    "duration": 8,
    "start_time": "2023-02-02T07:39:12.159Z"
   },
   {
    "duration": 17,
    "start_time": "2023-02-02T07:39:12.169Z"
   },
   {
    "duration": 33,
    "start_time": "2023-02-02T07:39:12.189Z"
   },
   {
    "duration": 53,
    "start_time": "2023-02-02T07:39:12.224Z"
   },
   {
    "duration": 53,
    "start_time": "2023-02-02T07:39:12.279Z"
   },
   {
    "duration": 50,
    "start_time": "2023-02-02T07:39:12.335Z"
   },
   {
    "duration": 115,
    "start_time": "2023-02-02T07:39:12.388Z"
   },
   {
    "duration": 124,
    "start_time": "2023-02-02T07:39:12.505Z"
   },
   {
    "duration": 69,
    "start_time": "2023-02-02T07:39:12.632Z"
   },
   {
    "duration": 76,
    "start_time": "2023-02-02T07:39:12.703Z"
   },
   {
    "duration": 13,
    "start_time": "2023-02-02T07:39:12.781Z"
   },
   {
    "duration": 96,
    "start_time": "2023-02-02T07:39:12.797Z"
   },
   {
    "duration": 29,
    "start_time": "2023-02-02T07:39:12.895Z"
   },
   {
    "duration": 14,
    "start_time": "2023-02-02T07:39:12.926Z"
   },
   {
    "duration": 5,
    "start_time": "2023-02-02T07:39:12.942Z"
   },
   {
    "duration": 35,
    "start_time": "2023-02-02T07:39:12.949Z"
   },
   {
    "duration": 44,
    "start_time": "2023-02-02T07:39:12.987Z"
   },
   {
    "duration": 16,
    "start_time": "2023-02-02T07:39:13.034Z"
   },
   {
    "duration": 21,
    "start_time": "2023-02-02T07:39:13.053Z"
   },
   {
    "duration": 22,
    "start_time": "2023-02-02T07:39:13.077Z"
   },
   {
    "duration": 18,
    "start_time": "2023-02-02T07:39:13.122Z"
   },
   {
    "duration": 13,
    "start_time": "2023-02-02T07:39:13.142Z"
   },
   {
    "duration": 17,
    "start_time": "2023-02-02T07:39:13.157Z"
   },
   {
    "duration": 13,
    "start_time": "2023-02-02T07:39:13.177Z"
   },
   {
    "duration": 7,
    "start_time": "2023-02-02T07:39:13.221Z"
   },
   {
    "duration": 29,
    "start_time": "2023-02-02T07:39:13.230Z"
   },
   {
    "duration": 14,
    "start_time": "2023-02-02T07:39:13.261Z"
   },
   {
    "duration": 57,
    "start_time": "2023-02-02T07:39:13.277Z"
   },
   {
    "duration": 19,
    "start_time": "2023-02-02T07:39:13.336Z"
   },
   {
    "duration": 14,
    "start_time": "2023-02-02T07:39:13.358Z"
   },
   {
    "duration": 10,
    "start_time": "2023-02-02T07:39:13.374Z"
   },
   {
    "duration": 37,
    "start_time": "2023-02-02T07:39:13.387Z"
   },
   {
    "duration": 23,
    "start_time": "2023-02-02T07:39:13.426Z"
   },
   {
    "duration": 84,
    "start_time": "2023-02-02T07:39:40.911Z"
   },
   {
    "duration": 450,
    "start_time": "2023-02-02T07:39:47.692Z"
   },
   {
    "duration": 228,
    "start_time": "2023-02-02T07:39:48.145Z"
   },
   {
    "duration": 25,
    "start_time": "2023-02-02T07:39:48.376Z"
   },
   {
    "duration": 48,
    "start_time": "2023-02-02T07:39:48.403Z"
   },
   {
    "duration": 4,
    "start_time": "2023-02-02T07:39:48.454Z"
   },
   {
    "duration": 12,
    "start_time": "2023-02-02T07:39:48.460Z"
   },
   {
    "duration": 17,
    "start_time": "2023-02-02T07:39:48.474Z"
   },
   {
    "duration": 6,
    "start_time": "2023-02-02T07:39:48.521Z"
   },
   {
    "duration": 37,
    "start_time": "2023-02-02T07:39:48.529Z"
   },
   {
    "duration": 26,
    "start_time": "2023-02-02T07:39:48.568Z"
   },
   {
    "duration": 49,
    "start_time": "2023-02-02T07:39:48.597Z"
   },
   {
    "duration": 93,
    "start_time": "2023-02-02T07:39:48.648Z"
   },
   {
    "duration": 86,
    "start_time": "2023-02-02T07:39:48.743Z"
   },
   {
    "duration": 72,
    "start_time": "2023-02-02T07:39:48.833Z"
   },
   {
    "duration": 45,
    "start_time": "2023-02-02T07:39:48.920Z"
   },
   {
    "duration": 28,
    "start_time": "2023-02-02T07:39:48.966Z"
   },
   {
    "duration": 63,
    "start_time": "2023-02-02T07:39:48.996Z"
   },
   {
    "duration": 14,
    "start_time": "2023-02-02T07:39:49.061Z"
   },
   {
    "duration": 44,
    "start_time": "2023-02-02T07:39:49.078Z"
   },
   {
    "duration": 4,
    "start_time": "2023-02-02T07:39:49.125Z"
   },
   {
    "duration": 24,
    "start_time": "2023-02-02T07:39:49.131Z"
   },
   {
    "duration": 17,
    "start_time": "2023-02-02T07:39:49.157Z"
   },
   {
    "duration": 16,
    "start_time": "2023-02-02T07:39:49.176Z"
   },
   {
    "duration": 41,
    "start_time": "2023-02-02T07:39:49.194Z"
   },
   {
    "duration": 22,
    "start_time": "2023-02-02T07:39:49.237Z"
   },
   {
    "duration": 18,
    "start_time": "2023-02-02T07:39:49.262Z"
   },
   {
    "duration": 40,
    "start_time": "2023-02-02T07:39:49.282Z"
   },
   {
    "duration": 12,
    "start_time": "2023-02-02T07:39:49.325Z"
   },
   {
    "duration": 10,
    "start_time": "2023-02-02T07:39:49.339Z"
   },
   {
    "duration": 7,
    "start_time": "2023-02-02T07:39:49.351Z"
   },
   {
    "duration": 24,
    "start_time": "2023-02-02T07:39:49.360Z"
   },
   {
    "duration": 48,
    "start_time": "2023-02-02T07:39:49.386Z"
   },
   {
    "duration": 32,
    "start_time": "2023-02-02T07:39:49.436Z"
   },
   {
    "duration": 20,
    "start_time": "2023-02-02T07:39:49.470Z"
   },
   {
    "duration": 15,
    "start_time": "2023-02-02T07:39:49.521Z"
   },
   {
    "duration": 7,
    "start_time": "2023-02-02T07:39:49.539Z"
   },
   {
    "duration": 12,
    "start_time": "2023-02-02T07:39:49.548Z"
   },
   {
    "duration": 5,
    "start_time": "2023-02-02T07:39:49.562Z"
   },
   {
    "duration": 4,
    "start_time": "2023-02-02T07:41:50.505Z"
   },
   {
    "duration": 463,
    "start_time": "2023-02-02T07:42:21.746Z"
   },
   {
    "duration": 195,
    "start_time": "2023-02-02T07:42:22.212Z"
   },
   {
    "duration": 22,
    "start_time": "2023-02-02T07:42:22.408Z"
   },
   {
    "duration": 35,
    "start_time": "2023-02-02T07:42:22.432Z"
   },
   {
    "duration": 2,
    "start_time": "2023-02-02T07:42:22.469Z"
   },
   {
    "duration": 10,
    "start_time": "2023-02-02T07:42:22.473Z"
   },
   {
    "duration": 39,
    "start_time": "2023-02-02T07:42:22.485Z"
   },
   {
    "duration": 8,
    "start_time": "2023-02-02T07:42:22.526Z"
   },
   {
    "duration": 29,
    "start_time": "2023-02-02T07:42:22.536Z"
   },
   {
    "duration": 21,
    "start_time": "2023-02-02T07:42:22.568Z"
   },
   {
    "duration": 49,
    "start_time": "2023-02-02T07:42:22.591Z"
   },
   {
    "duration": 92,
    "start_time": "2023-02-02T07:42:22.642Z"
   },
   {
    "duration": 143,
    "start_time": "2023-02-02T07:42:22.736Z"
   },
   {
    "duration": 92,
    "start_time": "2023-02-02T07:42:22.882Z"
   },
   {
    "duration": 51,
    "start_time": "2023-02-02T07:42:22.976Z"
   },
   {
    "duration": 12,
    "start_time": "2023-02-02T07:42:23.029Z"
   },
   {
    "duration": 55,
    "start_time": "2023-02-02T07:42:23.043Z"
   },
   {
    "duration": 15,
    "start_time": "2023-02-02T07:42:23.100Z"
   },
   {
    "duration": 16,
    "start_time": "2023-02-02T07:42:23.118Z"
   },
   {
    "duration": 4,
    "start_time": "2023-02-02T07:42:23.137Z"
   },
   {
    "duration": 35,
    "start_time": "2023-02-02T07:42:23.144Z"
   },
   {
    "duration": 16,
    "start_time": "2023-02-02T07:42:23.182Z"
   },
   {
    "duration": 21,
    "start_time": "2023-02-02T07:42:23.200Z"
   },
   {
    "duration": 17,
    "start_time": "2023-02-02T07:42:23.223Z"
   },
   {
    "duration": 20,
    "start_time": "2023-02-02T07:42:23.242Z"
   },
   {
    "duration": 29,
    "start_time": "2023-02-02T07:42:23.264Z"
   },
   {
    "duration": 34,
    "start_time": "2023-02-02T07:42:23.295Z"
   },
   {
    "duration": 18,
    "start_time": "2023-02-02T07:42:23.334Z"
   },
   {
    "duration": 12,
    "start_time": "2023-02-02T07:42:23.355Z"
   },
   {
    "duration": 4,
    "start_time": "2023-02-02T07:42:23.369Z"
   },
   {
    "duration": 21,
    "start_time": "2023-02-02T07:42:23.420Z"
   },
   {
    "duration": 16,
    "start_time": "2023-02-02T07:42:23.443Z"
   },
   {
    "duration": 89,
    "start_time": "2023-02-02T07:42:23.462Z"
   },
   {
    "duration": 14,
    "start_time": "2023-02-02T07:42:23.554Z"
   },
   {
    "duration": 10,
    "start_time": "2023-02-02T07:42:23.570Z"
   },
   {
    "duration": 29,
    "start_time": "2023-02-02T07:42:23.582Z"
   },
   {
    "duration": 32,
    "start_time": "2023-02-02T07:42:23.613Z"
   },
   {
    "duration": 8,
    "start_time": "2023-02-02T07:42:23.647Z"
   }
  ],
  "colab": {
   "collapsed_sections": [
    "E0vqbgi9ay0H",
    "VUC88oWjTJw2"
   ],
   "provenance": []
  },
  "kernelspec": {
   "display_name": "Python 3 (ipykernel)",
   "language": "python",
   "name": "python3"
  },
  "language_info": {
   "codemirror_mode": {
    "name": "ipython",
    "version": 3
   },
   "file_extension": ".py",
   "mimetype": "text/x-python",
   "name": "python",
   "nbconvert_exporter": "python",
   "pygments_lexer": "ipython3",
   "version": "3.10.2"
  },
  "toc": {
   "base_numbering": 1,
   "nav_menu": {
    "height": "215px",
    "width": "403px"
   },
   "number_sections": true,
   "sideBar": true,
   "skip_h1_title": true,
   "title_cell": "Table of Contents",
   "title_sidebar": "Contents",
   "toc_cell": false,
   "toc_position": {
    "height": "calc(100% - 180px)",
    "left": "10px",
    "top": "150px",
    "width": "285.825px"
   },
   "toc_section_display": true,
   "toc_window_display": false
  }
 },
 "nbformat": 4,
 "nbformat_minor": 1
}
