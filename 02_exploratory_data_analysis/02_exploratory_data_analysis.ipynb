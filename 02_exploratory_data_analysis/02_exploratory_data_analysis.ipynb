{
 "cells": [
  {
   "cell_type": "markdown",
   "metadata": {},
   "source": [
    "# Исследование объявлений о продаже квартир\n",
    "\n",
    "В вашем распоряжении данные сервиса Яндекс.Недвижимость — архив объявлений о продаже квартир в Санкт-Петербурге и соседних населённых пунктов за несколько лет. Нужно научиться определять рыночную стоимость объектов недвижимости. Ваша задача — установить параметры. Это позволит построить автоматизированную систему: она отследит аномалии и мошенническую деятельность. \n",
    "\n",
    "По каждой квартире на продажу доступны два вида данных. Первые вписаны пользователем, вторые — получены автоматически на основе картографических данных. Например, расстояние до центра, аэропорта, ближайшего парка и водоёма. "
   ]
  },
  {
   "cell_type": "markdown",
   "metadata": {},
   "source": [
    "### Откройте файл с данными и изучите общую информацию. "
   ]
  },
  {
   "cell_type": "code",
   "execution_count": 7,
   "metadata": {},
   "outputs": [],
   "source": [
    "import pandas as pd\n",
    "import matplotlib.pyplot as plt\n",
    "import warnings\n",
    "\n",
    "warnings.filterwarnings('ignore')"
   ]
  },
  {
   "cell_type": "code",
   "execution_count": 8,
   "metadata": {
    "scrolled": true
   },
   "outputs": [
    {
     "data": {
      "text/html": [
       "<div>\n",
       "<style scoped>\n",
       "    .dataframe tbody tr th:only-of-type {\n",
       "        vertical-align: middle;\n",
       "    }\n",
       "\n",
       "    .dataframe tbody tr th {\n",
       "        vertical-align: top;\n",
       "    }\n",
       "\n",
       "    .dataframe thead th {\n",
       "        text-align: right;\n",
       "    }\n",
       "</style>\n",
       "<table border=\"1\" class=\"dataframe\">\n",
       "  <thead>\n",
       "    <tr style=\"text-align: right;\">\n",
       "      <th></th>\n",
       "      <th>total_images</th>\n",
       "      <th>last_price</th>\n",
       "      <th>total_area</th>\n",
       "      <th>first_day_exposition</th>\n",
       "      <th>rooms</th>\n",
       "      <th>ceiling_height</th>\n",
       "      <th>floors_total</th>\n",
       "      <th>living_area</th>\n",
       "      <th>floor</th>\n",
       "      <th>is_apartment</th>\n",
       "      <th>studio</th>\n",
       "      <th>open_plan</th>\n",
       "      <th>kitchen_area</th>\n",
       "      <th>balcony</th>\n",
       "      <th>locality_name</th>\n",
       "      <th>airports_nearest</th>\n",
       "      <th>cityCenters_nearest</th>\n",
       "      <th>parks_around3000</th>\n",
       "      <th>parks_nearest</th>\n",
       "      <th>ponds_around3000</th>\n",
       "      <th>ponds_nearest</th>\n",
       "      <th>days_exposition</th>\n",
       "    </tr>\n",
       "  </thead>\n",
       "  <tbody>\n",
       "    <tr>\n",
       "      <th>0</th>\n",
       "      <td>20</td>\n",
       "      <td>13000000.0</td>\n",
       "      <td>108.0</td>\n",
       "      <td>2019-03-07T00:00:00</td>\n",
       "      <td>3</td>\n",
       "      <td>2.70</td>\n",
       "      <td>16.0</td>\n",
       "      <td>51.0</td>\n",
       "      <td>8</td>\n",
       "      <td>NaN</td>\n",
       "      <td>False</td>\n",
       "      <td>False</td>\n",
       "      <td>25.0</td>\n",
       "      <td>NaN</td>\n",
       "      <td>Санкт-Петербург</td>\n",
       "      <td>18863.0</td>\n",
       "      <td>16028.0</td>\n",
       "      <td>1.0</td>\n",
       "      <td>482.0</td>\n",
       "      <td>2.0</td>\n",
       "      <td>755.0</td>\n",
       "      <td>NaN</td>\n",
       "    </tr>\n",
       "    <tr>\n",
       "      <th>1</th>\n",
       "      <td>7</td>\n",
       "      <td>3350000.0</td>\n",
       "      <td>40.4</td>\n",
       "      <td>2018-12-04T00:00:00</td>\n",
       "      <td>1</td>\n",
       "      <td>NaN</td>\n",
       "      <td>11.0</td>\n",
       "      <td>18.6</td>\n",
       "      <td>1</td>\n",
       "      <td>NaN</td>\n",
       "      <td>False</td>\n",
       "      <td>False</td>\n",
       "      <td>11.0</td>\n",
       "      <td>2.0</td>\n",
       "      <td>посёлок Шушары</td>\n",
       "      <td>12817.0</td>\n",
       "      <td>18603.0</td>\n",
       "      <td>0.0</td>\n",
       "      <td>NaN</td>\n",
       "      <td>0.0</td>\n",
       "      <td>NaN</td>\n",
       "      <td>81.0</td>\n",
       "    </tr>\n",
       "    <tr>\n",
       "      <th>2</th>\n",
       "      <td>10</td>\n",
       "      <td>5196000.0</td>\n",
       "      <td>56.0</td>\n",
       "      <td>2015-08-20T00:00:00</td>\n",
       "      <td>2</td>\n",
       "      <td>NaN</td>\n",
       "      <td>5.0</td>\n",
       "      <td>34.3</td>\n",
       "      <td>4</td>\n",
       "      <td>NaN</td>\n",
       "      <td>False</td>\n",
       "      <td>False</td>\n",
       "      <td>8.3</td>\n",
       "      <td>0.0</td>\n",
       "      <td>Санкт-Петербург</td>\n",
       "      <td>21741.0</td>\n",
       "      <td>13933.0</td>\n",
       "      <td>1.0</td>\n",
       "      <td>90.0</td>\n",
       "      <td>2.0</td>\n",
       "      <td>574.0</td>\n",
       "      <td>558.0</td>\n",
       "    </tr>\n",
       "    <tr>\n",
       "      <th>3</th>\n",
       "      <td>0</td>\n",
       "      <td>64900000.0</td>\n",
       "      <td>159.0</td>\n",
       "      <td>2015-07-24T00:00:00</td>\n",
       "      <td>3</td>\n",
       "      <td>NaN</td>\n",
       "      <td>14.0</td>\n",
       "      <td>NaN</td>\n",
       "      <td>9</td>\n",
       "      <td>NaN</td>\n",
       "      <td>False</td>\n",
       "      <td>False</td>\n",
       "      <td>NaN</td>\n",
       "      <td>0.0</td>\n",
       "      <td>Санкт-Петербург</td>\n",
       "      <td>28098.0</td>\n",
       "      <td>6800.0</td>\n",
       "      <td>2.0</td>\n",
       "      <td>84.0</td>\n",
       "      <td>3.0</td>\n",
       "      <td>234.0</td>\n",
       "      <td>424.0</td>\n",
       "    </tr>\n",
       "    <tr>\n",
       "      <th>4</th>\n",
       "      <td>2</td>\n",
       "      <td>10000000.0</td>\n",
       "      <td>100.0</td>\n",
       "      <td>2018-06-19T00:00:00</td>\n",
       "      <td>2</td>\n",
       "      <td>3.03</td>\n",
       "      <td>14.0</td>\n",
       "      <td>32.0</td>\n",
       "      <td>13</td>\n",
       "      <td>NaN</td>\n",
       "      <td>False</td>\n",
       "      <td>False</td>\n",
       "      <td>41.0</td>\n",
       "      <td>NaN</td>\n",
       "      <td>Санкт-Петербург</td>\n",
       "      <td>31856.0</td>\n",
       "      <td>8098.0</td>\n",
       "      <td>2.0</td>\n",
       "      <td>112.0</td>\n",
       "      <td>1.0</td>\n",
       "      <td>48.0</td>\n",
       "      <td>121.0</td>\n",
       "    </tr>\n",
       "  </tbody>\n",
       "</table>\n",
       "</div>"
      ],
      "text/plain": [
       "   total_images  last_price  total_area first_day_exposition  rooms  \\\n",
       "0            20  13000000.0       108.0  2019-03-07T00:00:00      3   \n",
       "1             7   3350000.0        40.4  2018-12-04T00:00:00      1   \n",
       "2            10   5196000.0        56.0  2015-08-20T00:00:00      2   \n",
       "3             0  64900000.0       159.0  2015-07-24T00:00:00      3   \n",
       "4             2  10000000.0       100.0  2018-06-19T00:00:00      2   \n",
       "\n",
       "   ceiling_height  floors_total  living_area  floor is_apartment  studio  \\\n",
       "0            2.70          16.0         51.0      8          NaN   False   \n",
       "1             NaN          11.0         18.6      1          NaN   False   \n",
       "2             NaN           5.0         34.3      4          NaN   False   \n",
       "3             NaN          14.0          NaN      9          NaN   False   \n",
       "4            3.03          14.0         32.0     13          NaN   False   \n",
       "\n",
       "   open_plan  kitchen_area  balcony    locality_name  airports_nearest  \\\n",
       "0      False          25.0      NaN  Санкт-Петербург           18863.0   \n",
       "1      False          11.0      2.0   посёлок Шушары           12817.0   \n",
       "2      False           8.3      0.0  Санкт-Петербург           21741.0   \n",
       "3      False           NaN      0.0  Санкт-Петербург           28098.0   \n",
       "4      False          41.0      NaN  Санкт-Петербург           31856.0   \n",
       "\n",
       "   cityCenters_nearest  parks_around3000  parks_nearest  ponds_around3000  \\\n",
       "0              16028.0               1.0          482.0               2.0   \n",
       "1              18603.0               0.0            NaN               0.0   \n",
       "2              13933.0               1.0           90.0               2.0   \n",
       "3               6800.0               2.0           84.0               3.0   \n",
       "4               8098.0               2.0          112.0               1.0   \n",
       "\n",
       "   ponds_nearest  days_exposition  \n",
       "0          755.0              NaN  \n",
       "1            NaN             81.0  \n",
       "2          574.0            558.0  \n",
       "3          234.0            424.0  \n",
       "4           48.0            121.0  "
      ]
     },
     "execution_count": 8,
     "metadata": {},
     "output_type": "execute_result"
    }
   ],
   "source": [
    "try:\n",
    "    data = pd.read_csv('/datasets/real_estate_data.csv', '\\t')\n",
    "except:\n",
    "    data = pd.read_csv('real_estate_data.csv', '\\t')\n",
    "pd.set_option('display.max_columns', None)\n",
    "data.head() "
   ]
  },
  {
   "cell_type": "code",
   "execution_count": 2,
   "metadata": {},
   "outputs": [
    {
     "name": "stdout",
     "output_type": "stream",
     "text": [
      "<class 'pandas.core.frame.DataFrame'>\n",
      "RangeIndex: 23699 entries, 0 to 23698\n",
      "Data columns (total 22 columns):\n",
      " #   Column                Non-Null Count  Dtype  \n",
      "---  ------                --------------  -----  \n",
      " 0   total_images          23699 non-null  int64  \n",
      " 1   last_price            23699 non-null  float64\n",
      " 2   total_area            23699 non-null  float64\n",
      " 3   first_day_exposition  23699 non-null  object \n",
      " 4   rooms                 23699 non-null  int64  \n",
      " 5   ceiling_height        14504 non-null  float64\n",
      " 6   floors_total          23613 non-null  float64\n",
      " 7   living_area           21796 non-null  float64\n",
      " 8   floor                 23699 non-null  int64  \n",
      " 9   is_apartment          2775 non-null   object \n",
      " 10  studio                23699 non-null  bool   \n",
      " 11  open_plan             23699 non-null  bool   \n",
      " 12  kitchen_area          21421 non-null  float64\n",
      " 13  balcony               12180 non-null  float64\n",
      " 14  locality_name         23650 non-null  object \n",
      " 15  airports_nearest      18157 non-null  float64\n",
      " 16  cityCenters_nearest   18180 non-null  float64\n",
      " 17  parks_around3000      18181 non-null  float64\n",
      " 18  parks_nearest         8079 non-null   float64\n",
      " 19  ponds_around3000      18181 non-null  float64\n",
      " 20  ponds_nearest         9110 non-null   float64\n",
      " 21  days_exposition       20518 non-null  float64\n",
      "dtypes: bool(2), float64(14), int64(3), object(3)\n",
      "memory usage: 3.7+ MB\n"
     ]
    }
   ],
   "source": [
    "data.info()"
   ]
  },
  {
   "cell_type": "code",
   "execution_count": 3,
   "metadata": {},
   "outputs": [],
   "source": [
    "data = data.rename(columns={'cityCenters_nearest' : 'city_centers_nearest', \n",
    "                            'parks_around3000':'parks_around_three_km',\n",
    "                            'ponds_around3000':'ponds_around_three_km'})"
   ]
  },
  {
   "cell_type": "code",
   "execution_count": 4,
   "metadata": {},
   "outputs": [
    {
     "data": {
      "image/png": "[encoded data removed]",
      "text/plain": [
       "<Figure size 1080x1440 with 20 Axes>"
      ]
     },
     "metadata": {
      "needs_background": "light"
     },
     "output_type": "display_data"
    }
   ],
   "source": [
    "data.hist(figsize=(15,20));"
   ]
  },
  {
   "cell_type": "markdown",
   "metadata": {},
   "source": [
    "**В данных имеется 23699 объекта**\n",
    "<br>**~Из основной информации видно, что есть проблемы с большим количеством пропусков. Из 22 фичей, только в 8 нет пропусков.**\n",
    "<br>**~Так же есть не оптимизированные типы данных и типы данных, которые стоит изменить (прим. is_apartment)**\n",
    "<br>**~Если посмотреть на них с высока можно понять, что тут 1 временной тип данных(first_day_exposition) и 4 категориальных(locality_name, open_plan, studio, is_apartment), все остальные количественные**\n",
    "<br>**~Так же по графикам видно, что есть резкие перепады, что говорит, о том, что есть аномалии и редкие значчения, которые не помогут проанализировать картину в целом**"
   ]
  },
  {
   "cell_type": "markdown",
   "metadata": {},
   "source": [
    "### Предобработка данных"
   ]
  },
  {
   "cell_type": "markdown",
   "metadata": {},
   "source": [
    "#### Поиск пропущенных значений и их обработка"
   ]
  },
  {
   "cell_type": "code",
   "execution_count": 5,
   "metadata": {},
   "outputs": [
    {
     "data": {
      "text/plain": [
       "total_images                 0\n",
       "last_price                   0\n",
       "total_area                   0\n",
       "first_day_exposition         0\n",
       "rooms                        0\n",
       "ceiling_height            9195\n",
       "floors_total                86\n",
       "living_area               1903\n",
       "floor                        0\n",
       "is_apartment             20924\n",
       "studio                       0\n",
       "open_plan                    0\n",
       "kitchen_area              2278\n",
       "balcony                  11519\n",
       "locality_name               49\n",
       "airports_nearest          5542\n",
       "city_centers_nearest      5519\n",
       "parks_around_three_km     5518\n",
       "parks_nearest            15620\n",
       "ponds_around_three_km     5518\n",
       "ponds_nearest            14589\n",
       "days_exposition           3181\n",
       "dtype: int64"
      ]
     },
     "execution_count": 5,
     "metadata": {},
     "output_type": "execute_result"
    }
   ],
   "source": [
    "data.isna().sum()"
   ]
  },
  {
   "cell_type": "markdown",
   "metadata": {},
   "source": [
    "**Обрабатываем пропуски. (Если бы были типовые серии домов, то можно было бы намного больше пропусков заменить)**\n",
    "<br>1) ceiling_height - высоту потолков изменим на медиану\n",
    "<br>2) floors_total - с количеством этажей тоже не обмануть\n",
    "<br>3) living_area - живая площадь, с ней тоже ничего не поделать\n",
    "<br>4) is_apartment - апартаменты ли? можно предположить, что пустоты тоже False, раз не указаны\n",
    "<br>5) kitchen_area - площадь кухни, как и жилая площадь для нас остается загадкой\n",
    "<br>6) balcony - балконы, как и апарты сделаем их отсутствие, раз не указаны (хотя кто их знает, вдруг там лоджии)\n",
    "<br>7) locality_name - населенный пункт вообще не угадать\n",
    "<br>8) airports_nearest - ближайший аэропорт, без адреса и не узнать, не трогаем\n",
    "<br>9) city_centers_nearest - расстояние до центра города, без адреса и не узнать, не трогаем\n",
    "<br>10) parks_around_three_km - парк в радиусе 3 км, без адреса и не узнать, не трогаем\n",
    "<br>11) parks_nearest - ближайший парк, без адреса и не узнать, не трогаем\n",
    "<br>12) ponds_around_three_km - водоемы в радиусе 3 км, без адреса и не узнать, не трогаем\n",
    "<br>13) ponds_nearest - ближайший водоем, без адреса и не узнать, не трогаем\n",
    "<br>14) days_exposition - дни в работе, без информации с ИС не узнать"
   ]
  },
  {
   "cell_type": "code",
   "execution_count": 6,
   "metadata": {},
   "outputs": [],
   "source": [
    "# заполним пропуски \"is_apartment\"\n",
    "data['is_apartment'] = data['is_apartment'].fillna(False)"
   ]
  },
  {
   "cell_type": "code",
   "execution_count": 7,
   "metadata": {},
   "outputs": [],
   "source": [
    "# заполним пропуски \"balcony\"\n",
    "data['balcony'] = data['balcony'].fillna(0)"
   ]
  },
  {
   "cell_type": "code",
   "execution_count": 8,
   "metadata": {},
   "outputs": [],
   "source": [
    "# заполним пропуски \"ceiling_height\"\n",
    "data['ceiling_height'] = data['ceiling_height'].fillna(data['ceiling_height'].median())"
   ]
  },
  {
   "cell_type": "markdown",
   "metadata": {},
   "source": [
    "**Есть пара фичей, которые имеют мало пропусков, поэтому, как у врачей, если убрать данных не более 5%, то на общую температуру в палате особо роли не сыграет**"
   ]
  },
  {
   "cell_type": "code",
   "execution_count": 9,
   "metadata": {},
   "outputs": [
    {
     "data": {
      "text/plain": [
       "0.5696442887885564"
      ]
     },
     "execution_count": 9,
     "metadata": {},
     "output_type": "execute_result"
    }
   ],
   "source": [
    "# Грубо проверим, а не превысим ли мы 5%, делая вид, что пропуски только в уникальных строках\n",
    "(data['floors_total'].isna().sum() + data['locality_name'].isna().sum())  / data.shape[0] * 100"
   ]
  },
  {
   "cell_type": "markdown",
   "metadata": {},
   "source": [
    "**Похоже на то, что можно попрощаться с этими строками**"
   ]
  },
  {
   "cell_type": "code",
   "execution_count": 10,
   "metadata": {},
   "outputs": [],
   "source": [
    "# Удаляем строки, где мало пропусков\n",
    "data = data.dropna(subset=['floors_total', 'locality_name'])"
   ]
  },
  {
   "cell_type": "code",
   "execution_count": 11,
   "metadata": {},
   "outputs": [
    {
     "name": "stdout",
     "output_type": "stream",
     "text": [
      "<class 'pandas.core.frame.DataFrame'>\n",
      "Int64Index: 23565 entries, 0 to 23698\n",
      "Data columns (total 22 columns):\n",
      " #   Column                 Non-Null Count  Dtype  \n",
      "---  ------                 --------------  -----  \n",
      " 0   total_images           23565 non-null  int64  \n",
      " 1   last_price             23565 non-null  float64\n",
      " 2   total_area             23565 non-null  float64\n",
      " 3   first_day_exposition   23565 non-null  object \n",
      " 4   rooms                  23565 non-null  int64  \n",
      " 5   ceiling_height         23565 non-null  float64\n",
      " 6   floors_total           23565 non-null  float64\n",
      " 7   living_area            21700 non-null  float64\n",
      " 8   floor                  23565 non-null  int64  \n",
      " 9   is_apartment           23565 non-null  bool   \n",
      " 10  studio                 23565 non-null  bool   \n",
      " 11  open_plan              23565 non-null  bool   \n",
      " 12  kitchen_area           21343 non-null  float64\n",
      " 13  balcony                23565 non-null  float64\n",
      " 14  locality_name          23565 non-null  object \n",
      " 15  airports_nearest       18041 non-null  float64\n",
      " 16  city_centers_nearest   18064 non-null  float64\n",
      " 17  parks_around_three_km  18065 non-null  float64\n",
      " 18  parks_nearest          8030 non-null   float64\n",
      " 19  ponds_around_three_km  18065 non-null  float64\n",
      " 20  ponds_nearest          9036 non-null   float64\n",
      " 21  days_exposition        20394 non-null  float64\n",
      "dtypes: bool(3), float64(14), int64(3), object(2)\n",
      "memory usage: 3.7+ MB\n"
     ]
    }
   ],
   "source": [
    "# Для наглядности еще раз выведем info\n",
    "data.info()\n",
    "d_memory = data.memory_usage().sum()"
   ]
  },
  {
   "cell_type": "markdown",
   "metadata": {},
   "source": [
    "#### Обработка типов данных"
   ]
  },
  {
   "cell_type": "markdown",
   "metadata": {},
   "source": [
    "**Преобразуем все типы данных, которые нам не нравятся**\n",
    "<br>**В некоторых данных понижу разряд, для повышения скорости обработки данных, если данных станет гораздо больше**"
   ]
  },
  {
   "cell_type": "code",
   "execution_count": 12,
   "metadata": {},
   "outputs": [
    {
     "name": "stdout",
     "output_type": "stream",
     "text": [
      "<class 'pandas.core.frame.DataFrame'>\n",
      "Int64Index: 23565 entries, 0 to 23698\n",
      "Data columns (total 22 columns):\n",
      " #   Column                 Non-Null Count  Dtype         \n",
      "---  ------                 --------------  -----         \n",
      " 0   total_images           23565 non-null  uint8         \n",
      " 1   last_price             23565 non-null  uint32        \n",
      " 2   total_area             23565 non-null  float32       \n",
      " 3   first_day_exposition   23565 non-null  datetime64[ns]\n",
      " 4   rooms                  23565 non-null  uint8         \n",
      " 5   ceiling_height         23565 non-null  float32       \n",
      " 6   floors_total           23565 non-null  uint8         \n",
      " 7   living_area            21700 non-null  float32       \n",
      " 8   floor                  23565 non-null  uint8         \n",
      " 9   is_apartment           23565 non-null  bool          \n",
      " 10  studio                 23565 non-null  bool          \n",
      " 11  open_plan              23565 non-null  bool          \n",
      " 12  kitchen_area           21343 non-null  float32       \n",
      " 13  balcony                23565 non-null  uint8         \n",
      " 14  locality_name          23565 non-null  object        \n",
      " 15  airports_nearest       18041 non-null  float32       \n",
      " 16  city_centers_nearest   18064 non-null  float32       \n",
      " 17  parks_around_three_km  18065 non-null  float32       \n",
      " 18  parks_nearest          8030 non-null   float32       \n",
      " 19  ponds_around_three_km  18065 non-null  float32       \n",
      " 20  ponds_nearest          9036 non-null   float32       \n",
      " 21  days_exposition        20394 non-null  float32       \n",
      "dtypes: bool(3), datetime64[ns](1), float32(11), object(1), uint32(1), uint8(5)\n",
      "memory usage: 1.8+ MB\n"
     ]
    }
   ],
   "source": [
    "# немного понизим разряд\n",
    "data = data.astype({'total_images':'uint8', \n",
    "                    'last_price':'uint32', \n",
    "                    'total_area':'float32', \n",
    "                    'rooms':'uint8', \n",
    "                    'ceiling_height':'float32', \n",
    "                    'floors_total':'uint8', \n",
    "                    'living_area':'float32',\n",
    "                    'floor':'uint8', \n",
    "                    'kitchen_area':'float32', \n",
    "                    'balcony':'uint8', \n",
    "                    'days_exposition':'uint32'}, errors='ignore') \n",
    "# дата есть дата !\n",
    "data['first_day_exposition'] = pd.to_datetime(data['first_day_exposition'])\n",
    "\n",
    "# список преобразования (умнее обойти ошибку с NaN не смог)\n",
    "list_name = ['airports_nearest','city_centers_nearest', \n",
    "             'parks_around_three_km', 'parks_nearest', \n",
    "             'ponds_around_three_km', 'ponds_nearest',\n",
    "            'days_exposition']\n",
    "\n",
    "# до сантиметров надеюсь считать никто не будет\n",
    "for name in list_name:\n",
    "    data[name] = pd.array(data[name], dtype='float32')\n",
    "\n",
    "new_d_memory = data.memory_usage().sum()\n",
    "data.info()"
   ]
  },
  {
   "cell_type": "code",
   "execution_count": 13,
   "metadata": {},
   "outputs": [
    {
     "name": "stdout",
     "output_type": "stream",
     "text": [
      "Сократили объем используемой памяти на 49.1%\n",
      "Это ли не чудо!\n"
     ]
    }
   ],
   "source": [
    "print(f'Сократили объем используемой памяти на {round(new_d_memory / d_memory  * 100,1)}%\\nЭто ли не чудо!')\n",
    "# в процентах, чтобы было выглядило красиво, а то на пара мб так себе звучит =)"
   ]
  },
  {
   "cell_type": "markdown",
   "metadata": {},
   "source": [
    "#### Рассмотрим уникальные значения и расправимся с повторяющимися в названиях"
   ]
  },
  {
   "cell_type": "code",
   "execution_count": 14,
   "metadata": {},
   "outputs": [
    {
     "name": "stdout",
     "output_type": "stream",
     "text": [
      "Уникальные навзания: \n",
      "['Бокситогорск' 'Волосово' 'Волхов' 'Всеволожск' 'Выборг' 'Высоцк'\n",
      " 'Гатчина' 'Зеленогорск' 'Ивангород' 'Каменногорск' 'Кингисепп' 'Кириши'\n",
      " 'Кировск' 'Колпино' 'Коммунар' 'Красное Село' 'Кронштадт' 'Кудрово'\n",
      " 'Лодейное Поле' 'Ломоносов' 'Луга' 'Любань' 'Мурино' 'Никольское'\n",
      " 'Новая Ладога' 'Отрадное' 'Павловск' 'Петергоф' 'Пикалёво' 'Подпорожье'\n",
      " 'Приморск' 'Приозерск' 'Пушкин' 'Санкт-Петербург' 'Светогорск'\n",
      " 'Сертолово' 'Сестрорецк' 'Сланцы' 'Сосновый Бор' 'Сясьстрой' 'Тихвин'\n",
      " 'Тосно' 'Шлиссельбург' 'городской поселок Большая Ижора'\n",
      " 'городской поселок Янино-1' 'городской посёлок Будогощь'\n",
      " 'городской посёлок Виллози' 'городской посёлок Лесогорский'\n",
      " 'городской посёлок Мга' 'городской посёлок Назия'\n",
      " 'городской посёлок Новоселье' 'городской посёлок Павлово'\n",
      " 'городской посёлок Рощино' 'городской посёлок Свирьстрой'\n",
      " 'городской посёлок Советский' 'городской посёлок Фёдоровское'\n",
      " 'городской посёлок Янино-1' 'деревня Агалатово' 'деревня Аро'\n",
      " 'деревня Батово' 'деревня Бегуницы' 'деревня Белогорка'\n",
      " 'деревня Большая Вруда' 'деревня Большая Пустомержа'\n",
      " 'деревня Большие Колпаны' 'деревня Большое Рейзино'\n",
      " 'деревня Большой Сабск' 'деревня Бор' 'деревня Борисова Грива'\n",
      " 'деревня Ваганово' 'деревня Вартемяги' 'деревня Вахнова Кара'\n",
      " 'деревня Выскатка' 'деревня Гарболово' 'деревня Глинка'\n",
      " 'деревня Горбунки' 'деревня Гостилицы' 'деревня Заклинье'\n",
      " 'деревня Заневка' 'деревня Зимитицы' 'деревня Извара' 'деревня Иссад'\n",
      " 'деревня Калитино' 'деревня Кальтино' 'деревня Камышовка'\n",
      " 'деревня Каськово' 'деревня Келози' 'деревня Кипень' 'деревня Кисельня'\n",
      " 'деревня Колтуши' 'деревня Коркино' 'деревня Котлы' 'деревня Кривко'\n",
      " 'деревня Кудрово' 'деревня Кузьмолово' 'деревня Курковицы'\n",
      " 'деревня Куровицы' 'деревня Куттузи' 'деревня Лаврики' 'деревня Лаголово'\n",
      " 'деревня Лампово' 'деревня Лесколово' 'деревня Лопухинка'\n",
      " 'деревня Лупполово' 'деревня Малая Романовка' 'деревня Малое Верево'\n",
      " 'деревня Малое Карлино' 'деревня Малые Колпаны' 'деревня Мануйлово'\n",
      " 'деревня Меньково' 'деревня Мины' 'деревня Мистолово' 'деревня Ненимяки'\n",
      " 'деревня Нижние Осельки' 'деревня Нижняя' 'деревня Низино'\n",
      " 'деревня Новое Девяткино' 'деревня Новолисино' 'деревня Нурма'\n",
      " 'деревня Оржицы' 'деревня Парицы' 'деревня Пельгора' 'деревня Пеники'\n",
      " 'деревня Пижма' 'деревня Пикколово' 'деревня Пудомяги' 'деревня Пустынка'\n",
      " 'деревня Пчева' 'деревня Рабитицы' 'деревня Разбегаево'\n",
      " 'деревня Раздолье' 'деревня Разметелево' 'деревня Рапполово'\n",
      " 'деревня Реброво' 'деревня Русско' 'деревня Сижно' 'деревня Снегирёвка'\n",
      " 'деревня Старая' 'деревня Старая Пустошь' 'деревня Старое Хинколово'\n",
      " 'деревня Старополье' 'деревня Старосиверская' 'деревня Старые Бегуницы'\n",
      " 'деревня Суоранда' 'деревня Сяськелево' 'деревня Тарасово'\n",
      " 'деревня Терпилицы' 'деревня Тихковицы' 'деревня Тойворово'\n",
      " 'деревня Торосово' 'деревня Торошковичи' 'деревня Трубников Бор'\n",
      " 'деревня Фалилеево' 'деревня Фёдоровское' 'деревня Хапо-Ое'\n",
      " 'деревня Хязельки' 'деревня Чудской Бор' 'деревня Шпаньково'\n",
      " 'деревня Щеглово' 'деревня Юкки' 'деревня Ялгино' 'деревня Яльгелево'\n",
      " 'деревня Ям-Тесово' 'коттеджный поселок Кивеннапа Север'\n",
      " 'коттеджный поселок Счастье' 'коттеджный посёлок Лесное' 'поселок Аннино'\n",
      " 'поселок Барышево' 'поселок Бугры' 'поселок Возрождение'\n",
      " 'поселок Войсковицы' 'поселок Володарское' 'поселок Гаврилово'\n",
      " 'поселок Гарболово' 'поселок Гладкое' 'поселок Глажево'\n",
      " 'поселок Глебычево' 'поселок Гончарово' 'поселок Громово'\n",
      " 'поселок Дружноселье' 'поселок Елизаветино' 'поселок Жилгородок'\n",
      " 'поселок Жилпосёлок' 'поселок Житково' 'поселок Заводской'\n",
      " 'поселок Запорожское' 'поселок Зимитицы' 'поселок Ильичёво'\n",
      " 'поселок Калитино' 'поселок Каложицы' 'поселок Кингисеппский'\n",
      " 'поселок Кирпичное' 'поселок Кобралово' 'поселок Кобринское'\n",
      " 'поселок Коммунары' 'поселок Коробицыно' 'поселок Котельский'\n",
      " 'поселок Красная Долина' 'поселок Красносельское' 'поселок Лесное'\n",
      " 'поселок Лисий Нос' 'поселок Лукаши' 'поселок Любань'\n",
      " 'поселок Мельниково' 'поселок Мичуринское' 'поселок Молодцово'\n",
      " 'поселок Мурино' 'поселок Новый Свет' 'поселок Новый Учхоз'\n",
      " 'поселок Оредеж' 'поселок Пансионат Зелёный Бор' 'поселок Первомайское'\n",
      " 'поселок Перово' 'поселок Петровское' 'поселок Победа' 'поселок Поляны'\n",
      " 'поселок Почап' 'поселок Починок' 'поселок Пушное' 'поселок Пчевжа'\n",
      " 'поселок Рабитицы' 'поселок Романовка' 'поселок Ромашки' 'поселок Рябово'\n",
      " 'поселок Севастьяново' 'поселок Селезнёво' 'поселок Сельцо'\n",
      " 'поселок Семиозерье' 'поселок Семрино' 'поселок Серебрянский'\n",
      " 'поселок Совхозный' 'поселок Старая Малукса' 'поселок Стеклянный'\n",
      " 'поселок Сумино' 'поселок Суходолье' 'поселок Тельмана'\n",
      " 'поселок Терволово' 'поселок Торковичи' 'поселок Тёсово-4'\n",
      " 'поселок Углово' 'поселок Усть-Луга' 'поселок Ушаки'\n",
      " 'поселок Цвелодубово' 'поселок Цвылёво'\n",
      " 'поселок городского типа Большая Ижора' 'поселок городского типа Вырица'\n",
      " 'поселок городского типа Дружная Горка'\n",
      " 'поселок городского типа Дубровка' 'поселок городского типа Ефимовский'\n",
      " 'поселок городского типа Кондратьево'\n",
      " 'поселок городского типа Красный Бор'\n",
      " 'поселок городского типа Кузьмоловский' 'поселок городского типа Лебяжье'\n",
      " 'поселок городского типа Лесогорский' 'поселок городского типа Назия'\n",
      " 'поселок городского типа Никольский'\n",
      " 'поселок городского типа Приладожский' 'поселок городского типа Рахья'\n",
      " 'поселок городского типа Рощино' 'поселок городского типа Рябово'\n",
      " 'поселок городского типа Синявино' 'поселок городского типа Советский'\n",
      " 'поселок городского типа Токсово' 'поселок городского типа Форносово'\n",
      " 'поселок городского типа имени Свердлова' 'поселок станции Вещево'\n",
      " 'поселок станции Корнево' 'поселок станции Лужайка'\n",
      " 'поселок станции Приветнинское' 'посёлок Александровская'\n",
      " 'посёлок Алексеевка' 'посёлок Аннино' 'посёлок Белоостров'\n",
      " 'посёлок Бугры' 'посёлок Возрождение' 'посёлок Войскорово'\n",
      " 'посёлок Высокоключевой' 'посёлок Гаврилово' 'посёлок Дзержинского'\n",
      " 'посёлок Жилгородок' 'посёлок Ильичёво' 'посёлок Кикерино'\n",
      " 'посёлок Кобралово' 'посёлок Коробицыно' 'посёлок Левашово'\n",
      " 'посёлок Ленинское' 'посёлок Лисий Нос' 'посёлок Мельниково'\n",
      " 'посёлок Металлострой' 'посёлок Мичуринское' 'посёлок Молодёжное'\n",
      " 'посёлок Мурино' 'посёлок Мыза-Ивановка' 'посёлок Новогорелово'\n",
      " 'посёлок Новый Свет' 'посёлок Пансионат Зелёный Бор' 'посёлок Парголово'\n",
      " 'посёлок Перово' 'посёлок Песочный' 'посёлок Петро-Славянка'\n",
      " 'посёлок Петровское' 'посёлок Платформа 69-й километр' 'посёлок Плодовое'\n",
      " 'посёлок Плоское' 'посёлок Победа' 'посёлок Поляны' 'посёлок Понтонный'\n",
      " 'посёлок Пригородный' 'посёлок Пудость' 'посёлок Репино' 'посёлок Ропша'\n",
      " 'посёлок Сапёрное' 'посёлок Сапёрный' 'посёлок Сосново'\n",
      " 'посёлок Старая Малукса' 'посёлок Стеклянный' 'посёлок Стрельна'\n",
      " 'посёлок Суйда' 'посёлок Сумино' 'посёлок Тельмана' 'посёлок Терволово'\n",
      " 'посёлок Торфяное' 'посёлок Усть-Ижора' 'посёлок Усть-Луга'\n",
      " 'посёлок Форт Красная Горка' 'посёлок Шугозеро' 'посёлок Шушары'\n",
      " 'посёлок Щеглово' 'посёлок городского типа Важины'\n",
      " 'посёлок городского типа Вознесенье' 'посёлок городского типа Вырица'\n",
      " 'посёлок городского типа Красный Бор' 'посёлок городского типа Кузнечное'\n",
      " 'посёлок городского типа Кузьмоловский' 'посёлок городского типа Лебяжье'\n",
      " 'посёлок городского типа Мга' 'посёлок городского типа Павлово'\n",
      " 'посёлок городского типа Рощино' 'посёлок городского типа Рябово'\n",
      " 'посёлок городского типа Сиверский' 'посёлок городского типа Тайцы'\n",
      " 'посёлок городского типа Токсово' 'посёлок городского типа Ульяновка'\n",
      " 'посёлок городского типа Форносово'\n",
      " 'посёлок городского типа имени Морозова'\n",
      " 'посёлок городского типа имени Свердлова'\n",
      " 'посёлок при железнодорожной станции Вещево'\n",
      " 'посёлок при железнодорожной станции Приветнинское'\n",
      " 'посёлок станции Громово' 'посёлок станции Свирь'\n",
      " 'садоводческое некоммерческое товарищество Лесная Поляна'\n",
      " 'садовое товарищество Новая Ропша' 'садовое товарищество Приладожский'\n",
      " 'садовое товарищество Рахья' 'садовое товарищество Садко' 'село Копорье'\n",
      " 'село Никольское' 'село Павлово' 'село Паша' 'село Путилово'\n",
      " 'село Рождествено' 'село Русско-Высоцкое' 'село Старая Ладога' 'село Шум']\n",
      "\n",
      "Уникальных значений: 364\n"
     ]
    }
   ],
   "source": [
    "locality_name_unique = data['locality_name'].sort_values().unique()\n",
    "print(f'Уникальные навзания: \\n{locality_name_unique}\\n')\n",
    "count_name = locality_name_unique.shape[0]\n",
    "print(f'Уникальных значений: {count_name}')"
   ]
  },
  {
   "cell_type": "markdown",
   "metadata": {},
   "source": [
    "**Можно заметить однозначные названия (прим. \"поселок городского типа\" == \"гордской поселок\")**\n",
    "<br>**Так же сомнительный характер несет буква \"ё\"**"
   ]
  },
  {
   "cell_type": "code",
   "execution_count": 15,
   "metadata": {},
   "outputs": [
    {
     "name": "stdout",
     "output_type": "stream",
     "text": [
      "Изменений не произошло!\n"
     ]
    }
   ],
   "source": [
    "# постепенно вносим изменения и смотрим на результат\n",
    "# начнем с понижения регистра\n",
    "data['locality_name'] = data['locality_name'].str.lower() \n",
    "locality_name_unique = data['locality_name'].sort_values().unique()\n",
    "new_count_name = locality_name_unique.shape[0]\n",
    "if new_count_name == count_name:\n",
    "    print('Изменений не произошло!')\n",
    "else:\n",
    "    print(f'Есть реакция! Теперь уникальных значений: {new_count_name} ')\n",
    "    count_name = new_count_name"
   ]
  },
  {
   "cell_type": "code",
   "execution_count": 16,
   "metadata": {},
   "outputs": [
    {
     "name": "stdout",
     "output_type": "stream",
     "text": [
      "Есть реакция! Теперь уникальных значений: 330 \n"
     ]
    }
   ],
   "source": [
    "# теперь посмотрим на Ё и Е    \n",
    "data['locality_name'] = data['locality_name'].str.replace('ё', 'е')\n",
    "locality_name_unique = data['locality_name'].sort_values().unique()\n",
    "new_count_name = locality_name_unique.shape[0]\n",
    "if new_count_name == count_name:\n",
    "    print('Изменений не произошло!')\n",
    "else:\n",
    "    print(f'Есть реакция! Теперь уникальных значений: {new_count_name} ')\n",
    "    count_name = new_count_name"
   ]
  },
  {
   "cell_type": "code",
   "execution_count": 17,
   "metadata": {},
   "outputs": [
    {
     "name": "stdout",
     "output_type": "stream",
     "text": [
      "Есть реакция! Теперь уникальных значений: 323 \n"
     ]
    }
   ],
   "source": [
    "# теперь изменим поселок городского типа\n",
    "data['locality_name'] = data['locality_name'].str.replace('городской поселок','поселок городского типа')\n",
    "locality_name_unique = data['locality_name'].sort_values().unique()\n",
    "new_count_name = locality_name_unique.shape[0]\n",
    "if new_count_name == count_name:\n",
    "    print('Изменений не произошло!')\n",
    "else:\n",
    "    print(f'Есть реакция! Теперь уникальных значений: {new_count_name} ')\n",
    "    count_name = new_count_name"
   ]
  },
  {
   "cell_type": "code",
   "execution_count": 18,
   "metadata": {
    "scrolled": false
   },
   "outputs": [
    {
     "name": "stdout",
     "output_type": "stream",
     "text": [
      "Уникальные навзания: \n",
      "['бокситогорск' 'волосово' 'волхов' 'всеволожск' 'выборг' 'высоцк'\n",
      " 'гатчина' 'деревня агалатово' 'деревня аро' 'деревня батово'\n",
      " 'деревня бегуницы' 'деревня белогорка' 'деревня большая вруда'\n",
      " 'деревня большая пустомержа' 'деревня большие колпаны'\n",
      " 'деревня большое рейзино' 'деревня большой сабск' 'деревня бор'\n",
      " 'деревня борисова грива' 'деревня ваганово' 'деревня вартемяги'\n",
      " 'деревня вахнова кара' 'деревня выскатка' 'деревня гарболово'\n",
      " 'деревня глинка' 'деревня горбунки' 'деревня гостилицы'\n",
      " 'деревня заклинье' 'деревня заневка' 'деревня зимитицы' 'деревня извара'\n",
      " 'деревня иссад' 'деревня калитино' 'деревня кальтино' 'деревня камышовка'\n",
      " 'деревня каськово' 'деревня келози' 'деревня кипень' 'деревня кисельня'\n",
      " 'деревня колтуши' 'деревня коркино' 'деревня котлы' 'деревня кривко'\n",
      " 'деревня кудрово' 'деревня кузьмолово' 'деревня курковицы'\n",
      " 'деревня куровицы' 'деревня куттузи' 'деревня лаврики' 'деревня лаголово'\n",
      " 'деревня лампово' 'деревня лесколово' 'деревня лопухинка'\n",
      " 'деревня лупполово' 'деревня малая романовка' 'деревня малое верево'\n",
      " 'деревня малое карлино' 'деревня малые колпаны' 'деревня мануйлово'\n",
      " 'деревня меньково' 'деревня мины' 'деревня мистолово' 'деревня ненимяки'\n",
      " 'деревня нижние осельки' 'деревня нижняя' 'деревня низино'\n",
      " 'деревня новое девяткино' 'деревня новолисино' 'деревня нурма'\n",
      " 'деревня оржицы' 'деревня парицы' 'деревня пельгора' 'деревня пеники'\n",
      " 'деревня пижма' 'деревня пикколово' 'деревня пудомяги' 'деревня пустынка'\n",
      " 'деревня пчева' 'деревня рабитицы' 'деревня разбегаево'\n",
      " 'деревня раздолье' 'деревня разметелево' 'деревня рапполово'\n",
      " 'деревня реброво' 'деревня русско' 'деревня сижно' 'деревня снегиревка'\n",
      " 'деревня старая' 'деревня старая пустошь' 'деревня старое хинколово'\n",
      " 'деревня старополье' 'деревня старосиверская' 'деревня старые бегуницы'\n",
      " 'деревня суоранда' 'деревня сяськелево' 'деревня тарасово'\n",
      " 'деревня терпилицы' 'деревня тихковицы' 'деревня тойворово'\n",
      " 'деревня торосово' 'деревня торошковичи' 'деревня трубников бор'\n",
      " 'деревня фалилеево' 'деревня федоровское' 'деревня хапо-ое'\n",
      " 'деревня хязельки' 'деревня чудской бор' 'деревня шпаньково'\n",
      " 'деревня щеглово' 'деревня юкки' 'деревня ялгино' 'деревня яльгелево'\n",
      " 'деревня ям-тесово' 'зеленогорск' 'ивангород' 'каменногорск' 'кингисепп'\n",
      " 'кириши' 'кировск' 'колпино' 'коммунар'\n",
      " 'коттеджный поселок кивеннапа север' 'коттеджный поселок лесное'\n",
      " 'коттеджный поселок счастье' 'красное село' 'кронштадт' 'кудрово'\n",
      " 'лодейное поле' 'ломоносов' 'луга' 'любань' 'мурино' 'никольское'\n",
      " 'новая ладога' 'отрадное' 'павловск' 'петергоф' 'пикалево' 'подпорожье'\n",
      " 'поселок александровская' 'поселок алексеевка' 'поселок аннино'\n",
      " 'поселок барышево' 'поселок белоостров' 'поселок бугры'\n",
      " 'поселок возрождение' 'поселок войсковицы' 'поселок войскорово'\n",
      " 'поселок володарское' 'поселок высокоключевой' 'поселок гаврилово'\n",
      " 'поселок гарболово' 'поселок гладкое' 'поселок глажево'\n",
      " 'поселок глебычево' 'поселок гончарово'\n",
      " 'поселок городского типа большая ижора'\n",
      " 'поселок городского типа будогощь' 'поселок городского типа важины'\n",
      " 'поселок городского типа виллози' 'поселок городского типа вознесенье'\n",
      " 'поселок городского типа вырица' 'поселок городского типа дружная горка'\n",
      " 'поселок городского типа дубровка' 'поселок городского типа ефимовский'\n",
      " 'поселок городского типа имени морозова'\n",
      " 'поселок городского типа имени свердлова'\n",
      " 'поселок городского типа кондратьево'\n",
      " 'поселок городского типа красный бор' 'поселок городского типа кузнечное'\n",
      " 'поселок городского типа кузьмоловский' 'поселок городского типа лебяжье'\n",
      " 'поселок городского типа лесогорский' 'поселок городского типа мга'\n",
      " 'поселок городского типа назия' 'поселок городского типа никольский'\n",
      " 'поселок городского типа новоселье' 'поселок городского типа павлово'\n",
      " 'поселок городского типа приладожский' 'поселок городского типа рахья'\n",
      " 'поселок городского типа рощино' 'поселок городского типа рябово'\n",
      " 'поселок городского типа свирьстрой' 'поселок городского типа сиверский'\n",
      " 'поселок городского типа синявино' 'поселок городского типа советский'\n",
      " 'поселок городского типа тайцы' 'поселок городского типа токсово'\n",
      " 'поселок городского типа ульяновка' 'поселок городского типа федоровское'\n",
      " 'поселок городского типа форносово' 'поселок городского типа янино-1'\n",
      " 'поселок громово' 'поселок дзержинского' 'поселок дружноселье'\n",
      " 'поселок елизаветино' 'поселок жилгородок' 'поселок жилпоселок'\n",
      " 'поселок житково' 'поселок заводской' 'поселок запорожское'\n",
      " 'поселок зимитицы' 'поселок ильичево' 'поселок калитино'\n",
      " 'поселок каложицы' 'поселок кикерино' 'поселок кингисеппский'\n",
      " 'поселок кирпичное' 'поселок кобралово' 'поселок кобринское'\n",
      " 'поселок коммунары' 'поселок коробицыно' 'поселок котельский'\n",
      " 'поселок красная долина' 'поселок красносельское' 'поселок левашово'\n",
      " 'поселок ленинское' 'поселок лесное' 'поселок лисий нос' 'поселок лукаши'\n",
      " 'поселок любань' 'поселок мельниково' 'поселок металлострой'\n",
      " 'поселок мичуринское' 'поселок молодежное' 'поселок молодцово'\n",
      " 'поселок мурино' 'поселок мыза-ивановка' 'поселок новогорелово'\n",
      " 'поселок новый свет' 'поселок новый учхоз' 'поселок оредеж'\n",
      " 'поселок пансионат зеленый бор' 'поселок парголово'\n",
      " 'поселок первомайское' 'поселок перово' 'поселок песочный'\n",
      " 'поселок петро-славянка' 'поселок петровское'\n",
      " 'поселок платформа 69-й километр' 'поселок плодовое' 'поселок плоское'\n",
      " 'поселок победа' 'поселок поляны' 'поселок понтонный' 'поселок почап'\n",
      " 'поселок починок' 'поселок при железнодорожной станции вещево'\n",
      " 'поселок при железнодорожной станции приветнинское' 'поселок пригородный'\n",
      " 'поселок пудость' 'поселок пушное' 'поселок пчевжа' 'поселок рабитицы'\n",
      " 'поселок репино' 'поселок романовка' 'поселок ромашки' 'поселок ропша'\n",
      " 'поселок рябово' 'поселок саперное' 'поселок саперный'\n",
      " 'поселок севастьяново' 'поселок селезнево' 'поселок сельцо'\n",
      " 'поселок семиозерье' 'поселок семрино' 'поселок серебрянский'\n",
      " 'поселок совхозный' 'поселок сосново' 'поселок станции вещево'\n",
      " 'поселок станции громово' 'поселок станции корнево'\n",
      " 'поселок станции лужайка' 'поселок станции приветнинское'\n",
      " 'поселок станции свирь' 'поселок старая малукса' 'поселок стеклянный'\n",
      " 'поселок стрельна' 'поселок суйда' 'поселок сумино' 'поселок суходолье'\n",
      " 'поселок тельмана' 'поселок терволово' 'поселок тесово-4'\n",
      " 'поселок торковичи' 'поселок торфяное' 'поселок углово'\n",
      " 'поселок усть-ижора' 'поселок усть-луга' 'поселок ушаки'\n",
      " 'поселок форт красная горка' 'поселок цвелодубово' 'поселок цвылево'\n",
      " 'поселок шугозеро' 'поселок шушары' 'поселок щеглово' 'приморск'\n",
      " 'приозерск' 'пушкин'\n",
      " 'садоводческое некоммерческое товарищество лесная поляна'\n",
      " 'садовое товарищество новая ропша' 'садовое товарищество приладожский'\n",
      " 'садовое товарищество рахья' 'садовое товарищество садко'\n",
      " 'санкт-петербург' 'светогорск' 'село копорье' 'село никольское'\n",
      " 'село павлово' 'село паша' 'село путилово' 'село рождествено'\n",
      " 'село русско-высоцкое' 'село старая ладога' 'село шум' 'сертолово'\n",
      " 'сестрорецк' 'сланцы' 'сосновый бор' 'сясьстрой' 'тихвин' 'тосно'\n",
      " 'шлиссельбург']\n",
      "\n",
      "Уникальных значений: 323\n"
     ]
    }
   ],
   "source": [
    "# еще раз взглянем\n",
    "locality_name_unique = data['locality_name'].sort_values().unique()\n",
    "print(f'Уникальные навзания: \\n{locality_name_unique}\\n')\n",
    "print(f'Уникальных значений: {locality_name_unique.shape[0]}')"
   ]
  },
  {
   "cell_type": "markdown",
   "metadata": {},
   "source": [
    "**Поговорим о дубликатах**"
   ]
  },
  {
   "cell_type": "code",
   "execution_count": 19,
   "metadata": {},
   "outputs": [
    {
     "name": "stdout",
     "output_type": "stream",
     "text": [
      "Количетво явных дубликатов: 0\n"
     ]
    }
   ],
   "source": [
    "print('Количетво явных дубликатов:', data.duplicated().sum())"
   ]
  },
  {
   "cell_type": "markdown",
   "metadata": {},
   "source": [
    "**Везение, система не принимает одинаковую недвижимость**"
   ]
  },
  {
   "cell_type": "markdown",
   "metadata": {},
   "source": [
    "#### Рассмотрим аномалии и редкие значения"
   ]
  },
  {
   "cell_type": "code",
   "execution_count": 20,
   "metadata": {},
   "outputs": [
    {
     "data": {
      "text/html": [
       "<div>\n",
       "<style scoped>\n",
       "    .dataframe tbody tr th:only-of-type {\n",
       "        vertical-align: middle;\n",
       "    }\n",
       "\n",
       "    .dataframe tbody tr th {\n",
       "        vertical-align: top;\n",
       "    }\n",
       "\n",
       "    .dataframe thead th {\n",
       "        text-align: right;\n",
       "    }\n",
       "</style>\n",
       "<table border=\"1\" class=\"dataframe\">\n",
       "  <thead>\n",
       "    <tr style=\"text-align: right;\">\n",
       "      <th></th>\n",
       "      <th>total_images</th>\n",
       "      <th>last_price</th>\n",
       "      <th>total_area</th>\n",
       "      <th>rooms</th>\n",
       "      <th>ceiling_height</th>\n",
       "      <th>floors_total</th>\n",
       "      <th>living_area</th>\n",
       "      <th>floor</th>\n",
       "      <th>kitchen_area</th>\n",
       "      <th>balcony</th>\n",
       "      <th>airports_nearest</th>\n",
       "      <th>city_centers_nearest</th>\n",
       "      <th>parks_around_three_km</th>\n",
       "      <th>parks_nearest</th>\n",
       "      <th>ponds_around_three_km</th>\n",
       "      <th>ponds_nearest</th>\n",
       "      <th>days_exposition</th>\n",
       "    </tr>\n",
       "  </thead>\n",
       "  <tbody>\n",
       "    <tr>\n",
       "      <th>count</th>\n",
       "      <td>23565.000000</td>\n",
       "      <td>2.356500e+04</td>\n",
       "      <td>23565.000000</td>\n",
       "      <td>23565.000000</td>\n",
       "      <td>23565.000000</td>\n",
       "      <td>23565.000000</td>\n",
       "      <td>21700.000000</td>\n",
       "      <td>23565.000000</td>\n",
       "      <td>21343.000000</td>\n",
       "      <td>23565.000000</td>\n",
       "      <td>18041.000000</td>\n",
       "      <td>18064.000000</td>\n",
       "      <td>18065.000000</td>\n",
       "      <td>8030.000000</td>\n",
       "      <td>18065.000000</td>\n",
       "      <td>9036.000000</td>\n",
       "      <td>20394.000000</td>\n",
       "    </tr>\n",
       "    <tr>\n",
       "      <th>mean</th>\n",
       "      <td>9.878421</td>\n",
       "      <td>6.540058e+06</td>\n",
       "      <td>60.322826</td>\n",
       "      <td>2.070656</td>\n",
       "      <td>2.724530</td>\n",
       "      <td>10.675875</td>\n",
       "      <td>34.454823</td>\n",
       "      <td>5.878124</td>\n",
       "      <td>10.560994</td>\n",
       "      <td>0.593677</td>\n",
       "      <td>28797.082031</td>\n",
       "      <td>14192.656250</td>\n",
       "      <td>0.611569</td>\n",
       "      <td>490.580444</td>\n",
       "      <td>0.769499</td>\n",
       "      <td>518.289490</td>\n",
       "      <td>180.741394</td>\n",
       "    </tr>\n",
       "    <tr>\n",
       "      <th>std</th>\n",
       "      <td>5.681156</td>\n",
       "      <td>1.091093e+07</td>\n",
       "      <td>35.657059</td>\n",
       "      <td>1.078591</td>\n",
       "      <td>0.991026</td>\n",
       "      <td>6.594823</td>\n",
       "      <td>22.045359</td>\n",
       "      <td>4.871485</td>\n",
       "      <td>5.900630</td>\n",
       "      <td>0.960660</td>\n",
       "      <td>12632.500000</td>\n",
       "      <td>8613.348633</td>\n",
       "      <td>0.802088</td>\n",
       "      <td>341.572968</td>\n",
       "      <td>0.938669</td>\n",
       "      <td>278.009552</td>\n",
       "      <td>219.732788</td>\n",
       "    </tr>\n",
       "    <tr>\n",
       "      <th>min</th>\n",
       "      <td>0.000000</td>\n",
       "      <td>1.219000e+04</td>\n",
       "      <td>12.000000</td>\n",
       "      <td>0.000000</td>\n",
       "      <td>1.000000</td>\n",
       "      <td>1.000000</td>\n",
       "      <td>2.000000</td>\n",
       "      <td>1.000000</td>\n",
       "      <td>1.300000</td>\n",
       "      <td>0.000000</td>\n",
       "      <td>0.000000</td>\n",
       "      <td>181.000000</td>\n",
       "      <td>0.000000</td>\n",
       "      <td>1.000000</td>\n",
       "      <td>0.000000</td>\n",
       "      <td>13.000000</td>\n",
       "      <td>1.000000</td>\n",
       "    </tr>\n",
       "    <tr>\n",
       "      <th>25%</th>\n",
       "      <td>6.000000</td>\n",
       "      <td>3.400000e+06</td>\n",
       "      <td>40.000000</td>\n",
       "      <td>1.000000</td>\n",
       "      <td>2.600000</td>\n",
       "      <td>5.000000</td>\n",
       "      <td>18.600000</td>\n",
       "      <td>2.000000</td>\n",
       "      <td>7.000000</td>\n",
       "      <td>0.000000</td>\n",
       "      <td>18565.000000</td>\n",
       "      <td>9238.000000</td>\n",
       "      <td>0.000000</td>\n",
       "      <td>288.000000</td>\n",
       "      <td>0.000000</td>\n",
       "      <td>293.000000</td>\n",
       "      <td>45.000000</td>\n",
       "    </tr>\n",
       "    <tr>\n",
       "      <th>50%</th>\n",
       "      <td>9.000000</td>\n",
       "      <td>4.646000e+06</td>\n",
       "      <td>52.000000</td>\n",
       "      <td>2.000000</td>\n",
       "      <td>2.650000</td>\n",
       "      <td>9.000000</td>\n",
       "      <td>30.000000</td>\n",
       "      <td>4.000000</td>\n",
       "      <td>9.100000</td>\n",
       "      <td>0.000000</td>\n",
       "      <td>26757.000000</td>\n",
       "      <td>13096.500000</td>\n",
       "      <td>0.000000</td>\n",
       "      <td>455.000000</td>\n",
       "      <td>1.000000</td>\n",
       "      <td>503.000000</td>\n",
       "      <td>95.000000</td>\n",
       "    </tr>\n",
       "    <tr>\n",
       "      <th>75%</th>\n",
       "      <td>14.000000</td>\n",
       "      <td>6.790000e+06</td>\n",
       "      <td>69.699997</td>\n",
       "      <td>3.000000</td>\n",
       "      <td>2.700000</td>\n",
       "      <td>16.000000</td>\n",
       "      <td>42.299999</td>\n",
       "      <td>8.000000</td>\n",
       "      <td>12.000000</td>\n",
       "      <td>1.000000</td>\n",
       "      <td>37273.000000</td>\n",
       "      <td>16285.000000</td>\n",
       "      <td>1.000000</td>\n",
       "      <td>612.000000</td>\n",
       "      <td>1.000000</td>\n",
       "      <td>730.000000</td>\n",
       "      <td>231.000000</td>\n",
       "    </tr>\n",
       "    <tr>\n",
       "      <th>max</th>\n",
       "      <td>50.000000</td>\n",
       "      <td>7.630000e+08</td>\n",
       "      <td>900.000000</td>\n",
       "      <td>19.000000</td>\n",
       "      <td>100.000000</td>\n",
       "      <td>60.000000</td>\n",
       "      <td>409.700012</td>\n",
       "      <td>33.000000</td>\n",
       "      <td>112.000000</td>\n",
       "      <td>5.000000</td>\n",
       "      <td>84869.000000</td>\n",
       "      <td>65968.000000</td>\n",
       "      <td>3.000000</td>\n",
       "      <td>3190.000000</td>\n",
       "      <td>3.000000</td>\n",
       "      <td>1344.000000</td>\n",
       "      <td>1580.000000</td>\n",
       "    </tr>\n",
       "  </tbody>\n",
       "</table>\n",
       "</div>"
      ],
      "text/plain": [
       "       total_images    last_price    total_area         rooms  ceiling_height  \\\n",
       "count  23565.000000  2.356500e+04  23565.000000  23565.000000    23565.000000   \n",
       "mean       9.878421  6.540058e+06     60.322826      2.070656        2.724530   \n",
       "std        5.681156  1.091093e+07     35.657059      1.078591        0.991026   \n",
       "min        0.000000  1.219000e+04     12.000000      0.000000        1.000000   \n",
       "25%        6.000000  3.400000e+06     40.000000      1.000000        2.600000   \n",
       "50%        9.000000  4.646000e+06     52.000000      2.000000        2.650000   \n",
       "75%       14.000000  6.790000e+06     69.699997      3.000000        2.700000   \n",
       "max       50.000000  7.630000e+08    900.000000     19.000000      100.000000   \n",
       "\n",
       "       floors_total   living_area         floor  kitchen_area       balcony  \\\n",
       "count  23565.000000  21700.000000  23565.000000  21343.000000  23565.000000   \n",
       "mean      10.675875     34.454823      5.878124     10.560994      0.593677   \n",
       "std        6.594823     22.045359      4.871485      5.900630      0.960660   \n",
       "min        1.000000      2.000000      1.000000      1.300000      0.000000   \n",
       "25%        5.000000     18.600000      2.000000      7.000000      0.000000   \n",
       "50%        9.000000     30.000000      4.000000      9.100000      0.000000   \n",
       "75%       16.000000     42.299999      8.000000     12.000000      1.000000   \n",
       "max       60.000000    409.700012     33.000000    112.000000      5.000000   \n",
       "\n",
       "       airports_nearest  city_centers_nearest  parks_around_three_km  \\\n",
       "count      18041.000000          18064.000000           18065.000000   \n",
       "mean       28797.082031          14192.656250               0.611569   \n",
       "std        12632.500000           8613.348633               0.802088   \n",
       "min            0.000000            181.000000               0.000000   \n",
       "25%        18565.000000           9238.000000               0.000000   \n",
       "50%        26757.000000          13096.500000               0.000000   \n",
       "75%        37273.000000          16285.000000               1.000000   \n",
       "max        84869.000000          65968.000000               3.000000   \n",
       "\n",
       "       parks_nearest  ponds_around_three_km  ponds_nearest  days_exposition  \n",
       "count    8030.000000           18065.000000    9036.000000     20394.000000  \n",
       "mean      490.580444               0.769499     518.289490       180.741394  \n",
       "std       341.572968               0.938669     278.009552       219.732788  \n",
       "min         1.000000               0.000000      13.000000         1.000000  \n",
       "25%       288.000000               0.000000     293.000000        45.000000  \n",
       "50%       455.000000               1.000000     503.000000        95.000000  \n",
       "75%       612.000000               1.000000     730.000000       231.000000  \n",
       "max      3190.000000               3.000000    1344.000000      1580.000000  "
      ]
     },
     "execution_count": 20,
     "metadata": {},
     "output_type": "execute_result"
    }
   ],
   "source": [
    "data.describe()"
   ]
  },
  {
   "cell_type": "markdown",
   "metadata": {},
   "source": [
    "**И начнем рассматривать все столбцы**"
   ]
  },
  {
   "cell_type": "markdown",
   "metadata": {},
   "source": [
    "**1) С количеством фотографий ничего не поделаешь**"
   ]
  },
  {
   "cell_type": "markdown",
   "metadata": {},
   "source": [
    "**2) А вот с последней ценой есть непорядок, в частности в минимуме**"
   ]
  },
  {
   "cell_type": "code",
   "execution_count": 21,
   "metadata": {},
   "outputs": [
    {
     "data": {
      "text/plain": [
       "8793         12190\n",
       "17456       430000\n",
       "14911       430000\n",
       "16274       440000\n",
       "9581        450000\n",
       "           ...    \n",
       "15651    300000000\n",
       "1436     330000000\n",
       "14706    401300000\n",
       "19540    420000000\n",
       "12971    763000000\n",
       "Name: last_price, Length: 23565, dtype: uint32"
      ]
     },
     "execution_count": 21,
     "metadata": {},
     "output_type": "execute_result"
    }
   ],
   "source": [
    "# Рассмотрим по подробнее\n",
    "data['last_price'].sort_values() "
   ]
  },
  {
   "cell_type": "markdown",
   "metadata": {},
   "source": [
    "**Есть очень маленькое значение, скорее всего ошибка в отсутсвии пары нулей**"
   ]
  },
  {
   "cell_type": "code",
   "execution_count": 22,
   "metadata": {},
   "outputs": [
    {
     "data": {
      "text/plain": [
       "array(['поселок шушары', 'санкт-петербург',\n",
       "       'поселок городского типа янино-1', 'поселок парголово',\n",
       "       'поселок мурино', 'ломоносов', 'сертолово', 'петергоф', 'пушкин',\n",
       "       'деревня кудрово', 'коммунар', 'колпино',\n",
       "       'поселок городского типа красный бор', 'гатчина',\n",
       "       'деревня федоровское', 'выборг', 'кронштадт', 'кировск',\n",
       "       'деревня новое девяткино', 'поселок металлострой',\n",
       "       'поселок городского типа лебяжье',\n",
       "       'поселок городского типа сиверский', 'поселок молодцово',\n",
       "       'поселок городского типа кузьмоловский',\n",
       "       'садовое товарищество новая ропша', 'деревня пикколово',\n",
       "       'всеволожск', 'волхов', 'кингисепп', 'приозерск', 'сестрорецк',\n",
       "       'деревня куттузи', 'поселок аннино',\n",
       "       'поселок городского типа ефимовский', 'поселок плодовое',\n",
       "       'деревня заклинье', 'поселок торковичи', 'поселок первомайское',\n",
       "       'красное село', 'поселок понтонный', 'сясьстрой', 'деревня старая',\n",
       "       'павловск', 'деревня лесколово', 'поселок новый свет', 'сланцы',\n",
       "       'село путилово', 'ивангород', 'мурино', 'шлиссельбург',\n",
       "       'никольское', 'зеленогорск', 'сосновый бор', 'деревня оржицы',\n",
       "       'деревня кальтино', 'кудрово', 'поселок романовка',\n",
       "       'поселок бугры', 'поселок городского типа рощино', 'кириши',\n",
       "       'луга', 'волосово', 'отрадное', 'село павлово', 'поселок оредеж',\n",
       "       'село копорье', 'поселок молодежное', 'тихвин', 'поселок победа',\n",
       "       'деревня нурма', 'поселок городского типа синявино', 'тосно',\n",
       "       'поселок стрельна', 'бокситогорск', 'деревня лопухинка',\n",
       "       'пикалево', 'поселок терволово',\n",
       "       'поселок городского типа советский', 'подпорожье',\n",
       "       'поселок петровское', 'поселок городского типа токсово',\n",
       "       'поселок сельцо', 'поселок городского типа вырица',\n",
       "       'деревня кипень', 'деревня келози', 'деревня вартемяги',\n",
       "       'поселок тельмана', 'поселок севастьяново',\n",
       "       'поселок городского типа большая ижора',\n",
       "       'поселок городского типа павлово', 'деревня агалатово',\n",
       "       'поселок новогорелово', 'поселок городского типа лесогорский',\n",
       "       'деревня лаголово', 'поселок цвелодубово',\n",
       "       'поселок городского типа рахья', 'деревня белогорка',\n",
       "       'поселок заводской', 'поселок городского типа новоселье',\n",
       "       'деревня большие колпаны', 'деревня горбунки', 'деревня батово',\n",
       "       'деревня заневка', 'деревня иссад', 'приморск',\n",
       "       'поселок городского типа федоровское', 'деревня мистолово',\n",
       "       'новая ладога', 'поселок зимитицы', 'поселок барышево',\n",
       "       'деревня разметелево', 'поселок городского типа имени свердлова',\n",
       "       'деревня пеники', 'поселок рябово', 'деревня пудомяги',\n",
       "       'поселок станции корнево', 'деревня низино', 'деревня бегуницы',\n",
       "       'поселок поляны', 'поселок городского типа мга',\n",
       "       'поселок елизаветино', 'поселок городского типа кузнечное',\n",
       "       'деревня колтуши', 'поселок запорожское', 'деревня гостилицы',\n",
       "       'деревня малое карлино', 'поселок мичуринское',\n",
       "       'поселок городского типа имени морозова', 'поселок песочный',\n",
       "       'поселок сосново', 'деревня аро', 'поселок ильичево',\n",
       "       'поселок городского типа тайцы', 'деревня малое верево',\n",
       "       'деревня извара', 'поселок станции вещево', 'село паша',\n",
       "       'деревня калитино', 'поселок городского типа ульяновка',\n",
       "       'деревня чудской бор', 'поселок городского типа дубровка',\n",
       "       'деревня мины', 'поселок войсковицы', 'деревня коркино',\n",
       "       'поселок ропша', 'поселок городского типа приладожский',\n",
       "       'поселок щеглово', 'поселок гаврилово', 'лодейное поле',\n",
       "       'деревня рабитицы', 'поселок городского типа никольский',\n",
       "       'деревня кузьмолово', 'деревня малые колпаны',\n",
       "       'поселок петро-славянка', 'поселок городского типа назия',\n",
       "       'поселок углово', 'поселок старая малукса',\n",
       "       'садовое товарищество рахья', 'деревня меньково',\n",
       "       'деревня старые бегуницы', 'поселок саперный', 'поселок семрино',\n",
       "       'поселок глажево', 'поселок кобринское', 'деревня гарболово',\n",
       "       'деревня юкки', 'поселок станции приветнинское',\n",
       "       'деревня мануйлово', 'деревня пчева', 'поселок цвылево',\n",
       "       'поселок мельниково', 'поселок пудость', 'поселок усть-луга',\n",
       "       'светогорск', 'любань', 'поселок селезнево',\n",
       "       'поселок городского типа рябово', 'каменногорск', 'деревня кривко',\n",
       "       'поселок глебычево', 'деревня парицы', 'поселок жилпоселок',\n",
       "       'поселок войскорово', 'село никольское', 'поселок стеклянный',\n",
       "       'поселок городского типа важины', 'поселок мыза-ивановка',\n",
       "       'село русско-высоцкое', 'поселок городского типа форносово',\n",
       "       'село старая ладога', 'поселок житково',\n",
       "       'поселок городского типа виллози', 'деревня лампово',\n",
       "       'деревня шпаньково', 'деревня лаврики', 'поселок сумино',\n",
       "       'поселок возрождение', 'деревня старосиверская',\n",
       "       'поселок кикерино', 'деревня старое хинколово',\n",
       "       'поселок пригородный', 'поселок торфяное',\n",
       "       'поселок городского типа будогощь', 'поселок суходолье',\n",
       "       'поселок красная долина', 'деревня хапо-ое',\n",
       "       'поселок городского типа дружная горка', 'поселок лисий нос',\n",
       "       'деревня яльгелево', 'село рождествено', 'деревня старополье',\n",
       "       'поселок левашово', 'деревня сяськелево', 'деревня камышовка',\n",
       "       'садоводческое некоммерческое товарищество лесная поляна',\n",
       "       'поселок жилгородок', 'деревня ялгино', 'поселок новый учхоз',\n",
       "       'поселок гончарово', 'поселок почап', 'поселок саперное',\n",
       "       'поселок платформа 69-й километр', 'поселок каложицы',\n",
       "       'деревня фалилеево', 'деревня пельгора', 'деревня торошковичи',\n",
       "       'поселок белоостров', 'поселок алексеевка', 'поселок серебрянский',\n",
       "       'поселок лукаши', 'деревня щеглово', 'деревня тарасово',\n",
       "       'поселок кингисеппский',\n",
       "       'поселок при железнодорожной станции вещево', 'поселок ушаки',\n",
       "       'деревня котлы', 'деревня сижно', 'деревня торосово',\n",
       "       'поселок форт красная горка', 'деревня новолисино',\n",
       "       'поселок станции громово', 'деревня глинка',\n",
       "       'деревня старая пустошь', 'поселок коммунары', 'поселок починок',\n",
       "       'поселок городского типа вознесенье', 'поселок репино',\n",
       "       'деревня разбегаево', 'поселок гладкое',\n",
       "       'поселок при железнодорожной станции приветнинское',\n",
       "       'поселок тесово-4', 'поселок коробицыно', 'деревня большая вруда',\n",
       "       'деревня курковицы', 'поселок кобралово', 'деревня суоранда',\n",
       "       'поселок городского типа кондратьево',\n",
       "       'коттеджный поселок счастье', 'поселок любань', 'деревня реброво',\n",
       "       'деревня зимитицы', 'деревня тойворово', 'поселок семиозерье',\n",
       "       'поселок лесное', 'поселок совхозный', 'поселок ленинское',\n",
       "       'поселок суйда', 'деревня нижние осельки', 'деревня бор',\n",
       "       'поселок станции свирь', 'поселок перово', 'высоцк',\n",
       "       'поселок гарболово', 'село шум', 'поселок котельский',\n",
       "       'поселок станции лужайка', 'деревня большая пустомержа',\n",
       "       'поселок красносельское', 'деревня вахнова кара', 'деревня пижма',\n",
       "       'коттеджный поселок кивеннапа север', 'поселок ромашки',\n",
       "       'деревня каськово', 'деревня куровицы', 'поселок плоское',\n",
       "       'поселок кирпичное', 'деревня ям-тесово', 'деревня раздолье',\n",
       "       'деревня терпилицы', 'поселок шугозеро', 'деревня ваганово',\n",
       "       'поселок пушное', 'садовое товарищество садко',\n",
       "       'поселок усть-ижора', 'деревня выскатка',\n",
       "       'поселок городского типа свирьстрой', 'поселок громово',\n",
       "       'деревня кисельня', 'деревня трубников бор', 'поселок калитино',\n",
       "       'поселок высокоключевой', 'садовое товарищество приладожский',\n",
       "       'поселок пансионат зеленый бор', 'деревня ненимяки',\n",
       "       'деревня снегиревка', 'поселок александровская',\n",
       "       'деревня рапполово', 'деревня пустынка', 'поселок рабитицы',\n",
       "       'деревня большой сабск', 'деревня русско', 'деревня лупполово',\n",
       "       'деревня большое рейзино', 'деревня малая романовка',\n",
       "       'поселок дружноселье', 'поселок пчевжа', 'поселок володарское',\n",
       "       'деревня нижняя', 'коттеджный поселок лесное', 'деревня тихковицы',\n",
       "       'деревня борисова грива', 'поселок дзержинского'], dtype=object)"
      ]
     },
     "execution_count": 22,
     "metadata": {},
     "output_type": "execute_result"
    }
   ],
   "source": [
    "data[data['last_price'] < 10000000]['locality_name'].unique()"
   ]
  },
  {
   "cell_type": "markdown",
   "metadata": {},
   "source": [
    "**Недвижимость до миллиона находятся в деревнях, возможно так и есть**\n",
    "<br>**Кроме одного, как раз с минимальной суммой**"
   ]
  },
  {
   "cell_type": "code",
   "execution_count": 23,
   "metadata": {},
   "outputs": [
    {
     "data": {
      "text/plain": [
       "8793    санкт-петербург\n",
       "Name: locality_name, dtype: object"
      ]
     },
     "execution_count": 23,
     "metadata": {},
     "output_type": "execute_result"
    }
   ],
   "source": [
    "data[data['last_price'] < 100000]['locality_name']"
   ]
  },
  {
   "cell_type": "code",
   "execution_count": 24,
   "metadata": {},
   "outputs": [],
   "source": [
    "# изменим ее стоимость\n",
    "data.update(data[data['last_price'] < 100000]['last_price'] * 1000)"
   ]
  },
  {
   "cell_type": "code",
   "execution_count": 25,
   "metadata": {},
   "outputs": [
    {
     "data": {
      "image/png": "[encoded data removed]",
      "text/plain": [
       "<Figure size 864x432 with 1 Axes>"
      ]
     },
     "metadata": {
      "needs_background": "light"
     },
     "output_type": "display_data"
    }
   ],
   "source": [
    "data['last_price'].hist(figsize=(12,6),bins=30);"
   ]
  },
  {
   "cell_type": "code",
   "execution_count": 26,
   "metadata": {},
   "outputs": [
    {
     "data": {
      "text/plain": [
       "37"
      ]
     },
     "execution_count": 26,
     "metadata": {},
     "output_type": "execute_result"
    }
   ],
   "source": [
    "# по графику видно, что после 100м недвижимость идет в штучном экземпляре\n",
    "data[data['last_price'] > 100_000_000]['last_price'].count()"
   ]
  },
  {
   "cell_type": "markdown",
   "metadata": {},
   "source": [
    "**Так оно и есть, можем избавиться**"
   ]
  },
  {
   "cell_type": "code",
   "execution_count": 27,
   "metadata": {},
   "outputs": [],
   "source": [
    "data.drop(data.query('last_price > 100_000_000').index,inplace=True)"
   ]
  },
  {
   "cell_type": "code",
   "execution_count": 28,
   "metadata": {},
   "outputs": [
    {
     "data": {
      "image/png": "[encoded data removed]",
      "text/plain": [
       "<Figure size 864x432 with 1 Axes>"
      ]
     },
     "metadata": {
      "needs_background": "light"
     },
     "output_type": "display_data"
    }
   ],
   "source": [
    "data['last_price'].hist(figsize=(12,6),bins=30);"
   ]
  },
  {
   "cell_type": "markdown",
   "metadata": {},
   "source": [
    "**3) Минимальная площадь 12 кв, и такое существует, но рассмотрим по подробнее**"
   ]
  },
  {
   "cell_type": "code",
   "execution_count": 29,
   "metadata": {},
   "outputs": [
    {
     "data": {
      "text/plain": [
       "27"
      ]
     },
     "execution_count": 29,
     "metadata": {},
     "output_type": "execute_result"
    }
   ],
   "source": [
    "data[data['total_area'] < 20]['total_area'].count()"
   ]
  },
  {
   "cell_type": "markdown",
   "metadata": {},
   "source": [
    "**Количество недвижимости меньше 20 квадратов, слишком маленькое**"
   ]
  },
  {
   "cell_type": "code",
   "execution_count": 30,
   "metadata": {},
   "outputs": [
    {
     "data": {
      "image/png": "[encoded data removed]",
      "text/plain": [
       "<Figure size 864x432 with 1 Axes>"
      ]
     },
     "metadata": {
      "needs_background": "light"
     },
     "output_type": "display_data"
    }
   ],
   "source": [
    "data['total_area'].hist(figsize=(12,6),bins=30);"
   ]
  },
  {
   "cell_type": "markdown",
   "metadata": {},
   "source": [
    "**По графику так же можно заметить, что свыше 300 кв, тоже мало объявлений**"
   ]
  },
  {
   "cell_type": "code",
   "execution_count": 31,
   "metadata": {},
   "outputs": [
    {
     "data": {
      "text/plain": [
       "45"
      ]
     },
     "execution_count": 31,
     "metadata": {},
     "output_type": "execute_result"
    }
   ],
   "source": [
    "data[data['total_area'] > 300]['total_area'].count()"
   ]
  },
  {
   "cell_type": "markdown",
   "metadata": {},
   "source": [
    "**Можно так же убрать из выборки для анализа**"
   ]
  },
  {
   "cell_type": "code",
   "execution_count": 32,
   "metadata": {},
   "outputs": [],
   "source": [
    "data.drop(data.query('total_area < 20 or total_area > 300').index,inplace=True)"
   ]
  },
  {
   "cell_type": "code",
   "execution_count": 33,
   "metadata": {},
   "outputs": [
    {
     "data": {
      "image/png": "[encoded data removed]",
      "text/plain": [
       "<Figure size 864x432 with 1 Axes>"
      ]
     },
     "metadata": {
      "needs_background": "light"
     },
     "output_type": "display_data"
    }
   ],
   "source": [
    "data['total_area'].hist(figsize=(12,6),bins=30);"
   ]
  },
  {
   "cell_type": "markdown",
   "metadata": {},
   "source": [
    "**4) Теперь поговорим про количество комнат, есть недвижимость, где комнат 0**"
   ]
  },
  {
   "cell_type": "code",
   "execution_count": 34,
   "metadata": {},
   "outputs": [
    {
     "data": {
      "text/plain": [
       "128"
      ]
     },
     "execution_count": 34,
     "metadata": {},
     "output_type": "execute_result"
    }
   ],
   "source": [
    "data[data['rooms'] == 0]['studio'].sum()"
   ]
  },
  {
   "cell_type": "markdown",
   "metadata": {},
   "source": [
    "**Большая часть это студии, возможно, у некоторых не указан тип или это апартаменты**"
   ]
  },
  {
   "cell_type": "code",
   "execution_count": 35,
   "metadata": {},
   "outputs": [
    {
     "data": {
      "image/png": "[encoded data removed]",
      "text/plain": [
       "<Figure size 864x432 with 1 Axes>"
      ]
     },
     "metadata": {
      "needs_background": "light"
     },
     "output_type": "display_data"
    }
   ],
   "source": [
    "data['rooms'].hist(figsize=(12,6),bins=30);"
   ]
  },
  {
   "cell_type": "markdown",
   "metadata": {},
   "source": [
    "**По графику видно, что свыше 7 комнат, уже маленькое количество, тоже отсечем**"
   ]
  },
  {
   "cell_type": "code",
   "execution_count": 36,
   "metadata": {},
   "outputs": [],
   "source": [
    "data.drop(data.query('rooms > 7').index,inplace=True)"
   ]
  },
  {
   "cell_type": "code",
   "execution_count": 37,
   "metadata": {},
   "outputs": [
    {
     "data": {
      "image/png": "[encoded data removed]",
      "text/plain": [
       "<Figure size 864x432 with 1 Axes>"
      ]
     },
     "metadata": {
      "needs_background": "light"
     },
     "output_type": "display_data"
    }
   ],
   "source": [
    "data['rooms'].hist(figsize=(12,6),bins=30);"
   ]
  },
  {
   "cell_type": "markdown",
   "metadata": {},
   "source": [
    "**5) Теперь самое веселое, высота потолков**\n",
    "<br>**Значения самые разные, от метра до 100**"
   ]
  },
  {
   "cell_type": "code",
   "execution_count": 38,
   "metadata": {},
   "outputs": [
    {
     "data": {
      "text/plain": [
       "array([  1.  ,   1.2 ,   1.75,   2.  ,   2.2 ,   2.25,   2.3 ,   2.34,\n",
       "         2.4 ,   2.45,   2.46,   2.47,   2.48,   2.49,   2.5 ,   2.51,\n",
       "         2.52,   2.53,   2.54,   2.55,   2.56,   2.57,   2.58,   2.59,\n",
       "         2.6 ,   2.61,   2.62,   2.63,   2.64,   2.65,   2.66,   2.67,\n",
       "         2.68,   2.69,   2.7 ,   2.71,   2.72,   2.73,   2.74,   2.75,\n",
       "         2.76,   2.77,   2.78,   2.79,   2.8 ,   2.81,   2.82,   2.83,\n",
       "         2.84,   2.85,   2.86,   2.87,   2.88,   2.89,   2.9 ,   2.91,\n",
       "         2.92,   2.93,   2.94,   2.95,   2.96,   2.97,   2.98,   2.99,\n",
       "         3.  ,   3.01,   3.02,   3.03,   3.04,   3.05,   3.06,   3.07,\n",
       "         3.08,   3.09,   3.1 ,   3.11,   3.12,   3.13,   3.14,   3.15,\n",
       "         3.16,   3.17,   3.18,   3.2 ,   3.21,   3.22,   3.23,   3.24,\n",
       "         3.25,   3.26,   3.27,   3.28,   3.29,   3.3 ,   3.31,   3.32,\n",
       "         3.33,   3.34,   3.35,   3.36,   3.37,   3.38,   3.39,   3.4 ,\n",
       "         3.42,   3.44,   3.45,   3.46,   3.47,   3.48,   3.49,   3.5 ,\n",
       "         3.51,   3.52,   3.53,   3.54,   3.55,   3.56,   3.57,   3.58,\n",
       "         3.59,   3.6 ,   3.62,   3.63,   3.65,   3.66,   3.67,   3.68,\n",
       "         3.69,   3.7 ,   3.75,   3.76,   3.78,   3.8 ,   3.83,   3.84,\n",
       "         3.85,   3.86,   3.87,   3.88,   3.9 ,   3.93,   3.95,   3.98,\n",
       "         4.  ,   4.06,   4.1 ,   4.14,   4.15,   4.19,   4.2 ,   4.25,\n",
       "         4.3 ,   4.37,   4.4 ,   4.45,   4.5 ,   4.7 ,   4.8 ,   5.  ,\n",
       "         5.2 ,   5.3 ,   5.5 ,   5.8 ,   8.  ,   8.3 ,  10.3 ,  14.  ,\n",
       "        20.  ,  22.6 ,  24.  ,  25.  ,  26.  ,  27.  ,  27.5 ,  32.  ,\n",
       "       100.  ], dtype=float32)"
      ]
     },
     "execution_count": 38,
     "metadata": {},
     "output_type": "execute_result"
    }
   ],
   "source": [
    "data['ceiling_height'].sort_values().unique()"
   ]
  },
  {
   "cell_type": "markdown",
   "metadata": {},
   "source": [
    "**Значения с высотой от 2 до 4 метров скорее всего ошибка в данных, в частности в запятой**"
   ]
  },
  {
   "cell_type": "code",
   "execution_count": 39,
   "metadata": {},
   "outputs": [],
   "source": [
    "# изменим высоты\n",
    "data.update(data[(data['ceiling_height'] >= 20) & (data['ceiling_height'] <= 40)]['ceiling_height'] / 10)"
   ]
  },
  {
   "cell_type": "code",
   "execution_count": 40,
   "metadata": {},
   "outputs": [],
   "source": [
    "# высоты меньше 2 м и больше 5 м будем считать аномальными, поэтому избавимся\n",
    "data.drop(data.query('ceiling_height < 2 or ceiling_height > 5').index,inplace=True)"
   ]
  },
  {
   "cell_type": "code",
   "execution_count": 41,
   "metadata": {},
   "outputs": [
    {
     "data": {
      "text/plain": [
       "array([2.  , 2.2 , 2.25, 2.26, 2.3 , 2.34, 2.4 , 2.45, 2.46, 2.47, 2.48,\n",
       "       2.49, 2.5 , 2.51, 2.52, 2.53, 2.54, 2.55, 2.56, 2.57, 2.58, 2.59,\n",
       "       2.6 , 2.61, 2.62, 2.63, 2.64, 2.65, 2.66, 2.67, 2.68, 2.69, 2.7 ,\n",
       "       2.71, 2.72, 2.73, 2.74, 2.75, 2.76, 2.77, 2.78, 2.79, 2.8 , 2.81,\n",
       "       2.82, 2.83, 2.84, 2.85, 2.86, 2.87, 2.88, 2.89, 2.9 , 2.91, 2.92,\n",
       "       2.93, 2.94, 2.95, 2.96, 2.97, 2.98, 2.99, 3.  , 3.01, 3.02, 3.03,\n",
       "       3.04, 3.05, 3.06, 3.07, 3.08, 3.09, 3.1 , 3.11, 3.12, 3.13, 3.14,\n",
       "       3.15, 3.16, 3.17, 3.18, 3.2 , 3.21, 3.22, 3.23, 3.24, 3.25, 3.26,\n",
       "       3.27, 3.28, 3.29, 3.3 , 3.31, 3.32, 3.33, 3.34, 3.35, 3.36, 3.37,\n",
       "       3.38, 3.39, 3.4 , 3.42, 3.44, 3.45, 3.46, 3.47, 3.48, 3.49, 3.5 ,\n",
       "       3.51, 3.52, 3.53, 3.54, 3.55, 3.56, 3.57, 3.58, 3.59, 3.6 , 3.62,\n",
       "       3.63, 3.65, 3.66, 3.67, 3.68, 3.69, 3.7 , 3.75, 3.76, 3.78, 3.8 ,\n",
       "       3.83, 3.84, 3.85, 3.86, 3.87, 3.88, 3.9 , 3.93, 3.95, 3.98, 4.  ,\n",
       "       4.06, 4.1 , 4.14, 4.15, 4.19, 4.2 , 4.25, 4.3 , 4.37, 4.4 , 4.45,\n",
       "       4.5 , 4.7 , 4.8 , 5.  ], dtype=float32)"
      ]
     },
     "execution_count": 41,
     "metadata": {},
     "output_type": "execute_result"
    }
   ],
   "source": [
    "# взглянем еще раз, выглядит уже лучше\n",
    "data['ceiling_height'].sort_values().unique()"
   ]
  },
  {
   "cell_type": "code",
   "execution_count": 42,
   "metadata": {},
   "outputs": [
    {
     "data": {
      "image/png": "[encoded data removed]",
      "text/plain": [
       "<Figure size 432x288 with 1 Axes>"
      ]
     },
     "metadata": {
      "needs_background": "light"
     },
     "output_type": "display_data"
    }
   ],
   "source": [
    "data['ceiling_height'].hist();"
   ]
  },
  {
   "cell_type": "markdown",
   "metadata": {},
   "source": [
    "**6) Наступает черед количества этажей**"
   ]
  },
  {
   "cell_type": "code",
   "execution_count": 43,
   "metadata": {},
   "outputs": [
    {
     "data": {
      "image/png": "[encoded data removed]",
      "text/plain": [
       "<Figure size 432x288 with 1 Axes>"
      ]
     },
     "metadata": {
      "needs_background": "light"
     },
     "output_type": "display_data"
    }
   ],
   "source": [
    "data['floors_total'].hist();"
   ]
  },
  {
   "cell_type": "markdown",
   "metadata": {},
   "source": [
    "**Этажей больше 40 в целом не много, можно отбросить**"
   ]
  },
  {
   "cell_type": "code",
   "execution_count": 44,
   "metadata": {},
   "outputs": [],
   "source": [
    "data.drop(data.query('floors_total > 40').index,inplace=True)"
   ]
  },
  {
   "cell_type": "code",
   "execution_count": 45,
   "metadata": {},
   "outputs": [
    {
     "data": {
      "image/png": "[encoded data removed]",
      "text/plain": [
       "<Figure size 432x288 with 1 Axes>"
      ]
     },
     "metadata": {
      "needs_background": "light"
     },
     "output_type": "display_data"
    }
   ],
   "source": [
    "data['floors_total'].hist();"
   ]
  },
  {
   "cell_type": "markdown",
   "metadata": {},
   "source": [
    "**7) Рассмотрим жилую площадь**"
   ]
  },
  {
   "cell_type": "code",
   "execution_count": 46,
   "metadata": {},
   "outputs": [
    {
     "data": {
      "image/png": "[encoded data removed]",
      "text/plain": [
       "<Figure size 432x288 with 1 Axes>"
      ]
     },
     "metadata": {
      "needs_background": "light"
     },
     "output_type": "display_data"
    },
    {
     "data": {
      "image/png": "[encoded data removed]",
      "text/plain": [
       "<Figure size 432x288 with 1 Axes>"
      ]
     },
     "metadata": {
      "needs_background": "light"
     },
     "output_type": "display_data"
    }
   ],
   "source": [
    "data['living_area'].hist(bins=30,range=(0,20))\n",
    "plt.show()\n",
    "data['living_area'].hist(bins=30,range=(200, 500))\n",
    "plt.show()"
   ]
  },
  {
   "cell_type": "markdown",
   "metadata": {},
   "source": [
    "**Квартиры с жилой площадью меньше 10 кв и больше 250 имеют слишком маленькую выборку для анализа**\n",
    "<br>**Удаляем**"
   ]
  },
  {
   "cell_type": "code",
   "execution_count": 47,
   "metadata": {},
   "outputs": [],
   "source": [
    "data.drop(data.query('living_area < 10 or living_area > 250').index,inplace=True)"
   ]
  },
  {
   "cell_type": "code",
   "execution_count": 48,
   "metadata": {},
   "outputs": [
    {
     "data": {
      "image/png": "[encoded data removed]",
      "text/plain": [
       "<Figure size 432x288 with 1 Axes>"
      ]
     },
     "metadata": {
      "needs_background": "light"
     },
     "output_type": "display_data"
    }
   ],
   "source": [
    "data['living_area'].hist(bins=30);"
   ]
  },
  {
   "cell_type": "markdown",
   "metadata": {},
   "source": [
    "**8) Номер этажа**"
   ]
  },
  {
   "cell_type": "code",
   "execution_count": 49,
   "metadata": {},
   "outputs": [
    {
     "data": {
      "text/plain": [
       "array([ 8,  1,  4,  9, 13,  5,  6, 22, 26,  7,  3,  2, 11, 15, 18, 10, 19,\n",
       "       16, 20, 27, 25, 17, 14, 12, 21, 28, 24, 23, 30, 29, 32, 33, 31],\n",
       "      dtype=uint8)"
      ]
     },
     "execution_count": 49,
     "metadata": {},
     "output_type": "execute_result"
    }
   ],
   "source": [
    "data['floor'].unique()"
   ]
  },
  {
   "cell_type": "code",
   "execution_count": 50,
   "metadata": {},
   "outputs": [
    {
     "data": {
      "image/png": "[encoded data removed]",
      "text/plain": [
       "<Figure size 432x288 with 1 Axes>"
      ]
     },
     "metadata": {
      "needs_background": "light"
     },
     "output_type": "display_data"
    }
   ],
   "source": [
    "data['floor'].hist();"
   ]
  },
  {
   "cell_type": "markdown",
   "metadata": {},
   "source": [
    "**Не добавить, не убавить**"
   ]
  },
  {
   "cell_type": "markdown",
   "metadata": {},
   "source": [
    "**9) Площадь кухни**"
   ]
  },
  {
   "cell_type": "code",
   "execution_count": 51,
   "metadata": {},
   "outputs": [
    {
     "data": {
      "image/png": "[encoded data removed]",
      "text/plain": [
       "<Figure size 432x288 with 1 Axes>"
      ]
     },
     "metadata": {
      "needs_background": "light"
     },
     "output_type": "display_data"
    },
    {
     "data": {
      "image/png": "[encoded data removed]",
      "text/plain": [
       "<Figure size 432x288 with 1 Axes>"
      ]
     },
     "metadata": {
      "needs_background": "light"
     },
     "output_type": "display_data"
    }
   ],
   "source": [
    "data['kitchen_area'].hist(bins=50,range=(0,10))\n",
    "plt.show()\n",
    "data['kitchen_area'].hist(bins=50,range=(30, 150))\n",
    "plt.show()"
   ]
  },
  {
   "cell_type": "markdown",
   "metadata": {},
   "source": [
    "**Квартиры с кухней меньше 2 кв и больше 110 имеют слишком маленькую выборку для анализа**\n",
    "<br>**Удаляем**"
   ]
  },
  {
   "cell_type": "code",
   "execution_count": 52,
   "metadata": {},
   "outputs": [],
   "source": [
    "data.drop(data.query('kitchen_area < 2 or kitchen_area > 110').index,inplace=True)"
   ]
  },
  {
   "cell_type": "code",
   "execution_count": 53,
   "metadata": {},
   "outputs": [
    {
     "data": {
      "image/png": "[encoded data removed]",
      "text/plain": [
       "<Figure size 432x288 with 1 Axes>"
      ]
     },
     "metadata": {
      "needs_background": "light"
     },
     "output_type": "display_data"
    }
   ],
   "source": [
    "data['kitchen_area'].hist(bins=30);"
   ]
  },
  {
   "cell_type": "markdown",
   "metadata": {},
   "source": [
    "**10) Балконы**"
   ]
  },
  {
   "cell_type": "code",
   "execution_count": 54,
   "metadata": {},
   "outputs": [
    {
     "data": {
      "text/plain": [
       "array([0, 2, 1, 5, 4, 3], dtype=uint8)"
      ]
     },
     "execution_count": 54,
     "metadata": {},
     "output_type": "execute_result"
    }
   ],
   "source": [
    "data['balcony'].unique()"
   ]
  },
  {
   "cell_type": "code",
   "execution_count": 55,
   "metadata": {},
   "outputs": [
    {
     "data": {
      "image/png": "[encoded data removed]",
      "text/plain": [
       "<Figure size 432x288 with 1 Axes>"
      ]
     },
     "metadata": {
      "needs_background": "light"
     },
     "output_type": "display_data"
    }
   ],
   "source": [
    "data['balcony'].hist();"
   ]
  },
  {
   "cell_type": "markdown",
   "metadata": {},
   "source": [
    "**Тоже, ничего не поделать**"
   ]
  },
  {
   "cell_type": "code",
   "execution_count": 56,
   "metadata": {},
   "outputs": [
    {
     "data": {
      "image/png": "[encoded data removed]",
      "text/plain": [
       "<Figure size 1080x1080 with 9 Axes>"
      ]
     },
     "metadata": {
      "needs_background": "light"
     },
     "output_type": "display_data"
    }
   ],
   "source": [
    "data[list_name].hist(figsize=(15,15));"
   ]
  },
  {
   "cell_type": "markdown",
   "metadata": {},
   "source": [
    "**Признаки с расстояниями до объектов, в целом, выглядят хорошо, трогать не будем**"
   ]
  },
  {
   "cell_type": "markdown",
   "metadata": {},
   "source": [
    "**Булевы параметры остаются так как есть, такие как \"апартаменты\", \"студия\", \"открытая планировка\"**\n",
    "<br>**Дату тоже не изменить, как и количество дней  в продаже**\n",
    "<br>**С названиями тоже уже всё решено**"
   ]
  },
  {
   "cell_type": "markdown",
   "metadata": {},
   "source": [
    "**Посмотрим еще раз на данные, сперва сбросив индексацию**"
   ]
  },
  {
   "cell_type": "code",
   "execution_count": 57,
   "metadata": {},
   "outputs": [
    {
     "name": "stdout",
     "output_type": "stream",
     "text": [
      "<class 'pandas.core.frame.DataFrame'>\n",
      "RangeIndex: 23397 entries, 0 to 23396\n",
      "Data columns (total 22 columns):\n",
      " #   Column                 Non-Null Count  Dtype         \n",
      "---  ------                 --------------  -----         \n",
      " 0   total_images           23397 non-null  uint8         \n",
      " 1   last_price             23397 non-null  float64       \n",
      " 2   total_area             23397 non-null  float32       \n",
      " 3   first_day_exposition   23397 non-null  datetime64[ns]\n",
      " 4   rooms                  23397 non-null  uint8         \n",
      " 5   ceiling_height         23397 non-null  float32       \n",
      " 6   floors_total           23397 non-null  uint8         \n",
      " 7   living_area            21557 non-null  float32       \n",
      " 8   floor                  23397 non-null  uint8         \n",
      " 9   is_apartment           23397 non-null  bool          \n",
      " 10  studio                 23397 non-null  bool          \n",
      " 11  open_plan              23397 non-null  bool          \n",
      " 12  kitchen_area           21221 non-null  float32       \n",
      " 13  balcony                23397 non-null  uint8         \n",
      " 14  locality_name          23397 non-null  object        \n",
      " 15  airports_nearest       17886 non-null  float32       \n",
      " 16  city_centers_nearest   17907 non-null  float32       \n",
      " 17  parks_around_three_km  17908 non-null  float32       \n",
      " 18  parks_nearest          7924 non-null   float32       \n",
      " 19  ponds_around_three_km  17908 non-null  float32       \n",
      " 20  ponds_nearest          8933 non-null   float32       \n",
      " 21  days_exposition        20251 non-null  float32       \n",
      "dtypes: bool(3), datetime64[ns](1), float32(11), float64(1), object(1), uint8(5)\n",
      "memory usage: 1.7+ MB\n"
     ]
    }
   ],
   "source": [
    "data.reset_index(drop=True,inplace=True)\n",
    "data.info()"
   ]
  },
  {
   "cell_type": "code",
   "execution_count": 58,
   "metadata": {},
   "outputs": [
    {
     "data": {
      "text/html": [
       "<div>\n",
       "<style scoped>\n",
       "    .dataframe tbody tr th:only-of-type {\n",
       "        vertical-align: middle;\n",
       "    }\n",
       "\n",
       "    .dataframe tbody tr th {\n",
       "        vertical-align: top;\n",
       "    }\n",
       "\n",
       "    .dataframe thead th {\n",
       "        text-align: right;\n",
       "    }\n",
       "</style>\n",
       "<table border=\"1\" class=\"dataframe\">\n",
       "  <thead>\n",
       "    <tr style=\"text-align: right;\">\n",
       "      <th></th>\n",
       "      <th>total_images</th>\n",
       "      <th>last_price</th>\n",
       "      <th>total_area</th>\n",
       "      <th>rooms</th>\n",
       "      <th>ceiling_height</th>\n",
       "      <th>floors_total</th>\n",
       "      <th>living_area</th>\n",
       "      <th>floor</th>\n",
       "      <th>kitchen_area</th>\n",
       "      <th>balcony</th>\n",
       "      <th>airports_nearest</th>\n",
       "      <th>city_centers_nearest</th>\n",
       "      <th>parks_around_three_km</th>\n",
       "      <th>parks_nearest</th>\n",
       "      <th>ponds_around_three_km</th>\n",
       "      <th>ponds_nearest</th>\n",
       "      <th>days_exposition</th>\n",
       "    </tr>\n",
       "  </thead>\n",
       "  <tbody>\n",
       "    <tr>\n",
       "      <th>count</th>\n",
       "      <td>23397.000000</td>\n",
       "      <td>2.339700e+04</td>\n",
       "      <td>23397.000000</td>\n",
       "      <td>23397.000000</td>\n",
       "      <td>23397.000000</td>\n",
       "      <td>23397.000000</td>\n",
       "      <td>21557.000000</td>\n",
       "      <td>23397.000000</td>\n",
       "      <td>21221.000000</td>\n",
       "      <td>23397.000000</td>\n",
       "      <td>17886.000000</td>\n",
       "      <td>17907.000000</td>\n",
       "      <td>17908.000000</td>\n",
       "      <td>7924.000000</td>\n",
       "      <td>17908.000000</td>\n",
       "      <td>8933.000000</td>\n",
       "      <td>20251.000000</td>\n",
       "    </tr>\n",
       "    <tr>\n",
       "      <th>mean</th>\n",
       "      <td>9.873360</td>\n",
       "      <td>6.154722e+06</td>\n",
       "      <td>59.195232</td>\n",
       "      <td>2.053554</td>\n",
       "      <td>2.694031</td>\n",
       "      <td>10.691499</td>\n",
       "      <td>33.885017</td>\n",
       "      <td>5.883746</td>\n",
       "      <td>10.464621</td>\n",
       "      <td>0.595461</td>\n",
       "      <td>28819.064453</td>\n",
       "      <td>14241.013672</td>\n",
       "      <td>0.606433</td>\n",
       "      <td>491.108521</td>\n",
       "      <td>0.765133</td>\n",
       "      <td>519.733887</td>\n",
       "      <td>180.373703</td>\n",
       "    </tr>\n",
       "    <tr>\n",
       "      <th>std</th>\n",
       "      <td>5.675139</td>\n",
       "      <td>6.033835e+06</td>\n",
       "      <td>29.628754</td>\n",
       "      <td>1.019092</td>\n",
       "      <td>0.211571</td>\n",
       "      <td>6.582736</td>\n",
       "      <td>19.241020</td>\n",
       "      <td>4.874023</td>\n",
       "      <td>5.594929</td>\n",
       "      <td>0.961119</td>\n",
       "      <td>12658.304688</td>\n",
       "      <td>8604.595703</td>\n",
       "      <td>0.797681</td>\n",
       "      <td>342.080597</td>\n",
       "      <td>0.935400</td>\n",
       "      <td>277.666840</td>\n",
       "      <td>219.361420</td>\n",
       "    </tr>\n",
       "    <tr>\n",
       "      <th>min</th>\n",
       "      <td>0.000000</td>\n",
       "      <td>4.300000e+05</td>\n",
       "      <td>20.000000</td>\n",
       "      <td>0.000000</td>\n",
       "      <td>2.000000</td>\n",
       "      <td>1.000000</td>\n",
       "      <td>10.000000</td>\n",
       "      <td>1.000000</td>\n",
       "      <td>2.000000</td>\n",
       "      <td>0.000000</td>\n",
       "      <td>0.000000</td>\n",
       "      <td>181.000000</td>\n",
       "      <td>0.000000</td>\n",
       "      <td>1.000000</td>\n",
       "      <td>0.000000</td>\n",
       "      <td>13.000000</td>\n",
       "      <td>1.000000</td>\n",
       "    </tr>\n",
       "    <tr>\n",
       "      <th>25%</th>\n",
       "      <td>6.000000</td>\n",
       "      <td>3.400000e+06</td>\n",
       "      <td>40.000000</td>\n",
       "      <td>1.000000</td>\n",
       "      <td>2.600000</td>\n",
       "      <td>5.000000</td>\n",
       "      <td>18.600000</td>\n",
       "      <td>2.000000</td>\n",
       "      <td>7.000000</td>\n",
       "      <td>0.000000</td>\n",
       "      <td>18539.000000</td>\n",
       "      <td>9330.500000</td>\n",
       "      <td>0.000000</td>\n",
       "      <td>288.000000</td>\n",
       "      <td>0.000000</td>\n",
       "      <td>295.000000</td>\n",
       "      <td>45.000000</td>\n",
       "    </tr>\n",
       "    <tr>\n",
       "      <th>50%</th>\n",
       "      <td>9.000000</td>\n",
       "      <td>4.600000e+06</td>\n",
       "      <td>52.000000</td>\n",
       "      <td>2.000000</td>\n",
       "      <td>2.650000</td>\n",
       "      <td>9.000000</td>\n",
       "      <td>30.000000</td>\n",
       "      <td>4.000000</td>\n",
       "      <td>9.100000</td>\n",
       "      <td>0.000000</td>\n",
       "      <td>26785.500000</td>\n",
       "      <td>13138.000000</td>\n",
       "      <td>0.000000</td>\n",
       "      <td>455.000000</td>\n",
       "      <td>0.000000</td>\n",
       "      <td>504.000000</td>\n",
       "      <td>95.000000</td>\n",
       "    </tr>\n",
       "    <tr>\n",
       "      <th>75%</th>\n",
       "      <td>14.000000</td>\n",
       "      <td>6.700000e+06</td>\n",
       "      <td>69.099998</td>\n",
       "      <td>3.000000</td>\n",
       "      <td>2.700000</td>\n",
       "      <td>16.000000</td>\n",
       "      <td>42.099998</td>\n",
       "      <td>8.000000</td>\n",
       "      <td>12.000000</td>\n",
       "      <td>1.000000</td>\n",
       "      <td>37344.750000</td>\n",
       "      <td>16296.000000</td>\n",
       "      <td>1.000000</td>\n",
       "      <td>612.000000</td>\n",
       "      <td>1.000000</td>\n",
       "      <td>733.000000</td>\n",
       "      <td>230.500000</td>\n",
       "    </tr>\n",
       "    <tr>\n",
       "      <th>max</th>\n",
       "      <td>50.000000</td>\n",
       "      <td>9.900000e+07</td>\n",
       "      <td>300.000000</td>\n",
       "      <td>7.000000</td>\n",
       "      <td>5.000000</td>\n",
       "      <td>36.000000</td>\n",
       "      <td>250.000000</td>\n",
       "      <td>33.000000</td>\n",
       "      <td>107.000000</td>\n",
       "      <td>5.000000</td>\n",
       "      <td>84869.000000</td>\n",
       "      <td>65968.000000</td>\n",
       "      <td>3.000000</td>\n",
       "      <td>3190.000000</td>\n",
       "      <td>3.000000</td>\n",
       "      <td>1344.000000</td>\n",
       "      <td>1580.000000</td>\n",
       "    </tr>\n",
       "  </tbody>\n",
       "</table>\n",
       "</div>"
      ],
      "text/plain": [
       "       total_images    last_price    total_area         rooms  ceiling_height  \\\n",
       "count  23397.000000  2.339700e+04  23397.000000  23397.000000    23397.000000   \n",
       "mean       9.873360  6.154722e+06     59.195232      2.053554        2.694031   \n",
       "std        5.675139  6.033835e+06     29.628754      1.019092        0.211571   \n",
       "min        0.000000  4.300000e+05     20.000000      0.000000        2.000000   \n",
       "25%        6.000000  3.400000e+06     40.000000      1.000000        2.600000   \n",
       "50%        9.000000  4.600000e+06     52.000000      2.000000        2.650000   \n",
       "75%       14.000000  6.700000e+06     69.099998      3.000000        2.700000   \n",
       "max       50.000000  9.900000e+07    300.000000      7.000000        5.000000   \n",
       "\n",
       "       floors_total   living_area         floor  kitchen_area       balcony  \\\n",
       "count  23397.000000  21557.000000  23397.000000  21221.000000  23397.000000   \n",
       "mean      10.691499     33.885017      5.883746     10.464621      0.595461   \n",
       "std        6.582736     19.241020      4.874023      5.594929      0.961119   \n",
       "min        1.000000     10.000000      1.000000      2.000000      0.000000   \n",
       "25%        5.000000     18.600000      2.000000      7.000000      0.000000   \n",
       "50%        9.000000     30.000000      4.000000      9.100000      0.000000   \n",
       "75%       16.000000     42.099998      8.000000     12.000000      1.000000   \n",
       "max       36.000000    250.000000     33.000000    107.000000      5.000000   \n",
       "\n",
       "       airports_nearest  city_centers_nearest  parks_around_three_km  \\\n",
       "count      17886.000000          17907.000000           17908.000000   \n",
       "mean       28819.064453          14241.013672               0.606433   \n",
       "std        12658.304688           8604.595703               0.797681   \n",
       "min            0.000000            181.000000               0.000000   \n",
       "25%        18539.000000           9330.500000               0.000000   \n",
       "50%        26785.500000          13138.000000               0.000000   \n",
       "75%        37344.750000          16296.000000               1.000000   \n",
       "max        84869.000000          65968.000000               3.000000   \n",
       "\n",
       "       parks_nearest  ponds_around_three_km  ponds_nearest  days_exposition  \n",
       "count    7924.000000           17908.000000    8933.000000     20251.000000  \n",
       "mean      491.108521               0.765133     519.733887       180.373703  \n",
       "std       342.080597               0.935400     277.666840       219.361420  \n",
       "min         1.000000               0.000000      13.000000         1.000000  \n",
       "25%       288.000000               0.000000     295.000000        45.000000  \n",
       "50%       455.000000               0.000000     504.000000        95.000000  \n",
       "75%       612.000000               1.000000     733.000000       230.500000  \n",
       "max      3190.000000               3.000000    1344.000000      1580.000000  "
      ]
     },
     "execution_count": 58,
     "metadata": {},
     "output_type": "execute_result"
    }
   ],
   "source": [
    "data.describe()"
   ]
  },
  {
   "cell_type": "markdown",
   "metadata": {},
   "source": [
    "**На самом деле, если бы был адрес, можно было бы заполнить больше пропусков и откинуть меньше данных**\n",
    "<br>**А так же, если бы разобрался чуть больше в предметной области, можно было бы провести анализ зависимости столбцов и заполнить пропуски относительно новых знаний**\n"
   ]
  },
  {
   "cell_type": "markdown",
   "metadata": {},
   "source": [
    "### Посчитайте и добавьте в таблицу новые столбцы"
   ]
  },
  {
   "cell_type": "markdown",
   "metadata": {},
   "source": [
    "**цена одного квадратного метра**"
   ]
  },
  {
   "cell_type": "code",
   "execution_count": 59,
   "metadata": {},
   "outputs": [],
   "source": [
    "data['price_square_meter'] = data['last_price'] / data['total_area']"
   ]
  },
  {
   "cell_type": "markdown",
   "metadata": {},
   "source": [
    "**день недели публикации объявления**"
   ]
  },
  {
   "cell_type": "code",
   "execution_count": 60,
   "metadata": {},
   "outputs": [],
   "source": [
    "data['day_of_week'] = data['first_day_exposition'].dt.dayofweek"
   ]
  },
  {
   "cell_type": "markdown",
   "metadata": {},
   "source": [
    "**месяц публикации объявления**"
   ]
  },
  {
   "cell_type": "code",
   "execution_count": 61,
   "metadata": {},
   "outputs": [],
   "source": [
    "data['month_of_publication'] = data['first_day_exposition'].dt.month"
   ]
  },
  {
   "cell_type": "markdown",
   "metadata": {},
   "source": [
    "**год публикации объявления**"
   ]
  },
  {
   "cell_type": "code",
   "execution_count": 62,
   "metadata": {},
   "outputs": [],
   "source": [
    "data['year_of_publication'] = data['first_day_exposition'].dt.year"
   ]
  },
  {
   "cell_type": "markdown",
   "metadata": {},
   "source": [
    "**тип этажа квартиры**"
   ]
  },
  {
   "cell_type": "code",
   "execution_count": 63,
   "metadata": {},
   "outputs": [],
   "source": [
    "data['floor_type'] = data.apply(lambda x : 'первый' if (x.floor == 1) \n",
    "                                else ('последний' if (x.floor == x.floors_total) \n",
    "                                else 'другой'), axis=1)"
   ]
  },
  {
   "cell_type": "markdown",
   "metadata": {},
   "source": [
    "**перевод из м в км**"
   ]
  },
  {
   "cell_type": "code",
   "execution_count": 64,
   "metadata": {},
   "outputs": [],
   "source": [
    "data['city_centers_nearest_km'] = (data['city_centers_nearest'] / 1000).round(1)"
   ]
  },
  {
   "cell_type": "code",
   "execution_count": 65,
   "metadata": {},
   "outputs": [
    {
     "name": "stdout",
     "output_type": "stream",
     "text": [
      "<class 'pandas.core.frame.DataFrame'>\n",
      "RangeIndex: 23397 entries, 0 to 23396\n",
      "Data columns (total 28 columns):\n",
      " #   Column                   Non-Null Count  Dtype         \n",
      "---  ------                   --------------  -----         \n",
      " 0   total_images             23397 non-null  uint8         \n",
      " 1   last_price               23397 non-null  uint32        \n",
      " 2   total_area               23397 non-null  float32       \n",
      " 3   first_day_exposition     23397 non-null  datetime64[ns]\n",
      " 4   rooms                    23397 non-null  uint8         \n",
      " 5   ceiling_height           23397 non-null  float32       \n",
      " 6   floors_total             23397 non-null  uint8         \n",
      " 7   living_area              21557 non-null  float32       \n",
      " 8   floor                    23397 non-null  uint8         \n",
      " 9   is_apartment             23397 non-null  bool          \n",
      " 10  studio                   23397 non-null  bool          \n",
      " 11  open_plan                23397 non-null  bool          \n",
      " 12  kitchen_area             21221 non-null  float32       \n",
      " 13  balcony                  23397 non-null  uint8         \n",
      " 14  locality_name            23397 non-null  object        \n",
      " 15  airports_nearest         17886 non-null  float32       \n",
      " 16  city_centers_nearest     17907 non-null  float32       \n",
      " 17  parks_around_three_km    17908 non-null  float32       \n",
      " 18  parks_nearest            7924 non-null   float32       \n",
      " 19  ponds_around_three_km    17908 non-null  float32       \n",
      " 20  ponds_nearest            8933 non-null   float32       \n",
      " 21  days_exposition          20251 non-null  float32       \n",
      " 22  price_square_meter       23397 non-null  float32       \n",
      " 23  day_of_week              23397 non-null  uint8         \n",
      " 24  month_of_publication     23397 non-null  uint8         \n",
      " 25  year_of_publication      23397 non-null  uint16        \n",
      " 26  floor_type               23397 non-null  object        \n",
      " 27  city_centers_nearest_km  17907 non-null  float32       \n",
      "dtypes: bool(3), datetime64[ns](1), float32(13), object(2), uint16(1), uint32(1), uint8(7)\n",
      "memory usage: 2.1+ MB\n"
     ]
    }
   ],
   "source": [
    "# изменим тип\n",
    "data = data.astype({'last_price':'uint32', \n",
    "                    'price_square_meter':'float32', \n",
    "                    'day_of_week':'uint8', \n",
    "                    'month_of_publication':'uint8', \n",
    "                    'year_of_publication':'uint16'}, \n",
    "                    errors='ignore') \n",
    "data.info()"
   ]
  },
  {
   "cell_type": "markdown",
   "metadata": {},
   "source": [
    "### Проведите исследовательский анализ данных"
   ]
  },
  {
   "cell_type": "code",
   "execution_count": 66,
   "metadata": {},
   "outputs": [
    {
     "data": {
      "text/html": [
       "<div>\n",
       "<style scoped>\n",
       "    .dataframe tbody tr th:only-of-type {\n",
       "        vertical-align: middle;\n",
       "    }\n",
       "\n",
       "    .dataframe tbody tr th {\n",
       "        vertical-align: top;\n",
       "    }\n",
       "\n",
       "    .dataframe thead th {\n",
       "        text-align: right;\n",
       "    }\n",
       "</style>\n",
       "<table border=\"1\" class=\"dataframe\">\n",
       "  <thead>\n",
       "    <tr style=\"text-align: right;\">\n",
       "      <th></th>\n",
       "      <th>total_images</th>\n",
       "      <th>last_price</th>\n",
       "      <th>total_area</th>\n",
       "      <th>rooms</th>\n",
       "      <th>ceiling_height</th>\n",
       "      <th>floors_total</th>\n",
       "      <th>living_area</th>\n",
       "      <th>floor</th>\n",
       "      <th>kitchen_area</th>\n",
       "      <th>balcony</th>\n",
       "      <th>...</th>\n",
       "      <th>parks_around_three_km</th>\n",
       "      <th>parks_nearest</th>\n",
       "      <th>ponds_around_three_km</th>\n",
       "      <th>ponds_nearest</th>\n",
       "      <th>days_exposition</th>\n",
       "      <th>price_square_meter</th>\n",
       "      <th>day_of_week</th>\n",
       "      <th>month_of_publication</th>\n",
       "      <th>year_of_publication</th>\n",
       "      <th>city_centers_nearest_km</th>\n",
       "    </tr>\n",
       "  </thead>\n",
       "  <tbody>\n",
       "    <tr>\n",
       "      <th>count</th>\n",
       "      <td>23397.000000</td>\n",
       "      <td>2.339700e+04</td>\n",
       "      <td>23397.000000</td>\n",
       "      <td>23397.000000</td>\n",
       "      <td>23397.000000</td>\n",
       "      <td>23397.000000</td>\n",
       "      <td>21557.000000</td>\n",
       "      <td>23397.000000</td>\n",
       "      <td>21221.000000</td>\n",
       "      <td>23397.000000</td>\n",
       "      <td>...</td>\n",
       "      <td>17908.000000</td>\n",
       "      <td>7924.000000</td>\n",
       "      <td>17908.000000</td>\n",
       "      <td>8933.000000</td>\n",
       "      <td>20251.000000</td>\n",
       "      <td>23397.000000</td>\n",
       "      <td>23397.000000</td>\n",
       "      <td>23397.000000</td>\n",
       "      <td>23397.000000</td>\n",
       "      <td>17907.000000</td>\n",
       "    </tr>\n",
       "    <tr>\n",
       "      <th>mean</th>\n",
       "      <td>9.873360</td>\n",
       "      <td>6.154722e+06</td>\n",
       "      <td>59.195232</td>\n",
       "      <td>2.053554</td>\n",
       "      <td>2.694031</td>\n",
       "      <td>10.691499</td>\n",
       "      <td>33.885017</td>\n",
       "      <td>5.883746</td>\n",
       "      <td>10.464621</td>\n",
       "      <td>0.595461</td>\n",
       "      <td>...</td>\n",
       "      <td>0.606433</td>\n",
       "      <td>491.108521</td>\n",
       "      <td>0.765133</td>\n",
       "      <td>519.733887</td>\n",
       "      <td>180.373703</td>\n",
       "      <td>98398.546875</td>\n",
       "      <td>2.567295</td>\n",
       "      <td>6.403556</td>\n",
       "      <td>2017.372014</td>\n",
       "      <td>14.240984</td>\n",
       "    </tr>\n",
       "    <tr>\n",
       "      <th>std</th>\n",
       "      <td>5.675139</td>\n",
       "      <td>6.033835e+06</td>\n",
       "      <td>29.628754</td>\n",
       "      <td>1.019092</td>\n",
       "      <td>0.211571</td>\n",
       "      <td>6.582736</td>\n",
       "      <td>19.241020</td>\n",
       "      <td>4.874023</td>\n",
       "      <td>5.594929</td>\n",
       "      <td>0.961119</td>\n",
       "      <td>...</td>\n",
       "      <td>0.797681</td>\n",
       "      <td>342.080597</td>\n",
       "      <td>0.935400</td>\n",
       "      <td>277.666840</td>\n",
       "      <td>219.361420</td>\n",
       "      <td>42810.941406</td>\n",
       "      <td>1.788115</td>\n",
       "      <td>3.493354</td>\n",
       "      <td>1.036684</td>\n",
       "      <td>8.604205</td>\n",
       "    </tr>\n",
       "    <tr>\n",
       "      <th>min</th>\n",
       "      <td>0.000000</td>\n",
       "      <td>4.300000e+05</td>\n",
       "      <td>20.000000</td>\n",
       "      <td>0.000000</td>\n",
       "      <td>2.000000</td>\n",
       "      <td>1.000000</td>\n",
       "      <td>10.000000</td>\n",
       "      <td>1.000000</td>\n",
       "      <td>2.000000</td>\n",
       "      <td>0.000000</td>\n",
       "      <td>...</td>\n",
       "      <td>0.000000</td>\n",
       "      <td>1.000000</td>\n",
       "      <td>0.000000</td>\n",
       "      <td>13.000000</td>\n",
       "      <td>1.000000</td>\n",
       "      <td>7962.962891</td>\n",
       "      <td>0.000000</td>\n",
       "      <td>1.000000</td>\n",
       "      <td>2014.000000</td>\n",
       "      <td>0.200000</td>\n",
       "    </tr>\n",
       "    <tr>\n",
       "      <th>25%</th>\n",
       "      <td>6.000000</td>\n",
       "      <td>3.400000e+06</td>\n",
       "      <td>40.000000</td>\n",
       "      <td>1.000000</td>\n",
       "      <td>2.600000</td>\n",
       "      <td>5.000000</td>\n",
       "      <td>18.600000</td>\n",
       "      <td>2.000000</td>\n",
       "      <td>7.000000</td>\n",
       "      <td>0.000000</td>\n",
       "      <td>...</td>\n",
       "      <td>0.000000</td>\n",
       "      <td>288.000000</td>\n",
       "      <td>0.000000</td>\n",
       "      <td>295.000000</td>\n",
       "      <td>45.000000</td>\n",
       "      <td>76500.000000</td>\n",
       "      <td>1.000000</td>\n",
       "      <td>3.000000</td>\n",
       "      <td>2017.000000</td>\n",
       "      <td>9.300000</td>\n",
       "    </tr>\n",
       "    <tr>\n",
       "      <th>50%</th>\n",
       "      <td>9.000000</td>\n",
       "      <td>4.600000e+06</td>\n",
       "      <td>52.000000</td>\n",
       "      <td>2.000000</td>\n",
       "      <td>2.650000</td>\n",
       "      <td>9.000000</td>\n",
       "      <td>30.000000</td>\n",
       "      <td>4.000000</td>\n",
       "      <td>9.100000</td>\n",
       "      <td>0.000000</td>\n",
       "      <td>...</td>\n",
       "      <td>0.000000</td>\n",
       "      <td>455.000000</td>\n",
       "      <td>0.000000</td>\n",
       "      <td>504.000000</td>\n",
       "      <td>95.000000</td>\n",
       "      <td>94861.664062</td>\n",
       "      <td>3.000000</td>\n",
       "      <td>6.000000</td>\n",
       "      <td>2017.000000</td>\n",
       "      <td>13.100000</td>\n",
       "    </tr>\n",
       "    <tr>\n",
       "      <th>75%</th>\n",
       "      <td>14.000000</td>\n",
       "      <td>6.700000e+06</td>\n",
       "      <td>69.099998</td>\n",
       "      <td>3.000000</td>\n",
       "      <td>2.700000</td>\n",
       "      <td>16.000000</td>\n",
       "      <td>42.099998</td>\n",
       "      <td>8.000000</td>\n",
       "      <td>12.000000</td>\n",
       "      <td>1.000000</td>\n",
       "      <td>...</td>\n",
       "      <td>1.000000</td>\n",
       "      <td>612.000000</td>\n",
       "      <td>1.000000</td>\n",
       "      <td>733.000000</td>\n",
       "      <td>230.500000</td>\n",
       "      <td>113945.578125</td>\n",
       "      <td>4.000000</td>\n",
       "      <td>10.000000</td>\n",
       "      <td>2018.000000</td>\n",
       "      <td>16.299999</td>\n",
       "    </tr>\n",
       "    <tr>\n",
       "      <th>max</th>\n",
       "      <td>50.000000</td>\n",
       "      <td>9.900000e+07</td>\n",
       "      <td>300.000000</td>\n",
       "      <td>7.000000</td>\n",
       "      <td>5.000000</td>\n",
       "      <td>36.000000</td>\n",
       "      <td>250.000000</td>\n",
       "      <td>33.000000</td>\n",
       "      <td>107.000000</td>\n",
       "      <td>5.000000</td>\n",
       "      <td>...</td>\n",
       "      <td>3.000000</td>\n",
       "      <td>3190.000000</td>\n",
       "      <td>3.000000</td>\n",
       "      <td>1344.000000</td>\n",
       "      <td>1580.000000</td>\n",
       "      <td>848484.875000</td>\n",
       "      <td>6.000000</td>\n",
       "      <td>12.000000</td>\n",
       "      <td>2019.000000</td>\n",
       "      <td>66.000000</td>\n",
       "    </tr>\n",
       "  </tbody>\n",
       "</table>\n",
       "<p>8 rows × 22 columns</p>\n",
       "</div>"
      ],
      "text/plain": [
       "       total_images    last_price    total_area         rooms  ceiling_height  \\\n",
       "count  23397.000000  2.339700e+04  23397.000000  23397.000000    23397.000000   \n",
       "mean       9.873360  6.154722e+06     59.195232      2.053554        2.694031   \n",
       "std        5.675139  6.033835e+06     29.628754      1.019092        0.211571   \n",
       "min        0.000000  4.300000e+05     20.000000      0.000000        2.000000   \n",
       "25%        6.000000  3.400000e+06     40.000000      1.000000        2.600000   \n",
       "50%        9.000000  4.600000e+06     52.000000      2.000000        2.650000   \n",
       "75%       14.000000  6.700000e+06     69.099998      3.000000        2.700000   \n",
       "max       50.000000  9.900000e+07    300.000000      7.000000        5.000000   \n",
       "\n",
       "       floors_total   living_area         floor  kitchen_area       balcony  \\\n",
       "count  23397.000000  21557.000000  23397.000000  21221.000000  23397.000000   \n",
       "mean      10.691499     33.885017      5.883746     10.464621      0.595461   \n",
       "std        6.582736     19.241020      4.874023      5.594929      0.961119   \n",
       "min        1.000000     10.000000      1.000000      2.000000      0.000000   \n",
       "25%        5.000000     18.600000      2.000000      7.000000      0.000000   \n",
       "50%        9.000000     30.000000      4.000000      9.100000      0.000000   \n",
       "75%       16.000000     42.099998      8.000000     12.000000      1.000000   \n",
       "max       36.000000    250.000000     33.000000    107.000000      5.000000   \n",
       "\n",
       "       ...  parks_around_three_km  parks_nearest  ponds_around_three_km  \\\n",
       "count  ...           17908.000000    7924.000000           17908.000000   \n",
       "mean   ...               0.606433     491.108521               0.765133   \n",
       "std    ...               0.797681     342.080597               0.935400   \n",
       "min    ...               0.000000       1.000000               0.000000   \n",
       "25%    ...               0.000000     288.000000               0.000000   \n",
       "50%    ...               0.000000     455.000000               0.000000   \n",
       "75%    ...               1.000000     612.000000               1.000000   \n",
       "max    ...               3.000000    3190.000000               3.000000   \n",
       "\n",
       "       ponds_nearest  days_exposition  price_square_meter   day_of_week  \\\n",
       "count    8933.000000     20251.000000        23397.000000  23397.000000   \n",
       "mean      519.733887       180.373703        98398.546875      2.567295   \n",
       "std       277.666840       219.361420        42810.941406      1.788115   \n",
       "min        13.000000         1.000000         7962.962891      0.000000   \n",
       "25%       295.000000        45.000000        76500.000000      1.000000   \n",
       "50%       504.000000        95.000000        94861.664062      3.000000   \n",
       "75%       733.000000       230.500000       113945.578125      4.000000   \n",
       "max      1344.000000      1580.000000       848484.875000      6.000000   \n",
       "\n",
       "       month_of_publication  year_of_publication  city_centers_nearest_km  \n",
       "count          23397.000000         23397.000000             17907.000000  \n",
       "mean               6.403556          2017.372014                14.240984  \n",
       "std                3.493354             1.036684                 8.604205  \n",
       "min                1.000000          2014.000000                 0.200000  \n",
       "25%                3.000000          2017.000000                 9.300000  \n",
       "50%                6.000000          2017.000000                13.100000  \n",
       "75%               10.000000          2018.000000                16.299999  \n",
       "max               12.000000          2019.000000                66.000000  \n",
       "\n",
       "[8 rows x 22 columns]"
      ]
     },
     "execution_count": 66,
     "metadata": {},
     "output_type": "execute_result"
    }
   ],
   "source": [
    "data.describe()"
   ]
  },
  {
   "cell_type": "markdown",
   "metadata": {},
   "source": [
    "#### **Рассмотрим следующие параметры квартир**"
   ]
  },
  {
   "cell_type": "code",
   "execution_count": 67,
   "metadata": {},
   "outputs": [
    {
     "data": {
      "image/png": "[encoded data removed]",
      "text/plain": [
       "<Figure size 1080x1080 with 12 Axes>"
      ]
     },
     "metadata": {
      "needs_background": "light"
     },
     "output_type": "display_data"
    }
   ],
   "source": [
    "# параметры на рассмотрении перечислены в списке\n",
    "hist_list = ['total_area', 'living_area', 'kitchen_area', \n",
    "             'last_price', 'rooms', 'ceiling_height', \n",
    "             'floor_type', 'floors_total', \n",
    "             'city_centers_nearest', 'airports_nearest', 'parks_nearest', \n",
    "             'day_of_week', 'month_of_publication']\n",
    "\n",
    "data.hist(hist_list, figsize=(15,15));"
   ]
  },
  {
   "cell_type": "markdown",
   "metadata": {},
   "source": [
    "**А теперь по порядку:**"
   ]
  },
  {
   "cell_type": "markdown",
   "metadata": {},
   "source": [
    "**1) На графике видно, что большая часть квартир имеют общую площадь до 75 кв м. Далее идет резкий спад**\n",
    "<br>**2) Ну и естественно такое же поведение проссматривается для жилой площади и кухни, чем больше общая площадь, тем вероятнее и спален больше и кухня по просторнее**\n",
    "<br>**3) А поскольку чем больше квадратов, тем стоимость квартиры выше (это без учета района и прочих особенностей строения), график ведет себя таким же образом**\n",
    "<br>**4) Для самой популярной квадратуры нашей выборки не удивительно, что наиболее популярное количество комнат это от одной до трех**\n",
    "<br>**5) Про высоту потолков вообще особо смысла говорить нет, поскольку они делаются по ГОСТ-ам, если они не элитная недвижимость . Варируются в районе 2.5 - 3 метров, а разные высоты могут быть из-за того, что кто-то до нятяжных потолков замерил, итд...**\n",
    "<br>**6) Общее количество этажей выглядит предсказуемо, привет сталинкам и хрущевкам, 5 этажей наше всё. Но к слову и многоэтажных домов мало, это по большей части из-за того, что город расположен на болотах, там небоскребы не популярны, а если быть конкретнее, то местами вовсе запрещены. PS В моем регионе такая же ситуация, город на васюганских болотах, самое большое жилое здание 25 этажей**\n",
    "<br>**7) Поскольку центр является исторической частью, там квартиры продают реже, поэтому большая часть нашей выборки находится на расстоянии 3км от центра**\n",
    "<br>**8) Расстояние до аэропорта в целом не большое каких-то 20 км для большей части выборки, что говорит о том, что аэропорт находится близко к городу**\n",
    "<br>**9) Так же радует, что в основном все живут рядом с парками**\n",
    "<br>**10) Не удивительно, что в основном объявления о продаже квартир выкладывают в рабочие дни, поскольку основной массой объявлений о продаже занимаются риэлторы. Но интересно, что во вторник и четверг больше всего, а в пн наименьшее значение в будни. Наверно в нечетные дни занимаются поиском новых клиентов, а в четные выкладывают=)**\n",
    "<br>**11) Еще занимательное наблюдение, с квартирами стараются распращаться в конце и начале года, новый год - новые возможности. Весной какой-то спад, но думаю это от года в год зависит, что к лету падение, а потом рост продаж**\n",
    "<br>**12) И наконец, тип этажа, как ни страно, больше продаж квартир не последний и не первый этаж. Ну тут конечно элементарно. Если начать продавать весь дом, то к примеру: Есть пятиэтажный дом. В нем 7 подъездов. На каждом этаже подъезда по 2 квартиры. Итого мы получаем 70 квартир. Но при этом на первом, как и на последнем будет всего по 14 квартир. А на остальных этажах 48 квартир. (График из данных представлен ниже)**"
   ]
  },
  {
   "cell_type": "code",
   "execution_count": 68,
   "metadata": {},
   "outputs": [
    {
     "data": {
      "image/png": "[encoded data removed]",
      "text/plain": [
       "<Figure size 432x288 with 1 Axes>"
      ]
     },
     "metadata": {
      "needs_background": "light"
     },
     "output_type": "display_data"
    }
   ],
   "source": [
    "data['floor_type'].hist();"
   ]
  },
  {
   "cell_type": "markdown",
   "metadata": {},
   "source": [
    "#### **Поговорим о скорости продажи**"
   ]
  },
  {
   "cell_type": "code",
   "execution_count": 69,
   "metadata": {},
   "outputs": [
    {
     "data": {
      "text/plain": [
       "mean      180.373703\n",
       "median     95.000000\n",
       "Name: days_exposition, dtype: float64"
      ]
     },
     "execution_count": 69,
     "metadata": {},
     "output_type": "execute_result"
    }
   ],
   "source": [
    "data['days_exposition'].agg(['mean', 'median'])"
   ]
  },
  {
   "cell_type": "markdown",
   "metadata": {},
   "source": [
    "**Глядя на медиану и среднее можно сделать вывод, что в среднем, квартиры продают по пол года, но медиана сокращает это значение в два раза, из-за растянутых продаж дорогостоющих квартир**"
   ]
  },
  {
   "cell_type": "markdown",
   "metadata": {},
   "source": [
    "**Вся выборка**"
   ]
  },
  {
   "cell_type": "code",
   "execution_count": 70,
   "metadata": {},
   "outputs": [
    {
     "data": {
      "image/png": "[encoded data removed]",
      "text/plain": [
       "<Figure size 864x432 with 1 Axes>"
      ]
     },
     "metadata": {
      "needs_background": "light"
     },
     "output_type": "display_data"
    }
   ],
   "source": [
    "data['days_exposition'].hist(bins=150, figsize=(12,6))\n",
    "plt.show()\n"
   ]
  },
  {
   "cell_type": "markdown",
   "metadata": {},
   "source": [
    "**Выборка до 300 дней продажи**"
   ]
  },
  {
   "cell_type": "code",
   "execution_count": 71,
   "metadata": {},
   "outputs": [
    {
     "data": {
      "image/png": "[encoded data removed]",
      "text/plain": [
       "<Figure size 864x432 with 1 Axes>"
      ]
     },
     "metadata": {
      "needs_background": "light"
     },
     "output_type": "display_data"
    }
   ],
   "source": [
    "data['days_exposition'].hist(bins=100, figsize=(12,6), range=(0,300))\n",
    "plt.show()"
   ]
  },
  {
   "cell_type": "code",
   "execution_count": 72,
   "metadata": {},
   "outputs": [
    {
     "data": {
      "image/png": "[encoded data removed]",
      "text/plain": [
       "<Figure size 864x432 with 1 Axes>"
      ]
     },
     "metadata": {
      "needs_background": "light"
     },
     "output_type": "display_data"
    }
   ],
   "source": [
    "data['days_exposition'].hist(bins=60, figsize=(12,6), range=(40,100))\n",
    "plt.show()"
   ]
  },
  {
   "cell_type": "markdown",
   "metadata": {},
   "source": [
    "**Так же есть заметные пики на ровных числах (45, 60, 90). Есть подозрение, что это автоснятие объявления из системы**"
   ]
  },
  {
   "cell_type": "markdown",
   "metadata": {},
   "source": [
    "#### Факторы влияющие на цену"
   ]
  },
  {
   "cell_type": "markdown",
   "metadata": {},
   "source": [
    "**Вызовем функицию, показывающую корреляцию**"
   ]
  },
  {
   "cell_type": "code",
   "execution_count": 73,
   "metadata": {},
   "outputs": [
    {
     "name": "stdout",
     "output_type": "stream",
     "text": [
      "Кореляция:\n",
      "Цена <-> Общая площадь : 0.75 %\n",
      "Цена <-> Жилая площадь : 0.66 %\n",
      "Цена <-> Площадь кухни : 0.58 %\n",
      "Цена <-> Количество комнат : 0.45 %\n"
     ]
    }
   ],
   "source": [
    "dict_arg = {'Общая площадь' : 'total_area',\n",
    "            'Жилая площадь' : 'living_area',\n",
    "            'Площадь кухни' : 'kitchen_area',\n",
    "            'Количество комнат' : 'rooms'}\n",
    "\n",
    "print('Кореляция:')\n",
    "for i, j in dict_arg.items():\n",
    "    print(f\"Цена <-> {i} : {data['last_price'].corr(data[j]):.2} %\")"
   ]
  },
  {
   "cell_type": "markdown",
   "metadata": {},
   "source": [
    "**В целом, результаты очевидны, площадь квартиры имеет наибольший вес**"
   ]
  },
  {
   "cell_type": "markdown",
   "metadata": {},
   "source": [
    "**Рассмотрим графически**"
   ]
  },
  {
   "cell_type": "markdown",
   "metadata": {},
   "source": [
    "**1) Начнем с отношения цены и этажа**"
   ]
  },
  {
   "cell_type": "code",
   "execution_count": 74,
   "metadata": {},
   "outputs": [
    {
     "data": {
      "image/png": "[encoded data removed]",
      "text/plain": [
       "<Figure size 432x288 with 1 Axes>"
      ]
     },
     "metadata": {
      "needs_background": "light"
     },
     "output_type": "display_data"
    }
   ],
   "source": [
    "data.pivot_table(index='floor_type',values='last_price').plot(y='last_price', kind='bar');"
   ]
  },
  {
   "cell_type": "markdown",
   "metadata": {},
   "source": [
    "**Как видим, этаж почти не влияет на стоимость, отметить можно только первый этаж**"
   ]
  },
  {
   "cell_type": "markdown",
   "metadata": {},
   "source": [
    "**2) Отношение цены и общей площади / жилой площади / кухни**"
   ]
  },
  {
   "cell_type": "code",
   "execution_count": 75,
   "metadata": {},
   "outputs": [
    {
     "data": {
      "image/png": "[encoded data removed]",
      "text/plain": [
       "<Figure size 864x432 with 1 Axes>"
      ]
     },
     "metadata": {
      "needs_background": "light"
     },
     "output_type": "display_data"
    }
   ],
   "source": [
    "# Начнем с общей площади\n",
    "data.pivot_table(index='total_area',values='last_price').plot(y='last_price', figsize=(12,6));"
   ]
  },
  {
   "cell_type": "markdown",
   "metadata": {},
   "source": [
    "**Заметно, как растет отношение цены и общей площади. Скачки говорят о том, что есть еще зависимости. Скорее всего от расстояния до центра**"
   ]
  },
  {
   "cell_type": "code",
   "execution_count": 76,
   "metadata": {},
   "outputs": [
    {
     "data": {
      "image/png": "[encoded data removed]",
      "text/plain": [
       "<Figure size 864x432 with 1 Axes>"
      ]
     },
     "metadata": {
      "needs_background": "light"
     },
     "output_type": "display_data"
    }
   ],
   "source": [
    "# Жилая площадь\n",
    "data.pivot_table(index='living_area',values='last_price').plot(y='last_price', figsize=(12,6));"
   ]
  },
  {
   "cell_type": "markdown",
   "metadata": {},
   "source": [
    "**Такие же выводы и с жилой площадю. Скорее всего кухня не удивит. Разве что выборку можо было еще сделать меньше, по резкому окончанию, значит там мало значений.**"
   ]
  },
  {
   "cell_type": "code",
   "execution_count": 77,
   "metadata": {},
   "outputs": [
    {
     "data": {
      "image/png": "[encoded data removed]",
      "text/plain": [
       "<Figure size 864x432 with 1 Axes>"
      ]
     },
     "metadata": {
      "needs_background": "light"
     },
     "output_type": "display_data"
    }
   ],
   "source": [
    "# Площадь кухни\n",
    "data.pivot_table(index='kitchen_area',values='last_price').plot(y='last_price', figsize=(12,6));"
   ]
  },
  {
   "cell_type": "markdown",
   "metadata": {},
   "source": [
    "**Кухня большая, как и думали, тоже влияет на цену. Ну концовка тоже резкая из-за малого набора**"
   ]
  },
  {
   "cell_type": "markdown",
   "metadata": {},
   "source": [
    "**3) Отношение цены и количества комнат**"
   ]
  },
  {
   "cell_type": "code",
   "execution_count": 78,
   "metadata": {},
   "outputs": [
    {
     "data": {
      "image/png": "[encoded data removed]",
      "text/plain": [
       "<Figure size 864x432 with 1 Axes>"
      ]
     },
     "metadata": {
      "needs_background": "light"
     },
     "output_type": "display_data"
    }
   ],
   "source": [
    "# Количество комнат\n",
    "data.pivot_table(index='rooms',values='last_price').plot(y='last_price', figsize=(12,6), kind='bar');"
   ]
  },
  {
   "cell_type": "markdown",
   "metadata": {},
   "source": [
    "**Тут ноги так же растут от большой площади. Чем она больше, тем комнат больше и соответсвенно цена**"
   ]
  },
  {
   "cell_type": "markdown",
   "metadata": {},
   "source": [
    "**3) Отношение цены и даты**"
   ]
  },
  {
   "cell_type": "code",
   "execution_count": 79,
   "metadata": {},
   "outputs": [
    {
     "data": {
      "image/png": "[encoded data removed]",
      "text/plain": [
       "<Figure size 864x432 with 1 Axes>"
      ]
     },
     "metadata": {
      "needs_background": "light"
     },
     "output_type": "display_data"
    }
   ],
   "source": [
    "# День недели\n",
    "data.pivot_table(index='day_of_week',values='last_price').plot(y='last_price', figsize=(12,6), kind='bar');"
   ]
  },
  {
   "cell_type": "code",
   "execution_count": 80,
   "metadata": {},
   "outputs": [
    {
     "data": {
      "image/png": "[encoded data removed]",
      "text/plain": [
       "<Figure size 864x432 with 1 Axes>"
      ]
     },
     "metadata": {
      "needs_background": "light"
     },
     "output_type": "display_data"
    }
   ],
   "source": [
    "# Месяц\n",
    "data.pivot_table(index='month_of_publication',values='last_price').plot(y='last_price', figsize=(12,6), kind='bar');"
   ]
  },
  {
   "cell_type": "code",
   "execution_count": 81,
   "metadata": {},
   "outputs": [
    {
     "data": {
      "image/png": "[encoded data removed]",
      "text/plain": [
       "<Figure size 864x432 with 1 Axes>"
      ]
     },
     "metadata": {
      "needs_background": "light"
     },
     "output_type": "display_data"
    }
   ],
   "source": [
    "# Год\n",
    "data.pivot_table(index='year_of_publication',values='last_price').plot(y='last_price', figsize=(12,6), kind='bar');"
   ]
  },
  {
   "cell_type": "markdown",
   "metadata": {},
   "source": [
    "**Как видим, дата не на что не влияет. Про 14 год молчу.**"
   ]
  },
  {
   "cell_type": "markdown",
   "metadata": {},
   "source": [
    "#### Посмотрим на среднюю цену в 10 населенных пунктах"
   ]
  },
  {
   "cell_type": "code",
   "execution_count": 82,
   "metadata": {},
   "outputs": [],
   "source": [
    "# соберем данные в кучку\n",
    "region_data = data.pivot_table(index='locality_name', values=['last_price','total_area'] ,aggfunc=['sum','count'])"
   ]
  },
  {
   "cell_type": "code",
   "execution_count": 83,
   "metadata": {},
   "outputs": [],
   "source": [
    "# для удобства изменим названия столбцов\n",
    "region_data.columns = ['last_price_sum','total_area_sum','last_price_count','total_area_count']"
   ]
  },
  {
   "cell_type": "code",
   "execution_count": 84,
   "metadata": {},
   "outputs": [],
   "source": [
    "# возьмем только населенные пункты с большим количеством объявлений\n",
    "region_data = region_data.sort_values('last_price_count', ascending=False)[:10]"
   ]
  },
  {
   "cell_type": "code",
   "execution_count": 85,
   "metadata": {},
   "outputs": [],
   "source": [
    "# считаем среднюю стоимость за квадратный метр\n",
    "region_data['price_per_square_meter'] = region_data['last_price_sum'] / region_data['total_area_sum']"
   ]
  },
  {
   "cell_type": "code",
   "execution_count": 86,
   "metadata": {},
   "outputs": [
    {
     "data": {
      "image/png": "[encoded data removed]",
      "text/plain": [
       "<Figure size 864x432 with 1 Axes>"
      ]
     },
     "metadata": {
      "needs_background": "light"
     },
     "output_type": "display_data"
    }
   ],
   "source": [
    "# сторим график\n",
    "region_data['price_per_square_meter'].plot(kind='bar', figsize=(12,6));"
   ]
  },
  {
   "cell_type": "markdown",
   "metadata": {},
   "source": [
    "**Выведем на экран населенные пункты с самой низкой и высокой стоимостью за квадратный метр**"
   ]
  },
  {
   "cell_type": "code",
   "execution_count": 87,
   "metadata": {},
   "outputs": [
    {
     "name": "stdout",
     "output_type": "stream",
     "text": [
      "Населенный пункт с самой высокой стоимостью квадратного метра: Санкт-Петербург\n",
      "Населенный пункт с самой низкой стоимостью квадратного метра: Выборг\n"
     ]
    }
   ],
   "source": [
    "# Про первый вывод промолчу\n",
    "print(f\"Населенный пункт с самой высокой стоимостью квадратного метра: {'-'.join(map(lambda x : x.capitalize(), region_data['price_per_square_meter'].idxmax().split('-')))}\")\n",
    "print(f\"Населенный пункт с самой низкой стоимостью квадратного метра: {region_data['price_per_square_meter'].idxmin().capitalize()}\")"
   ]
  },
  {
   "cell_type": "markdown",
   "metadata": {},
   "source": [
    "**Как видно было из графика, больше всего объявлений в Санк-Петербурге. А меньше всего в топ-10 городов - Выборг.**"
   ]
  },
  {
   "cell_type": "markdown",
   "metadata": {},
   "source": [
    "#### Теперь рассмотрим среднюю цену каждого километра до центра"
   ]
  },
  {
   "cell_type": "code",
   "execution_count": 88,
   "metadata": {},
   "outputs": [
    {
     "data": {
      "image/png": "[encoded data removed]",
      "text/plain": [
       "<Figure size 864x432 with 1 Axes>"
      ]
     },
     "metadata": {
      "needs_background": "light"
     },
     "output_type": "display_data"
    }
   ],
   "source": [
    "city_centers_data = data[data['locality_name']=='санкт-петербург'].pivot_table(index='city_centers_nearest_km',values='last_price',aggfunc='mean')\n",
    "city_centers_data.hist(figsize=(12,6));"
   ]
  },
  {
   "cell_type": "markdown",
   "metadata": {},
   "source": [
    "**Как видим, наибольшую цену за кв метр имеют квартиры с расстояним до киллометра**\n",
    "<br>**Далее цена падает, только под конец, есть небольшой рост, скорее всего это как-то облагороженный частный сектор**"
   ]
  },
  {
   "cell_type": "markdown",
   "metadata": {},
   "source": [
    "### Общий вывод"
   ]
  },
  {
   "cell_type": "markdown",
   "metadata": {},
   "source": [
    "**Подводя итоги:**"
   ]
  },
  {
   "cell_type": "markdown",
   "metadata": {},
   "source": [
    "**После открытия файла. Предварительно рассмотрев данные обнаружил в 23.6к объектов множество пропусков и аномалий.**\n",
    "<br>**~Следующим этапом обработал пропуски избавился от аномалий, чтобы достичь более четкую картину для анализа недвижимости Санкт-Петербурга и его области.**\n",
    "<br>**~Так же избавился от проблемы с типами данных в признаках. И для большей скорости обработки данных понизил разряд.**\n",
    "<br>**~Так же встретилась проблема с уникальностью названий населенных пунктов, то однозначные названия поселений, то ё и е создают разницу. От которой благополучно избавился.**\n",
    "<br>**~Как я говорил ранее, что есть некоторые параметры, например, адрес, который по понятным причинам не находится в датасете, могли бы улучшить предобработку данных, в особенности заполнение пропусков. Ну или хотя бы тип постройки, который имеет ГОСТ-ы.**\n",
    "<br>**~Так же для анализа били созданы отдельные признаки, такие как цена за квадратный метр, разделена дата публикации на составляющие, а также тип этажа.**\n",
    "<br>**~И переход непосредственно к анализу.  Были изучены основные признаки квартир, которые описаны в пункте 4.1. Из основного это большая часть квартир в продаже имеет не более 75 кв м. и много пятиэтажек. И стараются продавать квартиры в конце или начале года.**\n",
    "<br>**~Если говорить про скорость продаж, то в среднем квартиры продаются по полгода. Но медианное значение говорит, что чаще всего успевают продавать недвижимость за 3 месяца.**\n",
    "<br>**~Основное влияние на ценообразование квартиры это естественно ее площадь, чем больше площадь – тем дороже. Хотя стоимость квадрата может быть на меньшую площадь выше, чем у квартиры с большей площадью. Так же посчитав стоимость квадрата относительно расстояния до центра, так же можно заметить, как цена увеличивается с близостью к центру. Там же и был сделан вывод о том, что в Санкт-Петербурге стоимость квадрата выше, чем в населенных пунктах в области. Но чем ближе к Питеру населенный пункт, тем квартиры там дороже.**\n"
   ]
  }
 ],
 "metadata": {
  "ExecuteTimeLog": [
   {
    "duration": 1281,
    "start_time": "2023-02-09T07:39:30.987Z"
   },
   {
    "duration": 129,
    "start_time": "2023-02-09T07:39:43.476Z"
   },
   {
    "duration": 23,
    "start_time": "2023-02-09T07:39:45.321Z"
   },
   {
    "duration": 20,
    "start_time": "2023-02-09T07:39:57.779Z"
   },
   {
    "duration": 6,
    "start_time": "2023-02-09T07:40:03.530Z"
   },
   {
    "duration": 8,
    "start_time": "2023-02-09T07:40:11.308Z"
   },
   {
    "duration": 2108,
    "start_time": "2023-02-09T07:40:12.017Z"
   },
   {
    "duration": 10,
    "start_time": "2023-02-09T07:40:19.739Z"
   },
   {
    "duration": 6,
    "start_time": "2023-02-09T07:46:44.397Z"
   },
   {
    "duration": 3,
    "start_time": "2023-02-09T07:46:47.853Z"
   },
   {
    "duration": 4,
    "start_time": "2023-02-09T07:46:48.850Z"
   },
   {
    "duration": 9,
    "start_time": "2023-02-09T07:47:04.375Z"
   },
   {
    "duration": 6,
    "start_time": "2023-02-09T07:47:06.001Z"
   },
   {
    "duration": 13,
    "start_time": "2023-02-09T07:47:27.220Z"
   },
   {
    "duration": 12,
    "start_time": "2023-02-09T07:47:28.079Z"
   },
   {
    "duration": 15,
    "start_time": "2023-02-09T07:47:32.305Z"
   },
   {
    "duration": 30,
    "start_time": "2023-02-09T07:59:43.932Z"
   },
   {
    "duration": 32,
    "start_time": "2023-02-09T07:59:54.768Z"
   },
   {
    "duration": 34,
    "start_time": "2023-02-09T08:02:54.364Z"
   },
   {
    "duration": 13,
    "start_time": "2023-02-09T08:04:00.505Z"
   },
   {
    "duration": 6,
    "start_time": "2023-02-09T08:05:21.421Z"
   },
   {
    "duration": 85,
    "start_time": "2023-02-09T08:06:04.472Z"
   },
   {
    "duration": 87,
    "start_time": "2023-02-09T08:06:06.762Z"
   },
   {
    "duration": 17,
    "start_time": "2023-02-09T08:06:09.469Z"
   },
   {
    "duration": 22,
    "start_time": "2023-02-09T08:06:18.978Z"
   },
   {
    "duration": 17,
    "start_time": "2023-02-09T08:07:33.105Z"
   },
   {
    "duration": 21,
    "start_time": "2023-02-09T08:07:39.874Z"
   },
   {
    "duration": 15,
    "start_time": "2023-02-09T08:07:52.227Z"
   },
   {
    "duration": 16,
    "start_time": "2023-02-09T08:07:58.012Z"
   },
   {
    "duration": 21,
    "start_time": "2023-02-09T08:11:42.933Z"
   },
   {
    "duration": 21,
    "start_time": "2023-02-09T08:11:45.497Z"
   },
   {
    "duration": 17,
    "start_time": "2023-02-09T08:12:37.157Z"
   },
   {
    "duration": 42,
    "start_time": "2023-02-09T08:14:13.525Z"
   },
   {
    "duration": 28,
    "start_time": "2023-02-09T08:14:14.470Z"
   },
   {
    "duration": 32,
    "start_time": "2023-02-09T08:14:20.465Z"
   },
   {
    "duration": 31,
    "start_time": "2023-02-09T08:14:21.171Z"
   },
   {
    "duration": 719,
    "start_time": "2023-02-09T08:14:26.540Z"
   },
   {
    "duration": 13,
    "start_time": "2023-02-09T08:14:27.261Z"
   },
   {
    "duration": 15,
    "start_time": "2023-02-09T08:14:27.276Z"
   },
   {
    "duration": 2044,
    "start_time": "2023-02-09T08:14:27.293Z"
   },
   {
    "duration": 9,
    "start_time": "2023-02-09T08:14:29.339Z"
   },
   {
    "duration": 8,
    "start_time": "2023-02-09T08:14:29.350Z"
   },
   {
    "duration": 12,
    "start_time": "2023-02-09T08:14:29.360Z"
   },
   {
    "duration": 19,
    "start_time": "2023-02-09T08:14:29.374Z"
   },
   {
    "duration": 28,
    "start_time": "2023-02-09T08:14:29.394Z"
   },
   {
    "duration": 32,
    "start_time": "2023-02-09T08:14:29.423Z"
   },
   {
    "duration": 62,
    "start_time": "2023-02-09T08:14:29.456Z"
   },
   {
    "duration": 31,
    "start_time": "2023-02-09T08:14:29.519Z"
   },
   {
    "duration": 54,
    "start_time": "2023-02-09T08:14:29.552Z"
   },
   {
    "duration": 56,
    "start_time": "2023-02-09T08:14:29.608Z"
   },
   {
    "duration": 730,
    "start_time": "2023-02-09T08:16:03.894Z"
   },
   {
    "duration": 15,
    "start_time": "2023-02-09T08:16:04.626Z"
   },
   {
    "duration": 5,
    "start_time": "2023-02-09T08:16:04.642Z"
   },
   {
    "duration": 2081,
    "start_time": "2023-02-09T08:16:04.648Z"
   },
   {
    "duration": 8,
    "start_time": "2023-02-09T08:16:06.731Z"
   },
   {
    "duration": 5,
    "start_time": "2023-02-09T08:16:06.740Z"
   },
   {
    "duration": 6,
    "start_time": "2023-02-09T08:16:06.747Z"
   },
   {
    "duration": 12,
    "start_time": "2023-02-09T08:16:06.755Z"
   },
   {
    "duration": 26,
    "start_time": "2023-02-09T08:16:06.769Z"
   },
   {
    "duration": 14,
    "start_time": "2023-02-09T08:16:06.796Z"
   },
   {
    "duration": 27,
    "start_time": "2023-02-09T08:16:06.812Z"
   },
   {
    "duration": 14,
    "start_time": "2023-02-09T08:16:06.841Z"
   },
   {
    "duration": 44,
    "start_time": "2023-02-09T08:16:06.857Z"
   },
   {
    "duration": 16,
    "start_time": "2023-02-09T08:16:06.903Z"
   },
   {
    "duration": 728,
    "start_time": "2023-02-09T08:41:44.132Z"
   },
   {
    "duration": 29,
    "start_time": "2023-02-09T08:41:44.862Z"
   },
   {
    "duration": 5,
    "start_time": "2023-02-09T08:41:44.893Z"
   },
   {
    "duration": 2088,
    "start_time": "2023-02-09T08:41:44.899Z"
   },
   {
    "duration": 10,
    "start_time": "2023-02-09T08:41:46.993Z"
   },
   {
    "duration": 5,
    "start_time": "2023-02-09T08:41:47.005Z"
   },
   {
    "duration": 11,
    "start_time": "2023-02-09T08:41:47.011Z"
   },
   {
    "duration": 12,
    "start_time": "2023-02-09T08:41:47.023Z"
   },
   {
    "duration": 12,
    "start_time": "2023-02-09T08:41:47.037Z"
   },
   {
    "duration": 16,
    "start_time": "2023-02-09T08:41:47.050Z"
   },
   {
    "duration": 42,
    "start_time": "2023-02-09T08:41:47.068Z"
   },
   {
    "duration": 16,
    "start_time": "2023-02-09T08:41:47.112Z"
   },
   {
    "duration": 21,
    "start_time": "2023-02-09T08:41:47.130Z"
   },
   {
    "duration": 48,
    "start_time": "2023-02-09T08:41:47.153Z"
   },
   {
    "duration": 32,
    "start_time": "2023-02-09T08:41:55.671Z"
   },
   {
    "duration": 26,
    "start_time": "2023-02-09T08:41:56.568Z"
   },
   {
    "duration": 773,
    "start_time": "2023-02-09T08:42:00.522Z"
   },
   {
    "duration": 14,
    "start_time": "2023-02-09T08:42:01.297Z"
   },
   {
    "duration": 24,
    "start_time": "2023-02-09T08:42:01.312Z"
   },
   {
    "duration": 1995,
    "start_time": "2023-02-09T08:42:01.338Z"
   },
   {
    "duration": 8,
    "start_time": "2023-02-09T08:42:03.335Z"
   },
   {
    "duration": 12,
    "start_time": "2023-02-09T08:42:03.345Z"
   },
   {
    "duration": 9,
    "start_time": "2023-02-09T08:42:03.358Z"
   },
   {
    "duration": 10,
    "start_time": "2023-02-09T08:42:03.368Z"
   },
   {
    "duration": 26,
    "start_time": "2023-02-09T08:42:03.379Z"
   },
   {
    "duration": 13,
    "start_time": "2023-02-09T08:42:03.406Z"
   },
   {
    "duration": 32,
    "start_time": "2023-02-09T08:42:03.420Z"
   },
   {
    "duration": 15,
    "start_time": "2023-02-09T08:42:03.453Z"
   },
   {
    "duration": 36,
    "start_time": "2023-02-09T08:42:03.470Z"
   },
   {
    "duration": 30,
    "start_time": "2023-02-09T08:42:03.509Z"
   },
   {
    "duration": 40,
    "start_time": "2023-02-09T08:42:39.166Z"
   },
   {
    "duration": 31,
    "start_time": "2023-02-09T08:42:40.190Z"
   },
   {
    "duration": 796,
    "start_time": "2023-02-09T08:42:47.373Z"
   },
   {
    "duration": 21,
    "start_time": "2023-02-09T08:42:48.171Z"
   },
   {
    "duration": 4,
    "start_time": "2023-02-09T08:42:48.194Z"
   },
   {
    "duration": 2073,
    "start_time": "2023-02-09T08:42:48.200Z"
   },
   {
    "duration": 12,
    "start_time": "2023-02-09T08:42:50.275Z"
   },
   {
    "duration": 9,
    "start_time": "2023-02-09T08:42:50.296Z"
   },
   {
    "duration": 5,
    "start_time": "2023-02-09T08:42:50.307Z"
   },
   {
    "duration": 7,
    "start_time": "2023-02-09T08:42:50.313Z"
   },
   {
    "duration": 12,
    "start_time": "2023-02-09T08:42:50.322Z"
   },
   {
    "duration": 15,
    "start_time": "2023-02-09T08:42:50.335Z"
   },
   {
    "duration": 55,
    "start_time": "2023-02-09T08:42:50.352Z"
   },
   {
    "duration": 20,
    "start_time": "2023-02-09T08:42:50.409Z"
   },
   {
    "duration": 35,
    "start_time": "2023-02-09T08:42:50.430Z"
   },
   {
    "duration": 45,
    "start_time": "2023-02-09T08:42:50.467Z"
   },
   {
    "duration": 782,
    "start_time": "2023-02-09T08:44:07.484Z"
   },
   {
    "duration": 29,
    "start_time": "2023-02-09T08:44:08.269Z"
   },
   {
    "duration": 29,
    "start_time": "2023-02-09T08:44:08.299Z"
   },
   {
    "duration": 2091,
    "start_time": "2023-02-09T08:44:08.330Z"
   },
   {
    "duration": 11,
    "start_time": "2023-02-09T08:44:10.423Z"
   },
   {
    "duration": 8,
    "start_time": "2023-02-09T08:44:10.435Z"
   },
   {
    "duration": 7,
    "start_time": "2023-02-09T08:44:10.445Z"
   },
   {
    "duration": 9,
    "start_time": "2023-02-09T08:44:10.454Z"
   },
   {
    "duration": 31,
    "start_time": "2023-02-09T08:44:10.465Z"
   },
   {
    "duration": 19,
    "start_time": "2023-02-09T08:44:10.498Z"
   },
   {
    "duration": 31,
    "start_time": "2023-02-09T08:44:10.519Z"
   },
   {
    "duration": 43,
    "start_time": "2023-02-09T08:44:10.552Z"
   },
   {
    "duration": 14,
    "start_time": "2023-02-09T08:44:10.597Z"
   },
   {
    "duration": 29,
    "start_time": "2023-02-09T08:44:10.614Z"
   },
   {
    "duration": 25,
    "start_time": "2023-02-09T08:45:31.105Z"
   },
   {
    "duration": 23,
    "start_time": "2023-02-09T08:47:46.329Z"
   },
   {
    "duration": 17,
    "start_time": "2023-02-09T08:48:02.856Z"
   },
   {
    "duration": 16,
    "start_time": "2023-02-09T08:48:45.559Z"
   },
   {
    "duration": 16,
    "start_time": "2023-02-09T08:49:02.110Z"
   },
   {
    "duration": 120,
    "start_time": "2023-02-09T08:50:22.520Z"
   },
   {
    "duration": 14,
    "start_time": "2023-02-09T09:14:49.007Z"
   },
   {
    "duration": 20,
    "start_time": "2023-02-09T09:14:50.374Z"
   },
   {
    "duration": 795,
    "start_time": "2023-02-09T09:15:05.695Z"
   },
   {
    "duration": 22,
    "start_time": "2023-02-09T09:15:06.495Z"
   },
   {
    "duration": 12,
    "start_time": "2023-02-09T09:15:06.520Z"
   },
   {
    "duration": 2167,
    "start_time": "2023-02-09T09:15:06.534Z"
   },
   {
    "duration": 11,
    "start_time": "2023-02-09T09:15:08.703Z"
   },
   {
    "duration": 18,
    "start_time": "2023-02-09T09:15:08.716Z"
   },
   {
    "duration": 20,
    "start_time": "2023-02-09T09:15:08.736Z"
   },
   {
    "duration": 35,
    "start_time": "2023-02-09T09:15:08.758Z"
   },
   {
    "duration": 60,
    "start_time": "2023-02-09T09:15:08.795Z"
   },
   {
    "duration": 30,
    "start_time": "2023-02-09T09:15:08.858Z"
   },
   {
    "duration": 49,
    "start_time": "2023-02-09T09:15:08.901Z"
   },
   {
    "duration": 16,
    "start_time": "2023-02-09T09:15:08.952Z"
   },
   {
    "duration": 47,
    "start_time": "2023-02-09T09:15:08.970Z"
   },
   {
    "duration": 14,
    "start_time": "2023-02-09T09:15:09.019Z"
   },
   {
    "duration": 69,
    "start_time": "2023-02-09T09:15:09.035Z"
   },
   {
    "duration": 40,
    "start_time": "2023-02-09T09:16:42.904Z"
   },
   {
    "duration": 34,
    "start_time": "2023-02-09T09:16:59.112Z"
   },
   {
    "duration": 754,
    "start_time": "2023-02-09T09:17:03.215Z"
   },
   {
    "duration": 23,
    "start_time": "2023-02-09T09:17:03.972Z"
   },
   {
    "duration": 4,
    "start_time": "2023-02-09T09:17:03.997Z"
   },
   {
    "duration": 2034,
    "start_time": "2023-02-09T09:17:04.003Z"
   },
   {
    "duration": 9,
    "start_time": "2023-02-09T09:17:06.039Z"
   },
   {
    "duration": 8,
    "start_time": "2023-02-09T09:17:06.049Z"
   },
   {
    "duration": 12,
    "start_time": "2023-02-09T09:17:06.059Z"
   },
   {
    "duration": 14,
    "start_time": "2023-02-09T09:17:06.073Z"
   },
   {
    "duration": 18,
    "start_time": "2023-02-09T09:17:06.094Z"
   },
   {
    "duration": 13,
    "start_time": "2023-02-09T09:17:06.114Z"
   },
   {
    "duration": 27,
    "start_time": "2023-02-09T09:17:06.128Z"
   },
   {
    "duration": 17,
    "start_time": "2023-02-09T09:17:06.156Z"
   },
   {
    "duration": 45,
    "start_time": "2023-02-09T09:17:06.188Z"
   },
   {
    "duration": 45,
    "start_time": "2023-02-09T09:17:06.236Z"
   },
   {
    "duration": 33,
    "start_time": "2023-02-09T09:17:06.283Z"
   },
   {
    "duration": 35,
    "start_time": "2023-02-09T09:17:12.394Z"
   },
   {
    "duration": 801,
    "start_time": "2023-02-09T09:17:45.500Z"
   },
   {
    "duration": 19,
    "start_time": "2023-02-09T09:17:46.304Z"
   },
   {
    "duration": 5,
    "start_time": "2023-02-09T09:17:46.325Z"
   },
   {
    "duration": 2140,
    "start_time": "2023-02-09T09:17:46.333Z"
   },
   {
    "duration": 12,
    "start_time": "2023-02-09T09:17:48.474Z"
   },
   {
    "duration": 15,
    "start_time": "2023-02-09T09:17:48.487Z"
   },
   {
    "duration": 8,
    "start_time": "2023-02-09T09:17:48.504Z"
   },
   {
    "duration": 10,
    "start_time": "2023-02-09T09:17:48.513Z"
   },
   {
    "duration": 15,
    "start_time": "2023-02-09T09:17:48.524Z"
   },
   {
    "duration": 14,
    "start_time": "2023-02-09T09:17:48.542Z"
   },
   {
    "duration": 39,
    "start_time": "2023-02-09T09:17:48.558Z"
   },
   {
    "duration": 15,
    "start_time": "2023-02-09T09:17:48.599Z"
   },
   {
    "duration": 35,
    "start_time": "2023-02-09T09:17:48.616Z"
   },
   {
    "duration": 64,
    "start_time": "2023-02-09T09:17:48.652Z"
   },
   {
    "duration": 39,
    "start_time": "2023-02-09T09:17:48.718Z"
   },
   {
    "duration": 39,
    "start_time": "2023-02-09T09:17:48.759Z"
   },
   {
    "duration": 23,
    "start_time": "2023-02-09T09:18:39.722Z"
   },
   {
    "duration": 29,
    "start_time": "2023-02-09T09:20:53.077Z"
   },
   {
    "duration": 19,
    "start_time": "2023-02-09T09:20:57.508Z"
   },
   {
    "duration": 87,
    "start_time": "2023-02-09T09:23:06.317Z"
   },
   {
    "duration": 40,
    "start_time": "2023-02-09T09:23:56.776Z"
   },
   {
    "duration": 32,
    "start_time": "2023-02-09T09:24:02.403Z"
   },
   {
    "duration": 702,
    "start_time": "2023-02-09T09:24:07.839Z"
   },
   {
    "duration": 16,
    "start_time": "2023-02-09T09:24:08.543Z"
   },
   {
    "duration": 4,
    "start_time": "2023-02-09T09:24:08.560Z"
   },
   {
    "duration": 2055,
    "start_time": "2023-02-09T09:24:08.566Z"
   },
   {
    "duration": 10,
    "start_time": "2023-02-09T09:24:10.624Z"
   },
   {
    "duration": 7,
    "start_time": "2023-02-09T09:24:10.636Z"
   },
   {
    "duration": 8,
    "start_time": "2023-02-09T09:24:10.645Z"
   },
   {
    "duration": 13,
    "start_time": "2023-02-09T09:24:10.655Z"
   },
   {
    "duration": 20,
    "start_time": "2023-02-09T09:24:10.669Z"
   },
   {
    "duration": 23,
    "start_time": "2023-02-09T09:24:10.690Z"
   },
   {
    "duration": 30,
    "start_time": "2023-02-09T09:24:10.715Z"
   },
   {
    "duration": 15,
    "start_time": "2023-02-09T09:24:10.747Z"
   },
   {
    "duration": 44,
    "start_time": "2023-02-09T09:24:10.763Z"
   },
   {
    "duration": 33,
    "start_time": "2023-02-09T09:24:10.809Z"
   },
   {
    "duration": 58,
    "start_time": "2023-02-09T09:24:10.843Z"
   },
   {
    "duration": 33,
    "start_time": "2023-02-09T09:24:10.904Z"
   },
   {
    "duration": 20,
    "start_time": "2023-02-09T09:24:10.939Z"
   },
   {
    "duration": 91,
    "start_time": "2023-02-09T09:24:10.960Z"
   },
   {
    "duration": 32,
    "start_time": "2023-02-09T09:24:48.712Z"
   },
   {
    "duration": 750,
    "start_time": "2023-02-09T09:24:52.592Z"
   },
   {
    "duration": 12,
    "start_time": "2023-02-09T09:24:53.344Z"
   },
   {
    "duration": 20,
    "start_time": "2023-02-09T09:24:53.358Z"
   },
   {
    "duration": 1841,
    "start_time": "2023-02-09T09:24:53.379Z"
   },
   {
    "duration": 10,
    "start_time": "2023-02-09T09:24:55.223Z"
   },
   {
    "duration": 22,
    "start_time": "2023-02-09T09:24:55.234Z"
   },
   {
    "duration": 21,
    "start_time": "2023-02-09T09:24:55.258Z"
   },
   {
    "duration": 29,
    "start_time": "2023-02-09T09:24:55.281Z"
   },
   {
    "duration": 46,
    "start_time": "2023-02-09T09:24:55.311Z"
   },
   {
    "duration": 31,
    "start_time": "2023-02-09T09:24:55.358Z"
   },
   {
    "duration": 32,
    "start_time": "2023-02-09T09:24:55.391Z"
   },
   {
    "duration": 15,
    "start_time": "2023-02-09T09:24:55.425Z"
   },
   {
    "duration": 61,
    "start_time": "2023-02-09T09:24:55.441Z"
   },
   {
    "duration": 28,
    "start_time": "2023-02-09T09:24:55.506Z"
   },
   {
    "duration": 53,
    "start_time": "2023-02-09T09:24:55.536Z"
   },
   {
    "duration": 24,
    "start_time": "2023-02-09T09:24:55.591Z"
   },
   {
    "duration": 38,
    "start_time": "2023-02-09T09:24:55.616Z"
   },
   {
    "duration": 83,
    "start_time": "2023-02-09T09:24:55.656Z"
   },
   {
    "duration": 801,
    "start_time": "2023-02-09T09:25:26.866Z"
   },
   {
    "duration": 27,
    "start_time": "2023-02-09T09:25:27.669Z"
   },
   {
    "duration": 5,
    "start_time": "2023-02-09T09:25:27.698Z"
   },
   {
    "duration": 2121,
    "start_time": "2023-02-09T09:25:27.704Z"
   },
   {
    "duration": 9,
    "start_time": "2023-02-09T09:25:29.828Z"
   },
   {
    "duration": 6,
    "start_time": "2023-02-09T09:25:29.839Z"
   },
   {
    "duration": 9,
    "start_time": "2023-02-09T09:25:29.846Z"
   },
   {
    "duration": 7,
    "start_time": "2023-02-09T09:25:29.857Z"
   },
   {
    "duration": 13,
    "start_time": "2023-02-09T09:25:29.865Z"
   },
   {
    "duration": 22,
    "start_time": "2023-02-09T09:25:29.880Z"
   },
   {
    "duration": 27,
    "start_time": "2023-02-09T09:25:29.904Z"
   },
   {
    "duration": 16,
    "start_time": "2023-02-09T09:25:29.933Z"
   },
   {
    "duration": 58,
    "start_time": "2023-02-09T09:25:29.950Z"
   },
   {
    "duration": 34,
    "start_time": "2023-02-09T09:25:30.011Z"
   },
   {
    "duration": 58,
    "start_time": "2023-02-09T09:25:30.047Z"
   },
   {
    "duration": 24,
    "start_time": "2023-02-09T09:25:30.106Z"
   },
   {
    "duration": 34,
    "start_time": "2023-02-09T09:25:30.132Z"
   },
   {
    "duration": 82,
    "start_time": "2023-02-09T09:25:30.168Z"
   },
   {
    "duration": 799,
    "start_time": "2023-02-09T09:25:58.217Z"
   },
   {
    "duration": 15,
    "start_time": "2023-02-09T09:25:59.018Z"
   },
   {
    "duration": 5,
    "start_time": "2023-02-09T09:25:59.035Z"
   },
   {
    "duration": 2164,
    "start_time": "2023-02-09T09:25:59.041Z"
   },
   {
    "duration": 10,
    "start_time": "2023-02-09T09:26:01.206Z"
   },
   {
    "duration": 48,
    "start_time": "2023-02-09T09:26:01.218Z"
   },
   {
    "duration": 48,
    "start_time": "2023-02-09T09:26:01.268Z"
   },
   {
    "duration": 41,
    "start_time": "2023-02-09T09:26:01.318Z"
   },
   {
    "duration": 31,
    "start_time": "2023-02-09T09:26:01.361Z"
   },
   {
    "duration": 27,
    "start_time": "2023-02-09T09:26:01.395Z"
   },
   {
    "duration": 49,
    "start_time": "2023-02-09T09:26:01.423Z"
   },
   {
    "duration": 104,
    "start_time": "2023-02-09T09:26:01.474Z"
   },
   {
    "duration": 91,
    "start_time": "2023-02-09T09:26:01.580Z"
   },
   {
    "duration": 44,
    "start_time": "2023-02-09T09:26:01.673Z"
   },
   {
    "duration": 40,
    "start_time": "2023-02-09T09:26:01.719Z"
   },
   {
    "duration": 47,
    "start_time": "2023-02-09T09:26:01.761Z"
   },
   {
    "duration": 22,
    "start_time": "2023-02-09T09:26:01.810Z"
   },
   {
    "duration": 102,
    "start_time": "2023-02-09T09:26:01.834Z"
   },
   {
    "duration": 33,
    "start_time": "2023-02-09T09:28:48.700Z"
   },
   {
    "duration": 14,
    "start_time": "2023-02-09T09:28:53.433Z"
   },
   {
    "duration": 89,
    "start_time": "2023-02-09T09:29:18.197Z"
   },
   {
    "duration": 19,
    "start_time": "2023-02-09T09:29:37.254Z"
   },
   {
    "duration": 21,
    "start_time": "2023-02-09T09:29:42.056Z"
   },
   {
    "duration": 10,
    "start_time": "2023-02-09T09:30:14.078Z"
   },
   {
    "duration": 6,
    "start_time": "2023-02-09T09:30:19.117Z"
   },
   {
    "duration": 10,
    "start_time": "2023-02-09T09:30:25.613Z"
   },
   {
    "duration": 5,
    "start_time": "2023-02-09T09:30:28.336Z"
   },
   {
    "duration": 18,
    "start_time": "2023-02-09T09:30:52.431Z"
   },
   {
    "duration": 30,
    "start_time": "2023-02-09T09:31:16.793Z"
   },
   {
    "duration": 4,
    "start_time": "2023-02-09T09:31:36.028Z"
   },
   {
    "duration": 765,
    "start_time": "2023-02-09T09:31:40.728Z"
   },
   {
    "duration": 17,
    "start_time": "2023-02-09T09:31:41.495Z"
   },
   {
    "duration": 5,
    "start_time": "2023-02-09T09:31:41.514Z"
   },
   {
    "duration": 2082,
    "start_time": "2023-02-09T09:31:41.520Z"
   },
   {
    "duration": 11,
    "start_time": "2023-02-09T09:31:43.606Z"
   },
   {
    "duration": 33,
    "start_time": "2023-02-09T09:31:43.619Z"
   },
   {
    "duration": 40,
    "start_time": "2023-02-09T09:31:43.654Z"
   },
   {
    "duration": 39,
    "start_time": "2023-02-09T09:31:43.697Z"
   },
   {
    "duration": 74,
    "start_time": "2023-02-09T09:31:43.738Z"
   },
   {
    "duration": 29,
    "start_time": "2023-02-09T09:31:43.814Z"
   },
   {
    "duration": 65,
    "start_time": "2023-02-09T09:31:43.845Z"
   },
   {
    "duration": 13,
    "start_time": "2023-02-09T09:31:43.912Z"
   },
   {
    "duration": 47,
    "start_time": "2023-02-09T09:31:43.927Z"
   },
   {
    "duration": 75,
    "start_time": "2023-02-09T09:31:43.978Z"
   },
   {
    "duration": 57,
    "start_time": "2023-02-09T09:31:44.055Z"
   },
   {
    "duration": 45,
    "start_time": "2023-02-09T09:31:44.115Z"
   },
   {
    "duration": 54,
    "start_time": "2023-02-09T09:31:44.162Z"
   },
   {
    "duration": 36,
    "start_time": "2023-02-09T09:31:44.218Z"
   },
   {
    "duration": 72,
    "start_time": "2023-02-09T09:31:44.256Z"
   },
   {
    "duration": 3,
    "start_time": "2023-02-09T09:32:24.475Z"
   },
   {
    "duration": 3,
    "start_time": "2023-02-09T09:32:31.394Z"
   },
   {
    "duration": 3,
    "start_time": "2023-02-09T09:32:51.760Z"
   },
   {
    "duration": 4,
    "start_time": "2023-02-09T09:32:55.597Z"
   },
   {
    "duration": 4,
    "start_time": "2023-02-09T09:33:02.305Z"
   },
   {
    "duration": 5,
    "start_time": "2023-02-09T09:33:13.101Z"
   },
   {
    "duration": 756,
    "start_time": "2023-02-09T09:33:19.240Z"
   },
   {
    "duration": 16,
    "start_time": "2023-02-09T09:33:19.998Z"
   },
   {
    "duration": 4,
    "start_time": "2023-02-09T09:33:20.016Z"
   },
   {
    "duration": 1999,
    "start_time": "2023-02-09T09:33:20.022Z"
   },
   {
    "duration": 9,
    "start_time": "2023-02-09T09:33:22.022Z"
   },
   {
    "duration": 6,
    "start_time": "2023-02-09T09:33:22.032Z"
   },
   {
    "duration": 5,
    "start_time": "2023-02-09T09:33:22.040Z"
   },
   {
    "duration": 8,
    "start_time": "2023-02-09T09:33:22.046Z"
   },
   {
    "duration": 13,
    "start_time": "2023-02-09T09:33:22.055Z"
   },
   {
    "duration": 23,
    "start_time": "2023-02-09T09:33:22.070Z"
   },
   {
    "duration": 29,
    "start_time": "2023-02-09T09:33:22.095Z"
   },
   {
    "duration": 3,
    "start_time": "2023-02-09T09:33:22.126Z"
   },
   {
    "duration": 18,
    "start_time": "2023-02-09T09:33:22.131Z"
   },
   {
    "duration": 63,
    "start_time": "2023-02-09T09:33:22.150Z"
   },
   {
    "duration": 29,
    "start_time": "2023-02-09T09:33:22.215Z"
   },
   {
    "duration": 51,
    "start_time": "2023-02-09T09:33:22.245Z"
   },
   {
    "duration": 24,
    "start_time": "2023-02-09T09:33:22.298Z"
   },
   {
    "duration": 22,
    "start_time": "2023-02-09T09:33:22.324Z"
   },
   {
    "duration": 94,
    "start_time": "2023-02-09T09:33:22.348Z"
   },
   {
    "duration": 4,
    "start_time": "2023-02-09T09:34:39.533Z"
   },
   {
    "duration": 7,
    "start_time": "2023-02-09T09:34:45.277Z"
   },
   {
    "duration": 4,
    "start_time": "2023-02-09T09:35:00.694Z"
   },
   {
    "duration": 3,
    "start_time": "2023-02-09T09:35:26.671Z"
   },
   {
    "duration": 729,
    "start_time": "2023-02-09T09:36:54.738Z"
   },
   {
    "duration": 27,
    "start_time": "2023-02-09T09:36:55.469Z"
   },
   {
    "duration": 17,
    "start_time": "2023-02-09T09:36:55.498Z"
   },
   {
    "duration": 2160,
    "start_time": "2023-02-09T09:36:55.517Z"
   },
   {
    "duration": 20,
    "start_time": "2023-02-09T09:36:57.679Z"
   },
   {
    "duration": 7,
    "start_time": "2023-02-09T09:36:57.700Z"
   },
   {
    "duration": 7,
    "start_time": "2023-02-09T09:36:57.709Z"
   },
   {
    "duration": 11,
    "start_time": "2023-02-09T09:36:57.717Z"
   },
   {
    "duration": 19,
    "start_time": "2023-02-09T09:36:57.730Z"
   },
   {
    "duration": 23,
    "start_time": "2023-02-09T09:36:57.751Z"
   },
   {
    "duration": 39,
    "start_time": "2023-02-09T09:36:57.776Z"
   },
   {
    "duration": 4,
    "start_time": "2023-02-09T09:36:57.816Z"
   },
   {
    "duration": 20,
    "start_time": "2023-02-09T09:36:57.822Z"
   },
   {
    "duration": 59,
    "start_time": "2023-02-09T09:36:57.844Z"
   },
   {
    "duration": 33,
    "start_time": "2023-02-09T09:36:57.905Z"
   },
   {
    "duration": 62,
    "start_time": "2023-02-09T09:36:57.941Z"
   },
   {
    "duration": 26,
    "start_time": "2023-02-09T09:36:58.005Z"
   },
   {
    "duration": 59,
    "start_time": "2023-02-09T09:36:58.033Z"
   },
   {
    "duration": 77,
    "start_time": "2023-02-09T09:36:58.095Z"
   },
   {
    "duration": 770,
    "start_time": "2023-02-09T09:37:32.880Z"
   },
   {
    "duration": 14,
    "start_time": "2023-02-09T09:37:33.653Z"
   },
   {
    "duration": 27,
    "start_time": "2023-02-09T09:37:33.669Z"
   },
   {
    "duration": 2058,
    "start_time": "2023-02-09T09:37:33.698Z"
   },
   {
    "duration": 11,
    "start_time": "2023-02-09T09:37:35.760Z"
   },
   {
    "duration": 34,
    "start_time": "2023-02-09T09:37:35.773Z"
   },
   {
    "duration": 34,
    "start_time": "2023-02-09T09:37:35.809Z"
   },
   {
    "duration": 52,
    "start_time": "2023-02-09T09:37:35.845Z"
   },
   {
    "duration": 48,
    "start_time": "2023-02-09T09:37:35.898Z"
   },
   {
    "duration": 45,
    "start_time": "2023-02-09T09:37:35.947Z"
   },
   {
    "duration": 69,
    "start_time": "2023-02-09T09:37:35.994Z"
   },
   {
    "duration": 4,
    "start_time": "2023-02-09T09:37:36.064Z"
   },
   {
    "duration": 42,
    "start_time": "2023-02-09T09:37:36.069Z"
   },
   {
    "duration": 45,
    "start_time": "2023-02-09T09:37:36.114Z"
   },
   {
    "duration": 42,
    "start_time": "2023-02-09T09:37:36.161Z"
   },
   {
    "duration": 39,
    "start_time": "2023-02-09T09:37:36.205Z"
   },
   {
    "duration": 65,
    "start_time": "2023-02-09T09:37:36.245Z"
   },
   {
    "duration": 50,
    "start_time": "2023-02-09T09:37:36.312Z"
   },
   {
    "duration": 88,
    "start_time": "2023-02-09T09:37:36.363Z"
   },
   {
    "duration": 781,
    "start_time": "2023-02-09T09:37:47.071Z"
   },
   {
    "duration": 16,
    "start_time": "2023-02-09T09:37:47.854Z"
   },
   {
    "duration": 24,
    "start_time": "2023-02-09T09:37:47.871Z"
   },
   {
    "duration": 2032,
    "start_time": "2023-02-09T09:37:47.897Z"
   },
   {
    "duration": 9,
    "start_time": "2023-02-09T09:37:49.931Z"
   },
   {
    "duration": 9,
    "start_time": "2023-02-09T09:37:49.942Z"
   },
   {
    "duration": 5,
    "start_time": "2023-02-09T09:37:49.952Z"
   },
   {
    "duration": 9,
    "start_time": "2023-02-09T09:37:49.959Z"
   },
   {
    "duration": 25,
    "start_time": "2023-02-09T09:37:49.970Z"
   },
   {
    "duration": 15,
    "start_time": "2023-02-09T09:37:49.997Z"
   },
   {
    "duration": 33,
    "start_time": "2023-02-09T09:37:50.014Z"
   },
   {
    "duration": 4,
    "start_time": "2023-02-09T09:37:50.049Z"
   },
   {
    "duration": 37,
    "start_time": "2023-02-09T09:37:50.054Z"
   },
   {
    "duration": 35,
    "start_time": "2023-02-09T09:37:50.094Z"
   },
   {
    "duration": 34,
    "start_time": "2023-02-09T09:37:50.131Z"
   },
   {
    "duration": 63,
    "start_time": "2023-02-09T09:37:50.167Z"
   },
   {
    "duration": 23,
    "start_time": "2023-02-09T09:37:50.232Z"
   },
   {
    "duration": 35,
    "start_time": "2023-02-09T09:37:50.256Z"
   },
   {
    "duration": 71,
    "start_time": "2023-02-09T09:37:50.292Z"
   },
   {
    "duration": 774,
    "start_time": "2023-02-09T09:38:14.798Z"
   },
   {
    "duration": 22,
    "start_time": "2023-02-09T09:38:15.574Z"
   },
   {
    "duration": 18,
    "start_time": "2023-02-09T09:38:15.598Z"
   },
   {
    "duration": 2127,
    "start_time": "2023-02-09T09:38:15.618Z"
   },
   {
    "duration": 10,
    "start_time": "2023-02-09T09:38:17.748Z"
   },
   {
    "duration": 10,
    "start_time": "2023-02-09T09:38:17.760Z"
   },
   {
    "duration": 20,
    "start_time": "2023-02-09T09:38:17.772Z"
   },
   {
    "duration": 17,
    "start_time": "2023-02-09T09:38:17.794Z"
   },
   {
    "duration": 15,
    "start_time": "2023-02-09T09:38:17.813Z"
   },
   {
    "duration": 17,
    "start_time": "2023-02-09T09:38:17.829Z"
   },
   {
    "duration": 44,
    "start_time": "2023-02-09T09:38:17.848Z"
   },
   {
    "duration": 4,
    "start_time": "2023-02-09T09:38:17.894Z"
   },
   {
    "duration": 25,
    "start_time": "2023-02-09T09:38:17.899Z"
   },
   {
    "duration": 37,
    "start_time": "2023-02-09T09:38:17.928Z"
   },
   {
    "duration": 54,
    "start_time": "2023-02-09T09:38:17.967Z"
   },
   {
    "duration": 36,
    "start_time": "2023-02-09T09:38:18.023Z"
   },
   {
    "duration": 50,
    "start_time": "2023-02-09T09:38:18.061Z"
   },
   {
    "duration": 21,
    "start_time": "2023-02-09T09:38:18.113Z"
   },
   {
    "duration": 88,
    "start_time": "2023-02-09T09:38:18.136Z"
   },
   {
    "duration": 772,
    "start_time": "2023-02-09T09:40:04.069Z"
   },
   {
    "duration": 14,
    "start_time": "2023-02-09T09:40:04.842Z"
   },
   {
    "duration": 10,
    "start_time": "2023-02-09T09:40:04.858Z"
   },
   {
    "duration": 2043,
    "start_time": "2023-02-09T09:40:04.870Z"
   },
   {
    "duration": 9,
    "start_time": "2023-02-09T09:40:06.915Z"
   },
   {
    "duration": 6,
    "start_time": "2023-02-09T09:40:06.926Z"
   },
   {
    "duration": 6,
    "start_time": "2023-02-09T09:40:06.934Z"
   },
   {
    "duration": 8,
    "start_time": "2023-02-09T09:40:06.941Z"
   },
   {
    "duration": 13,
    "start_time": "2023-02-09T09:40:06.950Z"
   },
   {
    "duration": 28,
    "start_time": "2023-02-09T09:40:06.964Z"
   },
   {
    "duration": 30,
    "start_time": "2023-02-09T09:40:06.994Z"
   },
   {
    "duration": 3,
    "start_time": "2023-02-09T09:40:07.026Z"
   },
   {
    "duration": 19,
    "start_time": "2023-02-09T09:40:07.030Z"
   },
   {
    "duration": 55,
    "start_time": "2023-02-09T09:40:07.052Z"
   },
   {
    "duration": 31,
    "start_time": "2023-02-09T09:40:07.109Z"
   },
   {
    "duration": 60,
    "start_time": "2023-02-09T09:40:07.142Z"
   },
   {
    "duration": 21,
    "start_time": "2023-02-09T09:40:07.203Z"
   },
   {
    "duration": 21,
    "start_time": "2023-02-09T09:40:07.225Z"
   },
   {
    "duration": 84,
    "start_time": "2023-02-09T09:40:07.247Z"
   },
   {
    "duration": 782,
    "start_time": "2023-02-09T09:40:35.072Z"
   },
   {
    "duration": 14,
    "start_time": "2023-02-09T09:40:35.855Z"
   },
   {
    "duration": 20,
    "start_time": "2023-02-09T09:40:35.871Z"
   },
   {
    "duration": 2126,
    "start_time": "2023-02-09T09:40:35.894Z"
   },
   {
    "duration": 9,
    "start_time": "2023-02-09T09:40:38.023Z"
   },
   {
    "duration": 10,
    "start_time": "2023-02-09T09:40:38.033Z"
   },
   {
    "duration": 7,
    "start_time": "2023-02-09T09:40:38.044Z"
   },
   {
    "duration": 11,
    "start_time": "2023-02-09T09:40:38.052Z"
   },
   {
    "duration": 15,
    "start_time": "2023-02-09T09:40:38.065Z"
   },
   {
    "duration": 21,
    "start_time": "2023-02-09T09:40:38.088Z"
   },
   {
    "duration": 30,
    "start_time": "2023-02-09T09:40:38.111Z"
   },
   {
    "duration": 3,
    "start_time": "2023-02-09T09:40:38.143Z"
   },
   {
    "duration": 27,
    "start_time": "2023-02-09T09:40:38.148Z"
   },
   {
    "duration": 41,
    "start_time": "2023-02-09T09:40:38.187Z"
   },
   {
    "duration": 32,
    "start_time": "2023-02-09T09:40:38.230Z"
   },
   {
    "duration": 45,
    "start_time": "2023-02-09T09:40:38.263Z"
   },
   {
    "duration": 23,
    "start_time": "2023-02-09T09:40:38.310Z"
   },
   {
    "duration": 22,
    "start_time": "2023-02-09T09:40:38.335Z"
   },
   {
    "duration": 97,
    "start_time": "2023-02-09T09:40:38.359Z"
   },
   {
    "duration": 760,
    "start_time": "2023-02-09T09:40:58.664Z"
   },
   {
    "duration": 15,
    "start_time": "2023-02-09T09:40:59.426Z"
   },
   {
    "duration": 5,
    "start_time": "2023-02-09T09:40:59.442Z"
   },
   {
    "duration": 2081,
    "start_time": "2023-02-09T09:40:59.448Z"
   },
   {
    "duration": 10,
    "start_time": "2023-02-09T09:41:01.531Z"
   },
   {
    "duration": 33,
    "start_time": "2023-02-09T09:41:01.542Z"
   },
   {
    "duration": 30,
    "start_time": "2023-02-09T09:41:01.577Z"
   },
   {
    "duration": 13,
    "start_time": "2023-02-09T09:41:01.609Z"
   },
   {
    "duration": 27,
    "start_time": "2023-02-09T09:41:01.623Z"
   },
   {
    "duration": 25,
    "start_time": "2023-02-09T09:41:01.653Z"
   },
   {
    "duration": 39,
    "start_time": "2023-02-09T09:41:01.680Z"
   },
   {
    "duration": 11,
    "start_time": "2023-02-09T09:41:01.721Z"
   },
   {
    "duration": 42,
    "start_time": "2023-02-09T09:41:01.733Z"
   },
   {
    "duration": 70,
    "start_time": "2023-02-09T09:41:01.777Z"
   },
   {
    "duration": 32,
    "start_time": "2023-02-09T09:41:01.849Z"
   },
   {
    "duration": 53,
    "start_time": "2023-02-09T09:41:01.883Z"
   },
   {
    "duration": 23,
    "start_time": "2023-02-09T09:41:01.937Z"
   },
   {
    "duration": 35,
    "start_time": "2023-02-09T09:41:01.962Z"
   },
   {
    "duration": 94,
    "start_time": "2023-02-09T09:41:01.998Z"
   },
   {
    "duration": 790,
    "start_time": "2023-02-09T09:41:51.271Z"
   },
   {
    "duration": 28,
    "start_time": "2023-02-09T09:41:52.064Z"
   },
   {
    "duration": 6,
    "start_time": "2023-02-09T09:41:52.094Z"
   },
   {
    "duration": 2070,
    "start_time": "2023-02-09T09:41:52.102Z"
   },
   {
    "duration": 18,
    "start_time": "2023-02-09T09:41:54.176Z"
   },
   {
    "duration": 7,
    "start_time": "2023-02-09T09:41:54.196Z"
   },
   {
    "duration": 6,
    "start_time": "2023-02-09T09:41:54.205Z"
   },
   {
    "duration": 9,
    "start_time": "2023-02-09T09:41:54.212Z"
   },
   {
    "duration": 11,
    "start_time": "2023-02-09T09:41:54.223Z"
   },
   {
    "duration": 14,
    "start_time": "2023-02-09T09:41:54.235Z"
   },
   {
    "duration": 51,
    "start_time": "2023-02-09T09:41:54.250Z"
   },
   {
    "duration": 3,
    "start_time": "2023-02-09T09:41:54.303Z"
   },
   {
    "duration": 23,
    "start_time": "2023-02-09T09:41:54.307Z"
   },
   {
    "duration": 53,
    "start_time": "2023-02-09T09:41:54.333Z"
   },
   {
    "duration": 35,
    "start_time": "2023-02-09T09:41:54.387Z"
   },
   {
    "duration": 35,
    "start_time": "2023-02-09T09:41:54.423Z"
   },
   {
    "duration": 42,
    "start_time": "2023-02-09T09:41:54.460Z"
   },
   {
    "duration": 22,
    "start_time": "2023-02-09T09:41:54.505Z"
   },
   {
    "duration": 89,
    "start_time": "2023-02-09T09:41:54.529Z"
   },
   {
    "duration": 73,
    "start_time": "2023-02-09T09:46:23.596Z"
   },
   {
    "duration": 77,
    "start_time": "2023-02-09T09:55:05.494Z"
   },
   {
    "duration": 5,
    "start_time": "2023-02-09T09:55:07.441Z"
   },
   {
    "duration": 4,
    "start_time": "2023-02-09T09:55:16.814Z"
   },
   {
    "duration": 8,
    "start_time": "2023-02-09T09:57:50.310Z"
   },
   {
    "duration": 7,
    "start_time": "2023-02-09T09:59:39.100Z"
   },
   {
    "duration": 14,
    "start_time": "2023-02-09T09:59:42.277Z"
   },
   {
    "duration": 8,
    "start_time": "2023-02-09T10:16:12.897Z"
   },
   {
    "duration": 17,
    "start_time": "2023-02-09T10:16:21.675Z"
   },
   {
    "duration": 9,
    "start_time": "2023-02-09T10:16:29.597Z"
   },
   {
    "duration": 16,
    "start_time": "2023-02-09T10:16:36.700Z"
   },
   {
    "duration": 4,
    "start_time": "2023-02-09T10:16:59.642Z"
   },
   {
    "duration": 16,
    "start_time": "2023-02-09T10:17:02.941Z"
   },
   {
    "duration": 31,
    "start_time": "2023-02-09T10:17:11.401Z"
   },
   {
    "duration": 6,
    "start_time": "2023-02-09T10:17:48.074Z"
   },
   {
    "duration": 6,
    "start_time": "2023-02-09T10:17:58.104Z"
   },
   {
    "duration": 7,
    "start_time": "2023-02-09T10:18:02.097Z"
   },
   {
    "duration": 6,
    "start_time": "2023-02-09T10:18:48.500Z"
   },
   {
    "duration": 6,
    "start_time": "2023-02-09T10:18:50.403Z"
   },
   {
    "duration": 10,
    "start_time": "2023-02-09T10:18:54.202Z"
   },
   {
    "duration": 6,
    "start_time": "2023-02-09T10:20:28.135Z"
   },
   {
    "duration": 11,
    "start_time": "2023-02-09T10:20:30.289Z"
   },
   {
    "duration": 6,
    "start_time": "2023-02-09T10:20:32.305Z"
   },
   {
    "duration": 6,
    "start_time": "2023-02-09T10:20:36.113Z"
   },
   {
    "duration": 14,
    "start_time": "2023-02-09T10:21:46.012Z"
   },
   {
    "duration": 11,
    "start_time": "2023-02-09T10:21:47.747Z"
   },
   {
    "duration": 5,
    "start_time": "2023-02-09T10:21:54.572Z"
   },
   {
    "duration": 5,
    "start_time": "2023-02-09T10:21:58.439Z"
   },
   {
    "duration": 13,
    "start_time": "2023-02-09T10:22:14.974Z"
   },
   {
    "duration": 132,
    "start_time": "2023-02-09T10:22:36.012Z"
   },
   {
    "duration": 149,
    "start_time": "2023-02-09T10:23:00.202Z"
   },
   {
    "duration": 275,
    "start_time": "2023-02-09T10:23:07.775Z"
   },
   {
    "duration": 154,
    "start_time": "2023-02-09T10:23:12.473Z"
   },
   {
    "duration": 245,
    "start_time": "2023-02-09T10:23:16.100Z"
   },
   {
    "duration": 160,
    "start_time": "2023-02-09T10:23:47.604Z"
   },
   {
    "duration": 142,
    "start_time": "2023-02-09T10:23:53.606Z"
   },
   {
    "duration": 145,
    "start_time": "2023-02-09T10:24:14.800Z"
   },
   {
    "duration": 171,
    "start_time": "2023-02-09T10:24:20.075Z"
   },
   {
    "duration": 186,
    "start_time": "2023-02-09T10:24:25.022Z"
   },
   {
    "duration": 164,
    "start_time": "2023-02-09T10:24:27.914Z"
   },
   {
    "duration": 195,
    "start_time": "2023-02-09T10:24:30.415Z"
   },
   {
    "duration": 398,
    "start_time": "2023-02-09T10:24:45.008Z"
   },
   {
    "duration": 9,
    "start_time": "2023-02-09T10:24:48.004Z"
   },
   {
    "duration": 7,
    "start_time": "2023-02-09T10:24:52.803Z"
   },
   {
    "duration": 7,
    "start_time": "2023-02-09T10:24:58.601Z"
   },
   {
    "duration": 7,
    "start_time": "2023-02-09T10:25:03.634Z"
   },
   {
    "duration": 9,
    "start_time": "2023-02-09T10:25:20.378Z"
   },
   {
    "duration": 7,
    "start_time": "2023-02-09T10:26:33.718Z"
   },
   {
    "duration": 10,
    "start_time": "2023-02-09T10:27:40.441Z"
   },
   {
    "duration": 13,
    "start_time": "2023-02-09T10:27:43.341Z"
   },
   {
    "duration": 9,
    "start_time": "2023-02-09T10:27:50.095Z"
   },
   {
    "duration": 200,
    "start_time": "2023-02-09T10:27:56.019Z"
   },
   {
    "duration": 190,
    "start_time": "2023-02-09T10:28:20.806Z"
   },
   {
    "duration": 7,
    "start_time": "2023-02-09T10:28:25.121Z"
   },
   {
    "duration": 6,
    "start_time": "2023-02-09T10:28:47.220Z"
   },
   {
    "duration": 180,
    "start_time": "2023-02-09T10:29:00.945Z"
   },
   {
    "duration": 813,
    "start_time": "2023-02-09T10:29:06.589Z"
   },
   {
    "duration": 19,
    "start_time": "2023-02-09T10:29:07.405Z"
   },
   {
    "duration": 6,
    "start_time": "2023-02-09T10:29:07.426Z"
   },
   {
    "duration": 2119,
    "start_time": "2023-02-09T10:29:07.434Z"
   },
   {
    "duration": 12,
    "start_time": "2023-02-09T10:29:09.556Z"
   },
   {
    "duration": 6,
    "start_time": "2023-02-09T10:29:09.569Z"
   },
   {
    "duration": 26,
    "start_time": "2023-02-09T10:29:09.577Z"
   },
   {
    "duration": 11,
    "start_time": "2023-02-09T10:29:09.605Z"
   },
   {
    "duration": 15,
    "start_time": "2023-02-09T10:29:09.618Z"
   },
   {
    "duration": 16,
    "start_time": "2023-02-09T10:29:09.634Z"
   },
   {
    "duration": 42,
    "start_time": "2023-02-09T10:29:09.651Z"
   },
   {
    "duration": 4,
    "start_time": "2023-02-09T10:29:09.695Z"
   },
   {
    "duration": 21,
    "start_time": "2023-02-09T10:29:09.701Z"
   },
   {
    "duration": 39,
    "start_time": "2023-02-09T10:29:09.725Z"
   },
   {
    "duration": 52,
    "start_time": "2023-02-09T10:29:09.765Z"
   },
   {
    "duration": 68,
    "start_time": "2023-02-09T10:29:09.819Z"
   },
   {
    "duration": 26,
    "start_time": "2023-02-09T10:29:09.897Z"
   },
   {
    "duration": 25,
    "start_time": "2023-02-09T10:29:09.924Z"
   },
   {
    "duration": 87,
    "start_time": "2023-02-09T10:29:09.950Z"
   },
   {
    "duration": 7,
    "start_time": "2023-02-09T10:29:10.039Z"
   },
   {
    "duration": 26,
    "start_time": "2023-02-09T10:29:10.047Z"
   },
   {
    "duration": 23,
    "start_time": "2023-02-09T10:29:10.075Z"
   },
   {
    "duration": 21,
    "start_time": "2023-02-09T10:29:10.099Z"
   },
   {
    "duration": 179,
    "start_time": "2023-02-09T10:29:10.122Z"
   },
   {
    "duration": 12,
    "start_time": "2023-02-09T10:29:10.303Z"
   },
   {
    "duration": 10,
    "start_time": "2023-02-09T10:29:10.316Z"
   },
   {
    "duration": 17,
    "start_time": "2023-02-09T10:29:10.328Z"
   },
   {
    "duration": 5,
    "start_time": "2023-02-09T10:29:10.346Z"
   },
   {
    "duration": 9,
    "start_time": "2023-02-09T10:29:10.353Z"
   },
   {
    "duration": 174,
    "start_time": "2023-02-09T10:30:12.123Z"
   },
   {
    "duration": 8,
    "start_time": "2023-02-09T10:31:50.736Z"
   },
   {
    "duration": 7,
    "start_time": "2023-02-09T10:31:54.473Z"
   },
   {
    "duration": 8,
    "start_time": "2023-02-09T10:31:56.372Z"
   },
   {
    "duration": 205,
    "start_time": "2023-02-09T10:34:26.495Z"
   },
   {
    "duration": 169,
    "start_time": "2023-02-09T10:35:43.165Z"
   },
   {
    "duration": 51,
    "start_time": "2023-02-09T10:36:46.165Z"
   },
   {
    "duration": 85,
    "start_time": "2023-02-09T10:37:10.768Z"
   },
   {
    "duration": 12,
    "start_time": "2023-02-09T10:37:16.796Z"
   },
   {
    "duration": 6,
    "start_time": "2023-02-09T10:37:22.572Z"
   },
   {
    "duration": 7,
    "start_time": "2023-02-09T10:37:28.008Z"
   },
   {
    "duration": 174,
    "start_time": "2023-02-09T10:37:55.877Z"
   },
   {
    "duration": 329,
    "start_time": "2023-02-09T10:37:56.895Z"
   },
   {
    "duration": 9,
    "start_time": "2023-02-09T10:38:44.079Z"
   },
   {
    "duration": 8,
    "start_time": "2023-02-09T10:38:46.278Z"
   },
   {
    "duration": 11,
    "start_time": "2023-02-09T10:39:42.843Z"
   },
   {
    "duration": 12,
    "start_time": "2023-02-09T10:39:44.817Z"
   },
   {
    "duration": 11,
    "start_time": "2023-02-09T10:39:53.797Z"
   },
   {
    "duration": 167,
    "start_time": "2023-02-09T10:40:42.429Z"
   },
   {
    "duration": 162,
    "start_time": "2023-02-09T10:41:16.793Z"
   },
   {
    "duration": 200,
    "start_time": "2023-02-09T10:41:29.971Z"
   },
   {
    "duration": 24,
    "start_time": "2023-02-09T10:42:07.075Z"
   },
   {
    "duration": 50,
    "start_time": "2023-02-09T10:42:10.942Z"
   },
   {
    "duration": 7,
    "start_time": "2023-02-09T10:42:39.840Z"
   },
   {
    "duration": 17,
    "start_time": "2023-02-09T10:43:00.694Z"
   },
   {
    "duration": 6,
    "start_time": "2023-02-09T10:43:12.117Z"
   },
   {
    "duration": 5,
    "start_time": "2023-02-09T10:43:50.599Z"
   },
   {
    "duration": 13,
    "start_time": "2023-02-09T10:43:52.582Z"
   },
   {
    "duration": 7,
    "start_time": "2023-02-09T10:43:56.343Z"
   },
   {
    "duration": 6,
    "start_time": "2023-02-09T10:44:01.802Z"
   },
   {
    "duration": 6,
    "start_time": "2023-02-09T10:44:08.493Z"
   },
   {
    "duration": 6,
    "start_time": "2023-02-09T10:44:11.716Z"
   },
   {
    "duration": 8,
    "start_time": "2023-02-09T10:44:24.827Z"
   },
   {
    "duration": 6,
    "start_time": "2023-02-09T10:45:17.676Z"
   },
   {
    "duration": 194,
    "start_time": "2023-02-09T10:45:22.870Z"
   },
   {
    "duration": 7,
    "start_time": "2023-02-09T10:46:16.337Z"
   },
   {
    "duration": 9,
    "start_time": "2023-02-09T11:06:52.267Z"
   },
   {
    "duration": 10,
    "start_time": "2023-02-09T11:07:00.065Z"
   },
   {
    "duration": 164,
    "start_time": "2023-02-09T11:07:01.615Z"
   },
   {
    "duration": 193,
    "start_time": "2023-02-09T11:07:05.263Z"
   },
   {
    "duration": 201,
    "start_time": "2023-02-09T11:07:16.838Z"
   },
   {
    "duration": 86,
    "start_time": "2023-02-09T11:07:36.110Z"
   },
   {
    "duration": 6,
    "start_time": "2023-02-09T11:07:40.062Z"
   },
   {
    "duration": 6,
    "start_time": "2023-02-09T11:07:44.104Z"
   },
   {
    "duration": 6,
    "start_time": "2023-02-09T11:07:57.963Z"
   },
   {
    "duration": 6,
    "start_time": "2023-02-09T11:08:07.200Z"
   },
   {
    "duration": 6,
    "start_time": "2023-02-09T11:08:11.017Z"
   },
   {
    "duration": 14,
    "start_time": "2023-02-09T11:08:49.881Z"
   },
   {
    "duration": 182,
    "start_time": "2023-02-09T11:08:50.377Z"
   },
   {
    "duration": 163,
    "start_time": "2023-02-09T11:11:16.789Z"
   },
   {
    "duration": 7,
    "start_time": "2023-02-09T11:11:31.535Z"
   },
   {
    "duration": 8,
    "start_time": "2023-02-09T11:11:40.863Z"
   },
   {
    "duration": 7,
    "start_time": "2023-02-09T11:11:44.962Z"
   },
   {
    "duration": 10,
    "start_time": "2023-02-09T11:11:47.580Z"
   },
   {
    "duration": 10,
    "start_time": "2023-02-09T11:20:22.541Z"
   },
   {
    "duration": 10,
    "start_time": "2023-02-09T11:20:23.993Z"
   },
   {
    "duration": 9,
    "start_time": "2023-02-09T11:20:27.267Z"
   },
   {
    "duration": 11,
    "start_time": "2023-02-09T11:20:42.173Z"
   },
   {
    "duration": 9,
    "start_time": "2023-02-09T11:20:42.563Z"
   },
   {
    "duration": 754,
    "start_time": "2023-02-09T11:21:15.797Z"
   },
   {
    "duration": 15,
    "start_time": "2023-02-09T11:21:16.553Z"
   },
   {
    "duration": 22,
    "start_time": "2023-02-09T11:21:16.569Z"
   },
   {
    "duration": 2071,
    "start_time": "2023-02-09T11:21:16.594Z"
   },
   {
    "duration": 10,
    "start_time": "2023-02-09T11:21:18.668Z"
   },
   {
    "duration": 34,
    "start_time": "2023-02-09T11:21:18.679Z"
   },
   {
    "duration": 6,
    "start_time": "2023-02-09T11:21:18.714Z"
   },
   {
    "duration": 11,
    "start_time": "2023-02-09T11:21:18.722Z"
   },
   {
    "duration": 18,
    "start_time": "2023-02-09T11:21:18.735Z"
   },
   {
    "duration": 14,
    "start_time": "2023-02-09T11:21:18.755Z"
   },
   {
    "duration": 37,
    "start_time": "2023-02-09T11:21:18.771Z"
   },
   {
    "duration": 10,
    "start_time": "2023-02-09T11:21:18.810Z"
   },
   {
    "duration": 24,
    "start_time": "2023-02-09T11:21:18.821Z"
   },
   {
    "duration": 43,
    "start_time": "2023-02-09T11:21:18.848Z"
   },
   {
    "duration": 34,
    "start_time": "2023-02-09T11:21:18.895Z"
   },
   {
    "duration": 56,
    "start_time": "2023-02-09T11:21:18.931Z"
   },
   {
    "duration": 36,
    "start_time": "2023-02-09T11:21:18.988Z"
   },
   {
    "duration": 25,
    "start_time": "2023-02-09T11:21:19.026Z"
   },
   {
    "duration": 102,
    "start_time": "2023-02-09T11:21:19.053Z"
   },
   {
    "duration": 7,
    "start_time": "2023-02-09T11:21:19.157Z"
   },
   {
    "duration": 26,
    "start_time": "2023-02-09T11:21:19.166Z"
   },
   {
    "duration": 14,
    "start_time": "2023-02-09T11:21:19.194Z"
   },
   {
    "duration": 29,
    "start_time": "2023-02-09T11:21:19.214Z"
   },
   {
    "duration": 184,
    "start_time": "2023-02-09T11:21:19.245Z"
   },
   {
    "duration": 6,
    "start_time": "2023-02-09T11:21:19.431Z"
   },
   {
    "duration": 32,
    "start_time": "2023-02-09T11:21:19.438Z"
   },
   {
    "duration": 199,
    "start_time": "2023-02-09T11:21:19.471Z"
   },
   {
    "duration": 24,
    "start_time": "2023-02-09T11:21:19.672Z"
   },
   {
    "duration": 175,
    "start_time": "2023-02-09T11:21:19.698Z"
   },
   {
    "duration": 21,
    "start_time": "2023-02-09T11:21:19.875Z"
   },
   {
    "duration": 31,
    "start_time": "2023-02-09T11:21:19.898Z"
   },
   {
    "duration": 186,
    "start_time": "2023-02-09T11:21:19.931Z"
   },
   {
    "duration": 6,
    "start_time": "2023-02-09T11:21:20.118Z"
   },
   {
    "duration": 215,
    "start_time": "2023-02-09T11:21:20.126Z"
   },
   {
    "duration": 9,
    "start_time": "2023-02-09T11:21:20.342Z"
   },
   {
    "duration": 287,
    "start_time": "2023-02-09T11:21:20.353Z"
   },
   {
    "duration": 9,
    "start_time": "2023-02-09T11:21:20.642Z"
   },
   {
    "duration": 31,
    "start_time": "2023-02-09T11:21:20.653Z"
   },
   {
    "duration": 11,
    "start_time": "2023-02-09T11:21:20.685Z"
   },
   {
    "duration": 24,
    "start_time": "2023-02-09T11:21:20.698Z"
   },
   {
    "duration": 717,
    "start_time": "2023-02-09T11:21:57.838Z"
   },
   {
    "duration": 34,
    "start_time": "2023-02-09T11:21:58.557Z"
   },
   {
    "duration": 5,
    "start_time": "2023-02-09T11:21:58.596Z"
   },
   {
    "duration": 1974,
    "start_time": "2023-02-09T11:21:58.603Z"
   },
   {
    "duration": 18,
    "start_time": "2023-02-09T11:22:00.579Z"
   },
   {
    "duration": 27,
    "start_time": "2023-02-09T11:22:00.599Z"
   },
   {
    "duration": 19,
    "start_time": "2023-02-09T11:22:00.628Z"
   },
   {
    "duration": 62,
    "start_time": "2023-02-09T11:22:00.649Z"
   },
   {
    "duration": 30,
    "start_time": "2023-02-09T11:22:00.713Z"
   },
   {
    "duration": 31,
    "start_time": "2023-02-09T11:22:00.745Z"
   },
   {
    "duration": 42,
    "start_time": "2023-02-09T11:22:00.778Z"
   },
   {
    "duration": 5,
    "start_time": "2023-02-09T11:22:00.823Z"
   },
   {
    "duration": 63,
    "start_time": "2023-02-09T11:22:00.830Z"
   },
   {
    "duration": 58,
    "start_time": "2023-02-09T11:22:00.897Z"
   },
   {
    "duration": 38,
    "start_time": "2023-02-09T11:22:00.957Z"
   },
   {
    "duration": 36,
    "start_time": "2023-02-09T11:22:00.998Z"
   },
   {
    "duration": 78,
    "start_time": "2023-02-09T11:22:01.036Z"
   },
   {
    "duration": 47,
    "start_time": "2023-02-09T11:22:01.116Z"
   },
   {
    "duration": 79,
    "start_time": "2023-02-09T11:22:01.165Z"
   },
   {
    "duration": 7,
    "start_time": "2023-02-09T11:22:01.246Z"
   },
   {
    "duration": 30,
    "start_time": "2023-02-09T11:22:01.255Z"
   },
   {
    "duration": 24,
    "start_time": "2023-02-09T11:22:01.288Z"
   },
   {
    "duration": 53,
    "start_time": "2023-02-09T11:22:01.314Z"
   },
   {
    "duration": 201,
    "start_time": "2023-02-09T11:22:01.369Z"
   },
   {
    "duration": 10,
    "start_time": "2023-02-09T11:22:01.572Z"
   },
   {
    "duration": 25,
    "start_time": "2023-02-09T11:22:01.583Z"
   },
   {
    "duration": 179,
    "start_time": "2023-02-09T11:22:01.609Z"
   },
   {
    "duration": 6,
    "start_time": "2023-02-09T11:22:01.790Z"
   },
   {
    "duration": 196,
    "start_time": "2023-02-09T11:22:01.798Z"
   },
   {
    "duration": 6,
    "start_time": "2023-02-09T11:22:01.996Z"
   },
   {
    "duration": 45,
    "start_time": "2023-02-09T11:22:02.004Z"
   },
   {
    "duration": 179,
    "start_time": "2023-02-09T11:22:02.051Z"
   },
   {
    "duration": 6,
    "start_time": "2023-02-09T11:22:02.232Z"
   },
   {
    "duration": 216,
    "start_time": "2023-02-09T11:22:02.239Z"
   },
   {
    "duration": 9,
    "start_time": "2023-02-09T11:22:02.457Z"
   },
   {
    "duration": 330,
    "start_time": "2023-02-09T11:22:02.468Z"
   },
   {
    "duration": 7,
    "start_time": "2023-02-09T11:22:02.800Z"
   },
   {
    "duration": 12,
    "start_time": "2023-02-09T11:22:02.809Z"
   },
   {
    "duration": 5,
    "start_time": "2023-02-09T11:22:02.823Z"
   },
   {
    "duration": 20,
    "start_time": "2023-02-09T11:22:02.829Z"
   },
   {
    "duration": 739,
    "start_time": "2023-02-09T11:22:07.397Z"
   },
   {
    "duration": 14,
    "start_time": "2023-02-09T11:22:08.137Z"
   },
   {
    "duration": 28,
    "start_time": "2023-02-09T11:22:08.154Z"
   },
   {
    "duration": 1993,
    "start_time": "2023-02-09T11:22:08.184Z"
   },
   {
    "duration": 20,
    "start_time": "2023-02-09T11:22:10.178Z"
   },
   {
    "duration": 29,
    "start_time": "2023-02-09T11:22:10.200Z"
   },
   {
    "duration": 14,
    "start_time": "2023-02-09T11:22:10.231Z"
   },
   {
    "duration": 29,
    "start_time": "2023-02-09T11:22:10.246Z"
   },
   {
    "duration": 32,
    "start_time": "2023-02-09T11:22:10.277Z"
   },
   {
    "duration": 30,
    "start_time": "2023-02-09T11:22:10.311Z"
   },
   {
    "duration": 34,
    "start_time": "2023-02-09T11:22:10.343Z"
   },
   {
    "duration": 18,
    "start_time": "2023-02-09T11:22:10.378Z"
   },
   {
    "duration": 31,
    "start_time": "2023-02-09T11:22:10.400Z"
   },
   {
    "duration": 70,
    "start_time": "2023-02-09T11:22:10.433Z"
   },
   {
    "duration": 31,
    "start_time": "2023-02-09T11:22:10.507Z"
   },
   {
    "duration": 46,
    "start_time": "2023-02-09T11:22:10.539Z"
   },
   {
    "duration": 24,
    "start_time": "2023-02-09T11:22:10.588Z"
   },
   {
    "duration": 45,
    "start_time": "2023-02-09T11:22:10.613Z"
   },
   {
    "duration": 91,
    "start_time": "2023-02-09T11:22:10.660Z"
   },
   {
    "duration": 6,
    "start_time": "2023-02-09T11:22:10.753Z"
   },
   {
    "duration": 41,
    "start_time": "2023-02-09T11:22:10.760Z"
   },
   {
    "duration": 20,
    "start_time": "2023-02-09T11:22:10.802Z"
   },
   {
    "duration": 36,
    "start_time": "2023-02-09T11:22:10.824Z"
   },
   {
    "duration": 194,
    "start_time": "2023-02-09T11:22:10.861Z"
   },
   {
    "duration": 6,
    "start_time": "2023-02-09T11:22:11.057Z"
   },
   {
    "duration": 40,
    "start_time": "2023-02-09T11:22:11.065Z"
   },
   {
    "duration": 200,
    "start_time": "2023-02-09T11:22:11.106Z"
   },
   {
    "duration": 7,
    "start_time": "2023-02-09T11:22:11.307Z"
   },
   {
    "duration": 191,
    "start_time": "2023-02-09T11:22:11.316Z"
   },
   {
    "duration": 7,
    "start_time": "2023-02-09T11:22:11.508Z"
   },
   {
    "duration": 13,
    "start_time": "2023-02-09T11:22:11.516Z"
   },
   {
    "duration": 189,
    "start_time": "2023-02-09T11:22:11.531Z"
   },
   {
    "duration": 6,
    "start_time": "2023-02-09T11:22:11.722Z"
   },
   {
    "duration": 205,
    "start_time": "2023-02-09T11:22:11.729Z"
   },
   {
    "duration": 9,
    "start_time": "2023-02-09T11:22:11.936Z"
   },
   {
    "duration": 327,
    "start_time": "2023-02-09T11:22:11.947Z"
   },
   {
    "duration": 17,
    "start_time": "2023-02-09T11:22:12.276Z"
   },
   {
    "duration": 26,
    "start_time": "2023-02-09T11:22:12.295Z"
   },
   {
    "duration": 9,
    "start_time": "2023-02-09T11:22:12.323Z"
   },
   {
    "duration": 16,
    "start_time": "2023-02-09T11:22:12.335Z"
   },
   {
    "duration": 8,
    "start_time": "2023-02-09T11:22:53.433Z"
   },
   {
    "duration": 11,
    "start_time": "2023-02-09T11:23:03.626Z"
   },
   {
    "duration": 13,
    "start_time": "2023-02-09T11:23:26.882Z"
   },
   {
    "duration": 13,
    "start_time": "2023-02-09T11:23:36.486Z"
   },
   {
    "duration": 9,
    "start_time": "2023-02-09T11:26:57.129Z"
   },
   {
    "duration": 791,
    "start_time": "2023-02-09T11:27:09.213Z"
   },
   {
    "duration": 14,
    "start_time": "2023-02-09T11:27:10.006Z"
   },
   {
    "duration": 15,
    "start_time": "2023-02-09T11:27:10.021Z"
   },
   {
    "duration": 2087,
    "start_time": "2023-02-09T11:27:10.038Z"
   },
   {
    "duration": 10,
    "start_time": "2023-02-09T11:27:12.128Z"
   },
   {
    "duration": 27,
    "start_time": "2023-02-09T11:27:12.139Z"
   },
   {
    "duration": 19,
    "start_time": "2023-02-09T11:27:12.168Z"
   },
   {
    "duration": 31,
    "start_time": "2023-02-09T11:27:12.195Z"
   },
   {
    "duration": 20,
    "start_time": "2023-02-09T11:27:12.228Z"
   },
   {
    "duration": 22,
    "start_time": "2023-02-09T11:27:12.250Z"
   },
   {
    "duration": 55,
    "start_time": "2023-02-09T11:27:12.274Z"
   },
   {
    "duration": 20,
    "start_time": "2023-02-09T11:27:12.330Z"
   },
   {
    "duration": 18,
    "start_time": "2023-02-09T11:27:12.352Z"
   },
   {
    "duration": 39,
    "start_time": "2023-02-09T11:27:12.373Z"
   },
   {
    "duration": 31,
    "start_time": "2023-02-09T11:27:12.414Z"
   },
   {
    "duration": 53,
    "start_time": "2023-02-09T11:27:12.447Z"
   },
   {
    "duration": 23,
    "start_time": "2023-02-09T11:27:12.502Z"
   },
   {
    "duration": 23,
    "start_time": "2023-02-09T11:27:12.527Z"
   },
   {
    "duration": 100,
    "start_time": "2023-02-09T11:27:12.552Z"
   },
   {
    "duration": 7,
    "start_time": "2023-02-09T11:27:12.654Z"
   },
   {
    "duration": 16,
    "start_time": "2023-02-09T11:27:12.662Z"
   },
   {
    "duration": 18,
    "start_time": "2023-02-09T11:27:12.680Z"
   },
   {
    "duration": 23,
    "start_time": "2023-02-09T11:27:12.700Z"
   },
   {
    "duration": 178,
    "start_time": "2023-02-09T11:27:12.725Z"
   },
   {
    "duration": 7,
    "start_time": "2023-02-09T11:27:12.904Z"
   },
   {
    "duration": 12,
    "start_time": "2023-02-09T11:27:12.913Z"
   },
   {
    "duration": 178,
    "start_time": "2023-02-09T11:27:12.927Z"
   },
   {
    "duration": 6,
    "start_time": "2023-02-09T11:27:13.106Z"
   },
   {
    "duration": 192,
    "start_time": "2023-02-09T11:27:13.113Z"
   },
   {
    "duration": 7,
    "start_time": "2023-02-09T11:27:13.307Z"
   },
   {
    "duration": 15,
    "start_time": "2023-02-09T11:27:13.315Z"
   },
   {
    "duration": 195,
    "start_time": "2023-02-09T11:27:13.332Z"
   },
   {
    "duration": 9,
    "start_time": "2023-02-09T11:27:13.529Z"
   },
   {
    "duration": 232,
    "start_time": "2023-02-09T11:27:13.540Z"
   },
   {
    "duration": 22,
    "start_time": "2023-02-09T11:27:13.774Z"
   },
   {
    "duration": 296,
    "start_time": "2023-02-09T11:27:13.798Z"
   },
   {
    "duration": 8,
    "start_time": "2023-02-09T11:27:14.096Z"
   },
   {
    "duration": 12,
    "start_time": "2023-02-09T11:27:14.106Z"
   },
   {
    "duration": 7,
    "start_time": "2023-02-09T11:27:14.119Z"
   },
   {
    "duration": 3,
    "start_time": "2023-02-09T11:27:14.128Z"
   },
   {
    "duration": 14,
    "start_time": "2023-02-09T11:27:14.134Z"
   },
   {
    "duration": 10,
    "start_time": "2023-02-09T11:27:44.534Z"
   },
   {
    "duration": 2,
    "start_time": "2023-02-09T11:28:08.094Z"
   },
   {
    "duration": 3,
    "start_time": "2023-02-09T11:28:14.170Z"
   },
   {
    "duration": 49,
    "start_time": "2023-02-09T11:28:39.865Z"
   },
   {
    "duration": 18,
    "start_time": "2023-02-09T11:28:41.977Z"
   },
   {
    "duration": 8,
    "start_time": "2023-02-09T11:28:43.825Z"
   },
   {
    "duration": 177,
    "start_time": "2023-02-09T11:29:21.362Z"
   },
   {
    "duration": 173,
    "start_time": "2023-02-09T11:29:39.725Z"
   },
   {
    "duration": 77,
    "start_time": "2023-02-09T11:32:59.738Z"
   },
   {
    "duration": 5,
    "start_time": "2023-02-09T11:33:02.258Z"
   },
   {
    "duration": 5,
    "start_time": "2023-02-09T11:39:07.069Z"
   },
   {
    "duration": 5,
    "start_time": "2023-02-09T11:39:14.093Z"
   },
   {
    "duration": 127,
    "start_time": "2023-02-09T11:57:59.319Z"
   },
   {
    "duration": 26,
    "start_time": "2023-02-09T11:59:03.440Z"
   },
   {
    "duration": 50,
    "start_time": "2023-02-09T11:59:07.777Z"
   },
   {
    "duration": 132,
    "start_time": "2023-02-09T11:59:19.008Z"
   },
   {
    "duration": 12,
    "start_time": "2023-02-09T12:03:06.659Z"
   },
   {
    "duration": 13,
    "start_time": "2023-02-09T12:03:09.685Z"
   },
   {
    "duration": 156,
    "start_time": "2023-02-09T12:03:10.257Z"
   },
   {
    "duration": 168,
    "start_time": "2023-02-09T12:03:16.751Z"
   },
   {
    "duration": 13,
    "start_time": "2023-02-09T12:03:23.903Z"
   },
   {
    "duration": 147,
    "start_time": "2023-02-09T12:03:24.347Z"
   },
   {
    "duration": 154,
    "start_time": "2023-02-09T12:04:04.958Z"
   },
   {
    "duration": 7,
    "start_time": "2023-02-09T12:11:35.209Z"
   },
   {
    "duration": 127,
    "start_time": "2023-02-09T12:12:00.406Z"
   },
   {
    "duration": 129,
    "start_time": "2023-02-09T12:13:28.797Z"
   },
   {
    "duration": 86,
    "start_time": "2023-02-09T12:13:36.315Z"
   },
   {
    "duration": 43,
    "start_time": "2023-02-09T12:13:43.966Z"
   },
   {
    "duration": 6,
    "start_time": "2023-02-09T12:14:13.868Z"
   },
   {
    "duration": 7,
    "start_time": "2023-02-09T12:14:31.728Z"
   },
   {
    "duration": 14,
    "start_time": "2023-02-09T12:14:51.690Z"
   },
   {
    "duration": 9,
    "start_time": "2023-02-09T12:17:46.867Z"
   },
   {
    "duration": 32,
    "start_time": "2023-02-09T12:19:26.066Z"
   },
   {
    "duration": 321,
    "start_time": "2023-02-09T12:19:34.485Z"
   },
   {
    "duration": 223,
    "start_time": "2023-02-09T12:20:22.702Z"
   },
   {
    "duration": 233,
    "start_time": "2023-02-09T12:20:35.379Z"
   },
   {
    "duration": 268,
    "start_time": "2023-02-09T12:20:40.562Z"
   },
   {
    "duration": 241,
    "start_time": "2023-02-09T12:20:47.265Z"
   },
   {
    "duration": 395,
    "start_time": "2023-02-09T12:20:55.913Z"
   },
   {
    "duration": 317,
    "start_time": "2023-02-09T12:21:00.675Z"
   },
   {
    "duration": 294,
    "start_time": "2023-02-09T12:21:18.964Z"
   },
   {
    "duration": 263,
    "start_time": "2023-02-09T12:21:21.155Z"
   },
   {
    "duration": 241,
    "start_time": "2023-02-09T12:21:38.565Z"
   },
   {
    "duration": 251,
    "start_time": "2023-02-09T12:21:53.677Z"
   },
   {
    "duration": 367,
    "start_time": "2023-02-09T12:22:12.430Z"
   },
   {
    "duration": 245,
    "start_time": "2023-02-09T12:22:22.304Z"
   },
   {
    "duration": 263,
    "start_time": "2023-02-09T12:22:37.313Z"
   },
   {
    "duration": 255,
    "start_time": "2023-02-09T12:22:46.119Z"
   },
   {
    "duration": 236,
    "start_time": "2023-02-09T12:22:50.438Z"
   },
   {
    "duration": 395,
    "start_time": "2023-02-09T12:24:01.863Z"
   },
   {
    "duration": 261,
    "start_time": "2023-02-09T12:24:17.295Z"
   },
   {
    "duration": 497,
    "start_time": "2023-02-09T12:24:29.116Z"
   },
   {
    "duration": 533,
    "start_time": "2023-02-09T12:24:38.469Z"
   },
   {
    "duration": 492,
    "start_time": "2023-02-09T12:24:57.916Z"
   },
   {
    "duration": 10,
    "start_time": "2023-02-09T12:26:03.040Z"
   },
   {
    "duration": 146,
    "start_time": "2023-02-09T12:26:13.925Z"
   },
   {
    "duration": 145,
    "start_time": "2023-02-09T12:26:25.348Z"
   },
   {
    "duration": 158,
    "start_time": "2023-02-09T12:27:21.593Z"
   },
   {
    "duration": 6,
    "start_time": "2023-02-09T12:29:09.893Z"
   },
   {
    "duration": 7,
    "start_time": "2023-02-09T12:29:28.904Z"
   },
   {
    "duration": 336,
    "start_time": "2023-02-09T12:32:16.512Z"
   },
   {
    "duration": 343,
    "start_time": "2023-02-09T12:32:29.069Z"
   },
   {
    "duration": 366,
    "start_time": "2023-02-09T12:32:34.371Z"
   },
   {
    "duration": 337,
    "start_time": "2023-02-09T12:32:46.520Z"
   },
   {
    "duration": 442,
    "start_time": "2023-02-09T12:32:51.599Z"
   },
   {
    "duration": 325,
    "start_time": "2023-02-09T12:33:03.656Z"
   },
   {
    "duration": 360,
    "start_time": "2023-02-09T12:33:07.395Z"
   },
   {
    "duration": 347,
    "start_time": "2023-02-09T12:33:19.027Z"
   },
   {
    "duration": 355,
    "start_time": "2023-02-09T12:33:31.595Z"
   },
   {
    "duration": 11,
    "start_time": "2023-02-09T12:34:12.664Z"
   },
   {
    "duration": 12,
    "start_time": "2023-02-09T12:34:18.639Z"
   },
   {
    "duration": 144,
    "start_time": "2023-02-09T12:34:21.398Z"
   },
   {
    "duration": 841,
    "start_time": "2023-02-09T12:34:31.679Z"
   },
   {
    "duration": 540,
    "start_time": "2023-02-09T12:34:37.179Z"
   },
   {
    "duration": 508,
    "start_time": "2023-02-09T12:34:53.927Z"
   },
   {
    "duration": 380,
    "start_time": "2023-02-09T12:35:06.993Z"
   },
   {
    "duration": 370,
    "start_time": "2023-02-09T12:35:12.380Z"
   },
   {
    "duration": 364,
    "start_time": "2023-02-09T12:35:17.802Z"
   },
   {
    "duration": 77,
    "start_time": "2023-02-09T12:35:31.464Z"
   },
   {
    "duration": 158,
    "start_time": "2023-02-09T12:35:37.172Z"
   },
   {
    "duration": 147,
    "start_time": "2023-02-09T12:35:44.440Z"
   },
   {
    "duration": 141,
    "start_time": "2023-02-09T12:36:47.121Z"
   },
   {
    "duration": 8,
    "start_time": "2023-02-09T12:37:00.365Z"
   },
   {
    "duration": 18,
    "start_time": "2023-02-09T12:37:03.175Z"
   },
   {
    "duration": 4,
    "start_time": "2023-02-09T12:37:11.472Z"
   },
   {
    "duration": 5,
    "start_time": "2023-02-09T12:37:17.739Z"
   },
   {
    "duration": 4,
    "start_time": "2023-02-09T12:37:18.759Z"
   },
   {
    "duration": 6,
    "start_time": "2023-02-09T12:37:38.424Z"
   },
   {
    "duration": 305,
    "start_time": "2023-02-09T12:37:42.025Z"
   },
   {
    "duration": 140,
    "start_time": "2023-02-09T12:37:51.916Z"
   },
   {
    "duration": 4,
    "start_time": "2023-02-09T12:38:00.779Z"
   },
   {
    "duration": 70,
    "start_time": "2023-02-09T12:38:05.093Z"
   },
   {
    "duration": 138,
    "start_time": "2023-02-09T12:38:09.519Z"
   },
   {
    "duration": 11,
    "start_time": "2023-02-09T12:38:32.067Z"
   },
   {
    "duration": 141,
    "start_time": "2023-02-09T12:38:35.130Z"
   },
   {
    "duration": 139,
    "start_time": "2023-02-09T12:38:43.033Z"
   },
   {
    "duration": 155,
    "start_time": "2023-02-09T12:38:46.203Z"
   },
   {
    "duration": 123,
    "start_time": "2023-02-09T12:44:22.641Z"
   },
   {
    "duration": 147,
    "start_time": "2023-02-09T12:46:04.973Z"
   },
   {
    "duration": 601,
    "start_time": "2023-02-09T12:46:37.361Z"
   },
   {
    "duration": 890,
    "start_time": "2023-02-09T12:46:48.536Z"
   },
   {
    "duration": 882,
    "start_time": "2023-02-09T12:46:55.060Z"
   },
   {
    "duration": 1109,
    "start_time": "2023-02-09T12:47:15.465Z"
   },
   {
    "duration": 17,
    "start_time": "2023-02-09T12:49:25.677Z"
   },
   {
    "duration": 16,
    "start_time": "2023-02-09T12:50:09.362Z"
   },
   {
    "duration": 15,
    "start_time": "2023-02-09T12:50:54.094Z"
   },
   {
    "duration": 73,
    "start_time": "2023-02-09T12:51:05.889Z"
   },
   {
    "duration": 6,
    "start_time": "2023-02-09T12:52:57.849Z"
   },
   {
    "duration": 74,
    "start_time": "2023-02-09T12:53:03.601Z"
   },
   {
    "duration": 8,
    "start_time": "2023-02-09T12:53:05.918Z"
   },
   {
    "duration": 7,
    "start_time": "2023-02-09T12:53:13.471Z"
   },
   {
    "duration": 26,
    "start_time": "2023-02-09T12:53:31.170Z"
   },
   {
    "duration": 8,
    "start_time": "2023-02-09T12:53:49.532Z"
   },
   {
    "duration": 6,
    "start_time": "2023-02-09T12:54:00.558Z"
   },
   {
    "duration": 5,
    "start_time": "2023-02-09T12:54:16.873Z"
   },
   {
    "duration": 71,
    "start_time": "2023-02-09T12:54:48.457Z"
   },
   {
    "duration": 51,
    "start_time": "2023-02-10T03:42:09.492Z"
   },
   {
    "duration": 1194,
    "start_time": "2023-02-10T03:42:14.557Z"
   },
   {
    "duration": 15,
    "start_time": "2023-02-10T03:42:15.753Z"
   },
   {
    "duration": 14,
    "start_time": "2023-02-10T03:42:15.769Z"
   },
   {
    "duration": 2027,
    "start_time": "2023-02-10T03:42:15.785Z"
   },
   {
    "duration": 12,
    "start_time": "2023-02-10T03:42:17.814Z"
   },
   {
    "duration": 7,
    "start_time": "2023-02-10T03:42:17.828Z"
   },
   {
    "duration": 14,
    "start_time": "2023-02-10T03:42:17.837Z"
   },
   {
    "duration": 21,
    "start_time": "2023-02-10T03:42:17.853Z"
   },
   {
    "duration": 21,
    "start_time": "2023-02-10T03:42:17.876Z"
   },
   {
    "duration": 15,
    "start_time": "2023-02-10T03:42:17.900Z"
   },
   {
    "duration": 32,
    "start_time": "2023-02-10T03:42:17.917Z"
   },
   {
    "duration": 3,
    "start_time": "2023-02-10T03:42:17.951Z"
   },
   {
    "duration": 53,
    "start_time": "2023-02-10T03:42:17.956Z"
   },
   {
    "duration": 45,
    "start_time": "2023-02-10T03:42:18.011Z"
   },
   {
    "duration": 39,
    "start_time": "2023-02-10T03:42:18.059Z"
   },
   {
    "duration": 69,
    "start_time": "2023-02-10T03:42:18.100Z"
   },
   {
    "duration": 29,
    "start_time": "2023-02-10T03:42:18.171Z"
   },
   {
    "duration": 38,
    "start_time": "2023-02-10T03:42:18.201Z"
   },
   {
    "duration": 71,
    "start_time": "2023-02-10T03:42:18.241Z"
   },
   {
    "duration": 24,
    "start_time": "2023-02-10T03:42:18.313Z"
   },
   {
    "duration": 18,
    "start_time": "2023-02-10T03:42:18.340Z"
   },
   {
    "duration": 17,
    "start_time": "2023-02-10T03:42:18.359Z"
   },
   {
    "duration": 21,
    "start_time": "2023-02-10T03:42:18.378Z"
   },
   {
    "duration": 199,
    "start_time": "2023-02-10T03:42:18.401Z"
   },
   {
    "duration": 6,
    "start_time": "2023-02-10T03:42:18.602Z"
   },
   {
    "duration": 23,
    "start_time": "2023-02-10T03:42:18.610Z"
   },
   {
    "duration": 173,
    "start_time": "2023-02-10T03:42:18.637Z"
   },
   {
    "duration": 6,
    "start_time": "2023-02-10T03:42:18.815Z"
   },
   {
    "duration": 177,
    "start_time": "2023-02-10T03:42:18.838Z"
   },
   {
    "duration": 22,
    "start_time": "2023-02-10T03:42:19.017Z"
   },
   {
    "duration": 11,
    "start_time": "2023-02-10T03:42:19.041Z"
   },
   {
    "duration": 179,
    "start_time": "2023-02-10T03:42:19.054Z"
   },
   {
    "duration": 7,
    "start_time": "2023-02-10T03:42:19.238Z"
   },
   {
    "duration": 228,
    "start_time": "2023-02-10T03:42:19.247Z"
   },
   {
    "duration": 11,
    "start_time": "2023-02-10T03:42:19.477Z"
   },
   {
    "duration": 317,
    "start_time": "2023-02-10T03:42:19.490Z"
   },
   {
    "duration": 10,
    "start_time": "2023-02-10T03:42:19.809Z"
   },
   {
    "duration": 23,
    "start_time": "2023-02-10T03:42:19.821Z"
   },
   {
    "duration": 11,
    "start_time": "2023-02-10T03:42:19.846Z"
   },
   {
    "duration": 24,
    "start_time": "2023-02-10T03:42:19.859Z"
   },
   {
    "duration": 167,
    "start_time": "2023-02-10T03:42:19.885Z"
   },
   {
    "duration": 138,
    "start_time": "2023-02-10T03:42:20.054Z"
   },
   {
    "duration": 10,
    "start_time": "2023-02-10T03:42:20.194Z"
   },
   {
    "duration": 155,
    "start_time": "2023-02-10T03:42:20.205Z"
   },
   {
    "duration": 348,
    "start_time": "2023-02-10T03:42:20.361Z"
   },
   {
    "duration": 11,
    "start_time": "2023-02-10T03:42:20.711Z"
   },
   {
    "duration": 156,
    "start_time": "2023-02-10T03:42:20.723Z"
   },
   {
    "duration": 5,
    "start_time": "2023-02-10T03:42:20.881Z"
   },
   {
    "duration": 140,
    "start_time": "2023-02-10T03:42:20.887Z"
   },
   {
    "duration": 367,
    "start_time": "2023-02-10T03:42:21.029Z"
   },
   {
    "duration": 11,
    "start_time": "2023-02-10T03:42:21.397Z"
   },
   {
    "duration": 162,
    "start_time": "2023-02-10T03:42:21.411Z"
   },
   {
    "duration": 5,
    "start_time": "2023-02-10T03:42:21.575Z"
   },
   {
    "duration": 240,
    "start_time": "2023-02-10T03:42:21.581Z"
   },
   {
    "duration": 884,
    "start_time": "2023-02-10T03:42:21.823Z"
   },
   {
    "duration": 16,
    "start_time": "2023-02-10T03:42:22.708Z"
   },
   {
    "duration": 74,
    "start_time": "2023-02-10T03:42:22.737Z"
   },
   {
    "duration": 4,
    "start_time": "2023-02-10T03:42:22.813Z"
   },
   {
    "duration": 4,
    "start_time": "2023-02-10T03:42:26.921Z"
   },
   {
    "duration": 7,
    "start_time": "2023-02-10T03:43:41.402Z"
   },
   {
    "duration": 6,
    "start_time": "2023-02-10T03:44:28.508Z"
   },
   {
    "duration": 6,
    "start_time": "2023-02-10T03:44:29.852Z"
   },
   {
    "duration": 6,
    "start_time": "2023-02-10T03:45:51.842Z"
   },
   {
    "duration": 6,
    "start_time": "2023-02-10T03:46:02.788Z"
   },
   {
    "duration": 6,
    "start_time": "2023-02-10T04:48:48.778Z"
   },
   {
    "duration": 5,
    "start_time": "2023-02-10T04:48:57.802Z"
   },
   {
    "duration": 1183,
    "start_time": "2023-02-10T04:56:00.064Z"
   },
   {
    "duration": 4,
    "start_time": "2023-02-10T04:56:04.712Z"
   },
   {
    "duration": 3,
    "start_time": "2023-02-10T04:56:09.164Z"
   },
   {
    "duration": 37,
    "start_time": "2023-02-10T04:56:10.064Z"
   },
   {
    "duration": 4,
    "start_time": "2023-02-10T04:56:15.982Z"
   },
   {
    "duration": 78,
    "start_time": "2023-02-10T04:57:31.551Z"
   },
   {
    "duration": 45,
    "start_time": "2023-02-10T04:57:32.616Z"
   },
   {
    "duration": 17,
    "start_time": "2023-02-10T05:03:28.796Z"
   },
   {
    "duration": 18,
    "start_time": "2023-02-10T05:04:14.514Z"
   },
   {
    "duration": 73,
    "start_time": "2023-02-10T05:04:39.122Z"
   },
   {
    "duration": 78,
    "start_time": "2023-02-10T05:04:57.480Z"
   },
   {
    "duration": 80,
    "start_time": "2023-02-10T05:05:33.944Z"
   },
   {
    "duration": 486,
    "start_time": "2023-02-10T05:05:43.955Z"
   },
   {
    "duration": 565,
    "start_time": "2023-02-10T05:05:50.094Z"
   },
   {
    "duration": 39,
    "start_time": "2023-02-10T05:05:52.673Z"
   },
   {
    "duration": 482,
    "start_time": "2023-02-10T05:06:23.057Z"
   },
   {
    "duration": 443,
    "start_time": "2023-02-10T05:06:24.899Z"
   },
   {
    "duration": 473,
    "start_time": "2023-02-10T05:06:31.944Z"
   },
   {
    "duration": 38,
    "start_time": "2023-02-10T05:06:39.500Z"
   },
   {
    "duration": 10,
    "start_time": "2023-02-10T05:07:29.991Z"
   },
   {
    "duration": 7,
    "start_time": "2023-02-10T05:07:32.605Z"
   },
   {
    "duration": 5,
    "start_time": "2023-02-10T05:07:37.680Z"
   },
   {
    "duration": 5,
    "start_time": "2023-02-10T05:07:45.494Z"
   },
   {
    "duration": 4,
    "start_time": "2023-02-10T05:07:54.131Z"
   },
   {
    "duration": 479,
    "start_time": "2023-02-10T05:08:01.217Z"
   },
   {
    "duration": 7,
    "start_time": "2023-02-10T05:09:00.303Z"
   },
   {
    "duration": 5,
    "start_time": "2023-02-10T05:09:32.062Z"
   },
   {
    "duration": 4,
    "start_time": "2023-02-10T05:09:33.371Z"
   },
   {
    "duration": 6,
    "start_time": "2023-02-10T05:09:36.716Z"
   },
   {
    "duration": 4,
    "start_time": "2023-02-10T05:09:52.363Z"
   },
   {
    "duration": 6,
    "start_time": "2023-02-10T05:09:52.718Z"
   },
   {
    "duration": 4,
    "start_time": "2023-02-10T05:10:03.464Z"
   },
   {
    "duration": 7,
    "start_time": "2023-02-10T05:10:11.961Z"
   },
   {
    "duration": 10,
    "start_time": "2023-02-10T05:10:29.951Z"
   },
   {
    "duration": 8,
    "start_time": "2023-02-10T05:10:33.177Z"
   },
   {
    "duration": 10,
    "start_time": "2023-02-10T05:10:40.641Z"
   },
   {
    "duration": 10,
    "start_time": "2023-02-10T05:10:45.260Z"
   },
   {
    "duration": 14,
    "start_time": "2023-02-10T05:10:48.083Z"
   },
   {
    "duration": 4,
    "start_time": "2023-02-10T05:10:51.262Z"
   },
   {
    "duration": 13,
    "start_time": "2023-02-10T05:11:49.100Z"
   },
   {
    "duration": 9,
    "start_time": "2023-02-10T05:11:53.034Z"
   },
   {
    "duration": 13,
    "start_time": "2023-02-10T05:11:55.751Z"
   },
   {
    "duration": 4,
    "start_time": "2023-02-10T05:12:01.028Z"
   },
   {
    "duration": 9,
    "start_time": "2023-02-10T05:12:03.558Z"
   },
   {
    "duration": 4,
    "start_time": "2023-02-10T05:12:09.575Z"
   },
   {
    "duration": 5,
    "start_time": "2023-02-10T05:12:10.983Z"
   },
   {
    "duration": 5,
    "start_time": "2023-02-10T05:12:13.684Z"
   },
   {
    "duration": 6,
    "start_time": "2023-02-10T05:12:14.052Z"
   },
   {
    "duration": 5,
    "start_time": "2023-02-10T05:12:16.898Z"
   },
   {
    "duration": 6,
    "start_time": "2023-02-10T05:12:17.645Z"
   },
   {
    "duration": 5,
    "start_time": "2023-02-10T05:12:24.916Z"
   },
   {
    "duration": 6,
    "start_time": "2023-02-10T05:12:28.641Z"
   },
   {
    "duration": 38,
    "start_time": "2023-02-10T05:12:30.017Z"
   },
   {
    "duration": 4,
    "start_time": "2023-02-10T05:13:24.852Z"
   },
   {
    "duration": 16,
    "start_time": "2023-02-10T05:13:28.286Z"
   },
   {
    "duration": 792,
    "start_time": "2023-02-10T05:13:45.868Z"
   },
   {
    "duration": 15,
    "start_time": "2023-02-10T05:13:46.662Z"
   },
   {
    "duration": 10,
    "start_time": "2023-02-10T05:13:46.679Z"
   },
   {
    "duration": 2137,
    "start_time": "2023-02-10T05:13:46.691Z"
   },
   {
    "duration": 12,
    "start_time": "2023-02-10T05:13:48.829Z"
   },
   {
    "duration": 25,
    "start_time": "2023-02-10T05:13:48.842Z"
   },
   {
    "duration": 29,
    "start_time": "2023-02-10T05:13:48.869Z"
   },
   {
    "duration": 27,
    "start_time": "2023-02-10T05:13:48.900Z"
   },
   {
    "duration": 34,
    "start_time": "2023-02-10T05:13:48.929Z"
   },
   {
    "duration": 20,
    "start_time": "2023-02-10T05:13:48.966Z"
   },
   {
    "duration": 51,
    "start_time": "2023-02-10T05:13:48.988Z"
   },
   {
    "duration": 4,
    "start_time": "2023-02-10T05:13:49.040Z"
   },
   {
    "duration": 58,
    "start_time": "2023-02-10T05:13:49.046Z"
   },
   {
    "duration": 49,
    "start_time": "2023-02-10T05:13:49.106Z"
   },
   {
    "duration": 34,
    "start_time": "2023-02-10T05:13:49.157Z"
   },
   {
    "duration": 56,
    "start_time": "2023-02-10T05:13:49.193Z"
   },
   {
    "duration": 27,
    "start_time": "2023-02-10T05:13:49.251Z"
   },
   {
    "duration": 47,
    "start_time": "2023-02-10T05:13:49.280Z"
   },
   {
    "duration": 82,
    "start_time": "2023-02-10T05:13:49.330Z"
   },
   {
    "duration": 8,
    "start_time": "2023-02-10T05:13:49.415Z"
   },
   {
    "duration": 13,
    "start_time": "2023-02-10T05:13:49.438Z"
   },
   {
    "duration": 8,
    "start_time": "2023-02-10T05:13:49.453Z"
   },
   {
    "duration": 41,
    "start_time": "2023-02-10T05:13:49.462Z"
   },
   {
    "duration": 187,
    "start_time": "2023-02-10T05:13:49.505Z"
   },
   {
    "duration": 6,
    "start_time": "2023-02-10T05:13:49.694Z"
   },
   {
    "duration": 17,
    "start_time": "2023-02-10T05:13:49.702Z"
   },
   {
    "duration": 224,
    "start_time": "2023-02-10T05:13:49.721Z"
   },
   {
    "duration": 7,
    "start_time": "2023-02-10T05:13:49.950Z"
   },
   {
    "duration": 197,
    "start_time": "2023-02-10T05:13:49.959Z"
   },
   {
    "duration": 8,
    "start_time": "2023-02-10T05:13:50.158Z"
   },
   {
    "duration": 15,
    "start_time": "2023-02-10T05:13:50.167Z"
   },
   {
    "duration": 189,
    "start_time": "2023-02-10T05:13:50.183Z"
   },
   {
    "duration": 7,
    "start_time": "2023-02-10T05:13:50.373Z"
   },
   {
    "duration": 223,
    "start_time": "2023-02-10T05:13:50.382Z"
   },
   {
    "duration": 11,
    "start_time": "2023-02-10T05:13:50.607Z"
   },
   {
    "duration": 307,
    "start_time": "2023-02-10T05:13:50.620Z"
   },
   {
    "duration": 9,
    "start_time": "2023-02-10T05:13:50.929Z"
   },
   {
    "duration": 15,
    "start_time": "2023-02-10T05:13:50.941Z"
   },
   {
    "duration": 29,
    "start_time": "2023-02-10T05:13:50.957Z"
   },
   {
    "duration": 16,
    "start_time": "2023-02-10T05:13:50.988Z"
   },
   {
    "duration": 130,
    "start_time": "2023-02-10T05:13:51.006Z"
   },
   {
    "duration": 137,
    "start_time": "2023-02-10T05:13:51.138Z"
   },
   {
    "duration": 9,
    "start_time": "2023-02-10T05:13:51.277Z"
   },
   {
    "duration": 163,
    "start_time": "2023-02-10T05:13:51.287Z"
   },
   {
    "duration": 365,
    "start_time": "2023-02-10T05:13:51.451Z"
   },
   {
    "duration": 20,
    "start_time": "2023-02-10T05:13:51.818Z"
   },
   {
    "duration": 161,
    "start_time": "2023-02-10T05:13:51.839Z"
   },
   {
    "duration": 5,
    "start_time": "2023-02-10T05:13:52.001Z"
   },
   {
    "duration": 155,
    "start_time": "2023-02-10T05:13:52.008Z"
   },
   {
    "duration": 405,
    "start_time": "2023-02-10T05:13:52.165Z"
   },
   {
    "duration": 12,
    "start_time": "2023-02-10T05:13:52.572Z"
   },
   {
    "duration": 158,
    "start_time": "2023-02-10T05:13:52.586Z"
   },
   {
    "duration": 6,
    "start_time": "2023-02-10T05:13:52.745Z"
   },
   {
    "duration": 232,
    "start_time": "2023-02-10T05:13:52.753Z"
   },
   {
    "duration": 850,
    "start_time": "2023-02-10T05:13:52.987Z"
   },
   {
    "duration": 14,
    "start_time": "2023-02-10T05:13:53.840Z"
   },
   {
    "duration": 88,
    "start_time": "2023-02-10T05:13:53.856Z"
   },
   {
    "duration": 4,
    "start_time": "2023-02-10T05:13:53.947Z"
   },
   {
    "duration": 16,
    "start_time": "2023-02-10T05:13:53.953Z"
   },
   {
    "duration": 6,
    "start_time": "2023-02-10T05:13:53.970Z"
   },
   {
    "duration": 16,
    "start_time": "2023-02-10T05:13:53.978Z"
   },
   {
    "duration": 512,
    "start_time": "2023-02-10T05:13:53.996Z"
   },
   {
    "duration": 4,
    "start_time": "2023-02-10T05:13:54.510Z"
   },
   {
    "duration": 28,
    "start_time": "2023-02-10T05:13:54.516Z"
   },
   {
    "duration": 16,
    "start_time": "2023-02-10T05:17:15.236Z"
   },
   {
    "duration": 23,
    "start_time": "2023-02-10T05:19:49.958Z"
   },
   {
    "duration": 21,
    "start_time": "2023-02-10T05:20:01.924Z"
   },
   {
    "duration": 90,
    "start_time": "2023-02-10T05:20:06.854Z"
   },
   {
    "duration": 791,
    "start_time": "2023-02-10T05:20:29.724Z"
   },
   {
    "duration": 24,
    "start_time": "2023-02-10T05:20:30.517Z"
   },
   {
    "duration": 127,
    "start_time": "2023-02-10T05:20:30.542Z"
   },
   {
    "duration": 2213,
    "start_time": "2023-02-10T05:20:30.671Z"
   },
   {
    "duration": 11,
    "start_time": "2023-02-10T05:20:32.886Z"
   },
   {
    "duration": 12,
    "start_time": "2023-02-10T05:20:32.899Z"
   },
   {
    "duration": 18,
    "start_time": "2023-02-10T05:20:32.912Z"
   },
   {
    "duration": 22,
    "start_time": "2023-02-10T05:20:32.931Z"
   },
   {
    "duration": 21,
    "start_time": "2023-02-10T05:20:32.954Z"
   },
   {
    "duration": 17,
    "start_time": "2023-02-10T05:20:32.976Z"
   },
   {
    "duration": 35,
    "start_time": "2023-02-10T05:20:32.995Z"
   },
   {
    "duration": 3,
    "start_time": "2023-02-10T05:20:33.037Z"
   },
   {
    "duration": 22,
    "start_time": "2023-02-10T05:20:33.042Z"
   },
   {
    "duration": 46,
    "start_time": "2023-02-10T05:20:33.067Z"
   },
   {
    "duration": 64,
    "start_time": "2023-02-10T05:20:33.115Z"
   },
   {
    "duration": 37,
    "start_time": "2023-02-10T05:20:33.181Z"
   },
   {
    "duration": 39,
    "start_time": "2023-02-10T05:20:33.220Z"
   },
   {
    "duration": 22,
    "start_time": "2023-02-10T05:20:33.262Z"
   },
   {
    "duration": 100,
    "start_time": "2023-02-10T05:20:33.286Z"
   },
   {
    "duration": 7,
    "start_time": "2023-02-10T05:20:33.388Z"
   },
   {
    "duration": 11,
    "start_time": "2023-02-10T05:20:33.397Z"
   },
   {
    "duration": 32,
    "start_time": "2023-02-10T05:20:33.410Z"
   },
   {
    "duration": 27,
    "start_time": "2023-02-10T05:20:33.445Z"
   },
   {
    "duration": 186,
    "start_time": "2023-02-10T05:20:33.474Z"
   },
   {
    "duration": 6,
    "start_time": "2023-02-10T05:20:33.662Z"
   },
   {
    "duration": 20,
    "start_time": "2023-02-10T05:20:33.670Z"
   },
   {
    "duration": 172,
    "start_time": "2023-02-10T05:20:33.691Z"
   },
   {
    "duration": 7,
    "start_time": "2023-02-10T05:20:33.865Z"
   },
   {
    "duration": 196,
    "start_time": "2023-02-10T05:20:33.873Z"
   },
   {
    "duration": 6,
    "start_time": "2023-02-10T05:20:34.071Z"
   },
   {
    "duration": 32,
    "start_time": "2023-02-10T05:20:34.078Z"
   },
   {
    "duration": 163,
    "start_time": "2023-02-10T05:20:34.112Z"
   },
   {
    "duration": 7,
    "start_time": "2023-02-10T05:20:34.277Z"
   },
   {
    "duration": 204,
    "start_time": "2023-02-10T05:20:34.285Z"
   },
   {
    "duration": 10,
    "start_time": "2023-02-10T05:20:34.490Z"
   },
   {
    "duration": 295,
    "start_time": "2023-02-10T05:20:34.502Z"
   },
   {
    "duration": 8,
    "start_time": "2023-02-10T05:20:34.799Z"
   },
   {
    "duration": 14,
    "start_time": "2023-02-10T05:20:34.808Z"
   },
   {
    "duration": 10,
    "start_time": "2023-02-10T05:20:34.838Z"
   },
   {
    "duration": 13,
    "start_time": "2023-02-10T05:20:34.849Z"
   },
   {
    "duration": 151,
    "start_time": "2023-02-10T05:20:34.868Z"
   },
   {
    "duration": 142,
    "start_time": "2023-02-10T05:20:35.021Z"
   },
   {
    "duration": 13,
    "start_time": "2023-02-10T05:20:35.164Z"
   },
   {
    "duration": 157,
    "start_time": "2023-02-10T05:20:35.179Z"
   },
   {
    "duration": 353,
    "start_time": "2023-02-10T05:20:35.338Z"
   },
   {
    "duration": 10,
    "start_time": "2023-02-10T05:20:35.693Z"
   },
   {
    "duration": 170,
    "start_time": "2023-02-10T05:20:35.705Z"
   },
   {
    "duration": 6,
    "start_time": "2023-02-10T05:20:35.877Z"
   },
   {
    "duration": 157,
    "start_time": "2023-02-10T05:20:35.885Z"
   },
   {
    "duration": 364,
    "start_time": "2023-02-10T05:20:36.044Z"
   },
   {
    "duration": 12,
    "start_time": "2023-02-10T05:20:36.410Z"
   },
   {
    "duration": 176,
    "start_time": "2023-02-10T05:20:36.424Z"
   },
   {
    "duration": 5,
    "start_time": "2023-02-10T05:20:36.602Z"
   },
   {
    "duration": 224,
    "start_time": "2023-02-10T05:20:36.609Z"
   },
   {
    "duration": 825,
    "start_time": "2023-02-10T05:20:36.838Z"
   },
   {
    "duration": 15,
    "start_time": "2023-02-10T05:20:37.665Z"
   },
   {
    "duration": 113,
    "start_time": "2023-02-10T05:20:37.682Z"
   },
   {
    "duration": 4,
    "start_time": "2023-02-10T05:20:37.796Z"
   },
   {
    "duration": 15,
    "start_time": "2023-02-10T05:20:37.802Z"
   },
   {
    "duration": 7,
    "start_time": "2023-02-10T05:20:37.818Z"
   },
   {
    "duration": 11,
    "start_time": "2023-02-10T05:20:37.826Z"
   },
   {
    "duration": 486,
    "start_time": "2023-02-10T05:20:37.839Z"
   },
   {
    "duration": 5,
    "start_time": "2023-02-10T05:20:38.327Z"
   },
   {
    "duration": 60,
    "start_time": "2023-02-10T05:20:38.338Z"
   },
   {
    "duration": 21,
    "start_time": "2023-02-10T05:20:38.400Z"
   },
   {
    "duration": 775,
    "start_time": "2023-02-10T05:21:34.806Z"
   },
   {
    "duration": 14,
    "start_time": "2023-02-10T05:21:35.583Z"
   },
   {
    "duration": 4,
    "start_time": "2023-02-10T05:21:35.600Z"
   },
   {
    "duration": 1958,
    "start_time": "2023-02-10T05:21:35.606Z"
   },
   {
    "duration": 10,
    "start_time": "2023-02-10T05:21:37.565Z"
   },
   {
    "duration": 5,
    "start_time": "2023-02-10T05:21:37.576Z"
   },
   {
    "duration": 5,
    "start_time": "2023-02-10T05:21:37.583Z"
   },
   {
    "duration": 11,
    "start_time": "2023-02-10T05:21:37.590Z"
   },
   {
    "duration": 11,
    "start_time": "2023-02-10T05:21:37.602Z"
   },
   {
    "duration": 13,
    "start_time": "2023-02-10T05:21:37.616Z"
   },
   {
    "duration": 31,
    "start_time": "2023-02-10T05:21:37.630Z"
   },
   {
    "duration": 3,
    "start_time": "2023-02-10T05:21:37.663Z"
   },
   {
    "duration": 19,
    "start_time": "2023-02-10T05:21:37.667Z"
   },
   {
    "duration": 57,
    "start_time": "2023-02-10T05:21:37.687Z"
   },
   {
    "duration": 32,
    "start_time": "2023-02-10T05:21:37.746Z"
   },
   {
    "duration": 35,
    "start_time": "2023-02-10T05:21:37.779Z"
   },
   {
    "duration": 54,
    "start_time": "2023-02-10T05:21:37.815Z"
   },
   {
    "duration": 22,
    "start_time": "2023-02-10T05:21:37.870Z"
   },
   {
    "duration": 88,
    "start_time": "2023-02-10T05:21:37.894Z"
   },
   {
    "duration": 7,
    "start_time": "2023-02-10T05:21:37.984Z"
   },
   {
    "duration": 20,
    "start_time": "2023-02-10T05:21:37.992Z"
   },
   {
    "duration": 7,
    "start_time": "2023-02-10T05:21:38.013Z"
   },
   {
    "duration": 14,
    "start_time": "2023-02-10T05:21:38.037Z"
   },
   {
    "duration": 214,
    "start_time": "2023-02-10T05:21:38.053Z"
   },
   {
    "duration": 7,
    "start_time": "2023-02-10T05:21:38.269Z"
   },
   {
    "duration": 23,
    "start_time": "2023-02-10T05:21:38.277Z"
   },
   {
    "duration": 180,
    "start_time": "2023-02-10T05:21:38.301Z"
   },
   {
    "duration": 6,
    "start_time": "2023-02-10T05:21:38.484Z"
   },
   {
    "duration": 190,
    "start_time": "2023-02-10T05:21:38.492Z"
   },
   {
    "duration": 6,
    "start_time": "2023-02-10T05:21:38.684Z"
   },
   {
    "duration": 18,
    "start_time": "2023-02-10T05:21:38.692Z"
   },
   {
    "duration": 178,
    "start_time": "2023-02-10T05:21:38.712Z"
   },
   {
    "duration": 6,
    "start_time": "2023-02-10T05:21:38.892Z"
   },
   {
    "duration": 208,
    "start_time": "2023-02-10T05:21:38.899Z"
   },
   {
    "duration": 10,
    "start_time": "2023-02-10T05:21:39.109Z"
   },
   {
    "duration": 315,
    "start_time": "2023-02-10T05:21:39.121Z"
   },
   {
    "duration": 8,
    "start_time": "2023-02-10T05:21:39.438Z"
   },
   {
    "duration": 39,
    "start_time": "2023-02-10T05:21:39.447Z"
   },
   {
    "duration": 33,
    "start_time": "2023-02-10T05:21:39.488Z"
   },
   {
    "duration": 47,
    "start_time": "2023-02-10T05:21:39.523Z"
   },
   {
    "duration": 156,
    "start_time": "2023-02-10T05:21:39.572Z"
   },
   {
    "duration": 122,
    "start_time": "2023-02-10T05:21:39.730Z"
   },
   {
    "duration": 10,
    "start_time": "2023-02-10T05:21:39.854Z"
   },
   {
    "duration": 160,
    "start_time": "2023-02-10T05:21:39.866Z"
   },
   {
    "duration": 343,
    "start_time": "2023-02-10T05:21:40.028Z"
   },
   {
    "duration": 10,
    "start_time": "2023-02-10T05:21:40.373Z"
   },
   {
    "duration": 164,
    "start_time": "2023-02-10T05:21:40.385Z"
   },
   {
    "duration": 5,
    "start_time": "2023-02-10T05:21:40.551Z"
   },
   {
    "duration": 158,
    "start_time": "2023-02-10T05:21:40.557Z"
   },
   {
    "duration": 357,
    "start_time": "2023-02-10T05:21:40.716Z"
   },
   {
    "duration": 10,
    "start_time": "2023-02-10T05:21:41.075Z"
   },
   {
    "duration": 151,
    "start_time": "2023-02-10T05:21:41.086Z"
   },
   {
    "duration": 4,
    "start_time": "2023-02-10T05:21:41.239Z"
   },
   {
    "duration": 235,
    "start_time": "2023-02-10T05:21:41.245Z"
   },
   {
    "duration": 835,
    "start_time": "2023-02-10T05:21:41.482Z"
   },
   {
    "duration": 21,
    "start_time": "2023-02-10T05:21:42.319Z"
   },
   {
    "duration": 81,
    "start_time": "2023-02-10T05:21:42.342Z"
   },
   {
    "duration": 14,
    "start_time": "2023-02-10T05:21:42.425Z"
   },
   {
    "duration": 10,
    "start_time": "2023-02-10T05:21:42.442Z"
   },
   {
    "duration": 15,
    "start_time": "2023-02-10T05:21:42.453Z"
   },
   {
    "duration": 10,
    "start_time": "2023-02-10T05:21:42.470Z"
   },
   {
    "duration": 503,
    "start_time": "2023-02-10T05:21:42.482Z"
   },
   {
    "duration": 5,
    "start_time": "2023-02-10T05:21:42.987Z"
   },
   {
    "duration": 30,
    "start_time": "2023-02-10T05:21:42.993Z"
   },
   {
    "duration": 93,
    "start_time": "2023-02-10T05:22:21.173Z"
   },
   {
    "duration": 767,
    "start_time": "2023-02-10T05:23:29.854Z"
   },
   {
    "duration": 18,
    "start_time": "2023-02-10T05:23:30.623Z"
   },
   {
    "duration": 20,
    "start_time": "2023-02-10T05:23:30.643Z"
   },
   {
    "duration": 2040,
    "start_time": "2023-02-10T05:23:30.664Z"
   },
   {
    "duration": 10,
    "start_time": "2023-02-10T05:23:32.708Z"
   },
   {
    "duration": 9,
    "start_time": "2023-02-10T05:23:32.719Z"
   },
   {
    "duration": 8,
    "start_time": "2023-02-10T05:23:32.730Z"
   },
   {
    "duration": 10,
    "start_time": "2023-02-10T05:23:32.740Z"
   },
   {
    "duration": 17,
    "start_time": "2023-02-10T05:23:32.751Z"
   },
   {
    "duration": 14,
    "start_time": "2023-02-10T05:23:32.770Z"
   },
   {
    "duration": 29,
    "start_time": "2023-02-10T05:23:32.786Z"
   },
   {
    "duration": 22,
    "start_time": "2023-02-10T05:23:32.817Z"
   },
   {
    "duration": 24,
    "start_time": "2023-02-10T05:23:32.841Z"
   },
   {
    "duration": 36,
    "start_time": "2023-02-10T05:23:32.869Z"
   },
   {
    "duration": 47,
    "start_time": "2023-02-10T05:23:32.907Z"
   },
   {
    "duration": 37,
    "start_time": "2023-02-10T05:23:32.956Z"
   },
   {
    "duration": 43,
    "start_time": "2023-02-10T05:23:32.995Z"
   },
   {
    "duration": 23,
    "start_time": "2023-02-10T05:23:33.040Z"
   },
   {
    "duration": 83,
    "start_time": "2023-02-10T05:23:33.064Z"
   },
   {
    "duration": 6,
    "start_time": "2023-02-10T05:23:33.149Z"
   },
   {
    "duration": 20,
    "start_time": "2023-02-10T05:23:33.156Z"
   },
   {
    "duration": 11,
    "start_time": "2023-02-10T05:23:33.177Z"
   },
   {
    "duration": 29,
    "start_time": "2023-02-10T05:23:33.189Z"
   },
   {
    "duration": 160,
    "start_time": "2023-02-10T05:23:33.219Z"
   },
   {
    "duration": 7,
    "start_time": "2023-02-10T05:23:33.381Z"
   },
   {
    "duration": 33,
    "start_time": "2023-02-10T05:23:33.390Z"
   },
   {
    "duration": 179,
    "start_time": "2023-02-10T05:23:33.425Z"
   },
   {
    "duration": 7,
    "start_time": "2023-02-10T05:23:33.605Z"
   },
   {
    "duration": 190,
    "start_time": "2023-02-10T05:23:33.613Z"
   },
   {
    "duration": 7,
    "start_time": "2023-02-10T05:23:33.804Z"
   },
   {
    "duration": 24,
    "start_time": "2023-02-10T05:23:33.812Z"
   },
   {
    "duration": 165,
    "start_time": "2023-02-10T05:23:33.838Z"
   },
   {
    "duration": 6,
    "start_time": "2023-02-10T05:23:34.005Z"
   },
   {
    "duration": 185,
    "start_time": "2023-02-10T05:23:34.012Z"
   },
   {
    "duration": 9,
    "start_time": "2023-02-10T05:23:34.198Z"
   },
   {
    "duration": 275,
    "start_time": "2023-02-10T05:23:34.209Z"
   },
   {
    "duration": 9,
    "start_time": "2023-02-10T05:23:34.485Z"
   },
   {
    "duration": 14,
    "start_time": "2023-02-10T05:23:34.496Z"
   },
   {
    "duration": 31,
    "start_time": "2023-02-10T05:23:34.511Z"
   },
   {
    "duration": 9,
    "start_time": "2023-02-10T05:23:34.544Z"
   },
   {
    "duration": 151,
    "start_time": "2023-02-10T05:23:34.558Z"
   },
   {
    "duration": 119,
    "start_time": "2023-02-10T05:23:34.712Z"
   },
   {
    "duration": 8,
    "start_time": "2023-02-10T05:23:34.837Z"
   },
   {
    "duration": 137,
    "start_time": "2023-02-10T05:23:34.847Z"
   },
   {
    "duration": 341,
    "start_time": "2023-02-10T05:23:34.986Z"
   },
   {
    "duration": 12,
    "start_time": "2023-02-10T05:23:35.329Z"
   },
   {
    "duration": 156,
    "start_time": "2023-02-10T05:23:35.343Z"
   },
   {
    "duration": 5,
    "start_time": "2023-02-10T05:23:35.500Z"
   },
   {
    "duration": 139,
    "start_time": "2023-02-10T05:23:35.506Z"
   },
   {
    "duration": 355,
    "start_time": "2023-02-10T05:23:35.647Z"
   },
   {
    "duration": 9,
    "start_time": "2023-02-10T05:23:36.004Z"
   },
   {
    "duration": 152,
    "start_time": "2023-02-10T05:23:36.015Z"
   },
   {
    "duration": 5,
    "start_time": "2023-02-10T05:23:36.168Z"
   },
   {
    "duration": 222,
    "start_time": "2023-02-10T05:23:36.175Z"
   },
   {
    "duration": 829,
    "start_time": "2023-02-10T05:23:36.400Z"
   },
   {
    "duration": 15,
    "start_time": "2023-02-10T05:23:37.237Z"
   },
   {
    "duration": 70,
    "start_time": "2023-02-10T05:23:37.253Z"
   },
   {
    "duration": 15,
    "start_time": "2023-02-10T05:23:37.324Z"
   },
   {
    "duration": 9,
    "start_time": "2023-02-10T05:23:37.341Z"
   },
   {
    "duration": 6,
    "start_time": "2023-02-10T05:23:37.352Z"
   },
   {
    "duration": 10,
    "start_time": "2023-02-10T05:23:37.359Z"
   },
   {
    "duration": 490,
    "start_time": "2023-02-10T05:23:37.370Z"
   },
   {
    "duration": 4,
    "start_time": "2023-02-10T05:23:37.862Z"
   },
   {
    "duration": 52,
    "start_time": "2023-02-10T05:23:37.868Z"
   },
   {
    "duration": 90,
    "start_time": "2023-02-10T05:23:37.921Z"
   },
   {
    "duration": 225,
    "start_time": "2023-02-10T05:26:45.089Z"
   },
   {
    "duration": 322,
    "start_time": "2023-02-10T05:27:11.215Z"
   },
   {
    "duration": 249,
    "start_time": "2023-02-10T05:27:24.761Z"
   },
   {
    "duration": 275,
    "start_time": "2023-02-10T05:27:35.209Z"
   },
   {
    "duration": 1968,
    "start_time": "2023-02-10T05:28:27.532Z"
   },
   {
    "duration": 2265,
    "start_time": "2023-02-10T05:28:41.865Z"
   },
   {
    "duration": 2122,
    "start_time": "2023-02-10T05:28:44.887Z"
   },
   {
    "duration": 2525,
    "start_time": "2023-02-10T05:28:53.757Z"
   },
   {
    "duration": 1558,
    "start_time": "2023-02-10T05:34:36.090Z"
   },
   {
    "duration": 2191,
    "start_time": "2023-02-10T05:34:56.097Z"
   },
   {
    "duration": 1702,
    "start_time": "2023-02-10T05:35:27.149Z"
   },
   {
    "duration": 2078,
    "start_time": "2023-02-10T05:35:35.285Z"
   },
   {
    "duration": 2151,
    "start_time": "2023-02-10T05:35:52.461Z"
   },
   {
    "duration": 2220,
    "start_time": "2023-02-10T05:36:02.184Z"
   },
   {
    "duration": 6,
    "start_time": "2023-02-10T05:40:07.376Z"
   },
   {
    "duration": 38,
    "start_time": "2023-02-10T05:40:17.986Z"
   },
   {
    "duration": 35,
    "start_time": "2023-02-10T05:40:25.459Z"
   },
   {
    "duration": 39,
    "start_time": "2023-02-10T05:40:40.270Z"
   },
   {
    "duration": 8,
    "start_time": "2023-02-10T05:41:03.823Z"
   },
   {
    "duration": 2087,
    "start_time": "2023-02-10T05:41:30.713Z"
   },
   {
    "duration": 2017,
    "start_time": "2023-02-10T05:41:40.021Z"
   },
   {
    "duration": 1696,
    "start_time": "2023-02-10T05:54:09.865Z"
   },
   {
    "duration": 2022,
    "start_time": "2023-02-10T05:54:39.324Z"
   },
   {
    "duration": 159,
    "start_time": "2023-02-10T05:57:32.543Z"
   },
   {
    "duration": 128,
    "start_time": "2023-02-10T05:57:38.903Z"
   },
   {
    "duration": 1963,
    "start_time": "2023-02-10T05:57:52.481Z"
   },
   {
    "duration": 128,
    "start_time": "2023-02-10T05:58:04.591Z"
   },
   {
    "duration": 124,
    "start_time": "2023-02-10T05:58:09.017Z"
   },
   {
    "duration": 2047,
    "start_time": "2023-02-10T05:58:27.633Z"
   },
   {
    "duration": 125,
    "start_time": "2023-02-10T05:58:46.953Z"
   },
   {
    "duration": 1841,
    "start_time": "2023-02-10T05:58:52.162Z"
   },
   {
    "duration": 127,
    "start_time": "2023-02-10T05:58:56.498Z"
   },
   {
    "duration": 1659,
    "start_time": "2023-02-10T06:17:05.685Z"
   },
   {
    "duration": 6,
    "start_time": "2023-02-10T07:23:25.130Z"
   },
   {
    "duration": 146,
    "start_time": "2023-02-10T07:23:29.048Z"
   },
   {
    "duration": 248,
    "start_time": "2023-02-10T07:23:48.492Z"
   },
   {
    "duration": 1467,
    "start_time": "2023-02-10T07:23:54.054Z"
   },
   {
    "duration": 1546,
    "start_time": "2023-02-10T07:24:14.892Z"
   },
   {
    "duration": 1547,
    "start_time": "2023-02-10T07:24:18.393Z"
   },
   {
    "duration": 1076,
    "start_time": "2023-02-10T07:24:21.969Z"
   },
   {
    "duration": 291,
    "start_time": "2023-02-10T07:24:38.028Z"
   },
   {
    "duration": 238,
    "start_time": "2023-02-10T07:25:05.701Z"
   },
   {
    "duration": 181,
    "start_time": "2023-02-10T07:25:12.374Z"
   },
   {
    "duration": 8,
    "start_time": "2023-02-10T07:25:20.067Z"
   },
   {
    "duration": 159,
    "start_time": "2023-02-10T07:25:23.025Z"
   },
   {
    "duration": 139,
    "start_time": "2023-02-10T07:25:28.249Z"
   },
   {
    "duration": 21,
    "start_time": "2023-02-10T07:25:32.401Z"
   },
   {
    "duration": 140,
    "start_time": "2023-02-10T07:25:37.162Z"
   },
   {
    "duration": 187,
    "start_time": "2023-02-10T07:25:44.152Z"
   },
   {
    "duration": 240,
    "start_time": "2023-02-10T07:25:47.371Z"
   },
   {
    "duration": 538,
    "start_time": "2023-02-10T07:25:59.469Z"
   },
   {
    "duration": 470,
    "start_time": "2023-02-10T07:26:05.169Z"
   },
   {
    "duration": 2330,
    "start_time": "2023-02-10T07:26:11.742Z"
   },
   {
    "duration": 339,
    "start_time": "2023-02-10T07:26:14.603Z"
   },
   {
    "duration": 1007,
    "start_time": "2023-02-10T07:26:56.259Z"
   },
   {
    "duration": 691,
    "start_time": "2023-02-10T07:27:02.325Z"
   },
   {
    "duration": 627,
    "start_time": "2023-02-10T07:27:09.484Z"
   },
   {
    "duration": 906,
    "start_time": "2023-02-10T07:27:15.034Z"
   },
   {
    "duration": 575,
    "start_time": "2023-02-10T07:27:30.283Z"
   },
   {
    "duration": 378,
    "start_time": "2023-02-10T07:28:07.387Z"
   },
   {
    "duration": 18,
    "start_time": "2023-02-10T07:28:43.444Z"
   },
   {
    "duration": 589,
    "start_time": "2023-02-10T07:29:25.339Z"
   },
   {
    "duration": 903,
    "start_time": "2023-02-10T07:29:45.307Z"
   },
   {
    "duration": 270,
    "start_time": "2023-02-10T07:30:10.444Z"
   },
   {
    "duration": 320,
    "start_time": "2023-02-10T07:30:12.503Z"
   },
   {
    "duration": 48,
    "start_time": "2023-02-10T11:56:08.325Z"
   },
   {
    "duration": 1166,
    "start_time": "2023-02-10T11:56:13.695Z"
   },
   {
    "duration": 15,
    "start_time": "2023-02-10T11:56:14.864Z"
   },
   {
    "duration": 19,
    "start_time": "2023-02-10T11:56:14.881Z"
   },
   {
    "duration": 2126,
    "start_time": "2023-02-10T11:56:14.901Z"
   },
   {
    "duration": 11,
    "start_time": "2023-02-10T11:56:17.030Z"
   },
   {
    "duration": 8,
    "start_time": "2023-02-10T11:56:17.043Z"
   },
   {
    "duration": 8,
    "start_time": "2023-02-10T11:56:17.053Z"
   },
   {
    "duration": 12,
    "start_time": "2023-02-10T11:56:17.062Z"
   },
   {
    "duration": 13,
    "start_time": "2023-02-10T11:56:17.075Z"
   },
   {
    "duration": 15,
    "start_time": "2023-02-10T11:56:17.090Z"
   },
   {
    "duration": 53,
    "start_time": "2023-02-10T11:56:17.107Z"
   },
   {
    "duration": 4,
    "start_time": "2023-02-10T11:56:17.161Z"
   },
   {
    "duration": 22,
    "start_time": "2023-02-10T11:56:17.166Z"
   },
   {
    "duration": 58,
    "start_time": "2023-02-10T11:56:17.191Z"
   },
   {
    "duration": 34,
    "start_time": "2023-02-10T11:56:17.251Z"
   },
   {
    "duration": 37,
    "start_time": "2023-02-10T11:56:17.287Z"
   },
   {
    "duration": 46,
    "start_time": "2023-02-10T11:56:17.325Z"
   },
   {
    "duration": 22,
    "start_time": "2023-02-10T11:56:17.372Z"
   },
   {
    "duration": 89,
    "start_time": "2023-02-10T11:56:17.395Z"
   },
   {
    "duration": 6,
    "start_time": "2023-02-10T11:56:17.486Z"
   },
   {
    "duration": 13,
    "start_time": "2023-02-10T11:56:17.494Z"
   },
   {
    "duration": 11,
    "start_time": "2023-02-10T11:56:17.509Z"
   },
   {
    "duration": 32,
    "start_time": "2023-02-10T11:56:17.522Z"
   },
   {
    "duration": 186,
    "start_time": "2023-02-10T11:56:17.556Z"
   },
   {
    "duration": 8,
    "start_time": "2023-02-10T11:56:17.743Z"
   },
   {
    "duration": 9,
    "start_time": "2023-02-10T11:56:17.753Z"
   },
   {
    "duration": 187,
    "start_time": "2023-02-10T11:56:17.763Z"
   },
   {
    "duration": 6,
    "start_time": "2023-02-10T11:56:17.951Z"
   },
   {
    "duration": 178,
    "start_time": "2023-02-10T11:56:17.958Z"
   },
   {
    "duration": 13,
    "start_time": "2023-02-10T11:56:18.138Z"
   },
   {
    "duration": 12,
    "start_time": "2023-02-10T11:56:18.153Z"
   },
   {
    "duration": 177,
    "start_time": "2023-02-10T11:56:18.167Z"
   },
   {
    "duration": 6,
    "start_time": "2023-02-10T11:56:18.346Z"
   },
   {
    "duration": 204,
    "start_time": "2023-02-10T11:56:18.353Z"
   },
   {
    "duration": 9,
    "start_time": "2023-02-10T11:56:18.559Z"
   },
   {
    "duration": 298,
    "start_time": "2023-02-10T11:56:18.569Z"
   },
   {
    "duration": 11,
    "start_time": "2023-02-10T11:56:18.869Z"
   },
   {
    "duration": 13,
    "start_time": "2023-02-10T11:56:18.882Z"
   },
   {
    "duration": 9,
    "start_time": "2023-02-10T11:56:18.896Z"
   },
   {
    "duration": 7,
    "start_time": "2023-02-10T11:56:18.907Z"
   },
   {
    "duration": 164,
    "start_time": "2023-02-10T11:56:18.919Z"
   },
   {
    "duration": 138,
    "start_time": "2023-02-10T11:56:19.084Z"
   },
   {
    "duration": 10,
    "start_time": "2023-02-10T11:56:19.223Z"
   },
   {
    "duration": 147,
    "start_time": "2023-02-10T11:56:19.234Z"
   },
   {
    "duration": 331,
    "start_time": "2023-02-10T11:56:19.383Z"
   },
   {
    "duration": 10,
    "start_time": "2023-02-10T11:56:19.715Z"
   },
   {
    "duration": 154,
    "start_time": "2023-02-10T11:56:19.726Z"
   },
   {
    "duration": 5,
    "start_time": "2023-02-10T11:56:19.881Z"
   },
   {
    "duration": 156,
    "start_time": "2023-02-10T11:56:19.888Z"
   },
   {
    "duration": 371,
    "start_time": "2023-02-10T11:56:20.046Z"
   },
   {
    "duration": 10,
    "start_time": "2023-02-10T11:56:20.418Z"
   },
   {
    "duration": 172,
    "start_time": "2023-02-10T11:56:20.430Z"
   },
   {
    "duration": 5,
    "start_time": "2023-02-10T11:56:20.603Z"
   },
   {
    "duration": 225,
    "start_time": "2023-02-10T11:56:20.610Z"
   },
   {
    "duration": 839,
    "start_time": "2023-02-10T11:56:20.836Z"
   },
   {
    "duration": 14,
    "start_time": "2023-02-10T11:56:21.677Z"
   },
   {
    "duration": 119,
    "start_time": "2023-02-10T11:56:21.692Z"
   },
   {
    "duration": 4,
    "start_time": "2023-02-10T11:56:21.813Z"
   },
   {
    "duration": 71,
    "start_time": "2023-02-10T11:56:21.818Z"
   },
   {
    "duration": 34,
    "start_time": "2023-02-10T11:56:21.891Z"
   },
   {
    "duration": 32,
    "start_time": "2023-02-10T11:56:21.927Z"
   },
   {
    "duration": 478,
    "start_time": "2023-02-10T11:56:21.961Z"
   },
   {
    "duration": 9,
    "start_time": "2023-02-10T11:56:22.440Z"
   },
   {
    "duration": 36,
    "start_time": "2023-02-10T11:56:22.450Z"
   },
   {
    "duration": 86,
    "start_time": "2023-02-10T11:56:22.489Z"
   },
   {
    "duration": 1499,
    "start_time": "2023-02-10T11:56:22.576Z"
   },
   {
    "duration": 145,
    "start_time": "2023-02-10T11:56:24.077Z"
   },
   {
    "duration": 344,
    "start_time": "2023-02-10T11:56:24.224Z"
   },
   {
    "duration": 247,
    "start_time": "2023-02-10T11:56:24.570Z"
   },
   {
    "duration": 8,
    "start_time": "2023-02-10T11:56:24.818Z"
   },
   {
    "duration": 414,
    "start_time": "2023-02-10T11:58:25.060Z"
   },
   {
    "duration": 258,
    "start_time": "2023-02-10T11:58:34.481Z"
   },
   {
    "duration": 194,
    "start_time": "2023-02-10T11:58:50.073Z"
   },
   {
    "duration": 197,
    "start_time": "2023-02-10T11:59:20.980Z"
   },
   {
    "duration": 7,
    "start_time": "2023-02-10T11:59:39.645Z"
   },
   {
    "duration": 8,
    "start_time": "2023-02-10T11:59:41.904Z"
   },
   {
    "duration": 224,
    "start_time": "2023-02-10T12:01:28.292Z"
   },
   {
    "duration": 449,
    "start_time": "2023-02-10T12:09:36.562Z"
   },
   {
    "duration": 12,
    "start_time": "2023-02-10T12:10:35.944Z"
   },
   {
    "duration": 778,
    "start_time": "2023-02-10T12:17:19.618Z"
   },
   {
    "duration": 72,
    "start_time": "2023-02-10T12:18:40.842Z"
   },
   {
    "duration": 80,
    "start_time": "2023-02-10T12:19:00.094Z"
   },
   {
    "duration": 75,
    "start_time": "2023-02-10T12:19:15.785Z"
   },
   {
    "duration": 76,
    "start_time": "2023-02-10T12:19:18.226Z"
   },
   {
    "duration": 10,
    "start_time": "2023-02-10T12:19:20.758Z"
   },
   {
    "duration": 10,
    "start_time": "2023-02-10T12:19:27.254Z"
   },
   {
    "duration": 9,
    "start_time": "2023-02-10T12:19:49.366Z"
   },
   {
    "duration": 10,
    "start_time": "2023-02-10T12:19:51.915Z"
   },
   {
    "duration": 13,
    "start_time": "2023-02-10T12:19:55.538Z"
   },
   {
    "duration": 9,
    "start_time": "2023-02-10T12:20:22.434Z"
   },
   {
    "duration": 12,
    "start_time": "2023-02-10T12:27:02.731Z"
   },
   {
    "duration": 11,
    "start_time": "2023-02-10T12:27:13.646Z"
   },
   {
    "duration": 9,
    "start_time": "2023-02-10T12:27:16.742Z"
   },
   {
    "duration": 14,
    "start_time": "2023-02-10T12:27:35.434Z"
   },
   {
    "duration": 11,
    "start_time": "2023-02-10T12:27:37.293Z"
   },
   {
    "duration": 14,
    "start_time": "2023-02-10T12:27:55.968Z"
   },
   {
    "duration": 125,
    "start_time": "2023-02-10T12:28:03.534Z"
   },
   {
    "duration": 13,
    "start_time": "2023-02-10T12:28:15.968Z"
   },
   {
    "duration": 159,
    "start_time": "2023-02-10T12:28:25.365Z"
   },
   {
    "duration": 172,
    "start_time": "2023-02-10T12:29:04.001Z"
   },
   {
    "duration": 155,
    "start_time": "2023-02-10T12:29:12.968Z"
   },
   {
    "duration": 141,
    "start_time": "2023-02-10T12:29:44.533Z"
   },
   {
    "duration": 18,
    "start_time": "2023-02-10T12:30:22.634Z"
   },
   {
    "duration": 131,
    "start_time": "2023-02-10T12:30:24.860Z"
   },
   {
    "duration": 16,
    "start_time": "2023-02-10T12:30:26.643Z"
   },
   {
    "duration": 21,
    "start_time": "2023-02-10T12:30:31.174Z"
   },
   {
    "duration": 19,
    "start_time": "2023-02-10T12:30:37.018Z"
   },
   {
    "duration": 20,
    "start_time": "2023-02-10T12:30:39.473Z"
   },
   {
    "duration": 140,
    "start_time": "2023-02-10T12:30:46.265Z"
   },
   {
    "duration": 143,
    "start_time": "2023-02-10T12:30:48.255Z"
   },
   {
    "duration": 105,
    "start_time": "2023-02-10T12:31:06.176Z"
   },
   {
    "duration": 661,
    "start_time": "2023-02-10T12:31:11.174Z"
   },
   {
    "duration": 140,
    "start_time": "2023-02-10T12:31:17.830Z"
   },
   {
    "duration": 12,
    "start_time": "2023-02-10T12:32:21.046Z"
   },
   {
    "duration": 123,
    "start_time": "2023-02-10T12:33:49.929Z"
   },
   {
    "duration": 126,
    "start_time": "2023-02-10T12:35:35.590Z"
   },
   {
    "duration": 179,
    "start_time": "2023-02-10T12:36:44.078Z"
   },
   {
    "duration": 102,
    "start_time": "2023-02-10T12:36:46.466Z"
   },
   {
    "duration": 160,
    "start_time": "2023-02-10T12:36:52.483Z"
   },
   {
    "duration": 37326,
    "start_time": "2023-02-10T12:38:55.862Z"
   },
   {
    "duration": 2234,
    "start_time": "2023-02-10T12:39:38.162Z"
   },
   {
    "duration": 74,
    "start_time": "2023-02-10T12:40:09.630Z"
   },
   {
    "duration": 299,
    "start_time": "2023-02-10T12:40:12.758Z"
   },
   {
    "duration": 156,
    "start_time": "2023-02-10T12:41:21.850Z"
   },
   {
    "duration": 287,
    "start_time": "2023-02-10T12:43:47.241Z"
   },
   {
    "duration": 266,
    "start_time": "2023-02-10T12:43:51.634Z"
   },
   {
    "duration": 172,
    "start_time": "2023-02-10T12:44:05.957Z"
   },
   {
    "duration": 195,
    "start_time": "2023-02-10T12:44:15.555Z"
   },
   {
    "duration": 198,
    "start_time": "2023-02-10T12:45:17.968Z"
   },
   {
    "duration": 186,
    "start_time": "2023-02-10T12:45:20.462Z"
   },
   {
    "duration": 5022,
    "start_time": "2023-02-10T12:46:28.933Z"
   },
   {
    "duration": 22,
    "start_time": "2023-02-10T12:46:41.041Z"
   },
   {
    "duration": 1724,
    "start_time": "2023-02-10T12:47:00.789Z"
   },
   {
    "duration": 1354,
    "start_time": "2023-02-10T12:47:13.529Z"
   },
   {
    "duration": 1649,
    "start_time": "2023-02-10T12:47:22.283Z"
   },
   {
    "duration": 154,
    "start_time": "2023-02-10T12:47:28.049Z"
   },
   {
    "duration": 145,
    "start_time": "2023-02-10T12:47:30.886Z"
   },
   {
    "duration": 20,
    "start_time": "2023-02-10T12:48:05.100Z"
   },
   {
    "duration": 151,
    "start_time": "2023-02-10T12:48:11.379Z"
   },
   {
    "duration": 172,
    "start_time": "2023-02-10T12:50:28.792Z"
   },
   {
    "duration": 144,
    "start_time": "2023-02-10T12:50:36.753Z"
   },
   {
    "duration": 142,
    "start_time": "2023-02-10T12:52:19.672Z"
   },
   {
    "duration": 160,
    "start_time": "2023-02-10T12:52:22.965Z"
   },
   {
    "duration": 144,
    "start_time": "2023-02-10T12:53:28.857Z"
   },
   {
    "duration": 179,
    "start_time": "2023-02-10T12:54:31.929Z"
   },
   {
    "duration": 152,
    "start_time": "2023-02-10T12:54:44.865Z"
   },
   {
    "duration": 148,
    "start_time": "2023-02-10T12:56:03.083Z"
   },
   {
    "duration": 136,
    "start_time": "2023-02-10T12:56:08.774Z"
   },
   {
    "duration": 138,
    "start_time": "2023-02-10T12:56:21.041Z"
   },
   {
    "duration": 150,
    "start_time": "2023-02-10T12:56:24.875Z"
   },
   {
    "duration": 146,
    "start_time": "2023-02-10T12:58:31.445Z"
   },
   {
    "duration": 166,
    "start_time": "2023-02-10T12:58:32.877Z"
   },
   {
    "duration": 142,
    "start_time": "2023-02-10T12:58:34.365Z"
   },
   {
    "duration": 125,
    "start_time": "2023-02-10T13:02:59.432Z"
   },
   {
    "duration": 145,
    "start_time": "2023-02-10T13:03:19.861Z"
   },
   {
    "duration": 66,
    "start_time": "2023-02-10T13:03:27.046Z"
   },
   {
    "duration": 152,
    "start_time": "2023-02-10T13:03:33.941Z"
   },
   {
    "duration": 19,
    "start_time": "2023-02-10T13:03:52.355Z"
   },
   {
    "duration": 153,
    "start_time": "2023-02-10T13:03:54.836Z"
   },
   {
    "duration": 171,
    "start_time": "2023-02-10T13:07:27.532Z"
   },
   {
    "duration": 35,
    "start_time": "2023-02-10T13:09:31.136Z"
   },
   {
    "duration": 21,
    "start_time": "2023-02-10T13:11:04.941Z"
   },
   {
    "duration": 30,
    "start_time": "2023-02-10T13:12:20.972Z"
   },
   {
    "duration": 21,
    "start_time": "2023-02-10T13:12:40.137Z"
   },
   {
    "duration": 33,
    "start_time": "2023-02-10T13:12:56.128Z"
   },
   {
    "duration": 28,
    "start_time": "2023-02-10T13:13:22.756Z"
   },
   {
    "duration": 29,
    "start_time": "2023-02-10T13:13:26.713Z"
   },
   {
    "duration": 29,
    "start_time": "2023-02-10T13:13:27.781Z"
   },
   {
    "duration": 24,
    "start_time": "2023-02-10T13:13:30.111Z"
   },
   {
    "duration": 33,
    "start_time": "2023-02-10T13:13:57.220Z"
   },
   {
    "duration": 82,
    "start_time": "2023-02-10T13:14:01.925Z"
   },
   {
    "duration": 99,
    "start_time": "2023-02-10T13:14:12.485Z"
   },
   {
    "duration": 76,
    "start_time": "2023-02-10T13:14:14.728Z"
   },
   {
    "duration": 28,
    "start_time": "2023-02-10T13:14:17.949Z"
   },
   {
    "duration": 22,
    "start_time": "2023-02-10T13:14:22.484Z"
   },
   {
    "duration": 30,
    "start_time": "2023-02-10T13:14:34.480Z"
   },
   {
    "duration": 27,
    "start_time": "2023-02-10T13:14:43.581Z"
   },
   {
    "duration": 22,
    "start_time": "2023-02-10T13:14:47.248Z"
   },
   {
    "duration": 22,
    "start_time": "2023-02-10T13:14:50.600Z"
   },
   {
    "duration": 718,
    "start_time": "2023-02-10T13:14:58.059Z"
   },
   {
    "duration": 14,
    "start_time": "2023-02-10T13:14:58.779Z"
   },
   {
    "duration": 4,
    "start_time": "2023-02-10T13:14:58.794Z"
   },
   {
    "duration": 1796,
    "start_time": "2023-02-10T13:14:58.799Z"
   },
   {
    "duration": 9,
    "start_time": "2023-02-10T13:15:00.596Z"
   },
   {
    "duration": 22,
    "start_time": "2023-02-10T13:15:00.606Z"
   },
   {
    "duration": 35,
    "start_time": "2023-02-10T13:15:00.630Z"
   },
   {
    "duration": 24,
    "start_time": "2023-02-10T13:15:00.667Z"
   },
   {
    "duration": 57,
    "start_time": "2023-02-10T13:15:00.692Z"
   },
   {
    "duration": 34,
    "start_time": "2023-02-10T13:15:00.752Z"
   },
   {
    "duration": 68,
    "start_time": "2023-02-10T13:15:00.788Z"
   },
   {
    "duration": 5,
    "start_time": "2023-02-10T13:15:00.858Z"
   },
   {
    "duration": 42,
    "start_time": "2023-02-10T13:15:00.865Z"
   },
   {
    "duration": 85,
    "start_time": "2023-02-10T13:15:00.909Z"
   },
   {
    "duration": 37,
    "start_time": "2023-02-10T13:15:00.996Z"
   },
   {
    "duration": 46,
    "start_time": "2023-02-10T13:15:01.035Z"
   },
   {
    "duration": 51,
    "start_time": "2023-02-10T13:15:01.082Z"
   },
   {
    "duration": 21,
    "start_time": "2023-02-10T13:15:01.135Z"
   },
   {
    "duration": 77,
    "start_time": "2023-02-10T13:15:01.157Z"
   },
   {
    "duration": 13,
    "start_time": "2023-02-10T13:15:01.236Z"
   },
   {
    "duration": 10,
    "start_time": "2023-02-10T13:15:01.250Z"
   },
   {
    "duration": 17,
    "start_time": "2023-02-10T13:15:01.262Z"
   },
   {
    "duration": 59,
    "start_time": "2023-02-10T13:15:01.281Z"
   },
   {
    "duration": 184,
    "start_time": "2023-02-10T13:15:01.341Z"
   },
   {
    "duration": 6,
    "start_time": "2023-02-10T13:15:01.527Z"
   },
   {
    "duration": 38,
    "start_time": "2023-02-10T13:15:01.534Z"
   },
   {
    "duration": 168,
    "start_time": "2023-02-10T13:15:01.573Z"
   },
   {
    "duration": 8,
    "start_time": "2023-02-10T13:15:01.748Z"
   },
   {
    "duration": 193,
    "start_time": "2023-02-10T13:15:01.757Z"
   },
   {
    "duration": 6,
    "start_time": "2023-02-10T13:15:01.951Z"
   },
   {
    "duration": 34,
    "start_time": "2023-02-10T13:15:01.958Z"
   },
   {
    "duration": 159,
    "start_time": "2023-02-10T13:15:01.994Z"
   },
   {
    "duration": 7,
    "start_time": "2023-02-10T13:15:02.155Z"
   },
   {
    "duration": 180,
    "start_time": "2023-02-10T13:15:02.164Z"
   },
   {
    "duration": 9,
    "start_time": "2023-02-10T13:15:02.347Z"
   },
   {
    "duration": 288,
    "start_time": "2023-02-10T13:15:02.357Z"
   },
   {
    "duration": 6,
    "start_time": "2023-02-10T13:15:02.647Z"
   },
   {
    "duration": 32,
    "start_time": "2023-02-10T13:15:02.655Z"
   },
   {
    "duration": 25,
    "start_time": "2023-02-10T13:15:02.688Z"
   },
   {
    "duration": 15,
    "start_time": "2023-02-10T13:15:02.715Z"
   },
   {
    "duration": 165,
    "start_time": "2023-02-10T13:15:02.732Z"
   },
   {
    "duration": 121,
    "start_time": "2023-02-10T13:15:02.899Z"
   },
   {
    "duration": 9,
    "start_time": "2023-02-10T13:15:03.022Z"
   },
   {
    "duration": 148,
    "start_time": "2023-02-10T13:15:03.032Z"
   },
   {
    "duration": 301,
    "start_time": "2023-02-10T13:15:03.182Z"
   },
   {
    "duration": 11,
    "start_time": "2023-02-10T13:15:03.484Z"
   },
   {
    "duration": 139,
    "start_time": "2023-02-10T13:15:03.496Z"
   },
   {
    "duration": 12,
    "start_time": "2023-02-10T13:15:03.636Z"
   },
   {
    "duration": 127,
    "start_time": "2023-02-10T13:15:03.649Z"
   },
   {
    "duration": 314,
    "start_time": "2023-02-10T13:15:03.777Z"
   },
   {
    "duration": 9,
    "start_time": "2023-02-10T13:15:04.092Z"
   },
   {
    "duration": 167,
    "start_time": "2023-02-10T13:15:04.103Z"
   },
   {
    "duration": 4,
    "start_time": "2023-02-10T13:15:04.271Z"
   },
   {
    "duration": 213,
    "start_time": "2023-02-10T13:15:04.276Z"
   },
   {
    "duration": 929,
    "start_time": "2023-02-10T13:15:04.491Z"
   },
   {
    "duration": 26,
    "start_time": "2023-02-10T13:15:05.423Z"
   },
   {
    "duration": 65,
    "start_time": "2023-02-10T13:15:05.450Z"
   },
   {
    "duration": 4,
    "start_time": "2023-02-10T13:15:05.517Z"
   },
   {
    "duration": 8,
    "start_time": "2023-02-10T13:15:05.523Z"
   },
   {
    "duration": 20,
    "start_time": "2023-02-10T13:15:05.533Z"
   },
   {
    "duration": 7,
    "start_time": "2023-02-10T13:15:05.554Z"
   },
   {
    "duration": 466,
    "start_time": "2023-02-10T13:15:05.563Z"
   },
   {
    "duration": 5,
    "start_time": "2023-02-10T13:15:06.030Z"
   },
   {
    "duration": 31,
    "start_time": "2023-02-10T13:15:06.038Z"
   },
   {
    "duration": 88,
    "start_time": "2023-02-10T13:15:06.071Z"
   },
   {
    "duration": 1280,
    "start_time": "2023-02-10T13:15:06.161Z"
   },
   {
    "duration": 114,
    "start_time": "2023-02-10T13:15:07.442Z"
   },
   {
    "duration": 7,
    "start_time": "2023-02-10T13:15:07.558Z"
   },
   {
    "duration": 319,
    "start_time": "2023-02-10T13:15:07.567Z"
   },
   {
    "duration": 243,
    "start_time": "2023-02-10T13:15:07.888Z"
   },
   {
    "duration": 175,
    "start_time": "2023-02-10T13:15:08.132Z"
   },
   {
    "duration": 11,
    "start_time": "2023-02-10T13:15:08.308Z"
   },
   {
    "duration": 211,
    "start_time": "2023-02-10T13:15:08.320Z"
   },
   {
    "duration": 146,
    "start_time": "2023-02-10T13:15:08.533Z"
   },
   {
    "duration": 192,
    "start_time": "2023-02-10T13:15:08.681Z"
   },
   {
    "duration": 174,
    "start_time": "2023-02-10T13:15:08.874Z"
   },
   {
    "duration": 163,
    "start_time": "2023-02-10T13:15:09.050Z"
   },
   {
    "duration": 165,
    "start_time": "2023-02-10T13:15:09.214Z"
   },
   {
    "duration": 191,
    "start_time": "2023-02-10T13:15:09.380Z"
   },
   {
    "duration": 177,
    "start_time": "2023-02-10T13:15:09.573Z"
   },
   {
    "duration": 27,
    "start_time": "2023-02-10T13:15:09.752Z"
   },
   {
    "duration": 34,
    "start_time": "2023-02-10T13:15:24.115Z"
   },
   {
    "duration": 28,
    "start_time": "2023-02-10T13:15:32.081Z"
   },
   {
    "duration": 24,
    "start_time": "2023-02-10T13:17:18.717Z"
   },
   {
    "duration": 29,
    "start_time": "2023-02-10T13:17:23.257Z"
   },
   {
    "duration": 86,
    "start_time": "2023-02-10T13:18:08.233Z"
   },
   {
    "duration": 1185,
    "start_time": "2023-02-10T13:18:11.504Z"
   },
   {
    "duration": 181,
    "start_time": "2023-02-10T13:18:33.825Z"
   },
   {
    "duration": 157,
    "start_time": "2023-02-10T13:18:39.664Z"
   },
   {
    "duration": 157,
    "start_time": "2023-02-10T13:18:44.448Z"
   },
   {
    "duration": 235,
    "start_time": "2023-02-10T13:18:54.879Z"
   },
   {
    "duration": 177,
    "start_time": "2023-02-10T13:19:24.327Z"
   },
   {
    "duration": 33,
    "start_time": "2023-02-10T13:19:43.867Z"
   },
   {
    "duration": 183,
    "start_time": "2023-02-10T13:19:58.964Z"
   },
   {
    "duration": 176,
    "start_time": "2023-02-10T13:20:32.473Z"
   },
   {
    "duration": 53,
    "start_time": "2023-02-11T05:30:44.984Z"
   },
   {
    "duration": 1049,
    "start_time": "2023-02-11T05:31:49.137Z"
   },
   {
    "duration": 19,
    "start_time": "2023-02-11T05:31:50.188Z"
   },
   {
    "duration": 25,
    "start_time": "2023-02-11T05:31:50.209Z"
   },
   {
    "duration": 2128,
    "start_time": "2023-02-11T05:31:50.237Z"
   },
   {
    "duration": 11,
    "start_time": "2023-02-11T05:31:52.366Z"
   },
   {
    "duration": 6,
    "start_time": "2023-02-11T05:31:52.379Z"
   },
   {
    "duration": 4,
    "start_time": "2023-02-11T05:31:52.387Z"
   },
   {
    "duration": 7,
    "start_time": "2023-02-11T05:31:52.393Z"
   },
   {
    "duration": 14,
    "start_time": "2023-02-11T05:31:52.402Z"
   },
   {
    "duration": 26,
    "start_time": "2023-02-11T05:31:52.419Z"
   },
   {
    "duration": 32,
    "start_time": "2023-02-11T05:31:52.446Z"
   },
   {
    "duration": 3,
    "start_time": "2023-02-11T05:31:52.480Z"
   },
   {
    "duration": 26,
    "start_time": "2023-02-11T05:31:52.485Z"
   },
   {
    "duration": 64,
    "start_time": "2023-02-11T05:31:52.513Z"
   },
   {
    "duration": 44,
    "start_time": "2023-02-11T05:31:52.580Z"
   },
   {
    "duration": 47,
    "start_time": "2023-02-11T05:31:52.640Z"
   },
   {
    "duration": 29,
    "start_time": "2023-02-11T05:31:52.688Z"
   },
   {
    "duration": 24,
    "start_time": "2023-02-11T05:31:52.740Z"
   },
   {
    "duration": 87,
    "start_time": "2023-02-11T05:31:52.766Z"
   },
   {
    "duration": 8,
    "start_time": "2023-02-11T05:31:52.855Z"
   },
   {
    "duration": 12,
    "start_time": "2023-02-11T05:31:52.864Z"
   },
   {
    "duration": 7,
    "start_time": "2023-02-11T05:31:52.878Z"
   },
   {
    "duration": 15,
    "start_time": "2023-02-11T05:31:52.886Z"
   },
   {
    "duration": 211,
    "start_time": "2023-02-11T05:31:52.903Z"
   },
   {
    "duration": 7,
    "start_time": "2023-02-11T05:31:53.116Z"
   },
   {
    "duration": 30,
    "start_time": "2023-02-11T05:31:53.124Z"
   },
   {
    "duration": 184,
    "start_time": "2023-02-11T05:31:53.156Z"
   },
   {
    "duration": 13,
    "start_time": "2023-02-11T05:31:53.344Z"
   },
   {
    "duration": 177,
    "start_time": "2023-02-11T05:31:53.359Z"
   },
   {
    "duration": 7,
    "start_time": "2023-02-11T05:31:53.539Z"
   },
   {
    "duration": 10,
    "start_time": "2023-02-11T05:31:53.548Z"
   },
   {
    "duration": 205,
    "start_time": "2023-02-11T05:31:53.560Z"
   },
   {
    "duration": 6,
    "start_time": "2023-02-11T05:31:53.767Z"
   },
   {
    "duration": 219,
    "start_time": "2023-02-11T05:31:53.775Z"
   },
   {
    "duration": 9,
    "start_time": "2023-02-11T05:31:53.995Z"
   },
   {
    "duration": 304,
    "start_time": "2023-02-11T05:31:54.006Z"
   },
   {
    "duration": 8,
    "start_time": "2023-02-11T05:31:54.312Z"
   },
   {
    "duration": 28,
    "start_time": "2023-02-11T05:31:54.322Z"
   },
   {
    "duration": 12,
    "start_time": "2023-02-11T05:31:54.353Z"
   },
   {
    "duration": 9,
    "start_time": "2023-02-11T05:31:54.368Z"
   },
   {
    "duration": 178,
    "start_time": "2023-02-11T05:31:54.379Z"
   },
   {
    "duration": 133,
    "start_time": "2023-02-11T05:31:54.558Z"
   },
   {
    "duration": 11,
    "start_time": "2023-02-11T05:31:54.693Z"
   },
   {
    "duration": 163,
    "start_time": "2023-02-11T05:31:54.706Z"
   },
   {
    "duration": 364,
    "start_time": "2023-02-11T05:31:54.871Z"
   },
   {
    "duration": 10,
    "start_time": "2023-02-11T05:31:55.240Z"
   },
   {
    "duration": 159,
    "start_time": "2023-02-11T05:31:55.252Z"
   },
   {
    "duration": 4,
    "start_time": "2023-02-11T05:31:55.413Z"
   },
   {
    "duration": 153,
    "start_time": "2023-02-11T05:31:55.419Z"
   },
   {
    "duration": 358,
    "start_time": "2023-02-11T05:31:55.575Z"
   },
   {
    "duration": 12,
    "start_time": "2023-02-11T05:31:55.939Z"
   },
   {
    "duration": 160,
    "start_time": "2023-02-11T05:31:55.953Z"
   },
   {
    "duration": 6,
    "start_time": "2023-02-11T05:31:56.115Z"
   },
   {
    "duration": 242,
    "start_time": "2023-02-11T05:31:56.122Z"
   },
   {
    "duration": 923,
    "start_time": "2023-02-11T05:31:56.366Z"
   },
   {
    "duration": 15,
    "start_time": "2023-02-11T05:31:57.291Z"
   },
   {
    "duration": 96,
    "start_time": "2023-02-11T05:31:57.308Z"
   },
   {
    "duration": 5,
    "start_time": "2023-02-11T05:31:57.405Z"
   },
   {
    "duration": 11,
    "start_time": "2023-02-11T05:31:57.411Z"
   },
   {
    "duration": 18,
    "start_time": "2023-02-11T05:31:57.424Z"
   },
   {
    "duration": 6,
    "start_time": "2023-02-11T05:31:57.444Z"
   },
   {
    "duration": 489,
    "start_time": "2023-02-11T05:31:57.451Z"
   },
   {
    "duration": 4,
    "start_time": "2023-02-11T05:31:57.942Z"
   },
   {
    "duration": 39,
    "start_time": "2023-02-11T05:31:57.948Z"
   },
   {
    "duration": 105,
    "start_time": "2023-02-11T05:31:57.989Z"
   },
   {
    "duration": 1669,
    "start_time": "2023-02-11T05:31:58.096Z"
   },
   {
    "duration": 143,
    "start_time": "2023-02-11T05:31:59.766Z"
   },
   {
    "duration": 7,
    "start_time": "2023-02-11T05:31:59.911Z"
   },
   {
    "duration": 368,
    "start_time": "2023-02-11T05:31:59.920Z"
   },
   {
    "duration": 267,
    "start_time": "2023-02-11T05:32:00.290Z"
   },
   {
    "duration": 228,
    "start_time": "2023-02-11T05:32:00.559Z"
   },
   {
    "duration": 11,
    "start_time": "2023-02-11T05:32:00.789Z"
   },
   {
    "duration": 265,
    "start_time": "2023-02-11T05:32:00.801Z"
   },
   {
    "duration": 179,
    "start_time": "2023-02-11T05:32:01.067Z"
   },
   {
    "duration": 176,
    "start_time": "2023-02-11T05:32:01.248Z"
   },
   {
    "duration": 177,
    "start_time": "2023-02-11T05:32:01.426Z"
   },
   {
    "duration": 168,
    "start_time": "2023-02-11T05:32:01.605Z"
   },
   {
    "duration": 180,
    "start_time": "2023-02-11T05:32:01.775Z"
   },
   {
    "duration": 197,
    "start_time": "2023-02-11T05:32:01.957Z"
   },
   {
    "duration": 165,
    "start_time": "2023-02-11T05:32:02.155Z"
   },
   {
    "duration": 2,
    "start_time": "2023-02-11T05:32:02.322Z"
   },
   {
    "duration": 27,
    "start_time": "2023-02-11T05:36:19.577Z"
   },
   {
    "duration": 72,
    "start_time": "2023-02-11T05:36:23.497Z"
   },
   {
    "duration": 16,
    "start_time": "2023-02-11T05:36:26.536Z"
   },
   {
    "duration": 4,
    "start_time": "2023-02-11T05:37:13.422Z"
   },
   {
    "duration": 14,
    "start_time": "2023-02-11T05:38:00.094Z"
   },
   {
    "duration": 14,
    "start_time": "2023-02-11T05:38:35.449Z"
   },
   {
    "duration": 14,
    "start_time": "2023-02-11T05:38:47.553Z"
   },
   {
    "duration": 14,
    "start_time": "2023-02-11T05:39:11.408Z"
   },
   {
    "duration": 12,
    "start_time": "2023-02-11T05:39:12.718Z"
   },
   {
    "duration": 4,
    "start_time": "2023-02-11T05:39:18.117Z"
   },
   {
    "duration": 13,
    "start_time": "2023-02-11T05:39:20.015Z"
   },
   {
    "duration": 4,
    "start_time": "2023-02-11T05:39:39.035Z"
   },
   {
    "duration": 10,
    "start_time": "2023-02-11T05:39:40.073Z"
   },
   {
    "duration": 6,
    "start_time": "2023-02-11T05:44:38.726Z"
   },
   {
    "duration": 11,
    "start_time": "2023-02-11T05:44:41.785Z"
   },
   {
    "duration": 181,
    "start_time": "2023-02-11T05:51:09.739Z"
   },
   {
    "duration": 168,
    "start_time": "2023-02-11T05:51:21.075Z"
   },
   {
    "duration": 174,
    "start_time": "2023-02-11T05:51:26.133Z"
   },
   {
    "duration": 251,
    "start_time": "2023-02-11T05:53:12.177Z"
   },
   {
    "duration": 25,
    "start_time": "2023-02-11T05:54:42.185Z"
   },
   {
    "duration": 16,
    "start_time": "2023-02-11T05:55:33.278Z"
   },
   {
    "duration": 6,
    "start_time": "2023-02-11T05:55:42.795Z"
   },
   {
    "duration": 7,
    "start_time": "2023-02-11T05:56:08.537Z"
   },
   {
    "duration": 7,
    "start_time": "2023-02-11T05:56:14.686Z"
   },
   {
    "duration": 14,
    "start_time": "2023-02-11T05:56:21.488Z"
   },
   {
    "duration": 8,
    "start_time": "2023-02-11T05:56:29.998Z"
   },
   {
    "duration": 7,
    "start_time": "2023-02-11T05:56:32.748Z"
   },
   {
    "duration": 24,
    "start_time": "2023-02-11T06:00:36.645Z"
   },
   {
    "duration": 10,
    "start_time": "2023-02-11T06:00:43.656Z"
   },
   {
    "duration": 10,
    "start_time": "2023-02-11T06:00:53.754Z"
   },
   {
    "duration": 9,
    "start_time": "2023-02-11T06:00:58.127Z"
   },
   {
    "duration": 9,
    "start_time": "2023-02-11T06:01:25.732Z"
   },
   {
    "duration": 6,
    "start_time": "2023-02-11T06:01:28.253Z"
   },
   {
    "duration": 6,
    "start_time": "2023-02-11T06:01:45.446Z"
   },
   {
    "duration": 6,
    "start_time": "2023-02-11T06:01:59.033Z"
   },
   {
    "duration": 9,
    "start_time": "2023-02-11T06:02:02.730Z"
   },
   {
    "duration": 12,
    "start_time": "2023-02-11T06:02:05.133Z"
   },
   {
    "duration": 5,
    "start_time": "2023-02-11T06:02:07.913Z"
   },
   {
    "duration": 8,
    "start_time": "2023-02-11T06:02:32.187Z"
   },
   {
    "duration": 5,
    "start_time": "2023-02-11T06:02:35.011Z"
   },
   {
    "duration": 6,
    "start_time": "2023-02-11T06:02:39.035Z"
   },
   {
    "duration": 17,
    "start_time": "2023-02-11T06:02:48.138Z"
   },
   {
    "duration": 8,
    "start_time": "2023-02-11T06:03:33.401Z"
   },
   {
    "duration": 6,
    "start_time": "2023-02-11T06:03:37.812Z"
   },
   {
    "duration": 9,
    "start_time": "2023-02-11T06:03:48.128Z"
   },
   {
    "duration": 9,
    "start_time": "2023-02-11T06:03:55.569Z"
   },
   {
    "duration": 59,
    "start_time": "2023-02-11T06:04:16.022Z"
   },
   {
    "duration": 5,
    "start_time": "2023-02-11T06:04:19.281Z"
   },
   {
    "duration": 5,
    "start_time": "2023-02-11T06:04:27.385Z"
   },
   {
    "duration": 5,
    "start_time": "2023-02-11T06:04:35.203Z"
   },
   {
    "duration": 49,
    "start_time": "2023-02-11T06:05:43.310Z"
   },
   {
    "duration": 5,
    "start_time": "2023-02-11T06:05:57.933Z"
   },
   {
    "duration": 4,
    "start_time": "2023-02-11T06:06:53.329Z"
   },
   {
    "duration": 9,
    "start_time": "2023-02-11T06:06:56.455Z"
   },
   {
    "duration": 5,
    "start_time": "2023-02-11T06:07:02.611Z"
   },
   {
    "duration": 4,
    "start_time": "2023-02-11T06:07:10.092Z"
   },
   {
    "duration": 55,
    "start_time": "2023-02-11T06:07:41.381Z"
   },
   {
    "duration": 11,
    "start_time": "2023-02-11T06:07:46.357Z"
   },
   {
    "duration": 52,
    "start_time": "2023-02-11T06:07:51.182Z"
   },
   {
    "duration": 8,
    "start_time": "2023-02-11T06:07:53.103Z"
   },
   {
    "duration": 58,
    "start_time": "2023-02-11T06:08:56.721Z"
   },
   {
    "duration": 50,
    "start_time": "2023-02-11T06:09:29.933Z"
   },
   {
    "duration": 5,
    "start_time": "2023-02-11T06:09:41.515Z"
   },
   {
    "duration": 5,
    "start_time": "2023-02-11T06:09:47.731Z"
   },
   {
    "duration": 49,
    "start_time": "2023-02-11T06:09:54.524Z"
   },
   {
    "duration": 49,
    "start_time": "2023-02-11T06:09:59.283Z"
   },
   {
    "duration": 5,
    "start_time": "2023-02-11T06:10:02.867Z"
   },
   {
    "duration": 5,
    "start_time": "2023-02-11T06:10:12.737Z"
   },
   {
    "duration": 5,
    "start_time": "2023-02-11T06:10:30.102Z"
   },
   {
    "duration": 5,
    "start_time": "2023-02-11T06:10:43.579Z"
   },
   {
    "duration": 158,
    "start_time": "2023-02-11T06:11:09.521Z"
   },
   {
    "duration": 178,
    "start_time": "2023-02-11T06:11:25.525Z"
   },
   {
    "duration": 6,
    "start_time": "2023-02-11T06:12:14.299Z"
   },
   {
    "duration": 5,
    "start_time": "2023-02-11T06:12:21.538Z"
   },
   {
    "duration": 21,
    "start_time": "2023-02-11T06:38:34.368Z"
   },
   {
    "duration": 15,
    "start_time": "2023-02-11T06:39:10.578Z"
   },
   {
    "duration": 163,
    "start_time": "2023-02-11T06:39:24.224Z"
   },
   {
    "duration": 195,
    "start_time": "2023-02-11T06:39:45.875Z"
   },
   {
    "duration": 185,
    "start_time": "2023-02-11T06:39:57.139Z"
   },
   {
    "duration": 153,
    "start_time": "2023-02-11T06:40:04.020Z"
   },
   {
    "duration": 4493,
    "start_time": "2023-02-11T06:40:20.803Z"
   },
   {
    "duration": 135,
    "start_time": "2023-02-11T06:40:47.425Z"
   },
   {
    "duration": 4827,
    "start_time": "2023-02-11T06:40:50.776Z"
   },
   {
    "duration": 4603,
    "start_time": "2023-02-11T06:41:16.130Z"
   },
   {
    "duration": 21,
    "start_time": "2023-02-11T06:42:32.186Z"
   },
   {
    "duration": 23,
    "start_time": "2023-02-11T06:42:50.503Z"
   },
   {
    "duration": 17,
    "start_time": "2023-02-11T06:42:54.756Z"
   },
   {
    "duration": 18,
    "start_time": "2023-02-11T06:43:07.778Z"
   },
   {
    "duration": 24,
    "start_time": "2023-02-11T06:43:15.889Z"
   },
   {
    "duration": 20,
    "start_time": "2023-02-11T06:43:27.890Z"
   },
   {
    "duration": 19,
    "start_time": "2023-02-11T06:43:51.458Z"
   },
   {
    "duration": 20,
    "start_time": "2023-02-11T06:44:04.545Z"
   },
   {
    "duration": 131,
    "start_time": "2023-02-11T06:44:16.780Z"
   },
   {
    "duration": 285,
    "start_time": "2023-02-11T06:44:24.529Z"
   },
   {
    "duration": 19,
    "start_time": "2023-02-11T06:44:36.533Z"
   },
   {
    "duration": 16,
    "start_time": "2023-02-11T06:44:41.918Z"
   },
   {
    "duration": 16,
    "start_time": "2023-02-11T06:44:43.521Z"
   },
   {
    "duration": 144,
    "start_time": "2023-02-11T06:45:07.285Z"
   },
   {
    "duration": 154,
    "start_time": "2023-02-11T06:45:12.040Z"
   },
   {
    "duration": 173,
    "start_time": "2023-02-11T06:45:20.161Z"
   },
   {
    "duration": 184,
    "start_time": "2023-02-11T06:45:48.015Z"
   },
   {
    "duration": 178,
    "start_time": "2023-02-11T06:45:51.529Z"
   },
   {
    "duration": 164,
    "start_time": "2023-02-11T06:45:54.608Z"
   },
   {
    "duration": 171,
    "start_time": "2023-02-11T06:45:56.743Z"
   },
   {
    "duration": 164,
    "start_time": "2023-02-11T06:45:59.905Z"
   },
   {
    "duration": 156,
    "start_time": "2023-02-11T06:46:07.666Z"
   },
   {
    "duration": 39,
    "start_time": "2023-02-11T07:08:14.990Z"
   },
   {
    "duration": 1160,
    "start_time": "2023-02-11T07:22:10.131Z"
   },
   {
    "duration": 16,
    "start_time": "2023-02-11T07:22:11.293Z"
   },
   {
    "duration": 13,
    "start_time": "2023-02-11T07:22:11.311Z"
   },
   {
    "duration": 2619,
    "start_time": "2023-02-11T07:22:11.327Z"
   },
   {
    "duration": 46,
    "start_time": "2023-02-11T07:22:13.948Z"
   },
   {
    "duration": 7,
    "start_time": "2023-02-11T07:22:13.996Z"
   },
   {
    "duration": 12,
    "start_time": "2023-02-11T07:22:14.005Z"
   },
   {
    "duration": 11,
    "start_time": "2023-02-11T07:22:14.019Z"
   },
   {
    "duration": 70,
    "start_time": "2023-02-11T07:22:14.032Z"
   },
   {
    "duration": 18,
    "start_time": "2023-02-11T07:22:14.106Z"
   },
   {
    "duration": 100,
    "start_time": "2023-02-11T07:22:14.126Z"
   },
   {
    "duration": 3,
    "start_time": "2023-02-11T07:22:14.227Z"
   },
   {
    "duration": 70,
    "start_time": "2023-02-11T07:22:14.232Z"
   },
   {
    "duration": 36,
    "start_time": "2023-02-11T07:22:14.304Z"
   },
   {
    "duration": 57,
    "start_time": "2023-02-11T07:22:14.342Z"
   },
   {
    "duration": 35,
    "start_time": "2023-02-11T07:22:14.401Z"
   },
   {
    "duration": 58,
    "start_time": "2023-02-11T07:22:14.437Z"
   },
   {
    "duration": 22,
    "start_time": "2023-02-11T07:22:14.497Z"
   },
   {
    "duration": 175,
    "start_time": "2023-02-11T07:22:14.521Z"
   },
   {
    "duration": 9,
    "start_time": "2023-02-11T07:22:14.697Z"
   },
   {
    "duration": 15,
    "start_time": "2023-02-11T07:22:14.707Z"
   },
   {
    "duration": 7,
    "start_time": "2023-02-11T07:22:14.723Z"
   },
   {
    "duration": 34,
    "start_time": "2023-02-11T07:22:14.731Z"
   },
   {
    "duration": 367,
    "start_time": "2023-02-11T07:22:14.766Z"
   },
   {
    "duration": 61,
    "start_time": "2023-02-11T07:22:15.135Z"
   },
   {
    "duration": 11,
    "start_time": "2023-02-11T07:22:15.198Z"
   },
   {
    "duration": 322,
    "start_time": "2023-02-11T07:22:15.211Z"
   },
   {
    "duration": 58,
    "start_time": "2023-02-11T07:22:15.538Z"
   },
   {
    "duration": 308,
    "start_time": "2023-02-11T07:22:15.598Z"
   },
   {
    "duration": 6,
    "start_time": "2023-02-11T07:22:15.908Z"
   },
   {
    "duration": 12,
    "start_time": "2023-02-11T07:22:15.916Z"
   },
   {
    "duration": 410,
    "start_time": "2023-02-11T07:22:15.930Z"
   },
   {
    "duration": 8,
    "start_time": "2023-02-11T07:22:16.392Z"
   },
   {
    "duration": 401,
    "start_time": "2023-02-11T07:22:16.402Z"
   },
   {
    "duration": 10,
    "start_time": "2023-02-11T07:22:16.805Z"
   },
   {
    "duration": 620,
    "start_time": "2023-02-11T07:22:16.816Z"
   },
   {
    "duration": 7,
    "start_time": "2023-02-11T07:22:17.493Z"
   },
   {
    "duration": 13,
    "start_time": "2023-02-11T07:22:17.502Z"
   },
   {
    "duration": 10,
    "start_time": "2023-02-11T07:22:17.516Z"
   },
   {
    "duration": 70,
    "start_time": "2023-02-11T07:22:17.527Z"
   },
   {
    "duration": 241,
    "start_time": "2023-02-11T07:22:17.599Z"
   },
   {
    "duration": 223,
    "start_time": "2023-02-11T07:22:17.892Z"
   },
   {
    "duration": 10,
    "start_time": "2023-02-11T07:22:18.117Z"
   },
   {
    "duration": 301,
    "start_time": "2023-02-11T07:22:18.129Z"
   },
   {
    "duration": 696,
    "start_time": "2023-02-11T07:22:18.432Z"
   },
   {
    "duration": 64,
    "start_time": "2023-02-11T07:22:19.130Z"
   },
   {
    "duration": 307,
    "start_time": "2023-02-11T07:22:19.196Z"
   },
   {
    "duration": 5,
    "start_time": "2023-02-11T07:22:19.505Z"
   },
   {
    "duration": 290,
    "start_time": "2023-02-11T07:22:19.512Z"
   },
   {
    "duration": 708,
    "start_time": "2023-02-11T07:22:19.804Z"
   },
   {
    "duration": 10,
    "start_time": "2023-02-11T07:22:20.514Z"
   },
   {
    "duration": 309,
    "start_time": "2023-02-11T07:22:20.525Z"
   },
   {
    "duration": 4,
    "start_time": "2023-02-11T07:22:20.893Z"
   },
   {
    "duration": 518,
    "start_time": "2023-02-11T07:22:20.899Z"
   },
   {
    "duration": 1778,
    "start_time": "2023-02-11T07:22:21.419Z"
   },
   {
    "duration": 18,
    "start_time": "2023-02-11T07:22:23.199Z"
   },
   {
    "duration": 178,
    "start_time": "2023-02-11T07:22:23.218Z"
   },
   {
    "duration": 5,
    "start_time": "2023-02-11T07:22:23.397Z"
   },
   {
    "duration": 11,
    "start_time": "2023-02-11T07:22:23.403Z"
   },
   {
    "duration": 5,
    "start_time": "2023-02-11T07:22:23.416Z"
   },
   {
    "duration": 72,
    "start_time": "2023-02-11T07:22:23.423Z"
   },
   {
    "duration": 927,
    "start_time": "2023-02-11T07:22:23.497Z"
   },
   {
    "duration": 3,
    "start_time": "2023-02-11T07:22:24.426Z"
   },
   {
    "duration": 84,
    "start_time": "2023-02-11T07:22:24.431Z"
   },
   {
    "duration": 197,
    "start_time": "2023-02-11T07:22:24.517Z"
   },
   {
    "duration": 3013,
    "start_time": "2023-02-11T07:22:24.715Z"
   },
   {
    "duration": 276,
    "start_time": "2023-02-11T07:22:27.731Z"
   },
   {
    "duration": 7,
    "start_time": "2023-02-11T07:22:28.009Z"
   },
   {
    "duration": 699,
    "start_time": "2023-02-11T07:22:28.018Z"
   },
   {
    "duration": 516,
    "start_time": "2023-02-11T07:22:28.719Z"
   },
   {
    "duration": 399,
    "start_time": "2023-02-11T07:22:29.237Z"
   },
   {
    "duration": 10,
    "start_time": "2023-02-11T07:22:29.692Z"
   },
   {
    "duration": 491,
    "start_time": "2023-02-11T07:22:29.703Z"
   },
   {
    "duration": 312,
    "start_time": "2023-02-11T07:22:30.195Z"
   },
   {
    "duration": 326,
    "start_time": "2023-02-11T07:22:30.509Z"
   },
   {
    "duration": 313,
    "start_time": "2023-02-11T07:22:30.892Z"
   },
   {
    "duration": 320,
    "start_time": "2023-02-11T07:22:31.207Z"
   },
   {
    "duration": 366,
    "start_time": "2023-02-11T07:22:31.529Z"
   },
   {
    "duration": 328,
    "start_time": "2023-02-11T07:22:31.897Z"
   },
   {
    "duration": 365,
    "start_time": "2023-02-11T07:22:32.227Z"
   },
   {
    "duration": 27,
    "start_time": "2023-02-11T07:22:32.593Z"
   },
   {
    "duration": 3,
    "start_time": "2023-02-11T07:22:32.626Z"
   },
   {
    "duration": 63,
    "start_time": "2023-02-11T07:22:32.632Z"
   },
   {
    "duration": 9,
    "start_time": "2023-02-11T07:22:32.697Z"
   },
   {
    "duration": 390,
    "start_time": "2023-02-11T07:22:32.708Z"
   },
   {
    "duration": 5,
    "start_time": "2023-02-11T07:22:33.100Z"
   },
   {
    "duration": 326,
    "start_time": "2023-02-11T07:22:33.106Z"
   },
   {
    "duration": 102,
    "start_time": "2023-02-11T07:37:20.380Z"
   },
   {
    "duration": 3,
    "start_time": "2023-02-11T07:37:23.863Z"
   },
   {
    "duration": 16,
    "start_time": "2023-02-11T08:25:16.947Z"
   },
   {
    "duration": 86,
    "start_time": "2023-02-11T08:25:20.194Z"
   },
   {
    "duration": 74,
    "start_time": "2023-02-11T08:26:21.485Z"
   },
   {
    "duration": 6,
    "start_time": "2023-02-11T08:26:24.076Z"
   },
   {
    "duration": 6,
    "start_time": "2023-02-11T08:26:32.493Z"
   },
   {
    "duration": 9,
    "start_time": "2023-02-11T08:29:33.066Z"
   },
   {
    "duration": 161,
    "start_time": "2023-02-11T08:29:41.693Z"
   },
   {
    "duration": 52,
    "start_time": "2023-02-11T11:38:51.124Z"
   },
   {
    "duration": 1287,
    "start_time": "2023-02-11T11:39:02.596Z"
   },
   {
    "duration": 16,
    "start_time": "2023-02-11T11:39:03.885Z"
   },
   {
    "duration": 7,
    "start_time": "2023-02-11T11:39:03.903Z"
   },
   {
    "duration": 2116,
    "start_time": "2023-02-11T11:39:03.912Z"
   },
   {
    "duration": 11,
    "start_time": "2023-02-11T11:39:06.029Z"
   },
   {
    "duration": 7,
    "start_time": "2023-02-11T11:39:06.042Z"
   },
   {
    "duration": 14,
    "start_time": "2023-02-11T11:39:06.050Z"
   },
   {
    "duration": 20,
    "start_time": "2023-02-11T11:39:06.066Z"
   },
   {
    "duration": 17,
    "start_time": "2023-02-11T11:39:06.088Z"
   },
   {
    "duration": 29,
    "start_time": "2023-02-11T11:39:06.108Z"
   },
   {
    "duration": 35,
    "start_time": "2023-02-11T11:39:06.139Z"
   },
   {
    "duration": 4,
    "start_time": "2023-02-11T11:39:06.176Z"
   },
   {
    "duration": 26,
    "start_time": "2023-02-11T11:39:06.181Z"
   },
   {
    "duration": 64,
    "start_time": "2023-02-11T11:39:06.209Z"
   },
   {
    "duration": 37,
    "start_time": "2023-02-11T11:39:06.275Z"
   },
   {
    "duration": 58,
    "start_time": "2023-02-11T11:39:06.314Z"
   },
   {
    "duration": 29,
    "start_time": "2023-02-11T11:39:06.375Z"
   },
   {
    "duration": 53,
    "start_time": "2023-02-11T11:39:06.406Z"
   },
   {
    "duration": 88,
    "start_time": "2023-02-11T11:39:06.461Z"
   },
   {
    "duration": 9,
    "start_time": "2023-02-11T11:39:06.551Z"
   },
   {
    "duration": 19,
    "start_time": "2023-02-11T11:39:06.561Z"
   },
   {
    "duration": 8,
    "start_time": "2023-02-11T11:39:06.582Z"
   },
   {
    "duration": 17,
    "start_time": "2023-02-11T11:39:06.592Z"
   },
   {
    "duration": 206,
    "start_time": "2023-02-11T11:39:06.638Z"
   },
   {
    "duration": 8,
    "start_time": "2023-02-11T11:39:06.846Z"
   },
   {
    "duration": 20,
    "start_time": "2023-02-11T11:39:06.855Z"
   },
   {
    "duration": 203,
    "start_time": "2023-02-11T11:39:06.877Z"
   },
   {
    "duration": 8,
    "start_time": "2023-02-11T11:39:07.084Z"
   },
   {
    "duration": 207,
    "start_time": "2023-02-11T11:39:07.094Z"
   },
   {
    "duration": 7,
    "start_time": "2023-02-11T11:39:07.303Z"
   },
   {
    "duration": 30,
    "start_time": "2023-02-11T11:39:07.312Z"
   },
   {
    "duration": 196,
    "start_time": "2023-02-11T11:39:07.344Z"
   },
   {
    "duration": 7,
    "start_time": "2023-02-11T11:39:07.542Z"
   },
   {
    "duration": 222,
    "start_time": "2023-02-11T11:39:07.551Z"
   },
   {
    "duration": 13,
    "start_time": "2023-02-11T11:39:07.775Z"
   },
   {
    "duration": 341,
    "start_time": "2023-02-11T11:39:07.790Z"
   },
   {
    "duration": 14,
    "start_time": "2023-02-11T11:39:08.133Z"
   },
   {
    "duration": 28,
    "start_time": "2023-02-11T11:39:08.148Z"
   },
   {
    "duration": 11,
    "start_time": "2023-02-11T11:39:08.178Z"
   },
   {
    "duration": 14,
    "start_time": "2023-02-11T11:39:08.191Z"
   },
   {
    "duration": 157,
    "start_time": "2023-02-11T11:39:08.208Z"
   },
   {
    "duration": 143,
    "start_time": "2023-02-11T11:39:08.368Z"
   },
   {
    "duration": 10,
    "start_time": "2023-02-11T11:39:08.513Z"
   },
   {
    "duration": 154,
    "start_time": "2023-02-11T11:39:08.525Z"
   },
   {
    "duration": 358,
    "start_time": "2023-02-11T11:39:08.682Z"
   },
   {
    "duration": 11,
    "start_time": "2023-02-11T11:39:09.041Z"
   },
   {
    "duration": 170,
    "start_time": "2023-02-11T11:39:09.053Z"
   },
   {
    "duration": 12,
    "start_time": "2023-02-11T11:39:09.225Z"
   },
   {
    "duration": 147,
    "start_time": "2023-02-11T11:39:09.239Z"
   },
   {
    "duration": 359,
    "start_time": "2023-02-11T11:39:09.388Z"
   },
   {
    "duration": 10,
    "start_time": "2023-02-11T11:39:09.749Z"
   },
   {
    "duration": 156,
    "start_time": "2023-02-11T11:39:09.761Z"
   },
   {
    "duration": 6,
    "start_time": "2023-02-11T11:39:09.919Z"
   },
   {
    "duration": 237,
    "start_time": "2023-02-11T11:39:09.937Z"
   },
   {
    "duration": 889,
    "start_time": "2023-02-11T11:39:10.175Z"
   },
   {
    "duration": 16,
    "start_time": "2023-02-11T11:39:11.065Z"
   },
   {
    "duration": 99,
    "start_time": "2023-02-11T11:39:11.082Z"
   },
   {
    "duration": 4,
    "start_time": "2023-02-11T11:39:11.183Z"
   },
   {
    "duration": 18,
    "start_time": "2023-02-11T11:39:11.189Z"
   },
   {
    "duration": 32,
    "start_time": "2023-02-11T11:39:11.209Z"
   },
   {
    "duration": 15,
    "start_time": "2023-02-11T11:39:11.243Z"
   },
   {
    "duration": 490,
    "start_time": "2023-02-11T11:39:11.260Z"
   },
   {
    "duration": 5,
    "start_time": "2023-02-11T11:39:11.751Z"
   },
   {
    "duration": 54,
    "start_time": "2023-02-11T11:39:11.758Z"
   },
   {
    "duration": 115,
    "start_time": "2023-02-11T11:39:11.814Z"
   },
   {
    "duration": 1707,
    "start_time": "2023-02-11T11:39:11.931Z"
   },
   {
    "duration": 136,
    "start_time": "2023-02-11T11:39:13.640Z"
   },
   {
    "duration": 8,
    "start_time": "2023-02-11T11:39:13.778Z"
   },
   {
    "duration": 360,
    "start_time": "2023-02-11T11:39:13.787Z"
   },
   {
    "duration": 265,
    "start_time": "2023-02-11T11:39:14.149Z"
   },
   {
    "duration": 204,
    "start_time": "2023-02-11T11:39:14.416Z"
   },
   {
    "duration": 19,
    "start_time": "2023-02-11T11:39:14.622Z"
   },
   {
    "duration": 230,
    "start_time": "2023-02-11T11:39:14.643Z"
   },
   {
    "duration": 180,
    "start_time": "2023-02-11T11:39:14.874Z"
   },
   {
    "duration": 175,
    "start_time": "2023-02-11T11:39:15.057Z"
   },
   {
    "duration": 165,
    "start_time": "2023-02-11T11:39:15.237Z"
   },
   {
    "duration": 158,
    "start_time": "2023-02-11T11:39:15.405Z"
   },
   {
    "duration": 166,
    "start_time": "2023-02-11T11:39:15.564Z"
   },
   {
    "duration": 191,
    "start_time": "2023-02-11T11:39:15.738Z"
   },
   {
    "duration": 157,
    "start_time": "2023-02-11T11:39:15.937Z"
   },
   {
    "duration": 27,
    "start_time": "2023-02-11T11:39:16.096Z"
   },
   {
    "duration": 3,
    "start_time": "2023-02-11T11:39:16.139Z"
   },
   {
    "duration": 9,
    "start_time": "2023-02-11T11:39:16.144Z"
   },
   {
    "duration": 9,
    "start_time": "2023-02-11T11:39:16.154Z"
   },
   {
    "duration": 212,
    "start_time": "2023-02-11T11:39:16.165Z"
   },
   {
    "duration": 4,
    "start_time": "2023-02-11T11:39:16.379Z"
   },
   {
    "duration": 194,
    "start_time": "2023-02-11T11:39:16.385Z"
   },
   {
    "duration": 4,
    "start_time": "2023-02-11T11:57:50.194Z"
   },
   {
    "duration": 4,
    "start_time": "2023-02-11T11:57:51.390Z"
   },
   {
    "duration": 76,
    "start_time": "2023-02-11T11:58:41.470Z"
   },
   {
    "duration": 6,
    "start_time": "2023-02-11T11:58:55.466Z"
   },
   {
    "duration": 4,
    "start_time": "2023-02-11T11:59:01.337Z"
   },
   {
    "duration": 12,
    "start_time": "2023-02-11T11:59:07.557Z"
   },
   {
    "duration": 6,
    "start_time": "2023-02-11T11:59:10.878Z"
   },
   {
    "duration": 8,
    "start_time": "2023-02-11T12:00:04.110Z"
   },
   {
    "duration": 8,
    "start_time": "2023-02-11T12:00:10.998Z"
   },
   {
    "duration": 8,
    "start_time": "2023-02-11T12:00:14.450Z"
   },
   {
    "duration": 7,
    "start_time": "2023-02-11T12:00:25.502Z"
   },
   {
    "duration": 9,
    "start_time": "2023-02-11T12:00:29.458Z"
   },
   {
    "duration": 8,
    "start_time": "2023-02-11T12:00:36.042Z"
   },
   {
    "duration": 6,
    "start_time": "2023-02-11T12:01:22.830Z"
   },
   {
    "duration": 6,
    "start_time": "2023-02-11T12:01:24.697Z"
   },
   {
    "duration": 4,
    "start_time": "2023-02-11T12:02:11.010Z"
   },
   {
    "duration": 8,
    "start_time": "2023-02-11T12:09:06.249Z"
   },
   {
    "duration": 725,
    "start_time": "2023-02-11T20:27:01.082Z"
   },
   {
    "duration": 24,
    "start_time": "2023-02-11T20:27:01.809Z"
   },
   {
    "duration": 11,
    "start_time": "2023-02-11T20:27:01.835Z"
   },
   {
    "duration": 1927,
    "start_time": "2023-02-11T20:27:01.848Z"
   },
   {
    "duration": 9,
    "start_time": "2023-02-11T20:27:03.776Z"
   },
   {
    "duration": 6,
    "start_time": "2023-02-11T20:27:03.787Z"
   },
   {
    "duration": 11,
    "start_time": "2023-02-11T20:27:03.794Z"
   },
   {
    "duration": 21,
    "start_time": "2023-02-11T20:27:03.806Z"
   },
   {
    "duration": 6,
    "start_time": "2023-02-11T20:27:03.828Z"
   },
   {
    "duration": 12,
    "start_time": "2023-02-11T20:27:03.836Z"
   },
   {
    "duration": 14,
    "start_time": "2023-02-11T20:27:03.849Z"
   },
   {
    "duration": 28,
    "start_time": "2023-02-11T20:27:03.865Z"
   },
   {
    "duration": 4,
    "start_time": "2023-02-11T20:27:03.894Z"
   },
   {
    "duration": 45,
    "start_time": "2023-02-11T20:27:03.899Z"
   },
   {
    "duration": 33,
    "start_time": "2023-02-11T20:27:03.945Z"
   },
   {
    "duration": 50,
    "start_time": "2023-02-11T20:27:03.979Z"
   },
   {
    "duration": 35,
    "start_time": "2023-02-11T20:27:04.031Z"
   },
   {
    "duration": 25,
    "start_time": "2023-02-11T20:27:04.068Z"
   },
   {
    "duration": 47,
    "start_time": "2023-02-11T20:27:04.096Z"
   },
   {
    "duration": 68,
    "start_time": "2023-02-11T20:27:04.145Z"
   },
   {
    "duration": 8,
    "start_time": "2023-02-11T20:27:04.228Z"
   },
   {
    "duration": 24,
    "start_time": "2023-02-11T20:27:04.238Z"
   },
   {
    "duration": 6,
    "start_time": "2023-02-11T20:27:04.264Z"
   },
   {
    "duration": 14,
    "start_time": "2023-02-11T20:27:04.272Z"
   },
   {
    "duration": 191,
    "start_time": "2023-02-11T20:27:04.287Z"
   },
   {
    "duration": 5,
    "start_time": "2023-02-11T20:27:04.480Z"
   },
   {
    "duration": 15,
    "start_time": "2023-02-11T20:27:04.487Z"
   },
   {
    "duration": 195,
    "start_time": "2023-02-11T20:27:04.506Z"
   },
   {
    "duration": 6,
    "start_time": "2023-02-11T20:27:04.703Z"
   },
   {
    "duration": 184,
    "start_time": "2023-02-11T20:27:04.710Z"
   },
   {
    "duration": 6,
    "start_time": "2023-02-11T20:27:04.896Z"
   },
   {
    "duration": 26,
    "start_time": "2023-02-11T20:27:04.904Z"
   },
   {
    "duration": 169,
    "start_time": "2023-02-11T20:27:04.932Z"
   },
   {
    "duration": 6,
    "start_time": "2023-02-11T20:27:05.103Z"
   },
   {
    "duration": 200,
    "start_time": "2023-02-11T20:27:05.127Z"
   },
   {
    "duration": 9,
    "start_time": "2023-02-11T20:27:05.328Z"
   },
   {
    "duration": 291,
    "start_time": "2023-02-11T20:27:05.339Z"
   },
   {
    "duration": 8,
    "start_time": "2023-02-11T20:27:05.631Z"
   },
   {
    "duration": 20,
    "start_time": "2023-02-11T20:27:05.641Z"
   },
   {
    "duration": 8,
    "start_time": "2023-02-11T20:27:05.663Z"
   },
   {
    "duration": 15,
    "start_time": "2023-02-11T20:27:05.672Z"
   },
   {
    "duration": 155,
    "start_time": "2023-02-11T20:27:05.688Z"
   },
   {
    "duration": 126,
    "start_time": "2023-02-11T20:27:05.845Z"
   },
   {
    "duration": 11,
    "start_time": "2023-02-11T20:27:05.973Z"
   },
   {
    "duration": 146,
    "start_time": "2023-02-11T20:27:05.986Z"
   },
   {
    "duration": 359,
    "start_time": "2023-02-11T20:27:06.134Z"
   },
   {
    "duration": 9,
    "start_time": "2023-02-11T20:27:06.495Z"
   },
   {
    "duration": 158,
    "start_time": "2023-02-11T20:27:06.506Z"
   },
   {
    "duration": 4,
    "start_time": "2023-02-11T20:27:06.666Z"
   },
   {
    "duration": 143,
    "start_time": "2023-02-11T20:27:06.672Z"
   },
   {
    "duration": 361,
    "start_time": "2023-02-11T20:27:06.817Z"
   },
   {
    "duration": 10,
    "start_time": "2023-02-11T20:27:07.180Z"
   },
   {
    "duration": 158,
    "start_time": "2023-02-11T20:27:07.191Z"
   },
   {
    "duration": 4,
    "start_time": "2023-02-11T20:27:07.351Z"
   },
   {
    "duration": 220,
    "start_time": "2023-02-11T20:27:07.357Z"
   },
   {
    "duration": 820,
    "start_time": "2023-02-11T20:27:07.579Z"
   },
   {
    "duration": 14,
    "start_time": "2023-02-11T20:27:08.401Z"
   },
   {
    "duration": 71,
    "start_time": "2023-02-11T20:27:08.427Z"
   },
   {
    "duration": 5,
    "start_time": "2023-02-11T20:27:08.499Z"
   },
   {
    "duration": 25,
    "start_time": "2023-02-11T20:27:08.506Z"
   },
   {
    "duration": 6,
    "start_time": "2023-02-11T20:27:08.533Z"
   },
   {
    "duration": 6,
    "start_time": "2023-02-11T20:27:08.541Z"
   },
   {
    "duration": 487,
    "start_time": "2023-02-11T20:27:08.549Z"
   },
   {
    "duration": 4,
    "start_time": "2023-02-11T20:27:09.038Z"
   },
   {
    "duration": 27,
    "start_time": "2023-02-11T20:27:09.044Z"
   },
   {
    "duration": 97,
    "start_time": "2023-02-11T20:27:09.073Z"
   },
   {
    "duration": 1520,
    "start_time": "2023-02-11T20:27:09.172Z"
   },
   {
    "duration": 123,
    "start_time": "2023-02-11T20:27:10.694Z"
   },
   {
    "duration": 12,
    "start_time": "2023-02-11T20:27:10.819Z"
   },
   {
    "duration": 326,
    "start_time": "2023-02-11T20:27:10.833Z"
   },
   {
    "duration": 262,
    "start_time": "2023-02-11T20:27:11.160Z"
   },
   {
    "duration": 199,
    "start_time": "2023-02-11T20:27:11.426Z"
   },
   {
    "duration": 8,
    "start_time": "2023-02-11T20:27:11.627Z"
   },
   {
    "duration": 230,
    "start_time": "2023-02-11T20:27:11.636Z"
   },
   {
    "duration": 168,
    "start_time": "2023-02-11T20:27:11.868Z"
   },
   {
    "duration": 171,
    "start_time": "2023-02-11T20:27:12.037Z"
   },
   {
    "duration": 177,
    "start_time": "2023-02-11T20:27:12.210Z"
   },
   {
    "duration": 164,
    "start_time": "2023-02-11T20:27:12.389Z"
   },
   {
    "duration": 162,
    "start_time": "2023-02-11T20:27:12.554Z"
   },
   {
    "duration": 195,
    "start_time": "2023-02-11T20:27:12.717Z"
   },
   {
    "duration": 170,
    "start_time": "2023-02-11T20:27:12.914Z"
   },
   {
    "duration": 24,
    "start_time": "2023-02-11T20:27:13.089Z"
   },
   {
    "duration": 3,
    "start_time": "2023-02-11T20:27:13.115Z"
   },
   {
    "duration": 4,
    "start_time": "2023-02-11T20:27:13.127Z"
   },
   {
    "duration": 6,
    "start_time": "2023-02-11T20:27:13.132Z"
   },
   {
    "duration": 189,
    "start_time": "2023-02-11T20:27:13.140Z"
   },
   {
    "duration": 4,
    "start_time": "2023-02-11T20:27:13.331Z"
   },
   {
    "duration": 193,
    "start_time": "2023-02-11T20:27:13.337Z"
   }
  ],
  "kernelspec": {
   "display_name": "Python 3 (ipykernel)",
   "language": "python",
   "name": "python3"
  },
  "language_info": {
   "codemirror_mode": {
    "name": "ipython",
    "version": 3
   },
   "file_extension": ".py",
   "mimetype": "text/x-python",
   "name": "python",
   "nbconvert_exporter": "python",
   "pygments_lexer": "ipython3",
   "version": "3.9.7"
  },
  "toc": {
   "base_numbering": 1,
   "nav_menu": {},
   "number_sections": true,
   "sideBar": true,
   "skip_h1_title": true,
   "title_cell": "Table of Contents",
   "title_sidebar": "Contents",
   "toc_cell": false,
   "toc_position": {},
   "toc_section_display": true,
   "toc_window_display": false
  }
 },
 "nbformat": 4,
 "nbformat_minor": 2
}
