{
 "cells": [
  {
   "cell_type": "code",
   "execution_count": 1,
   "metadata": {},
   "outputs": [],
   "source": [
    "import pandas as pd\n",
    "import matplotlib.pyplot as plt\n",
    "import numpy as np\n",
    "from sklearn.model_selection import train_test_split\n",
    "from sklearn.ensemble import RandomForestClassifier, GradientBoostingClassifier\n",
    "from sklearn.neighbors import KNeighborsClassifier\n",
    "from sklearn.metrics import accuracy_score\n",
    "from tqdm  import tqdm\n",
    "from sklearn.model_selection import GridSearchCV"
   ]
  },
  {
   "cell_type": "markdown",
   "metadata": {},
   "source": [
    "# Рекомендация тарифов"
   ]
  },
  {
   "cell_type": "markdown",
   "metadata": {},
   "source": [
    "В вашем распоряжении данные о поведении клиентов, которые уже перешли на эти тарифы (из проекта курса «Статистический анализ данных»). Нужно построить модель для задачи классификации, которая выберет подходящий тариф. Предобработка данных не понадобится — вы её уже сделали.\n",
    "\n",
    "Постройте модель с максимально большим значением *accuracy*. Чтобы сдать проект успешно, нужно довести долю правильных ответов по крайней мере до 0.75. Проверьте *accuracy* на тестовой выборке самостоятельно."
   ]
  },
  {
   "cell_type": "markdown",
   "metadata": {},
   "source": [
    "## Откройте и изучите файл"
   ]
  },
  {
   "cell_type": "code",
   "execution_count": 2,
   "metadata": {},
   "outputs": [
    {
     "data": {
      "text/html": [
       "<div>\n",
       "<style scoped>\n",
       "    .dataframe tbody tr th:only-of-type {\n",
       "        vertical-align: middle;\n",
       "    }\n",
       "\n",
       "    .dataframe tbody tr th {\n",
       "        vertical-align: top;\n",
       "    }\n",
       "\n",
       "    .dataframe thead th {\n",
       "        text-align: right;\n",
       "    }\n",
       "</style>\n",
       "<table border=\"1\" class=\"dataframe\">\n",
       "  <thead>\n",
       "    <tr style=\"text-align: right;\">\n",
       "      <th></th>\n",
       "      <th>calls</th>\n",
       "      <th>minutes</th>\n",
       "      <th>messages</th>\n",
       "      <th>mb_used</th>\n",
       "      <th>is_ultra</th>\n",
       "    </tr>\n",
       "  </thead>\n",
       "  <tbody>\n",
       "    <tr>\n",
       "      <th>0</th>\n",
       "      <td>40.0</td>\n",
       "      <td>311.90</td>\n",
       "      <td>83.0</td>\n",
       "      <td>19915.42</td>\n",
       "      <td>0</td>\n",
       "    </tr>\n",
       "    <tr>\n",
       "      <th>1</th>\n",
       "      <td>85.0</td>\n",
       "      <td>516.75</td>\n",
       "      <td>56.0</td>\n",
       "      <td>22696.96</td>\n",
       "      <td>0</td>\n",
       "    </tr>\n",
       "    <tr>\n",
       "      <th>2</th>\n",
       "      <td>77.0</td>\n",
       "      <td>467.66</td>\n",
       "      <td>86.0</td>\n",
       "      <td>21060.45</td>\n",
       "      <td>0</td>\n",
       "    </tr>\n",
       "    <tr>\n",
       "      <th>3</th>\n",
       "      <td>106.0</td>\n",
       "      <td>745.53</td>\n",
       "      <td>81.0</td>\n",
       "      <td>8437.39</td>\n",
       "      <td>1</td>\n",
       "    </tr>\n",
       "    <tr>\n",
       "      <th>4</th>\n",
       "      <td>66.0</td>\n",
       "      <td>418.74</td>\n",
       "      <td>1.0</td>\n",
       "      <td>14502.75</td>\n",
       "      <td>0</td>\n",
       "    </tr>\n",
       "  </tbody>\n",
       "</table>\n",
       "</div>"
      ],
      "text/plain": [
       "   calls  minutes  messages   mb_used  is_ultra\n",
       "0   40.0   311.90      83.0  19915.42         0\n",
       "1   85.0   516.75      56.0  22696.96         0\n",
       "2   77.0   467.66      86.0  21060.45         0\n",
       "3  106.0   745.53      81.0   8437.39         1\n",
       "4   66.0   418.74       1.0  14502.75         0"
      ]
     },
     "execution_count": 2,
     "metadata": {},
     "output_type": "execute_result"
    }
   ],
   "source": [
    "# Открываем файл и смотрим содержимое\n",
    "try:\n",
    "    df = pd.read_csv('/datasets/users_behavior.csv')\n",
    "except:\n",
    "    df = pd.read_csv('users_behavior.csv')\n",
    "df.head()"
   ]
  },
  {
   "cell_type": "code",
   "execution_count": 3,
   "metadata": {},
   "outputs": [],
   "source": [
    "# уменьшим размер используемой памяти, для скорости обучения\n",
    "df = df.astype({'calls':'uint32', \n",
    "                    'minutes':'float32', \n",
    "                    'messages':'uint32', \n",
    "                    'mb_used':'float32', \n",
    "                    'is_ultra':'uint8'\n",
    "                   })"
   ]
  },
  {
   "cell_type": "code",
   "execution_count": 4,
   "metadata": {},
   "outputs": [
    {
     "name": "stdout",
     "output_type": "stream",
     "text": [
      "<class 'pandas.core.frame.DataFrame'>\n",
      "RangeIndex: 3214 entries, 0 to 3213\n",
      "Data columns (total 5 columns):\n",
      " #   Column    Non-Null Count  Dtype  \n",
      "---  ------    --------------  -----  \n",
      " 0   calls     3214 non-null   uint32 \n",
      " 1   minutes   3214 non-null   float32\n",
      " 2   messages  3214 non-null   uint32 \n",
      " 3   mb_used   3214 non-null   float32\n",
      " 4   is_ultra  3214 non-null   uint8  \n",
      "dtypes: float32(2), uint32(2), uint8(1)\n",
      "memory usage: 53.5 KB\n"
     ]
    }
   ],
   "source": [
    "# смотрим на данные\n",
    "df.info()"
   ]
  },
  {
   "cell_type": "code",
   "execution_count": 5,
   "metadata": {},
   "outputs": [
    {
     "data": {
      "image/png": "[encoded data removed]",
      "text/plain": [
       "<Figure size 1152x576 with 6 Axes>"
      ]
     },
     "metadata": {
      "needs_background": "light"
     },
     "output_type": "display_data"
    }
   ],
   "source": [
    "# Построим графики\n",
    "df.hist(figsize=(16,8));"
   ]
  },
  {
   "cell_type": "markdown",
   "metadata": {},
   "source": [
    "**Данные чистые и ухоженные, можно приступать у обучению**"
   ]
  },
  {
   "cell_type": "markdown",
   "metadata": {},
   "source": [
    "## Разбейте данные на выборки"
   ]
  },
  {
   "cell_type": "code",
   "execution_count": 6,
   "metadata": {},
   "outputs": [],
   "source": [
    "# Выделим признаки и целевой аргумент\n",
    "X = df.loc[:,'calls':'mb_used']\n",
    "y = df['is_ultra']"
   ]
  },
  {
   "cell_type": "code",
   "execution_count": 7,
   "metadata": {},
   "outputs": [],
   "source": [
    "# Для разбиения на три выборки сначала выделим обучающую выборку, в размере 60%, а потом по 20% на валидационную и тестовую\n",
    "X_train, X_temp, y_train, y_temp = train_test_split(X, y, test_size=0.4, random_state=12345)\n",
    "X_val, X_test, y_val, y_test = train_test_split(X_temp, y_temp, test_size=0.5, random_state=12345)"
   ]
  },
  {
   "cell_type": "code",
   "execution_count": 8,
   "metadata": {},
   "outputs": [
    {
     "name": "stdout",
     "output_type": "stream",
     "text": [
      "Размер выборки train: X:(1928, 4), y:(1928,)\n",
      "Размер выборки validation: X:(643, 4), y:(643,)\n",
      "Размер выборки test: X:(643, 4), y:(643,)\n"
     ]
    }
   ],
   "source": [
    "print(f\"Размер выборки train: X:{X_train.shape}, y:{y_train.shape}\")\n",
    "print(f\"Размер выборки validation: X:{X_val.shape}, y:{y_val.shape}\")\n",
    "print(f\"Размер выборки test: X:{X_test.shape}, y:{y_test.shape}\")"
   ]
  },
  {
   "cell_type": "markdown",
   "metadata": {},
   "source": [
    "## Исследуйте модели"
   ]
  },
  {
   "cell_type": "markdown",
   "metadata": {},
   "source": [
    "**Для начала рассмотрим модели на обучающей выборке и выберем лучшую**"
   ]
  },
  {
   "cell_type": "code",
   "execution_count": 9,
   "metadata": {},
   "outputs": [
    {
     "name": "stderr",
     "output_type": "stream",
     "text": [
      "/opt/conda/lib/python3.9/site-packages/sklearn/neighbors/_classification.py:211: FutureWarning: Unlike other reduction functions (e.g. `skew`, `kurtosis`), the default behavior of `mode` typically preserves the axis it acts along. In SciPy 1.11.0, this behavior will change: the default value of `keepdims` will become False, the `axis` over which the statistic is taken will be eliminated, and the value None will no longer be accepted. Set `keepdims` to True or False to avoid this warning.\n",
      "  mode, _ = stats.mode(_y[neigh_ind, k], axis=1)\n"
     ]
    },
    {
     "data": {
      "text/plain": [
       "0.7651632970451011"
      ]
     },
     "execution_count": 9,
     "metadata": {},
     "output_type": "execute_result"
    }
   ],
   "source": [
    "# Ближайшие соседи\n",
    "model_kn = KNeighborsClassifier()\n",
    "model_kn.fit(X_train, y_train)\n",
    "pred = model_kn.predict(X_val)\n",
    "model_score = accuracy_score(y_val, pred)\n",
    "model_score"
   ]
  },
  {
   "cell_type": "code",
   "execution_count": 10,
   "metadata": {},
   "outputs": [
    {
     "data": {
      "text/plain": [
       "0.7853810264385692"
      ]
     },
     "execution_count": 10,
     "metadata": {},
     "output_type": "execute_result"
    }
   ],
   "source": [
    "# Случайный лес\n",
    "model_rf = RandomForestClassifier(random_state=12345)\n",
    "model_rf.fit(X_train, y_train)\n",
    "pred = model_rf.predict(X_val)\n",
    "model_score = accuracy_score(y_val, pred)\n",
    "model_score"
   ]
  },
  {
   "cell_type": "code",
   "execution_count": 11,
   "metadata": {},
   "outputs": [
    {
     "data": {
      "text/plain": [
       "0.7900466562986003"
      ]
     },
     "execution_count": 11,
     "metadata": {},
     "output_type": "execute_result"
    }
   ],
   "source": [
    "# Градиентный бустинг\n",
    "model_gb = GradientBoostingClassifier(random_state=12345)\n",
    "model_gb.fit(X_train, y_train)\n",
    "pred = model_gb.predict(X_val)\n",
    "model_score = accuracy_score(y_val, pred)\n",
    "model_score"
   ]
  },
  {
   "cell_type": "markdown",
   "metadata": {},
   "source": [
    "**Как видим, градиентный бустинг на стоковых параметрах показал наилучший результат, поработаем с ним (в дополнение рассмотрим случайный лес)**\n",
    "\n",
    "**Попробуем улучшить модели (повезло, что разрешили использовать автопоиск)**"
   ]
  },
  {
   "cell_type": "code",
   "execution_count": 12,
   "metadata": {},
   "outputs": [],
   "source": [
    "# Возьмем набор гиперпараметров, которые будем перебирать\n",
    "parametrs = {'n_estimators': range(1,51),\n",
    "              'max_depth': range(1,6),\n",
    "              'max_features': range(1,5)}"
   ]
  },
  {
   "cell_type": "code",
   "execution_count": 13,
   "metadata": {},
   "outputs": [
    {
     "data": {
      "text/plain": [
       "{'max_depth': 5, 'max_features': 1, 'n_estimators': 36}"
      ]
     },
     "execution_count": 13,
     "metadata": {},
     "output_type": "execute_result"
    }
   ],
   "source": [
    "# Поиск лучших параметров для градиентного бустинга\n",
    "model_gb = GradientBoostingClassifier(random_state=12345)\n",
    "grid_gb = GridSearchCV(model_gb, parametrs, cv=5)\n",
    "grid_gb.fit(X_train, y_train)\n",
    "grid_gb.best_params_"
   ]
  },
  {
   "cell_type": "code",
   "execution_count": 14,
   "metadata": {},
   "outputs": [
    {
     "data": {
      "text/plain": [
       "{'max_depth': 5, 'max_features': 2, 'n_estimators': 8}"
      ]
     },
     "execution_count": 14,
     "metadata": {},
     "output_type": "execute_result"
    }
   ],
   "source": [
    "# Поиск лучших параметров для случайного леса\n",
    "model_rf = RandomForestClassifier(random_state=12345)\n",
    "grid_rf = GridSearchCV(model_rf, parametrs, cv=5)\n",
    "grid_rf.fit(X_train, y_train)\n",
    "grid_rf.best_params_"
   ]
  },
  {
   "cell_type": "code",
   "execution_count": 15,
   "metadata": {},
   "outputs": [
    {
     "data": {
      "text/plain": [
       "0.7947122861586314"
      ]
     },
     "execution_count": 15,
     "metadata": {},
     "output_type": "execute_result"
    }
   ],
   "source": [
    "# Обучим модель Градиентного бустинга на обучающей выборке и посмотрим на accuracy на валидациооной \n",
    "model_gb = GradientBoostingClassifier(max_depth=5, \n",
    "                                      max_features=1, \n",
    "                                      n_estimators=36, \n",
    "                                      random_state=12345)\n",
    "model_gb.fit(X_train, y_train)\n",
    "pred_gb = model_gb.predict(X_val)\n",
    "model_score = accuracy_score(y_val, pred_gb)\n",
    "model_score"
   ]
  },
  {
   "cell_type": "code",
   "execution_count": 16,
   "metadata": {},
   "outputs": [
    {
     "data": {
      "text/plain": [
       "0.7931570762052877"
      ]
     },
     "execution_count": 16,
     "metadata": {},
     "output_type": "execute_result"
    }
   ],
   "source": [
    "# Обучим модель Случайного леса на обучающей выборке и посмотрим на accuracy на валидациооной \n",
    "model_rf = RandomForestClassifier(max_depth=5, \n",
    "                                  max_features=2, \n",
    "                                  n_estimators=8, \n",
    "                                  random_state=12345)\n",
    "model_rf.fit(X_train, y_train)\n",
    "pred_rf = model_rf.predict(X_val)\n",
    "model_score = accuracy_score(y_val, pred_rf)\n",
    "model_score"
   ]
  },
  {
   "cell_type": "markdown",
   "metadata": {},
   "source": [
    "**Случайный лес немного уступил Градиентному бустингу**"
   ]
  },
  {
   "cell_type": "markdown",
   "metadata": {},
   "source": [
    "## Проверьте модель на тестовой выборке"
   ]
  },
  {
   "cell_type": "code",
   "execution_count": 17,
   "metadata": {},
   "outputs": [
    {
     "data": {
      "text/plain": [
       "0.8040435458786936"
      ]
     },
     "execution_count": 17,
     "metadata": {},
     "output_type": "execute_result"
    }
   ],
   "source": [
    "# Посмотрим на тестовой выборке\n",
    "model = GradientBoostingClassifier(max_depth=5, \n",
    "                                   max_features=1, \n",
    "                                   n_estimators=36, \n",
    "                                   random_state=12345)\n",
    "model.fit(X_train, y_train)\n",
    "pred = model.predict(X_test)\n",
    "model_score = accuracy_score(y_test, pred)\n",
    "model_score"
   ]
  },
  {
   "cell_type": "markdown",
   "metadata": {},
   "source": [
    "**Как видим мы добились успеха получив accuracy свыше 0.75**\n",
    "\n",
    "**При этом максимальная глубина у нас 5, число деревьев 36, а размер случайных подмножеств 1**"
   ]
  },
  {
   "cell_type": "markdown",
   "metadata": {},
   "source": [
    "## (бонус) Проверьте модели на адекватность"
   ]
  },
  {
   "cell_type": "code",
   "execution_count": 18,
   "metadata": {},
   "outputs": [
    {
     "data": {
      "image/png": "[encoded data removed]",
      "text/plain": [
       "<Figure size 432x288 with 1 Axes>"
      ]
     },
     "metadata": {
      "needs_background": "light"
     },
     "output_type": "display_data"
    }
   ],
   "source": [
    "# Посмотрим на распределение классов\n",
    "df['is_ultra'].value_counts().plot(kind='bar');"
   ]
  },
  {
   "cell_type": "code",
   "execution_count": 19,
   "metadata": {},
   "outputs": [
    {
     "data": {
      "text/plain": [
       "0.693528313627878"
      ]
     },
     "execution_count": 19,
     "metadata": {},
     "output_type": "execute_result"
    }
   ],
   "source": [
    "y_pred_constant = pd.Series([0 for _ in range(len(y))])\n",
    "accuracy_score(y, y_pred_constant)"
   ]
  },
  {
   "cell_type": "markdown",
   "metadata": {},
   "source": [
    "**Из-за несбалансированности классов, при подсчете accuracy, константная модель показывает, почти требуемый минимум точности, соотвественно при рассмотрении нашей модели, говорить об адекватности не стоит**"
   ]
  },
  {
   "cell_type": "markdown",
   "metadata": {},
   "source": [
    "**Выводы\n",
    "<br>1) Предоставленные данные были чистыми, с хорошей плотностью распеределения. Единственное, что было сделано с данными, уменьшена разрядность\n",
    "<br>2) Разбиение на выборки были осуществлены в два этапа: 1. Сначала была выделена обучающая выборка в размере 60% 2. Были разбиты пополам оставшиеся 40% для валидационной и тестовой выборки\n",
    "<br>3) Для обучения моделей были рассмотрены три варинта: 1. Ближайшие соседи 2. Случайный лес 3. Градиентный бустинг. Последний показал наилучший результат в стоковом режиме и с ним началась игра с гиперпараметрами\n",
    "<br>4) Найдя наилушие гиперпараметры в частности глубина=5, количество_деревьев=36, а размер_подмножеств=1, проверив на обучающей выборке мы получили точность accuracy = 0.80. Что удовлетворяет нашей цели\n",
    "<br>5) Но расмотрев распределение классов и сравнив с точностью константной модели, можно сделать вывод, что наша полученная модель не будет адекватной**"
   ]
  }
 ],
 "metadata": {
  "ExecuteTimeLog": [
   {
    "duration": 830,
    "start_time": "2023-03-19T16:35:01.522Z"
   },
   {
    "duration": 142,
    "start_time": "2023-03-19T16:35:16.811Z"
   },
   {
    "duration": 36,
    "start_time": "2023-03-19T16:35:27.990Z"
   },
   {
    "duration": 40,
    "start_time": "2023-03-19T16:35:30.636Z"
   },
   {
    "duration": 10,
    "start_time": "2023-03-19T16:35:36.105Z"
   },
   {
    "duration": 9,
    "start_time": "2023-03-19T16:37:55.339Z"
   },
   {
    "duration": 19,
    "start_time": "2023-03-19T16:38:01.167Z"
   },
   {
    "duration": 672,
    "start_time": "2023-03-19T16:39:12.671Z"
   },
   {
    "duration": 103,
    "start_time": "2023-03-19T16:39:58.235Z"
   },
   {
    "duration": 4,
    "start_time": "2023-03-19T16:40:22.364Z"
   },
   {
    "duration": 13,
    "start_time": "2023-03-19T16:40:24.731Z"
   },
   {
    "duration": 3,
    "start_time": "2023-03-19T16:40:37.255Z"
   },
   {
    "duration": 5,
    "start_time": "2023-03-19T16:40:45.251Z"
   },
   {
    "duration": 5,
    "start_time": "2023-03-19T16:43:41.203Z"
   },
   {
    "duration": 47,
    "start_time": "2023-03-19T16:47:00.900Z"
   },
   {
    "duration": 20,
    "start_time": "2023-03-19T16:47:30.726Z"
   },
   {
    "duration": 5,
    "start_time": "2023-03-19T16:48:23.184Z"
   },
   {
    "duration": 5,
    "start_time": "2023-03-19T16:48:25.821Z"
   },
   {
    "duration": 4,
    "start_time": "2023-03-19T16:48:27.549Z"
   },
   {
    "duration": 4,
    "start_time": "2023-03-19T16:48:27.930Z"
   },
   {
    "duration": 17,
    "start_time": "2023-03-19T16:48:32.762Z"
   },
   {
    "duration": 6,
    "start_time": "2023-03-19T16:49:01.584Z"
   },
   {
    "duration": 447,
    "start_time": "2023-03-19T16:49:03.530Z"
   },
   {
    "duration": 2,
    "start_time": "2023-03-19T16:50:17.106Z"
   },
   {
    "duration": 24,
    "start_time": "2023-03-19T16:50:32.670Z"
   },
   {
    "duration": 53,
    "start_time": "2023-03-21T07:08:49.294Z"
   },
   {
    "duration": 2277,
    "start_time": "2023-03-21T07:08:53.587Z"
   },
   {
    "duration": 73,
    "start_time": "2023-03-21T07:09:08.099Z"
   },
   {
    "duration": 4,
    "start_time": "2023-03-21T07:09:29.641Z"
   },
   {
    "duration": 3,
    "start_time": "2023-03-21T07:09:35.257Z"
   },
   {
    "duration": 136,
    "start_time": "2023-03-21T07:09:39.142Z"
   },
   {
    "duration": 17,
    "start_time": "2023-03-21T07:09:40.585Z"
   },
   {
    "duration": 9,
    "start_time": "2023-03-21T07:09:42.645Z"
   },
   {
    "duration": 6,
    "start_time": "2023-03-21T07:09:46.188Z"
   },
   {
    "duration": 6,
    "start_time": "2023-03-21T07:10:19.034Z"
   },
   {
    "duration": 11,
    "start_time": "2023-03-21T07:16:10.114Z"
   },
   {
    "duration": 68,
    "start_time": "2023-03-25T06:18:40.745Z"
   },
   {
    "duration": 1930,
    "start_time": "2023-03-25T06:18:43.585Z"
   },
   {
    "duration": 146,
    "start_time": "2023-03-25T06:18:47.338Z"
   },
   {
    "duration": 16,
    "start_time": "2023-03-25T06:18:49.997Z"
   },
   {
    "duration": 130,
    "start_time": "2023-03-25T06:18:51.445Z"
   },
   {
    "duration": 7,
    "start_time": "2023-03-25T06:19:00.052Z"
   },
   {
    "duration": 6,
    "start_time": "2023-03-25T06:19:02.102Z"
   },
   {
    "duration": 18,
    "start_time": "2023-03-25T06:19:02.746Z"
   },
   {
    "duration": 9,
    "start_time": "2023-03-25T06:19:08.852Z"
   },
   {
    "duration": 11,
    "start_time": "2023-03-25T06:19:17.150Z"
   },
   {
    "duration": 16,
    "start_time": "2023-03-25T06:19:17.937Z"
   },
   {
    "duration": 38,
    "start_time": "2023-03-25T06:20:38.838Z"
   },
   {
    "duration": 6,
    "start_time": "2023-03-25T06:20:41.158Z"
   },
   {
    "duration": 9,
    "start_time": "2023-03-25T06:20:41.538Z"
   },
   {
    "duration": 11,
    "start_time": "2023-03-25T06:20:47.338Z"
   },
   {
    "duration": 13,
    "start_time": "2023-03-25T07:34:19.722Z"
   },
   {
    "duration": 31,
    "start_time": "2023-03-25T07:34:28.886Z"
   },
   {
    "duration": 9,
    "start_time": "2023-03-25T07:40:05.758Z"
   },
   {
    "duration": 4,
    "start_time": "2023-03-25T07:40:11.763Z"
   },
   {
    "duration": 7,
    "start_time": "2023-03-25T07:40:12.733Z"
   },
   {
    "duration": 10,
    "start_time": "2023-03-25T07:40:13.958Z"
   },
   {
    "duration": 14,
    "start_time": "2023-03-25T08:16:58.071Z"
   },
   {
    "duration": 37,
    "start_time": "2023-03-25T08:17:03.214Z"
   },
   {
    "duration": 425,
    "start_time": "2023-03-25T08:17:53.646Z"
   },
   {
    "duration": 459,
    "start_time": "2023-03-25T08:17:56.685Z"
   },
   {
    "duration": 270,
    "start_time": "2023-03-25T08:19:03.991Z"
   },
   {
    "duration": 279,
    "start_time": "2023-03-25T08:20:24.625Z"
   },
   {
    "duration": 39,
    "start_time": "2023-03-25T08:20:27.734Z"
   },
   {
    "duration": 460,
    "start_time": "2023-03-25T08:20:28.323Z"
   },
   {
    "duration": 265,
    "start_time": "2023-03-25T08:20:29.029Z"
   },
   {
    "duration": 22729,
    "start_time": "2023-03-25T08:23:33.766Z"
   },
   {
    "duration": 4115,
    "start_time": "2023-03-25T08:25:06.419Z"
   },
   {
    "duration": 3884,
    "start_time": "2023-03-25T08:25:38.876Z"
   },
   {
    "duration": 3937,
    "start_time": "2023-03-25T08:25:49.468Z"
   },
   {
    "duration": 12171,
    "start_time": "2023-03-25T08:27:34.584Z"
   },
   {
    "duration": 49779,
    "start_time": "2023-03-25T08:28:09.544Z"
   },
   {
    "duration": 51383,
    "start_time": "2023-03-25T08:29:11.120Z"
   },
   {
    "duration": 7,
    "start_time": "2023-03-25T08:30:07.464Z"
   },
   {
    "duration": 6,
    "start_time": "2023-03-25T08:30:22.481Z"
   },
   {
    "duration": 4188,
    "start_time": "2023-03-25T08:30:43.592Z"
   },
   {
    "duration": 13437,
    "start_time": "2023-03-25T08:30:50.811Z"
   },
   {
    "duration": 5324,
    "start_time": "2023-03-25T08:31:09.200Z"
   },
   {
    "duration": 23522,
    "start_time": "2023-03-25T08:31:18.996Z"
   },
   {
    "duration": 52695,
    "start_time": "2023-03-25T08:32:05.181Z"
   },
   {
    "duration": 4,
    "start_time": "2023-03-25T08:33:06.278Z"
   },
   {
    "duration": 4,
    "start_time": "2023-03-25T08:33:21.117Z"
   },
   {
    "duration": 24814,
    "start_time": "2023-03-25T08:34:23.280Z"
   },
   {
    "duration": 16,
    "start_time": "2023-03-25T08:34:57.551Z"
   },
   {
    "duration": 11,
    "start_time": "2023-03-25T08:35:14.903Z"
   },
   {
    "duration": 38,
    "start_time": "2023-03-25T08:35:21.196Z"
   },
   {
    "duration": 502,
    "start_time": "2023-03-25T08:35:22.477Z"
   },
   {
    "duration": 277,
    "start_time": "2023-03-25T08:35:23.852Z"
   },
   {
    "duration": 25331,
    "start_time": "2023-03-25T08:35:28.482Z"
   },
   {
    "duration": 1593,
    "start_time": "2023-03-25T08:36:15.695Z"
   },
   {
    "duration": 41,
    "start_time": "2023-03-25T08:36:17.290Z"
   },
   {
    "duration": 6,
    "start_time": "2023-03-25T08:36:17.333Z"
   },
   {
    "duration": 18,
    "start_time": "2023-03-25T08:36:17.341Z"
   },
   {
    "duration": 12,
    "start_time": "2023-03-25T08:36:17.362Z"
   },
   {
    "duration": 10,
    "start_time": "2023-03-25T08:36:17.377Z"
   },
   {
    "duration": 53,
    "start_time": "2023-03-25T08:36:17.389Z"
   },
   {
    "duration": 453,
    "start_time": "2023-03-25T08:36:17.444Z"
   },
   {
    "duration": 268,
    "start_time": "2023-03-25T08:36:17.899Z"
   },
   {
    "duration": 25979,
    "start_time": "2023-03-25T08:36:18.170Z"
   },
   {
    "duration": 68380,
    "start_time": "2023-03-25T08:36:44.151Z"
   },
   {
    "duration": 1556,
    "start_time": "2023-03-25T08:37:58.211Z"
   },
   {
    "duration": 38,
    "start_time": "2023-03-25T08:37:59.769Z"
   },
   {
    "duration": 6,
    "start_time": "2023-03-25T08:37:59.809Z"
   },
   {
    "duration": 31,
    "start_time": "2023-03-25T08:37:59.818Z"
   },
   {
    "duration": 17,
    "start_time": "2023-03-25T08:37:59.851Z"
   },
   {
    "duration": 12,
    "start_time": "2023-03-25T08:37:59.869Z"
   },
   {
    "duration": 49,
    "start_time": "2023-03-25T08:37:59.883Z"
   },
   {
    "duration": 415,
    "start_time": "2023-03-25T08:37:59.934Z"
   },
   {
    "duration": 259,
    "start_time": "2023-03-25T08:38:00.351Z"
   },
   {
    "duration": 24529,
    "start_time": "2023-03-25T08:38:00.612Z"
   },
   {
    "duration": 68035,
    "start_time": "2023-03-25T08:38:25.144Z"
   },
   {
    "duration": 5,
    "start_time": "2023-03-25T08:39:43.953Z"
   },
   {
    "duration": 1641,
    "start_time": "2023-03-25T08:40:09.764Z"
   },
   {
    "duration": 39,
    "start_time": "2023-03-25T08:40:11.408Z"
   },
   {
    "duration": 5,
    "start_time": "2023-03-25T08:40:11.449Z"
   },
   {
    "duration": 26,
    "start_time": "2023-03-25T08:40:11.455Z"
   },
   {
    "duration": 4,
    "start_time": "2023-03-25T08:40:11.484Z"
   },
   {
    "duration": 14,
    "start_time": "2023-03-25T08:40:11.490Z"
   },
   {
    "duration": 34,
    "start_time": "2023-03-25T08:40:11.506Z"
   },
   {
    "duration": 452,
    "start_time": "2023-03-25T08:40:11.542Z"
   },
   {
    "duration": 270,
    "start_time": "2023-03-25T08:40:11.995Z"
   },
   {
    "duration": 5198,
    "start_time": "2023-03-25T08:40:12.267Z"
   },
   {
    "duration": 45645,
    "start_time": "2023-03-25T08:40:17.467Z"
   },
   {
    "duration": 5,
    "start_time": "2023-03-25T08:41:15.877Z"
   },
   {
    "duration": 1555,
    "start_time": "2023-03-25T08:44:55.771Z"
   },
   {
    "duration": 41,
    "start_time": "2023-03-25T08:44:57.329Z"
   },
   {
    "duration": 6,
    "start_time": "2023-03-25T08:44:57.371Z"
   },
   {
    "duration": 18,
    "start_time": "2023-03-25T08:44:57.379Z"
   },
   {
    "duration": 11,
    "start_time": "2023-03-25T08:44:57.400Z"
   },
   {
    "duration": 11,
    "start_time": "2023-03-25T08:44:57.412Z"
   },
   {
    "duration": 42,
    "start_time": "2023-03-25T08:44:57.425Z"
   },
   {
    "duration": 454,
    "start_time": "2023-03-25T08:44:57.469Z"
   },
   {
    "duration": 272,
    "start_time": "2023-03-25T08:44:57.925Z"
   },
   {
    "duration": 5189,
    "start_time": "2023-03-25T08:44:58.199Z"
   },
   {
    "duration": 13323,
    "start_time": "2023-03-25T08:45:03.389Z"
   },
   {
    "duration": 5,
    "start_time": "2023-03-25T08:45:16.717Z"
   },
   {
    "duration": 1782,
    "start_time": "2023-03-25T08:45:26.316Z"
   },
   {
    "duration": 40,
    "start_time": "2023-03-25T08:45:28.100Z"
   },
   {
    "duration": 6,
    "start_time": "2023-03-25T08:45:28.141Z"
   },
   {
    "duration": 17,
    "start_time": "2023-03-25T08:45:28.148Z"
   },
   {
    "duration": 5,
    "start_time": "2023-03-25T08:45:28.168Z"
   },
   {
    "duration": 12,
    "start_time": "2023-03-25T08:45:28.175Z"
   },
   {
    "duration": 41,
    "start_time": "2023-03-25T08:45:28.189Z"
   },
   {
    "duration": 449,
    "start_time": "2023-03-25T08:45:28.231Z"
   },
   {
    "duration": 257,
    "start_time": "2023-03-25T08:45:28.682Z"
   },
   {
    "duration": 4837,
    "start_time": "2023-03-25T08:45:28.941Z"
   },
   {
    "duration": 21526,
    "start_time": "2023-03-25T08:45:33.780Z"
   },
   {
    "duration": 12,
    "start_time": "2023-03-25T08:45:55.307Z"
   },
   {
    "duration": 4,
    "start_time": "2023-03-25T08:45:59.975Z"
   },
   {
    "duration": 197,
    "start_time": "2023-03-25T08:48:30.449Z"
   },
   {
    "duration": 21064,
    "start_time": "2023-03-25T09:00:02.688Z"
   },
   {
    "duration": 736,
    "start_time": "2023-03-25T09:01:39.700Z"
   },
   {
    "duration": 614,
    "start_time": "2023-03-25T09:02:01.744Z"
   },
   {
    "duration": 22,
    "start_time": "2023-03-25T09:02:35.524Z"
   },
   {
    "duration": 627,
    "start_time": "2023-03-25T09:02:38.314Z"
   },
   {
    "duration": 616,
    "start_time": "2023-03-25T09:02:48.735Z"
   },
   {
    "duration": 18,
    "start_time": "2023-03-25T09:03:22.276Z"
   },
   {
    "duration": 1242,
    "start_time": "2023-03-25T09:03:30.289Z"
   },
   {
    "duration": 2515,
    "start_time": "2023-03-25T09:03:40.918Z"
   },
   {
    "duration": 20,
    "start_time": "2023-03-25T09:04:06.841Z"
   },
   {
    "duration": 598,
    "start_time": "2023-03-25T09:04:10.633Z"
   },
   {
    "duration": 589,
    "start_time": "2023-03-25T09:04:13.547Z"
   },
   {
    "duration": 1569,
    "start_time": "2023-03-25T09:05:06.000Z"
   },
   {
    "duration": 39,
    "start_time": "2023-03-25T09:05:07.571Z"
   },
   {
    "duration": 5,
    "start_time": "2023-03-25T09:05:07.611Z"
   },
   {
    "duration": 13,
    "start_time": "2023-03-25T09:05:07.618Z"
   },
   {
    "duration": 3,
    "start_time": "2023-03-25T09:05:07.634Z"
   },
   {
    "duration": 7,
    "start_time": "2023-03-25T09:05:07.639Z"
   },
   {
    "duration": 27,
    "start_time": "2023-03-25T09:05:07.647Z"
   },
   {
    "duration": 407,
    "start_time": "2023-03-25T09:05:07.676Z"
   },
   {
    "duration": 257,
    "start_time": "2023-03-25T09:05:08.085Z"
   },
   {
    "duration": 1217,
    "start_time": "2023-03-25T09:05:08.344Z"
   },
   {
    "duration": 3404,
    "start_time": "2023-03-25T09:05:09.563Z"
   },
   {
    "duration": 409,
    "start_time": "2023-03-25T09:05:12.968Z"
   },
   {
    "duration": 149,
    "start_time": "2023-03-25T09:05:13.379Z"
   },
   {
    "duration": 1683,
    "start_time": "2023-03-25T09:05:47.485Z"
   },
   {
    "duration": 40,
    "start_time": "2023-03-25T09:05:49.170Z"
   },
   {
    "duration": 38,
    "start_time": "2023-03-25T09:05:49.212Z"
   },
   {
    "duration": 52,
    "start_time": "2023-03-25T09:05:49.252Z"
   },
   {
    "duration": 23,
    "start_time": "2023-03-25T09:05:49.305Z"
   },
   {
    "duration": 39,
    "start_time": "2023-03-25T09:05:49.330Z"
   },
   {
    "duration": 57,
    "start_time": "2023-03-25T09:05:49.371Z"
   },
   {
    "duration": 419,
    "start_time": "2023-03-25T09:05:49.430Z"
   },
   {
    "duration": 262,
    "start_time": "2023-03-25T09:05:49.851Z"
   },
   {
    "duration": 1353,
    "start_time": "2023-03-25T09:05:50.117Z"
   },
   {
    "duration": 3498,
    "start_time": "2023-03-25T09:05:51.472Z"
   },
   {
    "duration": 339,
    "start_time": "2023-03-25T09:05:54.972Z"
   },
   {
    "duration": 216,
    "start_time": "2023-03-25T09:05:55.318Z"
   },
   {
    "duration": 6,
    "start_time": "2023-03-25T09:07:39.741Z"
   },
   {
    "duration": 5,
    "start_time": "2023-03-25T09:12:06.959Z"
   },
   {
    "duration": 6,
    "start_time": "2023-03-25T09:12:41.688Z"
   },
   {
    "duration": 6,
    "start_time": "2023-03-25T09:12:47.256Z"
   },
   {
    "duration": 275,
    "start_time": "2023-03-25T09:13:02.023Z"
   },
   {
    "duration": 42534,
    "start_time": "2023-03-25T09:13:09.053Z"
   },
   {
    "duration": 41472,
    "start_time": "2023-03-25T09:14:47.469Z"
   },
   {
    "duration": 6,
    "start_time": "2023-03-25T09:15:35.649Z"
   },
   {
    "duration": 14,
    "start_time": "2023-03-25T09:15:53.689Z"
   },
   {
    "duration": 96,
    "start_time": "2023-03-25T09:15:59.030Z"
   },
   {
    "duration": 107,
    "start_time": "2023-03-25T09:16:46.612Z"
   },
   {
    "duration": 92,
    "start_time": "2023-03-25T09:16:48.430Z"
   },
   {
    "duration": 4,
    "start_time": "2023-03-25T09:17:44.232Z"
   },
   {
    "duration": 6,
    "start_time": "2023-03-25T09:17:49.440Z"
   },
   {
    "duration": 5,
    "start_time": "2023-03-25T09:18:13.507Z"
   },
   {
    "duration": 13,
    "start_time": "2023-03-25T09:18:21.329Z"
   },
   {
    "duration": 5,
    "start_time": "2023-03-25T09:18:26.211Z"
   },
   {
    "duration": 6,
    "start_time": "2023-03-25T09:18:32.102Z"
   },
   {
    "duration": 10,
    "start_time": "2023-03-25T09:19:17.515Z"
   },
   {
    "duration": 5,
    "start_time": "2023-03-25T09:19:21.682Z"
   },
   {
    "duration": 5,
    "start_time": "2023-03-25T09:20:04.343Z"
   },
   {
    "duration": 4,
    "start_time": "2023-03-25T09:20:19.546Z"
   },
   {
    "duration": 7,
    "start_time": "2023-03-25T09:24:02.520Z"
   },
   {
    "duration": 10,
    "start_time": "2023-03-25T09:25:16.932Z"
   },
   {
    "duration": 5,
    "start_time": "2023-03-25T09:25:23.511Z"
   },
   {
    "duration": 6,
    "start_time": "2023-03-25T09:25:37.186Z"
   },
   {
    "duration": 7,
    "start_time": "2023-03-25T09:26:16.087Z"
   },
   {
    "duration": 7,
    "start_time": "2023-03-25T09:26:26.161Z"
   },
   {
    "duration": 89,
    "start_time": "2023-03-25T09:26:28.986Z"
   },
   {
    "duration": 7,
    "start_time": "2023-03-25T09:26:31.340Z"
   },
   {
    "duration": 1482,
    "start_time": "2023-03-25T09:29:31.692Z"
   },
   {
    "duration": 40,
    "start_time": "2023-03-25T09:29:33.177Z"
   },
   {
    "duration": 5,
    "start_time": "2023-03-25T09:29:33.218Z"
   },
   {
    "duration": 17,
    "start_time": "2023-03-25T09:29:33.225Z"
   },
   {
    "duration": 6,
    "start_time": "2023-03-25T09:29:33.245Z"
   },
   {
    "duration": 10,
    "start_time": "2023-03-25T09:29:33.252Z"
   },
   {
    "duration": 28,
    "start_time": "2023-03-25T09:29:33.264Z"
   },
   {
    "duration": 404,
    "start_time": "2023-03-25T09:29:33.294Z"
   },
   {
    "duration": 241,
    "start_time": "2023-03-25T09:29:33.700Z"
   },
   {
    "duration": 1245,
    "start_time": "2023-03-25T09:29:33.943Z"
   },
   {
    "duration": 2632,
    "start_time": "2023-03-25T09:29:35.190Z"
   },
   {
    "duration": 305,
    "start_time": "2023-03-25T09:29:37.823Z"
   },
   {
    "duration": 218,
    "start_time": "2023-03-25T09:29:38.130Z"
   },
   {
    "duration": 115,
    "start_time": "2023-03-25T09:29:38.351Z"
   },
   {
    "duration": 6,
    "start_time": "2023-03-25T09:29:38.468Z"
   },
   {
    "duration": 1503,
    "start_time": "2023-03-25T09:29:54.004Z"
   },
   {
    "duration": 41,
    "start_time": "2023-03-25T09:29:55.509Z"
   },
   {
    "duration": 6,
    "start_time": "2023-03-25T09:29:55.552Z"
   },
   {
    "duration": 43,
    "start_time": "2023-03-25T09:29:55.559Z"
   },
   {
    "duration": 58,
    "start_time": "2023-03-25T09:29:55.604Z"
   },
   {
    "duration": 35,
    "start_time": "2023-03-25T09:29:55.664Z"
   },
   {
    "duration": 55,
    "start_time": "2023-03-25T09:29:55.701Z"
   },
   {
    "duration": 452,
    "start_time": "2023-03-25T09:29:55.759Z"
   },
   {
    "duration": 287,
    "start_time": "2023-03-25T09:29:56.213Z"
   },
   {
    "duration": 1353,
    "start_time": "2023-03-25T09:29:56.502Z"
   },
   {
    "duration": 2580,
    "start_time": "2023-03-25T09:29:57.857Z"
   },
   {
    "duration": 306,
    "start_time": "2023-03-25T09:30:00.439Z"
   },
   {
    "duration": 208,
    "start_time": "2023-03-25T09:30:00.746Z"
   },
   {
    "duration": 112,
    "start_time": "2023-03-25T09:30:00.957Z"
   },
   {
    "duration": 6,
    "start_time": "2023-03-25T09:30:01.071Z"
   },
   {
    "duration": 1526,
    "start_time": "2023-03-25T09:30:11.499Z"
   },
   {
    "duration": 41,
    "start_time": "2023-03-25T09:30:13.027Z"
   },
   {
    "duration": 5,
    "start_time": "2023-03-25T09:30:13.070Z"
   },
   {
    "duration": 29,
    "start_time": "2023-03-25T09:30:13.077Z"
   },
   {
    "duration": 8,
    "start_time": "2023-03-25T09:30:13.109Z"
   },
   {
    "duration": 36,
    "start_time": "2023-03-25T09:30:13.119Z"
   },
   {
    "duration": 36,
    "start_time": "2023-03-25T09:30:13.157Z"
   },
   {
    "duration": 422,
    "start_time": "2023-03-25T09:30:13.195Z"
   },
   {
    "duration": 266,
    "start_time": "2023-03-25T09:30:13.619Z"
   },
   {
    "duration": 5068,
    "start_time": "2023-03-25T09:30:13.886Z"
   },
   {
    "duration": 9949,
    "start_time": "2023-03-25T09:30:18.956Z"
   },
   {
    "duration": 448,
    "start_time": "2023-03-25T09:30:28.907Z"
   },
   {
    "duration": 206,
    "start_time": "2023-03-25T09:30:29.357Z"
   },
   {
    "duration": 109,
    "start_time": "2023-03-25T09:30:29.565Z"
   },
   {
    "duration": 7,
    "start_time": "2023-03-25T09:30:29.675Z"
   },
   {
    "duration": 1565,
    "start_time": "2023-03-25T09:31:11.960Z"
   },
   {
    "duration": 40,
    "start_time": "2023-03-25T09:31:13.527Z"
   },
   {
    "duration": 6,
    "start_time": "2023-03-25T09:31:13.568Z"
   },
   {
    "duration": 23,
    "start_time": "2023-03-25T09:31:13.576Z"
   },
   {
    "duration": 5,
    "start_time": "2023-03-25T09:31:13.600Z"
   },
   {
    "duration": 19,
    "start_time": "2023-03-25T09:31:13.607Z"
   },
   {
    "duration": 33,
    "start_time": "2023-03-25T09:31:13.627Z"
   },
   {
    "duration": 436,
    "start_time": "2023-03-25T09:31:13.662Z"
   },
   {
    "duration": 264,
    "start_time": "2023-03-25T09:31:14.100Z"
   },
   {
    "duration": 1315,
    "start_time": "2023-03-25T09:31:14.366Z"
   },
   {
    "duration": 2632,
    "start_time": "2023-03-25T09:31:15.684Z"
   },
   {
    "duration": 310,
    "start_time": "2023-03-25T09:31:18.319Z"
   },
   {
    "duration": 216,
    "start_time": "2023-03-25T09:31:18.631Z"
   },
   {
    "duration": 118,
    "start_time": "2023-03-25T09:31:18.849Z"
   },
   {
    "duration": 8,
    "start_time": "2023-03-25T09:31:18.968Z"
   },
   {
    "duration": 1487,
    "start_time": "2023-03-25T09:32:06.321Z"
   },
   {
    "duration": 43,
    "start_time": "2023-03-25T09:32:07.810Z"
   },
   {
    "duration": 6,
    "start_time": "2023-03-25T09:32:07.855Z"
   },
   {
    "duration": 35,
    "start_time": "2023-03-25T09:32:07.862Z"
   },
   {
    "duration": 13,
    "start_time": "2023-03-25T09:32:07.900Z"
   },
   {
    "duration": 36,
    "start_time": "2023-03-25T09:32:07.915Z"
   },
   {
    "duration": 47,
    "start_time": "2023-03-25T09:32:07.953Z"
   },
   {
    "duration": 423,
    "start_time": "2023-03-25T09:32:08.001Z"
   },
   {
    "duration": 278,
    "start_time": "2023-03-25T09:32:08.426Z"
   },
   {
    "duration": 1369,
    "start_time": "2023-03-25T09:32:08.705Z"
   },
   {
    "duration": 2778,
    "start_time": "2023-03-25T09:32:10.076Z"
   },
   {
    "duration": 297,
    "start_time": "2023-03-25T09:32:12.856Z"
   },
   {
    "duration": 173,
    "start_time": "2023-03-25T09:32:13.155Z"
   },
   {
    "duration": 131,
    "start_time": "2023-03-25T09:32:13.332Z"
   },
   {
    "duration": 7,
    "start_time": "2023-03-25T09:32:13.464Z"
   },
   {
    "duration": 1469,
    "start_time": "2023-03-25T09:33:09.404Z"
   },
   {
    "duration": 41,
    "start_time": "2023-03-25T09:33:10.875Z"
   },
   {
    "duration": 5,
    "start_time": "2023-03-25T09:33:10.918Z"
   },
   {
    "duration": 16,
    "start_time": "2023-03-25T09:33:10.925Z"
   },
   {
    "duration": 5,
    "start_time": "2023-03-25T09:33:10.943Z"
   },
   {
    "duration": 9,
    "start_time": "2023-03-25T09:33:10.950Z"
   },
   {
    "duration": 31,
    "start_time": "2023-03-25T09:33:10.960Z"
   },
   {
    "duration": 452,
    "start_time": "2023-03-25T09:33:10.993Z"
   },
   {
    "duration": 274,
    "start_time": "2023-03-25T09:33:11.447Z"
   },
   {
    "duration": 1436,
    "start_time": "2023-03-25T09:33:11.723Z"
   },
   {
    "duration": 1827,
    "start_time": "2023-03-25T09:33:13.161Z"
   },
   {
    "duration": 193,
    "start_time": "2023-03-25T09:33:14.990Z"
   },
   {
    "duration": 179,
    "start_time": "2023-03-25T09:33:15.185Z"
   },
   {
    "duration": 108,
    "start_time": "2023-03-25T09:33:15.367Z"
   },
   {
    "duration": 7,
    "start_time": "2023-03-25T09:33:15.476Z"
   },
   {
    "duration": 1577,
    "start_time": "2023-03-25T09:35:26.273Z"
   },
   {
    "duration": 41,
    "start_time": "2023-03-25T09:35:27.853Z"
   },
   {
    "duration": 6,
    "start_time": "2023-03-25T09:35:27.895Z"
   },
   {
    "duration": 16,
    "start_time": "2023-03-25T09:35:27.903Z"
   },
   {
    "duration": 11,
    "start_time": "2023-03-25T09:35:27.922Z"
   },
   {
    "duration": 22,
    "start_time": "2023-03-25T09:35:27.935Z"
   },
   {
    "duration": 31,
    "start_time": "2023-03-25T09:35:27.959Z"
   },
   {
    "duration": 434,
    "start_time": "2023-03-25T09:35:27.993Z"
   },
   {
    "duration": 277,
    "start_time": "2023-03-25T09:35:28.429Z"
   },
   {
    "duration": 1346,
    "start_time": "2023-03-25T09:35:28.708Z"
   },
   {
    "duration": 2668,
    "start_time": "2023-03-25T09:35:30.056Z"
   },
   {
    "duration": 319,
    "start_time": "2023-03-25T09:35:32.726Z"
   },
   {
    "duration": 207,
    "start_time": "2023-03-25T09:35:33.047Z"
   },
   {
    "duration": 110,
    "start_time": "2023-03-25T09:35:33.257Z"
   },
   {
    "duration": 7,
    "start_time": "2023-03-25T09:35:33.369Z"
   },
   {
    "duration": 1424,
    "start_time": "2023-03-25T09:37:30.173Z"
   },
   {
    "duration": 41,
    "start_time": "2023-03-25T09:37:31.599Z"
   },
   {
    "duration": 7,
    "start_time": "2023-03-25T09:37:31.642Z"
   },
   {
    "duration": 33,
    "start_time": "2023-03-25T09:37:31.651Z"
   },
   {
    "duration": 22,
    "start_time": "2023-03-25T09:37:31.688Z"
   },
   {
    "duration": 39,
    "start_time": "2023-03-25T09:37:31.712Z"
   },
   {
    "duration": 44,
    "start_time": "2023-03-25T09:37:31.753Z"
   },
   {
    "duration": 453,
    "start_time": "2023-03-25T09:37:31.799Z"
   },
   {
    "duration": 287,
    "start_time": "2023-03-25T09:37:32.254Z"
   },
   {
    "duration": 1339,
    "start_time": "2023-03-25T09:37:32.543Z"
   },
   {
    "duration": 5559,
    "start_time": "2023-03-25T09:37:33.883Z"
   },
   {
    "duration": 350,
    "start_time": "2023-03-25T09:37:39.444Z"
   },
   {
    "duration": 182,
    "start_time": "2023-03-25T09:37:39.796Z"
   },
   {
    "duration": 115,
    "start_time": "2023-03-25T09:37:39.980Z"
   },
   {
    "duration": 21,
    "start_time": "2023-03-25T09:37:40.097Z"
   },
   {
    "duration": 5,
    "start_time": "2023-03-25T09:37:40.120Z"
   },
   {
    "duration": 1441,
    "start_time": "2023-03-25T09:38:45.008Z"
   },
   {
    "duration": 41,
    "start_time": "2023-03-25T09:38:46.451Z"
   },
   {
    "duration": 6,
    "start_time": "2023-03-25T09:38:46.494Z"
   },
   {
    "duration": 19,
    "start_time": "2023-03-25T09:38:46.502Z"
   },
   {
    "duration": 13,
    "start_time": "2023-03-25T09:38:46.524Z"
   },
   {
    "duration": 14,
    "start_time": "2023-03-25T09:38:46.540Z"
   },
   {
    "duration": 44,
    "start_time": "2023-03-25T09:38:46.555Z"
   },
   {
    "duration": 445,
    "start_time": "2023-03-25T09:38:46.601Z"
   },
   {
    "duration": 287,
    "start_time": "2023-03-25T09:38:47.048Z"
   },
   {
    "duration": 1319,
    "start_time": "2023-03-25T09:38:47.337Z"
   },
   {
    "duration": 2633,
    "start_time": "2023-03-25T09:38:48.658Z"
   },
   {
    "duration": 288,
    "start_time": "2023-03-25T09:38:51.293Z"
   },
   {
    "duration": 168,
    "start_time": "2023-03-25T09:38:51.584Z"
   },
   {
    "duration": 122,
    "start_time": "2023-03-25T09:38:51.754Z"
   },
   {
    "duration": 7,
    "start_time": "2023-03-25T09:38:51.878Z"
   },
   {
    "duration": 31,
    "start_time": "2023-03-25T09:38:51.887Z"
   },
   {
    "duration": 1519,
    "start_time": "2023-03-25T09:40:05.476Z"
   },
   {
    "duration": 41,
    "start_time": "2023-03-25T09:40:06.997Z"
   },
   {
    "duration": 6,
    "start_time": "2023-03-25T09:40:07.040Z"
   },
   {
    "duration": 17,
    "start_time": "2023-03-25T09:40:07.047Z"
   },
   {
    "duration": 4,
    "start_time": "2023-03-25T09:40:07.066Z"
   },
   {
    "duration": 11,
    "start_time": "2023-03-25T09:40:07.072Z"
   },
   {
    "duration": 48,
    "start_time": "2023-03-25T09:40:07.085Z"
   },
   {
    "duration": 432,
    "start_time": "2023-03-25T09:40:07.135Z"
   },
   {
    "duration": 266,
    "start_time": "2023-03-25T09:40:07.569Z"
   },
   {
    "duration": 1311,
    "start_time": "2023-03-25T09:40:07.837Z"
   },
   {
    "duration": 2601,
    "start_time": "2023-03-25T09:40:09.150Z"
   },
   {
    "duration": 327,
    "start_time": "2023-03-25T09:40:11.753Z"
   },
   {
    "duration": 186,
    "start_time": "2023-03-25T09:40:12.082Z"
   },
   {
    "duration": 116,
    "start_time": "2023-03-25T09:40:12.271Z"
   },
   {
    "duration": 8,
    "start_time": "2023-03-25T09:40:12.389Z"
   },
   {
    "duration": 24,
    "start_time": "2023-03-25T09:40:12.398Z"
   },
   {
    "duration": 1436,
    "start_time": "2023-03-25T09:40:39.176Z"
   },
   {
    "duration": 41,
    "start_time": "2023-03-25T09:40:40.614Z"
   },
   {
    "duration": 7,
    "start_time": "2023-03-25T09:40:40.657Z"
   },
   {
    "duration": 15,
    "start_time": "2023-03-25T09:40:40.666Z"
   },
   {
    "duration": 9,
    "start_time": "2023-03-25T09:40:40.683Z"
   },
   {
    "duration": 8,
    "start_time": "2023-03-25T09:40:40.695Z"
   },
   {
    "duration": 45,
    "start_time": "2023-03-25T09:40:40.705Z"
   },
   {
    "duration": 428,
    "start_time": "2023-03-25T09:40:40.752Z"
   },
   {
    "duration": 259,
    "start_time": "2023-03-25T09:40:41.182Z"
   },
   {
    "duration": 1404,
    "start_time": "2023-03-25T09:40:41.444Z"
   },
   {
    "duration": 5590,
    "start_time": "2023-03-25T09:40:42.849Z"
   },
   {
    "duration": 594,
    "start_time": "2023-03-25T09:40:48.441Z"
   },
   {
    "duration": 221,
    "start_time": "2023-03-25T09:40:49.036Z"
   },
   {
    "duration": 117,
    "start_time": "2023-03-25T09:40:49.258Z"
   },
   {
    "duration": 7,
    "start_time": "2023-03-25T09:40:49.376Z"
   },
   {
    "duration": 22,
    "start_time": "2023-03-25T09:40:49.384Z"
   },
   {
    "duration": 1474,
    "start_time": "2023-03-25T09:41:15.932Z"
   },
   {
    "duration": 41,
    "start_time": "2023-03-25T09:41:17.408Z"
   },
   {
    "duration": 6,
    "start_time": "2023-03-25T09:41:17.451Z"
   },
   {
    "duration": 17,
    "start_time": "2023-03-25T09:41:17.459Z"
   },
   {
    "duration": 10,
    "start_time": "2023-03-25T09:41:17.479Z"
   },
   {
    "duration": 13,
    "start_time": "2023-03-25T09:41:17.491Z"
   },
   {
    "duration": 41,
    "start_time": "2023-03-25T09:41:17.506Z"
   },
   {
    "duration": 445,
    "start_time": "2023-03-25T09:41:17.548Z"
   },
   {
    "duration": 264,
    "start_time": "2023-03-25T09:41:17.995Z"
   },
   {
    "duration": 1319,
    "start_time": "2023-03-25T09:41:18.260Z"
   },
   {
    "duration": 2632,
    "start_time": "2023-03-25T09:41:19.580Z"
   },
   {
    "duration": 320,
    "start_time": "2023-03-25T09:41:22.217Z"
   },
   {
    "duration": 206,
    "start_time": "2023-03-25T09:41:22.540Z"
   },
   {
    "duration": 122,
    "start_time": "2023-03-25T09:41:22.748Z"
   },
   {
    "duration": 7,
    "start_time": "2023-03-25T09:41:22.871Z"
   },
   {
    "duration": 10,
    "start_time": "2023-03-25T09:41:22.880Z"
   },
   {
    "duration": 11,
    "start_time": "2023-03-25T09:42:48.233Z"
   },
   {
    "duration": 258,
    "start_time": "2023-03-25T09:43:05.989Z"
   },
   {
    "duration": 521,
    "start_time": "2023-03-25T09:43:13.903Z"
   },
   {
    "duration": 811,
    "start_time": "2023-03-25T09:43:36.454Z"
   },
   {
    "duration": 514,
    "start_time": "2023-03-25T09:43:44.569Z"
   },
   {
    "duration": 648,
    "start_time": "2023-03-25T09:43:51.769Z"
   },
   {
    "duration": 62,
    "start_time": "2023-03-25T12:34:30.357Z"
   },
   {
    "duration": 1555,
    "start_time": "2023-03-25T12:35:23.601Z"
   },
   {
    "duration": 89,
    "start_time": "2023-03-25T12:35:25.158Z"
   },
   {
    "duration": 6,
    "start_time": "2023-03-25T12:35:25.941Z"
   },
   {
    "duration": 11,
    "start_time": "2023-03-25T12:35:27.350Z"
   },
   {
    "duration": 608,
    "start_time": "2023-03-25T12:35:28.234Z"
   },
   {
    "duration": 1450,
    "start_time": "2023-03-25T12:40:13.554Z"
   },
   {
    "duration": 44,
    "start_time": "2023-03-25T12:40:15.006Z"
   },
   {
    "duration": 6,
    "start_time": "2023-03-25T12:40:15.052Z"
   },
   {
    "duration": 14,
    "start_time": "2023-03-25T12:40:15.061Z"
   },
   {
    "duration": 627,
    "start_time": "2023-03-25T12:40:15.077Z"
   },
   {
    "duration": 5,
    "start_time": "2023-03-25T12:40:15.706Z"
   },
   {
    "duration": 8,
    "start_time": "2023-03-25T12:40:15.723Z"
   },
   {
    "duration": 14,
    "start_time": "2023-03-25T12:40:15.732Z"
   },
   {
    "duration": 34,
    "start_time": "2023-03-25T12:40:15.747Z"
   },
   {
    "duration": 452,
    "start_time": "2023-03-25T12:40:15.783Z"
   },
   {
    "duration": 261,
    "start_time": "2023-03-25T12:40:16.237Z"
   },
   {
    "duration": 1312,
    "start_time": "2023-03-25T12:40:16.500Z"
   },
   {
    "duration": 2648,
    "start_time": "2023-03-25T12:40:17.813Z"
   },
   {
    "duration": 349,
    "start_time": "2023-03-25T12:40:20.463Z"
   },
   {
    "duration": 204,
    "start_time": "2023-03-25T12:40:20.813Z"
   },
   {
    "duration": 106,
    "start_time": "2023-03-25T12:40:21.019Z"
   },
   {
    "duration": 7,
    "start_time": "2023-03-25T12:40:21.127Z"
   },
   {
    "duration": 5,
    "start_time": "2023-03-25T12:42:42.638Z"
   },
   {
    "duration": 5,
    "start_time": "2023-03-25T12:42:51.966Z"
   },
   {
    "duration": 4,
    "start_time": "2023-03-25T12:46:06.627Z"
   },
   {
    "duration": 4,
    "start_time": "2023-03-25T12:47:20.574Z"
   },
   {
    "duration": 3,
    "start_time": "2023-03-25T12:52:42.065Z"
   },
   {
    "duration": 3,
    "start_time": "2023-03-25T12:53:47.181Z"
   },
   {
    "duration": 3,
    "start_time": "2023-03-25T12:53:53.141Z"
   },
   {
    "duration": 3,
    "start_time": "2023-03-25T12:53:56.729Z"
   },
   {
    "duration": 111,
    "start_time": "2023-03-25T12:54:09.833Z"
   },
   {
    "duration": 242443,
    "start_time": "2023-03-25T12:55:11.721Z"
   },
   {
    "duration": 280721,
    "start_time": "2023-03-25T13:00:47.645Z"
   },
   {
    "duration": 46,
    "start_time": "2023-03-25T13:08:56.078Z"
   },
   {
    "duration": 126,
    "start_time": "2023-03-25T13:09:02.739Z"
   },
   {
    "duration": 117,
    "start_time": "2023-03-25T13:09:44.274Z"
   },
   {
    "duration": 41,
    "start_time": "2023-03-25T13:10:57.427Z"
   },
   {
    "duration": 130,
    "start_time": "2023-03-25T13:12:36.684Z"
   },
   {
    "duration": 104,
    "start_time": "2023-03-25T13:22:36.313Z"
   },
   {
    "duration": 101,
    "start_time": "2023-03-25T13:23:40.083Z"
   },
   {
    "duration": 1525,
    "start_time": "2023-03-25T13:24:04.938Z"
   },
   {
    "duration": 57,
    "start_time": "2023-03-25T13:24:06.467Z"
   },
   {
    "duration": 8,
    "start_time": "2023-03-25T13:24:06.526Z"
   },
   {
    "duration": 22,
    "start_time": "2023-03-25T13:24:06.538Z"
   },
   {
    "duration": 717,
    "start_time": "2023-03-25T13:24:06.563Z"
   },
   {
    "duration": 6,
    "start_time": "2023-03-25T13:24:07.282Z"
   },
   {
    "duration": 9,
    "start_time": "2023-03-25T13:24:07.290Z"
   },
   {
    "duration": 25,
    "start_time": "2023-03-25T13:24:07.301Z"
   },
   {
    "duration": 31,
    "start_time": "2023-03-25T13:24:07.327Z"
   },
   {
    "duration": 477,
    "start_time": "2023-03-25T13:24:07.361Z"
   },
   {
    "duration": 260,
    "start_time": "2023-03-25T13:24:07.840Z"
   },
   {
    "duration": 4,
    "start_time": "2023-03-25T13:24:08.103Z"
   },
   {
    "duration": 259823,
    "start_time": "2023-03-25T13:24:08.109Z"
   },
   {
    "duration": 120,
    "start_time": "2023-03-25T13:28:27.934Z"
   },
   {
    "duration": 0,
    "start_time": "2023-03-25T13:28:28.056Z"
   },
   {
    "duration": 0,
    "start_time": "2023-03-25T13:28:28.057Z"
   },
   {
    "duration": 0,
    "start_time": "2023-03-25T13:28:28.058Z"
   },
   {
    "duration": 0,
    "start_time": "2023-03-25T13:28:28.059Z"
   },
   {
    "duration": 0,
    "start_time": "2023-03-25T13:28:28.060Z"
   },
   {
    "duration": 1,
    "start_time": "2023-03-25T13:28:28.061Z"
   },
   {
    "duration": 0,
    "start_time": "2023-03-25T13:28:28.063Z"
   },
   {
    "duration": 6,
    "start_time": "2023-03-25T13:29:00.893Z"
   },
   {
    "duration": 5,
    "start_time": "2023-03-25T13:29:52.665Z"
   },
   {
    "duration": 5,
    "start_time": "2023-03-25T13:30:07.898Z"
   },
   {
    "duration": 6,
    "start_time": "2023-03-25T13:30:24.562Z"
   },
   {
    "duration": 43,
    "start_time": "2023-03-25T13:30:28.741Z"
   },
   {
    "duration": 5,
    "start_time": "2023-03-25T13:30:30.639Z"
   },
   {
    "duration": 4,
    "start_time": "2023-03-25T13:30:40.150Z"
   },
   {
    "duration": 5,
    "start_time": "2023-03-25T13:30:58.499Z"
   },
   {
    "duration": 5,
    "start_time": "2023-03-25T13:31:06.251Z"
   },
   {
    "duration": 5,
    "start_time": "2023-03-25T13:31:16.050Z"
   },
   {
    "duration": 207,
    "start_time": "2023-03-25T13:32:43.093Z"
   },
   {
    "duration": 9,
    "start_time": "2023-03-25T13:33:21.801Z"
   },
   {
    "duration": 148,
    "start_time": "2023-03-25T13:33:37.945Z"
   },
   {
    "duration": 2734,
    "start_time": "2023-03-25T13:34:01.352Z"
   },
   {
    "duration": 1450,
    "start_time": "2023-03-25T13:34:15.851Z"
   },
   {
    "duration": 54,
    "start_time": "2023-03-25T13:34:17.304Z"
   },
   {
    "duration": 9,
    "start_time": "2023-03-25T13:34:17.364Z"
   },
   {
    "duration": 19,
    "start_time": "2023-03-25T13:34:17.377Z"
   },
   {
    "duration": 712,
    "start_time": "2023-03-25T13:34:17.399Z"
   },
   {
    "duration": 5,
    "start_time": "2023-03-25T13:34:18.113Z"
   },
   {
    "duration": 9,
    "start_time": "2023-03-25T13:34:18.126Z"
   },
   {
    "duration": 7,
    "start_time": "2023-03-25T13:34:18.137Z"
   },
   {
    "duration": 42,
    "start_time": "2023-03-25T13:34:18.146Z"
   },
   {
    "duration": 498,
    "start_time": "2023-03-25T13:34:18.191Z"
   },
   {
    "duration": 286,
    "start_time": "2023-03-25T13:34:18.691Z"
   },
   {
    "duration": 4,
    "start_time": "2023-03-25T13:34:18.979Z"
   },
   {
    "duration": 286511,
    "start_time": "2023-03-25T13:34:18.985Z"
   },
   {
    "duration": 321888,
    "start_time": "2023-03-25T13:39:05.499Z"
   },
   {
    "duration": 104,
    "start_time": "2023-03-25T13:44:27.389Z"
   },
   {
    "duration": 51,
    "start_time": "2023-03-25T13:44:27.495Z"
   },
   {
    "duration": 97,
    "start_time": "2023-03-25T13:44:27.552Z"
   },
   {
    "duration": 108,
    "start_time": "2023-03-25T13:44:27.651Z"
   },
   {
    "duration": 8,
    "start_time": "2023-03-25T13:44:27.763Z"
   }
  ],
  "kernelspec": {
   "display_name": "Python 3 (ipykernel)",
   "language": "python",
   "name": "python3"
  },
  "language_info": {
   "codemirror_mode": {
    "name": "ipython",
    "version": 3
   },
   "file_extension": ".py",
   "mimetype": "text/x-python",
   "name": "python",
   "nbconvert_exporter": "python",
   "pygments_lexer": "ipython3",
   "version": "3.9.7"
  },
  "toc": {
   "base_numbering": 1,
   "nav_menu": {},
   "number_sections": true,
   "sideBar": true,
   "skip_h1_title": true,
   "title_cell": "Table of Contents",
   "title_sidebar": "Contents",
   "toc_cell": false,
   "toc_position": {},
   "toc_section_display": true,
   "toc_window_display": false
  }
 },
 "nbformat": 4,
 "nbformat_minor": 2
}
