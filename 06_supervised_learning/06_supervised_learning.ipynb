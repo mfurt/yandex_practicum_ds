{
 "cells": [
  {
   "cell_type": "markdown",
   "metadata": {
    "toc": true
   },
   "source": [
    "<h1>Содержание<span class=\"tocSkip\"></span></h1>\n",
    "<div class=\"toc\"><ul class=\"toc-item\"><li><span><a href=\"#Подготовка-данных\" data-toc-modified-id=\"Подготовка-данных-1\"><span class=\"toc-item-num\">1&nbsp;&nbsp;</span>Подготовка данных</a></span></li><li><span><a href=\"#Исследование-задачи\" data-toc-modified-id=\"Исследование-задачи-2\"><span class=\"toc-item-num\">2&nbsp;&nbsp;</span>Исследование задачи</a></span></li><li><span><a href=\"#Борьба-с-дисбалансом\" data-toc-modified-id=\"Борьба-с-дисбалансом-3\"><span class=\"toc-item-num\">3&nbsp;&nbsp;</span>Борьба с дисбалансом</a></span></li><li><span><a href=\"#Тестирование-модели\" data-toc-modified-id=\"Тестирование-модели-4\"><span class=\"toc-item-num\">4&nbsp;&nbsp;</span>Тестирование модели</a></span></li><li><span><a href=\"#Чек-лист-готовности-проекта\" data-toc-modified-id=\"Чек-лист-готовности-проекта-5\"><span class=\"toc-item-num\">5&nbsp;&nbsp;</span>Чек-лист готовности проекта</a></span></li></ul></div>"
   ]
  },
  {
   "cell_type": "code",
   "execution_count": 1,
   "metadata": {},
   "outputs": [],
   "source": [
    "import warnings\n",
    "warnings.simplefilter(action='ignore')\n",
    "import numpy as np\n",
    "import pandas as pd\n",
    "import matplotlib.pyplot as plt\n",
    "from sklearn.model_selection import train_test_split\n",
    "from sklearn.preprocessing import StandardScaler\n",
    "from sklearn.model_selection import GridSearchCV\n",
    "from sklearn.tree import DecisionTreeClassifier\n",
    "from sklearn.ensemble import RandomForestClassifier\n",
    "from sklearn.linear_model import LogisticRegression\n",
    "from sklearn.metrics import f1_score, roc_auc_score, confusion_matrix\n",
    "from sklearn.utils import shuffle\n",
    "from sklearn.metrics import roc_curve"
   ]
  },
  {
   "cell_type": "markdown",
   "metadata": {},
   "source": [
    "# Отток клиентов"
   ]
  },
  {
   "cell_type": "markdown",
   "metadata": {},
   "source": [
    "Из «Бета-Банка» стали уходить клиенты. Каждый месяц. Немного, но заметно. Банковские маркетологи посчитали: сохранять текущих клиентов дешевле, чем привлекать новых.\n",
    "\n",
    "Нужно спрогнозировать, уйдёт клиент из банка в ближайшее время или нет. Вам предоставлены исторические данные о поведении клиентов и расторжении договоров с банком. \n",
    "\n",
    "Постройте модель с предельно большим значением *F1*-меры. Чтобы сдать проект успешно, нужно довести метрику до 0.59. Проверьте *F1*-меру на тестовой выборке самостоятельно.\n",
    "\n",
    "Дополнительно измеряйте *AUC-ROC*, сравнивайте её значение с *F1*-мерой.\n",
    "\n",
    "Источник данных: [https://www.kaggle.com/barelydedicated/bank-customer-churn-modeling](https://www.kaggle.com/barelydedicated/bank-customer-churn-modeling)"
   ]
  },
  {
   "cell_type": "markdown",
   "metadata": {},
   "source": [
    "## Подготовка данных"
   ]
  },
  {
   "cell_type": "code",
   "execution_count": 2,
   "metadata": {},
   "outputs": [
    {
     "data": {
      "text/html": [
       "<div>\n",
       "<style scoped>\n",
       "    .dataframe tbody tr th:only-of-type {\n",
       "        vertical-align: middle;\n",
       "    }\n",
       "\n",
       "    .dataframe tbody tr th {\n",
       "        vertical-align: top;\n",
       "    }\n",
       "\n",
       "    .dataframe thead th {\n",
       "        text-align: right;\n",
       "    }\n",
       "</style>\n",
       "<table border=\"1\" class=\"dataframe\">\n",
       "  <thead>\n",
       "    <tr style=\"text-align: right;\">\n",
       "      <th></th>\n",
       "      <th>RowNumber</th>\n",
       "      <th>Surname</th>\n",
       "      <th>CreditScore</th>\n",
       "      <th>Geography</th>\n",
       "      <th>Gender</th>\n",
       "      <th>Age</th>\n",
       "      <th>Tenure</th>\n",
       "      <th>Balance</th>\n",
       "      <th>NumOfProducts</th>\n",
       "      <th>HasCrCard</th>\n",
       "      <th>IsActiveMember</th>\n",
       "      <th>EstimatedSalary</th>\n",
       "      <th>Exited</th>\n",
       "    </tr>\n",
       "    <tr>\n",
       "      <th>CustomerId</th>\n",
       "      <th></th>\n",
       "      <th></th>\n",
       "      <th></th>\n",
       "      <th></th>\n",
       "      <th></th>\n",
       "      <th></th>\n",
       "      <th></th>\n",
       "      <th></th>\n",
       "      <th></th>\n",
       "      <th></th>\n",
       "      <th></th>\n",
       "      <th></th>\n",
       "      <th></th>\n",
       "    </tr>\n",
       "  </thead>\n",
       "  <tbody>\n",
       "    <tr>\n",
       "      <th>15634602</th>\n",
       "      <td>1</td>\n",
       "      <td>Hargrave</td>\n",
       "      <td>619</td>\n",
       "      <td>France</td>\n",
       "      <td>Female</td>\n",
       "      <td>42</td>\n",
       "      <td>2.0</td>\n",
       "      <td>0.00</td>\n",
       "      <td>1</td>\n",
       "      <td>1</td>\n",
       "      <td>1</td>\n",
       "      <td>101348.88</td>\n",
       "      <td>1</td>\n",
       "    </tr>\n",
       "    <tr>\n",
       "      <th>15647311</th>\n",
       "      <td>2</td>\n",
       "      <td>Hill</td>\n",
       "      <td>608</td>\n",
       "      <td>Spain</td>\n",
       "      <td>Female</td>\n",
       "      <td>41</td>\n",
       "      <td>1.0</td>\n",
       "      <td>83807.86</td>\n",
       "      <td>1</td>\n",
       "      <td>0</td>\n",
       "      <td>1</td>\n",
       "      <td>112542.58</td>\n",
       "      <td>0</td>\n",
       "    </tr>\n",
       "    <tr>\n",
       "      <th>15619304</th>\n",
       "      <td>3</td>\n",
       "      <td>Onio</td>\n",
       "      <td>502</td>\n",
       "      <td>France</td>\n",
       "      <td>Female</td>\n",
       "      <td>42</td>\n",
       "      <td>8.0</td>\n",
       "      <td>159660.80</td>\n",
       "      <td>3</td>\n",
       "      <td>1</td>\n",
       "      <td>0</td>\n",
       "      <td>113931.57</td>\n",
       "      <td>1</td>\n",
       "    </tr>\n",
       "    <tr>\n",
       "      <th>15701354</th>\n",
       "      <td>4</td>\n",
       "      <td>Boni</td>\n",
       "      <td>699</td>\n",
       "      <td>France</td>\n",
       "      <td>Female</td>\n",
       "      <td>39</td>\n",
       "      <td>1.0</td>\n",
       "      <td>0.00</td>\n",
       "      <td>2</td>\n",
       "      <td>0</td>\n",
       "      <td>0</td>\n",
       "      <td>93826.63</td>\n",
       "      <td>0</td>\n",
       "    </tr>\n",
       "    <tr>\n",
       "      <th>15737888</th>\n",
       "      <td>5</td>\n",
       "      <td>Mitchell</td>\n",
       "      <td>850</td>\n",
       "      <td>Spain</td>\n",
       "      <td>Female</td>\n",
       "      <td>43</td>\n",
       "      <td>2.0</td>\n",
       "      <td>125510.82</td>\n",
       "      <td>1</td>\n",
       "      <td>1</td>\n",
       "      <td>1</td>\n",
       "      <td>79084.10</td>\n",
       "      <td>0</td>\n",
       "    </tr>\n",
       "  </tbody>\n",
       "</table>\n",
       "</div>"
      ],
      "text/plain": [
       "            RowNumber   Surname  CreditScore Geography  Gender  Age  Tenure  \\\n",
       "CustomerId                                                                    \n",
       "15634602            1  Hargrave          619    France  Female   42     2.0   \n",
       "15647311            2      Hill          608     Spain  Female   41     1.0   \n",
       "15619304            3      Onio          502    France  Female   42     8.0   \n",
       "15701354            4      Boni          699    France  Female   39     1.0   \n",
       "15737888            5  Mitchell          850     Spain  Female   43     2.0   \n",
       "\n",
       "              Balance  NumOfProducts  HasCrCard  IsActiveMember  \\\n",
       "CustomerId                                                        \n",
       "15634602         0.00              1          1               1   \n",
       "15647311     83807.86              1          0               1   \n",
       "15619304    159660.80              3          1               0   \n",
       "15701354         0.00              2          0               0   \n",
       "15737888    125510.82              1          1               1   \n",
       "\n",
       "            EstimatedSalary  Exited  \n",
       "CustomerId                           \n",
       "15634602          101348.88       1  \n",
       "15647311          112542.58       0  \n",
       "15619304          113931.57       1  \n",
       "15701354           93826.63       0  \n",
       "15737888           79084.10       0  "
      ]
     },
     "execution_count": 2,
     "metadata": {},
     "output_type": "execute_result"
    }
   ],
   "source": [
    "# Открываем и считываем файл, поставим id пользователей за индекс\n",
    "try:\n",
    "    df = pd.read_csv('/datasets/Churn.csv', index_col=1)\n",
    "except:\n",
    "    df = pd.read_csv('Churn.csv', index_col=1)\n",
    "df.head()"
   ]
  },
  {
   "cell_type": "code",
   "execution_count": 3,
   "metadata": {},
   "outputs": [
    {
     "data": {
      "text/html": [
       "<div>\n",
       "<style scoped>\n",
       "    .dataframe tbody tr th:only-of-type {\n",
       "        vertical-align: middle;\n",
       "    }\n",
       "\n",
       "    .dataframe tbody tr th {\n",
       "        vertical-align: top;\n",
       "    }\n",
       "\n",
       "    .dataframe thead th {\n",
       "        text-align: right;\n",
       "    }\n",
       "</style>\n",
       "<table border=\"1\" class=\"dataframe\">\n",
       "  <thead>\n",
       "    <tr style=\"text-align: right;\">\n",
       "      <th></th>\n",
       "      <th>row_number</th>\n",
       "      <th>surname</th>\n",
       "      <th>credit_score</th>\n",
       "      <th>geography</th>\n",
       "      <th>gender</th>\n",
       "      <th>age</th>\n",
       "      <th>tenure</th>\n",
       "      <th>balance</th>\n",
       "      <th>num_of_products</th>\n",
       "      <th>has_cr_card</th>\n",
       "      <th>is_active_member</th>\n",
       "      <th>estimated_salary</th>\n",
       "      <th>exited</th>\n",
       "    </tr>\n",
       "    <tr>\n",
       "      <th>customer_id</th>\n",
       "      <th></th>\n",
       "      <th></th>\n",
       "      <th></th>\n",
       "      <th></th>\n",
       "      <th></th>\n",
       "      <th></th>\n",
       "      <th></th>\n",
       "      <th></th>\n",
       "      <th></th>\n",
       "      <th></th>\n",
       "      <th></th>\n",
       "      <th></th>\n",
       "      <th></th>\n",
       "    </tr>\n",
       "  </thead>\n",
       "  <tbody>\n",
       "    <tr>\n",
       "      <th>15634602</th>\n",
       "      <td>1</td>\n",
       "      <td>Hargrave</td>\n",
       "      <td>619</td>\n",
       "      <td>France</td>\n",
       "      <td>Female</td>\n",
       "      <td>42</td>\n",
       "      <td>2.0</td>\n",
       "      <td>0.00</td>\n",
       "      <td>1</td>\n",
       "      <td>1</td>\n",
       "      <td>1</td>\n",
       "      <td>101348.88</td>\n",
       "      <td>1</td>\n",
       "    </tr>\n",
       "    <tr>\n",
       "      <th>15647311</th>\n",
       "      <td>2</td>\n",
       "      <td>Hill</td>\n",
       "      <td>608</td>\n",
       "      <td>Spain</td>\n",
       "      <td>Female</td>\n",
       "      <td>41</td>\n",
       "      <td>1.0</td>\n",
       "      <td>83807.86</td>\n",
       "      <td>1</td>\n",
       "      <td>0</td>\n",
       "      <td>1</td>\n",
       "      <td>112542.58</td>\n",
       "      <td>0</td>\n",
       "    </tr>\n",
       "    <tr>\n",
       "      <th>15619304</th>\n",
       "      <td>3</td>\n",
       "      <td>Onio</td>\n",
       "      <td>502</td>\n",
       "      <td>France</td>\n",
       "      <td>Female</td>\n",
       "      <td>42</td>\n",
       "      <td>8.0</td>\n",
       "      <td>159660.80</td>\n",
       "      <td>3</td>\n",
       "      <td>1</td>\n",
       "      <td>0</td>\n",
       "      <td>113931.57</td>\n",
       "      <td>1</td>\n",
       "    </tr>\n",
       "    <tr>\n",
       "      <th>15701354</th>\n",
       "      <td>4</td>\n",
       "      <td>Boni</td>\n",
       "      <td>699</td>\n",
       "      <td>France</td>\n",
       "      <td>Female</td>\n",
       "      <td>39</td>\n",
       "      <td>1.0</td>\n",
       "      <td>0.00</td>\n",
       "      <td>2</td>\n",
       "      <td>0</td>\n",
       "      <td>0</td>\n",
       "      <td>93826.63</td>\n",
       "      <td>0</td>\n",
       "    </tr>\n",
       "    <tr>\n",
       "      <th>15737888</th>\n",
       "      <td>5</td>\n",
       "      <td>Mitchell</td>\n",
       "      <td>850</td>\n",
       "      <td>Spain</td>\n",
       "      <td>Female</td>\n",
       "      <td>43</td>\n",
       "      <td>2.0</td>\n",
       "      <td>125510.82</td>\n",
       "      <td>1</td>\n",
       "      <td>1</td>\n",
       "      <td>1</td>\n",
       "      <td>79084.10</td>\n",
       "      <td>0</td>\n",
       "    </tr>\n",
       "  </tbody>\n",
       "</table>\n",
       "</div>"
      ],
      "text/plain": [
       "             row_number   surname  credit_score geography  gender  age  \\\n",
       "customer_id                                                              \n",
       "15634602              1  Hargrave           619    France  Female   42   \n",
       "15647311              2      Hill           608     Spain  Female   41   \n",
       "15619304              3      Onio           502    France  Female   42   \n",
       "15701354              4      Boni           699    France  Female   39   \n",
       "15737888              5  Mitchell           850     Spain  Female   43   \n",
       "\n",
       "             tenure    balance  num_of_products  has_cr_card  \\\n",
       "customer_id                                                    \n",
       "15634602        2.0       0.00                1            1   \n",
       "15647311        1.0   83807.86                1            0   \n",
       "15619304        8.0  159660.80                3            1   \n",
       "15701354        1.0       0.00                2            0   \n",
       "15737888        2.0  125510.82                1            1   \n",
       "\n",
       "             is_active_member  estimated_salary  exited  \n",
       "customer_id                                              \n",
       "15634602                    1         101348.88       1  \n",
       "15647311                    1         112542.58       0  \n",
       "15619304                    0         113931.57       1  \n",
       "15701354                    0          93826.63       0  \n",
       "15737888                    1          79084.10       0  "
      ]
     },
     "execution_count": 3,
     "metadata": {},
     "output_type": "execute_result"
    }
   ],
   "source": [
    "# переименуем колонки под стать\n",
    "df = df.rename(columns={'RowNumber' : 'row_number',\n",
    "                        'Surname' : 'surname', \n",
    "                        'CreditScore' : 'credit_score', \n",
    "                        'Geography' : 'geography', \n",
    "                        'Gender' : 'gender', \n",
    "                        'Age' : 'age',\n",
    "                        'Tenure' : 'tenure', \n",
    "                        'Balance' : 'balance',\n",
    "                        'NumOfProducts' : 'num_of_products',\n",
    "                        'HasCrCard' : 'has_cr_card',\n",
    "                        'IsActiveMember' : 'is_active_member',\n",
    "                        'EstimatedSalary' : 'estimated_salary',\n",
    "                        'Exited' : 'exited'})\n",
    "\n",
    "df.index.name = 'customer_id'\n",
    "df.head()"
   ]
  },
  {
   "cell_type": "code",
   "execution_count": 4,
   "metadata": {},
   "outputs": [
    {
     "name": "stdout",
     "output_type": "stream",
     "text": [
      "<class 'pandas.core.frame.DataFrame'>\n",
      "Int64Index: 10000 entries, 15634602 to 15628319\n",
      "Data columns (total 13 columns):\n",
      " #   Column            Non-Null Count  Dtype  \n",
      "---  ------            --------------  -----  \n",
      " 0   row_number        10000 non-null  int64  \n",
      " 1   surname           10000 non-null  object \n",
      " 2   credit_score      10000 non-null  int64  \n",
      " 3   geography         10000 non-null  object \n",
      " 4   gender            10000 non-null  object \n",
      " 5   age               10000 non-null  int64  \n",
      " 6   tenure            9091 non-null   float64\n",
      " 7   balance           10000 non-null  float64\n",
      " 8   num_of_products   10000 non-null  int64  \n",
      " 9   has_cr_card       10000 non-null  int64  \n",
      " 10  is_active_member  10000 non-null  int64  \n",
      " 11  estimated_salary  10000 non-null  float64\n",
      " 12  exited            10000 non-null  int64  \n",
      "dtypes: float64(3), int64(7), object(3)\n",
      "memory usage: 1.1+ MB\n"
     ]
    }
   ],
   "source": [
    "# рассмотрим пропуски, типы данных и объем испотльзуемой памяти\n",
    "df.info()\n",
    "d_memory = df.memory_usage().sum()"
   ]
  },
  {
   "cell_type": "code",
   "execution_count": 5,
   "metadata": {},
   "outputs": [
    {
     "data": {
      "text/html": [
       "<div>\n",
       "<style scoped>\n",
       "    .dataframe tbody tr th:only-of-type {\n",
       "        vertical-align: middle;\n",
       "    }\n",
       "\n",
       "    .dataframe tbody tr th {\n",
       "        vertical-align: top;\n",
       "    }\n",
       "\n",
       "    .dataframe thead th {\n",
       "        text-align: right;\n",
       "    }\n",
       "</style>\n",
       "<table border=\"1\" class=\"dataframe\">\n",
       "  <thead>\n",
       "    <tr style=\"text-align: right;\">\n",
       "      <th></th>\n",
       "      <th>row_number</th>\n",
       "      <th>credit_score</th>\n",
       "      <th>age</th>\n",
       "      <th>tenure</th>\n",
       "      <th>balance</th>\n",
       "      <th>num_of_products</th>\n",
       "      <th>has_cr_card</th>\n",
       "      <th>is_active_member</th>\n",
       "      <th>estimated_salary</th>\n",
       "      <th>exited</th>\n",
       "    </tr>\n",
       "  </thead>\n",
       "  <tbody>\n",
       "    <tr>\n",
       "      <th>count</th>\n",
       "      <td>10000.00000</td>\n",
       "      <td>10000.000000</td>\n",
       "      <td>10000.000000</td>\n",
       "      <td>9091.000000</td>\n",
       "      <td>10000.000000</td>\n",
       "      <td>10000.000000</td>\n",
       "      <td>10000.00000</td>\n",
       "      <td>10000.000000</td>\n",
       "      <td>10000.000000</td>\n",
       "      <td>10000.000000</td>\n",
       "    </tr>\n",
       "    <tr>\n",
       "      <th>mean</th>\n",
       "      <td>5000.50000</td>\n",
       "      <td>650.528800</td>\n",
       "      <td>38.921800</td>\n",
       "      <td>4.997690</td>\n",
       "      <td>76485.889288</td>\n",
       "      <td>1.530200</td>\n",
       "      <td>0.70550</td>\n",
       "      <td>0.515100</td>\n",
       "      <td>100090.239881</td>\n",
       "      <td>0.203700</td>\n",
       "    </tr>\n",
       "    <tr>\n",
       "      <th>std</th>\n",
       "      <td>2886.89568</td>\n",
       "      <td>96.653299</td>\n",
       "      <td>10.487806</td>\n",
       "      <td>2.894723</td>\n",
       "      <td>62397.405202</td>\n",
       "      <td>0.581654</td>\n",
       "      <td>0.45584</td>\n",
       "      <td>0.499797</td>\n",
       "      <td>57510.492818</td>\n",
       "      <td>0.402769</td>\n",
       "    </tr>\n",
       "    <tr>\n",
       "      <th>min</th>\n",
       "      <td>1.00000</td>\n",
       "      <td>350.000000</td>\n",
       "      <td>18.000000</td>\n",
       "      <td>0.000000</td>\n",
       "      <td>0.000000</td>\n",
       "      <td>1.000000</td>\n",
       "      <td>0.00000</td>\n",
       "      <td>0.000000</td>\n",
       "      <td>11.580000</td>\n",
       "      <td>0.000000</td>\n",
       "    </tr>\n",
       "    <tr>\n",
       "      <th>25%</th>\n",
       "      <td>2500.75000</td>\n",
       "      <td>584.000000</td>\n",
       "      <td>32.000000</td>\n",
       "      <td>2.000000</td>\n",
       "      <td>0.000000</td>\n",
       "      <td>1.000000</td>\n",
       "      <td>0.00000</td>\n",
       "      <td>0.000000</td>\n",
       "      <td>51002.110000</td>\n",
       "      <td>0.000000</td>\n",
       "    </tr>\n",
       "    <tr>\n",
       "      <th>50%</th>\n",
       "      <td>5000.50000</td>\n",
       "      <td>652.000000</td>\n",
       "      <td>37.000000</td>\n",
       "      <td>5.000000</td>\n",
       "      <td>97198.540000</td>\n",
       "      <td>1.000000</td>\n",
       "      <td>1.00000</td>\n",
       "      <td>1.000000</td>\n",
       "      <td>100193.915000</td>\n",
       "      <td>0.000000</td>\n",
       "    </tr>\n",
       "    <tr>\n",
       "      <th>75%</th>\n",
       "      <td>7500.25000</td>\n",
       "      <td>718.000000</td>\n",
       "      <td>44.000000</td>\n",
       "      <td>7.000000</td>\n",
       "      <td>127644.240000</td>\n",
       "      <td>2.000000</td>\n",
       "      <td>1.00000</td>\n",
       "      <td>1.000000</td>\n",
       "      <td>149388.247500</td>\n",
       "      <td>0.000000</td>\n",
       "    </tr>\n",
       "    <tr>\n",
       "      <th>max</th>\n",
       "      <td>10000.00000</td>\n",
       "      <td>850.000000</td>\n",
       "      <td>92.000000</td>\n",
       "      <td>10.000000</td>\n",
       "      <td>250898.090000</td>\n",
       "      <td>4.000000</td>\n",
       "      <td>1.00000</td>\n",
       "      <td>1.000000</td>\n",
       "      <td>199992.480000</td>\n",
       "      <td>1.000000</td>\n",
       "    </tr>\n",
       "  </tbody>\n",
       "</table>\n",
       "</div>"
      ],
      "text/plain": [
       "        row_number  credit_score           age       tenure        balance  \\\n",
       "count  10000.00000  10000.000000  10000.000000  9091.000000   10000.000000   \n",
       "mean    5000.50000    650.528800     38.921800     4.997690   76485.889288   \n",
       "std     2886.89568     96.653299     10.487806     2.894723   62397.405202   \n",
       "min        1.00000    350.000000     18.000000     0.000000       0.000000   \n",
       "25%     2500.75000    584.000000     32.000000     2.000000       0.000000   \n",
       "50%     5000.50000    652.000000     37.000000     5.000000   97198.540000   \n",
       "75%     7500.25000    718.000000     44.000000     7.000000  127644.240000   \n",
       "max    10000.00000    850.000000     92.000000    10.000000  250898.090000   \n",
       "\n",
       "       num_of_products  has_cr_card  is_active_member  estimated_salary  \\\n",
       "count     10000.000000  10000.00000      10000.000000      10000.000000   \n",
       "mean          1.530200      0.70550          0.515100     100090.239881   \n",
       "std           0.581654      0.45584          0.499797      57510.492818   \n",
       "min           1.000000      0.00000          0.000000         11.580000   \n",
       "25%           1.000000      0.00000          0.000000      51002.110000   \n",
       "50%           1.000000      1.00000          1.000000     100193.915000   \n",
       "75%           2.000000      1.00000          1.000000     149388.247500   \n",
       "max           4.000000      1.00000          1.000000     199992.480000   \n",
       "\n",
       "             exited  \n",
       "count  10000.000000  \n",
       "mean       0.203700  \n",
       "std        0.402769  \n",
       "min        0.000000  \n",
       "25%        0.000000  \n",
       "50%        0.000000  \n",
       "75%        0.000000  \n",
       "max        1.000000  "
      ]
     },
     "execution_count": 5,
     "metadata": {},
     "output_type": "execute_result"
    }
   ],
   "source": [
    "# посмотрим на плотность распределения данных\n",
    "df.describe()"
   ]
  },
  {
   "cell_type": "code",
   "execution_count": 6,
   "metadata": {},
   "outputs": [
    {
     "data": {
      "text/html": [
       "<div>\n",
       "<style scoped>\n",
       "    .dataframe tbody tr th:only-of-type {\n",
       "        vertical-align: middle;\n",
       "    }\n",
       "\n",
       "    .dataframe tbody tr th {\n",
       "        vertical-align: top;\n",
       "    }\n",
       "\n",
       "    .dataframe thead th {\n",
       "        text-align: right;\n",
       "    }\n",
       "</style>\n",
       "<table border=\"1\" class=\"dataframe\">\n",
       "  <thead>\n",
       "    <tr style=\"text-align: right;\">\n",
       "      <th></th>\n",
       "      <th>row_number</th>\n",
       "      <th>surname</th>\n",
       "      <th>credit_score</th>\n",
       "      <th>geography</th>\n",
       "      <th>gender</th>\n",
       "      <th>age</th>\n",
       "      <th>tenure</th>\n",
       "      <th>balance</th>\n",
       "      <th>num_of_products</th>\n",
       "      <th>has_cr_card</th>\n",
       "      <th>is_active_member</th>\n",
       "      <th>estimated_salary</th>\n",
       "      <th>exited</th>\n",
       "    </tr>\n",
       "    <tr>\n",
       "      <th>customer_id</th>\n",
       "      <th></th>\n",
       "      <th></th>\n",
       "      <th></th>\n",
       "      <th></th>\n",
       "      <th></th>\n",
       "      <th></th>\n",
       "      <th></th>\n",
       "      <th></th>\n",
       "      <th></th>\n",
       "      <th></th>\n",
       "      <th></th>\n",
       "      <th></th>\n",
       "      <th></th>\n",
       "    </tr>\n",
       "  </thead>\n",
       "  <tbody>\n",
       "    <tr>\n",
       "      <th>15589475</th>\n",
       "      <td>False</td>\n",
       "      <td>False</td>\n",
       "      <td>False</td>\n",
       "      <td>False</td>\n",
       "      <td>False</td>\n",
       "      <td>False</td>\n",
       "      <td>True</td>\n",
       "      <td>False</td>\n",
       "      <td>False</td>\n",
       "      <td>False</td>\n",
       "      <td>False</td>\n",
       "      <td>False</td>\n",
       "      <td>False</td>\n",
       "    </tr>\n",
       "    <tr>\n",
       "      <th>15766205</th>\n",
       "      <td>False</td>\n",
       "      <td>False</td>\n",
       "      <td>False</td>\n",
       "      <td>False</td>\n",
       "      <td>False</td>\n",
       "      <td>False</td>\n",
       "      <td>True</td>\n",
       "      <td>False</td>\n",
       "      <td>False</td>\n",
       "      <td>False</td>\n",
       "      <td>False</td>\n",
       "      <td>False</td>\n",
       "      <td>False</td>\n",
       "    </tr>\n",
       "    <tr>\n",
       "      <th>15768193</th>\n",
       "      <td>False</td>\n",
       "      <td>False</td>\n",
       "      <td>False</td>\n",
       "      <td>False</td>\n",
       "      <td>False</td>\n",
       "      <td>False</td>\n",
       "      <td>True</td>\n",
       "      <td>False</td>\n",
       "      <td>False</td>\n",
       "      <td>False</td>\n",
       "      <td>False</td>\n",
       "      <td>False</td>\n",
       "      <td>False</td>\n",
       "    </tr>\n",
       "    <tr>\n",
       "      <th>15702298</th>\n",
       "      <td>False</td>\n",
       "      <td>False</td>\n",
       "      <td>False</td>\n",
       "      <td>False</td>\n",
       "      <td>False</td>\n",
       "      <td>False</td>\n",
       "      <td>True</td>\n",
       "      <td>False</td>\n",
       "      <td>False</td>\n",
       "      <td>False</td>\n",
       "      <td>False</td>\n",
       "      <td>False</td>\n",
       "      <td>False</td>\n",
       "    </tr>\n",
       "    <tr>\n",
       "      <th>15651280</th>\n",
       "      <td>False</td>\n",
       "      <td>False</td>\n",
       "      <td>False</td>\n",
       "      <td>False</td>\n",
       "      <td>False</td>\n",
       "      <td>False</td>\n",
       "      <td>True</td>\n",
       "      <td>False</td>\n",
       "      <td>False</td>\n",
       "      <td>False</td>\n",
       "      <td>False</td>\n",
       "      <td>False</td>\n",
       "      <td>False</td>\n",
       "    </tr>\n",
       "    <tr>\n",
       "      <th>...</th>\n",
       "      <td>...</td>\n",
       "      <td>...</td>\n",
       "      <td>...</td>\n",
       "      <td>...</td>\n",
       "      <td>...</td>\n",
       "      <td>...</td>\n",
       "      <td>...</td>\n",
       "      <td>...</td>\n",
       "      <td>...</td>\n",
       "      <td>...</td>\n",
       "      <td>...</td>\n",
       "      <td>...</td>\n",
       "      <td>...</td>\n",
       "    </tr>\n",
       "    <tr>\n",
       "      <th>15703923</th>\n",
       "      <td>False</td>\n",
       "      <td>False</td>\n",
       "      <td>False</td>\n",
       "      <td>False</td>\n",
       "      <td>False</td>\n",
       "      <td>False</td>\n",
       "      <td>True</td>\n",
       "      <td>False</td>\n",
       "      <td>False</td>\n",
       "      <td>False</td>\n",
       "      <td>False</td>\n",
       "      <td>False</td>\n",
       "      <td>False</td>\n",
       "    </tr>\n",
       "    <tr>\n",
       "      <th>15707861</th>\n",
       "      <td>False</td>\n",
       "      <td>False</td>\n",
       "      <td>False</td>\n",
       "      <td>False</td>\n",
       "      <td>False</td>\n",
       "      <td>False</td>\n",
       "      <td>True</td>\n",
       "      <td>False</td>\n",
       "      <td>False</td>\n",
       "      <td>False</td>\n",
       "      <td>False</td>\n",
       "      <td>False</td>\n",
       "      <td>False</td>\n",
       "    </tr>\n",
       "    <tr>\n",
       "      <th>15642785</th>\n",
       "      <td>False</td>\n",
       "      <td>False</td>\n",
       "      <td>False</td>\n",
       "      <td>False</td>\n",
       "      <td>False</td>\n",
       "      <td>False</td>\n",
       "      <td>True</td>\n",
       "      <td>False</td>\n",
       "      <td>False</td>\n",
       "      <td>False</td>\n",
       "      <td>False</td>\n",
       "      <td>False</td>\n",
       "      <td>False</td>\n",
       "    </tr>\n",
       "    <tr>\n",
       "      <th>15586914</th>\n",
       "      <td>False</td>\n",
       "      <td>False</td>\n",
       "      <td>False</td>\n",
       "      <td>False</td>\n",
       "      <td>False</td>\n",
       "      <td>False</td>\n",
       "      <td>True</td>\n",
       "      <td>False</td>\n",
       "      <td>False</td>\n",
       "      <td>False</td>\n",
       "      <td>False</td>\n",
       "      <td>False</td>\n",
       "      <td>False</td>\n",
       "    </tr>\n",
       "    <tr>\n",
       "      <th>15628319</th>\n",
       "      <td>False</td>\n",
       "      <td>False</td>\n",
       "      <td>False</td>\n",
       "      <td>False</td>\n",
       "      <td>False</td>\n",
       "      <td>False</td>\n",
       "      <td>True</td>\n",
       "      <td>False</td>\n",
       "      <td>False</td>\n",
       "      <td>False</td>\n",
       "      <td>False</td>\n",
       "      <td>False</td>\n",
       "      <td>False</td>\n",
       "    </tr>\n",
       "  </tbody>\n",
       "</table>\n",
       "<p>909 rows × 13 columns</p>\n",
       "</div>"
      ],
      "text/plain": [
       "             row_number  surname  credit_score  geography  gender    age  \\\n",
       "customer_id                                                                \n",
       "15589475          False    False         False      False   False  False   \n",
       "15766205          False    False         False      False   False  False   \n",
       "15768193          False    False         False      False   False  False   \n",
       "15702298          False    False         False      False   False  False   \n",
       "15651280          False    False         False      False   False  False   \n",
       "...                 ...      ...           ...        ...     ...    ...   \n",
       "15703923          False    False         False      False   False  False   \n",
       "15707861          False    False         False      False   False  False   \n",
       "15642785          False    False         False      False   False  False   \n",
       "15586914          False    False         False      False   False  False   \n",
       "15628319          False    False         False      False   False  False   \n",
       "\n",
       "             tenure  balance  num_of_products  has_cr_card  is_active_member  \\\n",
       "customer_id                                                                    \n",
       "15589475       True    False            False        False             False   \n",
       "15766205       True    False            False        False             False   \n",
       "15768193       True    False            False        False             False   \n",
       "15702298       True    False            False        False             False   \n",
       "15651280       True    False            False        False             False   \n",
       "...             ...      ...              ...          ...               ...   \n",
       "15703923       True    False            False        False             False   \n",
       "15707861       True    False            False        False             False   \n",
       "15642785       True    False            False        False             False   \n",
       "15586914       True    False            False        False             False   \n",
       "15628319       True    False            False        False             False   \n",
       "\n",
       "             estimated_salary  exited  \n",
       "customer_id                            \n",
       "15589475                False   False  \n",
       "15766205                False   False  \n",
       "15768193                False   False  \n",
       "15702298                False   False  \n",
       "15651280                False   False  \n",
       "...                       ...     ...  \n",
       "15703923                False   False  \n",
       "15707861                False   False  \n",
       "15642785                False   False  \n",
       "15586914                False   False  \n",
       "15628319                False   False  \n",
       "\n",
       "[909 rows x 13 columns]"
      ]
     },
     "execution_count": 6,
     "metadata": {},
     "output_type": "execute_result"
    }
   ],
   "source": [
    "# С высоты птичьего полета, NaN проглядывается у новых клиентов, покуда имеют продукты или активность итд\n",
    "df[df['tenure'].isna()].isna()"
   ]
  },
  {
   "cell_type": "code",
   "execution_count": 7,
   "metadata": {},
   "outputs": [],
   "source": [
    "# заменим на 0\n",
    "df['tenure'] = df['tenure'].fillna(0)"
   ]
  },
  {
   "cell_type": "code",
   "execution_count": 8,
   "metadata": {},
   "outputs": [
    {
     "name": "stdout",
     "output_type": "stream",
     "text": [
      "<class 'pandas.core.frame.DataFrame'>\n",
      "Int64Index: 10000 entries, 15634602 to 15628319\n",
      "Data columns (total 13 columns):\n",
      " #   Column            Non-Null Count  Dtype \n",
      "---  ------            --------------  ----- \n",
      " 0   row_number        10000 non-null  uint32\n",
      " 1   surname           10000 non-null  object\n",
      " 2   credit_score      10000 non-null  uint32\n",
      " 3   geography         10000 non-null  object\n",
      " 4   gender            10000 non-null  uint8 \n",
      " 5   age               10000 non-null  uint8 \n",
      " 6   tenure            10000 non-null  uint8 \n",
      " 7   balance           10000 non-null  uint32\n",
      " 8   num_of_products   10000 non-null  uint8 \n",
      " 9   has_cr_card       10000 non-null  uint8 \n",
      " 10  is_active_member  10000 non-null  uint8 \n",
      " 11  estimated_salary  10000 non-null  uint32\n",
      " 12  exited            10000 non-null  uint8 \n",
      "dtypes: object(2), uint32(4), uint8(7)\n",
      "memory usage: 459.0+ KB\n"
     ]
    }
   ],
   "source": [
    "# уменьшим объем используемой памяти для обучения\n",
    "df = df.astype({'row_number':'uint32', \n",
    "                'surname':'<U35', \n",
    "                'credit_score':'uint32', \n",
    "                'geography':'<U60', \n",
    "                'age' : 'uint8',\n",
    "                'tenure' : 'uint8',\n",
    "                'balance' : 'uint32',\n",
    "                'num_of_products' : 'uint8',\n",
    "                'has_cr_card' : 'uint8',\n",
    "                'is_active_member' : 'uint8',\n",
    "                'estimated_salary' : 'uint32',\n",
    "                'exited' : 'uint8'}, errors='ignore')\n",
    "\n",
    "# заменим Male и Female на 1 и 0\n",
    "df['gender'] = df['gender'].apply(lambda x : 1 if x == 'Male' else 0).astype('uint8')\n",
    "\n",
    "new_d_memory = df.memory_usage().sum()\n",
    "df.info()"
   ]
  },
  {
   "cell_type": "code",
   "execution_count": 9,
   "metadata": {},
   "outputs": [
    {
     "name": "stdout",
     "output_type": "stream",
     "text": [
      "Сократили объем используемой памяти на 42.0%\n"
     ]
    }
   ],
   "source": [
    "print(f'Сократили объем используемой памяти на {round(new_d_memory / d_memory  * 100,1)}%')"
   ]
  },
  {
   "cell_type": "code",
   "execution_count": 10,
   "metadata": {
    "scrolled": true
   },
   "outputs": [
    {
     "data": {
      "image/png": "[encoded data removed]",
      "text/plain": [
       "<Figure size 1080x1440 with 12 Axes>"
      ]
     },
     "metadata": {
      "needs_background": "light"
     },
     "output_type": "display_data"
    }
   ],
   "source": [
    "# построим графики, чтобы посмотреть на распределение\n",
    "df.hist(figsize=(15,20));"
   ]
  },
  {
   "cell_type": "markdown",
   "metadata": {},
   "source": [
    "**Рассмотрим признаки по очереди**"
   ]
  },
  {
   "cell_type": "code",
   "execution_count": 11,
   "metadata": {},
   "outputs": [],
   "source": [
    "# Заведём множества для категоризации признаков\n",
    "drop_features = set()\n",
    "categorical_features = set()\n",
    "numeric_features = set()"
   ]
  },
  {
   "cell_type": "markdown",
   "metadata": {},
   "source": [
    "**row_number**"
   ]
  },
  {
   "cell_type": "code",
   "execution_count": 12,
   "metadata": {},
   "outputs": [
    {
     "name": "stdout",
     "output_type": "stream",
     "text": [
      "Все категории: [    1     2     3 ...  9998  9999 10000]\n"
     ]
    }
   ],
   "source": [
    "col = 'row_number'\n",
    "unique = df[col].unique()\n",
    "print('Все категории:', unique)"
   ]
  },
  {
   "cell_type": "code",
   "execution_count": 13,
   "metadata": {},
   "outputs": [],
   "source": [
    "# Вывод: эту колонку можно выбросить из обучения, это просто поядковые номера\n",
    "drop_features.add(col)"
   ]
  },
  {
   "cell_type": "markdown",
   "metadata": {},
   "source": [
    "**surname**"
   ]
  },
  {
   "cell_type": "code",
   "execution_count": 14,
   "metadata": {},
   "outputs": [
    {
     "name": "stdout",
     "output_type": "stream",
     "text": [
      "Все категории: ['Hargrave' 'Hill' 'Onio' ... 'Kashiwagi' 'Aldridge' 'Burbidge']\n"
     ]
    }
   ],
   "source": [
    "col = 'surname'\n",
    "unique = df[col].unique()\n",
    "print('Все категории:', unique)"
   ]
  },
  {
   "cell_type": "code",
   "execution_count": 15,
   "metadata": {},
   "outputs": [],
   "source": [
    "# Вывод: эту колонку можно выбросить из обучения, это слишком уникальные значения\n",
    "drop_features.add(col)"
   ]
  },
  {
   "cell_type": "markdown",
   "metadata": {},
   "source": [
    "**credit_score**"
   ]
  },
  {
   "cell_type": "code",
   "execution_count": 16,
   "metadata": {},
   "outputs": [
    {
     "name": "stdout",
     "output_type": "stream",
     "text": [
      "Все категории: [619 608 502 699 850 645 822 376 501 684 528 497 476 549 635 616 653 587\n",
      " 726 732 636 510 669 846 577 756 571 574 411 591 533 553 520 722 475 490\n",
      " 804 582 472 465 556 834 660 776 829 637 550 698 585 788 655 601 656 725\n",
      " 511 614 742 687 555 603 751 581 735 661 675 738 813 657 604 519 664 678\n",
      " 757 416 665 777 543 506 493 652 750 729 646 647 808 524 769 730 515 773\n",
      " 814 710 413 623 670 622 785 605 479 685 538 562 721 628 668 828 674 625\n",
      " 432 770 758 795 686 789 589 461 584 579 663 682 793 691 485 650 754 535\n",
      " 716 539 706 586 631 717 800 683 704 615 667 484 480 578 512 606 597 778\n",
      " 514 525 715 580 807 521 759 516 711 618 643 671 689 620 676 572 695 592\n",
      " 567 694 547 594 673 610 767 763 712 703 662 659 523 772 545 634 739 771\n",
      " 681 544 696 766 727 693 557 531 498 651 791 733 811 707 714 782 775 799\n",
      " 602 744 588 747 583 627 731 629 438 642 806 474 559 429 680 749 734 644\n",
      " 626 649 805 718 840 630 654 762 568 613 522 737 648 443 640 540 460 593\n",
      " 801 611 802 745 483 690 492 709 705 560 752 701 537 487 596 702 486 724\n",
      " 548 464 790 534 748 494 590 468 509 818 816 536 753 774 621 569 658 798\n",
      " 641 542 692 639 765 570 638 599 632 779 527 564 833 504 842 508 417 598\n",
      " 741 607 761 848 546 439 755 760 526 713 700 666 566 495 688 612 477 427\n",
      " 839 819 720 459 503 624 529 563 482 796 445 746 786 554 672 787 499 844\n",
      " 450 815 838 803 736 633 600 679 517 792 743 488 421 841 708 507 505 456\n",
      " 435 561 518 565 728 784 552 609 764 697 723 551 444 719 496 541 830 812\n",
      " 677 420 595 617 809 500 826 434 513 478 797 363 399 463 780 452 575 837\n",
      " 794 824 428 823 781 849 489 431 457 768 831 359 820 573 576 558 817 449\n",
      " 440 415 821 530 350 446 425 740 481 783 358 845 451 458 469 423 404 836\n",
      " 473 835 466 491 351 827 843 365 532 414 453 471 401 810 832 470 447 422\n",
      " 825 430 436 426 408 847 418 437 410 454 407 455 462 386 405 383 395 467\n",
      " 433 442 424 448 441 367 412 382 373 419]\n"
     ]
    }
   ],
   "source": [
    "col = 'credit_score'\n",
    "unique = df[col].unique()\n",
    "print('Все категории:', unique)"
   ]
  },
  {
   "cell_type": "code",
   "execution_count": 17,
   "metadata": {},
   "outputs": [],
   "source": [
    "# Вывод - признак численный\n",
    "numeric_features.add(col)"
   ]
  },
  {
   "cell_type": "markdown",
   "metadata": {},
   "source": [
    "**geography**"
   ]
  },
  {
   "cell_type": "code",
   "execution_count": 18,
   "metadata": {},
   "outputs": [
    {
     "name": "stdout",
     "output_type": "stream",
     "text": [
      "Все категории: ['France' 'Spain' 'Germany']\n"
     ]
    }
   ],
   "source": [
    "col = 'geography'\n",
    "unique = df[col].unique()\n",
    "print('Все категории:', unique)"
   ]
  },
  {
   "cell_type": "code",
   "execution_count": 19,
   "metadata": {},
   "outputs": [],
   "source": [
    "# Вывод: эту колонку можно выбросить из обучения. Да\n",
    "drop_features.add(col)"
   ]
  },
  {
   "cell_type": "markdown",
   "metadata": {},
   "source": [
    "**gender**"
   ]
  },
  {
   "cell_type": "code",
   "execution_count": 20,
   "metadata": {},
   "outputs": [
    {
     "name": "stdout",
     "output_type": "stream",
     "text": [
      "Все категории: [0 1]\n"
     ]
    }
   ],
   "source": [
    "col = 'gender'\n",
    "unique = df[col].unique()\n",
    "print('Все категории:', unique)"
   ]
  },
  {
   "cell_type": "code",
   "execution_count": 21,
   "metadata": {},
   "outputs": [],
   "source": [
    "# Вывод - это категориальный признак\n",
    "categorical_features.add(col)"
   ]
  },
  {
   "cell_type": "markdown",
   "metadata": {},
   "source": [
    "**tenure**"
   ]
  },
  {
   "cell_type": "code",
   "execution_count": 22,
   "metadata": {},
   "outputs": [
    {
     "name": "stdout",
     "output_type": "stream",
     "text": [
      "Все категории: [ 2  1  8  7  4  6  3 10  5  9  0]\n"
     ]
    }
   ],
   "source": [
    "col = 'tenure'\n",
    "unique = df[col].unique()\n",
    "print('Все категории:', unique)"
   ]
  },
  {
   "cell_type": "code",
   "execution_count": 23,
   "metadata": {},
   "outputs": [],
   "source": [
    "# Вывод - признак численный\n",
    "numeric_features.add(col)"
   ]
  },
  {
   "cell_type": "markdown",
   "metadata": {},
   "source": [
    "**balance**"
   ]
  },
  {
   "cell_type": "code",
   "execution_count": 24,
   "metadata": {},
   "outputs": [
    {
     "name": "stdout",
     "output_type": "stream",
     "text": [
      "Все категории: [     0  83807 159660 ... 155060  57369 130142]\n"
     ]
    }
   ],
   "source": [
    "col = 'balance'\n",
    "unique = df[col].unique()\n",
    "print('Все категории:', unique)"
   ]
  },
  {
   "cell_type": "code",
   "execution_count": 25,
   "metadata": {},
   "outputs": [],
   "source": [
    "# Вывод - признак численный\n",
    "numeric_features.add(col)"
   ]
  },
  {
   "cell_type": "markdown",
   "metadata": {},
   "source": [
    "**num_of_products**"
   ]
  },
  {
   "cell_type": "code",
   "execution_count": 26,
   "metadata": {},
   "outputs": [
    {
     "name": "stdout",
     "output_type": "stream",
     "text": [
      "Все категории: [1 3 2 4]\n"
     ]
    }
   ],
   "source": [
    "col = 'num_of_products'\n",
    "unique = df[col].unique()\n",
    "print('Все категории:', unique)"
   ]
  },
  {
   "cell_type": "code",
   "execution_count": 27,
   "metadata": {},
   "outputs": [],
   "source": [
    "# Вывод - признак численный\n",
    "numeric_features.add(col)"
   ]
  },
  {
   "cell_type": "markdown",
   "metadata": {},
   "source": [
    "**has_cr_card**"
   ]
  },
  {
   "cell_type": "code",
   "execution_count": 28,
   "metadata": {},
   "outputs": [
    {
     "name": "stdout",
     "output_type": "stream",
     "text": [
      "Все категории: [1 0]\n"
     ]
    }
   ],
   "source": [
    "col = 'has_cr_card'\n",
    "unique = df[col].unique()\n",
    "print('Все категории:', unique)"
   ]
  },
  {
   "cell_type": "code",
   "execution_count": 29,
   "metadata": {},
   "outputs": [],
   "source": [
    "# Вывод - это категориальный признак\n",
    "categorical_features.add(col)"
   ]
  },
  {
   "cell_type": "markdown",
   "metadata": {},
   "source": [
    "**is_active_member**"
   ]
  },
  {
   "cell_type": "code",
   "execution_count": 30,
   "metadata": {},
   "outputs": [
    {
     "name": "stdout",
     "output_type": "stream",
     "text": [
      "Все категории: [1 0]\n"
     ]
    }
   ],
   "source": [
    "col = 'is_active_member'\n",
    "unique = df[col].unique()\n",
    "print('Все категории:', unique)"
   ]
  },
  {
   "cell_type": "code",
   "execution_count": 31,
   "metadata": {},
   "outputs": [],
   "source": [
    "# Вывод - это категориальный признак\n",
    "categorical_features.add(col)"
   ]
  },
  {
   "cell_type": "markdown",
   "metadata": {},
   "source": [
    "**estimated_salary**"
   ]
  },
  {
   "cell_type": "code",
   "execution_count": 32,
   "metadata": {},
   "outputs": [
    {
     "name": "stdout",
     "output_type": "stream",
     "text": [
      "Все категории: [101348 112542 113931 ...  42085  92888  38190]\n"
     ]
    }
   ],
   "source": [
    "col = 'estimated_salary'\n",
    "unique = df[col].unique()\n",
    "print('Все категории:', unique)"
   ]
  },
  {
   "cell_type": "code",
   "execution_count": 33,
   "metadata": {},
   "outputs": [],
   "source": [
    "# Вывод - признак численный\n",
    "numeric_features.add(col)"
   ]
  },
  {
   "cell_type": "markdown",
   "metadata": {},
   "source": [
    "**exited**"
   ]
  },
  {
   "cell_type": "code",
   "execution_count": 34,
   "metadata": {},
   "outputs": [
    {
     "name": "stdout",
     "output_type": "stream",
     "text": [
      "Все категории: [1 0]\n"
     ]
    }
   ],
   "source": [
    "col = 'exited'\n",
    "unique = df[col].unique()\n",
    "print('Все категории:', unique)"
   ]
  },
  {
   "cell_type": "code",
   "execution_count": 35,
   "metadata": {},
   "outputs": [],
   "source": [
    "# Вывод - это категориальный признак\n",
    "categorical_features.add(col)"
   ]
  },
  {
   "cell_type": "code",
   "execution_count": 36,
   "metadata": {},
   "outputs": [],
   "source": [
    "# Удалим лишние признаки\n",
    "df = df.drop(columns=drop_features)"
   ]
  },
  {
   "cell_type": "code",
   "execution_count": 37,
   "metadata": {},
   "outputs": [],
   "source": [
    "# Выделим признаки и целевой аргумент\n",
    "X = df.loc[:,:'estimated_salary']\n",
    "y = df['exited']"
   ]
  },
  {
   "cell_type": "code",
   "execution_count": 38,
   "metadata": {},
   "outputs": [],
   "source": [
    "# Стандартизуем количественные признаки\n",
    "# scaler = StandardScaler()\n",
    "# df[list(numeric_features)] = scaler.fit_transform(df[numeric_features])\n",
    "# df[list(numeric_features)] = df[list(numeric_features)].astype('float32') "
   ]
  },
  {
   "cell_type": "markdown",
   "metadata": {},
   "source": [
    "**Посмотрим, что получилось**"
   ]
  },
  {
   "cell_type": "code",
   "execution_count": 39,
   "metadata": {},
   "outputs": [
    {
     "name": "stdout",
     "output_type": "stream",
     "text": [
      "<class 'pandas.core.frame.DataFrame'>\n",
      "Int64Index: 10000 entries, 15634602 to 15628319\n",
      "Data columns (total 10 columns):\n",
      " #   Column            Non-Null Count  Dtype \n",
      "---  ------            --------------  ----- \n",
      " 0   credit_score      10000 non-null  uint32\n",
      " 1   gender            10000 non-null  uint8 \n",
      " 2   age               10000 non-null  uint8 \n",
      " 3   tenure            10000 non-null  uint8 \n",
      " 4   balance           10000 non-null  uint32\n",
      " 5   num_of_products   10000 non-null  uint8 \n",
      " 6   has_cr_card       10000 non-null  uint8 \n",
      " 7   is_active_member  10000 non-null  uint8 \n",
      " 8   estimated_salary  10000 non-null  uint32\n",
      " 9   exited            10000 non-null  uint8 \n",
      "dtypes: uint32(3), uint8(7)\n",
      "memory usage: 263.7 KB\n"
     ]
    },
    {
     "data": {
      "text/html": [
       "<div>\n",
       "<style scoped>\n",
       "    .dataframe tbody tr th:only-of-type {\n",
       "        vertical-align: middle;\n",
       "    }\n",
       "\n",
       "    .dataframe tbody tr th {\n",
       "        vertical-align: top;\n",
       "    }\n",
       "\n",
       "    .dataframe thead th {\n",
       "        text-align: right;\n",
       "    }\n",
       "</style>\n",
       "<table border=\"1\" class=\"dataframe\">\n",
       "  <thead>\n",
       "    <tr style=\"text-align: right;\">\n",
       "      <th></th>\n",
       "      <th>credit_score</th>\n",
       "      <th>gender</th>\n",
       "      <th>age</th>\n",
       "      <th>tenure</th>\n",
       "      <th>balance</th>\n",
       "      <th>num_of_products</th>\n",
       "      <th>has_cr_card</th>\n",
       "      <th>is_active_member</th>\n",
       "      <th>estimated_salary</th>\n",
       "      <th>exited</th>\n",
       "    </tr>\n",
       "    <tr>\n",
       "      <th>customer_id</th>\n",
       "      <th></th>\n",
       "      <th></th>\n",
       "      <th></th>\n",
       "      <th></th>\n",
       "      <th></th>\n",
       "      <th></th>\n",
       "      <th></th>\n",
       "      <th></th>\n",
       "      <th></th>\n",
       "      <th></th>\n",
       "    </tr>\n",
       "  </thead>\n",
       "  <tbody>\n",
       "    <tr>\n",
       "      <th>15634602</th>\n",
       "      <td>619</td>\n",
       "      <td>0</td>\n",
       "      <td>42</td>\n",
       "      <td>2</td>\n",
       "      <td>0</td>\n",
       "      <td>1</td>\n",
       "      <td>1</td>\n",
       "      <td>1</td>\n",
       "      <td>101348</td>\n",
       "      <td>1</td>\n",
       "    </tr>\n",
       "    <tr>\n",
       "      <th>15647311</th>\n",
       "      <td>608</td>\n",
       "      <td>0</td>\n",
       "      <td>41</td>\n",
       "      <td>1</td>\n",
       "      <td>83807</td>\n",
       "      <td>1</td>\n",
       "      <td>0</td>\n",
       "      <td>1</td>\n",
       "      <td>112542</td>\n",
       "      <td>0</td>\n",
       "    </tr>\n",
       "    <tr>\n",
       "      <th>15619304</th>\n",
       "      <td>502</td>\n",
       "      <td>0</td>\n",
       "      <td>42</td>\n",
       "      <td>8</td>\n",
       "      <td>159660</td>\n",
       "      <td>3</td>\n",
       "      <td>1</td>\n",
       "      <td>0</td>\n",
       "      <td>113931</td>\n",
       "      <td>1</td>\n",
       "    </tr>\n",
       "    <tr>\n",
       "      <th>15701354</th>\n",
       "      <td>699</td>\n",
       "      <td>0</td>\n",
       "      <td>39</td>\n",
       "      <td>1</td>\n",
       "      <td>0</td>\n",
       "      <td>2</td>\n",
       "      <td>0</td>\n",
       "      <td>0</td>\n",
       "      <td>93826</td>\n",
       "      <td>0</td>\n",
       "    </tr>\n",
       "    <tr>\n",
       "      <th>15737888</th>\n",
       "      <td>850</td>\n",
       "      <td>0</td>\n",
       "      <td>43</td>\n",
       "      <td>2</td>\n",
       "      <td>125510</td>\n",
       "      <td>1</td>\n",
       "      <td>1</td>\n",
       "      <td>1</td>\n",
       "      <td>79084</td>\n",
       "      <td>0</td>\n",
       "    </tr>\n",
       "  </tbody>\n",
       "</table>\n",
       "</div>"
      ],
      "text/plain": [
       "             credit_score  gender  age  tenure  balance  num_of_products  \\\n",
       "customer_id                                                                \n",
       "15634602              619       0   42       2        0                1   \n",
       "15647311              608       0   41       1    83807                1   \n",
       "15619304              502       0   42       8   159660                3   \n",
       "15701354              699       0   39       1        0                2   \n",
       "15737888              850       0   43       2   125510                1   \n",
       "\n",
       "             has_cr_card  is_active_member  estimated_salary  exited  \n",
       "customer_id                                                           \n",
       "15634602               1                 1            101348       1  \n",
       "15647311               0                 1            112542       0  \n",
       "15619304               1                 0            113931       1  \n",
       "15701354               0                 0             93826       0  \n",
       "15737888               1                 1             79084       0  "
      ]
     },
     "execution_count": 39,
     "metadata": {},
     "output_type": "execute_result"
    }
   ],
   "source": [
    "df.info()\n",
    "df.head()"
   ]
  },
  {
   "cell_type": "markdown",
   "metadata": {},
   "source": [
    "**Итог:\n",
    "<br>1) Данные выглядят прилично, только в одной фиче присутсвовали пропуски, их достаточно много, для данного набора, поэтому просто удалить нельзя, поэтому заменили на 0\n",
    "<br>2) Так же по мере причесывания данных переименовали колонки и уменьшили объем используемой памяти\n",
    "<br>3) Колонки с порядковым номером, фамилией и страной(дабы не обвинили в рассизме) удалили, они не несут смысловой нагрузки\n",
    "<br>4) Выделили целевой признак и стандартизовали количественные\n",
    "<br>5) На построенных данных можно было заметить, что классы не сбалансированны (последний график сетки)\n",
    "<br>Получили симпатичный датафрейм**"
   ]
  },
  {
   "cell_type": "markdown",
   "metadata": {},
   "source": [
    "## Исследование задачи"
   ]
  },
  {
   "cell_type": "markdown",
   "metadata": {},
   "source": [
    "**Для начала нужно получить выборки: обучающая, валидационная, тестовая**"
   ]
  },
  {
   "cell_type": "code",
   "execution_count": 40,
   "metadata": {},
   "outputs": [],
   "source": [
    "# Для разбиения на три выборки сначала выделим обучающую выборку, в размере 60%, а потом по 20% на валидационную и тестовую\n",
    "X_train, X_temp, y_train, y_temp = train_test_split(X, y, test_size=0.4, random_state=12345)\n",
    "X_val, X_test, y_val, y_test = train_test_split(X_temp, y_temp, test_size=0.5, random_state=12345)"
   ]
  },
  {
   "cell_type": "code",
   "execution_count": 41,
   "metadata": {},
   "outputs": [],
   "source": [
    "# Стандартизуем количественные признаки\n",
    "numeric_features = list(numeric_features)\n",
    "scaler = StandardScaler()\n",
    "scaler.fit(X_train[numeric_features])\n",
    "X_train[numeric_features] = scaler.transform(X_train[numeric_features]);\n",
    "X_val[numeric_features] = scaler.transform(X_val[numeric_features]);\n",
    "X_test[numeric_features] = scaler.transform(X_test[numeric_features]);"
   ]
  },
  {
   "cell_type": "code",
   "execution_count": 42,
   "metadata": {},
   "outputs": [
    {
     "name": "stdout",
     "output_type": "stream",
     "text": [
      "Размер выборки train: X:(6000, 9), y:(6000,)\n",
      "Размер выборки validation: X:(2000, 9), y:(2000,)\n",
      "Размер выборки test: X:(2000, 9), y:(2000,)\n"
     ]
    }
   ],
   "source": [
    "print(f\"Размер выборки train: X:{X_train.shape}, y:{y_train.shape}\")\n",
    "print(f\"Размер выборки validation: X:{X_val.shape}, y:{y_val.shape}\")\n",
    "print(f\"Размер выборки test: X:{X_test.shape}, y:{y_test.shape}\")"
   ]
  },
  {
   "cell_type": "code",
   "execution_count": 43,
   "metadata": {},
   "outputs": [
    {
     "data": {
      "image/png": "[encoded data removed]",
      "text/plain": [
       "<Figure size 432x288 with 1 Axes>"
      ]
     },
     "metadata": {
      "needs_background": "light"
     },
     "output_type": "display_data"
    }
   ],
   "source": [
    "# Еще раз посмотрим и убедимся в несбалансированности классов\n",
    "y.value_counts().plot(kind='bar');"
   ]
  },
  {
   "cell_type": "markdown",
   "metadata": {},
   "source": [
    "**Попробуем обучить модели для несбалансированных выборок\n",
    "<br>Возьмем такие модели как: 1. DecisionTreeClassifier 2. RandomForestClassifier 3. LogisticRegression\n",
    "<br>Которые мне предложили подизучить в прошлом проекте**"
   ]
  },
  {
   "cell_type": "markdown",
   "metadata": {},
   "source": [
    "**Поищем лучшие гиперпараметры для случайного леса и дерева решений**"
   ]
  },
  {
   "cell_type": "code",
   "execution_count": 44,
   "metadata": {},
   "outputs": [
    {
     "data": {
      "text/plain": [
       "{'max_depth': 5}"
      ]
     },
     "execution_count": 44,
     "metadata": {},
     "output_type": "execute_result"
    }
   ],
   "source": [
    "# Начнем с DecisionTreeClassifier\n",
    "parametrs_dt = {'max_depth': range(1,6)}\n",
    "model_dt = DecisionTreeClassifier(random_state=12345, \n",
    "                                  class_weight = 'balanced')\n",
    "grid_dt = GridSearchCV(model_dt, parametrs_dt, scoring='f1')\n",
    "grid_dt.fit(X_train, y_train)\n",
    "grid_dt.best_params_"
   ]
  },
  {
   "cell_type": "code",
   "execution_count": 45,
   "metadata": {},
   "outputs": [
    {
     "data": {
      "text/plain": [
       "{'max_depth': 5, 'n_estimators': 28}"
      ]
     },
     "execution_count": 45,
     "metadata": {},
     "output_type": "execute_result"
    }
   ],
   "source": [
    "#  RandomForestClassifier\n",
    "parametrs_rf = {'n_estimators': range(1,51),\n",
    "              'max_depth': range(1,6)}\n",
    "model_rf = RandomForestClassifier(random_state=12345, \n",
    "                                  class_weight = 'balanced')\n",
    "grid_rf = GridSearchCV(model_rf, parametrs_rf,scoring='f1')\n",
    "grid_rf.fit(X_train, y_train)\n",
    "grid_rf.best_params_"
   ]
  },
  {
   "cell_type": "markdown",
   "metadata": {},
   "source": [
    "**Обучим модели**"
   ]
  },
  {
   "cell_type": "code",
   "execution_count": 46,
   "metadata": {
    "scrolled": true
   },
   "outputs": [
    {
     "name": "stdout",
     "output_type": "stream",
     "text": [
      "Метрики f1 = 0.5894962486602359, roc_auc = 0.8197447056902112\n"
     ]
    }
   ],
   "source": [
    "# Обучим модель DecisionTreeClassifier на обучающей выборке и посмотрим на f1 на валидациооной \n",
    "model_dt = DecisionTreeClassifier(max_depth=5, \n",
    "                                  random_state=12345,\n",
    "                                  class_weight = 'balanced')\n",
    "model_dt.fit(X_train, y_train)\n",
    "pred_dt = model_dt.predict(X_val)\n",
    "model_score_f1 = f1_score(y_val, pred_dt)\n",
    "model_score_roc = roc_auc_score(y_val, model_dt.predict_proba(X_val)[:,1])\n",
    "print(f\"Метрики f1 = {model_score_f1}, roc_auc = {model_score_roc}\")"
   ]
  },
  {
   "cell_type": "code",
   "execution_count": 47,
   "metadata": {},
   "outputs": [
    {
     "name": "stdout",
     "output_type": "stream",
     "text": [
      "Метрики f1 = 0.592255125284738, roc_auc = 0.8451418167300794\n"
     ]
    }
   ],
   "source": [
    "# Обучим модель RandomForestClassifier на обучающей выборке и посмотрим на f1 на валидациооной \n",
    "model_rf = RandomForestClassifier(max_depth = 9,\n",
    "                                  n_estimators = 41,\n",
    "                                  random_state = 12345,\n",
    "                                  class_weight = 'balanced')\n",
    "model_rf.fit(X_train, y_train)\n",
    "pred_rf = model_rf.predict(X_val)\n",
    "model_score_f1 = f1_score(y_val, pred_rf)\n",
    "model_score_roc = roc_auc_score(y_val, model_rf.predict_proba(X_val)[:,1])\n",
    "print(f\"Метрики f1 = {model_score_f1}, roc_auc = {model_score_roc}\")"
   ]
  },
  {
   "cell_type": "code",
   "execution_count": 48,
   "metadata": {},
   "outputs": [
    {
     "name": "stdout",
     "output_type": "stream",
     "text": [
      "Метрики f1 = 0.48264182895850966, roc_auc = 0.756774780878181\n"
     ]
    }
   ],
   "source": [
    "# Обучим модель LogisticRegression на обучающей выборке и посмотрим на f1 на валидациооной \n",
    "model_lr = LogisticRegression(random_state = 12345,\n",
    "                              class_weight = 'balanced')\n",
    "model_lr.fit(X_train, y_train)\n",
    "pred_lr = model_lr.predict(X_val)\n",
    "model_score_f1 = f1_score(y_val, pred_lr)\n",
    "model_score_roc = roc_auc_score(y_val, model_lr.predict_proba(X_val)[:,1])\n",
    "print(f\"Метрики f1 = {model_score_f1}, roc_auc = {model_score_roc}\")"
   ]
  },
  {
   "cell_type": "markdown",
   "metadata": {},
   "source": [
    "**Рассмотрев все результаты f1 метрик на несбалансированной выборке, видим, что луший показатель у дерева решений\n",
    "<br>Но нам предстоит еще побороть дисбаланс сил, ниже представлены матрицы ошибок**"
   ]
  },
  {
   "cell_type": "code",
   "execution_count": 49,
   "metadata": {},
   "outputs": [
    {
     "data": {
      "text/plain": [
       "array([[0.8482933 , 0.1517067 ],\n",
       "       [0.34210526, 0.65789474]])"
      ]
     },
     "execution_count": 49,
     "metadata": {},
     "output_type": "execute_result"
    }
   ],
   "source": [
    "# матрица ошибок для дерева решений\n",
    "confusion_matrix(y_val, pred_dt, normalize='true')"
   ]
  },
  {
   "cell_type": "code",
   "execution_count": 50,
   "metadata": {},
   "outputs": [
    {
     "data": {
      "text/plain": [
       "array([[0.87357775, 0.12642225],\n",
       "       [0.37799043, 0.62200957]])"
      ]
     },
     "execution_count": 50,
     "metadata": {},
     "output_type": "execute_result"
    }
   ],
   "source": [
    "# матрица ошибок для решающего дерева\n",
    "confusion_matrix(y_val, pred_rf, normalize='true')"
   ]
  },
  {
   "cell_type": "code",
   "execution_count": 51,
   "metadata": {},
   "outputs": [
    {
     "data": {
      "text/plain": [
       "array([[0.69785082, 0.30214918],\n",
       "       [0.31818182, 0.68181818]])"
      ]
     },
     "execution_count": 51,
     "metadata": {},
     "output_type": "execute_result"
    }
   ],
   "source": [
    "# матрица ошибок для логистической регрессии\n",
    "confusion_matrix(y_val, pred_lr, normalize='true')"
   ]
  },
  {
   "cell_type": "markdown",
   "metadata": {},
   "source": [
    "**Гляля на матрицы видно сильный дисбаланс классов**"
   ]
  },
  {
   "cell_type": "markdown",
   "metadata": {},
   "source": [
    "## Борьба с дисбалансом"
   ]
  },
  {
   "cell_type": "markdown",
   "metadata": {},
   "source": [
    "**Увеличение выборки**"
   ]
  },
  {
   "cell_type": "code",
   "execution_count": 52,
   "metadata": {},
   "outputs": [],
   "source": [
    "def upsample(features,target,repeat):\n",
    "    target_one=target[target==1]\n",
    "    target_null=target[target==0]\n",
    "    features_one=features[target==1]\n",
    "    features_null=features[target==0]\n",
    "    \n",
    "    upsampling_features=pd.concat([features_null]+[features_one]*repeat)\n",
    "    upsampling_target=pd.concat([target_null]+[target_one]*repeat)\n",
    "    \n",
    "    upsampling_features,upsampling_target=shuffle(upsampling_features,upsampling_target,random_state=12345)\n",
    "    \n",
    "    return upsampling_features,upsampling_target\n",
    "\n",
    "features_upsampled, target_upsampled = upsample(X_train, y_train, 4)"
   ]
  },
  {
   "cell_type": "code",
   "execution_count": 53,
   "metadata": {},
   "outputs": [
    {
     "name": "stdout",
     "output_type": "stream",
     "text": [
      "Метрики f1 = 0.4839255499153976, roc_auc = 0.7564269684670243\n"
     ]
    }
   ],
   "source": [
    "# Обучим модель LogisticRegression на увеличенной обучающей выборке и посмотрим на f1 на валидациооной \n",
    "model_lr = LogisticRegression(random_state=12345, \n",
    "                              solver='liblinear', \n",
    "                              class_weight = 'balanced')\n",
    "model_lr.fit(features_upsampled, target_upsampled)\n",
    "predicted_valid_lr = model_lr.predict(X_val)\n",
    "model_score_f1_lr =  f1_score(y_val, predicted_valid_lr)\n",
    "model_score_roc_lr =  roc_auc_score(y_val, model_lr.predict_proba(X_val)[:,1])  \n",
    "print(f\"Метрики f1 = {model_score_f1_lr}, roc_auc = {model_score_roc_lr}\")"
   ]
  },
  {
   "cell_type": "code",
   "execution_count": 54,
   "metadata": {},
   "outputs": [
    {
     "name": "stdout",
     "output_type": "stream",
     "text": [
      "Метрики f1 = 0.5904365904365904, roc_auc = 0.8422912671864698\n"
     ]
    }
   ],
   "source": [
    "# Обучим модель RandomForestClassifier на увеличенной обучающей выборке и посмотрим на f1 на валидациооной \n",
    "model_rf = RandomForestClassifier(max_depth = 9,\n",
    "                                  n_estimators = 41,\n",
    "                                  random_state = 12345,\n",
    "                                  class_weight = 'balanced')\n",
    "model_rf.fit(features_upsampled, target_upsampled)\n",
    "predicted_valid_rf = model_rf.predict(X_val)\n",
    "model_score_f1_rf =  f1_score(y_val, predicted_valid_rf)\n",
    "model_score_roc_rf =  roc_auc_score(y_val, model_rf.predict_proba(X_val)[:,1])                        \n",
    "print(f\"Метрики f1 = {model_score_f1_rf}, roc_auc = {model_score_roc_rf}\")"
   ]
  },
  {
   "cell_type": "code",
   "execution_count": 55,
   "metadata": {},
   "outputs": [
    {
     "name": "stdout",
     "output_type": "stream",
     "text": [
      "Метрики f1 = 0.5894962486602359, roc_auc = 0.8197447056902112\n"
     ]
    }
   ],
   "source": [
    "# Обучим модель DecisionTreeClassifier на увеличенной обучающей выборке и посмотрим на f1 на валидациооной \n",
    "model_dt = DecisionTreeClassifier(max_depth = 5,\n",
    "                                  random_state = 12345, \n",
    "                                  class_weight = 'balanced')\n",
    "model_dt.fit(features_upsampled, target_upsampled)\n",
    "predicted_valid_dt = model_dt.predict(X_val)\n",
    "model_score_f1_dt =  f1_score(y_val, predicted_valid_dt)\n",
    "model_score_roc_dt =  roc_auc_score(y_val, model_dt.predict_proba(X_val)[:,1])                        \n",
    "print(f\"Метрики f1 = {model_score_f1_dt}, roc_auc = {model_score_roc_dt}\")"
   ]
  },
  {
   "cell_type": "markdown",
   "metadata": {},
   "source": [
    "**Уменьшение выборки**"
   ]
  },
  {
   "cell_type": "code",
   "execution_count": 56,
   "metadata": {},
   "outputs": [],
   "source": [
    "def downsample(features,target,fraction):\n",
    "    features_null=features[target==0]\n",
    "    features_one=features[target==1]\n",
    "    target_null=target[target==0]\n",
    "    target_one=target[target==1]\n",
    "    \n",
    "    downsampling_features=pd.concat([features_null.sample(frac=fraction,random_state=12345)]+[features_one])\n",
    "    downsampling_target=pd.concat([target_null.sample(frac=fraction,random_state=12345)]+[target_one])\n",
    "    \n",
    "    downsampling_features,downsampling_target=shuffle(downsampling_features,downsampling_target,random_state=12345)\n",
    "    return downsampling_features,downsampling_target\n",
    "\n",
    "features_downsample, target_downsample = downsample(X_train, y_train, 0.25)"
   ]
  },
  {
   "cell_type": "code",
   "execution_count": 57,
   "metadata": {},
   "outputs": [
    {
     "name": "stdout",
     "output_type": "stream",
     "text": [
      "Метрики f1 = 0.48067226890756304, roc_auc = 0.755769149341576\n"
     ]
    }
   ],
   "source": [
    "# Обучим модель LogisticRegression на уменьшенной обучающей выборке и посмотрим на f1 на валидациооной \n",
    "model_lr = LogisticRegression(random_state=12345, \n",
    "                              solver='liblinear', \n",
    "                              class_weight = 'balanced')\n",
    "model_lr.fit(features_downsample, target_downsample)\n",
    "predicted_valid_lr = model_lr.predict(X_val)\n",
    "model_score_f1_lr =  f1_score(y_val, predicted_valid_lr)\n",
    "model_score_roc_lr =  roc_auc_score(y_val, model_lr.predict_proba(X_val)[:,1])                        \n",
    "print(f\"Метрики f1 = {model_score_f1_lr}, roc_auc = {model_score_roc_lr}\")"
   ]
  },
  {
   "cell_type": "code",
   "execution_count": 58,
   "metadata": {},
   "outputs": [
    {
     "name": "stdout",
     "output_type": "stream",
     "text": [
      "Метрики f1 = 0.5826330532212884, roc_auc = 0.8459644686938586\n"
     ]
    }
   ],
   "source": [
    "# Обучим модель RandomForestClassifier на уменьшенной обучающей выборке и посмотрим на f1 на валидациооной \n",
    "model_rf = RandomForestClassifier(max_depth = 9,\n",
    "                                  n_estimators = 41,\n",
    "                                  random_state = 12345, \n",
    "                                  class_weight = 'balanced')\n",
    "model_rf.fit(features_downsample, target_downsample)\n",
    "predicted_valid_rf = model_rf.predict(X_val)\n",
    "model_score_f1_rf =  f1_score(y_val, predicted_valid_rf)\n",
    "model_score_roc_rf =  roc_auc_score(y_val, model_rf.predict_proba(X_val)[:,1])                        \n",
    "print(f\"Метрики f1 = {model_score_f1_rf}, roc_auc = {model_score_roc_rf}\")"
   ]
  },
  {
   "cell_type": "code",
   "execution_count": 59,
   "metadata": {},
   "outputs": [
    {
     "name": "stdout",
     "output_type": "stream",
     "text": [
      "Метрики f1 = 0.5504761904761905, roc_auc = 0.7998944464943534\n"
     ]
    }
   ],
   "source": [
    "# Обучим модель DecisionTreeClassifier на уменьшенной обучающей выборке и посмотрим на f1 на валидациооной \n",
    "model_dt = DecisionTreeClassifier(max_depth = 5,\n",
    "                                  random_state = 12345, \n",
    "                                  class_weight = 'balanced')\n",
    "model_dt.fit(features_downsample, target_downsample)\n",
    "predicted_valid_dt = model_dt.predict(X_val)\n",
    "model_score_f1_dt =  f1_score(y_val, predicted_valid_dt)\n",
    "model_score_roc_dt =  roc_auc_score(y_val, model_dt.predict_proba(X_val)[:,1])                        \n",
    "print(f\"Метрики f1 = {model_score_f1_dt}, roc_auc = {model_score_roc_dt}\")"
   ]
  },
  {
   "cell_type": "markdown",
   "metadata": {},
   "source": [
    "**Как видим, уменьшение выборля для баланса класса, позволило нам улучшить модель и получить, f1 > 0.59\n",
    "<br>Наилучший результат показывают дерево решений и случайный лес**"
   ]
  },
  {
   "cell_type": "markdown",
   "metadata": {},
   "source": [
    "## Тестирование модели"
   ]
  },
  {
   "cell_type": "markdown",
   "metadata": {},
   "source": [
    "**Посмотрим, что прокажет на тестовой выборке**"
   ]
  },
  {
   "cell_type": "code",
   "execution_count": 60,
   "metadata": {},
   "outputs": [
    {
     "name": "stdout",
     "output_type": "stream",
     "text": [
      "Метрики f1 = 0.5931558935361217, roc_auc = 0.8411008723209374\n"
     ]
    }
   ],
   "source": [
    "# Обучим модель DecisionTreeClassifier на уменьшенной обучающей выборке и посмотрим на f1 на тестовой \n",
    "model_rf = RandomForestClassifier(max_depth = 5,\n",
    "                                  n_estimators = 49,\n",
    "                                  random_state = 12345, \n",
    "                                  class_weight = 'balanced')\n",
    "model_rf.fit(features_upsampled, target_upsampled)\n",
    "predicted_valid_rf = model_rf.predict(X_test)\n",
    "model_score_f1_rf =  f1_score(y_test, predicted_valid_rf)\n",
    "model_score_roc_rf =  roc_auc_score(y_test, model_rf.predict_proba(X_test)[:,1])                        \n",
    "print(f\"Метрики f1 = {model_score_f1_rf}, roc_auc = {model_score_roc_rf}\")"
   ]
  },
  {
   "cell_type": "markdown",
   "metadata": {},
   "source": [
    "**Как видим, точность нашей модели превышает наших ожиданий**"
   ]
  },
  {
   "cell_type": "code",
   "execution_count": 61,
   "metadata": {},
   "outputs": [
    {
     "data": {
      "image/png": "[encoded data removed]",
      "text/plain": [
       "<Figure size 432x288 with 1 Axes>"
      ]
     },
     "metadata": {
      "needs_background": "light"
     },
     "output_type": "display_data"
    }
   ],
   "source": [
    "# Посмотрим на ROC кривую\n",
    "probabilities_test = model_dt.predict_proba(X_test)[::,1]\n",
    "fpr, tpr, thresholds = roc_curve(y_test, probabilities_test) \n",
    "\n",
    "plt.figure()\n",
    "plt.plot(fpr,tpr)\n",
    "plt.ylabel('True Positive Rate')\n",
    "plt.xlabel('False Positive Rate')\n",
    "plt.show() "
   ]
  },
  {
   "cell_type": "code",
   "execution_count": 62,
   "metadata": {},
   "outputs": [
    {
     "data": {
      "text/plain": [
       "array([1.13800451e-02, 1.59102789e-02, 5.34101014e-01, 4.44578906e-15,\n",
       "       3.00190751e-02, 2.98890608e-01, 0.00000000e+00, 9.69063512e-02,\n",
       "       1.27926273e-02])"
      ]
     },
     "execution_count": 62,
     "metadata": {},
     "output_type": "execute_result"
    }
   ],
   "source": [
    "f_imp = model_dt.feature_importances_\n",
    "f_imp"
   ]
  },
  {
   "cell_type": "code",
   "execution_count": 63,
   "metadata": {},
   "outputs": [
    {
     "data": {
      "image/png": "[encoded data removed]",
      "text/plain": [
       "<Figure size 432x288 with 1 Axes>"
      ]
     },
     "metadata": {
      "needs_background": "light"
     },
     "output_type": "display_data"
    }
   ],
   "source": [
    "pd.Series(f_imp, index=X.columns).plot(x=X.columns, kind='bar');"
   ]
  },
  {
   "cell_type": "markdown",
   "metadata": {},
   "source": [
    "**ROC кривая показывает, хороший результат обучения**"
   ]
  },
  {
   "cell_type": "markdown",
   "metadata": {},
   "source": [
    "**Выводы:\n",
    "<br>1) Данные, хоть на первый взгляд и хороши, но стоило немного их пречесать, переименовать признаки, изменить типы данных, удалить ненужные, а также стандартизовать колечественные признаки\n",
    "<br>2) Данные были разбиты 60/20/20 на обучающую, валидационную и тестовую выборку\n",
    "<br>2) Была определена сильная несбалансированность классов, которую мы исправляли уменьшением, а так же увеличением выборки. Уменьшение выборки, дало нам лучший результат для далнейшего обучения\n",
    "<br>3) Для трех выбранных моделей были подобранны автоматически лучшие гиперпараметры и уменьшив размер выборки, протестированна лучшая модель, ей оказалась RandomForestClassifier, с максимальной глубиной 5, а метрика f1 оказалась чуть больше 0.59**"
   ]
  },
  {
   "cell_type": "markdown",
   "metadata": {},
   "source": [
    "## Чек-лист готовности проекта"
   ]
  },
  {
   "cell_type": "markdown",
   "metadata": {},
   "source": [
    "Поставьте 'x' в выполненных пунктах. Далее нажмите Shift+Enter."
   ]
  },
  {
   "cell_type": "markdown",
   "metadata": {},
   "source": [
    "- [x]  Jupyter Notebook открыт\n",
    "- [x]  Весь код выполняется без ошибок\n",
    "- [x]  Ячейки с кодом расположены в порядке исполнения\n",
    "- [x]  Выполнен шаг 1: данные подготовлены\n",
    "- [x]  Выполнен шаг 2: задача исследована\n",
    "    - [X]  Исследован баланс классов\n",
    "    - [x]  Изучены модели без учёта дисбаланса\n",
    "    - [x]  Написаны выводы по результатам исследования\n",
    "- [x]  Выполнен шаг 3: учтён дисбаланс\n",
    "    - [x]  Применено несколько способов борьбы с дисбалансом\n",
    "    - [x]  Написаны выводы по результатам исследования\n",
    "- [x]  Выполнен шаг 4: проведено тестирование\n",
    "- [x]  Удалось достичь *F1*-меры не менее 0.59\n",
    "- [x]  Исследована метрика *AUC-ROC*"
   ]
  }
 ],
 "metadata": {
  "ExecuteTimeLog": [
   {
    "duration": 743,
    "start_time": "2023-03-26T05:21:09.964Z"
   },
   {
    "duration": 193,
    "start_time": "2023-03-26T05:21:35.962Z"
   },
   {
    "duration": 49,
    "start_time": "2023-03-26T05:21:40.825Z"
   },
   {
    "duration": 49,
    "start_time": "2023-03-26T05:21:45.771Z"
   },
   {
    "duration": 13,
    "start_time": "2023-03-26T05:21:49.586Z"
   },
   {
    "duration": 12,
    "start_time": "2023-03-26T05:22:05.507Z"
   },
   {
    "duration": 6,
    "start_time": "2023-03-26T05:22:22.587Z"
   },
   {
    "duration": 5,
    "start_time": "2023-03-26T05:22:43.287Z"
   },
   {
    "duration": 5,
    "start_time": "2023-03-26T05:22:46.442Z"
   },
   {
    "duration": 4,
    "start_time": "2023-03-26T05:23:51.175Z"
   },
   {
    "duration": 5,
    "start_time": "2023-03-26T05:24:56.594Z"
   },
   {
    "duration": 4,
    "start_time": "2023-03-26T05:26:02.061Z"
   },
   {
    "duration": 7,
    "start_time": "2023-03-26T05:26:28.430Z"
   },
   {
    "duration": 5,
    "start_time": "2023-03-26T05:27:14.173Z"
   },
   {
    "duration": 5,
    "start_time": "2023-03-26T05:27:22.344Z"
   },
   {
    "duration": 4,
    "start_time": "2023-03-26T05:27:24.491Z"
   },
   {
    "duration": 45,
    "start_time": "2023-03-26T05:27:53.669Z"
   },
   {
    "duration": 6,
    "start_time": "2023-03-26T05:27:56.181Z"
   },
   {
    "duration": 4,
    "start_time": "2023-03-26T05:28:05.325Z"
   },
   {
    "duration": 6,
    "start_time": "2023-03-26T05:28:42.173Z"
   },
   {
    "duration": 4,
    "start_time": "2023-03-26T05:28:47.361Z"
   },
   {
    "duration": 4,
    "start_time": "2023-03-26T05:29:19.813Z"
   },
   {
    "duration": 19,
    "start_time": "2023-03-26T05:29:37.016Z"
   },
   {
    "duration": 6,
    "start_time": "2023-03-26T05:30:02.202Z"
   },
   {
    "duration": 20,
    "start_time": "2023-03-26T05:30:08.812Z"
   },
   {
    "duration": 7,
    "start_time": "2023-03-26T05:30:30.400Z"
   },
   {
    "duration": 5,
    "start_time": "2023-03-26T05:30:38.256Z"
   },
   {
    "duration": 20,
    "start_time": "2023-03-26T05:31:28.764Z"
   },
   {
    "duration": 3,
    "start_time": "2023-03-26T05:31:37.527Z"
   },
   {
    "duration": 22,
    "start_time": "2023-03-26T05:32:05.079Z"
   },
   {
    "duration": 22,
    "start_time": "2023-03-26T05:32:39.038Z"
   },
   {
    "duration": 22,
    "start_time": "2023-03-26T05:32:50.529Z"
   },
   {
    "duration": 22,
    "start_time": "2023-03-26T05:33:00.612Z"
   },
   {
    "duration": 5,
    "start_time": "2023-03-26T05:33:14.947Z"
   },
   {
    "duration": 4,
    "start_time": "2023-03-26T05:33:20.050Z"
   },
   {
    "duration": 4,
    "start_time": "2023-03-26T05:33:33.618Z"
   },
   {
    "duration": 749,
    "start_time": "2023-03-26T05:33:39.110Z"
   },
   {
    "duration": 5,
    "start_time": "2023-03-26T05:33:40.837Z"
   },
   {
    "duration": 6,
    "start_time": "2023-03-26T05:33:55.590Z"
   },
   {
    "duration": 5,
    "start_time": "2023-03-26T05:34:06.831Z"
   },
   {
    "duration": 3,
    "start_time": "2023-03-26T05:40:11.758Z"
   },
   {
    "duration": 22,
    "start_time": "2023-03-26T05:40:14.317Z"
   },
   {
    "duration": 12,
    "start_time": "2023-03-26T05:43:27.410Z"
   },
   {
    "duration": 4,
    "start_time": "2023-03-26T05:48:49.067Z"
   },
   {
    "duration": 3,
    "start_time": "2023-03-26T05:48:51.715Z"
   },
   {
    "duration": 3,
    "start_time": "2023-03-26T05:48:53.071Z"
   },
   {
    "duration": 18,
    "start_time": "2023-03-26T05:48:55.572Z"
   },
   {
    "duration": 50,
    "start_time": "2023-03-26T05:49:24.441Z"
   },
   {
    "duration": 13,
    "start_time": "2023-03-26T05:49:29.384Z"
   },
   {
    "duration": 5,
    "start_time": "2023-03-26T05:49:50.759Z"
   },
   {
    "duration": 19,
    "start_time": "2023-03-26T05:49:52.804Z"
   },
   {
    "duration": 2,
    "start_time": "2023-03-26T05:50:05.359Z"
   },
   {
    "duration": 2,
    "start_time": "2023-03-26T05:50:07.309Z"
   },
   {
    "duration": 18,
    "start_time": "2023-03-26T05:50:08.134Z"
   },
   {
    "duration": 53,
    "start_time": "2023-03-26T05:51:01.625Z"
   },
   {
    "duration": 5,
    "start_time": "2023-03-26T05:51:15.418Z"
   },
   {
    "duration": 3,
    "start_time": "2023-03-26T05:51:22.826Z"
   },
   {
    "duration": 24,
    "start_time": "2023-03-26T05:51:24.337Z"
   },
   {
    "duration": 11,
    "start_time": "2023-03-26T05:52:14.160Z"
   },
   {
    "duration": 15,
    "start_time": "2023-03-26T05:52:24.944Z"
   },
   {
    "duration": 13,
    "start_time": "2023-03-26T05:59:15.188Z"
   },
   {
    "duration": 34,
    "start_time": "2023-03-26T05:59:19.554Z"
   },
   {
    "duration": 213,
    "start_time": "2023-03-26T06:00:35.866Z"
   },
   {
    "duration": 14,
    "start_time": "2023-03-26T06:01:01.173Z"
   },
   {
    "duration": 409,
    "start_time": "2023-03-26T06:01:34.574Z"
   },
   {
    "duration": 8,
    "start_time": "2023-03-26T06:02:02.733Z"
   },
   {
    "duration": 11,
    "start_time": "2023-03-26T06:02:05.114Z"
   },
   {
    "duration": 20,
    "start_time": "2023-03-26T06:02:06.015Z"
   },
   {
    "duration": 13,
    "start_time": "2023-03-26T06:02:11.727Z"
   },
   {
    "duration": 7,
    "start_time": "2023-03-26T06:02:55.302Z"
   },
   {
    "duration": 12,
    "start_time": "2023-03-26T06:02:58.792Z"
   },
   {
    "duration": 23,
    "start_time": "2023-03-26T06:03:04.928Z"
   },
   {
    "duration": 18,
    "start_time": "2023-03-26T06:03:08.279Z"
   },
   {
    "duration": 606,
    "start_time": "2023-03-26T06:03:13.571Z"
   },
   {
    "duration": 54,
    "start_time": "2023-03-26T06:03:14.178Z"
   },
   {
    "duration": 20,
    "start_time": "2023-03-26T06:03:14.233Z"
   },
   {
    "duration": 97,
    "start_time": "2023-03-26T06:03:14.255Z"
   },
   {
    "duration": 0,
    "start_time": "2023-03-26T06:03:14.353Z"
   },
   {
    "duration": 0,
    "start_time": "2023-03-26T06:03:14.356Z"
   },
   {
    "duration": 0,
    "start_time": "2023-03-26T06:03:14.357Z"
   },
   {
    "duration": 0,
    "start_time": "2023-03-26T06:03:14.359Z"
   },
   {
    "duration": 0,
    "start_time": "2023-03-26T06:03:14.360Z"
   },
   {
    "duration": 0,
    "start_time": "2023-03-26T06:03:14.361Z"
   },
   {
    "duration": 12,
    "start_time": "2023-03-26T06:03:26.142Z"
   },
   {
    "duration": 40,
    "start_time": "2023-03-26T06:03:27.411Z"
   },
   {
    "duration": 16,
    "start_time": "2023-03-26T06:03:28.999Z"
   },
   {
    "duration": 4,
    "start_time": "2023-03-26T06:03:31.204Z"
   },
   {
    "duration": 3,
    "start_time": "2023-03-26T06:05:20.194Z"
   },
   {
    "duration": 22,
    "start_time": "2023-03-26T06:06:06.312Z"
   },
   {
    "duration": 21,
    "start_time": "2023-03-26T06:06:17.450Z"
   },
   {
    "duration": 5,
    "start_time": "2023-03-26T06:06:27.782Z"
   },
   {
    "duration": 23,
    "start_time": "2023-03-26T06:06:42.373Z"
   },
   {
    "duration": 6,
    "start_time": "2023-03-26T06:06:52.030Z"
   },
   {
    "duration": 52,
    "start_time": "2023-03-26T06:07:05.821Z"
   },
   {
    "duration": 19,
    "start_time": "2023-03-26T06:07:06.301Z"
   },
   {
    "duration": 14,
    "start_time": "2023-03-26T06:07:06.854Z"
   },
   {
    "duration": 33,
    "start_time": "2023-03-26T06:07:08.406Z"
   },
   {
    "duration": 24,
    "start_time": "2023-03-26T06:07:13.461Z"
   },
   {
    "duration": 5,
    "start_time": "2023-03-26T06:07:17.505Z"
   },
   {
    "duration": 25,
    "start_time": "2023-03-26T06:07:21.604Z"
   },
   {
    "duration": 5,
    "start_time": "2023-03-26T06:07:22.618Z"
   },
   {
    "duration": 631,
    "start_time": "2023-03-26T06:07:54.336Z"
   },
   {
    "duration": 58,
    "start_time": "2023-03-26T06:07:54.969Z"
   },
   {
    "duration": 16,
    "start_time": "2023-03-26T06:07:55.028Z"
   },
   {
    "duration": 13,
    "start_time": "2023-03-26T06:07:55.046Z"
   },
   {
    "duration": 36,
    "start_time": "2023-03-26T06:07:55.060Z"
   },
   {
    "duration": 21,
    "start_time": "2023-03-26T06:07:55.098Z"
   },
   {
    "duration": 22,
    "start_time": "2023-03-26T06:07:55.141Z"
   },
   {
    "duration": 5,
    "start_time": "2023-03-26T06:07:55.164Z"
   },
   {
    "duration": 3,
    "start_time": "2023-03-26T06:07:55.171Z"
   },
   {
    "duration": 3,
    "start_time": "2023-03-26T06:07:55.178Z"
   },
   {
    "duration": 758,
    "start_time": "2023-03-26T06:07:55.182Z"
   },
   {
    "duration": 621,
    "start_time": "2023-03-26T06:08:13.198Z"
   },
   {
    "duration": 54,
    "start_time": "2023-03-26T06:08:13.820Z"
   },
   {
    "duration": 14,
    "start_time": "2023-03-26T06:08:13.876Z"
   },
   {
    "duration": 15,
    "start_time": "2023-03-26T06:08:13.892Z"
   },
   {
    "duration": 49,
    "start_time": "2023-03-26T06:08:13.908Z"
   },
   {
    "duration": 20,
    "start_time": "2023-03-26T06:08:13.959Z"
   },
   {
    "duration": 20,
    "start_time": "2023-03-26T06:08:13.980Z"
   },
   {
    "duration": 5,
    "start_time": "2023-03-26T06:08:14.001Z"
   },
   {
    "duration": 32,
    "start_time": "2023-03-26T06:08:14.008Z"
   },
   {
    "duration": 13,
    "start_time": "2023-03-26T06:08:14.043Z"
   },
   {
    "duration": 758,
    "start_time": "2023-03-26T06:08:14.058Z"
   },
   {
    "duration": 629,
    "start_time": "2023-03-26T06:08:56.759Z"
   },
   {
    "duration": 57,
    "start_time": "2023-03-26T06:08:57.389Z"
   },
   {
    "duration": 15,
    "start_time": "2023-03-26T06:08:57.454Z"
   },
   {
    "duration": 16,
    "start_time": "2023-03-26T06:08:57.471Z"
   },
   {
    "duration": 33,
    "start_time": "2023-03-26T06:08:57.490Z"
   },
   {
    "duration": 28,
    "start_time": "2023-03-26T06:08:57.540Z"
   },
   {
    "duration": 30,
    "start_time": "2023-03-26T06:08:57.570Z"
   },
   {
    "duration": 5,
    "start_time": "2023-03-26T06:08:57.601Z"
   },
   {
    "duration": 3,
    "start_time": "2023-03-26T06:08:57.608Z"
   },
   {
    "duration": 5,
    "start_time": "2023-03-26T06:08:57.649Z"
   },
   {
    "duration": 834,
    "start_time": "2023-03-26T06:08:57.656Z"
   },
   {
    "duration": 666,
    "start_time": "2023-03-26T06:09:46.061Z"
   },
   {
    "duration": 79,
    "start_time": "2023-03-26T06:09:46.729Z"
   },
   {
    "duration": 17,
    "start_time": "2023-03-26T06:09:46.810Z"
   },
   {
    "duration": 26,
    "start_time": "2023-03-26T06:09:46.830Z"
   },
   {
    "duration": 40,
    "start_time": "2023-03-26T06:09:46.858Z"
   },
   {
    "duration": 24,
    "start_time": "2023-03-26T06:09:46.900Z"
   },
   {
    "duration": 3,
    "start_time": "2023-03-26T06:09:46.926Z"
   },
   {
    "duration": 3,
    "start_time": "2023-03-26T06:09:46.943Z"
   },
   {
    "duration": 14,
    "start_time": "2023-03-26T06:09:46.947Z"
   },
   {
    "duration": 21,
    "start_time": "2023-03-26T06:10:10.912Z"
   },
   {
    "duration": 654,
    "start_time": "2023-03-26T06:10:22.420Z"
   },
   {
    "duration": 55,
    "start_time": "2023-03-26T06:10:23.076Z"
   },
   {
    "duration": 24,
    "start_time": "2023-03-26T06:10:23.132Z"
   },
   {
    "duration": 16,
    "start_time": "2023-03-26T06:10:23.159Z"
   },
   {
    "duration": 33,
    "start_time": "2023-03-26T06:10:23.176Z"
   },
   {
    "duration": 18,
    "start_time": "2023-03-26T06:10:23.211Z"
   },
   {
    "duration": 4,
    "start_time": "2023-03-26T06:10:23.249Z"
   },
   {
    "duration": 8,
    "start_time": "2023-03-26T06:10:23.254Z"
   },
   {
    "duration": 3,
    "start_time": "2023-03-26T06:10:23.264Z"
   },
   {
    "duration": 19,
    "start_time": "2023-03-26T06:10:37.034Z"
   },
   {
    "duration": 6,
    "start_time": "2023-03-26T06:10:42.839Z"
   },
   {
    "duration": 5,
    "start_time": "2023-03-26T06:10:46.281Z"
   },
   {
    "duration": 19,
    "start_time": "2023-03-26T06:10:53.238Z"
   },
   {
    "duration": 38,
    "start_time": "2023-03-26T06:11:04.982Z"
   },
   {
    "duration": 7,
    "start_time": "2023-03-26T06:11:17.777Z"
   },
   {
    "duration": 5,
    "start_time": "2023-03-26T06:11:25.722Z"
   },
   {
    "duration": 20,
    "start_time": "2023-03-26T06:12:17.248Z"
   },
   {
    "duration": 19,
    "start_time": "2023-03-26T06:12:40.950Z"
   },
   {
    "duration": 18,
    "start_time": "2023-03-26T06:12:58.017Z"
   },
   {
    "duration": 17,
    "start_time": "2023-03-26T06:13:01.923Z"
   },
   {
    "duration": 17,
    "start_time": "2023-03-26T06:13:31.093Z"
   },
   {
    "duration": 17,
    "start_time": "2023-03-26T06:13:46.005Z"
   },
   {
    "duration": 18,
    "start_time": "2023-03-26T06:14:08.973Z"
   },
   {
    "duration": 5,
    "start_time": "2023-03-26T06:14:21.984Z"
   },
   {
    "duration": 6,
    "start_time": "2023-03-26T06:14:44.988Z"
   },
   {
    "duration": 8,
    "start_time": "2023-03-26T06:14:53.539Z"
   },
   {
    "duration": 3,
    "start_time": "2023-03-26T06:14:55.981Z"
   },
   {
    "duration": 606,
    "start_time": "2023-03-26T06:15:00.555Z"
   },
   {
    "duration": 54,
    "start_time": "2023-03-26T06:15:01.163Z"
   },
   {
    "duration": 13,
    "start_time": "2023-03-26T06:15:01.219Z"
   },
   {
    "duration": 30,
    "start_time": "2023-03-26T06:15:01.234Z"
   },
   {
    "duration": 40,
    "start_time": "2023-03-26T06:15:01.266Z"
   },
   {
    "duration": 28,
    "start_time": "2023-03-26T06:15:01.308Z"
   },
   {
    "duration": 8,
    "start_time": "2023-03-26T06:15:01.338Z"
   },
   {
    "duration": 40,
    "start_time": "2023-03-26T06:15:01.348Z"
   },
   {
    "duration": 16,
    "start_time": "2023-03-26T06:15:01.390Z"
   },
   {
    "duration": 23,
    "start_time": "2023-03-26T06:15:01.407Z"
   },
   {
    "duration": 21,
    "start_time": "2023-03-26T06:15:01.431Z"
   },
   {
    "duration": 29,
    "start_time": "2023-03-26T06:15:01.453Z"
   },
   {
    "duration": 4,
    "start_time": "2023-03-26T06:16:26.072Z"
   },
   {
    "duration": 2,
    "start_time": "2023-03-26T06:17:00.292Z"
   },
   {
    "duration": 4,
    "start_time": "2023-03-26T06:17:22.754Z"
   },
   {
    "duration": 5,
    "start_time": "2023-03-26T06:17:30.905Z"
   },
   {
    "duration": 4,
    "start_time": "2023-03-26T06:17:39.742Z"
   },
   {
    "duration": 4,
    "start_time": "2023-03-26T06:17:44.187Z"
   },
   {
    "duration": 6,
    "start_time": "2023-03-26T06:17:48.535Z"
   },
   {
    "duration": 5,
    "start_time": "2023-03-26T06:18:00.721Z"
   },
   {
    "duration": 3,
    "start_time": "2023-03-26T06:18:07.445Z"
   },
   {
    "duration": 4,
    "start_time": "2023-03-26T06:19:41.081Z"
   },
   {
    "duration": 5,
    "start_time": "2023-03-26T06:19:51.701Z"
   },
   {
    "duration": 3,
    "start_time": "2023-03-26T06:19:54.314Z"
   },
   {
    "duration": 4,
    "start_time": "2023-03-26T06:20:07.631Z"
   },
   {
    "duration": 4,
    "start_time": "2023-03-26T06:20:28.622Z"
   },
   {
    "duration": 11,
    "start_time": "2023-03-26T06:20:40.468Z"
   },
   {
    "duration": 4,
    "start_time": "2023-03-26T06:21:02.948Z"
   },
   {
    "duration": 2,
    "start_time": "2023-03-26T06:21:41.455Z"
   },
   {
    "duration": 4,
    "start_time": "2023-03-26T06:21:55.238Z"
   },
   {
    "duration": 2,
    "start_time": "2023-03-26T06:21:59.153Z"
   },
   {
    "duration": 5,
    "start_time": "2023-03-26T06:22:12.539Z"
   },
   {
    "duration": 3,
    "start_time": "2023-03-26T06:22:29.464Z"
   },
   {
    "duration": 4,
    "start_time": "2023-03-26T06:22:42.688Z"
   },
   {
    "duration": 3,
    "start_time": "2023-03-26T06:22:45.626Z"
   },
   {
    "duration": 5,
    "start_time": "2023-03-26T06:22:59.588Z"
   },
   {
    "duration": 3,
    "start_time": "2023-03-26T06:23:03.637Z"
   },
   {
    "duration": 4,
    "start_time": "2023-03-26T06:23:12.780Z"
   },
   {
    "duration": 4,
    "start_time": "2023-03-26T06:23:20.264Z"
   },
   {
    "duration": 3,
    "start_time": "2023-03-26T06:23:28.015Z"
   },
   {
    "duration": 4,
    "start_time": "2023-03-26T06:23:36.336Z"
   },
   {
    "duration": 4,
    "start_time": "2023-03-26T06:23:42.677Z"
   },
   {
    "duration": 2,
    "start_time": "2023-03-26T06:23:49.196Z"
   },
   {
    "duration": 4,
    "start_time": "2023-03-26T06:24:00.272Z"
   },
   {
    "duration": 2,
    "start_time": "2023-03-26T06:24:24.343Z"
   },
   {
    "duration": 4,
    "start_time": "2023-03-26T06:26:00.401Z"
   },
   {
    "duration": 1372,
    "start_time": "2023-03-26T06:26:04.671Z"
   },
   {
    "duration": 5,
    "start_time": "2023-03-26T06:29:41.656Z"
   },
   {
    "duration": 3,
    "start_time": "2023-03-26T06:29:46.344Z"
   },
   {
    "duration": 4,
    "start_time": "2023-03-26T06:31:12.624Z"
   },
   {
    "duration": 16,
    "start_time": "2023-03-26T06:31:14.511Z"
   },
   {
    "duration": 618,
    "start_time": "2023-03-26T06:32:14.835Z"
   },
   {
    "duration": 54,
    "start_time": "2023-03-26T06:32:15.454Z"
   },
   {
    "duration": 15,
    "start_time": "2023-03-26T06:32:15.510Z"
   },
   {
    "duration": 13,
    "start_time": "2023-03-26T06:32:15.527Z"
   },
   {
    "duration": 32,
    "start_time": "2023-03-26T06:32:15.542Z"
   },
   {
    "duration": 19,
    "start_time": "2023-03-26T06:32:15.577Z"
   },
   {
    "duration": 4,
    "start_time": "2023-03-26T06:32:15.597Z"
   },
   {
    "duration": 45,
    "start_time": "2023-03-26T06:32:15.602Z"
   },
   {
    "duration": 3,
    "start_time": "2023-03-26T06:32:15.649Z"
   },
   {
    "duration": 1458,
    "start_time": "2023-03-26T06:32:15.655Z"
   },
   {
    "duration": 4,
    "start_time": "2023-03-26T06:32:17.115Z"
   },
   {
    "duration": 20,
    "start_time": "2023-03-26T06:32:17.120Z"
   },
   {
    "duration": 3,
    "start_time": "2023-03-26T06:32:17.142Z"
   },
   {
    "duration": 8,
    "start_time": "2023-03-26T06:32:17.146Z"
   },
   {
    "duration": 3,
    "start_time": "2023-03-26T06:32:17.156Z"
   },
   {
    "duration": 6,
    "start_time": "2023-03-26T06:32:17.160Z"
   },
   {
    "duration": 3,
    "start_time": "2023-03-26T06:32:17.167Z"
   },
   {
    "duration": 4,
    "start_time": "2023-03-26T06:32:17.171Z"
   },
   {
    "duration": 2,
    "start_time": "2023-03-26T06:32:17.177Z"
   },
   {
    "duration": 5,
    "start_time": "2023-03-26T06:32:17.180Z"
   },
   {
    "duration": 3,
    "start_time": "2023-03-26T06:32:17.186Z"
   },
   {
    "duration": 4,
    "start_time": "2023-03-26T06:32:17.240Z"
   },
   {
    "duration": 4,
    "start_time": "2023-03-26T06:32:17.246Z"
   },
   {
    "duration": 5,
    "start_time": "2023-03-26T06:32:17.251Z"
   },
   {
    "duration": 3,
    "start_time": "2023-03-26T06:32:17.257Z"
   },
   {
    "duration": 5,
    "start_time": "2023-03-26T06:32:17.261Z"
   },
   {
    "duration": 3,
    "start_time": "2023-03-26T06:32:17.267Z"
   },
   {
    "duration": 6,
    "start_time": "2023-03-26T06:32:17.272Z"
   },
   {
    "duration": 16,
    "start_time": "2023-03-26T06:32:17.279Z"
   },
   {
    "duration": 4,
    "start_time": "2023-03-26T06:32:17.297Z"
   },
   {
    "duration": 4,
    "start_time": "2023-03-26T06:32:17.303Z"
   },
   {
    "duration": 3,
    "start_time": "2023-03-26T06:32:17.341Z"
   },
   {
    "duration": 4,
    "start_time": "2023-03-26T06:32:17.346Z"
   },
   {
    "duration": 5,
    "start_time": "2023-03-26T06:32:17.351Z"
   },
   {
    "duration": 3,
    "start_time": "2023-03-26T06:32:17.358Z"
   },
   {
    "duration": 4,
    "start_time": "2023-03-26T06:32:17.362Z"
   },
   {
    "duration": 14,
    "start_time": "2023-03-26T06:32:17.367Z"
   },
   {
    "duration": 10,
    "start_time": "2023-03-26T06:32:40.906Z"
   },
   {
    "duration": 8,
    "start_time": "2023-03-26T06:34:09.760Z"
   },
   {
    "duration": 2,
    "start_time": "2023-03-26T06:39:07.543Z"
   },
   {
    "duration": 2,
    "start_time": "2023-03-26T06:40:33.573Z"
   },
   {
    "duration": 3,
    "start_time": "2023-03-26T06:40:48.223Z"
   },
   {
    "duration": 51,
    "start_time": "2023-03-26T06:40:54.637Z"
   },
   {
    "duration": 5,
    "start_time": "2023-03-26T06:40:54.825Z"
   },
   {
    "duration": 39,
    "start_time": "2023-03-26T06:40:56.864Z"
   },
   {
    "duration": 2,
    "start_time": "2023-03-26T06:41:11.860Z"
   },
   {
    "duration": 3,
    "start_time": "2023-03-26T06:41:19.187Z"
   },
   {
    "duration": 3,
    "start_time": "2023-03-26T06:41:27.386Z"
   },
   {
    "duration": 2,
    "start_time": "2023-03-26T06:41:38.472Z"
   },
   {
    "duration": 3,
    "start_time": "2023-03-26T06:41:47.272Z"
   },
   {
    "duration": 3,
    "start_time": "2023-03-26T06:41:54.672Z"
   },
   {
    "duration": 2,
    "start_time": "2023-03-26T06:42:03.835Z"
   },
   {
    "duration": 3,
    "start_time": "2023-03-26T06:42:12.171Z"
   },
   {
    "duration": 2,
    "start_time": "2023-03-26T06:42:20.499Z"
   },
   {
    "duration": 3,
    "start_time": "2023-03-26T06:42:27.607Z"
   },
   {
    "duration": 2,
    "start_time": "2023-03-26T06:42:44.234Z"
   },
   {
    "duration": 638,
    "start_time": "2023-03-26T06:43:10.741Z"
   },
   {
    "duration": 57,
    "start_time": "2023-03-26T06:43:11.381Z"
   },
   {
    "duration": 17,
    "start_time": "2023-03-26T06:43:11.450Z"
   },
   {
    "duration": 22,
    "start_time": "2023-03-26T06:43:11.469Z"
   },
   {
    "duration": 36,
    "start_time": "2023-03-26T06:43:11.492Z"
   },
   {
    "duration": 21,
    "start_time": "2023-03-26T06:43:11.530Z"
   },
   {
    "duration": 3,
    "start_time": "2023-03-26T06:43:11.552Z"
   },
   {
    "duration": 23,
    "start_time": "2023-03-26T06:43:11.557Z"
   },
   {
    "duration": 4,
    "start_time": "2023-03-26T06:43:11.582Z"
   },
   {
    "duration": 1396,
    "start_time": "2023-03-26T06:43:11.588Z"
   },
   {
    "duration": 3,
    "start_time": "2023-03-26T06:43:12.985Z"
   },
   {
    "duration": 8,
    "start_time": "2023-03-26T06:43:12.990Z"
   },
   {
    "duration": 2,
    "start_time": "2023-03-26T06:43:13.000Z"
   },
   {
    "duration": 7,
    "start_time": "2023-03-26T06:43:13.004Z"
   },
   {
    "duration": 2,
    "start_time": "2023-03-26T06:43:13.013Z"
   },
   {
    "duration": 26,
    "start_time": "2023-03-26T06:43:13.016Z"
   },
   {
    "duration": 6,
    "start_time": "2023-03-26T06:43:13.044Z"
   },
   {
    "duration": 6,
    "start_time": "2023-03-26T06:43:13.052Z"
   },
   {
    "duration": 5,
    "start_time": "2023-03-26T06:43:13.059Z"
   },
   {
    "duration": 5,
    "start_time": "2023-03-26T06:43:13.065Z"
   },
   {
    "duration": 10,
    "start_time": "2023-03-26T06:43:13.071Z"
   },
   {
    "duration": 11,
    "start_time": "2023-03-26T06:43:13.083Z"
   },
   {
    "duration": 2,
    "start_time": "2023-03-26T06:43:13.096Z"
   },
   {
    "duration": 4,
    "start_time": "2023-03-26T06:43:13.100Z"
   },
   {
    "duration": 3,
    "start_time": "2023-03-26T06:43:13.106Z"
   },
   {
    "duration": 5,
    "start_time": "2023-03-26T06:43:13.140Z"
   },
   {
    "duration": 7,
    "start_time": "2023-03-26T06:43:13.146Z"
   },
   {
    "duration": 5,
    "start_time": "2023-03-26T06:43:13.155Z"
   },
   {
    "duration": 9,
    "start_time": "2023-03-26T06:43:13.161Z"
   },
   {
    "duration": 10,
    "start_time": "2023-03-26T06:43:13.171Z"
   },
   {
    "duration": 6,
    "start_time": "2023-03-26T06:43:13.182Z"
   },
   {
    "duration": 12,
    "start_time": "2023-03-26T06:43:13.189Z"
   },
   {
    "duration": 3,
    "start_time": "2023-03-26T06:43:13.202Z"
   },
   {
    "duration": 13,
    "start_time": "2023-03-26T06:43:13.207Z"
   },
   {
    "duration": 4,
    "start_time": "2023-03-26T06:43:13.221Z"
   },
   {
    "duration": 15,
    "start_time": "2023-03-26T06:43:13.227Z"
   },
   {
    "duration": 24,
    "start_time": "2023-03-26T06:43:13.244Z"
   },
   {
    "duration": 8,
    "start_time": "2023-03-26T06:43:13.270Z"
   },
   {
    "duration": 102,
    "start_time": "2023-03-26T06:43:43.170Z"
   },
   {
    "duration": 12,
    "start_time": "2023-03-26T06:44:11.470Z"
   },
   {
    "duration": 13,
    "start_time": "2023-03-26T06:44:20.124Z"
   },
   {
    "duration": 13,
    "start_time": "2023-03-26T06:44:24.101Z"
   },
   {
    "duration": 16,
    "start_time": "2023-03-26T06:44:27.740Z"
   },
   {
    "duration": 16,
    "start_time": "2023-03-26T06:44:30.937Z"
   },
   {
    "duration": 624,
    "start_time": "2023-03-26T06:44:46.559Z"
   },
   {
    "duration": 56,
    "start_time": "2023-03-26T06:44:47.185Z"
   },
   {
    "duration": 14,
    "start_time": "2023-03-26T06:44:47.243Z"
   },
   {
    "duration": 15,
    "start_time": "2023-03-26T06:44:47.259Z"
   },
   {
    "duration": 35,
    "start_time": "2023-03-26T06:44:47.276Z"
   },
   {
    "duration": 40,
    "start_time": "2023-03-26T06:44:47.313Z"
   },
   {
    "duration": 3,
    "start_time": "2023-03-26T06:44:47.354Z"
   },
   {
    "duration": 21,
    "start_time": "2023-03-26T06:44:47.359Z"
   },
   {
    "duration": 3,
    "start_time": "2023-03-26T06:44:47.382Z"
   },
   {
    "duration": 1343,
    "start_time": "2023-03-26T06:44:47.387Z"
   },
   {
    "duration": 3,
    "start_time": "2023-03-26T06:44:48.731Z"
   },
   {
    "duration": 6,
    "start_time": "2023-03-26T06:44:48.739Z"
   },
   {
    "duration": 2,
    "start_time": "2023-03-26T06:44:48.747Z"
   },
   {
    "duration": 5,
    "start_time": "2023-03-26T06:44:48.751Z"
   },
   {
    "duration": 2,
    "start_time": "2023-03-26T06:44:48.757Z"
   },
   {
    "duration": 5,
    "start_time": "2023-03-26T06:44:48.761Z"
   },
   {
    "duration": 3,
    "start_time": "2023-03-26T06:44:48.767Z"
   },
   {
    "duration": 5,
    "start_time": "2023-03-26T06:44:48.771Z"
   },
   {
    "duration": 4,
    "start_time": "2023-03-26T06:44:48.777Z"
   },
   {
    "duration": 5,
    "start_time": "2023-03-26T06:44:48.782Z"
   },
   {
    "duration": 4,
    "start_time": "2023-03-26T06:44:48.788Z"
   },
   {
    "duration": 46,
    "start_time": "2023-03-26T06:44:48.794Z"
   },
   {
    "duration": 2,
    "start_time": "2023-03-26T06:44:48.842Z"
   },
   {
    "duration": 4,
    "start_time": "2023-03-26T06:44:48.845Z"
   },
   {
    "duration": 3,
    "start_time": "2023-03-26T06:44:48.850Z"
   },
   {
    "duration": 3,
    "start_time": "2023-03-26T06:44:48.855Z"
   },
   {
    "duration": 2,
    "start_time": "2023-03-26T06:44:48.860Z"
   },
   {
    "duration": 3,
    "start_time": "2023-03-26T06:44:48.865Z"
   },
   {
    "duration": 2,
    "start_time": "2023-03-26T06:44:48.870Z"
   },
   {
    "duration": 4,
    "start_time": "2023-03-26T06:44:48.873Z"
   },
   {
    "duration": 2,
    "start_time": "2023-03-26T06:44:48.879Z"
   },
   {
    "duration": 5,
    "start_time": "2023-03-26T06:44:48.882Z"
   },
   {
    "duration": 2,
    "start_time": "2023-03-26T06:44:48.889Z"
   },
   {
    "duration": 55,
    "start_time": "2023-03-26T06:44:48.892Z"
   },
   {
    "duration": 22,
    "start_time": "2023-03-26T06:44:48.948Z"
   },
   {
    "duration": 5,
    "start_time": "2023-03-26T06:44:48.972Z"
   },
   {
    "duration": 17,
    "start_time": "2023-03-26T06:44:48.978Z"
   },
   {
    "duration": 20,
    "start_time": "2023-03-26T06:45:56.744Z"
   },
   {
    "duration": 16,
    "start_time": "2023-03-26T07:09:24.417Z"
   },
   {
    "duration": 3,
    "start_time": "2023-03-26T07:09:38.807Z"
   },
   {
    "duration": 5,
    "start_time": "2023-03-26T07:09:44.538Z"
   },
   {
    "duration": 78,
    "start_time": "2023-03-26T07:09:57.132Z"
   },
   {
    "duration": 707,
    "start_time": "2023-03-26T07:10:08.856Z"
   },
   {
    "duration": 46,
    "start_time": "2023-03-26T07:10:13.383Z"
   },
   {
    "duration": 7,
    "start_time": "2023-03-26T07:10:15.920Z"
   },
   {
    "duration": 5,
    "start_time": "2023-03-26T07:10:16.633Z"
   },
   {
    "duration": 4,
    "start_time": "2023-03-26T07:16:01.203Z"
   },
   {
    "duration": 4,
    "start_time": "2023-03-26T07:16:04.968Z"
   },
   {
    "duration": 18,
    "start_time": "2023-03-26T07:16:05.951Z"
   },
   {
    "duration": 3,
    "start_time": "2023-03-26T07:16:32.476Z"
   },
   {
    "duration": 4,
    "start_time": "2023-03-26T07:16:41.757Z"
   },
   {
    "duration": 8,
    "start_time": "2023-03-26T07:17:39.892Z"
   },
   {
    "duration": 12,
    "start_time": "2023-03-26T07:17:58.739Z"
   },
   {
    "duration": 14,
    "start_time": "2023-03-26T07:18:33.063Z"
   },
   {
    "duration": 19,
    "start_time": "2023-03-26T07:18:36.195Z"
   },
   {
    "duration": 14,
    "start_time": "2023-03-26T07:19:17.191Z"
   },
   {
    "duration": 17,
    "start_time": "2023-03-26T07:19:22.246Z"
   },
   {
    "duration": 21,
    "start_time": "2023-03-26T07:19:28.619Z"
   },
   {
    "duration": 16,
    "start_time": "2023-03-26T07:20:01.727Z"
   },
   {
    "duration": 14,
    "start_time": "2023-03-26T07:20:10.837Z"
   },
   {
    "duration": 22,
    "start_time": "2023-03-26T07:20:15.987Z"
   },
   {
    "duration": 20,
    "start_time": "2023-03-26T07:20:18.203Z"
   },
   {
    "duration": 7,
    "start_time": "2023-03-26T07:20:18.762Z"
   },
   {
    "duration": 4,
    "start_time": "2023-03-26T07:20:20.126Z"
   },
   {
    "duration": 20,
    "start_time": "2023-03-26T07:20:21.202Z"
   },
   {
    "duration": 6,
    "start_time": "2023-03-26T07:20:21.605Z"
   },
   {
    "duration": 4,
    "start_time": "2023-03-26T07:20:21.827Z"
   },
   {
    "duration": 10,
    "start_time": "2023-03-26T07:20:30.103Z"
   },
   {
    "duration": 22,
    "start_time": "2023-03-26T07:20:33.499Z"
   },
   {
    "duration": 22,
    "start_time": "2023-03-26T07:21:15.943Z"
   },
   {
    "duration": 13,
    "start_time": "2023-03-26T07:21:23.631Z"
   },
   {
    "duration": 20,
    "start_time": "2023-03-26T07:21:28.693Z"
   },
   {
    "duration": 21,
    "start_time": "2023-03-26T07:21:51.079Z"
   },
   {
    "duration": 23,
    "start_time": "2023-03-26T07:22:15.975Z"
   },
   {
    "duration": 22,
    "start_time": "2023-03-26T07:22:32.114Z"
   },
   {
    "duration": 24,
    "start_time": "2023-03-26T07:22:38.451Z"
   },
   {
    "duration": 24,
    "start_time": "2023-03-26T07:22:45.173Z"
   },
   {
    "duration": 36,
    "start_time": "2023-03-26T07:22:53.691Z"
   },
   {
    "duration": 24,
    "start_time": "2023-03-26T07:22:59.646Z"
   },
   {
    "duration": 27,
    "start_time": "2023-03-26T07:23:07.440Z"
   },
   {
    "duration": 60,
    "start_time": "2023-03-26T07:23:21.645Z"
   },
   {
    "duration": 25,
    "start_time": "2023-03-26T07:23:30.228Z"
   },
   {
    "duration": 1231,
    "start_time": "2023-03-26T07:23:39.384Z"
   },
   {
    "duration": 55,
    "start_time": "2023-03-26T07:23:40.616Z"
   },
   {
    "duration": 13,
    "start_time": "2023-03-26T07:23:40.673Z"
   },
   {
    "duration": 13,
    "start_time": "2023-03-26T07:23:40.688Z"
   },
   {
    "duration": 46,
    "start_time": "2023-03-26T07:23:40.703Z"
   },
   {
    "duration": 16,
    "start_time": "2023-03-26T07:23:40.751Z"
   },
   {
    "duration": 5,
    "start_time": "2023-03-26T07:23:40.768Z"
   },
   {
    "duration": 20,
    "start_time": "2023-03-26T07:23:40.774Z"
   },
   {
    "duration": 3,
    "start_time": "2023-03-26T07:23:40.796Z"
   },
   {
    "duration": 1338,
    "start_time": "2023-03-26T07:23:40.802Z"
   },
   {
    "duration": 3,
    "start_time": "2023-03-26T07:23:42.141Z"
   },
   {
    "duration": 6,
    "start_time": "2023-03-26T07:23:42.145Z"
   },
   {
    "duration": 3,
    "start_time": "2023-03-26T07:23:42.152Z"
   },
   {
    "duration": 5,
    "start_time": "2023-03-26T07:23:42.157Z"
   },
   {
    "duration": 3,
    "start_time": "2023-03-26T07:23:42.164Z"
   },
   {
    "duration": 6,
    "start_time": "2023-03-26T07:23:42.168Z"
   },
   {
    "duration": 3,
    "start_time": "2023-03-26T07:23:42.176Z"
   },
   {
    "duration": 9,
    "start_time": "2023-03-26T07:23:42.180Z"
   },
   {
    "duration": 2,
    "start_time": "2023-03-26T07:23:42.190Z"
   },
   {
    "duration": 4,
    "start_time": "2023-03-26T07:23:42.240Z"
   },
   {
    "duration": 3,
    "start_time": "2023-03-26T07:23:42.246Z"
   },
   {
    "duration": 4,
    "start_time": "2023-03-26T07:23:42.251Z"
   },
   {
    "duration": 3,
    "start_time": "2023-03-26T07:23:42.257Z"
   },
   {
    "duration": 4,
    "start_time": "2023-03-26T07:23:42.262Z"
   },
   {
    "duration": 2,
    "start_time": "2023-03-26T07:23:42.268Z"
   },
   {
    "duration": 118,
    "start_time": "2023-03-26T07:23:42.272Z"
   },
   {
    "duration": 3,
    "start_time": "2023-03-26T07:23:42.392Z"
   },
   {
    "duration": 4,
    "start_time": "2023-03-26T07:23:42.399Z"
   },
   {
    "duration": 5,
    "start_time": "2023-03-26T07:23:42.404Z"
   },
   {
    "duration": 5,
    "start_time": "2023-03-26T07:23:42.410Z"
   },
   {
    "duration": 24,
    "start_time": "2023-03-26T07:23:42.416Z"
   },
   {
    "duration": 6,
    "start_time": "2023-03-26T07:23:42.441Z"
   },
   {
    "duration": 3,
    "start_time": "2023-03-26T07:23:42.448Z"
   },
   {
    "duration": 5,
    "start_time": "2023-03-26T07:23:42.452Z"
   },
   {
    "duration": 3,
    "start_time": "2023-03-26T07:23:42.458Z"
   },
   {
    "duration": 5,
    "start_time": "2023-03-26T07:23:42.462Z"
   },
   {
    "duration": 15,
    "start_time": "2023-03-26T07:23:42.468Z"
   },
   {
    "duration": 5,
    "start_time": "2023-03-26T07:23:42.484Z"
   },
   {
    "duration": 33,
    "start_time": "2023-03-26T07:23:42.540Z"
   },
   {
    "duration": 9,
    "start_time": "2023-03-26T07:23:42.575Z"
   },
   {
    "duration": 4,
    "start_time": "2023-03-26T07:23:42.586Z"
   },
   {
    "duration": 17,
    "start_time": "2023-03-26T07:23:42.592Z"
   },
   {
    "duration": 25,
    "start_time": "2023-03-26T07:23:50.860Z"
   },
   {
    "duration": 27,
    "start_time": "2023-03-26T07:24:00.020Z"
   },
   {
    "duration": 34,
    "start_time": "2023-03-26T07:24:07.064Z"
   },
   {
    "duration": 25,
    "start_time": "2023-03-26T07:24:12.963Z"
   },
   {
    "duration": 29,
    "start_time": "2023-03-26T07:24:15.499Z"
   },
   {
    "duration": 1339,
    "start_time": "2023-03-26T07:24:22.952Z"
   },
   {
    "duration": 55,
    "start_time": "2023-03-26T07:24:24.293Z"
   },
   {
    "duration": 14,
    "start_time": "2023-03-26T07:24:24.349Z"
   },
   {
    "duration": 12,
    "start_time": "2023-03-26T07:24:24.365Z"
   },
   {
    "duration": 32,
    "start_time": "2023-03-26T07:24:24.379Z"
   },
   {
    "duration": 40,
    "start_time": "2023-03-26T07:24:24.413Z"
   },
   {
    "duration": 4,
    "start_time": "2023-03-26T07:24:24.455Z"
   },
   {
    "duration": 20,
    "start_time": "2023-03-26T07:24:24.460Z"
   },
   {
    "duration": 4,
    "start_time": "2023-03-26T07:24:24.482Z"
   },
   {
    "duration": 1323,
    "start_time": "2023-03-26T07:24:24.488Z"
   },
   {
    "duration": 3,
    "start_time": "2023-03-26T07:24:25.812Z"
   },
   {
    "duration": 9,
    "start_time": "2023-03-26T07:24:25.816Z"
   },
   {
    "duration": 14,
    "start_time": "2023-03-26T07:24:25.826Z"
   },
   {
    "duration": 6,
    "start_time": "2023-03-26T07:24:25.842Z"
   },
   {
    "duration": 3,
    "start_time": "2023-03-26T07:24:25.849Z"
   },
   {
    "duration": 7,
    "start_time": "2023-03-26T07:24:25.853Z"
   },
   {
    "duration": 3,
    "start_time": "2023-03-26T07:24:25.861Z"
   },
   {
    "duration": 6,
    "start_time": "2023-03-26T07:24:25.865Z"
   },
   {
    "duration": 4,
    "start_time": "2023-03-26T07:24:25.872Z"
   },
   {
    "duration": 7,
    "start_time": "2023-03-26T07:24:25.877Z"
   },
   {
    "duration": 4,
    "start_time": "2023-03-26T07:24:25.885Z"
   },
   {
    "duration": 5,
    "start_time": "2023-03-26T07:24:25.890Z"
   },
   {
    "duration": 3,
    "start_time": "2023-03-26T07:24:25.896Z"
   },
   {
    "duration": 43,
    "start_time": "2023-03-26T07:24:25.900Z"
   },
   {
    "duration": 3,
    "start_time": "2023-03-26T07:24:25.944Z"
   },
   {
    "duration": 73,
    "start_time": "2023-03-26T07:24:25.948Z"
   },
   {
    "duration": 18,
    "start_time": "2023-03-26T07:24:26.023Z"
   },
   {
    "duration": 5,
    "start_time": "2023-03-26T07:24:26.044Z"
   },
   {
    "duration": 3,
    "start_time": "2023-03-26T07:24:26.051Z"
   },
   {
    "duration": 5,
    "start_time": "2023-03-26T07:24:26.055Z"
   },
   {
    "duration": 2,
    "start_time": "2023-03-26T07:24:26.061Z"
   },
   {
    "duration": 4,
    "start_time": "2023-03-26T07:24:26.065Z"
   },
   {
    "duration": 3,
    "start_time": "2023-03-26T07:24:26.071Z"
   },
   {
    "duration": 4,
    "start_time": "2023-03-26T07:24:26.076Z"
   },
   {
    "duration": 3,
    "start_time": "2023-03-26T07:24:26.082Z"
   },
   {
    "duration": 54,
    "start_time": "2023-03-26T07:24:26.087Z"
   },
   {
    "duration": 16,
    "start_time": "2023-03-26T07:24:26.143Z"
   },
   {
    "duration": 4,
    "start_time": "2023-03-26T07:24:26.161Z"
   },
   {
    "duration": 28,
    "start_time": "2023-03-26T07:24:26.166Z"
   },
   {
    "duration": 7,
    "start_time": "2023-03-26T07:24:26.196Z"
   },
   {
    "duration": 37,
    "start_time": "2023-03-26T07:24:26.204Z"
   },
   {
    "duration": 20,
    "start_time": "2023-03-26T07:24:26.243Z"
   },
   {
    "duration": 17,
    "start_time": "2023-03-26T07:24:56.817Z"
   },
   {
    "duration": 7,
    "start_time": "2023-03-26T07:24:58.492Z"
   },
   {
    "duration": 3,
    "start_time": "2023-03-26T07:24:59.118Z"
   },
   {
    "duration": 15,
    "start_time": "2023-03-26T07:25:03.704Z"
   },
   {
    "duration": 12386,
    "start_time": "2023-03-26T07:25:50.670Z"
   },
   {
    "duration": 5,
    "start_time": "2023-03-26T07:26:21.023Z"
   },
   {
    "duration": 5,
    "start_time": "2023-03-26T07:26:41.623Z"
   },
   {
    "duration": 119,
    "start_time": "2023-03-26T07:26:49.993Z"
   },
   {
    "duration": 108,
    "start_time": "2023-03-26T07:26:52.339Z"
   },
   {
    "duration": 16,
    "start_time": "2023-03-26T07:27:15.632Z"
   },
   {
    "duration": 4,
    "start_time": "2023-03-26T07:27:31.704Z"
   },
   {
    "duration": 19,
    "start_time": "2023-03-26T07:27:33.763Z"
   },
   {
    "duration": 28,
    "start_time": "2023-03-26T07:27:36.034Z"
   },
   {
    "duration": 1348,
    "start_time": "2023-03-26T07:28:45.316Z"
   },
   {
    "duration": 64,
    "start_time": "2023-03-26T07:28:46.666Z"
   },
   {
    "duration": 19,
    "start_time": "2023-03-26T07:28:46.732Z"
   },
   {
    "duration": 19,
    "start_time": "2023-03-26T07:28:46.754Z"
   },
   {
    "duration": 46,
    "start_time": "2023-03-26T07:28:46.775Z"
   },
   {
    "duration": 37,
    "start_time": "2023-03-26T07:28:46.823Z"
   },
   {
    "duration": 5,
    "start_time": "2023-03-26T07:28:46.862Z"
   },
   {
    "duration": 20,
    "start_time": "2023-03-26T07:28:46.869Z"
   },
   {
    "duration": 4,
    "start_time": "2023-03-26T07:28:46.890Z"
   },
   {
    "duration": 1394,
    "start_time": "2023-03-26T07:28:46.896Z"
   },
   {
    "duration": 2,
    "start_time": "2023-03-26T07:28:48.292Z"
   },
   {
    "duration": 8,
    "start_time": "2023-03-26T07:28:48.296Z"
   },
   {
    "duration": 3,
    "start_time": "2023-03-26T07:28:48.305Z"
   },
   {
    "duration": 5,
    "start_time": "2023-03-26T07:28:48.309Z"
   },
   {
    "duration": 2,
    "start_time": "2023-03-26T07:28:48.316Z"
   },
   {
    "duration": 25,
    "start_time": "2023-03-26T07:28:48.319Z"
   },
   {
    "duration": 3,
    "start_time": "2023-03-26T07:28:48.346Z"
   },
   {
    "duration": 7,
    "start_time": "2023-03-26T07:28:48.350Z"
   },
   {
    "duration": 3,
    "start_time": "2023-03-26T07:28:48.358Z"
   },
   {
    "duration": 4,
    "start_time": "2023-03-26T07:28:48.363Z"
   },
   {
    "duration": 2,
    "start_time": "2023-03-26T07:28:48.369Z"
   },
   {
    "duration": 4,
    "start_time": "2023-03-26T07:28:48.372Z"
   },
   {
    "duration": 3,
    "start_time": "2023-03-26T07:28:48.378Z"
   },
   {
    "duration": 5,
    "start_time": "2023-03-26T07:28:48.382Z"
   },
   {
    "duration": 3,
    "start_time": "2023-03-26T07:28:48.388Z"
   },
   {
    "duration": 116,
    "start_time": "2023-03-26T07:28:48.392Z"
   },
   {
    "duration": 3,
    "start_time": "2023-03-26T07:28:48.509Z"
   },
   {
    "duration": 4,
    "start_time": "2023-03-26T07:28:48.515Z"
   },
   {
    "duration": 3,
    "start_time": "2023-03-26T07:28:48.547Z"
   },
   {
    "duration": 6,
    "start_time": "2023-03-26T07:28:48.552Z"
   },
   {
    "duration": 3,
    "start_time": "2023-03-26T07:28:48.559Z"
   },
   {
    "duration": 5,
    "start_time": "2023-03-26T07:28:48.564Z"
   },
   {
    "duration": 2,
    "start_time": "2023-03-26T07:28:48.570Z"
   },
   {
    "duration": 4,
    "start_time": "2023-03-26T07:28:48.574Z"
   },
   {
    "duration": 3,
    "start_time": "2023-03-26T07:28:48.579Z"
   },
   {
    "duration": 5,
    "start_time": "2023-03-26T07:28:48.583Z"
   },
   {
    "duration": 8,
    "start_time": "2023-03-26T07:28:48.590Z"
   },
   {
    "duration": 43,
    "start_time": "2023-03-26T07:28:48.599Z"
   },
   {
    "duration": 24,
    "start_time": "2023-03-26T07:28:48.644Z"
   },
   {
    "duration": 5,
    "start_time": "2023-03-26T07:28:48.670Z"
   },
   {
    "duration": 4,
    "start_time": "2023-03-26T07:28:48.677Z"
   },
   {
    "duration": 127,
    "start_time": "2023-03-26T07:28:48.682Z"
   },
   {
    "duration": 16,
    "start_time": "2023-03-26T07:28:48.810Z"
   },
   {
    "duration": 2,
    "start_time": "2023-03-26T07:29:44.487Z"
   },
   {
    "duration": 135,
    "start_time": "2023-03-26T07:29:58.415Z"
   },
   {
    "duration": 4,
    "start_time": "2023-03-26T07:30:11.382Z"
   },
   {
    "duration": 1395,
    "start_time": "2023-03-26T07:30:38.020Z"
   },
   {
    "duration": 66,
    "start_time": "2023-03-26T07:30:39.418Z"
   },
   {
    "duration": 20,
    "start_time": "2023-03-26T07:30:39.486Z"
   },
   {
    "duration": 17,
    "start_time": "2023-03-26T07:30:39.509Z"
   },
   {
    "duration": 59,
    "start_time": "2023-03-26T07:30:39.527Z"
   },
   {
    "duration": 19,
    "start_time": "2023-03-26T07:30:39.588Z"
   },
   {
    "duration": 3,
    "start_time": "2023-03-26T07:30:39.609Z"
   },
   {
    "duration": 38,
    "start_time": "2023-03-26T07:30:39.646Z"
   },
   {
    "duration": 4,
    "start_time": "2023-03-26T07:30:39.686Z"
   },
   {
    "duration": 1470,
    "start_time": "2023-03-26T07:30:39.693Z"
   },
   {
    "duration": 4,
    "start_time": "2023-03-26T07:30:41.165Z"
   },
   {
    "duration": 7,
    "start_time": "2023-03-26T07:30:41.170Z"
   },
   {
    "duration": 3,
    "start_time": "2023-03-26T07:30:41.179Z"
   },
   {
    "duration": 5,
    "start_time": "2023-03-26T07:30:41.184Z"
   },
   {
    "duration": 4,
    "start_time": "2023-03-26T07:30:41.190Z"
   },
   {
    "duration": 5,
    "start_time": "2023-03-26T07:30:41.196Z"
   },
   {
    "duration": 4,
    "start_time": "2023-03-26T07:30:41.202Z"
   },
   {
    "duration": 11,
    "start_time": "2023-03-26T07:30:41.247Z"
   },
   {
    "duration": 4,
    "start_time": "2023-03-26T07:30:41.260Z"
   },
   {
    "duration": 7,
    "start_time": "2023-03-26T07:30:41.266Z"
   },
   {
    "duration": 3,
    "start_time": "2023-03-26T07:30:41.275Z"
   },
   {
    "duration": 5,
    "start_time": "2023-03-26T07:30:41.279Z"
   },
   {
    "duration": 2,
    "start_time": "2023-03-26T07:30:41.286Z"
   },
   {
    "duration": 5,
    "start_time": "2023-03-26T07:30:41.290Z"
   },
   {
    "duration": 3,
    "start_time": "2023-03-26T07:30:41.297Z"
   },
   {
    "duration": 145,
    "start_time": "2023-03-26T07:30:41.302Z"
   },
   {
    "duration": 8,
    "start_time": "2023-03-26T07:30:41.449Z"
   },
   {
    "duration": 5,
    "start_time": "2023-03-26T07:30:41.464Z"
   },
   {
    "duration": 3,
    "start_time": "2023-03-26T07:30:41.470Z"
   },
   {
    "duration": 7,
    "start_time": "2023-03-26T07:30:41.475Z"
   },
   {
    "duration": 4,
    "start_time": "2023-03-26T07:30:41.484Z"
   },
   {
    "duration": 8,
    "start_time": "2023-03-26T07:30:41.490Z"
   },
   {
    "duration": 2,
    "start_time": "2023-03-26T07:30:41.500Z"
   },
   {
    "duration": 42,
    "start_time": "2023-03-26T07:30:41.504Z"
   },
   {
    "duration": 8,
    "start_time": "2023-03-26T07:30:41.548Z"
   },
   {
    "duration": 18,
    "start_time": "2023-03-26T07:30:41.559Z"
   },
   {
    "duration": 5,
    "start_time": "2023-03-26T07:30:41.579Z"
   },
   {
    "duration": 21,
    "start_time": "2023-03-26T07:30:41.588Z"
   },
   {
    "duration": 42,
    "start_time": "2023-03-26T07:30:41.611Z"
   },
   {
    "duration": 13,
    "start_time": "2023-03-26T07:30:41.655Z"
   },
   {
    "duration": 5,
    "start_time": "2023-03-26T07:30:41.670Z"
   },
   {
    "duration": 189,
    "start_time": "2023-03-26T07:30:41.676Z"
   },
   {
    "duration": 18,
    "start_time": "2023-03-26T07:30:41.866Z"
   },
   {
    "duration": 136,
    "start_time": "2023-03-26T07:32:11.922Z"
   },
   {
    "duration": 3,
    "start_time": "2023-03-26T07:32:44.400Z"
   },
   {
    "duration": 1349,
    "start_time": "2023-03-26T07:33:04.202Z"
   },
   {
    "duration": 66,
    "start_time": "2023-03-26T07:33:05.554Z"
   },
   {
    "duration": 15,
    "start_time": "2023-03-26T07:33:05.622Z"
   },
   {
    "duration": 33,
    "start_time": "2023-03-26T07:33:05.641Z"
   },
   {
    "duration": 35,
    "start_time": "2023-03-26T07:33:05.675Z"
   },
   {
    "duration": 19,
    "start_time": "2023-03-26T07:33:05.711Z"
   },
   {
    "duration": 12,
    "start_time": "2023-03-26T07:33:05.731Z"
   },
   {
    "duration": 36,
    "start_time": "2023-03-26T07:33:05.745Z"
   },
   {
    "duration": 4,
    "start_time": "2023-03-26T07:33:05.783Z"
   },
   {
    "duration": 1500,
    "start_time": "2023-03-26T07:33:05.791Z"
   },
   {
    "duration": 3,
    "start_time": "2023-03-26T07:33:07.292Z"
   },
   {
    "duration": 21,
    "start_time": "2023-03-26T07:33:07.297Z"
   },
   {
    "duration": 3,
    "start_time": "2023-03-26T07:33:07.320Z"
   },
   {
    "duration": 22,
    "start_time": "2023-03-26T07:33:07.325Z"
   },
   {
    "duration": 10,
    "start_time": "2023-03-26T07:33:07.349Z"
   },
   {
    "duration": 8,
    "start_time": "2023-03-26T07:33:07.361Z"
   },
   {
    "duration": 7,
    "start_time": "2023-03-26T07:33:07.371Z"
   },
   {
    "duration": 6,
    "start_time": "2023-03-26T07:33:07.380Z"
   },
   {
    "duration": 2,
    "start_time": "2023-03-26T07:33:07.388Z"
   },
   {
    "duration": 12,
    "start_time": "2023-03-26T07:33:07.392Z"
   },
   {
    "duration": 9,
    "start_time": "2023-03-26T07:33:07.406Z"
   },
   {
    "duration": 9,
    "start_time": "2023-03-26T07:33:07.416Z"
   },
   {
    "duration": 4,
    "start_time": "2023-03-26T07:33:07.439Z"
   },
   {
    "duration": 6,
    "start_time": "2023-03-26T07:33:07.445Z"
   },
   {
    "duration": 14,
    "start_time": "2023-03-26T07:33:07.453Z"
   },
   {
    "duration": 97,
    "start_time": "2023-03-26T07:33:07.469Z"
   },
   {
    "duration": 3,
    "start_time": "2023-03-26T07:33:07.569Z"
   },
   {
    "duration": 4,
    "start_time": "2023-03-26T07:33:07.576Z"
   },
   {
    "duration": 7,
    "start_time": "2023-03-26T07:33:07.582Z"
   },
   {
    "duration": 7,
    "start_time": "2023-03-26T07:33:07.590Z"
   },
   {
    "duration": 3,
    "start_time": "2023-03-26T07:33:07.599Z"
   },
   {
    "duration": 40,
    "start_time": "2023-03-26T07:33:07.603Z"
   },
   {
    "duration": 13,
    "start_time": "2023-03-26T07:33:07.644Z"
   },
   {
    "duration": 21,
    "start_time": "2023-03-26T07:33:07.659Z"
   },
   {
    "duration": 3,
    "start_time": "2023-03-26T07:33:07.682Z"
   },
   {
    "duration": 9,
    "start_time": "2023-03-26T07:33:07.686Z"
   },
   {
    "duration": 4,
    "start_time": "2023-03-26T07:33:07.696Z"
   },
   {
    "duration": 18,
    "start_time": "2023-03-26T07:33:07.702Z"
   },
   {
    "duration": 40,
    "start_time": "2023-03-26T07:33:07.722Z"
   },
   {
    "duration": 9,
    "start_time": "2023-03-26T07:33:07.763Z"
   },
   {
    "duration": 4,
    "start_time": "2023-03-26T07:33:07.773Z"
   },
   {
    "duration": 144,
    "start_time": "2023-03-26T07:33:07.778Z"
   },
   {
    "duration": 31,
    "start_time": "2023-03-26T07:33:07.924Z"
   },
   {
    "duration": 4,
    "start_time": "2023-03-26T07:33:20.882Z"
   },
   {
    "duration": 110,
    "start_time": "2023-03-26T07:35:34.847Z"
   },
   {
    "duration": 3,
    "start_time": "2023-03-26T07:39:44.779Z"
   },
   {
    "duration": 36,
    "start_time": "2023-03-26T07:48:11.697Z"
   },
   {
    "duration": 677,
    "start_time": "2023-03-26T07:48:15.539Z"
   },
   {
    "duration": 2029,
    "start_time": "2023-03-26T07:48:23.105Z"
   },
   {
    "duration": 299,
    "start_time": "2023-03-26T07:48:28.391Z"
   },
   {
    "duration": 285,
    "start_time": "2023-03-26T07:48:31.662Z"
   },
   {
    "duration": 304,
    "start_time": "2023-03-26T07:49:41.988Z"
   },
   {
    "duration": 125,
    "start_time": "2023-03-26T07:49:42.876Z"
   },
   {
    "duration": 11,
    "start_time": "2023-03-26T07:49:59.815Z"
   },
   {
    "duration": 8492,
    "start_time": "2023-03-26T07:50:06.492Z"
   },
   {
    "duration": 727595,
    "start_time": "2023-03-26T07:50:21.462Z"
   },
   {
    "duration": 0,
    "start_time": "2023-03-26T08:02:29.059Z"
   },
   {
    "duration": 5383,
    "start_time": "2023-03-26T08:02:44.344Z"
   },
   {
    "duration": 1295,
    "start_time": "2023-03-26T08:02:54.128Z"
   },
   {
    "duration": 54,
    "start_time": "2023-03-26T08:02:55.425Z"
   },
   {
    "duration": 14,
    "start_time": "2023-03-26T08:02:55.481Z"
   },
   {
    "duration": 13,
    "start_time": "2023-03-26T08:02:55.497Z"
   },
   {
    "duration": 46,
    "start_time": "2023-03-26T08:02:55.512Z"
   },
   {
    "duration": 17,
    "start_time": "2023-03-26T08:02:55.559Z"
   },
   {
    "duration": 3,
    "start_time": "2023-03-26T08:02:55.577Z"
   },
   {
    "duration": 20,
    "start_time": "2023-03-26T08:02:55.581Z"
   },
   {
    "duration": 3,
    "start_time": "2023-03-26T08:02:55.603Z"
   },
   {
    "duration": 1441,
    "start_time": "2023-03-26T08:02:55.608Z"
   },
   {
    "duration": 3,
    "start_time": "2023-03-26T08:02:57.050Z"
   },
   {
    "duration": 8,
    "start_time": "2023-03-26T08:02:57.054Z"
   },
   {
    "duration": 4,
    "start_time": "2023-03-26T08:02:57.064Z"
   },
   {
    "duration": 5,
    "start_time": "2023-03-26T08:02:57.070Z"
   },
   {
    "duration": 3,
    "start_time": "2023-03-26T08:02:57.076Z"
   },
   {
    "duration": 8,
    "start_time": "2023-03-26T08:02:57.080Z"
   },
   {
    "duration": 2,
    "start_time": "2023-03-26T08:02:57.090Z"
   },
   {
    "duration": 7,
    "start_time": "2023-03-26T08:02:57.094Z"
   },
   {
    "duration": 37,
    "start_time": "2023-03-26T08:02:57.103Z"
   },
   {
    "duration": 9,
    "start_time": "2023-03-26T08:02:57.142Z"
   },
   {
    "duration": 2,
    "start_time": "2023-03-26T08:02:57.153Z"
   },
   {
    "duration": 4,
    "start_time": "2023-03-26T08:02:57.157Z"
   },
   {
    "duration": 5,
    "start_time": "2023-03-26T08:02:57.162Z"
   },
   {
    "duration": 5,
    "start_time": "2023-03-26T08:02:57.169Z"
   },
   {
    "duration": 5,
    "start_time": "2023-03-26T08:02:57.175Z"
   },
   {
    "duration": 6,
    "start_time": "2023-03-26T08:02:57.181Z"
   },
   {
    "duration": 5,
    "start_time": "2023-03-26T08:02:57.188Z"
   },
   {
    "duration": 5,
    "start_time": "2023-03-26T08:02:57.197Z"
   },
   {
    "duration": 37,
    "start_time": "2023-03-26T08:02:57.203Z"
   },
   {
    "duration": 9,
    "start_time": "2023-03-26T08:02:57.242Z"
   },
   {
    "duration": 14,
    "start_time": "2023-03-26T08:02:57.252Z"
   },
   {
    "duration": 9,
    "start_time": "2023-03-26T08:02:57.268Z"
   },
   {
    "duration": 3,
    "start_time": "2023-03-26T08:02:57.278Z"
   },
   {
    "duration": 4,
    "start_time": "2023-03-26T08:02:57.282Z"
   },
   {
    "duration": 2,
    "start_time": "2023-03-26T08:02:57.288Z"
   },
   {
    "duration": 6,
    "start_time": "2023-03-26T08:02:57.291Z"
   },
   {
    "duration": 4,
    "start_time": "2023-03-26T08:02:57.298Z"
   },
   {
    "duration": 21,
    "start_time": "2023-03-26T08:02:57.303Z"
   },
   {
    "duration": 18,
    "start_time": "2023-03-26T08:02:57.340Z"
   },
   {
    "duration": 7,
    "start_time": "2023-03-26T08:02:57.359Z"
   },
   {
    "duration": 4,
    "start_time": "2023-03-26T08:02:57.367Z"
   },
   {
    "duration": 121,
    "start_time": "2023-03-26T08:02:57.372Z"
   },
   {
    "duration": 127,
    "start_time": "2023-03-26T08:02:57.494Z"
   },
   {
    "duration": 0,
    "start_time": "2023-03-26T08:02:57.623Z"
   },
   {
    "duration": 0,
    "start_time": "2023-03-26T08:02:57.624Z"
   },
   {
    "duration": 1366,
    "start_time": "2023-03-26T08:03:15.771Z"
   },
   {
    "duration": 54,
    "start_time": "2023-03-26T08:03:17.139Z"
   },
   {
    "duration": 15,
    "start_time": "2023-03-26T08:03:17.195Z"
   },
   {
    "duration": 13,
    "start_time": "2023-03-26T08:03:17.213Z"
   },
   {
    "duration": 37,
    "start_time": "2023-03-26T08:03:17.228Z"
   },
   {
    "duration": 27,
    "start_time": "2023-03-26T08:03:17.267Z"
   },
   {
    "duration": 3,
    "start_time": "2023-03-26T08:03:17.296Z"
   },
   {
    "duration": 44,
    "start_time": "2023-03-26T08:03:17.301Z"
   },
   {
    "duration": 3,
    "start_time": "2023-03-26T08:03:17.347Z"
   },
   {
    "duration": 1391,
    "start_time": "2023-03-26T08:03:17.353Z"
   },
   {
    "duration": 4,
    "start_time": "2023-03-26T08:03:18.746Z"
   },
   {
    "duration": 6,
    "start_time": "2023-03-26T08:03:18.752Z"
   },
   {
    "duration": 3,
    "start_time": "2023-03-26T08:03:18.759Z"
   },
   {
    "duration": 5,
    "start_time": "2023-03-26T08:03:18.764Z"
   },
   {
    "duration": 3,
    "start_time": "2023-03-26T08:03:18.770Z"
   },
   {
    "duration": 8,
    "start_time": "2023-03-26T08:03:18.774Z"
   },
   {
    "duration": 10,
    "start_time": "2023-03-26T08:03:18.783Z"
   },
   {
    "duration": 5,
    "start_time": "2023-03-26T08:03:18.795Z"
   },
   {
    "duration": 42,
    "start_time": "2023-03-26T08:03:18.801Z"
   },
   {
    "duration": 23,
    "start_time": "2023-03-26T08:03:18.845Z"
   },
   {
    "duration": 17,
    "start_time": "2023-03-26T08:03:18.869Z"
   },
   {
    "duration": 19,
    "start_time": "2023-03-26T08:03:18.888Z"
   },
   {
    "duration": 12,
    "start_time": "2023-03-26T08:03:18.909Z"
   },
   {
    "duration": 9,
    "start_time": "2023-03-26T08:03:18.923Z"
   },
   {
    "duration": 10,
    "start_time": "2023-03-26T08:03:18.934Z"
   },
   {
    "duration": 11,
    "start_time": "2023-03-26T08:03:18.945Z"
   },
   {
    "duration": 11,
    "start_time": "2023-03-26T08:03:18.958Z"
   },
   {
    "duration": 4,
    "start_time": "2023-03-26T08:03:18.972Z"
   },
   {
    "duration": 4,
    "start_time": "2023-03-26T08:03:18.977Z"
   },
   {
    "duration": 5,
    "start_time": "2023-03-26T08:03:18.982Z"
   },
   {
    "duration": 6,
    "start_time": "2023-03-26T08:03:18.988Z"
   },
   {
    "duration": 7,
    "start_time": "2023-03-26T08:03:18.995Z"
   },
   {
    "duration": 2,
    "start_time": "2023-03-26T08:03:19.004Z"
   },
   {
    "duration": 6,
    "start_time": "2023-03-26T08:03:19.008Z"
   },
   {
    "duration": 25,
    "start_time": "2023-03-26T08:03:19.015Z"
   },
   {
    "duration": 8,
    "start_time": "2023-03-26T08:03:19.042Z"
   },
   {
    "duration": 6,
    "start_time": "2023-03-26T08:03:19.052Z"
   },
   {
    "duration": 22,
    "start_time": "2023-03-26T08:03:19.059Z"
   },
   {
    "duration": 19,
    "start_time": "2023-03-26T08:03:19.083Z"
   },
   {
    "duration": 7,
    "start_time": "2023-03-26T08:03:19.104Z"
   },
   {
    "duration": 29,
    "start_time": "2023-03-26T08:03:19.113Z"
   },
   {
    "duration": 112,
    "start_time": "2023-03-26T08:03:19.143Z"
   },
   {
    "duration": 308,
    "start_time": "2023-03-26T08:03:19.257Z"
   },
   {
    "duration": 97525,
    "start_time": "2023-03-26T08:03:19.567Z"
   },
   {
    "duration": 128,
    "start_time": "2023-03-26T08:04:57.094Z"
   },
   {
    "duration": 4,
    "start_time": "2023-03-26T08:06:04.313Z"
   },
   {
    "duration": 70669,
    "start_time": "2023-03-26T08:06:08.610Z"
   },
   {
    "duration": 65249,
    "start_time": "2023-03-26T08:07:20.208Z"
   },
   {
    "duration": 4,
    "start_time": "2023-03-26T08:09:16.735Z"
   },
   {
    "duration": 4,
    "start_time": "2023-03-26T08:11:06.049Z"
   },
   {
    "duration": 13,
    "start_time": "2023-03-26T08:11:16.669Z"
   },
   {
    "duration": 24,
    "start_time": "2023-03-26T08:11:24.882Z"
   },
   {
    "duration": 21,
    "start_time": "2023-03-26T08:11:27.228Z"
   },
   {
    "duration": 44,
    "start_time": "2023-03-26T08:12:34.570Z"
   },
   {
    "duration": 42,
    "start_time": "2023-03-26T08:12:37.715Z"
   },
   {
    "duration": 45,
    "start_time": "2023-03-26T08:12:50.223Z"
   },
   {
    "duration": 1431,
    "start_time": "2023-03-26T08:13:22.713Z"
   },
   {
    "duration": 1350,
    "start_time": "2023-03-26T08:13:31.499Z"
   },
   {
    "duration": 55,
    "start_time": "2023-03-26T08:13:32.852Z"
   },
   {
    "duration": 14,
    "start_time": "2023-03-26T08:13:32.908Z"
   },
   {
    "duration": 13,
    "start_time": "2023-03-26T08:13:32.924Z"
   },
   {
    "duration": 38,
    "start_time": "2023-03-26T08:13:32.938Z"
   },
   {
    "duration": 16,
    "start_time": "2023-03-26T08:13:32.978Z"
   },
   {
    "duration": 4,
    "start_time": "2023-03-26T08:13:32.995Z"
   },
   {
    "duration": 43,
    "start_time": "2023-03-26T08:13:33.000Z"
   },
   {
    "duration": 4,
    "start_time": "2023-03-26T08:13:33.045Z"
   },
   {
    "duration": 1374,
    "start_time": "2023-03-26T08:13:33.052Z"
   },
   {
    "duration": 12,
    "start_time": "2023-03-26T08:13:34.428Z"
   },
   {
    "duration": 5,
    "start_time": "2023-03-26T08:13:34.442Z"
   },
   {
    "duration": 4,
    "start_time": "2023-03-26T08:13:34.448Z"
   },
   {
    "duration": 6,
    "start_time": "2023-03-26T08:13:34.454Z"
   },
   {
    "duration": 3,
    "start_time": "2023-03-26T08:13:34.462Z"
   },
   {
    "duration": 6,
    "start_time": "2023-03-26T08:13:34.467Z"
   },
   {
    "duration": 28,
    "start_time": "2023-03-26T08:13:34.474Z"
   },
   {
    "duration": 12,
    "start_time": "2023-03-26T08:13:34.504Z"
   },
   {
    "duration": 3,
    "start_time": "2023-03-26T08:13:34.518Z"
   },
   {
    "duration": 25,
    "start_time": "2023-03-26T08:13:34.522Z"
   },
   {
    "duration": 14,
    "start_time": "2023-03-26T08:13:34.549Z"
   },
   {
    "duration": 21,
    "start_time": "2023-03-26T08:13:34.564Z"
   },
   {
    "duration": 3,
    "start_time": "2023-03-26T08:13:34.587Z"
   },
   {
    "duration": 6,
    "start_time": "2023-03-26T08:13:34.591Z"
   },
   {
    "duration": 3,
    "start_time": "2023-03-26T08:13:34.598Z"
   },
   {
    "duration": 5,
    "start_time": "2023-03-26T08:13:34.602Z"
   },
   {
    "duration": 3,
    "start_time": "2023-03-26T08:13:34.608Z"
   },
   {
    "duration": 4,
    "start_time": "2023-03-26T08:13:34.614Z"
   },
   {
    "duration": 4,
    "start_time": "2023-03-26T08:13:34.639Z"
   },
   {
    "duration": 12,
    "start_time": "2023-03-26T08:13:34.645Z"
   },
   {
    "duration": 5,
    "start_time": "2023-03-26T08:13:34.659Z"
   },
   {
    "duration": 5,
    "start_time": "2023-03-26T08:13:34.666Z"
   },
   {
    "duration": 3,
    "start_time": "2023-03-26T08:13:34.673Z"
   },
   {
    "duration": 6,
    "start_time": "2023-03-26T08:13:34.677Z"
   },
   {
    "duration": 2,
    "start_time": "2023-03-26T08:13:34.685Z"
   },
   {
    "duration": 9,
    "start_time": "2023-03-26T08:13:34.689Z"
   },
   {
    "duration": 9,
    "start_time": "2023-03-26T08:13:34.700Z"
   },
   {
    "duration": 53,
    "start_time": "2023-03-26T08:13:34.710Z"
   },
   {
    "duration": 20,
    "start_time": "2023-03-26T08:13:34.765Z"
   },
   {
    "duration": 6,
    "start_time": "2023-03-26T08:13:34.788Z"
   },
   {
    "duration": 4,
    "start_time": "2023-03-26T08:13:34.796Z"
   },
   {
    "duration": 152,
    "start_time": "2023-03-26T08:13:34.802Z"
   },
   {
    "duration": 320,
    "start_time": "2023-03-26T08:13:34.956Z"
   },
   {
    "duration": 101225,
    "start_time": "2023-03-26T08:13:35.278Z"
   },
   {
    "duration": 24,
    "start_time": "2023-03-26T08:15:16.516Z"
   },
   {
    "duration": 54,
    "start_time": "2023-03-26T08:15:16.542Z"
   },
   {
    "duration": 1442,
    "start_time": "2023-03-26T08:15:16.598Z"
   },
   {
    "duration": 131,
    "start_time": "2023-03-26T08:30:25.451Z"
   },
   {
    "duration": 3,
    "start_time": "2023-03-26T08:30:27.310Z"
   },
   {
    "duration": 25,
    "start_time": "2023-03-26T08:31:31.568Z"
   },
   {
    "duration": 44,
    "start_time": "2023-03-26T08:31:40.104Z"
   },
   {
    "duration": 1619,
    "start_time": "2023-03-26T08:31:41.930Z"
   },
   {
    "duration": 22,
    "start_time": "2023-03-26T08:31:58.980Z"
   },
   {
    "duration": 41,
    "start_time": "2023-03-26T08:31:59.161Z"
   },
   {
    "duration": 306,
    "start_time": "2023-03-26T08:31:59.737Z"
   },
   {
    "duration": 24,
    "start_time": "2023-03-26T08:32:33.494Z"
   },
   {
    "duration": 51,
    "start_time": "2023-03-26T08:32:33.929Z"
   },
   {
    "duration": 3280,
    "start_time": "2023-03-26T08:32:35.768Z"
   },
   {
    "duration": 3,
    "start_time": "2023-03-26T08:37:29.799Z"
   },
   {
    "duration": 6,
    "start_time": "2023-03-26T08:39:57.425Z"
   },
   {
    "duration": 11,
    "start_time": "2023-03-26T08:41:46.408Z"
   },
   {
    "duration": 7,
    "start_time": "2023-03-26T08:41:51.742Z"
   },
   {
    "duration": 5,
    "start_time": "2023-03-26T08:42:21.519Z"
   },
   {
    "duration": 7,
    "start_time": "2023-03-26T08:42:39.674Z"
   },
   {
    "duration": 6,
    "start_time": "2023-03-26T08:42:43.961Z"
   },
   {
    "duration": 5,
    "start_time": "2023-03-26T08:42:58.625Z"
   },
   {
    "duration": 7,
    "start_time": "2023-03-26T08:43:01.258Z"
   },
   {
    "duration": 40,
    "start_time": "2023-03-26T08:48:04.656Z"
   },
   {
    "duration": 42,
    "start_time": "2023-03-26T08:48:23.240Z"
   },
   {
    "duration": 6,
    "start_time": "2023-03-26T08:48:24.088Z"
   },
   {
    "duration": 3,
    "start_time": "2023-03-26T08:51:04.064Z"
   },
   {
    "duration": 20,
    "start_time": "2023-03-26T08:53:01.384Z"
   },
   {
    "duration": 3,
    "start_time": "2023-03-26T08:53:27.809Z"
   },
   {
    "duration": 81,
    "start_time": "2023-03-26T08:53:30.688Z"
   },
   {
    "duration": 71,
    "start_time": "2023-03-26T08:53:39.699Z"
   },
   {
    "duration": 89,
    "start_time": "2023-03-26T08:55:23.852Z"
   },
   {
    "duration": 96,
    "start_time": "2023-03-26T08:55:28.446Z"
   },
   {
    "duration": 75,
    "start_time": "2023-03-26T08:55:39.205Z"
   },
   {
    "duration": 83,
    "start_time": "2023-03-26T08:55:58.497Z"
   },
   {
    "duration": 73,
    "start_time": "2023-03-26T08:56:15.877Z"
   },
   {
    "duration": 75,
    "start_time": "2023-03-26T08:56:35.028Z"
   },
   {
    "duration": 49,
    "start_time": "2023-03-26T08:57:40.735Z"
   },
   {
    "duration": 4,
    "start_time": "2023-03-26T09:36:32.685Z"
   },
   {
    "duration": 97,
    "start_time": "2023-03-26T09:36:33.172Z"
   },
   {
    "duration": 83,
    "start_time": "2023-03-26T09:36:34.733Z"
   },
   {
    "duration": 52,
    "start_time": "2023-03-26T09:36:35.313Z"
   },
   {
    "duration": 42,
    "start_time": "2023-03-26T09:37:05.161Z"
   },
   {
    "duration": 4,
    "start_time": "2023-03-26T09:37:28.021Z"
   },
   {
    "duration": 4,
    "start_time": "2023-03-26T09:37:52.994Z"
   },
   {
    "duration": 3,
    "start_time": "2023-03-26T09:38:08.772Z"
   },
   {
    "duration": 26,
    "start_time": "2023-03-26T09:38:09.172Z"
   },
   {
    "duration": 35,
    "start_time": "2023-03-26T09:38:09.672Z"
   },
   {
    "duration": 24,
    "start_time": "2023-03-26T09:38:10.227Z"
   },
   {
    "duration": 22,
    "start_time": "2023-03-26T09:39:21.468Z"
   },
   {
    "duration": 24,
    "start_time": "2023-03-26T09:45:31.014Z"
   },
   {
    "duration": 24,
    "start_time": "2023-03-26T09:45:57.072Z"
   },
   {
    "duration": 47,
    "start_time": "2023-03-26T09:48:38.786Z"
   },
   {
    "duration": 4,
    "start_time": "2023-03-26T09:48:40.867Z"
   },
   {
    "duration": 23,
    "start_time": "2023-03-26T09:49:04.403Z"
   },
   {
    "duration": 39,
    "start_time": "2023-03-26T09:49:06.326Z"
   },
   {
    "duration": 128,
    "start_time": "2023-03-26T09:49:25.603Z"
   },
   {
    "duration": 162,
    "start_time": "2023-03-26T09:50:16.771Z"
   },
   {
    "duration": 17,
    "start_time": "2023-03-26T09:51:51.664Z"
   },
   {
    "duration": 148,
    "start_time": "2023-03-26T09:52:06.505Z"
   },
   {
    "duration": 118,
    "start_time": "2023-03-26T09:52:12.767Z"
   },
   {
    "duration": 29,
    "start_time": "2023-03-26T09:52:51.038Z"
   },
   {
    "duration": 76,
    "start_time": "2023-03-26T09:52:55.990Z"
   },
   {
    "duration": 113,
    "start_time": "2023-03-26T09:52:58.359Z"
   },
   {
    "duration": 278,
    "start_time": "2023-03-26T09:53:08.397Z"
   },
   {
    "duration": 138,
    "start_time": "2023-03-26T09:53:11.230Z"
   },
   {
    "duration": 128,
    "start_time": "2023-03-26T09:53:16.477Z"
   },
   {
    "duration": 116,
    "start_time": "2023-03-26T09:54:30.084Z"
   },
   {
    "duration": 1451,
    "start_time": "2023-03-26T10:04:12.268Z"
   },
   {
    "duration": 71,
    "start_time": "2023-03-26T10:04:13.721Z"
   },
   {
    "duration": 14,
    "start_time": "2023-03-26T10:04:13.794Z"
   },
   {
    "duration": 13,
    "start_time": "2023-03-26T10:04:13.810Z"
   },
   {
    "duration": 55,
    "start_time": "2023-03-26T10:04:13.824Z"
   },
   {
    "duration": 24,
    "start_time": "2023-03-26T10:04:13.882Z"
   },
   {
    "duration": 4,
    "start_time": "2023-03-26T10:04:13.908Z"
   },
   {
    "duration": 59,
    "start_time": "2023-03-26T10:04:13.913Z"
   },
   {
    "duration": 4,
    "start_time": "2023-03-26T10:04:13.974Z"
   },
   {
    "duration": 1520,
    "start_time": "2023-03-26T10:04:13.980Z"
   },
   {
    "duration": 3,
    "start_time": "2023-03-26T10:04:15.505Z"
   },
   {
    "duration": 23,
    "start_time": "2023-03-26T10:04:15.510Z"
   },
   {
    "duration": 26,
    "start_time": "2023-03-26T10:04:15.535Z"
   },
   {
    "duration": 10,
    "start_time": "2023-03-26T10:04:15.566Z"
   },
   {
    "duration": 3,
    "start_time": "2023-03-26T10:04:15.579Z"
   },
   {
    "duration": 12,
    "start_time": "2023-03-26T10:04:15.584Z"
   },
   {
    "duration": 3,
    "start_time": "2023-03-26T10:04:15.598Z"
   },
   {
    "duration": 4,
    "start_time": "2023-03-26T10:04:15.603Z"
   },
   {
    "duration": 3,
    "start_time": "2023-03-26T10:04:15.609Z"
   },
   {
    "duration": 4,
    "start_time": "2023-03-26T10:04:15.614Z"
   },
   {
    "duration": 3,
    "start_time": "2023-03-26T10:04:15.620Z"
   },
   {
    "duration": 22,
    "start_time": "2023-03-26T10:04:15.624Z"
   },
   {
    "duration": 8,
    "start_time": "2023-03-26T10:04:15.648Z"
   },
   {
    "duration": 8,
    "start_time": "2023-03-26T10:04:15.658Z"
   },
   {
    "duration": 4,
    "start_time": "2023-03-26T10:04:15.669Z"
   },
   {
    "duration": 7,
    "start_time": "2023-03-26T10:04:15.676Z"
   },
   {
    "duration": 4,
    "start_time": "2023-03-26T10:04:15.685Z"
   },
   {
    "duration": 5,
    "start_time": "2023-03-26T10:04:15.692Z"
   },
   {
    "duration": 4,
    "start_time": "2023-03-26T10:04:15.699Z"
   },
   {
    "duration": 6,
    "start_time": "2023-03-26T10:04:15.741Z"
   },
   {
    "duration": 3,
    "start_time": "2023-03-26T10:04:15.749Z"
   },
   {
    "duration": 5,
    "start_time": "2023-03-26T10:04:15.754Z"
   },
   {
    "duration": 7,
    "start_time": "2023-03-26T10:04:15.761Z"
   },
   {
    "duration": 5,
    "start_time": "2023-03-26T10:04:15.770Z"
   },
   {
    "duration": 3,
    "start_time": "2023-03-26T10:04:15.777Z"
   },
   {
    "duration": 8,
    "start_time": "2023-03-26T10:04:15.782Z"
   },
   {
    "duration": 48,
    "start_time": "2023-03-26T10:04:15.793Z"
   },
   {
    "duration": 37,
    "start_time": "2023-03-26T10:04:15.843Z"
   },
   {
    "duration": 37,
    "start_time": "2023-03-26T10:04:15.882Z"
   },
   {
    "duration": 31,
    "start_time": "2023-03-26T10:04:15.921Z"
   },
   {
    "duration": 10,
    "start_time": "2023-03-26T10:04:15.954Z"
   },
   {
    "duration": 215,
    "start_time": "2023-03-26T10:04:15.967Z"
   },
   {
    "duration": 357,
    "start_time": "2023-03-26T10:04:16.185Z"
   },
   {
    "duration": 106645,
    "start_time": "2023-03-26T10:04:16.545Z"
   },
   {
    "duration": 24,
    "start_time": "2023-03-26T10:06:03.191Z"
   },
   {
    "duration": 83,
    "start_time": "2023-03-26T10:06:03.217Z"
   },
   {
    "duration": 1054,
    "start_time": "2023-03-26T10:06:03.303Z"
   },
   {
    "duration": 20,
    "start_time": "2023-03-26T10:06:04.359Z"
   },
   {
    "duration": 14,
    "start_time": "2023-03-26T10:06:04.444Z"
   },
   {
    "duration": 10,
    "start_time": "2023-03-26T10:06:04.467Z"
   },
   {
    "duration": 11,
    "start_time": "2023-03-26T10:06:04.479Z"
   },
   {
    "duration": 149,
    "start_time": "2023-03-26T10:06:04.492Z"
   },
   {
    "duration": 194,
    "start_time": "2023-03-26T10:06:04.643Z"
   },
   {
    "duration": 62,
    "start_time": "2023-03-26T10:06:04.840Z"
   },
   {
    "duration": 4,
    "start_time": "2023-03-26T10:06:04.904Z"
   },
   {
    "duration": 69,
    "start_time": "2023-03-26T10:06:04.910Z"
   },
   {
    "duration": 132,
    "start_time": "2023-03-26T10:06:04.981Z"
   },
   {
    "duration": 46,
    "start_time": "2023-03-26T10:06:05.141Z"
   },
   {
    "duration": 25,
    "start_time": "2023-03-26T10:06:05.189Z"
   },
   {
    "duration": 159,
    "start_time": "2023-03-26T10:06:05.216Z"
   },
   {
    "duration": 51,
    "start_time": "2023-03-28T02:40:07.982Z"
   },
   {
    "duration": 1819,
    "start_time": "2023-03-28T02:40:17.943Z"
   },
   {
    "duration": 189,
    "start_time": "2023-03-28T02:40:20.325Z"
   },
   {
    "duration": 13,
    "start_time": "2023-03-28T02:40:20.691Z"
   },
   {
    "duration": 12,
    "start_time": "2023-03-28T02:40:21.031Z"
   },
   {
    "duration": 41,
    "start_time": "2023-03-28T02:40:21.347Z"
   },
   {
    "duration": 16,
    "start_time": "2023-03-28T02:40:21.652Z"
   },
   {
    "duration": 4,
    "start_time": "2023-03-28T02:40:21.988Z"
   },
   {
    "duration": 24,
    "start_time": "2023-03-28T02:40:23.067Z"
   },
   {
    "duration": 4,
    "start_time": "2023-03-28T02:40:23.736Z"
   },
   {
    "duration": 1343,
    "start_time": "2023-03-28T02:40:24.266Z"
   },
   {
    "duration": 2,
    "start_time": "2023-03-28T02:40:26.423Z"
   },
   {
    "duration": 4,
    "start_time": "2023-03-28T02:40:27.370Z"
   },
   {
    "duration": 3,
    "start_time": "2023-03-28T02:40:27.634Z"
   },
   {
    "duration": 4,
    "start_time": "2023-03-28T02:40:28.411Z"
   },
   {
    "duration": 2,
    "start_time": "2023-03-28T02:40:28.929Z"
   },
   {
    "duration": 4,
    "start_time": "2023-03-28T02:40:29.520Z"
   },
   {
    "duration": 4,
    "start_time": "2023-03-28T02:40:29.745Z"
   },
   {
    "duration": 4,
    "start_time": "2023-03-28T02:40:30.544Z"
   },
   {
    "duration": 3,
    "start_time": "2023-03-28T02:40:30.885Z"
   },
   {
    "duration": 4,
    "start_time": "2023-03-28T02:40:31.624Z"
   },
   {
    "duration": 3,
    "start_time": "2023-03-28T02:40:31.962Z"
   },
   {
    "duration": 4,
    "start_time": "2023-03-28T02:40:33.016Z"
   },
   {
    "duration": 3,
    "start_time": "2023-03-28T02:40:33.376Z"
   },
   {
    "duration": 4,
    "start_time": "2023-03-28T02:40:34.209Z"
   },
   {
    "duration": 2,
    "start_time": "2023-03-28T02:40:34.364Z"
   },
   {
    "duration": 4,
    "start_time": "2023-03-28T02:40:34.688Z"
   },
   {
    "duration": 3,
    "start_time": "2023-03-28T02:40:34.849Z"
   },
   {
    "duration": 4,
    "start_time": "2023-03-28T02:40:35.179Z"
   },
   {
    "duration": 3,
    "start_time": "2023-03-28T02:40:35.353Z"
   },
   {
    "duration": 4,
    "start_time": "2023-03-28T02:40:35.684Z"
   },
   {
    "duration": 3,
    "start_time": "2023-03-28T02:40:35.841Z"
   },
   {
    "duration": 4,
    "start_time": "2023-03-28T02:40:36.173Z"
   },
   {
    "duration": 3,
    "start_time": "2023-03-28T02:40:36.322Z"
   },
   {
    "duration": 5,
    "start_time": "2023-03-28T02:40:36.909Z"
   },
   {
    "duration": 2,
    "start_time": "2023-03-28T02:40:37.073Z"
   },
   {
    "duration": 4,
    "start_time": "2023-03-28T02:40:37.250Z"
   },
   {
    "duration": 4,
    "start_time": "2023-03-28T02:40:39.026Z"
   },
   {
    "duration": 2,
    "start_time": "2023-03-28T02:40:50.519Z"
   },
   {
    "duration": 16,
    "start_time": "2023-03-28T02:40:52.143Z"
   },
   {
    "duration": 7,
    "start_time": "2023-03-28T02:40:58.919Z"
   },
   {
    "duration": 67,
    "start_time": "2023-03-28T02:42:38.824Z"
   },
   {
    "duration": 9,
    "start_time": "2023-03-28T02:42:43.817Z"
   },
   {
    "duration": 20,
    "start_time": "2023-03-28T02:43:12.437Z"
   },
   {
    "duration": 4,
    "start_time": "2023-03-28T02:43:16.772Z"
   },
   {
    "duration": 4,
    "start_time": "2023-03-28T02:43:19.308Z"
   },
   {
    "duration": 18,
    "start_time": "2023-03-28T02:43:36.166Z"
   },
   {
    "duration": 18,
    "start_time": "2023-03-28T02:44:15.859Z"
   },
   {
    "duration": 4,
    "start_time": "2023-03-28T02:44:16.258Z"
   },
   {
    "duration": 97,
    "start_time": "2023-03-28T02:44:16.789Z"
   },
   {
    "duration": 234,
    "start_time": "2023-03-28T02:46:56.075Z"
   },
   {
    "duration": 279,
    "start_time": "2023-03-28T02:46:58.486Z"
   },
   {
    "duration": 89107,
    "start_time": "2023-03-28T02:47:00.753Z"
   },
   {
    "duration": 21,
    "start_time": "2023-03-28T02:51:54.357Z"
   },
   {
    "duration": 4,
    "start_time": "2023-03-28T02:51:58.393Z"
   },
   {
    "duration": 10,
    "start_time": "2023-03-28T02:52:06.523Z"
   },
   {
    "duration": 4,
    "start_time": "2023-03-28T02:52:48.434Z"
   },
   {
    "duration": 7,
    "start_time": "2023-03-28T02:53:09.074Z"
   },
   {
    "duration": 7,
    "start_time": "2023-03-28T02:53:16.457Z"
   },
   {
    "duration": 6,
    "start_time": "2023-03-28T02:53:28.053Z"
   },
   {
    "duration": 6,
    "start_time": "2023-03-28T02:53:35.354Z"
   },
   {
    "duration": 6,
    "start_time": "2023-03-28T02:53:44.097Z"
   },
   {
    "duration": 10,
    "start_time": "2023-03-28T02:53:51.754Z"
   },
   {
    "duration": 6,
    "start_time": "2023-03-28T02:53:55.743Z"
   },
   {
    "duration": 21,
    "start_time": "2023-03-28T02:56:44.131Z"
   },
   {
    "duration": 47,
    "start_time": "2023-03-28T02:57:24.394Z"
   },
   {
    "duration": 663,
    "start_time": "2023-03-28T02:57:49.922Z"
   },
   {
    "duration": 631,
    "start_time": "2023-03-28T02:58:05.453Z"
   },
   {
    "duration": 6,
    "start_time": "2023-03-28T02:58:11.997Z"
   },
   {
    "duration": 6,
    "start_time": "2023-03-28T02:58:12.753Z"
   },
   {
    "duration": 6,
    "start_time": "2023-03-28T02:58:13.343Z"
   },
   {
    "duration": 13,
    "start_time": "2023-03-28T02:58:46.231Z"
   },
   {
    "duration": 104,
    "start_time": "2023-03-28T02:59:03.884Z"
   },
   {
    "duration": 66,
    "start_time": "2023-03-28T02:59:04.842Z"
   },
   {
    "duration": 32,
    "start_time": "2023-03-28T02:59:08.651Z"
   },
   {
    "duration": 10,
    "start_time": "2023-03-28T03:00:31.913Z"
   },
   {
    "duration": 26,
    "start_time": "2023-03-28T03:00:35.210Z"
   },
   {
    "duration": 31,
    "start_time": "2023-03-28T03:00:35.579Z"
   },
   {
    "duration": 16,
    "start_time": "2023-03-28T03:00:36.090Z"
   },
   {
    "duration": 10,
    "start_time": "2023-03-28T03:01:22.031Z"
   },
   {
    "duration": 23,
    "start_time": "2023-03-28T03:01:22.814Z"
   },
   {
    "duration": 32,
    "start_time": "2023-03-28T03:01:23.554Z"
   },
   {
    "duration": 17,
    "start_time": "2023-03-28T03:01:24.116Z"
   },
   {
    "duration": 10,
    "start_time": "2023-03-28T03:01:33.344Z"
   },
   {
    "duration": 23,
    "start_time": "2023-03-28T03:01:34.040Z"
   },
   {
    "duration": 30,
    "start_time": "2023-03-28T03:01:34.631Z"
   },
   {
    "duration": 16,
    "start_time": "2023-03-28T03:01:35.177Z"
   },
   {
    "duration": 11,
    "start_time": "2023-03-28T03:01:40.191Z"
   },
   {
    "duration": 22,
    "start_time": "2023-03-28T03:01:40.672Z"
   },
   {
    "duration": 33,
    "start_time": "2023-03-28T03:01:40.979Z"
   },
   {
    "duration": 17,
    "start_time": "2023-03-28T03:01:41.344Z"
   },
   {
    "duration": 11,
    "start_time": "2023-03-28T03:02:56.039Z"
   },
   {
    "duration": 42,
    "start_time": "2023-03-28T03:02:57.271Z"
   },
   {
    "duration": 50,
    "start_time": "2023-03-28T03:02:58.070Z"
   },
   {
    "duration": 26,
    "start_time": "2023-03-28T03:02:58.785Z"
   },
   {
    "duration": 11,
    "start_time": "2023-03-28T03:03:11.194Z"
   },
   {
    "duration": 22,
    "start_time": "2023-03-28T03:03:17.418Z"
   },
   {
    "duration": 31,
    "start_time": "2023-03-28T03:03:17.926Z"
   },
   {
    "duration": 15,
    "start_time": "2023-03-28T03:03:18.467Z"
   },
   {
    "duration": 15,
    "start_time": "2023-03-28T03:04:53.217Z"
   },
   {
    "duration": 108,
    "start_time": "2023-03-28T03:05:47.181Z"
   },
   {
    "duration": 52,
    "start_time": "2023-03-28T03:06:22.130Z"
   },
   {
    "duration": 36,
    "start_time": "2023-03-28T03:06:32.661Z"
   },
   {
    "duration": 18,
    "start_time": "2023-03-28T03:06:41.180Z"
   },
   {
    "duration": 23,
    "start_time": "2023-03-28T03:06:53.208Z"
   },
   {
    "duration": 36,
    "start_time": "2023-03-28T03:07:03.690Z"
   },
   {
    "duration": 20,
    "start_time": "2023-03-28T03:07:11.287Z"
   },
   {
    "duration": 18,
    "start_time": "2023-03-28T03:07:48.450Z"
   },
   {
    "duration": 107,
    "start_time": "2023-03-28T03:08:28.978Z"
   },
   {
    "duration": 5,
    "start_time": "2023-03-28T03:08:38.534Z"
   },
   {
    "duration": 10,
    "start_time": "2023-03-28T03:08:50.485Z"
   },
   {
    "duration": 114,
    "start_time": "2023-03-28T03:09:03.288Z"
   },
   {
    "duration": 102,
    "start_time": "2023-03-28T03:09:33.411Z"
   },
   {
    "duration": 10,
    "start_time": "2023-03-28T03:10:34.937Z"
   },
   {
    "duration": 496,
    "start_time": "2023-03-28T03:10:42.176Z"
   },
   {
    "duration": 5,
    "start_time": "2023-03-28T03:11:17.098Z"
   },
   {
    "duration": 4,
    "start_time": "2023-03-28T03:11:39.867Z"
   },
   {
    "duration": 4,
    "start_time": "2023-03-28T03:11:41.211Z"
   },
   {
    "duration": 17,
    "start_time": "2023-03-28T03:11:42.391Z"
   },
   {
    "duration": 13,
    "start_time": "2023-03-28T03:11:54.836Z"
   },
   {
    "duration": 9,
    "start_time": "2023-03-28T03:12:10.374Z"
   },
   {
    "duration": 109,
    "start_time": "2023-03-28T03:12:58.536Z"
   },
   {
    "duration": 107,
    "start_time": "2023-03-28T03:13:07.386Z"
   },
   {
    "duration": 94,
    "start_time": "2023-03-28T03:13:36.479Z"
   },
   {
    "duration": 93,
    "start_time": "2023-03-28T03:13:43.666Z"
   },
   {
    "duration": 9,
    "start_time": "2023-03-28T03:14:42.758Z"
   },
   {
    "duration": 185,
    "start_time": "2023-03-28T03:14:49.311Z"
   },
   {
    "duration": 188,
    "start_time": "2023-03-28T03:14:59.588Z"
   },
   {
    "duration": 3,
    "start_time": "2023-03-28T03:15:38.242Z"
   },
   {
    "duration": 4,
    "start_time": "2023-03-28T03:15:41.646Z"
   },
   {
    "duration": 102,
    "start_time": "2023-03-28T03:15:58.114Z"
   },
   {
    "duration": 107,
    "start_time": "2023-03-28T03:16:55.224Z"
   },
   {
    "duration": 118,
    "start_time": "2023-03-28T03:17:04.608Z"
   },
   {
    "duration": 119,
    "start_time": "2023-03-28T03:17:08.177Z"
   },
   {
    "duration": 107,
    "start_time": "2023-03-28T03:17:27.894Z"
   },
   {
    "duration": 118,
    "start_time": "2023-03-28T03:17:31.071Z"
   },
   {
    "duration": 103,
    "start_time": "2023-03-28T03:18:51.990Z"
   },
   {
    "duration": 110,
    "start_time": "2023-03-28T03:19:08.582Z"
   },
   {
    "duration": 117,
    "start_time": "2023-03-28T03:19:38.023Z"
   },
   {
    "duration": 106,
    "start_time": "2023-03-28T03:19:41.151Z"
   },
   {
    "duration": 101,
    "start_time": "2023-03-28T03:19:42.252Z"
   },
   {
    "duration": 5,
    "start_time": "2023-03-28T03:19:50.820Z"
   },
   {
    "duration": 3,
    "start_time": "2023-03-28T03:19:54.259Z"
   },
   {
    "duration": 11,
    "start_time": "2023-03-28T03:20:00.771Z"
   },
   {
    "duration": 107,
    "start_time": "2023-03-28T03:20:07.792Z"
   },
   {
    "duration": 145,
    "start_time": "2023-03-28T03:22:03.733Z"
   },
   {
    "duration": 1434,
    "start_time": "2023-03-28T03:22:25.321Z"
   },
   {
    "duration": 55,
    "start_time": "2023-03-28T03:22:26.757Z"
   },
   {
    "duration": 14,
    "start_time": "2023-03-28T03:22:26.813Z"
   },
   {
    "duration": 17,
    "start_time": "2023-03-28T03:22:26.828Z"
   },
   {
    "duration": 62,
    "start_time": "2023-03-28T03:22:26.846Z"
   },
   {
    "duration": 15,
    "start_time": "2023-03-28T03:22:26.910Z"
   },
   {
    "duration": 3,
    "start_time": "2023-03-28T03:22:26.927Z"
   },
   {
    "duration": 48,
    "start_time": "2023-03-28T03:22:26.932Z"
   },
   {
    "duration": 3,
    "start_time": "2023-03-28T03:22:26.982Z"
   },
   {
    "duration": 1341,
    "start_time": "2023-03-28T03:22:26.987Z"
   },
   {
    "duration": 4,
    "start_time": "2023-03-28T03:22:28.330Z"
   },
   {
    "duration": 8,
    "start_time": "2023-03-28T03:22:28.335Z"
   },
   {
    "duration": 8,
    "start_time": "2023-03-28T03:22:28.345Z"
   },
   {
    "duration": 12,
    "start_time": "2023-03-28T03:22:28.354Z"
   },
   {
    "duration": 16,
    "start_time": "2023-03-28T03:22:28.367Z"
   },
   {
    "duration": 5,
    "start_time": "2023-03-28T03:22:28.384Z"
   },
   {
    "duration": 5,
    "start_time": "2023-03-28T03:22:28.390Z"
   },
   {
    "duration": 9,
    "start_time": "2023-03-28T03:22:28.397Z"
   },
   {
    "duration": 22,
    "start_time": "2023-03-28T03:22:28.408Z"
   },
   {
    "duration": 6,
    "start_time": "2023-03-28T03:22:28.432Z"
   },
   {
    "duration": 4,
    "start_time": "2023-03-28T03:22:28.440Z"
   },
   {
    "duration": 10,
    "start_time": "2023-03-28T03:22:28.445Z"
   },
   {
    "duration": 11,
    "start_time": "2023-03-28T03:22:28.457Z"
   },
   {
    "duration": 8,
    "start_time": "2023-03-28T03:22:28.470Z"
   },
   {
    "duration": 5,
    "start_time": "2023-03-28T03:22:28.480Z"
   },
   {
    "duration": 17,
    "start_time": "2023-03-28T03:22:28.486Z"
   },
   {
    "duration": 24,
    "start_time": "2023-03-28T03:22:28.504Z"
   },
   {
    "duration": 6,
    "start_time": "2023-03-28T03:22:28.532Z"
   },
   {
    "duration": 17,
    "start_time": "2023-03-28T03:22:28.540Z"
   },
   {
    "duration": 20,
    "start_time": "2023-03-28T03:22:28.559Z"
   },
   {
    "duration": 9,
    "start_time": "2023-03-28T03:22:28.581Z"
   },
   {
    "duration": 11,
    "start_time": "2023-03-28T03:22:28.591Z"
   },
   {
    "duration": 11,
    "start_time": "2023-03-28T03:22:28.604Z"
   },
   {
    "duration": 6,
    "start_time": "2023-03-28T03:22:28.616Z"
   },
   {
    "duration": 15,
    "start_time": "2023-03-28T03:22:28.624Z"
   },
   {
    "duration": 15,
    "start_time": "2023-03-28T03:22:28.640Z"
   },
   {
    "duration": 15,
    "start_time": "2023-03-28T03:22:28.657Z"
   },
   {
    "duration": 7,
    "start_time": "2023-03-28T03:22:28.674Z"
   },
   {
    "duration": 21,
    "start_time": "2023-03-28T03:22:28.683Z"
   },
   {
    "duration": 6,
    "start_time": "2023-03-28T03:22:28.706Z"
   },
   {
    "duration": 28,
    "start_time": "2023-03-28T03:22:28.713Z"
   },
   {
    "duration": 8,
    "start_time": "2023-03-28T03:22:28.743Z"
   },
   {
    "duration": 113,
    "start_time": "2023-03-28T03:22:28.753Z"
   },
   {
    "duration": 278,
    "start_time": "2023-03-28T03:22:28.867Z"
   },
   {
    "duration": 89637,
    "start_time": "2023-03-28T03:22:29.147Z"
   },
   {
    "duration": 22,
    "start_time": "2023-03-28T03:23:58.786Z"
   },
   {
    "duration": 42,
    "start_time": "2023-03-28T03:23:58.809Z"
   },
   {
    "duration": 536,
    "start_time": "2023-03-28T03:23:58.852Z"
   },
   {
    "duration": 98,
    "start_time": "2023-03-28T03:23:59.390Z"
   },
   {
    "duration": 94,
    "start_time": "2023-03-28T03:23:59.490Z"
   },
   {
    "duration": 6,
    "start_time": "2023-03-28T03:23:59.586Z"
   },
   {
    "duration": 40,
    "start_time": "2023-03-28T03:23:59.594Z"
   },
   {
    "duration": 148,
    "start_time": "2023-03-28T03:23:59.636Z"
   },
   {
    "duration": 145,
    "start_time": "2023-03-28T03:23:59.787Z"
   },
   {
    "duration": 26,
    "start_time": "2023-03-28T03:23:59.933Z"
   },
   {
    "duration": 31,
    "start_time": "2023-03-28T03:23:59.961Z"
   },
   {
    "duration": 92,
    "start_time": "2023-03-28T03:23:59.993Z"
   },
   {
    "duration": 131,
    "start_time": "2023-03-28T03:24:00.087Z"
   },
   {
    "duration": 18,
    "start_time": "2023-03-28T03:24:00.220Z"
   },
   {
    "duration": 53,
    "start_time": "2023-03-28T03:24:00.240Z"
   },
   {
    "duration": 152,
    "start_time": "2023-03-28T03:24:00.295Z"
   },
   {
    "duration": 4,
    "start_time": "2023-03-28T03:24:00.449Z"
   },
   {
    "duration": 163,
    "start_time": "2023-03-28T03:24:00.455Z"
   },
   {
    "duration": 53,
    "start_time": "2023-03-28T09:32:40.772Z"
   },
   {
    "duration": 1909,
    "start_time": "2023-03-28T09:32:53.599Z"
   },
   {
    "duration": 215,
    "start_time": "2023-03-28T09:32:55.511Z"
   },
   {
    "duration": 19,
    "start_time": "2023-03-28T09:32:55.728Z"
   },
   {
    "duration": 57,
    "start_time": "2023-03-28T09:32:55.751Z"
   },
   {
    "duration": 51,
    "start_time": "2023-03-28T09:32:55.810Z"
   },
   {
    "duration": 25,
    "start_time": "2023-03-28T09:32:55.863Z"
   },
   {
    "duration": 15,
    "start_time": "2023-03-28T09:32:55.891Z"
   },
   {
    "duration": 31,
    "start_time": "2023-03-28T09:32:56.063Z"
   },
   {
    "duration": 5,
    "start_time": "2023-03-28T09:32:56.228Z"
   },
   {
    "duration": 1679,
    "start_time": "2023-03-28T09:32:56.417Z"
   },
   {
    "duration": 3,
    "start_time": "2023-03-28T09:32:58.099Z"
   },
   {
    "duration": 31,
    "start_time": "2023-03-28T09:32:58.105Z"
   },
   {
    "duration": 27,
    "start_time": "2023-03-28T09:32:58.142Z"
   },
   {
    "duration": 5,
    "start_time": "2023-03-28T09:32:58.383Z"
   },
   {
    "duration": 4,
    "start_time": "2023-03-28T09:32:58.564Z"
   },
   {
    "duration": 6,
    "start_time": "2023-03-28T09:32:59.159Z"
   },
   {
    "duration": 3,
    "start_time": "2023-03-28T09:32:59.383Z"
   },
   {
    "duration": 5,
    "start_time": "2023-03-28T09:32:59.764Z"
   },
   {
    "duration": 10,
    "start_time": "2023-03-28T09:32:59.956Z"
   },
   {
    "duration": 5,
    "start_time": "2023-03-28T09:33:00.315Z"
   },
   {
    "duration": 5,
    "start_time": "2023-03-28T09:33:00.511Z"
   },
   {
    "duration": 7,
    "start_time": "2023-03-28T09:33:00.914Z"
   },
   {
    "duration": 4,
    "start_time": "2023-03-28T09:33:01.113Z"
   },
   {
    "duration": 7,
    "start_time": "2023-03-28T09:33:01.496Z"
   },
   {
    "duration": 4,
    "start_time": "2023-03-28T09:33:01.692Z"
   },
   {
    "duration": 6,
    "start_time": "2023-03-28T09:33:02.128Z"
   },
   {
    "duration": 11,
    "start_time": "2023-03-28T09:33:02.338Z"
   },
   {
    "duration": 5,
    "start_time": "2023-03-28T09:33:02.703Z"
   },
   {
    "duration": 3,
    "start_time": "2023-03-28T09:33:02.906Z"
   },
   {
    "duration": 7,
    "start_time": "2023-03-28T09:33:03.267Z"
   },
   {
    "duration": 4,
    "start_time": "2023-03-28T09:33:03.445Z"
   },
   {
    "duration": 6,
    "start_time": "2023-03-28T09:33:03.835Z"
   },
   {
    "duration": 4,
    "start_time": "2023-03-28T09:33:04.059Z"
   },
   {
    "duration": 5,
    "start_time": "2023-03-28T09:33:04.467Z"
   },
   {
    "duration": 2,
    "start_time": "2023-03-28T09:33:04.779Z"
   },
   {
    "duration": 4,
    "start_time": "2023-03-28T09:33:05.002Z"
   },
   {
    "duration": 5,
    "start_time": "2023-03-28T09:33:05.463Z"
   },
   {
    "duration": 2,
    "start_time": "2023-03-28T09:33:06.056Z"
   },
   {
    "duration": 24,
    "start_time": "2023-03-28T09:33:07.779Z"
   },
   {
    "duration": 8,
    "start_time": "2023-03-28T09:33:10.288Z"
   },
   {
    "duration": 105,
    "start_time": "2023-03-28T09:33:10.964Z"
   },
   {
    "duration": 47,
    "start_time": "2023-03-28T09:35:50.024Z"
   },
   {
    "duration": 35,
    "start_time": "2023-03-28T09:38:03.461Z"
   },
   {
    "duration": 13,
    "start_time": "2023-03-28T09:40:15.486Z"
   },
   {
    "duration": 5,
    "start_time": "2023-03-28T09:40:46.268Z"
   },
   {
    "duration": 1425,
    "start_time": "2023-03-28T09:40:50.512Z"
   },
   {
    "duration": 75,
    "start_time": "2023-03-28T09:40:51.939Z"
   },
   {
    "duration": 16,
    "start_time": "2023-03-28T09:40:52.016Z"
   },
   {
    "duration": 19,
    "start_time": "2023-03-28T09:40:52.035Z"
   },
   {
    "duration": 49,
    "start_time": "2023-03-28T09:40:52.056Z"
   },
   {
    "duration": 19,
    "start_time": "2023-03-28T09:40:52.107Z"
   },
   {
    "duration": 26,
    "start_time": "2023-03-28T09:40:52.128Z"
   },
   {
    "duration": 31,
    "start_time": "2023-03-28T09:40:52.156Z"
   },
   {
    "duration": 4,
    "start_time": "2023-03-28T09:40:52.189Z"
   },
   {
    "duration": 1598,
    "start_time": "2023-03-28T09:40:52.196Z"
   },
   {
    "duration": 3,
    "start_time": "2023-03-28T09:40:53.796Z"
   },
   {
    "duration": 13,
    "start_time": "2023-03-28T09:40:53.801Z"
   },
   {
    "duration": 6,
    "start_time": "2023-03-28T09:40:53.816Z"
   },
   {
    "duration": 20,
    "start_time": "2023-03-28T09:40:53.824Z"
   },
   {
    "duration": 19,
    "start_time": "2023-03-28T09:40:53.847Z"
   },
   {
    "duration": 9,
    "start_time": "2023-03-28T09:40:53.868Z"
   },
   {
    "duration": 7,
    "start_time": "2023-03-28T09:40:53.879Z"
   },
   {
    "duration": 11,
    "start_time": "2023-03-28T09:40:53.888Z"
   },
   {
    "duration": 5,
    "start_time": "2023-03-28T09:40:53.901Z"
   },
   {
    "duration": 11,
    "start_time": "2023-03-28T09:40:53.908Z"
   },
   {
    "duration": 8,
    "start_time": "2023-03-28T09:40:53.921Z"
   },
   {
    "duration": 7,
    "start_time": "2023-03-28T09:40:53.930Z"
   },
   {
    "duration": 22,
    "start_time": "2023-03-28T09:40:53.939Z"
   },
   {
    "duration": 7,
    "start_time": "2023-03-28T09:40:53.963Z"
   },
   {
    "duration": 4,
    "start_time": "2023-03-28T09:40:53.972Z"
   },
   {
    "duration": 7,
    "start_time": "2023-03-28T09:40:53.978Z"
   },
   {
    "duration": 7,
    "start_time": "2023-03-28T09:40:53.987Z"
   },
   {
    "duration": 11,
    "start_time": "2023-03-28T09:40:53.998Z"
   },
   {
    "duration": 13,
    "start_time": "2023-03-28T09:40:54.011Z"
   },
   {
    "duration": 9,
    "start_time": "2023-03-28T09:40:54.025Z"
   },
   {
    "duration": 12,
    "start_time": "2023-03-28T09:40:54.035Z"
   },
   {
    "duration": 15,
    "start_time": "2023-03-28T09:40:54.051Z"
   },
   {
    "duration": 10,
    "start_time": "2023-03-28T09:40:54.067Z"
   },
   {
    "duration": 16,
    "start_time": "2023-03-28T09:40:54.080Z"
   },
   {
    "duration": 5,
    "start_time": "2023-03-28T09:40:54.098Z"
   },
   {
    "duration": 14,
    "start_time": "2023-03-28T09:40:54.104Z"
   },
   {
    "duration": 8,
    "start_time": "2023-03-28T09:40:54.120Z"
   },
   {
    "duration": 6,
    "start_time": "2023-03-28T09:40:54.130Z"
   },
   {
    "duration": 49,
    "start_time": "2023-03-28T09:40:54.137Z"
   },
   {
    "duration": 8,
    "start_time": "2023-03-28T09:40:54.188Z"
   },
   {
    "duration": 39,
    "start_time": "2023-03-28T09:40:54.197Z"
   },
   {
    "duration": 15,
    "start_time": "2023-03-28T09:40:54.238Z"
   },
   {
    "duration": 119,
    "start_time": "2023-03-28T09:40:54.257Z"
   },
   {
    "duration": 310,
    "start_time": "2023-03-28T09:40:54.377Z"
   },
   {
    "duration": 101265,
    "start_time": "2023-03-28T09:40:54.688Z"
   },
   {
    "duration": 25,
    "start_time": "2023-03-28T09:42:35.955Z"
   },
   {
    "duration": 47,
    "start_time": "2023-03-28T09:42:35.981Z"
   },
   {
    "duration": 2208,
    "start_time": "2023-03-28T09:42:36.043Z"
   },
   {
    "duration": 97,
    "start_time": "2023-03-28T09:42:38.255Z"
   },
   {
    "duration": 10,
    "start_time": "2023-03-28T09:42:38.355Z"
   },
   {
    "duration": 14,
    "start_time": "2023-03-28T09:42:38.367Z"
   },
   {
    "duration": 13,
    "start_time": "2023-03-28T09:42:38.382Z"
   },
   {
    "duration": 69,
    "start_time": "2023-03-28T09:42:38.396Z"
   },
   {
    "duration": 220,
    "start_time": "2023-03-28T09:42:38.467Z"
   },
   {
    "duration": 27,
    "start_time": "2023-03-28T09:42:38.688Z"
   },
   {
    "duration": 28,
    "start_time": "2023-03-28T09:42:38.717Z"
   },
   {
    "duration": 94,
    "start_time": "2023-03-28T09:42:38.746Z"
   },
   {
    "duration": 146,
    "start_time": "2023-03-28T09:42:38.845Z"
   },
   {
    "duration": 17,
    "start_time": "2023-03-28T09:42:38.994Z"
   },
   {
    "duration": 18,
    "start_time": "2023-03-28T09:42:39.013Z"
   },
   {
    "duration": 135,
    "start_time": "2023-03-28T09:42:39.032Z"
   },
   {
    "duration": 5,
    "start_time": "2023-03-28T09:42:39.169Z"
   },
   {
    "duration": 153,
    "start_time": "2023-03-28T09:42:39.176Z"
   },
   {
    "duration": 309,
    "start_time": "2023-03-28T09:44:46.259Z"
   },
   {
    "duration": 99,
    "start_time": "2023-03-28T09:45:12.625Z"
   },
   {
    "duration": 87,
    "start_time": "2023-03-28T09:45:21.252Z"
   },
   {
    "duration": 41,
    "start_time": "2023-03-28T09:46:10.315Z"
   },
   {
    "duration": 163,
    "start_time": "2023-03-28T09:47:43.336Z"
   },
   {
    "duration": 38,
    "start_time": "2023-03-28T09:47:50.174Z"
   },
   {
    "duration": 1473,
    "start_time": "2023-03-28T09:49:32.576Z"
   },
   {
    "duration": 59,
    "start_time": "2023-03-28T09:49:34.051Z"
   },
   {
    "duration": 14,
    "start_time": "2023-03-28T09:49:34.112Z"
   },
   {
    "duration": 21,
    "start_time": "2023-03-28T09:49:34.128Z"
   },
   {
    "duration": 45,
    "start_time": "2023-03-28T09:49:34.153Z"
   },
   {
    "duration": 17,
    "start_time": "2023-03-28T09:49:34.199Z"
   },
   {
    "duration": 11,
    "start_time": "2023-03-28T09:49:34.217Z"
   },
   {
    "duration": 44,
    "start_time": "2023-03-28T09:49:34.230Z"
   },
   {
    "duration": 4,
    "start_time": "2023-03-28T09:49:34.276Z"
   },
   {
    "duration": 1614,
    "start_time": "2023-03-28T09:49:34.283Z"
   },
   {
    "duration": 3,
    "start_time": "2023-03-28T09:49:35.900Z"
   },
   {
    "duration": 76,
    "start_time": "2023-03-28T09:49:35.905Z"
   },
   {
    "duration": 31,
    "start_time": "2023-03-28T09:49:35.983Z"
   },
   {
    "duration": 44,
    "start_time": "2023-03-28T09:49:36.016Z"
   },
   {
    "duration": 14,
    "start_time": "2023-03-28T09:49:36.062Z"
   },
   {
    "duration": 24,
    "start_time": "2023-03-28T09:49:36.077Z"
   },
   {
    "duration": 21,
    "start_time": "2023-03-28T09:49:36.103Z"
   },
   {
    "duration": 14,
    "start_time": "2023-03-28T09:49:36.125Z"
   },
   {
    "duration": 16,
    "start_time": "2023-03-28T09:49:36.146Z"
   },
   {
    "duration": 13,
    "start_time": "2023-03-28T09:49:36.163Z"
   },
   {
    "duration": 12,
    "start_time": "2023-03-28T09:49:36.178Z"
   },
   {
    "duration": 10,
    "start_time": "2023-03-28T09:49:36.192Z"
   },
   {
    "duration": 6,
    "start_time": "2023-03-28T09:49:36.204Z"
   },
   {
    "duration": 9,
    "start_time": "2023-03-28T09:49:36.212Z"
   },
   {
    "duration": 8,
    "start_time": "2023-03-28T09:49:36.222Z"
   },
   {
    "duration": 24,
    "start_time": "2023-03-28T09:49:36.231Z"
   },
   {
    "duration": 9,
    "start_time": "2023-03-28T09:49:36.261Z"
   },
   {
    "duration": 19,
    "start_time": "2023-03-28T09:49:36.273Z"
   },
   {
    "duration": 29,
    "start_time": "2023-03-28T09:49:36.294Z"
   },
   {
    "duration": 9,
    "start_time": "2023-03-28T09:49:36.324Z"
   },
   {
    "duration": 21,
    "start_time": "2023-03-28T09:49:36.335Z"
   },
   {
    "duration": 15,
    "start_time": "2023-03-28T09:49:36.358Z"
   },
   {
    "duration": 9,
    "start_time": "2023-03-28T09:49:36.375Z"
   },
   {
    "duration": 17,
    "start_time": "2023-03-28T09:49:36.386Z"
   },
   {
    "duration": 22,
    "start_time": "2023-03-28T09:49:36.405Z"
   },
   {
    "duration": 10,
    "start_time": "2023-03-28T09:49:36.429Z"
   },
   {
    "duration": 20,
    "start_time": "2023-03-28T09:49:36.440Z"
   },
   {
    "duration": 16,
    "start_time": "2023-03-28T09:49:36.462Z"
   },
   {
    "duration": 33,
    "start_time": "2023-03-28T09:49:36.479Z"
   },
   {
    "duration": 17,
    "start_time": "2023-03-28T09:49:36.515Z"
   },
   {
    "duration": 61,
    "start_time": "2023-03-28T09:49:36.533Z"
   },
   {
    "duration": 4,
    "start_time": "2023-03-28T09:49:36.596Z"
   },
   {
    "duration": 176,
    "start_time": "2023-03-28T09:49:36.602Z"
   },
   {
    "duration": 783,
    "start_time": "2023-03-28T09:49:36.781Z"
   },
   {
    "duration": 66558,
    "start_time": "2023-03-28T09:49:37.566Z"
   },
   {
    "duration": 0,
    "start_time": "2023-03-28T09:50:44.126Z"
   },
   {
    "duration": 0,
    "start_time": "2023-03-28T09:50:44.127Z"
   },
   {
    "duration": 0,
    "start_time": "2023-03-28T09:50:44.128Z"
   },
   {
    "duration": 1,
    "start_time": "2023-03-28T09:50:44.129Z"
   },
   {
    "duration": 0,
    "start_time": "2023-03-28T09:50:44.131Z"
   },
   {
    "duration": 1,
    "start_time": "2023-03-28T09:50:44.144Z"
   },
   {
    "duration": 0,
    "start_time": "2023-03-28T09:50:44.145Z"
   },
   {
    "duration": 0,
    "start_time": "2023-03-28T09:50:44.146Z"
   },
   {
    "duration": 0,
    "start_time": "2023-03-28T09:50:44.147Z"
   },
   {
    "duration": 0,
    "start_time": "2023-03-28T09:50:44.149Z"
   },
   {
    "duration": 0,
    "start_time": "2023-03-28T09:50:44.150Z"
   },
   {
    "duration": 0,
    "start_time": "2023-03-28T09:50:44.150Z"
   },
   {
    "duration": 0,
    "start_time": "2023-03-28T09:50:44.151Z"
   },
   {
    "duration": 0,
    "start_time": "2023-03-28T09:50:44.152Z"
   },
   {
    "duration": 0,
    "start_time": "2023-03-28T09:50:44.152Z"
   },
   {
    "duration": 0,
    "start_time": "2023-03-28T09:50:44.157Z"
   },
   {
    "duration": 0,
    "start_time": "2023-03-28T09:50:44.158Z"
   },
   {
    "duration": 0,
    "start_time": "2023-03-28T09:50:44.159Z"
   },
   {
    "duration": 24,
    "start_time": "2023-03-28T09:51:38.566Z"
   },
   {
    "duration": 4,
    "start_time": "2023-03-28T09:51:44.494Z"
   },
   {
    "duration": 64,
    "start_time": "2023-03-28T09:51:45.231Z"
   },
   {
    "duration": 17,
    "start_time": "2023-03-28T09:51:45.395Z"
   },
   {
    "duration": 17,
    "start_time": "2023-03-28T09:51:45.558Z"
   },
   {
    "duration": 45,
    "start_time": "2023-03-28T09:51:45.708Z"
   },
   {
    "duration": 20,
    "start_time": "2023-03-28T09:51:45.868Z"
   },
   {
    "duration": 4,
    "start_time": "2023-03-28T09:51:46.022Z"
   },
   {
    "duration": 24,
    "start_time": "2023-03-28T09:51:46.697Z"
   },
   {
    "duration": 4,
    "start_time": "2023-03-28T09:51:46.873Z"
   },
   {
    "duration": 1672,
    "start_time": "2023-03-28T09:51:47.052Z"
   },
   {
    "duration": 3,
    "start_time": "2023-03-28T09:51:48.726Z"
   },
   {
    "duration": 43,
    "start_time": "2023-03-28T09:51:48.731Z"
   },
   {
    "duration": 18,
    "start_time": "2023-03-28T09:51:48.777Z"
   },
   {
    "duration": 4,
    "start_time": "2023-03-28T09:51:48.828Z"
   },
   {
    "duration": 2,
    "start_time": "2023-03-28T09:51:48.992Z"
   },
   {
    "duration": 6,
    "start_time": "2023-03-28T09:51:49.688Z"
   },
   {
    "duration": 3,
    "start_time": "2023-03-28T09:51:49.864Z"
   },
   {
    "duration": 6,
    "start_time": "2023-03-28T09:51:50.767Z"
   },
   {
    "duration": 3,
    "start_time": "2023-03-28T09:51:51.076Z"
   },
   {
    "duration": 6,
    "start_time": "2023-03-28T09:51:51.511Z"
   },
   {
    "duration": 2,
    "start_time": "2023-03-28T09:51:51.672Z"
   },
   {
    "duration": 5,
    "start_time": "2023-03-28T09:51:52.218Z"
   },
   {
    "duration": 5,
    "start_time": "2023-03-28T09:51:52.267Z"
   },
   {
    "duration": 5,
    "start_time": "2023-03-28T09:51:52.313Z"
   },
   {
    "duration": 8,
    "start_time": "2023-03-28T09:51:52.344Z"
   },
   {
    "duration": 5,
    "start_time": "2023-03-28T09:51:52.412Z"
   },
   {
    "duration": 9,
    "start_time": "2023-03-28T09:51:52.441Z"
   },
   {
    "duration": 4,
    "start_time": "2023-03-28T09:51:52.503Z"
   },
   {
    "duration": 3,
    "start_time": "2023-03-28T09:51:52.535Z"
   },
   {
    "duration": 4,
    "start_time": "2023-03-28T09:51:52.970Z"
   },
   {
    "duration": 3,
    "start_time": "2023-03-28T09:51:53.481Z"
   },
   {
    "duration": 10,
    "start_time": "2023-03-28T09:51:53.554Z"
   },
   {
    "duration": 2,
    "start_time": "2023-03-28T09:51:53.578Z"
   },
   {
    "duration": 4,
    "start_time": "2023-03-28T09:51:53.667Z"
   },
   {
    "duration": 4,
    "start_time": "2023-03-28T09:51:53.674Z"
   },
   {
    "duration": 4,
    "start_time": "2023-03-28T09:51:53.704Z"
   },
   {
    "duration": 4,
    "start_time": "2023-03-28T09:51:53.772Z"
   },
   {
    "duration": 2,
    "start_time": "2023-03-28T09:51:53.802Z"
   },
   {
    "duration": 17,
    "start_time": "2023-03-28T09:51:53.963Z"
   },
   {
    "duration": 7,
    "start_time": "2023-03-28T09:51:57.696Z"
   },
   {
    "duration": 8,
    "start_time": "2023-03-28T09:52:30.890Z"
   },
   {
    "duration": 89,
    "start_time": "2023-03-28T09:52:30.900Z"
   },
   {
    "duration": 5,
    "start_time": "2023-03-28T09:52:46.384Z"
   },
   {
    "duration": 109,
    "start_time": "2023-03-28T09:52:46.393Z"
   },
   {
    "duration": 18,
    "start_time": "2023-03-28T09:52:46.504Z"
   },
   {
    "duration": 26,
    "start_time": "2023-03-28T09:52:46.525Z"
   },
   {
    "duration": 68,
    "start_time": "2023-03-28T09:52:46.553Z"
   },
   {
    "duration": 37,
    "start_time": "2023-03-28T09:52:46.623Z"
   },
   {
    "duration": 37,
    "start_time": "2023-03-28T09:52:46.663Z"
   },
   {
    "duration": 32,
    "start_time": "2023-03-28T09:52:46.702Z"
   },
   {
    "duration": 4,
    "start_time": "2023-03-28T09:52:46.736Z"
   },
   {
    "duration": 1546,
    "start_time": "2023-03-28T09:52:46.750Z"
   },
   {
    "duration": 4,
    "start_time": "2023-03-28T09:52:48.298Z"
   },
   {
    "duration": 11,
    "start_time": "2023-03-28T09:52:48.304Z"
   },
   {
    "duration": 6,
    "start_time": "2023-03-28T09:52:48.317Z"
   },
   {
    "duration": 28,
    "start_time": "2023-03-28T09:52:48.324Z"
   },
   {
    "duration": 12,
    "start_time": "2023-03-28T09:52:48.364Z"
   },
   {
    "duration": 25,
    "start_time": "2023-03-28T09:52:48.377Z"
   },
   {
    "duration": 6,
    "start_time": "2023-03-28T09:52:48.404Z"
   },
   {
    "duration": 8,
    "start_time": "2023-03-28T09:52:48.412Z"
   },
   {
    "duration": 4,
    "start_time": "2023-03-28T09:52:48.422Z"
   },
   {
    "duration": 8,
    "start_time": "2023-03-28T09:52:48.428Z"
   },
   {
    "duration": 38,
    "start_time": "2023-03-28T09:52:48.438Z"
   },
   {
    "duration": 7,
    "start_time": "2023-03-28T09:52:48.478Z"
   },
   {
    "duration": 7,
    "start_time": "2023-03-28T09:52:48.487Z"
   },
   {
    "duration": 9,
    "start_time": "2023-03-28T09:52:48.496Z"
   },
   {
    "duration": 7,
    "start_time": "2023-03-28T09:52:48.506Z"
   },
   {
    "duration": 20,
    "start_time": "2023-03-28T09:52:48.515Z"
   },
   {
    "duration": 40,
    "start_time": "2023-03-28T09:52:48.537Z"
   },
   {
    "duration": 8,
    "start_time": "2023-03-28T09:52:48.580Z"
   },
   {
    "duration": 7,
    "start_time": "2023-03-28T09:52:48.590Z"
   },
   {
    "duration": 13,
    "start_time": "2023-03-28T09:52:48.599Z"
   },
   {
    "duration": 6,
    "start_time": "2023-03-28T09:52:48.614Z"
   },
   {
    "duration": 10,
    "start_time": "2023-03-28T09:52:48.621Z"
   },
   {
    "duration": 4,
    "start_time": "2023-03-28T09:52:48.632Z"
   },
   {
    "duration": 51,
    "start_time": "2023-03-28T09:52:48.638Z"
   },
   {
    "duration": 9,
    "start_time": "2023-03-28T09:52:48.692Z"
   },
   {
    "duration": 8,
    "start_time": "2023-03-28T09:52:48.703Z"
   },
   {
    "duration": 9,
    "start_time": "2023-03-28T09:52:48.714Z"
   },
   {
    "duration": 19,
    "start_time": "2023-03-28T09:52:48.724Z"
   },
   {
    "duration": 52,
    "start_time": "2023-03-28T09:52:48.747Z"
   },
   {
    "duration": 8,
    "start_time": "2023-03-28T09:52:48.800Z"
   },
   {
    "duration": 49,
    "start_time": "2023-03-28T09:52:48.810Z"
   },
   {
    "duration": 1492,
    "start_time": "2023-03-28T09:53:08.299Z"
   },
   {
    "duration": 63,
    "start_time": "2023-03-28T09:53:09.794Z"
   },
   {
    "duration": 21,
    "start_time": "2023-03-28T09:53:09.859Z"
   },
   {
    "duration": 16,
    "start_time": "2023-03-28T09:53:09.882Z"
   },
   {
    "duration": 69,
    "start_time": "2023-03-28T09:53:09.900Z"
   },
   {
    "duration": 20,
    "start_time": "2023-03-28T09:53:09.971Z"
   },
   {
    "duration": 4,
    "start_time": "2023-03-28T09:53:09.993Z"
   },
   {
    "duration": 27,
    "start_time": "2023-03-28T09:53:09.999Z"
   },
   {
    "duration": 3,
    "start_time": "2023-03-28T09:53:10.028Z"
   },
   {
    "duration": 1670,
    "start_time": "2023-03-28T09:53:10.053Z"
   },
   {
    "duration": 3,
    "start_time": "2023-03-28T09:53:11.725Z"
   },
   {
    "duration": 39,
    "start_time": "2023-03-28T09:53:11.730Z"
   },
   {
    "duration": 10,
    "start_time": "2023-03-28T09:53:11.770Z"
   },
   {
    "duration": 8,
    "start_time": "2023-03-28T09:53:11.781Z"
   },
   {
    "duration": 6,
    "start_time": "2023-03-28T09:53:11.790Z"
   },
   {
    "duration": 9,
    "start_time": "2023-03-28T09:53:11.797Z"
   },
   {
    "duration": 11,
    "start_time": "2023-03-28T09:53:11.808Z"
   },
   {
    "duration": 7,
    "start_time": "2023-03-28T09:53:11.820Z"
   },
   {
    "duration": 4,
    "start_time": "2023-03-28T09:53:11.828Z"
   },
   {
    "duration": 21,
    "start_time": "2023-03-28T09:53:11.834Z"
   },
   {
    "duration": 18,
    "start_time": "2023-03-28T09:53:11.856Z"
   },
   {
    "duration": 10,
    "start_time": "2023-03-28T09:53:11.876Z"
   },
   {
    "duration": 5,
    "start_time": "2023-03-28T09:53:11.888Z"
   },
   {
    "duration": 8,
    "start_time": "2023-03-28T09:53:11.895Z"
   },
   {
    "duration": 5,
    "start_time": "2023-03-28T09:53:11.905Z"
   },
   {
    "duration": 12,
    "start_time": "2023-03-28T09:53:11.912Z"
   },
   {
    "duration": 3,
    "start_time": "2023-03-28T09:53:11.926Z"
   },
   {
    "duration": 42,
    "start_time": "2023-03-28T09:53:11.932Z"
   },
   {
    "duration": 4,
    "start_time": "2023-03-28T09:53:11.976Z"
   },
   {
    "duration": 9,
    "start_time": "2023-03-28T09:53:11.982Z"
   },
   {
    "duration": 5,
    "start_time": "2023-03-28T09:53:11.993Z"
   },
   {
    "duration": 8,
    "start_time": "2023-03-28T09:53:11.999Z"
   },
   {
    "duration": 6,
    "start_time": "2023-03-28T09:53:12.009Z"
   },
   {
    "duration": 10,
    "start_time": "2023-03-28T09:53:12.016Z"
   },
   {
    "duration": 6,
    "start_time": "2023-03-28T09:53:12.029Z"
   },
   {
    "duration": 25,
    "start_time": "2023-03-28T09:53:12.037Z"
   },
   {
    "duration": 12,
    "start_time": "2023-03-28T09:53:12.065Z"
   },
   {
    "duration": 9,
    "start_time": "2023-03-28T09:53:12.079Z"
   },
   {
    "duration": 20,
    "start_time": "2023-03-28T09:53:12.090Z"
   },
   {
    "duration": 8,
    "start_time": "2023-03-28T09:53:12.112Z"
   },
   {
    "duration": 152,
    "start_time": "2023-03-28T09:53:12.121Z"
   },
   {
    "duration": 0,
    "start_time": "2023-03-28T09:53:12.275Z"
   },
   {
    "duration": 40,
    "start_time": "2023-03-28T09:53:29.884Z"
   },
   {
    "duration": 20,
    "start_time": "2023-03-28T09:53:32.366Z"
   },
   {
    "duration": 56,
    "start_time": "2023-03-28T09:53:45.004Z"
   },
   {
    "duration": 20,
    "start_time": "2023-03-28T09:54:36.328Z"
   },
   {
    "duration": 17,
    "start_time": "2023-03-28T09:54:42.496Z"
   },
   {
    "duration": 57,
    "start_time": "2023-03-28T09:56:49.299Z"
   },
   {
    "duration": 1478,
    "start_time": "2023-03-28T09:56:59.183Z"
   },
   {
    "duration": 61,
    "start_time": "2023-03-28T09:57:00.664Z"
   },
   {
    "duration": 28,
    "start_time": "2023-03-28T09:57:00.727Z"
   },
   {
    "duration": 58,
    "start_time": "2023-03-28T09:57:00.760Z"
   },
   {
    "duration": 86,
    "start_time": "2023-03-28T09:57:00.820Z"
   },
   {
    "duration": 21,
    "start_time": "2023-03-28T09:57:00.908Z"
   },
   {
    "duration": 34,
    "start_time": "2023-03-28T09:57:00.931Z"
   },
   {
    "duration": 78,
    "start_time": "2023-03-28T09:57:00.967Z"
   },
   {
    "duration": 18,
    "start_time": "2023-03-28T09:57:01.049Z"
   },
   {
    "duration": 1709,
    "start_time": "2023-03-28T09:57:01.070Z"
   },
   {
    "duration": 4,
    "start_time": "2023-03-28T09:57:02.782Z"
   },
   {
    "duration": 16,
    "start_time": "2023-03-28T09:57:02.788Z"
   },
   {
    "duration": 32,
    "start_time": "2023-03-28T09:57:02.806Z"
   },
   {
    "duration": 36,
    "start_time": "2023-03-28T09:57:02.840Z"
   },
   {
    "duration": 10,
    "start_time": "2023-03-28T09:57:02.878Z"
   },
   {
    "duration": 46,
    "start_time": "2023-03-28T09:57:02.890Z"
   },
   {
    "duration": 79,
    "start_time": "2023-03-28T09:57:02.938Z"
   },
   {
    "duration": 67,
    "start_time": "2023-03-28T09:57:03.018Z"
   },
   {
    "duration": 69,
    "start_time": "2023-03-28T09:57:03.087Z"
   },
   {
    "duration": 73,
    "start_time": "2023-03-28T09:57:03.159Z"
   },
   {
    "duration": 69,
    "start_time": "2023-03-28T09:57:03.235Z"
   },
   {
    "duration": 113,
    "start_time": "2023-03-28T09:57:03.306Z"
   },
   {
    "duration": 35,
    "start_time": "2023-03-28T09:57:03.421Z"
   },
   {
    "duration": 56,
    "start_time": "2023-03-28T09:57:03.461Z"
   },
   {
    "duration": 78,
    "start_time": "2023-03-28T09:57:03.520Z"
   },
   {
    "duration": 38,
    "start_time": "2023-03-28T09:57:03.600Z"
   },
   {
    "duration": 47,
    "start_time": "2023-03-28T09:57:03.640Z"
   },
   {
    "duration": 30,
    "start_time": "2023-03-28T09:57:03.691Z"
   },
   {
    "duration": 40,
    "start_time": "2023-03-28T09:57:03.723Z"
   },
   {
    "duration": 93,
    "start_time": "2023-03-28T09:57:03.765Z"
   },
   {
    "duration": 45,
    "start_time": "2023-03-28T09:57:03.861Z"
   },
   {
    "duration": 29,
    "start_time": "2023-03-28T09:57:03.909Z"
   },
   {
    "duration": 33,
    "start_time": "2023-03-28T09:57:03.940Z"
   },
   {
    "duration": 23,
    "start_time": "2023-03-28T09:57:03.975Z"
   },
   {
    "duration": 32,
    "start_time": "2023-03-28T09:57:04.000Z"
   },
   {
    "duration": 53,
    "start_time": "2023-03-28T09:57:04.035Z"
   },
   {
    "duration": 41,
    "start_time": "2023-03-28T09:57:04.090Z"
   },
   {
    "duration": 83,
    "start_time": "2023-03-28T09:57:04.133Z"
   },
   {
    "duration": 77,
    "start_time": "2023-03-28T09:57:04.219Z"
   },
   {
    "duration": 11,
    "start_time": "2023-03-28T09:57:04.297Z"
   },
   {
    "duration": 25,
    "start_time": "2023-03-28T09:57:04.311Z"
   },
   {
    "duration": 15,
    "start_time": "2023-03-28T09:57:20.205Z"
   },
   {
    "duration": 8,
    "start_time": "2023-03-28T09:58:10.252Z"
   },
   {
    "duration": 21,
    "start_time": "2023-03-28T09:59:05.436Z"
   },
   {
    "duration": 5,
    "start_time": "2023-03-28T09:59:07.099Z"
   },
   {
    "duration": 18,
    "start_time": "2023-03-28T09:59:24.079Z"
   },
   {
    "duration": 17,
    "start_time": "2023-03-28T09:59:32.909Z"
   },
   {
    "duration": 19,
    "start_time": "2023-03-28T09:59:37.001Z"
   },
   {
    "duration": 18,
    "start_time": "2023-03-28T09:59:38.777Z"
   },
   {
    "duration": 21,
    "start_time": "2023-03-28T09:59:47.365Z"
   },
   {
    "duration": 25,
    "start_time": "2023-03-28T09:59:50.430Z"
   },
   {
    "duration": 1740,
    "start_time": "2023-03-28T10:00:04.211Z"
   },
   {
    "duration": 74,
    "start_time": "2023-03-28T10:00:05.958Z"
   },
   {
    "duration": 34,
    "start_time": "2023-03-28T10:00:06.037Z"
   },
   {
    "duration": 37,
    "start_time": "2023-03-28T10:00:06.074Z"
   },
   {
    "duration": 62,
    "start_time": "2023-03-28T10:00:06.113Z"
   },
   {
    "duration": 28,
    "start_time": "2023-03-28T10:00:06.177Z"
   },
   {
    "duration": 25,
    "start_time": "2023-03-28T10:00:06.207Z"
   },
   {
    "duration": 64,
    "start_time": "2023-03-28T10:00:06.236Z"
   },
   {
    "duration": 6,
    "start_time": "2023-03-28T10:00:06.303Z"
   },
   {
    "duration": 1813,
    "start_time": "2023-03-28T10:00:06.313Z"
   },
   {
    "duration": 4,
    "start_time": "2023-03-28T10:00:08.128Z"
   },
   {
    "duration": 15,
    "start_time": "2023-03-28T10:00:08.147Z"
   },
   {
    "duration": 4,
    "start_time": "2023-03-28T10:00:08.165Z"
   },
   {
    "duration": 9,
    "start_time": "2023-03-28T10:00:08.172Z"
   },
   {
    "duration": 9,
    "start_time": "2023-03-28T10:00:08.183Z"
   },
   {
    "duration": 13,
    "start_time": "2023-03-28T10:00:08.195Z"
   },
   {
    "duration": 18,
    "start_time": "2023-03-28T10:00:08.211Z"
   },
   {
    "duration": 15,
    "start_time": "2023-03-28T10:00:08.231Z"
   },
   {
    "duration": 16,
    "start_time": "2023-03-28T10:00:08.247Z"
   },
   {
    "duration": 7,
    "start_time": "2023-03-28T10:00:08.265Z"
   },
   {
    "duration": 5,
    "start_time": "2023-03-28T10:00:08.274Z"
   },
   {
    "duration": 7,
    "start_time": "2023-03-28T10:00:08.280Z"
   },
   {
    "duration": 9,
    "start_time": "2023-03-28T10:00:08.288Z"
   },
   {
    "duration": 8,
    "start_time": "2023-03-28T10:00:08.299Z"
   },
   {
    "duration": 7,
    "start_time": "2023-03-28T10:00:08.310Z"
   },
   {
    "duration": 8,
    "start_time": "2023-03-28T10:00:08.319Z"
   },
   {
    "duration": 7,
    "start_time": "2023-03-28T10:00:08.329Z"
   },
   {
    "duration": 23,
    "start_time": "2023-03-28T10:00:08.339Z"
   },
   {
    "duration": 5,
    "start_time": "2023-03-28T10:00:08.365Z"
   },
   {
    "duration": 16,
    "start_time": "2023-03-28T10:00:08.372Z"
   },
   {
    "duration": 7,
    "start_time": "2023-03-28T10:00:08.391Z"
   },
   {
    "duration": 9,
    "start_time": "2023-03-28T10:00:08.400Z"
   },
   {
    "duration": 4,
    "start_time": "2023-03-28T10:00:08.411Z"
   },
   {
    "duration": 9,
    "start_time": "2023-03-28T10:00:08.418Z"
   },
   {
    "duration": 6,
    "start_time": "2023-03-28T10:00:08.429Z"
   },
   {
    "duration": 28,
    "start_time": "2023-03-28T10:00:08.437Z"
   },
   {
    "duration": 5,
    "start_time": "2023-03-28T10:00:08.467Z"
   },
   {
    "duration": 9,
    "start_time": "2023-03-28T10:00:08.475Z"
   },
   {
    "duration": 21,
    "start_time": "2023-03-28T10:00:08.486Z"
   },
   {
    "duration": 8,
    "start_time": "2023-03-28T10:00:08.509Z"
   },
   {
    "duration": 38,
    "start_time": "2023-03-28T10:00:08.519Z"
   },
   {
    "duration": 36,
    "start_time": "2023-03-28T10:00:08.560Z"
   },
   {
    "duration": 40,
    "start_time": "2023-03-28T10:00:36.987Z"
   },
   {
    "duration": 19,
    "start_time": "2023-03-28T10:00:39.656Z"
   },
   {
    "duration": 125,
    "start_time": "2023-03-28T10:01:00.992Z"
   },
   {
    "duration": 5,
    "start_time": "2023-03-28T10:01:54.273Z"
   },
   {
    "duration": 35,
    "start_time": "2023-03-28T10:01:59.210Z"
   },
   {
    "duration": 27,
    "start_time": "2023-03-28T10:02:00.849Z"
   },
   {
    "duration": 1730,
    "start_time": "2023-03-28T10:03:17.433Z"
   },
   {
    "duration": 58,
    "start_time": "2023-03-28T10:03:19.165Z"
   },
   {
    "duration": 23,
    "start_time": "2023-03-28T10:03:19.225Z"
   },
   {
    "duration": 33,
    "start_time": "2023-03-28T10:03:19.256Z"
   },
   {
    "duration": 51,
    "start_time": "2023-03-28T10:03:19.291Z"
   },
   {
    "duration": 19,
    "start_time": "2023-03-28T10:03:19.357Z"
   },
   {
    "duration": 4,
    "start_time": "2023-03-28T10:03:19.377Z"
   },
   {
    "duration": 25,
    "start_time": "2023-03-28T10:03:19.382Z"
   },
   {
    "duration": 15,
    "start_time": "2023-03-28T10:03:19.409Z"
   },
   {
    "duration": 1676,
    "start_time": "2023-03-28T10:03:19.428Z"
   },
   {
    "duration": 4,
    "start_time": "2023-03-28T10:03:21.106Z"
   },
   {
    "duration": 17,
    "start_time": "2023-03-28T10:03:21.112Z"
   },
   {
    "duration": 17,
    "start_time": "2023-03-28T10:03:21.141Z"
   },
   {
    "duration": 12,
    "start_time": "2023-03-28T10:03:21.160Z"
   },
   {
    "duration": 8,
    "start_time": "2023-03-28T10:03:21.174Z"
   },
   {
    "duration": 16,
    "start_time": "2023-03-28T10:03:21.184Z"
   },
   {
    "duration": 4,
    "start_time": "2023-03-28T10:03:21.203Z"
   },
   {
    "duration": 12,
    "start_time": "2023-03-28T10:03:21.209Z"
   },
   {
    "duration": 15,
    "start_time": "2023-03-28T10:03:21.223Z"
   },
   {
    "duration": 28,
    "start_time": "2023-03-28T10:03:21.240Z"
   },
   {
    "duration": 4,
    "start_time": "2023-03-28T10:03:21.270Z"
   },
   {
    "duration": 7,
    "start_time": "2023-03-28T10:03:21.275Z"
   },
   {
    "duration": 8,
    "start_time": "2023-03-28T10:03:21.284Z"
   },
   {
    "duration": 7,
    "start_time": "2023-03-28T10:03:21.294Z"
   },
   {
    "duration": 5,
    "start_time": "2023-03-28T10:03:21.302Z"
   },
   {
    "duration": 7,
    "start_time": "2023-03-28T10:03:21.309Z"
   },
   {
    "duration": 5,
    "start_time": "2023-03-28T10:03:21.319Z"
   },
   {
    "duration": 28,
    "start_time": "2023-03-28T10:03:21.328Z"
   },
   {
    "duration": 3,
    "start_time": "2023-03-28T10:03:21.358Z"
   },
   {
    "duration": 18,
    "start_time": "2023-03-28T10:03:21.363Z"
   },
   {
    "duration": 6,
    "start_time": "2023-03-28T10:03:21.382Z"
   },
   {
    "duration": 13,
    "start_time": "2023-03-28T10:03:21.390Z"
   },
   {
    "duration": 18,
    "start_time": "2023-03-28T10:03:21.406Z"
   },
   {
    "duration": 13,
    "start_time": "2023-03-28T10:03:21.427Z"
   },
   {
    "duration": 25,
    "start_time": "2023-03-28T10:03:21.442Z"
   },
   {
    "duration": 19,
    "start_time": "2023-03-28T10:03:21.469Z"
   },
   {
    "duration": 9,
    "start_time": "2023-03-28T10:03:21.490Z"
   },
   {
    "duration": 15,
    "start_time": "2023-03-28T10:03:21.501Z"
   },
   {
    "duration": 41,
    "start_time": "2023-03-28T10:03:21.518Z"
   },
   {
    "duration": 23,
    "start_time": "2023-03-28T10:03:21.561Z"
   },
   {
    "duration": 37,
    "start_time": "2023-03-28T10:03:21.586Z"
   },
   {
    "duration": 4,
    "start_time": "2023-03-28T10:03:21.625Z"
   },
   {
    "duration": 129,
    "start_time": "2023-03-28T10:03:21.641Z"
   },
   {
    "duration": 820,
    "start_time": "2023-03-28T10:03:21.772Z"
   },
   {
    "duration": 1020889,
    "start_time": "2023-03-28T10:03:22.594Z"
   },
   {
    "duration": 25,
    "start_time": "2023-03-28T10:20:23.485Z"
   },
   {
    "duration": 66,
    "start_time": "2023-03-28T10:20:23.512Z"
   },
   {
    "duration": 2882,
    "start_time": "2023-03-28T10:20:23.580Z"
   },
   {
    "duration": 59,
    "start_time": "2023-03-28T10:20:26.490Z"
   },
   {
    "duration": 47,
    "start_time": "2023-03-28T10:20:26.551Z"
   },
   {
    "duration": 19,
    "start_time": "2023-03-28T10:20:26.600Z"
   },
   {
    "duration": 77,
    "start_time": "2023-03-28T10:20:26.621Z"
   },
   {
    "duration": 43,
    "start_time": "2023-03-28T10:20:26.701Z"
   },
   {
    "duration": 144,
    "start_time": "2023-03-28T10:20:26.748Z"
   },
   {
    "duration": 90,
    "start_time": "2023-03-28T10:20:26.894Z"
   },
   {
    "duration": 16,
    "start_time": "2023-03-28T10:20:26.992Z"
   },
   {
    "duration": 137,
    "start_time": "2023-03-28T10:20:27.010Z"
   },
   {
    "duration": 147,
    "start_time": "2023-03-28T10:20:27.148Z"
   },
   {
    "duration": 20,
    "start_time": "2023-03-28T10:20:27.297Z"
   },
   {
    "duration": 47,
    "start_time": "2023-03-28T10:20:27.319Z"
   },
   {
    "duration": 140,
    "start_time": "2023-03-28T10:20:27.369Z"
   },
   {
    "duration": 5,
    "start_time": "2023-03-28T10:20:27.511Z"
   },
   {
    "duration": 171,
    "start_time": "2023-03-28T10:20:27.518Z"
   },
   {
    "duration": 30,
    "start_time": "2023-03-28T10:23:06.426Z"
   },
   {
    "duration": 178,
    "start_time": "2023-03-28T10:23:07.061Z"
   },
   {
    "duration": 2491,
    "start_time": "2023-03-28T10:23:07.367Z"
   },
   {
    "duration": 80,
    "start_time": "2023-03-28T10:23:09.864Z"
   },
   {
    "duration": 55,
    "start_time": "2023-03-28T10:23:09.947Z"
   },
   {
    "duration": 21,
    "start_time": "2023-03-28T10:23:10.005Z"
   },
   {
    "duration": 25,
    "start_time": "2023-03-28T10:23:10.028Z"
   },
   {
    "duration": 105,
    "start_time": "2023-03-28T10:23:10.056Z"
   },
   {
    "duration": 388,
    "start_time": "2023-03-28T10:23:10.168Z"
   },
   {
    "duration": 36,
    "start_time": "2023-03-28T10:23:10.559Z"
   },
   {
    "duration": 13,
    "start_time": "2023-03-28T10:23:10.598Z"
   },
   {
    "duration": 77,
    "start_time": "2023-03-28T10:23:10.867Z"
   },
   {
    "duration": 129,
    "start_time": "2023-03-28T10:23:11.045Z"
   },
   {
    "duration": 19,
    "start_time": "2023-03-28T10:23:11.177Z"
   },
   {
    "duration": 110,
    "start_time": "2023-03-28T10:23:12.029Z"
   },
   {
    "duration": 166,
    "start_time": "2023-03-28T10:23:12.914Z"
   },
   {
    "duration": 5,
    "start_time": "2023-03-28T10:23:13.098Z"
   },
   {
    "duration": 168,
    "start_time": "2023-03-28T10:23:13.274Z"
   },
   {
    "duration": 1582,
    "start_time": "2023-03-28T10:30:07.676Z"
   },
   {
    "duration": 57,
    "start_time": "2023-03-28T10:30:09.263Z"
   },
   {
    "duration": 14,
    "start_time": "2023-03-28T10:30:09.321Z"
   },
   {
    "duration": 43,
    "start_time": "2023-03-28T10:30:09.337Z"
   },
   {
    "duration": 37,
    "start_time": "2023-03-28T10:30:09.382Z"
   },
   {
    "duration": 51,
    "start_time": "2023-03-28T10:30:09.420Z"
   },
   {
    "duration": 17,
    "start_time": "2023-03-28T10:30:09.473Z"
   },
   {
    "duration": 27,
    "start_time": "2023-03-28T10:30:09.492Z"
   },
   {
    "duration": 4,
    "start_time": "2023-03-28T10:30:09.521Z"
   },
   {
    "duration": 1634,
    "start_time": "2023-03-28T10:30:09.527Z"
   },
   {
    "duration": 2,
    "start_time": "2023-03-28T10:30:11.167Z"
   },
   {
    "duration": 38,
    "start_time": "2023-03-28T10:30:11.171Z"
   },
   {
    "duration": 9,
    "start_time": "2023-03-28T10:30:11.211Z"
   },
   {
    "duration": 24,
    "start_time": "2023-03-28T10:30:11.222Z"
   },
   {
    "duration": 44,
    "start_time": "2023-03-28T10:30:11.247Z"
   },
   {
    "duration": 9,
    "start_time": "2023-03-28T10:30:11.293Z"
   },
   {
    "duration": 6,
    "start_time": "2023-03-28T10:30:11.304Z"
   },
   {
    "duration": 7,
    "start_time": "2023-03-28T10:30:11.312Z"
   },
   {
    "duration": 10,
    "start_time": "2023-03-28T10:30:11.320Z"
   },
   {
    "duration": 6,
    "start_time": "2023-03-28T10:30:11.332Z"
   },
   {
    "duration": 31,
    "start_time": "2023-03-28T10:30:11.340Z"
   },
   {
    "duration": 18,
    "start_time": "2023-03-28T10:30:11.372Z"
   },
   {
    "duration": 5,
    "start_time": "2023-03-28T10:30:11.391Z"
   },
   {
    "duration": 14,
    "start_time": "2023-03-28T10:30:11.397Z"
   },
   {
    "duration": 4,
    "start_time": "2023-03-28T10:30:11.413Z"
   },
   {
    "duration": 12,
    "start_time": "2023-03-28T10:30:11.419Z"
   },
   {
    "duration": 4,
    "start_time": "2023-03-28T10:30:11.433Z"
   },
   {
    "duration": 50,
    "start_time": "2023-03-28T10:30:11.441Z"
   },
   {
    "duration": 18,
    "start_time": "2023-03-28T10:30:11.493Z"
   },
   {
    "duration": 17,
    "start_time": "2023-03-28T10:30:11.513Z"
   },
   {
    "duration": 6,
    "start_time": "2023-03-28T10:30:11.532Z"
   },
   {
    "duration": 34,
    "start_time": "2023-03-28T10:30:11.539Z"
   },
   {
    "duration": 20,
    "start_time": "2023-03-28T10:30:11.575Z"
   },
   {
    "duration": 12,
    "start_time": "2023-03-28T10:30:11.597Z"
   },
   {
    "duration": 28,
    "start_time": "2023-03-28T10:30:11.610Z"
   },
   {
    "duration": 33,
    "start_time": "2023-03-28T10:30:11.640Z"
   },
   {
    "duration": 20,
    "start_time": "2023-03-28T10:30:11.676Z"
   },
   {
    "duration": 8,
    "start_time": "2023-03-28T10:30:11.698Z"
   },
   {
    "duration": 22,
    "start_time": "2023-03-28T10:30:11.708Z"
   },
   {
    "duration": 6,
    "start_time": "2023-03-28T10:30:11.732Z"
   },
   {
    "duration": 62,
    "start_time": "2023-03-28T10:30:11.740Z"
   },
   {
    "duration": 4,
    "start_time": "2023-03-28T10:30:11.804Z"
   },
   {
    "duration": 125,
    "start_time": "2023-03-28T10:30:11.810Z"
   },
   {
    "duration": 767,
    "start_time": "2023-03-28T10:30:11.941Z"
   },
   {
    "duration": 1039729,
    "start_time": "2023-03-28T10:30:12.710Z"
   },
   {
    "duration": 29,
    "start_time": "2023-03-28T10:47:32.441Z"
   },
   {
    "duration": 180,
    "start_time": "2023-03-28T10:47:32.475Z"
   },
   {
    "duration": 3083,
    "start_time": "2023-03-28T10:47:32.663Z"
   },
   {
    "duration": 8,
    "start_time": "2023-03-28T10:47:35.747Z"
   },
   {
    "duration": 118,
    "start_time": "2023-03-28T10:47:35.761Z"
   },
   {
    "duration": 12,
    "start_time": "2023-03-28T10:47:35.881Z"
   },
   {
    "duration": 35,
    "start_time": "2023-03-28T10:47:35.895Z"
   },
   {
    "duration": 129,
    "start_time": "2023-03-28T10:47:35.932Z"
   },
   {
    "duration": 341,
    "start_time": "2023-03-28T10:47:36.064Z"
   },
   {
    "duration": 49,
    "start_time": "2023-03-28T10:47:36.407Z"
   },
   {
    "duration": 22,
    "start_time": "2023-03-28T10:47:36.460Z"
   },
   {
    "duration": 66,
    "start_time": "2023-03-28T10:47:36.484Z"
   },
   {
    "duration": 244,
    "start_time": "2023-03-28T10:47:36.557Z"
   },
   {
    "duration": 19,
    "start_time": "2023-03-28T10:47:36.803Z"
   },
   {
    "duration": 136,
    "start_time": "2023-03-28T10:47:36.823Z"
   },
   {
    "duration": 136,
    "start_time": "2023-03-28T10:47:36.963Z"
   },
   {
    "duration": 4,
    "start_time": "2023-03-28T10:47:37.101Z"
   },
   {
    "duration": 185,
    "start_time": "2023-03-28T10:47:37.107Z"
   },
   {
    "duration": 36,
    "start_time": "2023-03-28T11:02:21.870Z"
   },
   {
    "duration": 719,
    "start_time": "2023-03-28T11:02:22.436Z"
   },
   {
    "duration": 4883,
    "start_time": "2023-03-28T11:02:24.076Z"
   },
   {
    "duration": 16,
    "start_time": "2023-03-28T11:02:28.964Z"
   },
   {
    "duration": 38,
    "start_time": "2023-03-28T11:02:29.045Z"
   },
   {
    "duration": 23,
    "start_time": "2023-03-28T11:02:30.042Z"
   },
   {
    "duration": 16,
    "start_time": "2023-03-28T11:02:33.080Z"
   },
   {
    "duration": 63,
    "start_time": "2023-03-28T11:02:39.618Z"
   },
   {
    "duration": 974,
    "start_time": "2023-03-28T11:02:46.265Z"
   },
   {
    "duration": 40,
    "start_time": "2023-03-28T11:02:47.243Z"
   },
   {
    "duration": 13,
    "start_time": "2023-03-28T11:02:50.102Z"
   },
   {
    "duration": 31,
    "start_time": "2023-03-28T11:02:53.182Z"
   },
   {
    "duration": 422,
    "start_time": "2023-03-28T11:02:53.836Z"
   },
   {
    "duration": 24,
    "start_time": "2023-03-28T11:02:55.056Z"
   },
   {
    "duration": 129,
    "start_time": "2023-03-28T11:03:01.078Z"
   },
   {
    "duration": 158,
    "start_time": "2023-03-28T11:04:28.231Z"
   },
   {
    "duration": 17,
    "start_time": "2023-03-28T11:04:54.715Z"
   },
   {
    "duration": 154,
    "start_time": "2023-03-28T11:04:56.818Z"
   },
   {
    "duration": 387,
    "start_time": "2023-03-28T11:04:57.227Z"
   },
   {
    "duration": 26,
    "start_time": "2023-03-28T11:04:57.654Z"
   },
   {
    "duration": 13,
    "start_time": "2023-03-28T11:04:59.479Z"
   },
   {
    "duration": 150,
    "start_time": "2023-03-28T11:05:03.056Z"
   },
   {
    "duration": 1690,
    "start_time": "2023-03-28T11:05:47.834Z"
   },
   {
    "duration": 81,
    "start_time": "2023-03-28T11:05:49.527Z"
   },
   {
    "duration": 17,
    "start_time": "2023-03-28T11:05:49.609Z"
   },
   {
    "duration": 30,
    "start_time": "2023-03-28T11:05:49.629Z"
   },
   {
    "duration": 112,
    "start_time": "2023-03-28T11:05:49.664Z"
   },
   {
    "duration": 19,
    "start_time": "2023-03-28T11:05:49.778Z"
   },
   {
    "duration": 24,
    "start_time": "2023-03-28T11:05:49.799Z"
   },
   {
    "duration": 31,
    "start_time": "2023-03-28T11:05:49.825Z"
   },
   {
    "duration": 22,
    "start_time": "2023-03-28T11:05:49.859Z"
   },
   {
    "duration": 1805,
    "start_time": "2023-03-28T11:05:49.885Z"
   },
   {
    "duration": 3,
    "start_time": "2023-03-28T11:05:51.693Z"
   },
   {
    "duration": 9,
    "start_time": "2023-03-28T11:05:51.698Z"
   },
   {
    "duration": 5,
    "start_time": "2023-03-28T11:05:51.710Z"
   },
   {
    "duration": 26,
    "start_time": "2023-03-28T11:05:51.717Z"
   },
   {
    "duration": 13,
    "start_time": "2023-03-28T11:05:51.750Z"
   },
   {
    "duration": 34,
    "start_time": "2023-03-28T11:05:51.765Z"
   },
   {
    "duration": 27,
    "start_time": "2023-03-28T11:05:51.801Z"
   },
   {
    "duration": 53,
    "start_time": "2023-03-28T11:05:51.830Z"
   },
   {
    "duration": 12,
    "start_time": "2023-03-28T11:05:51.885Z"
   },
   {
    "duration": 13,
    "start_time": "2023-03-28T11:05:51.899Z"
   },
   {
    "duration": 8,
    "start_time": "2023-03-28T11:05:51.915Z"
   },
   {
    "duration": 53,
    "start_time": "2023-03-28T11:05:51.925Z"
   },
   {
    "duration": 11,
    "start_time": "2023-03-28T11:05:51.981Z"
   },
   {
    "duration": 7,
    "start_time": "2023-03-28T11:05:51.995Z"
   },
   {
    "duration": 7,
    "start_time": "2023-03-28T11:05:52.004Z"
   },
   {
    "duration": 17,
    "start_time": "2023-03-28T11:05:52.013Z"
   },
   {
    "duration": 14,
    "start_time": "2023-03-28T11:05:52.033Z"
   },
   {
    "duration": 38,
    "start_time": "2023-03-28T11:05:52.058Z"
   },
   {
    "duration": 17,
    "start_time": "2023-03-28T11:05:52.098Z"
   },
   {
    "duration": 19,
    "start_time": "2023-03-28T11:05:52.117Z"
   },
   {
    "duration": 49,
    "start_time": "2023-03-28T11:05:52.138Z"
   },
   {
    "duration": 25,
    "start_time": "2023-03-28T11:05:52.190Z"
   },
   {
    "duration": 33,
    "start_time": "2023-03-28T11:05:52.217Z"
   },
   {
    "duration": 34,
    "start_time": "2023-03-28T11:05:52.257Z"
   },
   {
    "duration": 10,
    "start_time": "2023-03-28T11:05:52.294Z"
   },
   {
    "duration": 32,
    "start_time": "2023-03-28T11:05:52.306Z"
   },
   {
    "duration": 42,
    "start_time": "2023-03-28T11:05:52.340Z"
   },
   {
    "duration": 21,
    "start_time": "2023-03-28T11:05:52.384Z"
   },
   {
    "duration": 28,
    "start_time": "2023-03-28T11:05:52.407Z"
   },
   {
    "duration": 11,
    "start_time": "2023-03-28T11:05:52.438Z"
   },
   {
    "duration": 67,
    "start_time": "2023-03-28T11:05:52.457Z"
   },
   {
    "duration": 4,
    "start_time": "2023-03-28T11:05:52.526Z"
   },
   {
    "duration": 166,
    "start_time": "2023-03-28T11:05:52.532Z"
   },
   {
    "duration": 334,
    "start_time": "2023-03-28T11:05:52.700Z"
   },
   {
    "duration": 111185,
    "start_time": "2023-03-28T11:05:53.036Z"
   },
   {
    "duration": 43,
    "start_time": "2023-03-28T11:07:44.224Z"
   },
   {
    "duration": 604,
    "start_time": "2023-03-28T11:07:44.268Z"
   },
   {
    "duration": 3508,
    "start_time": "2023-03-28T11:07:44.876Z"
   },
   {
    "duration": 65,
    "start_time": "2023-03-28T11:07:48.389Z"
   },
   {
    "duration": 88,
    "start_time": "2023-03-28T11:07:48.461Z"
   },
   {
    "duration": 12,
    "start_time": "2023-03-28T11:07:48.551Z"
   },
   {
    "duration": 28,
    "start_time": "2023-03-28T11:07:48.565Z"
   },
   {
    "duration": 62,
    "start_time": "2023-03-28T11:07:48.595Z"
   },
   {
    "duration": 997,
    "start_time": "2023-03-28T11:07:48.659Z"
   },
   {
    "duration": 32,
    "start_time": "2023-03-28T11:07:49.658Z"
   },
   {
    "duration": 16,
    "start_time": "2023-03-28T11:07:49.692Z"
   },
   {
    "duration": 78,
    "start_time": "2023-03-28T11:07:49.710Z"
   },
   {
    "duration": 522,
    "start_time": "2023-03-28T11:07:49.789Z"
   },
   {
    "duration": 35,
    "start_time": "2023-03-28T11:07:50.314Z"
   },
   {
    "duration": 139,
    "start_time": "2023-03-28T11:07:50.352Z"
   },
   {
    "duration": 154,
    "start_time": "2023-03-28T11:07:50.493Z"
   },
   {
    "duration": 5,
    "start_time": "2023-03-28T11:07:50.649Z"
   },
   {
    "duration": 215,
    "start_time": "2023-03-28T11:07:50.655Z"
   },
   {
    "duration": 37,
    "start_time": "2023-03-28T11:08:38.284Z"
   },
   {
    "duration": 81,
    "start_time": "2023-03-28T11:08:38.501Z"
   },
   {
    "duration": 3160,
    "start_time": "2023-03-28T11:08:38.687Z"
   },
   {
    "duration": 91,
    "start_time": "2023-03-28T11:08:41.855Z"
   },
   {
    "duration": 40,
    "start_time": "2023-03-28T11:08:41.949Z"
   },
   {
    "duration": 9,
    "start_time": "2023-03-28T11:08:41.992Z"
   },
   {
    "duration": 18,
    "start_time": "2023-03-28T11:08:42.003Z"
   },
   {
    "duration": 75,
    "start_time": "2023-03-28T11:08:42.024Z"
   },
   {
    "duration": 190,
    "start_time": "2023-03-28T11:08:42.145Z"
   },
   {
    "duration": 38,
    "start_time": "2023-03-28T11:08:42.341Z"
   },
   {
    "duration": 33,
    "start_time": "2023-03-28T11:08:42.381Z"
   },
   {
    "duration": 42,
    "start_time": "2023-03-28T11:08:42.417Z"
   },
   {
    "duration": 188,
    "start_time": "2023-03-28T11:08:42.461Z"
   },
   {
    "duration": 39,
    "start_time": "2023-03-28T11:08:42.651Z"
   },
   {
    "duration": 71,
    "start_time": "2023-03-28T11:08:42.692Z"
   },
   {
    "duration": 162,
    "start_time": "2023-03-28T11:08:42.765Z"
   },
   {
    "duration": 6,
    "start_time": "2023-03-28T11:08:42.930Z"
   },
   {
    "duration": 210,
    "start_time": "2023-03-28T11:08:42.941Z"
   },
   {
    "duration": 1608,
    "start_time": "2023-03-28T11:10:47.250Z"
   },
   {
    "duration": 77,
    "start_time": "2023-03-28T11:10:48.862Z"
   },
   {
    "duration": 29,
    "start_time": "2023-03-28T11:10:48.947Z"
   },
   {
    "duration": 27,
    "start_time": "2023-03-28T11:10:48.982Z"
   },
   {
    "duration": 49,
    "start_time": "2023-03-28T11:10:49.011Z"
   },
   {
    "duration": 22,
    "start_time": "2023-03-28T11:10:49.062Z"
   },
   {
    "duration": 32,
    "start_time": "2023-03-28T11:10:49.087Z"
   },
   {
    "duration": 56,
    "start_time": "2023-03-28T11:10:49.121Z"
   },
   {
    "duration": 21,
    "start_time": "2023-03-28T11:10:49.182Z"
   },
   {
    "duration": 1890,
    "start_time": "2023-03-28T11:10:49.207Z"
   },
   {
    "duration": 16,
    "start_time": "2023-03-28T11:10:51.102Z"
   },
   {
    "duration": 70,
    "start_time": "2023-03-28T11:10:51.120Z"
   },
   {
    "duration": 28,
    "start_time": "2023-03-28T11:10:51.192Z"
   },
   {
    "duration": 13,
    "start_time": "2023-03-28T11:10:51.223Z"
   },
   {
    "duration": 72,
    "start_time": "2023-03-28T11:10:51.238Z"
   },
   {
    "duration": 10,
    "start_time": "2023-03-28T11:10:51.313Z"
   },
   {
    "duration": 43,
    "start_time": "2023-03-28T11:10:51.326Z"
   },
   {
    "duration": 33,
    "start_time": "2023-03-28T11:10:51.374Z"
   },
   {
    "duration": 6,
    "start_time": "2023-03-28T11:10:51.408Z"
   },
   {
    "duration": 21,
    "start_time": "2023-03-28T11:10:51.415Z"
   },
   {
    "duration": 52,
    "start_time": "2023-03-28T11:10:51.439Z"
   },
   {
    "duration": 9,
    "start_time": "2023-03-28T11:10:51.494Z"
   },
   {
    "duration": 9,
    "start_time": "2023-03-28T11:10:51.506Z"
   },
   {
    "duration": 9,
    "start_time": "2023-03-28T11:10:51.517Z"
   },
   {
    "duration": 8,
    "start_time": "2023-03-28T11:10:51.528Z"
   },
   {
    "duration": 48,
    "start_time": "2023-03-28T11:10:51.538Z"
   },
   {
    "duration": 12,
    "start_time": "2023-03-28T11:10:51.588Z"
   },
   {
    "duration": 6,
    "start_time": "2023-03-28T11:10:51.605Z"
   },
   {
    "duration": 6,
    "start_time": "2023-03-28T11:10:51.613Z"
   },
   {
    "duration": 18,
    "start_time": "2023-03-28T11:10:51.621Z"
   },
   {
    "duration": 43,
    "start_time": "2023-03-28T11:10:51.647Z"
   },
   {
    "duration": 9,
    "start_time": "2023-03-28T11:10:51.692Z"
   },
   {
    "duration": 17,
    "start_time": "2023-03-28T11:10:51.703Z"
   },
   {
    "duration": 16,
    "start_time": "2023-03-28T11:10:51.722Z"
   },
   {
    "duration": 56,
    "start_time": "2023-03-28T11:10:51.740Z"
   },
   {
    "duration": 10,
    "start_time": "2023-03-28T11:10:51.798Z"
   },
   {
    "duration": 7,
    "start_time": "2023-03-28T11:10:51.810Z"
   },
   {
    "duration": 19,
    "start_time": "2023-03-28T11:10:51.819Z"
   },
   {
    "duration": 81,
    "start_time": "2023-03-28T11:10:51.840Z"
   },
   {
    "duration": 11,
    "start_time": "2023-03-28T11:10:51.923Z"
   },
   {
    "duration": 70,
    "start_time": "2023-03-28T11:10:51.936Z"
   },
   {
    "duration": 4,
    "start_time": "2023-03-28T11:10:52.008Z"
   },
   {
    "duration": 153,
    "start_time": "2023-03-28T11:10:52.013Z"
   },
   {
    "duration": 863,
    "start_time": "2023-03-28T11:10:52.168Z"
   },
   {
    "duration": 1121164,
    "start_time": "2023-03-28T11:10:53.033Z"
   },
   {
    "duration": 55,
    "start_time": "2023-03-28T11:29:34.199Z"
   },
   {
    "duration": 108,
    "start_time": "2023-03-28T11:29:34.257Z"
   },
   {
    "duration": 3005,
    "start_time": "2023-03-28T11:29:34.368Z"
   },
   {
    "duration": 48,
    "start_time": "2023-03-28T11:29:37.445Z"
   },
   {
    "duration": 21,
    "start_time": "2023-03-28T11:29:37.497Z"
   },
   {
    "duration": 29,
    "start_time": "2023-03-28T11:29:37.520Z"
   },
   {
    "duration": 30,
    "start_time": "2023-03-28T11:29:37.552Z"
   },
   {
    "duration": 281,
    "start_time": "2023-03-28T11:29:37.585Z"
   },
   {
    "duration": 170,
    "start_time": "2023-03-28T11:29:37.884Z"
   },
   {
    "duration": 40,
    "start_time": "2023-03-28T11:29:38.061Z"
   },
   {
    "duration": 17,
    "start_time": "2023-03-28T11:29:38.104Z"
   },
   {
    "duration": 162,
    "start_time": "2023-03-28T11:29:38.123Z"
   },
   {
    "duration": 88,
    "start_time": "2023-03-28T11:29:38.340Z"
   },
   {
    "duration": 32,
    "start_time": "2023-03-28T11:29:38.430Z"
   },
   {
    "duration": 91,
    "start_time": "2023-03-28T11:29:38.465Z"
   },
   {
    "duration": 197,
    "start_time": "2023-03-28T11:29:38.561Z"
   },
   {
    "duration": 6,
    "start_time": "2023-03-28T11:29:38.762Z"
   },
   {
    "duration": 265,
    "start_time": "2023-03-28T11:29:38.770Z"
   },
   {
    "duration": 162,
    "start_time": "2023-03-28T11:30:10.503Z"
   },
   {
    "duration": 73,
    "start_time": "2023-03-28T11:30:17.100Z"
   },
   {
    "duration": 49,
    "start_time": "2023-03-28T11:30:24.922Z"
   },
   {
    "duration": 60,
    "start_time": "2023-03-28T11:30:28.282Z"
   },
   {
    "duration": 353,
    "start_time": "2023-03-28T11:30:30.414Z"
   },
   {
    "duration": 442,
    "start_time": "2023-03-28T11:30:34.406Z"
   },
   {
    "duration": 34,
    "start_time": "2023-03-28T11:31:43.299Z"
   },
   {
    "duration": 580,
    "start_time": "2023-03-28T11:31:43.694Z"
   },
   {
    "duration": 2580,
    "start_time": "2023-03-28T11:31:44.278Z"
   },
   {
    "duration": 13,
    "start_time": "2023-03-28T11:31:46.870Z"
   },
   {
    "duration": 63,
    "start_time": "2023-03-28T11:31:46.887Z"
   },
   {
    "duration": 34,
    "start_time": "2023-03-28T11:31:46.953Z"
   },
   {
    "duration": 14,
    "start_time": "2023-03-28T11:31:46.988Z"
   },
   {
    "duration": 63,
    "start_time": "2023-03-28T11:31:47.004Z"
   },
   {
    "duration": 731,
    "start_time": "2023-03-28T11:31:47.151Z"
   },
   {
    "duration": 29,
    "start_time": "2023-03-28T11:31:47.885Z"
   },
   {
    "duration": 45,
    "start_time": "2023-03-28T11:31:47.916Z"
   },
   {
    "duration": 80,
    "start_time": "2023-03-28T11:31:47.968Z"
   },
   {
    "duration": 433,
    "start_time": "2023-03-28T11:31:48.050Z"
   },
   {
    "duration": 23,
    "start_time": "2023-03-28T11:31:48.485Z"
   },
   {
    "duration": 384,
    "start_time": "2023-03-28T11:31:48.510Z"
   },
   {
    "duration": 144,
    "start_time": "2023-03-28T11:31:48.896Z"
   },
   {
    "duration": 4,
    "start_time": "2023-03-28T11:31:49.047Z"
   },
   {
    "duration": 206,
    "start_time": "2023-03-28T11:31:49.053Z"
   },
   {
    "duration": 383,
    "start_time": "2023-03-28T11:32:04.778Z"
   },
   {
    "duration": 471,
    "start_time": "2023-03-28T11:32:08.936Z"
   },
   {
    "duration": 404,
    "start_time": "2023-03-28T11:32:11.676Z"
   },
   {
    "duration": 388,
    "start_time": "2023-03-28T11:32:14.236Z"
   },
   {
    "duration": 359,
    "start_time": "2023-03-28T11:32:17.805Z"
   },
   {
    "duration": 362,
    "start_time": "2023-03-28T11:32:20.126Z"
   },
   {
    "duration": 313,
    "start_time": "2023-03-28T11:32:22.288Z"
   },
   {
    "duration": 440,
    "start_time": "2023-03-28T11:32:24.507Z"
   },
   {
    "duration": 181,
    "start_time": "2023-03-28T11:32:28.929Z"
   },
   {
    "duration": 216,
    "start_time": "2023-03-28T11:32:32.298Z"
   },
   {
    "duration": 282,
    "start_time": "2023-03-28T11:32:35.083Z"
   },
   {
    "duration": 319,
    "start_time": "2023-03-28T11:32:37.760Z"
   },
   {
    "duration": 303,
    "start_time": "2023-03-28T11:32:39.974Z"
   },
   {
    "duration": 501,
    "start_time": "2023-03-28T11:32:42.421Z"
   },
   {
    "duration": 628,
    "start_time": "2023-03-28T11:32:47.118Z"
   },
   {
    "duration": 337,
    "start_time": "2023-03-28T11:32:51.911Z"
   },
   {
    "duration": 17,
    "start_time": "2023-03-28T11:33:02.074Z"
   },
   {
    "duration": 119,
    "start_time": "2023-03-28T11:33:03.237Z"
   },
   {
    "duration": 356,
    "start_time": "2023-03-28T11:33:04.323Z"
   },
   {
    "duration": 20,
    "start_time": "2023-03-28T11:33:04.976Z"
   },
   {
    "duration": 342,
    "start_time": "2023-03-28T11:33:07.174Z"
   },
   {
    "duration": 25,
    "start_time": "2023-03-28T11:33:11.836Z"
   },
   {
    "duration": 83,
    "start_time": "2023-03-28T11:33:12.573Z"
   },
   {
    "duration": 340,
    "start_time": "2023-03-28T11:33:12.748Z"
   },
   {
    "duration": 24,
    "start_time": "2023-03-28T11:33:13.090Z"
   },
   {
    "duration": 379,
    "start_time": "2023-03-28T11:33:13.810Z"
   },
   {
    "duration": 13,
    "start_time": "2023-03-28T11:33:26.624Z"
   },
   {
    "duration": 26,
    "start_time": "2023-03-28T11:33:27.302Z"
   },
   {
    "duration": 398,
    "start_time": "2023-03-28T11:33:27.451Z"
   },
   {
    "duration": 29,
    "start_time": "2023-03-28T11:33:27.861Z"
   },
   {
    "duration": 359,
    "start_time": "2023-03-28T11:33:28.341Z"
   },
   {
    "duration": 122,
    "start_time": "2023-03-28T11:33:35.184Z"
   },
   {
    "duration": 69,
    "start_time": "2023-03-28T11:33:40.381Z"
   },
   {
    "duration": 37,
    "start_time": "2023-03-28T12:46:13.536Z"
   },
   {
    "duration": 10,
    "start_time": "2023-03-28T12:46:14.359Z"
   },
   {
    "duration": 42,
    "start_time": "2023-03-28T12:46:14.771Z"
   },
   {
    "duration": 44,
    "start_time": "2023-03-28T12:46:17.580Z"
   },
   {
    "duration": 28,
    "start_time": "2023-03-28T12:46:21.475Z"
   },
   {
    "duration": 22,
    "start_time": "2023-03-28T12:46:27.589Z"
   },
   {
    "duration": 1585,
    "start_time": "2023-03-28T12:52:52.419Z"
   },
   {
    "duration": 69,
    "start_time": "2023-03-28T12:52:54.006Z"
   },
   {
    "duration": 18,
    "start_time": "2023-03-28T12:52:54.077Z"
   },
   {
    "duration": 15,
    "start_time": "2023-03-28T12:52:54.098Z"
   },
   {
    "duration": 72,
    "start_time": "2023-03-28T12:52:54.115Z"
   },
   {
    "duration": 19,
    "start_time": "2023-03-28T12:52:54.189Z"
   },
   {
    "duration": 4,
    "start_time": "2023-03-28T12:52:54.210Z"
   },
   {
    "duration": 58,
    "start_time": "2023-03-28T12:52:54.216Z"
   },
   {
    "duration": 4,
    "start_time": "2023-03-28T12:52:54.278Z"
   },
   {
    "duration": 1746,
    "start_time": "2023-03-28T12:52:54.285Z"
   },
   {
    "duration": 7,
    "start_time": "2023-03-28T12:52:56.040Z"
   },
   {
    "duration": 41,
    "start_time": "2023-03-28T12:52:56.053Z"
   },
   {
    "duration": 17,
    "start_time": "2023-03-28T12:52:56.096Z"
   },
   {
    "duration": 14,
    "start_time": "2023-03-28T12:52:56.115Z"
   },
   {
    "duration": 8,
    "start_time": "2023-03-28T12:52:56.131Z"
   },
   {
    "duration": 50,
    "start_time": "2023-03-28T12:52:56.143Z"
   },
   {
    "duration": 17,
    "start_time": "2023-03-28T12:52:56.197Z"
   },
   {
    "duration": 17,
    "start_time": "2023-03-28T12:52:56.217Z"
   },
   {
    "duration": 29,
    "start_time": "2023-03-28T12:52:56.237Z"
   },
   {
    "duration": 20,
    "start_time": "2023-03-28T12:52:56.268Z"
   },
   {
    "duration": 11,
    "start_time": "2023-03-28T12:52:56.291Z"
   },
   {
    "duration": 12,
    "start_time": "2023-03-28T12:52:56.304Z"
   },
   {
    "duration": 17,
    "start_time": "2023-03-28T12:52:56.319Z"
   },
   {
    "duration": 48,
    "start_time": "2023-03-28T12:52:56.339Z"
   },
   {
    "duration": 23,
    "start_time": "2023-03-28T12:52:56.389Z"
   },
   {
    "duration": 22,
    "start_time": "2023-03-28T12:52:56.414Z"
   },
   {
    "duration": 39,
    "start_time": "2023-03-28T12:52:56.438Z"
   },
   {
    "duration": 8,
    "start_time": "2023-03-28T12:52:56.482Z"
   },
   {
    "duration": 8,
    "start_time": "2023-03-28T12:52:56.492Z"
   },
   {
    "duration": 6,
    "start_time": "2023-03-28T12:52:56.502Z"
   },
   {
    "duration": 6,
    "start_time": "2023-03-28T12:52:56.510Z"
   },
   {
    "duration": 10,
    "start_time": "2023-03-28T12:52:56.518Z"
   },
   {
    "duration": 4,
    "start_time": "2023-03-28T12:52:56.531Z"
   },
   {
    "duration": 40,
    "start_time": "2023-03-28T12:52:56.537Z"
   },
   {
    "duration": 8,
    "start_time": "2023-03-28T12:52:56.579Z"
   },
   {
    "duration": 18,
    "start_time": "2023-03-28T12:52:56.589Z"
   },
   {
    "duration": 7,
    "start_time": "2023-03-28T12:52:56.609Z"
   },
   {
    "duration": 9,
    "start_time": "2023-03-28T12:52:56.618Z"
   },
   {
    "duration": 31,
    "start_time": "2023-03-28T12:52:56.629Z"
   },
   {
    "duration": 45,
    "start_time": "2023-03-28T12:52:56.667Z"
   },
   {
    "duration": 35,
    "start_time": "2023-03-28T12:52:56.714Z"
   },
   {
    "duration": 10,
    "start_time": "2023-03-28T12:52:56.756Z"
   },
   {
    "duration": 145,
    "start_time": "2023-03-28T12:52:56.769Z"
   },
   {
    "duration": 937,
    "start_time": "2023-03-28T12:52:56.916Z"
   },
   {
    "duration": 1171192,
    "start_time": "2023-03-28T12:52:57.855Z"
   },
   {
    "duration": 40,
    "start_time": "2023-03-28T13:12:29.051Z"
   },
   {
    "duration": 76,
    "start_time": "2023-03-28T13:12:29.095Z"
   },
   {
    "duration": 1788,
    "start_time": "2023-03-28T13:12:29.174Z"
   },
   {
    "duration": 80,
    "start_time": "2023-03-28T13:12:30.969Z"
   },
   {
    "duration": 318,
    "start_time": "2023-03-28T13:12:31.061Z"
   },
   {
    "duration": 126,
    "start_time": "2023-03-28T13:12:31.383Z"
   },
   {
    "duration": 43,
    "start_time": "2023-03-28T13:12:31.512Z"
   },
   {
    "duration": 231,
    "start_time": "2023-03-28T13:12:31.558Z"
   },
   {
    "duration": 118,
    "start_time": "2023-03-28T13:12:31.851Z"
   },
   {
    "duration": 46,
    "start_time": "2023-03-28T13:12:31.973Z"
   },
   {
    "duration": 27,
    "start_time": "2023-03-28T13:12:32.021Z"
   },
   {
    "duration": 138,
    "start_time": "2023-03-28T13:12:32.051Z"
   },
   {
    "duration": 155,
    "start_time": "2023-03-28T13:12:32.245Z"
   },
   {
    "duration": 27,
    "start_time": "2023-03-28T13:12:32.403Z"
   },
   {
    "duration": 97,
    "start_time": "2023-03-28T13:12:32.432Z"
   },
   {
    "duration": 197,
    "start_time": "2023-03-28T13:12:32.532Z"
   },
   {
    "duration": 16,
    "start_time": "2023-03-28T13:12:32.731Z"
   },
   {
    "duration": 236,
    "start_time": "2023-03-28T13:12:32.749Z"
   },
   {
    "duration": 14,
    "start_time": "2023-03-28T13:12:34.872Z"
   },
   {
    "duration": 6,
    "start_time": "2023-03-28T13:14:24.895Z"
   },
   {
    "duration": 9,
    "start_time": "2023-03-28T13:14:29.671Z"
   },
   {
    "duration": 7,
    "start_time": "2023-03-28T13:14:39.337Z"
   },
   {
    "duration": 7,
    "start_time": "2023-03-28T13:14:46.858Z"
   },
   {
    "duration": 40,
    "start_time": "2023-03-28T13:15:30.568Z"
   },
   {
    "duration": 393,
    "start_time": "2023-03-28T13:15:31.064Z"
   },
   {
    "duration": 1839,
    "start_time": "2023-03-28T13:15:31.459Z"
   },
   {
    "duration": 49,
    "start_time": "2023-03-28T13:15:33.300Z"
   },
   {
    "duration": 127,
    "start_time": "2023-03-28T13:15:33.363Z"
   },
   {
    "duration": 9,
    "start_time": "2023-03-28T13:15:33.492Z"
   },
   {
    "duration": 16,
    "start_time": "2023-03-28T13:15:33.503Z"
   },
   {
    "duration": 71,
    "start_time": "2023-03-28T13:15:33.521Z"
   },
   {
    "duration": 576,
    "start_time": "2023-03-28T13:15:33.650Z"
   },
   {
    "duration": 52,
    "start_time": "2023-03-28T13:15:34.228Z"
   },
   {
    "duration": 29,
    "start_time": "2023-03-28T13:15:34.283Z"
   },
   {
    "duration": 46,
    "start_time": "2023-03-28T13:15:34.314Z"
   },
   {
    "duration": 313,
    "start_time": "2023-03-28T13:15:34.367Z"
   },
   {
    "duration": 26,
    "start_time": "2023-03-28T13:15:34.692Z"
   },
   {
    "duration": 261,
    "start_time": "2023-03-28T13:15:34.720Z"
   },
   {
    "duration": 191,
    "start_time": "2023-03-28T13:15:34.991Z"
   },
   {
    "duration": 15,
    "start_time": "2023-03-28T13:15:35.184Z"
   },
   {
    "duration": 230,
    "start_time": "2023-03-28T13:15:35.202Z"
   },
   {
    "duration": 200,
    "start_time": "2023-03-28T13:16:32.289Z"
   },
   {
    "duration": 199,
    "start_time": "2023-03-28T13:16:35.518Z"
   },
   {
    "duration": 44,
    "start_time": "2023-03-28T13:16:46.307Z"
   },
   {
    "duration": 267,
    "start_time": "2023-03-28T13:16:49.582Z"
   },
   {
    "duration": 44,
    "start_time": "2023-03-28T13:16:51.494Z"
   },
   {
    "duration": 37,
    "start_time": "2023-03-28T13:17:01.298Z"
   },
   {
    "duration": 69,
    "start_time": "2023-03-28T13:17:04.501Z"
   },
   {
    "duration": 75,
    "start_time": "2023-03-28T13:17:12.709Z"
   },
   {
    "duration": 401,
    "start_time": "2023-03-28T13:17:16.898Z"
   },
   {
    "duration": 200,
    "start_time": "2023-03-28T13:17:25.995Z"
   },
   {
    "duration": 6,
    "start_time": "2023-03-28T13:17:26.202Z"
   },
   {
    "duration": 244,
    "start_time": "2023-03-28T13:17:27.542Z"
   },
   {
    "duration": 1737,
    "start_time": "2023-03-28T13:19:05.876Z"
   },
   {
    "duration": 78,
    "start_time": "2023-03-28T13:19:07.615Z"
   },
   {
    "duration": 19,
    "start_time": "2023-03-28T13:19:07.695Z"
   },
   {
    "duration": 49,
    "start_time": "2023-03-28T13:19:07.717Z"
   },
   {
    "duration": 85,
    "start_time": "2023-03-28T13:19:07.775Z"
   },
   {
    "duration": 29,
    "start_time": "2023-03-28T13:19:07.863Z"
   },
   {
    "duration": 41,
    "start_time": "2023-03-28T13:19:07.894Z"
   },
   {
    "duration": 77,
    "start_time": "2023-03-28T13:19:07.937Z"
   },
   {
    "duration": 59,
    "start_time": "2023-03-28T13:19:08.016Z"
   },
   {
    "duration": 1907,
    "start_time": "2023-03-28T13:19:08.079Z"
   },
   {
    "duration": 4,
    "start_time": "2023-03-28T13:19:09.988Z"
   },
   {
    "duration": 37,
    "start_time": "2023-03-28T13:19:09.993Z"
   },
   {
    "duration": 45,
    "start_time": "2023-03-28T13:19:10.032Z"
   },
   {
    "duration": 31,
    "start_time": "2023-03-28T13:19:10.079Z"
   },
   {
    "duration": 22,
    "start_time": "2023-03-28T13:19:10.111Z"
   },
   {
    "duration": 64,
    "start_time": "2023-03-28T13:19:10.135Z"
   },
   {
    "duration": 27,
    "start_time": "2023-03-28T13:19:10.201Z"
   },
   {
    "duration": 82,
    "start_time": "2023-03-28T13:19:10.231Z"
   },
   {
    "duration": 60,
    "start_time": "2023-03-28T13:19:10.315Z"
   },
   {
    "duration": 54,
    "start_time": "2023-03-28T13:19:10.379Z"
   },
   {
    "duration": 90,
    "start_time": "2023-03-28T13:19:10.435Z"
   },
   {
    "duration": 43,
    "start_time": "2023-03-28T13:19:10.527Z"
   },
   {
    "duration": 35,
    "start_time": "2023-03-28T13:19:10.572Z"
   },
   {
    "duration": 28,
    "start_time": "2023-03-28T13:19:10.609Z"
   },
   {
    "duration": 63,
    "start_time": "2023-03-28T13:19:10.638Z"
   },
   {
    "duration": 22,
    "start_time": "2023-03-28T13:19:10.703Z"
   },
   {
    "duration": 48,
    "start_time": "2023-03-28T13:19:10.727Z"
   },
   {
    "duration": 12,
    "start_time": "2023-03-28T13:19:10.781Z"
   },
   {
    "duration": 6,
    "start_time": "2023-03-28T13:19:10.796Z"
   },
   {
    "duration": 13,
    "start_time": "2023-03-28T13:19:10.804Z"
   },
   {
    "duration": 12,
    "start_time": "2023-03-28T13:19:10.819Z"
   },
   {
    "duration": 56,
    "start_time": "2023-03-28T13:19:10.833Z"
   },
   {
    "duration": 16,
    "start_time": "2023-03-28T13:19:10.891Z"
   },
   {
    "duration": 19,
    "start_time": "2023-03-28T13:19:10.909Z"
   },
   {
    "duration": 48,
    "start_time": "2023-03-28T13:19:10.930Z"
   },
   {
    "duration": 40,
    "start_time": "2023-03-28T13:19:10.980Z"
   },
   {
    "duration": 59,
    "start_time": "2023-03-28T13:19:11.022Z"
   },
   {
    "duration": 61,
    "start_time": "2023-03-28T13:19:11.083Z"
   },
   {
    "duration": 85,
    "start_time": "2023-03-28T13:19:11.153Z"
   },
   {
    "duration": 65,
    "start_time": "2023-03-28T13:19:11.240Z"
   },
   {
    "duration": 74,
    "start_time": "2023-03-28T13:19:11.307Z"
   },
   {
    "duration": 32,
    "start_time": "2023-03-28T13:19:11.383Z"
   },
   {
    "duration": 172,
    "start_time": "2023-03-28T13:19:11.417Z"
   },
   {
    "duration": 368,
    "start_time": "2023-03-28T13:19:11.592Z"
   },
   {
    "duration": 111246,
    "start_time": "2023-03-28T13:19:11.961Z"
   },
   {
    "duration": 45,
    "start_time": "2023-03-28T13:21:03.209Z"
   },
   {
    "duration": 311,
    "start_time": "2023-03-28T13:21:03.257Z"
   },
   {
    "duration": 2216,
    "start_time": "2023-03-28T13:21:03.572Z"
   },
   {
    "duration": 90,
    "start_time": "2023-03-28T13:21:05.853Z"
   },
   {
    "duration": 12,
    "start_time": "2023-03-28T13:21:05.945Z"
   },
   {
    "duration": 57,
    "start_time": "2023-03-28T13:21:05.965Z"
   },
   {
    "duration": 126,
    "start_time": "2023-03-28T13:21:06.025Z"
   },
   {
    "duration": 104,
    "start_time": "2023-03-28T13:21:06.154Z"
   },
   {
    "duration": 541,
    "start_time": "2023-03-28T13:21:06.268Z"
   },
   {
    "duration": 41,
    "start_time": "2023-03-28T13:21:06.812Z"
   },
   {
    "duration": 30,
    "start_time": "2023-03-28T13:21:06.854Z"
   },
   {
    "duration": 77,
    "start_time": "2023-03-28T13:21:06.886Z"
   },
   {
    "duration": 327,
    "start_time": "2023-03-28T13:21:06.968Z"
   },
   {
    "duration": 19,
    "start_time": "2023-03-28T13:21:07.299Z"
   },
   {
    "duration": 378,
    "start_time": "2023-03-28T13:21:07.320Z"
   },
   {
    "duration": 149,
    "start_time": "2023-03-28T13:21:07.700Z"
   },
   {
    "duration": 25,
    "start_time": "2023-03-28T13:21:07.852Z"
   },
   {
    "duration": 161,
    "start_time": "2023-03-28T13:21:07.882Z"
   }
  ],
  "kernelspec": {
   "display_name": "Python 3 (ipykernel)",
   "language": "python",
   "name": "python3"
  },
  "language_info": {
   "codemirror_mode": {
    "name": "ipython",
    "version": 3
   },
   "file_extension": ".py",
   "mimetype": "text/x-python",
   "name": "python",
   "nbconvert_exporter": "python",
   "pygments_lexer": "ipython3",
   "version": "3.10.2"
  },
  "toc": {
   "base_numbering": 1,
   "nav_menu": {},
   "number_sections": true,
   "sideBar": true,
   "skip_h1_title": true,
   "title_cell": "Содержание",
   "title_sidebar": "Contents",
   "toc_cell": true,
   "toc_position": {
    "height": "calc(100% - 180px)",
    "left": "10px",
    "top": "150px",
    "width": "238.188px"
   },
   "toc_section_display": true,
   "toc_window_display": true
  }
 },
 "nbformat": 4,
 "nbformat_minor": 2
}
