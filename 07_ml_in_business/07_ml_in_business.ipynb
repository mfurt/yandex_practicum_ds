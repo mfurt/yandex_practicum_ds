{
 "cells": [
  {
   "cell_type": "markdown",
   "metadata": {},
   "source": [
    "# Выбор локации для скважины"
   ]
  },
  {
   "cell_type": "markdown",
   "metadata": {},
   "source": [
    "Допустим, вы работаете в добывающей компании «ГлавРосГосНефть». Нужно решить, где бурить новую скважину.\n",
    "\n",
    "Вам предоставлены пробы нефти в трёх регионах: в каждом 10 000 месторождений, где измерили качество нефти и объём её запасов. Постройте модель машинного обучения, которая поможет определить регион, где добыча принесёт наибольшую прибыль. Проанализируйте возможную прибыль и риски техникой *Bootstrap.*\n",
    "\n",
    "Шаги для выбора локации:\n",
    "\n",
    "- В избранном регионе ищут месторождения, для каждого определяют значения признаков;\n",
    "- Строят модель и оценивают объём запасов;\n",
    "- Выбирают месторождения с самым высокими оценками значений. Количество месторождений зависит от бюджета компании и стоимости разработки одной скважины;\n",
    "- Прибыль равна суммарной прибыли отобранных месторождений."
   ]
  },
  {
   "cell_type": "code",
   "execution_count": 2,
   "metadata": {},
   "outputs": [],
   "source": [
    "import pandas as pd\n",
    "import numpy as np\n",
    "from sklearn.linear_model import LinearRegression\n",
    "from sklearn.model_selection import train_test_split\n",
    "from sklearn.metrics import mean_squared_error\n",
    "from scipy import stats as st"
   ]
  },
  {
   "cell_type": "markdown",
   "metadata": {},
   "source": [
    "## Загрузка и подготовка данных"
   ]
  },
  {
   "cell_type": "code",
   "execution_count": 3,
   "metadata": {},
   "outputs": [],
   "source": [
    "# откроем все файлы\n",
    "try:\n",
    "    df0 = pd.read_csv('/datasets/geo_data_0.csv')\n",
    "    df1 = pd.read_csv('/datasets/geo_data_1.csv')\n",
    "    df2 = pd.read_csv('/datasets/geo_data_2.csv')\n",
    "except:\n",
    "    df0 = pd.read_csv('geo_data_0.csv')\n",
    "    df1 = pd.read_csv('geo_data_1.csv')\n",
    "    df2 = pd.read_csv('geo_data_2.csv')\n"
   ]
  },
  {
   "cell_type": "markdown",
   "metadata": {},
   "source": [
    "**Рассмотрим все датафреймы**"
   ]
  },
  {
   "cell_type": "markdown",
   "metadata": {},
   "source": [
    "*начнем с первого*"
   ]
  },
  {
   "cell_type": "code",
   "execution_count": 3,
   "metadata": {},
   "outputs": [
    {
     "name": "stdout",
     "output_type": "stream",
     "text": [
      "<class 'pandas.core.frame.DataFrame'>\n",
      "RangeIndex: 100000 entries, 0 to 99999\n",
      "Data columns (total 5 columns):\n",
      " #   Column   Non-Null Count   Dtype  \n",
      "---  ------   --------------   -----  \n",
      " 0   id       100000 non-null  object \n",
      " 1   f0       100000 non-null  float64\n",
      " 2   f1       100000 non-null  float64\n",
      " 3   f2       100000 non-null  float64\n",
      " 4   product  100000 non-null  float64\n",
      "dtypes: float64(4), object(1)\n",
      "memory usage: 3.8+ MB\n"
     ]
    },
    {
     "data": {
      "text/html": [
       "<div>\n",
       "<style scoped>\n",
       "    .dataframe tbody tr th:only-of-type {\n",
       "        vertical-align: middle;\n",
       "    }\n",
       "\n",
       "    .dataframe tbody tr th {\n",
       "        vertical-align: top;\n",
       "    }\n",
       "\n",
       "    .dataframe thead th {\n",
       "        text-align: right;\n",
       "    }\n",
       "</style>\n",
       "<table border=\"1\" class=\"dataframe\">\n",
       "  <thead>\n",
       "    <tr style=\"text-align: right;\">\n",
       "      <th></th>\n",
       "      <th>id</th>\n",
       "      <th>f0</th>\n",
       "      <th>f1</th>\n",
       "      <th>f2</th>\n",
       "      <th>product</th>\n",
       "    </tr>\n",
       "  </thead>\n",
       "  <tbody>\n",
       "    <tr>\n",
       "      <th>0</th>\n",
       "      <td>txEyH</td>\n",
       "      <td>0.705745</td>\n",
       "      <td>-0.497823</td>\n",
       "      <td>1.221170</td>\n",
       "      <td>105.280062</td>\n",
       "    </tr>\n",
       "    <tr>\n",
       "      <th>1</th>\n",
       "      <td>2acmU</td>\n",
       "      <td>1.334711</td>\n",
       "      <td>-0.340164</td>\n",
       "      <td>4.365080</td>\n",
       "      <td>73.037750</td>\n",
       "    </tr>\n",
       "    <tr>\n",
       "      <th>2</th>\n",
       "      <td>409Wp</td>\n",
       "      <td>1.022732</td>\n",
       "      <td>0.151990</td>\n",
       "      <td>1.419926</td>\n",
       "      <td>85.265647</td>\n",
       "    </tr>\n",
       "    <tr>\n",
       "      <th>3</th>\n",
       "      <td>iJLyR</td>\n",
       "      <td>-0.032172</td>\n",
       "      <td>0.139033</td>\n",
       "      <td>2.978566</td>\n",
       "      <td>168.620776</td>\n",
       "    </tr>\n",
       "    <tr>\n",
       "      <th>4</th>\n",
       "      <td>Xdl7t</td>\n",
       "      <td>1.988431</td>\n",
       "      <td>0.155413</td>\n",
       "      <td>4.751769</td>\n",
       "      <td>154.036647</td>\n",
       "    </tr>\n",
       "  </tbody>\n",
       "</table>\n",
       "</div>"
      ],
      "text/plain": [
       "      id        f0        f1        f2     product\n",
       "0  txEyH  0.705745 -0.497823  1.221170  105.280062\n",
       "1  2acmU  1.334711 -0.340164  4.365080   73.037750\n",
       "2  409Wp  1.022732  0.151990  1.419926   85.265647\n",
       "3  iJLyR -0.032172  0.139033  2.978566  168.620776\n",
       "4  Xdl7t  1.988431  0.155413  4.751769  154.036647"
      ]
     },
     "execution_count": 3,
     "metadata": {},
     "output_type": "execute_result"
    }
   ],
   "source": [
    "df0.info()\n",
    "df0.head()"
   ]
  },
  {
   "cell_type": "code",
   "execution_count": 4,
   "metadata": {},
   "outputs": [
    {
     "data": {
      "text/plain": [
       "TtcGQ    2\n",
       "bxg6G    2\n",
       "AGS9W    2\n",
       "A5aEY    2\n",
       "HZww2    2\n",
       "Tdehs    2\n",
       "74z30    2\n",
       "fiKDv    2\n",
       "bsk9y    2\n",
       "QcMuo    2\n",
       "U16RG    1\n",
       "QOWY0    1\n",
       "IBqEt    1\n",
       "WclZX    1\n",
       "asm5K    1\n",
       "Name: id, dtype: int64"
      ]
     },
     "execution_count": 4,
     "metadata": {},
     "output_type": "execute_result"
    }
   ],
   "source": [
    "# рассмоттри уникальность объектов\n",
    "df0['id'].value_counts().head(15)"
   ]
  },
  {
   "cell_type": "code",
   "execution_count": 5,
   "metadata": {},
   "outputs": [],
   "source": [
    "# в выборке есть повторяющиеся объекты, оставим только те, у которых ментше запас\n",
    "x_idx = list(df0['id'].value_counts().head(10).index)\n",
    "idx_drop = []\n",
    "for i in x_idx:\n",
    "    idx_drop.append(df0[df0['id'] == i]['product'].idxmax())\n",
    "df0 = df0.drop(labels=idx_drop)\n",
    "df0 = df0.set_index('id')"
   ]
  },
  {
   "cell_type": "code",
   "execution_count": 6,
   "metadata": {},
   "outputs": [],
   "source": [
    "# немного понизим разряд, одинарной точности нам достаточно\n",
    "df0 = df0.astype({'f0':'float32', \n",
    "                  'f1':'float32', \n",
    "                  'f2':'float32', \n",
    "                  'product':'float32'}) "
   ]
  },
  {
   "cell_type": "code",
   "execution_count": 7,
   "metadata": {},
   "outputs": [
    {
     "name": "stdout",
     "output_type": "stream",
     "text": [
      "<class 'pandas.core.frame.DataFrame'>\n",
      "Index: 99990 entries, txEyH to 1CWhH\n",
      "Data columns (total 4 columns):\n",
      " #   Column   Non-Null Count  Dtype  \n",
      "---  ------   --------------  -----  \n",
      " 0   f0       99990 non-null  float32\n",
      " 1   f1       99990 non-null  float32\n",
      " 2   f2       99990 non-null  float32\n",
      " 3   product  99990 non-null  float32\n",
      "dtypes: float32(4)\n",
      "memory usage: 2.3+ MB\n"
     ]
    },
    {
     "data": {
      "text/html": [
       "<div>\n",
       "<style scoped>\n",
       "    .dataframe tbody tr th:only-of-type {\n",
       "        vertical-align: middle;\n",
       "    }\n",
       "\n",
       "    .dataframe tbody tr th {\n",
       "        vertical-align: top;\n",
       "    }\n",
       "\n",
       "    .dataframe thead th {\n",
       "        text-align: right;\n",
       "    }\n",
       "</style>\n",
       "<table border=\"1\" class=\"dataframe\">\n",
       "  <thead>\n",
       "    <tr style=\"text-align: right;\">\n",
       "      <th></th>\n",
       "      <th>f0</th>\n",
       "      <th>f1</th>\n",
       "      <th>f2</th>\n",
       "      <th>product</th>\n",
       "    </tr>\n",
       "    <tr>\n",
       "      <th>id</th>\n",
       "      <th></th>\n",
       "      <th></th>\n",
       "      <th></th>\n",
       "      <th></th>\n",
       "    </tr>\n",
       "  </thead>\n",
       "  <tbody>\n",
       "    <tr>\n",
       "      <th>txEyH</th>\n",
       "      <td>0.705745</td>\n",
       "      <td>-0.497822</td>\n",
       "      <td>1.221170</td>\n",
       "      <td>105.280060</td>\n",
       "    </tr>\n",
       "    <tr>\n",
       "      <th>2acmU</th>\n",
       "      <td>1.334711</td>\n",
       "      <td>-0.340164</td>\n",
       "      <td>4.365080</td>\n",
       "      <td>73.037750</td>\n",
       "    </tr>\n",
       "    <tr>\n",
       "      <th>409Wp</th>\n",
       "      <td>1.022732</td>\n",
       "      <td>0.151990</td>\n",
       "      <td>1.419926</td>\n",
       "      <td>85.265648</td>\n",
       "    </tr>\n",
       "    <tr>\n",
       "      <th>iJLyR</th>\n",
       "      <td>-0.032172</td>\n",
       "      <td>0.139033</td>\n",
       "      <td>2.978566</td>\n",
       "      <td>168.620773</td>\n",
       "    </tr>\n",
       "    <tr>\n",
       "      <th>Xdl7t</th>\n",
       "      <td>1.988431</td>\n",
       "      <td>0.155413</td>\n",
       "      <td>4.751769</td>\n",
       "      <td>154.036652</td>\n",
       "    </tr>\n",
       "  </tbody>\n",
       "</table>\n",
       "</div>"
      ],
      "text/plain": [
       "             f0        f1        f2     product\n",
       "id                                             \n",
       "txEyH  0.705745 -0.497822  1.221170  105.280060\n",
       "2acmU  1.334711 -0.340164  4.365080   73.037750\n",
       "409Wp  1.022732  0.151990  1.419926   85.265648\n",
       "iJLyR -0.032172  0.139033  2.978566  168.620773\n",
       "Xdl7t  1.988431  0.155413  4.751769  154.036652"
      ]
     },
     "execution_count": 7,
     "metadata": {},
     "output_type": "execute_result"
    }
   ],
   "source": [
    "# получаем симпатичный датасет\n",
    "df0.info()\n",
    "df0.head()"
   ]
  },
  {
   "cell_type": "code",
   "execution_count": 8,
   "metadata": {},
   "outputs": [
    {
     "data": {
      "image/png": "[encoded data removed]",
      "text/plain": [
       "<Figure size 720x360 with 4 Axes>"
      ]
     },
     "metadata": {
      "needs_background": "light"
     },
     "output_type": "display_data"
    }
   ],
   "source": [
    "df0.hist(figsize=(10,5));"
   ]
  },
  {
   "cell_type": "markdown",
   "metadata": {},
   "source": [
    "*переходим ко второму*"
   ]
  },
  {
   "cell_type": "code",
   "execution_count": 9,
   "metadata": {},
   "outputs": [
    {
     "name": "stdout",
     "output_type": "stream",
     "text": [
      "<class 'pandas.core.frame.DataFrame'>\n",
      "RangeIndex: 100000 entries, 0 to 99999\n",
      "Data columns (total 5 columns):\n",
      " #   Column   Non-Null Count   Dtype  \n",
      "---  ------   --------------   -----  \n",
      " 0   id       100000 non-null  object \n",
      " 1   f0       100000 non-null  float64\n",
      " 2   f1       100000 non-null  float64\n",
      " 3   f2       100000 non-null  float64\n",
      " 4   product  100000 non-null  float64\n",
      "dtypes: float64(4), object(1)\n",
      "memory usage: 3.8+ MB\n"
     ]
    },
    {
     "data": {
      "text/html": [
       "<div>\n",
       "<style scoped>\n",
       "    .dataframe tbody tr th:only-of-type {\n",
       "        vertical-align: middle;\n",
       "    }\n",
       "\n",
       "    .dataframe tbody tr th {\n",
       "        vertical-align: top;\n",
       "    }\n",
       "\n",
       "    .dataframe thead th {\n",
       "        text-align: right;\n",
       "    }\n",
       "</style>\n",
       "<table border=\"1\" class=\"dataframe\">\n",
       "  <thead>\n",
       "    <tr style=\"text-align: right;\">\n",
       "      <th></th>\n",
       "      <th>id</th>\n",
       "      <th>f0</th>\n",
       "      <th>f1</th>\n",
       "      <th>f2</th>\n",
       "      <th>product</th>\n",
       "    </tr>\n",
       "  </thead>\n",
       "  <tbody>\n",
       "    <tr>\n",
       "      <th>0</th>\n",
       "      <td>kBEdx</td>\n",
       "      <td>-15.001348</td>\n",
       "      <td>-8.276000</td>\n",
       "      <td>-0.005876</td>\n",
       "      <td>3.179103</td>\n",
       "    </tr>\n",
       "    <tr>\n",
       "      <th>1</th>\n",
       "      <td>62mP7</td>\n",
       "      <td>14.272088</td>\n",
       "      <td>-3.475083</td>\n",
       "      <td>0.999183</td>\n",
       "      <td>26.953261</td>\n",
       "    </tr>\n",
       "    <tr>\n",
       "      <th>2</th>\n",
       "      <td>vyE1P</td>\n",
       "      <td>6.263187</td>\n",
       "      <td>-5.948386</td>\n",
       "      <td>5.001160</td>\n",
       "      <td>134.766305</td>\n",
       "    </tr>\n",
       "    <tr>\n",
       "      <th>3</th>\n",
       "      <td>KcrkZ</td>\n",
       "      <td>-13.081196</td>\n",
       "      <td>-11.506057</td>\n",
       "      <td>4.999415</td>\n",
       "      <td>137.945408</td>\n",
       "    </tr>\n",
       "    <tr>\n",
       "      <th>4</th>\n",
       "      <td>AHL4O</td>\n",
       "      <td>12.702195</td>\n",
       "      <td>-8.147433</td>\n",
       "      <td>5.004363</td>\n",
       "      <td>134.766305</td>\n",
       "    </tr>\n",
       "  </tbody>\n",
       "</table>\n",
       "</div>"
      ],
      "text/plain": [
       "      id         f0         f1        f2     product\n",
       "0  kBEdx -15.001348  -8.276000 -0.005876    3.179103\n",
       "1  62mP7  14.272088  -3.475083  0.999183   26.953261\n",
       "2  vyE1P   6.263187  -5.948386  5.001160  134.766305\n",
       "3  KcrkZ -13.081196 -11.506057  4.999415  137.945408\n",
       "4  AHL4O  12.702195  -8.147433  5.004363  134.766305"
      ]
     },
     "execution_count": 9,
     "metadata": {},
     "output_type": "execute_result"
    }
   ],
   "source": [
    "# совершаем все те же махинации с данными\n",
    "df1.info()\n",
    "df1.head()"
   ]
  },
  {
   "cell_type": "code",
   "execution_count": 10,
   "metadata": {},
   "outputs": [
    {
     "data": {
      "text/plain": [
       "LHZR0    2\n",
       "5ltQ6    2\n",
       "wt4Uk    2\n",
       "bfPNe    2\n",
       "JuzO5    1\n",
       "o05ut    1\n",
       "k6QIv    1\n",
       "mNwLO    1\n",
       "KNhV1    1\n",
       "GVhsq    1\n",
       "KPsm9    1\n",
       "WKplV    1\n",
       "F2iag    1\n",
       "bKRfa    1\n",
       "DPwlQ    1\n",
       "Name: id, dtype: int64"
      ]
     },
     "execution_count": 10,
     "metadata": {},
     "output_type": "execute_result"
    }
   ],
   "source": [
    "df1['id'].value_counts().head(15)"
   ]
  },
  {
   "cell_type": "code",
   "execution_count": 11,
   "metadata": {},
   "outputs": [],
   "source": [
    "x_idx = list(df1['id'].value_counts().head(4).index)\n",
    "idx_drop = []\n",
    "for i in x_idx:\n",
    "    idx_drop.append(df1[df1['id'] == i]['product'].idxmax())\n",
    "df1 = df1.drop(labels=idx_drop)\n",
    "df1 = df1.set_index('id')"
   ]
  },
  {
   "cell_type": "code",
   "execution_count": 12,
   "metadata": {},
   "outputs": [],
   "source": [
    "df1 = df1.astype({'f0':'float32', \n",
    "                  'f1':'float32', \n",
    "                  'f2':'float32', \n",
    "                  'product':'float32'}) "
   ]
  },
  {
   "cell_type": "code",
   "execution_count": 13,
   "metadata": {},
   "outputs": [
    {
     "name": "stdout",
     "output_type": "stream",
     "text": [
      "<class 'pandas.core.frame.DataFrame'>\n",
      "Index: 99996 entries, kBEdx to relB0\n",
      "Data columns (total 4 columns):\n",
      " #   Column   Non-Null Count  Dtype  \n",
      "---  ------   --------------  -----  \n",
      " 0   f0       99996 non-null  float32\n",
      " 1   f1       99996 non-null  float32\n",
      " 2   f2       99996 non-null  float32\n",
      " 3   product  99996 non-null  float32\n",
      "dtypes: float32(4)\n",
      "memory usage: 2.3+ MB\n"
     ]
    },
    {
     "data": {
      "text/html": [
       "<div>\n",
       "<style scoped>\n",
       "    .dataframe tbody tr th:only-of-type {\n",
       "        vertical-align: middle;\n",
       "    }\n",
       "\n",
       "    .dataframe tbody tr th {\n",
       "        vertical-align: top;\n",
       "    }\n",
       "\n",
       "    .dataframe thead th {\n",
       "        text-align: right;\n",
       "    }\n",
       "</style>\n",
       "<table border=\"1\" class=\"dataframe\">\n",
       "  <thead>\n",
       "    <tr style=\"text-align: right;\">\n",
       "      <th></th>\n",
       "      <th>f0</th>\n",
       "      <th>f1</th>\n",
       "      <th>f2</th>\n",
       "      <th>product</th>\n",
       "    </tr>\n",
       "    <tr>\n",
       "      <th>id</th>\n",
       "      <th></th>\n",
       "      <th></th>\n",
       "      <th></th>\n",
       "      <th></th>\n",
       "    </tr>\n",
       "  </thead>\n",
       "  <tbody>\n",
       "    <tr>\n",
       "      <th>kBEdx</th>\n",
       "      <td>-15.001348</td>\n",
       "      <td>-8.276000</td>\n",
       "      <td>-0.005876</td>\n",
       "      <td>3.179103</td>\n",
       "    </tr>\n",
       "    <tr>\n",
       "      <th>62mP7</th>\n",
       "      <td>14.272088</td>\n",
       "      <td>-3.475083</td>\n",
       "      <td>0.999183</td>\n",
       "      <td>26.953260</td>\n",
       "    </tr>\n",
       "    <tr>\n",
       "      <th>vyE1P</th>\n",
       "      <td>6.263187</td>\n",
       "      <td>-5.948386</td>\n",
       "      <td>5.001160</td>\n",
       "      <td>134.766312</td>\n",
       "    </tr>\n",
       "    <tr>\n",
       "      <th>KcrkZ</th>\n",
       "      <td>-13.081196</td>\n",
       "      <td>-11.506057</td>\n",
       "      <td>4.999415</td>\n",
       "      <td>137.945404</td>\n",
       "    </tr>\n",
       "    <tr>\n",
       "      <th>AHL4O</th>\n",
       "      <td>12.702195</td>\n",
       "      <td>-8.147433</td>\n",
       "      <td>5.004363</td>\n",
       "      <td>134.766312</td>\n",
       "    </tr>\n",
       "  </tbody>\n",
       "</table>\n",
       "</div>"
      ],
      "text/plain": [
       "              f0         f1        f2     product\n",
       "id                                               \n",
       "kBEdx -15.001348  -8.276000 -0.005876    3.179103\n",
       "62mP7  14.272088  -3.475083  0.999183   26.953260\n",
       "vyE1P   6.263187  -5.948386  5.001160  134.766312\n",
       "KcrkZ -13.081196 -11.506057  4.999415  137.945404\n",
       "AHL4O  12.702195  -8.147433  5.004363  134.766312"
      ]
     },
     "execution_count": 13,
     "metadata": {},
     "output_type": "execute_result"
    }
   ],
   "source": [
    "df1.info()\n",
    "df1.head()"
   ]
  },
  {
   "cell_type": "code",
   "execution_count": 14,
   "metadata": {},
   "outputs": [
    {
     "data": {
      "image/png": "[encoded data removed]",
      "text/plain": [
       "<Figure size 720x360 with 4 Axes>"
      ]
     },
     "metadata": {
      "needs_background": "light"
     },
     "output_type": "display_data"
    }
   ],
   "source": [
    "df1.hist(figsize=(10,5));"
   ]
  },
  {
   "cell_type": "markdown",
   "metadata": {},
   "source": [
    "*переходим к третьему*"
   ]
  },
  {
   "cell_type": "code",
   "execution_count": 15,
   "metadata": {},
   "outputs": [
    {
     "name": "stdout",
     "output_type": "stream",
     "text": [
      "<class 'pandas.core.frame.DataFrame'>\n",
      "RangeIndex: 100000 entries, 0 to 99999\n",
      "Data columns (total 5 columns):\n",
      " #   Column   Non-Null Count   Dtype  \n",
      "---  ------   --------------   -----  \n",
      " 0   id       100000 non-null  object \n",
      " 1   f0       100000 non-null  float64\n",
      " 2   f1       100000 non-null  float64\n",
      " 3   f2       100000 non-null  float64\n",
      " 4   product  100000 non-null  float64\n",
      "dtypes: float64(4), object(1)\n",
      "memory usage: 3.8+ MB\n"
     ]
    },
    {
     "data": {
      "text/html": [
       "<div>\n",
       "<style scoped>\n",
       "    .dataframe tbody tr th:only-of-type {\n",
       "        vertical-align: middle;\n",
       "    }\n",
       "\n",
       "    .dataframe tbody tr th {\n",
       "        vertical-align: top;\n",
       "    }\n",
       "\n",
       "    .dataframe thead th {\n",
       "        text-align: right;\n",
       "    }\n",
       "</style>\n",
       "<table border=\"1\" class=\"dataframe\">\n",
       "  <thead>\n",
       "    <tr style=\"text-align: right;\">\n",
       "      <th></th>\n",
       "      <th>id</th>\n",
       "      <th>f0</th>\n",
       "      <th>f1</th>\n",
       "      <th>f2</th>\n",
       "      <th>product</th>\n",
       "    </tr>\n",
       "  </thead>\n",
       "  <tbody>\n",
       "    <tr>\n",
       "      <th>0</th>\n",
       "      <td>fwXo0</td>\n",
       "      <td>-1.146987</td>\n",
       "      <td>0.963328</td>\n",
       "      <td>-0.828965</td>\n",
       "      <td>27.758673</td>\n",
       "    </tr>\n",
       "    <tr>\n",
       "      <th>1</th>\n",
       "      <td>WJtFt</td>\n",
       "      <td>0.262778</td>\n",
       "      <td>0.269839</td>\n",
       "      <td>-2.530187</td>\n",
       "      <td>56.069697</td>\n",
       "    </tr>\n",
       "    <tr>\n",
       "      <th>2</th>\n",
       "      <td>ovLUW</td>\n",
       "      <td>0.194587</td>\n",
       "      <td>0.289035</td>\n",
       "      <td>-5.586433</td>\n",
       "      <td>62.871910</td>\n",
       "    </tr>\n",
       "    <tr>\n",
       "      <th>3</th>\n",
       "      <td>q6cA6</td>\n",
       "      <td>2.236060</td>\n",
       "      <td>-0.553760</td>\n",
       "      <td>0.930038</td>\n",
       "      <td>114.572842</td>\n",
       "    </tr>\n",
       "    <tr>\n",
       "      <th>4</th>\n",
       "      <td>WPMUX</td>\n",
       "      <td>-0.515993</td>\n",
       "      <td>1.716266</td>\n",
       "      <td>5.899011</td>\n",
       "      <td>149.600746</td>\n",
       "    </tr>\n",
       "  </tbody>\n",
       "</table>\n",
       "</div>"
      ],
      "text/plain": [
       "      id        f0        f1        f2     product\n",
       "0  fwXo0 -1.146987  0.963328 -0.828965   27.758673\n",
       "1  WJtFt  0.262778  0.269839 -2.530187   56.069697\n",
       "2  ovLUW  0.194587  0.289035 -5.586433   62.871910\n",
       "3  q6cA6  2.236060 -0.553760  0.930038  114.572842\n",
       "4  WPMUX -0.515993  1.716266  5.899011  149.600746"
      ]
     },
     "execution_count": 15,
     "metadata": {},
     "output_type": "execute_result"
    }
   ],
   "source": [
    "# совершаем все те же махинации с данными\n",
    "df2.info()\n",
    "df2.head()"
   ]
  },
  {
   "cell_type": "code",
   "execution_count": 16,
   "metadata": {},
   "outputs": [
    {
     "data": {
      "text/plain": [
       "xCHr8    2\n",
       "Vcm5J    2\n",
       "KUPhW    2\n",
       "VF7Jo    2\n",
       "wD7z8    1\n",
       "YCqiE    1\n",
       "D122W    1\n",
       "tsGJj    1\n",
       "YroqQ    1\n",
       "Y63vs    1\n",
       "tHxlc    1\n",
       "vtgJA    1\n",
       "VzbU0    1\n",
       "efdh1    1\n",
       "wQC8c    1\n",
       "Name: id, dtype: int64"
      ]
     },
     "execution_count": 16,
     "metadata": {},
     "output_type": "execute_result"
    }
   ],
   "source": [
    "df2['id'].value_counts().head(15)"
   ]
  },
  {
   "cell_type": "code",
   "execution_count": 17,
   "metadata": {},
   "outputs": [],
   "source": [
    "x_idx = list(df2['id'].value_counts().head(4).index)\n",
    "idx_drop = []\n",
    "for i in x_idx:\n",
    "    idx_drop.append(df2[df2['id'] == i]['product'].idxmax())\n",
    "df2 = df2.drop(labels=idx_drop)\n",
    "df2 = df2.set_index('id')"
   ]
  },
  {
   "cell_type": "code",
   "execution_count": 18,
   "metadata": {},
   "outputs": [],
   "source": [
    "df2 = df2.astype({'f0':'float32', \n",
    "                  'f1':'float32', \n",
    "                  'f2':'float32', \n",
    "                  'product':'float32'}) "
   ]
  },
  {
   "cell_type": "code",
   "execution_count": 19,
   "metadata": {},
   "outputs": [
    {
     "name": "stdout",
     "output_type": "stream",
     "text": [
      "<class 'pandas.core.frame.DataFrame'>\n",
      "Index: 99996 entries, fwXo0 to V9kWn\n",
      "Data columns (total 4 columns):\n",
      " #   Column   Non-Null Count  Dtype  \n",
      "---  ------   --------------  -----  \n",
      " 0   f0       99996 non-null  float32\n",
      " 1   f1       99996 non-null  float32\n",
      " 2   f2       99996 non-null  float32\n",
      " 3   product  99996 non-null  float32\n",
      "dtypes: float32(4)\n",
      "memory usage: 2.3+ MB\n"
     ]
    },
    {
     "data": {
      "text/html": [
       "<div>\n",
       "<style scoped>\n",
       "    .dataframe tbody tr th:only-of-type {\n",
       "        vertical-align: middle;\n",
       "    }\n",
       "\n",
       "    .dataframe tbody tr th {\n",
       "        vertical-align: top;\n",
       "    }\n",
       "\n",
       "    .dataframe thead th {\n",
       "        text-align: right;\n",
       "    }\n",
       "</style>\n",
       "<table border=\"1\" class=\"dataframe\">\n",
       "  <thead>\n",
       "    <tr style=\"text-align: right;\">\n",
       "      <th></th>\n",
       "      <th>f0</th>\n",
       "      <th>f1</th>\n",
       "      <th>f2</th>\n",
       "      <th>product</th>\n",
       "    </tr>\n",
       "    <tr>\n",
       "      <th>id</th>\n",
       "      <th></th>\n",
       "      <th></th>\n",
       "      <th></th>\n",
       "      <th></th>\n",
       "    </tr>\n",
       "  </thead>\n",
       "  <tbody>\n",
       "    <tr>\n",
       "      <th>fwXo0</th>\n",
       "      <td>-1.146987</td>\n",
       "      <td>0.963328</td>\n",
       "      <td>-0.828965</td>\n",
       "      <td>27.758673</td>\n",
       "    </tr>\n",
       "    <tr>\n",
       "      <th>WJtFt</th>\n",
       "      <td>0.262778</td>\n",
       "      <td>0.269839</td>\n",
       "      <td>-2.530186</td>\n",
       "      <td>56.069698</td>\n",
       "    </tr>\n",
       "    <tr>\n",
       "      <th>ovLUW</th>\n",
       "      <td>0.194587</td>\n",
       "      <td>0.289035</td>\n",
       "      <td>-5.586433</td>\n",
       "      <td>62.871910</td>\n",
       "    </tr>\n",
       "    <tr>\n",
       "      <th>q6cA6</th>\n",
       "      <td>2.236060</td>\n",
       "      <td>-0.553760</td>\n",
       "      <td>0.930038</td>\n",
       "      <td>114.572845</td>\n",
       "    </tr>\n",
       "    <tr>\n",
       "      <th>WPMUX</th>\n",
       "      <td>-0.515993</td>\n",
       "      <td>1.716266</td>\n",
       "      <td>5.899012</td>\n",
       "      <td>149.600739</td>\n",
       "    </tr>\n",
       "  </tbody>\n",
       "</table>\n",
       "</div>"
      ],
      "text/plain": [
       "             f0        f1        f2     product\n",
       "id                                             \n",
       "fwXo0 -1.146987  0.963328 -0.828965   27.758673\n",
       "WJtFt  0.262778  0.269839 -2.530186   56.069698\n",
       "ovLUW  0.194587  0.289035 -5.586433   62.871910\n",
       "q6cA6  2.236060 -0.553760  0.930038  114.572845\n",
       "WPMUX -0.515993  1.716266  5.899012  149.600739"
      ]
     },
     "execution_count": 19,
     "metadata": {},
     "output_type": "execute_result"
    }
   ],
   "source": [
    "df2.info()\n",
    "df2.head()"
   ]
  },
  {
   "cell_type": "code",
   "execution_count": 20,
   "metadata": {},
   "outputs": [
    {
     "data": {
      "image/png": "[encoded data removed]",
      "text/plain": [
       "<Figure size 720x360 with 4 Axes>"
      ]
     },
     "metadata": {
      "needs_background": "light"
     },
     "output_type": "display_data"
    }
   ],
   "source": [
    "df2.hist(figsize=(10,5));"
   ]
  },
  {
   "cell_type": "markdown",
   "metadata": {},
   "source": [
    "**Данные изначально хорошо подготовлены для дальнейшего обучения\n",
    "<br>Единственное довел до одинарной точности, а так же преобрал столбец в индекс, поскольку там уникальные значения**"
   ]
  },
  {
   "cell_type": "markdown",
   "metadata": {},
   "source": [
    "## Обучение и проверка модели"
   ]
  },
  {
   "cell_type": "markdown",
   "metadata": {},
   "source": [
    "**Приступим обучать модели для каждого региона\n",
    "<br>Предварительно разобьем данные**"
   ]
  },
  {
   "cell_type": "code",
   "execution_count": 21,
   "metadata": {},
   "outputs": [
    {
     "name": "stdout",
     "output_type": "stream",
     "text": [
      "Размер выборки train: X:(74992, 3), y:(74992,)\n",
      "Размер выборки validation: X:(24998, 3), y:(24998,)\n"
     ]
    }
   ],
   "source": [
    "X_0 = df0.drop('product',axis=1)\n",
    "y_0 = df0['product']\n",
    "\n",
    "X_train_0, X_val_0, y_train_0, y_val_0 = train_test_split(X_0, y_0, test_size = 0.25, random_state=12345)\n",
    "\n",
    "print(f\"Размер выборки train: X:{X_train_0.shape}, y:{y_train_0.shape}\")\n",
    "print(f\"Размер выборки validation: X:{X_val_0.shape}, y:{y_val_0.shape}\")"
   ]
  },
  {
   "cell_type": "code",
   "execution_count": 22,
   "metadata": {},
   "outputs": [
    {
     "name": "stdout",
     "output_type": "stream",
     "text": [
      "Размер выборки train: X:(74997, 3), y:(74997,)\n",
      "Размер выборки validation: X:(24999, 3), y:(24999,)\n"
     ]
    }
   ],
   "source": [
    "X_1 = df1.drop('product',axis=1)\n",
    "y_1 = df1['product']\n",
    "\n",
    "X_train_1, X_val_1, y_train_1, y_val_1 = train_test_split(X_1, y_1, test_size = 0.25, random_state=12345)\n",
    "\n",
    "print(f\"Размер выборки train: X:{X_train_1.shape}, y:{y_train_1.shape}\")\n",
    "print(f\"Размер выборки validation: X:{X_val_1.shape}, y:{y_val_1.shape}\")"
   ]
  },
  {
   "cell_type": "code",
   "execution_count": 23,
   "metadata": {},
   "outputs": [
    {
     "name": "stdout",
     "output_type": "stream",
     "text": [
      "Размер выборки train: X:(74997, 3), y:(74997,)\n",
      "Размер выборки validation: X:(24999, 3), y:(24999,)\n"
     ]
    }
   ],
   "source": [
    "X_2 = df2.drop('product',axis=1)\n",
    "y_2 = df2['product']\n",
    "\n",
    "X_train_2, X_val_2, y_train_2, y_val_2 = train_test_split(X_2, y_2, test_size = 0.25, random_state=12345)\n",
    "\n",
    "print(f\"Размер выборки train: X:{X_train_2.shape}, y:{y_train_2.shape}\")\n",
    "print(f\"Размер выборки validation: X:{X_val_2.shape}, y:{y_val_2.shape}\")"
   ]
  },
  {
   "cell_type": "markdown",
   "metadata": {},
   "source": [
    "*Для первого региона*"
   ]
  },
  {
   "cell_type": "code",
   "execution_count": 24,
   "metadata": {},
   "outputs": [
    {
     "name": "stdout",
     "output_type": "stream",
     "text": [
      "Mean product 92.60974884033203\n",
      "RMSE : 37.593611998395914\n"
     ]
    }
   ],
   "source": [
    "model_0 = LinearRegression()\n",
    "model_0.fit(X_train_0, y_train_0)\n",
    "model_0_pred = model_0.predict(X_val_0)\n",
    "model_0_res = pd.DataFrame({ 'y' : y_val_0, 'y_pred' : model_0_pred})\n",
    "print(f\"Mean product {model_0_res['y_pred'].mean()}\")\n",
    "print(f\"RMSE : {mean_squared_error(model_0_res['y'], model_0_res['y_pred']) ** 0.5}\")"
   ]
  },
  {
   "cell_type": "markdown",
   "metadata": {},
   "source": [
    "*Для второго региона*"
   ]
  },
  {
   "cell_type": "code",
   "execution_count": 25,
   "metadata": {},
   "outputs": [
    {
     "name": "stdout",
     "output_type": "stream",
     "text": [
      "Mean product 69.00110626220703\n",
      "RMSE : 0.8910677629106567\n"
     ]
    }
   ],
   "source": [
    "model_1 = LinearRegression()\n",
    "model_1.fit(X_train_1, y_train_1)\n",
    "model_1_pred = model_1.predict(X_val_1)\n",
    "model_1_res = pd.DataFrame({ 'y' : y_val_1, 'y_pred' : model_1_pred})\n",
    "print(f\"Mean product {model_1_res['y_pred'].mean()}\")\n",
    "print(f\"RMSE : {mean_squared_error(model_1_res['y'], model_1_res['y_pred']) ** 0.5}\")"
   ]
  },
  {
   "cell_type": "markdown",
   "metadata": {},
   "source": [
    "*Для третьего региона*"
   ]
  },
  {
   "cell_type": "code",
   "execution_count": 26,
   "metadata": {},
   "outputs": [
    {
     "name": "stdout",
     "output_type": "stream",
     "text": [
      "Mean product 94.94690704345703\n",
      "RMSE : 40.270153994420916\n"
     ]
    }
   ],
   "source": [
    "model_2 = LinearRegression()\n",
    "model_2.fit(X_train_2, y_train_2)\n",
    "model_2_pred = model_2.predict(X_val_2)\n",
    "model_2_res = pd.DataFrame({ 'y' : y_val_2, 'y_pred' : model_2_pred})\n",
    "print(f\"Mean product {model_2_res['y_pred'].mean()}\")\n",
    "print(f\"RMSE : {mean_squared_error(model_2_res['y'], model_2_res['y_pred']) ** 0.5}\")"
   ]
  },
  {
   "cell_type": "markdown",
   "metadata": {},
   "source": [
    "## Подготовка к расчёту прибыли"
   ]
  },
  {
   "cell_type": "code",
   "execution_count": 27,
   "metadata": {},
   "outputs": [],
   "source": [
    "# зададим константы\n",
    "INCOME = 450_000 # прибыль с одиницы товара\n",
    "BUDGET = 10_000_000_000 # бюджет\n",
    "PROBABILITY_OF_LOSSES = 0.025 # вероятность убытков\n",
    "POINTS = 500 # количество исследуемых точек\n",
    "BEST_POINTS = 200 # количество лучших точек\n",
    "BUDGET_FOR_ONE = BUDGET / BEST_POINTS # Бюджет на одну скважину"
   ]
  },
  {
   "cell_type": "code",
   "execution_count": 28,
   "metadata": {},
   "outputs": [
    {
     "name": "stdout",
     "output_type": "stream",
     "text": [
      "Безубыточный объем скважины: 111.11111111111111\n"
     ]
    }
   ],
   "source": [
    "# смотрим, сколько нужно объем скважины для беубыточности\n",
    "break_even = BUDGET_FOR_ONE / INCOME\n",
    "print(f\"Безубыточный объем скважины: {break_even}\")"
   ]
  },
  {
   "cell_type": "code",
   "execution_count": 29,
   "metadata": {},
   "outputs": [
    {
     "name": "stdout",
     "output_type": "stream",
     "text": [
      "В регионе - 0 средний запас: 92.49742126464844\n",
      "Что недостаточно для окупаемости - mean < 111.11\n",
      "\n",
      "В регионе - 1 средний запас: 68.82341003417969\n",
      "Что недостаточно для окупаемости - mean < 111.11\n",
      "\n",
      "В регионе - 2 средний запас: 94.99742889404297\n",
      "Что недостаточно для окупаемости - mean < 111.11\n",
      "\n"
     ]
    }
   ],
   "source": [
    "# сравниваем со средними значениями\n",
    "for i in enumerate(['y_'+str(i) for i in range(3)]):\n",
    "    print(f\"В регионе - {i[0]} средний запас: {eval(i[1]).mean()}\")\n",
    "    if eval(i[1]).mean() < break_even:\n",
    "        print(f\"Что недостаточно для окупаемости - mean < {break_even:.2f}\\n\")\n",
    "    else:\n",
    "        print(\"Достаточно для окупаемости\\n\")"
   ]
  },
  {
   "cell_type": "markdown",
   "metadata": {},
   "source": [
    "**Исходя из средних значений по регионам, можно сделать вывод, что данной информации недостаточно, поскольку данных значений недостаточно для окупаемости. Нужно выбирать скважины с подходящими значениями**"
   ]
  },
  {
   "cell_type": "markdown",
   "metadata": {},
   "source": [
    "## Расчёт прибыли и рисков "
   ]
  },
  {
   "cell_type": "code",
   "execution_count": 30,
   "metadata": {},
   "outputs": [],
   "source": [
    "# Функция расчета прибыли\n",
    "def well_profit(model_res, best_points, income, budget):\n",
    "    well_max = model_res.loc[model_res.sort_values('y_pred', ascending=False).index]\n",
    "    well_max = well_max[:best_points]\n",
    "    sum_well = well_max['y'].sum()\n",
    "    profit_pred = (sum_well * income) - budget\n",
    "    return profit_pred, sum_well"
   ]
  },
  {
   "cell_type": "code",
   "execution_count": 31,
   "metadata": {},
   "outputs": [
    {
     "name": "stdout",
     "output_type": "stream",
     "text": [
      "Объем с лучших скважин региона 0 : 29373976.56 баррелей\n",
      "Доход с лучших скважин региона 0 : 3218289453.125 рублей\n",
      "\n",
      "Объем с лучших скважин региона 1 : 27589085.94 баррелей\n",
      "Доход с лучших скважин региона 1 : 2415088671.875 рублей\n",
      "\n",
      "Объем с лучших скважин региона 2 : 27553957.03 баррелей\n",
      "Доход с лучших скважин региона 2 : 2399280664.0625 рублей\n",
      "\n"
     ]
    }
   ],
   "source": [
    "for i in range(3):\n",
    "    print(f\"Объем с лучших скважин региона {i} : {well_profit(eval('model_'+str(i)+'_res'), BEST_POINTS, INCOME, BUDGET)[1]*1000:.2f} баррелей\")\n",
    "    print(f\"Доход с лучших скважин региона {i} : {well_profit(eval('model_'+str(i)+'_res'), BEST_POINTS, INCOME, BUDGET)[0]} рублей\\n\")"
   ]
  },
  {
   "cell_type": "markdown",
   "metadata": {},
   "source": [
    "## Расчёт прибыли и рисков"
   ]
  },
  {
   "cell_type": "markdown",
   "metadata": {},
   "source": [
    "*Рассмотрим среднюю прибыль на первом участке*"
   ]
  },
  {
   "cell_type": "code",
   "execution_count": 32,
   "metadata": {
    "scrolled": false
   },
   "outputs": [
    {
     "name": "stdout",
     "output_type": "stream",
     "text": [
      "Средняя прибыль: 425492914.06\n",
      "Доверительный интервал 408780257.2258471 : 442205570.8991529\n",
      "Риск убытков : 0.053\n"
     ]
    }
   ],
   "source": [
    "values = []\n",
    "count = 0\n",
    "state = np.random.RandomState(12345)\n",
    "for i in range(1000):\n",
    "    subsample = model_0_res.sample(500, replace=True, random_state=state)\n",
    "    values.append(well_profit(subsample, BEST_POINTS, INCOME , BUDGET)[0])\n",
    "\n",
    "values = pd.Series(values)\n",
    "confidence_interval = st.t.interval(0.95, len(values)-1, values.mean(), values.sem())\n",
    "low = values.quantile(0.025)\n",
    "high = values.quantile(0.975)\n",
    "loss = (values < 0).sum()/len(values)\n",
    "\n",
    "\n",
    "print(f'Средняя прибыль: {values.mean():.2f}')\n",
    "print(f'Доверительный интервал {confidence_interval[0]} : {confidence_interval[1]}')\n",
    "print(f'Риск убытков : {loss}')"
   ]
  },
  {
   "cell_type": "markdown",
   "metadata": {},
   "source": [
    "*Рассмотрим среднюю прибыль на втором участке*"
   ]
  },
  {
   "cell_type": "code",
   "execution_count": 33,
   "metadata": {},
   "outputs": [
    {
     "name": "stdout",
     "output_type": "stream",
     "text": [
      "Средняя прибыль: 514553772.85\n",
      "Доверительный интервал 500889552.1377779 : 528217993.5653471\n",
      "Риск убытков : 0.007\n"
     ]
    }
   ],
   "source": [
    "values = []\n",
    "count = 0\n",
    "state = np.random.RandomState(12345)\n",
    "for i in range(1000):\n",
    "    subsample = model_1_res.sample(500, replace=True, random_state=state)\n",
    "    values.append(well_profit(subsample, BEST_POINTS, INCOME, BUDGET)[0])\n",
    "\n",
    "values = pd.Series(values)\n",
    "confidence_interval = st.t.interval(0.95, len(values)-1, values.mean(), values.sem())\n",
    "low = values.quantile(0.025)\n",
    "high = values.quantile(0.975)\n",
    "loss = (values < 0).sum()/len(values)\n",
    "\n",
    "\n",
    "print(f'Средняя прибыль: {values.mean():.2f}')\n",
    "print(f'Доверительный интервал {confidence_interval[0]} : {confidence_interval[1]}')\n",
    "print(f'Риск убытков : {loss}')"
   ]
  },
  {
   "cell_type": "markdown",
   "metadata": {},
   "source": [
    "*Рассмотрим среднюю прибыль на третьем участке*"
   ]
  },
  {
   "cell_type": "code",
   "execution_count": 34,
   "metadata": {},
   "outputs": [
    {
     "name": "stdout",
     "output_type": "stream",
     "text": [
      "Средняя прибыль: 343229391.41\n",
      "Доверительный интервал 325737046.475388 : 360721736.337112\n",
      "Риск убытков : 0.103\n"
     ]
    }
   ],
   "source": [
    "values = []\n",
    "count = 0\n",
    "state = np.random.RandomState(12345)\n",
    "for i in range(1000):\n",
    "    subsample = model_2_res.sample(500, replace=True, random_state=state)\n",
    "    values.append(well_profit(subsample, BEST_POINTS, INCOME, BUDGET)[0])\n",
    "\n",
    "values = pd.Series(values)\n",
    "confidence_interval = st.t.interval(0.95, len(values)-1, values.mean(), values.sem())\n",
    "low = values.quantile(0.025)\n",
    "high = values.quantile(0.975)\n",
    "loss = (values < 0).sum()/len(values)\n",
    "\n",
    "\n",
    "print(f'Средняя прибыль: {values.mean():.2f}')\n",
    "print(f'Доверительный интервал {confidence_interval[0]} : {confidence_interval[1]}')\n",
    "print(f'Риск убытков : {loss}')"
   ]
  },
  {
   "cell_type": "markdown",
   "metadata": {},
   "source": [
    "**В регионе с индексом 0 и 2, риски привышают 2.5% - он нам не подходит\n",
    "<br>Во регионе 1 риски меньше и наибольшая средняя прибыль\n",
    "<br> Который в свою очередь и стоит выбрать**"
   ]
  },
  {
   "cell_type": "markdown",
   "metadata": {},
   "source": [
    "**Выводы:\n",
    "<br>1) Были приедоставленны хорошие данные, которые понизили разрядность и избавились от дубликатов\n",
    "<br>2) Данные были обучены с помощью линейной регресси для предсказания объемов, в отношении 75:25\n",
    "<br>3) Рассмотрев только средние значения, оказалось сложно предугадать, на какой территории стоит начать работы\n",
    "<br>4) Поэтому были определены точки с наибольшим объемом ресурсов и подсчитана прибыль для каждой\n",
    "<br>5) Далее с помощью бутстрап определялась средняя прибыль по каждому региону\n",
    "<br>6) И рассмотрев результаты, было принято решение ставить оборудование в регионе под индексом 1, в надежде получить 514553772.85 рублей, с минимальными рисками меньше процента**"
   ]
  },
  {
   "cell_type": "markdown",
   "metadata": {},
   "source": [
    "## Чек-лист готовности проекта"
   ]
  },
  {
   "cell_type": "markdown",
   "metadata": {},
   "source": [
    "Поставьте 'x' в выполненных пунктах. Далее нажмите Shift+Enter."
   ]
  },
  {
   "cell_type": "markdown",
   "metadata": {},
   "source": [
    "- [x]  Jupyter Notebook открыт\n",
    "- [x]  Весь код выполняется без ошибок\n",
    "- [x]  Ячейки с кодом расположены в порядке исполнения\n",
    "- [x]  Выполнен шаг 1: данные подготовлены\n",
    "- [x]  Выполнен шаг 2: модели обучены и проверены\n",
    "    - [x]  Данные корректно разбиты на обучающую и валидационную выборки\n",
    "    - [x]  Модели обучены, предсказания сделаны\n",
    "    - [x]  Предсказания и правильные ответы на валидационной выборке сохранены\n",
    "    - [x]  На экране напечатаны результаты\n",
    "    - [x]  Сделаны выводы\n",
    "- [x]  Выполнен шаг 3: проведена подготовка к расчёту прибыли\n",
    "    - [x]  Для всех ключевых значений созданы константы Python\n",
    "    - [x]  Посчитано минимальное среднее количество продукта в месторождениях региона, достаточное для разработки\n",
    "    - [x]  По предыдущему пункту сделаны выводы\n",
    "    - [x]  Написана функция расчёта прибыли\n",
    "- [x]  Выполнен шаг 4: посчитаны риски и прибыль\n",
    "    - [x]  Проведена процедура *Bootstrap*\n",
    "    - [x]  Все параметры бутстрепа соответствуют условию\n",
    "    - [x]  Найдены все нужные величины\n",
    "    - [x]  Предложен регион для разработки месторождения\n",
    "    - [x]  Выбор региона обоснован"
   ]
  }
 ],
 "metadata": {
  "ExecuteTimeLog": [
   {
    "duration": 410,
    "start_time": "2023-03-31T04:12:03.033Z"
   },
   {
    "duration": 417,
    "start_time": "2023-03-31T04:12:14.132Z"
   },
   {
    "duration": 1236,
    "start_time": "2023-03-31T04:12:36.132Z"
   },
   {
    "duration": 9,
    "start_time": "2023-03-31T04:12:41.747Z"
   },
   {
    "duration": 8,
    "start_time": "2023-03-31T04:12:44.131Z"
   },
   {
    "duration": 9,
    "start_time": "2023-03-31T04:12:50.307Z"
   },
   {
    "duration": 9,
    "start_time": "2023-03-31T04:12:55.108Z"
   },
   {
    "duration": 11,
    "start_time": "2023-03-31T04:13:06.052Z"
   },
   {
    "duration": 5,
    "start_time": "2023-03-31T04:13:14.320Z"
   },
   {
    "duration": 17,
    "start_time": "2023-03-31T04:13:18.407Z"
   },
   {
    "duration": 16,
    "start_time": "2023-03-31T04:13:23.794Z"
   },
   {
    "duration": 18,
    "start_time": "2023-03-31T04:13:34.420Z"
   },
   {
    "duration": 6,
    "start_time": "2023-03-31T04:13:38.282Z"
   },
   {
    "duration": 61,
    "start_time": "2023-03-31T04:14:08.235Z"
   },
   {
    "duration": 92,
    "start_time": "2023-03-31T04:14:14.577Z"
   },
   {
    "duration": 11,
    "start_time": "2023-03-31T04:14:38.082Z"
   },
   {
    "duration": 10,
    "start_time": "2023-03-31T04:14:51.922Z"
   },
   {
    "duration": 7,
    "start_time": "2023-03-31T04:15:26.739Z"
   },
   {
    "duration": 12,
    "start_time": "2023-03-31T04:15:32.130Z"
   },
   {
    "duration": 14,
    "start_time": "2023-03-31T04:15:39.814Z"
   },
   {
    "duration": 15,
    "start_time": "2023-03-31T04:15:43.688Z"
   },
   {
    "duration": 255,
    "start_time": "2023-03-31T04:15:51.474Z"
   },
   {
    "duration": 55,
    "start_time": "2023-03-31T04:16:03.547Z"
   },
   {
    "duration": 13,
    "start_time": "2023-03-31T04:16:12.109Z"
   },
   {
    "duration": 56,
    "start_time": "2023-03-31T04:17:00.128Z"
   },
   {
    "duration": 46,
    "start_time": "2023-03-31T04:17:03.181Z"
   },
   {
    "duration": 64,
    "start_time": "2023-03-31T04:17:05.435Z"
   },
   {
    "duration": 22,
    "start_time": "2023-03-31T04:17:16.428Z"
   },
   {
    "duration": 72,
    "start_time": "2023-03-31T04:18:24.698Z"
   },
   {
    "duration": 392,
    "start_time": "2023-03-31T04:18:41.206Z"
   },
   {
    "duration": 8,
    "start_time": "2023-03-31T04:18:42.349Z"
   },
   {
    "duration": 10,
    "start_time": "2023-03-31T04:18:46.059Z"
   },
   {
    "duration": 395,
    "start_time": "2023-03-31T04:19:48.123Z"
   },
   {
    "duration": 284,
    "start_time": "2023-03-31T04:19:59.654Z"
   },
   {
    "duration": 73,
    "start_time": "2023-03-31T04:20:05.532Z"
   },
   {
    "duration": 68,
    "start_time": "2023-03-31T04:20:10.309Z"
   },
   {
    "duration": 49,
    "start_time": "2023-03-31T04:20:20.472Z"
   },
   {
    "duration": 62,
    "start_time": "2023-03-31T04:20:25.234Z"
   },
   {
    "duration": 48,
    "start_time": "2023-03-31T04:20:27.750Z"
   },
   {
    "duration": 45,
    "start_time": "2023-03-31T04:20:32.072Z"
   },
   {
    "duration": 6,
    "start_time": "2023-03-31T04:20:37.382Z"
   },
   {
    "duration": 63,
    "start_time": "2023-03-31T04:20:39.225Z"
   },
   {
    "duration": 44,
    "start_time": "2023-03-31T04:20:43.456Z"
   },
   {
    "duration": 54,
    "start_time": "2023-03-31T04:20:47.424Z"
   },
   {
    "duration": 49,
    "start_time": "2023-03-31T04:20:50.943Z"
   },
   {
    "duration": 69,
    "start_time": "2023-03-31T04:22:23.136Z"
   },
   {
    "duration": 76,
    "start_time": "2023-03-31T04:22:25.275Z"
   },
   {
    "duration": 77,
    "start_time": "2023-03-31T04:22:32.325Z"
   },
   {
    "duration": 44,
    "start_time": "2023-03-31T04:22:40.152Z"
   },
   {
    "duration": 60,
    "start_time": "2023-03-31T04:22:46.107Z"
   },
   {
    "duration": 42,
    "start_time": "2023-03-31T04:22:47.869Z"
   },
   {
    "duration": 64,
    "start_time": "2023-03-31T04:23:40.000Z"
   },
   {
    "duration": 58,
    "start_time": "2023-03-31T04:23:43.720Z"
   },
   {
    "duration": 86,
    "start_time": "2023-03-31T04:23:47.692Z"
   },
   {
    "duration": 50,
    "start_time": "2023-03-31T04:23:52.649Z"
   },
   {
    "duration": 69,
    "start_time": "2023-03-31T04:24:24.750Z"
   },
   {
    "duration": 65,
    "start_time": "2023-03-31T04:24:38.547Z"
   },
   {
    "duration": 44,
    "start_time": "2023-03-31T04:24:46.560Z"
   },
   {
    "duration": 65,
    "start_time": "2023-03-31T04:24:54.508Z"
   },
   {
    "duration": 63,
    "start_time": "2023-03-31T04:24:59.753Z"
   },
   {
    "duration": 126,
    "start_time": "2023-03-31T04:25:05.224Z"
   },
   {
    "duration": 61,
    "start_time": "2023-03-31T04:25:12.799Z"
   },
   {
    "duration": 47,
    "start_time": "2023-03-31T04:26:08.161Z"
   },
   {
    "duration": 80,
    "start_time": "2023-03-31T04:26:18.302Z"
   },
   {
    "duration": 56,
    "start_time": "2023-03-31T04:26:33.275Z"
   },
   {
    "duration": 68,
    "start_time": "2023-03-31T04:26:54.308Z"
   },
   {
    "duration": 47,
    "start_time": "2023-03-31T04:29:22.450Z"
   },
   {
    "duration": 44,
    "start_time": "2023-03-31T04:29:48.664Z"
   },
   {
    "duration": 75,
    "start_time": "2023-03-31T04:29:54.818Z"
   },
   {
    "duration": 13,
    "start_time": "2023-03-31T04:34:13.152Z"
   },
   {
    "duration": 5,
    "start_time": "2023-03-31T04:34:21.047Z"
   },
   {
    "duration": 52,
    "start_time": "2023-03-31T04:34:33.855Z"
   },
   {
    "duration": 44,
    "start_time": "2023-03-31T04:34:38.583Z"
   },
   {
    "duration": 44,
    "start_time": "2023-03-31T04:34:46.960Z"
   },
   {
    "duration": 70,
    "start_time": "2023-03-31T04:34:49.383Z"
   },
   {
    "duration": 63,
    "start_time": "2023-03-31T04:35:43.169Z"
   },
   {
    "duration": 102,
    "start_time": "2023-03-31T04:35:49.460Z"
   },
   {
    "duration": 94,
    "start_time": "2023-03-31T04:35:53.882Z"
   },
   {
    "duration": 7,
    "start_time": "2023-03-31T04:36:11.109Z"
   },
   {
    "duration": 10,
    "start_time": "2023-03-31T04:36:19.028Z"
   },
   {
    "duration": 15,
    "start_time": "2023-03-31T04:36:40.566Z"
   },
   {
    "duration": 13,
    "start_time": "2023-03-31T04:37:57.532Z"
   },
   {
    "duration": 7,
    "start_time": "2023-03-31T04:38:01.858Z"
   },
   {
    "duration": 4,
    "start_time": "2023-03-31T04:38:04.327Z"
   },
   {
    "duration": 8,
    "start_time": "2023-03-31T04:38:19.217Z"
   },
   {
    "duration": 57,
    "start_time": "2023-03-31T04:38:23.760Z"
   },
   {
    "duration": 97,
    "start_time": "2023-03-31T04:38:37.279Z"
   },
   {
    "duration": 42,
    "start_time": "2023-03-31T05:19:51.927Z"
   },
   {
    "duration": 5,
    "start_time": "2023-03-31T05:20:02.546Z"
   },
   {
    "duration": 108,
    "start_time": "2023-03-31T05:20:14.118Z"
   },
   {
    "duration": 6,
    "start_time": "2023-03-31T05:20:18.129Z"
   },
   {
    "duration": 93,
    "start_time": "2023-03-31T05:20:26.134Z"
   },
   {
    "duration": 88,
    "start_time": "2023-03-31T05:20:32.667Z"
   },
   {
    "duration": 53,
    "start_time": "2023-03-31T05:20:39.155Z"
   },
   {
    "duration": 46,
    "start_time": "2023-03-31T05:20:41.670Z"
   },
   {
    "duration": 125,
    "start_time": "2023-03-31T05:21:08.779Z"
   },
   {
    "duration": 53,
    "start_time": "2023-03-31T05:21:14.475Z"
   },
   {
    "duration": 66,
    "start_time": "2023-03-31T05:21:18.233Z"
   },
   {
    "duration": 74,
    "start_time": "2023-03-31T05:21:28.742Z"
   },
   {
    "duration": 327,
    "start_time": "2023-03-31T05:21:53.461Z"
   },
   {
    "duration": 79,
    "start_time": "2023-03-31T05:21:59.968Z"
   },
   {
    "duration": 49,
    "start_time": "2023-03-31T05:22:12.493Z"
   },
   {
    "duration": 69,
    "start_time": "2023-03-31T05:22:18.528Z"
   },
   {
    "duration": 61,
    "start_time": "2023-03-31T05:22:41.605Z"
   },
   {
    "duration": 49,
    "start_time": "2023-03-31T05:23:08.458Z"
   },
   {
    "duration": 55,
    "start_time": "2023-03-31T05:23:32.461Z"
   },
   {
    "duration": 79,
    "start_time": "2023-03-31T05:24:45.614Z"
   },
   {
    "duration": 90,
    "start_time": "2023-03-31T05:24:50.517Z"
   },
   {
    "duration": 53,
    "start_time": "2023-03-31T05:25:05.871Z"
   },
   {
    "duration": 68,
    "start_time": "2023-03-31T05:25:11.330Z"
   },
   {
    "duration": 14,
    "start_time": "2023-03-31T05:25:12.676Z"
   },
   {
    "duration": 77,
    "start_time": "2023-03-31T05:25:28.630Z"
   },
   {
    "duration": 75,
    "start_time": "2023-03-31T05:44:15.354Z"
   },
   {
    "duration": 141,
    "start_time": "2023-03-31T05:44:27.863Z"
   },
   {
    "duration": 127,
    "start_time": "2023-03-31T05:44:32.159Z"
   },
   {
    "duration": 176,
    "start_time": "2023-03-31T05:45:40.619Z"
   },
   {
    "duration": 132,
    "start_time": "2023-03-31T05:45:43.904Z"
   },
   {
    "duration": 159,
    "start_time": "2023-03-31T05:45:47.422Z"
   },
   {
    "duration": 185,
    "start_time": "2023-03-31T05:47:30.709Z"
   },
   {
    "duration": 135,
    "start_time": "2023-03-31T05:47:47.659Z"
   },
   {
    "duration": 1626,
    "start_time": "2023-03-31T05:48:24.171Z"
   },
   {
    "duration": 1547,
    "start_time": "2023-03-31T05:48:32.612Z"
   },
   {
    "duration": 1741,
    "start_time": "2023-03-31T05:48:36.068Z"
   },
   {
    "duration": 1576,
    "start_time": "2023-03-31T05:48:41.306Z"
   },
   {
    "duration": 127,
    "start_time": "2023-03-31T05:48:46.539Z"
   },
   {
    "duration": 1722,
    "start_time": "2023-03-31T05:49:22.274Z"
   },
   {
    "duration": 1771,
    "start_time": "2023-03-31T05:49:37.431Z"
   },
   {
    "duration": 2343,
    "start_time": "2023-03-31T05:49:44.973Z"
   },
   {
    "duration": 2114,
    "start_time": "2023-03-31T05:49:47.910Z"
   },
   {
    "duration": 442,
    "start_time": "2023-03-31T05:49:57.854Z"
   },
   {
    "duration": 125,
    "start_time": "2023-03-31T05:49:58.601Z"
   },
   {
    "duration": 16,
    "start_time": "2023-03-31T05:50:00.774Z"
   },
   {
    "duration": 7,
    "start_time": "2023-03-31T05:50:09.692Z"
   },
   {
    "duration": 3,
    "start_time": "2023-03-31T05:50:17.395Z"
   },
   {
    "duration": 7,
    "start_time": "2023-03-31T05:50:25.800Z"
   },
   {
    "duration": 449,
    "start_time": "2023-03-31T05:50:34.777Z"
   },
   {
    "duration": 191,
    "start_time": "2023-03-31T05:50:35.228Z"
   },
   {
    "duration": 30,
    "start_time": "2023-03-31T05:50:37.977Z"
   },
   {
    "duration": 25,
    "start_time": "2023-03-31T05:50:54.059Z"
   },
   {
    "duration": 12,
    "start_time": "2023-03-31T05:50:58.297Z"
   },
   {
    "duration": 13,
    "start_time": "2023-03-31T05:51:04.964Z"
   },
   {
    "duration": 1597,
    "start_time": "2023-03-31T05:51:06.490Z"
   },
   {
    "duration": 487,
    "start_time": "2023-03-31T05:51:08.469Z"
   },
   {
    "duration": 153,
    "start_time": "2023-03-31T05:51:08.963Z"
   },
   {
    "duration": 11,
    "start_time": "2023-03-31T05:51:10.373Z"
   },
   {
    "duration": 28,
    "start_time": "2023-03-31T05:51:39.683Z"
   },
   {
    "duration": 1800,
    "start_time": "2023-03-31T05:51:59.513Z"
   },
   {
    "duration": 478,
    "start_time": "2023-03-31T05:52:02.212Z"
   },
   {
    "duration": 494,
    "start_time": "2023-03-31T05:52:05.233Z"
   },
   {
    "duration": 140,
    "start_time": "2023-03-31T05:52:07.976Z"
   },
   {
    "duration": 9,
    "start_time": "2023-03-31T05:52:14.676Z"
   },
   {
    "duration": 12,
    "start_time": "2023-03-31T05:52:17.750Z"
   },
   {
    "duration": 432,
    "start_time": "2023-03-31T05:52:32.686Z"
   },
   {
    "duration": 181,
    "start_time": "2023-03-31T05:52:33.327Z"
   },
   {
    "duration": 1489,
    "start_time": "2023-03-31T05:52:42.192Z"
   },
   {
    "duration": 414,
    "start_time": "2023-03-31T05:52:46.067Z"
   },
   {
    "duration": 132,
    "start_time": "2023-03-31T05:52:46.770Z"
   },
   {
    "duration": 418,
    "start_time": "2023-03-31T05:52:57.569Z"
   },
   {
    "duration": 140,
    "start_time": "2023-03-31T05:52:57.989Z"
   },
   {
    "duration": 393,
    "start_time": "2023-03-31T05:55:09.992Z"
   },
   {
    "duration": 7,
    "start_time": "2023-03-31T05:55:26.399Z"
   },
   {
    "duration": 44,
    "start_time": "2023-03-31T05:55:35.051Z"
   },
   {
    "duration": 28,
    "start_time": "2023-03-31T05:55:40.027Z"
   },
   {
    "duration": 12,
    "start_time": "2023-03-31T05:56:59.494Z"
   },
   {
    "duration": 6,
    "start_time": "2023-03-31T05:57:14.511Z"
   },
   {
    "duration": 6,
    "start_time": "2023-03-31T05:57:16.979Z"
   },
   {
    "duration": 19,
    "start_time": "2023-03-31T05:57:20.844Z"
   },
   {
    "duration": 19,
    "start_time": "2023-03-31T05:57:27.748Z"
   },
   {
    "duration": 69,
    "start_time": "2023-03-31T05:57:50.413Z"
   },
   {
    "duration": 72,
    "start_time": "2023-03-31T05:58:03.405Z"
   },
   {
    "duration": 67,
    "start_time": "2023-03-31T05:58:08.313Z"
   },
   {
    "duration": 20,
    "start_time": "2023-03-31T05:58:37.013Z"
   },
   {
    "duration": 7,
    "start_time": "2023-03-31T06:02:07.005Z"
   },
   {
    "duration": 12,
    "start_time": "2023-03-31T06:02:13.509Z"
   },
   {
    "duration": 15,
    "start_time": "2023-03-31T06:02:17.331Z"
   },
   {
    "duration": 13,
    "start_time": "2023-03-31T06:02:26.103Z"
   },
   {
    "duration": 12,
    "start_time": "2023-03-31T06:02:35.156Z"
   },
   {
    "duration": 143,
    "start_time": "2023-03-31T06:02:50.107Z"
   },
   {
    "duration": 6,
    "start_time": "2023-03-31T06:02:51.624Z"
   },
   {
    "duration": 10,
    "start_time": "2023-03-31T06:02:52.811Z"
   },
   {
    "duration": 70,
    "start_time": "2023-03-31T06:02:55.251Z"
   },
   {
    "duration": 422,
    "start_time": "2023-03-31T06:03:07.931Z"
   },
   {
    "duration": 428,
    "start_time": "2023-03-31T06:03:08.358Z"
   },
   {
    "duration": 28,
    "start_time": "2023-03-31T06:03:08.788Z"
   },
   {
    "duration": 81,
    "start_time": "2023-03-31T06:03:08.818Z"
   },
   {
    "duration": 189,
    "start_time": "2023-03-31T06:03:08.902Z"
   },
   {
    "duration": 7,
    "start_time": "2023-03-31T06:03:09.093Z"
   },
   {
    "duration": 25,
    "start_time": "2023-03-31T06:03:09.101Z"
   },
   {
    "duration": 10,
    "start_time": "2023-03-31T06:03:18.157Z"
   },
   {
    "duration": 12,
    "start_time": "2023-03-31T06:03:43.942Z"
   },
   {
    "duration": 10,
    "start_time": "2023-03-31T06:03:46.459Z"
   },
   {
    "duration": 8,
    "start_time": "2023-03-31T06:04:05.308Z"
   },
   {
    "duration": 11,
    "start_time": "2023-03-31T06:04:05.704Z"
   },
   {
    "duration": 380,
    "start_time": "2023-03-31T06:04:15.324Z"
   },
   {
    "duration": 395,
    "start_time": "2023-03-31T06:04:15.706Z"
   },
   {
    "duration": 45,
    "start_time": "2023-03-31T06:04:16.103Z"
   },
   {
    "duration": 46,
    "start_time": "2023-03-31T06:04:16.149Z"
   },
   {
    "duration": 133,
    "start_time": "2023-03-31T06:04:16.197Z"
   },
   {
    "duration": 6,
    "start_time": "2023-03-31T06:04:16.335Z"
   },
   {
    "duration": 16,
    "start_time": "2023-03-31T06:04:16.347Z"
   },
   {
    "duration": 8,
    "start_time": "2023-03-31T06:05:00.054Z"
   },
   {
    "duration": 10,
    "start_time": "2023-03-31T06:05:01.471Z"
   },
   {
    "duration": 1876,
    "start_time": "2023-03-31T06:05:06.163Z"
   },
   {
    "duration": 425,
    "start_time": "2023-03-31T06:05:12.165Z"
   },
   {
    "duration": 365,
    "start_time": "2023-03-31T06:05:12.592Z"
   },
   {
    "duration": 29,
    "start_time": "2023-03-31T06:05:12.959Z"
   },
   {
    "duration": 63,
    "start_time": "2023-03-31T06:05:12.990Z"
   },
   {
    "duration": 127,
    "start_time": "2023-03-31T06:05:13.055Z"
   },
   {
    "duration": 6,
    "start_time": "2023-03-31T06:05:13.183Z"
   },
   {
    "duration": 17,
    "start_time": "2023-03-31T06:05:13.190Z"
   },
   {
    "duration": 12,
    "start_time": "2023-03-31T06:05:53.902Z"
   },
   {
    "duration": 7,
    "start_time": "2023-03-31T06:06:05.067Z"
   },
   {
    "duration": 16,
    "start_time": "2023-03-31T06:06:05.864Z"
   },
   {
    "duration": 15,
    "start_time": "2023-03-31T06:06:24.400Z"
   },
   {
    "duration": 29,
    "start_time": "2023-03-31T06:07:54.038Z"
   },
   {
    "duration": 98,
    "start_time": "2023-03-31T06:08:04.660Z"
   },
   {
    "duration": 106,
    "start_time": "2023-03-31T06:08:39.931Z"
   },
   {
    "duration": 7,
    "start_time": "2023-03-31T06:08:57.030Z"
   },
   {
    "duration": 14,
    "start_time": "2023-03-31T06:09:05.977Z"
   },
   {
    "duration": 23,
    "start_time": "2023-03-31T06:10:08.707Z"
   },
   {
    "duration": 46,
    "start_time": "2023-03-31T06:10:23.146Z"
   },
   {
    "duration": 94,
    "start_time": "2023-03-31T06:10:48.133Z"
   },
   {
    "duration": 1523,
    "start_time": "2023-03-31T06:11:02.896Z"
   },
   {
    "duration": 6,
    "start_time": "2023-03-31T06:11:26.290Z"
   },
   {
    "duration": 18,
    "start_time": "2023-03-31T06:11:31.207Z"
   },
   {
    "duration": 491,
    "start_time": "2023-03-31T06:11:34.623Z"
   },
   {
    "duration": 511,
    "start_time": "2023-03-31T06:11:35.117Z"
   },
   {
    "duration": 45,
    "start_time": "2023-03-31T06:11:35.630Z"
   },
   {
    "duration": 71,
    "start_time": "2023-03-31T06:11:35.678Z"
   },
   {
    "duration": 186,
    "start_time": "2023-03-31T06:11:35.754Z"
   },
   {
    "duration": 9,
    "start_time": "2023-03-31T06:11:35.941Z"
   },
   {
    "duration": 34,
    "start_time": "2023-03-31T06:11:35.953Z"
   },
   {
    "duration": 25,
    "start_time": "2023-03-31T06:11:35.988Z"
   },
   {
    "duration": 85,
    "start_time": "2023-03-31T06:11:36.015Z"
   },
   {
    "duration": 97,
    "start_time": "2023-03-31T06:11:36.102Z"
   },
   {
    "duration": 6,
    "start_time": "2023-03-31T06:11:36.201Z"
   },
   {
    "duration": 30,
    "start_time": "2023-03-31T06:11:36.209Z"
   },
   {
    "duration": 36,
    "start_time": "2023-03-31T06:11:36.240Z"
   },
   {
    "duration": 84,
    "start_time": "2023-03-31T06:11:36.280Z"
   },
   {
    "duration": 99,
    "start_time": "2023-03-31T06:11:36.368Z"
   },
   {
    "duration": 5,
    "start_time": "2023-03-31T06:11:36.469Z"
   },
   {
    "duration": 21,
    "start_time": "2023-03-31T06:11:36.477Z"
   },
   {
    "duration": 14,
    "start_time": "2023-03-31T06:15:53.971Z"
   },
   {
    "duration": 2982,
    "start_time": "2023-03-31T06:16:09.066Z"
   },
   {
    "duration": 2404,
    "start_time": "2023-03-31T06:16:13.269Z"
   },
   {
    "duration": 407,
    "start_time": "2023-03-31T06:16:40.678Z"
   },
   {
    "duration": 19,
    "start_time": "2023-03-31T06:16:52.031Z"
   },
   {
    "duration": 587,
    "start_time": "2023-03-31T06:16:54.393Z"
   },
   {
    "duration": 22,
    "start_time": "2023-03-31T06:17:05.827Z"
   },
   {
    "duration": 521,
    "start_time": "2023-03-31T06:17:06.933Z"
   },
   {
    "duration": 474,
    "start_time": "2023-03-31T06:17:09.272Z"
   },
   {
    "duration": 391,
    "start_time": "2023-03-31T06:23:06.006Z"
   },
   {
    "duration": 3,
    "start_time": "2023-03-31T06:24:59.868Z"
   },
   {
    "duration": 889,
    "start_time": "2023-03-31T06:50:30.659Z"
   },
   {
    "duration": 3,
    "start_time": "2023-03-31T06:51:29.565Z"
   },
   {
    "duration": 169,
    "start_time": "2023-03-31T06:54:38.199Z"
   },
   {
    "duration": 13,
    "start_time": "2023-03-31T06:54:53.576Z"
   },
   {
    "duration": 19,
    "start_time": "2023-03-31T06:55:04.843Z"
   },
   {
    "duration": 17,
    "start_time": "2023-03-31T06:55:08.150Z"
   },
   {
    "duration": 23,
    "start_time": "2023-03-31T06:55:16.903Z"
   },
   {
    "duration": 25,
    "start_time": "2023-03-31T06:55:24.279Z"
   },
   {
    "duration": 32,
    "start_time": "2023-03-31T06:56:29.209Z"
   },
   {
    "duration": 33,
    "start_time": "2023-03-31T06:56:48.855Z"
   },
   {
    "duration": 41,
    "start_time": "2023-03-31T06:56:50.313Z"
   },
   {
    "duration": 53,
    "start_time": "2023-03-31T06:57:19.758Z"
   },
   {
    "duration": 32,
    "start_time": "2023-03-31T06:57:23.879Z"
   },
   {
    "duration": 33,
    "start_time": "2023-03-31T06:57:48.071Z"
   },
   {
    "duration": 3,
    "start_time": "2023-03-31T07:04:30.490Z"
   },
   {
    "duration": 159,
    "start_time": "2023-03-31T07:04:52.711Z"
   },
   {
    "duration": 39,
    "start_time": "2023-03-31T07:04:56.067Z"
   },
   {
    "duration": 31,
    "start_time": "2023-03-31T07:06:01.452Z"
   },
   {
    "duration": 89,
    "start_time": "2023-03-31T07:07:05.856Z"
   },
   {
    "duration": 11,
    "start_time": "2023-03-31T07:07:16.784Z"
   },
   {
    "duration": 91,
    "start_time": "2023-03-31T07:07:19.860Z"
   },
   {
    "duration": 3,
    "start_time": "2023-03-31T07:09:03.623Z"
   },
   {
    "duration": 85,
    "start_time": "2023-03-31T07:09:32.453Z"
   },
   {
    "duration": 3200,
    "start_time": "2023-03-31T07:09:41.221Z"
   },
   {
    "duration": 80,
    "start_time": "2023-03-31T07:10:33.396Z"
   },
   {
    "duration": 13,
    "start_time": "2023-03-31T07:10:39.089Z"
   },
   {
    "duration": 12,
    "start_time": "2023-03-31T07:11:12.976Z"
   },
   {
    "duration": 2202,
    "start_time": "2023-03-31T07:13:45.150Z"
   },
   {
    "duration": 1781,
    "start_time": "2023-03-31T07:14:02.622Z"
   },
   {
    "duration": 108,
    "start_time": "2023-03-31T07:14:27.860Z"
   },
   {
    "duration": 127,
    "start_time": "2023-03-31T07:14:30.065Z"
   },
   {
    "duration": 62,
    "start_time": "2023-03-31T07:14:31.281Z"
   },
   {
    "duration": 114,
    "start_time": "2023-03-31T07:14:49.727Z"
   },
   {
    "duration": 17,
    "start_time": "2023-03-31T07:15:05.775Z"
   },
   {
    "duration": 107,
    "start_time": "2023-03-31T07:15:21.756Z"
   },
   {
    "duration": 3267,
    "start_time": "2023-03-31T07:15:34.929Z"
   },
   {
    "duration": 88,
    "start_time": "2023-03-31T07:15:47.461Z"
   },
   {
    "duration": 15,
    "start_time": "2023-03-31T07:16:08.268Z"
   },
   {
    "duration": 83,
    "start_time": "2023-03-31T07:16:18.260Z"
   },
   {
    "duration": 14,
    "start_time": "2023-03-31T07:16:25.468Z"
   },
   {
    "duration": 14,
    "start_time": "2023-03-31T07:16:43.091Z"
   },
   {
    "duration": 2643,
    "start_time": "2023-03-31T07:16:52.957Z"
   },
   {
    "duration": 23,
    "start_time": "2023-03-31T07:17:01.463Z"
   },
   {
    "duration": 20,
    "start_time": "2023-03-31T07:17:07.185Z"
   },
   {
    "duration": 25,
    "start_time": "2023-03-31T07:17:12.517Z"
   },
   {
    "duration": 16,
    "start_time": "2023-03-31T07:17:29.603Z"
   },
   {
    "duration": 15,
    "start_time": "2023-03-31T07:17:31.214Z"
   },
   {
    "duration": 37,
    "start_time": "2023-03-31T07:17:32.907Z"
   },
   {
    "duration": 18,
    "start_time": "2023-03-31T07:18:11.373Z"
   },
   {
    "duration": 15,
    "start_time": "2023-03-31T07:18:57.786Z"
   },
   {
    "duration": 10,
    "start_time": "2023-03-31T07:19:13.394Z"
   },
   {
    "duration": 14,
    "start_time": "2023-03-31T07:19:16.502Z"
   },
   {
    "duration": 17,
    "start_time": "2023-03-31T07:19:38.205Z"
   },
   {
    "duration": 34,
    "start_time": "2023-03-31T07:20:30.419Z"
   },
   {
    "duration": 62,
    "start_time": "2023-03-31T07:21:30.276Z"
   },
   {
    "duration": 4,
    "start_time": "2023-03-31T07:28:05.025Z"
   },
   {
    "duration": 3,
    "start_time": "2023-03-31T07:28:07.608Z"
   },
   {
    "duration": 8,
    "start_time": "2023-03-31T07:28:13.876Z"
   },
   {
    "duration": 5,
    "start_time": "2023-03-31T07:28:22.097Z"
   },
   {
    "duration": 13,
    "start_time": "2023-03-31T07:28:46.884Z"
   },
   {
    "duration": 4,
    "start_time": "2023-03-31T07:28:51.389Z"
   },
   {
    "duration": 4,
    "start_time": "2023-03-31T07:28:54.475Z"
   },
   {
    "duration": 7,
    "start_time": "2023-03-31T07:28:58.460Z"
   },
   {
    "duration": 4,
    "start_time": "2023-03-31T07:29:09.487Z"
   },
   {
    "duration": 115,
    "start_time": "2023-03-31T07:29:47.387Z"
   },
   {
    "duration": 103,
    "start_time": "2023-03-31T07:29:51.685Z"
   },
   {
    "duration": 5,
    "start_time": "2023-03-31T07:29:53.594Z"
   },
   {
    "duration": 8,
    "start_time": "2023-03-31T07:30:47.474Z"
   },
   {
    "duration": 15,
    "start_time": "2023-03-31T07:30:54.672Z"
   },
   {
    "duration": 10,
    "start_time": "2023-03-31T07:31:00.110Z"
   },
   {
    "duration": 5,
    "start_time": "2023-03-31T07:31:04.024Z"
   },
   {
    "duration": 4,
    "start_time": "2023-03-31T07:31:13.775Z"
   },
   {
    "duration": 102,
    "start_time": "2023-03-31T08:30:05.739Z"
   },
   {
    "duration": 4,
    "start_time": "2023-03-31T09:15:14.329Z"
   },
   {
    "duration": 4,
    "start_time": "2023-03-31T09:48:03.142Z"
   },
   {
    "duration": 3,
    "start_time": "2023-03-31T09:49:13.678Z"
   },
   {
    "duration": 98,
    "start_time": "2023-03-31T09:49:17.650Z"
   },
   {
    "duration": 4,
    "start_time": "2023-03-31T09:49:20.634Z"
   },
   {
    "duration": 5,
    "start_time": "2023-03-31T09:49:27.850Z"
   },
   {
    "duration": 4,
    "start_time": "2023-03-31T09:51:09.371Z"
   },
   {
    "duration": 2,
    "start_time": "2023-03-31T09:52:47.398Z"
   },
   {
    "duration": 3,
    "start_time": "2023-03-31T09:57:30.190Z"
   },
   {
    "duration": 5,
    "start_time": "2023-03-31T09:57:32.384Z"
   },
   {
    "duration": 5,
    "start_time": "2023-03-31T09:58:24.459Z"
   },
   {
    "duration": 3,
    "start_time": "2023-03-31T09:58:49.596Z"
   },
   {
    "duration": 4,
    "start_time": "2023-03-31T09:59:08.899Z"
   },
   {
    "duration": 3,
    "start_time": "2023-03-31T09:59:56.726Z"
   },
   {
    "duration": 14,
    "start_time": "2023-03-31T10:17:44.359Z"
   },
   {
    "duration": 3,
    "start_time": "2023-03-31T10:18:27.175Z"
   },
   {
    "duration": 5,
    "start_time": "2023-03-31T10:19:45.397Z"
   },
   {
    "duration": 5,
    "start_time": "2023-03-31T10:50:01.750Z"
   },
   {
    "duration": 6,
    "start_time": "2023-03-31T10:51:12.090Z"
   },
   {
    "duration": 14,
    "start_time": "2023-03-31T10:52:15.575Z"
   },
   {
    "duration": 21,
    "start_time": "2023-03-31T10:52:24.561Z"
   },
   {
    "duration": 8,
    "start_time": "2023-03-31T10:52:35.390Z"
   },
   {
    "duration": 5,
    "start_time": "2023-03-31T10:53:10.963Z"
   },
   {
    "duration": 19,
    "start_time": "2023-03-31T10:53:14.941Z"
   },
   {
    "duration": 4,
    "start_time": "2023-03-31T10:54:40.599Z"
   },
   {
    "duration": 5,
    "start_time": "2023-03-31T10:55:00.293Z"
   },
   {
    "duration": 4,
    "start_time": "2023-03-31T10:55:12.589Z"
   },
   {
    "duration": 93,
    "start_time": "2023-03-31T10:55:35.387Z"
   },
   {
    "duration": 11,
    "start_time": "2023-03-31T10:55:37.819Z"
   },
   {
    "duration": 6,
    "start_time": "2023-03-31T10:55:44.088Z"
   },
   {
    "duration": 125,
    "start_time": "2023-03-31T10:56:14.309Z"
   },
   {
    "duration": 104,
    "start_time": "2023-03-31T10:56:17.059Z"
   },
   {
    "duration": 6,
    "start_time": "2023-03-31T10:56:21.393Z"
   },
   {
    "duration": 6,
    "start_time": "2023-03-31T10:57:02.620Z"
   },
   {
    "duration": 7,
    "start_time": "2023-03-31T10:57:08.696Z"
   },
   {
    "duration": 7,
    "start_time": "2023-03-31T10:58:49.102Z"
   },
   {
    "duration": 8,
    "start_time": "2023-03-31T10:58:57.099Z"
   },
   {
    "duration": 8,
    "start_time": "2023-03-31T10:59:15.980Z"
   },
   {
    "duration": 8,
    "start_time": "2023-03-31T11:09:07.962Z"
   },
   {
    "duration": 8,
    "start_time": "2023-03-31T11:09:15.501Z"
   },
   {
    "duration": 9,
    "start_time": "2023-03-31T11:09:20.269Z"
   },
   {
    "duration": 8,
    "start_time": "2023-03-31T11:09:26.293Z"
   },
   {
    "duration": 8,
    "start_time": "2023-03-31T11:09:28.782Z"
   },
   {
    "duration": 9,
    "start_time": "2023-03-31T11:09:54.681Z"
   },
   {
    "duration": 8,
    "start_time": "2023-03-31T11:10:02.362Z"
   },
   {
    "duration": 4,
    "start_time": "2023-03-31T11:33:26.520Z"
   },
   {
    "duration": 8,
    "start_time": "2023-03-31T11:33:39.129Z"
   },
   {
    "duration": 9,
    "start_time": "2023-03-31T11:39:24.135Z"
   },
   {
    "duration": 9,
    "start_time": "2023-03-31T11:39:34.107Z"
   },
   {
    "duration": 9,
    "start_time": "2023-03-31T11:39:36.698Z"
   },
   {
    "duration": 6,
    "start_time": "2023-03-31T11:39:39.636Z"
   },
   {
    "duration": 153,
    "start_time": "2023-03-31T11:42:40.184Z"
   },
   {
    "duration": 13,
    "start_time": "2023-03-31T11:42:47.869Z"
   },
   {
    "duration": 10,
    "start_time": "2023-03-31T11:42:53.770Z"
   },
   {
    "duration": 39,
    "start_time": "2023-03-31T11:43:18.952Z"
   },
   {
    "duration": 14,
    "start_time": "2023-03-31T11:43:27.588Z"
   },
   {
    "duration": 16,
    "start_time": "2023-03-31T11:43:32.884Z"
   },
   {
    "duration": 11,
    "start_time": "2023-03-31T11:43:55.480Z"
   },
   {
    "duration": 19,
    "start_time": "2023-03-31T11:45:17.058Z"
   },
   {
    "duration": 31,
    "start_time": "2023-03-31T11:45:24.933Z"
   },
   {
    "duration": 24,
    "start_time": "2023-03-31T11:45:34.190Z"
   },
   {
    "duration": 21,
    "start_time": "2023-03-31T11:45:42.461Z"
   },
   {
    "duration": 12,
    "start_time": "2023-03-31T11:45:46.361Z"
   },
   {
    "duration": 6,
    "start_time": "2023-03-31T11:48:50.250Z"
   },
   {
    "duration": 3,
    "start_time": "2023-03-31T11:48:56.630Z"
   },
   {
    "duration": 13,
    "start_time": "2023-03-31T11:49:03.598Z"
   },
   {
    "duration": 3,
    "start_time": "2023-03-31T11:49:07.526Z"
   },
   {
    "duration": 3,
    "start_time": "2023-03-31T11:49:41.985Z"
   },
   {
    "duration": 3,
    "start_time": "2023-03-31T11:50:03.397Z"
   },
   {
    "duration": 3,
    "start_time": "2023-03-31T11:50:07.066Z"
   },
   {
    "duration": 18,
    "start_time": "2023-03-31T11:50:10.126Z"
   },
   {
    "duration": 26,
    "start_time": "2023-03-31T11:50:16.918Z"
   },
   {
    "duration": 14,
    "start_time": "2023-03-31T11:50:19.172Z"
   },
   {
    "duration": 24,
    "start_time": "2023-03-31T11:50:21.426Z"
   },
   {
    "duration": 14,
    "start_time": "2023-03-31T11:50:35.164Z"
   },
   {
    "duration": 7,
    "start_time": "2023-03-31T11:53:58.158Z"
   },
   {
    "duration": 15,
    "start_time": "2023-03-31T11:55:24.494Z"
   },
   {
    "duration": 14,
    "start_time": "2023-03-31T11:58:12.573Z"
   },
   {
    "duration": 13,
    "start_time": "2023-03-31T11:58:23.365Z"
   },
   {
    "duration": 13,
    "start_time": "2023-03-31T11:58:28.123Z"
   },
   {
    "duration": 1128,
    "start_time": "2023-03-31T11:58:47.674Z"
   },
   {
    "duration": 411,
    "start_time": "2023-03-31T11:58:48.804Z"
   },
   {
    "duration": 48,
    "start_time": "2023-03-31T11:58:49.217Z"
   },
   {
    "duration": 106,
    "start_time": "2023-03-31T11:58:49.270Z"
   },
   {
    "duration": 147,
    "start_time": "2023-03-31T11:58:49.379Z"
   },
   {
    "duration": 11,
    "start_time": "2023-03-31T11:58:49.528Z"
   },
   {
    "duration": 105,
    "start_time": "2023-03-31T11:58:49.540Z"
   },
   {
    "duration": 711,
    "start_time": "2023-03-31T11:58:49.648Z"
   },
   {
    "duration": 29,
    "start_time": "2023-03-31T11:58:50.360Z"
   },
   {
    "duration": 85,
    "start_time": "2023-03-31T11:58:50.391Z"
   },
   {
    "duration": 120,
    "start_time": "2023-03-31T11:58:50.479Z"
   },
   {
    "duration": 6,
    "start_time": "2023-03-31T11:58:50.601Z"
   },
   {
    "duration": 47,
    "start_time": "2023-03-31T11:58:50.609Z"
   },
   {
    "duration": 461,
    "start_time": "2023-03-31T11:58:50.661Z"
   },
   {
    "duration": 39,
    "start_time": "2023-03-31T11:58:51.124Z"
   },
   {
    "duration": 71,
    "start_time": "2023-03-31T11:58:51.165Z"
   },
   {
    "duration": 114,
    "start_time": "2023-03-31T11:58:51.238Z"
   },
   {
    "duration": 10,
    "start_time": "2023-03-31T11:58:51.354Z"
   },
   {
    "duration": 28,
    "start_time": "2023-03-31T11:58:51.367Z"
   },
   {
    "duration": 511,
    "start_time": "2023-03-31T11:58:51.396Z"
   },
   {
    "duration": 64,
    "start_time": "2023-03-31T11:58:51.908Z"
   },
   {
    "duration": 51,
    "start_time": "2023-03-31T11:58:51.973Z"
   },
   {
    "duration": 49,
    "start_time": "2023-03-31T11:58:52.026Z"
   },
   {
    "duration": 77,
    "start_time": "2023-03-31T11:58:52.077Z"
   },
   {
    "duration": 286,
    "start_time": "2023-03-31T11:58:52.156Z"
   },
   {
    "duration": 40,
    "start_time": "2023-03-31T11:58:52.447Z"
   },
   {
    "duration": 7,
    "start_time": "2023-03-31T11:58:52.539Z"
   },
   {
    "duration": 124,
    "start_time": "2023-03-31T11:58:52.550Z"
   },
   {
    "duration": 17,
    "start_time": "2023-03-31T11:58:52.676Z"
   },
   {
    "duration": 19,
    "start_time": "2023-03-31T11:58:52.695Z"
   },
   {
    "duration": 14,
    "start_time": "2023-03-31T11:59:31.378Z"
   },
   {
    "duration": 19,
    "start_time": "2023-03-31T11:59:55.507Z"
   },
   {
    "duration": 13,
    "start_time": "2023-03-31T12:01:45.683Z"
   },
   {
    "duration": 8,
    "start_time": "2023-03-31T12:01:52.758Z"
   },
   {
    "duration": 119,
    "start_time": "2023-03-31T12:03:09.496Z"
   },
   {
    "duration": 114,
    "start_time": "2023-03-31T12:03:15.110Z"
   },
   {
    "duration": 40,
    "start_time": "2023-03-31T12:03:20.829Z"
   },
   {
    "duration": 36,
    "start_time": "2023-03-31T12:03:27.287Z"
   },
   {
    "duration": 97,
    "start_time": "2023-03-31T12:04:20.374Z"
   },
   {
    "duration": 175,
    "start_time": "2023-03-31T12:04:23.026Z"
   },
   {
    "duration": 37,
    "start_time": "2023-03-31T12:04:25.063Z"
   },
   {
    "duration": 26,
    "start_time": "2023-03-31T12:04:31.108Z"
   },
   {
    "duration": 45,
    "start_time": "2023-03-31T12:04:38.931Z"
   },
   {
    "duration": 39,
    "start_time": "2023-03-31T12:04:46.816Z"
   },
   {
    "duration": 27,
    "start_time": "2023-03-31T12:04:59.865Z"
   },
   {
    "duration": 353,
    "start_time": "2023-03-31T12:05:04.114Z"
   },
   {
    "duration": 206,
    "start_time": "2023-03-31T12:05:06.280Z"
   },
   {
    "duration": 42,
    "start_time": "2023-03-31T12:05:08.857Z"
   },
   {
    "duration": 112,
    "start_time": "2023-03-31T12:05:27.793Z"
   },
   {
    "duration": 122,
    "start_time": "2023-03-31T12:05:31.910Z"
   },
   {
    "duration": 159,
    "start_time": "2023-03-31T12:05:38.621Z"
   },
   {
    "duration": 136,
    "start_time": "2023-03-31T12:05:45.927Z"
   },
   {
    "duration": 28,
    "start_time": "2023-03-31T12:05:59.574Z"
   },
   {
    "duration": 126,
    "start_time": "2023-03-31T12:06:36.362Z"
   },
   {
    "duration": 4,
    "start_time": "2023-03-31T12:06:49.688Z"
   },
   {
    "duration": 7,
    "start_time": "2023-03-31T12:06:51.063Z"
   },
   {
    "duration": 25,
    "start_time": "2023-03-31T12:06:51.487Z"
   },
   {
    "duration": 48,
    "start_time": "2023-03-31T12:07:00.763Z"
   },
   {
    "duration": 52,
    "start_time": "2023-03-31T12:07:25.408Z"
   },
   {
    "duration": 58,
    "start_time": "2023-03-31T12:07:30.351Z"
   },
   {
    "duration": 45,
    "start_time": "2023-03-31T12:07:38.957Z"
   },
   {
    "duration": 52,
    "start_time": "2023-03-31T12:07:43.163Z"
   },
   {
    "duration": 53,
    "start_time": "2023-03-31T12:08:17.773Z"
   },
   {
    "duration": 50,
    "start_time": "2023-03-31T12:08:29.396Z"
   },
   {
    "duration": 24,
    "start_time": "2023-03-31T12:09:04.696Z"
   },
   {
    "duration": 45,
    "start_time": "2023-03-31T12:09:11.781Z"
   },
   {
    "duration": 64,
    "start_time": "2023-03-31T12:10:27.304Z"
   },
   {
    "duration": 5,
    "start_time": "2023-03-31T12:10:31.575Z"
   },
   {
    "duration": 4,
    "start_time": "2023-03-31T12:10:46.504Z"
   },
   {
    "duration": 49,
    "start_time": "2023-03-31T12:10:47.959Z"
   },
   {
    "duration": 45,
    "start_time": "2023-03-31T12:17:32.996Z"
   },
   {
    "duration": 21,
    "start_time": "2023-03-31T12:17:51.503Z"
   },
   {
    "duration": 30,
    "start_time": "2023-03-31T12:18:05.009Z"
   },
   {
    "duration": 3,
    "start_time": "2023-03-31T12:18:16.864Z"
   },
   {
    "duration": 66,
    "start_time": "2023-03-31T12:18:17.365Z"
   },
   {
    "duration": 4,
    "start_time": "2023-03-31T12:18:46.111Z"
   },
   {
    "duration": 38,
    "start_time": "2023-03-31T12:18:48.681Z"
   },
   {
    "duration": 5,
    "start_time": "2023-03-31T12:27:54.723Z"
   },
   {
    "duration": 15,
    "start_time": "2023-03-31T12:28:07.301Z"
   },
   {
    "duration": 25,
    "start_time": "2023-03-31T12:29:02.263Z"
   },
   {
    "duration": 26,
    "start_time": "2023-03-31T12:29:05.807Z"
   },
   {
    "duration": 32,
    "start_time": "2023-03-31T12:29:08.660Z"
   },
   {
    "duration": 45,
    "start_time": "2023-03-31T12:29:09.073Z"
   },
   {
    "duration": 13,
    "start_time": "2023-03-31T12:39:07.998Z"
   },
   {
    "duration": 9,
    "start_time": "2023-03-31T12:39:26.682Z"
   },
   {
    "duration": 3040,
    "start_time": "2023-03-31T12:39:31.234Z"
   },
   {
    "duration": 219,
    "start_time": "2023-03-31T12:39:57.777Z"
   },
   {
    "duration": 7438,
    "start_time": "2023-03-31T12:40:04.831Z"
   },
   {
    "duration": 10,
    "start_time": "2023-03-31T12:56:45.969Z"
   },
   {
    "duration": 10,
    "start_time": "2023-03-31T12:57:02.072Z"
   },
   {
    "duration": 9,
    "start_time": "2023-03-31T12:57:37.703Z"
   },
   {
    "duration": 4,
    "start_time": "2023-03-31T12:57:38.986Z"
   },
   {
    "duration": 11,
    "start_time": "2023-03-31T12:58:11.665Z"
   },
   {
    "duration": 5,
    "start_time": "2023-03-31T12:58:17.360Z"
   },
   {
    "duration": 159345,
    "start_time": "2023-03-31T12:58:47.207Z"
   },
   {
    "duration": 15,
    "start_time": "2023-03-31T13:02:30.485Z"
   },
   {
    "duration": 80054,
    "start_time": "2023-03-31T13:02:35.860Z"
   },
   {
    "duration": 783,
    "start_time": "2023-03-31T13:03:57.081Z"
   },
   {
    "duration": 29891,
    "start_time": "2023-03-31T13:04:29.591Z"
   },
   {
    "duration": 176,
    "start_time": "2023-03-31T15:40:01.575Z"
   },
   {
    "duration": 50,
    "start_time": "2023-03-31T15:40:04.953Z"
   },
   {
    "duration": 1007,
    "start_time": "2023-03-31T15:40:22.902Z"
   },
   {
    "duration": 1488,
    "start_time": "2023-03-31T15:40:23.910Z"
   },
   {
    "duration": 25,
    "start_time": "2023-03-31T15:40:25.400Z"
   },
   {
    "duration": 58,
    "start_time": "2023-03-31T15:40:25.427Z"
   },
   {
    "duration": 94,
    "start_time": "2023-03-31T15:40:25.486Z"
   },
   {
    "duration": 5,
    "start_time": "2023-03-31T15:40:25.582Z"
   },
   {
    "duration": 29,
    "start_time": "2023-03-31T15:40:25.588Z"
   },
   {
    "duration": 944,
    "start_time": "2023-03-31T15:40:25.618Z"
   },
   {
    "duration": 22,
    "start_time": "2023-03-31T15:40:26.564Z"
   },
   {
    "duration": 68,
    "start_time": "2023-03-31T15:40:26.589Z"
   },
   {
    "duration": 62,
    "start_time": "2023-03-31T15:40:26.659Z"
   },
   {
    "duration": 4,
    "start_time": "2023-03-31T15:40:26.722Z"
   },
   {
    "duration": 36,
    "start_time": "2023-03-31T15:40:26.728Z"
   },
   {
    "duration": 356,
    "start_time": "2023-03-31T15:40:26.765Z"
   },
   {
    "duration": 30,
    "start_time": "2023-03-31T15:40:27.122Z"
   },
   {
    "duration": 39,
    "start_time": "2023-03-31T15:40:27.153Z"
   },
   {
    "duration": 80,
    "start_time": "2023-03-31T15:40:27.194Z"
   },
   {
    "duration": 6,
    "start_time": "2023-03-31T15:40:27.275Z"
   },
   {
    "duration": 19,
    "start_time": "2023-03-31T15:40:27.283Z"
   },
   {
    "duration": 398,
    "start_time": "2023-03-31T15:40:27.304Z"
   },
   {
    "duration": 27,
    "start_time": "2023-03-31T15:40:27.703Z"
   },
   {
    "duration": 42,
    "start_time": "2023-03-31T15:40:27.731Z"
   },
   {
    "duration": 41,
    "start_time": "2023-03-31T15:40:27.775Z"
   },
   {
    "duration": 333,
    "start_time": "2023-03-31T15:40:27.817Z"
   },
   {
    "duration": 103,
    "start_time": "2023-03-31T15:40:28.153Z"
   },
   {
    "duration": 198,
    "start_time": "2023-03-31T15:40:28.258Z"
   },
   {
    "duration": 89,
    "start_time": "2023-03-31T15:40:28.462Z"
   },
   {
    "duration": 23,
    "start_time": "2023-03-31T15:40:28.555Z"
   },
   {
    "duration": 17,
    "start_time": "2023-03-31T15:40:28.580Z"
   },
   {
    "duration": 11,
    "start_time": "2023-03-31T15:40:28.599Z"
   },
   {
    "duration": 39,
    "start_time": "2023-03-31T15:40:28.612Z"
   },
   {
    "duration": 40,
    "start_time": "2023-03-31T15:40:28.653Z"
   },
   {
    "duration": 168,
    "start_time": "2023-03-31T15:40:28.694Z"
   },
   {
    "duration": 0,
    "start_time": "2023-03-31T15:40:28.864Z"
   },
   {
    "duration": 20,
    "start_time": "2023-03-31T15:41:13.698Z"
   },
   {
    "duration": 17,
    "start_time": "2023-03-31T15:41:39.530Z"
   },
   {
    "duration": 41,
    "start_time": "2023-03-31T15:42:56.776Z"
   },
   {
    "duration": 4,
    "start_time": "2023-03-31T15:42:58.062Z"
   },
   {
    "duration": 12,
    "start_time": "2023-03-31T15:43:11.234Z"
   },
   {
    "duration": 16,
    "start_time": "2023-03-31T15:43:31.578Z"
   },
   {
    "duration": 14,
    "start_time": "2023-03-31T15:43:35.706Z"
   },
   {
    "duration": 15,
    "start_time": "2023-03-31T15:43:44.237Z"
   },
   {
    "duration": 5260,
    "start_time": "2023-03-31T15:43:59.090Z"
   },
   {
    "duration": 6774,
    "start_time": "2023-03-31T15:44:13.439Z"
   },
   {
    "duration": 8099,
    "start_time": "2023-03-31T15:44:34.263Z"
   },
   {
    "duration": 5346,
    "start_time": "2023-03-31T15:44:54.242Z"
   },
   {
    "duration": 5069,
    "start_time": "2023-03-31T15:45:30.846Z"
   },
   {
    "duration": 5493,
    "start_time": "2023-03-31T15:46:17.602Z"
   },
   {
    "duration": 5153,
    "start_time": "2023-03-31T15:46:44.862Z"
   },
   {
    "duration": 5220,
    "start_time": "2023-03-31T15:46:59.078Z"
   },
   {
    "duration": 2,
    "start_time": "2023-03-31T15:47:04.300Z"
   },
   {
    "duration": 5521,
    "start_time": "2023-03-31T15:47:27.778Z"
   },
   {
    "duration": 5098,
    "start_time": "2023-03-31T15:48:10.474Z"
   },
   {
    "duration": 5120,
    "start_time": "2023-03-31T15:48:20.970Z"
   },
   {
    "duration": 19,
    "start_time": "2023-03-31T15:53:36.630Z"
   },
   {
    "duration": 17,
    "start_time": "2023-03-31T15:54:02.278Z"
   },
   {
    "duration": 1555,
    "start_time": "2023-03-31T15:54:34.510Z"
   },
   {
    "duration": 19,
    "start_time": "2023-03-31T15:58:51.007Z"
   },
   {
    "duration": 1685,
    "start_time": "2023-03-31T15:59:13.951Z"
   },
   {
    "duration": 20,
    "start_time": "2023-03-31T16:00:25.605Z"
   },
   {
    "duration": 4569,
    "start_time": "2023-03-31T16:00:35.166Z"
   },
   {
    "duration": 3267,
    "start_time": "2023-03-31T16:00:58.901Z"
   },
   {
    "duration": 26,
    "start_time": "2023-03-31T16:01:25.365Z"
   },
   {
    "duration": 3240,
    "start_time": "2023-03-31T16:01:58.037Z"
   },
   {
    "duration": 2879,
    "start_time": "2023-03-31T16:02:35.313Z"
   },
   {
    "duration": 2854,
    "start_time": "2023-03-31T16:03:15.309Z"
   },
   {
    "duration": 1503,
    "start_time": "2023-03-31T16:03:20.269Z"
   },
   {
    "duration": 1927,
    "start_time": "2023-03-31T16:05:19.528Z"
   },
   {
    "duration": 1687,
    "start_time": "2023-03-31T16:05:38.378Z"
   },
   {
    "duration": 1358,
    "start_time": "2023-03-31T16:07:41.982Z"
   },
   {
    "duration": 1477,
    "start_time": "2023-03-31T16:07:43.343Z"
   },
   {
    "duration": 2702,
    "start_time": "2023-03-31T16:18:19.288Z"
   },
   {
    "duration": 3359,
    "start_time": "2023-03-31T16:19:45.424Z"
   },
   {
    "duration": 3,
    "start_time": "2023-03-31T16:22:10.919Z"
   },
   {
    "duration": 3,
    "start_time": "2023-03-31T16:22:15.019Z"
   },
   {
    "duration": 8,
    "start_time": "2023-03-31T16:23:05.157Z"
   },
   {
    "duration": 6,
    "start_time": "2023-03-31T16:23:07.553Z"
   },
   {
    "duration": 21,
    "start_time": "2023-03-31T16:23:08.239Z"
   },
   {
    "duration": 9,
    "start_time": "2023-03-31T16:23:23.999Z"
   },
   {
    "duration": 34,
    "start_time": "2023-03-31T16:23:26.156Z"
   },
   {
    "duration": 12,
    "start_time": "2023-03-31T16:26:33.960Z"
   },
   {
    "duration": 776,
    "start_time": "2023-03-31T16:26:39.227Z"
   },
   {
    "duration": 10,
    "start_time": "2023-03-31T16:28:16.967Z"
   },
   {
    "duration": 4,
    "start_time": "2023-03-31T16:28:29.295Z"
   },
   {
    "duration": 9,
    "start_time": "2023-03-31T16:28:40.647Z"
   },
   {
    "duration": 6,
    "start_time": "2023-03-31T16:28:47.655Z"
   },
   {
    "duration": 605,
    "start_time": "2023-03-31T16:29:00.747Z"
   },
   {
    "duration": 11,
    "start_time": "2023-03-31T16:29:48.038Z"
   },
   {
    "duration": 4,
    "start_time": "2023-03-31T16:30:10.287Z"
   },
   {
    "duration": 24,
    "start_time": "2023-03-31T16:30:13.927Z"
   },
   {
    "duration": 40,
    "start_time": "2023-03-31T16:30:14.590Z"
   },
   {
    "duration": 16,
    "start_time": "2023-03-31T16:30:17.307Z"
   },
   {
    "duration": 22,
    "start_time": "2023-03-31T16:30:44.627Z"
   },
   {
    "duration": 3,
    "start_time": "2023-03-31T16:34:31.618Z"
   },
   {
    "duration": 4,
    "start_time": "2023-03-31T16:35:09.538Z"
   },
   {
    "duration": 13,
    "start_time": "2023-03-31T16:35:10.378Z"
   },
   {
    "duration": 13,
    "start_time": "2023-03-31T16:35:37.254Z"
   },
   {
    "duration": 3,
    "start_time": "2023-03-31T16:35:41.287Z"
   },
   {
    "duration": 16,
    "start_time": "2023-03-31T16:35:41.667Z"
   },
   {
    "duration": 4,
    "start_time": "2023-03-31T16:35:55.272Z"
   },
   {
    "duration": 16,
    "start_time": "2023-03-31T16:35:55.714Z"
   },
   {
    "duration": 4,
    "start_time": "2023-03-31T16:36:01.030Z"
   },
   {
    "duration": 3507,
    "start_time": "2023-03-31T16:36:01.350Z"
   },
   {
    "duration": 2092,
    "start_time": "2023-03-31T16:36:13.775Z"
   },
   {
    "duration": 2097,
    "start_time": "2023-03-31T16:36:46.882Z"
   },
   {
    "duration": 2153,
    "start_time": "2023-03-31T16:37:11.138Z"
   },
   {
    "duration": 2676,
    "start_time": "2023-03-31T16:38:22.643Z"
   },
   {
    "duration": 2436,
    "start_time": "2023-03-31T16:38:36.191Z"
   },
   {
    "duration": 2351,
    "start_time": "2023-03-31T16:38:53.518Z"
   },
   {
    "duration": 2314,
    "start_time": "2023-03-31T16:38:56.491Z"
   },
   {
    "duration": 2721,
    "start_time": "2023-03-31T16:39:19.723Z"
   },
   {
    "duration": 4,
    "start_time": "2023-03-31T16:39:42.458Z"
   },
   {
    "duration": 2952,
    "start_time": "2023-03-31T16:39:42.818Z"
   },
   {
    "duration": 4,
    "start_time": "2023-03-31T16:42:13.491Z"
   },
   {
    "duration": 2596,
    "start_time": "2023-03-31T16:42:16.554Z"
   },
   {
    "duration": 2575,
    "start_time": "2023-03-31T16:42:29.442Z"
   },
   {
    "duration": 2242,
    "start_time": "2023-03-31T16:42:36.794Z"
   },
   {
    "duration": 5,
    "start_time": "2023-03-31T16:44:02.866Z"
   },
   {
    "duration": 14,
    "start_time": "2023-03-31T16:44:37.618Z"
   },
   {
    "duration": 11,
    "start_time": "2023-03-31T16:46:21.654Z"
   },
   {
    "duration": 4,
    "start_time": "2023-03-31T16:46:24.590Z"
   },
   {
    "duration": 6,
    "start_time": "2023-03-31T16:46:25.150Z"
   },
   {
    "duration": 7,
    "start_time": "2023-03-31T16:46:25.622Z"
   },
   {
    "duration": 20,
    "start_time": "2023-03-31T16:46:45.345Z"
   },
   {
    "duration": 20,
    "start_time": "2023-03-31T16:56:45.365Z"
   },
   {
    "duration": 1169,
    "start_time": "2023-03-31T17:02:16.331Z"
   },
   {
    "duration": 14,
    "start_time": "2023-03-31T17:02:35.073Z"
   },
   {
    "duration": 14,
    "start_time": "2023-03-31T17:02:44.231Z"
   },
   {
    "duration": 12,
    "start_time": "2023-03-31T17:02:55.408Z"
   },
   {
    "duration": 13,
    "start_time": "2023-03-31T17:03:13.236Z"
   },
   {
    "duration": 13,
    "start_time": "2023-03-31T17:03:16.491Z"
   },
   {
    "duration": 1044,
    "start_time": "2023-03-31T17:03:21.394Z"
   },
   {
    "duration": 354,
    "start_time": "2023-03-31T17:03:22.439Z"
   },
   {
    "duration": 26,
    "start_time": "2023-03-31T17:03:22.795Z"
   },
   {
    "duration": 54,
    "start_time": "2023-03-31T17:03:22.822Z"
   },
   {
    "duration": 112,
    "start_time": "2023-03-31T17:03:22.879Z"
   },
   {
    "duration": 5,
    "start_time": "2023-03-31T17:03:22.993Z"
   },
   {
    "duration": 14,
    "start_time": "2023-03-31T17:03:22.999Z"
   },
   {
    "duration": 627,
    "start_time": "2023-03-31T17:03:23.015Z"
   },
   {
    "duration": 21,
    "start_time": "2023-03-31T17:03:23.644Z"
   },
   {
    "duration": 56,
    "start_time": "2023-03-31T17:03:23.668Z"
   },
   {
    "duration": 103,
    "start_time": "2023-03-31T17:03:23.726Z"
   },
   {
    "duration": 19,
    "start_time": "2023-03-31T17:03:23.830Z"
   },
   {
    "duration": 15,
    "start_time": "2023-03-31T17:03:23.851Z"
   },
   {
    "duration": 400,
    "start_time": "2023-03-31T17:03:23.868Z"
   },
   {
    "duration": 19,
    "start_time": "2023-03-31T17:03:24.270Z"
   },
   {
    "duration": 65,
    "start_time": "2023-03-31T17:03:24.291Z"
   },
   {
    "duration": 68,
    "start_time": "2023-03-31T17:03:24.358Z"
   },
   {
    "duration": 6,
    "start_time": "2023-03-31T17:03:24.428Z"
   },
   {
    "duration": 14,
    "start_time": "2023-03-31T17:03:24.449Z"
   },
   {
    "duration": 519,
    "start_time": "2023-03-31T17:03:24.464Z"
   },
   {
    "duration": 24,
    "start_time": "2023-03-31T17:03:24.984Z"
   },
   {
    "duration": 44,
    "start_time": "2023-03-31T17:03:25.010Z"
   },
   {
    "duration": 34,
    "start_time": "2023-03-31T17:03:25.056Z"
   },
   {
    "duration": 156,
    "start_time": "2023-03-31T17:03:25.092Z"
   },
   {
    "duration": 18,
    "start_time": "2023-03-31T17:03:25.250Z"
   },
   {
    "duration": 186,
    "start_time": "2023-03-31T17:03:25.271Z"
   },
   {
    "duration": 191,
    "start_time": "2023-03-31T17:03:25.459Z"
   },
   {
    "duration": 41,
    "start_time": "2023-03-31T17:03:25.652Z"
   },
   {
    "duration": 25,
    "start_time": "2023-03-31T17:03:25.695Z"
   },
   {
    "duration": 6,
    "start_time": "2023-03-31T17:03:25.723Z"
   },
   {
    "duration": 40,
    "start_time": "2023-03-31T17:03:25.730Z"
   },
   {
    "duration": 37,
    "start_time": "2023-03-31T17:03:25.772Z"
   },
   {
    "duration": 125,
    "start_time": "2023-03-31T17:03:25.811Z"
   },
   {
    "duration": 10,
    "start_time": "2023-03-31T17:03:36.347Z"
   },
   {
    "duration": 1160,
    "start_time": "2023-03-31T17:03:39.278Z"
   },
   {
    "duration": 1242,
    "start_time": "2023-03-31T17:03:53.791Z"
   },
   {
    "duration": 1943,
    "start_time": "2023-03-31T17:04:12.919Z"
   },
   {
    "duration": 2476,
    "start_time": "2023-03-31T17:05:27.679Z"
   },
   {
    "duration": 2308,
    "start_time": "2023-03-31T17:05:59.040Z"
   },
   {
    "duration": 3174,
    "start_time": "2023-03-31T17:06:08.515Z"
   },
   {
    "duration": 1091,
    "start_time": "2023-03-31T17:06:13.711Z"
   },
   {
    "duration": 1187,
    "start_time": "2023-03-31T17:08:52.947Z"
   },
   {
    "duration": 1030,
    "start_time": "2023-03-31T17:09:05.563Z"
   },
   {
    "duration": 1006,
    "start_time": "2023-03-31T17:09:31.007Z"
   },
   {
    "duration": 1043,
    "start_time": "2023-03-31T17:10:37.895Z"
   },
   {
    "duration": 1025,
    "start_time": "2023-03-31T17:10:44.801Z"
   },
   {
    "duration": 1146,
    "start_time": "2023-03-31T17:10:48.967Z"
   },
   {
    "duration": 1003,
    "start_time": "2023-03-31T17:11:33.180Z"
   },
   {
    "duration": 1460,
    "start_time": "2023-03-31T17:11:59.028Z"
   },
   {
    "duration": 1116,
    "start_time": "2023-03-31T17:12:56.512Z"
   },
   {
    "duration": 1031,
    "start_time": "2023-03-31T17:13:00.439Z"
   },
   {
    "duration": 1017,
    "start_time": "2023-03-31T17:13:07.991Z"
   },
   {
    "duration": 3,
    "start_time": "2023-03-31T17:13:30.399Z"
   },
   {
    "duration": 1042,
    "start_time": "2023-03-31T17:14:58.087Z"
   },
   {
    "duration": 1082,
    "start_time": "2023-03-31T17:15:30.863Z"
   },
   {
    "duration": 1035,
    "start_time": "2023-03-31T17:15:39.747Z"
   },
   {
    "duration": 1025,
    "start_time": "2023-03-31T17:16:32.567Z"
   },
   {
    "duration": 1047,
    "start_time": "2023-03-31T17:16:47.307Z"
   },
   {
    "duration": 1024,
    "start_time": "2023-03-31T17:19:58.267Z"
   },
   {
    "duration": 1086,
    "start_time": "2023-03-31T17:20:05.230Z"
   },
   {
    "duration": 1092,
    "start_time": "2023-03-31T17:20:13.838Z"
   },
   {
    "duration": 1028,
    "start_time": "2023-03-31T17:22:12.299Z"
   },
   {
    "duration": 1032,
    "start_time": "2023-03-31T17:22:13.330Z"
   },
   {
    "duration": 1078,
    "start_time": "2023-03-31T17:22:14.364Z"
   },
   {
    "duration": 1021,
    "start_time": "2023-03-31T17:29:43.514Z"
   },
   {
    "duration": 330,
    "start_time": "2023-03-31T17:29:44.537Z"
   },
   {
    "duration": 24,
    "start_time": "2023-03-31T17:29:44.868Z"
   },
   {
    "duration": 41,
    "start_time": "2023-03-31T17:29:44.894Z"
   },
   {
    "duration": 98,
    "start_time": "2023-03-31T17:29:44.937Z"
   },
   {
    "duration": 12,
    "start_time": "2023-03-31T17:29:45.037Z"
   },
   {
    "duration": 21,
    "start_time": "2023-03-31T17:29:45.050Z"
   },
   {
    "duration": 530,
    "start_time": "2023-03-31T17:29:45.072Z"
   },
   {
    "duration": 17,
    "start_time": "2023-03-31T17:29:45.604Z"
   },
   {
    "duration": 49,
    "start_time": "2023-03-31T17:29:45.622Z"
   },
   {
    "duration": 59,
    "start_time": "2023-03-31T17:29:45.672Z"
   },
   {
    "duration": 16,
    "start_time": "2023-03-31T17:29:45.733Z"
   },
   {
    "duration": 30,
    "start_time": "2023-03-31T17:29:45.750Z"
   },
   {
    "duration": 334,
    "start_time": "2023-03-31T17:29:45.783Z"
   },
   {
    "duration": 17,
    "start_time": "2023-03-31T17:29:46.119Z"
   },
   {
    "duration": 48,
    "start_time": "2023-03-31T17:29:46.138Z"
   },
   {
    "duration": 70,
    "start_time": "2023-03-31T17:29:46.187Z"
   },
   {
    "duration": 4,
    "start_time": "2023-03-31T17:29:46.259Z"
   },
   {
    "duration": 18,
    "start_time": "2023-03-31T17:29:46.264Z"
   },
   {
    "duration": 386,
    "start_time": "2023-03-31T17:29:46.284Z"
   },
   {
    "duration": 23,
    "start_time": "2023-03-31T17:29:46.672Z"
   },
   {
    "duration": 27,
    "start_time": "2023-03-31T17:29:46.697Z"
   },
   {
    "duration": 41,
    "start_time": "2023-03-31T17:29:46.726Z"
   },
   {
    "duration": 82,
    "start_time": "2023-03-31T17:29:46.768Z"
   },
   {
    "duration": 108,
    "start_time": "2023-03-31T17:29:46.852Z"
   },
   {
    "duration": 194,
    "start_time": "2023-03-31T17:29:46.962Z"
   },
   {
    "duration": 96,
    "start_time": "2023-03-31T17:29:47.158Z"
   },
   {
    "duration": 22,
    "start_time": "2023-03-31T17:29:47.256Z"
   },
   {
    "duration": 22,
    "start_time": "2023-03-31T17:29:47.280Z"
   },
   {
    "duration": 6,
    "start_time": "2023-03-31T17:29:47.303Z"
   },
   {
    "duration": 49,
    "start_time": "2023-03-31T17:29:47.310Z"
   },
   {
    "duration": 33,
    "start_time": "2023-03-31T17:29:47.360Z"
   },
   {
    "duration": 1017,
    "start_time": "2023-03-31T17:29:47.394Z"
   },
   {
    "duration": 1056,
    "start_time": "2023-03-31T17:29:48.412Z"
   },
   {
    "duration": 1055,
    "start_time": "2023-03-31T17:29:49.470Z"
   },
   {
    "duration": 1111,
    "start_time": "2023-03-31T17:30:22.847Z"
   },
   {
    "duration": 311,
    "start_time": "2023-03-31T17:30:23.960Z"
   },
   {
    "duration": 22,
    "start_time": "2023-03-31T17:30:24.273Z"
   },
   {
    "duration": 57,
    "start_time": "2023-03-31T17:30:24.297Z"
   },
   {
    "duration": 93,
    "start_time": "2023-03-31T17:30:24.356Z"
   },
   {
    "duration": 5,
    "start_time": "2023-03-31T17:30:24.450Z"
   },
   {
    "duration": 19,
    "start_time": "2023-03-31T17:30:24.456Z"
   },
   {
    "duration": 584,
    "start_time": "2023-03-31T17:30:24.476Z"
   },
   {
    "duration": 25,
    "start_time": "2023-03-31T17:30:25.062Z"
   },
   {
    "duration": 47,
    "start_time": "2023-03-31T17:30:25.088Z"
   },
   {
    "duration": 70,
    "start_time": "2023-03-31T17:30:25.137Z"
   },
   {
    "duration": 5,
    "start_time": "2023-03-31T17:30:25.209Z"
   },
   {
    "duration": 31,
    "start_time": "2023-03-31T17:30:25.216Z"
   },
   {
    "duration": 335,
    "start_time": "2023-03-31T17:30:25.250Z"
   },
   {
    "duration": 17,
    "start_time": "2023-03-31T17:30:25.586Z"
   },
   {
    "duration": 48,
    "start_time": "2023-03-31T17:30:25.605Z"
   },
   {
    "duration": 57,
    "start_time": "2023-03-31T17:30:25.655Z"
   },
   {
    "duration": 5,
    "start_time": "2023-03-31T17:30:25.713Z"
   },
   {
    "duration": 17,
    "start_time": "2023-03-31T17:30:25.719Z"
   },
   {
    "duration": 376,
    "start_time": "2023-03-31T17:30:25.748Z"
   },
   {
    "duration": 27,
    "start_time": "2023-03-31T17:30:26.125Z"
   },
   {
    "duration": 24,
    "start_time": "2023-03-31T17:30:26.153Z"
   },
   {
    "duration": 24,
    "start_time": "2023-03-31T17:30:26.178Z"
   },
   {
    "duration": 56,
    "start_time": "2023-03-31T17:30:26.203Z"
   },
   {
    "duration": 101,
    "start_time": "2023-03-31T17:30:26.260Z"
   },
   {
    "duration": 286,
    "start_time": "2023-03-31T17:30:26.363Z"
   },
   {
    "duration": 5,
    "start_time": "2023-03-31T17:30:26.651Z"
   },
   {
    "duration": 12,
    "start_time": "2023-03-31T17:30:26.657Z"
   },
   {
    "duration": 10,
    "start_time": "2023-03-31T17:30:26.670Z"
   },
   {
    "duration": 3,
    "start_time": "2023-03-31T17:30:26.681Z"
   },
   {
    "duration": 83,
    "start_time": "2023-03-31T17:30:26.685Z"
   },
   {
    "duration": 1069,
    "start_time": "2023-03-31T17:30:26.770Z"
   },
   {
    "duration": 1012,
    "start_time": "2023-03-31T17:30:27.841Z"
   },
   {
    "duration": 1083,
    "start_time": "2023-03-31T17:30:28.855Z"
   },
   {
    "duration": 2853,
    "start_time": "2023-03-31T19:02:51.201Z"
   },
   {
    "duration": 331,
    "start_time": "2023-03-31T19:02:54.056Z"
   },
   {
    "duration": 26,
    "start_time": "2023-03-31T19:02:54.388Z"
   },
   {
    "duration": 55,
    "start_time": "2023-03-31T19:02:54.416Z"
   },
   {
    "duration": 156,
    "start_time": "2023-03-31T19:02:54.473Z"
   },
   {
    "duration": 9,
    "start_time": "2023-03-31T19:02:54.631Z"
   },
   {
    "duration": 36,
    "start_time": "2023-03-31T19:02:54.641Z"
   },
   {
    "duration": 565,
    "start_time": "2023-03-31T19:02:54.678Z"
   },
   {
    "duration": 19,
    "start_time": "2023-03-31T19:02:55.245Z"
   },
   {
    "duration": 46,
    "start_time": "2023-03-31T19:02:55.266Z"
   },
   {
    "duration": 86,
    "start_time": "2023-03-31T19:02:55.313Z"
   },
   {
    "duration": 5,
    "start_time": "2023-03-31T19:02:55.401Z"
   },
   {
    "duration": 16,
    "start_time": "2023-03-31T19:02:55.407Z"
   },
   {
    "duration": 390,
    "start_time": "2023-03-31T19:02:55.441Z"
   },
   {
    "duration": 31,
    "start_time": "2023-03-31T19:02:55.833Z"
   },
   {
    "duration": 54,
    "start_time": "2023-03-31T19:02:55.865Z"
   },
   {
    "duration": 82,
    "start_time": "2023-03-31T19:02:55.921Z"
   },
   {
    "duration": 5,
    "start_time": "2023-03-31T19:02:56.005Z"
   },
   {
    "duration": 34,
    "start_time": "2023-03-31T19:02:56.011Z"
   },
   {
    "duration": 459,
    "start_time": "2023-03-31T19:02:56.046Z"
   },
   {
    "duration": 43,
    "start_time": "2023-03-31T19:02:56.507Z"
   },
   {
    "duration": 44,
    "start_time": "2023-03-31T19:02:56.552Z"
   },
   {
    "duration": 50,
    "start_time": "2023-03-31T19:02:56.598Z"
   },
   {
    "duration": 55,
    "start_time": "2023-03-31T19:02:56.650Z"
   },
   {
    "duration": 105,
    "start_time": "2023-03-31T19:02:56.741Z"
   },
   {
    "duration": 108,
    "start_time": "2023-03-31T19:02:56.847Z"
   },
   {
    "duration": 83,
    "start_time": "2023-03-31T19:02:56.958Z"
   },
   {
    "duration": 8,
    "start_time": "2023-03-31T19:02:57.043Z"
   },
   {
    "duration": 93,
    "start_time": "2023-03-31T19:02:57.053Z"
   },
   {
    "duration": 4,
    "start_time": "2023-03-31T19:02:57.148Z"
   },
   {
    "duration": 55,
    "start_time": "2023-03-31T19:02:57.153Z"
   },
   {
    "duration": 1143,
    "start_time": "2023-03-31T19:02:57.210Z"
   },
   {
    "duration": 1139,
    "start_time": "2023-03-31T19:02:58.354Z"
   },
   {
    "duration": 1146,
    "start_time": "2023-03-31T19:02:59.495Z"
   },
   {
    "duration": 4,
    "start_time": "2023-03-31T19:03:02.606Z"
   },
   {
    "duration": 10,
    "start_time": "2023-03-31T19:03:15.053Z"
   },
   {
    "duration": 12,
    "start_time": "2023-03-31T19:03:23.014Z"
   },
   {
    "duration": 7,
    "start_time": "2023-03-31T19:04:44.527Z"
   },
   {
    "duration": 4,
    "start_time": "2023-03-31T19:04:49.560Z"
   },
   {
    "duration": 4,
    "start_time": "2023-03-31T19:04:52.743Z"
   },
   {
    "duration": 11,
    "start_time": "2023-03-31T19:22:17.343Z"
   },
   {
    "duration": 158,
    "start_time": "2023-03-31T19:25:00.686Z"
   },
   {
    "duration": 3,
    "start_time": "2023-03-31T19:25:13.481Z"
   },
   {
    "duration": 11,
    "start_time": "2023-03-31T19:25:22.776Z"
   },
   {
    "duration": 11,
    "start_time": "2023-03-31T19:25:25.600Z"
   },
   {
    "duration": 11,
    "start_time": "2023-03-31T19:25:45.002Z"
   },
   {
    "duration": 12,
    "start_time": "2023-03-31T19:25:46.562Z"
   },
   {
    "duration": 38,
    "start_time": "2023-03-31T19:25:52.078Z"
   },
   {
    "duration": 23,
    "start_time": "2023-03-31T19:25:58.531Z"
   },
   {
    "duration": 11,
    "start_time": "2023-03-31T19:26:13.630Z"
   },
   {
    "duration": 11,
    "start_time": "2023-03-31T19:26:16.082Z"
   },
   {
    "duration": 10,
    "start_time": "2023-03-31T19:29:13.819Z"
   },
   {
    "duration": 11,
    "start_time": "2023-03-31T19:29:15.343Z"
   },
   {
    "duration": 3,
    "start_time": "2023-03-31T19:29:26.311Z"
   },
   {
    "duration": 14,
    "start_time": "2023-03-31T19:29:26.934Z"
   },
   {
    "duration": 4,
    "start_time": "2023-03-31T19:29:35.557Z"
   },
   {
    "duration": 13,
    "start_time": "2023-03-31T19:29:36.057Z"
   },
   {
    "duration": 14,
    "start_time": "2023-03-31T19:30:04.759Z"
   },
   {
    "duration": 4,
    "start_time": "2023-03-31T19:30:07.655Z"
   },
   {
    "duration": 11,
    "start_time": "2023-03-31T19:30:08.079Z"
   },
   {
    "duration": 12,
    "start_time": "2023-03-31T19:30:20.922Z"
   },
   {
    "duration": 12,
    "start_time": "2023-03-31T19:30:23.526Z"
   },
   {
    "duration": 1105,
    "start_time": "2023-03-31T19:30:31.765Z"
   },
   {
    "duration": 1139,
    "start_time": "2023-03-31T19:30:34.962Z"
   },
   {
    "duration": 1216,
    "start_time": "2023-03-31T19:30:36.103Z"
   },
   {
    "duration": 1105,
    "start_time": "2023-03-31T19:30:39.933Z"
   },
   {
    "duration": 3,
    "start_time": "2023-03-31T19:31:15.507Z"
   },
   {
    "duration": 37,
    "start_time": "2023-03-31T19:31:17.858Z"
   },
   {
    "duration": 1136,
    "start_time": "2023-03-31T19:31:18.428Z"
   },
   {
    "duration": 1154,
    "start_time": "2023-03-31T19:31:19.566Z"
   },
   {
    "duration": 1134,
    "start_time": "2023-03-31T19:31:22.695Z"
   },
   {
    "duration": 1131,
    "start_time": "2023-03-31T19:31:23.831Z"
   },
   {
    "duration": 1121,
    "start_time": "2023-03-31T19:31:24.964Z"
   },
   {
    "duration": 1146,
    "start_time": "2023-04-01T02:49:22.522Z"
   },
   {
    "duration": 1862,
    "start_time": "2023-04-01T02:49:23.670Z"
   },
   {
    "duration": 38,
    "start_time": "2023-04-01T02:49:25.533Z"
   },
   {
    "duration": 46,
    "start_time": "2023-04-01T02:49:25.572Z"
   },
   {
    "duration": 133,
    "start_time": "2023-04-01T02:49:25.620Z"
   },
   {
    "duration": 7,
    "start_time": "2023-04-01T02:49:25.755Z"
   },
   {
    "duration": 24,
    "start_time": "2023-04-01T02:49:25.763Z"
   },
   {
    "duration": 822,
    "start_time": "2023-04-01T02:49:25.789Z"
   },
   {
    "duration": 45,
    "start_time": "2023-04-01T02:49:26.613Z"
   },
   {
    "duration": 50,
    "start_time": "2023-04-01T02:49:26.659Z"
   },
   {
    "duration": 98,
    "start_time": "2023-04-01T02:49:26.710Z"
   },
   {
    "duration": 5,
    "start_time": "2023-04-01T02:49:26.809Z"
   },
   {
    "duration": 40,
    "start_time": "2023-04-01T02:49:26.815Z"
   },
   {
    "duration": 386,
    "start_time": "2023-04-01T02:49:26.861Z"
   },
   {
    "duration": 33,
    "start_time": "2023-04-01T02:49:27.248Z"
   },
   {
    "duration": 78,
    "start_time": "2023-04-01T02:49:27.283Z"
   },
   {
    "duration": 102,
    "start_time": "2023-04-01T02:49:27.363Z"
   },
   {
    "duration": 6,
    "start_time": "2023-04-01T02:49:27.467Z"
   },
   {
    "duration": 22,
    "start_time": "2023-04-01T02:49:27.475Z"
   },
   {
    "duration": 521,
    "start_time": "2023-04-01T02:49:27.499Z"
   },
   {
    "duration": 47,
    "start_time": "2023-04-01T02:49:28.021Z"
   },
   {
    "duration": 45,
    "start_time": "2023-04-01T02:49:28.069Z"
   },
   {
    "duration": 47,
    "start_time": "2023-04-01T02:49:28.116Z"
   },
   {
    "duration": 184,
    "start_time": "2023-04-01T02:49:28.164Z"
   },
   {
    "duration": 182,
    "start_time": "2023-04-01T02:49:28.357Z"
   },
   {
    "duration": 106,
    "start_time": "2023-04-01T02:49:28.542Z"
   },
   {
    "duration": 6,
    "start_time": "2023-04-01T02:49:28.652Z"
   },
   {
    "duration": 103,
    "start_time": "2023-04-01T02:49:28.663Z"
   },
   {
    "duration": 12,
    "start_time": "2023-04-01T02:49:28.768Z"
   },
   {
    "duration": 3,
    "start_time": "2023-04-01T02:49:28.781Z"
   },
   {
    "duration": 56,
    "start_time": "2023-04-01T02:49:28.786Z"
   },
   {
    "duration": 1389,
    "start_time": "2023-04-01T02:49:28.850Z"
   },
   {
    "duration": 1356,
    "start_time": "2023-04-01T02:49:30.240Z"
   },
   {
    "duration": 1376,
    "start_time": "2023-04-01T02:49:31.598Z"
   },
   {
    "duration": 3,
    "start_time": "2023-04-01T02:50:00.508Z"
   },
   {
    "duration": 48,
    "start_time": "2023-04-01T02:50:01.514Z"
   },
   {
    "duration": 1424,
    "start_time": "2023-04-01T02:50:32.665Z"
   },
   {
    "duration": 1072,
    "start_time": "2023-04-01T02:50:37.951Z"
   },
   {
    "duration": 403,
    "start_time": "2023-04-01T02:50:39.025Z"
   },
   {
    "duration": 37,
    "start_time": "2023-04-01T02:50:39.430Z"
   },
   {
    "duration": 48,
    "start_time": "2023-04-01T02:50:39.468Z"
   },
   {
    "duration": 138,
    "start_time": "2023-04-01T02:50:39.518Z"
   },
   {
    "duration": 5,
    "start_time": "2023-04-01T02:50:39.663Z"
   },
   {
    "duration": 15,
    "start_time": "2023-04-01T02:50:39.669Z"
   },
   {
    "duration": 679,
    "start_time": "2023-04-01T02:50:39.685Z"
   },
   {
    "duration": 20,
    "start_time": "2023-04-01T02:50:40.366Z"
   },
   {
    "duration": 72,
    "start_time": "2023-04-01T02:50:40.387Z"
   },
   {
    "duration": 87,
    "start_time": "2023-04-01T02:50:40.461Z"
   },
   {
    "duration": 13,
    "start_time": "2023-04-01T02:50:40.549Z"
   },
   {
    "duration": 23,
    "start_time": "2023-04-01T02:50:40.564Z"
   },
   {
    "duration": 401,
    "start_time": "2023-04-01T02:50:40.590Z"
   },
   {
    "duration": 20,
    "start_time": "2023-04-01T02:50:40.993Z"
   },
   {
    "duration": 73,
    "start_time": "2023-04-01T02:50:41.015Z"
   },
   {
    "duration": 96,
    "start_time": "2023-04-01T02:50:41.090Z"
   },
   {
    "duration": 6,
    "start_time": "2023-04-01T02:50:41.188Z"
   },
   {
    "duration": 14,
    "start_time": "2023-04-01T02:50:41.196Z"
   },
   {
    "duration": 477,
    "start_time": "2023-04-01T02:50:41.212Z"
   },
   {
    "duration": 28,
    "start_time": "2023-04-01T02:50:41.690Z"
   },
   {
    "duration": 58,
    "start_time": "2023-04-01T02:50:41.719Z"
   },
   {
    "duration": 37,
    "start_time": "2023-04-01T02:50:41.779Z"
   },
   {
    "duration": 37,
    "start_time": "2023-04-01T02:50:41.818Z"
   },
   {
    "duration": 106,
    "start_time": "2023-04-01T02:50:41.856Z"
   },
   {
    "duration": 179,
    "start_time": "2023-04-01T02:50:41.968Z"
   },
   {
    "duration": 9,
    "start_time": "2023-04-01T02:50:42.150Z"
   },
   {
    "duration": 102,
    "start_time": "2023-04-01T02:50:42.161Z"
   },
   {
    "duration": 8,
    "start_time": "2023-04-01T02:50:42.265Z"
   },
   {
    "duration": 3,
    "start_time": "2023-04-01T02:50:42.275Z"
   },
   {
    "duration": 124,
    "start_time": "2023-04-01T02:50:42.279Z"
   },
   {
    "duration": 0,
    "start_time": "2023-04-01T02:50:42.404Z"
   },
   {
    "duration": 0,
    "start_time": "2023-04-01T02:50:42.405Z"
   },
   {
    "duration": 0,
    "start_time": "2023-04-01T02:50:42.406Z"
   },
   {
    "duration": 3,
    "start_time": "2023-04-01T02:50:52.588Z"
   },
   {
    "duration": 51,
    "start_time": "2023-04-01T02:50:53.607Z"
   },
   {
    "duration": 1501,
    "start_time": "2023-04-01T02:50:53.701Z"
   },
   {
    "duration": 1439,
    "start_time": "2023-04-01T02:50:55.204Z"
   },
   {
    "duration": 1440,
    "start_time": "2023-04-01T02:50:56.646Z"
   },
   {
    "duration": 1351,
    "start_time": "2023-04-01T02:55:55.750Z"
   },
   {
    "duration": 1031,
    "start_time": "2023-04-01T02:56:25.472Z"
   },
   {
    "duration": 384,
    "start_time": "2023-04-01T02:56:26.505Z"
   },
   {
    "duration": 25,
    "start_time": "2023-04-01T02:56:26.891Z"
   },
   {
    "duration": 57,
    "start_time": "2023-04-01T02:56:26.918Z"
   },
   {
    "duration": 122,
    "start_time": "2023-04-01T02:56:26.976Z"
   },
   {
    "duration": 6,
    "start_time": "2023-04-01T02:56:27.099Z"
   },
   {
    "duration": 16,
    "start_time": "2023-04-01T02:56:27.106Z"
   },
   {
    "duration": 630,
    "start_time": "2023-04-01T02:56:27.133Z"
   },
   {
    "duration": 20,
    "start_time": "2023-04-01T02:56:27.764Z"
   },
   {
    "duration": 77,
    "start_time": "2023-04-01T02:56:27.787Z"
   },
   {
    "duration": 88,
    "start_time": "2023-04-01T02:56:27.865Z"
   },
   {
    "duration": 6,
    "start_time": "2023-04-01T02:56:27.955Z"
   },
   {
    "duration": 47,
    "start_time": "2023-04-01T02:56:27.963Z"
   },
   {
    "duration": 381,
    "start_time": "2023-04-01T02:56:28.012Z"
   },
   {
    "duration": 18,
    "start_time": "2023-04-01T02:56:28.395Z"
   },
   {
    "duration": 61,
    "start_time": "2023-04-01T02:56:28.415Z"
   },
   {
    "duration": 102,
    "start_time": "2023-04-01T02:56:28.478Z"
   },
   {
    "duration": 6,
    "start_time": "2023-04-01T02:56:28.582Z"
   },
   {
    "duration": 17,
    "start_time": "2023-04-01T02:56:28.590Z"
   },
   {
    "duration": 470,
    "start_time": "2023-04-01T02:56:28.609Z"
   },
   {
    "duration": 38,
    "start_time": "2023-04-01T02:56:29.080Z"
   },
   {
    "duration": 42,
    "start_time": "2023-04-01T02:56:29.134Z"
   },
   {
    "duration": 41,
    "start_time": "2023-04-01T02:56:29.177Z"
   },
   {
    "duration": 108,
    "start_time": "2023-04-01T02:56:29.234Z"
   },
   {
    "duration": 108,
    "start_time": "2023-04-01T02:56:29.343Z"
   },
   {
    "duration": 280,
    "start_time": "2023-04-01T02:56:29.455Z"
   },
   {
    "duration": 3,
    "start_time": "2023-04-01T02:56:29.736Z"
   },
   {
    "duration": 105,
    "start_time": "2023-04-01T02:56:29.748Z"
   },
   {
    "duration": 10,
    "start_time": "2023-04-01T02:56:29.855Z"
   },
   {
    "duration": 8,
    "start_time": "2023-04-01T02:56:29.866Z"
   },
   {
    "duration": 43,
    "start_time": "2023-04-01T02:56:29.875Z"
   },
   {
    "duration": 1398,
    "start_time": "2023-04-01T02:56:29.920Z"
   },
   {
    "duration": 1347,
    "start_time": "2023-04-01T02:56:31.319Z"
   },
   {
    "duration": 1356,
    "start_time": "2023-04-01T02:56:32.668Z"
   },
   {
    "duration": 940,
    "start_time": "2023-04-01T09:51:55.200Z"
   },
   {
    "duration": 413,
    "start_time": "2023-04-01T09:51:56.142Z"
   },
   {
    "duration": 42,
    "start_time": "2023-04-01T09:51:56.556Z"
   },
   {
    "duration": 65,
    "start_time": "2023-04-01T09:51:56.600Z"
   },
   {
    "duration": 166,
    "start_time": "2023-04-01T09:51:56.682Z"
   },
   {
    "duration": 7,
    "start_time": "2023-04-01T09:51:56.850Z"
   },
   {
    "duration": 43,
    "start_time": "2023-04-01T09:51:56.858Z"
   },
   {
    "duration": 644,
    "start_time": "2023-04-01T09:51:56.902Z"
   },
   {
    "duration": 20,
    "start_time": "2023-04-01T09:51:57.548Z"
   },
   {
    "duration": 72,
    "start_time": "2023-04-01T09:51:57.569Z"
   },
   {
    "duration": 108,
    "start_time": "2023-04-01T09:51:57.643Z"
   },
   {
    "duration": 6,
    "start_time": "2023-04-01T09:51:57.753Z"
   },
   {
    "duration": 39,
    "start_time": "2023-04-01T09:51:57.761Z"
   },
   {
    "duration": 471,
    "start_time": "2023-04-01T09:51:57.805Z"
   },
   {
    "duration": 29,
    "start_time": "2023-04-01T09:51:58.278Z"
   },
   {
    "duration": 90,
    "start_time": "2023-04-01T09:51:58.309Z"
   },
   {
    "duration": 98,
    "start_time": "2023-04-01T09:51:58.402Z"
   },
   {
    "duration": 6,
    "start_time": "2023-04-01T09:51:58.502Z"
   },
   {
    "duration": 23,
    "start_time": "2023-04-01T09:51:58.509Z"
   },
   {
    "duration": 437,
    "start_time": "2023-04-01T09:51:58.533Z"
   },
   {
    "duration": 49,
    "start_time": "2023-04-01T09:51:58.972Z"
   },
   {
    "duration": 41,
    "start_time": "2023-04-01T09:51:59.022Z"
   },
   {
    "duration": 65,
    "start_time": "2023-04-01T09:51:59.065Z"
   },
   {
    "duration": 64,
    "start_time": "2023-04-01T09:51:59.132Z"
   },
   {
    "duration": 290,
    "start_time": "2023-04-01T09:51:59.198Z"
   },
   {
    "duration": 94,
    "start_time": "2023-04-01T09:51:59.490Z"
   },
   {
    "duration": 116,
    "start_time": "2023-04-01T09:51:59.591Z"
   },
   {
    "duration": 7,
    "start_time": "2023-04-01T09:51:59.708Z"
   },
   {
    "duration": 11,
    "start_time": "2023-04-01T09:51:59.716Z"
   },
   {
    "duration": 3,
    "start_time": "2023-04-01T09:51:59.729Z"
   },
   {
    "duration": 83,
    "start_time": "2023-04-01T09:51:59.735Z"
   },
   {
    "duration": 1590,
    "start_time": "2023-04-01T09:51:59.821Z"
   },
   {
    "duration": 1461,
    "start_time": "2023-04-01T09:52:01.413Z"
   },
   {
    "duration": 1410,
    "start_time": "2023-04-01T09:52:02.891Z"
   },
   {
    "duration": 3,
    "start_time": "2023-04-01T09:52:04.304Z"
   },
   {
    "duration": 47,
    "start_time": "2023-04-01T09:52:05.559Z"
   },
   {
    "duration": 1470,
    "start_time": "2023-04-01T09:52:06.297Z"
   },
   {
    "duration": 3,
    "start_time": "2023-04-01T09:52:12.528Z"
   },
   {
    "duration": 45,
    "start_time": "2023-04-01T09:52:13.324Z"
   },
   {
    "duration": 1506,
    "start_time": "2023-04-01T09:52:14.245Z"
   },
   {
    "duration": 3,
    "start_time": "2023-04-01T09:52:33.925Z"
   },
   {
    "duration": 126,
    "start_time": "2023-04-01T09:52:34.960Z"
   },
   {
    "duration": 3,
    "start_time": "2023-04-01T09:52:45.561Z"
   },
   {
    "duration": 24,
    "start_time": "2023-04-01T09:52:46.435Z"
   },
   {
    "duration": 950,
    "start_time": "2023-04-01T09:52:47.482Z"
   },
   {
    "duration": 3,
    "start_time": "2023-04-01T09:53:15.889Z"
   },
   {
    "duration": 26,
    "start_time": "2023-04-01T09:53:16.635Z"
   },
   {
    "duration": 1155,
    "start_time": "2023-04-01T09:53:16.876Z"
   },
   {
    "duration": 1164,
    "start_time": "2023-04-01T09:53:18.034Z"
   },
   {
    "duration": 1147,
    "start_time": "2023-04-01T09:53:19.200Z"
   },
   {
    "duration": 52,
    "start_time": "2023-04-01T10:06:18.972Z"
   },
   {
    "duration": 1147,
    "start_time": "2023-04-01T10:06:22.436Z"
   },
   {
    "duration": 984,
    "start_time": "2023-04-01T10:06:23.585Z"
   },
   {
    "duration": 30,
    "start_time": "2023-04-01T10:06:24.570Z"
   },
   {
    "duration": 82,
    "start_time": "2023-04-01T10:06:24.602Z"
   },
   {
    "duration": 139,
    "start_time": "2023-04-01T10:06:24.685Z"
   },
   {
    "duration": 6,
    "start_time": "2023-04-01T10:06:24.826Z"
   },
   {
    "duration": 17,
    "start_time": "2023-04-01T10:06:24.833Z"
   },
   {
    "duration": 856,
    "start_time": "2023-04-01T10:06:24.875Z"
   },
   {
    "duration": 25,
    "start_time": "2023-04-01T10:06:25.733Z"
   },
   {
    "duration": 68,
    "start_time": "2023-04-01T10:06:25.777Z"
   },
   {
    "duration": 119,
    "start_time": "2023-04-01T10:06:25.847Z"
   },
   {
    "duration": 7,
    "start_time": "2023-04-01T10:06:25.974Z"
   },
   {
    "duration": 23,
    "start_time": "2023-04-01T10:06:25.982Z"
   },
   {
    "duration": 503,
    "start_time": "2023-04-01T10:06:26.007Z"
   },
   {
    "duration": 23,
    "start_time": "2023-04-01T10:06:26.512Z"
   },
   {
    "duration": 102,
    "start_time": "2023-04-01T10:06:26.537Z"
   },
   {
    "duration": 110,
    "start_time": "2023-04-01T10:06:26.640Z"
   },
   {
    "duration": 5,
    "start_time": "2023-04-01T10:06:26.752Z"
   },
   {
    "duration": 29,
    "start_time": "2023-04-01T10:06:26.759Z"
   },
   {
    "duration": 522,
    "start_time": "2023-04-01T10:06:26.790Z"
   },
   {
    "duration": 43,
    "start_time": "2023-04-01T10:06:27.314Z"
   },
   {
    "duration": 58,
    "start_time": "2023-04-01T10:06:27.358Z"
   },
   {
    "duration": 58,
    "start_time": "2023-04-01T10:06:27.418Z"
   },
   {
    "duration": 206,
    "start_time": "2023-04-01T10:06:27.478Z"
   },
   {
    "duration": 188,
    "start_time": "2023-04-01T10:06:27.687Z"
   },
   {
    "duration": 108,
    "start_time": "2023-04-01T10:06:27.877Z"
   },
   {
    "duration": 93,
    "start_time": "2023-04-01T10:06:27.987Z"
   },
   {
    "duration": 92,
    "start_time": "2023-04-01T10:06:28.085Z"
   },
   {
    "duration": 9,
    "start_time": "2023-04-01T10:06:28.179Z"
   },
   {
    "duration": 4,
    "start_time": "2023-04-01T10:06:28.189Z"
   },
   {
    "duration": 48,
    "start_time": "2023-04-01T10:06:28.194Z"
   },
   {
    "duration": 2094,
    "start_time": "2023-04-01T10:06:28.243Z"
   },
   {
    "duration": 1498,
    "start_time": "2023-04-01T10:06:30.338Z"
   },
   {
    "duration": 1468,
    "start_time": "2023-04-01T10:06:31.838Z"
   },
   {
    "duration": 3,
    "start_time": "2023-04-01T10:08:44.850Z"
   },
   {
    "duration": 91,
    "start_time": "2023-04-01T10:08:46.716Z"
   },
   {
    "duration": 2060,
    "start_time": "2023-04-01T10:08:48.016Z"
   },
   {
    "duration": 1627,
    "start_time": "2023-04-01T10:08:50.078Z"
   },
   {
    "duration": 1631,
    "start_time": "2023-04-01T10:08:51.707Z"
   },
   {
    "duration": 1106,
    "start_time": "2023-04-01T10:09:12.656Z"
   },
   {
    "duration": 361,
    "start_time": "2023-04-01T10:09:13.764Z"
   },
   {
    "duration": 35,
    "start_time": "2023-04-01T10:09:14.127Z"
   },
   {
    "duration": 80,
    "start_time": "2023-04-01T10:09:14.176Z"
   },
   {
    "duration": 185,
    "start_time": "2023-04-01T10:09:14.258Z"
   },
   {
    "duration": 7,
    "start_time": "2023-04-01T10:09:14.444Z"
   },
   {
    "duration": 29,
    "start_time": "2023-04-01T10:09:14.453Z"
   },
   {
    "duration": 655,
    "start_time": "2023-04-01T10:09:14.484Z"
   },
   {
    "duration": 21,
    "start_time": "2023-04-01T10:09:15.140Z"
   },
   {
    "duration": 65,
    "start_time": "2023-04-01T10:09:15.162Z"
   },
   {
    "duration": 118,
    "start_time": "2023-04-01T10:09:15.228Z"
   },
   {
    "duration": 6,
    "start_time": "2023-04-01T10:09:15.348Z"
   },
   {
    "duration": 28,
    "start_time": "2023-04-01T10:09:15.356Z"
   },
   {
    "duration": 451,
    "start_time": "2023-04-01T10:09:15.387Z"
   },
   {
    "duration": 22,
    "start_time": "2023-04-01T10:09:15.840Z"
   },
   {
    "duration": 53,
    "start_time": "2023-04-01T10:09:15.875Z"
   },
   {
    "duration": 104,
    "start_time": "2023-04-01T10:09:15.930Z"
   },
   {
    "duration": 6,
    "start_time": "2023-04-01T10:09:16.036Z"
   },
   {
    "duration": 32,
    "start_time": "2023-04-01T10:09:16.044Z"
   },
   {
    "duration": 523,
    "start_time": "2023-04-01T10:09:16.077Z"
   },
   {
    "duration": 39,
    "start_time": "2023-04-01T10:09:16.602Z"
   },
   {
    "duration": 72,
    "start_time": "2023-04-01T10:09:16.643Z"
   },
   {
    "duration": 59,
    "start_time": "2023-04-01T10:09:16.717Z"
   },
   {
    "duration": 102,
    "start_time": "2023-04-01T10:09:16.777Z"
   },
   {
    "duration": 293,
    "start_time": "2023-04-01T10:09:16.881Z"
   },
   {
    "duration": 199,
    "start_time": "2023-04-01T10:09:17.176Z"
   },
   {
    "duration": 4,
    "start_time": "2023-04-01T10:09:17.377Z"
   },
   {
    "duration": 5,
    "start_time": "2023-04-01T10:09:17.382Z"
   },
   {
    "duration": 8,
    "start_time": "2023-04-01T10:09:17.389Z"
   },
   {
    "duration": 3,
    "start_time": "2023-04-01T10:09:17.399Z"
   },
   {
    "duration": 122,
    "start_time": "2023-04-01T10:09:17.403Z"
   },
   {
    "duration": 2269,
    "start_time": "2023-04-01T10:09:17.527Z"
   },
   {
    "duration": 1628,
    "start_time": "2023-04-01T10:09:19.798Z"
   },
   {
    "duration": 1667,
    "start_time": "2023-04-01T10:09:23.023Z"
   },
   {
    "duration": 1614,
    "start_time": "2023-04-01T10:09:24.691Z"
   },
   {
    "duration": 1629,
    "start_time": "2023-04-01T10:09:26.307Z"
   },
   {
    "duration": 1135,
    "start_time": "2023-04-01T10:10:13.286Z"
   },
   {
    "duration": 365,
    "start_time": "2023-04-01T10:10:14.424Z"
   },
   {
    "duration": 28,
    "start_time": "2023-04-01T10:10:14.791Z"
   },
   {
    "duration": 73,
    "start_time": "2023-04-01T10:10:14.821Z"
   },
   {
    "duration": 132,
    "start_time": "2023-04-01T10:10:14.896Z"
   },
   {
    "duration": 6,
    "start_time": "2023-04-01T10:10:15.029Z"
   },
   {
    "duration": 34,
    "start_time": "2023-04-01T10:10:15.037Z"
   },
   {
    "duration": 664,
    "start_time": "2023-04-01T10:10:15.073Z"
   },
   {
    "duration": 22,
    "start_time": "2023-04-01T10:10:15.739Z"
   },
   {
    "duration": 60,
    "start_time": "2023-04-01T10:10:15.774Z"
   },
   {
    "duration": 100,
    "start_time": "2023-04-01T10:10:15.836Z"
   },
   {
    "duration": 6,
    "start_time": "2023-04-01T10:10:15.937Z"
   },
   {
    "duration": 37,
    "start_time": "2023-04-01T10:10:15.944Z"
   },
   {
    "duration": 496,
    "start_time": "2023-04-01T10:10:15.984Z"
   },
   {
    "duration": 22,
    "start_time": "2023-04-01T10:10:16.481Z"
   },
   {
    "duration": 79,
    "start_time": "2023-04-01T10:10:16.505Z"
   },
   {
    "duration": 95,
    "start_time": "2023-04-01T10:10:16.586Z"
   },
   {
    "duration": 5,
    "start_time": "2023-04-01T10:10:16.683Z"
   },
   {
    "duration": 17,
    "start_time": "2023-04-01T10:10:16.690Z"
   },
   {
    "duration": 529,
    "start_time": "2023-04-01T10:10:16.708Z"
   },
   {
    "duration": 50,
    "start_time": "2023-04-01T10:10:17.239Z"
   },
   {
    "duration": 46,
    "start_time": "2023-04-01T10:10:17.291Z"
   },
   {
    "duration": 59,
    "start_time": "2023-04-01T10:10:17.338Z"
   },
   {
    "duration": 81,
    "start_time": "2023-04-01T10:10:17.398Z"
   },
   {
    "duration": 104,
    "start_time": "2023-04-01T10:10:17.480Z"
   },
   {
    "duration": 110,
    "start_time": "2023-04-01T10:10:17.677Z"
   },
   {
    "duration": 5,
    "start_time": "2023-04-01T10:10:17.879Z"
   },
   {
    "duration": 9,
    "start_time": "2023-04-01T10:10:17.976Z"
   },
   {
    "duration": 7,
    "start_time": "2023-04-01T10:10:17.986Z"
   },
   {
    "duration": 3,
    "start_time": "2023-04-01T10:10:17.995Z"
   },
   {
    "duration": 124,
    "start_time": "2023-04-01T10:10:17.999Z"
   },
   {
    "duration": 1701,
    "start_time": "2023-04-01T10:10:18.125Z"
   },
   {
    "duration": 1699,
    "start_time": "2023-04-01T10:10:19.828Z"
   },
   {
    "duration": 1656,
    "start_time": "2023-04-01T10:10:21.529Z"
   },
   {
    "duration": 3,
    "start_time": "2023-04-01T10:12:07.417Z"
   },
   {
    "duration": 51,
    "start_time": "2023-04-01T10:12:08.351Z"
   },
   {
    "duration": 1477,
    "start_time": "2023-04-01T10:12:08.847Z"
   },
   {
    "duration": 1487,
    "start_time": "2023-04-01T10:12:10.326Z"
   },
   {
    "duration": 1429,
    "start_time": "2023-04-01T10:12:11.814Z"
   },
   {
    "duration": 4,
    "start_time": "2023-04-01T10:12:33.051Z"
   },
   {
    "duration": 46,
    "start_time": "2023-04-01T10:12:34.414Z"
   },
   {
    "duration": 2083,
    "start_time": "2023-04-01T10:12:34.869Z"
   },
   {
    "duration": 2125,
    "start_time": "2023-04-01T10:12:36.954Z"
   },
   {
    "duration": 2078,
    "start_time": "2023-04-01T10:12:39.080Z"
   },
   {
    "duration": 4,
    "start_time": "2023-04-01T10:13:05.751Z"
   },
   {
    "duration": 87,
    "start_time": "2023-04-01T10:13:06.790Z"
   },
   {
    "duration": 2134,
    "start_time": "2023-04-01T10:13:06.898Z"
   },
   {
    "duration": 2124,
    "start_time": "2023-04-01T10:13:09.034Z"
   },
   {
    "duration": 2113,
    "start_time": "2023-04-01T10:13:11.175Z"
   },
   {
    "duration": 4,
    "start_time": "2023-04-01T10:13:15.841Z"
   },
   {
    "duration": 1026,
    "start_time": "2023-04-01T10:13:19.929Z"
   },
   {
    "duration": 358,
    "start_time": "2023-04-01T10:13:20.956Z"
   },
   {
    "duration": 26,
    "start_time": "2023-04-01T10:13:21.316Z"
   },
   {
    "duration": 67,
    "start_time": "2023-04-01T10:13:21.344Z"
   },
   {
    "duration": 132,
    "start_time": "2023-04-01T10:13:21.413Z"
   },
   {
    "duration": 6,
    "start_time": "2023-04-01T10:13:21.547Z"
   },
   {
    "duration": 31,
    "start_time": "2023-04-01T10:13:21.555Z"
   },
   {
    "duration": 637,
    "start_time": "2023-04-01T10:13:21.588Z"
   },
   {
    "duration": 21,
    "start_time": "2023-04-01T10:13:22.227Z"
   },
   {
    "duration": 68,
    "start_time": "2023-04-01T10:13:22.249Z"
   },
   {
    "duration": 103,
    "start_time": "2023-04-01T10:13:22.318Z"
   },
   {
    "duration": 6,
    "start_time": "2023-04-01T10:13:22.422Z"
   },
   {
    "duration": 15,
    "start_time": "2023-04-01T10:13:22.430Z"
   },
   {
    "duration": 451,
    "start_time": "2023-04-01T10:13:22.448Z"
   },
   {
    "duration": 21,
    "start_time": "2023-04-01T10:13:22.900Z"
   },
   {
    "duration": 72,
    "start_time": "2023-04-01T10:13:22.923Z"
   },
   {
    "duration": 96,
    "start_time": "2023-04-01T10:13:22.997Z"
   },
   {
    "duration": 7,
    "start_time": "2023-04-01T10:13:23.095Z"
   },
   {
    "duration": 16,
    "start_time": "2023-04-01T10:13:23.104Z"
   },
   {
    "duration": 519,
    "start_time": "2023-04-01T10:13:23.122Z"
   },
   {
    "duration": 45,
    "start_time": "2023-04-01T10:13:23.643Z"
   },
   {
    "duration": 39,
    "start_time": "2023-04-01T10:13:23.690Z"
   },
   {
    "duration": 61,
    "start_time": "2023-04-01T10:13:23.731Z"
   },
   {
    "duration": 86,
    "start_time": "2023-04-01T10:13:23.794Z"
   },
   {
    "duration": 108,
    "start_time": "2023-04-01T10:13:23.882Z"
   },
   {
    "duration": 284,
    "start_time": "2023-04-01T10:13:23.992Z"
   },
   {
    "duration": 4,
    "start_time": "2023-04-01T10:13:24.278Z"
   },
   {
    "duration": 92,
    "start_time": "2023-04-01T10:13:24.284Z"
   },
   {
    "duration": 23,
    "start_time": "2023-04-01T10:13:24.378Z"
   },
   {
    "duration": 5,
    "start_time": "2023-04-01T10:13:24.402Z"
   },
   {
    "duration": 99,
    "start_time": "2023-04-01T10:13:24.408Z"
   },
   {
    "duration": 1656,
    "start_time": "2023-04-01T10:13:24.509Z"
   },
   {
    "duration": 1625,
    "start_time": "2023-04-01T10:13:26.167Z"
   },
   {
    "duration": 1597,
    "start_time": "2023-04-01T10:13:27.793Z"
   }
  ],
  "kernelspec": {
   "display_name": "Python 3 (ipykernel)",
   "language": "python",
   "name": "python3"
  },
  "language_info": {
   "codemirror_mode": {
    "name": "ipython",
    "version": 3
   },
   "file_extension": ".py",
   "mimetype": "text/x-python",
   "name": "python",
   "nbconvert_exporter": "python",
   "pygments_lexer": "ipython3",
   "version": "3.10.2"
  },
  "toc": {
   "base_numbering": 1,
   "nav_menu": {},
   "number_sections": true,
   "sideBar": true,
   "skip_h1_title": true,
   "title_cell": "Table of Contents",
   "title_sidebar": "Contents",
   "toc_cell": false,
   "toc_position": {},
   "toc_section_display": true,
   "toc_window_display": false
  }
 },
 "nbformat": 4,
 "nbformat_minor": 2
}
