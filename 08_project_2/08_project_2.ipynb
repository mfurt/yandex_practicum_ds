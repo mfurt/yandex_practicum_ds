{
 "cells": [
  {
   "cell_type": "markdown",
   "metadata": {},
   "source": [
    "# Восстановление золота из руды"
   ]
  },
  {
   "cell_type": "markdown",
   "metadata": {},
   "source": [
    "Подготовьте прототип модели машинного обучения для «Цифры». Компания разрабатывает решения для эффективной работы промышленных предприятий.\n",
    "\n",
    "Модель должна предсказать коэффициент восстановления золота из золотосодержащей руды. Используйте данные с параметрами добычи и очистки. \n",
    "\n",
    "Модель поможет оптимизировать производство, чтобы не запускать предприятие с убыточными характеристиками.\n",
    "\n"
   ]
  },
  {
   "cell_type": "markdown",
   "metadata": {},
   "source": [
    "**Технологический процесс:\n",
    "<br>Rougher feed — исходное сырье\n",
    "<br>Rougher additions (или reagent additions) — флотационные реагенты: Xanthate, Sulphate, Depressant\n",
    "<br>Xanthate **— ксантогенат (промотер, или активатор флотации);\n",
    "<br>Sulphate — сульфат (на данном производстве сульфид натрия);\n",
    "<br>Depressant — депрессант (силикат натрия).\n",
    "<br>Rougher process (англ. «грубый процесс») — флотация\n",
    "<br>Rougher tails — отвальные хвосты\n",
    "<br>Float banks — флотационная установка\n",
    "<br>Cleaner process — очистка\n",
    "<br>Rougher Au — черновой концентрат золота\n",
    "<br>Final Au — финальный концентрат золота\n",
    "<br><br>Параметры этапов:\n",
    "<br>air amount — объём воздуха\n",
    "<br>fluid levels — уровень жидкости\n",
    "<br>feed size — размер гранул сырья\n",
    "<br>feed rate — скорость подачи**"
   ]
  },
  {
   "cell_type": "markdown",
   "metadata": {},
   "source": [
    "**Наименование признаков:\n",
    "<br>Наименование признаков должно быть такое:\n",
    "<br>[этап].[тип_параметра].[название_параметра]\n",
    "<br>Пример: rougher.input.feed_ag\n",
    "<br>Возможные значения для блока [этап]:\n",
    "<br>rougher — флотация\n",
    "<br>primary_cleaner — первичная очистка\n",
    "<br>secondary_cleaner — вторичная очистка\n",
    "<br>final — финальные характеристики\n",
    "<br><br>Возможные значения для блока [тип_параметра]:\n",
    "<br>input — параметры сырья\n",
    "<br>output — параметры продукта\n",
    "<br>state — параметры, характеризующие текущее состояние этапа\n",
    "<br>calculation — расчётные характеристики**"
   ]
  },
  {
   "cell_type": "code",
   "execution_count": 1,
   "metadata": {},
   "outputs": [],
   "source": [
    "# подключаем библиотеки\n",
    "import pandas as pd\n",
    "import numpy as np\n",
    "import matplotlib.pyplot as plt\n",
    "from sklearn.metrics import mean_absolute_error\n",
    "from sklearn.dummy import DummyRegressor\n",
    "from sklearn.ensemble import RandomForestRegressor\n",
    "from sklearn.model_selection import RandomizedSearchCV\n",
    "from sklearn.tree import DecisionTreeRegressor\n",
    "from sklearn.metrics import make_scorer"
   ]
  },
  {
   "cell_type": "markdown",
   "metadata": {},
   "source": [
    "## Подготовка данных"
   ]
  },
  {
   "cell_type": "code",
   "execution_count": 2,
   "metadata": {},
   "outputs": [],
   "source": [
    "# считваем файлы\n",
    "try:\n",
    "    full = pd.read_csv('/datasets/gold_recovery_full_new.csv')\n",
    "    train = pd.read_csv('/datasets/gold_recovery_train_new.csv')\n",
    "    test = pd.read_csv('/datasets/gold_recovery_test_new.csv')\n",
    "except:\n",
    "    full = pd.read_csv('gold_recovery_full_new.csv')\n",
    "    train = pd.read_csv('gold_recovery_train_new.csv')\n",
    "    test = pd.read_csv('gold_recovery_test_new.csv')"
   ]
  },
  {
   "cell_type": "code",
   "execution_count": 3,
   "metadata": {
    "scrolled": true
   },
   "outputs": [
    {
     "name": "stdout",
     "output_type": "stream",
     "text": [
      "<class 'pandas.core.frame.DataFrame'>\n",
      "RangeIndex: 19439 entries, 0 to 19438\n",
      "Data columns (total 87 columns):\n",
      " #   Column                                              Non-Null Count  Dtype  \n",
      "---  ------                                              --------------  -----  \n",
      " 0   date                                                19439 non-null  object \n",
      " 1   final.output.concentrate_ag                         19438 non-null  float64\n",
      " 2   final.output.concentrate_pb                         19438 non-null  float64\n",
      " 3   final.output.concentrate_sol                        19228 non-null  float64\n",
      " 4   final.output.concentrate_au                         19439 non-null  float64\n",
      " 5   final.output.recovery                               19439 non-null  float64\n",
      " 6   final.output.tail_ag                                19438 non-null  float64\n",
      " 7   final.output.tail_pb                                19338 non-null  float64\n",
      " 8   final.output.tail_sol                               19433 non-null  float64\n",
      " 9   final.output.tail_au                                19439 non-null  float64\n",
      " 10  primary_cleaner.input.sulfate                       19415 non-null  float64\n",
      " 11  primary_cleaner.input.depressant                    19402 non-null  float64\n",
      " 12  primary_cleaner.input.feed_size                     19439 non-null  float64\n",
      " 13  primary_cleaner.input.xanthate                      19335 non-null  float64\n",
      " 14  primary_cleaner.output.concentrate_ag               19439 non-null  float64\n",
      " 15  primary_cleaner.output.concentrate_pb               19323 non-null  float64\n",
      " 16  primary_cleaner.output.concentrate_sol              19069 non-null  float64\n",
      " 17  primary_cleaner.output.concentrate_au               19439 non-null  float64\n",
      " 18  primary_cleaner.output.tail_ag                      19435 non-null  float64\n",
      " 19  primary_cleaner.output.tail_pb                      19418 non-null  float64\n",
      " 20  primary_cleaner.output.tail_sol                     19377 non-null  float64\n",
      " 21  primary_cleaner.output.tail_au                      19439 non-null  float64\n",
      " 22  primary_cleaner.state.floatbank8_a_air              19435 non-null  float64\n",
      " 23  primary_cleaner.state.floatbank8_a_level            19438 non-null  float64\n",
      " 24  primary_cleaner.state.floatbank8_b_air              19435 non-null  float64\n",
      " 25  primary_cleaner.state.floatbank8_b_level            19438 non-null  float64\n",
      " 26  primary_cleaner.state.floatbank8_c_air              19437 non-null  float64\n",
      " 27  primary_cleaner.state.floatbank8_c_level            19438 non-null  float64\n",
      " 28  primary_cleaner.state.floatbank8_d_air              19436 non-null  float64\n",
      " 29  primary_cleaner.state.floatbank8_d_level            19438 non-null  float64\n",
      " 30  rougher.calculation.sulfate_to_au_concentrate       19437 non-null  float64\n",
      " 31  rougher.calculation.floatbank10_sulfate_to_au_feed  19437 non-null  float64\n",
      " 32  rougher.calculation.floatbank11_sulfate_to_au_feed  19437 non-null  float64\n",
      " 33  rougher.calculation.au_pb_ratio                     19439 non-null  float64\n",
      " 34  rougher.input.feed_ag                               19439 non-null  float64\n",
      " 35  rougher.input.feed_pb                               19339 non-null  float64\n",
      " 36  rougher.input.feed_rate                             19428 non-null  float64\n",
      " 37  rougher.input.feed_size                             19294 non-null  float64\n",
      " 38  rougher.input.feed_sol                              19340 non-null  float64\n",
      " 39  rougher.input.feed_au                               19439 non-null  float64\n",
      " 40  rougher.input.floatbank10_sulfate                   19405 non-null  float64\n",
      " 41  rougher.input.floatbank10_xanthate                  19431 non-null  float64\n",
      " 42  rougher.input.floatbank11_sulfate                   19395 non-null  float64\n",
      " 43  rougher.input.floatbank11_xanthate                  18986 non-null  float64\n",
      " 44  rougher.output.concentrate_ag                       19439 non-null  float64\n",
      " 45  rougher.output.concentrate_pb                       19439 non-null  float64\n",
      " 46  rougher.output.concentrate_sol                      19416 non-null  float64\n",
      " 47  rougher.output.concentrate_au                       19439 non-null  float64\n",
      " 48  rougher.output.recovery                             19439 non-null  float64\n",
      " 49  rougher.output.tail_ag                              19438 non-null  float64\n",
      " 50  rougher.output.tail_pb                              19439 non-null  float64\n",
      " 51  rougher.output.tail_sol                             19439 non-null  float64\n",
      " 52  rougher.output.tail_au                              19439 non-null  float64\n",
      " 53  rougher.state.floatbank10_a_air                     19438 non-null  float64\n",
      " 54  rougher.state.floatbank10_a_level                   19438 non-null  float64\n",
      " 55  rougher.state.floatbank10_b_air                     19438 non-null  float64\n",
      " 56  rougher.state.floatbank10_b_level                   19438 non-null  float64\n",
      " 57  rougher.state.floatbank10_c_air                     19438 non-null  float64\n",
      " 58  rougher.state.floatbank10_c_level                   19438 non-null  float64\n",
      " 59  rougher.state.floatbank10_d_air                     19439 non-null  float64\n",
      " 60  rougher.state.floatbank10_d_level                   19439 non-null  float64\n",
      " 61  rougher.state.floatbank10_e_air                     19003 non-null  float64\n",
      " 62  rougher.state.floatbank10_e_level                   19439 non-null  float64\n",
      " 63  rougher.state.floatbank10_f_air                     19439 non-null  float64\n",
      " 64  rougher.state.floatbank10_f_level                   19439 non-null  float64\n",
      " 65  secondary_cleaner.output.tail_ag                    19437 non-null  float64\n",
      " 66  secondary_cleaner.output.tail_pb                    19427 non-null  float64\n",
      " 67  secondary_cleaner.output.tail_sol                   17691 non-null  float64\n",
      " 68  secondary_cleaner.output.tail_au                    19439 non-null  float64\n",
      " 69  secondary_cleaner.state.floatbank2_a_air            19219 non-null  float64\n",
      " 70  secondary_cleaner.state.floatbank2_a_level          19438 non-null  float64\n",
      " 71  secondary_cleaner.state.floatbank2_b_air            19416 non-null  float64\n",
      " 72  secondary_cleaner.state.floatbank2_b_level          19438 non-null  float64\n",
      " 73  secondary_cleaner.state.floatbank3_a_air            19426 non-null  float64\n",
      " 74  secondary_cleaner.state.floatbank3_a_level          19438 non-null  float64\n",
      " 75  secondary_cleaner.state.floatbank3_b_air            19438 non-null  float64\n",
      " 76  secondary_cleaner.state.floatbank3_b_level          19438 non-null  float64\n",
      " 77  secondary_cleaner.state.floatbank4_a_air            19433 non-null  float64\n",
      " 78  secondary_cleaner.state.floatbank4_a_level          19438 non-null  float64\n",
      " 79  secondary_cleaner.state.floatbank4_b_air            19438 non-null  float64\n",
      " 80  secondary_cleaner.state.floatbank4_b_level          19438 non-null  float64\n",
      " 81  secondary_cleaner.state.floatbank5_a_air            19438 non-null  float64\n",
      " 82  secondary_cleaner.state.floatbank5_a_level          19438 non-null  float64\n",
      " 83  secondary_cleaner.state.floatbank5_b_air            19438 non-null  float64\n",
      " 84  secondary_cleaner.state.floatbank5_b_level          19438 non-null  float64\n",
      " 85  secondary_cleaner.state.floatbank6_a_air            19437 non-null  float64\n",
      " 86  secondary_cleaner.state.floatbank6_a_level          19438 non-null  float64\n",
      "dtypes: float64(86), object(1)\n",
      "memory usage: 12.9+ MB\n"
     ]
    }
   ],
   "source": [
    "full.info()"
   ]
  },
  {
   "cell_type": "code",
   "execution_count": 4,
   "metadata": {
    "scrolled": true
   },
   "outputs": [
    {
     "name": "stdout",
     "output_type": "stream",
     "text": [
      "<class 'pandas.core.frame.DataFrame'>\n",
      "RangeIndex: 14149 entries, 0 to 14148\n",
      "Data columns (total 87 columns):\n",
      " #   Column                                              Non-Null Count  Dtype  \n",
      "---  ------                                              --------------  -----  \n",
      " 0   date                                                14149 non-null  object \n",
      " 1   final.output.concentrate_ag                         14148 non-null  float64\n",
      " 2   final.output.concentrate_pb                         14148 non-null  float64\n",
      " 3   final.output.concentrate_sol                        13938 non-null  float64\n",
      " 4   final.output.concentrate_au                         14149 non-null  float64\n",
      " 5   final.output.recovery                               14149 non-null  float64\n",
      " 6   final.output.tail_ag                                14149 non-null  float64\n",
      " 7   final.output.tail_pb                                14049 non-null  float64\n",
      " 8   final.output.tail_sol                               14144 non-null  float64\n",
      " 9   final.output.tail_au                                14149 non-null  float64\n",
      " 10  primary_cleaner.input.sulfate                       14129 non-null  float64\n",
      " 11  primary_cleaner.input.depressant                    14117 non-null  float64\n",
      " 12  primary_cleaner.input.feed_size                     14149 non-null  float64\n",
      " 13  primary_cleaner.input.xanthate                      14049 non-null  float64\n",
      " 14  primary_cleaner.output.concentrate_ag               14149 non-null  float64\n",
      " 15  primary_cleaner.output.concentrate_pb               14063 non-null  float64\n",
      " 16  primary_cleaner.output.concentrate_sol              13863 non-null  float64\n",
      " 17  primary_cleaner.output.concentrate_au               14149 non-null  float64\n",
      " 18  primary_cleaner.output.tail_ag                      14148 non-null  float64\n",
      " 19  primary_cleaner.output.tail_pb                      14134 non-null  float64\n",
      " 20  primary_cleaner.output.tail_sol                     14103 non-null  float64\n",
      " 21  primary_cleaner.output.tail_au                      14149 non-null  float64\n",
      " 22  primary_cleaner.state.floatbank8_a_air              14145 non-null  float64\n",
      " 23  primary_cleaner.state.floatbank8_a_level            14148 non-null  float64\n",
      " 24  primary_cleaner.state.floatbank8_b_air              14145 non-null  float64\n",
      " 25  primary_cleaner.state.floatbank8_b_level            14148 non-null  float64\n",
      " 26  primary_cleaner.state.floatbank8_c_air              14147 non-null  float64\n",
      " 27  primary_cleaner.state.floatbank8_c_level            14148 non-null  float64\n",
      " 28  primary_cleaner.state.floatbank8_d_air              14146 non-null  float64\n",
      " 29  primary_cleaner.state.floatbank8_d_level            14148 non-null  float64\n",
      " 30  rougher.calculation.sulfate_to_au_concentrate       14148 non-null  float64\n",
      " 31  rougher.calculation.floatbank10_sulfate_to_au_feed  14148 non-null  float64\n",
      " 32  rougher.calculation.floatbank11_sulfate_to_au_feed  14148 non-null  float64\n",
      " 33  rougher.calculation.au_pb_ratio                     14149 non-null  float64\n",
      " 34  rougher.input.feed_ag                               14149 non-null  float64\n",
      " 35  rougher.input.feed_pb                               14049 non-null  float64\n",
      " 36  rougher.input.feed_rate                             14141 non-null  float64\n",
      " 37  rougher.input.feed_size                             14005 non-null  float64\n",
      " 38  rougher.input.feed_sol                              14071 non-null  float64\n",
      " 39  rougher.input.feed_au                               14149 non-null  float64\n",
      " 40  rougher.input.floatbank10_sulfate                   14120 non-null  float64\n",
      " 41  rougher.input.floatbank10_xanthate                  14141 non-null  float64\n",
      " 42  rougher.input.floatbank11_sulfate                   14113 non-null  float64\n",
      " 43  rougher.input.floatbank11_xanthate                  13721 non-null  float64\n",
      " 44  rougher.output.concentrate_ag                       14149 non-null  float64\n",
      " 45  rougher.output.concentrate_pb                       14149 non-null  float64\n",
      " 46  rougher.output.concentrate_sol                      14127 non-null  float64\n",
      " 47  rougher.output.concentrate_au                       14149 non-null  float64\n",
      " 48  rougher.output.recovery                             14149 non-null  float64\n",
      " 49  rougher.output.tail_ag                              14148 non-null  float64\n",
      " 50  rougher.output.tail_pb                              14149 non-null  float64\n",
      " 51  rougher.output.tail_sol                             14149 non-null  float64\n",
      " 52  rougher.output.tail_au                              14149 non-null  float64\n",
      " 53  rougher.state.floatbank10_a_air                     14148 non-null  float64\n",
      " 54  rougher.state.floatbank10_a_level                   14148 non-null  float64\n",
      " 55  rougher.state.floatbank10_b_air                     14148 non-null  float64\n",
      " 56  rougher.state.floatbank10_b_level                   14148 non-null  float64\n",
      " 57  rougher.state.floatbank10_c_air                     14148 non-null  float64\n",
      " 58  rougher.state.floatbank10_c_level                   14148 non-null  float64\n",
      " 59  rougher.state.floatbank10_d_air                     14149 non-null  float64\n",
      " 60  rougher.state.floatbank10_d_level                   14149 non-null  float64\n",
      " 61  rougher.state.floatbank10_e_air                     13713 non-null  float64\n",
      " 62  rougher.state.floatbank10_e_level                   14149 non-null  float64\n",
      " 63  rougher.state.floatbank10_f_air                     14149 non-null  float64\n",
      " 64  rougher.state.floatbank10_f_level                   14149 non-null  float64\n",
      " 65  secondary_cleaner.output.tail_ag                    14147 non-null  float64\n",
      " 66  secondary_cleaner.output.tail_pb                    14139 non-null  float64\n",
      " 67  secondary_cleaner.output.tail_sol                   12544 non-null  float64\n",
      " 68  secondary_cleaner.output.tail_au                    14149 non-null  float64\n",
      " 69  secondary_cleaner.state.floatbank2_a_air            13932 non-null  float64\n",
      " 70  secondary_cleaner.state.floatbank2_a_level          14148 non-null  float64\n",
      " 71  secondary_cleaner.state.floatbank2_b_air            14128 non-null  float64\n",
      " 72  secondary_cleaner.state.floatbank2_b_level          14148 non-null  float64\n",
      " 73  secondary_cleaner.state.floatbank3_a_air            14145 non-null  float64\n",
      " 74  secondary_cleaner.state.floatbank3_a_level          14148 non-null  float64\n",
      " 75  secondary_cleaner.state.floatbank3_b_air            14148 non-null  float64\n",
      " 76  secondary_cleaner.state.floatbank3_b_level          14148 non-null  float64\n",
      " 77  secondary_cleaner.state.floatbank4_a_air            14143 non-null  float64\n",
      " 78  secondary_cleaner.state.floatbank4_a_level          14148 non-null  float64\n",
      " 79  secondary_cleaner.state.floatbank4_b_air            14148 non-null  float64\n",
      " 80  secondary_cleaner.state.floatbank4_b_level          14148 non-null  float64\n",
      " 81  secondary_cleaner.state.floatbank5_a_air            14148 non-null  float64\n",
      " 82  secondary_cleaner.state.floatbank5_a_level          14148 non-null  float64\n",
      " 83  secondary_cleaner.state.floatbank5_b_air            14148 non-null  float64\n",
      " 84  secondary_cleaner.state.floatbank5_b_level          14148 non-null  float64\n",
      " 85  secondary_cleaner.state.floatbank6_a_air            14147 non-null  float64\n",
      " 86  secondary_cleaner.state.floatbank6_a_level          14148 non-null  float64\n",
      "dtypes: float64(86), object(1)\n",
      "memory usage: 9.4+ MB\n"
     ]
    }
   ],
   "source": [
    "train.info()"
   ]
  },
  {
   "cell_type": "code",
   "execution_count": 5,
   "metadata": {
    "scrolled": true
   },
   "outputs": [
    {
     "name": "stdout",
     "output_type": "stream",
     "text": [
      "<class 'pandas.core.frame.DataFrame'>\n",
      "RangeIndex: 5290 entries, 0 to 5289\n",
      "Data columns (total 53 columns):\n",
      " #   Column                                      Non-Null Count  Dtype  \n",
      "---  ------                                      --------------  -----  \n",
      " 0   date                                        5290 non-null   object \n",
      " 1   primary_cleaner.input.sulfate               5286 non-null   float64\n",
      " 2   primary_cleaner.input.depressant            5285 non-null   float64\n",
      " 3   primary_cleaner.input.feed_size             5290 non-null   float64\n",
      " 4   primary_cleaner.input.xanthate              5286 non-null   float64\n",
      " 5   primary_cleaner.state.floatbank8_a_air      5290 non-null   float64\n",
      " 6   primary_cleaner.state.floatbank8_a_level    5290 non-null   float64\n",
      " 7   primary_cleaner.state.floatbank8_b_air      5290 non-null   float64\n",
      " 8   primary_cleaner.state.floatbank8_b_level    5290 non-null   float64\n",
      " 9   primary_cleaner.state.floatbank8_c_air      5290 non-null   float64\n",
      " 10  primary_cleaner.state.floatbank8_c_level    5290 non-null   float64\n",
      " 11  primary_cleaner.state.floatbank8_d_air      5290 non-null   float64\n",
      " 12  primary_cleaner.state.floatbank8_d_level    5290 non-null   float64\n",
      " 13  rougher.input.feed_ag                       5290 non-null   float64\n",
      " 14  rougher.input.feed_pb                       5290 non-null   float64\n",
      " 15  rougher.input.feed_rate                     5287 non-null   float64\n",
      " 16  rougher.input.feed_size                     5289 non-null   float64\n",
      " 17  rougher.input.feed_sol                      5269 non-null   float64\n",
      " 18  rougher.input.feed_au                       5290 non-null   float64\n",
      " 19  rougher.input.floatbank10_sulfate           5285 non-null   float64\n",
      " 20  rougher.input.floatbank10_xanthate          5290 non-null   float64\n",
      " 21  rougher.input.floatbank11_sulfate           5282 non-null   float64\n",
      " 22  rougher.input.floatbank11_xanthate          5265 non-null   float64\n",
      " 23  rougher.state.floatbank10_a_air             5290 non-null   float64\n",
      " 24  rougher.state.floatbank10_a_level           5290 non-null   float64\n",
      " 25  rougher.state.floatbank10_b_air             5290 non-null   float64\n",
      " 26  rougher.state.floatbank10_b_level           5290 non-null   float64\n",
      " 27  rougher.state.floatbank10_c_air             5290 non-null   float64\n",
      " 28  rougher.state.floatbank10_c_level           5290 non-null   float64\n",
      " 29  rougher.state.floatbank10_d_air             5290 non-null   float64\n",
      " 30  rougher.state.floatbank10_d_level           5290 non-null   float64\n",
      " 31  rougher.state.floatbank10_e_air             5290 non-null   float64\n",
      " 32  rougher.state.floatbank10_e_level           5290 non-null   float64\n",
      " 33  rougher.state.floatbank10_f_air             5290 non-null   float64\n",
      " 34  rougher.state.floatbank10_f_level           5290 non-null   float64\n",
      " 35  secondary_cleaner.state.floatbank2_a_air    5287 non-null   float64\n",
      " 36  secondary_cleaner.state.floatbank2_a_level  5290 non-null   float64\n",
      " 37  secondary_cleaner.state.floatbank2_b_air    5288 non-null   float64\n",
      " 38  secondary_cleaner.state.floatbank2_b_level  5290 non-null   float64\n",
      " 39  secondary_cleaner.state.floatbank3_a_air    5281 non-null   float64\n",
      " 40  secondary_cleaner.state.floatbank3_a_level  5290 non-null   float64\n",
      " 41  secondary_cleaner.state.floatbank3_b_air    5290 non-null   float64\n",
      " 42  secondary_cleaner.state.floatbank3_b_level  5290 non-null   float64\n",
      " 43  secondary_cleaner.state.floatbank4_a_air    5290 non-null   float64\n",
      " 44  secondary_cleaner.state.floatbank4_a_level  5290 non-null   float64\n",
      " 45  secondary_cleaner.state.floatbank4_b_air    5290 non-null   float64\n",
      " 46  secondary_cleaner.state.floatbank4_b_level  5290 non-null   float64\n",
      " 47  secondary_cleaner.state.floatbank5_a_air    5290 non-null   float64\n",
      " 48  secondary_cleaner.state.floatbank5_a_level  5290 non-null   float64\n",
      " 49  secondary_cleaner.state.floatbank5_b_air    5290 non-null   float64\n",
      " 50  secondary_cleaner.state.floatbank5_b_level  5290 non-null   float64\n",
      " 51  secondary_cleaner.state.floatbank6_a_air    5290 non-null   float64\n",
      " 52  secondary_cleaner.state.floatbank6_a_level  5290 non-null   float64\n",
      "dtypes: float64(52), object(1)\n",
      "memory usage: 2.1+ MB\n"
     ]
    }
   ],
   "source": [
    "test.info()"
   ]
  },
  {
   "cell_type": "markdown",
   "metadata": {},
   "source": [
    "*Видим небольшое количество пустых значений, от них мы избавимся*"
   ]
  },
  {
   "cell_type": "markdown",
   "metadata": {},
   "source": [
    "### Эффективность обогащения"
   ]
  },
  {
   "cell_type": "code",
   "execution_count": 6,
   "metadata": {},
   "outputs": [],
   "source": [
    "# выделем переменные для посчета эффективности и очистим от пустот\n",
    "train.dropna(subset=['rougher.output.concentrate_au', 'rougher.input.feed_au',\n",
    "                                   'rougher.output.tail_au','rougher.output.recovery'], inplace=True)\n",
    "concentrate_au = train['rougher.output.concentrate_au']\n",
    "feed_au = train['rougher.input.feed_au']\n",
    "tail_au = train['rougher.output.tail_au']\n",
    "recovery = train['rougher.output.recovery']"
   ]
  },
  {
   "cell_type": "code",
   "execution_count": 7,
   "metadata": {},
   "outputs": [
    {
     "name": "stdout",
     "output_type": "stream",
     "text": [
      "Эффективность обогащения:\n",
      "0        87.107763\n",
      "1        86.843261\n",
      "2        86.842308\n",
      "3        87.226430\n",
      "4        86.688794\n",
      "           ...    \n",
      "14144    89.574376\n",
      "14145    87.724007\n",
      "14146    88.890579\n",
      "14147    89.858126\n",
      "14148    89.514960\n",
      "Length: 14149, dtype: float64\n",
      "~~~~~~~~~~~~~~~~~~~~~~~~~~~~~~~~~~~~~~~~~~~~~~~~~~\n",
      "\n",
      "MAE: 1.0748911125799084e-14\n"
     ]
    }
   ],
   "source": [
    "# смотрим по формуле эффективность обогащения\n",
    "recovery_solve = (concentrate_au * (feed_au - tail_au) / feed_au / (concentrate_au - tail_au) * 100)\n",
    "print(f'Эффективность обогащения:\\n{recovery_solve}')\n",
    "print('~'*50)\n",
    "print(f'\\nMAE: {mean_absolute_error(recovery, recovery_solve)}')"
   ]
  },
  {
   "cell_type": "markdown",
   "metadata": {},
   "source": [
    "**Средне абсолютное отклонение очень маленькое, которое говорит о том, что значение rougher.output.recovery расчитано правильно**"
   ]
  },
  {
   "cell_type": "markdown",
   "metadata": {},
   "source": [
    "### Разница выборок"
   ]
  },
  {
   "cell_type": "code",
   "execution_count": 8,
   "metadata": {
    "scrolled": true
   },
   "outputs": [
    {
     "data": {
      "text/plain": [
       "{'final.output.concentrate_ag',\n",
       " 'final.output.concentrate_au',\n",
       " 'final.output.concentrate_pb',\n",
       " 'final.output.concentrate_sol',\n",
       " 'final.output.recovery',\n",
       " 'final.output.tail_ag',\n",
       " 'final.output.tail_au',\n",
       " 'final.output.tail_pb',\n",
       " 'final.output.tail_sol',\n",
       " 'primary_cleaner.output.concentrate_ag',\n",
       " 'primary_cleaner.output.concentrate_au',\n",
       " 'primary_cleaner.output.concentrate_pb',\n",
       " 'primary_cleaner.output.concentrate_sol',\n",
       " 'primary_cleaner.output.tail_ag',\n",
       " 'primary_cleaner.output.tail_au',\n",
       " 'primary_cleaner.output.tail_pb',\n",
       " 'primary_cleaner.output.tail_sol',\n",
       " 'rougher.calculation.au_pb_ratio',\n",
       " 'rougher.calculation.floatbank10_sulfate_to_au_feed',\n",
       " 'rougher.calculation.floatbank11_sulfate_to_au_feed',\n",
       " 'rougher.calculation.sulfate_to_au_concentrate',\n",
       " 'rougher.output.concentrate_ag',\n",
       " 'rougher.output.concentrate_au',\n",
       " 'rougher.output.concentrate_pb',\n",
       " 'rougher.output.concentrate_sol',\n",
       " 'rougher.output.recovery',\n",
       " 'rougher.output.tail_ag',\n",
       " 'rougher.output.tail_au',\n",
       " 'rougher.output.tail_pb',\n",
       " 'rougher.output.tail_sol',\n",
       " 'secondary_cleaner.output.tail_ag',\n",
       " 'secondary_cleaner.output.tail_au',\n",
       " 'secondary_cleaner.output.tail_pb',\n",
       " 'secondary_cleaner.output.tail_sol'}"
      ]
     },
     "execution_count": 8,
     "metadata": {},
     "output_type": "execute_result"
    }
   ],
   "source": [
    "# смотрим на разницу индексов\n",
    "set(train.columns) - set(test.columns)"
   ]
  },
  {
   "cell_type": "markdown",
   "metadata": {},
   "source": [
    "**Смотрим на разницу, видим output, что говорит о том, что это целевые переменные\n",
    "<br>И calculation, который видимо считается в процессе**"
   ]
  },
  {
   "cell_type": "markdown",
   "metadata": {},
   "source": [
    "### Предобработка данных"
   ]
  },
  {
   "cell_type": "code",
   "execution_count": 9,
   "metadata": {},
   "outputs": [],
   "source": [
    "# удалим пустоты\n",
    "full = full.dropna()\n",
    "train = train.dropna()\n",
    "test = test.dropna();"
   ]
  },
  {
   "cell_type": "code",
   "execution_count": 10,
   "metadata": {},
   "outputs": [],
   "source": [
    "# время особо не нужно, сделаем индексами\n",
    "full = full.set_index('date')\n",
    "train = train.set_index('date')\n",
    "test = test.set_index('date')"
   ]
  },
  {
   "cell_type": "code",
   "execution_count": 11,
   "metadata": {},
   "outputs": [],
   "source": [
    "# порежем точность\n",
    "full = full.loc[:,'final.output.concentrate_ag':].apply(np.float32)\n",
    "train = train.loc[:,'final.output.concentrate_ag':].apply(np.float32)\n",
    "test = test.loc[:,'primary_cleaner.input.sulfate':].apply(np.float32)"
   ]
  },
  {
   "cell_type": "code",
   "execution_count": 12,
   "metadata": {},
   "outputs": [],
   "source": [
    "# распределим данные\n",
    "y = test\n",
    "X_rougher = train[[i for i in test.columns if 'rougher' in i]]\n",
    "X = train[[i for i in test.columns]]"
   ]
  },
  {
   "cell_type": "code",
   "execution_count": 13,
   "metadata": {},
   "outputs": [
    {
     "data": {
      "image/png": "[encoded data removed]",
      "text/plain": [
       "<Figure size 1080x432 with 1 Axes>"
      ]
     },
     "metadata": {
      "needs_background": "light"
     },
     "output_type": "display_data"
    }
   ],
   "source": [
    "# потсмотрим на распределение\n",
    "train['rougher.output.recovery'].hist(figsize=(15,6), bins=100);"
   ]
  },
  {
   "cell_type": "code",
   "execution_count": 14,
   "metadata": {},
   "outputs": [
    {
     "data": {
      "image/png": "[encoded data removed]",
      "text/plain": [
       "<Figure size 1080x432 with 1 Axes>"
      ]
     },
     "metadata": {
      "needs_background": "light"
     },
     "output_type": "display_data"
    }
   ],
   "source": [
    "# потсмотрим на распределение\n",
    "train['rougher.output.concentrate_au'].hist(figsize=(15,6), bins=100);"
   ]
  },
  {
   "cell_type": "code",
   "execution_count": 15,
   "metadata": {},
   "outputs": [
    {
     "data": {
      "image/png": "[encoded data removed]",
      "text/plain": [
       "<Figure size 1080x432 with 1 Axes>"
      ]
     },
     "metadata": {
      "needs_background": "light"
     },
     "output_type": "display_data"
    }
   ],
   "source": [
    "# потсмотрим на распределение\n",
    "train['final.output.recovery'].hist(figsize=(15,6), bins=100);"
   ]
  },
  {
   "cell_type": "code",
   "execution_count": 16,
   "metadata": {},
   "outputs": [],
   "source": [
    "# видно, что присутствуют нули в данных, очистим\n",
    "train = train.drop(train[train['rougher.output.recovery'] == 0].index)\n",
    "train = train.drop(train[train['final.output.recovery'] == 0].index)\n",
    "train = train.drop(train[train['rougher.output.concentrate_au'] == 0].index)"
   ]
  },
  {
   "cell_type": "markdown",
   "metadata": {},
   "source": [
    "**Исходя из данных было обнаружено, что в тестовых данных нет признаков, которые высчитываются в процесе, а так же отсутствуют целевые признаки\n",
    "<br>Так же в данных присутствуют пропущенные значения, их достаточно мало, из-за чего было принято решение от них избавиться\n",
    "<br>Понизил точность до одинарной, поскольку данной точноти будет достаточно\n",
    "<br>И в конце по графикам было замечено, что в данных имеются нули, от которых тоже избавляемся**"
   ]
  },
  {
   "cell_type": "markdown",
   "metadata": {},
   "source": [
    "## Анализ данных"
   ]
  },
  {
   "cell_type": "markdown",
   "metadata": {},
   "source": [
    "### Изменение концентрация металлов (Au, Ag, Pb) на различных этапах очистки"
   ]
  },
  {
   "cell_type": "code",
   "execution_count": 17,
   "metadata": {},
   "outputs": [
    {
     "data": {
      "image/png": "[encoded data removed]",
      "text/plain": [
       "<Figure size 864x432 with 1 Axes>"
      ]
     },
     "metadata": {
      "needs_background": "light"
     },
     "output_type": "display_data"
    }
   ],
   "source": [
    "# Золото\n",
    "plt.figure(figsize=(12,6))\n",
    "plt.hist(train['final.output.concentrate_au'], bins=100, label = 'final.output', alpha=.5)\n",
    "plt.hist(train['primary_cleaner.output.concentrate_au'], bins=100, label = 'primary_cleaner.output', alpha=.5)\n",
    "plt.hist(train['rougher.output.concentrate_au'], bins=100, label = 'rougher.output', alpha=.5)\n",
    "plt.title(\"Концетрация : Золото\")\n",
    "plt.legend();"
   ]
  },
  {
   "cell_type": "code",
   "execution_count": 18,
   "metadata": {},
   "outputs": [
    {
     "data": {
      "image/png": "[encoded data removed]",
      "text/plain": [
       "<Figure size 864x432 with 1 Axes>"
      ]
     },
     "metadata": {
      "needs_background": "light"
     },
     "output_type": "display_data"
    }
   ],
   "source": [
    "# Серебро\n",
    "plt.figure(figsize=(12,6))\n",
    "plt.hist(train['final.output.concentrate_ag'], bins=100, label = 'final.output', alpha=.5)\n",
    "plt.hist(train['primary_cleaner.output.concentrate_ag'], bins=100, label = 'primary_cleaner.output', alpha=.5)\n",
    "plt.hist(train['rougher.output.concentrate_ag'], bins=100, label = 'rougher.output', alpha=.5)\n",
    "plt.title(\"Концетрация : Серебро\")\n",
    "plt.legend();"
   ]
  },
  {
   "cell_type": "code",
   "execution_count": 19,
   "metadata": {},
   "outputs": [
    {
     "data": {
      "image/png": "[encoded data removed]",
      "text/plain": [
       "<Figure size 864x432 with 1 Axes>"
      ]
     },
     "metadata": {
      "needs_background": "light"
     },
     "output_type": "display_data"
    }
   ],
   "source": [
    "# Свинец\n",
    "plt.figure(figsize=(12,6))\n",
    "plt.hist(train['final.output.concentrate_pb'], bins=100, label = 'final.output', alpha=.5)\n",
    "plt.hist(train['primary_cleaner.output.concentrate_pb'], bins=100, label = 'primary_cleaner.output', alpha=.5)\n",
    "plt.hist(train['rougher.output.concentrate_pb'], bins=100, label = 'rougher.output', alpha=.5)\n",
    "plt.title(\"Концентрация : свинца\")\n",
    "plt.legend();"
   ]
  },
  {
   "cell_type": "markdown",
   "metadata": {},
   "source": [
    "**Рассмотрев графики можно увидеть, что концетрация золота растет**"
   ]
  },
  {
   "cell_type": "markdown",
   "metadata": {},
   "source": [
    "### Распределения размеров гранул сырья на обучающей и тестовой выборках"
   ]
  },
  {
   "cell_type": "code",
   "execution_count": 20,
   "metadata": {},
   "outputs": [
    {
     "data": {
      "image/png": "[encoded data removed]",
      "text/plain": [
       "<Figure size 864x432 with 1 Axes>"
      ]
     },
     "metadata": {
      "needs_background": "light"
     },
     "output_type": "display_data"
    }
   ],
   "source": [
    "# Перед флотацией\n",
    "plt.figure(figsize=(12,6))\n",
    "plt.hist(train['rougher.input.feed_size'], bins=220, label = 'Train rougher.input.feed_size', alpha=.55, density=True)\n",
    "plt.hist(test['rougher.input.feed_size'], bins=220, label = 'Test rougher.input.feed_size', alpha=.55, density=True)\n",
    "plt.title(\"Распределения гранул сырья перед флотацией\")\n",
    "plt.legend();"
   ]
  },
  {
   "cell_type": "code",
   "execution_count": 21,
   "metadata": {},
   "outputs": [
    {
     "data": {
      "image/png": "[encoded data removed]",
      "text/plain": [
       "<Figure size 864x432 with 1 Axes>"
      ]
     },
     "metadata": {
      "needs_background": "light"
     },
     "output_type": "display_data"
    }
   ],
   "source": [
    "# Перед первичной очисткой\n",
    "plt.figure(figsize=(12,6))\n",
    "plt.hist(train['primary_cleaner.input.feed_size'], bins=220, label = 'Train primary_cleaner.input.feed_size', alpha=.55, density=True)\n",
    "plt.hist(test['primary_cleaner.input.feed_size'], bins=220, label = 'Test primary_cleaner.input.feed_size', alpha=.55, density=True)\n",
    "plt.title(\"Распределения гранул сырья перед первичной очисткой\")\n",
    "plt.legend();"
   ]
  },
  {
   "cell_type": "markdown",
   "metadata": {},
   "source": [
    "**Распределение выглядит нормально\n",
    "<br>Так же отметим сходство графиков, которое говорит, что оценка моделей будет правильной**"
   ]
  },
  {
   "cell_type": "markdown",
   "metadata": {},
   "source": [
    "### Суммарная концентрацию всех веществ на разных стадиях"
   ]
  },
  {
   "cell_type": "code",
   "execution_count": 22,
   "metadata": {},
   "outputs": [],
   "source": [
    "# посчитаем суммы на всех этапах\n",
    "final_concentrate_sum = train[['final.output.concentrate_au','final.output.concentrate_ag','final.output.concentrate_pb','final.output.concentrate_sol']].sum(axis=1)\n",
    "rougher_feed_concentrate_sum = train[['rougher.input.feed_au', 'rougher.input.feed_ag', 'rougher.input.feed_pb', 'rougher.input.feed_sol']].sum(axis=1)\n",
    "rougher_concentrate_sum = train[['rougher.output.concentrate_au', 'rougher.output.concentrate_ag', 'rougher.output.concentrate_pb', 'rougher.output.concentrate_sol']].sum(axis=1)"
   ]
  },
  {
   "cell_type": "code",
   "execution_count": 23,
   "metadata": {},
   "outputs": [
    {
     "data": {
      "image/png": "[encoded data removed]",
      "text/plain": [
       "<Figure size 864x432 with 1 Axes>"
      ]
     },
     "metadata": {
      "needs_background": "light"
     },
     "output_type": "display_data"
    }
   ],
   "source": [
    "#  Суммарная концентрация\n",
    "plt.figure(figsize=(12,6))\n",
    "plt.hist(final_concentrate_sum, bins=100,  label = 'final_output', alpha=.5)\n",
    "plt.hist(rougher_feed_concentrate_sum,bins=100,  label = ' rougher_input_feed', alpha=.5)\n",
    "plt.hist(rougher_concentrate_sum, bins=100, label = 'rougher_output', alpha=.5)\n",
    "plt.title(\"Распределение суммарной концентрации на разных этапах очистки\")\n",
    "plt.legend();"
   ]
  },
  {
   "cell_type": "code",
   "execution_count": 24,
   "metadata": {},
   "outputs": [],
   "source": [
    "# частенько нули, убираем\n",
    "train = train.drop(train[train['primary_cleaner.output.concentrate_au'] == 0].index)"
   ]
  },
  {
   "cell_type": "markdown",
   "metadata": {},
   "source": [
    "## Модель"
   ]
  },
  {
   "cell_type": "markdown",
   "metadata": {},
   "source": [
    "### Функция для вычисления итоговой sMAPE"
   ]
  },
  {
   "cell_type": "code",
   "execution_count": 25,
   "metadata": {},
   "outputs": [],
   "source": [
    "def sMAPE(y_true,y_pred):\n",
    "    return np.mean(abs(y_true - y_pred)/((abs(y_true)+abs(y_pred))/2))*100"
   ]
  },
  {
   "cell_type": "code",
   "execution_count": 26,
   "metadata": {},
   "outputs": [],
   "source": [
    "def final_sMAPE(sMAPE_rougher,sMAPE_final):\n",
    "    return (0.25*sMAPE_rougher + 0.75*sMAPE_final)"
   ]
  },
  {
   "cell_type": "markdown",
   "metadata": {},
   "source": [
    "### Обучение моделей"
   ]
  },
  {
   "cell_type": "code",
   "execution_count": 27,
   "metadata": {},
   "outputs": [],
   "source": [
    "# получим обучающую выборку \n",
    "del_frame = set(train.columns) - set(y.columns)\n",
    "X_train_final = train.drop(del_frame, axis=1)\n",
    "del_frame_2 = set(X_train_final.columns) - set(X_rougher.columns)\n",
    "X_train_rougher = X_train_final.drop(del_frame_2, axis=1)\n",
    "y_train_rougher = train['rougher.output.recovery']\n",
    "y_train_final = train['final.output.recovery']\n",
    "X_test_final = y\n",
    "columns_to_delete = set(X_test_final.columns) - set(X_rougher.columns)\n",
    "X_test_rougher = X_test_final.drop(columns_to_delete, axis=1)"
   ]
  },
  {
   "cell_type": "code",
   "execution_count": 28,
   "metadata": {},
   "outputs": [],
   "source": [
    "# создадим параметры для поиска лучших гиперпараметров\n",
    "params_rf = {\"n_estimators\": range(1,101),\n",
    "             \"max_depth\": range(1,11)}\n",
    "params_dt = {\"max_depth\": range(1,11)}"
   ]
  },
  {
   "cell_type": "code",
   "execution_count": 29,
   "metadata": {},
   "outputs": [],
   "source": [
    "# создание собственного scoring\n",
    "custom_score = make_scorer(sMAPE,greater_is_better=False)"
   ]
  },
  {
   "cell_type": "code",
   "execution_count": 30,
   "metadata": {},
   "outputs": [],
   "source": [
    "# объявляем модели\n",
    "grid_rougher_rf = RandomizedSearchCV(RandomForestRegressor(), params_rf, scoring=custom_score, cv=5)\n",
    "grid_final_rf = RandomizedSearchCV(RandomForestRegressor() , params_rf, scoring=custom_score, cv=5)\n",
    "grid_rougher_dt = RandomizedSearchCV(DecisionTreeRegressor() , params_dt, scoring=custom_score, cv=5)\n",
    "grid_final_dt = RandomizedSearchCV(DecisionTreeRegressor(), params_dt, scoring=custom_score, cv=5)"
   ]
  },
  {
   "cell_type": "code",
   "execution_count": 31,
   "metadata": {},
   "outputs": [
    {
     "data": {
      "text/plain": [
       "RandomizedSearchCV(cv=5, estimator=DecisionTreeRegressor(),\n",
       "                   param_distributions={'max_depth': range(1, 11)},\n",
       "                   scoring=make_scorer(sMAPE, greater_is_better=False))"
      ]
     },
     "execution_count": 31,
     "metadata": {},
     "output_type": "execute_result"
    }
   ],
   "source": [
    "# обучаем на трейновой выборке\n",
    "grid_rougher_rf.fit(X_train_rougher, y_train_rougher)\n",
    "grid_final_rf.fit(X_train_final, y_train_final)\n",
    "grid_rougher_dt.fit(X_train_rougher, y_train_rougher)\n",
    "grid_final_dt.fit(X_train_final, y_train_final)"
   ]
  },
  {
   "cell_type": "code",
   "execution_count": 32,
   "metadata": {},
   "outputs": [
    {
     "name": "stdout",
     "output_type": "stream",
     "text": [
      "RandomForestRegressor(max_depth=6, n_estimators=68)\n",
      "RandomForestRegressor(max_depth=1, n_estimators=44)\n",
      "DecisionTreeRegressor(max_depth=2)\n",
      "DecisionTreeRegressor(max_depth=1)\n"
     ]
    }
   ],
   "source": [
    "# смотрим на лучшие параметры\n",
    "print(grid_rougher_rf.best_estimator_)\n",
    "print(grid_final_rf.best_estimator_)\n",
    "print(grid_rougher_dt.best_estimator_)\n",
    "print(grid_final_dt.best_estimator_)"
   ]
  },
  {
   "cell_type": "code",
   "execution_count": 33,
   "metadata": {},
   "outputs": [],
   "source": [
    "# сохраняем лучшие метрики\n",
    "best_grid_rougher_rf = grid_rougher_rf.best_score_\n",
    "best_grid_final_rf = grid_final_rf.best_score_\n",
    "best_grid_rougher_dt = grid_rougher_dt.best_score_\n",
    "best_grid_final_dt = grid_final_dt.best_score_"
   ]
  },
  {
   "cell_type": "code",
   "execution_count": 34,
   "metadata": {},
   "outputs": [
    {
     "name": "stdout",
     "output_type": "stream",
     "text": [
      "rougher\n",
      "RandomForest -6.014297650902321, DecisionTree -6.321272394151251\n",
      "final\n",
      "RandomForest -8.150235574922391, DecisionTree -8.211123515200565\n"
     ]
    }
   ],
   "source": [
    "# Выводим результаты\n",
    "print(f\"rougher\\nRandomForest {best_grid_rougher_rf}, DecisionTree {best_grid_rougher_dt}\")\n",
    "print(f\"final\\nRandomForest {best_grid_final_rf}, DecisionTree {best_grid_final_dt}\")"
   ]
  },
  {
   "cell_type": "code",
   "execution_count": 35,
   "metadata": {},
   "outputs": [
    {
     "data": {
      "text/plain": [
       "-7.6162510939173735"
      ]
     },
     "execution_count": 35,
     "metadata": {},
     "output_type": "execute_result"
    }
   ],
   "source": [
    "final_sMAPE(best_grid_rougher_rf,best_grid_final_rf)"
   ]
  },
  {
   "cell_type": "code",
   "execution_count": 36,
   "metadata": {},
   "outputs": [
    {
     "data": {
      "text/plain": [
       "-7.738660734938237"
      ]
     },
     "execution_count": 36,
     "metadata": {},
     "output_type": "execute_result"
    }
   ],
   "source": [
    "final_sMAPE(best_grid_rougher_dt,best_grid_final_dt)"
   ]
  },
  {
   "cell_type": "markdown",
   "metadata": {},
   "source": [
    "**Как видим, лучшие результаты показывает случайный лес**"
   ]
  },
  {
   "cell_type": "markdown",
   "metadata": {},
   "source": [
    "**Пререходим к проверке на тестовой**"
   ]
  },
  {
   "cell_type": "code",
   "execution_count": 37,
   "metadata": {},
   "outputs": [],
   "source": [
    "# собираем переменные в кучку\n",
    "df_y_test = y.merge(full.loc[:,[\"rougher.output.recovery\",\n",
    "                                                           \"final.output.recovery\"]],\n",
    "                                left_index=True, right_index=True)\n",
    "y_test_rougher = df_y_test[\"rougher.output.recovery\"]\n",
    "y_test_final = df_y_test[\"final.output.recovery\"]"
   ]
  },
  {
   "cell_type": "code",
   "execution_count": 38,
   "metadata": {},
   "outputs": [],
   "source": [
    "# строим предсказания\n",
    "rogher_test = grid_rougher_rf.predict(X_test_rougher.loc[y_test_rougher.index])\n",
    "final_test = grid_final_rf.predict(X_test_final.loc[y_test_final.index])"
   ]
  },
  {
   "cell_type": "code",
   "execution_count": 39,
   "metadata": {},
   "outputs": [
    {
     "data": {
      "text/plain": [
       "8.150186533982678"
      ]
     },
     "execution_count": 39,
     "metadata": {},
     "output_type": "execute_result"
    }
   ],
   "source": [
    "# Итоговое sMAPE\n",
    "final_sMAPE(sMAPE(y_test_rougher, rogher_test),sMAPE(y_test_final,final_test))"
   ]
  },
  {
   "cell_type": "markdown",
   "metadata": {},
   "source": [
    "**Финальная ошибка на тестовой выборке 8,1**"
   ]
  },
  {
   "cell_type": "markdown",
   "metadata": {},
   "source": [
    "**Построим константную модель**"
   ]
  },
  {
   "cell_type": "code",
   "execution_count": 40,
   "metadata": {},
   "outputs": [
    {
     "data": {
      "text/plain": [
       "7.73487463593483"
      ]
     },
     "execution_count": 40,
     "metadata": {},
     "output_type": "execute_result"
    }
   ],
   "source": [
    "dummy_regressor_rougher = DummyRegressor(strategy=\"median\")\n",
    "dummy_regressor_rougher.fit(X_test_rougher.loc[y_test_rougher.index],y_test_rougher)\n",
    "dummy_rougher_pred = dummy_regressor_rougher.predict(rogher_test)\n",
    "smape_dummy_rougher = sMAPE(y_test_rougher, dummy_rougher_pred)\n",
    "smape_dummy_rougher "
   ]
  },
  {
   "cell_type": "code",
   "execution_count": 41,
   "metadata": {},
   "outputs": [
    {
     "data": {
      "text/plain": [
       "7.752420753240585"
      ]
     },
     "execution_count": 41,
     "metadata": {},
     "output_type": "execute_result"
    }
   ],
   "source": [
    "dummy_regressor_final = DummyRegressor(strategy=\"median\")\n",
    "dummy_regressor_final.fit(X_test_final.loc[y_test_final.index],y_test_final)\n",
    "dummy_final_pred = dummy_regressor_final.predict(final_test)\n",
    "smape_dummy_final = sMAPE(y_test_final, dummy_final_pred)\n",
    "smape_dummy_final"
   ]
  },
  {
   "cell_type": "code",
   "execution_count": 42,
   "metadata": {},
   "outputs": [
    {
     "data": {
      "text/plain": [
       "7.7436476945877075"
      ]
     },
     "execution_count": 42,
     "metadata": {},
     "output_type": "execute_result"
    }
   ],
   "source": [
    "final = (smape_dummy_final + smape_dummy_rougher)/2\n",
    "final"
   ]
  },
  {
   "cell_type": "markdown",
   "metadata": {},
   "source": [
    "**Ошибка на тесте 8.1, а на константной 7.7**"
   ]
  },
  {
   "cell_type": "markdown",
   "metadata": {},
   "source": [
    "**Выводы:\n",
    "<br>1) Перед нами оказались сырые данные, в которых к удивлению было не много пропусков от общего объема, но присутсвовало много нулей, от которых мы избавились. Так же уменьшили точность, поскольку нам хватает одинарной\n",
    "<br>2) Посчитав эффективность обогощения, можно было сделать вывод, что она рассчитана правильно\n",
    "<br>3) Проведя анализ на различных этапах очистки, можно заметить рост концетрации золота\n",
    "<br>4) Распередения гранул не сильно отличалось, соответственно на результаты моделей можно рассчитывать\n",
    "<br>5) Так же было исследованно суммарная концетрация, откуда избавились от нулей\n",
    "<br>6) Написали собственную функцию для sMAPE\n",
    "<br>7) Обучили модели, и где лучшие результаты показал случайный лес\n",
    "<br>8) Протостировав на тестовых значениях, мы получили sMAPE в размере 8.5**"
   ]
  },
  {
   "cell_type": "code",
   "execution_count": null,
   "metadata": {},
   "outputs": [],
   "source": []
  }
 ],
 "metadata": {
  "ExecuteTimeLog": [
   {
    "duration": 413,
    "start_time": "2023-04-01T18:00:21.108Z"
   },
   {
    "duration": 128,
    "start_time": "2023-04-01T18:00:32.758Z"
   },
   {
    "duration": 2129,
    "start_time": "2023-04-01T18:00:56.334Z"
   },
   {
    "duration": 433,
    "start_time": "2023-04-01T18:00:59.933Z"
   },
   {
    "duration": 418,
    "start_time": "2023-04-01T18:01:44.521Z"
   },
   {
    "duration": 485,
    "start_time": "2023-04-01T18:02:10.158Z"
   },
   {
    "duration": 113,
    "start_time": "2023-04-01T18:02:18.278Z"
   },
   {
    "duration": 403,
    "start_time": "2023-04-01T18:02:22.225Z"
   },
   {
    "duration": 118,
    "start_time": "2023-04-01T18:02:38.516Z"
   },
   {
    "duration": 1242,
    "start_time": "2023-04-01T18:02:55.860Z"
   },
   {
    "duration": 316,
    "start_time": "2023-04-01T18:02:58.603Z"
   },
   {
    "duration": 486,
    "start_time": "2023-04-01T18:03:36.628Z"
   },
   {
    "duration": 108,
    "start_time": "2023-04-01T18:03:43.140Z"
   },
   {
    "duration": 327,
    "start_time": "2023-04-01T18:03:49.989Z"
   },
   {
    "duration": 277,
    "start_time": "2023-04-01T18:05:17.645Z"
   },
   {
    "duration": 717,
    "start_time": "2023-04-01T18:05:44.652Z"
   },
   {
    "duration": 750,
    "start_time": "2023-04-02T05:43:48.025Z"
   },
   {
    "duration": 2954,
    "start_time": "2023-04-02T05:43:52.746Z"
   },
   {
    "duration": 26,
    "start_time": "2023-04-02T06:33:33.281Z"
   },
   {
    "duration": 656,
    "start_time": "2023-04-02T06:33:56.119Z"
   },
   {
    "duration": 17,
    "start_time": "2023-04-02T06:33:56.779Z"
   },
   {
    "duration": 22,
    "start_time": "2023-04-02T06:34:07.184Z"
   },
   {
    "duration": 29,
    "start_time": "2023-04-02T06:34:28.649Z"
   },
   {
    "duration": 15,
    "start_time": "2023-04-02T06:34:36.525Z"
   },
   {
    "duration": 16,
    "start_time": "2023-04-02T06:34:43.377Z"
   },
   {
    "duration": 15,
    "start_time": "2023-04-02T06:34:45.990Z"
   },
   {
    "duration": 16,
    "start_time": "2023-04-02T06:35:05.382Z"
   },
   {
    "duration": 16,
    "start_time": "2023-04-02T06:35:08.273Z"
   },
   {
    "duration": 15,
    "start_time": "2023-04-02T06:35:09.896Z"
   },
   {
    "duration": 20,
    "start_time": "2023-04-02T06:35:15.494Z"
   },
   {
    "duration": 22,
    "start_time": "2023-04-02T06:35:18.128Z"
   },
   {
    "duration": 22,
    "start_time": "2023-04-02T06:35:20.077Z"
   },
   {
    "duration": 13,
    "start_time": "2023-04-02T06:53:47.104Z"
   },
   {
    "duration": 15,
    "start_time": "2023-04-02T06:53:50.125Z"
   },
   {
    "duration": 17,
    "start_time": "2023-04-02T06:53:55.058Z"
   },
   {
    "duration": 16,
    "start_time": "2023-04-02T06:53:55.360Z"
   },
   {
    "duration": 15,
    "start_time": "2023-04-02T07:28:22.432Z"
   },
   {
    "duration": 12,
    "start_time": "2023-04-02T07:29:12.594Z"
   },
   {
    "duration": 11,
    "start_time": "2023-04-02T07:29:15.516Z"
   },
   {
    "duration": 11,
    "start_time": "2023-04-02T07:29:20.960Z"
   },
   {
    "duration": 11,
    "start_time": "2023-04-02T07:30:50.531Z"
   },
   {
    "duration": 8,
    "start_time": "2023-04-02T07:31:04.333Z"
   },
   {
    "duration": 8,
    "start_time": "2023-04-02T07:31:16.192Z"
   },
   {
    "duration": 9,
    "start_time": "2023-04-02T07:31:21.357Z"
   },
   {
    "duration": 8,
    "start_time": "2023-04-02T07:31:27.190Z"
   },
   {
    "duration": 5,
    "start_time": "2023-04-02T07:31:40.230Z"
   },
   {
    "duration": 539,
    "start_time": "2023-04-02T07:34:48.412Z"
   },
   {
    "duration": 15,
    "start_time": "2023-04-02T07:34:52.514Z"
   },
   {
    "duration": 14,
    "start_time": "2023-04-02T07:34:54.822Z"
   },
   {
    "duration": 10,
    "start_time": "2023-04-02T07:34:57.302Z"
   },
   {
    "duration": 6,
    "start_time": "2023-04-02T07:36:53.291Z"
   },
   {
    "duration": 5,
    "start_time": "2023-04-02T07:37:41.070Z"
   },
   {
    "duration": 16,
    "start_time": "2023-04-02T07:37:43.994Z"
   },
   {
    "duration": 12,
    "start_time": "2023-04-02T07:37:57.992Z"
   },
   {
    "duration": 540,
    "start_time": "2023-04-02T09:34:19.484Z"
   },
   {
    "duration": 2,
    "start_time": "2023-04-02T09:34:21.051Z"
   },
   {
    "duration": 591,
    "start_time": "2023-04-02T09:34:31.118Z"
   },
   {
    "duration": 541,
    "start_time": "2023-04-02T09:34:31.710Z"
   },
   {
    "duration": 55,
    "start_time": "2023-04-03T07:48:39.113Z"
   },
   {
    "duration": 1000,
    "start_time": "2023-04-03T07:48:41.675Z"
   },
   {
    "duration": 4147,
    "start_time": "2023-04-03T07:48:42.677Z"
   },
   {
    "duration": 40,
    "start_time": "2023-04-03T07:48:46.827Z"
   },
   {
    "duration": 22,
    "start_time": "2023-04-03T07:48:48.976Z"
   },
   {
    "duration": 30,
    "start_time": "2023-04-03T07:48:51.880Z"
   },
   {
    "duration": 14,
    "start_time": "2023-04-03T07:50:47.627Z"
   },
   {
    "duration": 12,
    "start_time": "2023-04-03T07:50:55.927Z"
   },
   {
    "duration": 943,
    "start_time": "2023-04-03T07:52:18.734Z"
   },
   {
    "duration": 71,
    "start_time": "2023-04-03T07:53:24.108Z"
   },
   {
    "duration": 11,
    "start_time": "2023-04-03T07:53:36.767Z"
   },
   {
    "duration": 9,
    "start_time": "2023-04-03T07:54:02.930Z"
   },
   {
    "duration": 10,
    "start_time": "2023-04-03T07:54:14.136Z"
   },
   {
    "duration": 10,
    "start_time": "2023-04-03T07:54:18.916Z"
   },
   {
    "duration": 16,
    "start_time": "2023-04-03T07:54:22.282Z"
   },
   {
    "duration": 9,
    "start_time": "2023-04-03T07:54:35.745Z"
   },
   {
    "duration": 156,
    "start_time": "2023-04-03T07:54:44.060Z"
   },
   {
    "duration": 8,
    "start_time": "2023-04-03T07:54:47.468Z"
   },
   {
    "duration": 10,
    "start_time": "2023-04-03T07:55:09.031Z"
   },
   {
    "duration": 19,
    "start_time": "2023-04-03T07:55:22.279Z"
   },
   {
    "duration": 805,
    "start_time": "2023-04-03T07:55:51.514Z"
   },
   {
    "duration": 19,
    "start_time": "2023-04-03T07:55:58.250Z"
   },
   {
    "duration": 33,
    "start_time": "2023-04-03T07:56:05.378Z"
   },
   {
    "duration": 27,
    "start_time": "2023-04-03T07:56:15.278Z"
   },
   {
    "duration": 15,
    "start_time": "2023-04-03T07:56:46.497Z"
   },
   {
    "duration": 19,
    "start_time": "2023-04-03T07:57:59.367Z"
   },
   {
    "duration": 12,
    "start_time": "2023-04-03T07:58:10.517Z"
   },
   {
    "duration": 5,
    "start_time": "2023-04-03T07:58:13.877Z"
   },
   {
    "duration": 5,
    "start_time": "2023-04-03T07:58:37.518Z"
   },
   {
    "duration": 20,
    "start_time": "2023-04-03T08:02:04.183Z"
   },
   {
    "duration": 11,
    "start_time": "2023-04-03T08:02:13.471Z"
   },
   {
    "duration": 10,
    "start_time": "2023-04-03T08:02:23.506Z"
   },
   {
    "duration": 12,
    "start_time": "2023-04-03T08:02:28.498Z"
   },
   {
    "duration": 8,
    "start_time": "2023-04-03T08:02:34.041Z"
   },
   {
    "duration": 7,
    "start_time": "2023-04-03T08:03:02.535Z"
   },
   {
    "duration": 7,
    "start_time": "2023-04-03T08:03:13.400Z"
   },
   {
    "duration": 6,
    "start_time": "2023-04-03T08:03:29.915Z"
   },
   {
    "duration": 7,
    "start_time": "2023-04-03T08:03:33.158Z"
   },
   {
    "duration": 7,
    "start_time": "2023-04-03T08:03:37.243Z"
   },
   {
    "duration": 6,
    "start_time": "2023-04-03T08:03:41.046Z"
   },
   {
    "duration": 29,
    "start_time": "2023-04-03T08:03:49.623Z"
   },
   {
    "duration": 22,
    "start_time": "2023-04-03T08:04:06.369Z"
   },
   {
    "duration": 21,
    "start_time": "2023-04-03T08:04:06.742Z"
   },
   {
    "duration": 56,
    "start_time": "2023-04-03T08:05:34.966Z"
   },
   {
    "duration": 38,
    "start_time": "2023-04-03T08:05:35.339Z"
   },
   {
    "duration": 40,
    "start_time": "2023-04-03T08:05:38.460Z"
   },
   {
    "duration": 17,
    "start_time": "2023-04-03T08:05:42.842Z"
   },
   {
    "duration": 10,
    "start_time": "2023-04-03T08:05:44.233Z"
   },
   {
    "duration": 91,
    "start_time": "2023-04-03T08:05:45.179Z"
   },
   {
    "duration": 7,
    "start_time": "2023-04-03T08:05:47.659Z"
   },
   {
    "duration": 8,
    "start_time": "2023-04-03T08:05:51.046Z"
   },
   {
    "duration": 25,
    "start_time": "2023-04-03T08:06:06.414Z"
   },
   {
    "duration": 1439,
    "start_time": "2023-04-03T08:06:11.161Z"
   },
   {
    "duration": 745,
    "start_time": "2023-04-03T08:06:12.602Z"
   },
   {
    "duration": 19,
    "start_time": "2023-04-03T08:06:13.348Z"
   },
   {
    "duration": 42,
    "start_time": "2023-04-03T08:06:13.369Z"
   },
   {
    "duration": 12,
    "start_time": "2023-04-03T08:06:13.413Z"
   },
   {
    "duration": 14,
    "start_time": "2023-04-03T08:06:13.427Z"
   },
   {
    "duration": 8,
    "start_time": "2023-04-03T08:06:13.443Z"
   },
   {
    "duration": 6,
    "start_time": "2023-04-03T08:06:13.453Z"
   },
   {
    "duration": 52,
    "start_time": "2023-04-03T08:06:13.461Z"
   },
   {
    "duration": 724,
    "start_time": "2023-04-03T08:06:28.832Z"
   },
   {
    "duration": 18,
    "start_time": "2023-04-03T08:06:29.558Z"
   },
   {
    "duration": 23,
    "start_time": "2023-04-03T08:06:31.773Z"
   },
   {
    "duration": 16,
    "start_time": "2023-04-03T08:06:36.506Z"
   },
   {
    "duration": 14,
    "start_time": "2023-04-03T08:06:38.998Z"
   },
   {
    "duration": 13,
    "start_time": "2023-04-03T08:06:43.025Z"
   },
   {
    "duration": 8,
    "start_time": "2023-04-03T08:06:44.004Z"
   },
   {
    "duration": 8,
    "start_time": "2023-04-03T08:06:46.617Z"
   },
   {
    "duration": 4,
    "start_time": "2023-04-03T08:06:49.415Z"
   },
   {
    "duration": 24,
    "start_time": "2023-04-03T08:06:51.316Z"
   },
   {
    "duration": 19,
    "start_time": "2023-04-03T08:07:01.282Z"
   },
   {
    "duration": 25,
    "start_time": "2023-04-03T08:07:11.247Z"
   },
   {
    "duration": 10,
    "start_time": "2023-04-03T08:07:11.970Z"
   },
   {
    "duration": 36,
    "start_time": "2023-04-03T08:07:46.398Z"
   },
   {
    "duration": 26,
    "start_time": "2023-04-03T08:07:49.183Z"
   },
   {
    "duration": 157,
    "start_time": "2023-04-03T08:08:34.756Z"
   },
   {
    "duration": 43,
    "start_time": "2023-04-03T08:09:15.712Z"
   },
   {
    "duration": 17,
    "start_time": "2023-04-03T08:09:24.318Z"
   },
   {
    "duration": 16,
    "start_time": "2023-04-03T08:09:30.845Z"
   },
   {
    "duration": 116,
    "start_time": "2023-04-03T08:09:50.066Z"
   },
   {
    "duration": 22,
    "start_time": "2023-04-03T08:09:52.938Z"
   },
   {
    "duration": 14,
    "start_time": "2023-04-03T08:09:58.100Z"
   },
   {
    "duration": 21,
    "start_time": "2023-04-03T08:10:07.934Z"
   },
   {
    "duration": 26,
    "start_time": "2023-04-03T08:10:08.274Z"
   },
   {
    "duration": 35,
    "start_time": "2023-04-03T08:10:10.827Z"
   },
   {
    "duration": 26,
    "start_time": "2023-04-03T08:10:15.221Z"
   },
   {
    "duration": 23,
    "start_time": "2023-04-03T08:10:15.602Z"
   },
   {
    "duration": 30,
    "start_time": "2023-04-03T08:10:16.343Z"
   },
   {
    "duration": 16,
    "start_time": "2023-04-03T08:10:20.365Z"
   },
   {
    "duration": 25,
    "start_time": "2023-04-03T08:13:54.149Z"
   },
   {
    "duration": 7296,
    "start_time": "2023-04-03T08:14:00.318Z"
   },
   {
    "duration": 8827,
    "start_time": "2023-04-03T08:14:24.333Z"
   },
   {
    "duration": 8730,
    "start_time": "2023-04-03T08:14:54.733Z"
   },
   {
    "duration": 11799,
    "start_time": "2023-04-03T08:15:11.967Z"
   },
   {
    "duration": 14129,
    "start_time": "2023-04-03T08:20:06.455Z"
   },
   {
    "duration": 1569,
    "start_time": "2023-04-03T10:02:39.070Z"
   },
   {
    "duration": 15159,
    "start_time": "2023-04-03T10:03:05.959Z"
   },
   {
    "duration": 29,
    "start_time": "2023-04-03T10:03:33.352Z"
   },
   {
    "duration": 1574,
    "start_time": "2023-04-03T10:04:07.883Z"
   },
   {
    "duration": 792,
    "start_time": "2023-04-03T10:04:09.459Z"
   },
   {
    "duration": 18,
    "start_time": "2023-04-03T10:04:10.252Z"
   },
   {
    "duration": 20,
    "start_time": "2023-04-03T10:04:10.287Z"
   },
   {
    "duration": 27,
    "start_time": "2023-04-03T10:04:10.310Z"
   },
   {
    "duration": 14,
    "start_time": "2023-04-03T10:04:10.338Z"
   },
   {
    "duration": 17,
    "start_time": "2023-04-03T10:04:10.353Z"
   },
   {
    "duration": 13,
    "start_time": "2023-04-03T10:04:10.371Z"
   },
   {
    "duration": 32,
    "start_time": "2023-04-03T10:04:10.388Z"
   },
   {
    "duration": 1474,
    "start_time": "2023-04-03T10:04:31.232Z"
   },
   {
    "duration": 3387,
    "start_time": "2023-04-03T10:04:32.709Z"
   },
   {
    "duration": 22,
    "start_time": "2023-04-03T10:04:36.098Z"
   },
   {
    "duration": 16,
    "start_time": "2023-04-03T10:04:36.122Z"
   },
   {
    "duration": 17,
    "start_time": "2023-04-03T10:04:36.141Z"
   },
   {
    "duration": 35,
    "start_time": "2023-04-03T10:04:36.160Z"
   },
   {
    "duration": 10,
    "start_time": "2023-04-03T10:04:36.198Z"
   },
   {
    "duration": 26,
    "start_time": "2023-04-03T10:04:36.209Z"
   },
   {
    "duration": 44,
    "start_time": "2023-04-03T10:04:36.236Z"
   },
   {
    "duration": 53,
    "start_time": "2023-04-03T10:05:11.802Z"
   },
   {
    "duration": 7,
    "start_time": "2023-04-03T10:05:15.824Z"
   },
   {
    "duration": 1576,
    "start_time": "2023-04-03T10:05:21.463Z"
   },
   {
    "duration": 3438,
    "start_time": "2023-04-03T10:05:23.041Z"
   },
   {
    "duration": 26,
    "start_time": "2023-04-03T10:05:26.481Z"
   },
   {
    "duration": 21,
    "start_time": "2023-04-03T10:05:26.509Z"
   },
   {
    "duration": 14,
    "start_time": "2023-04-03T10:05:26.532Z"
   },
   {
    "duration": 47,
    "start_time": "2023-04-03T10:05:26.548Z"
   },
   {
    "duration": 9,
    "start_time": "2023-04-03T10:05:26.597Z"
   },
   {
    "duration": 7,
    "start_time": "2023-04-03T10:05:26.608Z"
   },
   {
    "duration": 32,
    "start_time": "2023-04-03T10:05:26.617Z"
   },
   {
    "duration": 120,
    "start_time": "2023-04-03T10:05:26.651Z"
   },
   {
    "duration": 0,
    "start_time": "2023-04-03T10:05:26.772Z"
   },
   {
    "duration": 31,
    "start_time": "2023-04-03T10:05:54.130Z"
   },
   {
    "duration": 14,
    "start_time": "2023-04-03T10:06:12.652Z"
   },
   {
    "duration": 32,
    "start_time": "2023-04-03T10:06:24.334Z"
   },
   {
    "duration": 37,
    "start_time": "2023-04-03T10:06:37.332Z"
   },
   {
    "duration": 16,
    "start_time": "2023-04-03T10:06:50.702Z"
   },
   {
    "duration": 40,
    "start_time": "2023-04-03T10:06:59.560Z"
   },
   {
    "duration": 45,
    "start_time": "2023-04-03T10:07:01.283Z"
   },
   {
    "duration": 14,
    "start_time": "2023-04-03T10:07:06.238Z"
   },
   {
    "duration": 1422,
    "start_time": "2023-04-03T10:07:49.311Z"
   },
   {
    "duration": 862,
    "start_time": "2023-04-03T10:07:50.735Z"
   },
   {
    "duration": 23,
    "start_time": "2023-04-03T10:07:51.599Z"
   },
   {
    "duration": 19,
    "start_time": "2023-04-03T10:07:51.624Z"
   },
   {
    "duration": 44,
    "start_time": "2023-04-03T10:07:51.646Z"
   },
   {
    "duration": 26,
    "start_time": "2023-04-03T10:07:51.692Z"
   },
   {
    "duration": 36,
    "start_time": "2023-04-03T10:07:51.721Z"
   },
   {
    "duration": 12,
    "start_time": "2023-04-03T10:07:51.759Z"
   },
   {
    "duration": 45,
    "start_time": "2023-04-03T10:07:51.773Z"
   },
   {
    "duration": 36,
    "start_time": "2023-04-03T10:07:51.820Z"
   },
   {
    "duration": 26,
    "start_time": "2023-04-03T10:07:51.858Z"
   },
   {
    "duration": 105,
    "start_time": "2023-04-03T10:08:43.469Z"
   },
   {
    "duration": 1686,
    "start_time": "2023-04-03T10:08:53.850Z"
   },
   {
    "duration": 14237,
    "start_time": "2023-04-03T10:09:29.965Z"
   },
   {
    "duration": 14,
    "start_time": "2023-04-03T10:09:59.146Z"
   },
   {
    "duration": 15000,
    "start_time": "2023-04-03T10:10:07.743Z"
   },
   {
    "duration": 170,
    "start_time": "2023-04-03T10:10:34.146Z"
   },
   {
    "duration": 0,
    "start_time": "2023-04-03T10:10:49.339Z"
   },
   {
    "duration": 204,
    "start_time": "2023-04-03T10:10:50.926Z"
   },
   {
    "duration": 15501,
    "start_time": "2023-04-03T10:10:59.942Z"
   },
   {
    "duration": 16224,
    "start_time": "2023-04-03T10:11:21.480Z"
   },
   {
    "duration": 21,
    "start_time": "2023-04-03T10:11:43.822Z"
   },
   {
    "duration": 14,
    "start_time": "2023-04-03T10:13:13.352Z"
   },
   {
    "duration": 368,
    "start_time": "2023-04-03T10:13:30.544Z"
   },
   {
    "duration": 13632,
    "start_time": "2023-04-03T10:13:33.361Z"
   },
   {
    "duration": 22,
    "start_time": "2023-04-03T10:16:26.446Z"
   },
   {
    "duration": 15,
    "start_time": "2023-04-03T10:16:31.653Z"
   },
   {
    "duration": 15,
    "start_time": "2023-04-03T10:16:39.457Z"
   },
   {
    "duration": 4,
    "start_time": "2023-04-03T10:16:54.722Z"
   },
   {
    "duration": 4,
    "start_time": "2023-04-03T10:17:04.668Z"
   },
   {
    "duration": 5,
    "start_time": "2023-04-03T10:17:05.767Z"
   },
   {
    "duration": 5,
    "start_time": "2023-04-03T10:17:15.277Z"
   },
   {
    "duration": 1543,
    "start_time": "2023-04-03T10:20:22.404Z"
   },
   {
    "duration": 778,
    "start_time": "2023-04-03T10:20:23.949Z"
   },
   {
    "duration": 20,
    "start_time": "2023-04-03T10:20:24.728Z"
   },
   {
    "duration": 18,
    "start_time": "2023-04-03T10:20:24.749Z"
   },
   {
    "duration": 26,
    "start_time": "2023-04-03T10:20:24.785Z"
   },
   {
    "duration": 20,
    "start_time": "2023-04-03T10:20:24.813Z"
   },
   {
    "duration": 10,
    "start_time": "2023-04-03T10:20:24.835Z"
   },
   {
    "duration": 29,
    "start_time": "2023-04-03T10:20:24.847Z"
   },
   {
    "duration": 43,
    "start_time": "2023-04-03T10:20:24.878Z"
   },
   {
    "duration": 16,
    "start_time": "2023-04-03T10:20:24.922Z"
   },
   {
    "duration": 36,
    "start_time": "2023-04-03T10:20:24.940Z"
   },
   {
    "duration": 146,
    "start_time": "2023-04-03T10:24:29.306Z"
   },
   {
    "duration": 27,
    "start_time": "2023-04-03T10:27:20.344Z"
   },
   {
    "duration": 10,
    "start_time": "2023-04-03T10:27:31.523Z"
   },
   {
    "duration": 1650,
    "start_time": "2023-04-03T10:27:37.412Z"
   },
   {
    "duration": 10,
    "start_time": "2023-04-03T10:27:43.785Z"
   },
   {
    "duration": 10,
    "start_time": "2023-04-03T10:29:31.763Z"
   },
   {
    "duration": 4,
    "start_time": "2023-04-03T10:29:47.026Z"
   },
   {
    "duration": 9,
    "start_time": "2023-04-03T10:29:49.300Z"
   },
   {
    "duration": 47,
    "start_time": "2023-04-03T10:31:23.960Z"
   },
   {
    "duration": 5,
    "start_time": "2023-04-03T10:33:04.484Z"
   },
   {
    "duration": 141,
    "start_time": "2023-04-03T10:33:17.393Z"
   },
   {
    "duration": 32,
    "start_time": "2023-04-03T10:33:22.143Z"
   },
   {
    "duration": 34,
    "start_time": "2023-04-03T10:36:15.681Z"
   },
   {
    "duration": 5,
    "start_time": "2023-04-03T10:36:20.573Z"
   },
   {
    "duration": 1729,
    "start_time": "2023-04-03T10:36:43.740Z"
   },
   {
    "duration": 29,
    "start_time": "2023-04-03T10:37:28.892Z"
   },
   {
    "duration": 44,
    "start_time": "2023-04-03T10:38:24.084Z"
   },
   {
    "duration": 5,
    "start_time": "2023-04-03T10:38:30.811Z"
   },
   {
    "duration": 5,
    "start_time": "2023-04-03T10:38:45.180Z"
   },
   {
    "duration": 4,
    "start_time": "2023-04-03T10:39:46.360Z"
   },
   {
    "duration": 26,
    "start_time": "2023-04-03T10:40:16.645Z"
   },
   {
    "duration": 6,
    "start_time": "2023-04-03T10:41:48.944Z"
   },
   {
    "duration": 30,
    "start_time": "2023-04-03T10:41:51.036Z"
   },
   {
    "duration": 1953,
    "start_time": "2023-04-03T10:42:02.991Z"
   },
   {
    "duration": 16,
    "start_time": "2023-04-03T10:42:08.220Z"
   },
   {
    "duration": 10,
    "start_time": "2023-04-03T10:42:08.477Z"
   },
   {
    "duration": 32,
    "start_time": "2023-04-03T10:42:08.775Z"
   },
   {
    "duration": 7,
    "start_time": "2023-04-03T10:42:09.508Z"
   },
   {
    "duration": 1449,
    "start_time": "2023-04-03T10:42:13.119Z"
   },
   {
    "duration": 789,
    "start_time": "2023-04-03T10:42:14.570Z"
   },
   {
    "duration": 18,
    "start_time": "2023-04-03T10:42:15.361Z"
   },
   {
    "duration": 35,
    "start_time": "2023-04-03T10:42:15.381Z"
   },
   {
    "duration": 20,
    "start_time": "2023-04-03T10:42:15.418Z"
   },
   {
    "duration": 31,
    "start_time": "2023-04-03T10:42:15.440Z"
   },
   {
    "duration": 42,
    "start_time": "2023-04-03T10:42:15.472Z"
   },
   {
    "duration": 33,
    "start_time": "2023-04-03T10:42:15.516Z"
   },
   {
    "duration": 61,
    "start_time": "2023-04-03T10:42:15.551Z"
   },
   {
    "duration": 25,
    "start_time": "2023-04-03T10:42:15.615Z"
   },
   {
    "duration": 26,
    "start_time": "2023-04-03T10:42:15.642Z"
   },
   {
    "duration": 8,
    "start_time": "2023-04-03T10:42:15.670Z"
   },
   {
    "duration": 1907,
    "start_time": "2023-04-03T10:42:15.682Z"
   },
   {
    "duration": 12,
    "start_time": "2023-04-03T10:42:28.990Z"
   },
   {
    "duration": 5,
    "start_time": "2023-04-03T10:42:31.711Z"
   },
   {
    "duration": 79,
    "start_time": "2023-04-03T10:43:16.637Z"
   },
   {
    "duration": 7,
    "start_time": "2023-04-03T10:43:21.983Z"
   },
   {
    "duration": 151,
    "start_time": "2023-04-03T10:43:31.274Z"
   },
   {
    "duration": 147,
    "start_time": "2023-04-03T10:43:39.838Z"
   },
   {
    "duration": 134,
    "start_time": "2023-04-03T10:43:43.261Z"
   },
   {
    "duration": 250,
    "start_time": "2023-04-03T10:43:59.469Z"
   },
   {
    "duration": 320,
    "start_time": "2023-04-03T10:44:04.015Z"
   },
   {
    "duration": 11,
    "start_time": "2023-04-03T10:44:16.867Z"
   },
   {
    "duration": 10517,
    "start_time": "2023-04-03T10:44:31.086Z"
   },
   {
    "duration": 13,
    "start_time": "2023-04-03T10:44:43.322Z"
   },
   {
    "duration": 31,
    "start_time": "2023-04-03T10:44:49.102Z"
   },
   {
    "duration": 6,
    "start_time": "2023-04-03T10:45:03.480Z"
   },
   {
    "duration": 277,
    "start_time": "2023-04-03T10:45:05.964Z"
   },
   {
    "duration": 265,
    "start_time": "2023-04-03T10:45:22.357Z"
   },
   {
    "duration": 257,
    "start_time": "2023-04-03T10:45:42.467Z"
   },
   {
    "duration": 268,
    "start_time": "2023-04-03T10:46:52.160Z"
   },
   {
    "duration": 258,
    "start_time": "2023-04-03T10:50:03.640Z"
   },
   {
    "duration": 289,
    "start_time": "2023-04-03T10:50:09.724Z"
   },
   {
    "duration": 18,
    "start_time": "2023-04-03T10:51:18.169Z"
   },
   {
    "duration": 12,
    "start_time": "2023-04-03T10:51:22.952Z"
   },
   {
    "duration": 35,
    "start_time": "2023-04-03T10:51:25.008Z"
   },
   {
    "duration": 13,
    "start_time": "2023-04-03T10:51:33.635Z"
   },
   {
    "duration": 15,
    "start_time": "2023-04-03T10:51:35.808Z"
   },
   {
    "duration": 43,
    "start_time": "2023-04-03T10:51:39.799Z"
   },
   {
    "duration": 28,
    "start_time": "2023-04-03T10:52:45.767Z"
   },
   {
    "duration": 750,
    "start_time": "2023-04-03T10:53:06.042Z"
   },
   {
    "duration": 11,
    "start_time": "2023-04-03T10:57:17.195Z"
   },
   {
    "duration": 542,
    "start_time": "2023-04-03T10:57:24.874Z"
   },
   {
    "duration": 497,
    "start_time": "2023-04-03T10:57:57.527Z"
   },
   {
    "duration": 668,
    "start_time": "2023-04-03T10:58:52.279Z"
   },
   {
    "duration": 734,
    "start_time": "2023-04-03T10:59:14.409Z"
   },
   {
    "duration": 747,
    "start_time": "2023-04-03T10:59:37.082Z"
   },
   {
    "duration": 764,
    "start_time": "2023-04-03T11:00:24.826Z"
   },
   {
    "duration": 2096,
    "start_time": "2023-04-03T11:08:13.295Z"
   },
   {
    "duration": 707,
    "start_time": "2023-04-03T11:08:37.614Z"
   },
   {
    "duration": 864,
    "start_time": "2023-04-03T11:08:47.414Z"
   },
   {
    "duration": 747,
    "start_time": "2023-04-03T11:09:07.365Z"
   },
   {
    "duration": 794,
    "start_time": "2023-04-03T11:09:20.984Z"
   },
   {
    "duration": 673,
    "start_time": "2023-04-03T11:09:48.570Z"
   },
   {
    "duration": 955,
    "start_time": "2023-04-03T11:10:38.045Z"
   },
   {
    "duration": 793,
    "start_time": "2023-04-03T11:11:28.583Z"
   },
   {
    "duration": 6,
    "start_time": "2023-04-03T11:11:43.042Z"
   },
   {
    "duration": 733,
    "start_time": "2023-04-03T11:11:46.059Z"
   },
   {
    "duration": 595,
    "start_time": "2023-04-03T11:11:51.924Z"
   },
   {
    "duration": 782,
    "start_time": "2023-04-03T11:14:06.561Z"
   },
   {
    "duration": 73,
    "start_time": "2023-04-03T11:14:18.650Z"
   },
   {
    "duration": 8,
    "start_time": "2023-04-03T11:14:23.596Z"
   },
   {
    "duration": 143,
    "start_time": "2023-04-03T11:14:27.117Z"
   },
   {
    "duration": 1749,
    "start_time": "2023-04-03T11:14:45.741Z"
   },
   {
    "duration": 111,
    "start_time": "2023-04-03T11:15:08.647Z"
   },
   {
    "duration": 140,
    "start_time": "2023-04-03T11:15:14.219Z"
   },
   {
    "duration": 4,
    "start_time": "2023-04-03T11:39:34.071Z"
   },
   {
    "duration": 113,
    "start_time": "2023-04-03T11:39:38.850Z"
   },
   {
    "duration": 159,
    "start_time": "2023-04-03T11:40:06.756Z"
   },
   {
    "duration": 219,
    "start_time": "2023-04-03T11:40:41.231Z"
   },
   {
    "duration": 5,
    "start_time": "2023-04-03T11:42:10.566Z"
   },
   {
    "duration": 561,
    "start_time": "2023-04-03T11:42:26.778Z"
   },
   {
    "duration": 5,
    "start_time": "2023-04-03T11:44:40.753Z"
   },
   {
    "duration": 888,
    "start_time": "2023-04-03T11:47:03.035Z"
   },
   {
    "duration": 153,
    "start_time": "2023-04-03T12:07:52.736Z"
   },
   {
    "duration": 6,
    "start_time": "2023-04-03T12:07:59.071Z"
   },
   {
    "duration": 844,
    "start_time": "2023-04-03T12:09:29.553Z"
   },
   {
    "duration": 7,
    "start_time": "2023-04-03T12:10:14.918Z"
   },
   {
    "duration": 15,
    "start_time": "2023-04-03T12:11:10.795Z"
   },
   {
    "duration": 6,
    "start_time": "2023-04-03T12:11:22.930Z"
   },
   {
    "duration": 434,
    "start_time": "2023-04-03T12:11:25.483Z"
   },
   {
    "duration": 11,
    "start_time": "2023-04-03T12:11:58.461Z"
   },
   {
    "duration": 251,
    "start_time": "2023-04-03T12:11:59.345Z"
   },
   {
    "duration": 395,
    "start_time": "2023-04-03T12:12:18.754Z"
   },
   {
    "duration": 974,
    "start_time": "2023-04-03T12:12:24.127Z"
   },
   {
    "duration": 30,
    "start_time": "2023-04-03T12:12:58.551Z"
   },
   {
    "duration": 801,
    "start_time": "2023-04-03T12:12:59.312Z"
   },
   {
    "duration": 31,
    "start_time": "2023-04-03T12:13:11.004Z"
   },
   {
    "duration": 24,
    "start_time": "2023-04-03T12:13:26.392Z"
   },
   {
    "duration": 22,
    "start_time": "2023-04-03T12:13:33.765Z"
   },
   {
    "duration": 10,
    "start_time": "2023-04-03T12:13:43.714Z"
   },
   {
    "duration": 19,
    "start_time": "2023-04-03T12:13:47.812Z"
   },
   {
    "duration": 1397,
    "start_time": "2023-04-03T12:13:49.202Z"
   },
   {
    "duration": 6,
    "start_time": "2023-04-03T12:13:59.588Z"
   },
   {
    "duration": 2433,
    "start_time": "2023-04-03T12:14:00.009Z"
   },
   {
    "duration": 577,
    "start_time": "2023-04-03T12:14:47.701Z"
   },
   {
    "duration": 11,
    "start_time": "2023-04-03T12:15:52.311Z"
   },
   {
    "duration": 228,
    "start_time": "2023-04-03T12:15:53.123Z"
   },
   {
    "duration": 9,
    "start_time": "2023-04-03T12:18:16.753Z"
   },
   {
    "duration": 282,
    "start_time": "2023-04-03T12:18:17.116Z"
   },
   {
    "duration": 1079,
    "start_time": "2023-04-03T12:18:29.117Z"
   },
   {
    "duration": 10,
    "start_time": "2023-04-03T12:19:05.410Z"
   },
   {
    "duration": 1185,
    "start_time": "2023-04-03T12:19:11.386Z"
   },
   {
    "duration": 12,
    "start_time": "2023-04-03T12:19:15.378Z"
   },
   {
    "duration": 1219,
    "start_time": "2023-04-03T12:19:15.844Z"
   },
   {
    "duration": 3,
    "start_time": "2023-04-03T12:19:52.803Z"
   },
   {
    "duration": 4,
    "start_time": "2023-04-03T12:19:56.809Z"
   },
   {
    "duration": 4,
    "start_time": "2023-04-03T12:19:57.808Z"
   },
   {
    "duration": 1622,
    "start_time": "2023-04-03T12:20:05.374Z"
   },
   {
    "duration": 804,
    "start_time": "2023-04-03T12:20:06.998Z"
   },
   {
    "duration": 21,
    "start_time": "2023-04-03T12:20:07.804Z"
   },
   {
    "duration": 35,
    "start_time": "2023-04-03T12:20:07.827Z"
   },
   {
    "duration": 22,
    "start_time": "2023-04-03T12:20:07.865Z"
   },
   {
    "duration": 15,
    "start_time": "2023-04-03T12:20:07.889Z"
   },
   {
    "duration": 14,
    "start_time": "2023-04-03T12:20:07.906Z"
   },
   {
    "duration": 10,
    "start_time": "2023-04-03T12:20:07.922Z"
   },
   {
    "duration": 55,
    "start_time": "2023-04-03T12:20:07.935Z"
   },
   {
    "duration": 16,
    "start_time": "2023-04-03T12:20:07.992Z"
   },
   {
    "duration": 26,
    "start_time": "2023-04-03T12:20:08.010Z"
   },
   {
    "duration": 7,
    "start_time": "2023-04-03T12:20:08.038Z"
   },
   {
    "duration": 339,
    "start_time": "2023-04-03T12:20:08.047Z"
   },
   {
    "duration": 289,
    "start_time": "2023-04-03T12:20:08.390Z"
   },
   {
    "duration": 273,
    "start_time": "2023-04-03T12:20:08.681Z"
   },
   {
    "duration": 33,
    "start_time": "2023-04-03T12:20:08.956Z"
   },
   {
    "duration": 803,
    "start_time": "2023-04-03T12:20:08.991Z"
   },
   {
    "duration": 759,
    "start_time": "2023-04-03T12:20:09.796Z"
   },
   {
    "duration": 862,
    "start_time": "2023-04-03T12:20:10.557Z"
   },
   {
    "duration": 928,
    "start_time": "2023-04-03T12:20:11.421Z"
   },
   {
    "duration": 1004,
    "start_time": "2023-04-03T12:20:12.350Z"
   },
   {
    "duration": 8,
    "start_time": "2023-04-03T12:20:13.357Z"
   },
   {
    "duration": 666,
    "start_time": "2023-04-03T12:20:13.384Z"
   },
   {
    "duration": 9,
    "start_time": "2023-04-03T12:20:14.053Z"
   },
   {
    "duration": 24,
    "start_time": "2023-04-03T12:20:14.065Z"
   },
   {
    "duration": 18,
    "start_time": "2023-04-03T12:20:14.091Z"
   },
   {
    "duration": 4,
    "start_time": "2023-04-03T12:25:24.052Z"
   },
   {
    "duration": 5,
    "start_time": "2023-04-03T12:25:26.566Z"
   },
   {
    "duration": 5,
    "start_time": "2023-04-03T12:36:58.859Z"
   },
   {
    "duration": 5,
    "start_time": "2023-04-03T12:37:42.609Z"
   },
   {
    "duration": 49,
    "start_time": "2023-04-03T12:37:46.413Z"
   },
   {
    "duration": 260,
    "start_time": "2023-04-03T12:41:26.412Z"
   },
   {
    "duration": 19,
    "start_time": "2023-04-03T12:44:23.736Z"
   },
   {
    "duration": 15,
    "start_time": "2023-04-03T12:45:09.497Z"
   },
   {
    "duration": 8,
    "start_time": "2023-04-03T12:46:00.456Z"
   },
   {
    "duration": 6,
    "start_time": "2023-04-03T12:46:01.775Z"
   },
   {
    "duration": 1411,
    "start_time": "2023-04-03T12:47:02.102Z"
   },
   {
    "duration": 784,
    "start_time": "2023-04-03T12:47:03.515Z"
   },
   {
    "duration": 19,
    "start_time": "2023-04-03T12:47:04.302Z"
   },
   {
    "duration": 15,
    "start_time": "2023-04-03T12:47:04.322Z"
   },
   {
    "duration": 13,
    "start_time": "2023-04-03T12:47:04.339Z"
   },
   {
    "duration": 32,
    "start_time": "2023-04-03T12:47:04.354Z"
   },
   {
    "duration": 40,
    "start_time": "2023-04-03T12:47:04.390Z"
   },
   {
    "duration": 42,
    "start_time": "2023-04-03T12:47:04.432Z"
   },
   {
    "duration": 55,
    "start_time": "2023-04-03T12:47:04.476Z"
   },
   {
    "duration": 15,
    "start_time": "2023-04-03T12:47:04.533Z"
   },
   {
    "duration": 27,
    "start_time": "2023-04-03T12:47:04.549Z"
   },
   {
    "duration": 12,
    "start_time": "2023-04-03T12:47:04.579Z"
   },
   {
    "duration": 329,
    "start_time": "2023-04-03T12:47:04.599Z"
   },
   {
    "duration": 272,
    "start_time": "2023-04-03T12:47:04.930Z"
   },
   {
    "duration": 321,
    "start_time": "2023-04-03T12:47:05.207Z"
   },
   {
    "duration": 22,
    "start_time": "2023-04-03T12:47:05.531Z"
   },
   {
    "duration": 796,
    "start_time": "2023-04-03T12:47:05.555Z"
   },
   {
    "duration": 685,
    "start_time": "2023-04-03T12:47:06.353Z"
   },
   {
    "duration": 786,
    "start_time": "2023-04-03T12:47:07.039Z"
   },
   {
    "duration": 912,
    "start_time": "2023-04-03T12:47:07.827Z"
   },
   {
    "duration": 1064,
    "start_time": "2023-04-03T12:47:08.742Z"
   },
   {
    "duration": 12,
    "start_time": "2023-04-03T12:47:09.808Z"
   },
   {
    "duration": 709,
    "start_time": "2023-04-03T12:47:09.822Z"
   },
   {
    "duration": 9,
    "start_time": "2023-04-03T12:47:10.533Z"
   },
   {
    "duration": 11,
    "start_time": "2023-04-03T12:47:10.543Z"
   },
   {
    "duration": 19,
    "start_time": "2023-04-03T12:47:10.556Z"
   },
   {
    "duration": 42,
    "start_time": "2023-04-03T12:47:10.576Z"
   },
   {
    "duration": 3,
    "start_time": "2023-04-03T12:48:55.854Z"
   },
   {
    "duration": 3,
    "start_time": "2023-04-03T12:48:57.010Z"
   },
   {
    "duration": 3,
    "start_time": "2023-04-03T12:49:16.534Z"
   },
   {
    "duration": 2,
    "start_time": "2023-04-03T12:49:56.417Z"
   },
   {
    "duration": 5,
    "start_time": "2023-04-03T12:52:15.545Z"
   },
   {
    "duration": 5,
    "start_time": "2023-04-03T12:52:25.103Z"
   },
   {
    "duration": 1398,
    "start_time": "2023-04-03T12:54:55.556Z"
   },
   {
    "duration": 745,
    "start_time": "2023-04-03T12:54:56.958Z"
   },
   {
    "duration": 19,
    "start_time": "2023-04-03T12:54:57.707Z"
   },
   {
    "duration": 16,
    "start_time": "2023-04-03T12:54:57.728Z"
   },
   {
    "duration": 45,
    "start_time": "2023-04-03T12:54:57.745Z"
   },
   {
    "duration": 17,
    "start_time": "2023-04-03T12:54:57.792Z"
   },
   {
    "duration": 30,
    "start_time": "2023-04-03T12:54:57.811Z"
   },
   {
    "duration": 6,
    "start_time": "2023-04-03T12:54:57.842Z"
   },
   {
    "duration": 86,
    "start_time": "2023-04-03T12:54:57.849Z"
   },
   {
    "duration": 17,
    "start_time": "2023-04-03T12:54:57.937Z"
   },
   {
    "duration": 33,
    "start_time": "2023-04-03T12:54:57.957Z"
   },
   {
    "duration": 27,
    "start_time": "2023-04-03T12:54:57.992Z"
   },
   {
    "duration": 312,
    "start_time": "2023-04-03T12:54:58.023Z"
   },
   {
    "duration": 347,
    "start_time": "2023-04-03T12:54:58.338Z"
   },
   {
    "duration": 257,
    "start_time": "2023-04-03T12:54:58.695Z"
   },
   {
    "duration": 17,
    "start_time": "2023-04-03T12:54:58.955Z"
   },
   {
    "duration": 759,
    "start_time": "2023-04-03T12:54:58.985Z"
   },
   {
    "duration": 757,
    "start_time": "2023-04-03T12:54:59.747Z"
   },
   {
    "duration": 853,
    "start_time": "2023-04-03T12:55:00.506Z"
   },
   {
    "duration": 901,
    "start_time": "2023-04-03T12:55:01.360Z"
   },
   {
    "duration": 1028,
    "start_time": "2023-04-03T12:55:02.264Z"
   },
   {
    "duration": 11,
    "start_time": "2023-04-03T12:55:03.294Z"
   },
   {
    "duration": 672,
    "start_time": "2023-04-03T12:55:03.307Z"
   },
   {
    "duration": 15,
    "start_time": "2023-04-03T12:55:03.983Z"
   },
   {
    "duration": 31,
    "start_time": "2023-04-03T12:55:04.003Z"
   },
   {
    "duration": 35,
    "start_time": "2023-04-03T12:55:04.035Z"
   },
   {
    "duration": 59,
    "start_time": "2023-04-03T12:55:04.072Z"
   },
   {
    "duration": 46,
    "start_time": "2023-04-03T12:55:04.134Z"
   },
   {
    "duration": 93,
    "start_time": "2023-04-03T12:55:04.182Z"
   },
   {
    "duration": 111,
    "start_time": "2023-04-03T12:57:22.954Z"
   },
   {
    "duration": 3,
    "start_time": "2023-04-03T12:57:47.749Z"
   },
   {
    "duration": 5,
    "start_time": "2023-04-03T12:58:05.701Z"
   },
   {
    "duration": 3,
    "start_time": "2023-04-03T12:59:03.361Z"
   },
   {
    "duration": 34,
    "start_time": "2023-04-03T13:00:00.686Z"
   },
   {
    "duration": 162,
    "start_time": "2023-04-03T13:02:21.910Z"
   },
   {
    "duration": 3,
    "start_time": "2023-04-03T13:02:46.852Z"
   },
   {
    "duration": 3,
    "start_time": "2023-04-03T13:03:07.997Z"
   },
   {
    "duration": 3,
    "start_time": "2023-04-03T13:03:26.949Z"
   },
   {
    "duration": 3,
    "start_time": "2023-04-03T13:05:16.848Z"
   },
   {
    "duration": 3,
    "start_time": "2023-04-03T13:05:18.373Z"
   },
   {
    "duration": 4,
    "start_time": "2023-04-03T13:05:18.697Z"
   },
   {
    "duration": 5,
    "start_time": "2023-04-03T13:05:20.157Z"
   },
   {
    "duration": 14,
    "start_time": "2023-04-03T13:05:44.711Z"
   },
   {
    "duration": 58082,
    "start_time": "2023-04-03T13:06:19.733Z"
   },
   {
    "duration": 3,
    "start_time": "2023-04-03T13:07:23.277Z"
   },
   {
    "duration": 6,
    "start_time": "2023-04-03T13:07:47.480Z"
   },
   {
    "duration": 10,
    "start_time": "2023-04-03T13:08:09.353Z"
   },
   {
    "duration": 9,
    "start_time": "2023-04-03T13:08:11.367Z"
   },
   {
    "duration": 3,
    "start_time": "2023-04-03T13:08:27.021Z"
   },
   {
    "duration": 3,
    "start_time": "2023-04-03T13:08:27.407Z"
   },
   {
    "duration": 3,
    "start_time": "2023-04-03T13:08:27.841Z"
   },
   {
    "duration": 3,
    "start_time": "2023-04-03T13:08:28.538Z"
   },
   {
    "duration": 71741,
    "start_time": "2023-04-03T13:08:30.140Z"
   },
   {
    "duration": 13,
    "start_time": "2023-04-03T13:09:41.885Z"
   },
   {
    "duration": 10,
    "start_time": "2023-04-03T13:09:57.865Z"
   },
   {
    "duration": 4,
    "start_time": "2023-04-03T13:10:34.422Z"
   },
   {
    "duration": 9,
    "start_time": "2023-04-03T13:10:51.358Z"
   },
   {
    "duration": 8,
    "start_time": "2023-04-03T13:11:23.102Z"
   },
   {
    "duration": 9,
    "start_time": "2023-04-03T13:11:25.128Z"
   },
   {
    "duration": 4,
    "start_time": "2023-04-03T13:11:31.015Z"
   },
   {
    "duration": 4,
    "start_time": "2023-04-03T13:13:03.769Z"
   },
   {
    "duration": 3,
    "start_time": "2023-04-03T13:13:04.126Z"
   },
   {
    "duration": 4,
    "start_time": "2023-04-03T13:13:04.659Z"
   },
   {
    "duration": 214189,
    "start_time": "2023-04-03T13:14:08.874Z"
   },
   {
    "duration": 5,
    "start_time": "2023-04-03T13:17:43.066Z"
   },
   {
    "duration": 4,
    "start_time": "2023-04-03T13:21:23.209Z"
   },
   {
    "duration": 3,
    "start_time": "2023-04-03T13:21:23.772Z"
   },
   {
    "duration": 5,
    "start_time": "2023-04-03T13:21:25.412Z"
   },
   {
    "duration": 8778304,
    "start_time": "2023-04-03T13:21:27.736Z"
   },
   {
    "duration": 0,
    "start_time": "2023-04-03T15:47:46.042Z"
   },
   {
    "duration": 0,
    "start_time": "2023-04-03T15:47:46.045Z"
   },
   {
    "duration": 0,
    "start_time": "2023-04-03T15:47:46.051Z"
   },
   {
    "duration": 0,
    "start_time": "2023-04-03T15:47:46.053Z"
   },
   {
    "duration": 0,
    "start_time": "2023-04-03T15:47:46.054Z"
   },
   {
    "duration": 4,
    "start_time": "2023-04-03T15:51:48.386Z"
   },
   {
    "duration": 5,
    "start_time": "2023-04-03T15:51:55.254Z"
   },
   {
    "duration": 4,
    "start_time": "2023-04-03T15:52:16.853Z"
   },
   {
    "duration": 539693,
    "start_time": "2023-04-03T15:52:18.366Z"
   },
   {
    "duration": 4,
    "start_time": "2023-04-03T16:03:33.587Z"
   },
   {
    "duration": 3,
    "start_time": "2023-04-03T16:03:58.568Z"
   },
   {
    "duration": 4,
    "start_time": "2023-04-03T16:04:02.228Z"
   },
   {
    "duration": 4,
    "start_time": "2023-04-03T16:05:47.082Z"
   },
   {
    "duration": 4,
    "start_time": "2023-04-03T16:05:52.656Z"
   },
   {
    "duration": 12,
    "start_time": "2023-04-03T16:07:07.840Z"
   },
   {
    "duration": 15,
    "start_time": "2023-04-03T16:07:12.132Z"
   },
   {
    "duration": 14,
    "start_time": "2023-04-03T16:07:32.136Z"
   },
   {
    "duration": 16,
    "start_time": "2023-04-03T16:07:43.886Z"
   },
   {
    "duration": 17,
    "start_time": "2023-04-03T16:07:47.419Z"
   },
   {
    "duration": 16,
    "start_time": "2023-04-03T16:08:01.035Z"
   },
   {
    "duration": 11,
    "start_time": "2023-04-03T16:08:20.373Z"
   },
   {
    "duration": 7,
    "start_time": "2023-04-03T16:08:55.716Z"
   },
   {
    "duration": 29,
    "start_time": "2023-04-03T16:08:57.735Z"
   },
   {
    "duration": 7,
    "start_time": "2023-04-03T16:09:37.696Z"
   },
   {
    "duration": 3,
    "start_time": "2023-04-03T16:09:43.056Z"
   },
   {
    "duration": 11,
    "start_time": "2023-04-03T16:12:25.034Z"
   },
   {
    "duration": 13,
    "start_time": "2023-04-03T16:12:34.098Z"
   },
   {
    "duration": 28,
    "start_time": "2023-04-03T16:12:46.431Z"
   },
   {
    "duration": 9,
    "start_time": "2023-04-03T16:13:13.434Z"
   },
   {
    "duration": 29,
    "start_time": "2023-04-03T16:14:01.125Z"
   },
   {
    "duration": 17,
    "start_time": "2023-04-03T16:17:17.433Z"
   },
   {
    "duration": 5,
    "start_time": "2023-04-03T16:17:24.665Z"
   },
   {
    "duration": 10,
    "start_time": "2023-04-03T16:17:29.271Z"
   },
   {
    "duration": 4,
    "start_time": "2023-04-03T16:17:35.973Z"
   },
   {
    "duration": 4,
    "start_time": "2023-04-03T16:17:43.965Z"
   },
   {
    "duration": 20,
    "start_time": "2023-04-03T16:18:11.528Z"
   },
   {
    "duration": 19,
    "start_time": "2023-04-03T16:18:56.618Z"
   },
   {
    "duration": 11,
    "start_time": "2023-04-03T16:19:52.739Z"
   },
   {
    "duration": 12,
    "start_time": "2023-04-03T16:20:03.307Z"
   },
   {
    "duration": 5,
    "start_time": "2023-04-03T16:20:12.187Z"
   },
   {
    "duration": 17,
    "start_time": "2023-04-03T16:20:31.190Z"
   },
   {
    "duration": 5,
    "start_time": "2023-04-03T16:20:39.927Z"
   },
   {
    "duration": 6,
    "start_time": "2023-04-03T16:21:16.123Z"
   },
   {
    "duration": 15,
    "start_time": "2023-04-03T16:21:44.266Z"
   },
   {
    "duration": 16,
    "start_time": "2023-04-03T16:21:49.622Z"
   },
   {
    "duration": 4,
    "start_time": "2023-04-03T16:22:20.326Z"
   },
   {
    "duration": 6,
    "start_time": "2023-04-03T16:24:11.855Z"
   },
   {
    "duration": 43,
    "start_time": "2023-04-03T16:24:20.866Z"
   },
   {
    "duration": 14,
    "start_time": "2023-04-03T16:24:46.726Z"
   },
   {
    "duration": 12,
    "start_time": "2023-04-03T16:24:52.841Z"
   },
   {
    "duration": 27,
    "start_time": "2023-04-03T16:24:55.938Z"
   },
   {
    "duration": 11,
    "start_time": "2023-04-03T16:24:56.538Z"
   },
   {
    "duration": 9,
    "start_time": "2023-04-03T16:24:57.013Z"
   },
   {
    "duration": 14,
    "start_time": "2023-04-03T16:25:11.388Z"
   },
   {
    "duration": 3,
    "start_time": "2023-04-03T16:27:08.878Z"
   },
   {
    "duration": 12,
    "start_time": "2023-04-03T16:28:04.369Z"
   },
   {
    "duration": 19,
    "start_time": "2023-04-03T16:28:21.540Z"
   },
   {
    "duration": 24,
    "start_time": "2023-04-03T16:28:39.533Z"
   },
   {
    "duration": 8,
    "start_time": "2023-04-03T16:29:15.609Z"
   },
   {
    "duration": 9,
    "start_time": "2023-04-03T16:29:37.920Z"
   },
   {
    "duration": 9,
    "start_time": "2023-04-03T16:30:33.745Z"
   },
   {
    "duration": 11,
    "start_time": "2023-04-03T16:30:47.057Z"
   },
   {
    "duration": 5,
    "start_time": "2023-04-03T16:30:51.428Z"
   },
   {
    "duration": 12,
    "start_time": "2023-04-03T16:33:31.744Z"
   },
   {
    "duration": 4,
    "start_time": "2023-04-03T16:34:54.511Z"
   },
   {
    "duration": 4,
    "start_time": "2023-04-03T16:37:51.119Z"
   },
   {
    "duration": 15,
    "start_time": "2023-04-03T16:44:02.026Z"
   },
   {
    "duration": 302,
    "start_time": "2023-04-03T16:45:04.453Z"
   },
   {
    "duration": 305,
    "start_time": "2023-04-03T16:45:08.302Z"
   },
   {
    "duration": 429,
    "start_time": "2023-04-03T16:45:14.429Z"
   },
   {
    "duration": 627,
    "start_time": "2023-04-03T16:45:50.725Z"
   },
   {
    "duration": 602,
    "start_time": "2023-04-03T16:48:02.972Z"
   },
   {
    "duration": 731,
    "start_time": "2023-04-03T16:48:17.216Z"
   },
   {
    "duration": 443,
    "start_time": "2023-04-03T16:48:29.020Z"
   },
   {
    "duration": 718,
    "start_time": "2023-04-03T16:48:42.972Z"
   },
   {
    "duration": 468,
    "start_time": "2023-04-03T16:48:51.432Z"
   },
   {
    "duration": 502,
    "start_time": "2023-04-03T16:49:00.948Z"
   },
   {
    "duration": 804,
    "start_time": "2023-04-03T16:49:20.015Z"
   },
   {
    "duration": 666,
    "start_time": "2023-04-03T16:49:27.056Z"
   },
   {
    "duration": 811,
    "start_time": "2023-04-03T16:50:02.463Z"
   },
   {
    "duration": 819,
    "start_time": "2023-04-03T16:50:49.202Z"
   },
   {
    "duration": 1061,
    "start_time": "2023-04-03T16:51:14.351Z"
   },
   {
    "duration": 896,
    "start_time": "2023-04-03T16:52:10.355Z"
   },
   {
    "duration": 1058,
    "start_time": "2023-04-03T16:52:34.910Z"
   },
   {
    "duration": 9,
    "start_time": "2023-04-03T16:53:36.330Z"
   },
   {
    "duration": 620,
    "start_time": "2023-04-03T16:54:58.501Z"
   },
   {
    "duration": 6,
    "start_time": "2023-04-03T16:55:18.726Z"
   },
   {
    "duration": 6,
    "start_time": "2023-04-03T16:55:38.653Z"
   },
   {
    "duration": 3,
    "start_time": "2023-04-03T16:56:15.217Z"
   },
   {
    "duration": 3,
    "start_time": "2023-04-03T16:57:47.101Z"
   },
   {
    "duration": 3,
    "start_time": "2023-04-03T16:58:12.728Z"
   },
   {
    "duration": 10,
    "start_time": "2023-04-03T16:58:43.513Z"
   },
   {
    "duration": 2,
    "start_time": "2023-04-03T16:58:53.269Z"
   },
   {
    "duration": 5,
    "start_time": "2023-04-03T16:59:05.236Z"
   },
   {
    "duration": 95,
    "start_time": "2023-04-03T16:59:41.268Z"
   },
   {
    "duration": 4,
    "start_time": "2023-04-03T16:59:47.029Z"
   },
   {
    "duration": 3,
    "start_time": "2023-04-03T17:00:06.701Z"
   },
   {
    "duration": 3,
    "start_time": "2023-04-03T17:00:11.309Z"
   },
   {
    "duration": 5,
    "start_time": "2023-04-03T17:05:34.500Z"
   },
   {
    "duration": 8,
    "start_time": "2023-04-03T17:08:16.618Z"
   },
   {
    "duration": 6,
    "start_time": "2023-04-03T17:09:21.010Z"
   },
   {
    "duration": 1418,
    "start_time": "2023-04-03T17:17:37.511Z"
   },
   {
    "duration": 759,
    "start_time": "2023-04-03T17:17:38.931Z"
   },
   {
    "duration": 25,
    "start_time": "2023-04-03T17:17:39.693Z"
   },
   {
    "duration": 19,
    "start_time": "2023-04-03T17:17:39.720Z"
   },
   {
    "duration": 14,
    "start_time": "2023-04-03T17:17:39.742Z"
   },
   {
    "duration": 25,
    "start_time": "2023-04-03T17:17:39.784Z"
   },
   {
    "duration": 20,
    "start_time": "2023-04-03T17:17:39.811Z"
   },
   {
    "duration": 29,
    "start_time": "2023-04-03T17:17:39.832Z"
   },
   {
    "duration": 46,
    "start_time": "2023-04-03T17:17:39.863Z"
   },
   {
    "duration": 14,
    "start_time": "2023-04-03T17:17:39.910Z"
   },
   {
    "duration": 31,
    "start_time": "2023-04-03T17:17:39.926Z"
   },
   {
    "duration": 5,
    "start_time": "2023-04-03T17:17:39.959Z"
   },
   {
    "duration": 297,
    "start_time": "2023-04-03T17:17:39.966Z"
   },
   {
    "duration": 307,
    "start_time": "2023-04-03T17:17:40.267Z"
   },
   {
    "duration": 377,
    "start_time": "2023-04-03T17:17:40.575Z"
   },
   {
    "duration": 17,
    "start_time": "2023-04-03T17:17:40.954Z"
   },
   {
    "duration": 668,
    "start_time": "2023-04-03T17:17:40.983Z"
   },
   {
    "duration": 812,
    "start_time": "2023-04-03T17:17:41.653Z"
   },
   {
    "duration": 704,
    "start_time": "2023-04-03T17:17:42.467Z"
   },
   {
    "duration": 998,
    "start_time": "2023-04-03T17:17:43.172Z"
   },
   {
    "duration": 885,
    "start_time": "2023-04-03T17:17:44.172Z"
   },
   {
    "duration": 26,
    "start_time": "2023-04-03T17:17:45.059Z"
   },
   {
    "duration": 850,
    "start_time": "2023-04-03T17:17:45.088Z"
   },
   {
    "duration": 7,
    "start_time": "2023-04-03T17:17:45.939Z"
   },
   {
    "duration": 17,
    "start_time": "2023-04-03T17:17:45.948Z"
   },
   {
    "duration": 9,
    "start_time": "2023-04-03T17:17:45.967Z"
   },
   {
    "duration": 14,
    "start_time": "2023-04-03T17:17:45.978Z"
   },
   {
    "duration": 22,
    "start_time": "2023-04-03T17:17:45.994Z"
   },
   {
    "duration": 19,
    "start_time": "2023-04-03T17:17:46.018Z"
   },
   {
    "duration": 13,
    "start_time": "2023-04-03T17:17:46.039Z"
   },
   {
    "duration": 8,
    "start_time": "2023-04-03T17:17:46.054Z"
   },
   {
    "duration": 7,
    "start_time": "2023-04-03T17:17:46.064Z"
   },
   {
    "duration": 31897,
    "start_time": "2023-04-03T17:17:46.073Z"
   },
   {
    "duration": 0,
    "start_time": "2023-04-03T17:18:17.972Z"
   },
   {
    "duration": 0,
    "start_time": "2023-04-03T17:18:17.974Z"
   },
   {
    "duration": 0,
    "start_time": "2023-04-03T17:18:17.983Z"
   },
   {
    "duration": 0,
    "start_time": "2023-04-03T17:18:17.984Z"
   },
   {
    "duration": 0,
    "start_time": "2023-04-03T17:18:17.985Z"
   },
   {
    "duration": 0,
    "start_time": "2023-04-03T17:18:17.985Z"
   },
   {
    "duration": 0,
    "start_time": "2023-04-03T17:18:17.986Z"
   },
   {
    "duration": 0,
    "start_time": "2023-04-03T17:18:17.987Z"
   },
   {
    "duration": 0,
    "start_time": "2023-04-03T17:18:17.989Z"
   },
   {
    "duration": 0,
    "start_time": "2023-04-03T17:18:17.989Z"
   },
   {
    "duration": 0,
    "start_time": "2023-04-03T17:18:17.990Z"
   },
   {
    "duration": 1472,
    "start_time": "2023-04-03T17:19:02.733Z"
   },
   {
    "duration": 745,
    "start_time": "2023-04-03T17:19:04.207Z"
   },
   {
    "duration": 22,
    "start_time": "2023-04-03T17:19:04.954Z"
   },
   {
    "duration": 28,
    "start_time": "2023-04-03T17:19:04.983Z"
   },
   {
    "duration": 14,
    "start_time": "2023-04-03T17:19:05.013Z"
   },
   {
    "duration": 28,
    "start_time": "2023-04-03T17:19:05.029Z"
   },
   {
    "duration": 26,
    "start_time": "2023-04-03T17:19:05.059Z"
   },
   {
    "duration": 21,
    "start_time": "2023-04-03T17:19:05.086Z"
   },
   {
    "duration": 32,
    "start_time": "2023-04-03T17:19:05.109Z"
   },
   {
    "duration": 13,
    "start_time": "2023-04-03T17:19:05.144Z"
   },
   {
    "duration": 38,
    "start_time": "2023-04-03T17:19:05.159Z"
   },
   {
    "duration": 5,
    "start_time": "2023-04-03T17:19:05.199Z"
   },
   {
    "duration": 271,
    "start_time": "2023-04-03T17:19:05.206Z"
   },
   {
    "duration": 264,
    "start_time": "2023-04-03T17:19:05.483Z"
   },
   {
    "duration": 343,
    "start_time": "2023-04-03T17:19:05.749Z"
   },
   {
    "duration": 15,
    "start_time": "2023-04-03T17:19:06.094Z"
   },
   {
    "duration": 594,
    "start_time": "2023-04-03T17:19:06.111Z"
   },
   {
    "duration": 703,
    "start_time": "2023-04-03T17:19:06.707Z"
   },
   {
    "duration": 638,
    "start_time": "2023-04-03T17:19:07.412Z"
   },
   {
    "duration": 935,
    "start_time": "2023-04-03T17:19:08.052Z"
   },
   {
    "duration": 855,
    "start_time": "2023-04-03T17:19:08.989Z"
   },
   {
    "duration": 10,
    "start_time": "2023-04-03T17:19:09.847Z"
   },
   {
    "duration": 859,
    "start_time": "2023-04-03T17:19:09.859Z"
   },
   {
    "duration": 7,
    "start_time": "2023-04-03T17:19:10.720Z"
   },
   {
    "duration": 34,
    "start_time": "2023-04-03T17:19:10.728Z"
   },
   {
    "duration": 20,
    "start_time": "2023-04-03T17:19:10.764Z"
   },
   {
    "duration": 36,
    "start_time": "2023-04-03T17:19:10.786Z"
   },
   {
    "duration": 26,
    "start_time": "2023-04-03T17:19:10.825Z"
   },
   {
    "duration": 32,
    "start_time": "2023-04-03T17:19:10.853Z"
   },
   {
    "duration": 33,
    "start_time": "2023-04-03T17:19:10.887Z"
   },
   {
    "duration": 428455,
    "start_time": "2023-04-03T17:19:10.921Z"
   },
   {
    "duration": 8,
    "start_time": "2023-04-03T17:26:19.377Z"
   },
   {
    "duration": 26,
    "start_time": "2023-04-03T17:26:19.387Z"
   },
   {
    "duration": 15,
    "start_time": "2023-04-03T17:26:19.415Z"
   },
   {
    "duration": 17,
    "start_time": "2023-04-03T17:26:19.431Z"
   },
   {
    "duration": 14,
    "start_time": "2023-04-03T17:26:19.449Z"
   },
   {
    "duration": 16,
    "start_time": "2023-04-03T17:26:19.465Z"
   },
   {
    "duration": 66,
    "start_time": "2023-04-03T17:26:19.483Z"
   },
   {
    "duration": 8,
    "start_time": "2023-04-03T17:26:19.551Z"
   },
   {
    "duration": 45,
    "start_time": "2023-04-03T17:26:19.561Z"
   },
   {
    "duration": 35,
    "start_time": "2023-04-03T17:26:19.607Z"
   },
   {
    "duration": 4,
    "start_time": "2023-04-03T17:26:19.644Z"
   },
   {
    "duration": 52,
    "start_time": "2023-04-04T10:42:56.294Z"
   },
   {
    "duration": 120,
    "start_time": "2023-04-04T10:49:45.162Z"
   },
   {
    "duration": 7,
    "start_time": "2023-04-04T10:50:35.339Z"
   },
   {
    "duration": 1539,
    "start_time": "2023-04-04T10:50:54.511Z"
   },
   {
    "duration": 2811,
    "start_time": "2023-04-04T10:50:56.053Z"
   },
   {
    "duration": 18,
    "start_time": "2023-04-04T10:50:58.865Z"
   },
   {
    "duration": 16,
    "start_time": "2023-04-04T10:50:58.885Z"
   },
   {
    "duration": 12,
    "start_time": "2023-04-04T10:50:58.903Z"
   },
   {
    "duration": 11,
    "start_time": "2023-04-04T10:50:58.917Z"
   },
   {
    "duration": 8,
    "start_time": "2023-04-04T10:50:59.905Z"
   },
   {
    "duration": 6,
    "start_time": "2023-04-04T10:51:02.881Z"
   },
   {
    "duration": 24,
    "start_time": "2023-04-04T10:51:04.353Z"
   },
   {
    "duration": 12,
    "start_time": "2023-04-04T10:51:05.266Z"
   },
   {
    "duration": 23,
    "start_time": "2023-04-04T10:51:05.706Z"
   },
   {
    "duration": 5,
    "start_time": "2023-04-04T10:51:06.615Z"
   },
   {
    "duration": 239,
    "start_time": "2023-04-04T10:51:09.863Z"
   },
   {
    "duration": 223,
    "start_time": "2023-04-04T10:51:10.346Z"
   },
   {
    "duration": 290,
    "start_time": "2023-04-04T10:51:11.129Z"
   },
   {
    "duration": 12,
    "start_time": "2023-04-04T10:51:12.108Z"
   },
   {
    "duration": 534,
    "start_time": "2023-04-04T10:51:15.321Z"
   },
   {
    "duration": 638,
    "start_time": "2023-04-04T10:51:15.858Z"
   },
   {
    "duration": 556,
    "start_time": "2023-04-04T10:51:17.749Z"
   },
   {
    "duration": 808,
    "start_time": "2023-04-04T10:51:20.262Z"
   },
   {
    "duration": 756,
    "start_time": "2023-04-04T10:51:21.281Z"
   },
   {
    "duration": 7,
    "start_time": "2023-04-04T11:39:39.045Z"
   },
   {
    "duration": 7,
    "start_time": "2023-04-04T11:40:36.969Z"
   },
   {
    "duration": 8,
    "start_time": "2023-04-04T11:40:44.665Z"
   },
   {
    "duration": 710,
    "start_time": "2023-04-04T11:40:49.776Z"
   },
   {
    "duration": 554,
    "start_time": "2023-04-04T11:41:11.018Z"
   },
   {
    "duration": 6,
    "start_time": "2023-04-04T11:41:16.397Z"
   },
   {
    "duration": 3,
    "start_time": "2023-04-04T11:41:20.308Z"
   },
   {
    "duration": 2,
    "start_time": "2023-04-04T11:41:20.600Z"
   },
   {
    "duration": 7,
    "start_time": "2023-04-04T11:41:21.669Z"
   },
   {
    "duration": 3,
    "start_time": "2023-04-04T11:41:22.405Z"
   },
   {
    "duration": 3,
    "start_time": "2023-04-04T11:41:22.604Z"
   },
   {
    "duration": 5,
    "start_time": "2023-04-04T11:41:23.123Z"
   },
   {
    "duration": 161369,
    "start_time": "2023-04-04T11:41:23.764Z"
   },
   {
    "duration": 0,
    "start_time": "2023-04-04T11:44:05.135Z"
   },
   {
    "duration": 0,
    "start_time": "2023-04-04T11:44:05.137Z"
   },
   {
    "duration": 0,
    "start_time": "2023-04-04T11:44:05.138Z"
   },
   {
    "duration": 0,
    "start_time": "2023-04-04T11:44:05.139Z"
   },
   {
    "duration": 0,
    "start_time": "2023-04-04T11:44:05.140Z"
   },
   {
    "duration": 1324,
    "start_time": "2023-04-04T11:44:40.445Z"
   },
   {
    "duration": 616,
    "start_time": "2023-04-04T11:44:41.771Z"
   },
   {
    "duration": 18,
    "start_time": "2023-04-04T11:44:42.388Z"
   },
   {
    "duration": 16,
    "start_time": "2023-04-04T11:44:42.409Z"
   },
   {
    "duration": 11,
    "start_time": "2023-04-04T11:44:42.426Z"
   },
   {
    "duration": 35,
    "start_time": "2023-04-04T11:44:42.439Z"
   },
   {
    "duration": 8,
    "start_time": "2023-04-04T11:44:42.475Z"
   },
   {
    "duration": 22,
    "start_time": "2023-04-04T11:44:42.484Z"
   },
   {
    "duration": 41,
    "start_time": "2023-04-04T11:44:42.507Z"
   },
   {
    "duration": 11,
    "start_time": "2023-04-04T11:44:42.550Z"
   },
   {
    "duration": 20,
    "start_time": "2023-04-04T11:44:42.563Z"
   },
   {
    "duration": 4,
    "start_time": "2023-04-04T11:44:42.585Z"
   },
   {
    "duration": 231,
    "start_time": "2023-04-04T11:44:42.590Z"
   },
   {
    "duration": 227,
    "start_time": "2023-04-04T11:44:42.822Z"
   },
   {
    "duration": 291,
    "start_time": "2023-04-04T11:44:43.051Z"
   },
   {
    "duration": 13,
    "start_time": "2023-04-04T11:44:43.344Z"
   },
   {
    "duration": 538,
    "start_time": "2023-04-04T11:44:43.359Z"
   },
   {
    "duration": 606,
    "start_time": "2023-04-04T11:44:43.899Z"
   },
   {
    "duration": 533,
    "start_time": "2023-04-04T11:44:44.506Z"
   },
   {
    "duration": 795,
    "start_time": "2023-04-04T11:44:45.040Z"
   },
   {
    "duration": 780,
    "start_time": "2023-04-04T11:44:45.836Z"
   },
   {
    "duration": 7,
    "start_time": "2023-04-04T11:44:46.618Z"
   },
   {
    "duration": 619,
    "start_time": "2023-04-04T11:44:46.627Z"
   },
   {
    "duration": 6,
    "start_time": "2023-04-04T11:44:47.248Z"
   },
   {
    "duration": 27,
    "start_time": "2023-04-04T11:44:47.255Z"
   },
   {
    "duration": 46,
    "start_time": "2023-04-04T11:44:47.284Z"
   },
   {
    "duration": 16,
    "start_time": "2023-04-04T11:44:47.332Z"
   },
   {
    "duration": 14,
    "start_time": "2023-04-04T11:44:47.352Z"
   },
   {
    "duration": 23,
    "start_time": "2023-04-04T11:44:47.367Z"
   },
   {
    "duration": 19,
    "start_time": "2023-04-04T11:44:47.391Z"
   },
   {
    "duration": 635214,
    "start_time": "2023-04-04T11:44:47.412Z"
   },
   {
    "duration": 4,
    "start_time": "2023-04-04T11:55:22.628Z"
   },
   {
    "duration": 10,
    "start_time": "2023-04-04T11:55:22.634Z"
   },
   {
    "duration": 5,
    "start_time": "2023-04-04T11:55:22.646Z"
   },
   {
    "duration": 6,
    "start_time": "2023-04-04T11:55:22.653Z"
   },
   {
    "duration": 5,
    "start_time": "2023-04-04T11:55:22.672Z"
   },
   {
    "duration": 17,
    "start_time": "2023-04-04T11:55:22.678Z"
   },
   {
    "duration": 29,
    "start_time": "2023-04-04T11:55:22.697Z"
   },
   {
    "duration": 7,
    "start_time": "2023-04-04T11:55:22.728Z"
   },
   {
    "duration": 8,
    "start_time": "2023-04-04T11:55:22.737Z"
   },
   {
    "duration": 26,
    "start_time": "2023-04-04T11:55:22.747Z"
   },
   {
    "duration": 11,
    "start_time": "2023-04-04T11:55:22.775Z"
   }
  ],
  "kernelspec": {
   "display_name": "Python 3 (ipykernel)",
   "language": "python",
   "name": "python3"
  },
  "language_info": {
   "codemirror_mode": {
    "name": "ipython",
    "version": 3
   },
   "file_extension": ".py",
   "mimetype": "text/x-python",
   "name": "python",
   "nbconvert_exporter": "python",
   "pygments_lexer": "ipython3",
   "version": "3.9.7"
  },
  "toc": {
   "base_numbering": 1,
   "nav_menu": {},
   "number_sections": true,
   "sideBar": true,
   "skip_h1_title": true,
   "title_cell": "Содержание",
   "title_sidebar": "Contents",
   "toc_cell": true,
   "toc_position": {
    "height": "calc(100% - 180px)",
    "left": "10px",
    "top": "150px",
    "width": "355.148px"
   },
   "toc_section_display": true,
   "toc_window_display": true
  }
 },
 "nbformat": 4,
 "nbformat_minor": 2
}
