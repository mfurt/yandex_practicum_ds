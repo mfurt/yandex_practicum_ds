{
 "cells": [
  {
   "cell_type": "markdown",
   "metadata": {
    "toc": true
   },
   "source": [
    "<h1>Содержание<span class=\"tocSkip\"></span></h1>\n",
    "<div class=\"toc\"><ul class=\"toc-item\"><li><span><a href=\"#Загрузка-данных\" data-toc-modified-id=\"Загрузка-данных-1\"><span class=\"toc-item-num\">1&nbsp;&nbsp;</span>Загрузка данных</a></span></li><li><span><a href=\"#Умножение-матриц\" data-toc-modified-id=\"Умножение-матриц-2\"><span class=\"toc-item-num\">2&nbsp;&nbsp;</span>Умножение матриц</a></span></li><li><span><a href=\"#Алгоритм-преобразования\" data-toc-modified-id=\"Алгоритм-преобразования-3\"><span class=\"toc-item-num\">3&nbsp;&nbsp;</span>Алгоритм преобразования</a></span></li><li><span><a href=\"#Проверка-алгоритма\" data-toc-modified-id=\"Проверка-алгоритма-4\"><span class=\"toc-item-num\">4&nbsp;&nbsp;</span>Проверка алгоритма</a></span></li><li><span><a href=\"#Вывод\" data-toc-modified-id=\"Вывод-5\"><span class=\"toc-item-num\">5&nbsp;&nbsp;</span>Вывод</a></span></li><li><span><a href=\"#Чек-лист-проверки\" data-toc-modified-id=\"Чек-лист-проверки-6\"><span class=\"toc-item-num\">6&nbsp;&nbsp;</span>Чек-лист проверки</a></span></li></ul></div>"
   ]
  },
  {
   "cell_type": "markdown",
   "metadata": {},
   "source": [
    "# Защита персональных данных клиентов"
   ]
  },
  {
   "cell_type": "markdown",
   "metadata": {},
   "source": [
    "Вам нужно защитить данные клиентов страховой компании «Хоть потоп». Разработайте такой метод преобразования данных, чтобы по ним было сложно восстановить персональную информацию. Обоснуйте корректность его работы.\n",
    "\n",
    "Нужно защитить данные, чтобы при преобразовании качество моделей машинного обучения не ухудшилось. Подбирать наилучшую модель не требуется."
   ]
  },
  {
   "cell_type": "code",
   "execution_count": 1,
   "metadata": {},
   "outputs": [],
   "source": [
    "import pandas as pd\n",
    "import numpy as np\n",
    "from sklearn.model_selection import train_test_split\n",
    "from sklearn.metrics import r2_score\n",
    "from sklearn.linear_model import LinearRegression as LR"
   ]
  },
  {
   "cell_type": "markdown",
   "metadata": {},
   "source": [
    "## Загрузка данных"
   ]
  },
  {
   "cell_type": "code",
   "execution_count": 2,
   "metadata": {},
   "outputs": [
    {
     "data": {
      "text/html": [
       "<div>\n",
       "<style scoped>\n",
       "    .dataframe tbody tr th:only-of-type {\n",
       "        vertical-align: middle;\n",
       "    }\n",
       "\n",
       "    .dataframe tbody tr th {\n",
       "        vertical-align: top;\n",
       "    }\n",
       "\n",
       "    .dataframe thead th {\n",
       "        text-align: right;\n",
       "    }\n",
       "</style>\n",
       "<table border=\"1\" class=\"dataframe\">\n",
       "  <thead>\n",
       "    <tr style=\"text-align: right;\">\n",
       "      <th></th>\n",
       "      <th>Пол</th>\n",
       "      <th>Возраст</th>\n",
       "      <th>Зарплата</th>\n",
       "      <th>Члены семьи</th>\n",
       "      <th>Страховые выплаты</th>\n",
       "    </tr>\n",
       "  </thead>\n",
       "  <tbody>\n",
       "    <tr>\n",
       "      <th>0</th>\n",
       "      <td>1</td>\n",
       "      <td>41.0</td>\n",
       "      <td>49600.0</td>\n",
       "      <td>1</td>\n",
       "      <td>0</td>\n",
       "    </tr>\n",
       "    <tr>\n",
       "      <th>1</th>\n",
       "      <td>0</td>\n",
       "      <td>46.0</td>\n",
       "      <td>38000.0</td>\n",
       "      <td>1</td>\n",
       "      <td>1</td>\n",
       "    </tr>\n",
       "    <tr>\n",
       "      <th>2</th>\n",
       "      <td>0</td>\n",
       "      <td>29.0</td>\n",
       "      <td>21000.0</td>\n",
       "      <td>0</td>\n",
       "      <td>0</td>\n",
       "    </tr>\n",
       "    <tr>\n",
       "      <th>3</th>\n",
       "      <td>0</td>\n",
       "      <td>21.0</td>\n",
       "      <td>41700.0</td>\n",
       "      <td>2</td>\n",
       "      <td>0</td>\n",
       "    </tr>\n",
       "    <tr>\n",
       "      <th>4</th>\n",
       "      <td>1</td>\n",
       "      <td>28.0</td>\n",
       "      <td>26100.0</td>\n",
       "      <td>0</td>\n",
       "      <td>0</td>\n",
       "    </tr>\n",
       "  </tbody>\n",
       "</table>\n",
       "</div>"
      ],
      "text/plain": [
       "   Пол  Возраст  Зарплата  Члены семьи  Страховые выплаты\n",
       "0    1     41.0   49600.0            1                  0\n",
       "1    0     46.0   38000.0            1                  1\n",
       "2    0     29.0   21000.0            0                  0\n",
       "3    0     21.0   41700.0            2                  0\n",
       "4    1     28.0   26100.0            0                  0"
      ]
     },
     "execution_count": 2,
     "metadata": {},
     "output_type": "execute_result"
    }
   ],
   "source": [
    "# Загружаем данные\n",
    "try:\n",
    "    df = pd.read_csv('/datasets/insurance.csv')\n",
    "except:\n",
    "    df = pd.read_csv('insurance.csv')\n",
    "df.head()"
   ]
  },
  {
   "cell_type": "code",
   "execution_count": 3,
   "metadata": {},
   "outputs": [
    {
     "name": "stdout",
     "output_type": "stream",
     "text": [
      "(5000, 5) \n",
      "\n",
      "<class 'pandas.core.frame.DataFrame'>\n",
      "RangeIndex: 5000 entries, 0 to 4999\n",
      "Data columns (total 5 columns):\n",
      " #   Column             Non-Null Count  Dtype  \n",
      "---  ------             --------------  -----  \n",
      " 0   Пол                5000 non-null   int64  \n",
      " 1   Возраст            5000 non-null   float64\n",
      " 2   Зарплата           5000 non-null   float64\n",
      " 3   Члены семьи        5000 non-null   int64  \n",
      " 4   Страховые выплаты  5000 non-null   int64  \n",
      "dtypes: float64(2), int64(3)\n",
      "memory usage: 195.4 KB\n"
     ]
    }
   ],
   "source": [
    "# Смотрим на размер сетки и на общую информацию\n",
    "print(df.shape, '\\n')\n",
    "df.info()"
   ]
  },
  {
   "cell_type": "markdown",
   "metadata": {},
   "source": [
    "**Как видим в таблице нет пропусков и значения все числовые, но разряд мы понизим.\n",
    "<br>Так же, сменим названия колонок.\n",
    "<br>Ну и можно сразу увидеть, что \"Пол\" и \"Страховые выплаты\" это категориальные признаки, все остальные количественные**"
   ]
  },
  {
   "cell_type": "code",
   "execution_count": 4,
   "metadata": {},
   "outputs": [
    {
     "data": {
      "text/html": [
       "<div>\n",
       "<style scoped>\n",
       "    .dataframe tbody tr th:only-of-type {\n",
       "        vertical-align: middle;\n",
       "    }\n",
       "\n",
       "    .dataframe tbody tr th {\n",
       "        vertical-align: top;\n",
       "    }\n",
       "\n",
       "    .dataframe thead th {\n",
       "        text-align: right;\n",
       "    }\n",
       "</style>\n",
       "<table border=\"1\" class=\"dataframe\">\n",
       "  <thead>\n",
       "    <tr style=\"text-align: right;\">\n",
       "      <th></th>\n",
       "      <th>Пол</th>\n",
       "      <th>Возраст</th>\n",
       "      <th>Зарплата</th>\n",
       "      <th>Члены семьи</th>\n",
       "      <th>Страховые выплаты</th>\n",
       "    </tr>\n",
       "  </thead>\n",
       "  <tbody>\n",
       "    <tr>\n",
       "      <th>count</th>\n",
       "      <td>5000.000000</td>\n",
       "      <td>5000.000000</td>\n",
       "      <td>5000.000000</td>\n",
       "      <td>5000.000000</td>\n",
       "      <td>5000.000000</td>\n",
       "    </tr>\n",
       "    <tr>\n",
       "      <th>mean</th>\n",
       "      <td>0.499000</td>\n",
       "      <td>30.952800</td>\n",
       "      <td>39916.360000</td>\n",
       "      <td>1.194200</td>\n",
       "      <td>0.148000</td>\n",
       "    </tr>\n",
       "    <tr>\n",
       "      <th>std</th>\n",
       "      <td>0.500049</td>\n",
       "      <td>8.440807</td>\n",
       "      <td>9900.083569</td>\n",
       "      <td>1.091387</td>\n",
       "      <td>0.463183</td>\n",
       "    </tr>\n",
       "    <tr>\n",
       "      <th>min</th>\n",
       "      <td>0.000000</td>\n",
       "      <td>18.000000</td>\n",
       "      <td>5300.000000</td>\n",
       "      <td>0.000000</td>\n",
       "      <td>0.000000</td>\n",
       "    </tr>\n",
       "    <tr>\n",
       "      <th>25%</th>\n",
       "      <td>0.000000</td>\n",
       "      <td>24.000000</td>\n",
       "      <td>33300.000000</td>\n",
       "      <td>0.000000</td>\n",
       "      <td>0.000000</td>\n",
       "    </tr>\n",
       "    <tr>\n",
       "      <th>50%</th>\n",
       "      <td>0.000000</td>\n",
       "      <td>30.000000</td>\n",
       "      <td>40200.000000</td>\n",
       "      <td>1.000000</td>\n",
       "      <td>0.000000</td>\n",
       "    </tr>\n",
       "    <tr>\n",
       "      <th>75%</th>\n",
       "      <td>1.000000</td>\n",
       "      <td>37.000000</td>\n",
       "      <td>46600.000000</td>\n",
       "      <td>2.000000</td>\n",
       "      <td>0.000000</td>\n",
       "    </tr>\n",
       "    <tr>\n",
       "      <th>max</th>\n",
       "      <td>1.000000</td>\n",
       "      <td>65.000000</td>\n",
       "      <td>79000.000000</td>\n",
       "      <td>6.000000</td>\n",
       "      <td>5.000000</td>\n",
       "    </tr>\n",
       "  </tbody>\n",
       "</table>\n",
       "</div>"
      ],
      "text/plain": [
       "               Пол      Возраст      Зарплата  Члены семьи  Страховые выплаты\n",
       "count  5000.000000  5000.000000   5000.000000  5000.000000        5000.000000\n",
       "mean      0.499000    30.952800  39916.360000     1.194200           0.148000\n",
       "std       0.500049     8.440807   9900.083569     1.091387           0.463183\n",
       "min       0.000000    18.000000   5300.000000     0.000000           0.000000\n",
       "25%       0.000000    24.000000  33300.000000     0.000000           0.000000\n",
       "50%       0.000000    30.000000  40200.000000     1.000000           0.000000\n",
       "75%       1.000000    37.000000  46600.000000     2.000000           0.000000\n",
       "max       1.000000    65.000000  79000.000000     6.000000           5.000000"
      ]
     },
     "execution_count": 4,
     "metadata": {},
     "output_type": "execute_result"
    }
   ],
   "source": [
    "# помотрим на характер данных\n",
    "df.describe()"
   ]
  },
  {
   "cell_type": "markdown",
   "metadata": {},
   "source": [
    "**Данные распределяются нормально\n",
    "<br>Ну и по их диапазону значений, всё же понизим разряд**"
   ]
  },
  {
   "cell_type": "code",
   "execution_count": 5,
   "metadata": {},
   "outputs": [],
   "source": [
    "# заменим названия колонок\n",
    "df = df.rename(columns={'Пол' : 'gender', \n",
    "                        'Возраст':'age',\n",
    "                        'Зарплата':'salary', \n",
    "                        'Члены семьи':'family_member', \n",
    "                        'Страховые выплаты':'insurance_payments'})"
   ]
  },
  {
   "cell_type": "code",
   "execution_count": 6,
   "metadata": {},
   "outputs": [],
   "source": [
    "# понизим разряд\n",
    "df = df.astype({'gender':'uint8', \n",
    "                'age':'uint8', \n",
    "                'salary':'uint32', \n",
    "                'family_member':'uint8',\n",
    "                'insurance_payments':'uint8'}) "
   ]
  },
  {
   "cell_type": "code",
   "execution_count": 7,
   "metadata": {},
   "outputs": [
    {
     "name": "stdout",
     "output_type": "stream",
     "text": [
      "Количество явных дубликатов :153\n"
     ]
    }
   ],
   "source": [
    "# поищем дубликаты и удалим их\n",
    "print(f'Количество явных дубликатов :{df.duplicated().sum()}')\n",
    "df = df.drop_duplicates(ignore_index=True)"
   ]
  },
  {
   "cell_type": "code",
   "execution_count": 8,
   "metadata": {},
   "outputs": [
    {
     "name": "stdout",
     "output_type": "stream",
     "text": [
      "<class 'pandas.core.frame.DataFrame'>\n",
      "RangeIndex: 4847 entries, 0 to 4846\n",
      "Data columns (total 5 columns):\n",
      " #   Column              Non-Null Count  Dtype \n",
      "---  ------              --------------  ----- \n",
      " 0   gender              4847 non-null   uint8 \n",
      " 1   age                 4847 non-null   uint8 \n",
      " 2   salary              4847 non-null   uint32\n",
      " 3   family_member       4847 non-null   uint8 \n",
      " 4   insurance_payments  4847 non-null   uint8 \n",
      "dtypes: uint32(1), uint8(4)\n",
      "memory usage: 38.0 KB\n"
     ]
    }
   ],
   "source": [
    "# еще раз взглянем\n",
    "df.info()"
   ]
  },
  {
   "cell_type": "code",
   "execution_count": 9,
   "metadata": {},
   "outputs": [
    {
     "data": {
      "image/png": "[encoded data removed]",
      "text/plain": [
       "<Figure size 1080x720 with 6 Axes>"
      ]
     },
     "metadata": {
      "needs_background": "light"
     },
     "output_type": "display_data"
    }
   ],
   "source": [
    "# построим графики\n",
    "df.hist(figsize=(15,10));"
   ]
  },
  {
   "cell_type": "markdown",
   "metadata": {},
   "source": [
    "**Данные выглядят хорошо, можно их разбить для последующего обучения**"
   ]
  },
  {
   "cell_type": "code",
   "execution_count": 10,
   "metadata": {},
   "outputs": [],
   "source": [
    "X = df.drop('insurance_payments', axis=1)\n",
    "y = df['insurance_payments']\n",
    "X_train, X_test, y_train, y_test = train_test_split(X, y, test_size=0.4, random_state=12345)"
   ]
  },
  {
   "cell_type": "code",
   "execution_count": 11,
   "metadata": {},
   "outputs": [
    {
     "name": "stdout",
     "output_type": "stream",
     "text": [
      "Размер обучающей выборки: (2908, 4)\n",
      "Размер тестовой выборки: (1939, 4)\n"
     ]
    }
   ],
   "source": [
    "print(f\"Размер обучающей выборки: {X_train.shape}\")\n",
    "print(f\"Размер тестовой выборки: {X_test.shape}\")"
   ]
  },
  {
   "cell_type": "markdown",
   "metadata": {},
   "source": [
    "**Были произведены следующие действия:\n",
    "<br>1) Открыли файл и посмотрели на количество, и распределения данных\n",
    "<br>2) Затем переименовали столбцы и понизили разряд, для удобной работы и с меньшим затратом памяти\n",
    "<br>3) Избавились от дубликатов\n",
    "<br>4) И посмотрели визуально на нормальное распределение данных**"
   ]
  },
  {
   "cell_type": "markdown",
   "metadata": {},
   "source": [
    "## Умножение матриц"
   ]
  },
  {
   "cell_type": "markdown",
   "metadata": {},
   "source": [
    "В этом задании вы можете записывать формулы в *Jupyter Notebook.*\n",
    "\n",
    "Чтобы записать формулу внутри текста, окружите её символами доллара \\\\$; если снаружи —  двойными символами \\\\$\\\\$. Эти формулы записываются на языке вёрстки *LaTeX.* \n",
    "\n",
    "Для примера мы записали формулы линейной регрессии. Можете их скопировать и отредактировать, чтобы решить задачу.\n",
    "\n",
    "Работать в *LaTeX* необязательно."
   ]
  },
  {
   "cell_type": "markdown",
   "metadata": {},
   "source": [
    "Обозначения:\n",
    "\n",
    "- $X$ — матрица признаков (нулевой столбец состоит из единиц)\n",
    "\n",
    "- $y$ — вектор целевого признака\n",
    "\n",
    "- $P$ — матрица, на которую умножаются признаки\n",
    "\n",
    "- $w$ — вектор весов линейной регрессии (нулевой элемент равен сдвигу)"
   ]
  },
  {
   "cell_type": "markdown",
   "metadata": {},
   "source": [
    "Предсказания:\n",
    "\n",
    "$$\n",
    "a = Xw\n",
    "$$\n",
    "\n",
    "Задача обучения:\n",
    "\n",
    "$$\n",
    "w = \\arg\\min_w MSE(Xw, y)\n",
    "$$\n",
    "\n",
    "Формула обучения:\n",
    "\n",
    "$$\n",
    "w = (X^T X)^{-1} X^T y\n",
    "$$"
   ]
  },
  {
   "cell_type": "markdown",
   "metadata": {},
   "source": [
    "# Вопрос:\n",
    "# Признаки умножают на обратимую матрицу. Изменится ли качество линейной регрессии?"
   ]
  },
  {
   "cell_type": "markdown",
   "metadata": {},
   "source": [
    "**Ответ:** Нет. Если исходный набор данных умножить на обратимую матрицу, то результат линейной регрессии не изменится"
   ]
  },
  {
   "cell_type": "markdown",
   "metadata": {},
   "source": [
    "**Эмпирическое обоснование**"
   ]
  },
  {
   "cell_type": "code",
   "execution_count": 12,
   "metadata": {},
   "outputs": [],
   "source": [
    "# Линейная регрессия\n",
    "class LinearRegression:\n",
    "    def fit(self, train_features, train_target):\n",
    "        X = np.concatenate((np.ones((train_features.shape[0], 1)), train_features), axis=1)\n",
    "        y = train_target\n",
    "        w = np.linalg.inv(X.T @ X) @ X.T @ y\n",
    "        self.w = w[1:]\n",
    "        self.w0 = w[0]\n",
    "\n",
    "    def predict(self, test_features):\n",
    "        return test_features.dot(self.w) + self.w0"
   ]
  },
  {
   "cell_type": "code",
   "execution_count": 13,
   "metadata": {},
   "outputs": [
    {
     "name": "stdout",
     "output_type": "stream",
     "text": [
      "r2_score: 0.4272661343686206\n"
     ]
    }
   ],
   "source": [
    "# смотрим на результат обучения исходного набора данных\n",
    "model = LinearRegression()\n",
    "model.fit(X_train, y_train)\n",
    "predict = model.predict(X_test)\n",
    "\n",
    "r2 = r2_score(y_test, predict)\n",
    "\n",
    "print(\"r2_score:\", r2)"
   ]
  },
  {
   "cell_type": "code",
   "execution_count": 14,
   "metadata": {},
   "outputs": [
    {
     "data": {
      "text/plain": [
       "array([[-0.20470766,  0.47894334, -0.51943872, -0.5557303 ],\n",
       "       [ 1.96578057,  1.39340583,  0.09290788,  0.28174615],\n",
       "       [ 0.76902257,  1.24643474,  1.00718936, -1.29622111],\n",
       "       [ 0.27499163,  0.22891288,  1.35291684,  0.88642934]])"
      ]
     },
     "execution_count": 14,
     "metadata": {},
     "output_type": "execute_result"
    }
   ],
   "source": [
    "# создадим произвольную матрицу P\n",
    "np.random.seed(12345)\n",
    "p = np.random.normal(size=(4,4))\n",
    "p"
   ]
  },
  {
   "cell_type": "code",
   "execution_count": 15,
   "metadata": {},
   "outputs": [
    {
     "data": {
      "text/plain": [
       "array([[-1.31136747,  0.3921804 ,  0.18868055, -0.67088287],\n",
       "       [ 1.75872714,  0.14106138, -0.17773045,  0.79787127],\n",
       "       [-0.41702659, -0.22854768,  0.3550602 ,  0.33039819],\n",
       "       [ 0.58912996,  0.19073027, -0.5545481 ,  0.6259302 ]])"
      ]
     },
     "execution_count": 15,
     "metadata": {},
     "output_type": "execute_result"
    }
   ],
   "source": [
    "# проверим на обратимость\n",
    "np.linalg.inv(p)"
   ]
  },
  {
   "cell_type": "code",
   "execution_count": 16,
   "metadata": {},
   "outputs": [],
   "source": [
    "# перемножим выборки на матрицу\n",
    "X_train_p = X_train @ p\n",
    "X_train_p.columns = X_train.columns\n",
    "\n",
    "X_test_p = X_test @ p\n",
    "X_test_p.columns = X_test.columns"
   ]
  },
  {
   "cell_type": "code",
   "execution_count": 17,
   "metadata": {},
   "outputs": [
    {
     "name": "stdout",
     "output_type": "stream",
     "text": [
      "r2_score: 0.427266121354394\n"
     ]
    }
   ],
   "source": [
    "# смотрим результат обучения измененного набора данных\n",
    "model = LinearRegression()\n",
    "model.fit(X_train_p, y_train)\n",
    "predict = model.predict(X_test_p)\n",
    "\n",
    "r2_p = r2_score(y_test, predict)\n",
    "\n",
    "print(\"r2_score:\", r2_p)"
   ]
  },
  {
   "cell_type": "code",
   "execution_count": 18,
   "metadata": {},
   "outputs": [
    {
     "name": "stdout",
     "output_type": "stream",
     "text": [
      "Результаты равны r2 = r2_p:\n",
      "0.427 = 0.427\n"
     ]
    }
   ],
   "source": [
    "# сравниваем результаты\n",
    "if round(r2, 3) == round(r2_p, 3):\n",
    "    print('Результаты равны r2 = r2_p:')\n",
    "    print(f'{r2:.3} = {r2_p:.3}')\n",
    "else:\n",
    "    print('Результаты не равны')\n",
    "    print('Беда')"
   ]
  },
  {
   "cell_type": "markdown",
   "metadata": {},
   "source": [
    "**Теоретичесоке обоснование:** \n",
    "<br>Создадим матрицу из исходной и домноженной на обратимую    \n",
    "\n",
    "$$Z = XP$$\n",
    "\n",
    "где $X$ - матрица признаков,\n",
    "$P$ - обратимая матрица \n",
    "\n",
    "Формула предсказаний\n",
    "\n",
    "$$a = Xw$$\n",
    "\n",
    "Формула обучения\n",
    "\n",
    "$$w = (X^T X)^{-1} X^T y$$\n",
    "\n",
    "И для домноженной\n",
    "$$a1 = Zw1$$\n",
    "\n",
    "$$w1 = (Z^T Z)^{-1} Z^T y = ((XP)^T XP)^{-1} (XP)^T y = (P^TX^TXP)^{-1} (XP)^T y  \n",
    "= P^{-1}(X^TX)^{-1}(P^T)^{-1} (XP)^T y$$\n",
    "\n",
    "Для обоснования докажем равенство \n",
    "Совершая несложные математические действия с раскрытием скобок и сокращений\n",
    "\n",
    "$$a = a1$$\n",
    "\n",
    "$$Xw = Zw1$$\n",
    "\n",
    "$$X(X^T X)^{-1} X^T y = XP P^{-1}(X^TX)^{-1}(P^T)^{-1} (XP)^T y $$\n",
    "\n",
    "$$X X^T  = XP P^{-1}(P^T)^{-1} (XP)^T $$\n",
    "\n",
    "\n",
    "$$X^T  = P P^{-1}(P^T)^{-1} (XP)^T $$\n",
    "\n",
    "$$X^T  = (P^T)^{-1} (XP)^T $$\n",
    "\n",
    "$$X^T  = (P^T)^{-1}  P^T X^T $$\n",
    "\n",
    "$$ X^T  =  X^T $$\n",
    "\n",
    "ЧТД"
   ]
  },
  {
   "cell_type": "markdown",
   "metadata": {},
   "source": [
    "## Алгоритм преобразования"
   ]
  },
  {
   "cell_type": "markdown",
   "metadata": {},
   "source": [
    "**Алгоритм**\n",
    "\n",
    "Для защиты информации на этапе поиска коэффициентов и предсказаний линейной регрессии, будем умножать матрицу признаков на обратимую матрицу $P$, которая будет генерироваться случайным образом.\n",
    "\n",
    "Этапы алгоритма:\n",
    "\n",
    "1) Составление матрицы \n",
    "\n",
    "2) Проверка матрицы на обратимость. \n",
    "\n",
    "3) Получение матрицы преобразованных признаков \n",
    "\n",
    "4) Применение алгоритма на преобразованных признаках \n"
   ]
  },
  {
   "cell_type": "markdown",
   "metadata": {},
   "source": [
    "**Обоснование**\n",
    "После доказательства того, что результаты прогноза не изменятся если домножить данные на обратимую матрицу, то данным алгоритмом можно зашифровать данные\n"
   ]
  },
  {
   "cell_type": "markdown",
   "metadata": {},
   "source": [
    "## Проверка алгоритма"
   ]
  },
  {
   "cell_type": "markdown",
   "metadata": {},
   "source": [
    "**Проверку алгоритма осуществил на этапе доказательства утверждения, рассмотрим теперь алгоритм из sklearn**"
   ]
  },
  {
   "cell_type": "code",
   "execution_count": 19,
   "metadata": {},
   "outputs": [
    {
     "name": "stdout",
     "output_type": "stream",
     "text": [
      "Результаты равны r2 = r2_p:\n",
      "0.427 = 0.427\n"
     ]
    }
   ],
   "source": [
    "p = np.random.normal(size=(4,4))\n",
    "np.linalg.inv(p)\n",
    "\n",
    "X_train_p = X_train @ p\n",
    "X_train_p.columns = X_train.columns\n",
    "X_test_p = X_test @ p\n",
    "X_test_p.columns = X_test.columns\n",
    "\n",
    "model = LR()\n",
    "model.fit(X_train_p, y_train)\n",
    "predict = model.predict(X_test_p)\n",
    "\n",
    "r2_p = r2_score(y_test, predict)\n",
    "\n",
    "if round(r2, 3) == round(r2_p, 3):\n",
    "    print('Результаты равны r2 = r2_p:')\n",
    "    print(f'{r2:.3} = {r2_p:.3}')\n",
    "else:\n",
    "    print('Результаты не равны')\n",
    "    print('Беда')"
   ]
  },
  {
   "cell_type": "markdown",
   "metadata": {},
   "source": [
    "**Проверим возможность декодировать данные**"
   ]
  },
  {
   "cell_type": "code",
   "execution_count": 20,
   "metadata": {},
   "outputs": [
    {
     "data": {
      "text/html": [
       "<div>\n",
       "<style scoped>\n",
       "    .dataframe tbody tr th:only-of-type {\n",
       "        vertical-align: middle;\n",
       "    }\n",
       "\n",
       "    .dataframe tbody tr th {\n",
       "        vertical-align: top;\n",
       "    }\n",
       "\n",
       "    .dataframe thead th {\n",
       "        text-align: right;\n",
       "    }\n",
       "</style>\n",
       "<table border=\"1\" class=\"dataframe\">\n",
       "  <thead>\n",
       "    <tr style=\"text-align: right;\">\n",
       "      <th></th>\n",
       "      <th>0</th>\n",
       "      <th>1</th>\n",
       "      <th>2</th>\n",
       "      <th>3</th>\n",
       "    </tr>\n",
       "  </thead>\n",
       "  <tbody>\n",
       "    <tr>\n",
       "      <th>3988</th>\n",
       "      <td>0</td>\n",
       "      <td>45</td>\n",
       "      <td>37700</td>\n",
       "      <td>3</td>\n",
       "    </tr>\n",
       "    <tr>\n",
       "      <th>972</th>\n",
       "      <td>0</td>\n",
       "      <td>45</td>\n",
       "      <td>39900</td>\n",
       "      <td>0</td>\n",
       "    </tr>\n",
       "    <tr>\n",
       "      <th>66</th>\n",
       "      <td>1</td>\n",
       "      <td>43</td>\n",
       "      <td>57200</td>\n",
       "      <td>4</td>\n",
       "    </tr>\n",
       "    <tr>\n",
       "      <th>3968</th>\n",
       "      <td>0</td>\n",
       "      <td>19</td>\n",
       "      <td>40100</td>\n",
       "      <td>3</td>\n",
       "    </tr>\n",
       "    <tr>\n",
       "      <th>4563</th>\n",
       "      <td>0</td>\n",
       "      <td>26</td>\n",
       "      <td>36700</td>\n",
       "      <td>2</td>\n",
       "    </tr>\n",
       "    <tr>\n",
       "      <th>...</th>\n",
       "      <td>...</td>\n",
       "      <td>...</td>\n",
       "      <td>...</td>\n",
       "      <td>...</td>\n",
       "    </tr>\n",
       "    <tr>\n",
       "      <th>3497</th>\n",
       "      <td>1</td>\n",
       "      <td>23</td>\n",
       "      <td>28200</td>\n",
       "      <td>1</td>\n",
       "    </tr>\n",
       "    <tr>\n",
       "      <th>3492</th>\n",
       "      <td>0</td>\n",
       "      <td>30</td>\n",
       "      <td>33700</td>\n",
       "      <td>1</td>\n",
       "    </tr>\n",
       "    <tr>\n",
       "      <th>2177</th>\n",
       "      <td>1</td>\n",
       "      <td>20</td>\n",
       "      <td>28900</td>\n",
       "      <td>1</td>\n",
       "    </tr>\n",
       "    <tr>\n",
       "      <th>3557</th>\n",
       "      <td>1</td>\n",
       "      <td>33</td>\n",
       "      <td>38800</td>\n",
       "      <td>1</td>\n",
       "    </tr>\n",
       "    <tr>\n",
       "      <th>4578</th>\n",
       "      <td>0</td>\n",
       "      <td>41</td>\n",
       "      <td>47300</td>\n",
       "      <td>2</td>\n",
       "    </tr>\n",
       "  </tbody>\n",
       "</table>\n",
       "<p>2908 rows × 4 columns</p>\n",
       "</div>"
      ],
      "text/plain": [
       "      0   1      2  3\n",
       "3988  0  45  37700  3\n",
       "972   0  45  39900  0\n",
       "66    1  43  57200  4\n",
       "3968  0  19  40100  3\n",
       "4563  0  26  36700  2\n",
       "...  ..  ..    ... ..\n",
       "3497  1  23  28200  1\n",
       "3492  0  30  33700  1\n",
       "2177  1  20  28900  1\n",
       "3557  1  33  38800  1\n",
       "4578  0  41  47300  2\n",
       "\n",
       "[2908 rows x 4 columns]"
      ]
     },
     "metadata": {},
     "output_type": "display_data"
    },
    {
     "data": {
      "text/plain": [
       "array([[ True,  True,  True,  True],\n",
       "       [ True,  True,  True,  True],\n",
       "       [ True,  True,  True,  True],\n",
       "       ...,\n",
       "       [ True,  True,  True,  True],\n",
       "       [ True,  True,  True,  True],\n",
       "       [ True,  True,  True,  True]])"
      ]
     },
     "execution_count": 20,
     "metadata": {},
     "output_type": "execute_result"
    }
   ],
   "source": [
    "display(round(X_train_p @ np.linalg.inv(p)).astype(int))\n",
    "round(X_train_p @ np.linalg.inv(p)).astype(int).values == X_train.values"
   ]
  },
  {
   "cell_type": "markdown",
   "metadata": {},
   "source": [
    "**Как видим, возможность такая имеется=)**"
   ]
  },
  {
   "cell_type": "markdown",
   "metadata": {},
   "source": [
    "$$\\blacksquare$$"
   ]
  },
  {
   "cell_type": "markdown",
   "metadata": {},
   "source": [
    "## Вывод"
   ]
  },
  {
   "cell_type": "markdown",
   "metadata": {},
   "source": [
    "**В ходе работы были получены следующие результаты:\n",
    "<br> 1) Были рассмотрены данные, которые в целом не требовали вмешательств, но слегка были причёсаны\n",
    "<br> 2) Был рассмотрен алгорит шифрования данных пользователей, в котором требуется домножать исходные данные на случайную матрицу\n",
    "<br> 3) Было доказано, как теоретическим, так и практическим путем, что при изменении данных случайной матрицой $P$ резальтат предсказания линейной регрессии не изменялся\n",
    "<br> 4) Алгоритм из sklearn, как ни странно, работает по тому же принципу**"
   ]
  },
  {
   "cell_type": "markdown",
   "metadata": {},
   "source": [
    "## Чек-лист проверки"
   ]
  },
  {
   "cell_type": "markdown",
   "metadata": {},
   "source": [
    "Поставьте 'x' в выполненных пунктах. Далее нажмите Shift+Enter."
   ]
  },
  {
   "cell_type": "markdown",
   "metadata": {},
   "source": [
    "- [x]  Jupyter Notebook открыт\n",
    "- [x]  Весь код выполняется без ошибок\n",
    "- [x]  Ячейки с кодом расположены в порядке исполнения\n",
    "- [x]  Выполнен шаг 1: данные загружены\n",
    "- [x]  Выполнен шаг 2: получен ответ на вопрос об умножении матриц\n",
    "    - [x]  Указан правильный вариант ответа\n",
    "    - [x]  Вариант обоснован\n",
    "- [x]  Выполнен шаг 3: предложен алгоритм преобразования\n",
    "    - [x]  Алгоритм описан\n",
    "    - [x]  Алгоритм обоснован\n",
    "- [x]  Выполнен шаг 4: алгоритм проверен\n",
    "    - [x]  Алгоритм реализован\n",
    "    - [x]  Проведено сравнение качества моделей до и после преобразования"
   ]
  },
  {
   "cell_type": "code",
   "execution_count": null,
   "metadata": {},
   "outputs": [],
   "source": []
  }
 ],
 "metadata": {
  "ExecuteTimeLog": [
   {
    "duration": 441,
    "start_time": "2023-05-20T09:48:39.227Z"
   },
   {
    "duration": 128,
    "start_time": "2023-05-20T09:53:21.016Z"
   },
   {
    "duration": 61,
    "start_time": "2023-05-20T09:54:12.176Z"
   },
   {
    "duration": 16,
    "start_time": "2023-05-20T09:54:16.316Z"
   },
   {
    "duration": 25,
    "start_time": "2023-05-20T09:56:59.115Z"
   },
   {
    "duration": 13,
    "start_time": "2023-05-20T10:01:36.367Z"
   },
   {
    "duration": 13,
    "start_time": "2023-05-20T10:04:18.335Z"
   },
   {
    "duration": 5,
    "start_time": "2023-05-20T10:06:13.079Z"
   },
   {
    "duration": 9,
    "start_time": "2023-05-20T10:06:33.017Z"
   },
   {
    "duration": 32,
    "start_time": "2023-05-20T10:06:41.889Z"
   },
   {
    "duration": 7,
    "start_time": "2023-05-20T10:07:03.161Z"
   },
   {
    "duration": 12,
    "start_time": "2023-05-20T10:07:05.920Z"
   },
   {
    "duration": 12,
    "start_time": "2023-05-20T10:07:09.077Z"
   },
   {
    "duration": 18,
    "start_time": "2023-05-20T10:07:23.821Z"
   },
   {
    "duration": 16,
    "start_time": "2023-05-20T10:07:26.910Z"
   },
   {
    "duration": 11,
    "start_time": "2023-05-20T10:07:37.523Z"
   },
   {
    "duration": 14,
    "start_time": "2023-05-20T10:07:38.137Z"
   },
   {
    "duration": 13,
    "start_time": "2023-05-20T10:07:39.120Z"
   },
   {
    "duration": 12,
    "start_time": "2023-05-20T10:08:01.595Z"
   },
   {
    "duration": 11,
    "start_time": "2023-05-20T10:08:27.511Z"
   },
   {
    "duration": 13,
    "start_time": "2023-05-20T10:08:27.754Z"
   },
   {
    "duration": 41,
    "start_time": "2023-05-20T10:08:48.792Z"
   },
   {
    "duration": 15,
    "start_time": "2023-05-20T10:08:57.308Z"
   },
   {
    "duration": 15,
    "start_time": "2023-05-20T10:08:59.260Z"
   },
   {
    "duration": 30,
    "start_time": "2023-05-20T10:09:03.082Z"
   },
   {
    "duration": 400,
    "start_time": "2023-05-20T10:09:09.031Z"
   },
   {
    "duration": 75,
    "start_time": "2023-05-20T10:09:09.436Z"
   },
   {
    "duration": 21,
    "start_time": "2023-05-20T10:09:09.513Z"
   },
   {
    "duration": 51,
    "start_time": "2023-05-20T10:09:09.538Z"
   },
   {
    "duration": 7,
    "start_time": "2023-05-20T10:09:09.591Z"
   },
   {
    "duration": 61,
    "start_time": "2023-05-20T10:09:09.607Z"
   },
   {
    "duration": 14,
    "start_time": "2023-05-20T10:09:09.670Z"
   },
   {
    "duration": 1039,
    "start_time": "2023-05-20T10:09:49.918Z"
   },
   {
    "duration": 464,
    "start_time": "2023-05-20T10:10:01.276Z"
   },
   {
    "duration": 717,
    "start_time": "2023-05-20T10:10:23.599Z"
   },
   {
    "duration": 723,
    "start_time": "2023-05-20T10:10:35.043Z"
   },
   {
    "duration": 750,
    "start_time": "2023-05-20T10:10:38.008Z"
   },
   {
    "duration": 695,
    "start_time": "2023-05-20T10:10:43.210Z"
   },
   {
    "duration": 964,
    "start_time": "2023-05-20T10:10:46.840Z"
   },
   {
    "duration": 882,
    "start_time": "2023-05-20T10:10:50.175Z"
   },
   {
    "duration": 678,
    "start_time": "2023-05-20T10:10:57.621Z"
   },
   {
    "duration": 786,
    "start_time": "2023-05-20T10:11:04.401Z"
   },
   {
    "duration": 668,
    "start_time": "2023-05-20T10:11:08.622Z"
   },
   {
    "duration": 823,
    "start_time": "2023-05-20T10:12:28.835Z"
   },
   {
    "duration": 15,
    "start_time": "2023-05-20T10:12:32.839Z"
   },
   {
    "duration": 20,
    "start_time": "2023-05-20T10:12:55.259Z"
   },
   {
    "duration": 34,
    "start_time": "2023-05-20T10:13:07.812Z"
   },
   {
    "duration": 10,
    "start_time": "2023-05-20T10:14:28.780Z"
   },
   {
    "duration": 18,
    "start_time": "2023-05-20T10:14:36.051Z"
   },
   {
    "duration": 13,
    "start_time": "2023-05-20T10:14:39.571Z"
   },
   {
    "duration": 24,
    "start_time": "2023-05-20T10:14:57.016Z"
   },
   {
    "duration": 37,
    "start_time": "2023-05-20T10:15:34.990Z"
   },
   {
    "duration": 11,
    "start_time": "2023-05-20T10:16:32.787Z"
   },
   {
    "duration": 5,
    "start_time": "2023-05-20T10:17:25.434Z"
   },
   {
    "duration": 16,
    "start_time": "2023-05-20T10:17:27.416Z"
   },
   {
    "duration": 7,
    "start_time": "2023-05-20T10:17:28.679Z"
   },
   {
    "duration": 24,
    "start_time": "2023-05-20T10:17:36.944Z"
   },
   {
    "duration": 19,
    "start_time": "2023-05-20T10:18:37.774Z"
   },
   {
    "duration": 28,
    "start_time": "2023-05-20T10:18:45.511Z"
   },
   {
    "duration": 18,
    "start_time": "2023-05-20T10:18:53.422Z"
   },
   {
    "duration": 21,
    "start_time": "2023-05-20T10:18:54.124Z"
   },
   {
    "duration": 679,
    "start_time": "2023-05-20T10:18:55.323Z"
   },
   {
    "duration": 441,
    "start_time": "2023-05-20T10:19:01.248Z"
   },
   {
    "duration": 91,
    "start_time": "2023-05-20T10:19:01.694Z"
   },
   {
    "duration": 47,
    "start_time": "2023-05-20T10:19:01.787Z"
   },
   {
    "duration": 115,
    "start_time": "2023-05-20T10:19:01.843Z"
   },
   {
    "duration": 17,
    "start_time": "2023-05-20T10:19:01.961Z"
   },
   {
    "duration": 89,
    "start_time": "2023-05-20T10:19:01.980Z"
   },
   {
    "duration": 20,
    "start_time": "2023-05-20T10:19:02.072Z"
   },
   {
    "duration": 81,
    "start_time": "2023-05-20T10:19:02.096Z"
   },
   {
    "duration": 1185,
    "start_time": "2023-05-20T10:19:02.179Z"
   },
   {
    "duration": 420,
    "start_time": "2023-05-20T10:19:34.647Z"
   },
   {
    "duration": 98,
    "start_time": "2023-05-20T10:19:35.079Z"
   },
   {
    "duration": 13,
    "start_time": "2023-05-20T10:19:35.178Z"
   },
   {
    "duration": 138,
    "start_time": "2023-05-20T10:19:35.193Z"
   },
   {
    "duration": 92,
    "start_time": "2023-05-20T10:19:35.333Z"
   },
   {
    "duration": 64,
    "start_time": "2023-05-20T10:19:35.429Z"
   },
   {
    "duration": 90,
    "start_time": "2023-05-20T10:19:35.495Z"
   },
   {
    "duration": 128,
    "start_time": "2023-05-20T10:19:35.589Z"
   },
   {
    "duration": 1397,
    "start_time": "2023-05-20T10:19:35.719Z"
   },
   {
    "duration": 479,
    "start_time": "2023-05-20T10:20:03.335Z"
   },
   {
    "duration": 87,
    "start_time": "2023-05-20T10:20:03.827Z"
   },
   {
    "duration": 64,
    "start_time": "2023-05-20T10:20:03.919Z"
   },
   {
    "duration": 109,
    "start_time": "2023-05-20T10:20:03.984Z"
   },
   {
    "duration": 52,
    "start_time": "2023-05-20T10:20:04.096Z"
   },
   {
    "duration": 29,
    "start_time": "2023-05-20T10:20:04.155Z"
   },
   {
    "duration": 77,
    "start_time": "2023-05-20T10:20:04.186Z"
   },
   {
    "duration": 15,
    "start_time": "2023-05-20T10:20:04.265Z"
   },
   {
    "duration": 1436,
    "start_time": "2023-05-20T10:20:04.281Z"
   },
   {
    "duration": 469,
    "start_time": "2023-05-20T10:21:21.247Z"
   },
   {
    "duration": 69,
    "start_time": "2023-05-20T10:21:21.719Z"
   },
   {
    "duration": 27,
    "start_time": "2023-05-20T10:21:21.790Z"
   },
   {
    "duration": 69,
    "start_time": "2023-05-20T10:21:21.823Z"
   },
   {
    "duration": 23,
    "start_time": "2023-05-20T10:21:21.894Z"
   },
   {
    "duration": 38,
    "start_time": "2023-05-20T10:21:21.925Z"
   },
   {
    "duration": 16,
    "start_time": "2023-05-20T10:21:21.965Z"
   },
   {
    "duration": 37,
    "start_time": "2023-05-20T10:21:21.983Z"
   },
   {
    "duration": 1157,
    "start_time": "2023-05-20T10:21:22.027Z"
   },
   {
    "duration": 117,
    "start_time": "2023-05-20T10:21:45.554Z"
   },
   {
    "duration": 18,
    "start_time": "2023-05-20T10:21:57.886Z"
   },
   {
    "duration": 51,
    "start_time": "2023-05-20T10:22:13.324Z"
   },
   {
    "duration": 26,
    "start_time": "2023-05-20T10:22:52.390Z"
   },
   {
    "duration": 14,
    "start_time": "2023-05-20T10:25:57.832Z"
   },
   {
    "duration": 28,
    "start_time": "2023-05-20T10:26:59.822Z"
   },
   {
    "duration": 11,
    "start_time": "2023-05-20T10:27:35.119Z"
   },
   {
    "duration": 23,
    "start_time": "2023-05-20T10:27:49.723Z"
   },
   {
    "duration": 15,
    "start_time": "2023-05-20T10:29:56.493Z"
   },
   {
    "duration": 12,
    "start_time": "2023-05-20T10:30:01.726Z"
   },
   {
    "duration": 10,
    "start_time": "2023-05-20T10:30:12.724Z"
   },
   {
    "duration": 380,
    "start_time": "2023-05-20T10:30:35.944Z"
   },
   {
    "duration": 39,
    "start_time": "2023-05-20T10:30:36.329Z"
   },
   {
    "duration": 10,
    "start_time": "2023-05-20T10:30:36.373Z"
   },
   {
    "duration": 26,
    "start_time": "2023-05-20T10:30:36.385Z"
   },
   {
    "duration": 43,
    "start_time": "2023-05-20T10:30:36.413Z"
   },
   {
    "duration": 9,
    "start_time": "2023-05-20T10:30:36.458Z"
   },
   {
    "duration": 13,
    "start_time": "2023-05-20T10:30:36.469Z"
   },
   {
    "duration": 14,
    "start_time": "2023-05-20T10:30:36.484Z"
   },
   {
    "duration": 925,
    "start_time": "2023-05-20T10:30:36.502Z"
   },
   {
    "duration": 9,
    "start_time": "2023-05-20T10:52:26.444Z"
   },
   {
    "duration": 13,
    "start_time": "2023-05-20T10:52:27.220Z"
   },
   {
    "duration": 480,
    "start_time": "2023-05-20T10:52:32.786Z"
   },
   {
    "duration": 65,
    "start_time": "2023-05-20T10:52:33.269Z"
   },
   {
    "duration": 15,
    "start_time": "2023-05-20T10:52:33.338Z"
   },
   {
    "duration": 25,
    "start_time": "2023-05-20T10:52:33.355Z"
   },
   {
    "duration": 5,
    "start_time": "2023-05-20T10:52:33.382Z"
   },
   {
    "duration": 51,
    "start_time": "2023-05-20T10:52:33.389Z"
   },
   {
    "duration": 13,
    "start_time": "2023-05-20T10:52:33.442Z"
   },
   {
    "duration": 11,
    "start_time": "2023-05-20T10:52:33.456Z"
   },
   {
    "duration": 979,
    "start_time": "2023-05-20T10:52:33.469Z"
   },
   {
    "duration": 380,
    "start_time": "2023-05-20T10:52:55.448Z"
   },
   {
    "duration": 40,
    "start_time": "2023-05-20T10:52:55.830Z"
   },
   {
    "duration": 14,
    "start_time": "2023-05-20T10:52:55.872Z"
   },
   {
    "duration": 69,
    "start_time": "2023-05-20T10:52:55.888Z"
   },
   {
    "duration": 4,
    "start_time": "2023-05-20T10:52:55.960Z"
   },
   {
    "duration": 9,
    "start_time": "2023-05-20T10:52:55.966Z"
   },
   {
    "duration": 9,
    "start_time": "2023-05-20T10:52:55.976Z"
   },
   {
    "duration": 11,
    "start_time": "2023-05-20T10:52:55.987Z"
   },
   {
    "duration": 906,
    "start_time": "2023-05-20T10:52:56.000Z"
   },
   {
    "duration": 434,
    "start_time": "2023-05-20T10:53:04.135Z"
   },
   {
    "duration": 61,
    "start_time": "2023-05-20T10:53:04.571Z"
   },
   {
    "duration": 17,
    "start_time": "2023-05-20T10:53:04.637Z"
   },
   {
    "duration": 27,
    "start_time": "2023-05-20T10:53:04.655Z"
   },
   {
    "duration": 4,
    "start_time": "2023-05-20T10:53:04.685Z"
   },
   {
    "duration": 85,
    "start_time": "2023-05-20T10:53:04.699Z"
   },
   {
    "duration": 57,
    "start_time": "2023-05-20T10:53:04.787Z"
   },
   {
    "duration": 17,
    "start_time": "2023-05-20T10:53:04.847Z"
   },
   {
    "duration": 911,
    "start_time": "2023-05-20T10:53:04.866Z"
   },
   {
    "duration": 976,
    "start_time": "2023-05-20T10:56:33.230Z"
   },
   {
    "duration": 7,
    "start_time": "2023-05-20T10:58:09.845Z"
   },
   {
    "duration": 8,
    "start_time": "2023-05-20T10:58:13.170Z"
   },
   {
    "duration": 17,
    "start_time": "2023-05-20T10:58:15.584Z"
   },
   {
    "duration": 5,
    "start_time": "2023-05-20T10:58:47.455Z"
   },
   {
    "duration": 5,
    "start_time": "2023-05-20T11:00:14.073Z"
   },
   {
    "duration": 4,
    "start_time": "2023-05-20T11:00:15.548Z"
   },
   {
    "duration": 5,
    "start_time": "2023-05-20T11:00:44.439Z"
   },
   {
    "duration": 3,
    "start_time": "2023-05-20T11:00:59.250Z"
   },
   {
    "duration": 6,
    "start_time": "2023-05-20T11:01:01.145Z"
   },
   {
    "duration": 4,
    "start_time": "2023-05-20T11:01:01.540Z"
   },
   {
    "duration": 6,
    "start_time": "2023-05-20T11:01:16.338Z"
   },
   {
    "duration": 4,
    "start_time": "2023-05-20T11:01:16.578Z"
   },
   {
    "duration": 4,
    "start_time": "2023-05-20T11:04:08.023Z"
   },
   {
    "duration": 6,
    "start_time": "2023-05-20T11:14:18.745Z"
   },
   {
    "duration": 4,
    "start_time": "2023-05-20T11:19:43.053Z"
   },
   {
    "duration": 172,
    "start_time": "2023-05-20T11:20:50.913Z"
   },
   {
    "duration": 18,
    "start_time": "2023-05-20T11:21:05.941Z"
   },
   {
    "duration": 3,
    "start_time": "2023-05-20T11:21:21.370Z"
   },
   {
    "duration": 20,
    "start_time": "2023-05-20T11:21:24.443Z"
   },
   {
    "duration": 8,
    "start_time": "2023-05-20T11:22:48.687Z"
   },
   {
    "duration": 26,
    "start_time": "2023-05-20T11:23:10.641Z"
   },
   {
    "duration": 8,
    "start_time": "2023-05-20T11:23:16.141Z"
   },
   {
    "duration": 7,
    "start_time": "2023-05-20T11:23:32.695Z"
   },
   {
    "duration": 5,
    "start_time": "2023-05-20T11:23:42.154Z"
   },
   {
    "duration": 6,
    "start_time": "2023-05-20T11:24:02.241Z"
   },
   {
    "duration": 7,
    "start_time": "2023-05-20T11:24:03.642Z"
   },
   {
    "duration": 7,
    "start_time": "2023-05-20T11:24:04.720Z"
   },
   {
    "duration": 37,
    "start_time": "2023-05-20T11:24:12.297Z"
   },
   {
    "duration": 18,
    "start_time": "2023-05-20T11:24:13.820Z"
   },
   {
    "duration": 6,
    "start_time": "2023-05-20T11:24:14.621Z"
   },
   {
    "duration": 5,
    "start_time": "2023-05-20T11:24:24.465Z"
   },
   {
    "duration": 5,
    "start_time": "2023-05-20T11:24:27.886Z"
   },
   {
    "duration": 5,
    "start_time": "2023-05-20T11:24:53.231Z"
   },
   {
    "duration": 14,
    "start_time": "2023-05-20T11:25:31.262Z"
   },
   {
    "duration": 11,
    "start_time": "2023-05-20T11:25:56.681Z"
   },
   {
    "duration": 4,
    "start_time": "2023-05-20T11:26:03.850Z"
   },
   {
    "duration": 5,
    "start_time": "2023-05-20T11:27:14.872Z"
   },
   {
    "duration": 5,
    "start_time": "2023-05-20T11:27:16.182Z"
   },
   {
    "duration": 16,
    "start_time": "2023-05-20T11:27:51.785Z"
   },
   {
    "duration": 17,
    "start_time": "2023-05-20T11:27:56.022Z"
   },
   {
    "duration": 10,
    "start_time": "2023-05-20T11:28:05.744Z"
   },
   {
    "duration": 4,
    "start_time": "2023-05-20T11:28:14.342Z"
   },
   {
    "duration": 1159,
    "start_time": "2023-05-20T11:28:18.972Z"
   },
   {
    "duration": 40,
    "start_time": "2023-05-20T11:28:20.135Z"
   },
   {
    "duration": 11,
    "start_time": "2023-05-20T11:28:20.177Z"
   },
   {
    "duration": 42,
    "start_time": "2023-05-20T11:28:20.190Z"
   },
   {
    "duration": 8,
    "start_time": "2023-05-20T11:28:20.243Z"
   },
   {
    "duration": 6,
    "start_time": "2023-05-20T11:28:20.252Z"
   },
   {
    "duration": 8,
    "start_time": "2023-05-20T11:28:20.260Z"
   },
   {
    "duration": 11,
    "start_time": "2023-05-20T11:28:20.270Z"
   },
   {
    "duration": 1003,
    "start_time": "2023-05-20T11:28:20.282Z"
   },
   {
    "duration": 19,
    "start_time": "2023-05-20T11:28:21.286Z"
   },
   {
    "duration": 38,
    "start_time": "2023-05-20T11:28:21.307Z"
   },
   {
    "duration": 5,
    "start_time": "2023-05-20T11:28:21.347Z"
   },
   {
    "duration": 11,
    "start_time": "2023-05-20T11:28:21.353Z"
   },
   {
    "duration": 37,
    "start_time": "2023-05-20T11:28:21.368Z"
   },
   {
    "duration": 95,
    "start_time": "2023-05-20T11:28:21.409Z"
   },
   {
    "duration": 108,
    "start_time": "2023-05-20T11:28:21.506Z"
   },
   {
    "duration": 55,
    "start_time": "2023-05-20T11:28:21.616Z"
   },
   {
    "duration": 110,
    "start_time": "2023-05-20T11:28:21.695Z"
   },
   {
    "duration": 22,
    "start_time": "2023-05-20T11:28:59.121Z"
   },
   {
    "duration": 4,
    "start_time": "2023-05-20T11:29:15.463Z"
   },
   {
    "duration": 6,
    "start_time": "2023-05-20T11:29:20.622Z"
   },
   {
    "duration": 1244,
    "start_time": "2023-05-20T11:29:25.125Z"
   },
   {
    "duration": 80,
    "start_time": "2023-05-20T11:29:26.371Z"
   },
   {
    "duration": 14,
    "start_time": "2023-05-20T11:29:26.453Z"
   },
   {
    "duration": 31,
    "start_time": "2023-05-20T11:29:26.469Z"
   },
   {
    "duration": 5,
    "start_time": "2023-05-20T11:29:26.502Z"
   },
   {
    "duration": 61,
    "start_time": "2023-05-20T11:29:26.508Z"
   },
   {
    "duration": 17,
    "start_time": "2023-05-20T11:29:26.571Z"
   },
   {
    "duration": 74,
    "start_time": "2023-05-20T11:29:26.590Z"
   },
   {
    "duration": 1100,
    "start_time": "2023-05-20T11:29:26.667Z"
   },
   {
    "duration": 7,
    "start_time": "2023-05-20T11:29:27.769Z"
   },
   {
    "duration": 8,
    "start_time": "2023-05-20T11:29:27.778Z"
   },
   {
    "duration": 60,
    "start_time": "2023-05-20T11:29:27.794Z"
   },
   {
    "duration": 11,
    "start_time": "2023-05-20T11:29:27.856Z"
   },
   {
    "duration": 129,
    "start_time": "2023-05-20T11:29:27.869Z"
   },
   {
    "duration": 56,
    "start_time": "2023-05-20T11:29:28.005Z"
   },
   {
    "duration": 11,
    "start_time": "2023-05-20T11:29:28.063Z"
   },
   {
    "duration": 67,
    "start_time": "2023-05-20T11:29:28.095Z"
   },
   {
    "duration": 132,
    "start_time": "2023-05-20T11:29:28.216Z"
   },
   {
    "duration": 10,
    "start_time": "2023-05-20T11:29:43.479Z"
   },
   {
    "duration": 1716,
    "start_time": "2023-05-20T11:29:48.523Z"
   },
   {
    "duration": 95,
    "start_time": "2023-05-20T11:29:50.247Z"
   },
   {
    "duration": 34,
    "start_time": "2023-05-20T11:29:50.355Z"
   },
   {
    "duration": 111,
    "start_time": "2023-05-20T11:29:50.392Z"
   },
   {
    "duration": 7,
    "start_time": "2023-05-20T11:29:50.506Z"
   },
   {
    "duration": 70,
    "start_time": "2023-05-20T11:29:50.516Z"
   },
   {
    "duration": 95,
    "start_time": "2023-05-20T11:29:50.588Z"
   },
   {
    "duration": 26,
    "start_time": "2023-05-20T11:29:50.685Z"
   },
   {
    "duration": 1597,
    "start_time": "2023-05-20T11:29:50.723Z"
   },
   {
    "duration": 10,
    "start_time": "2023-05-20T11:29:52.326Z"
   },
   {
    "duration": 64,
    "start_time": "2023-05-20T11:29:52.343Z"
   },
   {
    "duration": 68,
    "start_time": "2023-05-20T11:29:52.414Z"
   },
   {
    "duration": 201,
    "start_time": "2023-05-20T11:29:52.487Z"
   },
   {
    "duration": 65,
    "start_time": "2023-05-20T11:29:52.692Z"
   },
   {
    "duration": 68,
    "start_time": "2023-05-20T11:29:52.760Z"
   },
   {
    "duration": 159,
    "start_time": "2023-05-20T11:29:52.839Z"
   },
   {
    "duration": 138,
    "start_time": "2023-05-20T11:29:53.002Z"
   },
   {
    "duration": 152,
    "start_time": "2023-05-20T11:29:53.148Z"
   },
   {
    "duration": 7,
    "start_time": "2023-05-20T11:31:37.559Z"
   },
   {
    "duration": 5,
    "start_time": "2023-05-20T11:31:45.091Z"
   },
   {
    "duration": 1514,
    "start_time": "2023-05-20T11:31:55.729Z"
   },
   {
    "duration": 76,
    "start_time": "2023-05-20T11:31:57.245Z"
   },
   {
    "duration": 23,
    "start_time": "2023-05-20T11:31:57.324Z"
   },
   {
    "duration": 76,
    "start_time": "2023-05-20T11:31:57.350Z"
   },
   {
    "duration": 44,
    "start_time": "2023-05-20T11:31:57.433Z"
   },
   {
    "duration": 33,
    "start_time": "2023-05-20T11:31:57.479Z"
   },
   {
    "duration": 61,
    "start_time": "2023-05-20T11:31:57.532Z"
   },
   {
    "duration": 36,
    "start_time": "2023-05-20T11:31:57.608Z"
   },
   {
    "duration": 1271,
    "start_time": "2023-05-20T11:31:57.649Z"
   },
   {
    "duration": 7,
    "start_time": "2023-05-20T11:31:58.922Z"
   },
   {
    "duration": 58,
    "start_time": "2023-05-20T11:31:58.931Z"
   },
   {
    "duration": 89,
    "start_time": "2023-05-20T11:31:58.994Z"
   },
   {
    "duration": 164,
    "start_time": "2023-05-20T11:31:59.088Z"
   },
   {
    "duration": 129,
    "start_time": "2023-05-20T11:31:59.260Z"
   },
   {
    "duration": 98,
    "start_time": "2023-05-20T11:31:59.391Z"
   },
   {
    "duration": 107,
    "start_time": "2023-05-20T11:31:59.491Z"
   },
   {
    "duration": 96,
    "start_time": "2023-05-20T11:31:59.599Z"
   },
   {
    "duration": 106,
    "start_time": "2023-05-20T11:31:59.703Z"
   },
   {
    "duration": 71,
    "start_time": "2023-05-20T11:31:59.811Z"
   },
   {
    "duration": 5,
    "start_time": "2023-05-20T11:33:29.488Z"
   },
   {
    "duration": 10,
    "start_time": "2023-05-20T11:33:38.196Z"
   },
   {
    "duration": 8,
    "start_time": "2023-05-20T11:33:48.672Z"
   },
   {
    "duration": 6,
    "start_time": "2023-05-20T11:33:57.567Z"
   },
   {
    "duration": 14,
    "start_time": "2023-05-20T11:33:57.575Z"
   },
   {
    "duration": 4,
    "start_time": "2023-05-20T11:34:19.929Z"
   },
   {
    "duration": 8,
    "start_time": "2023-05-20T11:34:23.183Z"
   },
   {
    "duration": 301,
    "start_time": "2023-05-20T12:11:03.859Z"
   },
   {
    "duration": 2,
    "start_time": "2023-05-20T12:14:59.954Z"
   },
   {
    "duration": 9,
    "start_time": "2023-05-20T12:15:01.730Z"
   },
   {
    "duration": 2,
    "start_time": "2023-05-20T12:15:23.186Z"
   },
   {
    "duration": 132,
    "start_time": "2023-05-20T12:15:25.134Z"
   },
   {
    "duration": 5,
    "start_time": "2023-05-20T12:15:28.451Z"
   },
   {
    "duration": 5,
    "start_time": "2023-05-20T12:15:35.638Z"
   },
   {
    "duration": 7,
    "start_time": "2023-05-20T12:15:37.399Z"
   },
   {
    "duration": 5,
    "start_time": "2023-05-20T12:15:38.234Z"
   },
   {
    "duration": 19,
    "start_time": "2023-05-20T12:15:44.026Z"
   },
   {
    "duration": 8,
    "start_time": "2023-05-20T12:15:57.841Z"
   },
   {
    "duration": 6,
    "start_time": "2023-05-20T12:16:02.253Z"
   },
   {
    "duration": 9,
    "start_time": "2023-05-20T12:16:10.238Z"
   },
   {
    "duration": 11,
    "start_time": "2023-05-20T12:16:11.035Z"
   },
   {
    "duration": 4,
    "start_time": "2023-05-20T12:16:47.654Z"
   },
   {
    "duration": 16,
    "start_time": "2023-05-20T12:16:48.525Z"
   },
   {
    "duration": 8,
    "start_time": "2023-05-20T12:16:48.953Z"
   },
   {
    "duration": 18,
    "start_time": "2023-05-20T12:16:49.346Z"
   },
   {
    "duration": 6,
    "start_time": "2023-05-20T12:16:50.224Z"
   },
   {
    "duration": 16,
    "start_time": "2023-05-20T12:16:56.303Z"
   },
   {
    "duration": 3,
    "start_time": "2023-05-20T12:16:57.073Z"
   },
   {
    "duration": 16,
    "start_time": "2023-05-20T12:17:25.394Z"
   },
   {
    "duration": 1270,
    "start_time": "2023-05-20T12:17:41.684Z"
   },
   {
    "duration": 44,
    "start_time": "2023-05-20T12:17:42.956Z"
   },
   {
    "duration": 15,
    "start_time": "2023-05-20T12:17:43.002Z"
   },
   {
    "duration": 55,
    "start_time": "2023-05-20T12:17:43.019Z"
   },
   {
    "duration": 3,
    "start_time": "2023-05-20T12:17:43.076Z"
   },
   {
    "duration": 9,
    "start_time": "2023-05-20T12:17:43.080Z"
   },
   {
    "duration": 13,
    "start_time": "2023-05-20T12:17:43.091Z"
   },
   {
    "duration": 52,
    "start_time": "2023-05-20T12:17:43.106Z"
   },
   {
    "duration": 1037,
    "start_time": "2023-05-20T12:17:43.160Z"
   },
   {
    "duration": 10,
    "start_time": "2023-05-20T12:17:44.199Z"
   },
   {
    "duration": 46,
    "start_time": "2023-05-20T12:17:44.212Z"
   },
   {
    "duration": 7,
    "start_time": "2023-05-20T12:17:44.259Z"
   },
   {
    "duration": 14,
    "start_time": "2023-05-20T12:17:44.268Z"
   },
   {
    "duration": 13,
    "start_time": "2023-05-20T12:17:44.303Z"
   },
   {
    "duration": 142,
    "start_time": "2023-05-20T12:17:44.320Z"
   },
   {
    "duration": 9,
    "start_time": "2023-05-20T12:17:44.464Z"
   },
   {
    "duration": 34,
    "start_time": "2023-05-20T12:17:44.474Z"
   },
   {
    "duration": 87,
    "start_time": "2023-05-20T12:17:44.509Z"
   },
   {
    "duration": 24,
    "start_time": "2023-05-20T12:17:44.599Z"
   },
   {
    "duration": 5,
    "start_time": "2023-05-20T12:18:38.544Z"
   },
   {
    "duration": 6,
    "start_time": "2023-05-20T12:18:40.533Z"
   },
   {
    "duration": 1335,
    "start_time": "2023-05-20T12:18:46.124Z"
   },
   {
    "duration": 52,
    "start_time": "2023-05-20T12:18:47.461Z"
   },
   {
    "duration": 20,
    "start_time": "2023-05-20T12:18:47.517Z"
   },
   {
    "duration": 40,
    "start_time": "2023-05-20T12:18:47.539Z"
   },
   {
    "duration": 5,
    "start_time": "2023-05-20T12:18:47.581Z"
   },
   {
    "duration": 38,
    "start_time": "2023-05-20T12:18:47.587Z"
   },
   {
    "duration": 37,
    "start_time": "2023-05-20T12:18:47.626Z"
   },
   {
    "duration": 10,
    "start_time": "2023-05-20T12:18:47.665Z"
   },
   {
    "duration": 1019,
    "start_time": "2023-05-20T12:18:47.677Z"
   },
   {
    "duration": 8,
    "start_time": "2023-05-20T12:18:48.701Z"
   },
   {
    "duration": 46,
    "start_time": "2023-05-20T12:18:48.713Z"
   },
   {
    "duration": 22,
    "start_time": "2023-05-20T12:18:48.761Z"
   },
   {
    "duration": 88,
    "start_time": "2023-05-20T12:18:48.785Z"
   },
   {
    "duration": 21,
    "start_time": "2023-05-20T12:18:48.877Z"
   },
   {
    "duration": 119,
    "start_time": "2023-05-20T12:18:48.899Z"
   },
   {
    "duration": 78,
    "start_time": "2023-05-20T12:18:49.020Z"
   },
   {
    "duration": 22,
    "start_time": "2023-05-20T12:18:49.100Z"
   },
   {
    "duration": 72,
    "start_time": "2023-05-20T12:18:49.126Z"
   },
   {
    "duration": 64,
    "start_time": "2023-05-20T12:18:49.200Z"
   },
   {
    "duration": 10,
    "start_time": "2023-05-20T12:19:55.381Z"
   },
   {
    "duration": 24,
    "start_time": "2023-05-20T12:26:51.427Z"
   },
   {
    "duration": 5,
    "start_time": "2023-05-20T12:27:13.341Z"
   },
   {
    "duration": 11,
    "start_time": "2023-05-20T12:27:27.247Z"
   },
   {
    "duration": 1255,
    "start_time": "2023-05-20T12:27:32.197Z"
   },
   {
    "duration": 39,
    "start_time": "2023-05-20T12:27:33.454Z"
   },
   {
    "duration": 14,
    "start_time": "2023-05-20T12:27:33.502Z"
   },
   {
    "duration": 54,
    "start_time": "2023-05-20T12:27:33.517Z"
   },
   {
    "duration": 4,
    "start_time": "2023-05-20T12:27:33.574Z"
   },
   {
    "duration": 13,
    "start_time": "2023-05-20T12:27:33.579Z"
   },
   {
    "duration": 64,
    "start_time": "2023-05-20T12:27:33.594Z"
   },
   {
    "duration": 10,
    "start_time": "2023-05-20T12:27:33.659Z"
   },
   {
    "duration": 1117,
    "start_time": "2023-05-20T12:27:33.671Z"
   },
   {
    "duration": 12,
    "start_time": "2023-05-20T12:27:34.791Z"
   },
   {
    "duration": 53,
    "start_time": "2023-05-20T12:27:34.807Z"
   },
   {
    "duration": 14,
    "start_time": "2023-05-20T12:27:34.862Z"
   },
   {
    "duration": 13,
    "start_time": "2023-05-20T12:27:34.878Z"
   },
   {
    "duration": 107,
    "start_time": "2023-05-20T12:27:34.901Z"
   },
   {
    "duration": 76,
    "start_time": "2023-05-20T12:27:35.010Z"
   },
   {
    "duration": 115,
    "start_time": "2023-05-20T12:27:35.088Z"
   },
   {
    "duration": 97,
    "start_time": "2023-05-20T12:27:35.205Z"
   },
   {
    "duration": 91,
    "start_time": "2023-05-20T12:27:35.311Z"
   },
   {
    "duration": 30,
    "start_time": "2023-05-20T12:27:35.410Z"
   },
   {
    "duration": 8,
    "start_time": "2023-05-20T12:28:24.052Z"
   },
   {
    "duration": 1277,
    "start_time": "2023-05-20T12:28:40.284Z"
   },
   {
    "duration": 49,
    "start_time": "2023-05-20T12:28:41.563Z"
   },
   {
    "duration": 15,
    "start_time": "2023-05-20T12:28:41.615Z"
   },
   {
    "duration": 46,
    "start_time": "2023-05-20T12:28:41.632Z"
   },
   {
    "duration": 4,
    "start_time": "2023-05-20T12:28:41.680Z"
   },
   {
    "duration": 13,
    "start_time": "2023-05-20T12:28:41.686Z"
   },
   {
    "duration": 57,
    "start_time": "2023-05-20T12:28:41.701Z"
   },
   {
    "duration": 11,
    "start_time": "2023-05-20T12:28:41.760Z"
   },
   {
    "duration": 1013,
    "start_time": "2023-05-20T12:28:41.773Z"
   },
   {
    "duration": 6,
    "start_time": "2023-05-20T12:28:42.794Z"
   },
   {
    "duration": 51,
    "start_time": "2023-05-20T12:28:42.801Z"
   },
   {
    "duration": 7,
    "start_time": "2023-05-20T12:28:42.854Z"
   },
   {
    "duration": 13,
    "start_time": "2023-05-20T12:28:42.862Z"
   },
   {
    "duration": 23,
    "start_time": "2023-05-20T12:28:42.878Z"
   },
   {
    "duration": 137,
    "start_time": "2023-05-20T12:28:42.902Z"
   },
   {
    "duration": 61,
    "start_time": "2023-05-20T12:28:43.041Z"
   },
   {
    "duration": 118,
    "start_time": "2023-05-20T12:28:43.104Z"
   },
   {
    "duration": 134,
    "start_time": "2023-05-20T12:28:43.223Z"
   },
   {
    "duration": 62,
    "start_time": "2023-05-20T12:28:43.359Z"
   },
   {
    "duration": 19,
    "start_time": "2023-05-20T12:28:54.992Z"
   },
   {
    "duration": 41,
    "start_time": "2023-05-20T12:34:49.595Z"
   },
   {
    "duration": 54,
    "start_time": "2023-05-20T12:34:52.723Z"
   },
   {
    "duration": 36,
    "start_time": "2023-05-20T12:34:58.039Z"
   },
   {
    "duration": 41,
    "start_time": "2023-05-20T12:35:03.140Z"
   },
   {
    "duration": 73,
    "start_time": "2023-05-20T12:35:06.194Z"
   },
   {
    "duration": 48,
    "start_time": "2023-05-20T12:35:11.422Z"
   },
   {
    "duration": 47,
    "start_time": "2023-05-20T12:35:21.163Z"
   },
   {
    "duration": 3,
    "start_time": "2023-05-20T12:35:27.486Z"
   },
   {
    "duration": 1219,
    "start_time": "2023-05-20T16:02:53.188Z"
   },
   {
    "duration": 39,
    "start_time": "2023-05-20T16:02:54.409Z"
   },
   {
    "duration": 10,
    "start_time": "2023-05-20T16:02:54.449Z"
   },
   {
    "duration": 23,
    "start_time": "2023-05-20T16:02:54.461Z"
   },
   {
    "duration": 2,
    "start_time": "2023-05-20T16:02:54.486Z"
   },
   {
    "duration": 10,
    "start_time": "2023-05-20T16:02:54.490Z"
   },
   {
    "duration": 17,
    "start_time": "2023-05-20T16:02:54.501Z"
   },
   {
    "duration": 11,
    "start_time": "2023-05-20T16:02:54.519Z"
   },
   {
    "duration": 793,
    "start_time": "2023-05-20T16:02:54.533Z"
   },
   {
    "duration": 5,
    "start_time": "2023-05-20T16:02:55.327Z"
   },
   {
    "duration": 8,
    "start_time": "2023-05-20T16:02:55.334Z"
   },
   {
    "duration": 5,
    "start_time": "2023-05-20T16:02:55.344Z"
   },
   {
    "duration": 43,
    "start_time": "2023-05-20T16:02:55.351Z"
   },
   {
    "duration": 7,
    "start_time": "2023-05-20T16:02:55.398Z"
   },
   {
    "duration": 94,
    "start_time": "2023-05-20T16:02:55.407Z"
   },
   {
    "duration": 6,
    "start_time": "2023-05-20T16:02:55.504Z"
   },
   {
    "duration": 87,
    "start_time": "2023-05-20T16:02:55.512Z"
   },
   {
    "duration": 9,
    "start_time": "2023-05-20T16:02:55.601Z"
   },
   {
    "duration": 16,
    "start_time": "2023-05-20T16:02:55.698Z"
   },
   {
    "duration": 64,
    "start_time": "2023-05-20T18:58:52.566Z"
   },
   {
    "duration": 1083,
    "start_time": "2023-05-20T18:58:56.604Z"
   },
   {
    "duration": 160,
    "start_time": "2023-05-20T18:58:57.689Z"
   },
   {
    "duration": 12,
    "start_time": "2023-05-20T18:58:57.850Z"
   },
   {
    "duration": 31,
    "start_time": "2023-05-20T18:58:57.864Z"
   },
   {
    "duration": 13,
    "start_time": "2023-05-20T18:58:57.898Z"
   },
   {
    "duration": 8,
    "start_time": "2023-05-20T18:58:57.914Z"
   },
   {
    "duration": 8,
    "start_time": "2023-05-20T18:58:57.924Z"
   },
   {
    "duration": 9,
    "start_time": "2023-05-20T18:58:57.934Z"
   },
   {
    "duration": 1107,
    "start_time": "2023-05-20T18:58:57.945Z"
   },
   {
    "duration": 7,
    "start_time": "2023-05-20T18:58:59.054Z"
   },
   {
    "duration": 3,
    "start_time": "2023-05-20T18:58:59.063Z"
   },
   {
    "duration": 6,
    "start_time": "2023-05-20T18:58:59.080Z"
   },
   {
    "duration": 13,
    "start_time": "2023-05-20T18:58:59.089Z"
   },
   {
    "duration": 72,
    "start_time": "2023-05-20T18:58:59.106Z"
   },
   {
    "duration": 10,
    "start_time": "2023-05-20T18:58:59.180Z"
   },
   {
    "duration": 5,
    "start_time": "2023-05-20T18:58:59.192Z"
   },
   {
    "duration": 83,
    "start_time": "2023-05-20T18:58:59.200Z"
   },
   {
    "duration": 5,
    "start_time": "2023-05-20T18:58:59.285Z"
   },
   {
    "duration": 102,
    "start_time": "2023-05-20T18:58:59.293Z"
   },
   {
    "duration": 10,
    "start_time": "2023-05-20T18:59:35.554Z"
   },
   {
    "duration": 10,
    "start_time": "2023-05-20T18:59:42.810Z"
   },
   {
    "duration": 7,
    "start_time": "2023-05-20T18:59:44.191Z"
   },
   {
    "duration": 5,
    "start_time": "2023-05-20T18:59:46.110Z"
   },
   {
    "duration": 14,
    "start_time": "2023-05-20T18:59:55.156Z"
   },
   {
    "duration": 17,
    "start_time": "2023-05-20T19:00:22.674Z"
   },
   {
    "duration": 22,
    "start_time": "2023-05-20T19:01:44.370Z"
   },
   {
    "duration": 128,
    "start_time": "2023-05-20T19:01:54.876Z"
   },
   {
    "duration": 10,
    "start_time": "2023-05-20T19:01:58.522Z"
   },
   {
    "duration": 10,
    "start_time": "2023-05-20T19:02:03.622Z"
   },
   {
    "duration": 10,
    "start_time": "2023-05-20T19:02:05.950Z"
   },
   {
    "duration": 10,
    "start_time": "2023-05-20T19:02:06.906Z"
   },
   {
    "duration": 225,
    "start_time": "2023-05-20T19:04:23.346Z"
   },
   {
    "duration": 245,
    "start_time": "2023-05-20T19:04:30.617Z"
   },
   {
    "duration": 15,
    "start_time": "2023-05-20T19:08:42.167Z"
   },
   {
    "duration": 20,
    "start_time": "2023-05-20T19:08:42.974Z"
   },
   {
    "duration": 11,
    "start_time": "2023-05-20T19:08:45.254Z"
   },
   {
    "duration": 236,
    "start_time": "2023-05-20T19:08:48.703Z"
   },
   {
    "duration": 12,
    "start_time": "2023-05-20T19:08:59.861Z"
   },
   {
    "duration": 11,
    "start_time": "2023-05-20T19:09:06.897Z"
   },
   {
    "duration": 55,
    "start_time": "2023-05-20T19:09:37.087Z"
   },
   {
    "duration": 16,
    "start_time": "2023-05-20T19:09:58.517Z"
   },
   {
    "duration": 11,
    "start_time": "2023-05-20T19:10:07.262Z"
   },
   {
    "duration": 6,
    "start_time": "2023-05-20T19:10:08.754Z"
   },
   {
    "duration": 4,
    "start_time": "2023-05-20T19:10:20.694Z"
   },
   {
    "duration": 60,
    "start_time": "2023-05-20T19:10:29.705Z"
   },
   {
    "duration": 4,
    "start_time": "2023-05-20T19:10:42.206Z"
   },
   {
    "duration": 3,
    "start_time": "2023-05-20T19:10:48.202Z"
   },
   {
    "duration": 11,
    "start_time": "2023-05-20T19:11:47.617Z"
   },
   {
    "duration": 10,
    "start_time": "2023-05-20T19:11:52.813Z"
   },
   {
    "duration": 10,
    "start_time": "2023-05-20T19:12:02.186Z"
   },
   {
    "duration": 11,
    "start_time": "2023-05-20T19:12:08.114Z"
   },
   {
    "duration": 12,
    "start_time": "2023-05-20T19:12:17.109Z"
   },
   {
    "duration": 12,
    "start_time": "2023-05-20T19:12:23.569Z"
   },
   {
    "duration": 11,
    "start_time": "2023-05-20T19:12:32.401Z"
   },
   {
    "duration": 263,
    "start_time": "2023-05-20T19:17:29.973Z"
   },
   {
    "duration": 19,
    "start_time": "2023-05-20T19:24:33.267Z"
   },
   {
    "duration": 22,
    "start_time": "2023-05-20T19:24:56.678Z"
   },
   {
    "duration": 86,
    "start_time": "2023-05-20T19:25:15.892Z"
   },
   {
    "duration": 16,
    "start_time": "2023-05-20T19:25:24.154Z"
   },
   {
    "duration": 16,
    "start_time": "2023-05-20T19:25:36.465Z"
   },
   {
    "duration": 18,
    "start_time": "2023-05-20T19:25:42.716Z"
   },
   {
    "duration": 24,
    "start_time": "2023-05-20T19:26:00.263Z"
   },
   {
    "duration": 10,
    "start_time": "2023-05-20T19:26:08.881Z"
   },
   {
    "duration": 19,
    "start_time": "2023-05-20T19:26:21.376Z"
   },
   {
    "duration": 14,
    "start_time": "2023-05-20T19:26:25.059Z"
   },
   {
    "duration": 19,
    "start_time": "2023-05-20T19:27:00.396Z"
   },
   {
    "duration": 12,
    "start_time": "2023-05-20T19:27:05.001Z"
   },
   {
    "duration": 16,
    "start_time": "2023-05-20T19:27:26.373Z"
   },
   {
    "duration": 21,
    "start_time": "2023-05-20T19:27:27.969Z"
   },
   {
    "duration": 15,
    "start_time": "2023-05-20T19:27:29.562Z"
   },
   {
    "duration": 13,
    "start_time": "2023-05-20T19:27:31.532Z"
   },
   {
    "duration": 9,
    "start_time": "2023-05-20T19:27:34.076Z"
   },
   {
    "duration": 8,
    "start_time": "2023-05-20T19:27:40.858Z"
   },
   {
    "duration": 13,
    "start_time": "2023-05-20T19:27:57.769Z"
   },
   {
    "duration": 8,
    "start_time": "2023-05-20T19:28:15.959Z"
   },
   {
    "duration": 15,
    "start_time": "2023-05-20T19:28:31.704Z"
   },
   {
    "duration": 16,
    "start_time": "2023-05-20T19:28:44.377Z"
   },
   {
    "duration": 24,
    "start_time": "2023-05-20T19:28:53.872Z"
   },
   {
    "duration": 24,
    "start_time": "2023-05-20T19:29:10.062Z"
   },
   {
    "duration": 1076,
    "start_time": "2023-05-20T19:29:40.062Z"
   },
   {
    "duration": 42,
    "start_time": "2023-05-20T19:29:41.140Z"
   },
   {
    "duration": 13,
    "start_time": "2023-05-20T19:29:41.184Z"
   },
   {
    "duration": 27,
    "start_time": "2023-05-20T19:29:41.200Z"
   },
   {
    "duration": 5,
    "start_time": "2023-05-20T19:29:41.229Z"
   },
   {
    "duration": 7,
    "start_time": "2023-05-20T19:29:41.236Z"
   },
   {
    "duration": 36,
    "start_time": "2023-05-20T19:29:41.245Z"
   },
   {
    "duration": 11,
    "start_time": "2023-05-20T19:29:41.283Z"
   },
   {
    "duration": 893,
    "start_time": "2023-05-20T19:29:41.296Z"
   },
   {
    "duration": 6,
    "start_time": "2023-05-20T19:29:42.191Z"
   },
   {
    "duration": 6,
    "start_time": "2023-05-20T19:29:42.199Z"
   },
   {
    "duration": 18,
    "start_time": "2023-05-20T19:29:42.207Z"
   },
   {
    "duration": 49,
    "start_time": "2023-05-20T19:29:42.226Z"
   },
   {
    "duration": 95,
    "start_time": "2023-05-20T19:29:42.280Z"
   },
   {
    "duration": 6,
    "start_time": "2023-05-20T19:29:42.377Z"
   },
   {
    "duration": 5,
    "start_time": "2023-05-20T19:29:42.385Z"
   },
   {
    "duration": 87,
    "start_time": "2023-05-20T19:29:42.392Z"
   },
   {
    "duration": 149,
    "start_time": "2023-05-20T19:29:42.481Z"
   },
   {
    "duration": 15,
    "start_time": "2023-05-20T19:29:42.632Z"
   },
   {
    "duration": 126,
    "start_time": "2023-05-20T19:29:42.650Z"
   },
   {
    "duration": 954,
    "start_time": "2023-05-21T09:15:30.123Z"
   },
   {
    "duration": 43,
    "start_time": "2023-05-21T09:15:31.080Z"
   },
   {
    "duration": 13,
    "start_time": "2023-05-21T09:15:31.125Z"
   },
   {
    "duration": 47,
    "start_time": "2023-05-21T09:15:31.141Z"
   },
   {
    "duration": 5,
    "start_time": "2023-05-21T09:15:31.190Z"
   },
   {
    "duration": 22,
    "start_time": "2023-05-21T09:15:31.197Z"
   },
   {
    "duration": 28,
    "start_time": "2023-05-21T09:15:31.221Z"
   },
   {
    "duration": 28,
    "start_time": "2023-05-21T09:15:31.252Z"
   },
   {
    "duration": 935,
    "start_time": "2023-05-21T09:15:31.282Z"
   },
   {
    "duration": 7,
    "start_time": "2023-05-21T09:15:32.220Z"
   },
   {
    "duration": 10,
    "start_time": "2023-05-21T09:15:32.228Z"
   },
   {
    "duration": 13,
    "start_time": "2023-05-21T09:15:32.239Z"
   },
   {
    "duration": 17,
    "start_time": "2023-05-21T09:15:32.253Z"
   },
   {
    "duration": 80,
    "start_time": "2023-05-21T09:15:32.272Z"
   },
   {
    "duration": 6,
    "start_time": "2023-05-21T09:15:32.354Z"
   },
   {
    "duration": 89,
    "start_time": "2023-05-21T09:15:32.362Z"
   },
   {
    "duration": 16,
    "start_time": "2023-05-21T09:15:32.453Z"
   },
   {
    "duration": 5,
    "start_time": "2023-05-21T09:15:32.550Z"
   },
   {
    "duration": 101,
    "start_time": "2023-05-21T09:15:32.556Z"
   },
   {
    "duration": 97,
    "start_time": "2023-05-21T09:15:32.659Z"
   }
  ],
  "kernelspec": {
   "display_name": "Python 3 (ipykernel)",
   "language": "python",
   "name": "python3"
  },
  "language_info": {
   "codemirror_mode": {
    "name": "ipython",
    "version": 3
   },
   "file_extension": ".py",
   "mimetype": "text/x-python",
   "name": "python",
   "nbconvert_exporter": "python",
   "pygments_lexer": "ipython3",
   "version": "3.10.2"
  },
  "toc": {
   "base_numbering": 1,
   "nav_menu": {},
   "number_sections": true,
   "sideBar": true,
   "skip_h1_title": true,
   "title_cell": "Содержание",
   "title_sidebar": "Contents",
   "toc_cell": true,
   "toc_position": {},
   "toc_section_display": true,
   "toc_window_display": false
  }
 },
 "nbformat": 4,
 "nbformat_minor": 2
}
