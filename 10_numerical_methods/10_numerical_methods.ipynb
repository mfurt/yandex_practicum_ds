{
 "cells": [
  {
   "cell_type": "markdown",
   "metadata": {},
   "source": [
    "# Определение стоимости автомобилей"
   ]
  },
  {
   "cell_type": "markdown",
   "metadata": {},
   "source": [
    "Сервис по продаже автомобилей с пробегом «Не бит, не крашен» разрабатывает приложение для привлечения новых клиентов. В нём можно быстро узнать рыночную стоимость своего автомобиля. В вашем распоряжении исторические данные: технические характеристики, комплектации и цены автомобилей. Вам нужно построить модель для определения стоимости. \n",
    "\n",
    "Заказчику важны:\n",
    "\n",
    "- качество предсказания;\n",
    "- скорость предсказания;\n",
    "- время обучения."
   ]
  },
  {
   "cell_type": "code",
   "execution_count": 1,
   "metadata": {},
   "outputs": [],
   "source": [
    "import warnings\n",
    "import pandas as pd\n",
    "import numpy as np\n",
    "import matplotlib.pyplot as plt\n",
    "from sklearn.model_selection import train_test_split, KFold\n",
    "from sklearn.preprocessing import OrdinalEncoder, StandardScaler\n",
    "from sklearn.linear_model import LinearRegression\n",
    "from sklearn.metrics import mean_squared_error\n",
    "from lightgbm import LGBMRegressor\n",
    "from xgboost import XGBRegressor\n",
    "from catboost import CatBoostRegressor\n",
    "from sklearn.ensemble import RandomForestRegressor\n",
    "from sklearn.model_selection import RandomizedSearchCV\n",
    "warnings.filterwarnings('ignore')"
   ]
  },
  {
   "cell_type": "markdown",
   "metadata": {},
   "source": [
    "## Подготовка данных"
   ]
  },
  {
   "cell_type": "markdown",
   "metadata": {},
   "source": [
    "### Прелюдии"
   ]
  },
  {
   "cell_type": "code",
   "execution_count": 2,
   "metadata": {},
   "outputs": [
    {
     "data": {
      "text/html": [
       "<div>\n",
       "<style scoped>\n",
       "    .dataframe tbody tr th:only-of-type {\n",
       "        vertical-align: middle;\n",
       "    }\n",
       "\n",
       "    .dataframe tbody tr th {\n",
       "        vertical-align: top;\n",
       "    }\n",
       "\n",
       "    .dataframe thead th {\n",
       "        text-align: right;\n",
       "    }\n",
       "</style>\n",
       "<table border=\"1\" class=\"dataframe\">\n",
       "  <thead>\n",
       "    <tr style=\"text-align: right;\">\n",
       "      <th></th>\n",
       "      <th>DateCrawled</th>\n",
       "      <th>Price</th>\n",
       "      <th>VehicleType</th>\n",
       "      <th>RegistrationYear</th>\n",
       "      <th>Gearbox</th>\n",
       "      <th>Power</th>\n",
       "      <th>Model</th>\n",
       "      <th>Kilometer</th>\n",
       "      <th>RegistrationMonth</th>\n",
       "      <th>FuelType</th>\n",
       "      <th>Brand</th>\n",
       "      <th>Repaired</th>\n",
       "      <th>DateCreated</th>\n",
       "      <th>NumberOfPictures</th>\n",
       "      <th>PostalCode</th>\n",
       "      <th>LastSeen</th>\n",
       "    </tr>\n",
       "  </thead>\n",
       "  <tbody>\n",
       "    <tr>\n",
       "      <th>0</th>\n",
       "      <td>2016-03-24 11:52:17</td>\n",
       "      <td>480</td>\n",
       "      <td>NaN</td>\n",
       "      <td>1993</td>\n",
       "      <td>manual</td>\n",
       "      <td>0</td>\n",
       "      <td>golf</td>\n",
       "      <td>150000</td>\n",
       "      <td>0</td>\n",
       "      <td>petrol</td>\n",
       "      <td>volkswagen</td>\n",
       "      <td>NaN</td>\n",
       "      <td>2016-03-24 00:00:00</td>\n",
       "      <td>0</td>\n",
       "      <td>70435</td>\n",
       "      <td>2016-04-07 03:16:57</td>\n",
       "    </tr>\n",
       "    <tr>\n",
       "      <th>1</th>\n",
       "      <td>2016-03-24 10:58:45</td>\n",
       "      <td>18300</td>\n",
       "      <td>coupe</td>\n",
       "      <td>2011</td>\n",
       "      <td>manual</td>\n",
       "      <td>190</td>\n",
       "      <td>NaN</td>\n",
       "      <td>125000</td>\n",
       "      <td>5</td>\n",
       "      <td>gasoline</td>\n",
       "      <td>audi</td>\n",
       "      <td>yes</td>\n",
       "      <td>2016-03-24 00:00:00</td>\n",
       "      <td>0</td>\n",
       "      <td>66954</td>\n",
       "      <td>2016-04-07 01:46:50</td>\n",
       "    </tr>\n",
       "    <tr>\n",
       "      <th>2</th>\n",
       "      <td>2016-03-14 12:52:21</td>\n",
       "      <td>9800</td>\n",
       "      <td>suv</td>\n",
       "      <td>2004</td>\n",
       "      <td>auto</td>\n",
       "      <td>163</td>\n",
       "      <td>grand</td>\n",
       "      <td>125000</td>\n",
       "      <td>8</td>\n",
       "      <td>gasoline</td>\n",
       "      <td>jeep</td>\n",
       "      <td>NaN</td>\n",
       "      <td>2016-03-14 00:00:00</td>\n",
       "      <td>0</td>\n",
       "      <td>90480</td>\n",
       "      <td>2016-04-05 12:47:46</td>\n",
       "    </tr>\n",
       "    <tr>\n",
       "      <th>3</th>\n",
       "      <td>2016-03-17 16:54:04</td>\n",
       "      <td>1500</td>\n",
       "      <td>small</td>\n",
       "      <td>2001</td>\n",
       "      <td>manual</td>\n",
       "      <td>75</td>\n",
       "      <td>golf</td>\n",
       "      <td>150000</td>\n",
       "      <td>6</td>\n",
       "      <td>petrol</td>\n",
       "      <td>volkswagen</td>\n",
       "      <td>no</td>\n",
       "      <td>2016-03-17 00:00:00</td>\n",
       "      <td>0</td>\n",
       "      <td>91074</td>\n",
       "      <td>2016-03-17 17:40:17</td>\n",
       "    </tr>\n",
       "    <tr>\n",
       "      <th>4</th>\n",
       "      <td>2016-03-31 17:25:20</td>\n",
       "      <td>3600</td>\n",
       "      <td>small</td>\n",
       "      <td>2008</td>\n",
       "      <td>manual</td>\n",
       "      <td>69</td>\n",
       "      <td>fabia</td>\n",
       "      <td>90000</td>\n",
       "      <td>7</td>\n",
       "      <td>gasoline</td>\n",
       "      <td>skoda</td>\n",
       "      <td>no</td>\n",
       "      <td>2016-03-31 00:00:00</td>\n",
       "      <td>0</td>\n",
       "      <td>60437</td>\n",
       "      <td>2016-04-06 10:17:21</td>\n",
       "    </tr>\n",
       "  </tbody>\n",
       "</table>\n",
       "</div>"
      ],
      "text/plain": [
       "           DateCrawled  Price VehicleType  RegistrationYear Gearbox  Power  \\\n",
       "0  2016-03-24 11:52:17    480         NaN              1993  manual      0   \n",
       "1  2016-03-24 10:58:45  18300       coupe              2011  manual    190   \n",
       "2  2016-03-14 12:52:21   9800         suv              2004    auto    163   \n",
       "3  2016-03-17 16:54:04   1500       small              2001  manual     75   \n",
       "4  2016-03-31 17:25:20   3600       small              2008  manual     69   \n",
       "\n",
       "   Model  Kilometer  RegistrationMonth  FuelType       Brand Repaired  \\\n",
       "0   golf     150000                  0    petrol  volkswagen      NaN   \n",
       "1    NaN     125000                  5  gasoline        audi      yes   \n",
       "2  grand     125000                  8  gasoline        jeep      NaN   \n",
       "3   golf     150000                  6    petrol  volkswagen       no   \n",
       "4  fabia      90000                  7  gasoline       skoda       no   \n",
       "\n",
       "           DateCreated  NumberOfPictures  PostalCode             LastSeen  \n",
       "0  2016-03-24 00:00:00                 0       70435  2016-04-07 03:16:57  \n",
       "1  2016-03-24 00:00:00                 0       66954  2016-04-07 01:46:50  \n",
       "2  2016-03-14 00:00:00                 0       90480  2016-04-05 12:47:46  \n",
       "3  2016-03-17 00:00:00                 0       91074  2016-03-17 17:40:17  \n",
       "4  2016-03-31 00:00:00                 0       60437  2016-04-06 10:17:21  "
      ]
     },
     "execution_count": 2,
     "metadata": {},
     "output_type": "execute_result"
    }
   ],
   "source": [
    "# открываем файл\n",
    "df = pd.read_csv('/datasets/autos.csv')\n",
    "df.head()"
   ]
  },
  {
   "cell_type": "code",
   "execution_count": 3,
   "metadata": {},
   "outputs": [
    {
     "name": "stdout",
     "output_type": "stream",
     "text": [
      "<class 'pandas.core.frame.DataFrame'>\n",
      "RangeIndex: 354369 entries, 0 to 354368\n",
      "Data columns (total 16 columns):\n",
      " #   Column             Non-Null Count   Dtype \n",
      "---  ------             --------------   ----- \n",
      " 0   DateCrawled        354369 non-null  object\n",
      " 1   Price              354369 non-null  int64 \n",
      " 2   VehicleType        316879 non-null  object\n",
      " 3   RegistrationYear   354369 non-null  int64 \n",
      " 4   Gearbox            334536 non-null  object\n",
      " 5   Power              354369 non-null  int64 \n",
      " 6   Model              334664 non-null  object\n",
      " 7   Kilometer          354369 non-null  int64 \n",
      " 8   RegistrationMonth  354369 non-null  int64 \n",
      " 9   FuelType           321474 non-null  object\n",
      " 10  Brand              354369 non-null  object\n",
      " 11  Repaired           283215 non-null  object\n",
      " 12  DateCreated        354369 non-null  object\n",
      " 13  NumberOfPictures   354369 non-null  int64 \n",
      " 14  PostalCode         354369 non-null  int64 \n",
      " 15  LastSeen           354369 non-null  object\n",
      "dtypes: int64(7), object(9)\n",
      "memory usage: 43.3+ MB\n"
     ]
    }
   ],
   "source": [
    "# смотрим на общую информацию, привет пропускам\n",
    "df.info()"
   ]
  },
  {
   "cell_type": "markdown",
   "metadata": {},
   "source": [
    "**Сразу можно отметить пустоты в значениях\n",
    "<br>А так же нужно преобразовать типы данных\n",
    "<br>И изменить название признаков**"
   ]
  },
  {
   "cell_type": "code",
   "execution_count": 4,
   "metadata": {},
   "outputs": [
    {
     "data": {
      "text/html": [
       "<div>\n",
       "<style scoped>\n",
       "    .dataframe tbody tr th:only-of-type {\n",
       "        vertical-align: middle;\n",
       "    }\n",
       "\n",
       "    .dataframe tbody tr th {\n",
       "        vertical-align: top;\n",
       "    }\n",
       "\n",
       "    .dataframe thead th {\n",
       "        text-align: right;\n",
       "    }\n",
       "</style>\n",
       "<table border=\"1\" class=\"dataframe\">\n",
       "  <thead>\n",
       "    <tr style=\"text-align: right;\">\n",
       "      <th></th>\n",
       "      <th>Price</th>\n",
       "      <th>RegistrationYear</th>\n",
       "      <th>Power</th>\n",
       "      <th>Kilometer</th>\n",
       "      <th>RegistrationMonth</th>\n",
       "      <th>NumberOfPictures</th>\n",
       "      <th>PostalCode</th>\n",
       "    </tr>\n",
       "  </thead>\n",
       "  <tbody>\n",
       "    <tr>\n",
       "      <th>count</th>\n",
       "      <td>354369.000000</td>\n",
       "      <td>354369.000000</td>\n",
       "      <td>354369.000000</td>\n",
       "      <td>354369.000000</td>\n",
       "      <td>354369.000000</td>\n",
       "      <td>354369.0</td>\n",
       "      <td>354369.000000</td>\n",
       "    </tr>\n",
       "    <tr>\n",
       "      <th>mean</th>\n",
       "      <td>4416.656776</td>\n",
       "      <td>2004.234448</td>\n",
       "      <td>110.094337</td>\n",
       "      <td>128211.172535</td>\n",
       "      <td>5.714645</td>\n",
       "      <td>0.0</td>\n",
       "      <td>50508.689087</td>\n",
       "    </tr>\n",
       "    <tr>\n",
       "      <th>std</th>\n",
       "      <td>4514.158514</td>\n",
       "      <td>90.227958</td>\n",
       "      <td>189.850405</td>\n",
       "      <td>37905.341530</td>\n",
       "      <td>3.726421</td>\n",
       "      <td>0.0</td>\n",
       "      <td>25783.096248</td>\n",
       "    </tr>\n",
       "    <tr>\n",
       "      <th>min</th>\n",
       "      <td>0.000000</td>\n",
       "      <td>1000.000000</td>\n",
       "      <td>0.000000</td>\n",
       "      <td>5000.000000</td>\n",
       "      <td>0.000000</td>\n",
       "      <td>0.0</td>\n",
       "      <td>1067.000000</td>\n",
       "    </tr>\n",
       "    <tr>\n",
       "      <th>25%</th>\n",
       "      <td>1050.000000</td>\n",
       "      <td>1999.000000</td>\n",
       "      <td>69.000000</td>\n",
       "      <td>125000.000000</td>\n",
       "      <td>3.000000</td>\n",
       "      <td>0.0</td>\n",
       "      <td>30165.000000</td>\n",
       "    </tr>\n",
       "    <tr>\n",
       "      <th>50%</th>\n",
       "      <td>2700.000000</td>\n",
       "      <td>2003.000000</td>\n",
       "      <td>105.000000</td>\n",
       "      <td>150000.000000</td>\n",
       "      <td>6.000000</td>\n",
       "      <td>0.0</td>\n",
       "      <td>49413.000000</td>\n",
       "    </tr>\n",
       "    <tr>\n",
       "      <th>75%</th>\n",
       "      <td>6400.000000</td>\n",
       "      <td>2008.000000</td>\n",
       "      <td>143.000000</td>\n",
       "      <td>150000.000000</td>\n",
       "      <td>9.000000</td>\n",
       "      <td>0.0</td>\n",
       "      <td>71083.000000</td>\n",
       "    </tr>\n",
       "    <tr>\n",
       "      <th>max</th>\n",
       "      <td>20000.000000</td>\n",
       "      <td>9999.000000</td>\n",
       "      <td>20000.000000</td>\n",
       "      <td>150000.000000</td>\n",
       "      <td>12.000000</td>\n",
       "      <td>0.0</td>\n",
       "      <td>99998.000000</td>\n",
       "    </tr>\n",
       "  </tbody>\n",
       "</table>\n",
       "</div>"
      ],
      "text/plain": [
       "               Price  RegistrationYear          Power      Kilometer  \\\n",
       "count  354369.000000     354369.000000  354369.000000  354369.000000   \n",
       "mean     4416.656776       2004.234448     110.094337  128211.172535   \n",
       "std      4514.158514         90.227958     189.850405   37905.341530   \n",
       "min         0.000000       1000.000000       0.000000    5000.000000   \n",
       "25%      1050.000000       1999.000000      69.000000  125000.000000   \n",
       "50%      2700.000000       2003.000000     105.000000  150000.000000   \n",
       "75%      6400.000000       2008.000000     143.000000  150000.000000   \n",
       "max     20000.000000       9999.000000   20000.000000  150000.000000   \n",
       "\n",
       "       RegistrationMonth  NumberOfPictures     PostalCode  \n",
       "count      354369.000000          354369.0  354369.000000  \n",
       "mean            5.714645               0.0   50508.689087  \n",
       "std             3.726421               0.0   25783.096248  \n",
       "min             0.000000               0.0    1067.000000  \n",
       "25%             3.000000               0.0   30165.000000  \n",
       "50%             6.000000               0.0   49413.000000  \n",
       "75%             9.000000               0.0   71083.000000  \n",
       "max            12.000000               0.0   99998.000000  "
      ]
     },
     "execution_count": 4,
     "metadata": {},
     "output_type": "execute_result"
    }
   ],
   "source": [
    "# смотрим на распределение, аномалиям тоже привет\n",
    "df.describe()"
   ]
  },
  {
   "cell_type": "markdown",
   "metadata": {},
   "source": [
    "### Начнем с изменения названий фичей"
   ]
  },
  {
   "cell_type": "code",
   "execution_count": 5,
   "metadata": {},
   "outputs": [
    {
     "data": {
      "text/html": [
       "<div>\n",
       "<style scoped>\n",
       "    .dataframe tbody tr th:only-of-type {\n",
       "        vertical-align: middle;\n",
       "    }\n",
       "\n",
       "    .dataframe tbody tr th {\n",
       "        vertical-align: top;\n",
       "    }\n",
       "\n",
       "    .dataframe thead th {\n",
       "        text-align: right;\n",
       "    }\n",
       "</style>\n",
       "<table border=\"1\" class=\"dataframe\">\n",
       "  <thead>\n",
       "    <tr style=\"text-align: right;\">\n",
       "      <th></th>\n",
       "      <th>date_crawled</th>\n",
       "      <th>price</th>\n",
       "      <th>vehicle_type</th>\n",
       "      <th>registration_year</th>\n",
       "      <th>gearbox</th>\n",
       "      <th>power</th>\n",
       "      <th>model</th>\n",
       "      <th>kilometer</th>\n",
       "      <th>registration_month</th>\n",
       "      <th>fuel_type</th>\n",
       "      <th>brand</th>\n",
       "      <th>repaired</th>\n",
       "      <th>date_created</th>\n",
       "      <th>number_of_pictures</th>\n",
       "      <th>postal_code</th>\n",
       "      <th>last_seen</th>\n",
       "    </tr>\n",
       "  </thead>\n",
       "  <tbody>\n",
       "    <tr>\n",
       "      <th>0</th>\n",
       "      <td>2016-03-24 11:52:17</td>\n",
       "      <td>480</td>\n",
       "      <td>NaN</td>\n",
       "      <td>1993</td>\n",
       "      <td>manual</td>\n",
       "      <td>0</td>\n",
       "      <td>golf</td>\n",
       "      <td>150000</td>\n",
       "      <td>0</td>\n",
       "      <td>petrol</td>\n",
       "      <td>volkswagen</td>\n",
       "      <td>NaN</td>\n",
       "      <td>2016-03-24 00:00:00</td>\n",
       "      <td>0</td>\n",
       "      <td>70435</td>\n",
       "      <td>2016-04-07 03:16:57</td>\n",
       "    </tr>\n",
       "    <tr>\n",
       "      <th>1</th>\n",
       "      <td>2016-03-24 10:58:45</td>\n",
       "      <td>18300</td>\n",
       "      <td>coupe</td>\n",
       "      <td>2011</td>\n",
       "      <td>manual</td>\n",
       "      <td>190</td>\n",
       "      <td>NaN</td>\n",
       "      <td>125000</td>\n",
       "      <td>5</td>\n",
       "      <td>gasoline</td>\n",
       "      <td>audi</td>\n",
       "      <td>yes</td>\n",
       "      <td>2016-03-24 00:00:00</td>\n",
       "      <td>0</td>\n",
       "      <td>66954</td>\n",
       "      <td>2016-04-07 01:46:50</td>\n",
       "    </tr>\n",
       "    <tr>\n",
       "      <th>2</th>\n",
       "      <td>2016-03-14 12:52:21</td>\n",
       "      <td>9800</td>\n",
       "      <td>suv</td>\n",
       "      <td>2004</td>\n",
       "      <td>auto</td>\n",
       "      <td>163</td>\n",
       "      <td>grand</td>\n",
       "      <td>125000</td>\n",
       "      <td>8</td>\n",
       "      <td>gasoline</td>\n",
       "      <td>jeep</td>\n",
       "      <td>NaN</td>\n",
       "      <td>2016-03-14 00:00:00</td>\n",
       "      <td>0</td>\n",
       "      <td>90480</td>\n",
       "      <td>2016-04-05 12:47:46</td>\n",
       "    </tr>\n",
       "    <tr>\n",
       "      <th>3</th>\n",
       "      <td>2016-03-17 16:54:04</td>\n",
       "      <td>1500</td>\n",
       "      <td>small</td>\n",
       "      <td>2001</td>\n",
       "      <td>manual</td>\n",
       "      <td>75</td>\n",
       "      <td>golf</td>\n",
       "      <td>150000</td>\n",
       "      <td>6</td>\n",
       "      <td>petrol</td>\n",
       "      <td>volkswagen</td>\n",
       "      <td>no</td>\n",
       "      <td>2016-03-17 00:00:00</td>\n",
       "      <td>0</td>\n",
       "      <td>91074</td>\n",
       "      <td>2016-03-17 17:40:17</td>\n",
       "    </tr>\n",
       "    <tr>\n",
       "      <th>4</th>\n",
       "      <td>2016-03-31 17:25:20</td>\n",
       "      <td>3600</td>\n",
       "      <td>small</td>\n",
       "      <td>2008</td>\n",
       "      <td>manual</td>\n",
       "      <td>69</td>\n",
       "      <td>fabia</td>\n",
       "      <td>90000</td>\n",
       "      <td>7</td>\n",
       "      <td>gasoline</td>\n",
       "      <td>skoda</td>\n",
       "      <td>no</td>\n",
       "      <td>2016-03-31 00:00:00</td>\n",
       "      <td>0</td>\n",
       "      <td>60437</td>\n",
       "      <td>2016-04-06 10:17:21</td>\n",
       "    </tr>\n",
       "  </tbody>\n",
       "</table>\n",
       "</div>"
      ],
      "text/plain": [
       "          date_crawled  price vehicle_type  registration_year gearbox  power  \\\n",
       "0  2016-03-24 11:52:17    480          NaN               1993  manual      0   \n",
       "1  2016-03-24 10:58:45  18300        coupe               2011  manual    190   \n",
       "2  2016-03-14 12:52:21   9800          suv               2004    auto    163   \n",
       "3  2016-03-17 16:54:04   1500        small               2001  manual     75   \n",
       "4  2016-03-31 17:25:20   3600        small               2008  manual     69   \n",
       "\n",
       "   model  kilometer  registration_month fuel_type       brand repaired  \\\n",
       "0   golf     150000                   0    petrol  volkswagen      NaN   \n",
       "1    NaN     125000                   5  gasoline        audi      yes   \n",
       "2  grand     125000                   8  gasoline        jeep      NaN   \n",
       "3   golf     150000                   6    petrol  volkswagen       no   \n",
       "4  fabia      90000                   7  gasoline       skoda       no   \n",
       "\n",
       "          date_created  number_of_pictures  postal_code            last_seen  \n",
       "0  2016-03-24 00:00:00                   0        70435  2016-04-07 03:16:57  \n",
       "1  2016-03-24 00:00:00                   0        66954  2016-04-07 01:46:50  \n",
       "2  2016-03-14 00:00:00                   0        90480  2016-04-05 12:47:46  \n",
       "3  2016-03-17 00:00:00                   0        91074  2016-03-17 17:40:17  \n",
       "4  2016-03-31 00:00:00                   0        60437  2016-04-06 10:17:21  "
      ]
     },
     "execution_count": 5,
     "metadata": {},
     "output_type": "execute_result"
    }
   ],
   "source": [
    "# понизим в нижний регистр названия и разделим слова camel_case\n",
    "df = df.rename(columns={'DateCrawled':'Date_Crawled', \n",
    "                        'VehicleType':'Vehicle_Type',\n",
    "                        'RegistrationYear':'Registration_Year', \n",
    "                        'RegistrationMonth':'Registration_Month', \n",
    "                        'FuelType':'Fuel_Type', \n",
    "                        'DateCreated':'Date_Created',\n",
    "                        'NumberOfPictures':'Number_Of_Pictures',\n",
    "                        'PostalCode':'Postal_Code',\n",
    "                        'LastSeen':'Last_Seen'})\n",
    "df.columns = df.columns.str.lower()\n",
    "df.head()"
   ]
  },
  {
   "cell_type": "markdown",
   "metadata": {},
   "source": [
    "### Рассмотрим признаки"
   ]
  },
  {
   "cell_type": "code",
   "execution_count": 6,
   "metadata": {},
   "outputs": [],
   "source": [
    "# Заведём множества для категоризации признаков\n",
    "drop_features = set()\n",
    "categorical_features = set()\n",
    "numeric_features = set()"
   ]
  },
  {
   "cell_type": "markdown",
   "metadata": {},
   "source": [
    "**date_crawled**"
   ]
  },
  {
   "cell_type": "code",
   "execution_count": 7,
   "metadata": {},
   "outputs": [
    {
     "name": "stdout",
     "output_type": "stream",
     "text": [
      "Все категории: ['2016-03-24 11:52:17' '2016-03-24 10:58:45' '2016-03-14 12:52:21' ...\n",
      " '2016-03-21 09:50:58' '2016-03-14 17:48:27' '2016-03-19 18:57:12']\n"
     ]
    }
   ],
   "source": [
    "col = 'date_crawled'\n",
    "unique = df[col].unique()\n",
    "print('Все категории:', unique)"
   ]
  },
  {
   "cell_type": "code",
   "execution_count": 8,
   "metadata": {},
   "outputs": [],
   "source": [
    "# Вывод: эту колонку можно выбросить из обучения, это просто дата загрузки \n",
    "drop_features.add(col)"
   ]
  },
  {
   "cell_type": "markdown",
   "metadata": {},
   "source": [
    "**price**"
   ]
  },
  {
   "cell_type": "code",
   "execution_count": 9,
   "metadata": {},
   "outputs": [
    {
     "name": "stdout",
     "output_type": "stream",
     "text": [
      "Все категории: [  480 18300  9800 ... 12395 18429 10985]\n"
     ]
    }
   ],
   "source": [
    "col = 'price'\n",
    "unique = df[col].unique()\n",
    "print('Все категории:', unique)"
   ]
  },
  {
   "cell_type": "code",
   "execution_count": 10,
   "metadata": {},
   "outputs": [],
   "source": [
    "# Вывод - признак численный\n",
    "numeric_features.add(col)"
   ]
  },
  {
   "cell_type": "markdown",
   "metadata": {},
   "source": [
    "**vehicle_type**"
   ]
  },
  {
   "cell_type": "code",
   "execution_count": 11,
   "metadata": {},
   "outputs": [
    {
     "name": "stdout",
     "output_type": "stream",
     "text": [
      "Все категории: [nan 'coupe' 'suv' 'small' 'sedan' 'convertible' 'bus' 'wagon' 'other']\n",
      "sedan          91457\n",
      "small          79831\n",
      "wagon          65166\n",
      "bus            28775\n",
      "convertible    20203\n",
      "coupe          16163\n",
      "suv            11996\n",
      "other           3288\n",
      "Name: vehicle_type, dtype: int64\n"
     ]
    }
   ],
   "source": [
    "col = 'vehicle_type'\n",
    "unique = df[col].unique()\n",
    "count = df[col].value_counts()\n",
    "print('Все категории:', unique)\n",
    "print(count)"
   ]
  },
  {
   "cell_type": "code",
   "execution_count": 12,
   "metadata": {},
   "outputs": [],
   "source": [
    "# Вывод - это категориальный признак\n",
    "categorical_features.add(col)"
   ]
  },
  {
   "cell_type": "markdown",
   "metadata": {},
   "source": [
    "**registration_year**"
   ]
  },
  {
   "cell_type": "code",
   "execution_count": 13,
   "metadata": {},
   "outputs": [
    {
     "name": "stdout",
     "output_type": "stream",
     "text": [
      "Все категории: [1993 2011 2004 2001 2008 1995 1980 2014 1998 2005 1910 2016 2007 2009\n",
      " 2002 2018 1997 1990 2017 1981 2003 1994 1991 1984 2006 1999 2012 2010\n",
      " 2000 1992 2013 1996 1985 1989 2015 1982 1976 1983 1973 1111 1969 1971\n",
      " 1987 1986 1988 1970 1965 1945 1925 1974 1979 1955 1978 1972 1968 1977\n",
      " 1961 1960 1966 1975 1963 1964 5000 1954 1958 1967 1959 9999 1956 3200\n",
      " 1000 1941 8888 1500 2200 4100 1962 1929 1957 1940 3000 2066 1949 2019\n",
      " 1937 1951 1800 1953 1234 8000 5300 9000 2900 6000 5900 5911 1933 1400\n",
      " 1950 4000 1948 1952 1200 8500 1932 1255 3700 3800 4800 1942 7000 1935\n",
      " 1936 6500 1923 2290 2500 1930 1001 9450 1944 1943 1934 1938 1688 2800\n",
      " 1253 1928 1919 5555 5600 1600 2222 1039 9996 1300 8455 1931 1915 4500\n",
      " 1920 1602 7800 9229 1947 1927 7100 8200 1946 7500 3500]\n"
     ]
    }
   ],
   "source": [
    "# не до конца понял, это регистрация в ГАИ или регистрация на заводе. Просто регистрация в ГАИ для цены смысловой\n",
    "# нагрузки не имеет, но оставим, потому что я не уверен\n",
    "col = 'registration_year'\n",
    "unique = df[col].unique()\n",
    "print('Все категории:', unique)"
   ]
  },
  {
   "cell_type": "code",
   "execution_count": 14,
   "metadata": {},
   "outputs": [],
   "source": [
    "# Вывод - признак численный\n",
    "numeric_features.add(col)"
   ]
  },
  {
   "cell_type": "markdown",
   "metadata": {},
   "source": [
    "**gearbox**"
   ]
  },
  {
   "cell_type": "code",
   "execution_count": 15,
   "metadata": {},
   "outputs": [
    {
     "name": "stdout",
     "output_type": "stream",
     "text": [
      "Все категории: ['manual' 'auto' nan]\n"
     ]
    }
   ],
   "source": [
    "col = 'gearbox'\n",
    "unique = df[col].unique()\n",
    "print('Все категории:', unique)"
   ]
  },
  {
   "cell_type": "code",
   "execution_count": 16,
   "metadata": {},
   "outputs": [],
   "source": [
    "# Вывод - это категориальный признак\n",
    "categorical_features.add(col)"
   ]
  },
  {
   "cell_type": "markdown",
   "metadata": {},
   "source": [
    "**power**"
   ]
  },
  {
   "cell_type": "code",
   "execution_count": 17,
   "metadata": {},
   "outputs": [
    {
     "name": "stdout",
     "output_type": "stream",
     "text": [
      "Все категории: [    0   190   163    75    69   102   109    50   125   101   105   140\n",
      "   115   131    60   136   160   231    90   118   193    99   113   218\n",
      "   122   129    70   306    95    61   177    80   170    55   143    64\n",
      "   286   232   150   156    82   155    54   185    87   180    86    84\n",
      "   224   235   200   178   265    77   110   144   120   116   184   126\n",
      "   204    88   194   305   197   179   250    45   313    41   165    98\n",
      "   130   114   211    56   201   213    58   107    83   174   100   220\n",
      "    85    73   192    68    66   299    74    52   147    65   310    71\n",
      "    97   239   203     5   300   103   258   320    63    81   148    44\n",
      "   145   230   280   260   104   188   333   186   117   141    59   132\n",
      "   234   158    39    92    51   135    53   209    43   146    67   106\n",
      "   166   276   344    72   249   237   245   111   326   279    23   138\n",
      "   175    96   226    26    37   301   334   128   133   124    33   219\n",
      "   241   167    94   182   196   238  1398   228   112    48   272   139\n",
      "  1799    40   240    79   256   360   243   375   252   396   340   108\n",
      "   121   345   187   289   222   198   284   450   233   387   152   347\n",
      "   172    57   137   212   476   314    30     7    47   173   290   207\n",
      "   205   171   750    78    91    89   349   325    76   151   350   953\n",
      "    93   142   500   343   199   119   164    16   264   367   208   210\n",
      "    46   435  1001   225   127   176   161   603   307   354    35   206\n",
      "   771   355   273   223   255   123   154   149  7515  1400   268   620\n",
      "   169   400   275    34     2   242  1779   285   162   328  1753   329\n",
      "   134   420   247   168 10317   215    18   330   283    62    10   214\n",
      "   183   254    15   321   322   315   952   600   181   426   599   379\n",
      "   999    22   157    42   195   553     4   309   507   381   271   440\n",
      "   189   401  1111  2729    21   236  1240  1704   521     1  1900   270\n",
      "    24   159   292   808   515  1200   303    29    38  1993    14   216\n",
      "   610   504    49   267   331   363   261   385  1011   253   696 10520\n",
      "   376   227   311    27   217    20  1999    11  1056    25   394    12\n",
      "   298   296  1659   294   551  6920   246    17  1800  1625   368   390\n",
      "   221  1367   259   606   327  2017  1597   266   374   392     9   405\n",
      "    13   262   601   430   295     8   411   900   541  7512   382 10218\n",
      "  7544  1102   287    19   751   297  1090   457   282   602   388     6\n",
      "  1000  5411   335  1360   202  3750   805  1062  1024 11530   364  1796\n",
      "  5000   269   460  1002   288  1780 12012 17932   316  2005  1399   191\n",
      "   278  1300   380   257   449  1256   153  1653   520   560   281 12510\n",
      "     3  1500   386    32  1202  2016  1436  1405   671   274  1288  1055\n",
      " 10912 15016  6226  1115   277  1105   341  1223  2340  8404  1968   338\n",
      "   445  1920   370   517  4400 10710 10522  9010   431  1164 11509   371\n",
      "  1501   428 11635    36   304   348  1703  1910  1995   579 10000   580\n",
      "   408    31  1005   358  1403   489  5575 19211   585   960   365   353\n",
      "   490   352  1801   346   550  3199   800  7508  1312   357  1937   950\n",
      "  4700  1600  3454 19208   251   850   337   700  8011  2331  2789   487\n",
      "   519  2461  6006  3500  5815  6018  1781  1503   612  1596   229  1506\n",
      "  5809 15020  5867  2172  1598 17410  1363   584  1054   851  1339   318\n",
      "   510   525  1700    28  1151   685  6011   317   703  1771 15001   514\n",
      "   362   332   324  6045   530   425   308  6010   475   903   640  2000\n",
      "   248   651  2799 17011   505  1103  1521   351 16051   398  9000  1998\n",
      " 10311   409  1230 17019 12684  8259  1895   901  1317   871   909  2201\n",
      "  1595   776 17700 11011  1199   459  1162  1120 15033  1896   339   361\n",
      "   574  6512   454   650 13616   604   607 16312  1082   336 20000   416\n",
      "   678  6012  1401  1021  1870 13636  1250  9710   323  1158  2009   902\n",
      "  6062  1275   572   244   399  1016   743  1221  2402 16011  1362   544\n",
      "   645   907   702 12512  1986  1003  1432  9013  9011   442  1017  1394\n",
      " 15017 10910  1992   540  2018 11025  1433  1701  2792  1502  1239  1390\n",
      " 14009  1160  1351 11111  1783  9007   923  1149   754  1988   402  2004\n",
      "  5420  1793  1324   356  7511  1299   293 19312  1079  1689   998  1100\n",
      "  9012  1933   508 16311   682  1252  1922  7529   732  2389  2200  1707\n",
      "  1416  8500  1012   485  3000 10110   421  4507  1631  7518   377  1004\n",
      "  2007  2598  1548  1241]\n"
     ]
    }
   ],
   "source": [
    "col = 'power'\n",
    "unique = df[col].unique()\n",
    "print('Все категории:', unique)"
   ]
  },
  {
   "cell_type": "code",
   "execution_count": 18,
   "metadata": {},
   "outputs": [],
   "source": [
    "# Вывод - признак численный\n",
    "numeric_features.add(col)"
   ]
  },
  {
   "cell_type": "markdown",
   "metadata": {},
   "source": [
    "**model**"
   ]
  },
  {
   "cell_type": "code",
   "execution_count": 19,
   "metadata": {},
   "outputs": [
    {
     "name": "stdout",
     "output_type": "stream",
     "text": [
      "Все категории: ['100' '145' '147' '156' '159' '1_reihe' '1er' '200' '2_reihe' '300c'\n",
      " '3_reihe' '3er' '4_reihe' '500' '5_reihe' '5er' '601' '6_reihe' '6er'\n",
      " '7er' '80' '850' '90' '900' '9000' '911' 'a1' 'a2' 'a3' 'a4' 'a5' 'a6'\n",
      " 'a8' 'a_klasse' 'accord' 'agila' 'alhambra' 'almera' 'altea' 'amarok'\n",
      " 'antara' 'arosa' 'astra' 'auris' 'avensis' 'aveo' 'aygo' 'b_klasse'\n",
      " 'b_max' 'beetle' 'berlingo' 'bora' 'boxster' 'bravo' 'c1' 'c2' 'c3' 'c4'\n",
      " 'c5' 'c_klasse' 'c_max' 'c_reihe' 'caddy' 'calibra' 'captiva' 'carisma'\n",
      " 'carnival' 'cayenne' 'cc' 'ceed' 'charade' 'cherokee' 'citigo' 'civic'\n",
      " 'cl' 'clio' 'clk' 'clubman' 'colt' 'combo' 'cooper' 'cordoba' 'corolla'\n",
      " 'corsa' 'cr_reihe' 'croma' 'crossfire' 'cuore' 'cx_reihe' 'defender'\n",
      " 'delta' 'discovery' 'doblo' 'ducato' 'duster' 'e_klasse' 'elefantino'\n",
      " 'eos' 'escort' 'espace' 'exeo' 'fabia' 'fiesta' 'focus' 'forester'\n",
      " 'forfour' 'fortwo' 'fox' 'freelander' 'fusion' 'g_klasse' 'galant'\n",
      " 'galaxy' 'getz' 'gl' 'glk' 'golf' 'grand' 'i3' 'i_reihe' 'ibiza'\n",
      " 'impreza' 'insignia' 'jazz' 'jetta' 'jimny' 'juke' 'justy' 'ka' 'kadett'\n",
      " 'kaefer' 'kalina' 'kalos' 'kangoo' 'kappa' 'kuga' 'laguna' 'lancer'\n",
      " 'lanos' 'legacy' 'leon' 'lodgy' 'logan' 'lupo' 'lybra' 'm_klasse'\n",
      " 'm_reihe' 'materia' 'matiz' 'megane' 'meriva' 'micra' 'mii' 'modus'\n",
      " 'mondeo' 'move' 'musa' 'mustang' 'mx_reihe' 'navara' 'niva' 'note'\n",
      " 'nubira' 'octavia' 'omega' 'one' 'other' 'outlander' 'pajero' 'panda'\n",
      " 'passat' 'phaeton' 'picanto' 'polo' 'primera' 'ptcruiser' 'punto' 'q3'\n",
      " 'q5' 'q7' 'qashqai' 'r19' 'range_rover' 'range_rover_evoque'\n",
      " 'range_rover_sport' 'rangerover' 'rav' 'rio' 'roadster' 'roomster'\n",
      " 'rx_reihe' 's60' 's_klasse' 's_max' 's_type' 'samara' 'sandero' 'santa'\n",
      " 'scenic' 'scirocco' 'seicento' 'serie_1' 'serie_2' 'serie_3' 'sharan'\n",
      " 'signum' 'sirion' 'sl' 'slk' 'sorento' 'spark' 'spider' 'sportage'\n",
      " 'sprinter' 'stilo' 'superb' 'swift' 'terios' 'tigra' 'tiguan' 'toledo'\n",
      " 'touareg' 'touran' 'transit' 'transporter' 'tt' 'tucson' 'twingo' 'up'\n",
      " 'v40' 'v50' 'v60' 'v70' 'v_klasse' 'vectra' 'verso' 'viano' 'vito'\n",
      " 'vivaro' 'voyager' 'wrangler' 'x_reihe' 'x_trail' 'x_type' 'xc_reihe'\n",
      " 'yaris' 'yeti' 'ypsilon' 'z_reihe' 'zafira' nan]\n",
      "aveo                  117\n",
      "900                   116\n",
      "antara                108\n",
      "wrangler              103\n",
      "90                    103\n",
      "juke                  102\n",
      "exeo                  100\n",
      "navara                 98\n",
      "q5                     97\n",
      "g_klasse               97\n",
      "kalos                  95\n",
      "citigo                 91\n",
      "lanos                  89\n",
      "911                    84\n",
      "mii                    81\n",
      "discovery              79\n",
      "range_rover            77\n",
      "defender               76\n",
      "cx_reihe               66\n",
      "crossfire              64\n",
      "glk                    64\n",
      "nubira                 62\n",
      "move                   60\n",
      "range_rover_sport      54\n",
      "lybra                  54\n",
      "145                    49\n",
      "croma                  45\n",
      "v60                    42\n",
      "lodgy                  35\n",
      "terios                 35\n",
      "delta                  35\n",
      "9000                   31\n",
      "charade                27\n",
      "b_max                  26\n",
      "musa                   25\n",
      "materia                18\n",
      "200                    18\n",
      "amarok                 16\n",
      "q3                     15\n",
      "kappa                  15\n",
      "samara                 13\n",
      "gl                     13\n",
      "elefantino             11\n",
      "kalina                  9\n",
      "i3                      8\n",
      "serie_2                 8\n",
      "serie_3                 4\n",
      "rangerover              4\n",
      "serie_1                 2\n",
      "range_rover_evoque      2\n",
      "Name: model, dtype: int64\n"
     ]
    }
   ],
   "source": [
    "col = 'model'\n",
    "unique = df[col].sort_values().unique()\n",
    "print('Все категории:', unique)\n",
    "count = df[col].value_counts()\n",
    "print(count[200:])"
   ]
  },
  {
   "cell_type": "code",
   "execution_count": 20,
   "metadata": {},
   "outputs": [],
   "source": [
    "# Вывод - это категориальный признак\n",
    "categorical_features.add(col)"
   ]
  },
  {
   "cell_type": "markdown",
   "metadata": {},
   "source": [
    "**kilometer**"
   ]
  },
  {
   "cell_type": "code",
   "execution_count": 21,
   "metadata": {},
   "outputs": [
    {
     "name": "stdout",
     "output_type": "stream",
     "text": [
      "Все категории: [150000 125000  90000  40000  30000  70000   5000 100000  60000  20000\n",
      "  80000  50000  10000]\n"
     ]
    }
   ],
   "source": [
    "col = 'kilometer'\n",
    "unique = df[col].unique()\n",
    "print('Все категории:', unique)"
   ]
  },
  {
   "cell_type": "code",
   "execution_count": 22,
   "metadata": {},
   "outputs": [],
   "source": [
    "# Вывод - признак численный\n",
    "numeric_features.add(col)"
   ]
  },
  {
   "cell_type": "markdown",
   "metadata": {},
   "source": [
    "**registration_month**"
   ]
  },
  {
   "cell_type": "code",
   "execution_count": 23,
   "metadata": {},
   "outputs": [
    {
     "name": "stdout",
     "output_type": "stream",
     "text": [
      "Все категории: [ 0  5  8  6  7 10 12 11  2  3  1  4  9]\n"
     ]
    }
   ],
   "source": [
    "col = 'registration_month'\n",
    "unique = df[col].unique()\n",
    "print('Все категории:', unique)"
   ]
  },
  {
   "cell_type": "code",
   "execution_count": 24,
   "metadata": {},
   "outputs": [],
   "source": [
    "# Вывод: эту колонку можно выбросить из обучения, помогло бы, если бы исследовали количество продаж\n",
    "drop_features.add(col)"
   ]
  },
  {
   "cell_type": "markdown",
   "metadata": {},
   "source": [
    "**fuel_type**"
   ]
  },
  {
   "cell_type": "code",
   "execution_count": 25,
   "metadata": {},
   "outputs": [
    {
     "name": "stdout",
     "output_type": "stream",
     "text": [
      "Все категории: ['petrol' 'gasoline' nan 'lpg' 'other' 'hybrid' 'cng' 'electric']\n"
     ]
    }
   ],
   "source": [
    "col = 'fuel_type'\n",
    "unique = df[col].unique()\n",
    "print('Все категории:', unique)"
   ]
  },
  {
   "cell_type": "code",
   "execution_count": 26,
   "metadata": {},
   "outputs": [],
   "source": [
    "# Вывод - это категориальный признак\n",
    "categorical_features.add(col)"
   ]
  },
  {
   "cell_type": "markdown",
   "metadata": {},
   "source": [
    "**brand**"
   ]
  },
  {
   "cell_type": "code",
   "execution_count": 27,
   "metadata": {},
   "outputs": [
    {
     "name": "stdout",
     "output_type": "stream",
     "text": [
      "Все категории: ['volkswagen' 'audi' 'jeep' 'skoda' 'bmw' 'peugeot' 'ford' 'mazda'\n",
      " 'nissan' 'renault' 'mercedes_benz' 'opel' 'seat' 'citroen' 'honda' 'fiat'\n",
      " 'mini' 'smart' 'hyundai' 'sonstige_autos' 'alfa_romeo' 'subaru' 'volvo'\n",
      " 'mitsubishi' 'kia' 'suzuki' 'lancia' 'toyota' 'chevrolet' 'dacia'\n",
      " 'daihatsu' 'trabant' 'saab' 'chrysler' 'jaguar' 'daewoo' 'porsche'\n",
      " 'rover' 'land_rover' 'lada']\n"
     ]
    }
   ],
   "source": [
    "col = 'brand'\n",
    "unique = df[col].unique()\n",
    "print('Все категории:', unique)"
   ]
  },
  {
   "cell_type": "code",
   "execution_count": 28,
   "metadata": {},
   "outputs": [],
   "source": [
    "# Вывод - это категориальный признак\n",
    "categorical_features.add(col)"
   ]
  },
  {
   "cell_type": "markdown",
   "metadata": {},
   "source": [
    "**repaired**"
   ]
  },
  {
   "cell_type": "code",
   "execution_count": 29,
   "metadata": {},
   "outputs": [
    {
     "name": "stdout",
     "output_type": "stream",
     "text": [
      "Все категории: [nan 'yes' 'no']\n"
     ]
    }
   ],
   "source": [
    "col = 'repaired'\n",
    "unique = df[col].unique()\n",
    "print('Все категории:', unique)"
   ]
  },
  {
   "cell_type": "code",
   "execution_count": 30,
   "metadata": {},
   "outputs": [],
   "source": [
    "# Вывод - это категориальный признак\n",
    "categorical_features.add(col)"
   ]
  },
  {
   "cell_type": "markdown",
   "metadata": {},
   "source": [
    "**date_created**"
   ]
  },
  {
   "cell_type": "code",
   "execution_count": 31,
   "metadata": {},
   "outputs": [
    {
     "name": "stdout",
     "output_type": "stream",
     "text": [
      "Все категории: ['2016-03-24 00:00:00' '2016-03-14 00:00:00' '2016-03-17 00:00:00'\n",
      " '2016-03-31 00:00:00' '2016-04-04 00:00:00' '2016-04-01 00:00:00'\n",
      " '2016-03-21 00:00:00' '2016-03-26 00:00:00' '2016-04-07 00:00:00'\n",
      " '2016-03-15 00:00:00' '2016-03-11 00:00:00' '2016-03-20 00:00:00'\n",
      " '2016-03-23 00:00:00' '2016-03-27 00:00:00' '2016-03-12 00:00:00'\n",
      " '2016-03-13 00:00:00' '2016-03-18 00:00:00' '2016-03-10 00:00:00'\n",
      " '2016-03-07 00:00:00' '2016-03-09 00:00:00' '2016-03-08 00:00:00'\n",
      " '2016-04-03 00:00:00' '2016-03-29 00:00:00' '2016-03-25 00:00:00'\n",
      " '2016-03-28 00:00:00' '2016-03-30 00:00:00' '2016-03-22 00:00:00'\n",
      " '2016-02-09 00:00:00' '2016-03-05 00:00:00' '2016-04-02 00:00:00'\n",
      " '2016-03-16 00:00:00' '2016-03-19 00:00:00' '2016-04-05 00:00:00'\n",
      " '2016-03-06 00:00:00' '2016-02-12 00:00:00' '2016-03-03 00:00:00'\n",
      " '2016-03-01 00:00:00' '2016-03-04 00:00:00' '2016-04-06 00:00:00'\n",
      " '2016-02-15 00:00:00' '2016-02-24 00:00:00' '2016-02-27 00:00:00'\n",
      " '2015-03-20 00:00:00' '2016-02-28 00:00:00' '2016-02-17 00:00:00'\n",
      " '2016-01-27 00:00:00' '2016-02-20 00:00:00' '2016-02-29 00:00:00'\n",
      " '2016-02-10 00:00:00' '2016-02-23 00:00:00' '2016-02-21 00:00:00'\n",
      " '2015-11-02 00:00:00' '2016-02-19 00:00:00' '2016-02-26 00:00:00'\n",
      " '2016-02-11 00:00:00' '2016-01-10 00:00:00' '2016-02-06 00:00:00'\n",
      " '2016-02-18 00:00:00' '2016-01-29 00:00:00' '2016-03-02 00:00:00'\n",
      " '2015-12-06 00:00:00' '2016-01-24 00:00:00' '2016-01-30 00:00:00'\n",
      " '2016-02-02 00:00:00' '2016-02-16 00:00:00' '2016-02-13 00:00:00'\n",
      " '2016-02-05 00:00:00' '2016-02-22 00:00:00' '2015-11-17 00:00:00'\n",
      " '2014-03-10 00:00:00' '2016-02-07 00:00:00' '2016-01-23 00:00:00'\n",
      " '2016-02-25 00:00:00' '2016-02-14 00:00:00' '2016-01-02 00:00:00'\n",
      " '2015-09-04 00:00:00' '2015-11-12 00:00:00' '2015-12-27 00:00:00'\n",
      " '2015-11-24 00:00:00' '2016-01-20 00:00:00' '2016-02-03 00:00:00'\n",
      " '2015-12-05 00:00:00' '2015-08-07 00:00:00' '2016-01-28 00:00:00'\n",
      " '2016-01-31 00:00:00' '2016-02-08 00:00:00' '2016-01-07 00:00:00'\n",
      " '2016-01-22 00:00:00' '2016-01-18 00:00:00' '2016-01-08 00:00:00'\n",
      " '2015-11-23 00:00:00' '2016-01-13 00:00:00' '2016-01-17 00:00:00'\n",
      " '2016-01-15 00:00:00' '2015-11-08 00:00:00' '2016-01-26 00:00:00'\n",
      " '2016-02-04 00:00:00' '2016-01-25 00:00:00' '2016-01-16 00:00:00'\n",
      " '2015-08-10 00:00:00' '2016-01-03 00:00:00' '2016-01-19 00:00:00'\n",
      " '2015-12-30 00:00:00' '2016-02-01 00:00:00' '2015-12-17 00:00:00'\n",
      " '2015-11-10 00:00:00' '2016-01-06 00:00:00' '2015-09-09 00:00:00'\n",
      " '2015-06-18 00:00:00']\n"
     ]
    }
   ],
   "source": [
    "col = 'date_created'\n",
    "unique = df[col].unique()\n",
    "print('Все категории:', unique)"
   ]
  },
  {
   "cell_type": "code",
   "execution_count": 32,
   "metadata": {},
   "outputs": [],
   "source": [
    "# Вывод: эту колонку можно выбросить из обучения, дата создания объявления, нам не поможет предсказать цену\n",
    "drop_features.add(col)"
   ]
  },
  {
   "cell_type": "markdown",
   "metadata": {},
   "source": [
    "**number_of_pictures**"
   ]
  },
  {
   "cell_type": "code",
   "execution_count": 33,
   "metadata": {},
   "outputs": [
    {
     "name": "stdout",
     "output_type": "stream",
     "text": [
      "Все категории: [0]\n"
     ]
    }
   ],
   "source": [
    "col = 'number_of_pictures'\n",
    "unique = df[col].unique()\n",
    "print('Все категории:', unique)"
   ]
  },
  {
   "cell_type": "code",
   "execution_count": 34,
   "metadata": {},
   "outputs": [],
   "source": [
    "# Вывод: эту колонку можно выбросить из обучения, не несет смысловой нагрузки\n",
    "drop_features.add(col)"
   ]
  },
  {
   "cell_type": "markdown",
   "metadata": {},
   "source": [
    "**postal_code**"
   ]
  },
  {
   "cell_type": "code",
   "execution_count": 35,
   "metadata": {},
   "outputs": [
    {
     "name": "stdout",
     "output_type": "stream",
     "text": [
      "Все категории: [70435 66954 90480 ... 38528 38325 31096]\n"
     ]
    }
   ],
   "source": [
    "col = 'postal_code'\n",
    "unique = df[col].unique()\n",
    "print('Все категории:', unique)"
   ]
  },
  {
   "cell_type": "code",
   "execution_count": 36,
   "metadata": {},
   "outputs": [],
   "source": [
    "# Вывод: эту колонку можно выбросить из обучения, не несет смысловой нагрузки\n",
    "drop_features.add(col)"
   ]
  },
  {
   "cell_type": "markdown",
   "metadata": {},
   "source": [
    "**last_seen**"
   ]
  },
  {
   "cell_type": "code",
   "execution_count": 37,
   "metadata": {},
   "outputs": [
    {
     "name": "stdout",
     "output_type": "stream",
     "text": [
      "Все категории: ['2016-04-07 03:16:57' '2016-04-07 01:46:50' '2016-04-05 12:47:46' ...\n",
      " '2016-03-19 20:44:43' '2016-03-29 10:17:23' '2016-03-21 10:42:49']\n"
     ]
    }
   ],
   "source": [
    "col = 'last_seen'\n",
    "unique = df[col].unique()\n",
    "print('Все категории:', unique)"
   ]
  },
  {
   "cell_type": "code",
   "execution_count": 38,
   "metadata": {},
   "outputs": [],
   "source": [
    "# Вывод: эту колонку можно выбросить из обучения, не несет смысловой нагрузки\n",
    "drop_features.add(col)"
   ]
  },
  {
   "cell_type": "markdown",
   "metadata": {},
   "source": [
    "### Причешем"
   ]
  },
  {
   "cell_type": "code",
   "execution_count": 39,
   "metadata": {
    "scrolled": true
   },
   "outputs": [],
   "source": [
    "# удалим ненужные колонки\n",
    "df = df.drop(columns=drop_features)"
   ]
  },
  {
   "cell_type": "code",
   "execution_count": 42,
   "metadata": {},
   "outputs": [
    {
     "name": "stdout",
     "output_type": "stream",
     "text": [
      "fuel_type:\n",
      "['cng' 'electric' 'gasoline' 'hybrid' 'lpg' 'other' 'petrol' nan]\n",
      "~~~~~~~~~~~~~~~~~~~~~~~~~~~~~~~~~~~~~~~~~~~~~~~~~~~~~~~~~~~~~~~~~~~~~~~~~~~\n",
      "model:\n",
      "['100' '145' '147' '156' '159' '1_reihe' '1er' '200' '2_reihe' '300c'\n",
      " '3_reihe' '3er' '4_reihe' '500' '5_reihe' '5er' '601' '6_reihe' '6er'\n",
      " '7er' '80' '850' '90' '900' '9000' '911' 'a1' 'a2' 'a3' 'a4' 'a5' 'a6'\n",
      " 'a8' 'a_klasse' 'accord' 'agila' 'alhambra' 'almera' 'altea' 'amarok'\n",
      " 'antara' 'arosa' 'astra' 'auris' 'avensis' 'aveo' 'aygo' 'b_klasse'\n",
      " 'b_max' 'beetle' 'berlingo' 'bora' 'boxster' 'bravo' 'c1' 'c2' 'c3' 'c4'\n",
      " 'c5' 'c_klasse' 'c_max' 'c_reihe' 'caddy' 'calibra' 'captiva' 'carisma'\n",
      " 'carnival' 'cayenne' 'cc' 'ceed' 'charade' 'cherokee' 'citigo' 'civic'\n",
      " 'cl' 'clio' 'clk' 'clubman' 'colt' 'combo' 'cooper' 'cordoba' 'corolla'\n",
      " 'corsa' 'cr_reihe' 'croma' 'crossfire' 'cuore' 'cx_reihe' 'defender'\n",
      " 'delta' 'discovery' 'doblo' 'ducato' 'duster' 'e_klasse' 'elefantino'\n",
      " 'eos' 'escort' 'espace' 'exeo' 'fabia' 'fiesta' 'focus' 'forester'\n",
      " 'forfour' 'fortwo' 'fox' 'freelander' 'fusion' 'g_klasse' 'galant'\n",
      " 'galaxy' 'getz' 'gl' 'glk' 'golf' 'grand' 'i3' 'i_reihe' 'ibiza'\n",
      " 'impreza' 'insignia' 'jazz' 'jetta' 'jimny' 'juke' 'justy' 'ka' 'kadett'\n",
      " 'kaefer' 'kalina' 'kalos' 'kangoo' 'kappa' 'kuga' 'laguna' 'lancer'\n",
      " 'lanos' 'legacy' 'leon' 'lodgy' 'logan' 'lupo' 'lybra' 'm_klasse'\n",
      " 'm_reihe' 'materia' 'matiz' 'megane' 'meriva' 'micra' 'mii' 'modus'\n",
      " 'mondeo' 'move' 'musa' 'mustang' 'mx_reihe' 'navara' 'niva' 'note'\n",
      " 'nubira' 'octavia' 'omega' 'one' 'other' 'outlander' 'pajero' 'panda'\n",
      " 'passat' 'phaeton' 'picanto' 'polo' 'primera' 'ptcruiser' 'punto' 'q3'\n",
      " 'q5' 'q7' 'qashqai' 'r19' 'range_rover' 'range_rover_evoque'\n",
      " 'range_rover_sport' 'rangerover' 'rav' 'rio' 'roadster' 'roomster'\n",
      " 'rx_reihe' 's60' 's_klasse' 's_max' 's_type' 'samara' 'sandero' 'santa'\n",
      " 'scenic' 'scirocco' 'seicento' 'serie_1' 'serie_2' 'serie_3' 'sharan'\n",
      " 'signum' 'sirion' 'sl' 'slk' 'sorento' 'spark' 'spider' 'sportage'\n",
      " 'sprinter' 'stilo' 'superb' 'swift' 'terios' 'tigra' 'tiguan' 'toledo'\n",
      " 'touareg' 'touran' 'transit' 'transporter' 'tt' 'tucson' 'twingo' 'up'\n",
      " 'v40' 'v50' 'v60' 'v70' 'v_klasse' 'vectra' 'verso' 'viano' 'vito'\n",
      " 'vivaro' 'voyager' 'wrangler' 'x_reihe' 'x_trail' 'x_type' 'xc_reihe'\n",
      " 'yaris' 'yeti' 'ypsilon' 'z_reihe' 'zafira' nan]\n",
      "~~~~~~~~~~~~~~~~~~~~~~~~~~~~~~~~~~~~~~~~~~~~~~~~~~~~~~~~~~~~~~~~~~~~~~~~~~~\n",
      "vehicle_type:\n",
      "['bus' 'convertible' 'coupe' 'other' 'sedan' 'small' 'suv' 'wagon' nan]\n",
      "~~~~~~~~~~~~~~~~~~~~~~~~~~~~~~~~~~~~~~~~~~~~~~~~~~~~~~~~~~~~~~~~~~~~~~~~~~~\n",
      "brand:\n",
      "['alfa_romeo' 'audi' 'bmw' 'chevrolet' 'chrysler' 'citroen' 'dacia'\n",
      " 'daewoo' 'daihatsu' 'fiat' 'ford' 'honda' 'hyundai' 'jaguar' 'jeep' 'kia'\n",
      " 'lada' 'lancia' 'land_rover' 'mazda' 'mercedes_benz' 'mini' 'mitsubishi'\n",
      " 'nissan' 'opel' 'peugeot' 'porsche' 'renault' 'rover' 'saab' 'seat'\n",
      " 'skoda' 'smart' 'sonstige_autos' 'subaru' 'suzuki' 'toyota' 'trabant'\n",
      " 'volkswagen' 'volvo']\n",
      "~~~~~~~~~~~~~~~~~~~~~~~~~~~~~~~~~~~~~~~~~~~~~~~~~~~~~~~~~~~~~~~~~~~~~~~~~~~\n",
      "repaired:\n",
      "['no' 'yes' nan]\n",
      "~~~~~~~~~~~~~~~~~~~~~~~~~~~~~~~~~~~~~~~~~~~~~~~~~~~~~~~~~~~~~~~~~~~~~~~~~~~\n",
      "gearbox:\n",
      "['auto' 'manual' nan]\n",
      "~~~~~~~~~~~~~~~~~~~~~~~~~~~~~~~~~~~~~~~~~~~~~~~~~~~~~~~~~~~~~~~~~~~~~~~~~~~\n"
     ]
    }
   ],
   "source": [
    "# посмотрим на неявные дубликаты\n",
    "for _ in df[list(categorical_features)]:\n",
    "    print(f'{_}:\\n{df[_].sort_values().unique()}')\n",
    "    print('~'*75)"
   ]
  },
  {
   "cell_type": "code",
   "execution_count": 43,
   "metadata": {},
   "outputs": [],
   "source": [
    "# замечаем марка + модель, только у ренжа\n",
    "df['model'] = df['model'].str.replace('rangerover','range_rover')"
   ]
  },
  {
   "cell_type": "markdown",
   "metadata": {},
   "source": [
    "### Что с пропусками"
   ]
  },
  {
   "cell_type": "code",
   "execution_count": 44,
   "metadata": {
    "scrolled": true
   },
   "outputs": [
    {
     "data": {
      "text/plain": [
       "price                    0\n",
       "vehicle_type         37490\n",
       "registration_year        0\n",
       "gearbox              19833\n",
       "power                    0\n",
       "model                19705\n",
       "kilometer                0\n",
       "fuel_type            32895\n",
       "brand                    0\n",
       "repaired             71154\n",
       "dtype: int64"
      ]
     },
     "execution_count": 44,
     "metadata": {},
     "output_type": "execute_result"
    }
   ],
   "source": [
    "df.isna().sum()"
   ]
  },
  {
   "cell_type": "markdown",
   "metadata": {},
   "source": [
    "**model**"
   ]
  },
  {
   "cell_type": "code",
   "execution_count": 45,
   "metadata": {},
   "outputs": [
    {
     "data": {
      "text/plain": [
       "5.560587974681758"
      ]
     },
     "execution_count": 45,
     "metadata": {},
     "output_type": "execute_result"
    }
   ],
   "source": [
    "# с моделью ничего особо не сделаешь, посмотрим, сколько пропадеть\n",
    "df.model.isna().sum() * 100 / df.__len__()"
   ]
  },
  {
   "cell_type": "code",
   "execution_count": 46,
   "metadata": {},
   "outputs": [],
   "source": [
    "# больше чем хотелось бы, на процентик бы меньше, но придется избавиться\n",
    "df = df.dropna(subset=['model'])"
   ]
  },
  {
   "cell_type": "markdown",
   "metadata": {},
   "source": [
    "**gearbox**"
   ]
  },
  {
   "cell_type": "code",
   "execution_count": 47,
   "metadata": {},
   "outputs": [
    {
     "data": {
      "text/plain": [
       "4.6918700547414725"
      ]
     },
     "execution_count": 47,
     "metadata": {},
     "output_type": "execute_result"
    }
   ],
   "source": [
    "# с коробкой тоже самое, посмотрим, сколько пропадет, недостаточно информации, что бы изменить\n",
    "df.gearbox.isna().sum() * 100 / df.__len__()"
   ]
  },
  {
   "cell_type": "code",
   "execution_count": 48,
   "metadata": {},
   "outputs": [],
   "source": [
    "# придется избавиться\n",
    "df = df.dropna(subset=['gearbox'])"
   ]
  },
  {
   "cell_type": "markdown",
   "metadata": {},
   "source": [
    "**fuel_type**"
   ]
  },
  {
   "cell_type": "code",
   "execution_count": 49,
   "metadata": {},
   "outputs": [
    {
     "data": {
      "text/plain": [
       "6.186943899273268"
      ]
     },
     "execution_count": 49,
     "metadata": {},
     "output_type": "execute_result"
    }
   ],
   "source": [
    "# с топливом не лучше, посмотрим, сколько пропадет, недостаточно информации, что бы изменить\n",
    "df.fuel_type.isna().sum() * 100 / df.__len__()"
   ]
  },
  {
   "cell_type": "code",
   "execution_count": 50,
   "metadata": {},
   "outputs": [],
   "source": [
    "# придется избавиться\n",
    "df = df.dropna(subset=['fuel_type'])"
   ]
  },
  {
   "cell_type": "markdown",
   "metadata": {},
   "source": [
    "**repaired**"
   ]
  },
  {
   "cell_type": "code",
   "execution_count": 51,
   "metadata": {},
   "outputs": [],
   "source": [
    "# тут могли умолчать, поэтому создадим заглушку unknown"
   ]
  },
  {
   "cell_type": "code",
   "execution_count": 52,
   "metadata": {},
   "outputs": [],
   "source": [
    "df['repaired'] = df['repaired'].fillna('unknown')"
   ]
  },
  {
   "cell_type": "markdown",
   "metadata": {},
   "source": [
    "**vehicle_type**"
   ]
  },
  {
   "cell_type": "code",
   "execution_count": 53,
   "metadata": {},
   "outputs": [],
   "source": [
    "# самое веселое, попробуем относительно других моделей"
   ]
  },
  {
   "cell_type": "code",
   "execution_count": 54,
   "metadata": {},
   "outputs": [],
   "source": [
    "df['vehicle_type'] = df['vehicle_type'].fillna(df.groupby('model')['vehicle_type'].transform(lambda x: x.value_counts().idxmax())                                        )"
   ]
  },
  {
   "cell_type": "markdown",
   "metadata": {},
   "source": [
    "### Настало время аномалиям"
   ]
  },
  {
   "cell_type": "markdown",
   "metadata": {},
   "source": [
    "**price**"
   ]
  },
  {
   "cell_type": "code",
   "execution_count": 55,
   "metadata": {},
   "outputs": [
    {
     "data": {
      "image/png": "[encoded data removed]",
      "text/plain": [
       "<Figure size 720x432 with 1 Axes>"
      ]
     },
     "metadata": {
      "needs_background": "light"
     },
     "output_type": "display_data"
    }
   ],
   "source": [
    "df.boxplot('price', figsize=(10,6));"
   ]
  },
  {
   "cell_type": "code",
   "execution_count": 56,
   "metadata": {},
   "outputs": [
    {
     "data": {
      "text/html": [
       "<div>\n",
       "<style scoped>\n",
       "    .dataframe tbody tr th:only-of-type {\n",
       "        vertical-align: middle;\n",
       "    }\n",
       "\n",
       "    .dataframe tbody tr th {\n",
       "        vertical-align: top;\n",
       "    }\n",
       "\n",
       "    .dataframe thead th {\n",
       "        text-align: right;\n",
       "    }\n",
       "</style>\n",
       "<table border=\"1\" class=\"dataframe\">\n",
       "  <thead>\n",
       "    <tr style=\"text-align: right;\">\n",
       "      <th></th>\n",
       "      <th>price</th>\n",
       "      <th>vehicle_type</th>\n",
       "      <th>registration_year</th>\n",
       "      <th>gearbox</th>\n",
       "      <th>power</th>\n",
       "      <th>model</th>\n",
       "      <th>kilometer</th>\n",
       "      <th>fuel_type</th>\n",
       "      <th>brand</th>\n",
       "      <th>repaired</th>\n",
       "    </tr>\n",
       "  </thead>\n",
       "  <tbody>\n",
       "    <tr>\n",
       "      <th>0</th>\n",
       "      <td>480</td>\n",
       "      <td>sedan</td>\n",
       "      <td>1993</td>\n",
       "      <td>manual</td>\n",
       "      <td>0</td>\n",
       "      <td>golf</td>\n",
       "      <td>150000</td>\n",
       "      <td>petrol</td>\n",
       "      <td>volkswagen</td>\n",
       "      <td>unknown</td>\n",
       "    </tr>\n",
       "    <tr>\n",
       "      <th>2</th>\n",
       "      <td>9800</td>\n",
       "      <td>suv</td>\n",
       "      <td>2004</td>\n",
       "      <td>auto</td>\n",
       "      <td>163</td>\n",
       "      <td>grand</td>\n",
       "      <td>125000</td>\n",
       "      <td>gasoline</td>\n",
       "      <td>jeep</td>\n",
       "      <td>unknown</td>\n",
       "    </tr>\n",
       "    <tr>\n",
       "      <th>3</th>\n",
       "      <td>1500</td>\n",
       "      <td>small</td>\n",
       "      <td>2001</td>\n",
       "      <td>manual</td>\n",
       "      <td>75</td>\n",
       "      <td>golf</td>\n",
       "      <td>150000</td>\n",
       "      <td>petrol</td>\n",
       "      <td>volkswagen</td>\n",
       "      <td>no</td>\n",
       "    </tr>\n",
       "    <tr>\n",
       "      <th>4</th>\n",
       "      <td>3600</td>\n",
       "      <td>small</td>\n",
       "      <td>2008</td>\n",
       "      <td>manual</td>\n",
       "      <td>69</td>\n",
       "      <td>fabia</td>\n",
       "      <td>90000</td>\n",
       "      <td>gasoline</td>\n",
       "      <td>skoda</td>\n",
       "      <td>no</td>\n",
       "    </tr>\n",
       "    <tr>\n",
       "      <th>5</th>\n",
       "      <td>650</td>\n",
       "      <td>sedan</td>\n",
       "      <td>1995</td>\n",
       "      <td>manual</td>\n",
       "      <td>102</td>\n",
       "      <td>3er</td>\n",
       "      <td>150000</td>\n",
       "      <td>petrol</td>\n",
       "      <td>bmw</td>\n",
       "      <td>yes</td>\n",
       "    </tr>\n",
       "    <tr>\n",
       "      <th>...</th>\n",
       "      <td>...</td>\n",
       "      <td>...</td>\n",
       "      <td>...</td>\n",
       "      <td>...</td>\n",
       "      <td>...</td>\n",
       "      <td>...</td>\n",
       "      <td>...</td>\n",
       "      <td>...</td>\n",
       "      <td>...</td>\n",
       "      <td>...</td>\n",
       "    </tr>\n",
       "    <tr>\n",
       "      <th>354362</th>\n",
       "      <td>3200</td>\n",
       "      <td>sedan</td>\n",
       "      <td>2004</td>\n",
       "      <td>manual</td>\n",
       "      <td>225</td>\n",
       "      <td>leon</td>\n",
       "      <td>150000</td>\n",
       "      <td>petrol</td>\n",
       "      <td>seat</td>\n",
       "      <td>yes</td>\n",
       "    </tr>\n",
       "    <tr>\n",
       "      <th>354363</th>\n",
       "      <td>1150</td>\n",
       "      <td>bus</td>\n",
       "      <td>2000</td>\n",
       "      <td>manual</td>\n",
       "      <td>0</td>\n",
       "      <td>zafira</td>\n",
       "      <td>150000</td>\n",
       "      <td>petrol</td>\n",
       "      <td>opel</td>\n",
       "      <td>no</td>\n",
       "    </tr>\n",
       "    <tr>\n",
       "      <th>354366</th>\n",
       "      <td>1199</td>\n",
       "      <td>convertible</td>\n",
       "      <td>2000</td>\n",
       "      <td>auto</td>\n",
       "      <td>101</td>\n",
       "      <td>fortwo</td>\n",
       "      <td>125000</td>\n",
       "      <td>petrol</td>\n",
       "      <td>smart</td>\n",
       "      <td>no</td>\n",
       "    </tr>\n",
       "    <tr>\n",
       "      <th>354367</th>\n",
       "      <td>9200</td>\n",
       "      <td>bus</td>\n",
       "      <td>1996</td>\n",
       "      <td>manual</td>\n",
       "      <td>102</td>\n",
       "      <td>transporter</td>\n",
       "      <td>150000</td>\n",
       "      <td>gasoline</td>\n",
       "      <td>volkswagen</td>\n",
       "      <td>no</td>\n",
       "    </tr>\n",
       "    <tr>\n",
       "      <th>354368</th>\n",
       "      <td>3400</td>\n",
       "      <td>wagon</td>\n",
       "      <td>2002</td>\n",
       "      <td>manual</td>\n",
       "      <td>100</td>\n",
       "      <td>golf</td>\n",
       "      <td>150000</td>\n",
       "      <td>gasoline</td>\n",
       "      <td>volkswagen</td>\n",
       "      <td>unknown</td>\n",
       "    </tr>\n",
       "  </tbody>\n",
       "</table>\n",
       "<p>291618 rows × 10 columns</p>\n",
       "</div>"
      ],
      "text/plain": [
       "        price vehicle_type  registration_year gearbox  power        model  \\\n",
       "0         480        sedan               1993  manual      0         golf   \n",
       "2        9800          suv               2004    auto    163        grand   \n",
       "3        1500        small               2001  manual     75         golf   \n",
       "4        3600        small               2008  manual     69        fabia   \n",
       "5         650        sedan               1995  manual    102          3er   \n",
       "...       ...          ...                ...     ...    ...          ...   \n",
       "354362   3200        sedan               2004  manual    225         leon   \n",
       "354363   1150          bus               2000  manual      0       zafira   \n",
       "354366   1199  convertible               2000    auto    101       fortwo   \n",
       "354367   9200          bus               1996  manual    102  transporter   \n",
       "354368   3400        wagon               2002  manual    100         golf   \n",
       "\n",
       "        kilometer fuel_type       brand repaired  \n",
       "0          150000    petrol  volkswagen  unknown  \n",
       "2          125000  gasoline        jeep  unknown  \n",
       "3          150000    petrol  volkswagen       no  \n",
       "4           90000  gasoline       skoda       no  \n",
       "5          150000    petrol         bmw      yes  \n",
       "...           ...       ...         ...      ...  \n",
       "354362     150000    petrol        seat      yes  \n",
       "354363     150000    petrol        opel       no  \n",
       "354366     125000    petrol       smart       no  \n",
       "354367     150000  gasoline  volkswagen       no  \n",
       "354368     150000  gasoline  volkswagen  unknown  \n",
       "\n",
       "[291618 rows x 10 columns]"
      ]
     },
     "execution_count": 56,
     "metadata": {},
     "output_type": "execute_result"
    }
   ],
   "source": [
    "# очень сильно смущают авто стоимостью меньше 100 евро? избавимся от них\n",
    "df = df[df['price']>100]\n",
    "df"
   ]
  },
  {
   "cell_type": "markdown",
   "metadata": {},
   "source": [
    "**registration_year**"
   ]
  },
  {
   "cell_type": "code",
   "execution_count": 57,
   "metadata": {},
   "outputs": [],
   "source": [
    "# для начала, есть конечно непонятки с датами выше 16го года, может конечно я что-то не понял, \n",
    "# но избавимся до создания авто и от нынешнего года\n",
    "df = df[(df['registration_year'] < 2017) & (df['registration_year'] > 1900)]"
   ]
  },
  {
   "cell_type": "code",
   "execution_count": 58,
   "metadata": {},
   "outputs": [
    {
     "data": {
      "image/png": "[encoded data removed]",
      "text/plain": [
       "<Figure size 720x432 with 1 Axes>"
      ]
     },
     "metadata": {
      "needs_background": "light"
     },
     "output_type": "display_data"
    }
   ],
   "source": [
    "df.boxplot('registration_year', figsize=(10,6));"
   ]
  },
  {
   "cell_type": "markdown",
   "metadata": {},
   "source": [
    "**power**"
   ]
  },
  {
   "cell_type": "code",
   "execution_count": 59,
   "metadata": {},
   "outputs": [],
   "source": [
    "# уберем мощные авто\n",
    "df = df[(df['power'] < 1000) & (df['power'] > 0)]"
   ]
  },
  {
   "cell_type": "code",
   "execution_count": 60,
   "metadata": {},
   "outputs": [
    {
     "data": {
      "image/png": "[encoded data removed]",
      "text/plain": [
       "<Figure size 720x432 with 1 Axes>"
      ]
     },
     "metadata": {
      "needs_background": "light"
     },
     "output_type": "display_data"
    }
   ],
   "source": [
    "df.boxplot('power', figsize=(10,6));"
   ]
  },
  {
   "cell_type": "markdown",
   "metadata": {},
   "source": [
    "**kilometer**"
   ]
  },
  {
   "cell_type": "code",
   "execution_count": 61,
   "metadata": {},
   "outputs": [
    {
     "data": {
      "image/png": "[encoded data removed]",
      "text/plain": [
       "<Figure size 720x432 with 1 Axes>"
      ]
     },
     "metadata": {
      "needs_background": "light"
     },
     "output_type": "display_data"
    }
   ],
   "source": [
    "# тут в целом неплохо\n",
    "df.boxplot('kilometer', figsize=(10,6));"
   ]
  },
  {
   "cell_type": "markdown",
   "metadata": {},
   "source": [
    "### Играем с данными"
   ]
  },
  {
   "cell_type": "code",
   "execution_count": 63,
   "metadata": {},
   "outputs": [],
   "source": [
    "# выделим целевую переменную\n",
    "X = df.loc[:,'vehicle_type':]\n",
    "y = df['price']"
   ]
  },
  {
   "cell_type": "code",
   "execution_count": 65,
   "metadata": {},
   "outputs": [],
   "source": [
    "# разобьем данные\n",
    "X_train, X_test, y_train, y_test = train_test_split(X, y, test_size=0.4, random_state=12345)"
   ]
  },
  {
   "cell_type": "code",
   "execution_count": 66,
   "metadata": {},
   "outputs": [],
   "source": [
    "# кодируем\n",
    "categorical_features = list(categorical_features)\n",
    "ordinal_encoder = OrdinalEncoder()\n",
    "ordinal_encoder.fit(X_train[categorical_features])\n",
    "X_train[categorical_features] = ordinal_encoder.transform(X_train[categorical_features])\n",
    "X_test[categorical_features] = ordinal_encoder.transform(X_test[categorical_features])"
   ]
  },
  {
   "cell_type": "code",
   "execution_count": 67,
   "metadata": {},
   "outputs": [],
   "source": [
    "# масштабируем\n",
    "scaler = StandardScaler()\n",
    "scaler.fit(X_train)\n",
    "X_train = pd.DataFrame(scaler.transform(X_train), columns=X_train.columns, index=X_train.index, dtype='float32')\n",
    "X_test = pd.DataFrame(scaler.transform(X_test), columns=X_test.columns, index=X_test.index, dtype='float32')"
   ]
  },
  {
   "cell_type": "markdown",
   "metadata": {},
   "source": [
    "**В целом, данные имеют теперь причесанный вид, избавились от пустот, аномалий и не нужных признаков, а так же дубликатов. \n",
    "<br>Привели всё к числу (единственное, я не понял, у меня сейчас скаллер на всём датафрейме обучен, потому что в тесте есть непересекающиеся и тест не масштабируется)**"
   ]
  },
  {
   "cell_type": "markdown",
   "metadata": {},
   "source": [
    "## Обучение моделей"
   ]
  },
  {
   "cell_type": "code",
   "execution_count": 71,
   "metadata": {},
   "outputs": [],
   "source": [
    "param_grid = {\n",
    "      'n_estimators': range(1,101),\n",
    "      'max_depth': range(1,11)}\n",
    "kf = KFold(n_splits=2)"
   ]
  },
  {
   "cell_type": "markdown",
   "metadata": {},
   "source": [
    "### LGBMRegressor"
   ]
  },
  {
   "cell_type": "code",
   "execution_count": 72,
   "metadata": {},
   "outputs": [
    {
     "name": "stdout",
     "output_type": "stream",
     "text": [
      "CPU times: user 1min 13s, sys: 1.23 s, total: 1min 14s\n",
      "Wall time: 1min 15s\n"
     ]
    }
   ],
   "source": [
    "%%time\n",
    "estimator = LGBMRegressor(random_state=12345)\n",
    "model_lgbm = RandomizedSearchCV(estimator, \n",
    "                     param_grid,\n",
    "                     verbose = False,\n",
    "                     scoring = 'neg_mean_squared_error')\n",
    "model_lgbm.fit(X_train, y_train)\n",
    "b_p_lgbm = model_lgbm.best_params_"
   ]
  },
  {
   "cell_type": "code",
   "execution_count": 73,
   "metadata": {},
   "outputs": [
    {
     "name": "stdout",
     "output_type": "stream",
     "text": [
      "CPU times: user 2.87 s, sys: 49.1 ms, total: 2.92 s\n",
      "Wall time: 2.9 s\n"
     ]
    },
    {
     "data": {
      "text/plain": [
       "LGBMRegressor(max_depth=7, n_estimators=96, random_state=12345)"
      ]
     },
     "execution_count": 73,
     "metadata": {},
     "output_type": "execute_result"
    }
   ],
   "source": [
    "%%time\n",
    "model_lgbm = LGBMRegressor(n_estimators = b_p_lgbm['n_estimators'], \n",
    "                           max_depth = b_p_lgbm['max_depth'], \n",
    "                           random_state=12345)\n",
    "model_lgbm.fit(X_train, y_train)"
   ]
  },
  {
   "cell_type": "code",
   "execution_count": 74,
   "metadata": {},
   "outputs": [
    {
     "name": "stdout",
     "output_type": "stream",
     "text": [
      "CPU times: user 1.08 s, sys: 43.7 ms, total: 1.13 s\n",
      "Wall time: 1.2 s\n"
     ]
    }
   ],
   "source": [
    "%%time\n",
    "preds_model_lgbm = model_lgbm.predict(X_train)"
   ]
  },
  {
   "cell_type": "code",
   "execution_count": 76,
   "metadata": {},
   "outputs": [
    {
     "name": "stdout",
     "output_type": "stream",
     "text": [
      "RMSE для  LightGBM на тестовой выборке: 1638.0776326941232 2\n"
     ]
    }
   ],
   "source": [
    "mse_model_lgbm = mean_squared_error(y_train, preds_model_lgbm)\n",
    "print(\"RMSE для  LightGBM на тестовой выборке:\", (mse_model_lgbm) ** 0.5, 2)"
   ]
  },
  {
   "cell_type": "markdown",
   "metadata": {},
   "source": [
    "### XGBRegressor"
   ]
  },
  {
   "cell_type": "code",
   "execution_count": 77,
   "metadata": {},
   "outputs": [
    {
     "name": "stdout",
     "output_type": "stream",
     "text": [
      "CPU times: user 9min 12s, sys: 5.87 s, total: 9min 18s\n",
      "Wall time: 9min 24s\n"
     ]
    }
   ],
   "source": [
    "%%time\n",
    "estimator = XGBRegressor(random_state=12345)\n",
    "model_xgbr = RandomizedSearchCV(estimator, \n",
    "                     param_grid,\n",
    "                     verbose = False,\n",
    "                     scoring='neg_mean_squared_error',\n",
    "                     )\n",
    "model_xgbr.fit(X_train, y_train)\n",
    "b_p_xgbr = model_xgbr.best_params_"
   ]
  },
  {
   "cell_type": "code",
   "execution_count": 78,
   "metadata": {},
   "outputs": [
    {
     "name": "stdout",
     "output_type": "stream",
     "text": [
      "CPU times: user 22.5 s, sys: 190 ms, total: 22.7 s\n",
      "Wall time: 22.9 s\n"
     ]
    },
    {
     "data": {
      "text/plain": [
       "XGBRegressor(base_score=0.5, booster='gbtree', colsample_bylevel=1,\n",
       "             colsample_bynode=1, colsample_bytree=1, enable_categorical=False,\n",
       "             gamma=0, gpu_id=-1, importance_type=None,\n",
       "             interaction_constraints='', learning_rate=0.300000012,\n",
       "             max_delta_step=0, max_depth=9, min_child_weight=1, missing=nan,\n",
       "             monotone_constraints='()', n_estimators=46, n_jobs=8,\n",
       "             num_parallel_tree=1, predictor='auto', random_state=12345,\n",
       "             reg_alpha=0, reg_lambda=1, scale_pos_weight=1, subsample=1,\n",
       "             tree_method='exact', validate_parameters=1, verbosity=None)"
      ]
     },
     "execution_count": 78,
     "metadata": {},
     "output_type": "execute_result"
    }
   ],
   "source": [
    "%%time\n",
    "model_xgbr = XGBRegressor(n_estimators = b_p_xgbr['n_estimators'], \n",
    "                          max_depth = b_p_xgbr['max_depth'], \n",
    "                          random_state=12345)\n",
    "model_xgbr.fit(X_train, y_train)"
   ]
  },
  {
   "cell_type": "code",
   "execution_count": 79,
   "metadata": {},
   "outputs": [
    {
     "name": "stdout",
     "output_type": "stream",
     "text": [
      "CPU times: user 376 ms, sys: 10.2 ms, total: 386 ms\n",
      "Wall time: 348 ms\n"
     ]
    }
   ],
   "source": [
    "%%time\n",
    "preds_model_xgbr = model_xgbr.predict(X_train)"
   ]
  },
  {
   "cell_type": "code",
   "execution_count": 80,
   "metadata": {},
   "outputs": [
    {
     "name": "stdout",
     "output_type": "stream",
     "text": [
      "RMSE для  LightGBM на тестовой выборке: 1307.5053435605553 2\n"
     ]
    }
   ],
   "source": [
    "mse_model_xgbr = mean_squared_error(y_train, preds_model_xgbr)\n",
    "print(\"RMSE для  LightGBM на тестовой выборке:\", (mse_model_xgbr) ** 0.5, 2)"
   ]
  },
  {
   "cell_type": "markdown",
   "metadata": {},
   "source": [
    "### CatBoostRegressor"
   ]
  },
  {
   "cell_type": "code",
   "execution_count": 81,
   "metadata": {},
   "outputs": [
    {
     "name": "stdout",
     "output_type": "stream",
     "text": [
      "CPU times: user 44.6 s, sys: 367 ms, total: 45 s\n",
      "Wall time: 1min 5s\n"
     ]
    }
   ],
   "source": [
    "%%time\n",
    "estimator = CatBoostRegressor(random_state=12345, verbose = False)\n",
    "model_cbr = RandomizedSearchCV(estimator, \n",
    "                     param_grid,\n",
    "                     verbose = False,\n",
    "                     scoring='neg_mean_squared_error',\n",
    "                     )\n",
    "model_cbr.fit(X_train, y_train)\n",
    "b_p_cbr = model_cbr.best_params_"
   ]
  },
  {
   "cell_type": "code",
   "execution_count": 82,
   "metadata": {},
   "outputs": [
    {
     "name": "stdout",
     "output_type": "stream",
     "text": [
      "CPU times: user 1.94 s, sys: 5.75 ms, total: 1.94 s\n",
      "Wall time: 2.29 s\n"
     ]
    },
    {
     "data": {
      "text/plain": [
       "<catboost.core.CatBoostRegressor at 0x7fea900f74f0>"
      ]
     },
     "execution_count": 82,
     "metadata": {},
     "output_type": "execute_result"
    }
   ],
   "source": [
    "%%time\n",
    "model_cbr = CatBoostRegressor(n_estimators = b_p_cbr['n_estimators'], \n",
    "                              max_depth = b_p_cbr['max_depth'], \n",
    "                              random_state=12345, \n",
    "                              verbose = False)\n",
    "model_cbr.fit(X_train, y_train)"
   ]
  },
  {
   "cell_type": "code",
   "execution_count": 83,
   "metadata": {},
   "outputs": [
    {
     "name": "stdout",
     "output_type": "stream",
     "text": [
      "CPU times: user 46.1 ms, sys: 63 µs, total: 46.2 ms\n",
      "Wall time: 44.8 ms\n"
     ]
    }
   ],
   "source": [
    "%%time\n",
    "preds_model_cbr = model_cbr.predict(X_train)"
   ]
  },
  {
   "cell_type": "code",
   "execution_count": 84,
   "metadata": {},
   "outputs": [
    {
     "name": "stdout",
     "output_type": "stream",
     "text": [
      "RMSE для  LightGBM на тестовой выборке: 1503.0898692071278 2\n"
     ]
    }
   ],
   "source": [
    "mse_model_cbr = mean_squared_error(y_train, preds_model_cbr)\n",
    "print(\"RMSE для  LightGBM на тестовой выборке:\", (mse_model_cbr) ** 0.5, 2)"
   ]
  },
  {
   "cell_type": "markdown",
   "metadata": {},
   "source": [
    "### RandomForestRegressor"
   ]
  },
  {
   "cell_type": "code",
   "execution_count": 85,
   "metadata": {},
   "outputs": [
    {
     "name": "stdout",
     "output_type": "stream",
     "text": [
      "CPU times: user 4min 24s, sys: 640 ms, total: 4min 24s\n",
      "Wall time: 4min 24s\n"
     ]
    }
   ],
   "source": [
    "%%time\n",
    "estimator = RandomForestRegressor(random_state=12345)\n",
    "model_rfr = RandomizedSearchCV(estimator, \n",
    "                     param_grid,\n",
    "                     verbose = False,\n",
    "                     scoring='neg_mean_squared_error',\n",
    "                     )\n",
    "model_rfr.fit(X_train, y_train)\n",
    "b_p_rfr = model_rfr.best_params_"
   ]
  },
  {
   "cell_type": "code",
   "execution_count": 86,
   "metadata": {},
   "outputs": [
    {
     "name": "stdout",
     "output_type": "stream",
     "text": [
      "CPU times: user 17.9 s, sys: 66.7 ms, total: 18 s\n",
      "Wall time: 18 s\n"
     ]
    },
    {
     "data": {
      "text/plain": [
       "RandomForestRegressor(max_depth=10, n_estimators=98, random_state=12345)"
      ]
     },
     "execution_count": 86,
     "metadata": {},
     "output_type": "execute_result"
    }
   ],
   "source": [
    "%%time\n",
    "model_rfr = RandomForestRegressor(n_estimators = b_p_rfr['n_estimators'], \n",
    "                                  max_depth = b_p_rfr['max_depth'], \n",
    "                                  random_state=12345)\n",
    "model_rfr.fit(X_train, y_train)"
   ]
  },
  {
   "cell_type": "code",
   "execution_count": 87,
   "metadata": {},
   "outputs": [
    {
     "name": "stdout",
     "output_type": "stream",
     "text": [
      "CPU times: user 1.23 s, sys: 694 µs, total: 1.23 s\n",
      "Wall time: 1.24 s\n"
     ]
    }
   ],
   "source": [
    "%%time\n",
    "preds_model_rfr = model_rfr.predict(X_train)"
   ]
  },
  {
   "cell_type": "code",
   "execution_count": 88,
   "metadata": {},
   "outputs": [
    {
     "name": "stdout",
     "output_type": "stream",
     "text": [
      "RMSE для  LightGBM на тестовой выборке: 1758.2995607624134 2\n"
     ]
    }
   ],
   "source": [
    "mse_model_rfr = mean_squared_error(y_train, preds_model_rfr)\n",
    "print(\"RMSE для  LightGBM на тестовой выборке:\", (mse_model_rfr) ** 0.5, 2)"
   ]
  },
  {
   "cell_type": "code",
   "execution_count": 91,
   "metadata": {},
   "outputs": [
    {
     "data": {
      "text/html": [
       "<div>\n",
       "<style scoped>\n",
       "    .dataframe tbody tr th:only-of-type {\n",
       "        vertical-align: middle;\n",
       "    }\n",
       "\n",
       "    .dataframe tbody tr th {\n",
       "        vertical-align: top;\n",
       "    }\n",
       "\n",
       "    .dataframe thead th {\n",
       "        text-align: right;\n",
       "    }\n",
       "</style>\n",
       "<table border=\"1\" class=\"dataframe\">\n",
       "  <thead>\n",
       "    <tr style=\"text-align: right;\">\n",
       "      <th></th>\n",
       "      <th>t_fit</th>\n",
       "      <th>t_pred</th>\n",
       "      <th>rmse_pred</th>\n",
       "    </tr>\n",
       "  </thead>\n",
       "  <tbody>\n",
       "    <tr>\n",
       "      <th>LGBMRegressor</th>\n",
       "      <td>2.9 s</td>\n",
       "      <td>1.2 s</td>\n",
       "      <td>1638.077633</td>\n",
       "    </tr>\n",
       "    <tr>\n",
       "      <th>XGBRegressor</th>\n",
       "      <td>22.9 s</td>\n",
       "      <td>348 ms</td>\n",
       "      <td>1307.505344</td>\n",
       "    </tr>\n",
       "    <tr>\n",
       "      <th>CatBoostRegressor</th>\n",
       "      <td>2.29 s</td>\n",
       "      <td>44.8 ms</td>\n",
       "      <td>1622.081623</td>\n",
       "    </tr>\n",
       "    <tr>\n",
       "      <th>RandomForestRegressor</th>\n",
       "      <td>18 s</td>\n",
       "      <td>1.24 s</td>\n",
       "      <td>1758.299561</td>\n",
       "    </tr>\n",
       "  </tbody>\n",
       "</table>\n",
       "</div>"
      ],
      "text/plain": [
       "                        t_fit   t_pred    rmse_pred\n",
       "LGBMRegressor           2.9 s    1.2 s  1638.077633\n",
       "XGBRegressor           22.9 s   348 ms  1307.505344\n",
       "CatBoostRegressor      2.29 s  44.8 ms  1622.081623\n",
       "RandomForestRegressor    18 s   1.24 s  1758.299561"
      ]
     },
     "execution_count": 91,
     "metadata": {},
     "output_type": "execute_result"
    }
   ],
   "source": [
    "time_f = [\"2.9 s\", '22.9 s', '2.29 s', '18 s']\n",
    "time_p = ['1.2 s', '348 ms', '44.8 ms', '1.24 s']\n",
    "pred_r = [mse_model_lgbm** 0.5, mse_model_xgbr** 0.5, mse_model_cbr** 0.5, mse_model_rfr** 0.5]\n",
    "data = pd.DataFrame({'t_fit':time_f, 't_pred':time_p, 'rmse_pred':pred_r}, \n",
    "                    index=['LGBMRegressor', 'XGBRegressor', 'CatBoostRegressor', 'RandomForestRegressor'])\n",
    "data"
   ]
  },
  {
   "cell_type": "markdown",
   "metadata": {},
   "source": [
    "**Нами протестированно 4 модели:\n",
    "<br> 1)LGBMRegressor\n",
    "<br> 2)XGBRegressor\n",
    "<br> 3)CatBoostRegressor\n",
    "<br> 4)RandomForestRegressor\n",
    "<br> В целом модели, кроме LGBMRegressor, с небольшим набором перебора гиперпараметров обучаются быстро\n",
    "<br>Перебор гиперпараметров осуществлялся с помощью RandomizedSearchCV.**"
   ]
  },
  {
   "cell_type": "markdown",
   "metadata": {},
   "source": [
    "## Анализ моделей"
   ]
  },
  {
   "cell_type": "markdown",
   "metadata": {},
   "source": [
    "**Перебрав гиперпараметры:\n",
    "<br>Наилучшей моделью оказалась по точности XGBRegressor : 1307.50, но самая медленная скорость обучения\t\n",
    "<br>По скорости обучения и предсказаний лучшая модель оказалась CatBoostRegressor : 2.29 s и 44.8 ms\n",
    "<br>И поскольку, по ТЗ точность по RMSE должна быть ниже 2,5к, то с учетом этого, мой выбор падает на catboost (тем более, что по точности обучения, он на втором месте 1622.08 и второй по скорости обучения и предсказания)**"
   ]
  },
  {
   "cell_type": "code",
   "execution_count": 89,
   "metadata": {},
   "outputs": [
    {
     "name": "stdout",
     "output_type": "stream",
     "text": [
      "CPU times: user 35.2 ms, sys: 13 µs, total: 35.2 ms\n",
      "Wall time: 34.6 ms\n"
     ]
    }
   ],
   "source": [
    "%%time\n",
    "preds_model_cbr = model_cbr.predict(X_test)"
   ]
  },
  {
   "cell_type": "code",
   "execution_count": 90,
   "metadata": {},
   "outputs": [
    {
     "name": "stdout",
     "output_type": "stream",
     "text": [
      "RMSE для  LightGBM на тестовой выборке: 1622.081622587514 2\n"
     ]
    }
   ],
   "source": [
    "mse_model_cbr = mean_squared_error(y_test, preds_model_cbr)\n",
    "print(\"RMSE для  LightGBM на тестовой выборке:\", (mse_model_cbr) ** 0.5, 2)"
   ]
  },
  {
   "cell_type": "markdown",
   "metadata": {},
   "source": [
    "**Вот и результат для нашего заказчика. Менее точно, зато гораздо быстрее.**"
   ]
  },
  {
   "cell_type": "markdown",
   "metadata": {},
   "source": [
    "## Вывод"
   ]
  },
  {
   "cell_type": "markdown",
   "metadata": {},
   "source": [
    "**В ходе работы были выполнены следующие действия:\n",
    "<br>1) Подгружен датасет, который пришлось причесать от путых значений, аномалий, дубликатов и в целом от ненужных нам признаков\n",
    "<br>2) Далее подобрав средние гиперпараметры для всех моделей обучил их с замером времени\n",
    "<br>3) По ТЗ нам требовалось не ниже 2.5 RMSE, с этим справилось 4/4 моделей\n",
    "<br>4) Исходя из времени обучения и предсказаний и достаточно хорошего RMSE, подходящая под ТХ, была выбрана именно эта модель**"
   ]
  },
  {
   "cell_type": "code",
   "execution_count": null,
   "metadata": {},
   "outputs": [],
   "source": []
  }
 ],
 "metadata": {
  "ExecuteTimeLog": [
   {
    "duration": 376,
    "start_time": "2023-05-21T09:52:28.674Z"
   },
   {
    "duration": 1441,
    "start_time": "2023-05-21T09:52:39.627Z"
   },
   {
    "duration": 1073,
    "start_time": "2023-05-21T09:52:44.713Z"
   },
   {
    "duration": 154,
    "start_time": "2023-05-21T09:52:48.153Z"
   },
   {
    "duration": 271,
    "start_time": "2023-05-21T09:54:19.406Z"
   },
   {
    "duration": 132,
    "start_time": "2023-05-21T09:54:30.309Z"
   },
   {
    "duration": 94,
    "start_time": "2023-05-21T09:54:32.750Z"
   },
   {
    "duration": 82,
    "start_time": "2023-05-21T09:54:42.725Z"
   },
   {
    "duration": 172,
    "start_time": "2023-05-21T09:54:46.315Z"
   },
   {
    "duration": 142,
    "start_time": "2023-05-21T09:57:50.773Z"
   },
   {
    "duration": 981,
    "start_time": "2023-05-21T09:58:09.094Z"
   },
   {
    "duration": 157,
    "start_time": "2023-05-21T09:59:00.060Z"
   },
   {
    "duration": 235,
    "start_time": "2023-05-21T10:00:52.950Z"
   },
   {
    "duration": 238,
    "start_time": "2023-05-21T10:00:55.269Z"
   },
   {
    "duration": 209,
    "start_time": "2023-05-21T10:01:14.175Z"
   },
   {
    "duration": 3,
    "start_time": "2023-05-21T10:02:55.665Z"
   },
   {
    "duration": 4,
    "start_time": "2023-05-21T10:03:15.409Z"
   },
   {
    "duration": 10,
    "start_time": "2023-05-21T10:03:16.945Z"
   },
   {
    "duration": 14,
    "start_time": "2023-05-21T10:03:24.641Z"
   },
   {
    "duration": 901,
    "start_time": "2023-05-21T10:03:28.668Z"
   },
   {
    "duration": 253,
    "start_time": "2023-05-21T10:03:29.954Z"
   },
   {
    "duration": 99,
    "start_time": "2023-05-21T10:03:30.585Z"
   },
   {
    "duration": 164,
    "start_time": "2023-05-21T10:03:31.916Z"
   },
   {
    "duration": 3,
    "start_time": "2023-05-21T10:03:33.383Z"
   },
   {
    "duration": 27,
    "start_time": "2023-05-21T10:03:34.309Z"
   },
   {
    "duration": 421,
    "start_time": "2023-05-21T10:04:23.642Z"
   },
   {
    "duration": 990,
    "start_time": "2023-05-21T10:04:24.065Z"
   },
   {
    "duration": 194,
    "start_time": "2023-05-21T10:04:25.057Z"
   },
   {
    "duration": 137,
    "start_time": "2023-05-21T10:04:25.256Z"
   },
   {
    "duration": 164,
    "start_time": "2023-05-21T10:04:25.395Z"
   },
   {
    "duration": 56,
    "start_time": "2023-05-21T10:04:25.563Z"
   },
   {
    "duration": 32,
    "start_time": "2023-05-21T10:04:31.309Z"
   },
   {
    "duration": 157,
    "start_time": "2023-05-21T10:07:21.398Z"
   },
   {
    "duration": 9,
    "start_time": "2023-05-21T10:07:29.146Z"
   },
   {
    "duration": 419,
    "start_time": "2023-05-21T10:07:33.694Z"
   },
   {
    "duration": 883,
    "start_time": "2023-05-21T10:07:34.115Z"
   },
   {
    "duration": 187,
    "start_time": "2023-05-21T10:07:35.000Z"
   },
   {
    "duration": 105,
    "start_time": "2023-05-21T10:07:35.189Z"
   },
   {
    "duration": 152,
    "start_time": "2023-05-21T10:07:35.296Z"
   },
   {
    "duration": 87,
    "start_time": "2023-05-21T10:07:35.449Z"
   },
   {
    "duration": 29,
    "start_time": "2023-05-21T10:07:35.544Z"
   },
   {
    "duration": 66,
    "start_time": "2023-05-21T10:07:55.937Z"
   },
   {
    "duration": 75,
    "start_time": "2023-05-21T10:08:07.078Z"
   },
   {
    "duration": 85,
    "start_time": "2023-05-21T10:13:26.521Z"
   },
   {
    "duration": 12,
    "start_time": "2023-05-21T10:13:33.853Z"
   },
   {
    "duration": 12,
    "start_time": "2023-05-21T10:14:50.653Z"
   },
   {
    "duration": 92,
    "start_time": "2023-05-21T10:15:20.415Z"
   },
   {
    "duration": 5,
    "start_time": "2023-05-21T10:18:47.171Z"
   },
   {
    "duration": 2,
    "start_time": "2023-05-21T10:18:56.851Z"
   },
   {
    "duration": 108,
    "start_time": "2023-05-21T10:19:23.678Z"
   },
   {
    "duration": 105,
    "start_time": "2023-05-21T10:19:43.752Z"
   },
   {
    "duration": 6,
    "start_time": "2023-05-21T10:20:35.183Z"
   },
   {
    "duration": 6,
    "start_time": "2023-05-21T10:21:00.209Z"
   },
   {
    "duration": 14,
    "start_time": "2023-05-21T10:21:13.091Z"
   },
   {
    "duration": 7,
    "start_time": "2023-05-21T10:21:17.690Z"
   },
   {
    "duration": 10,
    "start_time": "2023-05-21T10:21:22.377Z"
   },
   {
    "duration": 10,
    "start_time": "2023-05-21T10:21:28.512Z"
   },
   {
    "duration": 8,
    "start_time": "2023-05-21T10:21:31.301Z"
   },
   {
    "duration": 108,
    "start_time": "2023-05-21T10:21:34.078Z"
   },
   {
    "duration": 5,
    "start_time": "2023-05-21T10:21:35.883Z"
   },
   {
    "duration": 5,
    "start_time": "2023-05-21T10:21:40.418Z"
   },
   {
    "duration": 6,
    "start_time": "2023-05-21T10:21:44.377Z"
   },
   {
    "duration": 5,
    "start_time": "2023-05-21T10:21:50.690Z"
   },
   {
    "duration": 17,
    "start_time": "2023-05-21T10:21:55.380Z"
   },
   {
    "duration": 16,
    "start_time": "2023-05-21T10:21:58.019Z"
   },
   {
    "duration": 8,
    "start_time": "2023-05-21T10:22:05.593Z"
   },
   {
    "duration": 30,
    "start_time": "2023-05-21T10:22:11.087Z"
   },
   {
    "duration": 44,
    "start_time": "2023-05-21T10:22:26.123Z"
   },
   {
    "duration": 220,
    "start_time": "2023-05-21T10:23:12.984Z"
   },
   {
    "duration": 13,
    "start_time": "2023-05-21T10:23:32.821Z"
   },
   {
    "duration": 13,
    "start_time": "2023-05-21T10:23:40.353Z"
   },
   {
    "duration": 8,
    "start_time": "2023-05-21T10:24:11.673Z"
   },
   {
    "duration": 3,
    "start_time": "2023-05-21T10:24:14.662Z"
   },
   {
    "duration": 19,
    "start_time": "2023-05-21T10:24:39.604Z"
   },
   {
    "duration": 3,
    "start_time": "2023-05-21T10:27:29.860Z"
   },
   {
    "duration": 3,
    "start_time": "2023-05-21T10:27:32.099Z"
   },
   {
    "duration": 15,
    "start_time": "2023-05-21T10:28:12.849Z"
   },
   {
    "duration": 4,
    "start_time": "2023-05-21T10:28:14.865Z"
   },
   {
    "duration": 5,
    "start_time": "2023-05-21T10:29:04.002Z"
   },
   {
    "duration": 68,
    "start_time": "2023-05-21T10:29:14.636Z"
   },
   {
    "duration": 14,
    "start_time": "2023-05-21T10:29:44.555Z"
   },
   {
    "duration": 52,
    "start_time": "2023-05-21T10:30:03.979Z"
   },
   {
    "duration": 39,
    "start_time": "2023-05-21T10:31:35.475Z"
   },
   {
    "duration": 90,
    "start_time": "2023-05-21T10:31:41.663Z"
   },
   {
    "duration": 4,
    "start_time": "2023-05-21T10:35:02.069Z"
   },
   {
    "duration": 252,
    "start_time": "2023-05-21T10:35:12.722Z"
   },
   {
    "duration": 21,
    "start_time": "2023-05-21T10:36:38.688Z"
   },
   {
    "duration": 2,
    "start_time": "2023-05-21T10:36:47.564Z"
   },
   {
    "duration": 263,
    "start_time": "2023-05-21T10:36:51.222Z"
   },
   {
    "duration": 4,
    "start_time": "2023-05-21T10:37:03.481Z"
   },
   {
    "duration": 10,
    "start_time": "2023-05-21T10:37:17.652Z"
   },
   {
    "duration": 281,
    "start_time": "2023-05-21T10:38:09.211Z"
   },
   {
    "duration": 3,
    "start_time": "2023-05-21T10:38:59.594Z"
   },
   {
    "duration": 4,
    "start_time": "2023-05-21T10:39:08.555Z"
   },
   {
    "duration": 264,
    "start_time": "2023-05-21T10:41:43.288Z"
   },
   {
    "duration": 71,
    "start_time": "2023-05-21T10:41:49.760Z"
   },
   {
    "duration": 30,
    "start_time": "2023-05-21T10:42:04.014Z"
   },
   {
    "duration": 6,
    "start_time": "2023-05-21T10:42:05.871Z"
   },
   {
    "duration": 6,
    "start_time": "2023-05-21T10:42:47.856Z"
   },
   {
    "duration": 6,
    "start_time": "2023-05-21T10:43:53.379Z"
   },
   {
    "duration": 8,
    "start_time": "2023-05-21T10:46:47.672Z"
   },
   {
    "duration": 4,
    "start_time": "2023-05-21T10:46:51.351Z"
   },
   {
    "duration": 2,
    "start_time": "2023-05-21T10:46:54.088Z"
   },
   {
    "duration": 32,
    "start_time": "2023-05-21T10:47:14.654Z"
   },
   {
    "duration": 11,
    "start_time": "2023-05-21T10:47:32.057Z"
   },
   {
    "duration": 445,
    "start_time": "2023-05-21T10:48:14.699Z"
   },
   {
    "duration": 1146,
    "start_time": "2023-05-21T10:48:15.146Z"
   },
   {
    "duration": 192,
    "start_time": "2023-05-21T10:48:16.293Z"
   },
   {
    "duration": 212,
    "start_time": "2023-05-21T10:48:16.487Z"
   },
   {
    "duration": 198,
    "start_time": "2023-05-21T10:48:16.703Z"
   },
   {
    "duration": 257,
    "start_time": "2023-05-21T10:48:16.903Z"
   },
   {
    "duration": 91,
    "start_time": "2023-05-21T10:48:17.162Z"
   },
   {
    "duration": 10,
    "start_time": "2023-05-21T10:48:17.267Z"
   },
   {
    "duration": 125,
    "start_time": "2023-05-21T10:48:17.280Z"
   },
   {
    "duration": 3,
    "start_time": "2023-05-21T10:48:17.407Z"
   },
   {
    "duration": 71,
    "start_time": "2023-05-21T10:48:17.412Z"
   },
   {
    "duration": 4,
    "start_time": "2023-05-21T10:48:17.485Z"
   },
   {
    "duration": 49,
    "start_time": "2023-05-21T10:48:17.491Z"
   },
   {
    "duration": 55,
    "start_time": "2023-05-21T10:48:17.543Z"
   },
   {
    "duration": 97,
    "start_time": "2023-05-21T10:48:17.600Z"
   },
   {
    "duration": 12,
    "start_time": "2023-05-21T10:48:17.699Z"
   },
   {
    "duration": 116,
    "start_time": "2023-05-21T10:48:17.714Z"
   },
   {
    "duration": 123,
    "start_time": "2023-05-21T10:48:17.833Z"
   },
   {
    "duration": 41,
    "start_time": "2023-05-21T10:48:17.957Z"
   },
   {
    "duration": 210,
    "start_time": "2023-05-21T10:48:17.999Z"
   },
   {
    "duration": 12,
    "start_time": "2023-05-21T10:54:08.651Z"
   },
   {
    "duration": 2,
    "start_time": "2023-05-21T10:54:23.976Z"
   },
   {
    "duration": 22,
    "start_time": "2023-05-21T10:54:31.879Z"
   },
   {
    "duration": 3,
    "start_time": "2023-05-21T10:54:40.667Z"
   },
   {
    "duration": 11,
    "start_time": "2023-05-21T10:54:48.346Z"
   },
   {
    "duration": 3,
    "start_time": "2023-05-21T10:54:56.354Z"
   },
   {
    "duration": 12,
    "start_time": "2023-05-21T10:55:04.355Z"
   },
   {
    "duration": 3,
    "start_time": "2023-05-21T10:55:44.708Z"
   },
   {
    "duration": 6,
    "start_time": "2023-05-21T10:55:48.117Z"
   },
   {
    "duration": 32,
    "start_time": "2023-05-21T10:55:51.541Z"
   },
   {
    "duration": 9,
    "start_time": "2023-05-21T10:56:04.227Z"
   },
   {
    "duration": 28,
    "start_time": "2023-05-21T10:56:16.453Z"
   },
   {
    "duration": 3,
    "start_time": "2023-05-21T10:56:20.107Z"
   },
   {
    "duration": 31,
    "start_time": "2023-05-21T10:56:26.758Z"
   },
   {
    "duration": 6,
    "start_time": "2023-05-21T10:56:31.686Z"
   },
   {
    "duration": 41,
    "start_time": "2023-05-21T10:56:43.351Z"
   },
   {
    "duration": 4,
    "start_time": "2023-05-21T10:57:27.157Z"
   },
   {
    "duration": 8,
    "start_time": "2023-05-21T10:58:07.321Z"
   },
   {
    "duration": 4,
    "start_time": "2023-05-21T10:58:22.574Z"
   },
   {
    "duration": 6,
    "start_time": "2023-05-21T10:58:27.980Z"
   },
   {
    "duration": 3,
    "start_time": "2023-05-21T10:58:35.771Z"
   },
   {
    "duration": 93,
    "start_time": "2023-05-21T10:58:42.121Z"
   },
   {
    "duration": 8,
    "start_time": "2023-05-21T10:58:51.475Z"
   },
   {
    "duration": 4,
    "start_time": "2023-05-21T10:59:07.499Z"
   },
   {
    "duration": 5,
    "start_time": "2023-05-21T11:00:53.790Z"
   },
   {
    "duration": 4,
    "start_time": "2023-05-21T11:00:55.174Z"
   },
   {
    "duration": 77,
    "start_time": "2023-05-21T11:01:33.654Z"
   },
   {
    "duration": 79,
    "start_time": "2023-05-21T11:01:46.497Z"
   },
   {
    "duration": 52,
    "start_time": "2023-05-21T11:01:55.417Z"
   },
   {
    "duration": 48,
    "start_time": "2023-05-21T11:01:58.996Z"
   },
   {
    "duration": 39,
    "start_time": "2023-05-21T11:02:00.443Z"
   },
   {
    "duration": 2,
    "start_time": "2023-05-21T11:02:14.396Z"
   },
   {
    "duration": 35,
    "start_time": "2023-05-21T11:02:30.928Z"
   },
   {
    "duration": 29,
    "start_time": "2023-05-21T11:02:33.321Z"
   },
   {
    "duration": 42,
    "start_time": "2023-05-21T11:02:35.218Z"
   },
   {
    "duration": 16,
    "start_time": "2023-05-21T11:04:21.221Z"
   },
   {
    "duration": 367,
    "start_time": "2023-05-21T11:04:33.686Z"
   },
   {
    "duration": 944,
    "start_time": "2023-05-21T11:04:34.058Z"
   },
   {
    "duration": 193,
    "start_time": "2023-05-21T11:04:35.004Z"
   },
   {
    "duration": 108,
    "start_time": "2023-05-21T11:04:35.199Z"
   },
   {
    "duration": 186,
    "start_time": "2023-05-21T11:04:35.308Z"
   },
   {
    "duration": 209,
    "start_time": "2023-05-21T11:04:35.496Z"
   },
   {
    "duration": 64,
    "start_time": "2023-05-21T11:04:35.707Z"
   },
   {
    "duration": 3,
    "start_time": "2023-05-21T11:04:35.773Z"
   },
   {
    "duration": 114,
    "start_time": "2023-05-21T11:04:35.777Z"
   },
   {
    "duration": 3,
    "start_time": "2023-05-21T11:04:35.894Z"
   },
   {
    "duration": 33,
    "start_time": "2023-05-21T11:04:35.899Z"
   },
   {
    "duration": 33,
    "start_time": "2023-05-21T11:04:35.933Z"
   },
   {
    "duration": 34,
    "start_time": "2023-05-21T11:04:35.968Z"
   },
   {
    "duration": 4,
    "start_time": "2023-05-21T11:04:36.004Z"
   },
   {
    "duration": 24,
    "start_time": "2023-05-21T11:04:36.009Z"
   },
   {
    "duration": 19,
    "start_time": "2023-05-21T11:04:36.041Z"
   },
   {
    "duration": 32,
    "start_time": "2023-05-21T11:04:36.061Z"
   },
   {
    "duration": 4,
    "start_time": "2023-05-21T11:04:36.095Z"
   },
   {
    "duration": 10,
    "start_time": "2023-05-21T11:04:36.101Z"
   },
   {
    "duration": 13,
    "start_time": "2023-05-21T11:04:36.113Z"
   },
   {
    "duration": 41,
    "start_time": "2023-05-21T11:04:36.135Z"
   },
   {
    "duration": 7,
    "start_time": "2023-05-21T11:04:36.177Z"
   },
   {
    "duration": 17,
    "start_time": "2023-05-21T11:04:36.186Z"
   },
   {
    "duration": 15,
    "start_time": "2023-05-21T11:04:36.205Z"
   },
   {
    "duration": 35,
    "start_time": "2023-05-21T11:04:36.221Z"
   },
   {
    "duration": 8,
    "start_time": "2023-05-21T11:04:36.258Z"
   },
   {
    "duration": 38,
    "start_time": "2023-05-21T11:04:36.268Z"
   },
   {
    "duration": 14,
    "start_time": "2023-05-21T11:04:36.311Z"
   },
   {
    "duration": 60,
    "start_time": "2023-05-21T11:04:36.327Z"
   },
   {
    "duration": 8,
    "start_time": "2023-05-21T11:04:36.389Z"
   },
   {
    "duration": 19,
    "start_time": "2023-05-21T11:04:36.399Z"
   },
   {
    "duration": 4,
    "start_time": "2023-05-21T11:04:36.419Z"
   },
   {
    "duration": 59,
    "start_time": "2023-05-21T11:04:36.429Z"
   },
   {
    "duration": 3,
    "start_time": "2023-05-21T11:04:36.490Z"
   },
   {
    "duration": 15,
    "start_time": "2023-05-21T11:04:36.494Z"
   },
   {
    "duration": 7,
    "start_time": "2023-05-21T11:04:36.511Z"
   },
   {
    "duration": 17,
    "start_time": "2023-05-21T11:04:36.520Z"
   },
   {
    "duration": 21,
    "start_time": "2023-05-21T11:04:36.538Z"
   },
   {
    "duration": 59,
    "start_time": "2023-05-21T11:04:36.560Z"
   },
   {
    "duration": 3,
    "start_time": "2023-05-21T11:04:36.620Z"
   },
   {
    "duration": 65,
    "start_time": "2023-05-21T11:04:36.624Z"
   },
   {
    "duration": 90,
    "start_time": "2023-05-21T11:08:28.899Z"
   },
   {
    "duration": 4,
    "start_time": "2023-05-21T11:11:53.999Z"
   },
   {
    "duration": 25,
    "start_time": "2023-05-21T11:11:58.218Z"
   },
   {
    "duration": 36,
    "start_time": "2023-05-21T11:12:04.549Z"
   },
   {
    "duration": 18,
    "start_time": "2023-05-21T11:12:05.573Z"
   },
   {
    "duration": 14,
    "start_time": "2023-05-21T11:12:09.785Z"
   },
   {
    "duration": 122,
    "start_time": "2023-05-21T11:12:15.215Z"
   },
   {
    "duration": 24,
    "start_time": "2023-05-21T11:12:38.949Z"
   },
   {
    "duration": 99,
    "start_time": "2023-05-21T11:13:13.722Z"
   },
   {
    "duration": 18,
    "start_time": "2023-05-21T11:13:30.171Z"
   },
   {
    "duration": 26,
    "start_time": "2023-05-21T11:14:08.052Z"
   },
   {
    "duration": 467,
    "start_time": "2023-05-21T11:14:14.810Z"
   },
   {
    "duration": 904,
    "start_time": "2023-05-21T11:14:15.279Z"
   },
   {
    "duration": 146,
    "start_time": "2023-05-21T11:14:16.184Z"
   },
   {
    "duration": 132,
    "start_time": "2023-05-21T11:14:16.333Z"
   },
   {
    "duration": 136,
    "start_time": "2023-05-21T11:14:16.466Z"
   },
   {
    "duration": 224,
    "start_time": "2023-05-21T11:14:16.604Z"
   },
   {
    "duration": 64,
    "start_time": "2023-05-21T11:14:16.829Z"
   },
   {
    "duration": 3,
    "start_time": "2023-05-21T11:14:16.894Z"
   },
   {
    "duration": 128,
    "start_time": "2023-05-21T11:14:16.899Z"
   },
   {
    "duration": 5,
    "start_time": "2023-05-21T11:14:17.030Z"
   },
   {
    "duration": 25,
    "start_time": "2023-05-21T11:14:17.044Z"
   },
   {
    "duration": 5,
    "start_time": "2023-05-21T11:14:17.071Z"
   },
   {
    "duration": 60,
    "start_time": "2023-05-21T11:14:17.077Z"
   },
   {
    "duration": 14,
    "start_time": "2023-05-21T11:14:17.145Z"
   },
   {
    "duration": 6,
    "start_time": "2023-05-21T11:14:17.161Z"
   },
   {
    "duration": 3,
    "start_time": "2023-05-21T11:14:17.169Z"
   },
   {
    "duration": 17,
    "start_time": "2023-05-21T11:14:17.173Z"
   },
   {
    "duration": 3,
    "start_time": "2023-05-21T11:14:17.192Z"
   },
   {
    "duration": 9,
    "start_time": "2023-05-21T11:14:17.196Z"
   },
   {
    "duration": 4,
    "start_time": "2023-05-21T11:14:17.207Z"
   },
   {
    "duration": 38,
    "start_time": "2023-05-21T11:14:17.212Z"
   },
   {
    "duration": 26,
    "start_time": "2023-05-21T11:14:17.254Z"
   },
   {
    "duration": 16,
    "start_time": "2023-05-21T11:14:17.281Z"
   },
   {
    "duration": 5,
    "start_time": "2023-05-21T11:14:17.299Z"
   },
   {
    "duration": 8,
    "start_time": "2023-05-21T11:14:17.305Z"
   },
   {
    "duration": 4,
    "start_time": "2023-05-21T11:14:17.314Z"
   },
   {
    "duration": 28,
    "start_time": "2023-05-21T11:14:17.319Z"
   },
   {
    "duration": 16,
    "start_time": "2023-05-21T11:14:17.350Z"
   },
   {
    "duration": 22,
    "start_time": "2023-05-21T11:14:17.367Z"
   },
   {
    "duration": 3,
    "start_time": "2023-05-21T11:14:17.391Z"
   },
   {
    "duration": 19,
    "start_time": "2023-05-21T11:14:17.395Z"
   },
   {
    "duration": 3,
    "start_time": "2023-05-21T11:14:17.416Z"
   },
   {
    "duration": 42,
    "start_time": "2023-05-21T11:14:17.420Z"
   },
   {
    "duration": 3,
    "start_time": "2023-05-21T11:14:17.463Z"
   },
   {
    "duration": 6,
    "start_time": "2023-05-21T11:14:17.468Z"
   },
   {
    "duration": 4,
    "start_time": "2023-05-21T11:14:17.476Z"
   },
   {
    "duration": 7,
    "start_time": "2023-05-21T11:14:17.482Z"
   },
   {
    "duration": 3,
    "start_time": "2023-05-21T11:14:17.490Z"
   },
   {
    "duration": 74,
    "start_time": "2023-05-21T11:14:17.494Z"
   },
   {
    "duration": 2,
    "start_time": "2023-05-21T11:14:17.570Z"
   },
   {
    "duration": 14,
    "start_time": "2023-05-21T11:14:17.574Z"
   },
   {
    "duration": 39,
    "start_time": "2023-05-21T11:14:17.590Z"
   },
   {
    "duration": 25,
    "start_time": "2023-05-21T11:14:49.710Z"
   },
   {
    "duration": 80,
    "start_time": "2023-05-21T11:15:01.422Z"
   },
   {
    "duration": 19,
    "start_time": "2023-05-21T11:15:20.093Z"
   },
   {
    "duration": 151,
    "start_time": "2023-05-21T11:15:20.962Z"
   },
   {
    "duration": 117,
    "start_time": "2023-05-21T11:15:39.696Z"
   },
   {
    "duration": 240,
    "start_time": "2023-05-21T11:15:47.025Z"
   },
   {
    "duration": 197,
    "start_time": "2023-05-21T11:15:54.042Z"
   },
   {
    "duration": 208,
    "start_time": "2023-05-21T11:15:58.301Z"
   },
   {
    "duration": 24,
    "start_time": "2023-05-21T11:16:01.305Z"
   },
   {
    "duration": 434,
    "start_time": "2023-05-21T11:16:17.107Z"
   },
   {
    "duration": 889,
    "start_time": "2023-05-21T11:16:17.543Z"
   },
   {
    "duration": 139,
    "start_time": "2023-05-21T11:16:18.434Z"
   },
   {
    "duration": 108,
    "start_time": "2023-05-21T11:16:18.575Z"
   },
   {
    "duration": 139,
    "start_time": "2023-05-21T11:16:18.686Z"
   },
   {
    "duration": 178,
    "start_time": "2023-05-21T11:16:18.827Z"
   },
   {
    "duration": 70,
    "start_time": "2023-05-21T11:16:19.007Z"
   },
   {
    "duration": 3,
    "start_time": "2023-05-21T11:16:19.078Z"
   },
   {
    "duration": 130,
    "start_time": "2023-05-21T11:16:19.083Z"
   },
   {
    "duration": 3,
    "start_time": "2023-05-21T11:16:19.214Z"
   },
   {
    "duration": 8,
    "start_time": "2023-05-21T11:16:19.224Z"
   },
   {
    "duration": 2,
    "start_time": "2023-05-21T11:16:19.234Z"
   },
   {
    "duration": 18,
    "start_time": "2023-05-21T11:16:19.238Z"
   },
   {
    "duration": 3,
    "start_time": "2023-05-21T11:16:19.260Z"
   },
   {
    "duration": 7,
    "start_time": "2023-05-21T11:16:19.265Z"
   },
   {
    "duration": 3,
    "start_time": "2023-05-21T11:16:19.274Z"
   },
   {
    "duration": 50,
    "start_time": "2023-05-21T11:16:19.279Z"
   },
   {
    "duration": 3,
    "start_time": "2023-05-21T11:16:19.331Z"
   },
   {
    "duration": 12,
    "start_time": "2023-05-21T11:16:19.335Z"
   },
   {
    "duration": 3,
    "start_time": "2023-05-21T11:16:19.349Z"
   },
   {
    "duration": 23,
    "start_time": "2023-05-21T11:16:19.354Z"
   },
   {
    "duration": 3,
    "start_time": "2023-05-21T11:16:19.379Z"
   },
   {
    "duration": 18,
    "start_time": "2023-05-21T11:16:19.384Z"
   },
   {
    "duration": 23,
    "start_time": "2023-05-21T11:16:19.404Z"
   },
   {
    "duration": 8,
    "start_time": "2023-05-21T11:16:19.429Z"
   },
   {
    "duration": 6,
    "start_time": "2023-05-21T11:16:19.438Z"
   },
   {
    "duration": 19,
    "start_time": "2023-05-21T11:16:19.446Z"
   },
   {
    "duration": 3,
    "start_time": "2023-05-21T11:16:19.467Z"
   },
   {
    "duration": 21,
    "start_time": "2023-05-21T11:16:19.471Z"
   },
   {
    "duration": 31,
    "start_time": "2023-05-21T11:16:19.493Z"
   },
   {
    "duration": 15,
    "start_time": "2023-05-21T11:16:19.526Z"
   },
   {
    "duration": 3,
    "start_time": "2023-05-21T11:16:19.543Z"
   },
   {
    "duration": 22,
    "start_time": "2023-05-21T11:16:19.547Z"
   },
   {
    "duration": 2,
    "start_time": "2023-05-21T11:16:19.571Z"
   },
   {
    "duration": 7,
    "start_time": "2023-05-21T11:16:19.575Z"
   },
   {
    "duration": 42,
    "start_time": "2023-05-21T11:16:19.584Z"
   },
   {
    "duration": 53,
    "start_time": "2023-05-21T11:16:19.627Z"
   },
   {
    "duration": 45,
    "start_time": "2023-05-21T11:16:19.681Z"
   },
   {
    "duration": 97,
    "start_time": "2023-05-21T11:16:19.728Z"
   },
   {
    "duration": 7,
    "start_time": "2023-05-21T11:16:19.827Z"
   },
   {
    "duration": 22,
    "start_time": "2023-05-21T11:16:19.837Z"
   },
   {
    "duration": 35,
    "start_time": "2023-05-21T11:16:19.861Z"
   },
   {
    "duration": 242,
    "start_time": "2023-05-21T11:16:19.898Z"
   },
   {
    "duration": 12,
    "start_time": "2023-05-21T11:16:34.126Z"
   },
   {
    "duration": 83,
    "start_time": "2023-05-21T11:16:44.146Z"
   },
   {
    "duration": 11,
    "start_time": "2023-05-21T11:16:47.073Z"
   },
   {
    "duration": 87,
    "start_time": "2023-05-21T11:16:54.952Z"
   },
   {
    "duration": 389,
    "start_time": "2023-05-21T11:19:16.228Z"
   },
   {
    "duration": 835,
    "start_time": "2023-05-21T11:19:16.624Z"
   },
   {
    "duration": 138,
    "start_time": "2023-05-21T11:19:17.460Z"
   },
   {
    "duration": 97,
    "start_time": "2023-05-21T11:19:17.600Z"
   },
   {
    "duration": 138,
    "start_time": "2023-05-21T11:19:17.699Z"
   },
   {
    "duration": 65,
    "start_time": "2023-05-21T11:19:17.838Z"
   },
   {
    "duration": 20,
    "start_time": "2023-05-21T11:19:17.904Z"
   },
   {
    "duration": 83,
    "start_time": "2023-05-21T11:19:17.926Z"
   },
   {
    "duration": 13,
    "start_time": "2023-05-21T11:19:18.011Z"
   },
   {
    "duration": 10,
    "start_time": "2023-05-21T11:19:18.026Z"
   },
   {
    "duration": 2,
    "start_time": "2023-05-21T11:19:18.038Z"
   },
   {
    "duration": 22,
    "start_time": "2023-05-21T11:19:18.041Z"
   },
   {
    "duration": 5,
    "start_time": "2023-05-21T11:19:18.064Z"
   },
   {
    "duration": 7,
    "start_time": "2023-05-21T11:19:18.072Z"
   },
   {
    "duration": 4,
    "start_time": "2023-05-21T11:19:18.081Z"
   },
   {
    "duration": 48,
    "start_time": "2023-05-21T11:19:18.086Z"
   },
   {
    "duration": 5,
    "start_time": "2023-05-21T11:19:18.136Z"
   },
   {
    "duration": 9,
    "start_time": "2023-05-21T11:19:18.143Z"
   },
   {
    "duration": 2,
    "start_time": "2023-05-21T11:19:18.153Z"
   },
   {
    "duration": 23,
    "start_time": "2023-05-21T11:19:18.157Z"
   },
   {
    "duration": 4,
    "start_time": "2023-05-21T11:19:18.181Z"
   },
   {
    "duration": 8,
    "start_time": "2023-05-21T11:19:18.187Z"
   },
   {
    "duration": 4,
    "start_time": "2023-05-21T11:19:18.197Z"
   },
   {
    "duration": 5,
    "start_time": "2023-05-21T11:19:18.225Z"
   },
   {
    "duration": 3,
    "start_time": "2023-05-21T11:19:18.232Z"
   },
   {
    "duration": 26,
    "start_time": "2023-05-21T11:19:18.236Z"
   },
   {
    "duration": 6,
    "start_time": "2023-05-21T11:19:18.263Z"
   },
   {
    "duration": 37,
    "start_time": "2023-05-21T11:19:18.270Z"
   },
   {
    "duration": 3,
    "start_time": "2023-05-21T11:19:18.326Z"
   },
   {
    "duration": 24,
    "start_time": "2023-05-21T11:19:18.331Z"
   },
   {
    "duration": 6,
    "start_time": "2023-05-21T11:19:18.357Z"
   },
   {
    "duration": 28,
    "start_time": "2023-05-21T11:19:18.365Z"
   },
   {
    "duration": 3,
    "start_time": "2023-05-21T11:19:18.395Z"
   },
   {
    "duration": 6,
    "start_time": "2023-05-21T11:19:18.425Z"
   },
   {
    "duration": 4,
    "start_time": "2023-05-21T11:19:18.432Z"
   },
   {
    "duration": 12,
    "start_time": "2023-05-21T11:19:18.437Z"
   },
   {
    "duration": 3,
    "start_time": "2023-05-21T11:19:18.451Z"
   },
   {
    "duration": 95,
    "start_time": "2023-05-21T11:19:18.455Z"
   },
   {
    "duration": 2,
    "start_time": "2023-05-21T11:19:18.552Z"
   },
   {
    "duration": 29,
    "start_time": "2023-05-21T11:19:18.556Z"
   },
   {
    "duration": 62,
    "start_time": "2023-05-21T11:19:18.589Z"
   },
   {
    "duration": 342,
    "start_time": "2023-05-21T11:19:18.653Z"
   },
   {
    "duration": 95,
    "start_time": "2023-05-21T11:19:18.997Z"
   },
   {
    "duration": 355,
    "start_time": "2023-05-21T11:21:20.466Z"
   },
   {
    "duration": 880,
    "start_time": "2023-05-21T11:21:20.823Z"
   },
   {
    "duration": 162,
    "start_time": "2023-05-21T11:21:21.705Z"
   },
   {
    "duration": 99,
    "start_time": "2023-05-21T11:21:21.869Z"
   },
   {
    "duration": 133,
    "start_time": "2023-05-21T11:21:21.969Z"
   },
   {
    "duration": 69,
    "start_time": "2023-05-21T11:21:22.104Z"
   },
   {
    "duration": 2,
    "start_time": "2023-05-21T11:21:22.175Z"
   },
   {
    "duration": 103,
    "start_time": "2023-05-21T11:21:22.179Z"
   },
   {
    "duration": 2,
    "start_time": "2023-05-21T11:21:22.284Z"
   },
   {
    "duration": 15,
    "start_time": "2023-05-21T11:21:22.289Z"
   },
   {
    "duration": 6,
    "start_time": "2023-05-21T11:21:22.305Z"
   },
   {
    "duration": 42,
    "start_time": "2023-05-21T11:21:22.312Z"
   },
   {
    "duration": 7,
    "start_time": "2023-05-21T11:21:22.355Z"
   },
   {
    "duration": 27,
    "start_time": "2023-05-21T11:21:22.363Z"
   },
   {
    "duration": 9,
    "start_time": "2023-05-21T11:21:22.392Z"
   },
   {
    "duration": 40,
    "start_time": "2023-05-21T11:21:22.402Z"
   },
   {
    "duration": 14,
    "start_time": "2023-05-21T11:21:22.443Z"
   },
   {
    "duration": 20,
    "start_time": "2023-05-21T11:21:22.458Z"
   },
   {
    "duration": 9,
    "start_time": "2023-05-21T11:21:22.480Z"
   },
   {
    "duration": 53,
    "start_time": "2023-05-21T11:21:22.490Z"
   },
   {
    "duration": 9,
    "start_time": "2023-05-21T11:21:22.545Z"
   },
   {
    "duration": 19,
    "start_time": "2023-05-21T11:21:22.556Z"
   },
   {
    "duration": 4,
    "start_time": "2023-05-21T11:21:22.577Z"
   },
   {
    "duration": 12,
    "start_time": "2023-05-21T11:21:22.583Z"
   },
   {
    "duration": 16,
    "start_time": "2023-05-21T11:21:22.596Z"
   },
   {
    "duration": 48,
    "start_time": "2023-05-21T11:21:22.614Z"
   },
   {
    "duration": 39,
    "start_time": "2023-05-21T11:21:22.664Z"
   },
   {
    "duration": 59,
    "start_time": "2023-05-21T11:21:22.707Z"
   },
   {
    "duration": 11,
    "start_time": "2023-05-21T11:21:22.768Z"
   },
   {
    "duration": 26,
    "start_time": "2023-05-21T11:21:22.781Z"
   },
   {
    "duration": 38,
    "start_time": "2023-05-21T11:21:22.808Z"
   },
   {
    "duration": 37,
    "start_time": "2023-05-21T11:21:22.847Z"
   },
   {
    "duration": 3,
    "start_time": "2023-05-21T11:21:22.886Z"
   },
   {
    "duration": 11,
    "start_time": "2023-05-21T11:21:22.890Z"
   },
   {
    "duration": 7,
    "start_time": "2023-05-21T11:21:22.903Z"
   },
   {
    "duration": 58,
    "start_time": "2023-05-21T11:21:22.912Z"
   },
   {
    "duration": 9,
    "start_time": "2023-05-21T11:21:22.972Z"
   },
   {
    "duration": 99,
    "start_time": "2023-05-21T11:21:22.983Z"
   },
   {
    "duration": 3,
    "start_time": "2023-05-21T11:21:23.083Z"
   },
   {
    "duration": 57,
    "start_time": "2023-05-21T11:21:23.087Z"
   },
   {
    "duration": 487,
    "start_time": "2023-05-21T11:21:23.146Z"
   },
   {
    "duration": 416,
    "start_time": "2023-05-21T11:21:36.821Z"
   },
   {
    "duration": 874,
    "start_time": "2023-05-21T11:21:37.239Z"
   },
   {
    "duration": 158,
    "start_time": "2023-05-21T11:21:38.115Z"
   },
   {
    "duration": 108,
    "start_time": "2023-05-21T11:21:38.274Z"
   },
   {
    "duration": 71,
    "start_time": "2023-05-21T11:21:38.384Z"
   },
   {
    "duration": 3,
    "start_time": "2023-05-21T11:21:38.457Z"
   },
   {
    "duration": 100,
    "start_time": "2023-05-21T11:21:38.462Z"
   },
   {
    "duration": 2,
    "start_time": "2023-05-21T11:21:38.564Z"
   },
   {
    "duration": 40,
    "start_time": "2023-05-21T11:21:38.567Z"
   },
   {
    "duration": 42,
    "start_time": "2023-05-21T11:21:38.609Z"
   },
   {
    "duration": 29,
    "start_time": "2023-05-21T11:21:38.653Z"
   },
   {
    "duration": 7,
    "start_time": "2023-05-21T11:21:38.683Z"
   },
   {
    "duration": 10,
    "start_time": "2023-05-21T11:21:38.692Z"
   },
   {
    "duration": 3,
    "start_time": "2023-05-21T11:21:38.705Z"
   },
   {
    "duration": 31,
    "start_time": "2023-05-21T11:21:38.709Z"
   },
   {
    "duration": 12,
    "start_time": "2023-05-21T11:21:38.742Z"
   },
   {
    "duration": 11,
    "start_time": "2023-05-21T11:21:38.755Z"
   },
   {
    "duration": 19,
    "start_time": "2023-05-21T11:21:38.767Z"
   },
   {
    "duration": 172,
    "start_time": "2023-05-21T11:21:38.787Z"
   },
   {
    "duration": 3,
    "start_time": "2023-05-21T11:21:38.961Z"
   },
   {
    "duration": 26,
    "start_time": "2023-05-21T11:21:38.965Z"
   },
   {
    "duration": 23,
    "start_time": "2023-05-21T11:21:38.992Z"
   },
   {
    "duration": 43,
    "start_time": "2023-05-21T11:21:39.016Z"
   },
   {
    "duration": 19,
    "start_time": "2023-05-21T11:21:39.061Z"
   },
   {
    "duration": 55,
    "start_time": "2023-05-21T11:21:39.081Z"
   },
   {
    "duration": 11,
    "start_time": "2023-05-21T11:21:39.140Z"
   },
   {
    "duration": 31,
    "start_time": "2023-05-21T11:21:39.152Z"
   },
   {
    "duration": 3,
    "start_time": "2023-05-21T11:21:39.184Z"
   },
   {
    "duration": 33,
    "start_time": "2023-05-21T11:21:39.188Z"
   },
   {
    "duration": 43,
    "start_time": "2023-05-21T11:21:39.223Z"
   },
   {
    "duration": 36,
    "start_time": "2023-05-21T11:21:39.268Z"
   },
   {
    "duration": 3,
    "start_time": "2023-05-21T11:21:39.306Z"
   },
   {
    "duration": 11,
    "start_time": "2023-05-21T11:21:39.311Z"
   },
   {
    "duration": 18,
    "start_time": "2023-05-21T11:21:39.323Z"
   },
   {
    "duration": 23,
    "start_time": "2023-05-21T11:21:39.342Z"
   },
   {
    "duration": 5,
    "start_time": "2023-05-21T11:21:39.366Z"
   },
   {
    "duration": 70,
    "start_time": "2023-05-21T11:21:39.372Z"
   },
   {
    "duration": 3,
    "start_time": "2023-05-21T11:21:39.444Z"
   },
   {
    "duration": 25,
    "start_time": "2023-05-21T11:21:39.448Z"
   },
   {
    "duration": 460,
    "start_time": "2023-05-21T11:21:39.474Z"
   },
   {
    "duration": 2,
    "start_time": "2023-05-21T11:22:22.067Z"
   },
   {
    "duration": 1916,
    "start_time": "2023-05-21T11:22:42.292Z"
   },
   {
    "duration": 16,
    "start_time": "2023-05-21T11:22:52.551Z"
   },
   {
    "duration": 2,
    "start_time": "2023-05-21T11:23:02.616Z"
   },
   {
    "duration": 803,
    "start_time": "2023-05-21T11:23:03.138Z"
   },
   {
    "duration": 130,
    "start_time": "2023-05-21T11:23:03.943Z"
   },
   {
    "duration": 86,
    "start_time": "2023-05-21T11:23:04.169Z"
   },
   {
    "duration": 67,
    "start_time": "2023-05-21T11:23:05.216Z"
   },
   {
    "duration": 4,
    "start_time": "2023-05-21T11:23:07.274Z"
   },
   {
    "duration": 88,
    "start_time": "2023-05-21T11:23:11.541Z"
   },
   {
    "duration": 2,
    "start_time": "2023-05-21T11:23:13.440Z"
   },
   {
    "duration": 9,
    "start_time": "2023-05-21T11:23:14.738Z"
   },
   {
    "duration": 3,
    "start_time": "2023-05-21T11:23:15.518Z"
   },
   {
    "duration": 30,
    "start_time": "2023-05-21T11:23:16.921Z"
   },
   {
    "duration": 17,
    "start_time": "2023-05-21T11:23:22.865Z"
   },
   {
    "duration": 47,
    "start_time": "2023-05-21T11:27:50.196Z"
   },
   {
    "duration": 49,
    "start_time": "2023-05-21T11:28:06.933Z"
   },
   {
    "duration": 52,
    "start_time": "2023-05-21T11:28:38.515Z"
   },
   {
    "duration": 26,
    "start_time": "2023-05-21T11:38:36.467Z"
   },
   {
    "duration": 370,
    "start_time": "2023-05-21T11:39:07.478Z"
   },
   {
    "duration": 903,
    "start_time": "2023-05-21T11:39:07.850Z"
   },
   {
    "duration": 177,
    "start_time": "2023-05-21T11:39:08.754Z"
   },
   {
    "duration": 149,
    "start_time": "2023-05-21T11:39:08.932Z"
   },
   {
    "duration": 104,
    "start_time": "2023-05-21T11:39:09.085Z"
   },
   {
    "duration": 4,
    "start_time": "2023-05-21T11:39:09.192Z"
   },
   {
    "duration": 155,
    "start_time": "2023-05-21T11:39:09.198Z"
   },
   {
    "duration": 3,
    "start_time": "2023-05-21T11:39:09.355Z"
   },
   {
    "duration": 26,
    "start_time": "2023-05-21T11:39:09.360Z"
   },
   {
    "duration": 7,
    "start_time": "2023-05-21T11:39:09.388Z"
   },
   {
    "duration": 48,
    "start_time": "2023-05-21T11:39:09.397Z"
   },
   {
    "duration": 32,
    "start_time": "2023-05-21T11:39:09.447Z"
   },
   {
    "duration": 32,
    "start_time": "2023-05-21T11:39:09.481Z"
   },
   {
    "duration": 49,
    "start_time": "2023-05-21T11:39:09.517Z"
   },
   {
    "duration": 80,
    "start_time": "2023-05-21T11:39:09.569Z"
   },
   {
    "duration": 23,
    "start_time": "2023-05-21T11:39:09.651Z"
   },
   {
    "duration": 18,
    "start_time": "2023-05-21T11:39:09.676Z"
   },
   {
    "duration": 17,
    "start_time": "2023-05-21T11:39:09.696Z"
   },
   {
    "duration": 44,
    "start_time": "2023-05-21T11:39:09.715Z"
   },
   {
    "duration": 13,
    "start_time": "2023-05-21T11:39:09.761Z"
   },
   {
    "duration": 23,
    "start_time": "2023-05-21T11:39:09.776Z"
   },
   {
    "duration": 4,
    "start_time": "2023-05-21T11:39:09.801Z"
   },
   {
    "duration": 14,
    "start_time": "2023-05-21T11:39:09.806Z"
   },
   {
    "duration": 33,
    "start_time": "2023-05-21T11:39:09.822Z"
   },
   {
    "duration": 50,
    "start_time": "2023-05-21T11:39:09.859Z"
   },
   {
    "duration": 6,
    "start_time": "2023-05-21T11:39:09.911Z"
   },
   {
    "duration": 58,
    "start_time": "2023-05-21T11:39:09.919Z"
   },
   {
    "duration": 8,
    "start_time": "2023-05-21T11:39:09.980Z"
   },
   {
    "duration": 45,
    "start_time": "2023-05-21T11:39:09.990Z"
   },
   {
    "duration": 36,
    "start_time": "2023-05-21T11:39:10.038Z"
   },
   {
    "duration": 55,
    "start_time": "2023-05-21T11:39:10.076Z"
   },
   {
    "duration": 6,
    "start_time": "2023-05-21T11:39:10.133Z"
   },
   {
    "duration": 23,
    "start_time": "2023-05-21T11:39:10.142Z"
   },
   {
    "duration": 3,
    "start_time": "2023-05-21T11:39:10.167Z"
   },
   {
    "duration": 14,
    "start_time": "2023-05-21T11:39:10.172Z"
   },
   {
    "duration": 19,
    "start_time": "2023-05-21T11:39:10.188Z"
   },
   {
    "duration": 99,
    "start_time": "2023-05-21T11:39:10.209Z"
   },
   {
    "duration": 3,
    "start_time": "2023-05-21T11:39:10.310Z"
   },
   {
    "duration": 64,
    "start_time": "2023-05-21T11:39:10.314Z"
   },
   {
    "duration": 495,
    "start_time": "2023-05-21T11:39:10.381Z"
   },
   {
    "duration": 359,
    "start_time": "2023-05-21T11:39:26.002Z"
   },
   {
    "duration": 145,
    "start_time": "2023-05-21T11:40:01.274Z"
   },
   {
    "duration": 133,
    "start_time": "2023-05-21T11:40:11.781Z"
   },
   {
    "duration": 24,
    "start_time": "2023-05-21T11:40:32.751Z"
   },
   {
    "duration": 21,
    "start_time": "2023-05-21T11:40:35.657Z"
   },
   {
    "duration": 28,
    "start_time": "2023-05-21T11:40:50.216Z"
   },
   {
    "duration": 17,
    "start_time": "2023-05-21T11:41:37.883Z"
   },
   {
    "duration": 17,
    "start_time": "2023-05-21T11:41:41.794Z"
   },
   {
    "duration": 151,
    "start_time": "2023-05-21T11:41:43.794Z"
   },
   {
    "duration": 2,
    "start_time": "2023-05-21T11:42:21.606Z"
   },
   {
    "duration": 122,
    "start_time": "2023-05-21T11:42:45.700Z"
   },
   {
    "duration": 13,
    "start_time": "2023-05-21T11:43:12.757Z"
   },
   {
    "duration": 62,
    "start_time": "2023-05-21T11:43:16.963Z"
   },
   {
    "duration": 67,
    "start_time": "2023-05-21T11:43:30.853Z"
   },
   {
    "duration": 25,
    "start_time": "2023-05-21T11:43:33.312Z"
   },
   {
    "duration": 48,
    "start_time": "2023-05-21T11:43:41.510Z"
   },
   {
    "duration": 26,
    "start_time": "2023-05-21T11:46:41.079Z"
   },
   {
    "duration": 53,
    "start_time": "2023-05-21T11:46:48.086Z"
   },
   {
    "duration": 51,
    "start_time": "2023-05-21T11:46:50.580Z"
   },
   {
    "duration": 76,
    "start_time": "2023-05-21T11:47:37.782Z"
   },
   {
    "duration": 15,
    "start_time": "2023-05-21T11:49:26.171Z"
   },
   {
    "duration": 33,
    "start_time": "2023-05-21T11:49:38.570Z"
   },
   {
    "duration": 14,
    "start_time": "2023-05-21T11:49:53.307Z"
   },
   {
    "duration": 453,
    "start_time": "2023-05-21T11:49:58.613Z"
   },
   {
    "duration": 1034,
    "start_time": "2023-05-21T11:49:59.068Z"
   },
   {
    "duration": 207,
    "start_time": "2023-05-21T11:50:00.104Z"
   },
   {
    "duration": 149,
    "start_time": "2023-05-21T11:50:00.313Z"
   },
   {
    "duration": 97,
    "start_time": "2023-05-21T11:50:00.465Z"
   },
   {
    "duration": 3,
    "start_time": "2023-05-21T11:50:00.565Z"
   },
   {
    "duration": 146,
    "start_time": "2023-05-21T11:50:00.571Z"
   },
   {
    "duration": 15,
    "start_time": "2023-05-21T11:50:00.718Z"
   },
   {
    "duration": 39,
    "start_time": "2023-05-21T11:50:00.735Z"
   },
   {
    "duration": 12,
    "start_time": "2023-05-21T11:50:00.776Z"
   },
   {
    "duration": 59,
    "start_time": "2023-05-21T11:50:00.791Z"
   },
   {
    "duration": 21,
    "start_time": "2023-05-21T11:50:00.851Z"
   },
   {
    "duration": 27,
    "start_time": "2023-05-21T11:50:00.874Z"
   },
   {
    "duration": 16,
    "start_time": "2023-05-21T11:50:00.905Z"
   },
   {
    "duration": 57,
    "start_time": "2023-05-21T11:50:00.923Z"
   },
   {
    "duration": 26,
    "start_time": "2023-05-21T11:50:00.983Z"
   },
   {
    "duration": 22,
    "start_time": "2023-05-21T11:50:01.011Z"
   },
   {
    "duration": 55,
    "start_time": "2023-05-21T11:50:01.035Z"
   },
   {
    "duration": 64,
    "start_time": "2023-05-21T11:50:01.092Z"
   },
   {
    "duration": 12,
    "start_time": "2023-05-21T11:50:01.157Z"
   },
   {
    "duration": 33,
    "start_time": "2023-05-21T11:50:01.171Z"
   },
   {
    "duration": 41,
    "start_time": "2023-05-21T11:50:01.207Z"
   },
   {
    "duration": 18,
    "start_time": "2023-05-21T11:50:01.250Z"
   },
   {
    "duration": 28,
    "start_time": "2023-05-21T11:50:01.270Z"
   },
   {
    "duration": 98,
    "start_time": "2023-05-21T11:50:01.300Z"
   },
   {
    "duration": 43,
    "start_time": "2023-05-21T11:50:01.401Z"
   },
   {
    "duration": 59,
    "start_time": "2023-05-21T11:50:01.446Z"
   },
   {
    "duration": 11,
    "start_time": "2023-05-21T11:50:01.507Z"
   },
   {
    "duration": 131,
    "start_time": "2023-05-21T11:50:01.520Z"
   },
   {
    "duration": 28,
    "start_time": "2023-05-21T11:50:01.654Z"
   },
   {
    "duration": 64,
    "start_time": "2023-05-21T11:50:01.684Z"
   },
   {
    "duration": 47,
    "start_time": "2023-05-21T11:50:01.749Z"
   },
   {
    "duration": 40,
    "start_time": "2023-05-21T11:50:01.798Z"
   },
   {
    "duration": 76,
    "start_time": "2023-05-21T11:50:01.844Z"
   },
   {
    "duration": 59,
    "start_time": "2023-05-21T11:50:01.922Z"
   },
   {
    "duration": 33,
    "start_time": "2023-05-21T11:50:01.982Z"
   },
   {
    "duration": 162,
    "start_time": "2023-05-21T11:50:02.017Z"
   },
   {
    "duration": 3,
    "start_time": "2023-05-21T11:50:02.180Z"
   },
   {
    "duration": 65,
    "start_time": "2023-05-21T11:50:02.184Z"
   },
   {
    "duration": 510,
    "start_time": "2023-05-21T11:50:02.251Z"
   },
   {
    "duration": 97,
    "start_time": "2023-05-21T11:50:02.765Z"
   },
   {
    "duration": 24,
    "start_time": "2023-05-21T11:50:02.864Z"
   },
   {
    "duration": 78,
    "start_time": "2023-05-21T11:50:02.890Z"
   },
   {
    "duration": 27,
    "start_time": "2023-05-21T11:50:02.970Z"
   },
   {
    "duration": 68,
    "start_time": "2023-05-21T11:50:02.998Z"
   },
   {
    "duration": 27,
    "start_time": "2023-05-21T11:50:03.068Z"
   },
   {
    "duration": 70,
    "start_time": "2023-05-21T11:50:03.097Z"
   },
   {
    "duration": 22,
    "start_time": "2023-05-21T11:50:56.937Z"
   },
   {
    "duration": 464,
    "start_time": "2023-05-21T11:51:28.646Z"
   },
   {
    "duration": 885,
    "start_time": "2023-05-21T11:51:29.112Z"
   },
   {
    "duration": 186,
    "start_time": "2023-05-21T11:51:29.999Z"
   },
   {
    "duration": 123,
    "start_time": "2023-05-21T11:51:30.187Z"
   },
   {
    "duration": 79,
    "start_time": "2023-05-21T11:51:30.313Z"
   },
   {
    "duration": 3,
    "start_time": "2023-05-21T11:51:30.393Z"
   },
   {
    "duration": 149,
    "start_time": "2023-05-21T11:51:30.398Z"
   },
   {
    "duration": 4,
    "start_time": "2023-05-21T11:51:30.549Z"
   },
   {
    "duration": 61,
    "start_time": "2023-05-21T11:51:30.555Z"
   },
   {
    "duration": 49,
    "start_time": "2023-05-21T11:51:30.618Z"
   },
   {
    "duration": 108,
    "start_time": "2023-05-21T11:51:30.669Z"
   },
   {
    "duration": 29,
    "start_time": "2023-05-21T11:51:30.779Z"
   },
   {
    "duration": 54,
    "start_time": "2023-05-21T11:51:30.809Z"
   },
   {
    "duration": 95,
    "start_time": "2023-05-21T11:51:30.866Z"
   },
   {
    "duration": 56,
    "start_time": "2023-05-21T11:51:30.964Z"
   },
   {
    "duration": 136,
    "start_time": "2023-05-21T11:51:31.021Z"
   },
   {
    "duration": 34,
    "start_time": "2023-05-21T11:51:31.159Z"
   },
   {
    "duration": 11,
    "start_time": "2023-05-21T11:51:31.195Z"
   },
   {
    "duration": 75,
    "start_time": "2023-05-21T11:51:31.208Z"
   },
   {
    "duration": 22,
    "start_time": "2023-05-21T11:51:31.284Z"
   },
   {
    "duration": 36,
    "start_time": "2023-05-21T11:51:31.308Z"
   },
   {
    "duration": 15,
    "start_time": "2023-05-21T11:51:31.347Z"
   },
   {
    "duration": 33,
    "start_time": "2023-05-21T11:51:31.364Z"
   },
   {
    "duration": 52,
    "start_time": "2023-05-21T11:51:31.399Z"
   },
   {
    "duration": 48,
    "start_time": "2023-05-21T11:51:31.456Z"
   },
   {
    "duration": 17,
    "start_time": "2023-05-21T11:51:31.505Z"
   },
   {
    "duration": 59,
    "start_time": "2023-05-21T11:51:31.524Z"
   },
   {
    "duration": 28,
    "start_time": "2023-05-21T11:51:31.585Z"
   },
   {
    "duration": 54,
    "start_time": "2023-05-21T11:51:31.615Z"
   },
   {
    "duration": 18,
    "start_time": "2023-05-21T11:51:31.672Z"
   },
   {
    "duration": 60,
    "start_time": "2023-05-21T11:51:31.691Z"
   },
   {
    "duration": 18,
    "start_time": "2023-05-21T11:51:31.753Z"
   },
   {
    "duration": 16,
    "start_time": "2023-05-21T11:51:31.773Z"
   },
   {
    "duration": 11,
    "start_time": "2023-05-21T11:51:31.791Z"
   },
   {
    "duration": 13,
    "start_time": "2023-05-21T11:51:31.804Z"
   },
   {
    "duration": 33,
    "start_time": "2023-05-21T11:51:31.818Z"
   },
   {
    "duration": 88,
    "start_time": "2023-05-21T11:51:31.854Z"
   },
   {
    "duration": 7,
    "start_time": "2023-05-21T11:51:31.950Z"
   },
   {
    "duration": 29,
    "start_time": "2023-05-21T11:51:31.959Z"
   },
   {
    "duration": 449,
    "start_time": "2023-05-21T11:51:31.990Z"
   },
   {
    "duration": 71,
    "start_time": "2023-05-21T11:51:32.450Z"
   },
   {
    "duration": 38,
    "start_time": "2023-05-21T11:51:32.523Z"
   },
   {
    "duration": 39,
    "start_time": "2023-05-21T11:51:32.562Z"
   },
   {
    "duration": 15,
    "start_time": "2023-05-21T11:51:32.603Z"
   },
   {
    "duration": 69,
    "start_time": "2023-05-21T11:51:32.620Z"
   },
   {
    "duration": 14,
    "start_time": "2023-05-21T11:51:32.691Z"
   },
   {
    "duration": 42,
    "start_time": "2023-05-21T11:51:32.707Z"
   },
   {
    "duration": 25,
    "start_time": "2023-05-21T11:53:52.355Z"
   },
   {
    "duration": 17,
    "start_time": "2023-05-21T11:53:55.363Z"
   },
   {
    "duration": 17,
    "start_time": "2023-05-21T11:54:02.784Z"
   },
   {
    "duration": 3,
    "start_time": "2023-05-21T11:54:38.854Z"
   },
   {
    "duration": 2,
    "start_time": "2023-05-21T11:54:47.377Z"
   },
   {
    "duration": 4,
    "start_time": "2023-05-21T11:55:38.804Z"
   },
   {
    "duration": 1026,
    "start_time": "2023-05-21T11:55:55.447Z"
   },
   {
    "duration": 4,
    "start_time": "2023-05-21T11:56:04.404Z"
   },
   {
    "duration": 25,
    "start_time": "2023-05-21T11:56:24.723Z"
   },
   {
    "duration": 192,
    "start_time": "2023-05-21T11:56:27.775Z"
   },
   {
    "duration": 63,
    "start_time": "2023-05-21T11:56:32.622Z"
   },
   {
    "duration": 109,
    "start_time": "2023-05-21T11:56:42.545Z"
   },
   {
    "duration": 90,
    "start_time": "2023-05-21T11:57:41.275Z"
   },
   {
    "duration": 86,
    "start_time": "2023-05-21T11:57:53.806Z"
   },
   {
    "duration": 9,
    "start_time": "2023-05-21T11:58:30.281Z"
   },
   {
    "duration": 17,
    "start_time": "2023-05-21T11:58:36.418Z"
   },
   {
    "duration": 274,
    "start_time": "2023-05-21T11:58:41.837Z"
   },
   {
    "duration": 10,
    "start_time": "2023-05-21T11:59:10.854Z"
   },
   {
    "duration": 13,
    "start_time": "2023-05-21T11:59:17.684Z"
   },
   {
    "duration": 82,
    "start_time": "2023-05-21T11:59:23.064Z"
   },
   {
    "duration": 81,
    "start_time": "2023-05-21T11:59:29.278Z"
   },
   {
    "duration": 451,
    "start_time": "2023-05-21T11:59:44.902Z"
   },
   {
    "duration": 960,
    "start_time": "2023-05-21T11:59:45.357Z"
   },
   {
    "duration": 176,
    "start_time": "2023-05-21T11:59:46.318Z"
   },
   {
    "duration": 102,
    "start_time": "2023-05-21T11:59:46.496Z"
   },
   {
    "duration": 73,
    "start_time": "2023-05-21T11:59:46.600Z"
   },
   {
    "duration": 3,
    "start_time": "2023-05-21T11:59:46.674Z"
   },
   {
    "duration": 89,
    "start_time": "2023-05-21T11:59:46.678Z"
   },
   {
    "duration": 2,
    "start_time": "2023-05-21T11:59:46.769Z"
   },
   {
    "duration": 20,
    "start_time": "2023-05-21T11:59:46.773Z"
   },
   {
    "duration": 10,
    "start_time": "2023-05-21T11:59:46.796Z"
   },
   {
    "duration": 37,
    "start_time": "2023-05-21T11:59:46.807Z"
   },
   {
    "duration": 20,
    "start_time": "2023-05-21T11:59:46.847Z"
   },
   {
    "duration": 16,
    "start_time": "2023-05-21T11:59:46.868Z"
   },
   {
    "duration": 11,
    "start_time": "2023-05-21T11:59:46.886Z"
   },
   {
    "duration": 26,
    "start_time": "2023-05-21T11:59:46.898Z"
   },
   {
    "duration": 36,
    "start_time": "2023-05-21T11:59:46.930Z"
   },
   {
    "duration": 11,
    "start_time": "2023-05-21T11:59:46.968Z"
   },
   {
    "duration": 8,
    "start_time": "2023-05-21T11:59:46.981Z"
   },
   {
    "duration": 33,
    "start_time": "2023-05-21T11:59:46.990Z"
   },
   {
    "duration": 45,
    "start_time": "2023-05-21T11:59:47.027Z"
   },
   {
    "duration": 15,
    "start_time": "2023-05-21T11:59:47.074Z"
   },
   {
    "duration": 10,
    "start_time": "2023-05-21T11:59:47.090Z"
   },
   {
    "duration": 43,
    "start_time": "2023-05-21T11:59:47.102Z"
   },
   {
    "duration": 17,
    "start_time": "2023-05-21T11:59:47.147Z"
   },
   {
    "duration": 23,
    "start_time": "2023-05-21T11:59:47.165Z"
   },
   {
    "duration": 5,
    "start_time": "2023-05-21T11:59:47.189Z"
   },
   {
    "duration": 25,
    "start_time": "2023-05-21T11:59:47.195Z"
   },
   {
    "duration": 8,
    "start_time": "2023-05-21T11:59:47.223Z"
   },
   {
    "duration": 57,
    "start_time": "2023-05-21T11:59:47.232Z"
   },
   {
    "duration": 11,
    "start_time": "2023-05-21T11:59:47.290Z"
   },
   {
    "duration": 31,
    "start_time": "2023-05-21T11:59:47.303Z"
   },
   {
    "duration": 4,
    "start_time": "2023-05-21T11:59:47.339Z"
   },
   {
    "duration": 30,
    "start_time": "2023-05-21T11:59:47.344Z"
   },
   {
    "duration": 7,
    "start_time": "2023-05-21T11:59:47.377Z"
   },
   {
    "duration": 12,
    "start_time": "2023-05-21T11:59:47.386Z"
   },
   {
    "duration": 3,
    "start_time": "2023-05-21T11:59:47.400Z"
   },
   {
    "duration": 73,
    "start_time": "2023-05-21T11:59:47.405Z"
   },
   {
    "duration": 2,
    "start_time": "2023-05-21T11:59:47.480Z"
   },
   {
    "duration": 25,
    "start_time": "2023-05-21T11:59:47.484Z"
   },
   {
    "duration": 542,
    "start_time": "2023-05-21T11:59:47.510Z"
   },
   {
    "duration": 88,
    "start_time": "2023-05-21T11:59:48.060Z"
   },
   {
    "duration": 27,
    "start_time": "2023-05-21T11:59:48.153Z"
   },
   {
    "duration": 36,
    "start_time": "2023-05-21T11:59:48.182Z"
   },
   {
    "duration": 35,
    "start_time": "2023-05-21T11:59:48.219Z"
   },
   {
    "duration": 46,
    "start_time": "2023-05-21T11:59:48.257Z"
   },
   {
    "duration": 15,
    "start_time": "2023-05-21T11:59:48.305Z"
   },
   {
    "duration": 68,
    "start_time": "2023-05-21T11:59:48.322Z"
   },
   {
    "duration": 2,
    "start_time": "2023-05-21T11:59:48.392Z"
   },
   {
    "duration": 39,
    "start_time": "2023-05-21T11:59:48.396Z"
   },
   {
    "duration": 24,
    "start_time": "2023-05-21T11:59:48.441Z"
   },
   {
    "duration": 266,
    "start_time": "2023-05-21T11:59:48.467Z"
   },
   {
    "duration": 90,
    "start_time": "2023-05-21T12:02:11.322Z"
   },
   {
    "duration": 34,
    "start_time": "2023-05-21T12:02:13.157Z"
   },
   {
    "duration": 996,
    "start_time": "2023-05-21T12:03:41.999Z"
   },
   {
    "duration": 66,
    "start_time": "2023-05-21T12:04:03.920Z"
   },
   {
    "duration": 25,
    "start_time": "2023-05-21T12:05:15.445Z"
   },
   {
    "duration": 537,
    "start_time": "2023-05-21T12:05:18.908Z"
   },
   {
    "duration": 724,
    "start_time": "2023-05-21T12:05:27.543Z"
   },
   {
    "duration": 835,
    "start_time": "2023-05-21T12:05:29.725Z"
   },
   {
    "duration": 61,
    "start_time": "2023-05-21T12:06:12.187Z"
   },
   {
    "duration": 8,
    "start_time": "2023-05-21T12:06:40.475Z"
   },
   {
    "duration": 11,
    "start_time": "2023-05-21T12:06:55.960Z"
   },
   {
    "duration": 28,
    "start_time": "2023-05-21T12:07:03.375Z"
   },
   {
    "duration": 133,
    "start_time": "2023-05-21T12:07:22.391Z"
   },
   {
    "duration": 12,
    "start_time": "2023-05-21T12:07:35.209Z"
   },
   {
    "duration": 433,
    "start_time": "2023-05-21T12:07:54.675Z"
   },
   {
    "duration": 445,
    "start_time": "2023-05-21T12:08:14.410Z"
   },
   {
    "duration": 33,
    "start_time": "2023-05-21T12:08:17.229Z"
   },
   {
    "duration": 88,
    "start_time": "2023-05-21T12:08:19.134Z"
   },
   {
    "duration": 449,
    "start_time": "2023-05-21T12:08:22.648Z"
   },
   {
    "duration": 435,
    "start_time": "2023-05-21T12:08:32.120Z"
   },
   {
    "duration": 430,
    "start_time": "2023-05-21T12:08:35.772Z"
   },
   {
    "duration": 7,
    "start_time": "2023-05-21T12:13:00.768Z"
   },
   {
    "duration": 8,
    "start_time": "2023-05-21T12:13:17.185Z"
   },
   {
    "duration": 34,
    "start_time": "2023-05-21T12:13:21.817Z"
   },
   {
    "duration": 11,
    "start_time": "2023-05-21T12:13:26.154Z"
   },
   {
    "duration": 38,
    "start_time": "2023-05-21T12:13:51.045Z"
   },
   {
    "duration": 34,
    "start_time": "2023-05-21T12:14:00.433Z"
   },
   {
    "duration": 74,
    "start_time": "2023-05-21T12:15:16.102Z"
   },
   {
    "duration": 156,
    "start_time": "2023-05-21T12:18:30.918Z"
   },
   {
    "duration": 171,
    "start_time": "2023-05-21T12:18:35.137Z"
   },
   {
    "duration": 197,
    "start_time": "2023-05-21T12:18:37.037Z"
   },
   {
    "duration": 7,
    "start_time": "2023-05-21T12:18:49.800Z"
   },
   {
    "duration": 24,
    "start_time": "2023-05-21T12:18:55.244Z"
   },
   {
    "duration": 512,
    "start_time": "2023-05-21T12:19:01.548Z"
   },
   {
    "duration": 162,
    "start_time": "2023-05-21T12:19:08.658Z"
   },
   {
    "duration": 458,
    "start_time": "2023-05-21T12:24:51.788Z"
   },
   {
    "duration": 15,
    "start_time": "2023-05-21T12:25:08.983Z"
   },
   {
    "duration": 418,
    "start_time": "2023-05-21T12:26:04.978Z"
   },
   {
    "duration": 406,
    "start_time": "2023-05-21T12:26:10.007Z"
   },
   {
    "duration": 367,
    "start_time": "2023-05-21T12:26:20.594Z"
   },
   {
    "duration": 443,
    "start_time": "2023-05-21T12:26:25.772Z"
   },
   {
    "duration": 383,
    "start_time": "2023-05-21T12:26:28.207Z"
   },
   {
    "duration": 409,
    "start_time": "2023-05-21T12:26:31.189Z"
   },
   {
    "duration": 109,
    "start_time": "2023-05-21T12:28:01.287Z"
   },
   {
    "duration": 3,
    "start_time": "2023-05-21T12:28:08.456Z"
   },
   {
    "duration": 396,
    "start_time": "2023-05-21T12:28:12.425Z"
   },
   {
    "duration": 381,
    "start_time": "2023-05-21T12:28:29.316Z"
   },
   {
    "duration": 468,
    "start_time": "2023-05-21T12:28:40.029Z"
   },
   {
    "duration": 367,
    "start_time": "2023-05-21T12:28:50.442Z"
   },
   {
    "duration": 380,
    "start_time": "2023-05-21T12:28:57.891Z"
   },
   {
    "duration": 659,
    "start_time": "2023-05-21T12:29:07.017Z"
   },
   {
    "duration": 327,
    "start_time": "2023-05-21T12:29:27.676Z"
   },
   {
    "duration": 329,
    "start_time": "2023-05-21T12:29:49.342Z"
   },
   {
    "duration": 21,
    "start_time": "2023-05-21T12:30:08.562Z"
   },
   {
    "duration": 28,
    "start_time": "2023-05-21T12:32:13.022Z"
   },
   {
    "duration": 8,
    "start_time": "2023-05-21T12:32:24.342Z"
   },
   {
    "duration": 19,
    "start_time": "2023-05-21T12:32:26.041Z"
   },
   {
    "duration": 26,
    "start_time": "2023-05-21T12:32:41.144Z"
   },
   {
    "duration": 22,
    "start_time": "2023-05-21T12:32:44.287Z"
   },
   {
    "duration": 20,
    "start_time": "2023-05-21T12:32:50.163Z"
   },
   {
    "duration": 25,
    "start_time": "2023-05-21T12:33:08.734Z"
   },
   {
    "duration": 23,
    "start_time": "2023-05-21T12:33:11.815Z"
   },
   {
    "duration": 27,
    "start_time": "2023-05-21T12:33:14.442Z"
   },
   {
    "duration": 26,
    "start_time": "2023-05-21T12:33:17.341Z"
   },
   {
    "duration": 25,
    "start_time": "2023-05-21T12:33:21.642Z"
   },
   {
    "duration": 28,
    "start_time": "2023-05-21T12:33:25.019Z"
   },
   {
    "duration": 25,
    "start_time": "2023-05-21T12:34:41.065Z"
   },
   {
    "duration": 31,
    "start_time": "2023-05-21T12:35:31.023Z"
   },
   {
    "duration": 18,
    "start_time": "2023-05-21T12:35:33.967Z"
   },
   {
    "duration": 17,
    "start_time": "2023-05-21T12:35:38.371Z"
   },
   {
    "duration": 20,
    "start_time": "2023-05-21T12:35:41.499Z"
   },
   {
    "duration": 29,
    "start_time": "2023-05-21T12:35:52.304Z"
   },
   {
    "duration": 24,
    "start_time": "2023-05-21T12:36:02.642Z"
   },
   {
    "duration": 21,
    "start_time": "2023-05-21T12:36:08.639Z"
   },
   {
    "duration": 20,
    "start_time": "2023-05-21T12:36:13.377Z"
   },
   {
    "duration": 21,
    "start_time": "2023-05-21T12:36:16.868Z"
   },
   {
    "duration": 19,
    "start_time": "2023-05-21T12:36:21.799Z"
   },
   {
    "duration": 28,
    "start_time": "2023-05-21T12:36:31.722Z"
   },
   {
    "duration": 22,
    "start_time": "2023-05-21T12:36:39.077Z"
   },
   {
    "duration": 23,
    "start_time": "2023-05-21T12:36:51.817Z"
   },
   {
    "duration": 20,
    "start_time": "2023-05-21T12:36:58.784Z"
   },
   {
    "duration": 24,
    "start_time": "2023-05-21T12:37:13.943Z"
   },
   {
    "duration": 20,
    "start_time": "2023-05-21T12:37:42.042Z"
   },
   {
    "duration": 3,
    "start_time": "2023-05-21T12:38:29.051Z"
   },
   {
    "duration": 5,
    "start_time": "2023-05-21T12:38:40.581Z"
   },
   {
    "duration": 69,
    "start_time": "2023-05-21T12:39:34.851Z"
   },
   {
    "duration": 59,
    "start_time": "2023-05-21T12:39:49.413Z"
   },
   {
    "duration": 19,
    "start_time": "2023-05-21T12:40:46.363Z"
   },
   {
    "duration": 34,
    "start_time": "2023-05-21T12:40:52.465Z"
   },
   {
    "duration": 25,
    "start_time": "2023-05-21T12:40:59.158Z"
   },
   {
    "duration": 52,
    "start_time": "2023-05-21T12:41:01.017Z"
   },
   {
    "duration": 386,
    "start_time": "2023-05-21T12:41:41.195Z"
   },
   {
    "duration": 40,
    "start_time": "2023-05-21T12:41:42.414Z"
   },
   {
    "duration": 45,
    "start_time": "2023-05-21T12:41:52.945Z"
   },
   {
    "duration": 158,
    "start_time": "2023-05-21T12:42:16.890Z"
   },
   {
    "duration": 146,
    "start_time": "2023-05-21T12:42:18.820Z"
   },
   {
    "duration": 8,
    "start_time": "2023-05-21T12:43:05.687Z"
   },
   {
    "duration": 11,
    "start_time": "2023-05-21T12:43:10.894Z"
   },
   {
    "duration": 28,
    "start_time": "2023-05-21T12:43:52.682Z"
   },
   {
    "duration": 11,
    "start_time": "2023-05-21T12:44:03.858Z"
   },
   {
    "duration": 12,
    "start_time": "2023-05-21T12:44:07.698Z"
   },
   {
    "duration": 15,
    "start_time": "2023-05-21T12:44:15.049Z"
   },
   {
    "duration": 14,
    "start_time": "2023-05-21T12:44:26.255Z"
   },
   {
    "duration": 35,
    "start_time": "2023-05-21T12:44:32.457Z"
   },
   {
    "duration": 26,
    "start_time": "2023-05-21T12:44:42.042Z"
   },
   {
    "duration": 692,
    "start_time": "2023-05-21T12:45:04.289Z"
   },
   {
    "duration": 178,
    "start_time": "2023-05-21T12:45:07.795Z"
   },
   {
    "duration": 172,
    "start_time": "2023-05-21T12:45:09.732Z"
   },
   {
    "duration": 477,
    "start_time": "2023-05-21T12:45:23.100Z"
   },
   {
    "duration": 439,
    "start_time": "2023-05-21T12:45:24.369Z"
   },
   {
    "duration": 18,
    "start_time": "2023-05-21T12:45:50.405Z"
   },
   {
    "duration": 16,
    "start_time": "2023-05-21T12:46:01.964Z"
   },
   {
    "duration": 20,
    "start_time": "2023-05-21T12:46:24.290Z"
   },
   {
    "duration": 21,
    "start_time": "2023-05-21T12:46:37.779Z"
   },
   {
    "duration": 19,
    "start_time": "2023-05-21T12:46:41.424Z"
   },
   {
    "duration": 15,
    "start_time": "2023-05-21T12:47:35.982Z"
   },
   {
    "duration": 28,
    "start_time": "2023-05-21T12:48:44.526Z"
   },
   {
    "duration": 41,
    "start_time": "2023-05-21T12:48:46.666Z"
   },
   {
    "duration": 11,
    "start_time": "2023-05-21T12:49:39.153Z"
   },
   {
    "duration": 11,
    "start_time": "2023-05-21T12:49:43.892Z"
   },
   {
    "duration": 21,
    "start_time": "2023-05-21T12:50:04.872Z"
   },
   {
    "duration": 22,
    "start_time": "2023-05-21T12:50:10.055Z"
   },
   {
    "duration": 320,
    "start_time": "2023-05-21T12:50:28.533Z"
   },
   {
    "duration": 353,
    "start_time": "2023-05-21T12:50:40.026Z"
   },
   {
    "duration": 310,
    "start_time": "2023-05-21T12:51:52.843Z"
   },
   {
    "duration": 299,
    "start_time": "2023-05-21T12:51:56.298Z"
   },
   {
    "duration": 17,
    "start_time": "2023-05-21T12:53:00.646Z"
   },
   {
    "duration": 302,
    "start_time": "2023-05-21T12:53:08.486Z"
   },
   {
    "duration": 23,
    "start_time": "2023-05-21T12:53:54.289Z"
   },
   {
    "duration": 292,
    "start_time": "2023-05-21T12:53:55.454Z"
   },
   {
    "duration": 453,
    "start_time": "2023-05-21T12:54:22.715Z"
   },
   {
    "duration": 14,
    "start_time": "2023-05-21T12:54:38.269Z"
   },
   {
    "duration": 409,
    "start_time": "2023-05-21T12:54:57.542Z"
   },
   {
    "duration": 17,
    "start_time": "2023-05-21T12:56:06.001Z"
   },
   {
    "duration": 363,
    "start_time": "2023-05-21T12:56:17.844Z"
   },
   {
    "duration": 348,
    "start_time": "2023-05-21T12:56:19.645Z"
   },
   {
    "duration": 327,
    "start_time": "2023-05-21T12:56:28.264Z"
   },
   {
    "duration": 3068,
    "start_time": "2023-05-21T12:56:46.612Z"
   },
   {
    "duration": 0,
    "start_time": "2023-05-21T12:57:51.110Z"
   },
   {
    "duration": 2788,
    "start_time": "2023-05-21T12:57:59.022Z"
   },
   {
    "duration": 406,
    "start_time": "2023-05-21T12:58:23.450Z"
   },
   {
    "duration": 12,
    "start_time": "2023-05-21T12:58:28.048Z"
   },
   {
    "duration": 73,
    "start_time": "2023-05-21T12:59:05.902Z"
   },
   {
    "duration": 31,
    "start_time": "2023-05-21T12:59:59.871Z"
   },
   {
    "duration": 25,
    "start_time": "2023-05-21T13:00:02.682Z"
   },
   {
    "duration": 69,
    "start_time": "2023-05-21T13:00:19.859Z"
   },
   {
    "duration": 13,
    "start_time": "2023-05-21T13:02:25.752Z"
   },
   {
    "duration": 21,
    "start_time": "2023-05-21T13:02:27.230Z"
   },
   {
    "duration": 15,
    "start_time": "2023-05-21T13:02:32.450Z"
   },
   {
    "duration": 22,
    "start_time": "2023-05-21T13:02:33.625Z"
   },
   {
    "duration": 688,
    "start_time": "2023-05-21T13:15:47.716Z"
   },
   {
    "duration": 3,
    "start_time": "2023-05-21T13:16:33.856Z"
   },
   {
    "duration": 3,
    "start_time": "2023-05-21T13:16:39.214Z"
   },
   {
    "duration": 21,
    "start_time": "2023-05-21T13:16:51.381Z"
   },
   {
    "duration": 92,
    "start_time": "2023-05-21T13:17:21.805Z"
   },
   {
    "duration": 25,
    "start_time": "2023-05-21T13:17:37.138Z"
   },
   {
    "duration": 3,
    "start_time": "2023-05-21T13:17:45.601Z"
   },
   {
    "duration": 20,
    "start_time": "2023-05-21T13:17:46.112Z"
   },
   {
    "duration": 21,
    "start_time": "2023-05-21T13:17:46.484Z"
   },
   {
    "duration": 43,
    "start_time": "2023-05-21T13:17:52.770Z"
   },
   {
    "duration": 3,
    "start_time": "2023-05-21T13:17:58.549Z"
   },
   {
    "duration": 22,
    "start_time": "2023-05-21T13:17:59.655Z"
   },
   {
    "duration": 35,
    "start_time": "2023-05-21T13:17:59.939Z"
   },
   {
    "duration": 77,
    "start_time": "2023-05-21T13:18:14.084Z"
   },
   {
    "duration": 24,
    "start_time": "2023-05-21T13:18:14.392Z"
   },
   {
    "duration": 3,
    "start_time": "2023-05-21T13:18:17.395Z"
   },
   {
    "duration": 10,
    "start_time": "2023-05-21T13:18:17.811Z"
   },
   {
    "duration": 36,
    "start_time": "2023-05-21T13:18:18.226Z"
   },
   {
    "duration": 89,
    "start_time": "2023-05-21T13:18:35.771Z"
   },
   {
    "duration": 25,
    "start_time": "2023-05-21T13:18:36.032Z"
   },
   {
    "duration": 34,
    "start_time": "2023-05-21T13:18:36.643Z"
   },
   {
    "duration": 3,
    "start_time": "2023-05-21T13:18:39.042Z"
   },
   {
    "duration": 23,
    "start_time": "2023-05-21T13:18:39.317Z"
   },
   {
    "duration": 46,
    "start_time": "2023-05-21T13:18:39.633Z"
   },
   {
    "duration": 3,
    "start_time": "2023-05-21T13:18:45.371Z"
   },
   {
    "duration": 23,
    "start_time": "2023-05-21T13:18:45.718Z"
   },
   {
    "duration": 33,
    "start_time": "2023-05-21T13:18:46.503Z"
   },
   {
    "duration": 658,
    "start_time": "2023-05-21T13:20:52.732Z"
   },
   {
    "duration": 821,
    "start_time": "2023-05-21T13:20:53.392Z"
   },
   {
    "duration": 145,
    "start_time": "2023-05-21T13:20:54.215Z"
   },
   {
    "duration": 95,
    "start_time": "2023-05-21T13:20:54.361Z"
   },
   {
    "duration": 72,
    "start_time": "2023-05-21T13:20:54.458Z"
   },
   {
    "duration": 3,
    "start_time": "2023-05-21T13:20:54.532Z"
   },
   {
    "duration": 95,
    "start_time": "2023-05-21T13:20:54.536Z"
   },
   {
    "duration": 3,
    "start_time": "2023-05-21T13:20:54.634Z"
   },
   {
    "duration": 16,
    "start_time": "2023-05-21T13:20:54.639Z"
   },
   {
    "duration": 5,
    "start_time": "2023-05-21T13:20:54.657Z"
   },
   {
    "duration": 43,
    "start_time": "2023-05-21T13:20:54.664Z"
   },
   {
    "duration": 11,
    "start_time": "2023-05-21T13:20:54.709Z"
   },
   {
    "duration": 9,
    "start_time": "2023-05-21T13:20:54.721Z"
   },
   {
    "duration": 7,
    "start_time": "2023-05-21T13:20:54.734Z"
   },
   {
    "duration": 21,
    "start_time": "2023-05-21T13:20:54.743Z"
   },
   {
    "duration": 6,
    "start_time": "2023-05-21T13:20:54.766Z"
   },
   {
    "duration": 9,
    "start_time": "2023-05-21T13:20:54.773Z"
   },
   {
    "duration": 4,
    "start_time": "2023-05-21T13:20:54.784Z"
   },
   {
    "duration": 35,
    "start_time": "2023-05-21T13:20:54.789Z"
   },
   {
    "duration": 3,
    "start_time": "2023-05-21T13:20:54.826Z"
   },
   {
    "duration": 9,
    "start_time": "2023-05-21T13:20:54.831Z"
   },
   {
    "duration": 7,
    "start_time": "2023-05-21T13:20:54.842Z"
   },
   {
    "duration": 6,
    "start_time": "2023-05-21T13:20:54.851Z"
   },
   {
    "duration": 2,
    "start_time": "2023-05-21T13:20:54.859Z"
   },
   {
    "duration": 25,
    "start_time": "2023-05-21T13:20:54.863Z"
   },
   {
    "duration": 70,
    "start_time": "2023-05-21T13:20:54.889Z"
   },
   {
    "duration": 42,
    "start_time": "2023-05-21T13:20:54.961Z"
   },
   {
    "duration": 3,
    "start_time": "2023-05-21T13:20:55.005Z"
   },
   {
    "duration": 42,
    "start_time": "2023-05-21T13:20:55.010Z"
   },
   {
    "duration": 12,
    "start_time": "2023-05-21T13:20:55.053Z"
   },
   {
    "duration": 49,
    "start_time": "2023-05-21T13:20:55.067Z"
   },
   {
    "duration": 5,
    "start_time": "2023-05-21T13:20:55.118Z"
   },
   {
    "duration": 26,
    "start_time": "2023-05-21T13:20:55.125Z"
   },
   {
    "duration": 19,
    "start_time": "2023-05-21T13:20:55.153Z"
   },
   {
    "duration": 25,
    "start_time": "2023-05-21T13:20:55.175Z"
   },
   {
    "duration": 9,
    "start_time": "2023-05-21T13:20:55.202Z"
   },
   {
    "duration": 92,
    "start_time": "2023-05-21T13:20:55.213Z"
   },
   {
    "duration": 4,
    "start_time": "2023-05-21T13:20:55.307Z"
   },
   {
    "duration": 33,
    "start_time": "2023-05-21T13:20:55.313Z"
   },
   {
    "duration": 415,
    "start_time": "2023-05-21T13:20:55.348Z"
   },
   {
    "duration": 72,
    "start_time": "2023-05-21T13:20:55.767Z"
   },
   {
    "duration": 16,
    "start_time": "2023-05-21T13:20:55.841Z"
   },
   {
    "duration": 40,
    "start_time": "2023-05-21T13:20:55.859Z"
   },
   {
    "duration": 42,
    "start_time": "2023-05-21T13:20:55.901Z"
   },
   {
    "duration": 45,
    "start_time": "2023-05-21T13:20:55.945Z"
   },
   {
    "duration": 13,
    "start_time": "2023-05-21T13:20:55.992Z"
   },
   {
    "duration": 42,
    "start_time": "2023-05-21T13:20:56.024Z"
   },
   {
    "duration": 2,
    "start_time": "2023-05-21T13:20:56.068Z"
   },
   {
    "duration": 20,
    "start_time": "2023-05-21T13:20:56.072Z"
   },
   {
    "duration": 18,
    "start_time": "2023-05-21T13:20:56.094Z"
   },
   {
    "duration": 242,
    "start_time": "2023-05-21T13:20:56.114Z"
   },
   {
    "duration": 326,
    "start_time": "2023-05-21T13:20:56.358Z"
   },
   {
    "duration": 40,
    "start_time": "2023-05-21T13:20:56.686Z"
   },
   {
    "duration": 22,
    "start_time": "2023-05-21T13:20:56.727Z"
   },
   {
    "duration": 335,
    "start_time": "2023-05-21T13:20:56.751Z"
   },
   {
    "duration": 18,
    "start_time": "2023-05-21T13:20:57.087Z"
   },
   {
    "duration": 255,
    "start_time": "2023-05-21T13:20:57.106Z"
   },
   {
    "duration": 309,
    "start_time": "2023-05-21T13:20:57.362Z"
   },
   {
    "duration": 24,
    "start_time": "2023-05-21T13:20:57.673Z"
   },
   {
    "duration": 83,
    "start_time": "2023-05-21T13:20:57.699Z"
   },
   {
    "duration": 10,
    "start_time": "2023-05-21T13:20:57.784Z"
   },
   {
    "duration": 84,
    "start_time": "2023-05-21T13:20:57.796Z"
   },
   {
    "duration": 662,
    "start_time": "2023-05-21T13:21:48.761Z"
   },
   {
    "duration": 65,
    "start_time": "2023-05-21T13:21:55.500Z"
   },
   {
    "duration": 1506,
    "start_time": "2023-05-22T08:25:27.535Z"
   },
   {
    "duration": 1337,
    "start_time": "2023-05-22T08:25:29.043Z"
   },
   {
    "duration": 161,
    "start_time": "2023-05-22T08:25:30.382Z"
   },
   {
    "duration": 144,
    "start_time": "2023-05-22T08:25:30.545Z"
   },
   {
    "duration": 66,
    "start_time": "2023-05-22T08:25:30.694Z"
   },
   {
    "duration": 3,
    "start_time": "2023-05-22T08:25:30.762Z"
   },
   {
    "duration": 181,
    "start_time": "2023-05-22T08:25:30.767Z"
   },
   {
    "duration": 3,
    "start_time": "2023-05-22T08:25:30.949Z"
   },
   {
    "duration": 63,
    "start_time": "2023-05-22T08:25:30.953Z"
   },
   {
    "duration": 53,
    "start_time": "2023-05-22T08:25:31.021Z"
   },
   {
    "duration": 79,
    "start_time": "2023-05-22T08:25:31.076Z"
   },
   {
    "duration": 43,
    "start_time": "2023-05-22T08:25:31.157Z"
   },
   {
    "duration": 56,
    "start_time": "2023-05-22T08:25:31.202Z"
   },
   {
    "duration": 66,
    "start_time": "2023-05-22T08:25:31.260Z"
   },
   {
    "duration": 50,
    "start_time": "2023-05-22T08:25:31.328Z"
   },
   {
    "duration": 45,
    "start_time": "2023-05-22T08:25:31.380Z"
   },
   {
    "duration": 54,
    "start_time": "2023-05-22T08:25:31.427Z"
   },
   {
    "duration": 51,
    "start_time": "2023-05-22T08:25:31.483Z"
   },
   {
    "duration": 81,
    "start_time": "2023-05-22T08:25:31.536Z"
   },
   {
    "duration": 19,
    "start_time": "2023-05-22T08:25:31.624Z"
   },
   {
    "duration": 41,
    "start_time": "2023-05-22T08:25:31.644Z"
   },
   {
    "duration": 6,
    "start_time": "2023-05-22T08:25:31.687Z"
   },
   {
    "duration": 57,
    "start_time": "2023-05-22T08:25:31.697Z"
   },
   {
    "duration": 21,
    "start_time": "2023-05-22T08:25:31.755Z"
   },
   {
    "duration": 50,
    "start_time": "2023-05-22T08:25:31.777Z"
   },
   {
    "duration": 23,
    "start_time": "2023-05-22T08:25:31.829Z"
   },
   {
    "duration": 38,
    "start_time": "2023-05-22T08:25:31.854Z"
   },
   {
    "duration": 26,
    "start_time": "2023-05-22T08:25:31.902Z"
   },
   {
    "duration": 37,
    "start_time": "2023-05-22T08:25:31.929Z"
   },
   {
    "duration": 19,
    "start_time": "2023-05-22T08:25:31.967Z"
   },
   {
    "duration": 75,
    "start_time": "2023-05-22T08:25:31.988Z"
   },
   {
    "duration": 7,
    "start_time": "2023-05-22T08:25:32.064Z"
   },
   {
    "duration": 31,
    "start_time": "2023-05-22T08:25:32.072Z"
   },
   {
    "duration": 34,
    "start_time": "2023-05-22T08:25:32.104Z"
   },
   {
    "duration": 31,
    "start_time": "2023-05-22T08:25:32.140Z"
   },
   {
    "duration": 11,
    "start_time": "2023-05-22T08:25:32.172Z"
   },
   {
    "duration": 107,
    "start_time": "2023-05-22T08:25:32.185Z"
   },
   {
    "duration": 5,
    "start_time": "2023-05-22T08:25:32.293Z"
   },
   {
    "duration": 47,
    "start_time": "2023-05-22T08:25:32.306Z"
   },
   {
    "duration": 477,
    "start_time": "2023-05-22T08:25:32.355Z"
   },
   {
    "duration": 94,
    "start_time": "2023-05-22T08:25:32.833Z"
   },
   {
    "duration": 23,
    "start_time": "2023-05-22T08:25:32.929Z"
   },
   {
    "duration": 68,
    "start_time": "2023-05-22T08:25:32.953Z"
   },
   {
    "duration": 15,
    "start_time": "2023-05-22T08:25:33.023Z"
   },
   {
    "duration": 53,
    "start_time": "2023-05-22T08:25:33.039Z"
   },
   {
    "duration": 26,
    "start_time": "2023-05-22T08:25:33.098Z"
   },
   {
    "duration": 37,
    "start_time": "2023-05-22T08:25:33.127Z"
   },
   {
    "duration": 3,
    "start_time": "2023-05-22T08:25:33.165Z"
   },
   {
    "duration": 39,
    "start_time": "2023-05-22T08:25:33.169Z"
   },
   {
    "duration": 20,
    "start_time": "2023-05-22T08:25:33.210Z"
   },
   {
    "duration": 245,
    "start_time": "2023-05-22T08:25:33.232Z"
   },
   {
    "duration": 367,
    "start_time": "2023-05-22T08:25:33.479Z"
   },
   {
    "duration": 28,
    "start_time": "2023-05-22T08:25:33.848Z"
   },
   {
    "duration": 31,
    "start_time": "2023-05-22T08:25:33.878Z"
   },
   {
    "duration": 346,
    "start_time": "2023-05-22T08:25:33.911Z"
   },
   {
    "duration": 21,
    "start_time": "2023-05-22T08:25:34.258Z"
   },
   {
    "duration": 299,
    "start_time": "2023-05-22T08:25:34.281Z"
   },
   {
    "duration": 393,
    "start_time": "2023-05-22T08:25:34.582Z"
   },
   {
    "duration": 28,
    "start_time": "2023-05-22T08:25:34.977Z"
   },
   {
    "duration": 102,
    "start_time": "2023-05-22T08:25:35.008Z"
   },
   {
    "duration": 26,
    "start_time": "2023-05-22T08:25:53.581Z"
   },
   {
    "duration": 84,
    "start_time": "2023-05-22T08:25:54.139Z"
   },
   {
    "duration": 46,
    "start_time": "2023-05-22T08:26:40.034Z"
   },
   {
    "duration": 18,
    "start_time": "2023-05-22T08:26:42.530Z"
   },
   {
    "duration": 9,
    "start_time": "2023-05-22T08:27:14.303Z"
   },
   {
    "duration": 119,
    "start_time": "2023-05-22T08:29:23.569Z"
   },
   {
    "duration": 75,
    "start_time": "2023-05-22T08:29:31.288Z"
   },
   {
    "duration": 17,
    "start_time": "2023-05-22T08:29:53.320Z"
   },
   {
    "duration": 261,
    "start_time": "2023-05-22T08:30:11.971Z"
   },
   {
    "duration": 632,
    "start_time": "2023-05-22T08:30:36.023Z"
   },
   {
    "duration": 20,
    "start_time": "2023-05-22T08:31:01.374Z"
   },
   {
    "duration": 1551,
    "start_time": "2023-05-22T08:31:31.532Z"
   },
   {
    "duration": 8,
    "start_time": "2023-05-22T08:31:37.229Z"
   },
   {
    "duration": 21,
    "start_time": "2023-05-22T08:31:50.324Z"
   },
   {
    "duration": 12,
    "start_time": "2023-05-22T08:32:10.634Z"
   },
   {
    "duration": 17,
    "start_time": "2023-05-22T08:32:14.572Z"
   },
   {
    "duration": 6,
    "start_time": "2023-05-22T08:32:18.941Z"
   },
   {
    "duration": 11,
    "start_time": "2023-05-22T08:32:25.831Z"
   },
   {
    "duration": 16,
    "start_time": "2023-05-22T08:32:27.723Z"
   },
   {
    "duration": 224,
    "start_time": "2023-05-22T08:32:57.655Z"
   },
   {
    "duration": 27,
    "start_time": "2023-05-22T08:34:16.391Z"
   },
   {
    "duration": 10,
    "start_time": "2023-05-22T08:34:25.550Z"
   },
   {
    "duration": 97,
    "start_time": "2023-05-22T08:34:46.362Z"
   },
   {
    "duration": 5,
    "start_time": "2023-05-22T08:34:48.103Z"
   },
   {
    "duration": 5,
    "start_time": "2023-05-22T08:34:55.220Z"
   },
   {
    "duration": 11,
    "start_time": "2023-05-22T08:34:59.627Z"
   },
   {
    "duration": 81,
    "start_time": "2023-05-22T08:35:07.220Z"
   },
   {
    "duration": 118,
    "start_time": "2023-05-22T08:35:14.893Z"
   },
   {
    "duration": 1362,
    "start_time": "2023-05-22T08:35:43.084Z"
   },
   {
    "duration": 255,
    "start_time": "2023-05-22T08:36:29.946Z"
   },
   {
    "duration": 1155,
    "start_time": "2023-05-22T08:36:48.128Z"
   },
   {
    "duration": 1389,
    "start_time": "2023-05-22T08:37:12.831Z"
   },
   {
    "duration": 1160,
    "start_time": "2023-05-22T08:38:41.540Z"
   },
   {
    "duration": 1245,
    "start_time": "2023-05-22T08:38:58.672Z"
   },
   {
    "duration": 1218,
    "start_time": "2023-05-22T08:39:07.926Z"
   },
   {
    "duration": 1225,
    "start_time": "2023-05-22T08:39:11.819Z"
   },
   {
    "duration": 1303,
    "start_time": "2023-05-22T08:39:17.737Z"
   },
   {
    "duration": 1281,
    "start_time": "2023-05-22T08:41:44.051Z"
   },
   {
    "duration": 9,
    "start_time": "2023-05-22T08:42:09.835Z"
   },
   {
    "duration": 115,
    "start_time": "2023-05-22T08:42:14.278Z"
   },
   {
    "duration": 1665,
    "start_time": "2023-05-22T08:42:22.874Z"
   },
   {
    "duration": 1009,
    "start_time": "2023-05-22T08:42:24.543Z"
   },
   {
    "duration": 151,
    "start_time": "2023-05-22T08:42:25.553Z"
   },
   {
    "duration": 104,
    "start_time": "2023-05-22T08:42:25.709Z"
   },
   {
    "duration": 67,
    "start_time": "2023-05-22T08:42:25.819Z"
   },
   {
    "duration": 2,
    "start_time": "2023-05-22T08:42:25.888Z"
   },
   {
    "duration": 116,
    "start_time": "2023-05-22T08:42:25.892Z"
   },
   {
    "duration": 5,
    "start_time": "2023-05-22T08:42:26.013Z"
   },
   {
    "duration": 24,
    "start_time": "2023-05-22T08:42:26.021Z"
   },
   {
    "duration": 5,
    "start_time": "2023-05-22T08:42:26.048Z"
   },
   {
    "duration": 28,
    "start_time": "2023-05-22T08:42:26.055Z"
   },
   {
    "duration": 10,
    "start_time": "2023-05-22T08:42:26.084Z"
   },
   {
    "duration": 30,
    "start_time": "2023-05-22T08:42:26.107Z"
   },
   {
    "duration": 10,
    "start_time": "2023-05-22T08:42:26.139Z"
   },
   {
    "duration": 23,
    "start_time": "2023-05-22T08:42:26.150Z"
   },
   {
    "duration": 6,
    "start_time": "2023-05-22T08:42:26.175Z"
   },
   {
    "duration": 10,
    "start_time": "2023-05-22T08:42:26.182Z"
   },
   {
    "duration": 31,
    "start_time": "2023-05-22T08:42:26.194Z"
   },
   {
    "duration": 35,
    "start_time": "2023-05-22T08:42:26.227Z"
   },
   {
    "duration": 7,
    "start_time": "2023-05-22T08:42:26.264Z"
   },
   {
    "duration": 9,
    "start_time": "2023-05-22T08:42:26.272Z"
   },
   {
    "duration": 5,
    "start_time": "2023-05-22T08:42:26.283Z"
   },
   {
    "duration": 35,
    "start_time": "2023-05-22T08:42:26.289Z"
   },
   {
    "duration": 2,
    "start_time": "2023-05-22T08:42:26.326Z"
   },
   {
    "duration": 27,
    "start_time": "2023-05-22T08:42:26.330Z"
   },
   {
    "duration": 16,
    "start_time": "2023-05-22T08:42:26.358Z"
   },
   {
    "duration": 44,
    "start_time": "2023-05-22T08:42:26.375Z"
   },
   {
    "duration": 16,
    "start_time": "2023-05-22T08:42:26.425Z"
   },
   {
    "duration": 30,
    "start_time": "2023-05-22T08:42:26.443Z"
   },
   {
    "duration": 7,
    "start_time": "2023-05-22T08:42:26.475Z"
   },
   {
    "duration": 65,
    "start_time": "2023-05-22T08:42:26.484Z"
   },
   {
    "duration": 2,
    "start_time": "2023-05-22T08:42:26.551Z"
   },
   {
    "duration": 9,
    "start_time": "2023-05-22T08:42:26.556Z"
   },
   {
    "duration": 3,
    "start_time": "2023-05-22T08:42:26.567Z"
   },
   {
    "duration": 10,
    "start_time": "2023-05-22T08:42:26.572Z"
   },
   {
    "duration": 3,
    "start_time": "2023-05-22T08:42:26.584Z"
   },
   {
    "duration": 120,
    "start_time": "2023-05-22T08:42:26.588Z"
   },
   {
    "duration": 5,
    "start_time": "2023-05-22T08:42:26.711Z"
   },
   {
    "duration": 33,
    "start_time": "2023-05-22T08:42:26.723Z"
   },
   {
    "duration": 398,
    "start_time": "2023-05-22T08:42:26.758Z"
   },
   {
    "duration": 1446,
    "start_time": "2023-05-22T08:42:27.158Z"
   },
   {
    "duration": 164,
    "start_time": "2023-05-22T08:42:28.607Z"
   },
   {
    "duration": 92,
    "start_time": "2023-05-22T08:42:28.772Z"
   },
   {
    "duration": 15,
    "start_time": "2023-05-22T08:42:28.865Z"
   },
   {
    "duration": 57,
    "start_time": "2023-05-22T08:42:28.882Z"
   },
   {
    "duration": 14,
    "start_time": "2023-05-22T08:42:28.941Z"
   },
   {
    "duration": 59,
    "start_time": "2023-05-22T08:42:28.956Z"
   },
   {
    "duration": 20,
    "start_time": "2023-05-22T08:42:29.018Z"
   },
   {
    "duration": 36,
    "start_time": "2023-05-22T08:42:29.040Z"
   },
   {
    "duration": 3,
    "start_time": "2023-05-22T08:42:29.077Z"
   },
   {
    "duration": 44,
    "start_time": "2023-05-22T08:42:29.081Z"
   },
   {
    "duration": 4,
    "start_time": "2023-05-22T08:42:29.127Z"
   },
   {
    "duration": 237,
    "start_time": "2023-05-22T08:42:29.132Z"
   },
   {
    "duration": 387,
    "start_time": "2023-05-22T08:42:29.371Z"
   },
   {
    "duration": 52,
    "start_time": "2023-05-22T08:42:29.760Z"
   },
   {
    "duration": 20,
    "start_time": "2023-05-22T08:42:29.813Z"
   },
   {
    "duration": 333,
    "start_time": "2023-05-22T08:42:29.834Z"
   },
   {
    "duration": 37,
    "start_time": "2023-05-22T08:42:30.169Z"
   },
   {
    "duration": 275,
    "start_time": "2023-05-22T08:42:30.211Z"
   },
   {
    "duration": 362,
    "start_time": "2023-05-22T08:42:30.488Z"
   },
   {
    "duration": 11,
    "start_time": "2023-05-22T08:42:30.852Z"
   },
   {
    "duration": 82,
    "start_time": "2023-05-22T08:42:30.864Z"
   },
   {
    "duration": 2,
    "start_time": "2023-05-22T08:42:30.948Z"
   },
   {
    "duration": 734,
    "start_time": "2023-05-22T08:42:30.952Z"
   },
   {
    "duration": 342,
    "start_time": "2023-05-22T08:46:06.921Z"
   },
   {
    "duration": 382,
    "start_time": "2023-05-22T08:46:11.285Z"
   },
   {
    "duration": 18,
    "start_time": "2023-05-22T08:47:08.684Z"
   },
   {
    "duration": 16,
    "start_time": "2023-05-22T09:06:04.127Z"
   },
   {
    "duration": 115,
    "start_time": "2023-05-22T09:06:21.444Z"
   },
   {
    "duration": 1406,
    "start_time": "2023-05-22T09:06:25.717Z"
   },
   {
    "duration": 904,
    "start_time": "2023-05-22T09:06:27.125Z"
   },
   {
    "duration": 147,
    "start_time": "2023-05-22T09:06:28.031Z"
   },
   {
    "duration": 154,
    "start_time": "2023-05-22T09:06:28.179Z"
   },
   {
    "duration": 80,
    "start_time": "2023-05-22T09:06:28.336Z"
   },
   {
    "duration": 6,
    "start_time": "2023-05-22T09:06:28.418Z"
   },
   {
    "duration": 97,
    "start_time": "2023-05-22T09:06:28.425Z"
   },
   {
    "duration": 4,
    "start_time": "2023-05-22T09:06:28.524Z"
   },
   {
    "duration": 16,
    "start_time": "2023-05-22T09:06:28.530Z"
   },
   {
    "duration": 9,
    "start_time": "2023-05-22T09:06:28.547Z"
   },
   {
    "duration": 27,
    "start_time": "2023-05-22T09:06:28.557Z"
   },
   {
    "duration": 28,
    "start_time": "2023-05-22T09:06:28.586Z"
   },
   {
    "duration": 12,
    "start_time": "2023-05-22T09:06:28.619Z"
   },
   {
    "duration": 6,
    "start_time": "2023-05-22T09:06:28.634Z"
   },
   {
    "duration": 34,
    "start_time": "2023-05-22T09:06:28.641Z"
   },
   {
    "duration": 12,
    "start_time": "2023-05-22T09:06:28.676Z"
   },
   {
    "duration": 39,
    "start_time": "2023-05-22T09:06:28.690Z"
   },
   {
    "duration": 2,
    "start_time": "2023-05-22T09:06:28.731Z"
   },
   {
    "duration": 30,
    "start_time": "2023-05-22T09:06:28.734Z"
   },
   {
    "duration": 21,
    "start_time": "2023-05-22T09:06:28.766Z"
   },
   {
    "duration": 37,
    "start_time": "2023-05-22T09:06:28.788Z"
   },
   {
    "duration": 6,
    "start_time": "2023-05-22T09:06:28.827Z"
   },
   {
    "duration": 11,
    "start_time": "2023-05-22T09:06:28.835Z"
   },
   {
    "duration": 3,
    "start_time": "2023-05-22T09:06:28.848Z"
   },
   {
    "duration": 25,
    "start_time": "2023-05-22T09:06:28.852Z"
   },
   {
    "duration": 5,
    "start_time": "2023-05-22T09:06:28.879Z"
   },
   {
    "duration": 42,
    "start_time": "2023-05-22T09:06:28.885Z"
   },
   {
    "duration": 3,
    "start_time": "2023-05-22T09:06:28.928Z"
   },
   {
    "duration": 21,
    "start_time": "2023-05-22T09:06:28.932Z"
   },
   {
    "duration": 7,
    "start_time": "2023-05-22T09:06:28.954Z"
   },
   {
    "duration": 40,
    "start_time": "2023-05-22T09:06:28.962Z"
   },
   {
    "duration": 15,
    "start_time": "2023-05-22T09:06:29.004Z"
   },
   {
    "duration": 11,
    "start_time": "2023-05-22T09:06:29.021Z"
   },
   {
    "duration": 6,
    "start_time": "2023-05-22T09:06:29.034Z"
   },
   {
    "duration": 12,
    "start_time": "2023-05-22T09:06:29.041Z"
   },
   {
    "duration": 4,
    "start_time": "2023-05-22T09:06:29.054Z"
   },
   {
    "duration": 89,
    "start_time": "2023-05-22T09:06:29.060Z"
   },
   {
    "duration": 2,
    "start_time": "2023-05-22T09:06:29.151Z"
   },
   {
    "duration": 26,
    "start_time": "2023-05-22T09:06:29.155Z"
   },
   {
    "duration": 476,
    "start_time": "2023-05-22T09:06:29.183Z"
   },
   {
    "duration": 1463,
    "start_time": "2023-05-22T09:06:29.663Z"
   },
   {
    "duration": 157,
    "start_time": "2023-05-22T09:06:31.128Z"
   },
   {
    "duration": 84,
    "start_time": "2023-05-22T09:06:31.287Z"
   },
   {
    "duration": 58,
    "start_time": "2023-05-22T09:06:31.373Z"
   },
   {
    "duration": 91,
    "start_time": "2023-05-22T09:06:31.433Z"
   },
   {
    "duration": 38,
    "start_time": "2023-05-22T09:06:31.526Z"
   },
   {
    "duration": 74,
    "start_time": "2023-05-22T09:06:31.566Z"
   },
   {
    "duration": 21,
    "start_time": "2023-05-22T09:06:31.642Z"
   },
   {
    "duration": 62,
    "start_time": "2023-05-22T09:06:31.666Z"
   },
   {
    "duration": 12,
    "start_time": "2023-05-22T09:06:31.730Z"
   },
   {
    "duration": 37,
    "start_time": "2023-05-22T09:06:31.744Z"
   },
   {
    "duration": 11,
    "start_time": "2023-05-22T09:06:31.783Z"
   },
   {
    "duration": 322,
    "start_time": "2023-05-22T09:06:31.803Z"
   },
   {
    "duration": 419,
    "start_time": "2023-05-22T09:06:32.127Z"
   },
   {
    "duration": 31,
    "start_time": "2023-05-22T09:06:32.548Z"
   },
   {
    "duration": 42,
    "start_time": "2023-05-22T09:06:32.580Z"
   },
   {
    "duration": 417,
    "start_time": "2023-05-22T09:06:32.624Z"
   },
   {
    "duration": 22,
    "start_time": "2023-05-22T09:06:33.042Z"
   },
   {
    "duration": 313,
    "start_time": "2023-05-22T09:06:33.066Z"
   },
   {
    "duration": 448,
    "start_time": "2023-05-22T09:06:33.381Z"
   },
   {
    "duration": 13,
    "start_time": "2023-05-22T09:06:33.832Z"
   },
   {
    "duration": 76,
    "start_time": "2023-05-22T09:06:33.847Z"
   },
   {
    "duration": 7,
    "start_time": "2023-05-22T09:06:33.925Z"
   },
   {
    "duration": 124,
    "start_time": "2023-05-22T09:06:33.934Z"
   },
   {
    "duration": 606,
    "start_time": "2023-05-22T09:06:38.743Z"
   },
   {
    "duration": 18,
    "start_time": "2023-05-22T09:07:29.932Z"
   },
   {
    "duration": 6,
    "start_time": "2023-05-22T09:07:41.624Z"
   },
   {
    "duration": 9,
    "start_time": "2023-05-22T09:07:49.351Z"
   },
   {
    "duration": 28,
    "start_time": "2023-05-22T09:07:53.046Z"
   },
   {
    "duration": 5,
    "start_time": "2023-05-22T09:07:59.260Z"
   },
   {
    "duration": 20,
    "start_time": "2023-05-22T09:08:24.131Z"
   },
   {
    "duration": 33,
    "start_time": "2023-05-22T09:08:30.892Z"
   },
   {
    "duration": 17,
    "start_time": "2023-05-22T09:08:36.720Z"
   },
   {
    "duration": 38,
    "start_time": "2023-05-22T09:08:41.495Z"
   },
   {
    "duration": 48,
    "start_time": "2023-05-22T09:08:47.692Z"
   },
   {
    "duration": 16,
    "start_time": "2023-05-22T09:08:55.321Z"
   },
   {
    "duration": 18,
    "start_time": "2023-05-22T09:08:58.949Z"
   },
   {
    "duration": 20,
    "start_time": "2023-05-22T09:09:01.120Z"
   },
   {
    "duration": 14,
    "start_time": "2023-05-22T09:09:21.727Z"
   },
   {
    "duration": 2404,
    "start_time": "2023-05-22T09:09:35.759Z"
   },
   {
    "duration": 9,
    "start_time": "2023-05-22T10:01:39.272Z"
   },
   {
    "duration": 9,
    "start_time": "2023-05-22T10:07:25.900Z"
   },
   {
    "duration": 9,
    "start_time": "2023-05-22T10:07:30.019Z"
   },
   {
    "duration": 692,
    "start_time": "2023-05-22T10:08:09.707Z"
   },
   {
    "duration": 6,
    "start_time": "2023-05-22T10:08:13.191Z"
   },
   {
    "duration": 5,
    "start_time": "2023-05-22T10:08:15.064Z"
   },
   {
    "duration": 4,
    "start_time": "2023-05-22T10:08:16.237Z"
   },
   {
    "duration": 10,
    "start_time": "2023-05-22T10:08:25.142Z"
   },
   {
    "duration": 656,
    "start_time": "2023-05-22T10:15:37.782Z"
   },
   {
    "duration": 25,
    "start_time": "2023-05-22T10:15:41.497Z"
   },
   {
    "duration": 464,
    "start_time": "2023-05-22T10:16:50.043Z"
   },
   {
    "duration": 17,
    "start_time": "2023-05-22T10:16:51.709Z"
   },
   {
    "duration": 442,
    "start_time": "2023-05-22T10:16:53.113Z"
   },
   {
    "duration": 17,
    "start_time": "2023-05-22T10:16:53.691Z"
   },
   {
    "duration": 451,
    "start_time": "2023-05-22T10:16:55.057Z"
   },
   {
    "duration": 19,
    "start_time": "2023-05-22T10:16:56.013Z"
   },
   {
    "duration": 657,
    "start_time": "2023-05-22T10:18:50.105Z"
   },
   {
    "duration": 22,
    "start_time": "2023-05-22T10:18:51.837Z"
   },
   {
    "duration": 512,
    "start_time": "2023-05-22T10:19:00.403Z"
   },
   {
    "duration": 8,
    "start_time": "2023-05-22T10:19:02.123Z"
   },
   {
    "duration": 1348,
    "start_time": "2023-05-22T10:19:06.583Z"
   },
   {
    "duration": 773,
    "start_time": "2023-05-22T10:19:07.934Z"
   },
   {
    "duration": 120,
    "start_time": "2023-05-22T10:19:08.709Z"
   },
   {
    "duration": 95,
    "start_time": "2023-05-22T10:19:08.832Z"
   },
   {
    "duration": 70,
    "start_time": "2023-05-22T10:19:08.929Z"
   },
   {
    "duration": 3,
    "start_time": "2023-05-22T10:19:09.001Z"
   },
   {
    "duration": 76,
    "start_time": "2023-05-22T10:19:09.005Z"
   },
   {
    "duration": 2,
    "start_time": "2023-05-22T10:19:09.095Z"
   },
   {
    "duration": 12,
    "start_time": "2023-05-22T10:19:09.099Z"
   },
   {
    "duration": 2,
    "start_time": "2023-05-22T10:19:09.114Z"
   },
   {
    "duration": 21,
    "start_time": "2023-05-22T10:19:09.118Z"
   },
   {
    "duration": 5,
    "start_time": "2023-05-22T10:19:09.140Z"
   },
   {
    "duration": 17,
    "start_time": "2023-05-22T10:19:09.146Z"
   },
   {
    "duration": 4,
    "start_time": "2023-05-22T10:19:09.165Z"
   },
   {
    "duration": 28,
    "start_time": "2023-05-22T10:19:09.171Z"
   },
   {
    "duration": 7,
    "start_time": "2023-05-22T10:19:09.200Z"
   },
   {
    "duration": 9,
    "start_time": "2023-05-22T10:19:09.209Z"
   },
   {
    "duration": 2,
    "start_time": "2023-05-22T10:19:09.219Z"
   },
   {
    "duration": 26,
    "start_time": "2023-05-22T10:19:09.222Z"
   },
   {
    "duration": 5,
    "start_time": "2023-05-22T10:19:09.250Z"
   },
   {
    "duration": 16,
    "start_time": "2023-05-22T10:19:09.256Z"
   },
   {
    "duration": 7,
    "start_time": "2023-05-22T10:19:09.274Z"
   },
   {
    "duration": 18,
    "start_time": "2023-05-22T10:19:09.283Z"
   },
   {
    "duration": 6,
    "start_time": "2023-05-22T10:19:09.303Z"
   },
   {
    "duration": 21,
    "start_time": "2023-05-22T10:19:09.311Z"
   },
   {
    "duration": 5,
    "start_time": "2023-05-22T10:19:09.333Z"
   },
   {
    "duration": 27,
    "start_time": "2023-05-22T10:19:09.339Z"
   },
   {
    "duration": 2,
    "start_time": "2023-05-22T10:19:09.369Z"
   },
   {
    "duration": 27,
    "start_time": "2023-05-22T10:19:09.373Z"
   },
   {
    "duration": 5,
    "start_time": "2023-05-22T10:19:09.401Z"
   },
   {
    "duration": 26,
    "start_time": "2023-05-22T10:19:09.407Z"
   },
   {
    "duration": 2,
    "start_time": "2023-05-22T10:19:09.435Z"
   },
   {
    "duration": 8,
    "start_time": "2023-05-22T10:19:09.439Z"
   },
   {
    "duration": 6,
    "start_time": "2023-05-22T10:19:09.448Z"
   },
   {
    "duration": 10,
    "start_time": "2023-05-22T10:19:09.456Z"
   },
   {
    "duration": 2,
    "start_time": "2023-05-22T10:19:09.467Z"
   },
   {
    "duration": 83,
    "start_time": "2023-05-22T10:19:09.471Z"
   },
   {
    "duration": 2,
    "start_time": "2023-05-22T10:19:09.556Z"
   },
   {
    "duration": 35,
    "start_time": "2023-05-22T10:19:09.560Z"
   },
   {
    "duration": 332,
    "start_time": "2023-05-22T10:19:09.597Z"
   },
   {
    "duration": 1191,
    "start_time": "2023-05-22T10:19:09.930Z"
   },
   {
    "duration": 136,
    "start_time": "2023-05-22T10:19:11.122Z"
   },
   {
    "duration": 71,
    "start_time": "2023-05-22T10:19:11.260Z"
   },
   {
    "duration": 13,
    "start_time": "2023-05-22T10:19:11.333Z"
   },
   {
    "duration": 34,
    "start_time": "2023-05-22T10:19:11.348Z"
   },
   {
    "duration": 23,
    "start_time": "2023-05-22T10:19:11.384Z"
   },
   {
    "duration": 48,
    "start_time": "2023-05-22T10:19:11.408Z"
   },
   {
    "duration": 14,
    "start_time": "2023-05-22T10:19:11.457Z"
   },
   {
    "duration": 43,
    "start_time": "2023-05-22T10:19:11.472Z"
   },
   {
    "duration": 3,
    "start_time": "2023-05-22T10:19:11.516Z"
   },
   {
    "duration": 28,
    "start_time": "2023-05-22T10:19:11.521Z"
   },
   {
    "duration": 9,
    "start_time": "2023-05-22T10:19:11.550Z"
   },
   {
    "duration": 235,
    "start_time": "2023-05-22T10:19:11.560Z"
   },
   {
    "duration": 335,
    "start_time": "2023-05-22T10:19:11.797Z"
   },
   {
    "duration": 37,
    "start_time": "2023-05-22T10:19:12.134Z"
   },
   {
    "duration": 33,
    "start_time": "2023-05-22T10:19:12.173Z"
   },
   {
    "duration": 305,
    "start_time": "2023-05-22T10:19:12.207Z"
   },
   {
    "duration": 24,
    "start_time": "2023-05-22T10:19:12.513Z"
   },
   {
    "duration": 242,
    "start_time": "2023-05-22T10:19:12.539Z"
   },
   {
    "duration": 300,
    "start_time": "2023-05-22T10:19:12.782Z"
   },
   {
    "duration": 656,
    "start_time": "2023-05-22T10:19:13.083Z"
   },
   {
    "duration": 8,
    "start_time": "2023-05-22T10:19:13.740Z"
   },
   {
    "duration": 20,
    "start_time": "2023-05-22T10:19:20.303Z"
   },
   {
    "duration": 9,
    "start_time": "2023-05-22T10:20:57.462Z"
   },
   {
    "duration": 2,
    "start_time": "2023-05-22T10:21:09.759Z"
   },
   {
    "duration": 38,
    "start_time": "2023-05-22T10:22:02.992Z"
   },
   {
    "duration": 19,
    "start_time": "2023-05-22T10:22:44.254Z"
   },
   {
    "duration": 119,
    "start_time": "2023-05-22T10:23:48.354Z"
   },
   {
    "duration": 3,
    "start_time": "2023-05-22T10:24:08.901Z"
   },
   {
    "duration": 36,
    "start_time": "2023-05-22T10:24:11.589Z"
   },
   {
    "duration": 4,
    "start_time": "2023-05-22T10:24:13.669Z"
   },
   {
    "duration": 27,
    "start_time": "2023-05-22T10:24:39.422Z"
   },
   {
    "duration": 25,
    "start_time": "2023-05-22T10:24:42.595Z"
   },
   {
    "duration": 1356,
    "start_time": "2023-05-22T10:24:52.608Z"
   },
   {
    "duration": 828,
    "start_time": "2023-05-22T10:24:53.966Z"
   },
   {
    "duration": 143,
    "start_time": "2023-05-22T10:24:54.796Z"
   },
   {
    "duration": 98,
    "start_time": "2023-05-22T10:24:54.941Z"
   },
   {
    "duration": 71,
    "start_time": "2023-05-22T10:24:55.041Z"
   },
   {
    "duration": 2,
    "start_time": "2023-05-22T10:24:55.114Z"
   },
   {
    "duration": 124,
    "start_time": "2023-05-22T10:24:55.117Z"
   },
   {
    "duration": 3,
    "start_time": "2023-05-22T10:24:55.242Z"
   },
   {
    "duration": 52,
    "start_time": "2023-05-22T10:24:55.246Z"
   },
   {
    "duration": 3,
    "start_time": "2023-05-22T10:24:55.300Z"
   },
   {
    "duration": 26,
    "start_time": "2023-05-22T10:24:55.304Z"
   },
   {
    "duration": 46,
    "start_time": "2023-05-22T10:24:55.331Z"
   },
   {
    "duration": 22,
    "start_time": "2023-05-22T10:24:55.379Z"
   },
   {
    "duration": 9,
    "start_time": "2023-05-22T10:24:55.403Z"
   },
   {
    "duration": 36,
    "start_time": "2023-05-22T10:24:55.413Z"
   },
   {
    "duration": 25,
    "start_time": "2023-05-22T10:24:55.451Z"
   },
   {
    "duration": 19,
    "start_time": "2023-05-22T10:24:55.477Z"
   },
   {
    "duration": 9,
    "start_time": "2023-05-22T10:24:55.497Z"
   },
   {
    "duration": 26,
    "start_time": "2023-05-22T10:24:55.507Z"
   },
   {
    "duration": 6,
    "start_time": "2023-05-22T10:24:55.535Z"
   },
   {
    "duration": 9,
    "start_time": "2023-05-22T10:24:55.542Z"
   },
   {
    "duration": 5,
    "start_time": "2023-05-22T10:24:55.553Z"
   },
   {
    "duration": 10,
    "start_time": "2023-05-22T10:24:55.559Z"
   },
   {
    "duration": 10,
    "start_time": "2023-05-22T10:24:55.570Z"
   },
   {
    "duration": 27,
    "start_time": "2023-05-22T10:24:55.581Z"
   },
   {
    "duration": 6,
    "start_time": "2023-05-22T10:24:55.610Z"
   },
   {
    "duration": 38,
    "start_time": "2023-05-22T10:24:55.617Z"
   },
   {
    "duration": 2,
    "start_time": "2023-05-22T10:24:55.659Z"
   },
   {
    "duration": 27,
    "start_time": "2023-05-22T10:24:55.662Z"
   },
   {
    "duration": 17,
    "start_time": "2023-05-22T10:24:55.691Z"
   },
   {
    "duration": 32,
    "start_time": "2023-05-22T10:24:55.709Z"
   },
   {
    "duration": 2,
    "start_time": "2023-05-22T10:24:55.743Z"
   },
   {
    "duration": 22,
    "start_time": "2023-05-22T10:24:55.746Z"
   },
   {
    "duration": 32,
    "start_time": "2023-05-22T10:24:55.770Z"
   },
   {
    "duration": 32,
    "start_time": "2023-05-22T10:24:55.803Z"
   },
   {
    "duration": 5,
    "start_time": "2023-05-22T10:24:55.837Z"
   },
   {
    "duration": 68,
    "start_time": "2023-05-22T10:24:55.843Z"
   },
   {
    "duration": 3,
    "start_time": "2023-05-22T10:24:55.912Z"
   },
   {
    "duration": 34,
    "start_time": "2023-05-22T10:24:55.917Z"
   },
   {
    "duration": 388,
    "start_time": "2023-05-22T10:24:55.953Z"
   },
   {
    "duration": 1223,
    "start_time": "2023-05-22T10:24:56.343Z"
   },
   {
    "duration": 127,
    "start_time": "2023-05-22T10:24:57.568Z"
   },
   {
    "duration": 66,
    "start_time": "2023-05-22T10:24:57.696Z"
   },
   {
    "duration": 16,
    "start_time": "2023-05-22T10:24:57.764Z"
   },
   {
    "duration": 34,
    "start_time": "2023-05-22T10:24:57.795Z"
   },
   {
    "duration": 15,
    "start_time": "2023-05-22T10:24:57.830Z"
   },
   {
    "duration": 55,
    "start_time": "2023-05-22T10:24:57.847Z"
   },
   {
    "duration": 14,
    "start_time": "2023-05-22T10:24:57.904Z"
   },
   {
    "duration": 33,
    "start_time": "2023-05-22T10:24:57.919Z"
   },
   {
    "duration": 2,
    "start_time": "2023-05-22T10:24:57.954Z"
   },
   {
    "duration": 37,
    "start_time": "2023-05-22T10:24:57.958Z"
   },
   {
    "duration": 12,
    "start_time": "2023-05-22T10:24:57.996Z"
   },
   {
    "duration": 223,
    "start_time": "2023-05-22T10:24:58.009Z"
   },
   {
    "duration": 330,
    "start_time": "2023-05-22T10:24:58.234Z"
   },
   {
    "duration": 36,
    "start_time": "2023-05-22T10:24:58.565Z"
   },
   {
    "duration": 16,
    "start_time": "2023-05-22T10:24:58.602Z"
   },
   {
    "duration": 293,
    "start_time": "2023-05-22T10:24:58.620Z"
   },
   {
    "duration": 20,
    "start_time": "2023-05-22T10:24:58.914Z"
   },
   {
    "duration": 264,
    "start_time": "2023-05-22T10:24:58.936Z"
   },
   {
    "duration": 296,
    "start_time": "2023-05-22T10:24:59.201Z"
   },
   {
    "duration": 657,
    "start_time": "2023-05-22T10:24:59.499Z"
   },
   {
    "duration": 9,
    "start_time": "2023-05-22T10:25:00.158Z"
   },
   {
    "duration": 114,
    "start_time": "2023-05-22T10:25:00.169Z"
   },
   {
    "duration": 143,
    "start_time": "2023-05-22T10:25:00.285Z"
   },
   {
    "duration": 0,
    "start_time": "2023-05-22T10:25:00.430Z"
   },
   {
    "duration": 23,
    "start_time": "2023-05-22T10:25:17.775Z"
   },
   {
    "duration": 19,
    "start_time": "2023-05-22T10:25:22.003Z"
   },
   {
    "duration": 6,
    "start_time": "2023-05-22T10:25:37.317Z"
   },
   {
    "duration": 28,
    "start_time": "2023-05-22T10:25:45.362Z"
   },
   {
    "duration": 9,
    "start_time": "2023-05-22T10:25:49.559Z"
   },
   {
    "duration": 20,
    "start_time": "2023-05-22T10:25:51.884Z"
   },
   {
    "duration": 26,
    "start_time": "2023-05-22T10:27:41.163Z"
   },
   {
    "duration": 22,
    "start_time": "2023-05-22T10:27:44.956Z"
   },
   {
    "duration": 25,
    "start_time": "2023-05-22T10:28:19.251Z"
   },
   {
    "duration": 31,
    "start_time": "2023-05-22T10:28:37.511Z"
   },
   {
    "duration": 16,
    "start_time": "2023-05-22T10:28:47.049Z"
   },
   {
    "duration": 15,
    "start_time": "2023-05-22T10:28:48.923Z"
   },
   {
    "duration": 58,
    "start_time": "2023-05-22T10:29:06.157Z"
   },
   {
    "duration": 22,
    "start_time": "2023-05-22T10:29:14.557Z"
   },
   {
    "duration": 27,
    "start_time": "2023-05-22T10:29:17.003Z"
   },
   {
    "duration": 20,
    "start_time": "2023-05-22T10:30:06.459Z"
   },
   {
    "duration": 8,
    "start_time": "2023-05-22T10:30:20.856Z"
   },
   {
    "duration": 15,
    "start_time": "2023-05-22T10:30:24.952Z"
   },
   {
    "duration": 48,
    "start_time": "2023-05-22T10:30:55.913Z"
   },
   {
    "duration": 16,
    "start_time": "2023-05-22T10:30:59.048Z"
   },
   {
    "duration": 485,
    "start_time": "2023-05-22T10:31:58.596Z"
   },
   {
    "duration": 75,
    "start_time": "2023-05-22T10:31:59.984Z"
   },
   {
    "duration": 69,
    "start_time": "2023-05-22T10:32:08.816Z"
   },
   {
    "duration": 554,
    "start_time": "2023-05-22T10:32:22.022Z"
   },
   {
    "duration": 6,
    "start_time": "2023-05-22T10:32:22.988Z"
   },
   {
    "duration": 52,
    "start_time": "2023-05-22T10:32:23.663Z"
   },
   {
    "duration": 21,
    "start_time": "2023-05-22T10:32:26.961Z"
   },
   {
    "duration": 1283,
    "start_time": "2023-05-22T10:32:36.162Z"
   },
   {
    "duration": 771,
    "start_time": "2023-05-22T10:32:37.447Z"
   },
   {
    "duration": 125,
    "start_time": "2023-05-22T10:32:38.220Z"
   },
   {
    "duration": 129,
    "start_time": "2023-05-22T10:32:38.347Z"
   },
   {
    "duration": 64,
    "start_time": "2023-05-22T10:32:38.477Z"
   },
   {
    "duration": 2,
    "start_time": "2023-05-22T10:32:38.543Z"
   },
   {
    "duration": 96,
    "start_time": "2023-05-22T10:32:38.546Z"
   },
   {
    "duration": 2,
    "start_time": "2023-05-22T10:32:38.644Z"
   },
   {
    "duration": 15,
    "start_time": "2023-05-22T10:32:38.647Z"
   },
   {
    "duration": 2,
    "start_time": "2023-05-22T10:32:38.664Z"
   },
   {
    "duration": 36,
    "start_time": "2023-05-22T10:32:38.667Z"
   },
   {
    "duration": 6,
    "start_time": "2023-05-22T10:32:38.705Z"
   },
   {
    "duration": 10,
    "start_time": "2023-05-22T10:32:38.712Z"
   },
   {
    "duration": 6,
    "start_time": "2023-05-22T10:32:38.723Z"
   },
   {
    "duration": 26,
    "start_time": "2023-05-22T10:32:38.730Z"
   },
   {
    "duration": 5,
    "start_time": "2023-05-22T10:32:38.758Z"
   },
   {
    "duration": 10,
    "start_time": "2023-05-22T10:32:38.764Z"
   },
   {
    "duration": 3,
    "start_time": "2023-05-22T10:32:38.775Z"
   },
   {
    "duration": 30,
    "start_time": "2023-05-22T10:32:38.779Z"
   },
   {
    "duration": 10,
    "start_time": "2023-05-22T10:32:38.811Z"
   },
   {
    "duration": 20,
    "start_time": "2023-05-22T10:32:38.823Z"
   },
   {
    "duration": 3,
    "start_time": "2023-05-22T10:32:38.844Z"
   },
   {
    "duration": 9,
    "start_time": "2023-05-22T10:32:38.849Z"
   },
   {
    "duration": 16,
    "start_time": "2023-05-22T10:32:38.859Z"
   },
   {
    "duration": 32,
    "start_time": "2023-05-22T10:32:38.876Z"
   },
   {
    "duration": 13,
    "start_time": "2023-05-22T10:32:38.910Z"
   },
   {
    "duration": 28,
    "start_time": "2023-05-22T10:32:38.924Z"
   },
   {
    "duration": 4,
    "start_time": "2023-05-22T10:32:38.956Z"
   },
   {
    "duration": 24,
    "start_time": "2023-05-22T10:32:38.961Z"
   },
   {
    "duration": 11,
    "start_time": "2023-05-22T10:32:38.986Z"
   },
   {
    "duration": 47,
    "start_time": "2023-05-22T10:32:38.998Z"
   },
   {
    "duration": 2,
    "start_time": "2023-05-22T10:32:39.047Z"
   },
   {
    "duration": 14,
    "start_time": "2023-05-22T10:32:39.051Z"
   },
   {
    "duration": 5,
    "start_time": "2023-05-22T10:32:39.066Z"
   },
   {
    "duration": 10,
    "start_time": "2023-05-22T10:32:39.073Z"
   },
   {
    "duration": 2,
    "start_time": "2023-05-22T10:32:39.084Z"
   },
   {
    "duration": 73,
    "start_time": "2023-05-22T10:32:39.088Z"
   },
   {
    "duration": 2,
    "start_time": "2023-05-22T10:32:39.164Z"
   },
   {
    "duration": 37,
    "start_time": "2023-05-22T10:32:39.168Z"
   },
   {
    "duration": 388,
    "start_time": "2023-05-22T10:32:39.207Z"
   },
   {
    "duration": 1210,
    "start_time": "2023-05-22T10:32:39.597Z"
   },
   {
    "duration": 121,
    "start_time": "2023-05-22T10:32:40.809Z"
   },
   {
    "duration": 74,
    "start_time": "2023-05-22T10:32:40.931Z"
   },
   {
    "duration": 16,
    "start_time": "2023-05-22T10:32:41.006Z"
   },
   {
    "duration": 43,
    "start_time": "2023-05-22T10:32:41.023Z"
   },
   {
    "duration": 13,
    "start_time": "2023-05-22T10:32:41.068Z"
   },
   {
    "duration": 47,
    "start_time": "2023-05-22T10:32:41.083Z"
   },
   {
    "duration": 14,
    "start_time": "2023-05-22T10:32:41.132Z"
   },
   {
    "duration": 47,
    "start_time": "2023-05-22T10:32:41.147Z"
   },
   {
    "duration": 2,
    "start_time": "2023-05-22T10:32:41.196Z"
   },
   {
    "duration": 37,
    "start_time": "2023-05-22T10:32:41.200Z"
   },
   {
    "duration": 4,
    "start_time": "2023-05-22T10:32:41.238Z"
   },
   {
    "duration": 228,
    "start_time": "2023-05-22T10:32:41.243Z"
   },
   {
    "duration": 350,
    "start_time": "2023-05-22T10:32:41.473Z"
   },
   {
    "duration": 34,
    "start_time": "2023-05-22T10:32:41.824Z"
   },
   {
    "duration": 15,
    "start_time": "2023-05-22T10:32:41.859Z"
   },
   {
    "duration": 312,
    "start_time": "2023-05-22T10:32:41.875Z"
   },
   {
    "duration": 26,
    "start_time": "2023-05-22T10:32:42.189Z"
   },
   {
    "duration": 243,
    "start_time": "2023-05-22T10:32:42.216Z"
   },
   {
    "duration": 313,
    "start_time": "2023-05-22T10:32:42.461Z"
   },
   {
    "duration": 715,
    "start_time": "2023-05-22T10:32:42.776Z"
   },
   {
    "duration": 9,
    "start_time": "2023-05-22T10:32:43.494Z"
   },
   {
    "duration": 70,
    "start_time": "2023-05-22T10:32:43.504Z"
   },
   {
    "duration": 28,
    "start_time": "2023-05-22T10:32:43.575Z"
   },
   {
    "duration": 15,
    "start_time": "2023-05-22T10:32:53.596Z"
   },
   {
    "duration": 13,
    "start_time": "2023-05-22T10:32:54.879Z"
   },
   {
    "duration": 4,
    "start_time": "2023-05-22T10:32:55.277Z"
   },
   {
    "duration": 5,
    "start_time": "2023-05-22T10:32:56.012Z"
   },
   {
    "duration": 19,
    "start_time": "2023-05-22T10:33:34.061Z"
   },
   {
    "duration": 13,
    "start_time": "2023-05-22T10:40:05.064Z"
   },
   {
    "duration": 14,
    "start_time": "2023-05-22T10:40:09.645Z"
   },
   {
    "duration": 17,
    "start_time": "2023-05-22T10:40:17.215Z"
   },
   {
    "duration": 120,
    "start_time": "2023-05-22T10:40:22.165Z"
   },
   {
    "duration": 15,
    "start_time": "2023-05-22T10:40:27.742Z"
   },
   {
    "duration": 15,
    "start_time": "2023-05-22T10:40:40.509Z"
   },
   {
    "duration": 6,
    "start_time": "2023-05-22T10:40:44.811Z"
   },
   {
    "duration": 74,
    "start_time": "2023-05-22T10:47:27.609Z"
   },
   {
    "duration": 24,
    "start_time": "2023-05-22T10:47:55.241Z"
   },
   {
    "duration": 27,
    "start_time": "2023-05-22T10:48:18.999Z"
   },
   {
    "duration": 12,
    "start_time": "2023-05-22T10:48:37.565Z"
   },
   {
    "duration": 53,
    "start_time": "2023-05-22T10:48:47.041Z"
   },
   {
    "duration": 7,
    "start_time": "2023-05-22T10:48:51.447Z"
   },
   {
    "duration": 8,
    "start_time": "2023-05-22T10:49:08.224Z"
   },
   {
    "duration": 3,
    "start_time": "2023-05-22T10:49:29.679Z"
   },
   {
    "duration": 9,
    "start_time": "2023-05-22T10:49:32.864Z"
   },
   {
    "duration": 4,
    "start_time": "2023-05-22T10:49:45.758Z"
   },
   {
    "duration": 5,
    "start_time": "2023-05-22T10:51:33.428Z"
   },
   {
    "duration": 21,
    "start_time": "2023-05-22T10:55:04.304Z"
   },
   {
    "duration": 3,
    "start_time": "2023-05-22T10:55:11.410Z"
   },
   {
    "duration": 3,
    "start_time": "2023-05-22T10:55:32.035Z"
   },
   {
    "duration": 3030,
    "start_time": "2023-05-22T10:56:10.075Z"
   },
   {
    "duration": 6797,
    "start_time": "2023-05-22T10:56:17.308Z"
   },
   {
    "duration": 795,
    "start_time": "2023-05-22T10:56:24.107Z"
   },
   {
    "duration": 5,
    "start_time": "2023-05-22T10:56:36.265Z"
   },
   {
    "duration": 3023,
    "start_time": "2023-05-22T10:56:39.977Z"
   },
   {
    "duration": 708,
    "start_time": "2023-05-22T10:56:43.002Z"
   },
   {
    "duration": 10,
    "start_time": "2023-05-22T10:56:43.719Z"
   },
   {
    "duration": 116,
    "start_time": "2023-05-22T10:57:18.101Z"
   },
   {
    "duration": 5299,
    "start_time": "2023-05-22T10:58:05.503Z"
   },
   {
    "duration": 5,
    "start_time": "2023-05-22T10:58:29.220Z"
   },
   {
    "duration": 4025,
    "start_time": "2023-05-22T10:58:30.783Z"
   },
   {
    "duration": 712,
    "start_time": "2023-05-22T10:58:34.894Z"
   },
   {
    "duration": 6,
    "start_time": "2023-05-22T10:58:35.607Z"
   },
   {
    "duration": 5,
    "start_time": "2023-05-22T10:58:48.625Z"
   },
   {
    "duration": 5,
    "start_time": "2023-05-22T10:59:04.498Z"
   },
   {
    "duration": 3876,
    "start_time": "2023-05-22T10:59:07.622Z"
   },
   {
    "duration": 706,
    "start_time": "2023-05-22T10:59:11.500Z"
   },
   {
    "duration": 5,
    "start_time": "2023-05-22T10:59:12.207Z"
   },
   {
    "duration": 5,
    "start_time": "2023-05-22T10:59:19.634Z"
   },
   {
    "duration": 26,
    "start_time": "2023-05-22T10:59:24.403Z"
   },
   {
    "duration": 64,
    "start_time": "2023-05-22T10:59:24.431Z"
   },
   {
    "duration": 97,
    "start_time": "2023-05-22T10:59:24.501Z"
   },
   {
    "duration": 1346,
    "start_time": "2023-05-22T10:59:29.641Z"
   },
   {
    "duration": 891,
    "start_time": "2023-05-22T10:59:30.989Z"
   },
   {
    "duration": 143,
    "start_time": "2023-05-22T10:59:31.882Z"
   },
   {
    "duration": 108,
    "start_time": "2023-05-22T10:59:32.026Z"
   },
   {
    "duration": 76,
    "start_time": "2023-05-22T10:59:32.136Z"
   },
   {
    "duration": 4,
    "start_time": "2023-05-22T10:59:32.214Z"
   },
   {
    "duration": 95,
    "start_time": "2023-05-22T10:59:32.220Z"
   },
   {
    "duration": 3,
    "start_time": "2023-05-22T10:59:32.316Z"
   },
   {
    "duration": 15,
    "start_time": "2023-05-22T10:59:32.320Z"
   },
   {
    "duration": 14,
    "start_time": "2023-05-22T10:59:32.336Z"
   },
   {
    "duration": 35,
    "start_time": "2023-05-22T10:59:32.351Z"
   },
   {
    "duration": 21,
    "start_time": "2023-05-22T10:59:32.387Z"
   },
   {
    "duration": 9,
    "start_time": "2023-05-22T10:59:32.410Z"
   },
   {
    "duration": 4,
    "start_time": "2023-05-22T10:59:32.423Z"
   },
   {
    "duration": 36,
    "start_time": "2023-05-22T10:59:32.428Z"
   },
   {
    "duration": 11,
    "start_time": "2023-05-22T10:59:32.465Z"
   },
   {
    "duration": 28,
    "start_time": "2023-05-22T10:59:32.477Z"
   },
   {
    "duration": 14,
    "start_time": "2023-05-22T10:59:32.506Z"
   },
   {
    "duration": 36,
    "start_time": "2023-05-22T10:59:32.522Z"
   },
   {
    "duration": 14,
    "start_time": "2023-05-22T10:59:32.560Z"
   },
   {
    "duration": 24,
    "start_time": "2023-05-22T10:59:32.576Z"
   },
   {
    "duration": 8,
    "start_time": "2023-05-22T10:59:32.602Z"
   },
   {
    "duration": 31,
    "start_time": "2023-05-22T10:59:32.611Z"
   },
   {
    "duration": 36,
    "start_time": "2023-05-22T10:59:32.644Z"
   },
   {
    "duration": 52,
    "start_time": "2023-05-22T10:59:32.682Z"
   },
   {
    "duration": 11,
    "start_time": "2023-05-22T10:59:32.736Z"
   },
   {
    "duration": 41,
    "start_time": "2023-05-22T10:59:32.748Z"
   },
   {
    "duration": 15,
    "start_time": "2023-05-22T10:59:32.790Z"
   },
   {
    "duration": 33,
    "start_time": "2023-05-22T10:59:32.806Z"
   },
   {
    "duration": 12,
    "start_time": "2023-05-22T10:59:32.840Z"
   },
   {
    "duration": 62,
    "start_time": "2023-05-22T10:59:32.853Z"
   },
   {
    "duration": 8,
    "start_time": "2023-05-22T10:59:32.916Z"
   },
   {
    "duration": 22,
    "start_time": "2023-05-22T10:59:32.925Z"
   },
   {
    "duration": 14,
    "start_time": "2023-05-22T10:59:32.948Z"
   },
   {
    "duration": 11,
    "start_time": "2023-05-22T10:59:32.964Z"
   },
   {
    "duration": 19,
    "start_time": "2023-05-22T10:59:32.977Z"
   },
   {
    "duration": 87,
    "start_time": "2023-05-22T10:59:32.999Z"
   },
   {
    "duration": 3,
    "start_time": "2023-05-22T10:59:33.088Z"
   },
   {
    "duration": 40,
    "start_time": "2023-05-22T10:59:33.093Z"
   },
   {
    "duration": 389,
    "start_time": "2023-05-22T10:59:33.135Z"
   },
   {
    "duration": 1308,
    "start_time": "2023-05-22T10:59:33.528Z"
   },
   {
    "duration": 124,
    "start_time": "2023-05-22T10:59:34.837Z"
   },
   {
    "duration": 73,
    "start_time": "2023-05-22T10:59:34.963Z"
   },
   {
    "duration": 21,
    "start_time": "2023-05-22T10:59:35.037Z"
   },
   {
    "duration": 47,
    "start_time": "2023-05-22T10:59:35.059Z"
   },
   {
    "duration": 13,
    "start_time": "2023-05-22T10:59:35.108Z"
   },
   {
    "duration": 45,
    "start_time": "2023-05-22T10:59:35.123Z"
   },
   {
    "duration": 13,
    "start_time": "2023-05-22T10:59:35.169Z"
   },
   {
    "duration": 47,
    "start_time": "2023-05-22T10:59:35.184Z"
   },
   {
    "duration": 2,
    "start_time": "2023-05-22T10:59:35.232Z"
   },
   {
    "duration": 31,
    "start_time": "2023-05-22T10:59:35.236Z"
   },
   {
    "duration": 19,
    "start_time": "2023-05-22T10:59:35.269Z"
   },
   {
    "duration": 260,
    "start_time": "2023-05-22T10:59:35.289Z"
   },
   {
    "duration": 335,
    "start_time": "2023-05-22T10:59:35.550Z"
   },
   {
    "duration": 38,
    "start_time": "2023-05-22T10:59:35.886Z"
   },
   {
    "duration": 15,
    "start_time": "2023-05-22T10:59:35.925Z"
   },
   {
    "duration": 337,
    "start_time": "2023-05-22T10:59:35.942Z"
   },
   {
    "duration": 31,
    "start_time": "2023-05-22T10:59:36.280Z"
   },
   {
    "duration": 268,
    "start_time": "2023-05-22T10:59:36.312Z"
   },
   {
    "duration": 393,
    "start_time": "2023-05-22T10:59:36.583Z"
   },
   {
    "duration": 733,
    "start_time": "2023-05-22T10:59:36.977Z"
   },
   {
    "duration": 8,
    "start_time": "2023-05-22T10:59:37.712Z"
   },
   {
    "duration": 82,
    "start_time": "2023-05-22T10:59:37.722Z"
   },
   {
    "duration": 23,
    "start_time": "2023-05-22T10:59:37.806Z"
   },
   {
    "duration": 32,
    "start_time": "2023-05-22T10:59:37.831Z"
   },
   {
    "duration": 104,
    "start_time": "2023-05-22T10:59:37.894Z"
   },
   {
    "duration": 219,
    "start_time": "2023-05-22T10:59:38.001Z"
   },
   {
    "duration": 0,
    "start_time": "2023-05-22T10:59:38.223Z"
   },
   {
    "duration": 0,
    "start_time": "2023-05-22T10:59:38.224Z"
   },
   {
    "duration": 0,
    "start_time": "2023-05-22T10:59:38.225Z"
   },
   {
    "duration": 6,
    "start_time": "2023-05-22T10:59:49.209Z"
   },
   {
    "duration": 10536,
    "start_time": "2023-05-22T10:59:49.961Z"
   },
   {
    "duration": 6,
    "start_time": "2023-05-22T11:00:00.499Z"
   },
   {
    "duration": 88,
    "start_time": "2023-05-22T11:00:00.509Z"
   },
   {
    "duration": 663,
    "start_time": "2023-05-22T11:00:33.182Z"
   },
   {
    "duration": 48,
    "start_time": "2023-05-22T11:00:33.847Z"
   },
   {
    "duration": 8,
    "start_time": "2023-05-22T11:05:05.816Z"
   },
   {
    "duration": 292,
    "start_time": "2023-05-22T11:05:25.991Z"
   },
   {
    "duration": 5,
    "start_time": "2023-05-22T11:05:31.502Z"
   },
   {
    "duration": 3,
    "start_time": "2023-05-22T11:05:55.270Z"
   },
   {
    "duration": 98438,
    "start_time": "2023-05-22T11:06:07.290Z"
   },
   {
    "duration": 270,
    "start_time": "2023-05-22T11:07:45.730Z"
   },
   {
    "duration": 4,
    "start_time": "2023-05-22T11:07:46.002Z"
   },
   {
    "duration": 44073,
    "start_time": "2023-05-22T11:10:50.435Z"
   },
   {
    "duration": 3,
    "start_time": "2023-05-22T11:11:34.510Z"
   },
   {
    "duration": 3,
    "start_time": "2023-05-22T11:11:38.275Z"
   },
   {
    "duration": 20258,
    "start_time": "2023-05-22T11:11:44.295Z"
   },
   {
    "duration": 17851,
    "start_time": "2023-05-22T11:13:02.603Z"
   },
   {
    "duration": 99,
    "start_time": "2023-05-22T11:13:20.456Z"
   },
   {
    "duration": 4,
    "start_time": "2023-05-22T11:13:53.847Z"
   },
   {
    "duration": 4,
    "start_time": "2023-05-22T11:15:56.756Z"
   },
   {
    "duration": 16,
    "start_time": "2023-05-22T11:16:04.055Z"
   },
   {
    "duration": 15671,
    "start_time": "2023-05-22T11:16:21.109Z"
   },
   {
    "duration": 114,
    "start_time": "2023-05-22T11:16:40.421Z"
   },
   {
    "duration": 115,
    "start_time": "2023-05-22T11:16:56.831Z"
   },
   {
    "duration": 1634,
    "start_time": "2023-05-22T11:17:06.081Z"
   },
   {
    "duration": 1056,
    "start_time": "2023-05-22T11:17:07.717Z"
   },
   {
    "duration": 125,
    "start_time": "2023-05-22T11:17:08.775Z"
   },
   {
    "duration": 81,
    "start_time": "2023-05-22T11:17:08.902Z"
   },
   {
    "duration": 58,
    "start_time": "2023-05-22T11:17:08.995Z"
   },
   {
    "duration": 3,
    "start_time": "2023-05-22T11:17:09.054Z"
   },
   {
    "duration": 94,
    "start_time": "2023-05-22T11:17:09.058Z"
   },
   {
    "duration": 2,
    "start_time": "2023-05-22T11:17:09.154Z"
   },
   {
    "duration": 21,
    "start_time": "2023-05-22T11:17:09.157Z"
   },
   {
    "duration": 5,
    "start_time": "2023-05-22T11:17:09.180Z"
   },
   {
    "duration": 26,
    "start_time": "2023-05-22T11:17:09.186Z"
   },
   {
    "duration": 5,
    "start_time": "2023-05-22T11:17:09.214Z"
   },
   {
    "duration": 9,
    "start_time": "2023-05-22T11:17:09.220Z"
   },
   {
    "duration": 16,
    "start_time": "2023-05-22T11:17:09.230Z"
   },
   {
    "duration": 28,
    "start_time": "2023-05-22T11:17:09.247Z"
   },
   {
    "duration": 14,
    "start_time": "2023-05-22T11:17:09.276Z"
   },
   {
    "duration": 10,
    "start_time": "2023-05-22T11:17:09.292Z"
   },
   {
    "duration": 4,
    "start_time": "2023-05-22T11:17:09.304Z"
   },
   {
    "duration": 23,
    "start_time": "2023-05-22T11:17:09.310Z"
   },
   {
    "duration": 6,
    "start_time": "2023-05-22T11:17:09.335Z"
   },
   {
    "duration": 12,
    "start_time": "2023-05-22T11:17:09.342Z"
   },
   {
    "duration": 6,
    "start_time": "2023-05-22T11:17:09.357Z"
   },
   {
    "duration": 9,
    "start_time": "2023-05-22T11:17:09.364Z"
   },
   {
    "duration": 10,
    "start_time": "2023-05-22T11:17:09.374Z"
   },
   {
    "duration": 21,
    "start_time": "2023-05-22T11:17:09.386Z"
   },
   {
    "duration": 5,
    "start_time": "2023-05-22T11:17:09.409Z"
   },
   {
    "duration": 27,
    "start_time": "2023-05-22T11:17:09.415Z"
   },
   {
    "duration": 3,
    "start_time": "2023-05-22T11:17:09.445Z"
   },
   {
    "duration": 21,
    "start_time": "2023-05-22T11:17:09.449Z"
   },
   {
    "duration": 15,
    "start_time": "2023-05-22T11:17:09.472Z"
   },
   {
    "duration": 27,
    "start_time": "2023-05-22T11:17:09.489Z"
   },
   {
    "duration": 2,
    "start_time": "2023-05-22T11:17:09.517Z"
   },
   {
    "duration": 11,
    "start_time": "2023-05-22T11:17:09.521Z"
   },
   {
    "duration": 7,
    "start_time": "2023-05-22T11:17:09.533Z"
   },
   {
    "duration": 12,
    "start_time": "2023-05-22T11:17:09.541Z"
   },
   {
    "duration": 3,
    "start_time": "2023-05-22T11:17:09.554Z"
   },
   {
    "duration": 81,
    "start_time": "2023-05-22T11:17:09.558Z"
   },
   {
    "duration": 2,
    "start_time": "2023-05-22T11:17:09.640Z"
   },
   {
    "duration": 27,
    "start_time": "2023-05-22T11:17:09.644Z"
   },
   {
    "duration": 400,
    "start_time": "2023-05-22T11:17:09.673Z"
   },
   {
    "duration": 1376,
    "start_time": "2023-05-22T11:17:10.075Z"
   },
   {
    "duration": 119,
    "start_time": "2023-05-22T11:17:11.453Z"
   },
   {
    "duration": 66,
    "start_time": "2023-05-22T11:17:11.574Z"
   },
   {
    "duration": 14,
    "start_time": "2023-05-22T11:17:11.641Z"
   },
   {
    "duration": 56,
    "start_time": "2023-05-22T11:17:11.656Z"
   },
   {
    "duration": 13,
    "start_time": "2023-05-22T11:17:11.713Z"
   },
   {
    "duration": 52,
    "start_time": "2023-05-22T11:17:11.728Z"
   },
   {
    "duration": 13,
    "start_time": "2023-05-22T11:17:11.782Z"
   },
   {
    "duration": 33,
    "start_time": "2023-05-22T11:17:11.796Z"
   },
   {
    "duration": 2,
    "start_time": "2023-05-22T11:17:11.831Z"
   },
   {
    "duration": 23,
    "start_time": "2023-05-22T11:17:11.835Z"
   },
   {
    "duration": 5,
    "start_time": "2023-05-22T11:17:11.860Z"
   },
   {
    "duration": 225,
    "start_time": "2023-05-22T11:17:11.867Z"
   },
   {
    "duration": 316,
    "start_time": "2023-05-22T11:17:12.093Z"
   },
   {
    "duration": 31,
    "start_time": "2023-05-22T11:17:12.411Z"
   },
   {
    "duration": 15,
    "start_time": "2023-05-22T11:17:12.444Z"
   },
   {
    "duration": 321,
    "start_time": "2023-05-22T11:17:12.461Z"
   },
   {
    "duration": 28,
    "start_time": "2023-05-22T11:17:12.783Z"
   },
   {
    "duration": 299,
    "start_time": "2023-05-22T11:17:12.813Z"
   },
   {
    "duration": 300,
    "start_time": "2023-05-22T11:17:13.114Z"
   },
   {
    "duration": 667,
    "start_time": "2023-05-22T11:17:13.416Z"
   },
   {
    "duration": 10,
    "start_time": "2023-05-22T11:17:14.085Z"
   },
   {
    "duration": 79,
    "start_time": "2023-05-22T11:17:14.097Z"
   },
   {
    "duration": 21,
    "start_time": "2023-05-22T11:17:14.177Z"
   },
   {
    "duration": 31,
    "start_time": "2023-05-22T11:17:14.199Z"
   },
   {
    "duration": 10,
    "start_time": "2023-05-22T11:17:14.232Z"
   },
   {
    "duration": 103,
    "start_time": "2023-05-22T11:17:14.295Z"
   },
   {
    "duration": 3205,
    "start_time": "2023-05-22T11:17:14.399Z"
   },
   {
    "duration": 790,
    "start_time": "2023-05-22T11:17:17.606Z"
   },
   {
    "duration": 5,
    "start_time": "2023-05-22T11:17:18.398Z"
   },
   {
    "duration": 30294,
    "start_time": "2023-05-22T11:17:18.404Z"
   },
   {
    "duration": 296,
    "start_time": "2023-05-22T11:17:48.699Z"
   },
   {
    "duration": 4,
    "start_time": "2023-05-22T11:17:48.997Z"
   },
   {
    "duration": 19120,
    "start_time": "2023-05-22T11:17:49.003Z"
   },
   {
    "duration": 88,
    "start_time": "2023-05-22T11:18:08.124Z"
   },
   {
    "duration": 4,
    "start_time": "2023-05-22T11:18:08.214Z"
   },
   {
    "duration": 1624,
    "start_time": "2023-05-22T11:22:04.038Z"
   },
   {
    "duration": 190,
    "start_time": "2023-05-22T11:22:36.736Z"
   },
   {
    "duration": 166,
    "start_time": "2023-05-22T11:22:40.013Z"
   },
   {
    "duration": 10,
    "start_time": "2023-05-22T11:22:43.009Z"
   },
   {
    "duration": 9,
    "start_time": "2023-05-22T11:22:43.451Z"
   },
   {
    "duration": 1394,
    "start_time": "2023-05-22T11:22:47.709Z"
   },
   {
    "duration": 1012,
    "start_time": "2023-05-22T11:22:49.105Z"
   },
   {
    "duration": 127,
    "start_time": "2023-05-22T11:22:50.118Z"
   },
   {
    "duration": 95,
    "start_time": "2023-05-22T11:22:50.246Z"
   },
   {
    "duration": 69,
    "start_time": "2023-05-22T11:22:50.343Z"
   },
   {
    "duration": 2,
    "start_time": "2023-05-22T11:22:50.414Z"
   },
   {
    "duration": 90,
    "start_time": "2023-05-22T11:22:50.417Z"
   },
   {
    "duration": 2,
    "start_time": "2023-05-22T11:22:50.509Z"
   },
   {
    "duration": 11,
    "start_time": "2023-05-22T11:22:50.512Z"
   },
   {
    "duration": 3,
    "start_time": "2023-05-22T11:22:50.524Z"
   },
   {
    "duration": 21,
    "start_time": "2023-05-22T11:22:50.528Z"
   },
   {
    "duration": 4,
    "start_time": "2023-05-22T11:22:50.551Z"
   },
   {
    "duration": 9,
    "start_time": "2023-05-22T11:22:50.556Z"
   },
   {
    "duration": 2,
    "start_time": "2023-05-22T11:22:50.568Z"
   },
   {
    "duration": 36,
    "start_time": "2023-05-22T11:22:50.571Z"
   },
   {
    "duration": 7,
    "start_time": "2023-05-22T11:22:50.609Z"
   },
   {
    "duration": 19,
    "start_time": "2023-05-22T11:22:50.618Z"
   },
   {
    "duration": 26,
    "start_time": "2023-05-22T11:22:50.638Z"
   },
   {
    "duration": 25,
    "start_time": "2023-05-22T11:22:50.665Z"
   },
   {
    "duration": 5,
    "start_time": "2023-05-22T11:22:50.692Z"
   },
   {
    "duration": 10,
    "start_time": "2023-05-22T11:22:50.698Z"
   },
   {
    "duration": 15,
    "start_time": "2023-05-22T11:22:50.709Z"
   },
   {
    "duration": 10,
    "start_time": "2023-05-22T11:22:50.725Z"
   },
   {
    "duration": 5,
    "start_time": "2023-05-22T11:22:50.737Z"
   },
   {
    "duration": 21,
    "start_time": "2023-05-22T11:22:50.743Z"
   },
   {
    "duration": 4,
    "start_time": "2023-05-22T11:22:50.766Z"
   },
   {
    "duration": 27,
    "start_time": "2023-05-22T11:22:50.771Z"
   },
   {
    "duration": 5,
    "start_time": "2023-05-22T11:22:50.799Z"
   },
   {
    "duration": 23,
    "start_time": "2023-05-22T11:22:50.805Z"
   },
   {
    "duration": 15,
    "start_time": "2023-05-22T11:22:50.830Z"
   },
   {
    "duration": 34,
    "start_time": "2023-05-22T11:22:50.846Z"
   },
   {
    "duration": 3,
    "start_time": "2023-05-22T11:22:50.881Z"
   },
   {
    "duration": 10,
    "start_time": "2023-05-22T11:22:50.885Z"
   },
   {
    "duration": 28,
    "start_time": "2023-05-22T11:22:50.896Z"
   },
   {
    "duration": 18,
    "start_time": "2023-05-22T11:22:50.925Z"
   },
   {
    "duration": 8,
    "start_time": "2023-05-22T11:22:50.944Z"
   },
   {
    "duration": 69,
    "start_time": "2023-05-22T11:22:50.954Z"
   },
   {
    "duration": 3,
    "start_time": "2023-05-22T11:22:51.025Z"
   },
   {
    "duration": 49,
    "start_time": "2023-05-22T11:22:51.030Z"
   },
   {
    "duration": 405,
    "start_time": "2023-05-22T11:22:51.081Z"
   },
   {
    "duration": 1205,
    "start_time": "2023-05-22T11:22:51.495Z"
   },
   {
    "duration": 120,
    "start_time": "2023-05-22T11:22:52.702Z"
   },
   {
    "duration": 75,
    "start_time": "2023-05-22T11:22:52.823Z"
   },
   {
    "duration": 16,
    "start_time": "2023-05-22T11:22:52.900Z"
   },
   {
    "duration": 36,
    "start_time": "2023-05-22T11:22:52.918Z"
   },
   {
    "duration": 14,
    "start_time": "2023-05-22T11:22:52.956Z"
   },
   {
    "duration": 49,
    "start_time": "2023-05-22T11:22:52.971Z"
   },
   {
    "duration": 13,
    "start_time": "2023-05-22T11:22:53.021Z"
   },
   {
    "duration": 30,
    "start_time": "2023-05-22T11:22:53.036Z"
   },
   {
    "duration": 2,
    "start_time": "2023-05-22T11:22:53.068Z"
   },
   {
    "duration": 34,
    "start_time": "2023-05-22T11:22:53.071Z"
   },
   {
    "duration": 3,
    "start_time": "2023-05-22T11:22:53.106Z"
   },
   {
    "duration": 215,
    "start_time": "2023-05-22T11:22:53.110Z"
   },
   {
    "duration": 306,
    "start_time": "2023-05-22T11:22:53.326Z"
   },
   {
    "duration": 28,
    "start_time": "2023-05-22T11:22:53.633Z"
   },
   {
    "duration": 15,
    "start_time": "2023-05-22T11:22:53.662Z"
   },
   {
    "duration": 283,
    "start_time": "2023-05-22T11:22:53.694Z"
   },
   {
    "duration": 32,
    "start_time": "2023-05-22T11:22:53.978Z"
   },
   {
    "duration": 313,
    "start_time": "2023-05-22T11:22:54.012Z"
   },
   {
    "duration": 310,
    "start_time": "2023-05-22T11:22:54.327Z"
   },
   {
    "duration": 710,
    "start_time": "2023-05-22T11:22:54.639Z"
   },
   {
    "duration": 8,
    "start_time": "2023-05-22T11:22:55.350Z"
   },
   {
    "duration": 73,
    "start_time": "2023-05-22T11:22:55.360Z"
   },
   {
    "duration": 19,
    "start_time": "2023-05-22T11:22:55.434Z"
   },
   {
    "duration": 44,
    "start_time": "2023-05-22T11:22:55.455Z"
   },
   {
    "duration": 8,
    "start_time": "2023-05-22T11:22:55.501Z"
   },
   {
    "duration": 87,
    "start_time": "2023-05-22T11:22:55.513Z"
   },
   {
    "duration": 3602,
    "start_time": "2023-05-22T11:22:55.603Z"
   },
   {
    "duration": 714,
    "start_time": "2023-05-22T11:22:59.207Z"
   },
   {
    "duration": 6,
    "start_time": "2023-05-22T11:22:59.924Z"
   },
   {
    "duration": 26279,
    "start_time": "2023-05-22T11:22:59.931Z"
   },
   {
    "duration": 195,
    "start_time": "2023-05-22T11:23:26.211Z"
   },
   {
    "duration": 89,
    "start_time": "2023-05-22T11:23:26.408Z"
   },
   {
    "duration": 17619,
    "start_time": "2023-05-22T11:23:26.498Z"
   },
   {
    "duration": 87,
    "start_time": "2023-05-22T11:23:44.119Z"
   },
   {
    "duration": 4,
    "start_time": "2023-05-22T11:23:44.208Z"
   },
   {
    "duration": 30826,
    "start_time": "2023-05-22T11:23:44.213Z"
   },
   {
    "duration": 3006,
    "start_time": "2023-05-22T11:24:15.041Z"
   },
   {
    "duration": 5,
    "start_time": "2023-05-22T11:24:18.049Z"
   },
   {
    "duration": 2,
    "start_time": "2023-05-22T11:38:29.640Z"
   },
   {
    "duration": 3,
    "start_time": "2023-05-22T11:38:31.058Z"
   },
   {
    "duration": 3,
    "start_time": "2023-05-22T11:38:33.664Z"
   },
   {
    "duration": 2,
    "start_time": "2023-05-22T11:43:13.291Z"
   },
   {
    "duration": 176,
    "start_time": "2023-05-22T11:43:42.284Z"
   },
   {
    "duration": 2,
    "start_time": "2023-05-22T11:45:52.203Z"
   },
   {
    "duration": 42912,
    "start_time": "2023-05-22T11:46:04.715Z"
   },
   {
    "duration": 39145,
    "start_time": "2023-05-22T11:46:52.520Z"
   },
   {
    "duration": 22320,
    "start_time": "2023-05-22T11:47:33.322Z"
   },
   {
    "duration": 56810,
    "start_time": "2023-05-22T11:47:57.737Z"
   },
   {
    "duration": 153,
    "start_time": "2023-05-22T11:48:54.550Z"
   },
   {
    "duration": 12,
    "start_time": "2023-05-22T11:48:57.108Z"
   },
   {
    "duration": 9,
    "start_time": "2023-05-22T11:49:00.854Z"
   },
   {
    "duration": 3,
    "start_time": "2023-05-22T11:49:15.608Z"
   },
   {
    "duration": 58729,
    "start_time": "2023-05-22T11:49:23.760Z"
   },
   {
    "duration": 12249,
    "start_time": "2023-05-22T11:50:25.518Z"
   },
   {
    "duration": 9,
    "start_time": "2023-05-22T11:52:53.896Z"
   },
   {
    "duration": 213,
    "start_time": "2023-05-22T11:53:01.348Z"
   },
   {
    "duration": 195,
    "start_time": "2023-05-22T11:53:30.943Z"
   },
   {
    "duration": 86,
    "start_time": "2023-05-22T11:53:38.841Z"
   },
   {
    "duration": 107839,
    "start_time": "2023-05-22T11:54:12.755Z"
   },
   {
    "duration": 147,
    "start_time": "2023-05-22T12:10:28.392Z"
   },
   {
    "duration": 702124,
    "start_time": "2023-05-22T12:10:33.564Z"
   },
   {
    "duration": 32017,
    "start_time": "2023-05-22T12:44:31.801Z"
   },
   {
    "duration": 7754,
    "start_time": "2023-05-22T12:45:29.871Z"
   },
   {
    "duration": 5,
    "start_time": "2023-05-22T12:45:37.627Z"
   },
   {
    "duration": 21635,
    "start_time": "2023-05-22T12:46:02.069Z"
   },
   {
    "duration": 9304,
    "start_time": "2023-05-22T12:46:23.706Z"
   },
   {
    "duration": 5,
    "start_time": "2023-05-22T12:46:33.012Z"
   },
   {
    "duration": 3018,
    "start_time": "2023-05-22T12:46:36.894Z"
   },
   {
    "duration": 620,
    "start_time": "2023-05-22T12:46:39.995Z"
   },
   {
    "duration": 83,
    "start_time": "2023-05-22T12:46:40.616Z"
   },
   {
    "duration": 11246,
    "start_time": "2023-05-22T12:46:45.952Z"
   },
   {
    "duration": 2617,
    "start_time": "2023-05-22T12:46:57.200Z"
   },
   {
    "duration": 5,
    "start_time": "2023-05-22T12:46:59.819Z"
   },
   {
    "duration": 30072,
    "start_time": "2023-05-22T12:47:04.741Z"
   },
   {
    "duration": 8602,
    "start_time": "2023-05-22T12:47:34.814Z"
   },
   {
    "duration": 5,
    "start_time": "2023-05-22T12:47:43.418Z"
   },
   {
    "duration": 141,
    "start_time": "2023-05-22T12:48:04.480Z"
   },
   {
    "duration": 260556,
    "start_time": "2023-05-22T12:48:42.104Z"
   },
   {
    "duration": 11,
    "start_time": "2023-05-22T12:53:02.661Z"
   },
   {
    "duration": 0,
    "start_time": "2023-05-22T12:53:02.673Z"
   },
   {
    "duration": 0,
    "start_time": "2023-05-22T12:53:02.674Z"
   },
   {
    "duration": 0,
    "start_time": "2023-05-22T12:53:02.675Z"
   },
   {
    "duration": 0,
    "start_time": "2023-05-22T12:53:02.676Z"
   },
   {
    "duration": 0,
    "start_time": "2023-05-22T12:53:02.677Z"
   },
   {
    "duration": 0,
    "start_time": "2023-05-22T12:53:02.678Z"
   },
   {
    "duration": 0,
    "start_time": "2023-05-22T12:53:02.679Z"
   },
   {
    "duration": 1470,
    "start_time": "2023-05-22T12:53:24.342Z"
   },
   {
    "duration": 792,
    "start_time": "2023-05-22T12:53:25.814Z"
   },
   {
    "duration": 133,
    "start_time": "2023-05-22T12:53:26.607Z"
   },
   {
    "duration": 91,
    "start_time": "2023-05-22T12:53:26.741Z"
   },
   {
    "duration": 70,
    "start_time": "2023-05-22T12:53:26.834Z"
   },
   {
    "duration": 2,
    "start_time": "2023-05-22T12:53:26.906Z"
   },
   {
    "duration": 75,
    "start_time": "2023-05-22T12:53:26.909Z"
   },
   {
    "duration": 2,
    "start_time": "2023-05-22T12:53:26.995Z"
   },
   {
    "duration": 19,
    "start_time": "2023-05-22T12:53:26.999Z"
   },
   {
    "duration": 2,
    "start_time": "2023-05-22T12:53:27.020Z"
   },
   {
    "duration": 23,
    "start_time": "2023-05-22T12:53:27.024Z"
   },
   {
    "duration": 5,
    "start_time": "2023-05-22T12:53:27.049Z"
   },
   {
    "duration": 7,
    "start_time": "2023-05-22T12:53:27.055Z"
   },
   {
    "duration": 2,
    "start_time": "2023-05-22T12:53:27.065Z"
   },
   {
    "duration": 32,
    "start_time": "2023-05-22T12:53:27.069Z"
   },
   {
    "duration": 7,
    "start_time": "2023-05-22T12:53:27.102Z"
   },
   {
    "duration": 9,
    "start_time": "2023-05-22T12:53:27.111Z"
   },
   {
    "duration": 3,
    "start_time": "2023-05-22T12:53:27.122Z"
   },
   {
    "duration": 22,
    "start_time": "2023-05-22T12:53:27.126Z"
   },
   {
    "duration": 4,
    "start_time": "2023-05-22T12:53:27.149Z"
   },
   {
    "duration": 10,
    "start_time": "2023-05-22T12:53:27.154Z"
   },
   {
    "duration": 5,
    "start_time": "2023-05-22T12:53:27.165Z"
   },
   {
    "duration": 8,
    "start_time": "2023-05-22T12:53:27.171Z"
   },
   {
    "duration": 2,
    "start_time": "2023-05-22T12:53:27.194Z"
   },
   {
    "duration": 21,
    "start_time": "2023-05-22T12:53:27.198Z"
   },
   {
    "duration": 5,
    "start_time": "2023-05-22T12:53:27.220Z"
   },
   {
    "duration": 24,
    "start_time": "2023-05-22T12:53:27.226Z"
   },
   {
    "duration": 2,
    "start_time": "2023-05-22T12:53:27.252Z"
   },
   {
    "duration": 21,
    "start_time": "2023-05-22T12:53:27.255Z"
   },
   {
    "duration": 19,
    "start_time": "2023-05-22T12:53:27.277Z"
   },
   {
    "duration": 26,
    "start_time": "2023-05-22T12:53:27.297Z"
   },
   {
    "duration": 2,
    "start_time": "2023-05-22T12:53:27.325Z"
   },
   {
    "duration": 6,
    "start_time": "2023-05-22T12:53:27.329Z"
   },
   {
    "duration": 3,
    "start_time": "2023-05-22T12:53:27.337Z"
   },
   {
    "duration": 8,
    "start_time": "2023-05-22T12:53:27.341Z"
   },
   {
    "duration": 4,
    "start_time": "2023-05-22T12:53:27.351Z"
   },
   {
    "duration": 94,
    "start_time": "2023-05-22T12:53:27.356Z"
   },
   {
    "duration": 2,
    "start_time": "2023-05-22T12:53:27.452Z"
   },
   {
    "duration": 39,
    "start_time": "2023-05-22T12:53:27.456Z"
   },
   {
    "duration": 340,
    "start_time": "2023-05-22T12:53:27.496Z"
   },
   {
    "duration": 1185,
    "start_time": "2023-05-22T12:53:27.840Z"
   },
   {
    "duration": 124,
    "start_time": "2023-05-22T12:53:29.027Z"
   },
   {
    "duration": 82,
    "start_time": "2023-05-22T12:53:29.153Z"
   },
   {
    "duration": 26,
    "start_time": "2023-05-22T12:53:29.237Z"
   },
   {
    "duration": 46,
    "start_time": "2023-05-22T12:53:29.265Z"
   },
   {
    "duration": 14,
    "start_time": "2023-05-22T12:53:29.313Z"
   },
   {
    "duration": 37,
    "start_time": "2023-05-22T12:53:29.329Z"
   },
   {
    "duration": 14,
    "start_time": "2023-05-22T12:53:29.367Z"
   },
   {
    "duration": 45,
    "start_time": "2023-05-22T12:53:29.382Z"
   },
   {
    "duration": 3,
    "start_time": "2023-05-22T12:53:29.428Z"
   },
   {
    "duration": 46,
    "start_time": "2023-05-22T12:53:29.432Z"
   },
   {
    "duration": 24,
    "start_time": "2023-05-22T12:53:29.480Z"
   },
   {
    "duration": 228,
    "start_time": "2023-05-22T12:53:29.505Z"
   },
   {
    "duration": 317,
    "start_time": "2023-05-22T12:53:29.735Z"
   },
   {
    "duration": 31,
    "start_time": "2023-05-22T12:53:30.053Z"
   },
   {
    "duration": 17,
    "start_time": "2023-05-22T12:53:30.095Z"
   },
   {
    "duration": 307,
    "start_time": "2023-05-22T12:53:30.114Z"
   },
   {
    "duration": 24,
    "start_time": "2023-05-22T12:53:30.423Z"
   },
   {
    "duration": 321,
    "start_time": "2023-05-22T12:53:30.449Z"
   },
   {
    "duration": 313,
    "start_time": "2023-05-22T12:53:30.771Z"
   },
   {
    "duration": 748,
    "start_time": "2023-05-22T12:53:31.086Z"
   },
   {
    "duration": 11,
    "start_time": "2023-05-22T12:53:31.836Z"
   },
   {
    "duration": 81,
    "start_time": "2023-05-22T12:53:31.849Z"
   },
   {
    "duration": 19,
    "start_time": "2023-05-22T12:53:31.932Z"
   },
   {
    "duration": 45,
    "start_time": "2023-05-22T12:53:31.953Z"
   },
   {
    "duration": 14,
    "start_time": "2023-05-22T12:53:31.999Z"
   },
   {
    "duration": 102,
    "start_time": "2023-05-22T12:53:32.096Z"
   },
   {
    "duration": 3400,
    "start_time": "2023-05-22T12:53:32.199Z"
   },
   {
    "duration": 700,
    "start_time": "2023-05-22T12:53:35.601Z"
   },
   {
    "duration": 5,
    "start_time": "2023-05-22T12:53:36.303Z"
   },
   {
    "duration": 29303,
    "start_time": "2023-05-22T12:53:36.310Z"
   },
   {
    "duration": 281,
    "start_time": "2023-05-22T12:54:05.614Z"
   },
   {
    "duration": 5,
    "start_time": "2023-05-22T12:54:05.897Z"
   },
   {
    "duration": 2548,
    "start_time": "2023-05-22T12:54:05.903Z"
   },
   {
    "duration": 21,
    "start_time": "2023-05-22T12:54:08.453Z"
   },
   {
    "duration": 5,
    "start_time": "2023-05-22T12:54:08.476Z"
   },
   {
    "duration": 29915,
    "start_time": "2023-05-22T12:54:08.483Z"
   },
   {
    "duration": 3024,
    "start_time": "2023-05-22T12:54:38.399Z"
   },
   {
    "duration": 4,
    "start_time": "2023-05-22T12:54:41.425Z"
   },
   {
    "duration": 13108,
    "start_time": "2023-05-22T12:55:21.300Z"
   },
   {
    "duration": 2524,
    "start_time": "2023-05-22T12:55:34.410Z"
   },
   {
    "duration": 5,
    "start_time": "2023-05-22T12:55:36.936Z"
   },
   {
    "duration": 138714,
    "start_time": "2023-05-22T12:55:36.942Z"
   },
   {
    "duration": 1368,
    "start_time": "2023-05-22T12:57:55.657Z"
   },
   {
    "duration": 6,
    "start_time": "2023-05-22T12:57:57.026Z"
   },
   {
    "duration": 9351,
    "start_time": "2023-05-22T12:57:57.033Z"
   },
   {
    "duration": 53,
    "start_time": "2023-05-22T12:58:06.386Z"
   },
   {
    "duration": 5,
    "start_time": "2023-05-22T12:58:06.441Z"
   },
   {
    "duration": 165,
    "start_time": "2023-05-22T13:01:06.090Z"
   },
   {
    "duration": 7,
    "start_time": "2023-05-22T13:01:06.365Z"
   },
   {
    "duration": 6,
    "start_time": "2023-05-22T13:01:06.555Z"
   },
   {
    "duration": 1603,
    "start_time": "2023-05-22T13:01:11.349Z"
   },
   {
    "duration": 1035,
    "start_time": "2023-05-22T13:01:12.954Z"
   },
   {
    "duration": 120,
    "start_time": "2023-05-22T13:01:13.991Z"
   },
   {
    "duration": 126,
    "start_time": "2023-05-22T13:01:14.113Z"
   },
   {
    "duration": 70,
    "start_time": "2023-05-22T13:01:14.242Z"
   },
   {
    "duration": 3,
    "start_time": "2023-05-22T13:01:14.314Z"
   },
   {
    "duration": 100,
    "start_time": "2023-05-22T13:01:14.319Z"
   },
   {
    "duration": 3,
    "start_time": "2023-05-22T13:01:14.421Z"
   },
   {
    "duration": 33,
    "start_time": "2023-05-22T13:01:14.425Z"
   },
   {
    "duration": 7,
    "start_time": "2023-05-22T13:01:14.459Z"
   },
   {
    "duration": 23,
    "start_time": "2023-05-22T13:01:14.467Z"
   },
   {
    "duration": 6,
    "start_time": "2023-05-22T13:01:14.492Z"
   },
   {
    "duration": 9,
    "start_time": "2023-05-22T13:01:14.500Z"
   },
   {
    "duration": 2,
    "start_time": "2023-05-22T13:01:14.512Z"
   },
   {
    "duration": 24,
    "start_time": "2023-05-22T13:01:14.515Z"
   },
   {
    "duration": 5,
    "start_time": "2023-05-22T13:01:14.541Z"
   },
   {
    "duration": 11,
    "start_time": "2023-05-22T13:01:14.547Z"
   },
   {
    "duration": 3,
    "start_time": "2023-05-22T13:01:14.559Z"
   },
   {
    "duration": 36,
    "start_time": "2023-05-22T13:01:14.563Z"
   },
   {
    "duration": 9,
    "start_time": "2023-05-22T13:01:14.601Z"
   },
   {
    "duration": 11,
    "start_time": "2023-05-22T13:01:14.611Z"
   },
   {
    "duration": 3,
    "start_time": "2023-05-22T13:01:14.624Z"
   },
   {
    "duration": 16,
    "start_time": "2023-05-22T13:01:14.629Z"
   },
   {
    "duration": 9,
    "start_time": "2023-05-22T13:01:14.647Z"
   },
   {
    "duration": 43,
    "start_time": "2023-05-22T13:01:14.657Z"
   },
   {
    "duration": 11,
    "start_time": "2023-05-22T13:01:14.702Z"
   },
   {
    "duration": 39,
    "start_time": "2023-05-22T13:01:14.715Z"
   },
   {
    "duration": 2,
    "start_time": "2023-05-22T13:01:14.756Z"
   },
   {
    "duration": 31,
    "start_time": "2023-05-22T13:01:14.760Z"
   },
   {
    "duration": 6,
    "start_time": "2023-05-22T13:01:14.794Z"
   },
   {
    "duration": 34,
    "start_time": "2023-05-22T13:01:14.802Z"
   },
   {
    "duration": 5,
    "start_time": "2023-05-22T13:01:14.838Z"
   },
   {
    "duration": 8,
    "start_time": "2023-05-22T13:01:14.845Z"
   },
   {
    "duration": 3,
    "start_time": "2023-05-22T13:01:14.854Z"
   },
   {
    "duration": 14,
    "start_time": "2023-05-22T13:01:14.859Z"
   },
   {
    "duration": 2,
    "start_time": "2023-05-22T13:01:14.874Z"
   },
   {
    "duration": 85,
    "start_time": "2023-05-22T13:01:14.878Z"
   },
   {
    "duration": 2,
    "start_time": "2023-05-22T13:01:14.964Z"
   },
   {
    "duration": 38,
    "start_time": "2023-05-22T13:01:14.968Z"
   },
   {
    "duration": 416,
    "start_time": "2023-05-22T13:01:15.008Z"
   },
   {
    "duration": 1221,
    "start_time": "2023-05-22T13:01:15.428Z"
   },
   {
    "duration": 127,
    "start_time": "2023-05-22T13:01:16.651Z"
   },
   {
    "duration": 67,
    "start_time": "2023-05-22T13:01:16.780Z"
   },
   {
    "duration": 23,
    "start_time": "2023-05-22T13:01:16.849Z"
   },
   {
    "duration": 49,
    "start_time": "2023-05-22T13:01:16.873Z"
   },
   {
    "duration": 13,
    "start_time": "2023-05-22T13:01:16.923Z"
   },
   {
    "duration": 46,
    "start_time": "2023-05-22T13:01:16.938Z"
   },
   {
    "duration": 17,
    "start_time": "2023-05-22T13:01:16.985Z"
   },
   {
    "duration": 38,
    "start_time": "2023-05-22T13:01:17.004Z"
   },
   {
    "duration": 3,
    "start_time": "2023-05-22T13:01:17.043Z"
   },
   {
    "duration": 19,
    "start_time": "2023-05-22T13:01:17.047Z"
   },
   {
    "duration": 7,
    "start_time": "2023-05-22T13:01:17.067Z"
   },
   {
    "duration": 226,
    "start_time": "2023-05-22T13:01:17.075Z"
   },
   {
    "duration": 325,
    "start_time": "2023-05-22T13:01:17.303Z"
   },
   {
    "duration": 29,
    "start_time": "2023-05-22T13:01:17.629Z"
   },
   {
    "duration": 15,
    "start_time": "2023-05-22T13:01:17.659Z"
   },
   {
    "duration": 312,
    "start_time": "2023-05-22T13:01:17.676Z"
   },
   {
    "duration": 25,
    "start_time": "2023-05-22T13:01:17.994Z"
   },
   {
    "duration": 343,
    "start_time": "2023-05-22T13:01:18.021Z"
   },
   {
    "duration": 341,
    "start_time": "2023-05-22T13:01:18.366Z"
   },
   {
    "duration": 687,
    "start_time": "2023-05-22T13:01:18.708Z"
   },
   {
    "duration": 8,
    "start_time": "2023-05-22T13:01:19.396Z"
   },
   {
    "duration": 80,
    "start_time": "2023-05-22T13:01:19.405Z"
   },
   {
    "duration": 20,
    "start_time": "2023-05-22T13:01:19.487Z"
   },
   {
    "duration": 35,
    "start_time": "2023-05-22T13:01:19.508Z"
   },
   {
    "duration": 54,
    "start_time": "2023-05-22T13:01:19.545Z"
   },
   {
    "duration": 100,
    "start_time": "2023-05-22T13:01:19.603Z"
   },
   {
    "duration": 22607,
    "start_time": "2023-05-22T13:01:19.706Z"
   },
   {
    "duration": 8419,
    "start_time": "2023-05-22T13:01:42.315Z"
   },
   {
    "duration": 5,
    "start_time": "2023-05-22T13:01:50.740Z"
   },
   {
    "duration": 283069,
    "start_time": "2023-05-22T13:01:50.746Z"
   },
   {
    "duration": 2779,
    "start_time": "2023-05-22T13:06:33.816Z"
   },
   {
    "duration": 4,
    "start_time": "2023-05-22T13:06:36.597Z"
   },
   {
    "duration": 17621,
    "start_time": "2023-05-22T13:06:36.602Z"
   },
   {
    "duration": 93,
    "start_time": "2023-05-22T13:06:54.224Z"
   },
   {
    "duration": 5,
    "start_time": "2023-05-22T13:06:54.318Z"
   },
   {
    "duration": 29380,
    "start_time": "2023-05-22T13:06:54.324Z"
   },
   {
    "duration": 3112,
    "start_time": "2023-05-22T13:07:23.706Z"
   },
   {
    "duration": 4,
    "start_time": "2023-05-22T13:07:26.819Z"
   },
   {
    "duration": 8208,
    "start_time": "2023-05-22T13:12:52.411Z"
   },
   {
    "duration": 2726,
    "start_time": "2023-05-22T13:13:03.194Z"
   },
   {
    "duration": 101,
    "start_time": "2023-05-22T13:13:05.922Z"
   },
   {
    "duration": 2971,
    "start_time": "2023-05-22T13:13:06.025Z"
   },
   {
    "duration": 10,
    "start_time": "2023-05-22T13:13:10.554Z"
   },
   {
    "duration": 9,
    "start_time": "2023-05-22T13:20:01.315Z"
   },
   {
    "duration": 9,
    "start_time": "2023-05-22T13:20:54.711Z"
   },
   {
    "duration": 8,
    "start_time": "2023-05-22T13:23:47.903Z"
   },
   {
    "duration": 3666,
    "start_time": "2023-05-23T05:16:24.675Z"
   },
   {
    "duration": 1665,
    "start_time": "2023-05-23T05:16:28.343Z"
   },
   {
    "duration": 189,
    "start_time": "2023-05-23T05:16:30.009Z"
   },
   {
    "duration": 164,
    "start_time": "2023-05-23T05:16:30.199Z"
   },
   {
    "duration": 79,
    "start_time": "2023-05-23T05:16:30.365Z"
   },
   {
    "duration": 13,
    "start_time": "2023-05-23T05:16:30.446Z"
   },
   {
    "duration": 171,
    "start_time": "2023-05-23T05:16:30.463Z"
   },
   {
    "duration": 5,
    "start_time": "2023-05-23T05:16:30.644Z"
   },
   {
    "duration": 57,
    "start_time": "2023-05-23T05:16:30.653Z"
   },
   {
    "duration": 49,
    "start_time": "2023-05-23T05:16:30.711Z"
   },
   {
    "duration": 104,
    "start_time": "2023-05-23T05:16:30.762Z"
   },
   {
    "duration": 80,
    "start_time": "2023-05-23T05:16:30.868Z"
   },
   {
    "duration": 44,
    "start_time": "2023-05-23T05:16:30.950Z"
   },
   {
    "duration": 68,
    "start_time": "2023-05-23T05:16:30.997Z"
   },
   {
    "duration": 92,
    "start_time": "2023-05-23T05:16:31.067Z"
   },
   {
    "duration": 100,
    "start_time": "2023-05-23T05:16:31.161Z"
   },
   {
    "duration": 100,
    "start_time": "2023-05-23T05:16:31.263Z"
   },
   {
    "duration": 86,
    "start_time": "2023-05-23T05:16:31.365Z"
   },
   {
    "duration": 70,
    "start_time": "2023-05-23T05:16:31.452Z"
   },
   {
    "duration": 52,
    "start_time": "2023-05-23T05:16:31.526Z"
   },
   {
    "duration": 163,
    "start_time": "2023-05-23T05:16:31.580Z"
   },
   {
    "duration": 24,
    "start_time": "2023-05-23T05:16:31.744Z"
   },
   {
    "duration": 97,
    "start_time": "2023-05-23T05:16:31.770Z"
   },
   {
    "duration": 83,
    "start_time": "2023-05-23T05:16:31.868Z"
   },
   {
    "duration": 72,
    "start_time": "2023-05-23T05:16:31.952Z"
   },
   {
    "duration": 97,
    "start_time": "2023-05-23T05:16:32.029Z"
   },
   {
    "duration": 51,
    "start_time": "2023-05-23T05:16:32.131Z"
   },
   {
    "duration": 129,
    "start_time": "2023-05-23T05:16:32.184Z"
   },
   {
    "duration": 45,
    "start_time": "2023-05-23T05:16:32.315Z"
   },
   {
    "duration": 92,
    "start_time": "2023-05-23T05:16:32.362Z"
   },
   {
    "duration": 85,
    "start_time": "2023-05-23T05:16:32.456Z"
   },
   {
    "duration": 11,
    "start_time": "2023-05-23T05:16:32.544Z"
   },
   {
    "duration": 26,
    "start_time": "2023-05-23T05:16:32.557Z"
   },
   {
    "duration": 69,
    "start_time": "2023-05-23T05:16:32.594Z"
   },
   {
    "duration": 57,
    "start_time": "2023-05-23T05:16:32.665Z"
   },
   {
    "duration": 32,
    "start_time": "2023-05-23T05:16:32.727Z"
   },
   {
    "duration": 120,
    "start_time": "2023-05-23T05:16:32.761Z"
   },
   {
    "duration": 57,
    "start_time": "2023-05-23T05:16:32.883Z"
   },
   {
    "duration": 25,
    "start_time": "2023-05-23T05:16:32.941Z"
   },
   {
    "duration": 554,
    "start_time": "2023-05-23T05:16:32.968Z"
   },
   {
    "duration": 1735,
    "start_time": "2023-05-23T05:16:33.532Z"
   },
   {
    "duration": 196,
    "start_time": "2023-05-23T05:16:35.269Z"
   },
   {
    "duration": 95,
    "start_time": "2023-05-23T05:16:35.467Z"
   },
   {
    "duration": 62,
    "start_time": "2023-05-23T05:16:35.564Z"
   },
   {
    "duration": 99,
    "start_time": "2023-05-23T05:16:35.627Z"
   },
   {
    "duration": 33,
    "start_time": "2023-05-23T05:16:35.733Z"
   },
   {
    "duration": 41,
    "start_time": "2023-05-23T05:16:35.768Z"
   },
   {
    "duration": 53,
    "start_time": "2023-05-23T05:16:35.813Z"
   },
   {
    "duration": 58,
    "start_time": "2023-05-23T05:16:35.868Z"
   },
   {
    "duration": 22,
    "start_time": "2023-05-23T05:16:35.930Z"
   },
   {
    "duration": 21,
    "start_time": "2023-05-23T05:16:35.955Z"
   },
   {
    "duration": 47,
    "start_time": "2023-05-23T05:16:35.978Z"
   },
   {
    "duration": 318,
    "start_time": "2023-05-23T05:16:36.036Z"
   },
   {
    "duration": 465,
    "start_time": "2023-05-23T05:16:36.355Z"
   },
   {
    "duration": 36,
    "start_time": "2023-05-23T05:16:36.821Z"
   },
   {
    "duration": 23,
    "start_time": "2023-05-23T05:16:36.859Z"
   },
   {
    "duration": 476,
    "start_time": "2023-05-23T05:16:36.883Z"
   },
   {
    "duration": 40,
    "start_time": "2023-05-23T05:16:37.361Z"
   },
   {
    "duration": 395,
    "start_time": "2023-05-23T05:16:37.407Z"
   },
   {
    "duration": 405,
    "start_time": "2023-05-23T05:16:37.825Z"
   },
   {
    "duration": 780,
    "start_time": "2023-05-23T05:16:38.236Z"
   },
   {
    "duration": 26,
    "start_time": "2023-05-23T05:16:39.020Z"
   },
   {
    "duration": 69,
    "start_time": "2023-05-23T05:16:39.048Z"
   },
   {
    "duration": 31,
    "start_time": "2023-05-23T05:16:39.119Z"
   },
   {
    "duration": 112,
    "start_time": "2023-05-23T05:16:39.151Z"
   },
   {
    "duration": 57,
    "start_time": "2023-05-23T05:16:39.265Z"
   },
   {
    "duration": 120,
    "start_time": "2023-05-23T05:16:39.324Z"
   },
   {
    "duration": 2729433,
    "start_time": "2023-05-23T05:16:39.446Z"
   },
   {
    "duration": 170,
    "start_time": "2023-05-23T06:02:08.880Z"
   },
   {
    "duration": 9,
    "start_time": "2023-05-23T06:02:09.051Z"
   },
   {
    "duration": 0,
    "start_time": "2023-05-23T06:02:09.061Z"
   },
   {
    "duration": 0,
    "start_time": "2023-05-23T06:02:09.063Z"
   },
   {
    "duration": 0,
    "start_time": "2023-05-23T06:02:09.065Z"
   },
   {
    "duration": 0,
    "start_time": "2023-05-23T06:02:09.065Z"
   },
   {
    "duration": 0,
    "start_time": "2023-05-23T06:02:09.067Z"
   },
   {
    "duration": 0,
    "start_time": "2023-05-23T06:02:09.068Z"
   },
   {
    "duration": 0,
    "start_time": "2023-05-23T06:02:09.069Z"
   },
   {
    "duration": 0,
    "start_time": "2023-05-23T06:02:09.071Z"
   },
   {
    "duration": 0,
    "start_time": "2023-05-23T06:02:09.072Z"
   },
   {
    "duration": 0,
    "start_time": "2023-05-23T06:02:09.075Z"
   },
   {
    "duration": 11,
    "start_time": "2023-05-23T06:17:08.999Z"
   },
   {
    "duration": 2103,
    "start_time": "2023-05-23T10:18:18.568Z"
   },
   {
    "duration": 2981,
    "start_time": "2023-05-23T10:18:20.674Z"
   },
   {
    "duration": 128,
    "start_time": "2023-05-23T10:18:23.657Z"
   },
   {
    "duration": 115,
    "start_time": "2023-05-23T10:18:23.787Z"
   },
   {
    "duration": 81,
    "start_time": "2023-05-23T10:18:23.904Z"
   },
   {
    "duration": 3,
    "start_time": "2023-05-23T10:18:23.987Z"
   },
   {
    "duration": 111,
    "start_time": "2023-05-23T10:18:23.992Z"
   },
   {
    "duration": 2,
    "start_time": "2023-05-23T10:18:24.105Z"
   },
   {
    "duration": 36,
    "start_time": "2023-05-23T10:18:24.109Z"
   },
   {
    "duration": 3,
    "start_time": "2023-05-23T10:18:24.147Z"
   },
   {
    "duration": 29,
    "start_time": "2023-05-23T10:18:24.151Z"
   },
   {
    "duration": 3,
    "start_time": "2023-05-23T10:18:24.182Z"
   },
   {
    "duration": 8,
    "start_time": "2023-05-23T10:18:24.187Z"
   },
   {
    "duration": 2,
    "start_time": "2023-05-23T10:18:24.197Z"
   },
   {
    "duration": 19,
    "start_time": "2023-05-23T10:18:24.418Z"
   },
   {
    "duration": 3,
    "start_time": "2023-05-23T10:18:24.684Z"
   },
   {
    "duration": 7,
    "start_time": "2023-05-23T10:18:25.093Z"
   },
   {
    "duration": 3,
    "start_time": "2023-05-23T10:18:25.300Z"
   },
   {
    "duration": 20,
    "start_time": "2023-05-23T10:18:25.724Z"
   },
   {
    "duration": 3,
    "start_time": "2023-05-23T10:18:25.892Z"
   },
   {
    "duration": 5,
    "start_time": "2023-05-23T10:18:26.379Z"
   },
   {
    "duration": 3,
    "start_time": "2023-05-23T10:18:26.580Z"
   },
   {
    "duration": 5,
    "start_time": "2023-05-23T10:18:26.969Z"
   },
   {
    "duration": 2,
    "start_time": "2023-05-23T10:18:27.179Z"
   },
   {
    "duration": 19,
    "start_time": "2023-05-23T10:18:27.596Z"
   },
   {
    "duration": 3,
    "start_time": "2023-05-23T10:18:27.783Z"
   },
   {
    "duration": 27,
    "start_time": "2023-05-23T10:18:28.141Z"
   },
   {
    "duration": 3,
    "start_time": "2023-05-23T10:18:28.352Z"
   },
   {
    "duration": 19,
    "start_time": "2023-05-23T10:18:28.741Z"
   },
   {
    "duration": 3,
    "start_time": "2023-05-23T10:18:28.913Z"
   },
   {
    "duration": 23,
    "start_time": "2023-05-23T10:18:29.612Z"
   },
   {
    "duration": 3,
    "start_time": "2023-05-23T10:18:29.785Z"
   },
   {
    "duration": 6,
    "start_time": "2023-05-23T10:18:30.382Z"
   },
   {
    "duration": 3,
    "start_time": "2023-05-23T10:18:30.710Z"
   },
   {
    "duration": 7,
    "start_time": "2023-05-23T10:18:31.121Z"
   },
   {
    "duration": 3,
    "start_time": "2023-05-23T10:18:31.326Z"
   },
   {
    "duration": 94,
    "start_time": "2023-05-23T10:18:32.073Z"
   },
   {
    "duration": 3,
    "start_time": "2023-05-23T10:18:32.648Z"
   },
   {
    "duration": 25,
    "start_time": "2023-05-23T10:18:34.027Z"
   },
   {
    "duration": 356,
    "start_time": "2023-05-23T10:18:34.477Z"
   },
   {
    "duration": 140,
    "start_time": "2023-05-23T10:18:45.252Z"
   },
   {
    "duration": 4,
    "start_time": "2023-05-23T10:19:07.317Z"
   },
   {
    "duration": 835,
    "start_time": "2023-05-23T10:19:07.323Z"
   },
   {
    "duration": 129,
    "start_time": "2023-05-23T10:19:08.160Z"
   },
   {
    "duration": 115,
    "start_time": "2023-05-23T10:19:08.292Z"
   },
   {
    "duration": 76,
    "start_time": "2023-05-23T10:19:08.409Z"
   },
   {
    "duration": 3,
    "start_time": "2023-05-23T10:19:08.487Z"
   },
   {
    "duration": 105,
    "start_time": "2023-05-23T10:19:08.492Z"
   },
   {
    "duration": 3,
    "start_time": "2023-05-23T10:19:08.599Z"
   },
   {
    "duration": 16,
    "start_time": "2023-05-23T10:19:08.604Z"
   },
   {
    "duration": 3,
    "start_time": "2023-05-23T10:19:08.624Z"
   },
   {
    "duration": 49,
    "start_time": "2023-05-23T10:19:08.628Z"
   },
   {
    "duration": 3,
    "start_time": "2023-05-23T10:19:08.678Z"
   },
   {
    "duration": 22,
    "start_time": "2023-05-23T10:19:08.683Z"
   },
   {
    "duration": 7,
    "start_time": "2023-05-23T10:19:08.707Z"
   },
   {
    "duration": 22,
    "start_time": "2023-05-23T10:19:08.716Z"
   },
   {
    "duration": 17,
    "start_time": "2023-05-23T10:19:08.740Z"
   },
   {
    "duration": 13,
    "start_time": "2023-05-23T10:19:08.759Z"
   },
   {
    "duration": 10,
    "start_time": "2023-05-23T10:19:08.773Z"
   },
   {
    "duration": 28,
    "start_time": "2023-05-23T10:19:08.785Z"
   },
   {
    "duration": 21,
    "start_time": "2023-05-23T10:19:08.816Z"
   },
   {
    "duration": 69,
    "start_time": "2023-05-23T10:19:08.839Z"
   },
   {
    "duration": 8,
    "start_time": "2023-05-23T10:19:08.910Z"
   },
   {
    "duration": 10,
    "start_time": "2023-05-23T10:19:08.920Z"
   },
   {
    "duration": 4,
    "start_time": "2023-05-23T10:19:08.932Z"
   },
   {
    "duration": 33,
    "start_time": "2023-05-23T10:19:08.938Z"
   },
   {
    "duration": 11,
    "start_time": "2023-05-23T10:19:08.973Z"
   },
   {
    "duration": 39,
    "start_time": "2023-05-23T10:19:08.986Z"
   },
   {
    "duration": 4,
    "start_time": "2023-05-23T10:19:09.030Z"
   },
   {
    "duration": 39,
    "start_time": "2023-05-23T10:19:09.037Z"
   },
   {
    "duration": 14,
    "start_time": "2023-05-23T10:19:09.078Z"
   },
   {
    "duration": 30,
    "start_time": "2023-05-23T10:19:09.094Z"
   },
   {
    "duration": 3,
    "start_time": "2023-05-23T10:19:09.127Z"
   },
   {
    "duration": 27,
    "start_time": "2023-05-23T10:19:09.132Z"
   },
   {
    "duration": 8,
    "start_time": "2023-05-23T10:19:09.161Z"
   },
   {
    "duration": 22,
    "start_time": "2023-05-23T10:19:09.171Z"
   },
   {
    "duration": 7,
    "start_time": "2023-05-23T10:19:09.195Z"
   },
   {
    "duration": 92,
    "start_time": "2023-05-23T10:19:09.203Z"
   },
   {
    "duration": 3,
    "start_time": "2023-05-23T10:19:09.297Z"
   },
   {
    "duration": 24,
    "start_time": "2023-05-23T10:19:09.302Z"
   },
   {
    "duration": 205,
    "start_time": "2023-05-23T10:19:16.044Z"
   },
   {
    "duration": 201,
    "start_time": "2023-05-23T10:20:02.077Z"
   },
   {
    "duration": 229,
    "start_time": "2023-05-23T10:21:04.216Z"
   },
   {
    "duration": 217,
    "start_time": "2023-05-23T10:21:46.391Z"
   },
   {
    "duration": 896,
    "start_time": "2023-05-23T10:57:07.430Z"
   },
   {
    "duration": 8,
    "start_time": "2023-05-23T10:57:13.876Z"
   },
   {
    "duration": 999,
    "start_time": "2023-05-23T10:57:14.717Z"
   },
   {
    "duration": 126,
    "start_time": "2023-05-23T10:57:15.718Z"
   },
   {
    "duration": 126,
    "start_time": "2023-05-23T10:57:15.846Z"
   },
   {
    "duration": 35,
    "start_time": "2023-05-23T10:57:17.611Z"
   },
   {
    "duration": 3,
    "start_time": "2023-05-23T10:57:20.014Z"
   },
   {
    "duration": 102,
    "start_time": "2023-05-23T10:57:21.442Z"
   },
   {
    "duration": 120,
    "start_time": "2023-05-23T10:57:27.763Z"
   },
   {
    "duration": 2,
    "start_time": "2023-05-23T11:58:34.821Z"
   },
   {
    "duration": 103,
    "start_time": "2023-05-23T12:02:07.976Z"
   },
   {
    "duration": 73,
    "start_time": "2023-05-23T12:02:13.705Z"
   },
   {
    "duration": 542,
    "start_time": "2023-05-23T12:02:14.203Z"
   },
   {
    "duration": 99,
    "start_time": "2023-05-23T12:02:29.682Z"
   },
   {
    "duration": 677,
    "start_time": "2023-05-23T12:02:30.485Z"
   },
   {
    "duration": 4,
    "start_time": "2023-05-23T12:30:09.322Z"
   },
   {
    "duration": 855,
    "start_time": "2023-05-23T12:30:09.339Z"
   },
   {
    "duration": 127,
    "start_time": "2023-05-23T12:30:10.197Z"
   },
   {
    "duration": 199,
    "start_time": "2023-05-23T12:30:10.326Z"
   },
   {
    "duration": 50,
    "start_time": "2023-05-23T12:30:10.527Z"
   },
   {
    "duration": 3,
    "start_time": "2023-05-23T12:30:10.580Z"
   },
   {
    "duration": 114,
    "start_time": "2023-05-23T12:30:10.584Z"
   },
   {
    "duration": 0,
    "start_time": "2023-05-23T12:30:10.702Z"
   },
   {
    "duration": 0,
    "start_time": "2023-05-23T12:30:10.704Z"
   },
   {
    "duration": 0,
    "start_time": "2023-05-23T12:30:10.705Z"
   },
   {
    "duration": 0,
    "start_time": "2023-05-23T12:30:10.706Z"
   },
   {
    "duration": 0,
    "start_time": "2023-05-23T12:30:10.707Z"
   },
   {
    "duration": 0,
    "start_time": "2023-05-23T12:30:10.709Z"
   },
   {
    "duration": 0,
    "start_time": "2023-05-23T12:30:10.710Z"
   },
   {
    "duration": 0,
    "start_time": "2023-05-23T12:30:10.711Z"
   },
   {
    "duration": 0,
    "start_time": "2023-05-23T12:30:10.713Z"
   },
   {
    "duration": 0,
    "start_time": "2023-05-23T12:30:10.714Z"
   },
   {
    "duration": 0,
    "start_time": "2023-05-23T12:30:10.715Z"
   },
   {
    "duration": 0,
    "start_time": "2023-05-23T12:30:10.717Z"
   },
   {
    "duration": 0,
    "start_time": "2023-05-23T12:30:10.718Z"
   },
   {
    "duration": 0,
    "start_time": "2023-05-23T12:30:10.719Z"
   },
   {
    "duration": 0,
    "start_time": "2023-05-23T12:30:10.721Z"
   },
   {
    "duration": 0,
    "start_time": "2023-05-23T12:30:10.722Z"
   },
   {
    "duration": 0,
    "start_time": "2023-05-23T12:30:10.756Z"
   },
   {
    "duration": 0,
    "start_time": "2023-05-23T12:30:10.760Z"
   },
   {
    "duration": 0,
    "start_time": "2023-05-23T12:30:10.761Z"
   },
   {
    "duration": 0,
    "start_time": "2023-05-23T12:30:10.763Z"
   },
   {
    "duration": 0,
    "start_time": "2023-05-23T12:30:10.764Z"
   },
   {
    "duration": 0,
    "start_time": "2023-05-23T12:30:10.766Z"
   },
   {
    "duration": 0,
    "start_time": "2023-05-23T12:30:10.767Z"
   },
   {
    "duration": 0,
    "start_time": "2023-05-23T12:30:10.768Z"
   },
   {
    "duration": 0,
    "start_time": "2023-05-23T12:30:10.769Z"
   },
   {
    "duration": 0,
    "start_time": "2023-05-23T12:30:10.770Z"
   },
   {
    "duration": 0,
    "start_time": "2023-05-23T12:30:10.771Z"
   },
   {
    "duration": 0,
    "start_time": "2023-05-23T12:30:10.772Z"
   },
   {
    "duration": 0,
    "start_time": "2023-05-23T12:30:10.773Z"
   },
   {
    "duration": 0,
    "start_time": "2023-05-23T12:30:10.774Z"
   },
   {
    "duration": 0,
    "start_time": "2023-05-23T12:30:10.776Z"
   },
   {
    "duration": 0,
    "start_time": "2023-05-23T12:30:10.777Z"
   },
   {
    "duration": 0,
    "start_time": "2023-05-23T12:30:10.779Z"
   },
   {
    "duration": 0,
    "start_time": "2023-05-23T12:30:10.780Z"
   },
   {
    "duration": 0,
    "start_time": "2023-05-23T12:30:10.781Z"
   },
   {
    "duration": 0,
    "start_time": "2023-05-23T12:30:10.782Z"
   },
   {
    "duration": 0,
    "start_time": "2023-05-23T12:30:10.783Z"
   },
   {
    "duration": 0,
    "start_time": "2023-05-23T12:30:10.784Z"
   },
   {
    "duration": 0,
    "start_time": "2023-05-23T12:30:10.785Z"
   },
   {
    "duration": 0,
    "start_time": "2023-05-23T12:30:10.786Z"
   },
   {
    "duration": 0,
    "start_time": "2023-05-23T12:30:10.789Z"
   },
   {
    "duration": 0,
    "start_time": "2023-05-23T12:30:10.790Z"
   },
   {
    "duration": 0,
    "start_time": "2023-05-23T12:30:10.792Z"
   },
   {
    "duration": 0,
    "start_time": "2023-05-23T12:30:10.794Z"
   },
   {
    "duration": 0,
    "start_time": "2023-05-23T12:30:10.796Z"
   },
   {
    "duration": 0,
    "start_time": "2023-05-23T12:30:10.798Z"
   },
   {
    "duration": 0,
    "start_time": "2023-05-23T12:30:10.799Z"
   },
   {
    "duration": 0,
    "start_time": "2023-05-23T12:30:10.858Z"
   },
   {
    "duration": 0,
    "start_time": "2023-05-23T12:30:10.859Z"
   },
   {
    "duration": 0,
    "start_time": "2023-05-23T12:30:10.861Z"
   },
   {
    "duration": 0,
    "start_time": "2023-05-23T12:30:10.862Z"
   },
   {
    "duration": 0,
    "start_time": "2023-05-23T12:30:10.863Z"
   },
   {
    "duration": 0,
    "start_time": "2023-05-23T12:30:10.863Z"
   },
   {
    "duration": 0,
    "start_time": "2023-05-23T12:30:10.866Z"
   },
   {
    "duration": 106,
    "start_time": "2023-05-23T12:45:17.425Z"
   },
   {
    "duration": 119,
    "start_time": "2023-05-23T12:45:23.054Z"
   },
   {
    "duration": 129,
    "start_time": "2023-05-23T12:45:31.922Z"
   },
   {
    "duration": 396,
    "start_time": "2023-05-23T12:45:43.875Z"
   },
   {
    "duration": 410,
    "start_time": "2023-05-23T12:45:57.422Z"
   },
   {
    "duration": 106,
    "start_time": "2023-05-23T12:46:07.103Z"
   },
   {
    "duration": 94,
    "start_time": "2023-05-23T12:46:19.434Z"
   },
   {
    "duration": 107,
    "start_time": "2023-05-23T12:46:23.367Z"
   },
   {
    "duration": 96,
    "start_time": "2023-05-23T12:46:27.624Z"
   },
   {
    "duration": 3,
    "start_time": "2023-05-23T12:46:39.575Z"
   },
   {
    "duration": 10,
    "start_time": "2023-05-23T12:46:40.470Z"
   },
   {
    "duration": 3,
    "start_time": "2023-05-23T12:46:50.826Z"
   },
   {
    "duration": 24,
    "start_time": "2023-05-23T12:46:55.413Z"
   },
   {
    "duration": 3,
    "start_time": "2023-05-23T12:47:02.111Z"
   },
   {
    "duration": 7,
    "start_time": "2023-05-23T12:47:03.499Z"
   },
   {
    "duration": 4,
    "start_time": "2023-05-23T12:47:09.046Z"
   },
   {
    "duration": 20,
    "start_time": "2023-05-23T12:47:10.581Z"
   },
   {
    "duration": 3,
    "start_time": "2023-05-23T12:47:11.170Z"
   },
   {
    "duration": 34,
    "start_time": "2023-05-23T12:47:23.450Z"
   },
   {
    "duration": 75,
    "start_time": "2023-05-23T12:47:37.643Z"
   },
   {
    "duration": 46,
    "start_time": "2023-05-23T12:47:44.874Z"
   },
   {
    "duration": 65,
    "start_time": "2023-05-23T12:48:00.938Z"
   },
   {
    "duration": 3,
    "start_time": "2023-05-23T12:48:01.435Z"
   },
   {
    "duration": 6,
    "start_time": "2023-05-23T12:48:04.286Z"
   },
   {
    "duration": 3,
    "start_time": "2023-05-23T12:48:05.312Z"
   },
   {
    "duration": 23,
    "start_time": "2023-05-23T12:48:09.218Z"
   },
   {
    "duration": 4,
    "start_time": "2023-05-23T12:48:09.706Z"
   },
   {
    "duration": 7,
    "start_time": "2023-05-23T12:48:12.073Z"
   },
   {
    "duration": 2,
    "start_time": "2023-05-23T12:48:12.337Z"
   },
   {
    "duration": 48,
    "start_time": "2023-05-23T12:48:16.493Z"
   },
   {
    "duration": 83,
    "start_time": "2023-05-23T12:48:48.033Z"
   },
   {
    "duration": 27,
    "start_time": "2023-05-23T12:54:45.010Z"
   },
   {
    "duration": 28,
    "start_time": "2023-05-23T12:54:47.589Z"
   },
   {
    "duration": 26,
    "start_time": "2023-05-23T12:54:58.609Z"
   },
   {
    "duration": 35,
    "start_time": "2023-05-23T12:55:30.038Z"
   },
   {
    "duration": 71,
    "start_time": "2023-05-23T12:55:38.910Z"
   },
   {
    "duration": 48,
    "start_time": "2023-05-23T12:55:41.896Z"
   },
   {
    "duration": 345,
    "start_time": "2023-05-23T12:55:57.280Z"
   },
   {
    "duration": 12,
    "start_time": "2023-05-23T13:00:54.187Z"
   },
   {
    "duration": 3,
    "start_time": "2023-05-23T13:01:38.139Z"
   },
   {
    "duration": 4,
    "start_time": "2023-05-23T13:01:38.315Z"
   },
   {
    "duration": 3,
    "start_time": "2023-05-23T13:01:39.505Z"
   },
   {
    "duration": 383,
    "start_time": "2023-05-23T13:05:04.382Z"
   },
   {
    "duration": 3,
    "start_time": "2023-05-23T13:05:06.998Z"
   },
   {
    "duration": 5,
    "start_time": "2023-05-23T13:05:07.790Z"
   },
   {
    "duration": 9,
    "start_time": "2023-05-23T13:05:08.063Z"
   },
   {
    "duration": 12,
    "start_time": "2023-05-23T13:05:08.583Z"
   },
   {
    "duration": 5,
    "start_time": "2023-05-23T13:05:08.778Z"
   },
   {
    "duration": 35,
    "start_time": "2023-05-23T13:05:09.155Z"
   },
   {
    "duration": 3,
    "start_time": "2023-05-23T13:05:09.340Z"
   },
   {
    "duration": 27,
    "start_time": "2023-05-23T13:05:09.835Z"
   },
   {
    "duration": 3,
    "start_time": "2023-05-23T13:05:10.023Z"
   },
   {
    "duration": 22,
    "start_time": "2023-05-23T13:05:10.807Z"
   },
   {
    "duration": 4,
    "start_time": "2023-05-23T13:05:11.286Z"
   },
   {
    "duration": 40,
    "start_time": "2023-05-23T13:05:11.652Z"
   },
   {
    "duration": 4,
    "start_time": "2023-05-23T13:05:11.820Z"
   },
   {
    "duration": 8,
    "start_time": "2023-05-23T13:05:12.234Z"
   },
   {
    "duration": 4,
    "start_time": "2023-05-23T13:05:12.429Z"
   },
   {
    "duration": 10,
    "start_time": "2023-05-23T13:05:13.293Z"
   },
   {
    "duration": 2,
    "start_time": "2023-05-23T13:05:13.630Z"
   },
   {
    "duration": 99,
    "start_time": "2023-05-23T13:05:16.152Z"
   },
   {
    "duration": 3,
    "start_time": "2023-05-23T13:05:16.894Z"
   },
   {
    "duration": 17,
    "start_time": "2023-05-23T13:05:19.737Z"
   },
   {
    "duration": 3,
    "start_time": "2023-05-23T13:05:20.284Z"
   },
   {
    "duration": 3,
    "start_time": "2023-05-23T13:05:20.484Z"
   },
   {
    "duration": 1560,
    "start_time": "2023-05-23T13:05:21.884Z"
   },
   {
    "duration": 199,
    "start_time": "2023-05-23T13:05:23.446Z"
   },
   {
    "duration": 84,
    "start_time": "2023-05-23T13:05:24.056Z"
   },
   {
    "duration": 15,
    "start_time": "2023-05-23T13:05:25.328Z"
   },
   {
    "duration": 37,
    "start_time": "2023-05-23T13:05:26.000Z"
   },
   {
    "duration": 16,
    "start_time": "2023-05-23T13:05:29.510Z"
   },
   {
    "duration": 78,
    "start_time": "2023-05-23T13:05:29.658Z"
   },
   {
    "duration": 25,
    "start_time": "2023-05-23T13:05:29.974Z"
   },
   {
    "duration": 43,
    "start_time": "2023-05-23T13:05:30.122Z"
   },
   {
    "duration": 3,
    "start_time": "2023-05-23T13:05:30.585Z"
   },
   {
    "duration": 26,
    "start_time": "2023-05-23T13:05:32.166Z"
   },
   {
    "duration": 5,
    "start_time": "2023-05-23T13:05:32.881Z"
   },
   {
    "duration": 287,
    "start_time": "2023-05-23T13:05:35.740Z"
   },
   {
    "duration": 570,
    "start_time": "2023-05-23T13:05:38.353Z"
   },
   {
    "duration": 61,
    "start_time": "2023-05-23T13:05:38.926Z"
   },
   {
    "duration": 22,
    "start_time": "2023-05-23T13:05:39.879Z"
   },
   {
    "duration": 391,
    "start_time": "2023-05-23T13:05:40.769Z"
   },
   {
    "duration": 34,
    "start_time": "2023-05-23T13:05:43.465Z"
   },
   {
    "duration": 281,
    "start_time": "2023-05-23T13:05:43.633Z"
   },
   {
    "duration": 423,
    "start_time": "2023-05-23T13:05:43.946Z"
   },
   {
    "duration": 1094,
    "start_time": "2023-05-23T13:05:44.371Z"
   },
   {
    "duration": 11,
    "start_time": "2023-05-23T13:07:11.116Z"
   },
   {
    "duration": 10,
    "start_time": "2023-05-23T13:07:13.945Z"
   },
   {
    "duration": 79,
    "start_time": "2023-05-23T13:07:15.107Z"
   },
   {
    "duration": 74,
    "start_time": "2023-05-23T13:07:18.018Z"
   },
   {
    "duration": 717,
    "start_time": "2023-05-23T13:08:53.450Z"
   },
   {
    "duration": 674,
    "start_time": "2023-05-23T13:09:00.283Z"
   },
   {
    "duration": 21,
    "start_time": "2023-05-23T13:09:04.797Z"
   },
   {
    "duration": 36,
    "start_time": "2023-05-23T13:09:07.526Z"
   },
   {
    "duration": 21,
    "start_time": "2023-05-23T13:09:09.979Z"
   },
   {
    "duration": 55,
    "start_time": "2023-05-23T13:09:45.142Z"
   },
   {
    "duration": 78,
    "start_time": "2023-05-23T13:10:05.082Z"
   },
   {
    "duration": 93,
    "start_time": "2023-05-23T13:10:09.337Z"
   },
   {
    "duration": 32,
    "start_time": "2023-05-23T13:10:11.337Z"
   },
   {
    "duration": 19,
    "start_time": "2023-05-23T13:10:16.615Z"
   },
   {
    "duration": 16,
    "start_time": "2023-05-23T13:10:20.494Z"
   },
   {
    "duration": 10,
    "start_time": "2023-05-23T13:10:25.637Z"
   },
   {
    "duration": 22,
    "start_time": "2023-05-23T13:10:32.366Z"
   },
   {
    "duration": 85,
    "start_time": "2023-05-23T13:10:36.621Z"
   },
   {
    "duration": 79,
    "start_time": "2023-05-23T13:11:11.808Z"
   },
   {
    "duration": 140,
    "start_time": "2023-05-23T13:11:13.126Z"
   },
   {
    "duration": 4,
    "start_time": "2023-05-23T13:11:32.679Z"
   },
   {
    "duration": 1741,
    "start_time": "2023-05-23T13:11:32.685Z"
   },
   {
    "duration": 139,
    "start_time": "2023-05-23T13:11:34.428Z"
   },
   {
    "duration": 110,
    "start_time": "2023-05-23T13:11:34.573Z"
   },
   {
    "duration": 37,
    "start_time": "2023-05-23T13:11:34.689Z"
   },
   {
    "duration": 3,
    "start_time": "2023-05-23T13:11:34.728Z"
   },
   {
    "duration": 108,
    "start_time": "2023-05-23T13:11:34.732Z"
   },
   {
    "duration": 3,
    "start_time": "2023-05-23T13:11:34.841Z"
   },
   {
    "duration": 35,
    "start_time": "2023-05-23T13:11:34.846Z"
   },
   {
    "duration": 4,
    "start_time": "2023-05-23T13:11:34.885Z"
   },
   {
    "duration": 60,
    "start_time": "2023-05-23T13:11:34.891Z"
   },
   {
    "duration": 19,
    "start_time": "2023-05-23T13:11:34.953Z"
   },
   {
    "duration": 14,
    "start_time": "2023-05-23T13:11:34.974Z"
   },
   {
    "duration": 22,
    "start_time": "2023-05-23T13:11:34.992Z"
   },
   {
    "duration": 25,
    "start_time": "2023-05-23T13:11:35.015Z"
   },
   {
    "duration": 11,
    "start_time": "2023-05-23T13:11:35.042Z"
   },
   {
    "duration": 31,
    "start_time": "2023-05-23T13:11:35.055Z"
   },
   {
    "duration": 3,
    "start_time": "2023-05-23T13:11:35.088Z"
   },
   {
    "duration": 344,
    "start_time": "2023-05-23T13:11:35.093Z"
   },
   {
    "duration": 3,
    "start_time": "2023-05-23T13:11:35.439Z"
   },
   {
    "duration": 154,
    "start_time": "2023-05-23T13:11:35.444Z"
   },
   {
    "duration": 5,
    "start_time": "2023-05-23T13:11:35.600Z"
   },
   {
    "duration": 17,
    "start_time": "2023-05-23T13:11:35.606Z"
   },
   {
    "duration": 3,
    "start_time": "2023-05-23T13:11:35.626Z"
   },
   {
    "duration": 25,
    "start_time": "2023-05-23T13:11:35.630Z"
   },
   {
    "duration": 10,
    "start_time": "2023-05-23T13:11:35.671Z"
   },
   {
    "duration": 33,
    "start_time": "2023-05-23T13:11:35.682Z"
   },
   {
    "duration": 3,
    "start_time": "2023-05-23T13:11:35.717Z"
   },
   {
    "duration": 20,
    "start_time": "2023-05-23T13:11:35.722Z"
   },
   {
    "duration": 19,
    "start_time": "2023-05-23T13:11:35.744Z"
   },
   {
    "duration": 46,
    "start_time": "2023-05-23T13:11:35.765Z"
   },
   {
    "duration": 14,
    "start_time": "2023-05-23T13:11:35.813Z"
   },
   {
    "duration": 8,
    "start_time": "2023-05-23T13:11:35.829Z"
   },
   {
    "duration": 29,
    "start_time": "2023-05-23T13:11:35.839Z"
   },
   {
    "duration": 19,
    "start_time": "2023-05-23T13:11:35.870Z"
   },
   {
    "duration": 8,
    "start_time": "2023-05-23T13:11:35.891Z"
   },
   {
    "duration": 115,
    "start_time": "2023-05-23T13:11:35.901Z"
   },
   {
    "duration": 3,
    "start_time": "2023-05-23T13:11:36.018Z"
   },
   {
    "duration": 35,
    "start_time": "2023-05-23T13:11:36.023Z"
   },
   {
    "duration": 26,
    "start_time": "2023-05-23T13:11:36.063Z"
   },
   {
    "duration": 6,
    "start_time": "2023-05-23T13:11:36.094Z"
   },
   {
    "duration": 1614,
    "start_time": "2023-05-23T13:11:36.101Z"
   },
   {
    "duration": 195,
    "start_time": "2023-05-23T13:11:37.718Z"
   },
   {
    "duration": 90,
    "start_time": "2023-05-23T13:11:37.915Z"
   },
   {
    "duration": 41,
    "start_time": "2023-05-23T13:11:38.007Z"
   },
   {
    "duration": 58,
    "start_time": "2023-05-23T13:11:38.050Z"
   },
   {
    "duration": 16,
    "start_time": "2023-05-23T13:11:38.109Z"
   },
   {
    "duration": 62,
    "start_time": "2023-05-23T13:11:38.128Z"
   },
   {
    "duration": 14,
    "start_time": "2023-05-23T13:11:38.192Z"
   },
   {
    "duration": 52,
    "start_time": "2023-05-23T13:11:38.208Z"
   },
   {
    "duration": 6,
    "start_time": "2023-05-23T13:11:38.273Z"
   },
   {
    "duration": 29,
    "start_time": "2023-05-23T13:11:38.282Z"
   },
   {
    "duration": 3,
    "start_time": "2023-05-23T13:11:38.313Z"
   },
   {
    "duration": 311,
    "start_time": "2023-05-23T13:11:38.318Z"
   },
   {
    "duration": 559,
    "start_time": "2023-05-23T13:11:38.631Z"
   },
   {
    "duration": 53,
    "start_time": "2023-05-23T13:11:39.192Z"
   },
   {
    "duration": 30,
    "start_time": "2023-05-23T13:11:39.248Z"
   },
   {
    "duration": 440,
    "start_time": "2023-05-23T13:11:39.280Z"
   },
   {
    "duration": 43,
    "start_time": "2023-05-23T13:11:39.722Z"
   },
   {
    "duration": 293,
    "start_time": "2023-05-23T13:11:39.773Z"
   },
   {
    "duration": 419,
    "start_time": "2023-05-23T13:11:40.072Z"
   },
   {
    "duration": 3,
    "start_time": "2023-05-23T13:11:40.493Z"
   },
   {
    "duration": 37,
    "start_time": "2023-05-23T13:11:40.498Z"
   },
   {
    "duration": 16,
    "start_time": "2023-05-23T13:11:40.537Z"
   },
   {
    "duration": 125,
    "start_time": "2023-05-23T13:11:40.555Z"
   },
   {
    "duration": 937,
    "start_time": "2023-05-23T13:11:40.683Z"
   },
   {
    "duration": 84,
    "start_time": "2023-05-23T13:11:41.622Z"
   },
   {
    "duration": 4,
    "start_time": "2023-05-23T13:23:07.398Z"
   },
   {
    "duration": 111,
    "start_time": "2023-05-23T13:25:57.924Z"
   },
   {
    "duration": 5,
    "start_time": "2023-05-23T13:26:08.833Z"
   },
   {
    "duration": 313121,
    "start_time": "2023-05-23T13:26:14.305Z"
   },
   {
    "duration": 4,
    "start_time": "2023-05-23T13:31:50.439Z"
   },
   {
    "duration": 75,
    "start_time": "2023-05-23T13:31:56.346Z"
   },
   {
    "duration": 30,
    "start_time": "2023-05-23T13:33:21.882Z"
   },
   {
    "duration": 26,
    "start_time": "2023-05-23T13:33:26.803Z"
   },
   {
    "duration": 20892,
    "start_time": "2023-05-23T13:33:31.683Z"
   },
   {
    "duration": 1098350,
    "start_time": "2023-05-23T13:33:53.895Z"
   },
   {
    "duration": 4196354,
    "start_time": "2023-05-23T13:52:50.381Z"
   },
   {
    "duration": 277,
    "start_time": "2023-05-23T15:45:05.505Z"
   },
   {
    "duration": 5,
    "start_time": "2023-05-23T15:45:10.584Z"
   },
   {
    "duration": 4,
    "start_time": "2023-05-23T15:45:16.903Z"
   },
   {
    "duration": 4,
    "start_time": "2023-05-23T15:46:37.645Z"
   },
   {
    "duration": 23,
    "start_time": "2023-05-23T15:49:42.671Z"
   },
   {
    "duration": 2905,
    "start_time": "2023-05-23T15:49:48.153Z"
   },
   {
    "duration": 311,
    "start_time": "2023-05-23T15:50:05.753Z"
   },
   {
    "duration": 4,
    "start_time": "2023-05-23T15:50:15.345Z"
   },
   {
    "duration": 452145,
    "start_time": "2023-05-23T15:52:19.759Z"
   },
   {
    "duration": 33253,
    "start_time": "2023-05-23T16:01:02.466Z"
   },
   {
    "duration": 147,
    "start_time": "2023-05-23T16:01:35.721Z"
   },
   {
    "duration": 4,
    "start_time": "2023-05-23T16:01:35.870Z"
   },
   {
    "duration": 17647,
    "start_time": "2023-05-23T16:03:19.850Z"
   },
   {
    "duration": 28215,
    "start_time": "2023-05-23T16:03:51.205Z"
   },
   {
    "duration": 4705,
    "start_time": "2023-05-23T16:04:24.349Z"
   },
   {
    "duration": 6953,
    "start_time": "2023-05-23T16:04:41.995Z"
   },
   {
    "duration": 2712,
    "start_time": "2023-05-23T16:05:06.858Z"
   },
   {
    "duration": 2396,
    "start_time": "2023-05-23T16:05:14.543Z"
   },
   {
    "duration": 2865,
    "start_time": "2023-05-23T16:05:23.974Z"
   },
   {
    "duration": 82492,
    "start_time": "2023-05-23T16:05:47.752Z"
   },
   {
    "duration": 2669,
    "start_time": "2023-05-23T16:07:39.395Z"
   },
   {
    "duration": 2646,
    "start_time": "2023-05-23T16:07:48.873Z"
   },
   {
    "duration": 22,
    "start_time": "2023-05-23T16:07:59.658Z"
   },
   {
    "duration": 5,
    "start_time": "2023-05-23T16:08:00.988Z"
   },
   {
    "duration": 223317,
    "start_time": "2023-05-23T16:08:57.053Z"
   },
   {
    "duration": 285,
    "start_time": "2023-05-23T16:16:07.604Z"
   },
   {
    "duration": 4,
    "start_time": "2023-05-23T16:16:12.764Z"
   },
   {
    "duration": 199,
    "start_time": "2023-05-23T16:16:35.359Z"
   },
   {
    "duration": 5,
    "start_time": "2023-05-23T16:16:36.192Z"
   },
   {
    "duration": 25,
    "start_time": "2023-05-23T16:17:08.846Z"
   },
   {
    "duration": 5,
    "start_time": "2023-05-23T16:17:09.171Z"
   },
   {
    "duration": 12022,
    "start_time": "2023-05-23T16:17:36.711Z"
   },
   {
    "duration": 316,
    "start_time": "2023-05-23T16:17:48.735Z"
   },
   {
    "duration": 5,
    "start_time": "2023-05-23T16:17:53.762Z"
   },
   {
    "duration": 12,
    "start_time": "2023-05-23T16:24:20.554Z"
   },
   {
    "duration": 10,
    "start_time": "2023-05-23T16:24:25.083Z"
   },
   {
    "duration": 20,
    "start_time": "2023-05-23T16:34:52.266Z"
   },
   {
    "duration": 21,
    "start_time": "2023-05-23T16:34:54.679Z"
   },
   {
    "duration": 20,
    "start_time": "2023-05-23T16:34:56.803Z"
   },
   {
    "duration": 5,
    "start_time": "2023-05-23T16:35:12.886Z"
   },
   {
    "duration": 5,
    "start_time": "2023-05-23T16:35:22.162Z"
   },
   {
    "duration": 6,
    "start_time": "2023-05-23T16:35:24.411Z"
   },
   {
    "duration": 6,
    "start_time": "2023-05-23T16:40:35.087Z"
   },
   {
    "duration": 2026,
    "start_time": "2023-05-24T07:15:46.196Z"
   },
   {
    "duration": 1354,
    "start_time": "2023-05-24T07:15:48.224Z"
   },
   {
    "duration": 489,
    "start_time": "2023-05-24T07:15:49.580Z"
   },
   {
    "duration": 285,
    "start_time": "2023-05-24T07:15:50.071Z"
   },
   {
    "duration": 131,
    "start_time": "2023-05-24T07:15:50.358Z"
   },
   {
    "duration": 5,
    "start_time": "2023-05-24T07:15:50.531Z"
   },
   {
    "duration": 315,
    "start_time": "2023-05-24T07:15:50.537Z"
   },
   {
    "duration": 8,
    "start_time": "2023-05-24T07:15:50.854Z"
   },
   {
    "duration": 135,
    "start_time": "2023-05-24T07:15:50.870Z"
   },
   {
    "duration": 96,
    "start_time": "2023-05-24T07:15:51.007Z"
   },
   {
    "duration": 200,
    "start_time": "2023-05-24T07:15:51.105Z"
   },
   {
    "duration": 3,
    "start_time": "2023-05-24T07:15:51.307Z"
   },
   {
    "duration": 68,
    "start_time": "2023-05-24T07:15:51.311Z"
   },
   {
    "duration": 25,
    "start_time": "2023-05-24T07:15:51.384Z"
   },
   {
    "duration": 82,
    "start_time": "2023-05-24T07:15:51.411Z"
   },
   {
    "duration": 26,
    "start_time": "2023-05-24T07:15:51.495Z"
   },
   {
    "duration": 75,
    "start_time": "2023-05-24T07:15:51.523Z"
   },
   {
    "duration": 13,
    "start_time": "2023-05-24T07:15:51.601Z"
   },
   {
    "duration": 577,
    "start_time": "2023-05-24T07:15:51.616Z"
   },
   {
    "duration": 3,
    "start_time": "2023-05-24T07:15:52.195Z"
   },
   {
    "duration": 86,
    "start_time": "2023-05-24T07:15:52.202Z"
   },
   {
    "duration": 26,
    "start_time": "2023-05-24T07:15:52.290Z"
   },
   {
    "duration": 86,
    "start_time": "2023-05-24T07:15:52.318Z"
   },
   {
    "duration": 22,
    "start_time": "2023-05-24T07:15:52.406Z"
   },
   {
    "duration": 107,
    "start_time": "2023-05-24T07:15:52.441Z"
   },
   {
    "duration": 56,
    "start_time": "2023-05-24T07:15:52.549Z"
   },
   {
    "duration": 101,
    "start_time": "2023-05-24T07:15:52.606Z"
   },
   {
    "duration": 7,
    "start_time": "2023-05-24T07:15:52.709Z"
   },
   {
    "duration": 97,
    "start_time": "2023-05-24T07:15:52.717Z"
   },
   {
    "duration": 65,
    "start_time": "2023-05-24T07:15:52.816Z"
   },
   {
    "duration": 53,
    "start_time": "2023-05-24T07:15:52.883Z"
   },
   {
    "duration": 33,
    "start_time": "2023-05-24T07:15:52.942Z"
   },
   {
    "duration": 17,
    "start_time": "2023-05-24T07:15:52.978Z"
   },
   {
    "duration": 43,
    "start_time": "2023-05-24T07:15:52.997Z"
   },
   {
    "duration": 56,
    "start_time": "2023-05-24T07:15:53.049Z"
   },
   {
    "duration": 8,
    "start_time": "2023-05-24T07:15:53.106Z"
   },
   {
    "duration": 155,
    "start_time": "2023-05-24T07:15:53.116Z"
   },
   {
    "duration": 2,
    "start_time": "2023-05-24T07:15:53.276Z"
   },
   {
    "duration": 82,
    "start_time": "2023-05-24T07:15:53.281Z"
   },
   {
    "duration": 32,
    "start_time": "2023-05-24T07:15:53.365Z"
   },
   {
    "duration": 9,
    "start_time": "2023-05-24T07:15:53.405Z"
   },
   {
    "duration": 2428,
    "start_time": "2023-05-24T07:15:53.416Z"
   },
   {
    "duration": 200,
    "start_time": "2023-05-24T07:15:55.845Z"
   },
   {
    "duration": 107,
    "start_time": "2023-05-24T07:15:56.050Z"
   },
   {
    "duration": 82,
    "start_time": "2023-05-24T07:15:56.158Z"
   },
   {
    "duration": 105,
    "start_time": "2023-05-24T07:15:56.244Z"
   },
   {
    "duration": 29,
    "start_time": "2023-05-24T07:15:56.357Z"
   },
   {
    "duration": 62,
    "start_time": "2023-05-24T07:15:56.388Z"
   },
   {
    "duration": 21,
    "start_time": "2023-05-24T07:15:56.467Z"
   },
   {
    "duration": 63,
    "start_time": "2023-05-24T07:15:56.489Z"
   },
   {
    "duration": 26,
    "start_time": "2023-05-24T07:15:56.559Z"
   },
   {
    "duration": 20,
    "start_time": "2023-05-24T07:15:56.587Z"
   },
   {
    "duration": 7,
    "start_time": "2023-05-24T07:15:56.608Z"
   },
   {
    "duration": 295,
    "start_time": "2023-05-24T07:15:56.617Z"
   },
   {
    "duration": 481,
    "start_time": "2023-05-24T07:15:56.914Z"
   },
   {
    "duration": 66,
    "start_time": "2023-05-24T07:15:57.397Z"
   },
   {
    "duration": 34,
    "start_time": "2023-05-24T07:15:57.465Z"
   },
   {
    "duration": 442,
    "start_time": "2023-05-24T07:15:57.501Z"
   },
   {
    "duration": 33,
    "start_time": "2023-05-24T07:15:57.951Z"
   },
   {
    "duration": 424,
    "start_time": "2023-05-24T07:15:57.986Z"
   },
   {
    "duration": 461,
    "start_time": "2023-05-24T07:15:58.412Z"
   },
   {
    "duration": 3,
    "start_time": "2023-05-24T07:15:58.875Z"
   },
   {
    "duration": 39,
    "start_time": "2023-05-24T07:15:58.883Z"
   },
   {
    "duration": 17,
    "start_time": "2023-05-24T07:15:58.923Z"
   },
   {
    "duration": 177,
    "start_time": "2023-05-24T07:15:58.942Z"
   },
   {
    "duration": 990,
    "start_time": "2023-05-24T07:15:59.121Z"
   },
   {
    "duration": 72,
    "start_time": "2023-05-24T07:16:00.113Z"
   },
   {
    "duration": 16,
    "start_time": "2023-05-24T07:16:00.186Z"
   },
   {
    "duration": 96,
    "start_time": "2023-05-24T07:16:00.204Z"
   },
   {
    "duration": 89,
    "start_time": "2023-05-24T07:16:00.302Z"
   },
   {
    "duration": 93,
    "start_time": "2023-05-24T07:16:00.393Z"
   },
   {
    "duration": 571861,
    "start_time": "2023-05-24T07:16:00.488Z"
   },
   {
    "duration": 16,
    "start_time": "2023-05-24T07:25:32.359Z"
   },
   {
    "duration": 0,
    "start_time": "2023-05-24T07:25:32.383Z"
   },
   {
    "duration": 0,
    "start_time": "2023-05-24T07:25:32.386Z"
   },
   {
    "duration": 0,
    "start_time": "2023-05-24T07:25:32.387Z"
   },
   {
    "duration": 0,
    "start_time": "2023-05-24T07:25:32.388Z"
   },
   {
    "duration": 0,
    "start_time": "2023-05-24T07:25:32.390Z"
   },
   {
    "duration": 0,
    "start_time": "2023-05-24T07:25:32.390Z"
   },
   {
    "duration": 0,
    "start_time": "2023-05-24T07:25:32.391Z"
   },
   {
    "duration": 0,
    "start_time": "2023-05-24T07:25:32.392Z"
   },
   {
    "duration": 0,
    "start_time": "2023-05-24T07:25:32.394Z"
   },
   {
    "duration": 0,
    "start_time": "2023-05-24T07:25:32.395Z"
   },
   {
    "duration": 0,
    "start_time": "2023-05-24T07:25:32.396Z"
   },
   {
    "duration": 0,
    "start_time": "2023-05-24T07:25:32.397Z"
   },
   {
    "duration": 0,
    "start_time": "2023-05-24T07:25:32.398Z"
   },
   {
    "duration": 0,
    "start_time": "2023-05-24T07:25:32.399Z"
   },
   {
    "duration": 0,
    "start_time": "2023-05-24T07:25:32.400Z"
   },
   {
    "duration": 0,
    "start_time": "2023-05-24T07:25:32.401Z"
   },
   {
    "duration": 0,
    "start_time": "2023-05-24T07:25:32.402Z"
   },
   {
    "duration": 0,
    "start_time": "2023-05-24T07:25:32.403Z"
   },
   {
    "duration": 1730,
    "start_time": "2023-05-24T07:46:14.192Z"
   },
   {
    "duration": 2861,
    "start_time": "2023-05-24T07:46:15.924Z"
   },
   {
    "duration": 121,
    "start_time": "2023-05-24T07:46:18.786Z"
   },
   {
    "duration": 111,
    "start_time": "2023-05-24T07:46:18.909Z"
   },
   {
    "duration": 71,
    "start_time": "2023-05-24T07:46:19.021Z"
   },
   {
    "duration": 3,
    "start_time": "2023-05-24T07:46:19.093Z"
   },
   {
    "duration": 96,
    "start_time": "2023-05-24T07:46:19.097Z"
   },
   {
    "duration": 2,
    "start_time": "2023-05-24T07:46:19.195Z"
   },
   {
    "duration": 14,
    "start_time": "2023-05-24T07:46:19.199Z"
   },
   {
    "duration": 3,
    "start_time": "2023-05-24T07:46:19.215Z"
   },
   {
    "duration": 59,
    "start_time": "2023-05-24T07:46:19.219Z"
   },
   {
    "duration": 3,
    "start_time": "2023-05-24T07:46:19.280Z"
   },
   {
    "duration": 17,
    "start_time": "2023-05-24T07:46:19.284Z"
   },
   {
    "duration": 5,
    "start_time": "2023-05-24T07:46:19.302Z"
   },
   {
    "duration": 25,
    "start_time": "2023-05-24T07:46:19.309Z"
   },
   {
    "duration": 5,
    "start_time": "2023-05-24T07:46:19.336Z"
   },
   {
    "duration": 10,
    "start_time": "2023-05-24T07:46:19.343Z"
   },
   {
    "duration": 3,
    "start_time": "2023-05-24T07:46:19.354Z"
   },
   {
    "duration": 325,
    "start_time": "2023-05-24T07:46:19.359Z"
   },
   {
    "duration": 2,
    "start_time": "2023-05-24T07:46:19.686Z"
   },
   {
    "duration": 7,
    "start_time": "2023-05-24T07:46:19.690Z"
   },
   {
    "duration": 3,
    "start_time": "2023-05-24T07:46:19.698Z"
   },
   {
    "duration": 6,
    "start_time": "2023-05-24T07:46:19.703Z"
   },
   {
    "duration": 2,
    "start_time": "2023-05-24T07:46:19.711Z"
   },
   {
    "duration": 26,
    "start_time": "2023-05-24T07:46:19.714Z"
   },
   {
    "duration": 6,
    "start_time": "2023-05-24T07:46:19.741Z"
   },
   {
    "duration": 21,
    "start_time": "2023-05-24T07:46:19.779Z"
   },
   {
    "duration": 2,
    "start_time": "2023-05-24T07:46:19.804Z"
   },
   {
    "duration": 19,
    "start_time": "2023-05-24T07:46:19.808Z"
   },
   {
    "duration": 3,
    "start_time": "2023-05-24T07:46:19.829Z"
   },
   {
    "duration": 45,
    "start_time": "2023-05-24T07:46:19.833Z"
   },
   {
    "duration": 3,
    "start_time": "2023-05-24T07:46:19.879Z"
   },
   {
    "duration": 7,
    "start_time": "2023-05-24T07:46:19.884Z"
   },
   {
    "duration": 2,
    "start_time": "2023-05-24T07:46:19.893Z"
   },
   {
    "duration": 14,
    "start_time": "2023-05-24T07:46:19.896Z"
   },
   {
    "duration": 30,
    "start_time": "2023-05-24T07:46:19.911Z"
   },
   {
    "duration": 77,
    "start_time": "2023-05-24T07:46:19.943Z"
   },
   {
    "duration": 2,
    "start_time": "2023-05-24T07:46:20.022Z"
   },
   {
    "duration": 44,
    "start_time": "2023-05-24T07:46:20.026Z"
   },
   {
    "duration": 4,
    "start_time": "2023-05-24T07:46:20.071Z"
   },
   {
    "duration": 6,
    "start_time": "2023-05-24T07:46:20.077Z"
   },
   {
    "duration": 1254,
    "start_time": "2023-05-24T07:46:20.085Z"
   },
   {
    "duration": 137,
    "start_time": "2023-05-24T07:46:21.341Z"
   },
   {
    "duration": 68,
    "start_time": "2023-05-24T07:46:21.479Z"
   },
   {
    "duration": 32,
    "start_time": "2023-05-24T07:46:21.549Z"
   },
   {
    "duration": 38,
    "start_time": "2023-05-24T07:46:21.582Z"
   },
   {
    "duration": 15,
    "start_time": "2023-05-24T07:46:21.622Z"
   },
   {
    "duration": 63,
    "start_time": "2023-05-24T07:46:21.638Z"
   },
   {
    "duration": 14,
    "start_time": "2023-05-24T07:46:21.703Z"
   },
   {
    "duration": 47,
    "start_time": "2023-05-24T07:46:21.718Z"
   },
   {
    "duration": 11,
    "start_time": "2023-05-24T07:46:21.767Z"
   },
   {
    "duration": 30,
    "start_time": "2023-05-24T07:46:21.780Z"
   },
   {
    "duration": 2,
    "start_time": "2023-05-24T07:46:21.812Z"
   },
   {
    "duration": 238,
    "start_time": "2023-05-24T07:46:21.816Z"
   },
   {
    "duration": 333,
    "start_time": "2023-05-24T07:46:22.055Z"
   },
   {
    "duration": 33,
    "start_time": "2023-05-24T07:46:22.389Z"
   },
   {
    "duration": 17,
    "start_time": "2023-05-24T07:46:22.423Z"
   },
   {
    "duration": 304,
    "start_time": "2023-05-24T07:46:22.442Z"
   },
   {
    "duration": 35,
    "start_time": "2023-05-24T07:46:22.748Z"
   },
   {
    "duration": 311,
    "start_time": "2023-05-24T07:46:22.784Z"
   },
   {
    "duration": 312,
    "start_time": "2023-05-24T07:46:23.097Z"
   },
   {
    "duration": 2,
    "start_time": "2023-05-24T07:46:23.411Z"
   },
   {
    "duration": 17,
    "start_time": "2023-05-24T07:46:23.414Z"
   },
   {
    "duration": 2,
    "start_time": "2023-05-24T07:46:23.433Z"
   },
   {
    "duration": 96,
    "start_time": "2023-05-24T07:46:23.436Z"
   },
   {
    "duration": 731,
    "start_time": "2023-05-24T07:46:23.534Z"
   },
   {
    "duration": 65,
    "start_time": "2023-05-24T07:46:24.267Z"
   },
   {
    "duration": 2,
    "start_time": "2023-05-24T07:46:24.334Z"
   },
   {
    "duration": 4,
    "start_time": "2023-05-24T07:46:24.338Z"
   },
   {
    "duration": 4,
    "start_time": "2023-05-24T07:46:24.343Z"
   },
   {
    "duration": 4,
    "start_time": "2023-05-24T07:46:24.348Z"
   },
   {
    "duration": 17498,
    "start_time": "2023-05-24T07:46:24.353Z"
   },
   {
    "duration": 1400,
    "start_time": "2023-05-24T07:48:17.317Z"
   },
   {
    "duration": 944,
    "start_time": "2023-05-24T07:48:18.719Z"
   },
   {
    "duration": 129,
    "start_time": "2023-05-24T07:48:19.665Z"
   },
   {
    "duration": 107,
    "start_time": "2023-05-24T07:48:19.796Z"
   },
   {
    "duration": 81,
    "start_time": "2023-05-24T07:48:19.905Z"
   },
   {
    "duration": 2,
    "start_time": "2023-05-24T07:48:19.988Z"
   },
   {
    "duration": 120,
    "start_time": "2023-05-24T07:48:19.992Z"
   },
   {
    "duration": 2,
    "start_time": "2023-05-24T07:48:20.114Z"
   },
   {
    "duration": 16,
    "start_time": "2023-05-24T07:48:20.118Z"
   },
   {
    "duration": 2,
    "start_time": "2023-05-24T07:48:20.136Z"
   },
   {
    "duration": 59,
    "start_time": "2023-05-24T07:48:20.140Z"
   },
   {
    "duration": 8,
    "start_time": "2023-05-24T07:48:20.200Z"
   },
   {
    "duration": 8,
    "start_time": "2023-05-24T07:48:20.209Z"
   },
   {
    "duration": 6,
    "start_time": "2023-05-24T07:48:20.222Z"
   },
   {
    "duration": 22,
    "start_time": "2023-05-24T07:48:20.230Z"
   },
   {
    "duration": 5,
    "start_time": "2023-05-24T07:48:20.254Z"
   },
   {
    "duration": 27,
    "start_time": "2023-05-24T07:48:20.261Z"
   },
   {
    "duration": 3,
    "start_time": "2023-05-24T07:48:20.289Z"
   },
   {
    "duration": 376,
    "start_time": "2023-05-24T07:48:20.294Z"
   },
   {
    "duration": 2,
    "start_time": "2023-05-24T07:48:20.677Z"
   },
   {
    "duration": 15,
    "start_time": "2023-05-24T07:48:20.681Z"
   },
   {
    "duration": 4,
    "start_time": "2023-05-24T07:48:20.698Z"
   },
   {
    "duration": 24,
    "start_time": "2023-05-24T07:48:20.703Z"
   },
   {
    "duration": 21,
    "start_time": "2023-05-24T07:48:20.729Z"
   },
   {
    "duration": 63,
    "start_time": "2023-05-24T07:48:20.752Z"
   },
   {
    "duration": 82,
    "start_time": "2023-05-24T07:48:20.817Z"
   },
   {
    "duration": 29,
    "start_time": "2023-05-24T07:48:20.901Z"
   },
   {
    "duration": 2,
    "start_time": "2023-05-24T07:48:20.932Z"
   },
   {
    "duration": 22,
    "start_time": "2023-05-24T07:48:20.935Z"
   },
   {
    "duration": 4,
    "start_time": "2023-05-24T07:48:20.958Z"
   },
   {
    "duration": 27,
    "start_time": "2023-05-24T07:48:20.963Z"
   },
   {
    "duration": 3,
    "start_time": "2023-05-24T07:48:20.991Z"
   },
   {
    "duration": 15,
    "start_time": "2023-05-24T07:48:20.996Z"
   },
   {
    "duration": 3,
    "start_time": "2023-05-24T07:48:21.013Z"
   },
   {
    "duration": 9,
    "start_time": "2023-05-24T07:48:21.018Z"
   },
   {
    "duration": 10,
    "start_time": "2023-05-24T07:48:21.029Z"
   },
   {
    "duration": 104,
    "start_time": "2023-05-24T07:48:21.041Z"
   },
   {
    "duration": 3,
    "start_time": "2023-05-24T07:48:21.146Z"
   },
   {
    "duration": 37,
    "start_time": "2023-05-24T07:48:21.151Z"
   },
   {
    "duration": 7,
    "start_time": "2023-05-24T07:48:21.190Z"
   },
   {
    "duration": 8,
    "start_time": "2023-05-24T07:48:21.200Z"
   },
   {
    "duration": 1347,
    "start_time": "2023-05-24T07:48:21.210Z"
   },
   {
    "duration": 149,
    "start_time": "2023-05-24T07:48:22.559Z"
   },
   {
    "duration": 89,
    "start_time": "2023-05-24T07:48:22.710Z"
   },
   {
    "duration": 14,
    "start_time": "2023-05-24T07:48:22.801Z"
   },
   {
    "duration": 37,
    "start_time": "2023-05-24T07:48:22.817Z"
   },
   {
    "duration": 30,
    "start_time": "2023-05-24T07:48:22.856Z"
   },
   {
    "duration": 39,
    "start_time": "2023-05-24T07:48:22.887Z"
   },
   {
    "duration": 17,
    "start_time": "2023-05-24T07:48:22.927Z"
   },
   {
    "duration": 55,
    "start_time": "2023-05-24T07:48:22.946Z"
   },
   {
    "duration": 3,
    "start_time": "2023-05-24T07:48:23.002Z"
   },
   {
    "duration": 26,
    "start_time": "2023-05-24T07:48:23.006Z"
   },
   {
    "duration": 2,
    "start_time": "2023-05-24T07:48:23.034Z"
   },
   {
    "duration": 240,
    "start_time": "2023-05-24T07:48:23.038Z"
   },
   {
    "duration": 373,
    "start_time": "2023-05-24T07:48:23.279Z"
   },
   {
    "duration": 43,
    "start_time": "2023-05-24T07:48:23.654Z"
   },
   {
    "duration": 18,
    "start_time": "2023-05-24T07:48:23.698Z"
   },
   {
    "duration": 315,
    "start_time": "2023-05-24T07:48:23.718Z"
   },
   {
    "duration": 21,
    "start_time": "2023-05-24T07:48:24.034Z"
   },
   {
    "duration": 328,
    "start_time": "2023-05-24T07:48:24.057Z"
   },
   {
    "duration": 331,
    "start_time": "2023-05-24T07:48:24.386Z"
   },
   {
    "duration": 2,
    "start_time": "2023-05-24T07:48:24.719Z"
   },
   {
    "duration": 17,
    "start_time": "2023-05-24T07:48:24.722Z"
   },
   {
    "duration": 2,
    "start_time": "2023-05-24T07:48:24.740Z"
   },
   {
    "duration": 97,
    "start_time": "2023-05-24T07:48:24.744Z"
   },
   {
    "duration": 739,
    "start_time": "2023-05-24T07:48:24.842Z"
   },
   {
    "duration": 65,
    "start_time": "2023-05-24T07:48:25.583Z"
   },
   {
    "duration": 2,
    "start_time": "2023-05-24T07:48:25.650Z"
   },
   {
    "duration": 8,
    "start_time": "2023-05-24T07:48:25.654Z"
   },
   {
    "duration": 3,
    "start_time": "2023-05-24T07:48:25.663Z"
   },
   {
    "duration": 8,
    "start_time": "2023-05-24T07:48:25.678Z"
   },
   {
    "duration": 161,
    "start_time": "2023-05-24T07:56:01.454Z"
   },
   {
    "duration": 50253,
    "start_time": "2023-05-24T07:56:14.936Z"
   },
   {
    "duration": 113,
    "start_time": "2023-05-24T08:35:42.520Z"
   },
   {
    "duration": 76,
    "start_time": "2023-05-24T08:35:51.666Z"
   },
   {
    "duration": 123,
    "start_time": "2023-05-24T08:36:07.974Z"
   },
   {
    "duration": 4,
    "start_time": "2023-05-24T08:37:49.374Z"
   },
   {
    "duration": 88,
    "start_time": "2023-05-24T08:37:56.433Z"
   },
   {
    "duration": 24868,
    "start_time": "2023-05-24T08:38:11.378Z"
   },
   {
    "duration": 39017,
    "start_time": "2023-05-24T08:38:41.474Z"
   },
   {
    "duration": 2664,
    "start_time": "2023-05-24T08:39:31.025Z"
   },
   {
    "duration": 401,
    "start_time": "2023-05-24T08:39:33.691Z"
   },
   {
    "duration": 4,
    "start_time": "2023-05-24T08:39:34.093Z"
   },
   {
    "duration": 71,
    "start_time": "2023-05-24T08:39:47.417Z"
   },
   {
    "duration": 137688,
    "start_time": "2023-05-24T08:39:50.042Z"
   },
   {
    "duration": 31913,
    "start_time": "2023-05-24T08:42:07.732Z"
   },
   {
    "duration": 276,
    "start_time": "2023-05-24T08:42:39.646Z"
   },
   {
    "duration": 6,
    "start_time": "2023-05-24T08:42:39.924Z"
   },
   {
    "duration": 74,
    "start_time": "2023-05-24T09:01:39.966Z"
   },
   {
    "duration": 99022,
    "start_time": "2023-05-24T09:11:24.462Z"
   },
   {
    "duration": 4,
    "start_time": "2023-05-24T09:17:28.880Z"
   },
   {
    "duration": 57,
    "start_time": "2023-05-24T09:18:04.116Z"
   },
   {
    "duration": 14,
    "start_time": "2023-05-24T09:18:06.722Z"
   },
   {
    "duration": 3,
    "start_time": "2023-05-24T09:18:35.954Z"
   },
   {
    "duration": 14000,
    "start_time": "2023-05-24T09:18:37.166Z"
   },
   {
    "duration": 29,
    "start_time": "2023-05-24T09:19:39.874Z"
   },
   {
    "duration": 28930,
    "start_time": "2023-05-24T09:19:47.058Z"
   },
   {
    "duration": 6009,
    "start_time": "2023-05-24T09:20:50.871Z"
   },
   {
    "duration": 3120,
    "start_time": "2023-05-24T09:21:01.363Z"
   },
   {
    "duration": 402,
    "start_time": "2023-05-24T09:21:04.877Z"
   },
   {
    "duration": 5,
    "start_time": "2023-05-24T09:21:06.565Z"
   },
   {
    "duration": 216435,
    "start_time": "2023-05-24T09:21:27.920Z"
   },
   {
    "duration": 43484,
    "start_time": "2023-05-24T09:25:12.720Z"
   },
   {
    "duration": 90,
    "start_time": "2023-05-24T09:25:56.207Z"
   },
   {
    "duration": 6,
    "start_time": "2023-05-24T09:25:56.378Z"
   },
   {
    "duration": 13597,
    "start_time": "2023-05-24T09:25:56.387Z"
   },
   {
    "duration": 18477,
    "start_time": "2023-05-24T09:26:51.572Z"
   },
   {
    "duration": 3558,
    "start_time": "2023-05-24T09:27:24.498Z"
   },
   {
    "duration": 22,
    "start_time": "2023-05-24T09:27:29.123Z"
   },
   {
    "duration": 5,
    "start_time": "2023-05-24T09:27:29.621Z"
   },
   {
    "duration": 17288,
    "start_time": "2023-05-24T09:32:11.465Z"
   },
   {
    "duration": 2361,
    "start_time": "2023-05-24T09:32:28.755Z"
   },
   {
    "duration": 13,
    "start_time": "2023-05-24T09:32:31.118Z"
   },
   {
    "duration": 17,
    "start_time": "2023-05-24T09:32:31.133Z"
   },
   {
    "duration": 1572,
    "start_time": "2023-05-24T09:33:02.857Z"
   },
   {
    "duration": 833,
    "start_time": "2023-05-24T09:33:04.431Z"
   },
   {
    "duration": 116,
    "start_time": "2023-05-24T09:33:05.266Z"
   },
   {
    "duration": 147,
    "start_time": "2023-05-24T09:33:05.384Z"
   },
   {
    "duration": 71,
    "start_time": "2023-05-24T09:33:05.532Z"
   },
   {
    "duration": 3,
    "start_time": "2023-05-24T09:33:05.604Z"
   },
   {
    "duration": 115,
    "start_time": "2023-05-24T09:33:05.608Z"
   },
   {
    "duration": 3,
    "start_time": "2023-05-24T09:33:05.724Z"
   },
   {
    "duration": 24,
    "start_time": "2023-05-24T09:33:05.728Z"
   },
   {
    "duration": 3,
    "start_time": "2023-05-24T09:33:05.755Z"
   },
   {
    "duration": 65,
    "start_time": "2023-05-24T09:33:05.759Z"
   },
   {
    "duration": 3,
    "start_time": "2023-05-24T09:33:05.826Z"
   },
   {
    "duration": 9,
    "start_time": "2023-05-24T09:33:05.832Z"
   },
   {
    "duration": 4,
    "start_time": "2023-05-24T09:33:05.843Z"
   },
   {
    "duration": 41,
    "start_time": "2023-05-24T09:33:05.848Z"
   },
   {
    "duration": 11,
    "start_time": "2023-05-24T09:33:05.891Z"
   },
   {
    "duration": 17,
    "start_time": "2023-05-24T09:33:05.904Z"
   },
   {
    "duration": 10,
    "start_time": "2023-05-24T09:33:05.923Z"
   },
   {
    "duration": 295,
    "start_time": "2023-05-24T09:33:05.934Z"
   },
   {
    "duration": 3,
    "start_time": "2023-05-24T09:33:06.231Z"
   },
   {
    "duration": 15,
    "start_time": "2023-05-24T09:33:06.235Z"
   },
   {
    "duration": 3,
    "start_time": "2023-05-24T09:33:06.252Z"
   },
   {
    "duration": 22,
    "start_time": "2023-05-24T09:33:06.256Z"
   },
   {
    "duration": 7,
    "start_time": "2023-05-24T09:33:06.279Z"
   },
   {
    "duration": 26,
    "start_time": "2023-05-24T09:33:06.288Z"
   },
   {
    "duration": 28,
    "start_time": "2023-05-24T09:33:06.316Z"
   },
   {
    "duration": 25,
    "start_time": "2023-05-24T09:33:06.346Z"
   },
   {
    "duration": 3,
    "start_time": "2023-05-24T09:33:06.376Z"
   },
   {
    "duration": 20,
    "start_time": "2023-05-24T09:33:06.380Z"
   },
   {
    "duration": 5,
    "start_time": "2023-05-24T09:33:06.402Z"
   },
   {
    "duration": 30,
    "start_time": "2023-05-24T09:33:06.408Z"
   },
   {
    "duration": 3,
    "start_time": "2023-05-24T09:33:06.440Z"
   },
   {
    "duration": 6,
    "start_time": "2023-05-24T09:33:06.445Z"
   },
   {
    "duration": 3,
    "start_time": "2023-05-24T09:33:06.478Z"
   },
   {
    "duration": 10,
    "start_time": "2023-05-24T09:33:06.483Z"
   },
   {
    "duration": 2,
    "start_time": "2023-05-24T09:33:06.495Z"
   },
   {
    "duration": 99,
    "start_time": "2023-05-24T09:33:06.498Z"
   },
   {
    "duration": 3,
    "start_time": "2023-05-24T09:33:06.598Z"
   },
   {
    "duration": 26,
    "start_time": "2023-05-24T09:33:06.602Z"
   },
   {
    "duration": 3,
    "start_time": "2023-05-24T09:33:06.630Z"
   },
   {
    "duration": 3,
    "start_time": "2023-05-24T09:33:06.635Z"
   },
   {
    "duration": 1382,
    "start_time": "2023-05-24T09:33:06.640Z"
   },
   {
    "duration": 138,
    "start_time": "2023-05-24T09:33:08.024Z"
   },
   {
    "duration": 69,
    "start_time": "2023-05-24T09:33:08.164Z"
   },
   {
    "duration": 17,
    "start_time": "2023-05-24T09:33:08.234Z"
   },
   {
    "duration": 63,
    "start_time": "2023-05-24T09:33:08.252Z"
   },
   {
    "duration": 13,
    "start_time": "2023-05-24T09:33:08.317Z"
   },
   {
    "duration": 59,
    "start_time": "2023-05-24T09:33:08.332Z"
   },
   {
    "duration": 13,
    "start_time": "2023-05-24T09:33:08.393Z"
   },
   {
    "duration": 43,
    "start_time": "2023-05-24T09:33:08.408Z"
   },
   {
    "duration": 3,
    "start_time": "2023-05-24T09:33:08.453Z"
   },
   {
    "duration": 29,
    "start_time": "2023-05-24T09:33:08.458Z"
   },
   {
    "duration": 17,
    "start_time": "2023-05-24T09:33:08.489Z"
   },
   {
    "duration": 231,
    "start_time": "2023-05-24T09:33:08.507Z"
   },
   {
    "duration": 344,
    "start_time": "2023-05-24T09:33:08.740Z"
   },
   {
    "duration": 32,
    "start_time": "2023-05-24T09:33:09.086Z"
   },
   {
    "duration": 17,
    "start_time": "2023-05-24T09:33:09.120Z"
   },
   {
    "duration": 309,
    "start_time": "2023-05-24T09:33:09.138Z"
   },
   {
    "duration": 34,
    "start_time": "2023-05-24T09:33:09.449Z"
   },
   {
    "duration": 323,
    "start_time": "2023-05-24T09:33:09.485Z"
   },
   {
    "duration": 338,
    "start_time": "2023-05-24T09:33:09.810Z"
   },
   {
    "duration": 4,
    "start_time": "2023-05-24T09:33:10.150Z"
   },
   {
    "duration": 25,
    "start_time": "2023-05-24T09:33:10.155Z"
   },
   {
    "duration": 2,
    "start_time": "2023-05-24T09:33:10.182Z"
   },
   {
    "duration": 93,
    "start_time": "2023-05-24T09:33:10.186Z"
   },
   {
    "duration": 752,
    "start_time": "2023-05-24T09:33:10.281Z"
   },
   {
    "duration": 70,
    "start_time": "2023-05-24T09:33:11.035Z"
   },
   {
    "duration": 3,
    "start_time": "2023-05-24T09:33:11.106Z"
   },
   {
    "duration": 6,
    "start_time": "2023-05-24T09:33:11.112Z"
   },
   {
    "duration": 5,
    "start_time": "2023-05-24T09:33:11.119Z"
   },
   {
    "duration": 6,
    "start_time": "2023-05-24T09:33:11.126Z"
   },
   {
    "duration": 115147,
    "start_time": "2023-05-24T09:33:11.134Z"
   },
   {
    "duration": 2598,
    "start_time": "2023-05-24T09:35:06.283Z"
   },
   {
    "duration": 304,
    "start_time": "2023-05-24T09:35:08.883Z"
   },
   {
    "duration": 5,
    "start_time": "2023-05-24T09:35:09.189Z"
   },
   {
    "duration": 206156,
    "start_time": "2023-05-24T09:35:09.195Z"
   },
   {
    "duration": 27549,
    "start_time": "2023-05-24T09:38:35.353Z"
   },
   {
    "duration": 86,
    "start_time": "2023-05-24T09:39:02.904Z"
   },
   {
    "duration": 5,
    "start_time": "2023-05-24T09:39:03.079Z"
   },
   {
    "duration": 13610,
    "start_time": "2023-05-24T09:39:03.085Z"
   },
   {
    "duration": 2481,
    "start_time": "2023-05-24T09:39:16.697Z"
   },
   {
    "duration": 16,
    "start_time": "2023-05-24T09:39:19.183Z"
   },
   {
    "duration": 4,
    "start_time": "2023-05-24T09:39:19.201Z"
   },
   {
    "duration": 46791,
    "start_time": "2023-05-24T09:39:19.207Z"
   },
   {
    "duration": 194,
    "start_time": "2023-05-24T09:40:06.000Z"
   },
   {
    "duration": 11,
    "start_time": "2023-05-24T09:40:06.195Z"
   },
   {
    "duration": 5,
    "start_time": "2023-05-24T09:40:06.208Z"
   },
   {
    "duration": 10,
    "start_time": "2023-05-24T10:06:46.479Z"
   },
   {
    "duration": 14,
    "start_time": "2023-05-24T10:09:47.078Z"
   },
   {
    "duration": 5,
    "start_time": "2023-05-24T10:09:48.265Z"
   },
   {
    "duration": 35,
    "start_time": "2023-05-24T10:26:15.029Z"
   },
   {
    "duration": 4553,
    "start_time": "2023-05-24T10:26:15.077Z"
   },
   {
    "duration": 811,
    "start_time": "2023-05-24T10:26:19.637Z"
   },
   {
    "duration": 290,
    "start_time": "2023-05-24T10:26:20.461Z"
   },
   {
    "duration": 181,
    "start_time": "2023-05-24T10:26:20.757Z"
   },
   {
    "duration": 186,
    "start_time": "2023-05-24T10:26:20.946Z"
   },
   {
    "duration": 604,
    "start_time": "2023-05-24T10:26:21.141Z"
   },
   {
    "duration": 12,
    "start_time": "2023-05-24T10:26:21.756Z"
   },
   {
    "duration": 81,
    "start_time": "2023-05-24T10:26:21.771Z"
   },
   {
    "duration": 70,
    "start_time": "2023-05-24T10:26:21.857Z"
   },
   {
    "duration": 507,
    "start_time": "2023-05-24T10:26:21.934Z"
   },
   {
    "duration": 3,
    "start_time": "2023-05-24T10:26:22.448Z"
   },
   {
    "duration": 74,
    "start_time": "2023-05-24T10:26:22.453Z"
   },
   {
    "duration": 51,
    "start_time": "2023-05-24T10:26:22.530Z"
   },
   {
    "duration": 225,
    "start_time": "2023-05-24T10:26:22.626Z"
   },
   {
    "duration": 268,
    "start_time": "2023-05-24T10:26:22.858Z"
   },
   {
    "duration": 231,
    "start_time": "2023-05-24T10:26:23.131Z"
   },
   {
    "duration": 7,
    "start_time": "2023-05-24T10:26:23.432Z"
   },
   {
    "duration": 2311,
    "start_time": "2023-05-24T10:26:23.447Z"
   },
   {
    "duration": 64,
    "start_time": "2023-05-24T10:26:25.768Z"
   },
   {
    "duration": 192,
    "start_time": "2023-05-24T10:26:25.843Z"
   },
   {
    "duration": 88,
    "start_time": "2023-05-24T10:26:26.038Z"
   },
   {
    "duration": 38,
    "start_time": "2023-05-24T10:26:26.127Z"
   },
   {
    "duration": 257,
    "start_time": "2023-05-24T10:26:26.168Z"
   },
   {
    "duration": 134,
    "start_time": "2023-05-24T10:26:26.426Z"
   },
   {
    "duration": 201,
    "start_time": "2023-05-24T10:26:26.625Z"
   },
   {
    "duration": 215,
    "start_time": "2023-05-24T10:26:26.827Z"
   },
   {
    "duration": 69,
    "start_time": "2023-05-24T10:26:27.058Z"
   },
   {
    "duration": 199,
    "start_time": "2023-05-24T10:26:27.129Z"
   },
   {
    "duration": 201,
    "start_time": "2023-05-24T10:26:27.336Z"
   },
   {
    "duration": 267,
    "start_time": "2023-05-24T10:26:27.564Z"
   },
   {
    "duration": 185,
    "start_time": "2023-05-24T10:26:27.845Z"
   },
   {
    "duration": 307,
    "start_time": "2023-05-24T10:26:28.034Z"
   },
   {
    "duration": 368,
    "start_time": "2023-05-24T10:26:28.360Z"
   },
   {
    "duration": 214,
    "start_time": "2023-05-24T10:26:28.730Z"
   },
   {
    "duration": 184,
    "start_time": "2023-05-24T10:26:28.946Z"
   },
   {
    "duration": 616,
    "start_time": "2023-05-24T10:26:29.132Z"
   },
   {
    "duration": 76,
    "start_time": "2023-05-24T10:26:29.755Z"
   },
   {
    "duration": 119,
    "start_time": "2023-05-24T10:26:29.841Z"
   },
   {
    "duration": 69,
    "start_time": "2023-05-24T10:26:29.962Z"
   },
   {
    "duration": 156,
    "start_time": "2023-05-24T10:26:30.079Z"
   },
   {
    "duration": 10117,
    "start_time": "2023-05-24T10:26:30.239Z"
   },
   {
    "duration": 1198,
    "start_time": "2023-05-24T10:26:40.363Z"
   },
   {
    "duration": 508,
    "start_time": "2023-05-24T10:26:41.628Z"
   },
   {
    "duration": 100,
    "start_time": "2023-05-24T10:26:42.137Z"
   },
   {
    "duration": 403,
    "start_time": "2023-05-24T10:26:42.241Z"
   },
   {
    "duration": 116,
    "start_time": "2023-05-24T10:26:42.656Z"
   },
   {
    "duration": 357,
    "start_time": "2023-05-24T10:26:42.775Z"
   },
   {
    "duration": 134,
    "start_time": "2023-05-24T10:26:43.134Z"
   },
   {
    "duration": 207,
    "start_time": "2023-05-24T10:26:43.327Z"
   },
   {
    "duration": 9,
    "start_time": "2023-05-24T10:26:43.537Z"
   },
   {
    "duration": 283,
    "start_time": "2023-05-24T10:26:43.553Z"
   },
   {
    "duration": 95,
    "start_time": "2023-05-24T10:26:43.843Z"
   },
   {
    "duration": 1414,
    "start_time": "2023-05-24T10:26:43.945Z"
   },
   {
    "duration": 2355,
    "start_time": "2023-05-24T10:26:45.368Z"
   },
   {
    "duration": 103,
    "start_time": "2023-05-24T10:26:47.742Z"
   },
   {
    "duration": 206,
    "start_time": "2023-05-24T10:26:47.850Z"
   },
   {
    "duration": 2260,
    "start_time": "2023-05-24T10:26:48.067Z"
   },
   {
    "duration": 238,
    "start_time": "2023-05-24T10:26:50.333Z"
   },
   {
    "duration": 1481,
    "start_time": "2023-05-24T10:26:50.581Z"
   },
   {
    "duration": 2069,
    "start_time": "2023-05-24T10:26:52.067Z"
   },
   {
    "duration": 14,
    "start_time": "2023-05-24T10:26:54.153Z"
   },
   {
    "duration": 368,
    "start_time": "2023-05-24T10:26:54.176Z"
   },
   {
    "duration": 304,
    "start_time": "2023-05-24T10:26:54.550Z"
   },
   {
    "duration": 29,
    "start_time": "2023-05-24T10:26:54.927Z"
   },
   {
    "duration": 0,
    "start_time": "2023-05-24T10:26:54.963Z"
   },
   {
    "duration": 0,
    "start_time": "2023-05-24T10:26:54.963Z"
   },
   {
    "duration": 0,
    "start_time": "2023-05-24T10:26:55.025Z"
   },
   {
    "duration": 0,
    "start_time": "2023-05-24T10:26:55.037Z"
   },
   {
    "duration": 0,
    "start_time": "2023-05-24T10:26:55.040Z"
   },
   {
    "duration": 0,
    "start_time": "2023-05-24T10:26:55.041Z"
   },
   {
    "duration": 0,
    "start_time": "2023-05-24T10:26:55.042Z"
   },
   {
    "duration": 0,
    "start_time": "2023-05-24T10:26:55.042Z"
   },
   {
    "duration": 0,
    "start_time": "2023-05-24T10:26:55.043Z"
   },
   {
    "duration": 0,
    "start_time": "2023-05-24T10:26:55.048Z"
   },
   {
    "duration": 0,
    "start_time": "2023-05-24T10:26:55.049Z"
   },
   {
    "duration": 0,
    "start_time": "2023-05-24T10:26:55.050Z"
   },
   {
    "duration": 0,
    "start_time": "2023-05-24T10:26:55.051Z"
   },
   {
    "duration": 0,
    "start_time": "2023-05-24T10:26:55.052Z"
   },
   {
    "duration": 0,
    "start_time": "2023-05-24T10:26:55.060Z"
   },
   {
    "duration": 0,
    "start_time": "2023-05-24T10:26:55.125Z"
   },
   {
    "duration": 0,
    "start_time": "2023-05-24T10:26:55.126Z"
   },
   {
    "duration": 0,
    "start_time": "2023-05-24T10:26:55.127Z"
   },
   {
    "duration": 0,
    "start_time": "2023-05-24T10:26:55.129Z"
   },
   {
    "duration": 0,
    "start_time": "2023-05-24T10:26:55.131Z"
   },
   {
    "duration": 0,
    "start_time": "2023-05-24T10:26:55.132Z"
   },
   {
    "duration": 0,
    "start_time": "2023-05-24T10:26:55.133Z"
   },
   {
    "duration": 0,
    "start_time": "2023-05-24T10:26:55.135Z"
   },
   {
    "duration": 0,
    "start_time": "2023-05-24T10:26:55.136Z"
   },
   {
    "duration": 0,
    "start_time": "2023-05-24T10:26:55.137Z"
   },
   {
    "duration": 0,
    "start_time": "2023-05-24T10:26:55.139Z"
   },
   {
    "duration": 0,
    "start_time": "2023-05-24T10:26:55.140Z"
   },
   {
    "duration": 84,
    "start_time": "2023-05-24T10:27:23.258Z"
   },
   {
    "duration": 17,
    "start_time": "2023-05-24T10:35:03.154Z"
   },
   {
    "duration": 2,
    "start_time": "2023-05-24T10:35:03.458Z"
   },
   {
    "duration": 51,
    "start_time": "2023-05-24T10:35:03.762Z"
   },
   {
    "duration": 556,
    "start_time": "2023-05-24T10:35:04.200Z"
   },
   {
    "duration": 81,
    "start_time": "2023-05-24T10:35:04.760Z"
   },
   {
    "duration": 4,
    "start_time": "2023-05-24T10:35:09.354Z"
   },
   {
    "duration": 716,
    "start_time": "2023-05-24T10:35:09.520Z"
   },
   {
    "duration": 105,
    "start_time": "2023-05-24T10:35:10.238Z"
   },
   {
    "duration": 110,
    "start_time": "2023-05-24T10:35:10.345Z"
   },
   {
    "duration": 41,
    "start_time": "2023-05-24T10:35:10.456Z"
   },
   {
    "duration": 3,
    "start_time": "2023-05-24T10:35:10.498Z"
   },
   {
    "duration": 93,
    "start_time": "2023-05-24T10:35:10.503Z"
   },
   {
    "duration": 3,
    "start_time": "2023-05-24T10:35:10.598Z"
   },
   {
    "duration": 13,
    "start_time": "2023-05-24T10:35:10.603Z"
   },
   {
    "duration": 25,
    "start_time": "2023-05-24T10:35:10.618Z"
   },
   {
    "duration": 54,
    "start_time": "2023-05-24T10:35:10.646Z"
   },
   {
    "duration": 25,
    "start_time": "2023-05-24T10:35:10.702Z"
   },
   {
    "duration": 21,
    "start_time": "2023-05-24T10:35:10.729Z"
   },
   {
    "duration": 17,
    "start_time": "2023-05-24T10:35:10.752Z"
   },
   {
    "duration": 28,
    "start_time": "2023-05-24T10:35:10.771Z"
   },
   {
    "duration": 23,
    "start_time": "2023-05-24T10:35:10.800Z"
   },
   {
    "duration": 16,
    "start_time": "2023-05-24T10:35:10.825Z"
   },
   {
    "duration": 9,
    "start_time": "2023-05-24T10:35:10.843Z"
   },
   {
    "duration": 284,
    "start_time": "2023-05-24T10:35:10.854Z"
   },
   {
    "duration": 3,
    "start_time": "2023-05-24T10:35:11.139Z"
   },
   {
    "duration": 27,
    "start_time": "2023-05-24T10:35:11.143Z"
   },
   {
    "duration": 3,
    "start_time": "2023-05-24T10:35:11.254Z"
   },
   {
    "duration": 5,
    "start_time": "2023-05-24T10:35:11.654Z"
   },
   {
    "duration": 2,
    "start_time": "2023-05-24T10:35:12.161Z"
   },
   {
    "duration": 19,
    "start_time": "2023-05-24T10:35:12.262Z"
   },
   {
    "duration": 7,
    "start_time": "2023-05-24T10:35:12.283Z"
   },
   {
    "duration": 20,
    "start_time": "2023-05-24T10:35:12.321Z"
   },
   {
    "duration": 2,
    "start_time": "2023-05-24T10:35:12.366Z"
   },
   {
    "duration": 17,
    "start_time": "2023-05-24T10:35:12.411Z"
   },
   {
    "duration": 3,
    "start_time": "2023-05-24T10:35:12.461Z"
   },
   {
    "duration": 22,
    "start_time": "2023-05-24T10:35:12.513Z"
   },
   {
    "duration": 2,
    "start_time": "2023-05-24T10:35:12.557Z"
   },
   {
    "duration": 5,
    "start_time": "2023-05-24T10:35:12.615Z"
   },
   {
    "duration": 3,
    "start_time": "2023-05-24T10:35:12.661Z"
   },
   {
    "duration": 5,
    "start_time": "2023-05-24T10:35:13.279Z"
   },
   {
    "duration": 3,
    "start_time": "2023-05-24T10:35:13.771Z"
   },
   {
    "duration": 66,
    "start_time": "2023-05-24T10:35:14.176Z"
   },
   {
    "duration": 3,
    "start_time": "2023-05-24T10:35:14.373Z"
   },
   {
    "duration": 18,
    "start_time": "2023-05-24T10:35:14.879Z"
   },
   {
    "duration": 3,
    "start_time": "2023-05-24T10:35:15.554Z"
   },
   {
    "duration": 2,
    "start_time": "2023-05-24T10:35:15.762Z"
   },
   {
    "duration": 1270,
    "start_time": "2023-05-24T10:35:16.696Z"
   },
   {
    "duration": 140,
    "start_time": "2023-05-24T10:35:17.968Z"
   },
   {
    "duration": 68,
    "start_time": "2023-05-24T10:35:18.177Z"
   },
   {
    "duration": 15,
    "start_time": "2023-05-24T10:35:19.276Z"
   },
   {
    "duration": 36,
    "start_time": "2023-05-24T10:35:19.773Z"
   },
   {
    "duration": 13,
    "start_time": "2023-05-24T10:35:20.719Z"
   },
   {
    "duration": 39,
    "start_time": "2023-05-24T10:35:21.253Z"
   },
   {
    "duration": 13,
    "start_time": "2023-05-24T10:35:22.066Z"
   },
   {
    "duration": 33,
    "start_time": "2023-05-24T10:35:22.261Z"
   },
   {
    "duration": 2,
    "start_time": "2023-05-24T10:35:22.798Z"
   },
   {
    "duration": 16,
    "start_time": "2023-05-24T10:35:23.157Z"
   },
   {
    "duration": 2,
    "start_time": "2023-05-24T10:35:23.817Z"
   },
   {
    "duration": 230,
    "start_time": "2023-05-24T10:35:23.989Z"
   },
   {
    "duration": 365,
    "start_time": "2023-05-24T10:35:24.487Z"
   },
   {
    "duration": 41,
    "start_time": "2023-05-24T10:35:24.854Z"
   },
   {
    "duration": 21,
    "start_time": "2023-05-24T10:35:25.099Z"
   },
   {
    "duration": 312,
    "start_time": "2023-05-24T10:35:25.273Z"
   },
   {
    "duration": 25,
    "start_time": "2023-05-24T10:35:29.161Z"
   },
   {
    "duration": 226,
    "start_time": "2023-05-24T10:35:29.680Z"
   },
   {
    "duration": 305,
    "start_time": "2023-05-24T10:35:31.302Z"
   },
   {
    "duration": 3,
    "start_time": "2023-05-24T10:35:40.373Z"
   },
   {
    "duration": 14,
    "start_time": "2023-05-24T10:35:42.157Z"
   },
   {
    "duration": 2,
    "start_time": "2023-05-24T10:35:42.558Z"
   },
   {
    "duration": 56,
    "start_time": "2023-05-24T10:35:43.161Z"
   },
   {
    "duration": 458,
    "start_time": "2023-05-24T10:35:44.075Z"
   },
   {
    "duration": 72,
    "start_time": "2023-05-24T10:35:45.063Z"
   },
   {
    "duration": 1376,
    "start_time": "2023-05-24T10:40:35.269Z"
   },
   {
    "duration": 721,
    "start_time": "2023-05-24T10:40:36.646Z"
   },
   {
    "duration": 101,
    "start_time": "2023-05-24T10:40:37.369Z"
   },
   {
    "duration": 84,
    "start_time": "2023-05-24T10:40:37.478Z"
   },
   {
    "duration": 73,
    "start_time": "2023-05-24T10:40:37.564Z"
   },
   {
    "duration": 4,
    "start_time": "2023-05-24T10:40:37.639Z"
   },
   {
    "duration": 101,
    "start_time": "2023-05-24T10:40:37.644Z"
   },
   {
    "duration": 3,
    "start_time": "2023-05-24T10:40:37.746Z"
   },
   {
    "duration": 11,
    "start_time": "2023-05-24T10:40:37.751Z"
   },
   {
    "duration": 3,
    "start_time": "2023-05-24T10:40:37.780Z"
   },
   {
    "duration": 60,
    "start_time": "2023-05-24T10:40:37.785Z"
   },
   {
    "duration": 3,
    "start_time": "2023-05-24T10:40:37.847Z"
   },
   {
    "duration": 10,
    "start_time": "2023-05-24T10:40:37.852Z"
   },
   {
    "duration": 15,
    "start_time": "2023-05-24T10:40:37.864Z"
   },
   {
    "duration": 17,
    "start_time": "2023-05-24T10:40:37.880Z"
   },
   {
    "duration": 3,
    "start_time": "2023-05-24T10:40:37.899Z"
   },
   {
    "duration": 14,
    "start_time": "2023-05-24T10:40:37.903Z"
   },
   {
    "duration": 3,
    "start_time": "2023-05-24T10:40:37.919Z"
   },
   {
    "duration": 269,
    "start_time": "2023-05-24T10:40:37.923Z"
   },
   {
    "duration": 2,
    "start_time": "2023-05-24T10:40:38.193Z"
   },
   {
    "duration": 6,
    "start_time": "2023-05-24T10:40:38.198Z"
   },
   {
    "duration": 4,
    "start_time": "2023-05-24T10:40:38.206Z"
   },
   {
    "duration": 9,
    "start_time": "2023-05-24T10:40:38.212Z"
   },
   {
    "duration": 3,
    "start_time": "2023-05-24T10:40:38.222Z"
   },
   {
    "duration": 21,
    "start_time": "2023-05-24T10:40:38.226Z"
   },
   {
    "duration": 30,
    "start_time": "2023-05-24T10:40:38.249Z"
   },
   {
    "duration": 21,
    "start_time": "2023-05-24T10:40:38.280Z"
   },
   {
    "duration": 2,
    "start_time": "2023-05-24T10:40:38.305Z"
   },
   {
    "duration": 19,
    "start_time": "2023-05-24T10:40:38.309Z"
   },
   {
    "duration": 6,
    "start_time": "2023-05-24T10:40:38.329Z"
   },
   {
    "duration": 47,
    "start_time": "2023-05-24T10:40:38.336Z"
   },
   {
    "duration": 3,
    "start_time": "2023-05-24T10:40:38.385Z"
   },
   {
    "duration": 7,
    "start_time": "2023-05-24T10:40:38.389Z"
   },
   {
    "duration": 2,
    "start_time": "2023-05-24T10:40:38.398Z"
   },
   {
    "duration": 8,
    "start_time": "2023-05-24T10:40:38.402Z"
   },
   {
    "duration": 3,
    "start_time": "2023-05-24T10:40:38.412Z"
   },
   {
    "duration": 94,
    "start_time": "2023-05-24T10:40:38.416Z"
   },
   {
    "duration": 3,
    "start_time": "2023-05-24T10:40:38.512Z"
   },
   {
    "duration": 27,
    "start_time": "2023-05-24T10:40:38.516Z"
   },
   {
    "duration": 4,
    "start_time": "2023-05-24T10:40:38.544Z"
   },
   {
    "duration": 3,
    "start_time": "2023-05-24T10:40:38.550Z"
   },
   {
    "duration": 1202,
    "start_time": "2023-05-24T10:40:38.555Z"
   },
   {
    "duration": 129,
    "start_time": "2023-05-24T10:40:39.759Z"
   },
   {
    "duration": 65,
    "start_time": "2023-05-24T10:40:39.890Z"
   },
   {
    "duration": 25,
    "start_time": "2023-05-24T10:40:39.957Z"
   },
   {
    "duration": 37,
    "start_time": "2023-05-24T10:40:39.983Z"
   },
   {
    "duration": 13,
    "start_time": "2023-05-24T10:40:40.022Z"
   },
   {
    "duration": 56,
    "start_time": "2023-05-24T10:40:40.037Z"
   },
   {
    "duration": 13,
    "start_time": "2023-05-24T10:40:40.094Z"
   },
   {
    "duration": 32,
    "start_time": "2023-05-24T10:40:40.108Z"
   },
   {
    "duration": 2,
    "start_time": "2023-05-24T10:40:40.142Z"
   },
   {
    "duration": 34,
    "start_time": "2023-05-24T10:40:40.145Z"
   },
   {
    "duration": 3,
    "start_time": "2023-05-24T10:40:40.181Z"
   },
   {
    "duration": 241,
    "start_time": "2023-05-24T10:40:40.185Z"
   },
   {
    "duration": 360,
    "start_time": "2023-05-24T10:40:40.428Z"
   },
   {
    "duration": 32,
    "start_time": "2023-05-24T10:40:40.790Z"
   },
   {
    "duration": 17,
    "start_time": "2023-05-24T10:40:40.824Z"
   },
   {
    "duration": 321,
    "start_time": "2023-05-24T10:40:40.843Z"
   },
   {
    "duration": 23,
    "start_time": "2023-05-24T10:40:41.165Z"
   },
   {
    "duration": 301,
    "start_time": "2023-05-24T10:40:41.190Z"
   },
   {
    "duration": 314,
    "start_time": "2023-05-24T10:40:41.493Z"
   },
   {
    "duration": 3,
    "start_time": "2023-05-24T10:40:41.809Z"
   },
   {
    "duration": 13,
    "start_time": "2023-05-24T10:40:41.813Z"
   },
   {
    "duration": 2,
    "start_time": "2023-05-24T10:40:41.828Z"
   },
   {
    "duration": 75,
    "start_time": "2023-05-24T10:40:41.832Z"
   },
   {
    "duration": 678,
    "start_time": "2023-05-24T10:40:41.909Z"
   },
   {
    "duration": 51,
    "start_time": "2023-05-24T10:40:42.589Z"
   },
   {
    "duration": 3,
    "start_time": "2023-05-24T10:40:42.641Z"
   },
   {
    "duration": 23,
    "start_time": "2023-05-24T10:40:42.645Z"
   },
   {
    "duration": 8,
    "start_time": "2023-05-24T10:40:42.670Z"
   },
   {
    "duration": 6,
    "start_time": "2023-05-24T10:40:42.679Z"
   },
   {
    "duration": 80591,
    "start_time": "2023-05-24T10:40:42.687Z"
   },
   {
    "duration": 2905,
    "start_time": "2023-05-24T10:42:03.280Z"
   },
   {
    "duration": 799,
    "start_time": "2023-05-24T10:42:06.186Z"
   },
   {
    "duration": 5,
    "start_time": "2023-05-24T10:42:06.987Z"
   },
   {
    "duration": 780282,
    "start_time": "2023-05-24T10:42:06.993Z"
   },
   {
    "duration": 37273,
    "start_time": "2023-05-24T10:55:07.277Z"
   },
   {
    "duration": 433,
    "start_time": "2023-05-24T10:55:44.552Z"
   },
   {
    "duration": 4,
    "start_time": "2023-05-24T10:55:44.987Z"
   },
   {
    "duration": 74009,
    "start_time": "2023-05-24T10:55:44.993Z"
   },
   {
    "duration": 2231,
    "start_time": "2023-05-24T10:56:59.004Z"
   },
   {
    "duration": 32,
    "start_time": "2023-05-24T10:57:01.240Z"
   },
   {
    "duration": 5,
    "start_time": "2023-05-24T10:57:01.273Z"
   },
   {
    "duration": 298649,
    "start_time": "2023-05-24T10:57:01.280Z"
   },
   {
    "duration": 14216,
    "start_time": "2023-05-24T11:01:59.931Z"
   },
   {
    "duration": 677,
    "start_time": "2023-05-24T11:02:14.148Z"
   },
   {
    "duration": 5,
    "start_time": "2023-05-24T11:02:14.827Z"
   },
   {
    "duration": 11,
    "start_time": "2023-05-24T11:02:14.833Z"
   },
   {
    "duration": 46,
    "start_time": "2023-05-24T11:02:14.846Z"
   },
   {
    "duration": 5,
    "start_time": "2023-05-24T11:02:14.894Z"
   },
   {
    "duration": 10,
    "start_time": "2023-05-24T11:55:46.168Z"
   },
   {
    "duration": 10,
    "start_time": "2023-05-24T11:56:19.553Z"
   },
   {
    "duration": 2236,
    "start_time": "2023-05-24T11:57:57.330Z"
   },
   {
    "duration": 5,
    "start_time": "2023-05-24T11:57:59.569Z"
   },
   {
    "duration": 1524,
    "start_time": "2023-05-24T12:20:36.366Z"
   },
   {
    "duration": 825,
    "start_time": "2023-05-24T12:20:37.892Z"
   },
   {
    "duration": 110,
    "start_time": "2023-05-24T12:20:38.718Z"
   },
   {
    "duration": 142,
    "start_time": "2023-05-24T12:20:38.831Z"
   },
   {
    "duration": 57,
    "start_time": "2023-05-24T12:20:38.979Z"
   },
   {
    "duration": 3,
    "start_time": "2023-05-24T12:20:39.038Z"
   },
   {
    "duration": 107,
    "start_time": "2023-05-24T12:20:39.043Z"
   },
   {
    "duration": 3,
    "start_time": "2023-05-24T12:20:39.152Z"
   },
   {
    "duration": 21,
    "start_time": "2023-05-24T12:20:39.157Z"
   },
   {
    "duration": 2,
    "start_time": "2023-05-24T12:20:39.180Z"
   },
   {
    "duration": 46,
    "start_time": "2023-05-24T12:20:39.184Z"
   },
   {
    "duration": 3,
    "start_time": "2023-05-24T12:20:39.232Z"
   },
   {
    "duration": 15,
    "start_time": "2023-05-24T12:20:39.236Z"
   },
   {
    "duration": 2,
    "start_time": "2023-05-24T12:20:39.254Z"
   },
   {
    "duration": 30,
    "start_time": "2023-05-24T12:20:39.258Z"
   },
   {
    "duration": 5,
    "start_time": "2023-05-24T12:20:39.289Z"
   },
   {
    "duration": 9,
    "start_time": "2023-05-24T12:20:39.296Z"
   },
   {
    "duration": 3,
    "start_time": "2023-05-24T12:20:39.306Z"
   },
   {
    "duration": 315,
    "start_time": "2023-05-24T12:20:39.310Z"
   },
   {
    "duration": 3,
    "start_time": "2023-05-24T12:20:39.626Z"
   },
   {
    "duration": 9,
    "start_time": "2023-05-24T12:20:39.630Z"
   },
   {
    "duration": 3,
    "start_time": "2023-05-24T12:20:39.641Z"
   },
   {
    "duration": 9,
    "start_time": "2023-05-24T12:20:39.645Z"
   },
   {
    "duration": 2,
    "start_time": "2023-05-24T12:20:39.656Z"
   },
   {
    "duration": 22,
    "start_time": "2023-05-24T12:20:39.677Z"
   },
   {
    "duration": 3,
    "start_time": "2023-05-24T12:20:39.701Z"
   },
   {
    "duration": 27,
    "start_time": "2023-05-24T12:20:39.706Z"
   },
   {
    "duration": 3,
    "start_time": "2023-05-24T12:20:39.734Z"
   },
   {
    "duration": 46,
    "start_time": "2023-05-24T12:20:39.738Z"
   },
   {
    "duration": 5,
    "start_time": "2023-05-24T12:20:39.785Z"
   },
   {
    "duration": 29,
    "start_time": "2023-05-24T12:20:39.791Z"
   },
   {
    "duration": 3,
    "start_time": "2023-05-24T12:20:39.821Z"
   },
   {
    "duration": 29,
    "start_time": "2023-05-24T12:20:39.825Z"
   },
   {
    "duration": 2,
    "start_time": "2023-05-24T12:20:39.856Z"
   },
   {
    "duration": 11,
    "start_time": "2023-05-24T12:20:39.860Z"
   },
   {
    "duration": 6,
    "start_time": "2023-05-24T12:20:39.872Z"
   },
   {
    "duration": 77,
    "start_time": "2023-05-24T12:20:39.879Z"
   },
   {
    "duration": 2,
    "start_time": "2023-05-24T12:20:39.957Z"
   },
   {
    "duration": 25,
    "start_time": "2023-05-24T12:20:39.977Z"
   },
   {
    "duration": 27,
    "start_time": "2023-05-24T12:20:40.004Z"
   },
   {
    "duration": 7,
    "start_time": "2023-05-24T12:20:40.035Z"
   },
   {
    "duration": 1317,
    "start_time": "2023-05-24T12:20:40.043Z"
   },
   {
    "duration": 150,
    "start_time": "2023-05-24T12:20:41.362Z"
   },
   {
    "duration": 67,
    "start_time": "2023-05-24T12:20:41.514Z"
   },
   {
    "duration": 15,
    "start_time": "2023-05-24T12:20:41.583Z"
   },
   {
    "duration": 52,
    "start_time": "2023-05-24T12:20:41.600Z"
   },
   {
    "duration": 13,
    "start_time": "2023-05-24T12:20:41.654Z"
   },
   {
    "duration": 45,
    "start_time": "2023-05-24T12:20:41.678Z"
   },
   {
    "duration": 13,
    "start_time": "2023-05-24T12:20:41.724Z"
   },
   {
    "duration": 52,
    "start_time": "2023-05-24T12:20:41.739Z"
   },
   {
    "duration": 3,
    "start_time": "2023-05-24T12:20:41.792Z"
   },
   {
    "duration": 20,
    "start_time": "2023-05-24T12:20:41.796Z"
   },
   {
    "duration": 2,
    "start_time": "2023-05-24T12:20:41.818Z"
   },
   {
    "duration": 256,
    "start_time": "2023-05-24T12:20:41.822Z"
   },
   {
    "duration": 372,
    "start_time": "2023-05-24T12:20:42.080Z"
   },
   {
    "duration": 40,
    "start_time": "2023-05-24T12:20:42.454Z"
   },
   {
    "duration": 17,
    "start_time": "2023-05-24T12:20:42.496Z"
   },
   {
    "duration": 320,
    "start_time": "2023-05-24T12:20:42.515Z"
   },
   {
    "duration": 24,
    "start_time": "2023-05-24T12:20:42.837Z"
   },
   {
    "duration": 328,
    "start_time": "2023-05-24T12:20:42.863Z"
   },
   {
    "duration": 313,
    "start_time": "2023-05-24T12:20:43.193Z"
   },
   {
    "duration": 3,
    "start_time": "2023-05-24T12:20:43.507Z"
   },
   {
    "duration": 42,
    "start_time": "2023-05-24T12:20:43.511Z"
   },
   {
    "duration": 3,
    "start_time": "2023-05-24T12:20:43.555Z"
   },
   {
    "duration": 67,
    "start_time": "2023-05-24T12:20:43.559Z"
   },
   {
    "duration": 740,
    "start_time": "2023-05-24T12:20:43.628Z"
   },
   {
    "duration": 61,
    "start_time": "2023-05-24T12:20:44.370Z"
   },
   {
    "duration": 2,
    "start_time": "2023-05-24T12:20:44.433Z"
   },
   {
    "duration": 6,
    "start_time": "2023-05-24T12:20:44.436Z"
   },
   {
    "duration": 5,
    "start_time": "2023-05-24T12:20:44.443Z"
   },
   {
    "duration": 7,
    "start_time": "2023-05-24T12:20:44.449Z"
   },
   {
    "duration": 75524,
    "start_time": "2023-05-24T12:20:44.457Z"
   },
   {
    "duration": 2907,
    "start_time": "2023-05-24T12:21:59.983Z"
   },
   {
    "duration": 1199,
    "start_time": "2023-05-24T12:22:02.892Z"
   },
   {
    "duration": 148,
    "start_time": "2023-05-24T12:22:04.093Z"
   },
   {
    "duration": 0,
    "start_time": "2023-05-24T12:22:04.243Z"
   },
   {
    "duration": 0,
    "start_time": "2023-05-24T12:22:04.244Z"
   },
   {
    "duration": 0,
    "start_time": "2023-05-24T12:22:04.245Z"
   },
   {
    "duration": 0,
    "start_time": "2023-05-24T12:22:04.246Z"
   },
   {
    "duration": 0,
    "start_time": "2023-05-24T12:22:04.247Z"
   },
   {
    "duration": 0,
    "start_time": "2023-05-24T12:22:04.248Z"
   },
   {
    "duration": 0,
    "start_time": "2023-05-24T12:22:04.249Z"
   },
   {
    "duration": 0,
    "start_time": "2023-05-24T12:22:04.250Z"
   },
   {
    "duration": 0,
    "start_time": "2023-05-24T12:22:04.251Z"
   },
   {
    "duration": 0,
    "start_time": "2023-05-24T12:22:04.252Z"
   },
   {
    "duration": 0,
    "start_time": "2023-05-24T12:22:04.253Z"
   },
   {
    "duration": 0,
    "start_time": "2023-05-24T12:22:04.254Z"
   },
   {
    "duration": 0,
    "start_time": "2023-05-24T12:22:04.255Z"
   },
   {
    "duration": 0,
    "start_time": "2023-05-24T12:22:04.256Z"
   },
   {
    "duration": 0,
    "start_time": "2023-05-24T12:22:04.257Z"
   },
   {
    "duration": 5,
    "start_time": "2023-05-24T12:22:43.029Z"
   },
   {
    "duration": 564580,
    "start_time": "2023-05-24T12:22:45.386Z"
   },
   {
    "duration": 22876,
    "start_time": "2023-05-24T12:32:09.969Z"
   },
   {
    "duration": 352,
    "start_time": "2023-05-24T12:32:32.847Z"
   },
   {
    "duration": 5,
    "start_time": "2023-05-24T12:32:33.201Z"
   },
   {
    "duration": 65768,
    "start_time": "2023-05-24T12:32:33.208Z"
   },
   {
    "duration": 2299,
    "start_time": "2023-05-24T12:33:38.977Z"
   },
   {
    "duration": 49,
    "start_time": "2023-05-24T12:33:41.277Z"
   },
   {
    "duration": 5,
    "start_time": "2023-05-24T12:33:41.327Z"
   },
   {
    "duration": 264935,
    "start_time": "2023-05-24T12:33:41.334Z"
   },
   {
    "duration": 17967,
    "start_time": "2023-05-24T12:38:06.279Z"
   },
   {
    "duration": 1245,
    "start_time": "2023-05-24T12:38:24.248Z"
   },
   {
    "duration": 5,
    "start_time": "2023-05-24T12:38:25.494Z"
   },
   {
    "duration": 40,
    "start_time": "2023-05-24T12:38:25.501Z"
   },
   {
    "duration": 4,
    "start_time": "2023-05-24T12:38:25.543Z"
   },
   {
    "duration": 10,
    "start_time": "2023-05-24T12:39:56.956Z"
   }
  ],
  "kernelspec": {
   "display_name": "Python 3 (ipykernel)",
   "language": "python",
   "name": "python3"
  },
  "language_info": {
   "codemirror_mode": {
    "name": "ipython",
    "version": 3
   },
   "file_extension": ".py",
   "mimetype": "text/x-python",
   "name": "python",
   "nbconvert_exporter": "python",
   "pygments_lexer": "ipython3",
   "version": "3.9.7"
  },
  "toc": {
   "base_numbering": 1,
   "nav_menu": {},
   "number_sections": true,
   "sideBar": true,
   "skip_h1_title": true,
   "title_cell": "Table of Contents",
   "title_sidebar": "Contents",
   "toc_cell": false,
   "toc_position": {
    "height": "calc(100% - 180px)",
    "left": "10px",
    "top": "150px",
    "width": "342px"
   },
   "toc_section_display": true,
   "toc_window_display": true
  }
 },
 "nbformat": 4,
 "nbformat_minor": 2
}
