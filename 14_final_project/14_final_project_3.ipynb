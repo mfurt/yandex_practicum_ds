{
 "cells": [
  {
   "cell_type": "markdown",
   "id": "8af47830",
   "metadata": {},
   "source": [
    "**Нужные библиотеки**"
   ]
  },
  {
   "cell_type": "code",
   "execution_count": 1,
   "id": "23cb59b0",
   "metadata": {},
   "outputs": [],
   "source": [
    "import warnings\n",
    "import pandas as pd\n",
    "import numpy as np\n",
    "import matplotlib.pyplot as plt\n",
    "from pandas.api.types import is_string_dtype\n",
    "import re\n",
    "from sklearn.model_selection import train_test_split\n",
    "from sklearn.preprocessing import OrdinalEncoder, StandardScaler\n",
    "from catboost import CatBoostClassifier\n",
    "from sklearn.ensemble import RandomForestClassifier\n",
    "from lightgbm import LGBMClassifier\n",
    "from sklearn.metrics import roc_auc_score, roc_curve, confusion_matrix\n",
    "from sklearn.model_selection import RandomizedSearchCV\n",
    "\n",
    "warnings.filterwarnings('ignore')"
   ]
  },
  {
   "cell_type": "markdown",
   "id": "39dcab0d",
   "metadata": {},
   "source": [
    "**Константы**"
   ]
  },
  {
   "cell_type": "code",
   "execution_count": 2,
   "id": "1c186bc6",
   "metadata": {},
   "outputs": [],
   "source": [
    "RANDOM_STATE = 180723"
   ]
  },
  {
   "cell_type": "markdown",
   "id": "3555378e",
   "metadata": {},
   "source": [
    "#  Прогнозирование оттоков клиентов"
   ]
  },
  {
   "cell_type": "markdown",
   "id": "afdf1444",
   "metadata": {},
   "source": [
    "Оператор связи «Ниединогоразрыва.ком» хочет научиться прогнозировать отток клиентов. Если выяснится, что пользователь планирует уйти, ему будут предложены промокоды и специальные условия. Команда оператора собрала персональные данные о некоторых клиентах, информацию об их тарифах и договорах.\n"
   ]
  },
  {
   "cell_type": "markdown",
   "id": "555f5ad7",
   "metadata": {},
   "source": [
    "Данные хранятся в папке /datasets/ в  файлах:\n",
    "<br><a href=https://code.s3.yandex.net/datasets/contract_new.csv>contract_new.csv</a> — информация о договоре\n",
    "<br><a href=https://code.s3.yandex.net/datasets/personal_new.csv>personal_new.csv</a> — персональные данные клиента\n",
    "<br><a href=https://code.s3.yandex.net/datasets/internet_new.csv>internet_new.csv</a> — информация об интернет-услугах\n",
    "<br><a href=https://code.s3.yandex.net/datasets/phone_new.csv>phone_new.csv</a> — информация об услугах телефонии"
   ]
  },
  {
   "cell_type": "markdown",
   "id": "8b8d017a",
   "metadata": {},
   "source": [
    "## Подготовка данных"
   ]
  },
  {
   "cell_type": "markdown",
   "id": "79dbca89",
   "metadata": {},
   "source": [
    "**Для начала откроем все файлы\n",
    "<br>Установим для таблиц индекс - первый столбец, тк он является уникальным**"
   ]
  },
  {
   "cell_type": "markdown",
   "id": "f23d9354",
   "metadata": {},
   "source": [
    "**Открываемм информацию о договоре**"
   ]
  },
  {
   "cell_type": "code",
   "execution_count": 3,
   "id": "abb4f6a0",
   "metadata": {},
   "outputs": [
    {
     "name": "stdout",
     "output_type": "stream",
     "text": [
      "Размер таблицы \"contract_new\": \n",
      "Строк - 7043\n",
      "Столбцов - 7\n"
     ]
    },
    {
     "data": {
      "text/html": [
       "<div>\n",
       "<style scoped>\n",
       "    .dataframe tbody tr th:only-of-type {\n",
       "        vertical-align: middle;\n",
       "    }\n",
       "\n",
       "    .dataframe tbody tr th {\n",
       "        vertical-align: top;\n",
       "    }\n",
       "\n",
       "    .dataframe thead th {\n",
       "        text-align: right;\n",
       "    }\n",
       "</style>\n",
       "<table border=\"1\" class=\"dataframe\">\n",
       "  <thead>\n",
       "    <tr style=\"text-align: right;\">\n",
       "      <th></th>\n",
       "      <th>BeginDate</th>\n",
       "      <th>EndDate</th>\n",
       "      <th>Type</th>\n",
       "      <th>PaperlessBilling</th>\n",
       "      <th>PaymentMethod</th>\n",
       "      <th>MonthlyCharges</th>\n",
       "      <th>TotalCharges</th>\n",
       "    </tr>\n",
       "    <tr>\n",
       "      <th>customerID</th>\n",
       "      <th></th>\n",
       "      <th></th>\n",
       "      <th></th>\n",
       "      <th></th>\n",
       "      <th></th>\n",
       "      <th></th>\n",
       "      <th></th>\n",
       "    </tr>\n",
       "  </thead>\n",
       "  <tbody>\n",
       "    <tr>\n",
       "      <th>7590-VHVEG</th>\n",
       "      <td>2020-01-01</td>\n",
       "      <td>No</td>\n",
       "      <td>Month-to-month</td>\n",
       "      <td>Yes</td>\n",
       "      <td>Electronic check</td>\n",
       "      <td>29.85</td>\n",
       "      <td>31.04</td>\n",
       "    </tr>\n",
       "    <tr>\n",
       "      <th>5575-GNVDE</th>\n",
       "      <td>2017-04-01</td>\n",
       "      <td>No</td>\n",
       "      <td>One year</td>\n",
       "      <td>No</td>\n",
       "      <td>Mailed check</td>\n",
       "      <td>56.95</td>\n",
       "      <td>2071.84</td>\n",
       "    </tr>\n",
       "    <tr>\n",
       "      <th>3668-QPYBK</th>\n",
       "      <td>2019-10-01</td>\n",
       "      <td>No</td>\n",
       "      <td>Month-to-month</td>\n",
       "      <td>Yes</td>\n",
       "      <td>Mailed check</td>\n",
       "      <td>53.85</td>\n",
       "      <td>226.17</td>\n",
       "    </tr>\n",
       "    <tr>\n",
       "      <th>7795-CFOCW</th>\n",
       "      <td>2016-05-01</td>\n",
       "      <td>No</td>\n",
       "      <td>One year</td>\n",
       "      <td>No</td>\n",
       "      <td>Bank transfer (automatic)</td>\n",
       "      <td>42.30</td>\n",
       "      <td>1960.6</td>\n",
       "    </tr>\n",
       "    <tr>\n",
       "      <th>9237-HQITU</th>\n",
       "      <td>2019-09-01</td>\n",
       "      <td>No</td>\n",
       "      <td>Month-to-month</td>\n",
       "      <td>Yes</td>\n",
       "      <td>Electronic check</td>\n",
       "      <td>70.70</td>\n",
       "      <td>353.5</td>\n",
       "    </tr>\n",
       "  </tbody>\n",
       "</table>\n",
       "</div>"
      ],
      "text/plain": [
       "             BeginDate EndDate            Type PaperlessBilling  \\\n",
       "customerID                                                        \n",
       "7590-VHVEG  2020-01-01      No  Month-to-month              Yes   \n",
       "5575-GNVDE  2017-04-01      No        One year               No   \n",
       "3668-QPYBK  2019-10-01      No  Month-to-month              Yes   \n",
       "7795-CFOCW  2016-05-01      No        One year               No   \n",
       "9237-HQITU  2019-09-01      No  Month-to-month              Yes   \n",
       "\n",
       "                        PaymentMethod  MonthlyCharges TotalCharges  \n",
       "customerID                                                          \n",
       "7590-VHVEG           Electronic check           29.85        31.04  \n",
       "5575-GNVDE               Mailed check           56.95      2071.84  \n",
       "3668-QPYBK               Mailed check           53.85       226.17  \n",
       "7795-CFOCW  Bank transfer (automatic)           42.30       1960.6  \n",
       "9237-HQITU           Electronic check           70.70        353.5  "
      ]
     },
     "execution_count": 3,
     "metadata": {},
     "output_type": "execute_result"
    }
   ],
   "source": [
    "try:\n",
    "    df_contract = pd.read_csv('datasets/contract_new.csv', index_col=0)\n",
    "except:\n",
    "    df_contract = pd.read_csv('/datasets/contract_new.csv', index_col=0)\n",
    "print(f'''Размер таблицы \"contract_new\": \n",
    "Строк - {df_contract.shape[0]}\n",
    "Столбцов - {df_contract.shape[1]}''')\n",
    "df_contract.head()"
   ]
  },
  {
   "cell_type": "markdown",
   "id": "736fb929",
   "metadata": {},
   "source": [
    "**Открываемм информацию о клиенте**"
   ]
  },
  {
   "cell_type": "code",
   "execution_count": 4,
   "id": "cee0100f",
   "metadata": {},
   "outputs": [
    {
     "name": "stdout",
     "output_type": "stream",
     "text": [
      "Размер таблицы \"personal_new\": \n",
      "Строк - 7043\n",
      "Столбцов - 4\n"
     ]
    },
    {
     "data": {
      "text/html": [
       "<div>\n",
       "<style scoped>\n",
       "    .dataframe tbody tr th:only-of-type {\n",
       "        vertical-align: middle;\n",
       "    }\n",
       "\n",
       "    .dataframe tbody tr th {\n",
       "        vertical-align: top;\n",
       "    }\n",
       "\n",
       "    .dataframe thead th {\n",
       "        text-align: right;\n",
       "    }\n",
       "</style>\n",
       "<table border=\"1\" class=\"dataframe\">\n",
       "  <thead>\n",
       "    <tr style=\"text-align: right;\">\n",
       "      <th></th>\n",
       "      <th>gender</th>\n",
       "      <th>SeniorCitizen</th>\n",
       "      <th>Partner</th>\n",
       "      <th>Dependents</th>\n",
       "    </tr>\n",
       "    <tr>\n",
       "      <th>customerID</th>\n",
       "      <th></th>\n",
       "      <th></th>\n",
       "      <th></th>\n",
       "      <th></th>\n",
       "    </tr>\n",
       "  </thead>\n",
       "  <tbody>\n",
       "    <tr>\n",
       "      <th>7590-VHVEG</th>\n",
       "      <td>Female</td>\n",
       "      <td>0</td>\n",
       "      <td>Yes</td>\n",
       "      <td>No</td>\n",
       "    </tr>\n",
       "    <tr>\n",
       "      <th>5575-GNVDE</th>\n",
       "      <td>Male</td>\n",
       "      <td>0</td>\n",
       "      <td>No</td>\n",
       "      <td>No</td>\n",
       "    </tr>\n",
       "    <tr>\n",
       "      <th>3668-QPYBK</th>\n",
       "      <td>Male</td>\n",
       "      <td>0</td>\n",
       "      <td>No</td>\n",
       "      <td>No</td>\n",
       "    </tr>\n",
       "    <tr>\n",
       "      <th>7795-CFOCW</th>\n",
       "      <td>Male</td>\n",
       "      <td>0</td>\n",
       "      <td>No</td>\n",
       "      <td>No</td>\n",
       "    </tr>\n",
       "    <tr>\n",
       "      <th>9237-HQITU</th>\n",
       "      <td>Female</td>\n",
       "      <td>0</td>\n",
       "      <td>No</td>\n",
       "      <td>No</td>\n",
       "    </tr>\n",
       "  </tbody>\n",
       "</table>\n",
       "</div>"
      ],
      "text/plain": [
       "            gender  SeniorCitizen Partner Dependents\n",
       "customerID                                          \n",
       "7590-VHVEG  Female              0     Yes         No\n",
       "5575-GNVDE    Male              0      No         No\n",
       "3668-QPYBK    Male              0      No         No\n",
       "7795-CFOCW    Male              0      No         No\n",
       "9237-HQITU  Female              0      No         No"
      ]
     },
     "execution_count": 4,
     "metadata": {},
     "output_type": "execute_result"
    }
   ],
   "source": [
    "try:\n",
    "    df_personal = pd.read_csv('datasets/personal_new.csv', index_col=0)\n",
    "except:\n",
    "    df_personal = pd.read_csv('/datasets/personal_new.csv', index_col=0)\n",
    "print(f'''Размер таблицы \"personal_new\": \n",
    "Строк - {df_personal.shape[0]}\n",
    "Столбцов - {df_personal.shape[1]}''')\n",
    "df_personal.head()"
   ]
  },
  {
   "cell_type": "markdown",
   "id": "95540229",
   "metadata": {},
   "source": [
    "**Открываемм информацию об интернет-услугах**"
   ]
  },
  {
   "cell_type": "code",
   "execution_count": 5,
   "id": "f3def6bf",
   "metadata": {},
   "outputs": [
    {
     "name": "stdout",
     "output_type": "stream",
     "text": [
      "Размер таблицы \"internet_new\": \n",
      "Строк - 5517\n",
      "Столбцов - 7\n"
     ]
    },
    {
     "data": {
      "text/html": [
       "<div>\n",
       "<style scoped>\n",
       "    .dataframe tbody tr th:only-of-type {\n",
       "        vertical-align: middle;\n",
       "    }\n",
       "\n",
       "    .dataframe tbody tr th {\n",
       "        vertical-align: top;\n",
       "    }\n",
       "\n",
       "    .dataframe thead th {\n",
       "        text-align: right;\n",
       "    }\n",
       "</style>\n",
       "<table border=\"1\" class=\"dataframe\">\n",
       "  <thead>\n",
       "    <tr style=\"text-align: right;\">\n",
       "      <th></th>\n",
       "      <th>InternetService</th>\n",
       "      <th>OnlineSecurity</th>\n",
       "      <th>OnlineBackup</th>\n",
       "      <th>DeviceProtection</th>\n",
       "      <th>TechSupport</th>\n",
       "      <th>StreamingTV</th>\n",
       "      <th>StreamingMovies</th>\n",
       "    </tr>\n",
       "    <tr>\n",
       "      <th>customerID</th>\n",
       "      <th></th>\n",
       "      <th></th>\n",
       "      <th></th>\n",
       "      <th></th>\n",
       "      <th></th>\n",
       "      <th></th>\n",
       "      <th></th>\n",
       "    </tr>\n",
       "  </thead>\n",
       "  <tbody>\n",
       "    <tr>\n",
       "      <th>7590-VHVEG</th>\n",
       "      <td>DSL</td>\n",
       "      <td>No</td>\n",
       "      <td>Yes</td>\n",
       "      <td>No</td>\n",
       "      <td>No</td>\n",
       "      <td>No</td>\n",
       "      <td>No</td>\n",
       "    </tr>\n",
       "    <tr>\n",
       "      <th>5575-GNVDE</th>\n",
       "      <td>DSL</td>\n",
       "      <td>Yes</td>\n",
       "      <td>No</td>\n",
       "      <td>Yes</td>\n",
       "      <td>No</td>\n",
       "      <td>No</td>\n",
       "      <td>No</td>\n",
       "    </tr>\n",
       "    <tr>\n",
       "      <th>3668-QPYBK</th>\n",
       "      <td>DSL</td>\n",
       "      <td>Yes</td>\n",
       "      <td>Yes</td>\n",
       "      <td>No</td>\n",
       "      <td>No</td>\n",
       "      <td>No</td>\n",
       "      <td>No</td>\n",
       "    </tr>\n",
       "    <tr>\n",
       "      <th>7795-CFOCW</th>\n",
       "      <td>DSL</td>\n",
       "      <td>Yes</td>\n",
       "      <td>No</td>\n",
       "      <td>Yes</td>\n",
       "      <td>Yes</td>\n",
       "      <td>No</td>\n",
       "      <td>No</td>\n",
       "    </tr>\n",
       "    <tr>\n",
       "      <th>9237-HQITU</th>\n",
       "      <td>Fiber optic</td>\n",
       "      <td>No</td>\n",
       "      <td>No</td>\n",
       "      <td>No</td>\n",
       "      <td>No</td>\n",
       "      <td>No</td>\n",
       "      <td>No</td>\n",
       "    </tr>\n",
       "  </tbody>\n",
       "</table>\n",
       "</div>"
      ],
      "text/plain": [
       "           InternetService OnlineSecurity OnlineBackup DeviceProtection  \\\n",
       "customerID                                                                \n",
       "7590-VHVEG             DSL             No          Yes               No   \n",
       "5575-GNVDE             DSL            Yes           No              Yes   \n",
       "3668-QPYBK             DSL            Yes          Yes               No   \n",
       "7795-CFOCW             DSL            Yes           No              Yes   \n",
       "9237-HQITU     Fiber optic             No           No               No   \n",
       "\n",
       "           TechSupport StreamingTV StreamingMovies  \n",
       "customerID                                          \n",
       "7590-VHVEG          No          No              No  \n",
       "5575-GNVDE          No          No              No  \n",
       "3668-QPYBK          No          No              No  \n",
       "7795-CFOCW         Yes          No              No  \n",
       "9237-HQITU          No          No              No  "
      ]
     },
     "execution_count": 5,
     "metadata": {},
     "output_type": "execute_result"
    }
   ],
   "source": [
    "try:\n",
    "    df_internet = pd.read_csv('datasets/internet_new.csv', index_col=0)\n",
    "except:\n",
    "    df_internet = pd.read_csv('/datasets/internet_new.csv', index_col=0)\n",
    "print(f'''Размер таблицы \"internet_new\": \n",
    "Строк - {df_internet.shape[0]}\n",
    "Столбцов - {df_internet.shape[1]}''')\n",
    "df_internet.head()"
   ]
  },
  {
   "cell_type": "markdown",
   "id": "fe8e521a",
   "metadata": {},
   "source": [
    "**Открываемм информацию об услугах телефонии**"
   ]
  },
  {
   "cell_type": "code",
   "execution_count": 6,
   "id": "2b7865f1",
   "metadata": {},
   "outputs": [
    {
     "name": "stdout",
     "output_type": "stream",
     "text": [
      "Размер таблицы \"phone_new\": \n",
      "Строк - 6361\n",
      "Столбцов - 1\n"
     ]
    },
    {
     "data": {
      "text/html": [
       "<div>\n",
       "<style scoped>\n",
       "    .dataframe tbody tr th:only-of-type {\n",
       "        vertical-align: middle;\n",
       "    }\n",
       "\n",
       "    .dataframe tbody tr th {\n",
       "        vertical-align: top;\n",
       "    }\n",
       "\n",
       "    .dataframe thead th {\n",
       "        text-align: right;\n",
       "    }\n",
       "</style>\n",
       "<table border=\"1\" class=\"dataframe\">\n",
       "  <thead>\n",
       "    <tr style=\"text-align: right;\">\n",
       "      <th></th>\n",
       "      <th>MultipleLines</th>\n",
       "    </tr>\n",
       "    <tr>\n",
       "      <th>customerID</th>\n",
       "      <th></th>\n",
       "    </tr>\n",
       "  </thead>\n",
       "  <tbody>\n",
       "    <tr>\n",
       "      <th>5575-GNVDE</th>\n",
       "      <td>No</td>\n",
       "    </tr>\n",
       "    <tr>\n",
       "      <th>3668-QPYBK</th>\n",
       "      <td>No</td>\n",
       "    </tr>\n",
       "    <tr>\n",
       "      <th>9237-HQITU</th>\n",
       "      <td>No</td>\n",
       "    </tr>\n",
       "    <tr>\n",
       "      <th>9305-CDSKC</th>\n",
       "      <td>Yes</td>\n",
       "    </tr>\n",
       "    <tr>\n",
       "      <th>1452-KIOVK</th>\n",
       "      <td>Yes</td>\n",
       "    </tr>\n",
       "  </tbody>\n",
       "</table>\n",
       "</div>"
      ],
      "text/plain": [
       "           MultipleLines\n",
       "customerID              \n",
       "5575-GNVDE            No\n",
       "3668-QPYBK            No\n",
       "9237-HQITU            No\n",
       "9305-CDSKC           Yes\n",
       "1452-KIOVK           Yes"
      ]
     },
     "execution_count": 6,
     "metadata": {},
     "output_type": "execute_result"
    }
   ],
   "source": [
    "try:\n",
    "    df_phone = pd.read_csv('datasets/phone_new.csv', index_col=0)\n",
    "except:\n",
    "    df_phone = pd.read_csv('/datasets/phone_new.csv', index_col=0)\n",
    "print(f'''Размер таблицы \"phone_new\": \n",
    "Строк - {df_phone.shape[0]}\n",
    "Столбцов - {df_phone.shape[1]}''')\n",
    "df_phone.head()"
   ]
  },
  {
   "cell_type": "markdown",
   "id": "1d526c77",
   "metadata": {},
   "source": [
    "**Соеденим все данные без потерь**"
   ]
  },
  {
   "cell_type": "code",
   "execution_count": 7,
   "id": "a1c8e275",
   "metadata": {},
   "outputs": [
    {
     "name": "stdout",
     "output_type": "stream",
     "text": [
      "Размер общей таблицы: \n",
      "Строк - 7043\n",
      "Столбцов - 19\n"
     ]
    },
    {
     "data": {
      "text/html": [
       "<div>\n",
       "<style scoped>\n",
       "    .dataframe tbody tr th:only-of-type {\n",
       "        vertical-align: middle;\n",
       "    }\n",
       "\n",
       "    .dataframe tbody tr th {\n",
       "        vertical-align: top;\n",
       "    }\n",
       "\n",
       "    .dataframe thead th {\n",
       "        text-align: right;\n",
       "    }\n",
       "</style>\n",
       "<table border=\"1\" class=\"dataframe\">\n",
       "  <thead>\n",
       "    <tr style=\"text-align: right;\">\n",
       "      <th></th>\n",
       "      <th>BeginDate</th>\n",
       "      <th>EndDate</th>\n",
       "      <th>Type</th>\n",
       "      <th>PaperlessBilling</th>\n",
       "      <th>PaymentMethod</th>\n",
       "      <th>MonthlyCharges</th>\n",
       "      <th>TotalCharges</th>\n",
       "      <th>gender</th>\n",
       "      <th>SeniorCitizen</th>\n",
       "      <th>Partner</th>\n",
       "      <th>Dependents</th>\n",
       "      <th>InternetService</th>\n",
       "      <th>OnlineSecurity</th>\n",
       "      <th>OnlineBackup</th>\n",
       "      <th>DeviceProtection</th>\n",
       "      <th>TechSupport</th>\n",
       "      <th>StreamingTV</th>\n",
       "      <th>StreamingMovies</th>\n",
       "      <th>MultipleLines</th>\n",
       "    </tr>\n",
       "    <tr>\n",
       "      <th>customerID</th>\n",
       "      <th></th>\n",
       "      <th></th>\n",
       "      <th></th>\n",
       "      <th></th>\n",
       "      <th></th>\n",
       "      <th></th>\n",
       "      <th></th>\n",
       "      <th></th>\n",
       "      <th></th>\n",
       "      <th></th>\n",
       "      <th></th>\n",
       "      <th></th>\n",
       "      <th></th>\n",
       "      <th></th>\n",
       "      <th></th>\n",
       "      <th></th>\n",
       "      <th></th>\n",
       "      <th></th>\n",
       "      <th></th>\n",
       "    </tr>\n",
       "  </thead>\n",
       "  <tbody>\n",
       "    <tr>\n",
       "      <th>7590-VHVEG</th>\n",
       "      <td>2020-01-01</td>\n",
       "      <td>No</td>\n",
       "      <td>Month-to-month</td>\n",
       "      <td>Yes</td>\n",
       "      <td>Electronic check</td>\n",
       "      <td>29.85</td>\n",
       "      <td>31.04</td>\n",
       "      <td>Female</td>\n",
       "      <td>0</td>\n",
       "      <td>Yes</td>\n",
       "      <td>No</td>\n",
       "      <td>DSL</td>\n",
       "      <td>No</td>\n",
       "      <td>Yes</td>\n",
       "      <td>No</td>\n",
       "      <td>No</td>\n",
       "      <td>No</td>\n",
       "      <td>No</td>\n",
       "      <td>NaN</td>\n",
       "    </tr>\n",
       "    <tr>\n",
       "      <th>5575-GNVDE</th>\n",
       "      <td>2017-04-01</td>\n",
       "      <td>No</td>\n",
       "      <td>One year</td>\n",
       "      <td>No</td>\n",
       "      <td>Mailed check</td>\n",
       "      <td>56.95</td>\n",
       "      <td>2071.84</td>\n",
       "      <td>Male</td>\n",
       "      <td>0</td>\n",
       "      <td>No</td>\n",
       "      <td>No</td>\n",
       "      <td>DSL</td>\n",
       "      <td>Yes</td>\n",
       "      <td>No</td>\n",
       "      <td>Yes</td>\n",
       "      <td>No</td>\n",
       "      <td>No</td>\n",
       "      <td>No</td>\n",
       "      <td>No</td>\n",
       "    </tr>\n",
       "    <tr>\n",
       "      <th>3668-QPYBK</th>\n",
       "      <td>2019-10-01</td>\n",
       "      <td>No</td>\n",
       "      <td>Month-to-month</td>\n",
       "      <td>Yes</td>\n",
       "      <td>Mailed check</td>\n",
       "      <td>53.85</td>\n",
       "      <td>226.17</td>\n",
       "      <td>Male</td>\n",
       "      <td>0</td>\n",
       "      <td>No</td>\n",
       "      <td>No</td>\n",
       "      <td>DSL</td>\n",
       "      <td>Yes</td>\n",
       "      <td>Yes</td>\n",
       "      <td>No</td>\n",
       "      <td>No</td>\n",
       "      <td>No</td>\n",
       "      <td>No</td>\n",
       "      <td>No</td>\n",
       "    </tr>\n",
       "    <tr>\n",
       "      <th>7795-CFOCW</th>\n",
       "      <td>2016-05-01</td>\n",
       "      <td>No</td>\n",
       "      <td>One year</td>\n",
       "      <td>No</td>\n",
       "      <td>Bank transfer (automatic)</td>\n",
       "      <td>42.30</td>\n",
       "      <td>1960.6</td>\n",
       "      <td>Male</td>\n",
       "      <td>0</td>\n",
       "      <td>No</td>\n",
       "      <td>No</td>\n",
       "      <td>DSL</td>\n",
       "      <td>Yes</td>\n",
       "      <td>No</td>\n",
       "      <td>Yes</td>\n",
       "      <td>Yes</td>\n",
       "      <td>No</td>\n",
       "      <td>No</td>\n",
       "      <td>NaN</td>\n",
       "    </tr>\n",
       "    <tr>\n",
       "      <th>9237-HQITU</th>\n",
       "      <td>2019-09-01</td>\n",
       "      <td>No</td>\n",
       "      <td>Month-to-month</td>\n",
       "      <td>Yes</td>\n",
       "      <td>Electronic check</td>\n",
       "      <td>70.70</td>\n",
       "      <td>353.5</td>\n",
       "      <td>Female</td>\n",
       "      <td>0</td>\n",
       "      <td>No</td>\n",
       "      <td>No</td>\n",
       "      <td>Fiber optic</td>\n",
       "      <td>No</td>\n",
       "      <td>No</td>\n",
       "      <td>No</td>\n",
       "      <td>No</td>\n",
       "      <td>No</td>\n",
       "      <td>No</td>\n",
       "      <td>No</td>\n",
       "    </tr>\n",
       "  </tbody>\n",
       "</table>\n",
       "</div>"
      ],
      "text/plain": [
       "             BeginDate EndDate            Type PaperlessBilling  \\\n",
       "customerID                                                        \n",
       "7590-VHVEG  2020-01-01      No  Month-to-month              Yes   \n",
       "5575-GNVDE  2017-04-01      No        One year               No   \n",
       "3668-QPYBK  2019-10-01      No  Month-to-month              Yes   \n",
       "7795-CFOCW  2016-05-01      No        One year               No   \n",
       "9237-HQITU  2019-09-01      No  Month-to-month              Yes   \n",
       "\n",
       "                        PaymentMethod  MonthlyCharges TotalCharges  gender  \\\n",
       "customerID                                                                   \n",
       "7590-VHVEG           Electronic check           29.85        31.04  Female   \n",
       "5575-GNVDE               Mailed check           56.95      2071.84    Male   \n",
       "3668-QPYBK               Mailed check           53.85       226.17    Male   \n",
       "7795-CFOCW  Bank transfer (automatic)           42.30       1960.6    Male   \n",
       "9237-HQITU           Electronic check           70.70        353.5  Female   \n",
       "\n",
       "            SeniorCitizen Partner Dependents InternetService OnlineSecurity  \\\n",
       "customerID                                                                    \n",
       "7590-VHVEG              0     Yes         No             DSL             No   \n",
       "5575-GNVDE              0      No         No             DSL            Yes   \n",
       "3668-QPYBK              0      No         No             DSL            Yes   \n",
       "7795-CFOCW              0      No         No             DSL            Yes   \n",
       "9237-HQITU              0      No         No     Fiber optic             No   \n",
       "\n",
       "           OnlineBackup DeviceProtection TechSupport StreamingTV  \\\n",
       "customerID                                                         \n",
       "7590-VHVEG          Yes               No          No          No   \n",
       "5575-GNVDE           No              Yes          No          No   \n",
       "3668-QPYBK          Yes               No          No          No   \n",
       "7795-CFOCW           No              Yes         Yes          No   \n",
       "9237-HQITU           No               No          No          No   \n",
       "\n",
       "           StreamingMovies MultipleLines  \n",
       "customerID                                \n",
       "7590-VHVEG              No           NaN  \n",
       "5575-GNVDE              No            No  \n",
       "3668-QPYBK              No            No  \n",
       "7795-CFOCW              No           NaN  \n",
       "9237-HQITU              No            No  "
      ]
     },
     "execution_count": 7,
     "metadata": {},
     "output_type": "execute_result"
    }
   ],
   "source": [
    "df = df_contract.merge(df_personal, \n",
    "                       left_index=True, \n",
    "                       right_index=True).merge(df_internet, \n",
    "                                               left_index=True, \n",
    "                                               right_index=True,\n",
    "                                               how='left').merge(df_phone, \n",
    "                                                                 left_index=True, \n",
    "                                                                 right_index=True, \n",
    "                                                                 how='left')\n",
    "print(f'''Размер общей таблицы: \n",
    "Строк - {df.shape[0]}\n",
    "Столбцов - {df.shape[1]}''')\n",
    "df.head()"
   ]
  },
  {
   "cell_type": "markdown",
   "id": "a62536f3",
   "metadata": {},
   "source": [
    "**переименуем колонки под стать**"
   ]
  },
  {
   "cell_type": "code",
   "execution_count": 8,
   "id": "ebdc81bd",
   "metadata": {},
   "outputs": [
    {
     "data": {
      "text/html": [
       "<div>\n",
       "<style scoped>\n",
       "    .dataframe tbody tr th:only-of-type {\n",
       "        vertical-align: middle;\n",
       "    }\n",
       "\n",
       "    .dataframe tbody tr th {\n",
       "        vertical-align: top;\n",
       "    }\n",
       "\n",
       "    .dataframe thead th {\n",
       "        text-align: right;\n",
       "    }\n",
       "</style>\n",
       "<table border=\"1\" class=\"dataframe\">\n",
       "  <thead>\n",
       "    <tr style=\"text-align: right;\">\n",
       "      <th></th>\n",
       "      <th>begin_date</th>\n",
       "      <th>end_date</th>\n",
       "      <th>type</th>\n",
       "      <th>paperless_billing</th>\n",
       "      <th>payment_method</th>\n",
       "      <th>monthly_charges</th>\n",
       "      <th>total_charges</th>\n",
       "      <th>gender</th>\n",
       "      <th>senior_citizen</th>\n",
       "      <th>partner</th>\n",
       "      <th>dependents</th>\n",
       "      <th>internet_service</th>\n",
       "      <th>online_security</th>\n",
       "      <th>online_backup</th>\n",
       "      <th>device_protection</th>\n",
       "      <th>tech_support</th>\n",
       "      <th>streaming_tv</th>\n",
       "      <th>streaming_movies</th>\n",
       "      <th>multiple_lines</th>\n",
       "    </tr>\n",
       "    <tr>\n",
       "      <th>customer_id</th>\n",
       "      <th></th>\n",
       "      <th></th>\n",
       "      <th></th>\n",
       "      <th></th>\n",
       "      <th></th>\n",
       "      <th></th>\n",
       "      <th></th>\n",
       "      <th></th>\n",
       "      <th></th>\n",
       "      <th></th>\n",
       "      <th></th>\n",
       "      <th></th>\n",
       "      <th></th>\n",
       "      <th></th>\n",
       "      <th></th>\n",
       "      <th></th>\n",
       "      <th></th>\n",
       "      <th></th>\n",
       "      <th></th>\n",
       "    </tr>\n",
       "  </thead>\n",
       "  <tbody>\n",
       "    <tr>\n",
       "      <th>7590-VHVEG</th>\n",
       "      <td>2020-01-01</td>\n",
       "      <td>No</td>\n",
       "      <td>Month-to-month</td>\n",
       "      <td>Yes</td>\n",
       "      <td>Electronic check</td>\n",
       "      <td>29.85</td>\n",
       "      <td>31.04</td>\n",
       "      <td>Female</td>\n",
       "      <td>0</td>\n",
       "      <td>Yes</td>\n",
       "      <td>No</td>\n",
       "      <td>DSL</td>\n",
       "      <td>No</td>\n",
       "      <td>Yes</td>\n",
       "      <td>No</td>\n",
       "      <td>No</td>\n",
       "      <td>No</td>\n",
       "      <td>No</td>\n",
       "      <td>NaN</td>\n",
       "    </tr>\n",
       "    <tr>\n",
       "      <th>5575-GNVDE</th>\n",
       "      <td>2017-04-01</td>\n",
       "      <td>No</td>\n",
       "      <td>One year</td>\n",
       "      <td>No</td>\n",
       "      <td>Mailed check</td>\n",
       "      <td>56.95</td>\n",
       "      <td>2071.84</td>\n",
       "      <td>Male</td>\n",
       "      <td>0</td>\n",
       "      <td>No</td>\n",
       "      <td>No</td>\n",
       "      <td>DSL</td>\n",
       "      <td>Yes</td>\n",
       "      <td>No</td>\n",
       "      <td>Yes</td>\n",
       "      <td>No</td>\n",
       "      <td>No</td>\n",
       "      <td>No</td>\n",
       "      <td>No</td>\n",
       "    </tr>\n",
       "    <tr>\n",
       "      <th>3668-QPYBK</th>\n",
       "      <td>2019-10-01</td>\n",
       "      <td>No</td>\n",
       "      <td>Month-to-month</td>\n",
       "      <td>Yes</td>\n",
       "      <td>Mailed check</td>\n",
       "      <td>53.85</td>\n",
       "      <td>226.17</td>\n",
       "      <td>Male</td>\n",
       "      <td>0</td>\n",
       "      <td>No</td>\n",
       "      <td>No</td>\n",
       "      <td>DSL</td>\n",
       "      <td>Yes</td>\n",
       "      <td>Yes</td>\n",
       "      <td>No</td>\n",
       "      <td>No</td>\n",
       "      <td>No</td>\n",
       "      <td>No</td>\n",
       "      <td>No</td>\n",
       "    </tr>\n",
       "    <tr>\n",
       "      <th>7795-CFOCW</th>\n",
       "      <td>2016-05-01</td>\n",
       "      <td>No</td>\n",
       "      <td>One year</td>\n",
       "      <td>No</td>\n",
       "      <td>Bank transfer (automatic)</td>\n",
       "      <td>42.30</td>\n",
       "      <td>1960.6</td>\n",
       "      <td>Male</td>\n",
       "      <td>0</td>\n",
       "      <td>No</td>\n",
       "      <td>No</td>\n",
       "      <td>DSL</td>\n",
       "      <td>Yes</td>\n",
       "      <td>No</td>\n",
       "      <td>Yes</td>\n",
       "      <td>Yes</td>\n",
       "      <td>No</td>\n",
       "      <td>No</td>\n",
       "      <td>NaN</td>\n",
       "    </tr>\n",
       "    <tr>\n",
       "      <th>9237-HQITU</th>\n",
       "      <td>2019-09-01</td>\n",
       "      <td>No</td>\n",
       "      <td>Month-to-month</td>\n",
       "      <td>Yes</td>\n",
       "      <td>Electronic check</td>\n",
       "      <td>70.70</td>\n",
       "      <td>353.5</td>\n",
       "      <td>Female</td>\n",
       "      <td>0</td>\n",
       "      <td>No</td>\n",
       "      <td>No</td>\n",
       "      <td>Fiber optic</td>\n",
       "      <td>No</td>\n",
       "      <td>No</td>\n",
       "      <td>No</td>\n",
       "      <td>No</td>\n",
       "      <td>No</td>\n",
       "      <td>No</td>\n",
       "      <td>No</td>\n",
       "    </tr>\n",
       "  </tbody>\n",
       "</table>\n",
       "</div>"
      ],
      "text/plain": [
       "             begin_date end_date            type paperless_billing  \\\n",
       "customer_id                                                          \n",
       "7590-VHVEG   2020-01-01       No  Month-to-month               Yes   \n",
       "5575-GNVDE   2017-04-01       No        One year                No   \n",
       "3668-QPYBK   2019-10-01       No  Month-to-month               Yes   \n",
       "7795-CFOCW   2016-05-01       No        One year                No   \n",
       "9237-HQITU   2019-09-01       No  Month-to-month               Yes   \n",
       "\n",
       "                        payment_method  monthly_charges total_charges  gender  \\\n",
       "customer_id                                                                     \n",
       "7590-VHVEG            Electronic check            29.85         31.04  Female   \n",
       "5575-GNVDE                Mailed check            56.95       2071.84    Male   \n",
       "3668-QPYBK                Mailed check            53.85        226.17    Male   \n",
       "7795-CFOCW   Bank transfer (automatic)            42.30        1960.6    Male   \n",
       "9237-HQITU            Electronic check            70.70         353.5  Female   \n",
       "\n",
       "             senior_citizen partner dependents internet_service  \\\n",
       "customer_id                                                       \n",
       "7590-VHVEG                0     Yes         No              DSL   \n",
       "5575-GNVDE                0      No         No              DSL   \n",
       "3668-QPYBK                0      No         No              DSL   \n",
       "7795-CFOCW                0      No         No              DSL   \n",
       "9237-HQITU                0      No         No      Fiber optic   \n",
       "\n",
       "            online_security online_backup device_protection tech_support  \\\n",
       "customer_id                                                                \n",
       "7590-VHVEG               No           Yes                No           No   \n",
       "5575-GNVDE              Yes            No               Yes           No   \n",
       "3668-QPYBK              Yes           Yes                No           No   \n",
       "7795-CFOCW              Yes            No               Yes          Yes   \n",
       "9237-HQITU               No            No                No           No   \n",
       "\n",
       "            streaming_tv streaming_movies multiple_lines  \n",
       "customer_id                                               \n",
       "7590-VHVEG            No               No            NaN  \n",
       "5575-GNVDE            No               No             No  \n",
       "3668-QPYBK            No               No             No  \n",
       "7795-CFOCW            No               No            NaN  \n",
       "9237-HQITU            No               No             No  "
      ]
     },
     "execution_count": 8,
     "metadata": {},
     "output_type": "execute_result"
    }
   ],
   "source": [
    "df.columns = [re.sub(r'(?<!^)(?=[A-Z])', '_', i).lower() for i in df.columns]\n",
    "df = df.rename(columns={'streaming_t_v':'streaming_tv'}) # в процессе заметил\n",
    "df.index.name = 'customer_id'\n",
    "df.head()"
   ]
  },
  {
   "cell_type": "markdown",
   "id": "261db8b1",
   "metadata": {},
   "source": [
    "**Набор признаков:**\n",
    "<br>*begin_date - дата заключения договора\n",
    "<br>end_date - дата расторжения договора\n",
    "<br>type - тип оплаты (месяц/год...)\n",
    "<br>paperless_billing - электронное выставление счета\n",
    "<br>payment_method - способ оплаты\n",
    "<br>monthly_charges - ежемесячная оплата\n",
    "<br>total_charges - общая сумма расходов\n",
    "<br>gender - пол\n",
    "<br>senior_citizen - пожилая возрастная категория\n",
    "<br>partner\t- партнерство\n",
    "<br>dependents - наличие иждевенциев\n",
    "<br>internet_service - доступ в интернет\n",
    "<br>online_security - интернет защита\n",
    "<br>online_backup - облачное хранилище\n",
    "<br>device_protection - антивирус\n",
    "<br>tech_support - тех потдержка\n",
    "<br>streaming_tv - стриминговое телевидиние\n",
    "<br>streaming_movies - кинотека\n",
    "<br>multiple_lines - несколько линий связи*"
   ]
  },
  {
   "cell_type": "markdown",
   "id": "6000cf08",
   "metadata": {},
   "source": [
    "**Рассмотрим признаки**"
   ]
  },
  {
   "cell_type": "code",
   "execution_count": 9,
   "id": "01150e8d",
   "metadata": {},
   "outputs": [],
   "source": [
    "def feat_info(feature):\n",
    "    print('-'*100)\n",
    "    print(f'{feature.upper()}\\n')\n",
    "    print(f'Первые пять строк:\\n{df[feature].head()}')\n",
    "    print('-'*100)\n",
    "    print(f'Описательная статистика:\\n{df[feature].describe()}')\n",
    "    print('-'*100)\n",
    "    print(f'Количество уникальных значений:\\n{df[feature].value_counts()}')\n",
    "    print('-'*100)\n",
    "    try:\n",
    "        df[feature].hist()\n",
    "        plt.show()\n",
    "    except:\n",
    "        print('Не удалось построить график')\n",
    "    print('-'*100)\n",
    "    print('~'*100)"
   ]
  },
  {
   "cell_type": "code",
   "execution_count": 10,
   "id": "969a52b9",
   "metadata": {
    "scrolled": true
   },
   "outputs": [
    {
     "name": "stdout",
     "output_type": "stream",
     "text": [
      "----------------------------------------------------------------------------------------------------\n",
      "BEGIN_DATE\n",
      "\n",
      "Первые пять строк:\n",
      "customer_id\n",
      "7590-VHVEG    2020-01-01\n",
      "5575-GNVDE    2017-04-01\n",
      "3668-QPYBK    2019-10-01\n",
      "7795-CFOCW    2016-05-01\n",
      "9237-HQITU    2019-09-01\n",
      "Name: begin_date, dtype: object\n",
      "----------------------------------------------------------------------------------------------------\n",
      "Описательная статистика:\n",
      "count           7043\n",
      "unique            77\n",
      "top       2014-02-01\n",
      "freq             366\n",
      "Name: begin_date, dtype: object\n",
      "----------------------------------------------------------------------------------------------------\n",
      "Количество уникальных значений:\n",
      "2014-02-01    366\n",
      "2019-10-01    237\n",
      "2019-11-01    237\n",
      "2019-09-01    237\n",
      "2020-01-01    233\n",
      "             ... \n",
      "2020-02-01     11\n",
      "2014-01-01      7\n",
      "2013-10-01      3\n",
      "2013-12-01      3\n",
      "2013-11-01      2\n",
      "Name: begin_date, Length: 77, dtype: int64\n",
      "----------------------------------------------------------------------------------------------------\n"
     ]
    },
    {
     "data": {
      "image/png": "[encoded data removed]",
      "text/plain": [
       "<Figure size 432x288 with 1 Axes>"
      ]
     },
     "metadata": {
      "needs_background": "light"
     },
     "output_type": "display_data"
    },
    {
     "name": "stdout",
     "output_type": "stream",
     "text": [
      "----------------------------------------------------------------------------------------------------\n",
      "~~~~~~~~~~~~~~~~~~~~~~~~~~~~~~~~~~~~~~~~~~~~~~~~~~~~~~~~~~~~~~~~~~~~~~~~~~~~~~~~~~~~~~~~~~~~~~~~~~~~\n",
      "----------------------------------------------------------------------------------------------------\n",
      "END_DATE\n",
      "\n",
      "Первые пять строк:\n",
      "customer_id\n",
      "7590-VHVEG    No\n",
      "5575-GNVDE    No\n",
      "3668-QPYBK    No\n",
      "7795-CFOCW    No\n",
      "9237-HQITU    No\n",
      "Name: end_date, dtype: object\n",
      "----------------------------------------------------------------------------------------------------\n",
      "Описательная статистика:\n",
      "count     7043\n",
      "unique      67\n",
      "top         No\n",
      "freq      5942\n",
      "Name: end_date, dtype: object\n",
      "----------------------------------------------------------------------------------------------------\n",
      "Количество уникальных значений:\n",
      "No            5942\n",
      "2020-01-01      39\n",
      "2019-12-01      38\n",
      "2018-11-01      35\n",
      "2019-09-01      32\n",
      "              ... \n",
      "2014-09-01       2\n",
      "2014-12-01       2\n",
      "2014-06-01       1\n",
      "2014-10-01       1\n",
      "2014-11-01       1\n",
      "Name: end_date, Length: 67, dtype: int64\n",
      "----------------------------------------------------------------------------------------------------\n"
     ]
    },
    {
     "data": {
      "image/png": "[encoded data removed]",
      "text/plain": [
       "<Figure size 432x288 with 1 Axes>"
      ]
     },
     "metadata": {
      "needs_background": "light"
     },
     "output_type": "display_data"
    },
    {
     "name": "stdout",
     "output_type": "stream",
     "text": [
      "----------------------------------------------------------------------------------------------------\n",
      "~~~~~~~~~~~~~~~~~~~~~~~~~~~~~~~~~~~~~~~~~~~~~~~~~~~~~~~~~~~~~~~~~~~~~~~~~~~~~~~~~~~~~~~~~~~~~~~~~~~~\n",
      "----------------------------------------------------------------------------------------------------\n",
      "TYPE\n",
      "\n",
      "Первые пять строк:\n",
      "customer_id\n",
      "7590-VHVEG    Month-to-month\n",
      "5575-GNVDE          One year\n",
      "3668-QPYBK    Month-to-month\n",
      "7795-CFOCW          One year\n",
      "9237-HQITU    Month-to-month\n",
      "Name: type, dtype: object\n",
      "----------------------------------------------------------------------------------------------------\n",
      "Описательная статистика:\n",
      "count               7043\n",
      "unique                 3\n",
      "top       Month-to-month\n",
      "freq                3875\n",
      "Name: type, dtype: object\n",
      "----------------------------------------------------------------------------------------------------\n",
      "Количество уникальных значений:\n",
      "Month-to-month    3875\n",
      "Two year          1695\n",
      "One year          1473\n",
      "Name: type, dtype: int64\n",
      "----------------------------------------------------------------------------------------------------\n"
     ]
    },
    {
     "data": {
      "image/png": "[encoded data removed]",
      "text/plain": [
       "<Figure size 432x288 with 1 Axes>"
      ]
     },
     "metadata": {
      "needs_background": "light"
     },
     "output_type": "display_data"
    },
    {
     "name": "stdout",
     "output_type": "stream",
     "text": [
      "----------------------------------------------------------------------------------------------------\n",
      "~~~~~~~~~~~~~~~~~~~~~~~~~~~~~~~~~~~~~~~~~~~~~~~~~~~~~~~~~~~~~~~~~~~~~~~~~~~~~~~~~~~~~~~~~~~~~~~~~~~~\n",
      "----------------------------------------------------------------------------------------------------\n",
      "PAPERLESS_BILLING\n",
      "\n",
      "Первые пять строк:\n",
      "customer_id\n",
      "7590-VHVEG    Yes\n",
      "5575-GNVDE     No\n",
      "3668-QPYBK    Yes\n",
      "7795-CFOCW     No\n",
      "9237-HQITU    Yes\n",
      "Name: paperless_billing, dtype: object\n",
      "----------------------------------------------------------------------------------------------------\n",
      "Описательная статистика:\n",
      "count     7043\n",
      "unique       2\n",
      "top        Yes\n",
      "freq      4171\n",
      "Name: paperless_billing, dtype: object\n",
      "----------------------------------------------------------------------------------------------------\n",
      "Количество уникальных значений:\n",
      "Yes    4171\n",
      "No     2872\n",
      "Name: paperless_billing, dtype: int64\n",
      "----------------------------------------------------------------------------------------------------\n"
     ]
    },
    {
     "data": {
      "image/png": "[encoded data removed]",
      "text/plain": [
       "<Figure size 432x288 with 1 Axes>"
      ]
     },
     "metadata": {
      "needs_background": "light"
     },
     "output_type": "display_data"
    },
    {
     "name": "stdout",
     "output_type": "stream",
     "text": [
      "----------------------------------------------------------------------------------------------------\n",
      "~~~~~~~~~~~~~~~~~~~~~~~~~~~~~~~~~~~~~~~~~~~~~~~~~~~~~~~~~~~~~~~~~~~~~~~~~~~~~~~~~~~~~~~~~~~~~~~~~~~~\n",
      "----------------------------------------------------------------------------------------------------\n",
      "PAYMENT_METHOD\n",
      "\n",
      "Первые пять строк:\n",
      "customer_id\n",
      "7590-VHVEG             Electronic check\n",
      "5575-GNVDE                 Mailed check\n",
      "3668-QPYBK                 Mailed check\n",
      "7795-CFOCW    Bank transfer (automatic)\n",
      "9237-HQITU             Electronic check\n",
      "Name: payment_method, dtype: object\n",
      "----------------------------------------------------------------------------------------------------\n",
      "Описательная статистика:\n",
      "count                 7043\n",
      "unique                   4\n",
      "top       Electronic check\n",
      "freq                  2365\n",
      "Name: payment_method, dtype: object\n",
      "----------------------------------------------------------------------------------------------------\n",
      "Количество уникальных значений:\n",
      "Electronic check             2365\n",
      "Mailed check                 1612\n",
      "Bank transfer (automatic)    1544\n",
      "Credit card (automatic)      1522\n",
      "Name: payment_method, dtype: int64\n",
      "----------------------------------------------------------------------------------------------------\n"
     ]
    },
    {
     "data": {
      "image/png": "[encoded data removed]",
      "text/plain": [
       "<Figure size 432x288 with 1 Axes>"
      ]
     },
     "metadata": {
      "needs_background": "light"
     },
     "output_type": "display_data"
    },
    {
     "name": "stdout",
     "output_type": "stream",
     "text": [
      "----------------------------------------------------------------------------------------------------\n",
      "~~~~~~~~~~~~~~~~~~~~~~~~~~~~~~~~~~~~~~~~~~~~~~~~~~~~~~~~~~~~~~~~~~~~~~~~~~~~~~~~~~~~~~~~~~~~~~~~~~~~\n",
      "----------------------------------------------------------------------------------------------------\n",
      "MONTHLY_CHARGES\n",
      "\n",
      "Первые пять строк:\n",
      "customer_id\n",
      "7590-VHVEG    29.85\n",
      "5575-GNVDE    56.95\n",
      "3668-QPYBK    53.85\n",
      "7795-CFOCW    42.30\n",
      "9237-HQITU    70.70\n",
      "Name: monthly_charges, dtype: float64\n",
      "----------------------------------------------------------------------------------------------------\n",
      "Описательная статистика:\n",
      "count    7043.000000\n",
      "mean       64.761692\n",
      "std        30.090047\n",
      "min        18.250000\n",
      "25%        35.500000\n",
      "50%        70.350000\n",
      "75%        89.850000\n",
      "max       118.750000\n",
      "Name: monthly_charges, dtype: float64\n",
      "----------------------------------------------------------------------------------------------------\n",
      "Количество уникальных значений:\n",
      "20.05     61\n",
      "19.85     45\n",
      "19.95     44\n",
      "19.90     44\n",
      "20.00     43\n",
      "          ..\n",
      "23.65      1\n",
      "114.70     1\n",
      "43.65      1\n",
      "87.80      1\n",
      "78.70      1\n",
      "Name: monthly_charges, Length: 1585, dtype: int64\n",
      "----------------------------------------------------------------------------------------------------\n"
     ]
    },
    {
     "data": {
      "image/png": "[encoded data removed]",
      "text/plain": [
       "<Figure size 432x288 with 1 Axes>"
      ]
     },
     "metadata": {
      "needs_background": "light"
     },
     "output_type": "display_data"
    },
    {
     "name": "stdout",
     "output_type": "stream",
     "text": [
      "----------------------------------------------------------------------------------------------------\n",
      "~~~~~~~~~~~~~~~~~~~~~~~~~~~~~~~~~~~~~~~~~~~~~~~~~~~~~~~~~~~~~~~~~~~~~~~~~~~~~~~~~~~~~~~~~~~~~~~~~~~~\n",
      "----------------------------------------------------------------------------------------------------\n",
      "TOTAL_CHARGES\n",
      "\n",
      "Первые пять строк:\n",
      "customer_id\n",
      "7590-VHVEG      31.04\n",
      "5575-GNVDE    2071.84\n",
      "3668-QPYBK     226.17\n",
      "7795-CFOCW     1960.6\n",
      "9237-HQITU      353.5\n",
      "Name: total_charges, dtype: object\n",
      "----------------------------------------------------------------------------------------------------\n",
      "Описательная статистика:\n",
      "count     7043\n",
      "unique    6658\n",
      "top           \n",
      "freq        11\n",
      "Name: total_charges, dtype: object\n",
      "----------------------------------------------------------------------------------------------------\n",
      "Количество уникальных значений:\n",
      "           11\n",
      "20.45       6\n",
      "101.0       5\n",
      "21.53       4\n",
      "40.1        4\n",
      "           ..\n",
      "4357.5      1\n",
      "3509.55     1\n",
      "2530.8      1\n",
      "2599.1      1\n",
      "7251.82     1\n",
      "Name: total_charges, Length: 6658, dtype: int64\n",
      "----------------------------------------------------------------------------------------------------\n"
     ]
    },
    {
     "data": {
      "image/png": "[encoded data removed]",
      "text/plain": [
       "<Figure size 432x288 with 1 Axes>"
      ]
     },
     "metadata": {
      "needs_background": "light"
     },
     "output_type": "display_data"
    },
    {
     "name": "stdout",
     "output_type": "stream",
     "text": [
      "----------------------------------------------------------------------------------------------------\n",
      "~~~~~~~~~~~~~~~~~~~~~~~~~~~~~~~~~~~~~~~~~~~~~~~~~~~~~~~~~~~~~~~~~~~~~~~~~~~~~~~~~~~~~~~~~~~~~~~~~~~~\n",
      "----------------------------------------------------------------------------------------------------\n",
      "GENDER\n",
      "\n",
      "Первые пять строк:\n",
      "customer_id\n",
      "7590-VHVEG    Female\n",
      "5575-GNVDE      Male\n",
      "3668-QPYBK      Male\n",
      "7795-CFOCW      Male\n",
      "9237-HQITU    Female\n",
      "Name: gender, dtype: object\n",
      "----------------------------------------------------------------------------------------------------\n",
      "Описательная статистика:\n",
      "count     7043\n",
      "unique       2\n",
      "top       Male\n",
      "freq      3555\n",
      "Name: gender, dtype: object\n",
      "----------------------------------------------------------------------------------------------------\n",
      "Количество уникальных значений:\n",
      "Male      3555\n",
      "Female    3488\n",
      "Name: gender, dtype: int64\n",
      "----------------------------------------------------------------------------------------------------\n"
     ]
    },
    {
     "data": {
      "image/png": "[encoded data removed]",
      "text/plain": [
       "<Figure size 432x288 with 1 Axes>"
      ]
     },
     "metadata": {
      "needs_background": "light"
     },
     "output_type": "display_data"
    },
    {
     "name": "stdout",
     "output_type": "stream",
     "text": [
      "----------------------------------------------------------------------------------------------------\n",
      "~~~~~~~~~~~~~~~~~~~~~~~~~~~~~~~~~~~~~~~~~~~~~~~~~~~~~~~~~~~~~~~~~~~~~~~~~~~~~~~~~~~~~~~~~~~~~~~~~~~~\n",
      "----------------------------------------------------------------------------------------------------\n",
      "SENIOR_CITIZEN\n",
      "\n",
      "Первые пять строк:\n",
      "customer_id\n",
      "7590-VHVEG    0\n",
      "5575-GNVDE    0\n",
      "3668-QPYBK    0\n",
      "7795-CFOCW    0\n",
      "9237-HQITU    0\n",
      "Name: senior_citizen, dtype: int64\n",
      "----------------------------------------------------------------------------------------------------\n",
      "Описательная статистика:\n",
      "count    7043.000000\n",
      "mean        0.162147\n",
      "std         0.368612\n",
      "min         0.000000\n",
      "25%         0.000000\n",
      "50%         0.000000\n",
      "75%         0.000000\n",
      "max         1.000000\n",
      "Name: senior_citizen, dtype: float64\n",
      "----------------------------------------------------------------------------------------------------\n",
      "Количество уникальных значений:\n",
      "0    5901\n",
      "1    1142\n",
      "Name: senior_citizen, dtype: int64\n",
      "----------------------------------------------------------------------------------------------------\n"
     ]
    },
    {
     "data": {
      "image/png": "[encoded data removed]",
      "text/plain": [
       "<Figure size 432x288 with 1 Axes>"
      ]
     },
     "metadata": {
      "needs_background": "light"
     },
     "output_type": "display_data"
    },
    {
     "name": "stdout",
     "output_type": "stream",
     "text": [
      "----------------------------------------------------------------------------------------------------\n",
      "~~~~~~~~~~~~~~~~~~~~~~~~~~~~~~~~~~~~~~~~~~~~~~~~~~~~~~~~~~~~~~~~~~~~~~~~~~~~~~~~~~~~~~~~~~~~~~~~~~~~\n",
      "----------------------------------------------------------------------------------------------------\n",
      "PARTNER\n",
      "\n",
      "Первые пять строк:\n",
      "customer_id\n",
      "7590-VHVEG    Yes\n",
      "5575-GNVDE     No\n",
      "3668-QPYBK     No\n",
      "7795-CFOCW     No\n",
      "9237-HQITU     No\n",
      "Name: partner, dtype: object\n",
      "----------------------------------------------------------------------------------------------------\n",
      "Описательная статистика:\n",
      "count     7043\n",
      "unique       2\n",
      "top         No\n",
      "freq      3641\n",
      "Name: partner, dtype: object\n",
      "----------------------------------------------------------------------------------------------------\n",
      "Количество уникальных значений:\n",
      "No     3641\n",
      "Yes    3402\n",
      "Name: partner, dtype: int64\n",
      "----------------------------------------------------------------------------------------------------\n"
     ]
    },
    {
     "data": {
      "image/png": "[encoded data removed]",
      "text/plain": [
       "<Figure size 432x288 with 1 Axes>"
      ]
     },
     "metadata": {
      "needs_background": "light"
     },
     "output_type": "display_data"
    },
    {
     "name": "stdout",
     "output_type": "stream",
     "text": [
      "----------------------------------------------------------------------------------------------------\n",
      "~~~~~~~~~~~~~~~~~~~~~~~~~~~~~~~~~~~~~~~~~~~~~~~~~~~~~~~~~~~~~~~~~~~~~~~~~~~~~~~~~~~~~~~~~~~~~~~~~~~~\n",
      "----------------------------------------------------------------------------------------------------\n",
      "DEPENDENTS\n",
      "\n",
      "Первые пять строк:\n",
      "customer_id\n",
      "7590-VHVEG    No\n",
      "5575-GNVDE    No\n",
      "3668-QPYBK    No\n",
      "7795-CFOCW    No\n",
      "9237-HQITU    No\n",
      "Name: dependents, dtype: object\n",
      "----------------------------------------------------------------------------------------------------\n",
      "Описательная статистика:\n",
      "count     7043\n",
      "unique       2\n",
      "top         No\n",
      "freq      4933\n",
      "Name: dependents, dtype: object\n",
      "----------------------------------------------------------------------------------------------------\n",
      "Количество уникальных значений:\n",
      "No     4933\n",
      "Yes    2110\n",
      "Name: dependents, dtype: int64\n",
      "----------------------------------------------------------------------------------------------------\n"
     ]
    },
    {
     "data": {
      "image/png": "[encoded data removed]",
      "text/plain": [
       "<Figure size 432x288 with 1 Axes>"
      ]
     },
     "metadata": {
      "needs_background": "light"
     },
     "output_type": "display_data"
    },
    {
     "name": "stdout",
     "output_type": "stream",
     "text": [
      "----------------------------------------------------------------------------------------------------\n",
      "~~~~~~~~~~~~~~~~~~~~~~~~~~~~~~~~~~~~~~~~~~~~~~~~~~~~~~~~~~~~~~~~~~~~~~~~~~~~~~~~~~~~~~~~~~~~~~~~~~~~\n",
      "----------------------------------------------------------------------------------------------------\n",
      "INTERNET_SERVICE\n",
      "\n",
      "Первые пять строк:\n",
      "customer_id\n",
      "7590-VHVEG            DSL\n",
      "5575-GNVDE            DSL\n",
      "3668-QPYBK            DSL\n",
      "7795-CFOCW            DSL\n",
      "9237-HQITU    Fiber optic\n",
      "Name: internet_service, dtype: object\n",
      "----------------------------------------------------------------------------------------------------\n",
      "Описательная статистика:\n",
      "count            5517\n",
      "unique              2\n",
      "top       Fiber optic\n",
      "freq             3096\n",
      "Name: internet_service, dtype: object\n",
      "----------------------------------------------------------------------------------------------------\n",
      "Количество уникальных значений:\n",
      "Fiber optic    3096\n",
      "DSL            2421\n",
      "Name: internet_service, dtype: int64\n",
      "----------------------------------------------------------------------------------------------------\n"
     ]
    },
    {
     "data": {
      "image/png": "[encoded data removed]",
      "text/plain": [
       "<Figure size 432x288 with 1 Axes>"
      ]
     },
     "metadata": {
      "needs_background": "light"
     },
     "output_type": "display_data"
    },
    {
     "name": "stdout",
     "output_type": "stream",
     "text": [
      "----------------------------------------------------------------------------------------------------\n",
      "~~~~~~~~~~~~~~~~~~~~~~~~~~~~~~~~~~~~~~~~~~~~~~~~~~~~~~~~~~~~~~~~~~~~~~~~~~~~~~~~~~~~~~~~~~~~~~~~~~~~\n",
      "----------------------------------------------------------------------------------------------------\n",
      "ONLINE_SECURITY\n",
      "\n",
      "Первые пять строк:\n",
      "customer_id\n",
      "7590-VHVEG     No\n",
      "5575-GNVDE    Yes\n",
      "3668-QPYBK    Yes\n",
      "7795-CFOCW    Yes\n",
      "9237-HQITU     No\n",
      "Name: online_security, dtype: object\n",
      "----------------------------------------------------------------------------------------------------\n",
      "Описательная статистика:\n",
      "count     5517\n",
      "unique       2\n",
      "top         No\n",
      "freq      3498\n",
      "Name: online_security, dtype: object\n",
      "----------------------------------------------------------------------------------------------------\n",
      "Количество уникальных значений:\n",
      "No     3498\n",
      "Yes    2019\n",
      "Name: online_security, dtype: int64\n",
      "----------------------------------------------------------------------------------------------------\n"
     ]
    },
    {
     "data": {
      "image/png": "[encoded data removed]",
      "text/plain": [
       "<Figure size 432x288 with 1 Axes>"
      ]
     },
     "metadata": {
      "needs_background": "light"
     },
     "output_type": "display_data"
    },
    {
     "name": "stdout",
     "output_type": "stream",
     "text": [
      "----------------------------------------------------------------------------------------------------\n",
      "~~~~~~~~~~~~~~~~~~~~~~~~~~~~~~~~~~~~~~~~~~~~~~~~~~~~~~~~~~~~~~~~~~~~~~~~~~~~~~~~~~~~~~~~~~~~~~~~~~~~\n",
      "----------------------------------------------------------------------------------------------------\n",
      "ONLINE_BACKUP\n",
      "\n",
      "Первые пять строк:\n",
      "customer_id\n",
      "7590-VHVEG    Yes\n",
      "5575-GNVDE     No\n",
      "3668-QPYBK    Yes\n",
      "7795-CFOCW     No\n",
      "9237-HQITU     No\n",
      "Name: online_backup, dtype: object\n",
      "----------------------------------------------------------------------------------------------------\n",
      "Описательная статистика:\n",
      "count     5517\n",
      "unique       2\n",
      "top         No\n",
      "freq      3088\n",
      "Name: online_backup, dtype: object\n",
      "----------------------------------------------------------------------------------------------------\n",
      "Количество уникальных значений:\n",
      "No     3088\n",
      "Yes    2429\n",
      "Name: online_backup, dtype: int64\n",
      "----------------------------------------------------------------------------------------------------\n"
     ]
    },
    {
     "data": {
      "image/png": "[encoded data removed]",
      "text/plain": [
       "<Figure size 432x288 with 1 Axes>"
      ]
     },
     "metadata": {
      "needs_background": "light"
     },
     "output_type": "display_data"
    },
    {
     "name": "stdout",
     "output_type": "stream",
     "text": [
      "----------------------------------------------------------------------------------------------------\n",
      "~~~~~~~~~~~~~~~~~~~~~~~~~~~~~~~~~~~~~~~~~~~~~~~~~~~~~~~~~~~~~~~~~~~~~~~~~~~~~~~~~~~~~~~~~~~~~~~~~~~~\n",
      "----------------------------------------------------------------------------------------------------\n",
      "DEVICE_PROTECTION\n",
      "\n",
      "Первые пять строк:\n",
      "customer_id\n",
      "7590-VHVEG     No\n",
      "5575-GNVDE    Yes\n",
      "3668-QPYBK     No\n",
      "7795-CFOCW    Yes\n",
      "9237-HQITU     No\n",
      "Name: device_protection, dtype: object\n",
      "----------------------------------------------------------------------------------------------------\n",
      "Описательная статистика:\n",
      "count     5517\n",
      "unique       2\n",
      "top         No\n",
      "freq      3095\n",
      "Name: device_protection, dtype: object\n",
      "----------------------------------------------------------------------------------------------------\n",
      "Количество уникальных значений:\n",
      "No     3095\n",
      "Yes    2422\n",
      "Name: device_protection, dtype: int64\n",
      "----------------------------------------------------------------------------------------------------\n"
     ]
    },
    {
     "data": {
      "image/png": "[encoded data removed]",
      "text/plain": [
       "<Figure size 432x288 with 1 Axes>"
      ]
     },
     "metadata": {
      "needs_background": "light"
     },
     "output_type": "display_data"
    },
    {
     "name": "stdout",
     "output_type": "stream",
     "text": [
      "----------------------------------------------------------------------------------------------------\n",
      "~~~~~~~~~~~~~~~~~~~~~~~~~~~~~~~~~~~~~~~~~~~~~~~~~~~~~~~~~~~~~~~~~~~~~~~~~~~~~~~~~~~~~~~~~~~~~~~~~~~~\n",
      "----------------------------------------------------------------------------------------------------\n",
      "TECH_SUPPORT\n",
      "\n",
      "Первые пять строк:\n",
      "customer_id\n",
      "7590-VHVEG     No\n",
      "5575-GNVDE     No\n",
      "3668-QPYBK     No\n",
      "7795-CFOCW    Yes\n",
      "9237-HQITU     No\n",
      "Name: tech_support, dtype: object\n",
      "----------------------------------------------------------------------------------------------------\n",
      "Описательная статистика:\n",
      "count     5517\n",
      "unique       2\n",
      "top         No\n",
      "freq      3473\n",
      "Name: tech_support, dtype: object\n",
      "----------------------------------------------------------------------------------------------------\n",
      "Количество уникальных значений:\n",
      "No     3473\n",
      "Yes    2044\n",
      "Name: tech_support, dtype: int64\n",
      "----------------------------------------------------------------------------------------------------\n"
     ]
    },
    {
     "data": {
      "image/png": "[encoded data removed]",
      "text/plain": [
       "<Figure size 432x288 with 1 Axes>"
      ]
     },
     "metadata": {
      "needs_background": "light"
     },
     "output_type": "display_data"
    },
    {
     "name": "stdout",
     "output_type": "stream",
     "text": [
      "----------------------------------------------------------------------------------------------------\n",
      "~~~~~~~~~~~~~~~~~~~~~~~~~~~~~~~~~~~~~~~~~~~~~~~~~~~~~~~~~~~~~~~~~~~~~~~~~~~~~~~~~~~~~~~~~~~~~~~~~~~~\n",
      "----------------------------------------------------------------------------------------------------\n",
      "STREAMING_TV\n",
      "\n",
      "Первые пять строк:\n",
      "customer_id\n",
      "7590-VHVEG    No\n",
      "5575-GNVDE    No\n",
      "3668-QPYBK    No\n",
      "7795-CFOCW    No\n",
      "9237-HQITU    No\n",
      "Name: streaming_tv, dtype: object\n",
      "----------------------------------------------------------------------------------------------------\n",
      "Описательная статистика:\n",
      "count     5517\n",
      "unique       2\n",
      "top         No\n",
      "freq      2810\n",
      "Name: streaming_tv, dtype: object\n",
      "----------------------------------------------------------------------------------------------------\n",
      "Количество уникальных значений:\n",
      "No     2810\n",
      "Yes    2707\n",
      "Name: streaming_tv, dtype: int64\n",
      "----------------------------------------------------------------------------------------------------\n"
     ]
    },
    {
     "data": {
      "image/png": "[encoded data removed]",
      "text/plain": [
       "<Figure size 432x288 with 1 Axes>"
      ]
     },
     "metadata": {
      "needs_background": "light"
     },
     "output_type": "display_data"
    },
    {
     "name": "stdout",
     "output_type": "stream",
     "text": [
      "----------------------------------------------------------------------------------------------------\n",
      "~~~~~~~~~~~~~~~~~~~~~~~~~~~~~~~~~~~~~~~~~~~~~~~~~~~~~~~~~~~~~~~~~~~~~~~~~~~~~~~~~~~~~~~~~~~~~~~~~~~~\n",
      "----------------------------------------------------------------------------------------------------\n",
      "STREAMING_MOVIES\n",
      "\n",
      "Первые пять строк:\n",
      "customer_id\n",
      "7590-VHVEG    No\n",
      "5575-GNVDE    No\n",
      "3668-QPYBK    No\n",
      "7795-CFOCW    No\n",
      "9237-HQITU    No\n",
      "Name: streaming_movies, dtype: object\n",
      "----------------------------------------------------------------------------------------------------\n",
      "Описательная статистика:\n",
      "count     5517\n",
      "unique       2\n",
      "top         No\n",
      "freq      2785\n",
      "Name: streaming_movies, dtype: object\n",
      "----------------------------------------------------------------------------------------------------\n",
      "Количество уникальных значений:\n",
      "No     2785\n",
      "Yes    2732\n",
      "Name: streaming_movies, dtype: int64\n",
      "----------------------------------------------------------------------------------------------------\n"
     ]
    },
    {
     "data": {
      "image/png": "[encoded data removed]",
      "text/plain": [
       "<Figure size 432x288 with 1 Axes>"
      ]
     },
     "metadata": {
      "needs_background": "light"
     },
     "output_type": "display_data"
    },
    {
     "name": "stdout",
     "output_type": "stream",
     "text": [
      "----------------------------------------------------------------------------------------------------\n",
      "~~~~~~~~~~~~~~~~~~~~~~~~~~~~~~~~~~~~~~~~~~~~~~~~~~~~~~~~~~~~~~~~~~~~~~~~~~~~~~~~~~~~~~~~~~~~~~~~~~~~\n",
      "----------------------------------------------------------------------------------------------------\n",
      "MULTIPLE_LINES\n",
      "\n",
      "Первые пять строк:\n",
      "customer_id\n",
      "7590-VHVEG    NaN\n",
      "5575-GNVDE     No\n",
      "3668-QPYBK     No\n",
      "7795-CFOCW    NaN\n",
      "9237-HQITU     No\n",
      "Name: multiple_lines, dtype: object\n",
      "----------------------------------------------------------------------------------------------------\n",
      "Описательная статистика:\n",
      "count     6361\n",
      "unique       2\n",
      "top         No\n",
      "freq      3390\n",
      "Name: multiple_lines, dtype: object\n",
      "----------------------------------------------------------------------------------------------------\n",
      "Количество уникальных значений:\n",
      "No     3390\n",
      "Yes    2971\n",
      "Name: multiple_lines, dtype: int64\n",
      "----------------------------------------------------------------------------------------------------\n"
     ]
    },
    {
     "data": {
      "image/png": "[encoded data removed]",
      "text/plain": [
       "<Figure size 432x288 with 1 Axes>"
      ]
     },
     "metadata": {
      "needs_background": "light"
     },
     "output_type": "display_data"
    },
    {
     "name": "stdout",
     "output_type": "stream",
     "text": [
      "----------------------------------------------------------------------------------------------------\n",
      "~~~~~~~~~~~~~~~~~~~~~~~~~~~~~~~~~~~~~~~~~~~~~~~~~~~~~~~~~~~~~~~~~~~~~~~~~~~~~~~~~~~~~~~~~~~~~~~~~~~~\n"
     ]
    }
   ],
   "source": [
    "for _ in df.columns:\n",
    "    feat_info(_)"
   ]
  },
  {
   "cell_type": "markdown",
   "id": "6791184f",
   "metadata": {},
   "source": [
    "**По итогу мы имеем:**\n",
    "<br>*begin_date : нет пропусков, временной \n",
    "<br>end_date : нет пропусков, временной\n",
    "<br>type: нет пропусков, категориальный признак\n",
    "<br>paperless_billing: нет пропусков, категориальный признак\n",
    "<br>payment_method: нет пропусков, категориальный признак\n",
    "<br>monthly_charges: нет пропусков, количественный признак\n",
    "<br>total_charges: NaN отсутствует, но есть пустые значения строкового типа, количественный признак\n",
    "<br>gender: нет пропусков, категориальный признак\n",
    "<br>senior_citizen: нет пропусков, категориальный признак\n",
    "<br>partner\t: нет пропусков, категориальный признак\n",
    "<br>dependents: нет пропусков, категориальный признак\n",
    "<br>internet_service: присутсвуют пропуски, категориальный признак\n",
    "<br>online_security: присутсвуют пропуски, категориальный признак\n",
    "<br>online_backup: присутсвуют пропуски, категориальный признак\n",
    "<br>device_protection: присутсвуют пропуски, категориальный признак\n",
    "<br>tech_support: присутсвуют пропуски, категориальный признак\n",
    "<br>streaming_t_v: присутсвуют пропуски, категориальный признак\n",
    "<br>streaming_movies: присутсвуют пропуски, категориальный признак\n",
    "<br>multiple_lines: присутсвуют пропуски, категориальный признак*"
   ]
  },
  {
   "cell_type": "markdown",
   "id": "597ef319",
   "metadata": {},
   "source": [
    "*Так же почти все признаки имеют тип object (для наглядности выведено ниже)\n",
    "<br>Их тоже надо преобразовать, но сначала посмотрим какие признаки оставить и добавим целевую переменную*"
   ]
  },
  {
   "cell_type": "code",
   "execution_count": 11,
   "id": "0c08f88e",
   "metadata": {
    "scrolled": true
   },
   "outputs": [
    {
     "name": "stdout",
     "output_type": "stream",
     "text": [
      "<class 'pandas.core.frame.DataFrame'>\n",
      "Index: 7043 entries, 7590-VHVEG to 3186-AJIEK\n",
      "Data columns (total 19 columns):\n",
      " #   Column             Non-Null Count  Dtype  \n",
      "---  ------             --------------  -----  \n",
      " 0   begin_date         7043 non-null   object \n",
      " 1   end_date           7043 non-null   object \n",
      " 2   type               7043 non-null   object \n",
      " 3   paperless_billing  7043 non-null   object \n",
      " 4   payment_method     7043 non-null   object \n",
      " 5   monthly_charges    7043 non-null   float64\n",
      " 6   total_charges      7043 non-null   object \n",
      " 7   gender             7043 non-null   object \n",
      " 8   senior_citizen     7043 non-null   int64  \n",
      " 9   partner            7043 non-null   object \n",
      " 10  dependents         7043 non-null   object \n",
      " 11  internet_service   5517 non-null   object \n",
      " 12  online_security    5517 non-null   object \n",
      " 13  online_backup      5517 non-null   object \n",
      " 14  device_protection  5517 non-null   object \n",
      " 15  tech_support       5517 non-null   object \n",
      " 16  streaming_tv       5517 non-null   object \n",
      " 17  streaming_movies   5517 non-null   object \n",
      " 18  multiple_lines     6361 non-null   object \n",
      "dtypes: float64(1), int64(1), object(17)\n",
      "memory usage: 1.3+ MB\n"
     ]
    }
   ],
   "source": [
    "df.info()"
   ]
  },
  {
   "cell_type": "markdown",
   "id": "8e613d25",
   "metadata": {},
   "source": [
    "**Добавим целевую переменную**"
   ]
  },
  {
   "cell_type": "code",
   "execution_count": 12,
   "id": "8ed04ef2",
   "metadata": {},
   "outputs": [
    {
     "data": {
      "text/html": [
       "<div>\n",
       "<style scoped>\n",
       "    .dataframe tbody tr th:only-of-type {\n",
       "        vertical-align: middle;\n",
       "    }\n",
       "\n",
       "    .dataframe tbody tr th {\n",
       "        vertical-align: top;\n",
       "    }\n",
       "\n",
       "    .dataframe thead th {\n",
       "        text-align: right;\n",
       "    }\n",
       "</style>\n",
       "<table border=\"1\" class=\"dataframe\">\n",
       "  <thead>\n",
       "    <tr style=\"text-align: right;\">\n",
       "      <th></th>\n",
       "      <th>begin_date</th>\n",
       "      <th>end_date</th>\n",
       "      <th>type</th>\n",
       "      <th>paperless_billing</th>\n",
       "      <th>payment_method</th>\n",
       "      <th>monthly_charges</th>\n",
       "      <th>total_charges</th>\n",
       "      <th>gender</th>\n",
       "      <th>senior_citizen</th>\n",
       "      <th>partner</th>\n",
       "      <th>dependents</th>\n",
       "      <th>internet_service</th>\n",
       "      <th>online_security</th>\n",
       "      <th>online_backup</th>\n",
       "      <th>device_protection</th>\n",
       "      <th>tech_support</th>\n",
       "      <th>streaming_tv</th>\n",
       "      <th>streaming_movies</th>\n",
       "      <th>multiple_lines</th>\n",
       "      <th>exited</th>\n",
       "    </tr>\n",
       "    <tr>\n",
       "      <th>customer_id</th>\n",
       "      <th></th>\n",
       "      <th></th>\n",
       "      <th></th>\n",
       "      <th></th>\n",
       "      <th></th>\n",
       "      <th></th>\n",
       "      <th></th>\n",
       "      <th></th>\n",
       "      <th></th>\n",
       "      <th></th>\n",
       "      <th></th>\n",
       "      <th></th>\n",
       "      <th></th>\n",
       "      <th></th>\n",
       "      <th></th>\n",
       "      <th></th>\n",
       "      <th></th>\n",
       "      <th></th>\n",
       "      <th></th>\n",
       "      <th></th>\n",
       "    </tr>\n",
       "  </thead>\n",
       "  <tbody>\n",
       "    <tr>\n",
       "      <th>7590-VHVEG</th>\n",
       "      <td>2020-01-01</td>\n",
       "      <td>No</td>\n",
       "      <td>Month-to-month</td>\n",
       "      <td>Yes</td>\n",
       "      <td>Electronic check</td>\n",
       "      <td>29.85</td>\n",
       "      <td>31.04</td>\n",
       "      <td>Female</td>\n",
       "      <td>0</td>\n",
       "      <td>Yes</td>\n",
       "      <td>No</td>\n",
       "      <td>DSL</td>\n",
       "      <td>No</td>\n",
       "      <td>Yes</td>\n",
       "      <td>No</td>\n",
       "      <td>No</td>\n",
       "      <td>No</td>\n",
       "      <td>No</td>\n",
       "      <td>NaN</td>\n",
       "      <td>0</td>\n",
       "    </tr>\n",
       "    <tr>\n",
       "      <th>5575-GNVDE</th>\n",
       "      <td>2017-04-01</td>\n",
       "      <td>No</td>\n",
       "      <td>One year</td>\n",
       "      <td>No</td>\n",
       "      <td>Mailed check</td>\n",
       "      <td>56.95</td>\n",
       "      <td>2071.84</td>\n",
       "      <td>Male</td>\n",
       "      <td>0</td>\n",
       "      <td>No</td>\n",
       "      <td>No</td>\n",
       "      <td>DSL</td>\n",
       "      <td>Yes</td>\n",
       "      <td>No</td>\n",
       "      <td>Yes</td>\n",
       "      <td>No</td>\n",
       "      <td>No</td>\n",
       "      <td>No</td>\n",
       "      <td>No</td>\n",
       "      <td>0</td>\n",
       "    </tr>\n",
       "    <tr>\n",
       "      <th>3668-QPYBK</th>\n",
       "      <td>2019-10-01</td>\n",
       "      <td>No</td>\n",
       "      <td>Month-to-month</td>\n",
       "      <td>Yes</td>\n",
       "      <td>Mailed check</td>\n",
       "      <td>53.85</td>\n",
       "      <td>226.17</td>\n",
       "      <td>Male</td>\n",
       "      <td>0</td>\n",
       "      <td>No</td>\n",
       "      <td>No</td>\n",
       "      <td>DSL</td>\n",
       "      <td>Yes</td>\n",
       "      <td>Yes</td>\n",
       "      <td>No</td>\n",
       "      <td>No</td>\n",
       "      <td>No</td>\n",
       "      <td>No</td>\n",
       "      <td>No</td>\n",
       "      <td>0</td>\n",
       "    </tr>\n",
       "    <tr>\n",
       "      <th>7795-CFOCW</th>\n",
       "      <td>2016-05-01</td>\n",
       "      <td>No</td>\n",
       "      <td>One year</td>\n",
       "      <td>No</td>\n",
       "      <td>Bank transfer (automatic)</td>\n",
       "      <td>42.30</td>\n",
       "      <td>1960.6</td>\n",
       "      <td>Male</td>\n",
       "      <td>0</td>\n",
       "      <td>No</td>\n",
       "      <td>No</td>\n",
       "      <td>DSL</td>\n",
       "      <td>Yes</td>\n",
       "      <td>No</td>\n",
       "      <td>Yes</td>\n",
       "      <td>Yes</td>\n",
       "      <td>No</td>\n",
       "      <td>No</td>\n",
       "      <td>NaN</td>\n",
       "      <td>0</td>\n",
       "    </tr>\n",
       "    <tr>\n",
       "      <th>9237-HQITU</th>\n",
       "      <td>2019-09-01</td>\n",
       "      <td>No</td>\n",
       "      <td>Month-to-month</td>\n",
       "      <td>Yes</td>\n",
       "      <td>Electronic check</td>\n",
       "      <td>70.70</td>\n",
       "      <td>353.5</td>\n",
       "      <td>Female</td>\n",
       "      <td>0</td>\n",
       "      <td>No</td>\n",
       "      <td>No</td>\n",
       "      <td>Fiber optic</td>\n",
       "      <td>No</td>\n",
       "      <td>No</td>\n",
       "      <td>No</td>\n",
       "      <td>No</td>\n",
       "      <td>No</td>\n",
       "      <td>No</td>\n",
       "      <td>No</td>\n",
       "      <td>0</td>\n",
       "    </tr>\n",
       "  </tbody>\n",
       "</table>\n",
       "</div>"
      ],
      "text/plain": [
       "             begin_date end_date            type paperless_billing  \\\n",
       "customer_id                                                          \n",
       "7590-VHVEG   2020-01-01       No  Month-to-month               Yes   \n",
       "5575-GNVDE   2017-04-01       No        One year                No   \n",
       "3668-QPYBK   2019-10-01       No  Month-to-month               Yes   \n",
       "7795-CFOCW   2016-05-01       No        One year                No   \n",
       "9237-HQITU   2019-09-01       No  Month-to-month               Yes   \n",
       "\n",
       "                        payment_method  monthly_charges total_charges  gender  \\\n",
       "customer_id                                                                     \n",
       "7590-VHVEG            Electronic check            29.85         31.04  Female   \n",
       "5575-GNVDE                Mailed check            56.95       2071.84    Male   \n",
       "3668-QPYBK                Mailed check            53.85        226.17    Male   \n",
       "7795-CFOCW   Bank transfer (automatic)            42.30        1960.6    Male   \n",
       "9237-HQITU            Electronic check            70.70         353.5  Female   \n",
       "\n",
       "             senior_citizen partner dependents internet_service  \\\n",
       "customer_id                                                       \n",
       "7590-VHVEG                0     Yes         No              DSL   \n",
       "5575-GNVDE                0      No         No              DSL   \n",
       "3668-QPYBK                0      No         No              DSL   \n",
       "7795-CFOCW                0      No         No              DSL   \n",
       "9237-HQITU                0      No         No      Fiber optic   \n",
       "\n",
       "            online_security online_backup device_protection tech_support  \\\n",
       "customer_id                                                                \n",
       "7590-VHVEG               No           Yes                No           No   \n",
       "5575-GNVDE              Yes            No               Yes           No   \n",
       "3668-QPYBK              Yes           Yes                No           No   \n",
       "7795-CFOCW              Yes            No               Yes          Yes   \n",
       "9237-HQITU               No            No                No           No   \n",
       "\n",
       "            streaming_tv streaming_movies multiple_lines  exited  \n",
       "customer_id                                                       \n",
       "7590-VHVEG            No               No            NaN       0  \n",
       "5575-GNVDE            No               No             No       0  \n",
       "3668-QPYBK            No               No             No       0  \n",
       "7795-CFOCW            No               No            NaN       0  \n",
       "9237-HQITU            No               No             No       0  "
      ]
     },
     "execution_count": 12,
     "metadata": {},
     "output_type": "execute_result"
    }
   ],
   "source": [
    "df['exited'] = (df['end_date'] != 'No').astype('uint8')\n",
    "df.head()"
   ]
  },
  {
   "cell_type": "markdown",
   "id": "722c34ae",
   "metadata": {},
   "source": [
    "**Создадим столбец с количеством дней договора абонента и удалим даты\n",
    "<br>Если он еще активен, то ставим последнюю дату 1 февраля 2020**"
   ]
  },
  {
   "cell_type": "code",
   "execution_count": 13,
   "id": "b6fc295a",
   "metadata": {},
   "outputs": [],
   "source": [
    "df['end_date'] = df['end_date'].replace('No', '2020-02-01')\n",
    "df[['begin_date','end_date']] = df[['begin_date','end_date']].apply(pd.to_datetime)\n",
    "df['days'] =(df['end_date'] - df['begin_date']) / np.timedelta64 ( 1 , 'D')"
   ]
  },
  {
   "cell_type": "code",
   "execution_count": 14,
   "id": "55e6b023",
   "metadata": {},
   "outputs": [
    {
     "data": {
      "text/html": [
       "<div>\n",
       "<style scoped>\n",
       "    .dataframe tbody tr th:only-of-type {\n",
       "        vertical-align: middle;\n",
       "    }\n",
       "\n",
       "    .dataframe tbody tr th {\n",
       "        vertical-align: top;\n",
       "    }\n",
       "\n",
       "    .dataframe thead th {\n",
       "        text-align: right;\n",
       "    }\n",
       "</style>\n",
       "<table border=\"1\" class=\"dataframe\">\n",
       "  <thead>\n",
       "    <tr style=\"text-align: right;\">\n",
       "      <th></th>\n",
       "      <th>type</th>\n",
       "      <th>paperless_billing</th>\n",
       "      <th>payment_method</th>\n",
       "      <th>monthly_charges</th>\n",
       "      <th>total_charges</th>\n",
       "      <th>gender</th>\n",
       "      <th>senior_citizen</th>\n",
       "      <th>partner</th>\n",
       "      <th>dependents</th>\n",
       "      <th>internet_service</th>\n",
       "      <th>online_security</th>\n",
       "      <th>online_backup</th>\n",
       "      <th>device_protection</th>\n",
       "      <th>tech_support</th>\n",
       "      <th>streaming_tv</th>\n",
       "      <th>streaming_movies</th>\n",
       "      <th>multiple_lines</th>\n",
       "      <th>exited</th>\n",
       "      <th>days</th>\n",
       "    </tr>\n",
       "    <tr>\n",
       "      <th>customer_id</th>\n",
       "      <th></th>\n",
       "      <th></th>\n",
       "      <th></th>\n",
       "      <th></th>\n",
       "      <th></th>\n",
       "      <th></th>\n",
       "      <th></th>\n",
       "      <th></th>\n",
       "      <th></th>\n",
       "      <th></th>\n",
       "      <th></th>\n",
       "      <th></th>\n",
       "      <th></th>\n",
       "      <th></th>\n",
       "      <th></th>\n",
       "      <th></th>\n",
       "      <th></th>\n",
       "      <th></th>\n",
       "      <th></th>\n",
       "    </tr>\n",
       "  </thead>\n",
       "  <tbody>\n",
       "    <tr>\n",
       "      <th>7590-VHVEG</th>\n",
       "      <td>Month-to-month</td>\n",
       "      <td>Yes</td>\n",
       "      <td>Electronic check</td>\n",
       "      <td>29.85</td>\n",
       "      <td>31.04</td>\n",
       "      <td>Female</td>\n",
       "      <td>0</td>\n",
       "      <td>Yes</td>\n",
       "      <td>No</td>\n",
       "      <td>DSL</td>\n",
       "      <td>No</td>\n",
       "      <td>Yes</td>\n",
       "      <td>No</td>\n",
       "      <td>No</td>\n",
       "      <td>No</td>\n",
       "      <td>No</td>\n",
       "      <td>NaN</td>\n",
       "      <td>0</td>\n",
       "      <td>31.0</td>\n",
       "    </tr>\n",
       "    <tr>\n",
       "      <th>5575-GNVDE</th>\n",
       "      <td>One year</td>\n",
       "      <td>No</td>\n",
       "      <td>Mailed check</td>\n",
       "      <td>56.95</td>\n",
       "      <td>2071.84</td>\n",
       "      <td>Male</td>\n",
       "      <td>0</td>\n",
       "      <td>No</td>\n",
       "      <td>No</td>\n",
       "      <td>DSL</td>\n",
       "      <td>Yes</td>\n",
       "      <td>No</td>\n",
       "      <td>Yes</td>\n",
       "      <td>No</td>\n",
       "      <td>No</td>\n",
       "      <td>No</td>\n",
       "      <td>No</td>\n",
       "      <td>0</td>\n",
       "      <td>1036.0</td>\n",
       "    </tr>\n",
       "    <tr>\n",
       "      <th>3668-QPYBK</th>\n",
       "      <td>Month-to-month</td>\n",
       "      <td>Yes</td>\n",
       "      <td>Mailed check</td>\n",
       "      <td>53.85</td>\n",
       "      <td>226.17</td>\n",
       "      <td>Male</td>\n",
       "      <td>0</td>\n",
       "      <td>No</td>\n",
       "      <td>No</td>\n",
       "      <td>DSL</td>\n",
       "      <td>Yes</td>\n",
       "      <td>Yes</td>\n",
       "      <td>No</td>\n",
       "      <td>No</td>\n",
       "      <td>No</td>\n",
       "      <td>No</td>\n",
       "      <td>No</td>\n",
       "      <td>0</td>\n",
       "      <td>123.0</td>\n",
       "    </tr>\n",
       "    <tr>\n",
       "      <th>7795-CFOCW</th>\n",
       "      <td>One year</td>\n",
       "      <td>No</td>\n",
       "      <td>Bank transfer (automatic)</td>\n",
       "      <td>42.30</td>\n",
       "      <td>1960.6</td>\n",
       "      <td>Male</td>\n",
       "      <td>0</td>\n",
       "      <td>No</td>\n",
       "      <td>No</td>\n",
       "      <td>DSL</td>\n",
       "      <td>Yes</td>\n",
       "      <td>No</td>\n",
       "      <td>Yes</td>\n",
       "      <td>Yes</td>\n",
       "      <td>No</td>\n",
       "      <td>No</td>\n",
       "      <td>NaN</td>\n",
       "      <td>0</td>\n",
       "      <td>1371.0</td>\n",
       "    </tr>\n",
       "    <tr>\n",
       "      <th>9237-HQITU</th>\n",
       "      <td>Month-to-month</td>\n",
       "      <td>Yes</td>\n",
       "      <td>Electronic check</td>\n",
       "      <td>70.70</td>\n",
       "      <td>353.5</td>\n",
       "      <td>Female</td>\n",
       "      <td>0</td>\n",
       "      <td>No</td>\n",
       "      <td>No</td>\n",
       "      <td>Fiber optic</td>\n",
       "      <td>No</td>\n",
       "      <td>No</td>\n",
       "      <td>No</td>\n",
       "      <td>No</td>\n",
       "      <td>No</td>\n",
       "      <td>No</td>\n",
       "      <td>No</td>\n",
       "      <td>0</td>\n",
       "      <td>153.0</td>\n",
       "    </tr>\n",
       "  </tbody>\n",
       "</table>\n",
       "</div>"
      ],
      "text/plain": [
       "                       type paperless_billing             payment_method  \\\n",
       "customer_id                                                                \n",
       "7590-VHVEG   Month-to-month               Yes           Electronic check   \n",
       "5575-GNVDE         One year                No               Mailed check   \n",
       "3668-QPYBK   Month-to-month               Yes               Mailed check   \n",
       "7795-CFOCW         One year                No  Bank transfer (automatic)   \n",
       "9237-HQITU   Month-to-month               Yes           Electronic check   \n",
       "\n",
       "             monthly_charges total_charges  gender  senior_citizen partner  \\\n",
       "customer_id                                                                  \n",
       "7590-VHVEG             29.85         31.04  Female               0     Yes   \n",
       "5575-GNVDE             56.95       2071.84    Male               0      No   \n",
       "3668-QPYBK             53.85        226.17    Male               0      No   \n",
       "7795-CFOCW             42.30        1960.6    Male               0      No   \n",
       "9237-HQITU             70.70         353.5  Female               0      No   \n",
       "\n",
       "            dependents internet_service online_security online_backup  \\\n",
       "customer_id                                                             \n",
       "7590-VHVEG          No              DSL              No           Yes   \n",
       "5575-GNVDE          No              DSL             Yes            No   \n",
       "3668-QPYBK          No              DSL             Yes           Yes   \n",
       "7795-CFOCW          No              DSL             Yes            No   \n",
       "9237-HQITU          No      Fiber optic              No            No   \n",
       "\n",
       "            device_protection tech_support streaming_tv streaming_movies  \\\n",
       "customer_id                                                                \n",
       "7590-VHVEG                 No           No           No               No   \n",
       "5575-GNVDE                Yes           No           No               No   \n",
       "3668-QPYBK                 No           No           No               No   \n",
       "7795-CFOCW                Yes          Yes           No               No   \n",
       "9237-HQITU                 No           No           No               No   \n",
       "\n",
       "            multiple_lines  exited    days  \n",
       "customer_id                                 \n",
       "7590-VHVEG             NaN       0    31.0  \n",
       "5575-GNVDE              No       0  1036.0  \n",
       "3668-QPYBK              No       0   123.0  \n",
       "7795-CFOCW             NaN       0  1371.0  \n",
       "9237-HQITU              No       0   153.0  "
      ]
     },
     "execution_count": 14,
     "metadata": {},
     "output_type": "execute_result"
    }
   ],
   "source": [
    "df = df.drop(columns={'begin_date','end_date'})\n",
    "df.head()"
   ]
  },
  {
   "cell_type": "markdown",
   "id": "b61267a9",
   "metadata": {},
   "source": [
    "**Заполним пропуски.\n",
    "<br>Пропуски имеются только в услугах и итоговая сумма, соответсвенно, если у абонента пропуск в услуге, заменим на No, а кто не платил еще, то 0**"
   ]
  },
  {
   "cell_type": "code",
   "execution_count": 15,
   "id": "b6763584",
   "metadata": {},
   "outputs": [
    {
     "data": {
      "text/html": [
       "<div>\n",
       "<style scoped>\n",
       "    .dataframe tbody tr th:only-of-type {\n",
       "        vertical-align: middle;\n",
       "    }\n",
       "\n",
       "    .dataframe tbody tr th {\n",
       "        vertical-align: top;\n",
       "    }\n",
       "\n",
       "    .dataframe thead th {\n",
       "        text-align: right;\n",
       "    }\n",
       "</style>\n",
       "<table border=\"1\" class=\"dataframe\">\n",
       "  <thead>\n",
       "    <tr style=\"text-align: right;\">\n",
       "      <th></th>\n",
       "      <th>type</th>\n",
       "      <th>paperless_billing</th>\n",
       "      <th>payment_method</th>\n",
       "      <th>monthly_charges</th>\n",
       "      <th>total_charges</th>\n",
       "      <th>gender</th>\n",
       "      <th>senior_citizen</th>\n",
       "      <th>partner</th>\n",
       "      <th>dependents</th>\n",
       "      <th>internet_service</th>\n",
       "      <th>online_security</th>\n",
       "      <th>online_backup</th>\n",
       "      <th>device_protection</th>\n",
       "      <th>tech_support</th>\n",
       "      <th>streaming_tv</th>\n",
       "      <th>streaming_movies</th>\n",
       "      <th>multiple_lines</th>\n",
       "      <th>exited</th>\n",
       "      <th>days</th>\n",
       "    </tr>\n",
       "    <tr>\n",
       "      <th>customer_id</th>\n",
       "      <th></th>\n",
       "      <th></th>\n",
       "      <th></th>\n",
       "      <th></th>\n",
       "      <th></th>\n",
       "      <th></th>\n",
       "      <th></th>\n",
       "      <th></th>\n",
       "      <th></th>\n",
       "      <th></th>\n",
       "      <th></th>\n",
       "      <th></th>\n",
       "      <th></th>\n",
       "      <th></th>\n",
       "      <th></th>\n",
       "      <th></th>\n",
       "      <th></th>\n",
       "      <th></th>\n",
       "      <th></th>\n",
       "    </tr>\n",
       "  </thead>\n",
       "  <tbody>\n",
       "    <tr>\n",
       "      <th>7590-VHVEG</th>\n",
       "      <td>Month-to-month</td>\n",
       "      <td>Yes</td>\n",
       "      <td>Electronic check</td>\n",
       "      <td>29.85</td>\n",
       "      <td>31.040001</td>\n",
       "      <td>Female</td>\n",
       "      <td>0</td>\n",
       "      <td>Yes</td>\n",
       "      <td>No</td>\n",
       "      <td>DSL</td>\n",
       "      <td>No</td>\n",
       "      <td>Yes</td>\n",
       "      <td>No</td>\n",
       "      <td>No</td>\n",
       "      <td>No</td>\n",
       "      <td>No</td>\n",
       "      <td>NaN</td>\n",
       "      <td>0</td>\n",
       "      <td>31.0</td>\n",
       "    </tr>\n",
       "    <tr>\n",
       "      <th>5575-GNVDE</th>\n",
       "      <td>One year</td>\n",
       "      <td>No</td>\n",
       "      <td>Mailed check</td>\n",
       "      <td>56.95</td>\n",
       "      <td>2071.840088</td>\n",
       "      <td>Male</td>\n",
       "      <td>0</td>\n",
       "      <td>No</td>\n",
       "      <td>No</td>\n",
       "      <td>DSL</td>\n",
       "      <td>Yes</td>\n",
       "      <td>No</td>\n",
       "      <td>Yes</td>\n",
       "      <td>No</td>\n",
       "      <td>No</td>\n",
       "      <td>No</td>\n",
       "      <td>No</td>\n",
       "      <td>0</td>\n",
       "      <td>1036.0</td>\n",
       "    </tr>\n",
       "    <tr>\n",
       "      <th>3668-QPYBK</th>\n",
       "      <td>Month-to-month</td>\n",
       "      <td>Yes</td>\n",
       "      <td>Mailed check</td>\n",
       "      <td>53.85</td>\n",
       "      <td>226.169998</td>\n",
       "      <td>Male</td>\n",
       "      <td>0</td>\n",
       "      <td>No</td>\n",
       "      <td>No</td>\n",
       "      <td>DSL</td>\n",
       "      <td>Yes</td>\n",
       "      <td>Yes</td>\n",
       "      <td>No</td>\n",
       "      <td>No</td>\n",
       "      <td>No</td>\n",
       "      <td>No</td>\n",
       "      <td>No</td>\n",
       "      <td>0</td>\n",
       "      <td>123.0</td>\n",
       "    </tr>\n",
       "    <tr>\n",
       "      <th>7795-CFOCW</th>\n",
       "      <td>One year</td>\n",
       "      <td>No</td>\n",
       "      <td>Bank transfer (automatic)</td>\n",
       "      <td>42.30</td>\n",
       "      <td>1960.599976</td>\n",
       "      <td>Male</td>\n",
       "      <td>0</td>\n",
       "      <td>No</td>\n",
       "      <td>No</td>\n",
       "      <td>DSL</td>\n",
       "      <td>Yes</td>\n",
       "      <td>No</td>\n",
       "      <td>Yes</td>\n",
       "      <td>Yes</td>\n",
       "      <td>No</td>\n",
       "      <td>No</td>\n",
       "      <td>NaN</td>\n",
       "      <td>0</td>\n",
       "      <td>1371.0</td>\n",
       "    </tr>\n",
       "    <tr>\n",
       "      <th>9237-HQITU</th>\n",
       "      <td>Month-to-month</td>\n",
       "      <td>Yes</td>\n",
       "      <td>Electronic check</td>\n",
       "      <td>70.70</td>\n",
       "      <td>353.500000</td>\n",
       "      <td>Female</td>\n",
       "      <td>0</td>\n",
       "      <td>No</td>\n",
       "      <td>No</td>\n",
       "      <td>Fiber optic</td>\n",
       "      <td>No</td>\n",
       "      <td>No</td>\n",
       "      <td>No</td>\n",
       "      <td>No</td>\n",
       "      <td>No</td>\n",
       "      <td>No</td>\n",
       "      <td>No</td>\n",
       "      <td>0</td>\n",
       "      <td>153.0</td>\n",
       "    </tr>\n",
       "  </tbody>\n",
       "</table>\n",
       "</div>"
      ],
      "text/plain": [
       "                       type paperless_billing             payment_method  \\\n",
       "customer_id                                                                \n",
       "7590-VHVEG   Month-to-month               Yes           Electronic check   \n",
       "5575-GNVDE         One year                No               Mailed check   \n",
       "3668-QPYBK   Month-to-month               Yes               Mailed check   \n",
       "7795-CFOCW         One year                No  Bank transfer (automatic)   \n",
       "9237-HQITU   Month-to-month               Yes           Electronic check   \n",
       "\n",
       "             monthly_charges  total_charges  gender  senior_citizen partner  \\\n",
       "customer_id                                                                   \n",
       "7590-VHVEG             29.85      31.040001  Female               0     Yes   \n",
       "5575-GNVDE             56.95    2071.840088    Male               0      No   \n",
       "3668-QPYBK             53.85     226.169998    Male               0      No   \n",
       "7795-CFOCW             42.30    1960.599976    Male               0      No   \n",
       "9237-HQITU             70.70     353.500000  Female               0      No   \n",
       "\n",
       "            dependents internet_service online_security online_backup  \\\n",
       "customer_id                                                             \n",
       "7590-VHVEG          No              DSL              No           Yes   \n",
       "5575-GNVDE          No              DSL             Yes            No   \n",
       "3668-QPYBK          No              DSL             Yes           Yes   \n",
       "7795-CFOCW          No              DSL             Yes            No   \n",
       "9237-HQITU          No      Fiber optic              No            No   \n",
       "\n",
       "            device_protection tech_support streaming_tv streaming_movies  \\\n",
       "customer_id                                                                \n",
       "7590-VHVEG                 No           No           No               No   \n",
       "5575-GNVDE                Yes           No           No               No   \n",
       "3668-QPYBK                 No           No           No               No   \n",
       "7795-CFOCW                Yes          Yes           No               No   \n",
       "9237-HQITU                 No           No           No               No   \n",
       "\n",
       "            multiple_lines  exited    days  \n",
       "customer_id                                 \n",
       "7590-VHVEG             NaN       0    31.0  \n",
       "5575-GNVDE              No       0  1036.0  \n",
       "3668-QPYBK              No       0   123.0  \n",
       "7795-CFOCW             NaN       0  1371.0  \n",
       "9237-HQITU              No       0   153.0  "
      ]
     },
     "execution_count": 15,
     "metadata": {},
     "output_type": "execute_result"
    },
    {
     "data": {
      "image/png": "[encoded data removed]",
      "text/plain": [
       "<Figure size 864x360 with 1 Axes>"
      ]
     },
     "metadata": {
      "needs_background": "light"
     },
     "output_type": "display_data"
    }
   ],
   "source": [
    "df['total_charges'] = df['total_charges'].replace(' ', '0').astype('float32')\n",
    "df['total_charges'].hist(figsize=(12,5))\n",
    "df.head()"
   ]
  },
  {
   "cell_type": "code",
   "execution_count": 16,
   "id": "d09c0901",
   "metadata": {},
   "outputs": [
    {
     "data": {
      "text/html": [
       "<div>\n",
       "<style scoped>\n",
       "    .dataframe tbody tr th:only-of-type {\n",
       "        vertical-align: middle;\n",
       "    }\n",
       "\n",
       "    .dataframe tbody tr th {\n",
       "        vertical-align: top;\n",
       "    }\n",
       "\n",
       "    .dataframe thead th {\n",
       "        text-align: right;\n",
       "    }\n",
       "</style>\n",
       "<table border=\"1\" class=\"dataframe\">\n",
       "  <thead>\n",
       "    <tr style=\"text-align: right;\">\n",
       "      <th></th>\n",
       "      <th>type</th>\n",
       "      <th>paperless_billing</th>\n",
       "      <th>payment_method</th>\n",
       "      <th>monthly_charges</th>\n",
       "      <th>total_charges</th>\n",
       "      <th>gender</th>\n",
       "      <th>senior_citizen</th>\n",
       "      <th>partner</th>\n",
       "      <th>dependents</th>\n",
       "      <th>internet_service</th>\n",
       "      <th>online_security</th>\n",
       "      <th>online_backup</th>\n",
       "      <th>device_protection</th>\n",
       "      <th>tech_support</th>\n",
       "      <th>streaming_tv</th>\n",
       "      <th>streaming_movies</th>\n",
       "      <th>multiple_lines</th>\n",
       "      <th>exited</th>\n",
       "      <th>days</th>\n",
       "    </tr>\n",
       "    <tr>\n",
       "      <th>customer_id</th>\n",
       "      <th></th>\n",
       "      <th></th>\n",
       "      <th></th>\n",
       "      <th></th>\n",
       "      <th></th>\n",
       "      <th></th>\n",
       "      <th></th>\n",
       "      <th></th>\n",
       "      <th></th>\n",
       "      <th></th>\n",
       "      <th></th>\n",
       "      <th></th>\n",
       "      <th></th>\n",
       "      <th></th>\n",
       "      <th></th>\n",
       "      <th></th>\n",
       "      <th></th>\n",
       "      <th></th>\n",
       "      <th></th>\n",
       "    </tr>\n",
       "  </thead>\n",
       "  <tbody>\n",
       "    <tr>\n",
       "      <th>7590-VHVEG</th>\n",
       "      <td>Month-to-month</td>\n",
       "      <td>Yes</td>\n",
       "      <td>Electronic check</td>\n",
       "      <td>29.85</td>\n",
       "      <td>31.040001</td>\n",
       "      <td>Female</td>\n",
       "      <td>0</td>\n",
       "      <td>Yes</td>\n",
       "      <td>No</td>\n",
       "      <td>DSL</td>\n",
       "      <td>No</td>\n",
       "      <td>Yes</td>\n",
       "      <td>No</td>\n",
       "      <td>No</td>\n",
       "      <td>No</td>\n",
       "      <td>No</td>\n",
       "      <td>No</td>\n",
       "      <td>0</td>\n",
       "      <td>31.0</td>\n",
       "    </tr>\n",
       "    <tr>\n",
       "      <th>5575-GNVDE</th>\n",
       "      <td>One year</td>\n",
       "      <td>No</td>\n",
       "      <td>Mailed check</td>\n",
       "      <td>56.95</td>\n",
       "      <td>2071.840088</td>\n",
       "      <td>Male</td>\n",
       "      <td>0</td>\n",
       "      <td>No</td>\n",
       "      <td>No</td>\n",
       "      <td>DSL</td>\n",
       "      <td>Yes</td>\n",
       "      <td>No</td>\n",
       "      <td>Yes</td>\n",
       "      <td>No</td>\n",
       "      <td>No</td>\n",
       "      <td>No</td>\n",
       "      <td>No</td>\n",
       "      <td>0</td>\n",
       "      <td>1036.0</td>\n",
       "    </tr>\n",
       "    <tr>\n",
       "      <th>3668-QPYBK</th>\n",
       "      <td>Month-to-month</td>\n",
       "      <td>Yes</td>\n",
       "      <td>Mailed check</td>\n",
       "      <td>53.85</td>\n",
       "      <td>226.169998</td>\n",
       "      <td>Male</td>\n",
       "      <td>0</td>\n",
       "      <td>No</td>\n",
       "      <td>No</td>\n",
       "      <td>DSL</td>\n",
       "      <td>Yes</td>\n",
       "      <td>Yes</td>\n",
       "      <td>No</td>\n",
       "      <td>No</td>\n",
       "      <td>No</td>\n",
       "      <td>No</td>\n",
       "      <td>No</td>\n",
       "      <td>0</td>\n",
       "      <td>123.0</td>\n",
       "    </tr>\n",
       "    <tr>\n",
       "      <th>7795-CFOCW</th>\n",
       "      <td>One year</td>\n",
       "      <td>No</td>\n",
       "      <td>Bank transfer (automatic)</td>\n",
       "      <td>42.30</td>\n",
       "      <td>1960.599976</td>\n",
       "      <td>Male</td>\n",
       "      <td>0</td>\n",
       "      <td>No</td>\n",
       "      <td>No</td>\n",
       "      <td>DSL</td>\n",
       "      <td>Yes</td>\n",
       "      <td>No</td>\n",
       "      <td>Yes</td>\n",
       "      <td>Yes</td>\n",
       "      <td>No</td>\n",
       "      <td>No</td>\n",
       "      <td>No</td>\n",
       "      <td>0</td>\n",
       "      <td>1371.0</td>\n",
       "    </tr>\n",
       "    <tr>\n",
       "      <th>9237-HQITU</th>\n",
       "      <td>Month-to-month</td>\n",
       "      <td>Yes</td>\n",
       "      <td>Electronic check</td>\n",
       "      <td>70.70</td>\n",
       "      <td>353.500000</td>\n",
       "      <td>Female</td>\n",
       "      <td>0</td>\n",
       "      <td>No</td>\n",
       "      <td>No</td>\n",
       "      <td>Fiber optic</td>\n",
       "      <td>No</td>\n",
       "      <td>No</td>\n",
       "      <td>No</td>\n",
       "      <td>No</td>\n",
       "      <td>No</td>\n",
       "      <td>No</td>\n",
       "      <td>No</td>\n",
       "      <td>0</td>\n",
       "      <td>153.0</td>\n",
       "    </tr>\n",
       "  </tbody>\n",
       "</table>\n",
       "</div>"
      ],
      "text/plain": [
       "                       type paperless_billing             payment_method  \\\n",
       "customer_id                                                                \n",
       "7590-VHVEG   Month-to-month               Yes           Electronic check   \n",
       "5575-GNVDE         One year                No               Mailed check   \n",
       "3668-QPYBK   Month-to-month               Yes               Mailed check   \n",
       "7795-CFOCW         One year                No  Bank transfer (automatic)   \n",
       "9237-HQITU   Month-to-month               Yes           Electronic check   \n",
       "\n",
       "             monthly_charges  total_charges  gender  senior_citizen partner  \\\n",
       "customer_id                                                                   \n",
       "7590-VHVEG             29.85      31.040001  Female               0     Yes   \n",
       "5575-GNVDE             56.95    2071.840088    Male               0      No   \n",
       "3668-QPYBK             53.85     226.169998    Male               0      No   \n",
       "7795-CFOCW             42.30    1960.599976    Male               0      No   \n",
       "9237-HQITU             70.70     353.500000  Female               0      No   \n",
       "\n",
       "            dependents internet_service online_security online_backup  \\\n",
       "customer_id                                                             \n",
       "7590-VHVEG          No              DSL              No           Yes   \n",
       "5575-GNVDE          No              DSL             Yes            No   \n",
       "3668-QPYBK          No              DSL             Yes           Yes   \n",
       "7795-CFOCW          No              DSL             Yes            No   \n",
       "9237-HQITU          No      Fiber optic              No            No   \n",
       "\n",
       "            device_protection tech_support streaming_tv streaming_movies  \\\n",
       "customer_id                                                                \n",
       "7590-VHVEG                 No           No           No               No   \n",
       "5575-GNVDE                Yes           No           No               No   \n",
       "3668-QPYBK                 No           No           No               No   \n",
       "7795-CFOCW                Yes          Yes           No               No   \n",
       "9237-HQITU                 No           No           No               No   \n",
       "\n",
       "            multiple_lines  exited    days  \n",
       "customer_id                                 \n",
       "7590-VHVEG              No       0    31.0  \n",
       "5575-GNVDE              No       0  1036.0  \n",
       "3668-QPYBK              No       0   123.0  \n",
       "7795-CFOCW              No       0  1371.0  \n",
       "9237-HQITU              No       0   153.0  "
      ]
     },
     "execution_count": 16,
     "metadata": {},
     "output_type": "execute_result"
    }
   ],
   "source": [
    "df = df.fillna('No')\n",
    "df.head()"
   ]
  },
  {
   "cell_type": "markdown",
   "id": "abb9e95d",
   "metadata": {},
   "source": [
    "**Проверим дубликаты**"
   ]
  },
  {
   "cell_type": "code",
   "execution_count": 17,
   "id": "e01e3307",
   "metadata": {},
   "outputs": [
    {
     "data": {
      "text/html": [
       "<div>\n",
       "<style scoped>\n",
       "    .dataframe tbody tr th:only-of-type {\n",
       "        vertical-align: middle;\n",
       "    }\n",
       "\n",
       "    .dataframe tbody tr th {\n",
       "        vertical-align: top;\n",
       "    }\n",
       "\n",
       "    .dataframe thead th {\n",
       "        text-align: right;\n",
       "    }\n",
       "</style>\n",
       "<table border=\"1\" class=\"dataframe\">\n",
       "  <thead>\n",
       "    <tr style=\"text-align: right;\">\n",
       "      <th></th>\n",
       "      <th>type</th>\n",
       "      <th>paperless_billing</th>\n",
       "      <th>payment_method</th>\n",
       "      <th>monthly_charges</th>\n",
       "      <th>total_charges</th>\n",
       "      <th>gender</th>\n",
       "      <th>senior_citizen</th>\n",
       "      <th>partner</th>\n",
       "      <th>dependents</th>\n",
       "      <th>internet_service</th>\n",
       "      <th>online_security</th>\n",
       "      <th>online_backup</th>\n",
       "      <th>device_protection</th>\n",
       "      <th>tech_support</th>\n",
       "      <th>streaming_tv</th>\n",
       "      <th>streaming_movies</th>\n",
       "      <th>multiple_lines</th>\n",
       "      <th>exited</th>\n",
       "      <th>days</th>\n",
       "    </tr>\n",
       "    <tr>\n",
       "      <th>customer_id</th>\n",
       "      <th></th>\n",
       "      <th></th>\n",
       "      <th></th>\n",
       "      <th></th>\n",
       "      <th></th>\n",
       "      <th></th>\n",
       "      <th></th>\n",
       "      <th></th>\n",
       "      <th></th>\n",
       "      <th></th>\n",
       "      <th></th>\n",
       "      <th></th>\n",
       "      <th></th>\n",
       "      <th></th>\n",
       "      <th></th>\n",
       "      <th></th>\n",
       "      <th></th>\n",
       "      <th></th>\n",
       "      <th></th>\n",
       "    </tr>\n",
       "  </thead>\n",
       "  <tbody>\n",
       "    <tr>\n",
       "      <th>8605-ITULD</th>\n",
       "      <td>Month-to-month</td>\n",
       "      <td>No</td>\n",
       "      <td>Mailed check</td>\n",
       "      <td>19.55</td>\n",
       "      <td>19.549999</td>\n",
       "      <td>Female</td>\n",
       "      <td>0</td>\n",
       "      <td>No</td>\n",
       "      <td>No</td>\n",
       "      <td>No</td>\n",
       "      <td>No</td>\n",
       "      <td>No</td>\n",
       "      <td>No</td>\n",
       "      <td>No</td>\n",
       "      <td>No</td>\n",
       "      <td>No</td>\n",
       "      <td>No</td>\n",
       "      <td>0</td>\n",
       "      <td>31.0</td>\n",
       "    </tr>\n",
       "    <tr>\n",
       "      <th>2668-TZSPS</th>\n",
       "      <td>Month-to-month</td>\n",
       "      <td>No</td>\n",
       "      <td>Mailed check</td>\n",
       "      <td>20.45</td>\n",
       "      <td>20.450001</td>\n",
       "      <td>Male</td>\n",
       "      <td>0</td>\n",
       "      <td>No</td>\n",
       "      <td>No</td>\n",
       "      <td>No</td>\n",
       "      <td>No</td>\n",
       "      <td>No</td>\n",
       "      <td>No</td>\n",
       "      <td>No</td>\n",
       "      <td>No</td>\n",
       "      <td>No</td>\n",
       "      <td>No</td>\n",
       "      <td>0</td>\n",
       "      <td>31.0</td>\n",
       "    </tr>\n",
       "    <tr>\n",
       "      <th>3892-NXAZG</th>\n",
       "      <td>Two year</td>\n",
       "      <td>Yes</td>\n",
       "      <td>Credit card (automatic)</td>\n",
       "      <td>114.05</td>\n",
       "      <td>8211.599609</td>\n",
       "      <td>Male</td>\n",
       "      <td>0</td>\n",
       "      <td>Yes</td>\n",
       "      <td>Yes</td>\n",
       "      <td>Fiber optic</td>\n",
       "      <td>Yes</td>\n",
       "      <td>Yes</td>\n",
       "      <td>Yes</td>\n",
       "      <td>Yes</td>\n",
       "      <td>Yes</td>\n",
       "      <td>Yes</td>\n",
       "      <td>Yes</td>\n",
       "      <td>0</td>\n",
       "      <td>2191.0</td>\n",
       "    </tr>\n",
       "    <tr>\n",
       "      <th>8774-GSBUN</th>\n",
       "      <td>Two year</td>\n",
       "      <td>No</td>\n",
       "      <td>Mailed check</td>\n",
       "      <td>25.40</td>\n",
       "      <td>1828.800049</td>\n",
       "      <td>Male</td>\n",
       "      <td>0</td>\n",
       "      <td>Yes</td>\n",
       "      <td>No</td>\n",
       "      <td>No</td>\n",
       "      <td>No</td>\n",
       "      <td>No</td>\n",
       "      <td>No</td>\n",
       "      <td>No</td>\n",
       "      <td>No</td>\n",
       "      <td>No</td>\n",
       "      <td>Yes</td>\n",
       "      <td>0</td>\n",
       "      <td>2191.0</td>\n",
       "    </tr>\n",
       "  </tbody>\n",
       "</table>\n",
       "</div>"
      ],
      "text/plain": [
       "                       type paperless_billing           payment_method  \\\n",
       "customer_id                                                              \n",
       "8605-ITULD   Month-to-month                No             Mailed check   \n",
       "2668-TZSPS   Month-to-month                No             Mailed check   \n",
       "3892-NXAZG         Two year               Yes  Credit card (automatic)   \n",
       "8774-GSBUN         Two year                No             Mailed check   \n",
       "\n",
       "             monthly_charges  total_charges  gender  senior_citizen partner  \\\n",
       "customer_id                                                                   \n",
       "8605-ITULD             19.55      19.549999  Female               0      No   \n",
       "2668-TZSPS             20.45      20.450001    Male               0      No   \n",
       "3892-NXAZG            114.05    8211.599609    Male               0     Yes   \n",
       "8774-GSBUN             25.40    1828.800049    Male               0     Yes   \n",
       "\n",
       "            dependents internet_service online_security online_backup  \\\n",
       "customer_id                                                             \n",
       "8605-ITULD          No               No              No            No   \n",
       "2668-TZSPS          No               No              No            No   \n",
       "3892-NXAZG         Yes      Fiber optic             Yes           Yes   \n",
       "8774-GSBUN          No               No              No            No   \n",
       "\n",
       "            device_protection tech_support streaming_tv streaming_movies  \\\n",
       "customer_id                                                                \n",
       "8605-ITULD                 No           No           No               No   \n",
       "2668-TZSPS                 No           No           No               No   \n",
       "3892-NXAZG                Yes          Yes          Yes              Yes   \n",
       "8774-GSBUN                 No           No           No               No   \n",
       "\n",
       "            multiple_lines  exited    days  \n",
       "customer_id                                 \n",
       "8605-ITULD              No       0    31.0  \n",
       "2668-TZSPS              No       0    31.0  \n",
       "3892-NXAZG             Yes       0  2191.0  \n",
       "8774-GSBUN             Yes       0  2191.0  "
      ]
     },
     "execution_count": 17,
     "metadata": {},
     "output_type": "execute_result"
    }
   ],
   "source": [
    "df[df.duplicated()]"
   ]
  },
  {
   "cell_type": "markdown",
   "id": "c7a277bf",
   "metadata": {},
   "source": [
    "**Соберем признаки, которые хотем преобразовать**"
   ]
  },
  {
   "cell_type": "code",
   "execution_count": 18,
   "id": "f1a99081",
   "metadata": {},
   "outputs": [],
   "source": [
    "categorical_features = set()\n",
    "\n",
    "for _ in df.columns:\n",
    "    if pd.api.types.is_string_dtype(df[_]):\n",
    "        categorical_features.add(_)"
   ]
  },
  {
   "cell_type": "code",
   "execution_count": 19,
   "id": "66e0c966",
   "metadata": {},
   "outputs": [],
   "source": [
    "numeric_features = ['monthly_charges', 'total_charges', 'days']"
   ]
  },
  {
   "cell_type": "markdown",
   "id": "3ee8cd12",
   "metadata": {},
   "source": [
    "**Разобьем выборку**"
   ]
  },
  {
   "cell_type": "code",
   "execution_count": 20,
   "id": "240c2530",
   "metadata": {},
   "outputs": [],
   "source": [
    "X = df.drop('exited', axis=1)\n",
    "y = df['exited']"
   ]
  },
  {
   "cell_type": "code",
   "execution_count": 21,
   "id": "f7e14e97",
   "metadata": {},
   "outputs": [
    {
     "name": "stdout",
     "output_type": "stream",
     "text": [
      "Размер обучающей выборки 5282\n",
      "Размер тостовой выборки 1761\n"
     ]
    }
   ],
   "source": [
    "X_train, X_test, y_train, y_test = train_test_split(X, y, test_size=0.25, random_state=RANDOM_STATE)\n",
    "print(f'Размер обучающей выборки {X_train.shape[0]}')\n",
    "print(f'Размер тостовой выборки {X_test.shape[0]}')"
   ]
  },
  {
   "cell_type": "markdown",
   "id": "9b872b02",
   "metadata": {},
   "source": [
    "**Кодируем категориальные признаки**"
   ]
  },
  {
   "cell_type": "code",
   "execution_count": 22,
   "id": "9b299990",
   "metadata": {},
   "outputs": [],
   "source": [
    "categorical_features = list(categorical_features)\n",
    "ordinal_encoder = OrdinalEncoder()\n",
    "ordinal_encoder.fit(X_train[categorical_features])\n",
    "X_train[categorical_features] = ordinal_encoder.transform(X_train[categorical_features])\n",
    "X_test[categorical_features] = ordinal_encoder.transform(X_test[categorical_features])"
   ]
  },
  {
   "cell_type": "markdown",
   "id": "7cfc17d6",
   "metadata": {},
   "source": [
    "**Масштабируем значения датафрейма**"
   ]
  },
  {
   "cell_type": "code",
   "execution_count": 23,
   "id": "af2d905e",
   "metadata": {},
   "outputs": [],
   "source": [
    "scaler = StandardScaler()\n",
    "scaler.fit(X_train[numeric_features])\n",
    "X_train[numeric_features] = scaler.transform(X_train[numeric_features])\n",
    "X_test[numeric_features] = scaler.transform(X_test[numeric_features])"
   ]
  },
  {
   "cell_type": "code",
   "execution_count": 24,
   "id": "4aa30141",
   "metadata": {},
   "outputs": [
    {
     "data": {
      "text/html": [
       "<div>\n",
       "<style scoped>\n",
       "    .dataframe tbody tr th:only-of-type {\n",
       "        vertical-align: middle;\n",
       "    }\n",
       "\n",
       "    .dataframe tbody tr th {\n",
       "        vertical-align: top;\n",
       "    }\n",
       "\n",
       "    .dataframe thead th {\n",
       "        text-align: right;\n",
       "    }\n",
       "</style>\n",
       "<table border=\"1\" class=\"dataframe\">\n",
       "  <thead>\n",
       "    <tr style=\"text-align: right;\">\n",
       "      <th></th>\n",
       "      <th>type</th>\n",
       "      <th>paperless_billing</th>\n",
       "      <th>payment_method</th>\n",
       "      <th>monthly_charges</th>\n",
       "      <th>total_charges</th>\n",
       "      <th>gender</th>\n",
       "      <th>senior_citizen</th>\n",
       "      <th>partner</th>\n",
       "      <th>dependents</th>\n",
       "      <th>internet_service</th>\n",
       "      <th>online_security</th>\n",
       "      <th>online_backup</th>\n",
       "      <th>device_protection</th>\n",
       "      <th>tech_support</th>\n",
       "      <th>streaming_tv</th>\n",
       "      <th>streaming_movies</th>\n",
       "      <th>multiple_lines</th>\n",
       "      <th>days</th>\n",
       "    </tr>\n",
       "    <tr>\n",
       "      <th>customer_id</th>\n",
       "      <th></th>\n",
       "      <th></th>\n",
       "      <th></th>\n",
       "      <th></th>\n",
       "      <th></th>\n",
       "      <th></th>\n",
       "      <th></th>\n",
       "      <th></th>\n",
       "      <th></th>\n",
       "      <th></th>\n",
       "      <th></th>\n",
       "      <th></th>\n",
       "      <th></th>\n",
       "      <th></th>\n",
       "      <th></th>\n",
       "      <th></th>\n",
       "      <th></th>\n",
       "      <th></th>\n",
       "    </tr>\n",
       "  </thead>\n",
       "  <tbody>\n",
       "    <tr>\n",
       "      <th>2660-EMUBI</th>\n",
       "      <td>0.0</td>\n",
       "      <td>1.0</td>\n",
       "      <td>2.0</td>\n",
       "      <td>1.013454</td>\n",
       "      <td>-0.348087</td>\n",
       "      <td>1.0</td>\n",
       "      <td>1</td>\n",
       "      <td>0.0</td>\n",
       "      <td>0.0</td>\n",
       "      <td>1.0</td>\n",
       "      <td>0.0</td>\n",
       "      <td>0.0</td>\n",
       "      <td>0.0</td>\n",
       "      <td>0.0</td>\n",
       "      <td>1.0</td>\n",
       "      <td>1.0</td>\n",
       "      <td>1.0</td>\n",
       "      <td>-0.691178</td>\n",
       "    </tr>\n",
       "    <tr>\n",
       "      <th>3347-YJZZE</th>\n",
       "      <td>0.0</td>\n",
       "      <td>0.0</td>\n",
       "      <td>1.0</td>\n",
       "      <td>0.505882</td>\n",
       "      <td>0.096255</td>\n",
       "      <td>1.0</td>\n",
       "      <td>0</td>\n",
       "      <td>1.0</td>\n",
       "      <td>1.0</td>\n",
       "      <td>0.0</td>\n",
       "      <td>0.0</td>\n",
       "      <td>1.0</td>\n",
       "      <td>1.0</td>\n",
       "      <td>0.0</td>\n",
       "      <td>1.0</td>\n",
       "      <td>1.0</td>\n",
       "      <td>1.0</td>\n",
       "      <td>-0.022745</td>\n",
       "    </tr>\n",
       "    <tr>\n",
       "      <th>0967-BMLBD</th>\n",
       "      <td>1.0</td>\n",
       "      <td>1.0</td>\n",
       "      <td>3.0</td>\n",
       "      <td>-1.494453</td>\n",
       "      <td>-0.899355</td>\n",
       "      <td>0.0</td>\n",
       "      <td>0</td>\n",
       "      <td>1.0</td>\n",
       "      <td>1.0</td>\n",
       "      <td>2.0</td>\n",
       "      <td>0.0</td>\n",
       "      <td>0.0</td>\n",
       "      <td>0.0</td>\n",
       "      <td>0.0</td>\n",
       "      <td>0.0</td>\n",
       "      <td>0.0</td>\n",
       "      <td>0.0</td>\n",
       "      <td>-0.823106</td>\n",
       "    </tr>\n",
       "    <tr>\n",
       "      <th>2931-SVLTV</th>\n",
       "      <td>0.0</td>\n",
       "      <td>1.0</td>\n",
       "      <td>1.0</td>\n",
       "      <td>1.504385</td>\n",
       "      <td>1.148500</td>\n",
       "      <td>1.0</td>\n",
       "      <td>0</td>\n",
       "      <td>1.0</td>\n",
       "      <td>1.0</td>\n",
       "      <td>1.0</td>\n",
       "      <td>1.0</td>\n",
       "      <td>1.0</td>\n",
       "      <td>0.0</td>\n",
       "      <td>1.0</td>\n",
       "      <td>1.0</td>\n",
       "      <td>1.0</td>\n",
       "      <td>1.0</td>\n",
       "      <td>0.468319</td>\n",
       "    </tr>\n",
       "    <tr>\n",
       "      <th>4163-KIUHY</th>\n",
       "      <td>0.0</td>\n",
       "      <td>1.0</td>\n",
       "      <td>2.0</td>\n",
       "      <td>-1.308065</td>\n",
       "      <td>-0.582144</td>\n",
       "      <td>1.0</td>\n",
       "      <td>0</td>\n",
       "      <td>0.0</td>\n",
       "      <td>0.0</td>\n",
       "      <td>2.0</td>\n",
       "      <td>0.0</td>\n",
       "      <td>0.0</td>\n",
       "      <td>0.0</td>\n",
       "      <td>0.0</td>\n",
       "      <td>0.0</td>\n",
       "      <td>0.0</td>\n",
       "      <td>1.0</td>\n",
       "      <td>0.246974</td>\n",
       "    </tr>\n",
       "  </tbody>\n",
       "</table>\n",
       "</div>"
      ],
      "text/plain": [
       "             type  paperless_billing  payment_method  monthly_charges  \\\n",
       "customer_id                                                             \n",
       "2660-EMUBI    0.0                1.0             2.0         1.013454   \n",
       "3347-YJZZE    0.0                0.0             1.0         0.505882   \n",
       "0967-BMLBD    1.0                1.0             3.0        -1.494453   \n",
       "2931-SVLTV    0.0                1.0             1.0         1.504385   \n",
       "4163-KIUHY    0.0                1.0             2.0        -1.308065   \n",
       "\n",
       "             total_charges  gender  senior_citizen  partner  dependents  \\\n",
       "customer_id                                                               \n",
       "2660-EMUBI       -0.348087     1.0               1      0.0         0.0   \n",
       "3347-YJZZE        0.096255     1.0               0      1.0         1.0   \n",
       "0967-BMLBD       -0.899355     0.0               0      1.0         1.0   \n",
       "2931-SVLTV        1.148500     1.0               0      1.0         1.0   \n",
       "4163-KIUHY       -0.582144     1.0               0      0.0         0.0   \n",
       "\n",
       "             internet_service  online_security  online_backup  \\\n",
       "customer_id                                                     \n",
       "2660-EMUBI                1.0              0.0            0.0   \n",
       "3347-YJZZE                0.0              0.0            1.0   \n",
       "0967-BMLBD                2.0              0.0            0.0   \n",
       "2931-SVLTV                1.0              1.0            1.0   \n",
       "4163-KIUHY                2.0              0.0            0.0   \n",
       "\n",
       "             device_protection  tech_support  streaming_tv  streaming_movies  \\\n",
       "customer_id                                                                    \n",
       "2660-EMUBI                 0.0           0.0           1.0               1.0   \n",
       "3347-YJZZE                 1.0           0.0           1.0               1.0   \n",
       "0967-BMLBD                 0.0           0.0           0.0               0.0   \n",
       "2931-SVLTV                 0.0           1.0           1.0               1.0   \n",
       "4163-KIUHY                 0.0           0.0           0.0               0.0   \n",
       "\n",
       "             multiple_lines      days  \n",
       "customer_id                            \n",
       "2660-EMUBI              1.0 -0.691178  \n",
       "3347-YJZZE              1.0 -0.022745  \n",
       "0967-BMLBD              0.0 -0.823106  \n",
       "2931-SVLTV              1.0  0.468319  \n",
       "4163-KIUHY              1.0  0.246974  "
      ]
     },
     "metadata": {},
     "output_type": "display_data"
    },
    {
     "data": {
      "text/html": [
       "<div>\n",
       "<style scoped>\n",
       "    .dataframe tbody tr th:only-of-type {\n",
       "        vertical-align: middle;\n",
       "    }\n",
       "\n",
       "    .dataframe tbody tr th {\n",
       "        vertical-align: top;\n",
       "    }\n",
       "\n",
       "    .dataframe thead th {\n",
       "        text-align: right;\n",
       "    }\n",
       "</style>\n",
       "<table border=\"1\" class=\"dataframe\">\n",
       "  <thead>\n",
       "    <tr style=\"text-align: right;\">\n",
       "      <th></th>\n",
       "      <th>type</th>\n",
       "      <th>paperless_billing</th>\n",
       "      <th>payment_method</th>\n",
       "      <th>monthly_charges</th>\n",
       "      <th>total_charges</th>\n",
       "      <th>gender</th>\n",
       "      <th>senior_citizen</th>\n",
       "      <th>partner</th>\n",
       "      <th>dependents</th>\n",
       "      <th>internet_service</th>\n",
       "      <th>online_security</th>\n",
       "      <th>online_backup</th>\n",
       "      <th>device_protection</th>\n",
       "      <th>tech_support</th>\n",
       "      <th>streaming_tv</th>\n",
       "      <th>streaming_movies</th>\n",
       "      <th>multiple_lines</th>\n",
       "      <th>days</th>\n",
       "    </tr>\n",
       "    <tr>\n",
       "      <th>customer_id</th>\n",
       "      <th></th>\n",
       "      <th></th>\n",
       "      <th></th>\n",
       "      <th></th>\n",
       "      <th></th>\n",
       "      <th></th>\n",
       "      <th></th>\n",
       "      <th></th>\n",
       "      <th></th>\n",
       "      <th></th>\n",
       "      <th></th>\n",
       "      <th></th>\n",
       "      <th></th>\n",
       "      <th></th>\n",
       "      <th></th>\n",
       "      <th></th>\n",
       "      <th></th>\n",
       "      <th></th>\n",
       "    </tr>\n",
       "  </thead>\n",
       "  <tbody>\n",
       "    <tr>\n",
       "      <th>4877-TSOFF</th>\n",
       "      <td>1.0</td>\n",
       "      <td>1.0</td>\n",
       "      <td>0.0</td>\n",
       "      <td>0.361099</td>\n",
       "      <td>0.900622</td>\n",
       "      <td>0.0</td>\n",
       "      <td>0</td>\n",
       "      <td>1.0</td>\n",
       "      <td>1.0</td>\n",
       "      <td>0.0</td>\n",
       "      <td>1.0</td>\n",
       "      <td>1.0</td>\n",
       "      <td>0.0</td>\n",
       "      <td>1.0</td>\n",
       "      <td>0.0</td>\n",
       "      <td>1.0</td>\n",
       "      <td>1.0</td>\n",
       "      <td>1.048800</td>\n",
       "    </tr>\n",
       "    <tr>\n",
       "      <th>3808-HFKDE</th>\n",
       "      <td>0.0</td>\n",
       "      <td>1.0</td>\n",
       "      <td>2.0</td>\n",
       "      <td>-0.684001</td>\n",
       "      <td>-0.569555</td>\n",
       "      <td>0.0</td>\n",
       "      <td>0</td>\n",
       "      <td>0.0</td>\n",
       "      <td>0.0</td>\n",
       "      <td>0.0</td>\n",
       "      <td>0.0</td>\n",
       "      <td>0.0</td>\n",
       "      <td>0.0</td>\n",
       "      <td>0.0</td>\n",
       "      <td>0.0</td>\n",
       "      <td>0.0</td>\n",
       "      <td>0.0</td>\n",
       "      <td>-0.422925</td>\n",
       "    </tr>\n",
       "    <tr>\n",
       "      <th>7048-GXDAY</th>\n",
       "      <td>0.0</td>\n",
       "      <td>1.0</td>\n",
       "      <td>2.0</td>\n",
       "      <td>1.381236</td>\n",
       "      <td>0.964734</td>\n",
       "      <td>1.0</td>\n",
       "      <td>0</td>\n",
       "      <td>0.0</td>\n",
       "      <td>0.0</td>\n",
       "      <td>1.0</td>\n",
       "      <td>1.0</td>\n",
       "      <td>1.0</td>\n",
       "      <td>0.0</td>\n",
       "      <td>0.0</td>\n",
       "      <td>1.0</td>\n",
       "      <td>1.0</td>\n",
       "      <td>1.0</td>\n",
       "      <td>0.422877</td>\n",
       "    </tr>\n",
       "    <tr>\n",
       "      <th>8375-DKEBR</th>\n",
       "      <td>0.0</td>\n",
       "      <td>1.0</td>\n",
       "      <td>2.0</td>\n",
       "      <td>0.156406</td>\n",
       "      <td>-0.937984</td>\n",
       "      <td>0.0</td>\n",
       "      <td>1</td>\n",
       "      <td>0.0</td>\n",
       "      <td>0.0</td>\n",
       "      <td>1.0</td>\n",
       "      <td>0.0</td>\n",
       "      <td>0.0</td>\n",
       "      <td>0.0</td>\n",
       "      <td>0.0</td>\n",
       "      <td>0.0</td>\n",
       "      <td>0.0</td>\n",
       "      <td>0.0</td>\n",
       "      <td>-1.226218</td>\n",
       "    </tr>\n",
       "    <tr>\n",
       "      <th>1447-GIQMR</th>\n",
       "      <td>0.0</td>\n",
       "      <td>1.0</td>\n",
       "      <td>2.0</td>\n",
       "      <td>0.141428</td>\n",
       "      <td>-0.872683</td>\n",
       "      <td>1.0</td>\n",
       "      <td>0</td>\n",
       "      <td>1.0</td>\n",
       "      <td>0.0</td>\n",
       "      <td>1.0</td>\n",
       "      <td>0.0</td>\n",
       "      <td>0.0</td>\n",
       "      <td>0.0</td>\n",
       "      <td>0.0</td>\n",
       "      <td>0.0</td>\n",
       "      <td>0.0</td>\n",
       "      <td>0.0</td>\n",
       "      <td>-1.136800</td>\n",
       "    </tr>\n",
       "  </tbody>\n",
       "</table>\n",
       "</div>"
      ],
      "text/plain": [
       "             type  paperless_billing  payment_method  monthly_charges  \\\n",
       "customer_id                                                             \n",
       "4877-TSOFF    1.0                1.0             0.0         0.361099   \n",
       "3808-HFKDE    0.0                1.0             2.0        -0.684001   \n",
       "7048-GXDAY    0.0                1.0             2.0         1.381236   \n",
       "8375-DKEBR    0.0                1.0             2.0         0.156406   \n",
       "1447-GIQMR    0.0                1.0             2.0         0.141428   \n",
       "\n",
       "             total_charges  gender  senior_citizen  partner  dependents  \\\n",
       "customer_id                                                               \n",
       "4877-TSOFF        0.900622     0.0               0      1.0         1.0   \n",
       "3808-HFKDE       -0.569555     0.0               0      0.0         0.0   \n",
       "7048-GXDAY        0.964734     1.0               0      0.0         0.0   \n",
       "8375-DKEBR       -0.937984     0.0               1      0.0         0.0   \n",
       "1447-GIQMR       -0.872683     1.0               0      1.0         0.0   \n",
       "\n",
       "             internet_service  online_security  online_backup  \\\n",
       "customer_id                                                     \n",
       "4877-TSOFF                0.0              1.0            1.0   \n",
       "3808-HFKDE                0.0              0.0            0.0   \n",
       "7048-GXDAY                1.0              1.0            1.0   \n",
       "8375-DKEBR                1.0              0.0            0.0   \n",
       "1447-GIQMR                1.0              0.0            0.0   \n",
       "\n",
       "             device_protection  tech_support  streaming_tv  streaming_movies  \\\n",
       "customer_id                                                                    \n",
       "4877-TSOFF                 0.0           1.0           0.0               1.0   \n",
       "3808-HFKDE                 0.0           0.0           0.0               0.0   \n",
       "7048-GXDAY                 0.0           0.0           1.0               1.0   \n",
       "8375-DKEBR                 0.0           0.0           0.0               0.0   \n",
       "1447-GIQMR                 0.0           0.0           0.0               0.0   \n",
       "\n",
       "             multiple_lines      days  \n",
       "customer_id                            \n",
       "4877-TSOFF              1.0  1.048800  \n",
       "3808-HFKDE              0.0 -0.422925  \n",
       "7048-GXDAY              1.0  0.422877  \n",
       "8375-DKEBR              0.0 -1.226218  \n",
       "1447-GIQMR              0.0 -1.136800  "
      ]
     },
     "execution_count": 24,
     "metadata": {},
     "output_type": "execute_result"
    }
   ],
   "source": [
    "display(X_train.head())\n",
    "X_test.head()"
   ]
  },
  {
   "cell_type": "markdown",
   "id": "6cb3e3f4",
   "metadata": {},
   "source": [
    "**Посмотрим на дисбаланс классов**"
   ]
  },
  {
   "cell_type": "code",
   "execution_count": 25,
   "id": "4d14971f",
   "metadata": {},
   "outputs": [
    {
     "data": {
      "image/png": "[encoded data removed]",
      "text/plain": [
       "<Figure size 720x216 with 2 Axes>"
      ]
     },
     "metadata": {
      "needs_background": "light"
     },
     "output_type": "display_data"
    }
   ],
   "source": [
    "fig, ax = plt.subplots(1,2, figsize=(10,3))\n",
    "ax[0].hist(y_train)\n",
    "ax[1].hist(y_test);"
   ]
  },
  {
   "cell_type": "markdown",
   "id": "268f9765",
   "metadata": {},
   "source": [
    "**И вот на выходе мы имеем подготовленные для дальнейшего обучения признаки без пропусков и дубликатов с нормальным распределением данных, а так же ярковыраженным дисбалансом классов**"
   ]
  },
  {
   "cell_type": "markdown",
   "id": "23b9fda8",
   "metadata": {},
   "source": [
    "## Вывод по первому разделу"
   ]
  },
  {
   "cell_type": "markdown",
   "id": "7a5353b6",
   "metadata": {},
   "source": [
    "**1) Данные собраны в один датафрейм без потерь\n",
    "<br>2) В данных были проблемы с типами данных, которые были преобразованы (прим. total_charges был str)\n",
    "<br>3) Из-за сборки данных, появились пропуски, которые были заполнены\n",
    "<br>4) Дубликатов в наборе данных не было выявлено\n",
    "<br>5) Данные были разбиты для дальнейшего обучения \n",
    "<br>6) Категориальные данные были закодированы\n",
    "<br>7) Весь датасет в дальнейшем был масштабирован\n",
    "<br>8) Была выделена целевая переменная\n",
    "<br>9) Данные имеют нормальный вид\n",
    "<br>10) Выявлена проблема с дисбалансом классов**"
   ]
  },
  {
   "cell_type": "markdown",
   "id": "5faccbf4",
   "metadata": {},
   "source": [
    "# ~"
   ]
  },
  {
   "cell_type": "markdown",
   "id": "05605a79",
   "metadata": {},
   "source": [
    "**Вопросы**"
   ]
  },
  {
   "cell_type": "markdown",
   "id": "99e1a63b",
   "metadata": {},
   "source": [
    "1) paperless_billing - это без отправки бумажной квитанции?\n",
    "<br> 2) begin_date (или любой другой признак с типом datetime) к какому-типу признака относится время? (колич/катег)\n",
    "<br> 3) Требуются ли какие-то статистические  показатели?"
   ]
  },
  {
   "cell_type": "markdown",
   "id": "cb8aab09",
   "metadata": {},
   "source": [
    "**План работы:**\n",
    "<br>1) Загрузить и подготовить данные\n",
    "<br>2) Исследовать данные. (Пропуски/Аномалии/Дубликаты/Распределение)\n",
    "<br>3) Обучить несколько моделей. Найти лучшую.\n",
    "<br>4) Провести финальное тестирование\n",
    "<br>5) Описать выводы по работе"
   ]
  },
  {
   "cell_type": "markdown",
   "id": "8b3dff37",
   "metadata": {},
   "source": [
    "**Наша цель:**\n",
    "<br>Понять какому клиенту стоит презентовать промо-код или другой бонус, что бы он не ушел "
   ]
  },
  {
   "cell_type": "markdown",
   "id": "28fba58c",
   "metadata": {},
   "source": [
    "## Обучение моделей"
   ]
  },
  {
   "cell_type": "code",
   "execution_count": 26,
   "id": "6790054d",
   "metadata": {},
   "outputs": [],
   "source": [
    "param_grid = {\n",
    "      'n_estimators': range(100,1000,100),\n",
    "      'max_depth': range(1,11)}"
   ]
  },
  {
   "cell_type": "markdown",
   "id": "f768a3c9",
   "metadata": {},
   "source": [
    "**CatBoostClassifier**"
   ]
  },
  {
   "cell_type": "code",
   "execution_count": 27,
   "id": "d8edbcd8",
   "metadata": {},
   "outputs": [
    {
     "name": "stdout",
     "output_type": "stream",
     "text": [
      "ROC-AUC : 0.8695059919696441\n",
      "Параметры : {'n_estimators': 900, 'max_depth': 5}\n",
      "Wall time: 36.8 s\n"
     ]
    }
   ],
   "source": [
    "%%time\n",
    "estimator = CatBoostClassifier(random_state=RANDOM_STATE, \n",
    "                               verbose = False, \n",
    "                               auto_class_weights = 'Balanced')\n",
    "\n",
    "model_cbc = RandomizedSearchCV(estimator, \n",
    "                               param_grid, \n",
    "                               verbose = False, \n",
    "                               n_jobs=-1,\n",
    "                               scoring='roc_auc', \n",
    "                               random_state=RANDOM_STATE)\n",
    "\n",
    "model_cbc.fit(X_train, y_train)\n",
    "\n",
    "parametrs_cbc = model_cbc.best_params_\n",
    "best_model_cbc = model_cbc.best_estimator_\n",
    "print(f'ROC-AUC : {model_cbc.best_score_}')\n",
    "print(f'Параметры : {parametrs_cbc}')"
   ]
  },
  {
   "cell_type": "markdown",
   "id": "0641000e",
   "metadata": {},
   "source": [
    "**RandomForestClassifier**"
   ]
  },
  {
   "cell_type": "code",
   "execution_count": 28,
   "id": "bd421782",
   "metadata": {},
   "outputs": [
    {
     "name": "stdout",
     "output_type": "stream",
     "text": [
      "ROC-AUC : 0.8245908164797233\n",
      "Параметры : {'n_estimators': 700, 'max_depth': 6}\n",
      "Wall time: 10.7 s\n"
     ]
    }
   ],
   "source": [
    "%%time\n",
    "estimator = RandomForestClassifier(random_state=RANDOM_STATE, \n",
    "                                   class_weight = 'balanced')\n",
    "\n",
    "model_rfc = RandomizedSearchCV(estimator, \n",
    "                               param_grid, \n",
    "                               verbose = False, \n",
    "                               n_jobs=-1,\n",
    "                               scoring='roc_auc', \n",
    "                               random_state=RANDOM_STATE)\n",
    "\n",
    "model_rfc.fit(X_train, y_train)\n",
    "\n",
    "parametrs_rfc = model_rfc.best_params_\n",
    "best_model_rfc = model_rfc.best_estimator_\n",
    "print(f'ROC-AUC : {model_rfc.best_score_}')\n",
    "print(f'Параметры : {parametrs_rfc}')"
   ]
  },
  {
   "cell_type": "markdown",
   "id": "a3171cb4",
   "metadata": {},
   "source": [
    "**LGBMClassifier**"
   ]
  },
  {
   "cell_type": "code",
   "execution_count": 29,
   "id": "01aa0862",
   "metadata": {},
   "outputs": [
    {
     "name": "stdout",
     "output_type": "stream",
     "text": [
      "ROC-AUC : 0.8868792532159292\n",
      "Параметры : {'n_estimators': 800, 'max_depth': 2}\n",
      "Wall time: 3.72 s\n"
     ]
    }
   ],
   "source": [
    "%%time\n",
    "estimator = LGBMClassifier(random_state=RANDOM_STATE, \n",
    "                                   class_weight = 'balanced')\n",
    "\n",
    "model_lgbm = RandomizedSearchCV(estimator, \n",
    "                               param_grid, \n",
    "                               verbose = False, \n",
    "                               n_jobs=-1,\n",
    "                               scoring='roc_auc', \n",
    "                               random_state=RANDOM_STATE)\n",
    "\n",
    "model_lgbm.fit(X_train, y_train)\n",
    "\n",
    "parametrs_lgbm = model_lgbm.best_params_\n",
    "best_model_lgbm = model_lgbm.best_estimator_\n",
    "print(f'ROC-AUC : {model_lgbm.best_score_}')\n",
    "print(f'Параметры : {parametrs_lgbm}')"
   ]
  },
  {
   "cell_type": "markdown",
   "id": "9c81647b",
   "metadata": {},
   "source": [
    "# Тестирование"
   ]
  },
  {
   "cell_type": "markdown",
   "id": "e68da584",
   "metadata": {},
   "source": [
    "**Посмотрим на финальные метрики**"
   ]
  },
  {
   "cell_type": "code",
   "execution_count": 30,
   "id": "2830e306",
   "metadata": {},
   "outputs": [
    {
     "name": "stdout",
     "output_type": "stream",
     "text": [
      "roc_auc = 0.9049612513668995\n"
     ]
    }
   ],
   "source": [
    "predicted_lgbm = best_model_lgbm.predict(X_test)\n",
    "model_score_roc_lgbm =  roc_auc_score(y_test, best_model_lgbm.predict_proba(X_test)[:,1])                        \n",
    "print(f\"roc_auc = {model_score_roc_lgbm}\")"
   ]
  },
  {
   "cell_type": "markdown",
   "id": "8c5d7314",
   "metadata": {},
   "source": [
    "**Построим ROC кривую**"
   ]
  },
  {
   "cell_type": "code",
   "execution_count": 31,
   "id": "655b5b73",
   "metadata": {},
   "outputs": [
    {
     "data": {
      "image/png": "[encoded data removed]",
      "text/plain": [
       "<Figure size 432x288 with 1 Axes>"
      ]
     },
     "metadata": {
      "needs_background": "light"
     },
     "output_type": "display_data"
    }
   ],
   "source": [
    "probabilities_test = model_lgbm.predict_proba(X_test)[::,1]\n",
    "fpr, tpr, thresholds = roc_curve(y_test, probabilities_test) \n",
    "\n",
    "plt.figure()\n",
    "plt.plot(fpr,tpr)\n",
    "plt.ylabel('True Positive Rate')\n",
    "plt.xlabel('False Positive Rate')\n",
    "plt.show() "
   ]
  },
  {
   "cell_type": "markdown",
   "id": "9670459e",
   "metadata": {},
   "source": [
    "**Определим важность признаков**"
   ]
  },
  {
   "cell_type": "code",
   "execution_count": 32,
   "id": "cd4a34a1",
   "metadata": {},
   "outputs": [
    {
     "data": {
      "image/png": "[encoded data removed]",
      "text/plain": [
       "<Figure size 1152x360 with 1 Axes>"
      ]
     },
     "metadata": {
      "needs_background": "light"
     },
     "output_type": "display_data"
    }
   ],
   "source": [
    "top_params = model_lgbm.best_params_\n",
    "gbm_model = LGBMClassifier(random_state=RANDOM_STATE, \n",
    "                           class_weight = 'balanced',\n",
    "                           n_estimators=top_params['n_estimators'], \n",
    "                           max_depth=top_params[\"max_depth\"])\n",
    "\n",
    "gbm_model.fit(X_train, y_train)\n",
    "f_imp = gbm_model.feature_importances_\n",
    "pd.Series(f_imp, index=X.columns).plot(x=X.columns, kind='bar', figsize=(16,5));"
   ]
  },
  {
   "cell_type": "markdown",
   "id": "5c620e32",
   "metadata": {},
   "source": [
    "*Можно заметить, что огромный вес среди признаков занимает количество дней \"сотрудничества\" с оператором, а так конечно же деньги=)*"
   ]
  },
  {
   "cell_type": "markdown",
   "id": "258cd46b",
   "metadata": {},
   "source": [
    "**Матрица ошибок**"
   ]
  },
  {
   "cell_type": "code",
   "execution_count": 33,
   "id": "b2bd3ca0",
   "metadata": {},
   "outputs": [
    {
     "data": {
      "text/plain": [
       "array([[0.85501355, 0.14498645],\n",
       "       [0.23157895, 0.76842105]])"
      ]
     },
     "execution_count": 33,
     "metadata": {},
     "output_type": "execute_result"
    }
   ],
   "source": [
    "confusion_matrix(y_test, predicted_lgbm, normalize='true')"
   ]
  },
  {
   "cell_type": "markdown",
   "id": "db931ff0",
   "metadata": {},
   "source": [
    "*По матрице ошибок можно заметить как раз дисбаланс классов. Достаточно хорошо определяет позитивные сценарии, в отличие от негативных.*"
   ]
  },
  {
   "cell_type": "markdown",
   "id": "f9dedad1",
   "metadata": {},
   "source": [
    "# Вывод по всей работе "
   ]
  },
  {
   "cell_type": "markdown",
   "id": "125ed2dd",
   "metadata": {},
   "source": [
    "**1) Данные собраны в один датафрейм без потерь\n",
    "<br> 2) Данные были преобразованы\n",
    "<br> 3) Были заполнены пропуски\n",
    "<br> 4) Дубликаты отсутсвуют\n",
    "<br> 5) Данные были разбиты для обучения\n",
    "<br> 6) Категориальные данные были закодированы\n",
    "<br> 7) Весь датасет был масштабирован\n",
    "<br> 8) Была выделена целевая переменная\n",
    "<br> 9) Данные имеют нормальный вид\n",
    "<br> 10) Выявлена проблема с дисбалансом классов\n",
    "<br> 11) Обучено 3 модели с балансом классов CatBoost, RandomForest и LFBM\n",
    "<br> 12) Лучшей моделью показала себя LGBMClassifier с параметрами {'n_estimators': 800, 'max_depth': 2}, с метрикой roc_auc = 0.9\n",
    "<br> 13) Орпеделены наиболее значимые признаки - это количество дней договора, а так же стоимость затрачиваемых на услуги\n",
    "<br> 14) Построена матрица шибок, которая намекает на дисбаланс классов, и что модели еще стоит обучиться на большем объеме данных**"
   ]
  },
  {
   "cell_type": "markdown",
   "id": "9340e584",
   "metadata": {},
   "source": [
    "# Отчет по плану"
   ]
  },
  {
   "cell_type": "markdown",
   "id": "d88a2579",
   "metadata": {},
   "source": [
    "**Какие пункты плана были выполнены, а какие нет?**"
   ]
  },
  {
   "cell_type": "markdown",
   "id": "71d7e77c",
   "metadata": {},
   "source": [
    "*Перед нами стояла задача определить какие клиенты потенциально могут уйти из компании.\n",
    "План, который я перед собой поставил, был выполнен полностью.*"
   ]
  },
  {
   "cell_type": "markdown",
   "id": "9a228c2e",
   "metadata": {},
   "source": [
    "**Какие трудности возникли и как вы с ними справились?**"
   ]
  },
  {
   "cell_type": "markdown",
   "id": "0240da66",
   "metadata": {},
   "source": [
    "*Особых трудностей по этому проекту на удивление не имелось. Наверно потому что данные были слишком хороши=)*"
   ]
  },
  {
   "cell_type": "markdown",
   "id": "7433af4b",
   "metadata": {},
   "source": [
    "**Какие ключевые шаги в решении задачи выделили?**"
   ]
  },
  {
   "cell_type": "markdown",
   "id": "ac6ec621",
   "metadata": {},
   "source": [
    "*Ключевыми шагами я считаю:\n",
    "<br>~ Правильно собранный датасет, с корректными типами данных\n",
    "<br>~ Избавление от пропусков\n",
    "<br>~ Разбиение на выборки\n",
    "<br>~ Обучение моделей с достижением нужной метрики\n",
    "<br>~ Поиск наиболее весомых признаков\n",
    "<br>~ И матрица ошибок*"
   ]
  },
  {
   "cell_type": "markdown",
   "id": "56385303",
   "metadata": {},
   "source": [
    "**Какия итоговая модель, какие у нее гиперпаарметры и какое качество?**"
   ]
  },
  {
   "cell_type": "markdown",
   "id": "80aa1137",
   "metadata": {},
   "source": [
    "*Итоговой моделью стала LGBMClassifier. Переберались такие параметры как глубина равная 2 и число деревьев равное 800. Качество модели оценивали метрикой ROC_AUC равной 0.9*"
   ]
  },
  {
   "cell_type": "markdown",
   "id": "33498d4a",
   "metadata": {},
   "source": [
    "**Список признаков, используемых для обучения лучшей модели, описание их предобработки**"
   ]
  },
  {
   "cell_type": "markdown",
   "id": "d9e0622c",
   "metadata": {},
   "source": [
    "Список признаков:\n",
    "<br>*type - тип оплаты\n",
    "<br>paperless_billing - электронное выставление счета\n",
    "<br>payment_method - способ оплаты\n",
    "<br>monthly_charges - ежемесячная оплата\n",
    "<br>total_charges - общая сумма расходов\n",
    "<br>gender - пол\n",
    "<br>senior_citizen  - пенсионер\n",
    "<br>partner - брак\n",
    "<br>dependents - дети\n",
    "<br>internet_service - доступ в интернет\n",
    "<br>online_security - интернет защита\n",
    "<br>online_backup - облачное хранилище\n",
    "<br>device_protection - антивирус\n",
    "<br>tech_support - тех потдержка\n",
    "<br>streaming_tv - стриминговое телевидиние\n",
    "<br>streaming_movies - кинотека\n",
    "<br>multiple_lines - несколько линий связи\n",
    "<br>days - количество дней договора*\n",
    "\n",
    "<br>Действия над ними:\n",
    "<br> *1) Преобразовали тип данных для total_charges в числовой и зполнили пустые строки нулями\n",
    "<br> 2) В признаках, обозначающие услугу, заполнили пустоты 'No'\n",
    "<br> 3) Признак days мы получили из двух удаленных, это начало договора и конец, если конца не было, барли актуальную дату\n",
    "<br> 4) Разбили на выборки в соотношении 75:25\n",
    "<br> 5) Потом все категориальные признаки мы закодировали, а количественные масштабтровали*"
   ]
  },
  {
   "cell_type": "code",
   "execution_count": null,
   "id": "9f658efe",
   "metadata": {},
   "outputs": [],
   "source": []
  }
 ],
 "metadata": {
  "ExecuteTimeLog": [
   {
    "duration": 3002,
    "start_time": "2023-07-18T20:32:38.929Z"
   },
   {
    "duration": 4,
    "start_time": "2023-07-18T20:32:44.945Z"
   },
   {
    "duration": 208,
    "start_time": "2023-07-18T20:33:58.393Z"
   },
   {
    "duration": 1236,
    "start_time": "2023-07-19T02:54:03.525Z"
   },
   {
    "duration": 3,
    "start_time": "2023-07-19T02:54:04.762Z"
   },
   {
    "duration": 103,
    "start_time": "2023-07-19T02:54:04.766Z"
   },
   {
    "duration": 114,
    "start_time": "2023-07-19T02:54:04.871Z"
   },
   {
    "duration": 164,
    "start_time": "2023-07-19T02:54:04.987Z"
   },
   {
    "duration": 120,
    "start_time": "2023-07-19T02:54:05.153Z"
   },
   {
    "duration": 37,
    "start_time": "2023-07-19T02:54:05.274Z"
   },
   {
    "duration": 19,
    "start_time": "2023-07-19T02:54:05.313Z"
   },
   {
    "duration": 5,
    "start_time": "2023-07-19T02:54:05.334Z"
   },
   {
    "duration": 71203,
    "start_time": "2023-07-19T02:54:05.341Z"
   },
   {
    "duration": 14,
    "start_time": "2023-07-19T02:55:16.546Z"
   },
   {
    "duration": 24,
    "start_time": "2023-07-19T02:55:16.561Z"
   },
   {
    "duration": 40,
    "start_time": "2023-07-19T02:55:16.587Z"
   },
   {
    "duration": 16,
    "start_time": "2023-07-19T02:55:16.630Z"
   },
   {
    "duration": 139,
    "start_time": "2023-07-19T02:55:16.648Z"
   },
   {
    "duration": 29,
    "start_time": "2023-07-19T02:55:16.789Z"
   },
   {
    "duration": 27,
    "start_time": "2023-07-19T02:55:16.820Z"
   },
   {
    "duration": 4,
    "start_time": "2023-07-19T02:55:16.849Z"
   },
   {
    "duration": 6,
    "start_time": "2023-07-19T02:55:16.854Z"
   },
   {
    "duration": 7,
    "start_time": "2023-07-19T02:55:16.861Z"
   },
   {
    "duration": 9,
    "start_time": "2023-07-19T02:55:16.869Z"
   },
   {
    "duration": 76,
    "start_time": "2023-07-19T02:55:16.879Z"
   },
   {
    "duration": 15,
    "start_time": "2023-07-19T02:55:16.956Z"
   },
   {
    "duration": 46,
    "start_time": "2023-07-19T02:55:16.972Z"
   },
   {
    "duration": 183,
    "start_time": "2023-07-19T02:55:17.019Z"
   },
   {
    "duration": 3072,
    "start_time": "2023-07-19T17:53:09.280Z"
   },
   {
    "duration": 3,
    "start_time": "2023-07-19T17:53:12.353Z"
   },
   {
    "duration": 220,
    "start_time": "2023-07-19T17:53:21.650Z"
   },
   {
    "duration": 125,
    "start_time": "2023-07-19T17:53:29.494Z"
   },
   {
    "duration": 175,
    "start_time": "2023-07-19T17:53:31.805Z"
   },
   {
    "duration": 2841,
    "start_time": "2023-07-19T17:53:34.173Z"
   },
   {
    "duration": 1641,
    "start_time": "2023-07-20T17:06:25.084Z"
   },
   {
    "duration": 3,
    "start_time": "2023-07-20T17:06:26.727Z"
   },
   {
    "duration": 257,
    "start_time": "2023-07-20T17:06:26.732Z"
   },
   {
    "duration": 115,
    "start_time": "2023-07-20T17:06:26.991Z"
   },
   {
    "duration": 160,
    "start_time": "2023-07-20T17:06:27.108Z"
   },
   {
    "duration": 122,
    "start_time": "2023-07-20T17:06:27.269Z"
   },
   {
    "duration": 28,
    "start_time": "2023-07-20T17:06:27.393Z"
   },
   {
    "duration": 19,
    "start_time": "2023-07-20T17:06:27.422Z"
   },
   {
    "duration": 4,
    "start_time": "2023-07-20T17:06:27.442Z"
   },
   {
    "duration": 81912,
    "start_time": "2023-07-20T17:06:27.449Z"
   },
   {
    "duration": 17,
    "start_time": "2023-07-20T17:07:49.363Z"
   },
   {
    "duration": 19,
    "start_time": "2023-07-20T17:07:49.382Z"
   },
   {
    "duration": 19,
    "start_time": "2023-07-20T17:07:49.403Z"
   },
   {
    "duration": 52,
    "start_time": "2023-07-20T17:07:49.424Z"
   },
   {
    "duration": 159,
    "start_time": "2023-07-20T17:07:49.477Z"
   },
   {
    "duration": 32,
    "start_time": "2023-07-20T17:07:49.637Z"
   },
   {
    "duration": 28,
    "start_time": "2023-07-20T17:07:49.671Z"
   },
   {
    "duration": 4,
    "start_time": "2023-07-20T17:07:49.702Z"
   },
   {
    "duration": 4,
    "start_time": "2023-07-20T17:07:49.708Z"
   },
   {
    "duration": 7,
    "start_time": "2023-07-20T17:07:49.714Z"
   },
   {
    "duration": 38,
    "start_time": "2023-07-20T17:07:49.723Z"
   },
   {
    "duration": 61,
    "start_time": "2023-07-20T17:07:49.763Z"
   },
   {
    "duration": 37,
    "start_time": "2023-07-20T17:07:49.825Z"
   },
   {
    "duration": 37,
    "start_time": "2023-07-20T17:07:49.864Z"
   },
   {
    "duration": 228,
    "start_time": "2023-07-20T17:07:49.902Z"
   },
   {
    "duration": 2,
    "start_time": "2023-07-20T17:07:50.132Z"
   },
   {
    "duration": 184873,
    "start_time": "2023-07-20T17:07:50.136Z"
   },
   {
    "duration": 92272,
    "start_time": "2023-07-20T17:10:55.012Z"
   },
   {
    "duration": 226780,
    "start_time": "2023-07-20T17:12:27.286Z"
   },
   {
    "duration": 211,
    "start_time": "2023-07-20T17:16:14.068Z"
   },
   {
    "duration": 277,
    "start_time": "2023-07-20T17:16:14.282Z"
   },
   {
    "duration": 1951,
    "start_time": "2023-07-20T17:16:14.561Z"
   },
   {
    "duration": 6,
    "start_time": "2023-07-20T17:16:16.514Z"
   }
  ],
  "kernelspec": {
   "display_name": "Python 3 (ipykernel)",
   "language": "python",
   "name": "python3"
  },
  "language_info": {
   "codemirror_mode": {
    "name": "ipython",
    "version": 3
   },
   "file_extension": ".py",
   "mimetype": "text/x-python",
   "name": "python",
   "nbconvert_exporter": "python",
   "pygments_lexer": "ipython3",
   "version": "3.9.7"
  },
  "toc": {
   "base_numbering": 1,
   "nav_menu": {},
   "number_sections": true,
   "sideBar": true,
   "skip_h1_title": true,
   "title_cell": "Table of Contents",
   "title_sidebar": "Contents",
   "toc_cell": false,
   "toc_position": {},
   "toc_section_display": true,
   "toc_window_display": false
  }
 },
 "nbformat": 4,
 "nbformat_minor": 5
}
